{
 "cells": [
  {
   "cell_type": "markdown",
   "metadata": {
    "toc": true
   },
   "source": [
    "<h1>Содержание<span class=\"tocSkip\"></span></h1>\n",
    "<div class=\"toc\"><ul class=\"toc-item\"><li><span><a href=\"#Загрузка-данных\" data-toc-modified-id=\"Загрузка-данных-1\"><span class=\"toc-item-num\">1&nbsp;&nbsp;</span>Загрузка данных</a></span></li><li><span><a href=\"#Умножение-матриц\" data-toc-modified-id=\"Умножение-матриц-2\"><span class=\"toc-item-num\">2&nbsp;&nbsp;</span>Умножение матриц</a></span></li><li><span><a href=\"#Алгоритм-преобразования\" data-toc-modified-id=\"Алгоритм-преобразования-3\"><span class=\"toc-item-num\">3&nbsp;&nbsp;</span>Алгоритм преобразования</a></span></li><li><span><a href=\"#Проверка-алгоритма\" data-toc-modified-id=\"Проверка-алгоритма-4\"><span class=\"toc-item-num\">4&nbsp;&nbsp;</span>Проверка алгоритма</a></span><ul class=\"toc-item\"><li><span><a href=\"#Кодировка-данных-и-создание-новой-выборки-с-признаками\" data-toc-modified-id=\"Кодировка-данных-и-создание-новой-выборки-с-признаками-4.1\"><span class=\"toc-item-num\">4.1&nbsp;&nbsp;</span>Кодировка данных и создание новой выборки с признаками</a></span></li><li><span><a href=\"#Разделение-выборок-на-обучающие-и-тестовые\" data-toc-modified-id=\"Разделение-выборок-на-обучающие-и-тестовые-4.2\"><span class=\"toc-item-num\">4.2&nbsp;&nbsp;</span>Разделение выборок на обучающие и тестовые</a></span></li><li><span><a href=\"#Проверка-качества-модели-линейной-регрессии-из-sklearn--до-и-после-преобразования-(метрика-R2)\" data-toc-modified-id=\"Проверка-качества-модели-линейной-регрессии-из-sklearn--до-и-после-преобразования-(метрика-R2)-4.3\"><span class=\"toc-item-num\">4.3&nbsp;&nbsp;</span>Проверка качества модели линейной регрессии из sklearn  до и после преобразования (метрика R2)</a></span></li></ul></li><li><span><a href=\"#Общий-вывод\" data-toc-modified-id=\"Общий-вывод-5\"><span class=\"toc-item-num\">5&nbsp;&nbsp;</span>Общий вывод</a></span></li><li><span><a href=\"#Чек-лист-проверки\" data-toc-modified-id=\"Чек-лист-проверки-6\"><span class=\"toc-item-num\">6&nbsp;&nbsp;</span>Чек-лист проверки</a></span></li></ul></div>"
   ]
  },
  {
   "cell_type": "markdown",
   "metadata": {},
   "source": [
    "# Защита персональных данных клиентов"
   ]
  },
  {
   "cell_type": "markdown",
   "metadata": {},
   "source": [
    "## Загрузка данных"
   ]
  },
  {
   "cell_type": "code",
   "execution_count": 1,
   "metadata": {},
   "outputs": [],
   "source": [
    "import numpy as np\n",
    "import pandas as pd\n",
    "from sklearn.model_selection import train_test_split\n",
    "from sklearn.linear_model import LinearRegression\n",
    "from sklearn.metrics import r2_score"
   ]
  },
  {
   "cell_type": "code",
   "execution_count": 2,
   "metadata": {},
   "outputs": [],
   "source": [
    "data = pd.read_csv('insurance.csv')"
   ]
  },
  {
   "cell_type": "code",
   "execution_count": 3,
   "metadata": {},
   "outputs": [
    {
     "data": {
      "text/html": [
       "<div>\n",
       "<style scoped>\n",
       "    .dataframe tbody tr th:only-of-type {\n",
       "        vertical-align: middle;\n",
       "    }\n",
       "\n",
       "    .dataframe tbody tr th {\n",
       "        vertical-align: top;\n",
       "    }\n",
       "\n",
       "    .dataframe thead th {\n",
       "        text-align: right;\n",
       "    }\n",
       "</style>\n",
       "<table border=\"1\" class=\"dataframe\">\n",
       "  <thead>\n",
       "    <tr style=\"text-align: right;\">\n",
       "      <th></th>\n",
       "      <th>Пол</th>\n",
       "      <th>Возраст</th>\n",
       "      <th>Зарплата</th>\n",
       "      <th>Члены семьи</th>\n",
       "      <th>Страховые выплаты</th>\n",
       "    </tr>\n",
       "  </thead>\n",
       "  <tbody>\n",
       "    <tr>\n",
       "      <td>0</td>\n",
       "      <td>1</td>\n",
       "      <td>41.0</td>\n",
       "      <td>49600.0</td>\n",
       "      <td>1</td>\n",
       "      <td>0</td>\n",
       "    </tr>\n",
       "    <tr>\n",
       "      <td>1</td>\n",
       "      <td>0</td>\n",
       "      <td>46.0</td>\n",
       "      <td>38000.0</td>\n",
       "      <td>1</td>\n",
       "      <td>1</td>\n",
       "    </tr>\n",
       "    <tr>\n",
       "      <td>2</td>\n",
       "      <td>0</td>\n",
       "      <td>29.0</td>\n",
       "      <td>21000.0</td>\n",
       "      <td>0</td>\n",
       "      <td>0</td>\n",
       "    </tr>\n",
       "    <tr>\n",
       "      <td>3</td>\n",
       "      <td>0</td>\n",
       "      <td>21.0</td>\n",
       "      <td>41700.0</td>\n",
       "      <td>2</td>\n",
       "      <td>0</td>\n",
       "    </tr>\n",
       "    <tr>\n",
       "      <td>4</td>\n",
       "      <td>1</td>\n",
       "      <td>28.0</td>\n",
       "      <td>26100.0</td>\n",
       "      <td>0</td>\n",
       "      <td>0</td>\n",
       "    </tr>\n",
       "  </tbody>\n",
       "</table>\n",
       "</div>"
      ],
      "text/plain": [
       "   Пол  Возраст  Зарплата  Члены семьи  Страховые выплаты\n",
       "0    1     41.0   49600.0            1                  0\n",
       "1    0     46.0   38000.0            1                  1\n",
       "2    0     29.0   21000.0            0                  0\n",
       "3    0     21.0   41700.0            2                  0\n",
       "4    1     28.0   26100.0            0                  0"
      ]
     },
     "execution_count": 3,
     "metadata": {},
     "output_type": "execute_result"
    }
   ],
   "source": [
    "data.head()"
   ]
  },
  {
   "cell_type": "code",
   "execution_count": 4,
   "metadata": {},
   "outputs": [
    {
     "name": "stdout",
     "output_type": "stream",
     "text": [
      "<class 'pandas.core.frame.DataFrame'>\n",
      "RangeIndex: 5000 entries, 0 to 4999\n",
      "Data columns (total 5 columns):\n",
      "Пол                  5000 non-null int64\n",
      "Возраст              5000 non-null float64\n",
      "Зарплата             5000 non-null float64\n",
      "Члены семьи          5000 non-null int64\n",
      "Страховые выплаты    5000 non-null int64\n",
      "dtypes: float64(2), int64(3)\n",
      "memory usage: 195.4 KB\n"
     ]
    }
   ],
   "source": [
    "data.info()"
   ]
  },
  {
   "cell_type": "code",
   "execution_count": 5,
   "metadata": {},
   "outputs": [
    {
     "data": {
      "text/html": [
       "<div>\n",
       "<style scoped>\n",
       "    .dataframe tbody tr th:only-of-type {\n",
       "        vertical-align: middle;\n",
       "    }\n",
       "\n",
       "    .dataframe tbody tr th {\n",
       "        vertical-align: top;\n",
       "    }\n",
       "\n",
       "    .dataframe thead th {\n",
       "        text-align: right;\n",
       "    }\n",
       "</style>\n",
       "<table border=\"1\" class=\"dataframe\">\n",
       "  <thead>\n",
       "    <tr style=\"text-align: right;\">\n",
       "      <th></th>\n",
       "      <th>Пол</th>\n",
       "      <th>Возраст</th>\n",
       "      <th>Зарплата</th>\n",
       "      <th>Члены семьи</th>\n",
       "      <th>Страховые выплаты</th>\n",
       "    </tr>\n",
       "  </thead>\n",
       "  <tbody>\n",
       "    <tr>\n",
       "      <td>count</td>\n",
       "      <td>5000.000000</td>\n",
       "      <td>5000.000000</td>\n",
       "      <td>5000.000000</td>\n",
       "      <td>5000.000000</td>\n",
       "      <td>5000.000000</td>\n",
       "    </tr>\n",
       "    <tr>\n",
       "      <td>mean</td>\n",
       "      <td>0.499000</td>\n",
       "      <td>30.952800</td>\n",
       "      <td>39916.360000</td>\n",
       "      <td>1.194200</td>\n",
       "      <td>0.148000</td>\n",
       "    </tr>\n",
       "    <tr>\n",
       "      <td>std</td>\n",
       "      <td>0.500049</td>\n",
       "      <td>8.440807</td>\n",
       "      <td>9900.083569</td>\n",
       "      <td>1.091387</td>\n",
       "      <td>0.463183</td>\n",
       "    </tr>\n",
       "    <tr>\n",
       "      <td>min</td>\n",
       "      <td>0.000000</td>\n",
       "      <td>18.000000</td>\n",
       "      <td>5300.000000</td>\n",
       "      <td>0.000000</td>\n",
       "      <td>0.000000</td>\n",
       "    </tr>\n",
       "    <tr>\n",
       "      <td>25%</td>\n",
       "      <td>0.000000</td>\n",
       "      <td>24.000000</td>\n",
       "      <td>33300.000000</td>\n",
       "      <td>0.000000</td>\n",
       "      <td>0.000000</td>\n",
       "    </tr>\n",
       "    <tr>\n",
       "      <td>50%</td>\n",
       "      <td>0.000000</td>\n",
       "      <td>30.000000</td>\n",
       "      <td>40200.000000</td>\n",
       "      <td>1.000000</td>\n",
       "      <td>0.000000</td>\n",
       "    </tr>\n",
       "    <tr>\n",
       "      <td>75%</td>\n",
       "      <td>1.000000</td>\n",
       "      <td>37.000000</td>\n",
       "      <td>46600.000000</td>\n",
       "      <td>2.000000</td>\n",
       "      <td>0.000000</td>\n",
       "    </tr>\n",
       "    <tr>\n",
       "      <td>max</td>\n",
       "      <td>1.000000</td>\n",
       "      <td>65.000000</td>\n",
       "      <td>79000.000000</td>\n",
       "      <td>6.000000</td>\n",
       "      <td>5.000000</td>\n",
       "    </tr>\n",
       "  </tbody>\n",
       "</table>\n",
       "</div>"
      ],
      "text/plain": [
       "               Пол      Возраст      Зарплата  Члены семьи  Страховые выплаты\n",
       "count  5000.000000  5000.000000   5000.000000  5000.000000        5000.000000\n",
       "mean      0.499000    30.952800  39916.360000     1.194200           0.148000\n",
       "std       0.500049     8.440807   9900.083569     1.091387           0.463183\n",
       "min       0.000000    18.000000   5300.000000     0.000000           0.000000\n",
       "25%       0.000000    24.000000  33300.000000     0.000000           0.000000\n",
       "50%       0.000000    30.000000  40200.000000     1.000000           0.000000\n",
       "75%       1.000000    37.000000  46600.000000     2.000000           0.000000\n",
       "max       1.000000    65.000000  79000.000000     6.000000           5.000000"
      ]
     },
     "execution_count": 5,
     "metadata": {},
     "output_type": "execute_result"
    }
   ],
   "source": [
    "data.describe()"
   ]
  },
  {
   "cell_type": "code",
   "execution_count": 6,
   "metadata": {},
   "outputs": [
    {
     "data": {
      "text/plain": [
       "153"
      ]
     },
     "execution_count": 6,
     "metadata": {},
     "output_type": "execute_result"
    }
   ],
   "source": [
    "data.duplicated().sum()"
   ]
  },
  {
   "cell_type": "markdown",
   "metadata": {},
   "source": [
    "Зарплата и возраст - тип float. Тип данных заменю на int (так как отсутствуют дробные части).\n",
    "\n",
    "Пропуски не выявлены. Числовые аномалии на первый взгляд отсутствуют. \n",
    "\n",
    "Есть 153 дубликата в данных (это около 3% данных) - можно и удалить, но выборка и так небольшая и задача поставлена на кодирование данных, а не на идеальную точность модели, хотя буду к этому стремиться.\n",
    "\n",
    "Сразу выделю признаки - 'features', целевой признак (страховые выплаты) - 'target'."
   ]
  },
  {
   "cell_type": "code",
   "execution_count": 7,
   "metadata": {},
   "outputs": [],
   "source": [
    "data['Возраст'] = data['Возраст'].astype('int')\n",
    "data['Зарплата'] = data['Зарплата'].astype('int')"
   ]
  },
  {
   "cell_type": "code",
   "execution_count": 8,
   "metadata": {},
   "outputs": [
    {
     "name": "stdout",
     "output_type": "stream",
     "text": [
      "<class 'pandas.core.frame.DataFrame'>\n",
      "RangeIndex: 5000 entries, 0 to 4999\n",
      "Data columns (total 5 columns):\n",
      "Пол                  5000 non-null int64\n",
      "Возраст              5000 non-null int64\n",
      "Зарплата             5000 non-null int64\n",
      "Члены семьи          5000 non-null int64\n",
      "Страховые выплаты    5000 non-null int64\n",
      "dtypes: int64(5)\n",
      "memory usage: 195.4 KB\n"
     ]
    }
   ],
   "source": [
    "data.info()"
   ]
  },
  {
   "cell_type": "code",
   "execution_count": 9,
   "metadata": {},
   "outputs": [],
   "source": [
    "features = data.drop('Страховые выплаты', axis = 1)\n",
    "target = data['Страховые выплаты']"
   ]
  },
  {
   "cell_type": "code",
   "execution_count": 10,
   "metadata": {},
   "outputs": [
    {
     "data": {
      "text/plain": [
       "((5000, 4), (5000,))"
      ]
     },
     "execution_count": 10,
     "metadata": {},
     "output_type": "execute_result"
    }
   ],
   "source": [
    "features.shape, target.shape"
   ]
  },
  {
   "cell_type": "markdown",
   "metadata": {},
   "source": [
    "Предоставлены 5 000 данных о застрахованных (пол, возраст, количество членов семьи, зарплата, количнств страховых выплат)\n",
    "\n",
    "Изменен тип данных на int, выделены признаки и целевой признак"
   ]
  },
  {
   "cell_type": "markdown",
   "metadata": {},
   "source": [
    "## Умножение матриц"
   ]
  },
  {
   "cell_type": "markdown",
   "metadata": {},
   "source": [
    "Обозначения:\n",
    "\n",
    "- $X$ — матрица признаков (нулевой столбец состоит из единиц)\n",
    "\n",
    "- $y$ — вектор целевого признака\n",
    "\n",
    "- $P$ — матрица, на которую умножаются признаки\n",
    "\n",
    "- $w$ — вектор весов линейной регрессии (нулевой элемент равен сдвигу)"
   ]
  },
  {
   "cell_type": "markdown",
   "metadata": {},
   "source": [
    "Предсказания:\n",
    "\n",
    "$$\n",
    "pred = Xw\n",
    "$$\n",
    "\n",
    "Задача обучения:\n",
    "\n",
    "$$\n",
    "w = \\arg\\min_w MSE(Xw, y)\n",
    "$$\n",
    "\n",
    "Формула обучения:\n",
    "\n",
    "$$\n",
    "w = (X^T X)^{-1} X^T y\n",
    "$$"
   ]
  },
  {
   "cell_type": "markdown",
   "metadata": {},
   "source": [
    "Свойство обратной матрицы: $(AB)^{-1} = B^{-1}  A^{-1}$. Если матрица имеет обратную матрицу, значит она является обратимой\n",
    "\n",
    "Свойство транспонированной матрицы: $(AB)^T = B^TA^T$\n",
    "\n",
    "**Представлю новую матрицу $X1$ как произведение матрицы $X$ на обратимую матрицу $P$**\n",
    "\n",
    "$$\n",
    "X1 = XP\n",
    "$$\n",
    "\n",
    "Формула предсказания $pred1$ \n",
    "\n",
    "$$\n",
    "pred1 = X1w1\n",
    "$$\n",
    "\n",
    "$$\n",
    "pred1 = XPw1\n",
    "$$\n",
    "\n",
    "Рассчитаю $w1$ по формуле \n",
    "\n",
    "$$\n",
    "w1 = (X1^TX1)^{-1}X1^Ty \n",
    "$$\n",
    "\n",
    "$$\n",
    "w1 = ((XP)^TXP)^{-1}(XP)^Ty \n",
    "$$\n",
    "\n",
    "$$\n",
    "w1 = (P^T (X^T X) P)^{-1} (XP)^T y\n",
    "$$\n",
    "\n",
    "Раскрою скобки $(P^T (X^T X) P)^{-1}$ и $(XP)^T$:\n",
    "\n",
    "$$\n",
    "w1 = P^{-1}(X^T X)^{-1}(P^T)^{-1}(P^TX^T)y\n",
    "$$   \n",
    "\n",
    "\n",
    "Матрица $P$ - квадратная и обратимая, соответственно $(P^T)^{-1} P^T = E$.\n",
    "\n",
    "$E$ - единичная матрица, умножение на которую не меняят любую матрицу. Соответственно из формулы можно убрать $E$ и получится следующее:\n",
    "    \n",
    "$$\n",
    "w1 = P^{-1}(X^T X)^{-1}EX^Ty = P^{-1}(X^T X)^{-1}X^Ty\n",
    "$$   \n",
    "\n",
    "\n",
    "В левой части можно вычленить часть формулы $(X^T X)^{-1}X^Ty$, которая является формулой для вычисления $w$ (вектора весов), соотвественно заменю эту часть на $w$:\n",
    "    \n",
    "$$\n",
    "w1 = P^{-1}w\n",
    "$$    \n",
    "\n",
    "    \n",
    "Подставлю полученнное значение $w1$ в формулу для получения предсказания:\n",
    "    \n",
    "$$\n",
    "pred1 = XPP^{-1}w\n",
    "$$\n",
    "\n",
    "$PP^{-1}$ - это единичная матрица $E$, при умножении на которую матрица $X$ не изменится:\n",
    "    \n",
    "$$\n",
    "pred1 = Xw\n",
    "$$   "
   ]
  },
  {
   "cell_type": "markdown",
   "metadata": {},
   "source": [
    "**Ответ:** Качество линейной регресии не изменится при умножении матрицы $X$ на обратимую матрицу $P$, предсказания не поменяются. \n",
    "\n",
    "**Обоснование:** В результате преобразовании формулы (см. выше) $pred1$ равно $pred$. \n",
    "\n",
    "Однако, вектора весов до преобразования ($w$) и после ($w1$) отличаются, в дальнейшем нужно будет еще раз обучить модель:\n",
    "\n",
    "$$\n",
    "w = (X^T X)^{-1} X^T y\n",
    "$$\n",
    "\n",
    "$$\n",
    "w1 = P^{-1}w\n",
    "$$"
   ]
  },
  {
   "cell_type": "markdown",
   "metadata": {},
   "source": [
    "## Алгоритм преобразования"
   ]
  },
  {
   "cell_type": "markdown",
   "metadata": {},
   "source": [
    "**Алгоритм**\n",
    "\n",
    "Сначала проверю работу модели (построенной на основании библиотеки sklearn и на основании линейной алгебры) на данных перед преобразованием, рассчитаю метрику r2\n",
    "\n",
    "Затем осуществлю преобразования данных клиентов, для чего:\n",
    "\n",
    "1) создам случайную квадратную матрицу $P$ с помощью функции numpy.random.normal(), \n",
    "\n",
    "2) проверю случайную матрицу на обратимость, путем создания обратной матрицы $P^{-1}$ с помощью функции numpy.linalg.inv(),\n",
    "\n",
    "3) создам новую матрицу features_encoded путем произведения матриц features и $P$\n",
    "\n",
    "4) обучу модель на новых данных \n",
    "\n",
    "5) проверю метрику r2 для преобразованных данных\n",
    "\n",
    "6) сравню метрики r2 для модели, обученной до преобразования данных и после преобразования"
   ]
  },
  {
   "cell_type": "markdown",
   "metadata": {},
   "source": [
    "**Обоснование**\n",
    "\n",
    "Ранее в разделе 3 я выяснила, что признаки (матрица $X$) умножаются на обратимую матрицу ($P$), предсказания модели не изменилось.\n",
    "\n",
    "Соотвественно предложенный алгоритм не должен влиять на работу модели.\n",
    "\n",
    "В качестве обоснования проведу расчет предсказаний на основании формул \n",
    "\n",
    "\n",
    "$$\n",
    "w = (X^T X)^{-1} X^T y\n",
    "$$\n",
    "\n",
    "$$\n",
    "pred = Xw\n",
    "$$\n",
    "\n",
    "Для сокращения формулы предсказания в матрицы добавлю столбец, состоящий только из единиц (он идёт нулевым)"
   ]
  },
  {
   "cell_type": "code",
   "execution_count": 11,
   "metadata": {
    "scrolled": true
   },
   "outputs": [],
   "source": [
    "X = features.values\n",
    "X1 = np.concatenate((np.ones((features.shape[0], 1)), features), axis=1)"
   ]
  },
  {
   "cell_type": "code",
   "execution_count": 12,
   "metadata": {},
   "outputs": [],
   "source": [
    "y = target\n",
    "w = np.linalg.inv(X1.T.dot(X1)) @ X1.T @ y\n",
    "pred = X1.dot(w)"
   ]
  },
  {
   "cell_type": "markdown",
   "metadata": {},
   "source": [
    "Создаю случайную квадратную матрицу $P$ (4x4), в которой количество признаков равно количеству признаков в исходной матрице, и проверю ее на обратимость"
   ]
  },
  {
   "cell_type": "code",
   "execution_count": 13,
   "metadata": {},
   "outputs": [
    {
     "data": {
      "text/plain": [
       "array([[-0.71596715, -0.07512468, -1.05197922,  1.43457217],\n",
       "       [ 1.66054415, -0.69107283, -0.9398518 ,  1.4565793 ],\n",
       "       [ 1.60001233,  0.22752007,  0.4752715 ,  0.17024542],\n",
       "       [-0.88461679, -1.62807973,  0.13148543, -0.6568961 ]])"
      ]
     },
     "execution_count": 13,
     "metadata": {},
     "output_type": "execute_result"
    }
   ],
   "source": [
    "P = np.random.normal(size = (4,4))\n",
    "P"
   ]
  },
  {
   "cell_type": "markdown",
   "metadata": {},
   "source": [
    "Найду обратную ей матрицу"
   ]
  },
  {
   "cell_type": "code",
   "execution_count": 14,
   "metadata": {},
   "outputs": [
    {
     "data": {
      "text/plain": [
       "array([[-0.545087  ,  0.47006809, -0.2201934 , -0.20514979],\n",
       "       [-0.17301054, -0.07064904, -0.34971357, -0.62512041],\n",
       "       [ 1.40088933, -1.2920071 ,  2.42238538,  0.8223006 ],\n",
       "       [ 1.44324891, -0.71653335,  1.64813997,  0.46787514]])"
      ]
     },
     "execution_count": 14,
     "metadata": {},
     "output_type": "execute_result"
    }
   ],
   "source": [
    "P_inverted = np.linalg.inv(P)\n",
    "P_inverted"
   ]
  },
  {
   "cell_type": "markdown",
   "metadata": {},
   "source": [
    "Случайная матрица $P$ является обратимой.\n",
    "\n",
    "Далее создам новую матрицу X_new путем произведения матриц $X$ и $P$, обучу модель по формулам на преобразованных данных и сравню векторы предсказаний $pred$ и $pred1$"
   ]
  },
  {
   "cell_type": "code",
   "execution_count": 15,
   "metadata": {},
   "outputs": [
    {
     "data": {
      "text/plain": [
       "array([[1.00000000e+00, 7.94270934e+04, 1.12549584e+04, 2.35340118e+04,\n",
       "        8.50467031e+03],\n",
       "       [1.00000000e+00, 6.08759690e+04, 8.61234531e+03, 1.80172151e+04,\n",
       "        6.53567175e+03],\n",
       "       [1.00000000e+00, 3.36484148e+04, 4.75788040e+03, 9.95344571e+03,\n",
       "        3.61739464e+03],\n",
       "       ...,\n",
       "       [1.00000000e+00, 5.42718597e+04, 7.69585283e+03, 1.60931696e+04,\n",
       "        5.79913756e+03],\n",
       "       [1.00000000e+00, 5.23535654e+04, 7.41974339e+03, 1.55200437e+04,\n",
       "        5.59853389e+03],\n",
       "       [1.00000000e+00, 6.50053954e+04, 9.21626169e+03, 1.92687864e+04,\n",
       "        6.95352599e+03]])"
      ]
     },
     "execution_count": 15,
     "metadata": {},
     "output_type": "execute_result"
    }
   ],
   "source": [
    "X_new = X.dot(P)\n",
    "X_new = np.concatenate((np.ones((X_new.shape[0], 1)), X_new), axis=1)\n",
    "X_new"
   ]
  },
  {
   "cell_type": "code",
   "execution_count": 16,
   "metadata": {},
   "outputs": [],
   "source": [
    "y = target\n",
    "w1 = np.linalg.inv(X_new.T.dot(X_new)) @ X_new.T @ y\n",
    "pred1 = X_new.dot(w1)"
   ]
  },
  {
   "cell_type": "code",
   "execution_count": 17,
   "metadata": {},
   "outputs": [
    {
     "data": {
      "text/plain": [
       "array([ 0.51172714,  0.68431581,  0.09373368, ..., -0.25697045,\n",
       "       -0.1909916 ,  0.04904991])"
      ]
     },
     "execution_count": 17,
     "metadata": {},
     "output_type": "execute_result"
    }
   ],
   "source": [
    "pred"
   ]
  },
  {
   "cell_type": "code",
   "execution_count": 18,
   "metadata": {},
   "outputs": [
    {
     "data": {
      "text/plain": [
       "array([ 0.51172722,  0.68431577,  0.09373364, ..., -0.25697046,\n",
       "       -0.19099147,  0.04905   ])"
      ]
     },
     "execution_count": 18,
     "metadata": {},
     "output_type": "execute_result"
    }
   ],
   "source": [
    "pred1"
   ]
  },
  {
   "cell_type": "markdown",
   "metadata": {},
   "source": [
    "Как видно, различия в предсказаниях есть, но они незначительные. Алгоритм преобразования можно считать удачным"
   ]
  },
  {
   "cell_type": "markdown",
   "metadata": {},
   "source": [
    "## Проверка алгоритма ##\n",
    "\n",
    "### Кодировка данных и создание новой выборки с признаками ###"
   ]
  },
  {
   "cell_type": "code",
   "execution_count": 19,
   "metadata": {},
   "outputs": [
    {
     "data": {
      "text/html": [
       "<div>\n",
       "<style scoped>\n",
       "    .dataframe tbody tr th:only-of-type {\n",
       "        vertical-align: middle;\n",
       "    }\n",
       "\n",
       "    .dataframe tbody tr th {\n",
       "        vertical-align: top;\n",
       "    }\n",
       "\n",
       "    .dataframe thead th {\n",
       "        text-align: right;\n",
       "    }\n",
       "</style>\n",
       "<table border=\"1\" class=\"dataframe\">\n",
       "  <thead>\n",
       "    <tr style=\"text-align: right;\">\n",
       "      <th></th>\n",
       "      <th>Пол</th>\n",
       "      <th>Возраст</th>\n",
       "      <th>Зарплата</th>\n",
       "      <th>Члены семьи</th>\n",
       "    </tr>\n",
       "  </thead>\n",
       "  <tbody>\n",
       "    <tr>\n",
       "      <td>0</td>\n",
       "      <td>79427.093417</td>\n",
       "      <td>11254.958388</td>\n",
       "      <td>23534.011778</td>\n",
       "      <td>8504.670306</td>\n",
       "    </tr>\n",
       "    <tr>\n",
       "      <td>1</td>\n",
       "      <td>60875.969048</td>\n",
       "      <td>8612.345311</td>\n",
       "      <td>18017.215146</td>\n",
       "      <td>6535.671747</td>\n",
       "    </tr>\n",
       "    <tr>\n",
       "      <td>2</td>\n",
       "      <td>33648.414762</td>\n",
       "      <td>4757.880403</td>\n",
       "      <td>9953.445711</td>\n",
       "      <td>3617.394639</td>\n",
       "    </tr>\n",
       "    <tr>\n",
       "      <td>3</td>\n",
       "      <td>66753.616458</td>\n",
       "      <td>9469.818319</td>\n",
       "      <td>19799.347461</td>\n",
       "      <td>7128.508426</td>\n",
       "    </tr>\n",
       "    <tr>\n",
       "      <td>4</td>\n",
       "      <td>41806.101147</td>\n",
       "      <td>5918.848719</td>\n",
       "      <td>12377.218213</td>\n",
       "      <td>4485.624279</td>\n",
       "    </tr>\n",
       "  </tbody>\n",
       "</table>\n",
       "</div>"
      ],
      "text/plain": [
       "            Пол       Возраст      Зарплата  Члены семьи\n",
       "0  79427.093417  11254.958388  23534.011778  8504.670306\n",
       "1  60875.969048   8612.345311  18017.215146  6535.671747\n",
       "2  33648.414762   4757.880403   9953.445711  3617.394639\n",
       "3  66753.616458   9469.818319  19799.347461  7128.508426\n",
       "4  41806.101147   5918.848719  12377.218213  4485.624279"
      ]
     },
     "execution_count": 19,
     "metadata": {},
     "output_type": "execute_result"
    }
   ],
   "source": [
    "features_encoded = pd.DataFrame(data = features.values @ P, columns = features.columns)\n",
    "features_encoded.head()"
   ]
  },
  {
   "cell_type": "markdown",
   "metadata": {},
   "source": [
    "Кодирование данных произвелось успешно\n",
    "\n",
    "### Разделение выборок на обучающие и тестовые ###"
   ]
  },
  {
   "cell_type": "code",
   "execution_count": 20,
   "metadata": {},
   "outputs": [],
   "source": [
    "train_features, test_features, train_target, test_target = train_test_split(features, \n",
    "                                                                            target, \n",
    "                                                                            test_size = 0.25, \n",
    "                                                                            random_state = 12345)"
   ]
  },
  {
   "cell_type": "code",
   "execution_count": 21,
   "metadata": {},
   "outputs": [
    {
     "data": {
      "text/plain": [
       "((3750, 4), (1250, 4), (3750,), (1250,))"
      ]
     },
     "execution_count": 21,
     "metadata": {},
     "output_type": "execute_result"
    }
   ],
   "source": [
    "train_features.shape, test_features.shape, train_target.shape, test_target.shape"
   ]
  },
  {
   "cell_type": "code",
   "execution_count": 22,
   "metadata": {},
   "outputs": [],
   "source": [
    "train_features_encoded, test_features_encoded, train_target_encoded, test_target_encoded = train_test_split(features_encoded, \n",
    "                                                                            target, \n",
    "                                                                            test_size = 0.25, \n",
    "                                                                            random_state = 12345)"
   ]
  },
  {
   "cell_type": "code",
   "execution_count": 23,
   "metadata": {},
   "outputs": [
    {
     "data": {
      "text/plain": [
       "((3750, 4), (1250, 4), (3750,), (1250,))"
      ]
     },
     "execution_count": 23,
     "metadata": {},
     "output_type": "execute_result"
    }
   ],
   "source": [
    "train_features_encoded.shape, test_features_encoded.shape, train_target_encoded.shape, test_target_encoded.shape"
   ]
  },
  {
   "cell_type": "markdown",
   "metadata": {},
   "source": [
    "Разделение произвелось удачно\n",
    "\n",
    "### Проверка качества модели линейной регрессии из sklearn  до и после преобразования (метрика R2)  ###"
   ]
  },
  {
   "cell_type": "code",
   "execution_count": 24,
   "metadata": {},
   "outputs": [],
   "source": [
    "model = LinearRegression()\n",
    "model.fit(train_features, train_target)\n",
    "predictions = model.predict(test_features)"
   ]
  },
  {
   "cell_type": "code",
   "execution_count": 25,
   "metadata": {},
   "outputs": [
    {
     "name": "stdout",
     "output_type": "stream",
     "text": [
      "R2 на исходных данных:  0.43522756840832477\n"
     ]
    }
   ],
   "source": [
    "print('R2 на исходных данных: ', r2_score(test_target, predictions))"
   ]
  },
  {
   "cell_type": "code",
   "execution_count": 26,
   "metadata": {},
   "outputs": [],
   "source": [
    "model_encoded = LinearRegression()\n",
    "model_encoded.fit(train_features_encoded, train_target_encoded)\n",
    "predictions_encoded = model_encoded.predict(test_features_encoded)"
   ]
  },
  {
   "cell_type": "code",
   "execution_count": 27,
   "metadata": {},
   "outputs": [
    {
     "name": "stdout",
     "output_type": "stream",
     "text": [
      "R2 на преобразованных  данных:  0.43522756840833987\n"
     ]
    }
   ],
   "source": [
    "print('R2 на преобразованных  данных: ', r2_score(test_target_encoded, predictions_encoded))"
   ]
  },
  {
   "cell_type": "markdown",
   "metadata": {},
   "source": [
    "Метрика R2 на преобразованных данных практически идентична метрике R2 на исходных данных.\n",
    "\n",
    "Это говорит о том, что качество модели не изменилось. Модель рабочая, так как 0 < метрика R2 < 1, однако она ближе к 0, значит над параметрами еще можно поработать.\n",
    "\n",
    "## Общий вывод ##\n",
    "\n",
    "Во время работы над проектом были загружены и изучены данные о клиентах страховой компании.\n",
    "\n",
    "Произведена замена типа данных у 2-х признаков.\n",
    "\n",
    "Проверено умножается ли матрица признаков на обратимую матрицу, а также предложен и проверен алгоритм преобразования данных с целью их защиты.\n",
    "\n",
    "Алгоритм работает, данные выводятся в измененном виде, слабо похожем на реальность.\n",
    "\n",
    "Обучены 2 модели линейной регрессии (на исходных данных и на преобразованных данных). \n",
    "\n",
    "Обе модели показали практически идентичный показатель метрик R2 - 0.435. \n",
    "\n",
    "Показатель метрики выше 0 и меньше 1, что говорит о том, что модели рабочие. \n",
    "\n",
    "Однако показатель ближе к 0, значит работа моделей не идеальна, можно ее улучшить: лучше поработав с исходными данными (в них есть порядка 3 % полных дубликатов, их можно удалить или проанализировать и произвести корректные замены), изменив гиперпараметры"
   ]
  }
 ],
 "metadata": {
  "ExecuteTimeLog": [
   {
    "duration": 1105,
    "start_time": "2021-11-29T12:38:05.034Z"
   },
   {
    "duration": 64,
    "start_time": "2021-11-29T12:38:44.758Z"
   },
   {
    "duration": 14,
    "start_time": "2021-11-29T12:39:24.770Z"
   },
   {
    "duration": 7,
    "start_time": "2021-11-29T12:39:25.949Z"
   },
   {
    "duration": 23,
    "start_time": "2021-11-29T12:39:26.552Z"
   },
   {
    "duration": 4,
    "start_time": "2021-11-29T13:11:12.326Z"
   },
   {
    "duration": 5,
    "start_time": "2021-11-29T13:11:50.551Z"
   },
   {
    "duration": 6,
    "start_time": "2021-11-29T13:27:02.101Z"
   },
   {
    "duration": 7,
    "start_time": "2021-11-29T13:27:27.273Z"
   },
   {
    "duration": 5,
    "start_time": "2021-11-29T13:28:41.637Z"
   },
   {
    "duration": 600,
    "start_time": "2021-11-29T13:34:52.693Z"
   },
   {
    "duration": 4,
    "start_time": "2021-11-29T13:35:01.843Z"
   },
   {
    "duration": 7,
    "start_time": "2021-11-29T13:35:46.630Z"
   },
   {
    "duration": 4,
    "start_time": "2021-11-29T13:39:17.516Z"
   },
   {
    "duration": 8,
    "start_time": "2021-11-29T13:39:42.460Z"
   },
   {
    "duration": 5,
    "start_time": "2021-11-29T13:39:43.164Z"
   },
   {
    "duration": 6,
    "start_time": "2021-11-29T13:53:51.459Z"
   },
   {
    "duration": 437,
    "start_time": "2021-11-29T13:54:01.996Z"
   },
   {
    "duration": 4,
    "start_time": "2021-11-29T13:54:17.602Z"
   },
   {
    "duration": 4,
    "start_time": "2021-11-29T13:54:24.040Z"
   },
   {
    "duration": 408,
    "start_time": "2021-11-29T14:36:43.583Z"
   },
   {
    "duration": 4,
    "start_time": "2021-11-29T14:36:47.679Z"
   },
   {
    "duration": 4,
    "start_time": "2021-11-29T14:36:48.241Z"
   },
   {
    "duration": 1088,
    "start_time": "2021-11-29T16:38:05.848Z"
   },
   {
    "duration": 19,
    "start_time": "2021-11-29T16:38:06.938Z"
   },
   {
    "duration": 19,
    "start_time": "2021-11-29T16:38:06.960Z"
   },
   {
    "duration": 15,
    "start_time": "2021-11-29T16:38:06.981Z"
   },
   {
    "duration": 25,
    "start_time": "2021-11-29T16:38:06.998Z"
   },
   {
    "duration": 6,
    "start_time": "2021-11-29T16:38:07.025Z"
   },
   {
    "duration": 5,
    "start_time": "2021-11-29T16:38:07.033Z"
   },
   {
    "duration": 9,
    "start_time": "2021-11-29T16:38:07.040Z"
   },
   {
    "duration": 4,
    "start_time": "2021-11-29T16:38:07.051Z"
   },
   {
    "duration": 7,
    "start_time": "2021-11-29T16:38:07.057Z"
   },
   {
    "duration": 8,
    "start_time": "2021-11-29T17:25:34.776Z"
   },
   {
    "duration": 4,
    "start_time": "2021-11-29T17:27:14.650Z"
   },
   {
    "duration": 462,
    "start_time": "2021-11-29T17:29:11.841Z"
   },
   {
    "duration": 4,
    "start_time": "2021-11-29T17:29:39.755Z"
   },
   {
    "duration": 3,
    "start_time": "2021-11-29T17:29:45.734Z"
   },
   {
    "duration": 13,
    "start_time": "2021-11-29T17:52:02.260Z"
   },
   {
    "duration": 4,
    "start_time": "2021-11-29T17:52:05.629Z"
   },
   {
    "duration": 15,
    "start_time": "2021-11-29T18:03:21.509Z"
   },
   {
    "duration": 7,
    "start_time": "2021-11-29T18:16:58.132Z"
   },
   {
    "duration": 402,
    "start_time": "2021-11-29T18:18:56.766Z"
   },
   {
    "duration": 5,
    "start_time": "2021-11-29T18:19:35.323Z"
   },
   {
    "duration": 8,
    "start_time": "2021-11-29T18:19:48.075Z"
   },
   {
    "duration": 3,
    "start_time": "2021-11-29T18:19:48.531Z"
   },
   {
    "duration": 536,
    "start_time": "2021-11-29T18:20:46.804Z"
   },
   {
    "duration": 2,
    "start_time": "2021-11-29T18:20:47.340Z"
   },
   {
    "duration": 1221,
    "start_time": "2021-11-29T18:21:14.084Z"
   },
   {
    "duration": 19,
    "start_time": "2021-11-29T18:21:15.307Z"
   },
   {
    "duration": 16,
    "start_time": "2021-11-29T18:21:15.327Z"
   },
   {
    "duration": 7,
    "start_time": "2021-11-29T18:21:15.345Z"
   },
   {
    "duration": 23,
    "start_time": "2021-11-29T18:21:15.354Z"
   },
   {
    "duration": 6,
    "start_time": "2021-11-29T18:21:15.378Z"
   },
   {
    "duration": 6,
    "start_time": "2021-11-29T18:21:15.406Z"
   },
   {
    "duration": 9,
    "start_time": "2021-11-29T18:21:15.416Z"
   },
   {
    "duration": 10,
    "start_time": "2021-11-29T18:21:15.428Z"
   },
   {
    "duration": 6,
    "start_time": "2021-11-29T18:21:15.440Z"
   },
   {
    "duration": 68,
    "start_time": "2021-11-29T18:21:15.448Z"
   },
   {
    "duration": 8,
    "start_time": "2021-11-29T18:21:15.520Z"
   },
   {
    "duration": 98,
    "start_time": "2021-11-29T18:21:15.533Z"
   },
   {
    "duration": 92,
    "start_time": "2021-11-29T18:21:15.633Z"
   },
   {
    "duration": 5,
    "start_time": "2021-11-29T18:21:15.809Z"
   },
   {
    "duration": 510,
    "start_time": "2021-11-29T18:22:02.524Z"
   },
   {
    "duration": 1091,
    "start_time": "2021-11-29T18:22:18.132Z"
   },
   {
    "duration": 18,
    "start_time": "2021-11-29T18:22:19.225Z"
   },
   {
    "duration": 16,
    "start_time": "2021-11-29T18:22:19.246Z"
   },
   {
    "duration": 7,
    "start_time": "2021-11-29T18:22:19.264Z"
   },
   {
    "duration": 41,
    "start_time": "2021-11-29T18:22:19.273Z"
   },
   {
    "duration": 7,
    "start_time": "2021-11-29T18:22:19.316Z"
   },
   {
    "duration": 5,
    "start_time": "2021-11-29T18:22:19.324Z"
   },
   {
    "duration": 11,
    "start_time": "2021-11-29T18:22:19.331Z"
   },
   {
    "duration": 3,
    "start_time": "2021-11-29T18:22:19.345Z"
   },
   {
    "duration": 9,
    "start_time": "2021-11-29T18:22:19.350Z"
   },
   {
    "duration": 72,
    "start_time": "2021-11-29T18:22:19.361Z"
   },
   {
    "duration": 4,
    "start_time": "2021-11-29T18:22:19.507Z"
   },
   {
    "duration": 8,
    "start_time": "2021-11-29T18:22:19.513Z"
   },
   {
    "duration": 91,
    "start_time": "2021-11-29T18:22:19.522Z"
   },
   {
    "duration": 93,
    "start_time": "2021-11-29T18:22:19.618Z"
   },
   {
    "duration": 4,
    "start_time": "2021-11-29T19:22:11.847Z"
   },
   {
    "duration": 483,
    "start_time": "2021-11-29T19:22:13.041Z"
   },
   {
    "duration": 4,
    "start_time": "2021-11-29T19:22:13.669Z"
   },
   {
    "duration": 1982,
    "start_time": "2021-11-29T19:22:38.638Z"
   },
   {
    "duration": 18,
    "start_time": "2021-11-29T19:22:40.622Z"
   },
   {
    "duration": 30,
    "start_time": "2021-11-29T19:22:40.642Z"
   },
   {
    "duration": 12,
    "start_time": "2021-11-29T19:22:40.674Z"
   },
   {
    "duration": 29,
    "start_time": "2021-11-29T19:22:40.687Z"
   },
   {
    "duration": 6,
    "start_time": "2021-11-29T19:22:40.718Z"
   },
   {
    "duration": 11,
    "start_time": "2021-11-29T19:22:40.726Z"
   },
   {
    "duration": 14,
    "start_time": "2021-11-29T19:22:40.739Z"
   },
   {
    "duration": 6,
    "start_time": "2021-11-29T19:22:40.756Z"
   },
   {
    "duration": 7,
    "start_time": "2021-11-29T19:22:40.764Z"
   },
   {
    "duration": 44,
    "start_time": "2021-11-29T19:22:40.773Z"
   },
   {
    "duration": 88,
    "start_time": "2021-11-29T19:22:40.819Z"
   },
   {
    "duration": 7,
    "start_time": "2021-11-29T19:22:40.909Z"
   },
   {
    "duration": 90,
    "start_time": "2021-11-29T19:22:40.919Z"
   },
   {
    "duration": 10,
    "start_time": "2021-11-29T19:22:41.011Z"
   },
   {
    "duration": 4,
    "start_time": "2021-11-29T19:22:41.107Z"
   },
   {
    "duration": 1302,
    "start_time": "2021-11-30T10:03:53.569Z"
   },
   {
    "duration": 78,
    "start_time": "2021-11-30T10:03:54.873Z"
   },
   {
    "duration": 21,
    "start_time": "2021-11-30T10:03:54.954Z"
   },
   {
    "duration": 9,
    "start_time": "2021-11-30T10:03:54.978Z"
   },
   {
    "duration": 33,
    "start_time": "2021-11-30T10:03:54.990Z"
   },
   {
    "duration": 37,
    "start_time": "2021-11-30T10:03:55.025Z"
   },
   {
    "duration": 6,
    "start_time": "2021-11-30T10:03:55.065Z"
   },
   {
    "duration": 12,
    "start_time": "2021-11-30T10:03:55.074Z"
   },
   {
    "duration": 4,
    "start_time": "2021-11-30T10:03:55.091Z"
   },
   {
    "duration": 8,
    "start_time": "2021-11-30T10:03:55.099Z"
   },
   {
    "duration": 150,
    "start_time": "2021-11-30T10:03:55.109Z"
   },
   {
    "duration": 96,
    "start_time": "2021-11-30T10:03:55.263Z"
   },
   {
    "duration": 6,
    "start_time": "2021-11-30T10:03:55.362Z"
   },
   {
    "duration": 9,
    "start_time": "2021-11-30T10:03:55.371Z"
   },
   {
    "duration": 83,
    "start_time": "2021-11-30T10:03:55.383Z"
   },
   {
    "duration": 94,
    "start_time": "2021-11-30T10:03:55.469Z"
   },
   {
    "duration": 1039,
    "start_time": "2021-12-01T12:07:05.476Z"
   },
   {
    "duration": 19,
    "start_time": "2021-12-01T12:07:10.256Z"
   },
   {
    "duration": 15,
    "start_time": "2021-12-01T12:07:10.907Z"
   },
   {
    "duration": 8,
    "start_time": "2021-12-01T12:07:11.177Z"
   },
   {
    "duration": 24,
    "start_time": "2021-12-01T12:07:11.388Z"
   },
   {
    "duration": 7,
    "start_time": "2021-12-01T12:07:11.575Z"
   },
   {
    "duration": 5,
    "start_time": "2021-12-01T12:07:12.315Z"
   },
   {
    "duration": 6,
    "start_time": "2021-12-01T12:07:12.476Z"
   },
   {
    "duration": 3,
    "start_time": "2021-12-01T12:07:12.701Z"
   },
   {
    "duration": 3,
    "start_time": "2021-12-01T12:07:12.916Z"
   },
   {
    "duration": 11,
    "start_time": "2021-12-01T12:07:14.857Z"
   },
   {
    "duration": 3,
    "start_time": "2021-12-01T12:07:15.518Z"
   },
   {
    "duration": 3,
    "start_time": "2021-12-01T12:07:16.807Z"
   },
   {
    "duration": 4,
    "start_time": "2021-12-01T12:07:17.825Z"
   },
   {
    "duration": 11,
    "start_time": "2021-12-01T12:07:18.652Z"
   },
   {
    "duration": 4,
    "start_time": "2021-12-01T12:07:19.040Z"
   },
   {
    "duration": 1013,
    "start_time": "2021-12-01T12:49:44.792Z"
   },
   {
    "duration": 21,
    "start_time": "2021-12-01T12:49:45.808Z"
   },
   {
    "duration": 15,
    "start_time": "2021-12-01T12:49:45.831Z"
   },
   {
    "duration": 7,
    "start_time": "2021-12-01T12:49:45.849Z"
   },
   {
    "duration": 37,
    "start_time": "2021-12-01T12:49:45.857Z"
   },
   {
    "duration": 5,
    "start_time": "2021-12-01T12:49:45.896Z"
   },
   {
    "duration": 5,
    "start_time": "2021-12-01T12:49:45.903Z"
   },
   {
    "duration": 11,
    "start_time": "2021-12-01T12:49:45.909Z"
   },
   {
    "duration": 6,
    "start_time": "2021-12-01T12:49:45.922Z"
   },
   {
    "duration": 9,
    "start_time": "2021-12-01T12:49:45.929Z"
   },
   {
    "duration": 56,
    "start_time": "2021-12-01T12:49:45.939Z"
   },
   {
    "duration": 96,
    "start_time": "2021-12-01T12:49:45.997Z"
   },
   {
    "duration": 9,
    "start_time": "2021-12-01T12:49:46.095Z"
   },
   {
    "duration": 90,
    "start_time": "2021-12-01T12:49:46.105Z"
   },
   {
    "duration": 96,
    "start_time": "2021-12-01T12:49:46.197Z"
   },
   {
    "duration": 252,
    "start_time": "2021-12-01T13:29:13.314Z"
   },
   {
    "duration": 6,
    "start_time": "2021-12-01T13:29:22.425Z"
   },
   {
    "duration": 171,
    "start_time": "2021-12-01T13:31:24.491Z"
   },
   {
    "duration": 7,
    "start_time": "2021-12-01T13:31:31.945Z"
   },
   {
    "duration": 4,
    "start_time": "2021-12-01T13:59:13.457Z"
   },
   {
    "duration": 9,
    "start_time": "2021-12-01T14:01:33.282Z"
   },
   {
    "duration": 5,
    "start_time": "2021-12-01T14:02:34.416Z"
   },
   {
    "duration": 4,
    "start_time": "2021-12-01T14:06:07.800Z"
   },
   {
    "duration": 6,
    "start_time": "2021-12-01T14:07:04.735Z"
   },
   {
    "duration": 963,
    "start_time": "2021-12-01T14:13:50.553Z"
   },
   {
    "duration": 18,
    "start_time": "2021-12-01T14:13:51.518Z"
   },
   {
    "duration": 14,
    "start_time": "2021-12-01T14:13:51.539Z"
   },
   {
    "duration": 6,
    "start_time": "2021-12-01T14:13:51.555Z"
   },
   {
    "duration": 25,
    "start_time": "2021-12-01T14:13:51.562Z"
   },
   {
    "duration": 5,
    "start_time": "2021-12-01T14:13:51.589Z"
   },
   {
    "duration": 4,
    "start_time": "2021-12-01T14:13:51.596Z"
   },
   {
    "duration": 7,
    "start_time": "2021-12-01T14:13:51.602Z"
   },
   {
    "duration": 3,
    "start_time": "2021-12-01T14:13:51.612Z"
   },
   {
    "duration": 5,
    "start_time": "2021-12-01T14:13:51.617Z"
   },
   {
    "duration": 6,
    "start_time": "2021-12-01T14:13:51.623Z"
   },
   {
    "duration": 5,
    "start_time": "2021-12-01T14:13:51.631Z"
   },
   {
    "duration": 56,
    "start_time": "2021-12-01T14:13:51.637Z"
   },
   {
    "duration": 14,
    "start_time": "2021-12-01T14:13:51.695Z"
   },
   {
    "duration": 80,
    "start_time": "2021-12-01T14:13:51.712Z"
   },
   {
    "duration": 2,
    "start_time": "2021-12-01T14:13:51.794Z"
   },
   {
    "duration": 5,
    "start_time": "2021-12-01T14:13:51.798Z"
   },
   {
    "duration": 6,
    "start_time": "2021-12-01T14:15:27.117Z"
   },
   {
    "duration": 373,
    "start_time": "2021-12-01T14:15:28.853Z"
   },
   {
    "duration": 5,
    "start_time": "2021-12-01T14:15:37.462Z"
   },
   {
    "duration": 5,
    "start_time": "2021-12-01T14:15:38.816Z"
   },
   {
    "duration": 3,
    "start_time": "2021-12-01T14:15:51.689Z"
   },
   {
    "duration": 5,
    "start_time": "2021-12-01T14:15:53.233Z"
   },
   {
    "duration": 5,
    "start_time": "2021-12-01T14:15:54.419Z"
   },
   {
    "duration": 6,
    "start_time": "2021-12-01T14:30:27.595Z"
   },
   {
    "duration": 4,
    "start_time": "2021-12-01T14:32:32.125Z"
   },
   {
    "duration": 4,
    "start_time": "2021-12-01T14:32:34.563Z"
   },
   {
    "duration": 4,
    "start_time": "2021-12-01T14:32:50.873Z"
   },
   {
    "duration": 1067,
    "start_time": "2021-12-01T14:36:00.652Z"
   },
   {
    "duration": 19,
    "start_time": "2021-12-01T14:36:01.720Z"
   },
   {
    "duration": 15,
    "start_time": "2021-12-01T14:36:02.485Z"
   },
   {
    "duration": 6,
    "start_time": "2021-12-01T14:36:02.698Z"
   },
   {
    "duration": 23,
    "start_time": "2021-12-01T14:36:02.932Z"
   },
   {
    "duration": 6,
    "start_time": "2021-12-01T14:36:03.785Z"
   },
   {
    "duration": 5,
    "start_time": "2021-12-01T14:36:11.157Z"
   },
   {
    "duration": 8,
    "start_time": "2021-12-01T14:36:13.422Z"
   },
   {
    "duration": 3,
    "start_time": "2021-12-01T14:36:13.982Z"
   },
   {
    "duration": 4,
    "start_time": "2021-12-01T14:36:14.698Z"
   },
   {
    "duration": 4,
    "start_time": "2021-12-01T14:36:18.991Z"
   },
   {
    "duration": 4,
    "start_time": "2021-12-01T14:36:19.500Z"
   },
   {
    "duration": 3,
    "start_time": "2021-12-01T14:37:19.661Z"
   },
   {
    "duration": 4,
    "start_time": "2021-12-01T14:37:20.381Z"
   },
   {
    "duration": 8,
    "start_time": "2021-12-01T14:37:21.109Z"
   },
   {
    "duration": 404,
    "start_time": "2021-12-01T14:37:38.171Z"
   },
   {
    "duration": 999,
    "start_time": "2021-12-01T14:37:55.219Z"
   },
   {
    "duration": 19,
    "start_time": "2021-12-01T14:37:56.220Z"
   },
   {
    "duration": 15,
    "start_time": "2021-12-01T14:37:56.241Z"
   },
   {
    "duration": 7,
    "start_time": "2021-12-01T14:37:56.258Z"
   },
   {
    "duration": 31,
    "start_time": "2021-12-01T14:37:56.266Z"
   },
   {
    "duration": 5,
    "start_time": "2021-12-01T14:37:56.298Z"
   },
   {
    "duration": 11,
    "start_time": "2021-12-01T14:37:56.304Z"
   },
   {
    "duration": 9,
    "start_time": "2021-12-01T14:37:56.316Z"
   },
   {
    "duration": 7,
    "start_time": "2021-12-01T14:37:56.327Z"
   },
   {
    "duration": 10,
    "start_time": "2021-12-01T14:37:56.335Z"
   },
   {
    "duration": 4,
    "start_time": "2021-12-01T14:37:56.346Z"
   },
   {
    "duration": 5,
    "start_time": "2021-12-01T14:37:56.352Z"
   },
   {
    "duration": 34,
    "start_time": "2021-12-01T14:37:56.359Z"
   },
   {
    "duration": 100,
    "start_time": "2021-12-01T14:37:56.396Z"
   },
   {
    "duration": 8,
    "start_time": "2021-12-01T14:37:56.497Z"
   },
   {
    "duration": 86,
    "start_time": "2021-12-01T14:37:56.507Z"
   },
   {
    "duration": 9,
    "start_time": "2021-12-01T14:37:56.595Z"
   },
   {
    "duration": 412,
    "start_time": "2021-12-01T14:37:56.691Z"
   },
   {
    "duration": 49,
    "start_time": "2021-12-01T14:37:57.056Z"
   },
   {
    "duration": 4,
    "start_time": "2021-12-01T14:39:02.256Z"
   },
   {
    "duration": 3,
    "start_time": "2021-12-01T14:40:20.786Z"
   },
   {
    "duration": 3,
    "start_time": "2021-12-01T14:40:40.697Z"
   },
   {
    "duration": 363,
    "start_time": "2021-12-01T14:42:39.063Z"
   },
   {
    "duration": 213,
    "start_time": "2021-12-01T14:42:40.484Z"
   },
   {
    "duration": 1306,
    "start_time": "2021-12-01T14:44:24.220Z"
   },
   {
    "duration": 50,
    "start_time": "2021-12-01T14:44:25.478Z"
   },
   {
    "duration": 3,
    "start_time": "2021-12-01T15:00:36.902Z"
   },
   {
    "duration": 236,
    "start_time": "2021-12-01T15:00:37.570Z"
   },
   {
    "duration": 3,
    "start_time": "2021-12-01T15:01:02.184Z"
   },
   {
    "duration": 18,
    "start_time": "2021-12-01T15:01:02.932Z"
   },
   {
    "duration": 1020,
    "start_time": "2021-12-01T15:01:11.295Z"
   },
   {
    "duration": 18,
    "start_time": "2021-12-01T15:01:12.317Z"
   },
   {
    "duration": 16,
    "start_time": "2021-12-01T15:01:13.107Z"
   },
   {
    "duration": 8,
    "start_time": "2021-12-01T15:01:13.304Z"
   },
   {
    "duration": 25,
    "start_time": "2021-12-01T15:01:13.488Z"
   },
   {
    "duration": 6,
    "start_time": "2021-12-01T15:01:13.683Z"
   },
   {
    "duration": 4,
    "start_time": "2021-12-01T15:01:14.074Z"
   },
   {
    "duration": 7,
    "start_time": "2021-12-01T15:01:14.381Z"
   },
   {
    "duration": 4,
    "start_time": "2021-12-01T15:01:14.648Z"
   },
   {
    "duration": 4,
    "start_time": "2021-12-01T15:01:14.896Z"
   },
   {
    "duration": 4,
    "start_time": "2021-12-01T15:01:20.989Z"
   },
   {
    "duration": 337,
    "start_time": "2021-12-01T15:01:23.030Z"
   },
   {
    "duration": 4,
    "start_time": "2021-12-01T15:02:17.422Z"
   },
   {
    "duration": 6,
    "start_time": "2021-12-01T15:02:18.029Z"
   },
   {
    "duration": 3,
    "start_time": "2021-12-01T15:02:19.365Z"
   },
   {
    "duration": 5,
    "start_time": "2021-12-01T15:02:24.013Z"
   },
   {
    "duration": 5,
    "start_time": "2021-12-01T15:02:46.036Z"
   },
   {
    "duration": 5,
    "start_time": "2021-12-01T15:02:52.111Z"
   },
   {
    "duration": 5,
    "start_time": "2021-12-01T15:03:24.027Z"
   },
   {
    "duration": 4,
    "start_time": "2021-12-01T15:03:54.473Z"
   },
   {
    "duration": 5,
    "start_time": "2021-12-01T15:04:06.764Z"
   },
   {
    "duration": 6,
    "start_time": "2021-12-01T15:04:22.577Z"
   },
   {
    "duration": 4,
    "start_time": "2021-12-01T15:04:36.450Z"
   },
   {
    "duration": 249,
    "start_time": "2021-12-01T15:04:37.301Z"
   },
   {
    "duration": 249,
    "start_time": "2021-12-01T15:04:47.330Z"
   },
   {
    "duration": 178,
    "start_time": "2021-12-01T15:04:48.853Z"
   },
   {
    "duration": 1044,
    "start_time": "2021-12-01T15:05:10.071Z"
   },
   {
    "duration": 18,
    "start_time": "2021-12-01T15:05:11.117Z"
   },
   {
    "duration": 15,
    "start_time": "2021-12-01T15:05:11.629Z"
   },
   {
    "duration": 8,
    "start_time": "2021-12-01T15:05:11.828Z"
   },
   {
    "duration": 24,
    "start_time": "2021-12-01T15:05:12.036Z"
   },
   {
    "duration": 6,
    "start_time": "2021-12-01T15:05:12.229Z"
   },
   {
    "duration": 5,
    "start_time": "2021-12-01T15:05:12.642Z"
   },
   {
    "duration": 8,
    "start_time": "2021-12-01T15:05:12.908Z"
   },
   {
    "duration": 4,
    "start_time": "2021-12-01T15:05:13.162Z"
   },
   {
    "duration": 5,
    "start_time": "2021-12-01T15:05:13.675Z"
   },
   {
    "duration": 3,
    "start_time": "2021-12-01T15:05:18.661Z"
   },
   {
    "duration": 5,
    "start_time": "2021-12-01T15:05:19.450Z"
   },
   {
    "duration": 3,
    "start_time": "2021-12-01T15:05:20.120Z"
   },
   {
    "duration": 5,
    "start_time": "2021-12-01T15:05:21.377Z"
   },
   {
    "duration": 5,
    "start_time": "2021-12-01T15:05:22.080Z"
   },
   {
    "duration": 3,
    "start_time": "2021-12-01T15:05:23.732Z"
   },
   {
    "duration": 405,
    "start_time": "2021-12-01T15:05:24.396Z"
   },
   {
    "duration": 186,
    "start_time": "2021-12-01T15:06:00.358Z"
   },
   {
    "duration": 5,
    "start_time": "2021-12-01T15:06:08.404Z"
   },
   {
    "duration": 285,
    "start_time": "2021-12-01T15:07:30.038Z"
   },
   {
    "duration": 158,
    "start_time": "2021-12-01T15:07:31.621Z"
   },
   {
    "duration": 200,
    "start_time": "2021-12-01T15:07:54.401Z"
   },
   {
    "duration": 178,
    "start_time": "2021-12-01T15:08:43.116Z"
   },
   {
    "duration": 167,
    "start_time": "2021-12-01T15:08:44.562Z"
   },
   {
    "duration": 6,
    "start_time": "2021-12-01T15:10:10.594Z"
   },
   {
    "duration": 6,
    "start_time": "2021-12-01T15:10:18.531Z"
   },
   {
    "duration": 4,
    "start_time": "2021-12-01T15:10:41.408Z"
   },
   {
    "duration": 244,
    "start_time": "2021-12-01T15:11:31.708Z"
   },
   {
    "duration": 5,
    "start_time": "2021-12-01T15:14:02.316Z"
   },
   {
    "duration": 270,
    "start_time": "2021-12-01T15:14:02.977Z"
   },
   {
    "duration": 6,
    "start_time": "2021-12-01T15:14:13.984Z"
   },
   {
    "duration": 6,
    "start_time": "2021-12-01T15:14:30.267Z"
   },
   {
    "duration": 6,
    "start_time": "2021-12-01T15:14:42.851Z"
   },
   {
    "duration": 6,
    "start_time": "2021-12-01T15:18:36.525Z"
   },
   {
    "duration": 4,
    "start_time": "2021-12-01T15:18:55.239Z"
   },
   {
    "duration": 179,
    "start_time": "2021-12-01T15:18:56.430Z"
   },
   {
    "duration": 3,
    "start_time": "2021-12-01T15:18:58.823Z"
   },
   {
    "duration": 5,
    "start_time": "2021-12-01T15:19:01.690Z"
   },
   {
    "duration": 5,
    "start_time": "2021-12-01T15:19:01.899Z"
   },
   {
    "duration": 7,
    "start_time": "2021-12-01T15:19:02.315Z"
   },
   {
    "duration": 256,
    "start_time": "2021-12-01T15:19:02.505Z"
   },
   {
    "duration": 86,
    "start_time": "2021-12-01T15:19:02.677Z"
   },
   {
    "duration": 960,
    "start_time": "2021-12-01T15:19:12.549Z"
   },
   {
    "duration": 18,
    "start_time": "2021-12-01T15:19:13.510Z"
   },
   {
    "duration": 15,
    "start_time": "2021-12-01T15:19:13.530Z"
   },
   {
    "duration": 5,
    "start_time": "2021-12-01T15:19:13.547Z"
   },
   {
    "duration": 21,
    "start_time": "2021-12-01T15:19:13.554Z"
   },
   {
    "duration": 18,
    "start_time": "2021-12-01T15:19:13.576Z"
   },
   {
    "duration": 4,
    "start_time": "2021-12-01T15:19:13.596Z"
   },
   {
    "duration": 6,
    "start_time": "2021-12-01T15:19:13.601Z"
   },
   {
    "duration": 3,
    "start_time": "2021-12-01T15:19:13.610Z"
   },
   {
    "duration": 6,
    "start_time": "2021-12-01T15:19:13.614Z"
   },
   {
    "duration": 5,
    "start_time": "2021-12-01T15:19:13.621Z"
   },
   {
    "duration": 65,
    "start_time": "2021-12-01T15:19:13.627Z"
   },
   {
    "duration": 97,
    "start_time": "2021-12-01T15:19:13.694Z"
   },
   {
    "duration": 5,
    "start_time": "2021-12-01T15:19:13.793Z"
   },
   {
    "duration": 6,
    "start_time": "2021-12-01T15:19:13.800Z"
   },
   {
    "duration": 7,
    "start_time": "2021-12-01T15:19:13.807Z"
   },
   {
    "duration": 455,
    "start_time": "2021-12-01T15:19:13.816Z"
   },
   {
    "duration": 37,
    "start_time": "2021-12-01T15:19:14.236Z"
   },
   {
    "duration": 307,
    "start_time": "2021-12-01T15:21:19.985Z"
   },
   {
    "duration": 173,
    "start_time": "2021-12-01T15:21:21.451Z"
   },
   {
    "duration": 5,
    "start_time": "2021-12-01T15:22:14.987Z"
   },
   {
    "duration": 3,
    "start_time": "2021-12-01T15:22:37.681Z"
   },
   {
    "duration": 5,
    "start_time": "2021-12-01T15:22:46.202Z"
   },
   {
    "duration": 291,
    "start_time": "2021-12-01T15:23:01.388Z"
   },
   {
    "duration": 8,
    "start_time": "2021-12-01T15:23:42.811Z"
   },
   {
    "duration": 4,
    "start_time": "2021-12-01T15:25:17.348Z"
   },
   {
    "duration": 4,
    "start_time": "2021-12-01T15:25:47.639Z"
   },
   {
    "duration": 4,
    "start_time": "2021-12-01T15:25:55.325Z"
   },
   {
    "duration": 4,
    "start_time": "2021-12-01T15:52:09.836Z"
   },
   {
    "duration": 11,
    "start_time": "2021-12-01T15:52:13.227Z"
   },
   {
    "duration": 10,
    "start_time": "2021-12-01T15:52:23.387Z"
   },
   {
    "duration": 10,
    "start_time": "2021-12-01T15:53:21.404Z"
   },
   {
    "duration": 6,
    "start_time": "2021-12-01T15:55:21.848Z"
   },
   {
    "duration": 6,
    "start_time": "2021-12-01T15:55:56.766Z"
   },
   {
    "duration": 6,
    "start_time": "2021-12-01T15:56:45.363Z"
   },
   {
    "duration": 9,
    "start_time": "2021-12-01T15:57:15.664Z"
   },
   {
    "duration": 8,
    "start_time": "2021-12-01T15:57:31.039Z"
   },
   {
    "duration": 5,
    "start_time": "2021-12-01T16:00:12.214Z"
   },
   {
    "duration": 3,
    "start_time": "2021-12-01T16:09:31.070Z"
   },
   {
    "duration": 185,
    "start_time": "2021-12-01T16:11:30.451Z"
   },
   {
    "duration": 685,
    "start_time": "2021-12-01T16:11:31.546Z"
   },
   {
    "duration": 983,
    "start_time": "2021-12-01T16:16:05.336Z"
   },
   {
    "duration": 19,
    "start_time": "2021-12-01T16:16:06.321Z"
   },
   {
    "duration": 14,
    "start_time": "2021-12-01T16:16:07.057Z"
   },
   {
    "duration": 13,
    "start_time": "2021-12-01T16:16:07.289Z"
   },
   {
    "duration": 28,
    "start_time": "2021-12-01T16:16:07.501Z"
   },
   {
    "duration": 6,
    "start_time": "2021-12-01T16:16:07.715Z"
   },
   {
    "duration": 4,
    "start_time": "2021-12-01T16:16:08.554Z"
   },
   {
    "duration": 6,
    "start_time": "2021-12-01T16:16:08.762Z"
   },
   {
    "duration": 4,
    "start_time": "2021-12-01T16:16:09.031Z"
   },
   {
    "duration": 4,
    "start_time": "2021-12-01T16:16:09.418Z"
   },
   {
    "duration": 3,
    "start_time": "2021-12-01T16:16:13.604Z"
   },
   {
    "duration": 10,
    "start_time": "2021-12-01T16:16:14.347Z"
   },
   {
    "duration": 5,
    "start_time": "2021-12-01T16:16:15.481Z"
   },
   {
    "duration": 3,
    "start_time": "2021-12-01T16:16:18.387Z"
   },
   {
    "duration": 11,
    "start_time": "2021-12-01T16:16:19.200Z"
   },
   {
    "duration": 5,
    "start_time": "2021-12-01T16:16:20.340Z"
   },
   {
    "duration": 9,
    "start_time": "2021-12-01T16:16:22.290Z"
   },
   {
    "duration": 6,
    "start_time": "2021-12-01T16:16:23.863Z"
   },
   {
    "duration": 7,
    "start_time": "2021-12-01T16:16:24.401Z"
   },
   {
    "duration": 5,
    "start_time": "2021-12-01T16:16:24.783Z"
   },
   {
    "duration": 4,
    "start_time": "2021-12-01T16:16:25.354Z"
   },
   {
    "duration": 13,
    "start_time": "2021-12-01T16:16:28.117Z"
   },
   {
    "duration": 6,
    "start_time": "2021-12-01T16:16:29.536Z"
   },
   {
    "duration": 4,
    "start_time": "2021-12-01T16:16:30.058Z"
   },
   {
    "duration": 7,
    "start_time": "2021-12-01T16:16:30.712Z"
   },
   {
    "duration": 6,
    "start_time": "2021-12-01T16:16:31.697Z"
   },
   {
    "duration": 6,
    "start_time": "2021-12-01T16:16:33.050Z"
   },
   {
    "duration": 3,
    "start_time": "2021-12-01T16:16:33.824Z"
   },
   {
    "duration": 252,
    "start_time": "2021-12-01T16:16:34.571Z"
   },
   {
    "duration": 175,
    "start_time": "2021-12-01T16:16:35.943Z"
   },
   {
    "duration": 171,
    "start_time": "2021-12-01T16:20:24.521Z"
   },
   {
    "duration": 168,
    "start_time": "2021-12-01T16:20:44.286Z"
   },
   {
    "duration": 188,
    "start_time": "2021-12-01T16:21:34.532Z"
   },
   {
    "duration": 5,
    "start_time": "2021-12-01T16:21:43.621Z"
   },
   {
    "duration": 6,
    "start_time": "2021-12-01T16:21:56.758Z"
   },
   {
    "duration": 6,
    "start_time": "2021-12-01T16:21:56.766Z"
   },
   {
    "duration": 1061,
    "start_time": "2021-12-01T16:22:10.425Z"
   },
   {
    "duration": 19,
    "start_time": "2021-12-01T16:22:11.488Z"
   },
   {
    "duration": 15,
    "start_time": "2021-12-01T16:22:12.170Z"
   },
   {
    "duration": 8,
    "start_time": "2021-12-01T16:22:12.656Z"
   },
   {
    "duration": 30,
    "start_time": "2021-12-01T16:22:13.133Z"
   },
   {
    "duration": 7,
    "start_time": "2021-12-01T16:22:13.724Z"
   },
   {
    "duration": 5,
    "start_time": "2021-12-01T16:22:14.725Z"
   },
   {
    "duration": 7,
    "start_time": "2021-12-01T16:22:15.182Z"
   },
   {
    "duration": 6,
    "start_time": "2021-12-01T16:22:15.692Z"
   },
   {
    "duration": 4,
    "start_time": "2021-12-01T16:22:16.211Z"
   },
   {
    "duration": 3,
    "start_time": "2021-12-01T16:22:20.912Z"
   },
   {
    "duration": 14,
    "start_time": "2021-12-01T16:22:21.470Z"
   },
   {
    "duration": 6,
    "start_time": "2021-12-01T16:22:22.801Z"
   },
   {
    "duration": 5,
    "start_time": "2021-12-01T16:22:23.826Z"
   },
   {
    "duration": 7,
    "start_time": "2021-12-01T16:22:25.399Z"
   },
   {
    "duration": 13,
    "start_time": "2021-12-01T16:22:30.520Z"
   },
   {
    "duration": 5,
    "start_time": "2021-12-01T16:22:32.278Z"
   },
   {
    "duration": 5,
    "start_time": "2021-12-01T16:22:32.773Z"
   },
   {
    "duration": 7,
    "start_time": "2021-12-01T16:22:37.696Z"
   },
   {
    "duration": 6,
    "start_time": "2021-12-01T16:22:39.438Z"
   },
   {
    "duration": 5,
    "start_time": "2021-12-01T16:22:40.407Z"
   },
   {
    "duration": 4,
    "start_time": "2021-12-01T16:22:42.353Z"
   },
   {
    "duration": 6,
    "start_time": "2021-12-01T16:22:43.206Z"
   },
   {
    "duration": 6,
    "start_time": "2021-12-01T16:22:44.580Z"
   },
   {
    "duration": 3,
    "start_time": "2021-12-01T16:22:45.242Z"
   },
   {
    "duration": 256,
    "start_time": "2021-12-01T16:22:45.926Z"
   },
   {
    "duration": 168,
    "start_time": "2021-12-01T16:22:47.214Z"
   },
   {
    "duration": 1126,
    "start_time": "2021-12-01T16:58:30.303Z"
   },
   {
    "duration": 19,
    "start_time": "2021-12-01T16:58:31.431Z"
   },
   {
    "duration": 16,
    "start_time": "2021-12-01T16:58:32.260Z"
   },
   {
    "duration": 6,
    "start_time": "2021-12-01T16:58:32.505Z"
   },
   {
    "duration": 24,
    "start_time": "2021-12-01T16:58:32.697Z"
   },
   {
    "duration": 6,
    "start_time": "2021-12-01T16:58:32.902Z"
   },
   {
    "duration": 3,
    "start_time": "2021-12-01T16:58:33.404Z"
   },
   {
    "duration": 6,
    "start_time": "2021-12-01T16:58:33.611Z"
   },
   {
    "duration": 4,
    "start_time": "2021-12-01T16:58:33.815Z"
   },
   {
    "duration": 4,
    "start_time": "2021-12-01T16:58:34.014Z"
   },
   {
    "duration": 4,
    "start_time": "2021-12-01T16:58:38.885Z"
   },
   {
    "duration": 5,
    "start_time": "2021-12-01T16:58:39.122Z"
   },
   {
    "duration": 7,
    "start_time": "2021-12-01T16:58:39.660Z"
   },
   {
    "duration": 7,
    "start_time": "2021-12-01T16:58:40.722Z"
   },
   {
    "duration": 7,
    "start_time": "2021-12-01T16:58:42.050Z"
   },
   {
    "duration": 14,
    "start_time": "2021-12-01T16:58:42.660Z"
   },
   {
    "duration": 6,
    "start_time": "2021-12-01T16:58:43.422Z"
   },
   {
    "duration": 6,
    "start_time": "2021-12-01T16:58:44.331Z"
   },
   {
    "duration": 5,
    "start_time": "2021-12-01T16:58:46.852Z"
   },
   {
    "duration": 6,
    "start_time": "2021-12-01T16:58:49.553Z"
   },
   {
    "duration": 4,
    "start_time": "2021-12-01T16:58:51.620Z"
   },
   {
    "duration": 5,
    "start_time": "2021-12-01T16:58:52.739Z"
   },
   {
    "duration": 4,
    "start_time": "2021-12-01T16:58:53.450Z"
   },
   {
    "duration": 7,
    "start_time": "2021-12-01T16:58:55.533Z"
   },
   {
    "duration": 4,
    "start_time": "2021-12-01T16:58:56.431Z"
   },
   {
    "duration": 252,
    "start_time": "2021-12-01T16:58:57.892Z"
   },
   {
    "duration": 164,
    "start_time": "2021-12-01T16:58:59.396Z"
   },
   {
    "duration": 5,
    "start_time": "2021-12-01T17:01:53.894Z"
   },
   {
    "duration": 9,
    "start_time": "2021-12-01T17:01:56.562Z"
   },
   {
    "duration": 175,
    "start_time": "2021-12-01T17:06:58.712Z"
   },
   {
    "duration": 191,
    "start_time": "2021-12-01T17:07:00.054Z"
   },
   {
    "duration": 9,
    "start_time": "2021-12-01T17:07:40.209Z"
   },
   {
    "duration": 6,
    "start_time": "2021-12-01T17:07:42.756Z"
   },
   {
    "duration": 5,
    "start_time": "2021-12-01T17:07:43.317Z"
   },
   {
    "duration": 6,
    "start_time": "2021-12-01T17:07:43.821Z"
   },
   {
    "duration": 4,
    "start_time": "2021-12-01T17:07:44.457Z"
   },
   {
    "duration": 181,
    "start_time": "2021-12-01T17:07:45.720Z"
   },
   {
    "duration": 4,
    "start_time": "2021-12-01T17:07:46.391Z"
   },
   {
    "duration": 185,
    "start_time": "2021-12-01T17:07:47.261Z"
   },
   {
    "duration": 166,
    "start_time": "2021-12-01T17:07:48.964Z"
   },
   {
    "duration": 1046,
    "start_time": "2021-12-01T17:08:06.771Z"
   },
   {
    "duration": 20,
    "start_time": "2021-12-01T17:08:07.819Z"
   },
   {
    "duration": 18,
    "start_time": "2021-12-01T17:08:07.842Z"
   },
   {
    "duration": 6,
    "start_time": "2021-12-01T17:08:07.862Z"
   },
   {
    "duration": 35,
    "start_time": "2021-12-01T17:08:07.870Z"
   },
   {
    "duration": 6,
    "start_time": "2021-12-01T17:08:07.907Z"
   },
   {
    "duration": 9,
    "start_time": "2021-12-01T17:08:07.915Z"
   },
   {
    "duration": 23,
    "start_time": "2021-12-01T17:08:07.925Z"
   },
   {
    "duration": 26,
    "start_time": "2021-12-01T17:08:07.951Z"
   },
   {
    "duration": 15,
    "start_time": "2021-12-01T17:08:07.979Z"
   },
   {
    "duration": 30,
    "start_time": "2021-12-01T17:08:07.996Z"
   },
   {
    "duration": 17,
    "start_time": "2021-12-01T17:08:08.028Z"
   },
   {
    "duration": 150,
    "start_time": "2021-12-01T17:08:08.047Z"
   },
   {
    "duration": 23,
    "start_time": "2021-12-01T17:08:08.199Z"
   },
   {
    "duration": 68,
    "start_time": "2021-12-01T17:08:08.225Z"
   },
   {
    "duration": 20,
    "start_time": "2021-12-01T17:08:08.296Z"
   },
   {
    "duration": 12,
    "start_time": "2021-12-01T17:08:08.393Z"
   },
   {
    "duration": 85,
    "start_time": "2021-12-01T17:08:08.408Z"
   },
   {
    "duration": 25,
    "start_time": "2021-12-01T17:08:08.495Z"
   },
   {
    "duration": 16,
    "start_time": "2021-12-01T17:08:08.522Z"
   },
   {
    "duration": 22,
    "start_time": "2021-12-01T17:08:08.540Z"
   },
   {
    "duration": 34,
    "start_time": "2021-12-01T17:08:08.563Z"
   },
   {
    "duration": 26,
    "start_time": "2021-12-01T17:08:08.599Z"
   },
   {
    "duration": 20,
    "start_time": "2021-12-01T17:08:08.627Z"
   },
   {
    "duration": 18,
    "start_time": "2021-12-01T17:08:08.648Z"
   },
   {
    "duration": 299,
    "start_time": "2021-12-01T17:08:08.667Z"
   },
   {
    "duration": -1,
    "start_time": "2021-12-01T17:08:08.969Z"
   },
   {
    "duration": -2,
    "start_time": "2021-12-01T17:08:08.971Z"
   },
   {
    "duration": 7,
    "start_time": "2021-12-01T17:11:00.846Z"
   },
   {
    "duration": 56,
    "start_time": "2021-12-01T17:11:03.380Z"
   },
   {
    "duration": 7,
    "start_time": "2021-12-01T17:11:54.348Z"
   },
   {
    "duration": 169,
    "start_time": "2021-12-01T17:11:55.043Z"
   },
   {
    "duration": 1084,
    "start_time": "2021-12-01T17:12:11.178Z"
   },
   {
    "duration": 20,
    "start_time": "2021-12-01T17:12:12.264Z"
   },
   {
    "duration": 34,
    "start_time": "2021-12-01T17:12:12.286Z"
   },
   {
    "duration": 15,
    "start_time": "2021-12-01T17:12:12.323Z"
   },
   {
    "duration": 49,
    "start_time": "2021-12-01T17:12:12.341Z"
   },
   {
    "duration": 10,
    "start_time": "2021-12-01T17:12:12.396Z"
   },
   {
    "duration": 11,
    "start_time": "2021-12-01T17:12:12.408Z"
   },
   {
    "duration": 26,
    "start_time": "2021-12-01T17:12:12.421Z"
   },
   {
    "duration": 24,
    "start_time": "2021-12-01T17:12:12.450Z"
   },
   {
    "duration": 24,
    "start_time": "2021-12-01T17:12:12.476Z"
   },
   {
    "duration": 33,
    "start_time": "2021-12-01T17:12:12.502Z"
   },
   {
    "duration": 73,
    "start_time": "2021-12-01T17:12:12.538Z"
   },
   {
    "duration": 78,
    "start_time": "2021-12-01T17:12:12.616Z"
   },
   {
    "duration": 32,
    "start_time": "2021-12-01T17:12:12.696Z"
   },
   {
    "duration": 72,
    "start_time": "2021-12-01T17:12:12.731Z"
   },
   {
    "duration": 18,
    "start_time": "2021-12-01T17:12:12.808Z"
   },
   {
    "duration": 75,
    "start_time": "2021-12-01T17:12:12.829Z"
   },
   {
    "duration": 15,
    "start_time": "2021-12-01T17:12:12.907Z"
   },
   {
    "duration": 79,
    "start_time": "2021-12-01T17:12:12.926Z"
   },
   {
    "duration": 12,
    "start_time": "2021-12-01T17:12:13.008Z"
   },
   {
    "duration": 12,
    "start_time": "2021-12-01T17:12:13.023Z"
   },
   {
    "duration": 20,
    "start_time": "2021-12-01T17:12:13.037Z"
   },
   {
    "duration": 30,
    "start_time": "2021-12-01T17:12:13.059Z"
   },
   {
    "duration": 24,
    "start_time": "2021-12-01T17:12:13.091Z"
   },
   {
    "duration": 16,
    "start_time": "2021-12-01T17:12:13.118Z"
   },
   {
    "duration": 23,
    "start_time": "2021-12-01T17:12:13.136Z"
   },
   {
    "duration": 298,
    "start_time": "2021-12-01T17:12:13.163Z"
   },
   {
    "duration": 24,
    "start_time": "2021-12-01T17:12:13.439Z"
   },
   {
    "duration": 180,
    "start_time": "2021-12-01T17:13:25.187Z"
   },
   {
    "duration": 54,
    "start_time": "2021-12-01T17:13:26.202Z"
   },
   {
    "duration": 294,
    "start_time": "2021-12-01T17:13:38.360Z"
   },
   {
    "duration": 51,
    "start_time": "2021-12-01T17:13:39.618Z"
   },
   {
    "duration": 1195,
    "start_time": "2021-12-01T17:13:57.662Z"
   },
   {
    "duration": 19,
    "start_time": "2021-12-01T17:13:58.859Z"
   },
   {
    "duration": 28,
    "start_time": "2021-12-01T17:13:58.881Z"
   },
   {
    "duration": 9,
    "start_time": "2021-12-01T17:13:58.912Z"
   },
   {
    "duration": 26,
    "start_time": "2021-12-01T17:13:58.923Z"
   },
   {
    "duration": 6,
    "start_time": "2021-12-01T17:13:58.951Z"
   },
   {
    "duration": 4,
    "start_time": "2021-12-01T17:13:58.959Z"
   },
   {
    "duration": 15,
    "start_time": "2021-12-01T17:13:58.995Z"
   },
   {
    "duration": 6,
    "start_time": "2021-12-01T17:13:59.016Z"
   },
   {
    "duration": 8,
    "start_time": "2021-12-01T17:13:59.025Z"
   },
   {
    "duration": 4,
    "start_time": "2021-12-01T17:13:59.036Z"
   },
   {
    "duration": 73,
    "start_time": "2021-12-01T17:13:59.042Z"
   },
   {
    "duration": 75,
    "start_time": "2021-12-01T17:13:59.118Z"
   },
   {
    "duration": 17,
    "start_time": "2021-12-01T17:13:59.195Z"
   },
   {
    "duration": 10,
    "start_time": "2021-12-01T17:13:59.214Z"
   },
   {
    "duration": 76,
    "start_time": "2021-12-01T17:13:59.226Z"
   },
   {
    "duration": 82,
    "start_time": "2021-12-01T17:13:59.309Z"
   },
   {
    "duration": 5,
    "start_time": "2021-12-01T17:13:59.394Z"
   },
   {
    "duration": 18,
    "start_time": "2021-12-01T17:13:59.403Z"
   },
   {
    "duration": 78,
    "start_time": "2021-12-01T17:13:59.424Z"
   },
   {
    "duration": 21,
    "start_time": "2021-12-01T17:13:59.505Z"
   },
   {
    "duration": 6,
    "start_time": "2021-12-01T17:13:59.529Z"
   },
   {
    "duration": 7,
    "start_time": "2021-12-01T17:13:59.537Z"
   },
   {
    "duration": 6,
    "start_time": "2021-12-01T17:13:59.547Z"
   },
   {
    "duration": 5,
    "start_time": "2021-12-01T17:13:59.556Z"
   },
   {
    "duration": 302,
    "start_time": "2021-12-01T17:13:59.563Z"
   },
   {
    "duration": -14,
    "start_time": "2021-12-01T17:13:59.882Z"
   },
   {
    "duration": -14,
    "start_time": "2021-12-01T17:13:59.884Z"
   },
   {
    "duration": 9,
    "start_time": "2021-12-01T17:14:19.714Z"
   },
   {
    "duration": 54,
    "start_time": "2021-12-01T17:14:21.418Z"
   },
   {
    "duration": 4,
    "start_time": "2021-12-01T17:14:33.442Z"
   },
   {
    "duration": 5,
    "start_time": "2021-12-01T17:15:00.119Z"
   },
   {
    "duration": 4,
    "start_time": "2021-12-01T17:15:21.771Z"
   },
   {
    "duration": 1118,
    "start_time": "2021-12-01T17:16:26.305Z"
   },
   {
    "duration": 20,
    "start_time": "2021-12-01T17:16:27.425Z"
   },
   {
    "duration": 20,
    "start_time": "2021-12-01T17:16:28.148Z"
   },
   {
    "duration": 9,
    "start_time": "2021-12-01T17:16:29.018Z"
   },
   {
    "duration": 24,
    "start_time": "2021-12-01T17:16:30.151Z"
   },
   {
    "duration": 7,
    "start_time": "2021-12-01T17:16:31.058Z"
   },
   {
    "duration": 5,
    "start_time": "2021-12-01T17:16:34.964Z"
   },
   {
    "duration": 6,
    "start_time": "2021-12-01T17:16:36.882Z"
   },
   {
    "duration": 4,
    "start_time": "2021-12-01T17:16:37.901Z"
   },
   {
    "duration": 4,
    "start_time": "2021-12-01T17:18:27.744Z"
   },
   {
    "duration": 9,
    "start_time": "2021-12-01T17:18:28.870Z"
   },
   {
    "duration": 4,
    "start_time": "2021-12-01T17:18:29.829Z"
   },
   {
    "duration": 4,
    "start_time": "2021-12-01T17:18:30.447Z"
   },
   {
    "duration": 3,
    "start_time": "2021-12-01T17:18:55.888Z"
   },
   {
    "duration": 12,
    "start_time": "2021-12-01T17:19:00.604Z"
   },
   {
    "duration": 7,
    "start_time": "2021-12-01T17:19:03.677Z"
   },
   {
    "duration": 5,
    "start_time": "2021-12-01T17:19:10.397Z"
   },
   {
    "duration": 6,
    "start_time": "2021-12-01T17:19:15.810Z"
   },
   {
    "duration": 5,
    "start_time": "2021-12-01T17:19:16.822Z"
   },
   {
    "duration": 6,
    "start_time": "2021-12-01T17:19:33.789Z"
   },
   {
    "duration": 5,
    "start_time": "2021-12-01T17:19:36.803Z"
   },
   {
    "duration": 9,
    "start_time": "2021-12-01T17:19:40.380Z"
   },
   {
    "duration": 6,
    "start_time": "2021-12-01T17:19:43.889Z"
   },
   {
    "duration": 4,
    "start_time": "2021-12-01T17:19:45.111Z"
   },
   {
    "duration": 6,
    "start_time": "2021-12-01T17:19:45.993Z"
   },
   {
    "duration": 5,
    "start_time": "2021-12-01T17:19:46.608Z"
   },
   {
    "duration": 6,
    "start_time": "2021-12-01T17:19:48.443Z"
   },
   {
    "duration": 4,
    "start_time": "2021-12-01T17:19:49.364Z"
   },
   {
    "duration": 6,
    "start_time": "2021-12-01T17:19:55.595Z"
   },
   {
    "duration": 4,
    "start_time": "2021-12-01T17:19:56.290Z"
   },
   {
    "duration": 7,
    "start_time": "2021-12-01T17:33:26.197Z"
   },
   {
    "duration": 4,
    "start_time": "2021-12-01T17:33:27.945Z"
   },
   {
    "duration": 1018,
    "start_time": "2021-12-01T17:35:18.398Z"
   },
   {
    "duration": 19,
    "start_time": "2021-12-01T17:35:19.418Z"
   },
   {
    "duration": 17,
    "start_time": "2021-12-01T17:35:19.440Z"
   },
   {
    "duration": 23,
    "start_time": "2021-12-01T17:35:19.460Z"
   },
   {
    "duration": 39,
    "start_time": "2021-12-01T17:35:19.486Z"
   },
   {
    "duration": 5,
    "start_time": "2021-12-01T17:35:19.527Z"
   },
   {
    "duration": 19,
    "start_time": "2021-12-01T17:35:19.534Z"
   },
   {
    "duration": 21,
    "start_time": "2021-12-01T17:35:19.555Z"
   },
   {
    "duration": 9,
    "start_time": "2021-12-01T17:35:19.579Z"
   },
   {
    "duration": 19,
    "start_time": "2021-12-01T17:35:19.590Z"
   },
   {
    "duration": 24,
    "start_time": "2021-12-01T17:35:19.610Z"
   },
   {
    "duration": 21,
    "start_time": "2021-12-01T17:35:19.636Z"
   },
   {
    "duration": 37,
    "start_time": "2021-12-01T17:35:19.659Z"
   },
   {
    "duration": 101,
    "start_time": "2021-12-01T17:35:19.698Z"
   },
   {
    "duration": 92,
    "start_time": "2021-12-01T17:35:19.801Z"
   },
   {
    "duration": 196,
    "start_time": "2021-12-01T17:35:19.896Z"
   },
   {
    "duration": 4,
    "start_time": "2021-12-01T17:35:20.094Z"
   },
   {
    "duration": 12,
    "start_time": "2021-12-01T17:35:20.100Z"
   },
   {
    "duration": 22,
    "start_time": "2021-12-01T17:35:20.115Z"
   },
   {
    "duration": 56,
    "start_time": "2021-12-01T17:35:20.139Z"
   },
   {
    "duration": 13,
    "start_time": "2021-12-01T17:35:20.199Z"
   },
   {
    "duration": 14,
    "start_time": "2021-12-01T17:35:20.215Z"
   },
   {
    "duration": 5,
    "start_time": "2021-12-01T17:35:20.231Z"
   },
   {
    "duration": 34,
    "start_time": "2021-12-01T17:35:20.238Z"
   },
   {
    "duration": 14,
    "start_time": "2021-12-01T17:35:20.274Z"
   },
   {
    "duration": 20,
    "start_time": "2021-12-01T17:35:20.290Z"
   },
   {
    "duration": 25,
    "start_time": "2021-12-01T17:35:20.313Z"
   },
   {
    "duration": 993,
    "start_time": "2021-12-01T17:35:36.513Z"
   },
   {
    "duration": 19,
    "start_time": "2021-12-01T17:35:38.152Z"
   },
   {
    "duration": 15,
    "start_time": "2021-12-01T17:35:38.432Z"
   },
   {
    "duration": 7,
    "start_time": "2021-12-01T17:35:38.608Z"
   },
   {
    "duration": 23,
    "start_time": "2021-12-01T17:35:38.804Z"
   },
   {
    "duration": 6,
    "start_time": "2021-12-01T17:35:39.004Z"
   },
   {
    "duration": 4,
    "start_time": "2021-12-01T17:35:39.428Z"
   },
   {
    "duration": 6,
    "start_time": "2021-12-01T17:35:39.623Z"
   },
   {
    "duration": 3,
    "start_time": "2021-12-01T17:35:39.939Z"
   },
   {
    "duration": 4,
    "start_time": "2021-12-01T17:35:40.154Z"
   },
   {
    "duration": 4,
    "start_time": "2021-12-01T17:35:42.142Z"
   },
   {
    "duration": 5,
    "start_time": "2021-12-01T17:35:42.342Z"
   },
   {
    "duration": 4,
    "start_time": "2021-12-01T17:35:42.793Z"
   },
   {
    "duration": 6,
    "start_time": "2021-12-01T17:35:43.407Z"
   },
   {
    "duration": 6,
    "start_time": "2021-12-01T17:35:43.905Z"
   },
   {
    "duration": 18,
    "start_time": "2021-12-01T17:35:44.193Z"
   },
   {
    "duration": 4,
    "start_time": "2021-12-01T17:35:44.420Z"
   },
   {
    "duration": 4,
    "start_time": "2021-12-01T17:35:44.649Z"
   },
   {
    "duration": 9,
    "start_time": "2021-12-01T17:35:45.426Z"
   },
   {
    "duration": 6,
    "start_time": "2021-12-01T17:35:45.939Z"
   },
   {
    "duration": 5,
    "start_time": "2021-12-01T17:35:46.200Z"
   },
   {
    "duration": 6,
    "start_time": "2021-12-01T17:35:46.451Z"
   },
   {
    "duration": 5,
    "start_time": "2021-12-01T17:35:46.689Z"
   },
   {
    "duration": 6,
    "start_time": "2021-12-01T17:35:47.154Z"
   },
   {
    "duration": 4,
    "start_time": "2021-12-01T17:35:47.360Z"
   },
   {
    "duration": 6,
    "start_time": "2021-12-01T17:35:47.577Z"
   },
   {
    "duration": 4,
    "start_time": "2021-12-01T17:35:47.800Z"
   },
   {
    "duration": 1048,
    "start_time": "2021-12-01T18:08:06.248Z"
   },
   {
    "duration": 37,
    "start_time": "2021-12-01T18:08:07.298Z"
   },
   {
    "duration": 16,
    "start_time": "2021-12-01T18:08:07.337Z"
   },
   {
    "duration": 6,
    "start_time": "2021-12-01T18:08:07.355Z"
   },
   {
    "duration": 21,
    "start_time": "2021-12-01T18:08:07.363Z"
   },
   {
    "duration": 6,
    "start_time": "2021-12-01T18:08:07.403Z"
   },
   {
    "duration": 5,
    "start_time": "2021-12-01T18:08:08.188Z"
   },
   {
    "duration": 7,
    "start_time": "2021-12-01T18:08:08.384Z"
   },
   {
    "duration": 4,
    "start_time": "2021-12-01T18:08:09.020Z"
   },
   {
    "duration": 4,
    "start_time": "2021-12-01T18:08:09.683Z"
   },
   {
    "duration": 4,
    "start_time": "2021-12-01T18:11:56.994Z"
   },
   {
    "duration": 8,
    "start_time": "2021-12-01T18:11:57.604Z"
   },
   {
    "duration": 4,
    "start_time": "2021-12-01T18:11:58.027Z"
   },
   {
    "duration": 7,
    "start_time": "2021-12-01T18:11:58.547Z"
   },
   {
    "duration": 6,
    "start_time": "2021-12-01T18:11:58.892Z"
   },
   {
    "duration": 11,
    "start_time": "2021-12-01T18:11:59.050Z"
   },
   {
    "duration": 4,
    "start_time": "2021-12-01T18:11:59.264Z"
   },
   {
    "duration": 4,
    "start_time": "2021-12-01T18:11:59.375Z"
   },
   {
    "duration": 9,
    "start_time": "2021-12-01T18:11:59.838Z"
   },
   {
    "duration": 6,
    "start_time": "2021-12-01T18:12:00.135Z"
   },
   {
    "duration": 5,
    "start_time": "2021-12-01T18:12:00.276Z"
   },
   {
    "duration": 6,
    "start_time": "2021-12-01T18:12:00.437Z"
   },
   {
    "duration": 5,
    "start_time": "2021-12-01T18:12:00.590Z"
   },
   {
    "duration": 7,
    "start_time": "2021-12-01T18:12:00.879Z"
   },
   {
    "duration": 5,
    "start_time": "2021-12-01T18:12:01.012Z"
   },
   {
    "duration": 5,
    "start_time": "2021-12-01T18:12:01.155Z"
   },
   {
    "duration": 4,
    "start_time": "2021-12-01T18:12:01.313Z"
   },
   {
    "duration": 983,
    "start_time": "2021-12-02T10:52:41.369Z"
   },
   {
    "duration": 38,
    "start_time": "2021-12-02T10:52:42.355Z"
   },
   {
    "duration": 14,
    "start_time": "2021-12-02T10:52:42.395Z"
   },
   {
    "duration": 18,
    "start_time": "2021-12-02T10:52:42.411Z"
   },
   {
    "duration": 47,
    "start_time": "2021-12-02T10:52:42.431Z"
   },
   {
    "duration": 7,
    "start_time": "2021-12-02T10:52:42.480Z"
   },
   {
    "duration": 8,
    "start_time": "2021-12-02T10:52:42.489Z"
   },
   {
    "duration": 19,
    "start_time": "2021-12-02T10:52:42.499Z"
   },
   {
    "duration": 3,
    "start_time": "2021-12-02T10:52:42.521Z"
   },
   {
    "duration": 8,
    "start_time": "2021-12-02T10:52:42.526Z"
   },
   {
    "duration": 4,
    "start_time": "2021-12-02T10:52:42.545Z"
   },
   {
    "duration": 15,
    "start_time": "2021-12-02T10:52:42.551Z"
   },
   {
    "duration": 79,
    "start_time": "2021-12-02T10:52:42.568Z"
   },
   {
    "duration": 99,
    "start_time": "2021-12-02T10:52:42.649Z"
   },
   {
    "duration": 10,
    "start_time": "2021-12-02T10:52:42.750Z"
   },
   {
    "duration": 7,
    "start_time": "2021-12-02T10:52:42.761Z"
   },
   {
    "duration": 82,
    "start_time": "2021-12-02T10:52:42.770Z"
   },
   {
    "duration": 90,
    "start_time": "2021-12-02T10:52:42.856Z"
   },
   {
    "duration": 11,
    "start_time": "2021-12-02T10:52:42.948Z"
   },
   {
    "duration": 6,
    "start_time": "2021-12-02T10:52:42.961Z"
   },
   {
    "duration": 8,
    "start_time": "2021-12-02T10:52:42.969Z"
   },
   {
    "duration": 16,
    "start_time": "2021-12-02T10:52:42.979Z"
   },
   {
    "duration": 12,
    "start_time": "2021-12-02T10:52:42.997Z"
   },
   {
    "duration": 6,
    "start_time": "2021-12-02T10:52:43.010Z"
   },
   {
    "duration": 4,
    "start_time": "2021-12-02T10:52:43.018Z"
   },
   {
    "duration": 6,
    "start_time": "2021-12-02T10:52:43.023Z"
   },
   {
    "duration": 5,
    "start_time": "2021-12-02T10:52:43.032Z"
   },
   {
    "duration": 1007,
    "start_time": "2021-12-02T11:36:06.452Z"
   },
   {
    "duration": 18,
    "start_time": "2021-12-02T11:36:07.461Z"
   },
   {
    "duration": 13,
    "start_time": "2021-12-02T11:36:07.481Z"
   },
   {
    "duration": 26,
    "start_time": "2021-12-02T11:36:07.496Z"
   },
   {
    "duration": 43,
    "start_time": "2021-12-02T11:36:07.524Z"
   },
   {
    "duration": 5,
    "start_time": "2021-12-02T11:36:07.569Z"
   },
   {
    "duration": 5,
    "start_time": "2021-12-02T11:36:07.576Z"
   },
   {
    "duration": 9,
    "start_time": "2021-12-02T11:36:07.583Z"
   },
   {
    "duration": 3,
    "start_time": "2021-12-02T11:36:07.595Z"
   },
   {
    "duration": 4,
    "start_time": "2021-12-02T11:36:07.600Z"
   },
   {
    "duration": 3,
    "start_time": "2021-12-02T11:36:07.606Z"
   },
   {
    "duration": 35,
    "start_time": "2021-12-02T11:36:07.611Z"
   },
   {
    "duration": 7,
    "start_time": "2021-12-02T11:36:07.648Z"
   },
   {
    "duration": 5,
    "start_time": "2021-12-02T11:36:07.747Z"
   },
   {
    "duration": 101,
    "start_time": "2021-12-02T11:36:07.754Z"
   },
   {
    "duration": 87,
    "start_time": "2021-12-02T11:36:07.859Z"
   },
   {
    "duration": 6,
    "start_time": "2021-12-02T11:36:07.949Z"
   },
   {
    "duration": 98,
    "start_time": "2021-12-02T11:36:08.046Z"
   },
   {
    "duration": 9,
    "start_time": "2021-12-02T11:36:08.146Z"
   },
   {
    "duration": 4,
    "start_time": "2021-12-02T11:36:08.156Z"
   },
   {
    "duration": 4,
    "start_time": "2021-12-02T11:36:08.163Z"
   },
   {
    "duration": 6,
    "start_time": "2021-12-02T11:36:08.168Z"
   },
   {
    "duration": 11,
    "start_time": "2021-12-02T11:36:08.176Z"
   },
   {
    "duration": 6,
    "start_time": "2021-12-02T11:36:08.189Z"
   },
   {
    "duration": 7,
    "start_time": "2021-12-02T11:36:08.197Z"
   },
   {
    "duration": 7,
    "start_time": "2021-12-02T11:36:08.206Z"
   },
   {
    "duration": 5,
    "start_time": "2021-12-02T11:36:08.245Z"
   },
   {
    "duration": 123,
    "start_time": "2021-12-03T00:54:40.163Z"
   }
  ],
  "kernelspec": {
   "display_name": "Python 3",
   "language": "python",
   "name": "python3"
  },
  "language_info": {
   "codemirror_mode": {
    "name": "ipython",
    "version": 3
   },
   "file_extension": ".py",
   "mimetype": "text/x-python",
   "name": "python",
   "nbconvert_exporter": "python",
   "pygments_lexer": "ipython3",
   "version": "3.7.10"
  },
  "toc": {
   "base_numbering": 1,
   "nav_menu": {},
   "number_sections": true,
   "sideBar": true,
   "skip_h1_title": true,
   "title_cell": "Содержание",
   "title_sidebar": "Contents",
   "toc_cell": true,
   "toc_position": {},
   "toc_section_display": true,
   "toc_window_display": false
  }
 },
 "nbformat": 4,
 "nbformat_minor": 2
}
