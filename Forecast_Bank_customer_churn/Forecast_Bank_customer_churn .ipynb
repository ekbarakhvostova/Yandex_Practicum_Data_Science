{
 "cells": [
  {
   "cell_type": "markdown",
   "metadata": {
    "toc": true
   },
   "source": [
    "<h1>Содержание<span class=\"tocSkip\"></span></h1>\n",
    "<div class=\"toc\"><ul class=\"toc-item\"><li><span><a href=\"#Подготовка-данных\" data-toc-modified-id=\"Подготовка-данных-1\"><span class=\"toc-item-num\">1&nbsp;&nbsp;</span>Подготовка данных</a></span><ul class=\"toc-item\"><li><span><a href=\"#Чтение-файла-и-предварительный-анализ-данных\" data-toc-modified-id=\"Чтение-файла-и-предварительный-анализ-данных-1.1\"><span class=\"toc-item-num\">1.1&nbsp;&nbsp;</span>Чтение файла и предварительный анализ данных</a></span></li><li><span><a href=\"#Обработка-данных\" data-toc-modified-id=\"Обработка-данных-1.2\"><span class=\"toc-item-num\">1.2&nbsp;&nbsp;</span>Обработка данных</a></span></li><li><span><a href=\"#Подготовка-датафрейма-для-машинного-обучения\" data-toc-modified-id=\"Подготовка-датафрейма-для-машинного-обучения-1.3\"><span class=\"toc-item-num\">1.3&nbsp;&nbsp;</span>Подготовка датафрейма для машинного обучения</a></span><ul class=\"toc-item\"><li><span><a href=\"#Прямое-кодирование\" data-toc-modified-id=\"Прямое-кодирование-1.3.1\"><span class=\"toc-item-num\">1.3.1&nbsp;&nbsp;</span>Прямое кодирование</a></span></li><li><span><a href=\"#Выделение-цели-и-признаков,-формирование-выборок-(обучающей,-валидвционной-и-тестовой)\" data-toc-modified-id=\"Выделение-цели-и-признаков,-формирование-выборок-(обучающей,-валидвционной-и-тестовой)-1.3.2\"><span class=\"toc-item-num\">1.3.2&nbsp;&nbsp;</span>Выделение цели и признаков, формирование выборок (обучающей, валидвционной и тестовой)</a></span></li><li><span><a href=\"#Масштабирование-признаков\" data-toc-modified-id=\"Масштабирование-признаков-1.3.3\"><span class=\"toc-item-num\">1.3.3&nbsp;&nbsp;</span>Масштабирование признаков</a></span></li></ul></li></ul></li><li><span><a href=\"#Исследование-задачи\" data-toc-modified-id=\"Исследование-задачи-2\"><span class=\"toc-item-num\">2&nbsp;&nbsp;</span>Исследование задачи</a></span><ul class=\"toc-item\"><li><span><a href=\"#Изучение-моделей-без-учёта-дисбаланса-классов\" data-toc-modified-id=\"Изучение-моделей-без-учёта-дисбаланса-классов-2.1\"><span class=\"toc-item-num\">2.1&nbsp;&nbsp;</span>Изучение моделей без учёта дисбаланса классов</a></span></li><li><span><a href=\"#Изучение-баланса-классов\" data-toc-modified-id=\"Изучение-баланса-классов-2.2\"><span class=\"toc-item-num\">2.2&nbsp;&nbsp;</span>Изучение баланса классов</a></span></li><li><span><a href=\"#Проверка-адекватности\" data-toc-modified-id=\"Проверка-адекватности-2.3\"><span class=\"toc-item-num\">2.3&nbsp;&nbsp;</span>Проверка адекватности</a></span><ul class=\"toc-item\"><li><span><a href=\"#Матрица-ошибок-для-каждой-модели\" data-toc-modified-id=\"Матрица-ошибок-для-каждой-модели-2.3.1\"><span class=\"toc-item-num\">2.3.1&nbsp;&nbsp;</span>Матрица ошибок для каждой модели</a></span></li><li><span><a href=\"#Проверка-полноты-(recall),-точности-(precision),-F1--меры-и-AUC-ROC-для-каждой-модели\" data-toc-modified-id=\"Проверка-полноты-(recall),-точности-(precision),-F1--меры-и-AUC-ROC-для-каждой-модели-2.3.2\"><span class=\"toc-item-num\">2.3.2&nbsp;&nbsp;</span>Проверка полноты (recall), точности (precision), F1- меры и AUC-ROC для каждой модели</a></span></li></ul></li><li><span><a href=\"#Вывод\" data-toc-modified-id=\"Вывод-2.4\"><span class=\"toc-item-num\">2.4&nbsp;&nbsp;</span>Вывод</a></span></li></ul></li><li><span><a href=\"#Борьба-с-дисбалансом\" data-toc-modified-id=\"Борьба-с-дисбалансом-3\"><span class=\"toc-item-num\">3&nbsp;&nbsp;</span>Борьба с дисбалансом</a></span><ul class=\"toc-item\"><li><span><a href=\"#Увеличение-выборки\" data-toc-modified-id=\"Увеличение-выборки-3.1\"><span class=\"toc-item-num\">3.1&nbsp;&nbsp;</span>Увеличение выборки</a></span></li><li><span><a href=\"#Обучение-моделей-на-новых-данных-и-проверка-качества\" data-toc-modified-id=\"Обучение-моделей-на-новых-данных-и-проверка-качества-3.2\"><span class=\"toc-item-num\">3.2&nbsp;&nbsp;</span>Обучение моделей на новых данных и проверка качества</a></span><ul class=\"toc-item\"><li><span><a href=\"#Решающее-дерево\" data-toc-modified-id=\"Решающее-дерево-3.2.1\"><span class=\"toc-item-num\">3.2.1&nbsp;&nbsp;</span>Решающее дерево</a></span></li><li><span><a href=\"#Случайный-лес\" data-toc-modified-id=\"Случайный-лес-3.2.2\"><span class=\"toc-item-num\">3.2.2&nbsp;&nbsp;</span>Случайный лес</a></span></li><li><span><a href=\"#Логистическая-регрессия\" data-toc-modified-id=\"Логистическая-регрессия-3.2.3\"><span class=\"toc-item-num\">3.2.3&nbsp;&nbsp;</span>Логистическая регрессия</a></span></li><li><span><a href=\"#Проверка-на-адекватность\" data-toc-modified-id=\"Проверка-на-адекватность-3.2.4\"><span class=\"toc-item-num\">3.2.4&nbsp;&nbsp;</span>Проверка на адекватность</a></span></li><li><span><a href=\"#Обучение-выбранной-модели-на-объединенной-выборке\" data-toc-modified-id=\"Обучение-выбранной-модели-на-объединенной-выборке-3.2.5\"><span class=\"toc-item-num\">3.2.5&nbsp;&nbsp;</span>Обучение выбранной модели на объединенной выборке</a></span></li></ul></li></ul></li><li><span><a href=\"#Тестирование-модели\" data-toc-modified-id=\"Тестирование-модели-4\"><span class=\"toc-item-num\">4&nbsp;&nbsp;</span>Тестирование модели</a></span></li><li><span><a href=\"#Общий-вывод\" data-toc-modified-id=\"Общий-вывод-5\"><span class=\"toc-item-num\">5&nbsp;&nbsp;</span>Общий вывод</a></span></li><li><span><a href=\"#Чек-лист-готовности-проекта\" data-toc-modified-id=\"Чек-лист-готовности-проекта-6\"><span class=\"toc-item-num\">6&nbsp;&nbsp;</span>Чек-лист готовности проекта</a></span></li></ul></div>"
   ]
  },
  {
   "cell_type": "markdown",
   "metadata": {},
   "source": [
    "# Прогнозирование оттока клиентов"
   ]
  },
  {
   "cell_type": "markdown",
   "metadata": {},
   "source": [
    "## Подготовка данных"
   ]
  },
  {
   "cell_type": "code",
   "execution_count": 1,
   "metadata": {},
   "outputs": [],
   "source": [
    "import pandas as pd\n",
    "import numpy as np\n",
    "import matplotlib.pyplot as plt\n",
    "import seaborn as sns\n",
    "from sklearn.tree import DecisionTreeClassifier\n",
    "from sklearn.ensemble import RandomForestClassifier\n",
    "from sklearn.linear_model import LogisticRegression\n",
    "from sklearn.model_selection import train_test_split\n",
    "from sklearn.preprocessing import StandardScaler \n",
    "from sklearn.metrics import accuracy_score\n",
    "from sklearn.metrics import confusion_matrix\n",
    "from sklearn.metrics import recall_score\n",
    "from sklearn.metrics import precision_score\n",
    "from sklearn.metrics import f1_score\n",
    "from sklearn.metrics import roc_curve\n",
    "from sklearn.metrics import roc_auc_score\n",
    "from sklearn.utils import shuffle"
   ]
  },
  {
   "cell_type": "markdown",
   "metadata": {},
   "source": [
    "### Чтение файла и предварительный анализ данных ###"
   ]
  },
  {
   "cell_type": "code",
   "execution_count": 2,
   "metadata": {},
   "outputs": [],
   "source": [
    "data = pd.read_csv('Churn.csv')"
   ]
  },
  {
   "cell_type": "code",
   "execution_count": 3,
   "metadata": {},
   "outputs": [
    {
     "data": {
      "text/html": [
       "<div>\n",
       "<style scoped>\n",
       "    .dataframe tbody tr th:only-of-type {\n",
       "        vertical-align: middle;\n",
       "    }\n",
       "\n",
       "    .dataframe tbody tr th {\n",
       "        vertical-align: top;\n",
       "    }\n",
       "\n",
       "    .dataframe thead th {\n",
       "        text-align: right;\n",
       "    }\n",
       "</style>\n",
       "<table border=\"1\" class=\"dataframe\">\n",
       "  <thead>\n",
       "    <tr style=\"text-align: right;\">\n",
       "      <th></th>\n",
       "      <th>RowNumber</th>\n",
       "      <th>CustomerId</th>\n",
       "      <th>Surname</th>\n",
       "      <th>CreditScore</th>\n",
       "      <th>Geography</th>\n",
       "      <th>Gender</th>\n",
       "      <th>Age</th>\n",
       "      <th>Tenure</th>\n",
       "      <th>Balance</th>\n",
       "      <th>NumOfProducts</th>\n",
       "      <th>HasCrCard</th>\n",
       "      <th>IsActiveMember</th>\n",
       "      <th>EstimatedSalary</th>\n",
       "      <th>Exited</th>\n",
       "    </tr>\n",
       "  </thead>\n",
       "  <tbody>\n",
       "    <tr>\n",
       "      <td>0</td>\n",
       "      <td>1</td>\n",
       "      <td>15634602</td>\n",
       "      <td>Hargrave</td>\n",
       "      <td>619</td>\n",
       "      <td>France</td>\n",
       "      <td>Female</td>\n",
       "      <td>42</td>\n",
       "      <td>2.0</td>\n",
       "      <td>0.00</td>\n",
       "      <td>1</td>\n",
       "      <td>1</td>\n",
       "      <td>1</td>\n",
       "      <td>101348.88</td>\n",
       "      <td>1</td>\n",
       "    </tr>\n",
       "    <tr>\n",
       "      <td>1</td>\n",
       "      <td>2</td>\n",
       "      <td>15647311</td>\n",
       "      <td>Hill</td>\n",
       "      <td>608</td>\n",
       "      <td>Spain</td>\n",
       "      <td>Female</td>\n",
       "      <td>41</td>\n",
       "      <td>1.0</td>\n",
       "      <td>83807.86</td>\n",
       "      <td>1</td>\n",
       "      <td>0</td>\n",
       "      <td>1</td>\n",
       "      <td>112542.58</td>\n",
       "      <td>0</td>\n",
       "    </tr>\n",
       "    <tr>\n",
       "      <td>2</td>\n",
       "      <td>3</td>\n",
       "      <td>15619304</td>\n",
       "      <td>Onio</td>\n",
       "      <td>502</td>\n",
       "      <td>France</td>\n",
       "      <td>Female</td>\n",
       "      <td>42</td>\n",
       "      <td>8.0</td>\n",
       "      <td>159660.80</td>\n",
       "      <td>3</td>\n",
       "      <td>1</td>\n",
       "      <td>0</td>\n",
       "      <td>113931.57</td>\n",
       "      <td>1</td>\n",
       "    </tr>\n",
       "    <tr>\n",
       "      <td>3</td>\n",
       "      <td>4</td>\n",
       "      <td>15701354</td>\n",
       "      <td>Boni</td>\n",
       "      <td>699</td>\n",
       "      <td>France</td>\n",
       "      <td>Female</td>\n",
       "      <td>39</td>\n",
       "      <td>1.0</td>\n",
       "      <td>0.00</td>\n",
       "      <td>2</td>\n",
       "      <td>0</td>\n",
       "      <td>0</td>\n",
       "      <td>93826.63</td>\n",
       "      <td>0</td>\n",
       "    </tr>\n",
       "    <tr>\n",
       "      <td>4</td>\n",
       "      <td>5</td>\n",
       "      <td>15737888</td>\n",
       "      <td>Mitchell</td>\n",
       "      <td>850</td>\n",
       "      <td>Spain</td>\n",
       "      <td>Female</td>\n",
       "      <td>43</td>\n",
       "      <td>2.0</td>\n",
       "      <td>125510.82</td>\n",
       "      <td>1</td>\n",
       "      <td>1</td>\n",
       "      <td>1</td>\n",
       "      <td>79084.10</td>\n",
       "      <td>0</td>\n",
       "    </tr>\n",
       "    <tr>\n",
       "      <td>5</td>\n",
       "      <td>6</td>\n",
       "      <td>15574012</td>\n",
       "      <td>Chu</td>\n",
       "      <td>645</td>\n",
       "      <td>Spain</td>\n",
       "      <td>Male</td>\n",
       "      <td>44</td>\n",
       "      <td>8.0</td>\n",
       "      <td>113755.78</td>\n",
       "      <td>2</td>\n",
       "      <td>1</td>\n",
       "      <td>0</td>\n",
       "      <td>149756.71</td>\n",
       "      <td>1</td>\n",
       "    </tr>\n",
       "    <tr>\n",
       "      <td>6</td>\n",
       "      <td>7</td>\n",
       "      <td>15592531</td>\n",
       "      <td>Bartlett</td>\n",
       "      <td>822</td>\n",
       "      <td>France</td>\n",
       "      <td>Male</td>\n",
       "      <td>50</td>\n",
       "      <td>7.0</td>\n",
       "      <td>0.00</td>\n",
       "      <td>2</td>\n",
       "      <td>1</td>\n",
       "      <td>1</td>\n",
       "      <td>10062.80</td>\n",
       "      <td>0</td>\n",
       "    </tr>\n",
       "    <tr>\n",
       "      <td>7</td>\n",
       "      <td>8</td>\n",
       "      <td>15656148</td>\n",
       "      <td>Obinna</td>\n",
       "      <td>376</td>\n",
       "      <td>Germany</td>\n",
       "      <td>Female</td>\n",
       "      <td>29</td>\n",
       "      <td>4.0</td>\n",
       "      <td>115046.74</td>\n",
       "      <td>4</td>\n",
       "      <td>1</td>\n",
       "      <td>0</td>\n",
       "      <td>119346.88</td>\n",
       "      <td>1</td>\n",
       "    </tr>\n",
       "    <tr>\n",
       "      <td>8</td>\n",
       "      <td>9</td>\n",
       "      <td>15792365</td>\n",
       "      <td>He</td>\n",
       "      <td>501</td>\n",
       "      <td>France</td>\n",
       "      <td>Male</td>\n",
       "      <td>44</td>\n",
       "      <td>4.0</td>\n",
       "      <td>142051.07</td>\n",
       "      <td>2</td>\n",
       "      <td>0</td>\n",
       "      <td>1</td>\n",
       "      <td>74940.50</td>\n",
       "      <td>0</td>\n",
       "    </tr>\n",
       "    <tr>\n",
       "      <td>9</td>\n",
       "      <td>10</td>\n",
       "      <td>15592389</td>\n",
       "      <td>H?</td>\n",
       "      <td>684</td>\n",
       "      <td>France</td>\n",
       "      <td>Male</td>\n",
       "      <td>27</td>\n",
       "      <td>2.0</td>\n",
       "      <td>134603.88</td>\n",
       "      <td>1</td>\n",
       "      <td>1</td>\n",
       "      <td>1</td>\n",
       "      <td>71725.73</td>\n",
       "      <td>0</td>\n",
       "    </tr>\n",
       "  </tbody>\n",
       "</table>\n",
       "</div>"
      ],
      "text/plain": [
       "   RowNumber  CustomerId   Surname  CreditScore Geography  Gender  Age  \\\n",
       "0          1    15634602  Hargrave          619    France  Female   42   \n",
       "1          2    15647311      Hill          608     Spain  Female   41   \n",
       "2          3    15619304      Onio          502    France  Female   42   \n",
       "3          4    15701354      Boni          699    France  Female   39   \n",
       "4          5    15737888  Mitchell          850     Spain  Female   43   \n",
       "5          6    15574012       Chu          645     Spain    Male   44   \n",
       "6          7    15592531  Bartlett          822    France    Male   50   \n",
       "7          8    15656148    Obinna          376   Germany  Female   29   \n",
       "8          9    15792365        He          501    France    Male   44   \n",
       "9         10    15592389        H?          684    France    Male   27   \n",
       "\n",
       "   Tenure    Balance  NumOfProducts  HasCrCard  IsActiveMember  \\\n",
       "0     2.0       0.00              1          1               1   \n",
       "1     1.0   83807.86              1          0               1   \n",
       "2     8.0  159660.80              3          1               0   \n",
       "3     1.0       0.00              2          0               0   \n",
       "4     2.0  125510.82              1          1               1   \n",
       "5     8.0  113755.78              2          1               0   \n",
       "6     7.0       0.00              2          1               1   \n",
       "7     4.0  115046.74              4          1               0   \n",
       "8     4.0  142051.07              2          0               1   \n",
       "9     2.0  134603.88              1          1               1   \n",
       "\n",
       "   EstimatedSalary  Exited  \n",
       "0        101348.88       1  \n",
       "1        112542.58       0  \n",
       "2        113931.57       1  \n",
       "3         93826.63       0  \n",
       "4         79084.10       0  \n",
       "5        149756.71       1  \n",
       "6         10062.80       0  \n",
       "7        119346.88       1  \n",
       "8         74940.50       0  \n",
       "9         71725.73       0  "
      ]
     },
     "execution_count": 3,
     "metadata": {},
     "output_type": "execute_result"
    }
   ],
   "source": [
    "data.head(10)"
   ]
  },
  {
   "cell_type": "code",
   "execution_count": 4,
   "metadata": {},
   "outputs": [
    {
     "name": "stdout",
     "output_type": "stream",
     "text": [
      "<class 'pandas.core.frame.DataFrame'>\n",
      "RangeIndex: 10000 entries, 0 to 9999\n",
      "Data columns (total 14 columns):\n",
      "RowNumber          10000 non-null int64\n",
      "CustomerId         10000 non-null int64\n",
      "Surname            10000 non-null object\n",
      "CreditScore        10000 non-null int64\n",
      "Geography          10000 non-null object\n",
      "Gender             10000 non-null object\n",
      "Age                10000 non-null int64\n",
      "Tenure             9091 non-null float64\n",
      "Balance            10000 non-null float64\n",
      "NumOfProducts      10000 non-null int64\n",
      "HasCrCard          10000 non-null int64\n",
      "IsActiveMember     10000 non-null int64\n",
      "EstimatedSalary    10000 non-null float64\n",
      "Exited             10000 non-null int64\n",
      "dtypes: float64(3), int64(8), object(3)\n",
      "memory usage: 1.1+ MB\n"
     ]
    }
   ],
   "source": [
    "data.info()"
   ]
  },
  {
   "cell_type": "code",
   "execution_count": 5,
   "metadata": {},
   "outputs": [
    {
     "data": {
      "text/html": [
       "<div>\n",
       "<style scoped>\n",
       "    .dataframe tbody tr th:only-of-type {\n",
       "        vertical-align: middle;\n",
       "    }\n",
       "\n",
       "    .dataframe tbody tr th {\n",
       "        vertical-align: top;\n",
       "    }\n",
       "\n",
       "    .dataframe thead th {\n",
       "        text-align: right;\n",
       "    }\n",
       "</style>\n",
       "<table border=\"1\" class=\"dataframe\">\n",
       "  <thead>\n",
       "    <tr style=\"text-align: right;\">\n",
       "      <th></th>\n",
       "      <th>RowNumber</th>\n",
       "      <th>CustomerId</th>\n",
       "      <th>CreditScore</th>\n",
       "      <th>Age</th>\n",
       "      <th>Tenure</th>\n",
       "      <th>Balance</th>\n",
       "      <th>NumOfProducts</th>\n",
       "      <th>HasCrCard</th>\n",
       "      <th>IsActiveMember</th>\n",
       "      <th>EstimatedSalary</th>\n",
       "      <th>Exited</th>\n",
       "    </tr>\n",
       "  </thead>\n",
       "  <tbody>\n",
       "    <tr>\n",
       "      <td>count</td>\n",
       "      <td>10000.00000</td>\n",
       "      <td>1.000000e+04</td>\n",
       "      <td>10000.000000</td>\n",
       "      <td>10000.000000</td>\n",
       "      <td>9091.000000</td>\n",
       "      <td>10000.000000</td>\n",
       "      <td>10000.000000</td>\n",
       "      <td>10000.00000</td>\n",
       "      <td>10000.000000</td>\n",
       "      <td>10000.000000</td>\n",
       "      <td>10000.000000</td>\n",
       "    </tr>\n",
       "    <tr>\n",
       "      <td>mean</td>\n",
       "      <td>5000.50000</td>\n",
       "      <td>1.569094e+07</td>\n",
       "      <td>650.528800</td>\n",
       "      <td>38.921800</td>\n",
       "      <td>4.997690</td>\n",
       "      <td>76485.889288</td>\n",
       "      <td>1.530200</td>\n",
       "      <td>0.70550</td>\n",
       "      <td>0.515100</td>\n",
       "      <td>100090.239881</td>\n",
       "      <td>0.203700</td>\n",
       "    </tr>\n",
       "    <tr>\n",
       "      <td>std</td>\n",
       "      <td>2886.89568</td>\n",
       "      <td>7.193619e+04</td>\n",
       "      <td>96.653299</td>\n",
       "      <td>10.487806</td>\n",
       "      <td>2.894723</td>\n",
       "      <td>62397.405202</td>\n",
       "      <td>0.581654</td>\n",
       "      <td>0.45584</td>\n",
       "      <td>0.499797</td>\n",
       "      <td>57510.492818</td>\n",
       "      <td>0.402769</td>\n",
       "    </tr>\n",
       "    <tr>\n",
       "      <td>min</td>\n",
       "      <td>1.00000</td>\n",
       "      <td>1.556570e+07</td>\n",
       "      <td>350.000000</td>\n",
       "      <td>18.000000</td>\n",
       "      <td>0.000000</td>\n",
       "      <td>0.000000</td>\n",
       "      <td>1.000000</td>\n",
       "      <td>0.00000</td>\n",
       "      <td>0.000000</td>\n",
       "      <td>11.580000</td>\n",
       "      <td>0.000000</td>\n",
       "    </tr>\n",
       "    <tr>\n",
       "      <td>25%</td>\n",
       "      <td>2500.75000</td>\n",
       "      <td>1.562853e+07</td>\n",
       "      <td>584.000000</td>\n",
       "      <td>32.000000</td>\n",
       "      <td>2.000000</td>\n",
       "      <td>0.000000</td>\n",
       "      <td>1.000000</td>\n",
       "      <td>0.00000</td>\n",
       "      <td>0.000000</td>\n",
       "      <td>51002.110000</td>\n",
       "      <td>0.000000</td>\n",
       "    </tr>\n",
       "    <tr>\n",
       "      <td>50%</td>\n",
       "      <td>5000.50000</td>\n",
       "      <td>1.569074e+07</td>\n",
       "      <td>652.000000</td>\n",
       "      <td>37.000000</td>\n",
       "      <td>5.000000</td>\n",
       "      <td>97198.540000</td>\n",
       "      <td>1.000000</td>\n",
       "      <td>1.00000</td>\n",
       "      <td>1.000000</td>\n",
       "      <td>100193.915000</td>\n",
       "      <td>0.000000</td>\n",
       "    </tr>\n",
       "    <tr>\n",
       "      <td>75%</td>\n",
       "      <td>7500.25000</td>\n",
       "      <td>1.575323e+07</td>\n",
       "      <td>718.000000</td>\n",
       "      <td>44.000000</td>\n",
       "      <td>7.000000</td>\n",
       "      <td>127644.240000</td>\n",
       "      <td>2.000000</td>\n",
       "      <td>1.00000</td>\n",
       "      <td>1.000000</td>\n",
       "      <td>149388.247500</td>\n",
       "      <td>0.000000</td>\n",
       "    </tr>\n",
       "    <tr>\n",
       "      <td>max</td>\n",
       "      <td>10000.00000</td>\n",
       "      <td>1.581569e+07</td>\n",
       "      <td>850.000000</td>\n",
       "      <td>92.000000</td>\n",
       "      <td>10.000000</td>\n",
       "      <td>250898.090000</td>\n",
       "      <td>4.000000</td>\n",
       "      <td>1.00000</td>\n",
       "      <td>1.000000</td>\n",
       "      <td>199992.480000</td>\n",
       "      <td>1.000000</td>\n",
       "    </tr>\n",
       "  </tbody>\n",
       "</table>\n",
       "</div>"
      ],
      "text/plain": [
       "         RowNumber    CustomerId   CreditScore           Age       Tenure  \\\n",
       "count  10000.00000  1.000000e+04  10000.000000  10000.000000  9091.000000   \n",
       "mean    5000.50000  1.569094e+07    650.528800     38.921800     4.997690   \n",
       "std     2886.89568  7.193619e+04     96.653299     10.487806     2.894723   \n",
       "min        1.00000  1.556570e+07    350.000000     18.000000     0.000000   \n",
       "25%     2500.75000  1.562853e+07    584.000000     32.000000     2.000000   \n",
       "50%     5000.50000  1.569074e+07    652.000000     37.000000     5.000000   \n",
       "75%     7500.25000  1.575323e+07    718.000000     44.000000     7.000000   \n",
       "max    10000.00000  1.581569e+07    850.000000     92.000000    10.000000   \n",
       "\n",
       "             Balance  NumOfProducts    HasCrCard  IsActiveMember  \\\n",
       "count   10000.000000   10000.000000  10000.00000    10000.000000   \n",
       "mean    76485.889288       1.530200      0.70550        0.515100   \n",
       "std     62397.405202       0.581654      0.45584        0.499797   \n",
       "min         0.000000       1.000000      0.00000        0.000000   \n",
       "25%         0.000000       1.000000      0.00000        0.000000   \n",
       "50%     97198.540000       1.000000      1.00000        1.000000   \n",
       "75%    127644.240000       2.000000      1.00000        1.000000   \n",
       "max    250898.090000       4.000000      1.00000        1.000000   \n",
       "\n",
       "       EstimatedSalary        Exited  \n",
       "count     10000.000000  10000.000000  \n",
       "mean     100090.239881      0.203700  \n",
       "std       57510.492818      0.402769  \n",
       "min          11.580000      0.000000  \n",
       "25%       51002.110000      0.000000  \n",
       "50%      100193.915000      0.000000  \n",
       "75%      149388.247500      0.000000  \n",
       "max      199992.480000      1.000000  "
      ]
     },
     "execution_count": 5,
     "metadata": {},
     "output_type": "execute_result"
    }
   ],
   "source": [
    "data.describe()"
   ]
  },
  {
   "cell_type": "code",
   "execution_count": 6,
   "metadata": {},
   "outputs": [
    {
     "data": {
      "text/plain": [
       "0"
      ]
     },
     "execution_count": 6,
     "metadata": {},
     "output_type": "execute_result"
    }
   ],
   "source": [
    "data.duplicated().sum()"
   ]
  },
  {
   "cell_type": "code",
   "execution_count": 7,
   "metadata": {},
   "outputs": [
    {
     "data": {
      "text/plain": [
       "array(['France', 'Spain', 'Germany'], dtype=object)"
      ]
     },
     "execution_count": 7,
     "metadata": {},
     "output_type": "execute_result"
    }
   ],
   "source": [
    "data['Geography'].unique()"
   ]
  },
  {
   "cell_type": "code",
   "execution_count": 8,
   "metadata": {},
   "outputs": [
    {
     "data": {
      "text/plain": [
       "RowNumber            0\n",
       "CustomerId           0\n",
       "Surname              0\n",
       "CreditScore          0\n",
       "Geography            0\n",
       "Gender               0\n",
       "Age                  0\n",
       "Tenure             909\n",
       "Balance              0\n",
       "NumOfProducts        0\n",
       "HasCrCard            0\n",
       "IsActiveMember       0\n",
       "EstimatedSalary      0\n",
       "Exited               0\n",
       "dtype: int64"
      ]
     },
     "execution_count": 8,
     "metadata": {},
     "output_type": "execute_result"
    }
   ],
   "source": [
    "data.isna().sum()"
   ]
  },
  {
   "cell_type": "markdown",
   "metadata": {},
   "source": [
    "1) Для построения модели предоставлены данные о 10 000 клиентов из Франции, Испании и Германии, дубликаты не выявлены. \n",
    "\n",
    "2) Есть 9.09% пропусков в столбце 'Tenure' (сколько лет человек является клиентом банка). Возможно пропущены данные о клиентах, которые  в банке более 10 лет (это максимальный срок, указанных в данных). Заменю на -1\n",
    "\n",
    "3) есть клиенты, у которых на счету 0\n",
    "\n",
    "4) столбец 'RowNumber' дублирует индексы датафрейма и для построения модели не нужен - удалю его\n",
    "\n",
    "5) Столбцы 'CustomerId' и 'Surname' также удалю, так как с одной стороны они идентифицируют клиента, но с другой стороны не характеризуют его активность. Кроме того в столбце 'Surname' есть некорректное заполнение (например,  'H?')\n",
    "\n",
    "6) Целевой признак указан в столбце 'Exited' (факт ухода клиента), это категориальный признак, значит нужно построить модель для задачи классификации"
   ]
  },
  {
   "cell_type": "markdown",
   "metadata": {},
   "source": [
    "### Обработка данных ###\n",
    "\n",
    "Удаление ненужных для обучения модели столбцов"
   ]
  },
  {
   "cell_type": "code",
   "execution_count": 9,
   "metadata": {},
   "outputs": [],
   "source": [
    "data['Tenure'] = data['Tenure'].fillna(-1)"
   ]
  },
  {
   "cell_type": "code",
   "execution_count": 10,
   "metadata": {},
   "outputs": [],
   "source": [
    "data = data.drop(['RowNumber', 'CustomerId','Surname'], axis = 1)"
   ]
  },
  {
   "cell_type": "code",
   "execution_count": 11,
   "metadata": {},
   "outputs": [
    {
     "name": "stdout",
     "output_type": "stream",
     "text": [
      "<class 'pandas.core.frame.DataFrame'>\n",
      "RangeIndex: 10000 entries, 0 to 9999\n",
      "Data columns (total 11 columns):\n",
      "CreditScore        10000 non-null int64\n",
      "Geography          10000 non-null object\n",
      "Gender             10000 non-null object\n",
      "Age                10000 non-null int64\n",
      "Tenure             10000 non-null float64\n",
      "Balance            10000 non-null float64\n",
      "NumOfProducts      10000 non-null int64\n",
      "HasCrCard          10000 non-null int64\n",
      "IsActiveMember     10000 non-null int64\n",
      "EstimatedSalary    10000 non-null float64\n",
      "Exited             10000 non-null int64\n",
      "dtypes: float64(3), int64(6), object(2)\n",
      "memory usage: 859.5+ KB\n"
     ]
    }
   ],
   "source": [
    "data.info()"
   ]
  },
  {
   "cell_type": "markdown",
   "metadata": {},
   "source": [
    "### Подготовка датафрейма для машинного обучения ###\n",
    "\n",
    "Подготовлю датафрейм для обучения и сохраню в переменной data_ml. \n",
    "\n",
    "#### Прямое кодирование #### \n",
    "В данном датафрейме преобразую категориальные признаки в столбцах 'Geography' и 'Gender' в численные прямым кодированием (One-Hot Encoding) с помощью функции pd.get_dummies(). Данные, обработанные техникой OHE, подходят для построения всех видов моделей.\n",
    "\n",
    "Чтобы избежать дамми-ловушки, при вызове функции передам аргумент drop_first=True."
   ]
  },
  {
   "cell_type": "code",
   "execution_count": 12,
   "metadata": {},
   "outputs": [],
   "source": [
    "data_ml = pd.get_dummies(data, drop_first = True)"
   ]
  },
  {
   "cell_type": "code",
   "execution_count": 13,
   "metadata": {},
   "outputs": [
    {
     "data": {
      "text/html": [
       "<div>\n",
       "<style scoped>\n",
       "    .dataframe tbody tr th:only-of-type {\n",
       "        vertical-align: middle;\n",
       "    }\n",
       "\n",
       "    .dataframe tbody tr th {\n",
       "        vertical-align: top;\n",
       "    }\n",
       "\n",
       "    .dataframe thead th {\n",
       "        text-align: right;\n",
       "    }\n",
       "</style>\n",
       "<table border=\"1\" class=\"dataframe\">\n",
       "  <thead>\n",
       "    <tr style=\"text-align: right;\">\n",
       "      <th></th>\n",
       "      <th>CreditScore</th>\n",
       "      <th>Age</th>\n",
       "      <th>Tenure</th>\n",
       "      <th>Balance</th>\n",
       "      <th>NumOfProducts</th>\n",
       "      <th>HasCrCard</th>\n",
       "      <th>IsActiveMember</th>\n",
       "      <th>EstimatedSalary</th>\n",
       "      <th>Exited</th>\n",
       "      <th>Geography_Germany</th>\n",
       "      <th>Geography_Spain</th>\n",
       "      <th>Gender_Male</th>\n",
       "    </tr>\n",
       "  </thead>\n",
       "  <tbody>\n",
       "    <tr>\n",
       "      <td>0</td>\n",
       "      <td>619</td>\n",
       "      <td>42</td>\n",
       "      <td>2.0</td>\n",
       "      <td>0.00</td>\n",
       "      <td>1</td>\n",
       "      <td>1</td>\n",
       "      <td>1</td>\n",
       "      <td>101348.88</td>\n",
       "      <td>1</td>\n",
       "      <td>0</td>\n",
       "      <td>0</td>\n",
       "      <td>0</td>\n",
       "    </tr>\n",
       "    <tr>\n",
       "      <td>1</td>\n",
       "      <td>608</td>\n",
       "      <td>41</td>\n",
       "      <td>1.0</td>\n",
       "      <td>83807.86</td>\n",
       "      <td>1</td>\n",
       "      <td>0</td>\n",
       "      <td>1</td>\n",
       "      <td>112542.58</td>\n",
       "      <td>0</td>\n",
       "      <td>0</td>\n",
       "      <td>1</td>\n",
       "      <td>0</td>\n",
       "    </tr>\n",
       "    <tr>\n",
       "      <td>2</td>\n",
       "      <td>502</td>\n",
       "      <td>42</td>\n",
       "      <td>8.0</td>\n",
       "      <td>159660.80</td>\n",
       "      <td>3</td>\n",
       "      <td>1</td>\n",
       "      <td>0</td>\n",
       "      <td>113931.57</td>\n",
       "      <td>1</td>\n",
       "      <td>0</td>\n",
       "      <td>0</td>\n",
       "      <td>0</td>\n",
       "    </tr>\n",
       "    <tr>\n",
       "      <td>3</td>\n",
       "      <td>699</td>\n",
       "      <td>39</td>\n",
       "      <td>1.0</td>\n",
       "      <td>0.00</td>\n",
       "      <td>2</td>\n",
       "      <td>0</td>\n",
       "      <td>0</td>\n",
       "      <td>93826.63</td>\n",
       "      <td>0</td>\n",
       "      <td>0</td>\n",
       "      <td>0</td>\n",
       "      <td>0</td>\n",
       "    </tr>\n",
       "    <tr>\n",
       "      <td>4</td>\n",
       "      <td>850</td>\n",
       "      <td>43</td>\n",
       "      <td>2.0</td>\n",
       "      <td>125510.82</td>\n",
       "      <td>1</td>\n",
       "      <td>1</td>\n",
       "      <td>1</td>\n",
       "      <td>79084.10</td>\n",
       "      <td>0</td>\n",
       "      <td>0</td>\n",
       "      <td>1</td>\n",
       "      <td>0</td>\n",
       "    </tr>\n",
       "  </tbody>\n",
       "</table>\n",
       "</div>"
      ],
      "text/plain": [
       "   CreditScore  Age  Tenure    Balance  NumOfProducts  HasCrCard  \\\n",
       "0          619   42     2.0       0.00              1          1   \n",
       "1          608   41     1.0   83807.86              1          0   \n",
       "2          502   42     8.0  159660.80              3          1   \n",
       "3          699   39     1.0       0.00              2          0   \n",
       "4          850   43     2.0  125510.82              1          1   \n",
       "\n",
       "   IsActiveMember  EstimatedSalary  Exited  Geography_Germany  \\\n",
       "0               1        101348.88       1                  0   \n",
       "1               1        112542.58       0                  0   \n",
       "2               0        113931.57       1                  0   \n",
       "3               0         93826.63       0                  0   \n",
       "4               1         79084.10       0                  0   \n",
       "\n",
       "   Geography_Spain  Gender_Male  \n",
       "0                0            0  \n",
       "1                1            0  \n",
       "2                0            0  \n",
       "3                0            0  \n",
       "4                1            0  "
      ]
     },
     "execution_count": 13,
     "metadata": {},
     "output_type": "execute_result"
    }
   ],
   "source": [
    "data_ml.head()"
   ]
  },
  {
   "cell_type": "code",
   "execution_count": 14,
   "metadata": {},
   "outputs": [
    {
     "name": "stdout",
     "output_type": "stream",
     "text": [
      "<class 'pandas.core.frame.DataFrame'>\n",
      "RangeIndex: 10000 entries, 0 to 9999\n",
      "Data columns (total 12 columns):\n",
      "CreditScore          10000 non-null int64\n",
      "Age                  10000 non-null int64\n",
      "Tenure               10000 non-null float64\n",
      "Balance              10000 non-null float64\n",
      "NumOfProducts        10000 non-null int64\n",
      "HasCrCard            10000 non-null int64\n",
      "IsActiveMember       10000 non-null int64\n",
      "EstimatedSalary      10000 non-null float64\n",
      "Exited               10000 non-null int64\n",
      "Geography_Germany    10000 non-null uint8\n",
      "Geography_Spain      10000 non-null uint8\n",
      "Gender_Male          10000 non-null uint8\n",
      "dtypes: float64(3), int64(6), uint8(3)\n",
      "memory usage: 732.5 KB\n"
     ]
    }
   ],
   "source": [
    "data_ml.info()"
   ]
  },
  {
   "cell_type": "markdown",
   "metadata": {},
   "source": [
    "В результате прямого кодирования:\n",
    "\n",
    "- столбец 'Geography' (который содержал 3 класса - Франция, Германия, Испания) преобразовался на 2 столбца с 2 дамми признакми, \n",
    "\n",
    "- столбец 'Gender' (который 2 класса — male и female) преобразовался в 1 столбец с Gender_Male. "
   ]
  },
  {
   "cell_type": "markdown",
   "metadata": {},
   "source": [
    "#### Выделение цели и признаков, формирование выборок (обучающей, валидвционной и тестовой) #### \n",
    "\n",
    "Выделю целевой признак (столбец 'Exited' — факт ухода клиента) и сохраню в переменную target.\n",
    "\n",
    "Остальные признаки сохраню в переменную features"
   ]
  },
  {
   "cell_type": "code",
   "execution_count": 15,
   "metadata": {},
   "outputs": [],
   "source": [
    "target = data_ml['Exited']"
   ]
  },
  {
   "cell_type": "code",
   "execution_count": 16,
   "metadata": {},
   "outputs": [],
   "source": [
    "features = data_ml.drop(['Exited'], axis = 1)"
   ]
  },
  {
   "cell_type": "markdown",
   "metadata": {},
   "source": [
    "Разделю данные на 3 выборки: обучающую (60%), тестовую (20%), валидационную (20%).\n",
    "\n",
    "Создам переменные: train_features и train_target, test_features и test_target, valid_features и valid_target.\n",
    "\n",
    "Для этого сначала разобью данные на обучающую выборку (60%) и тестовую выборку (40%), затем тестовую выборку разделю пополам на тестовую и валидационные выборки"
   ]
  },
  {
   "cell_type": "code",
   "execution_count": 17,
   "metadata": {},
   "outputs": [],
   "source": [
    "train_features, test_features, train_target, test_target = train_test_split(features, \n",
    "                                                                            target, \n",
    "                                                                            test_size = 0.4, \n",
    "                                                                            random_state = 12345)"
   ]
  },
  {
   "cell_type": "code",
   "execution_count": 18,
   "metadata": {},
   "outputs": [],
   "source": [
    "test_features, valid_features, test_target, valid_target = train_test_split(test_features,\n",
    "                                                                           test_target,\n",
    "                                                                           test_size = 0.5,\n",
    "                                                                           random_state = 12345)"
   ]
  },
  {
   "cell_type": "markdown",
   "metadata": {},
   "source": [
    "Проверю размеры полученныъх таблиц"
   ]
  },
  {
   "cell_type": "code",
   "execution_count": 19,
   "metadata": {},
   "outputs": [
    {
     "data": {
      "text/plain": [
       "(6000, 11)"
      ]
     },
     "execution_count": 19,
     "metadata": {},
     "output_type": "execute_result"
    }
   ],
   "source": [
    "train_features.shape"
   ]
  },
  {
   "cell_type": "code",
   "execution_count": 20,
   "metadata": {},
   "outputs": [
    {
     "data": {
      "text/plain": [
       "(6000,)"
      ]
     },
     "execution_count": 20,
     "metadata": {},
     "output_type": "execute_result"
    }
   ],
   "source": [
    "train_target.shape"
   ]
  },
  {
   "cell_type": "code",
   "execution_count": 21,
   "metadata": {},
   "outputs": [
    {
     "data": {
      "text/plain": [
       "(2000, 11)"
      ]
     },
     "execution_count": 21,
     "metadata": {},
     "output_type": "execute_result"
    }
   ],
   "source": [
    "valid_features.shape"
   ]
  },
  {
   "cell_type": "code",
   "execution_count": 22,
   "metadata": {},
   "outputs": [
    {
     "data": {
      "text/plain": [
       "(2000,)"
      ]
     },
     "execution_count": 22,
     "metadata": {},
     "output_type": "execute_result"
    }
   ],
   "source": [
    "valid_target.shape"
   ]
  },
  {
   "cell_type": "code",
   "execution_count": 23,
   "metadata": {},
   "outputs": [
    {
     "data": {
      "text/plain": [
       "(2000, 11)"
      ]
     },
     "execution_count": 23,
     "metadata": {},
     "output_type": "execute_result"
    }
   ],
   "source": [
    "test_features.shape"
   ]
  },
  {
   "cell_type": "code",
   "execution_count": 24,
   "metadata": {},
   "outputs": [
    {
     "data": {
      "text/plain": [
       "(2000,)"
      ]
     },
     "execution_count": 24,
     "metadata": {},
     "output_type": "execute_result"
    }
   ],
   "source": [
    "test_target.shape"
   ]
  },
  {
   "cell_type": "markdown",
   "metadata": {},
   "source": [
    "Разбивка выборок произвелась корректно:\n",
    "\n",
    "- в обучающей выборке 6 000 объектов с данными;\n",
    "\n",
    "- в тестовой и валидационной выборках по 2 000 объекта с данными\n",
    "\n",
    "\n",
    "#### Масштабирование признаков ####\n",
    "\n",
    "В данных есть численные признаки с разным разбросом значений. \n",
    "\n",
    "Выведу таблицу с признаками в обучающей выборке, чтобы определить список столбцов, значения в которых нужно стандартизировать, чтобы избежать проблем с тем, что алгоритм какие-то данные посчитает более важными.\n",
    "\n",
    "В переменной numeric сохраню список признаков, которые нужно массштабировать (бинарные признаки масштабировать не буду).\n",
    "\n",
    "Для масштабрования применю StandardScaler из модуля sklearn.preprocessing"
   ]
  },
  {
   "cell_type": "code",
   "execution_count": 25,
   "metadata": {},
   "outputs": [
    {
     "data": {
      "text/html": [
       "<div>\n",
       "<style scoped>\n",
       "    .dataframe tbody tr th:only-of-type {\n",
       "        vertical-align: middle;\n",
       "    }\n",
       "\n",
       "    .dataframe tbody tr th {\n",
       "        vertical-align: top;\n",
       "    }\n",
       "\n",
       "    .dataframe thead th {\n",
       "        text-align: right;\n",
       "    }\n",
       "</style>\n",
       "<table border=\"1\" class=\"dataframe\">\n",
       "  <thead>\n",
       "    <tr style=\"text-align: right;\">\n",
       "      <th></th>\n",
       "      <th>CreditScore</th>\n",
       "      <th>Age</th>\n",
       "      <th>Tenure</th>\n",
       "      <th>Balance</th>\n",
       "      <th>NumOfProducts</th>\n",
       "      <th>HasCrCard</th>\n",
       "      <th>IsActiveMember</th>\n",
       "      <th>EstimatedSalary</th>\n",
       "      <th>Geography_Germany</th>\n",
       "      <th>Geography_Spain</th>\n",
       "      <th>Gender_Male</th>\n",
       "    </tr>\n",
       "  </thead>\n",
       "  <tbody>\n",
       "    <tr>\n",
       "      <td>7479</td>\n",
       "      <td>567</td>\n",
       "      <td>35</td>\n",
       "      <td>8.0</td>\n",
       "      <td>153137.74</td>\n",
       "      <td>1</td>\n",
       "      <td>1</td>\n",
       "      <td>0</td>\n",
       "      <td>88659.07</td>\n",
       "      <td>0</td>\n",
       "      <td>1</td>\n",
       "      <td>1</td>\n",
       "    </tr>\n",
       "    <tr>\n",
       "      <td>3411</td>\n",
       "      <td>711</td>\n",
       "      <td>37</td>\n",
       "      <td>8.0</td>\n",
       "      <td>113899.92</td>\n",
       "      <td>1</td>\n",
       "      <td>0</td>\n",
       "      <td>0</td>\n",
       "      <td>80215.20</td>\n",
       "      <td>0</td>\n",
       "      <td>0</td>\n",
       "      <td>0</td>\n",
       "    </tr>\n",
       "    <tr>\n",
       "      <td>6027</td>\n",
       "      <td>850</td>\n",
       "      <td>44</td>\n",
       "      <td>3.0</td>\n",
       "      <td>140393.65</td>\n",
       "      <td>2</td>\n",
       "      <td>0</td>\n",
       "      <td>1</td>\n",
       "      <td>186285.52</td>\n",
       "      <td>1</td>\n",
       "      <td>0</td>\n",
       "      <td>1</td>\n",
       "    </tr>\n",
       "    <tr>\n",
       "      <td>1247</td>\n",
       "      <td>512</td>\n",
       "      <td>24</td>\n",
       "      <td>6.0</td>\n",
       "      <td>0.00</td>\n",
       "      <td>2</td>\n",
       "      <td>1</td>\n",
       "      <td>0</td>\n",
       "      <td>37654.31</td>\n",
       "      <td>0</td>\n",
       "      <td>0</td>\n",
       "      <td>1</td>\n",
       "    </tr>\n",
       "    <tr>\n",
       "      <td>3716</td>\n",
       "      <td>665</td>\n",
       "      <td>27</td>\n",
       "      <td>2.0</td>\n",
       "      <td>147435.96</td>\n",
       "      <td>1</td>\n",
       "      <td>0</td>\n",
       "      <td>0</td>\n",
       "      <td>187508.06</td>\n",
       "      <td>1</td>\n",
       "      <td>0</td>\n",
       "      <td>0</td>\n",
       "    </tr>\n",
       "  </tbody>\n",
       "</table>\n",
       "</div>"
      ],
      "text/plain": [
       "      CreditScore  Age  Tenure    Balance  NumOfProducts  HasCrCard  \\\n",
       "7479          567   35     8.0  153137.74              1          1   \n",
       "3411          711   37     8.0  113899.92              1          0   \n",
       "6027          850   44     3.0  140393.65              2          0   \n",
       "1247          512   24     6.0       0.00              2          1   \n",
       "3716          665   27     2.0  147435.96              1          0   \n",
       "\n",
       "      IsActiveMember  EstimatedSalary  Geography_Germany  Geography_Spain  \\\n",
       "7479               0         88659.07                  0                1   \n",
       "3411               0         80215.20                  0                0   \n",
       "6027               1        186285.52                  1                0   \n",
       "1247               0         37654.31                  0                0   \n",
       "3716               0        187508.06                  1                0   \n",
       "\n",
       "      Gender_Male  \n",
       "7479            1  \n",
       "3411            0  \n",
       "6027            1  \n",
       "1247            1  \n",
       "3716            0  "
      ]
     },
     "execution_count": 25,
     "metadata": {},
     "output_type": "execute_result"
    }
   ],
   "source": [
    "train_features.head()"
   ]
  },
  {
   "cell_type": "code",
   "execution_count": 26,
   "metadata": {},
   "outputs": [],
   "source": [
    "numeric = ['CreditScore', 'Age', 'Tenure', 'Balance', 'NumOfProducts', 'EstimatedSalary']"
   ]
  },
  {
   "cell_type": "code",
   "execution_count": 27,
   "metadata": {},
   "outputs": [
    {
     "data": {
      "text/plain": [
       "StandardScaler(copy=True, with_mean=True, with_std=True)"
      ]
     },
     "execution_count": 27,
     "metadata": {},
     "output_type": "execute_result"
    }
   ],
   "source": [
    "scaler = StandardScaler()\n",
    "scaler.fit(train_features[numeric])"
   ]
  },
  {
   "cell_type": "markdown",
   "metadata": {},
   "source": [
    "Масштабирую численные признаки в обучающей, валидационной и тестовой выборках"
   ]
  },
  {
   "cell_type": "code",
   "execution_count": 28,
   "metadata": {},
   "outputs": [],
   "source": [
    "pd.options.mode.chained_assignment = None\n",
    "train_features[numeric] = scaler.transform(train_features[numeric])"
   ]
  },
  {
   "cell_type": "code",
   "execution_count": 29,
   "metadata": {},
   "outputs": [
    {
     "data": {
      "text/html": [
       "<div>\n",
       "<style scoped>\n",
       "    .dataframe tbody tr th:only-of-type {\n",
       "        vertical-align: middle;\n",
       "    }\n",
       "\n",
       "    .dataframe tbody tr th {\n",
       "        vertical-align: top;\n",
       "    }\n",
       "\n",
       "    .dataframe thead th {\n",
       "        text-align: right;\n",
       "    }\n",
       "</style>\n",
       "<table border=\"1\" class=\"dataframe\">\n",
       "  <thead>\n",
       "    <tr style=\"text-align: right;\">\n",
       "      <th></th>\n",
       "      <th>CreditScore</th>\n",
       "      <th>Age</th>\n",
       "      <th>Tenure</th>\n",
       "      <th>Balance</th>\n",
       "      <th>NumOfProducts</th>\n",
       "      <th>HasCrCard</th>\n",
       "      <th>IsActiveMember</th>\n",
       "      <th>EstimatedSalary</th>\n",
       "      <th>Geography_Germany</th>\n",
       "      <th>Geography_Spain</th>\n",
       "      <th>Gender_Male</th>\n",
       "    </tr>\n",
       "  </thead>\n",
       "  <tbody>\n",
       "    <tr>\n",
       "      <td>7479</td>\n",
       "      <td>-0.886751</td>\n",
       "      <td>-0.373192</td>\n",
       "      <td>1.083651</td>\n",
       "      <td>1.232271</td>\n",
       "      <td>-0.891560</td>\n",
       "      <td>1</td>\n",
       "      <td>0</td>\n",
       "      <td>-0.187705</td>\n",
       "      <td>0</td>\n",
       "      <td>1</td>\n",
       "      <td>1</td>\n",
       "    </tr>\n",
       "    <tr>\n",
       "      <td>3411</td>\n",
       "      <td>0.608663</td>\n",
       "      <td>-0.183385</td>\n",
       "      <td>1.083651</td>\n",
       "      <td>0.600563</td>\n",
       "      <td>-0.891560</td>\n",
       "      <td>0</td>\n",
       "      <td>0</td>\n",
       "      <td>-0.333945</td>\n",
       "      <td>0</td>\n",
       "      <td>0</td>\n",
       "      <td>0</td>\n",
       "    </tr>\n",
       "    <tr>\n",
       "      <td>6027</td>\n",
       "      <td>2.052152</td>\n",
       "      <td>0.480939</td>\n",
       "      <td>-0.452862</td>\n",
       "      <td>1.027098</td>\n",
       "      <td>0.830152</td>\n",
       "      <td>0</td>\n",
       "      <td>1</td>\n",
       "      <td>1.503095</td>\n",
       "      <td>1</td>\n",
       "      <td>0</td>\n",
       "      <td>1</td>\n",
       "    </tr>\n",
       "    <tr>\n",
       "      <td>1247</td>\n",
       "      <td>-1.457915</td>\n",
       "      <td>-1.417129</td>\n",
       "      <td>0.469046</td>\n",
       "      <td>-1.233163</td>\n",
       "      <td>0.830152</td>\n",
       "      <td>1</td>\n",
       "      <td>0</td>\n",
       "      <td>-1.071061</td>\n",
       "      <td>0</td>\n",
       "      <td>0</td>\n",
       "      <td>1</td>\n",
       "    </tr>\n",
       "    <tr>\n",
       "      <td>3716</td>\n",
       "      <td>0.130961</td>\n",
       "      <td>-1.132419</td>\n",
       "      <td>-0.760164</td>\n",
       "      <td>1.140475</td>\n",
       "      <td>-0.891560</td>\n",
       "      <td>0</td>\n",
       "      <td>0</td>\n",
       "      <td>1.524268</td>\n",
       "      <td>1</td>\n",
       "      <td>0</td>\n",
       "      <td>0</td>\n",
       "    </tr>\n",
       "  </tbody>\n",
       "</table>\n",
       "</div>"
      ],
      "text/plain": [
       "      CreditScore       Age    Tenure   Balance  NumOfProducts  HasCrCard  \\\n",
       "7479    -0.886751 -0.373192  1.083651  1.232271      -0.891560          1   \n",
       "3411     0.608663 -0.183385  1.083651  0.600563      -0.891560          0   \n",
       "6027     2.052152  0.480939 -0.452862  1.027098       0.830152          0   \n",
       "1247    -1.457915 -1.417129  0.469046 -1.233163       0.830152          1   \n",
       "3716     0.130961 -1.132419 -0.760164  1.140475      -0.891560          0   \n",
       "\n",
       "      IsActiveMember  EstimatedSalary  Geography_Germany  Geography_Spain  \\\n",
       "7479               0        -0.187705                  0                1   \n",
       "3411               0        -0.333945                  0                0   \n",
       "6027               1         1.503095                  1                0   \n",
       "1247               0        -1.071061                  0                0   \n",
       "3716               0         1.524268                  1                0   \n",
       "\n",
       "      Gender_Male  \n",
       "7479            1  \n",
       "3411            0  \n",
       "6027            1  \n",
       "1247            1  \n",
       "3716            0  "
      ]
     },
     "execution_count": 29,
     "metadata": {},
     "output_type": "execute_result"
    }
   ],
   "source": [
    "train_features.head()"
   ]
  },
  {
   "cell_type": "code",
   "execution_count": 30,
   "metadata": {},
   "outputs": [],
   "source": [
    "pd.options.mode.chained_assignment = None\n",
    "valid_features[numeric] = scaler.transform(valid_features[numeric])"
   ]
  },
  {
   "cell_type": "code",
   "execution_count": 31,
   "metadata": {},
   "outputs": [
    {
     "data": {
      "text/html": [
       "<div>\n",
       "<style scoped>\n",
       "    .dataframe tbody tr th:only-of-type {\n",
       "        vertical-align: middle;\n",
       "    }\n",
       "\n",
       "    .dataframe tbody tr th {\n",
       "        vertical-align: top;\n",
       "    }\n",
       "\n",
       "    .dataframe thead th {\n",
       "        text-align: right;\n",
       "    }\n",
       "</style>\n",
       "<table border=\"1\" class=\"dataframe\">\n",
       "  <thead>\n",
       "    <tr style=\"text-align: right;\">\n",
       "      <th></th>\n",
       "      <th>CreditScore</th>\n",
       "      <th>Age</th>\n",
       "      <th>Tenure</th>\n",
       "      <th>Balance</th>\n",
       "      <th>NumOfProducts</th>\n",
       "      <th>HasCrCard</th>\n",
       "      <th>IsActiveMember</th>\n",
       "      <th>EstimatedSalary</th>\n",
       "      <th>Geography_Germany</th>\n",
       "      <th>Geography_Spain</th>\n",
       "      <th>Gender_Male</th>\n",
       "    </tr>\n",
       "  </thead>\n",
       "  <tbody>\n",
       "    <tr>\n",
       "      <td>7041</td>\n",
       "      <td>-2.226392</td>\n",
       "      <td>-0.088482</td>\n",
       "      <td>-0.760164</td>\n",
       "      <td>-1.233163</td>\n",
       "      <td>0.830152</td>\n",
       "      <td>1</td>\n",
       "      <td>0</td>\n",
       "      <td>0.647083</td>\n",
       "      <td>0</td>\n",
       "      <td>0</td>\n",
       "      <td>1</td>\n",
       "    </tr>\n",
       "    <tr>\n",
       "      <td>5709</td>\n",
       "      <td>-0.087120</td>\n",
       "      <td>0.006422</td>\n",
       "      <td>1.390954</td>\n",
       "      <td>-1.233163</td>\n",
       "      <td>-0.891560</td>\n",
       "      <td>1</td>\n",
       "      <td>0</td>\n",
       "      <td>-1.658410</td>\n",
       "      <td>0</td>\n",
       "      <td>0</td>\n",
       "      <td>0</td>\n",
       "    </tr>\n",
       "    <tr>\n",
       "      <td>7117</td>\n",
       "      <td>-0.917905</td>\n",
       "      <td>-0.752805</td>\n",
       "      <td>0.161744</td>\n",
       "      <td>0.722307</td>\n",
       "      <td>-0.891560</td>\n",
       "      <td>1</td>\n",
       "      <td>1</td>\n",
       "      <td>-1.369334</td>\n",
       "      <td>0</td>\n",
       "      <td>1</td>\n",
       "      <td>1</td>\n",
       "    </tr>\n",
       "    <tr>\n",
       "      <td>7775</td>\n",
       "      <td>-0.253277</td>\n",
       "      <td>0.101325</td>\n",
       "      <td>1.698257</td>\n",
       "      <td>-1.233163</td>\n",
       "      <td>0.830152</td>\n",
       "      <td>1</td>\n",
       "      <td>0</td>\n",
       "      <td>0.075086</td>\n",
       "      <td>0</td>\n",
       "      <td>1</td>\n",
       "      <td>1</td>\n",
       "    </tr>\n",
       "    <tr>\n",
       "      <td>8735</td>\n",
       "      <td>0.785204</td>\n",
       "      <td>-0.847708</td>\n",
       "      <td>1.698257</td>\n",
       "      <td>0.615625</td>\n",
       "      <td>-0.891560</td>\n",
       "      <td>0</td>\n",
       "      <td>1</td>\n",
       "      <td>-1.070919</td>\n",
       "      <td>0</td>\n",
       "      <td>0</td>\n",
       "      <td>1</td>\n",
       "    </tr>\n",
       "  </tbody>\n",
       "</table>\n",
       "</div>"
      ],
      "text/plain": [
       "      CreditScore       Age    Tenure   Balance  NumOfProducts  HasCrCard  \\\n",
       "7041    -2.226392 -0.088482 -0.760164 -1.233163       0.830152          1   \n",
       "5709    -0.087120  0.006422  1.390954 -1.233163      -0.891560          1   \n",
       "7117    -0.917905 -0.752805  0.161744  0.722307      -0.891560          1   \n",
       "7775    -0.253277  0.101325  1.698257 -1.233163       0.830152          1   \n",
       "8735     0.785204 -0.847708  1.698257  0.615625      -0.891560          0   \n",
       "\n",
       "      IsActiveMember  EstimatedSalary  Geography_Germany  Geography_Spain  \\\n",
       "7041               0         0.647083                  0                0   \n",
       "5709               0        -1.658410                  0                0   \n",
       "7117               1        -1.369334                  0                1   \n",
       "7775               0         0.075086                  0                1   \n",
       "8735               1        -1.070919                  0                0   \n",
       "\n",
       "      Gender_Male  \n",
       "7041            1  \n",
       "5709            0  \n",
       "7117            1  \n",
       "7775            1  \n",
       "8735            1  "
      ]
     },
     "execution_count": 31,
     "metadata": {},
     "output_type": "execute_result"
    }
   ],
   "source": [
    "valid_features.head()"
   ]
  },
  {
   "cell_type": "code",
   "execution_count": 32,
   "metadata": {},
   "outputs": [],
   "source": [
    "pd.options.mode.chained_assignment = None\n",
    "test_features[numeric] = scaler.transform(test_features[numeric])"
   ]
  },
  {
   "cell_type": "code",
   "execution_count": 33,
   "metadata": {},
   "outputs": [
    {
     "data": {
      "text/html": [
       "<div>\n",
       "<style scoped>\n",
       "    .dataframe tbody tr th:only-of-type {\n",
       "        vertical-align: middle;\n",
       "    }\n",
       "\n",
       "    .dataframe tbody tr th {\n",
       "        vertical-align: top;\n",
       "    }\n",
       "\n",
       "    .dataframe thead th {\n",
       "        text-align: right;\n",
       "    }\n",
       "</style>\n",
       "<table border=\"1\" class=\"dataframe\">\n",
       "  <thead>\n",
       "    <tr style=\"text-align: right;\">\n",
       "      <th></th>\n",
       "      <th>CreditScore</th>\n",
       "      <th>Age</th>\n",
       "      <th>Tenure</th>\n",
       "      <th>Balance</th>\n",
       "      <th>NumOfProducts</th>\n",
       "      <th>HasCrCard</th>\n",
       "      <th>IsActiveMember</th>\n",
       "      <th>EstimatedSalary</th>\n",
       "      <th>Geography_Germany</th>\n",
       "      <th>Geography_Spain</th>\n",
       "      <th>Gender_Male</th>\n",
       "    </tr>\n",
       "  </thead>\n",
       "  <tbody>\n",
       "    <tr>\n",
       "      <td>8532</td>\n",
       "      <td>-0.699824</td>\n",
       "      <td>-0.373192</td>\n",
       "      <td>-0.760164</td>\n",
       "      <td>-1.233163</td>\n",
       "      <td>0.830152</td>\n",
       "      <td>1</td>\n",
       "      <td>0</td>\n",
       "      <td>-0.015173</td>\n",
       "      <td>0</td>\n",
       "      <td>0</td>\n",
       "      <td>0</td>\n",
       "    </tr>\n",
       "    <tr>\n",
       "      <td>5799</td>\n",
       "      <td>-0.284431</td>\n",
       "      <td>0.575842</td>\n",
       "      <td>-0.452862</td>\n",
       "      <td>-1.233163</td>\n",
       "      <td>-0.891560</td>\n",
       "      <td>1</td>\n",
       "      <td>1</td>\n",
       "      <td>1.471724</td>\n",
       "      <td>0</td>\n",
       "      <td>0</td>\n",
       "      <td>0</td>\n",
       "    </tr>\n",
       "    <tr>\n",
       "      <td>5511</td>\n",
       "      <td>0.151731</td>\n",
       "      <td>-0.657902</td>\n",
       "      <td>-1.374769</td>\n",
       "      <td>0.438711</td>\n",
       "      <td>-0.891560</td>\n",
       "      <td>1</td>\n",
       "      <td>0</td>\n",
       "      <td>-1.367107</td>\n",
       "      <td>1</td>\n",
       "      <td>0</td>\n",
       "      <td>1</td>\n",
       "    </tr>\n",
       "    <tr>\n",
       "      <td>7365</td>\n",
       "      <td>-0.876366</td>\n",
       "      <td>-0.278288</td>\n",
       "      <td>1.698257</td>\n",
       "      <td>1.239884</td>\n",
       "      <td>-0.891560</td>\n",
       "      <td>1</td>\n",
       "      <td>1</td>\n",
       "      <td>-0.786517</td>\n",
       "      <td>0</td>\n",
       "      <td>1</td>\n",
       "      <td>0</td>\n",
       "    </tr>\n",
       "    <tr>\n",
       "      <td>7367</td>\n",
       "      <td>-0.481743</td>\n",
       "      <td>0.291132</td>\n",
       "      <td>1.698257</td>\n",
       "      <td>-1.233163</td>\n",
       "      <td>0.830152</td>\n",
       "      <td>1</td>\n",
       "      <td>0</td>\n",
       "      <td>1.358533</td>\n",
       "      <td>0</td>\n",
       "      <td>1</td>\n",
       "      <td>1</td>\n",
       "    </tr>\n",
       "  </tbody>\n",
       "</table>\n",
       "</div>"
      ],
      "text/plain": [
       "      CreditScore       Age    Tenure   Balance  NumOfProducts  HasCrCard  \\\n",
       "8532    -0.699824 -0.373192 -0.760164 -1.233163       0.830152          1   \n",
       "5799    -0.284431  0.575842 -0.452862 -1.233163      -0.891560          1   \n",
       "5511     0.151731 -0.657902 -1.374769  0.438711      -0.891560          1   \n",
       "7365    -0.876366 -0.278288  1.698257  1.239884      -0.891560          1   \n",
       "7367    -0.481743  0.291132  1.698257 -1.233163       0.830152          1   \n",
       "\n",
       "      IsActiveMember  EstimatedSalary  Geography_Germany  Geography_Spain  \\\n",
       "8532               0        -0.015173                  0                0   \n",
       "5799               1         1.471724                  0                0   \n",
       "5511               0        -1.367107                  1                0   \n",
       "7365               1        -0.786517                  0                1   \n",
       "7367               0         1.358533                  0                1   \n",
       "\n",
       "      Gender_Male  \n",
       "8532            0  \n",
       "5799            0  \n",
       "5511            1  \n",
       "7365            0  \n",
       "7367            1  "
      ]
     },
     "execution_count": 33,
     "metadata": {},
     "output_type": "execute_result"
    }
   ],
   "source": [
    "test_features.head()"
   ]
  },
  {
   "cell_type": "markdown",
   "metadata": {},
   "source": [
    "Масштабирование произошло удачно. "
   ]
  },
  {
   "cell_type": "markdown",
   "metadata": {},
   "source": [
    "## Исследование задачи"
   ]
  },
  {
   "cell_type": "markdown",
   "metadata": {},
   "source": [
    "### Изучение моделей без учёта дисбаланса классов ###"
   ]
  },
  {
   "cell_type": "markdown",
   "metadata": {},
   "source": [
    "Обучу 3 модели (решающее дерево, случайный лес и логистическую регрессию) и посчитаю метрику accuracy и F1"
   ]
  },
  {
   "cell_type": "markdown",
   "metadata": {},
   "source": [
    "**Решающее дерево**"
   ]
  },
  {
   "cell_type": "code",
   "execution_count": 34,
   "metadata": {},
   "outputs": [
    {
     "name": "stdout",
     "output_type": "stream",
     "text": [
      "CPU times: user 109 ms, sys: 1.32 ms, total: 111 ms\n",
      "Wall time: 110 ms\n"
     ]
    }
   ],
   "source": [
    "%%time\n",
    "best_model_dt = None\n",
    "best_accuracy_dt = 0 \n",
    "best_depth_dt = 0\n",
    "for depth in range(1,11):\n",
    "    model_dt = DecisionTreeClassifier(random_state = 12345, max_depth = depth)\n",
    "    model_dt.fit(train_features, train_target)\n",
    "    predicted_valid_dt = pd.Series(model_dt.predict(valid_features))\n",
    "    accuracy_dt = model_dt.score(valid_features, valid_target)\n",
    "    if accuracy_dt > best_accuracy_dt:\n",
    "        best_model_dt = model_dt\n",
    "        best_accuracy_dt = accuracy_dt\n",
    "        best_depth_dt = depth"
   ]
  },
  {
   "cell_type": "code",
   "execution_count": 35,
   "metadata": {},
   "outputs": [],
   "source": [
    "f1_dt = f1_score(valid_target, predicted_valid_dt)"
   ]
  },
  {
   "cell_type": "code",
   "execution_count": 36,
   "metadata": {},
   "outputs": [
    {
     "name": "stdout",
     "output_type": "stream",
     "text": [
      "Решающее дерево: accuracy 0.848 при глубине дерева 6 , F1 0.5144508670520231\n"
     ]
    }
   ],
   "source": [
    "print('Решающее дерево: accuracy', best_accuracy_dt, 'при глубине дерева', best_depth_dt, ', F1', f1_dt)"
   ]
  },
  {
   "cell_type": "markdown",
   "metadata": {},
   "source": [
    "**Случайный лес**"
   ]
  },
  {
   "cell_type": "code",
   "execution_count": 37,
   "metadata": {},
   "outputs": [
    {
     "name": "stdout",
     "output_type": "stream",
     "text": [
      "CPU times: user 22.6 s, sys: 69.5 ms, total: 22.7 s\n",
      "Wall time: 22.7 s\n"
     ]
    }
   ],
   "source": [
    "%%time\n",
    "best_model_rf = None\n",
    "best_accuracy_rf = 0\n",
    "best_est_rf = 0\n",
    "best_depth_rf = 0\n",
    "for est in range(10, 301, 50):\n",
    "    for depth in range(1, 11):\n",
    "        model_rf = RandomForestClassifier(random_state = 12345, n_estimators = est, max_depth = depth)\n",
    "        model_rf.fit(train_features, train_target)\n",
    "        predicted_valid_rf = pd.Series(model_rf.predict(valid_features))\n",
    "        accuracy_rf = model_rf.score(valid_features, valid_target)\n",
    "        if accuracy_rf > best_accuracy_rf:\n",
    "            best_model_rf = model_rf\n",
    "            best_accuracy_rf = accuracy_rf\n",
    "            best_est_rf = est\n",
    "            best_depth_rf = depth"
   ]
  },
  {
   "cell_type": "code",
   "execution_count": 38,
   "metadata": {},
   "outputs": [],
   "source": [
    "f1_rf = f1_score(valid_target, predicted_valid_rf)"
   ]
  },
  {
   "cell_type": "code",
   "execution_count": 39,
   "metadata": {},
   "outputs": [
    {
     "name": "stdout",
     "output_type": "stream",
     "text": [
      "Случайный лес: accuracy 0.846 с количеством деревьев 60 при глубине дерева 10 , F1 0.5202492211838007\n"
     ]
    }
   ],
   "source": [
    "print('Случайный лес: accuracy',  accuracy_rf, 'с количеством деревьев', best_est_rf, 'при глубине дерева', \n",
    "      best_depth_rf, ', F1', f1_rf)"
   ]
  },
  {
   "cell_type": "markdown",
   "metadata": {},
   "source": [
    "**Логистическая регрессия**"
   ]
  },
  {
   "cell_type": "code",
   "execution_count": 40,
   "metadata": {},
   "outputs": [
    {
     "name": "stdout",
     "output_type": "stream",
     "text": [
      "CPU times: user 22.1 ms, sys: 48.8 ms, total: 70.9 ms\n",
      "Wall time: 17.6 ms\n"
     ]
    }
   ],
   "source": [
    "%%time\n",
    "model_lr = LogisticRegression(random_state = 12345, solver = 'lbfgs', max_iter = 500)\n",
    "model_lr.fit(train_features, train_target)\n",
    "predicted_valid_lr = pd.Series(model_lr.predict(valid_features))\n",
    "accuracy_lr = model_lr.score(valid_features, valid_target)\n",
    "f1_lr = f1_score(valid_target, predicted_valid_lr)"
   ]
  },
  {
   "cell_type": "code",
   "execution_count": 41,
   "metadata": {},
   "outputs": [
    {
     "name": "stdout",
     "output_type": "stream",
     "text": [
      "Логистическая регерессия: accuracy 0.791 , F1 0.2743055555555555\n"
     ]
    }
   ],
   "source": [
    " print('Логистическая регерессия: accuracy', accuracy_lr, ', F1', f1_lr)"
   ]
  },
  {
   "cell_type": "markdown",
   "metadata": {},
   "source": [
    "Показатель Accuracy у трех моделей примерно одинаков, Логистическая регрессия отстает больше.\n",
    "\n",
    "Однако эта метрика не очень показательна, если есть дисбалансов классов. \n",
    "\n",
    "Метрика F1 немного выше 0.5 (кроме логистической регерессии), в целом это тоже свидететлствует о дисбалансе\n",
    "    \n",
    "Проверю это далее"
   ]
  },
  {
   "cell_type": "markdown",
   "metadata": {},
   "source": [
    "### Изучение баланса классов ###\n",
    "\n",
    "**Анализ частоты классов в целевом признаке**"
   ]
  },
  {
   "cell_type": "markdown",
   "metadata": {},
   "source": [
    "Подсчитаю с помощью value_counts() разброс классов, при этом частоты сделаю относительными"
   ]
  },
  {
   "cell_type": "code",
   "execution_count": 42,
   "metadata": {},
   "outputs": [
    {
     "data": {
      "text/plain": [
       "0    0.800667\n",
       "1    0.199333\n",
       "Name: Exited, dtype: float64"
      ]
     },
     "execution_count": 42,
     "metadata": {},
     "output_type": "execute_result"
    }
   ],
   "source": [
    "train_target.value_counts(normalize = 2/6000)"
   ]
  },
  {
   "cell_type": "code",
   "execution_count": 43,
   "metadata": {},
   "outputs": [
    {
     "data": {
      "text/plain": [
       "0    0.7885\n",
       "1    0.2115\n",
       "Name: Exited, dtype: float64"
      ]
     },
     "execution_count": 43,
     "metadata": {},
     "output_type": "execute_result"
    }
   ],
   "source": [
    "valid_target.value_counts(normalize = 2/2000)"
   ]
  },
  {
   "cell_type": "markdown",
   "metadata": {},
   "source": [
    "В обоих выборках в целевом признаке есть дисбаланс. Отрицательный класс значительно перевешивает.\n",
    "\n",
    "С предсказанями дело скорее всего обстоит также\n",
    "\n",
    "**Анализ частоты классов в предсказаниях**"
   ]
  },
  {
   "cell_type": "code",
   "execution_count": 44,
   "metadata": {},
   "outputs": [
    {
     "data": {
      "text/plain": [
       "0    0.8655\n",
       "1    0.1345\n",
       "dtype: float64"
      ]
     },
     "execution_count": 44,
     "metadata": {},
     "output_type": "execute_result"
    }
   ],
   "source": [
    "predicted_valid_dt.value_counts(normalize = 2/2000)"
   ]
  },
  {
   "cell_type": "code",
   "execution_count": 45,
   "metadata": {},
   "outputs": [
    {
     "data": {
      "text/plain": [
       "0    0.8905\n",
       "1    0.1095\n",
       "dtype: float64"
      ]
     },
     "execution_count": 45,
     "metadata": {},
     "output_type": "execute_result"
    }
   ],
   "source": [
    "predicted_valid_rf.value_counts(normalize = 2/2000)"
   ]
  },
  {
   "cell_type": "code",
   "execution_count": 46,
   "metadata": {},
   "outputs": [
    {
     "data": {
      "text/plain": [
       "0    0.9235\n",
       "1    0.0765\n",
       "dtype: float64"
      ]
     },
     "execution_count": 46,
     "metadata": {},
     "output_type": "execute_result"
    }
   ],
   "source": [
    "predicted_valid_lr.value_counts(normalize = 2/2000)"
   ]
  },
  {
   "cell_type": "markdown",
   "metadata": {},
   "source": [
    "Действительно, в предсказаниях также есть  дисбаланс классов, особенно в модели логистической регрессии. \n",
    "\n",
    "Сравню предсказания с предсказаниями **константной модели**, в которой все ответы будут предсказываться с классом \"0\""
   ]
  },
  {
   "cell_type": "code",
   "execution_count": 47,
   "metadata": {},
   "outputs": [],
   "source": [
    "target_predicted_constant = pd.Series([0]*len(valid_target))\n",
    "accuracy_constant = accuracy_score(valid_target, target_predicted_constant)"
   ]
  },
  {
   "cell_type": "code",
   "execution_count": 48,
   "metadata": {},
   "outputs": [
    {
     "data": {
      "text/plain": [
       "0.7885"
      ]
     },
     "execution_count": 48,
     "metadata": {},
     "output_type": "execute_result"
    }
   ],
   "source": [
    "accuracy_constant"
   ]
  },
  {
   "cell_type": "markdown",
   "metadata": {},
   "source": [
    "В константной модели примерно все тоже. Явно есть дисбаланс классов.\n",
    "\n",
    "### Проверка адекватности ###\n",
    "\n",
    "#### Матрица ошибок для каждой модели ####\n",
    "\n",
    "**Решающее дерево**"
   ]
  },
  {
   "cell_type": "code",
   "execution_count": 49,
   "metadata": {},
   "outputs": [],
   "source": [
    "confusion_matrix_dt = confusion_matrix(valid_target, predicted_valid_dt)"
   ]
  },
  {
   "cell_type": "code",
   "execution_count": 50,
   "metadata": {},
   "outputs": [
    {
     "data": {
      "text/plain": [
       "array([[1486,   91],\n",
       "       [ 245,  178]])"
      ]
     },
     "execution_count": 50,
     "metadata": {},
     "output_type": "execute_result"
    }
   ],
   "source": [
    "confusion_matrix_dt"
   ]
  },
  {
   "cell_type": "markdown",
   "metadata": {},
   "source": [
    "Решающее дерево дает почти одинаково много ложно-отрицательных и ложно-положительных ответов\n",
    "\n",
    "**Случайный лес**"
   ]
  },
  {
   "cell_type": "code",
   "execution_count": 51,
   "metadata": {},
   "outputs": [],
   "source": [
    "confusion_matrix_rf = confusion_matrix(valid_target, predicted_valid_rf)"
   ]
  },
  {
   "cell_type": "code",
   "execution_count": 52,
   "metadata": {},
   "outputs": [
    {
     "data": {
      "text/plain": [
       "array([[1525,   52],\n",
       "       [ 256,  167]])"
      ]
     },
     "execution_count": 52,
     "metadata": {},
     "output_type": "execute_result"
    }
   ],
   "source": [
    "confusion_matrix_rf"
   ]
  },
  {
   "cell_type": "markdown",
   "metadata": {},
   "source": [
    "Случайный лес дает достачно много ложно-отрицательных ответов и мало ложно-положительных\n",
    "\n",
    "**Логистическая регрессия**"
   ]
  },
  {
   "cell_type": "code",
   "execution_count": 53,
   "metadata": {},
   "outputs": [],
   "source": [
    "confusion_matrix_lr = confusion_matrix(valid_target, predicted_valid_lr)"
   ]
  },
  {
   "cell_type": "code",
   "execution_count": 54,
   "metadata": {},
   "outputs": [
    {
     "data": {
      "text/plain": [
       "array([[1503,   74],\n",
       "       [ 344,   79]])"
      ]
     },
     "execution_count": 54,
     "metadata": {},
     "output_type": "execute_result"
    }
   ],
   "source": [
    "confusion_matrix_lr"
   ]
  },
  {
   "cell_type": "markdown",
   "metadata": {},
   "source": [
    "Логистическая регрессия дает очень много ложно-отрицательных ответов\n",
    "\n",
    "\n",
    "#### Проверка полноты (recall), точности (precision), F1- меры и AUC-ROC для каждой модели ####\n",
    "\n",
    "**Решающее дерево**"
   ]
  },
  {
   "cell_type": "code",
   "execution_count": 55,
   "metadata": {},
   "outputs": [
    {
     "name": "stdout",
     "output_type": "stream",
     "text": [
      "Полнота 0.42080378250591016\n"
     ]
    }
   ],
   "source": [
    "print('Полнота', recall_score(valid_target, predicted_valid_dt))"
   ]
  },
  {
   "cell_type": "code",
   "execution_count": 56,
   "metadata": {},
   "outputs": [
    {
     "name": "stdout",
     "output_type": "stream",
     "text": [
      "Точность 0.6617100371747212\n"
     ]
    }
   ],
   "source": [
    "print('Точность', precision_score(valid_target, predicted_valid_dt))"
   ]
  },
  {
   "cell_type": "code",
   "execution_count": 57,
   "metadata": {},
   "outputs": [
    {
     "name": "stdout",
     "output_type": "stream",
     "text": [
      "F1 0.5144508670520231\n"
     ]
    }
   ],
   "source": [
    "print('F1', f1_score(valid_target, predicted_valid_dt))"
   ]
  },
  {
   "cell_type": "code",
   "execution_count": 58,
   "metadata": {},
   "outputs": [],
   "source": [
    "probabilities_valid_dt = model_dt.predict_proba(valid_features)\n",
    "probabilities_one_valid_dt = probabilities_valid_dt[:, 1]\n",
    "auc_dt = roc_auc_score(valid_target, probabilities_one_valid_dt)"
   ]
  },
  {
   "cell_type": "code",
   "execution_count": 59,
   "metadata": {},
   "outputs": [
    {
     "name": "stdout",
     "output_type": "stream",
     "text": [
      "AUC-ROC 0.7630492106537385\n"
     ]
    }
   ],
   "source": [
    "print('AUC-ROC', auc_dt)"
   ]
  },
  {
   "cell_type": "markdown",
   "metadata": {},
   "source": [
    "**Взвешивание классов**\n",
    "\n",
    "Проверю как поведет себя модель, если я сбалансирую классы. Обучу модель, придав больший вес редкому классу"
   ]
  },
  {
   "cell_type": "code",
   "execution_count": 60,
   "metadata": {},
   "outputs": [
    {
     "name": "stdout",
     "output_type": "stream",
     "text": [
      "Accuracy: 0.7615\n"
     ]
    }
   ],
   "source": [
    "model_dt_balanced = DecisionTreeClassifier(random_state = 12345, max_depth = 6, class_weight = 'balanced')\n",
    "model_dt_balanced.fit(train_features, train_target)\n",
    "predicted_valid_dt_balanced = pd.Series(model_dt_balanced.predict(valid_features))\n",
    "print('Accuracy:', model_dt_balanced.score(valid_features, valid_target))"
   ]
  },
  {
   "cell_type": "code",
   "execution_count": 61,
   "metadata": {},
   "outputs": [
    {
     "name": "stdout",
     "output_type": "stream",
     "text": [
      "Полнота 0.7304964539007093\n"
     ]
    }
   ],
   "source": [
    "print('Полнота', recall_score(valid_target, predicted_valid_dt_balanced))"
   ]
  },
  {
   "cell_type": "code",
   "execution_count": 62,
   "metadata": {},
   "outputs": [
    {
     "name": "stdout",
     "output_type": "stream",
     "text": [
      "Точность 0.45982142857142855\n"
     ]
    }
   ],
   "source": [
    "print('Точность', precision_score(valid_target, predicted_valid_dt_balanced))"
   ]
  },
  {
   "cell_type": "code",
   "execution_count": 63,
   "metadata": {},
   "outputs": [
    {
     "name": "stdout",
     "output_type": "stream",
     "text": [
      "F1 0.5643835616438356\n"
     ]
    }
   ],
   "source": [
    "print('F1', f1_score(valid_target, predicted_valid_dt_balanced))"
   ]
  },
  {
   "cell_type": "code",
   "execution_count": 64,
   "metadata": {},
   "outputs": [
    {
     "name": "stdout",
     "output_type": "stream",
     "text": [
      "AUC-ROC 0.8194375111494879\n"
     ]
    }
   ],
   "source": [
    "probabilities_valid_dt_balanced = model_dt_balanced.predict_proba(valid_features)\n",
    "probabilities_one_valid_dt_balanced = probabilities_valid_dt_balanced[:, 1]\n",
    "print('AUC-ROC', roc_auc_score(valid_target, probabilities_one_valid_dt_balanced))"
   ]
  },
  {
   "cell_type": "markdown",
   "metadata": {},
   "source": [
    "Все метрики достаточно близки к 0, значит модель работает некачественно. Однако балансировка немного повысила F1  и AUC-ROC стремится к 1.\n",
    "\n",
    "Значит точно нужно работать с балансировкой классов\n",
    "\n",
    "**Случайный лес**"
   ]
  },
  {
   "cell_type": "code",
   "execution_count": 65,
   "metadata": {},
   "outputs": [
    {
     "name": "stdout",
     "output_type": "stream",
     "text": [
      "Полнота 0.3947990543735225\n"
     ]
    }
   ],
   "source": [
    "print('Полнота', recall_score(valid_target, predicted_valid_rf))"
   ]
  },
  {
   "cell_type": "code",
   "execution_count": 66,
   "metadata": {},
   "outputs": [
    {
     "name": "stdout",
     "output_type": "stream",
     "text": [
      "Точность 0.7625570776255708\n"
     ]
    }
   ],
   "source": [
    "print('Точность', precision_score(valid_target, predicted_valid_rf))"
   ]
  },
  {
   "cell_type": "code",
   "execution_count": 67,
   "metadata": {},
   "outputs": [
    {
     "name": "stdout",
     "output_type": "stream",
     "text": [
      "F1 0.5202492211838007\n"
     ]
    }
   ],
   "source": [
    "print('F1', f1_score(valid_target, predicted_valid_rf))"
   ]
  },
  {
   "cell_type": "code",
   "execution_count": 68,
   "metadata": {},
   "outputs": [],
   "source": [
    "probabilities_valid_rf = model_rf.predict_proba(valid_features)\n",
    "probabilities_one_valid_rf = probabilities_valid_rf[:, 1]\n",
    "auc_rf = roc_auc_score(valid_target, probabilities_one_valid_rf)"
   ]
  },
  {
   "cell_type": "code",
   "execution_count": 69,
   "metadata": {},
   "outputs": [
    {
     "name": "stdout",
     "output_type": "stream",
     "text": [
      "AUC-ROC 0.8593388110111219\n"
     ]
    }
   ],
   "source": [
    "print('AUC-ROC', auc_rf)"
   ]
  },
  {
   "cell_type": "markdown",
   "metadata": {},
   "source": [
    "**Взвешивание классов**\n",
    "\n",
    "Обучу модель, придав редкому классц больший вес и посмотрю как поменяются метрики качества"
   ]
  },
  {
   "cell_type": "code",
   "execution_count": 70,
   "metadata": {},
   "outputs": [
    {
     "name": "stdout",
     "output_type": "stream",
     "text": [
      "Accuracy: 0.831\n"
     ]
    }
   ],
   "source": [
    "model_rf_balanced = RandomForestClassifier(random_state = 12345, n_estimators = 60, max_depth = 10, \n",
    "                                           class_weight = 'balanced')\n",
    "model_rf_balanced.fit(train_features, train_target)\n",
    "predicted_valid_rf_balanced = pd.Series(model_rf_balanced.predict(valid_features))\n",
    "print('Accuracy:', model_rf_balanced.score(valid_features, valid_target))"
   ]
  },
  {
   "cell_type": "code",
   "execution_count": 71,
   "metadata": {},
   "outputs": [
    {
     "name": "stdout",
     "output_type": "stream",
     "text": [
      "Полнота 0.5981087470449172\n"
     ]
    }
   ],
   "source": [
    "print('Полнота', recall_score(valid_target, predicted_valid_rf_balanced))"
   ]
  },
  {
   "cell_type": "code",
   "execution_count": 72,
   "metadata": {},
   "outputs": [
    {
     "name": "stdout",
     "output_type": "stream",
     "text": [
      "Точность 0.6009501187648456\n"
     ]
    }
   ],
   "source": [
    "print('Точность', precision_score(valid_target, predicted_valid_rf_balanced))"
   ]
  },
  {
   "cell_type": "code",
   "execution_count": 73,
   "metadata": {},
   "outputs": [
    {
     "name": "stdout",
     "output_type": "stream",
     "text": [
      "F1 0.5995260663507108\n"
     ]
    }
   ],
   "source": [
    "print('F1', f1_score(valid_target, predicted_valid_rf_balanced))"
   ]
  },
  {
   "cell_type": "code",
   "execution_count": 74,
   "metadata": {},
   "outputs": [
    {
     "name": "stdout",
     "output_type": "stream",
     "text": [
      "AUC-ROC 0.8546856331634862\n"
     ]
    }
   ],
   "source": [
    "probabilities_valid_rf_balanced = model_rf_balanced.predict_proba(valid_features)\n",
    "probabilities_one_valid_rf_balanced = probabilities_valid_rf_balanced[:, 1]\n",
    "print('AUC-ROC', roc_auc_score(valid_target, probabilities_one_valid_rf_balanced))"
   ]
  },
  {
   "cell_type": "markdown",
   "metadata": {},
   "source": [
    "Опять же метрика F1 низкая, все говорит о плохой работе модели и дисбалансе классов. При балансировке классов, метрики F1 и AUC-ROC практически не изменились\n",
    "\n",
    "**Логистическая регрессия**"
   ]
  },
  {
   "cell_type": "code",
   "execution_count": 75,
   "metadata": {},
   "outputs": [
    {
     "name": "stdout",
     "output_type": "stream",
     "text": [
      "Полнота 0.1867612293144208\n"
     ]
    }
   ],
   "source": [
    "print('Полнота', recall_score(valid_target, predicted_valid_lr))"
   ]
  },
  {
   "cell_type": "code",
   "execution_count": 76,
   "metadata": {},
   "outputs": [
    {
     "name": "stdout",
     "output_type": "stream",
     "text": [
      "Точность 0.5163398692810458\n"
     ]
    }
   ],
   "source": [
    "print('Точность', precision_score(valid_target, predicted_valid_lr))"
   ]
  },
  {
   "cell_type": "code",
   "execution_count": 77,
   "metadata": {},
   "outputs": [
    {
     "name": "stdout",
     "output_type": "stream",
     "text": [
      "F1 0.2743055555555555\n"
     ]
    }
   ],
   "source": [
    "print('F1', f1_score(valid_target, predicted_valid_lr))"
   ]
  },
  {
   "cell_type": "code",
   "execution_count": 78,
   "metadata": {},
   "outputs": [],
   "source": [
    "probabilities_valid_lr = model_lr.predict_proba(valid_features)\n",
    "probabilities_one_valid_lr = probabilities_valid_lr[:, 1]\n",
    "auc_lr = roc_auc_score(valid_target, probabilities_one_valid_lr)"
   ]
  },
  {
   "cell_type": "code",
   "execution_count": 79,
   "metadata": {},
   "outputs": [
    {
     "name": "stdout",
     "output_type": "stream",
     "text": [
      "AUC-ROC 0.7387564442165826\n"
     ]
    }
   ],
   "source": [
    "print('AUC-ROC', auc_lr)"
   ]
  },
  {
   "cell_type": "markdown",
   "metadata": {},
   "source": [
    "Метрика F1 самая низкая среди всех моделей.\n",
    "\n",
    "Посмотрю еще ROC - кривую и сравню со случайной моделью"
   ]
  },
  {
   "cell_type": "code",
   "execution_count": 80,
   "metadata": {},
   "outputs": [
    {
     "data": {
      "image/png": "[encoded data removed]",
      "text/plain": [
       "<Figure size 432x288 with 1 Axes>"
      ]
     },
     "metadata": {
      "needs_background": "light"
     },
     "output_type": "display_data"
    }
   ],
   "source": [
    "fpr, tpr, thresholds = roc_curve(valid_target, probabilities_one_valid_lr)\n",
    "\n",
    "plt.figure()\n",
    "plt.plot(fpr, tpr)\n",
    "plt.plot([0, 1], [0, 1], linestyle='--')\n",
    "plt.xlim([0.0, 1.0])\n",
    "plt.ylim([0.0, 1.0])\n",
    "plt.xlabel('False Positive Rate')\n",
    "plt.ylabel('True Positive Rate')\n",
    "plt.title('ROC-кривая')\n",
    "plt.show()"
   ]
  },
  {
   "cell_type": "markdown",
   "metadata": {},
   "source": [
    "**Взвешивание классов**\n",
    "\n",
    "Обучу модель, придав редкому классу больший вес и сравню значения метрик"
   ]
  },
  {
   "cell_type": "code",
   "execution_count": 81,
   "metadata": {},
   "outputs": [
    {
     "name": "stdout",
     "output_type": "stream",
     "text": [
      "Accuracy: 0.698\n"
     ]
    }
   ],
   "source": [
    "model_lr_balanced = LogisticRegression(random_state = 12345, max_iter = 500, \n",
    "                                       solver='liblinear', class_weight = 'balanced')\n",
    "model_lr_balanced.fit(train_features, train_target)\n",
    "predicted_valid_lr_balanced = pd.Series(model_lr_balanced.predict(valid_features))\n",
    "print('Accuracy:', model_lr_balanced.score(valid_features, valid_target))"
   ]
  },
  {
   "cell_type": "code",
   "execution_count": 82,
   "metadata": {},
   "outputs": [
    {
     "name": "stdout",
     "output_type": "stream",
     "text": [
      "Полнота 0.6548463356973995\n"
     ]
    }
   ],
   "source": [
    "print('Полнота', recall_score(valid_target, predicted_valid_lr_balanced))"
   ]
  },
  {
   "cell_type": "code",
   "execution_count": 83,
   "metadata": {},
   "outputs": [
    {
     "name": "stdout",
     "output_type": "stream",
     "text": [
      "Точность 0.3768707482993197\n"
     ]
    }
   ],
   "source": [
    "print('Точность', precision_score(valid_target, predicted_valid_lr_balanced))"
   ]
  },
  {
   "cell_type": "code",
   "execution_count": 84,
   "metadata": {},
   "outputs": [
    {
     "name": "stdout",
     "output_type": "stream",
     "text": [
      "F1 0.4784110535405872\n"
     ]
    }
   ],
   "source": [
    "print('F1', f1_score(valid_target, predicted_valid_lr_balanced))"
   ]
  },
  {
   "cell_type": "code",
   "execution_count": 85,
   "metadata": {},
   "outputs": [
    {
     "name": "stdout",
     "output_type": "stream",
     "text": [
      "AUC-ROC 0.7417201467310076\n"
     ]
    }
   ],
   "source": [
    "probabilities_valid_lr_balanced = model_lr_balanced.predict_proba(valid_features)\n",
    "probabilities_one_valid_lr_balanced = probabilities_valid_lr_balanced[:, 1]\n",
    "print('AUC-ROC', roc_auc_score(valid_target, probabilities_one_valid_lr_balanced))"
   ]
  },
  {
   "cell_type": "code",
   "execution_count": 86,
   "metadata": {},
   "outputs": [
    {
     "data": {
      "image/png": "[encoded data removed]",
      "text/plain": [
       "<Figure size 432x288 with 1 Axes>"
      ]
     },
     "metadata": {
      "needs_background": "light"
     },
     "output_type": "display_data"
    }
   ],
   "source": [
    "fpr, tpr, thresholds = roc_curve(valid_target, probabilities_one_valid_lr_balanced)\n",
    "\n",
    "plt.figure()\n",
    "plt.plot(fpr, tpr)\n",
    "plt.plot([0, 1], [0, 1], linestyle='--')\n",
    "plt.xlim([0.0, 1.0])\n",
    "plt.ylim([0.0, 1.0])\n",
    "plt.xlabel('False Positive Rate')\n",
    "plt.ylabel('True Positive Rate')\n",
    "plt.title('ROC-кривая')\n",
    "plt.show()"
   ]
  },
  {
   "cell_type": "markdown",
   "metadata": {},
   "source": [
    "Балансировка увеличила F1 и AUC-ROC метрики"
   ]
  },
  {
   "cell_type": "markdown",
   "metadata": {},
   "source": [
    "### Вывод ###\n",
    "\n",
    "Для всех моделей метрики показали слабые результаты, что свидетельствует о дисбалансе классов, в предсказаниях виден явный перевес ложно-отрицательных ответов, но и сами выборки (что обучающая, что валидационная) имеют дисбаланс - отрицательных ответов очень много.\n",
    "\n",
    "Взвешивание классов немного помогло улучшить метрику F1.  \n",
    "\n",
    "Метрика AUC-ROC однако выше 0.5, особенно в модели случайного леса, что говорит о том, что модель в целом работает и ее можно улучшить.\n",
    "\n",
    "В целом пока наиболее близка к целевому значению метрики F1 (0.59) модель Случайный лес"
   ]
  },
  {
   "cell_type": "markdown",
   "metadata": {},
   "source": [
    "## Борьба с дисбалансом"
   ]
  },
  {
   "cell_type": "markdown",
   "metadata": {},
   "source": [
    "При анализе распределения классов в целевом признаке и в предсказаниях в обучающей и валидационной выборках был выявлен дисбаланс классов: примерно 80 % - отрицательные ответы и 20 % - положительные ответы.\n",
    "\n",
    "Соответственно для баланаса нужно увеличить выборку, а именно - количество положительных ответов в 4 раза.\n",
    "\n",
    "### Увеличение выборки ###\n",
    "\n",
    "Сделаю это с помощью upsampling:\n",
    "- разделю обучающую выборку на объекты по классам;\n",
    "\n",
    "- скопирую объекты положительного класса 4 раза;\n",
    "\n",
    "- создам новую обучающую выборку с помощью pd.concat();\n",
    "\n",
    "- перемешаю данные.\n",
    "\n",
    "Объявлю функцию upsample, которая на входе получит признаки, целевой признак и количество повторений (4), после выполнения upsampling вернет признаки и целевой признак"
   ]
  },
  {
   "cell_type": "code",
   "execution_count": 87,
   "metadata": {},
   "outputs": [
    {
     "name": "stdout",
     "output_type": "stream",
     "text": [
      "CPU times: user 1 µs, sys: 4 µs, total: 5 µs\n",
      "Wall time: 4.29 µs\n"
     ]
    }
   ],
   "source": [
    "%%time\n",
    "def upsample(features, target, repeat):\n",
    "    features_zeros = train_features[train_target == 0]\n",
    "    features_ones = train_features[train_target == 1]\n",
    "    target_zeros = train_target[train_target == 0]\n",
    "    target_ones = train_target[train_target == 1]\n",
    "    repeat = 4\n",
    "    features_upsampled = pd.concat([features_zeros] + [features_ones] * repeat)\n",
    "    target_upsampled = pd.concat([target_zeros] + [target_ones] * repeat)\n",
    "    features_upsampled, target_upsampled = shuffle(features_upsampled, target_upsampled, random_state = 12345)\n",
    "    return features_upsampled, target_upsampled"
   ]
  },
  {
   "cell_type": "code",
   "execution_count": 88,
   "metadata": {},
   "outputs": [
    {
     "name": "stdout",
     "output_type": "stream",
     "text": [
      "CPU times: user 8.05 ms, sys: 22.3 ms, total: 30.3 ms\n",
      "Wall time: 5.91 ms\n"
     ]
    }
   ],
   "source": [
    "%%time\n",
    "features_upsampled, target_upsampled = upsample(train_features, train_target, 4)"
   ]
  },
  {
   "cell_type": "markdown",
   "metadata": {},
   "source": [
    "Посмотрю объем выборки и проверю распределение классов"
   ]
  },
  {
   "cell_type": "code",
   "execution_count": 89,
   "metadata": {},
   "outputs": [
    {
     "data": {
      "text/plain": [
       "(9588, 11)"
      ]
     },
     "execution_count": 89,
     "metadata": {},
     "output_type": "execute_result"
    }
   ],
   "source": [
    "features_upsampled.shape"
   ]
  },
  {
   "cell_type": "code",
   "execution_count": 90,
   "metadata": {},
   "outputs": [
    {
     "data": {
      "text/plain": [
       "(9588,)"
      ]
     },
     "execution_count": 90,
     "metadata": {},
     "output_type": "execute_result"
    }
   ],
   "source": [
    "target_upsampled.shape"
   ]
  },
  {
   "cell_type": "code",
   "execution_count": 91,
   "metadata": {},
   "outputs": [
    {
     "data": {
      "text/plain": [
       "0    0.501043\n",
       "1    0.498957\n",
       "Name: Exited, dtype: float64"
      ]
     },
     "execution_count": 91,
     "metadata": {},
     "output_type": "execute_result"
    }
   ],
   "source": [
    "target_upsampled.value_counts(normalize = 2/9588)"
   ]
  },
  {
   "cell_type": "markdown",
   "metadata": {},
   "source": [
    "Увеличение выборки произвелось удачно. Количество отрицательных и положительных ответов сбалансировано"
   ]
  },
  {
   "cell_type": "markdown",
   "metadata": {},
   "source": [
    "### Обучение моделей на новых данных и проверка качества ###\n",
    "\n",
    "Теперь обучу модели на новых данных, проверю метрик качества и выберу лучшую, которую затем и буду проверять на тестовой выборке\n",
    "\n",
    "#### Решающее дерево ####"
   ]
  },
  {
   "cell_type": "code",
   "execution_count": 92,
   "metadata": {},
   "outputs": [
    {
     "name": "stdout",
     "output_type": "stream",
     "text": [
      "CPU times: user 274 ms, sys: 466 ms, total: 740 ms\n",
      "Wall time: 191 ms\n"
     ]
    }
   ],
   "source": [
    "%%time\n",
    "best_model_dt_upsamled = None\n",
    "best_accuracy_dt_upsamled = 0 \n",
    "best_depth_dt_upsamled = 0\n",
    "best_recall_dt_upsampled = 0\n",
    "best_precision_dt_upsampled = 0\n",
    "best_f1_dt_upsampled = 0\n",
    "for depth in range(1,11):\n",
    "    model_dt_upsamled = DecisionTreeClassifier(random_state = 12345, max_depth = depth, class_weight='balanced')\n",
    "    model_dt_upsamled.fit(features_upsampled, target_upsampled)\n",
    "    predicted_valid_dt_upsamled = pd.Series(model_dt_upsamled.predict(valid_features))\n",
    "    accuracy_dt_upsamled = model_dt_upsamled.score(valid_features, valid_target)\n",
    "    recall_dt_upsampled = recall_score(valid_target, predicted_valid_dt_upsamled)\n",
    "    precision_dt_upsampled = precision_score(valid_target, predicted_valid_dt_upsamled)\n",
    "    f1_dt_upsampled = f1_score(valid_target, predicted_valid_dt_upsamled)\n",
    "    if accuracy_dt_upsamled > best_accuracy_dt_upsamled:\n",
    "        best_model_dt_upsamled = model_dt_upsamled\n",
    "        best_accuracy_dt_upsamled = accuracy_dt_upsamled\n",
    "        best_depth_dt_upsamled = depth\n",
    "        best_recall_dt_upsampled = recall_dt_upsampled\n",
    "        best_precision_dt_upsampled = precision_dt_upsampled\n",
    "        best_f1_dt_upsampled = f1_dt_upsampled"
   ]
  },
  {
   "cell_type": "code",
   "execution_count": 93,
   "metadata": {},
   "outputs": [
    {
     "name": "stdout",
     "output_type": "stream",
     "text": [
      "Решающее дерево: Accuracy 0.798 при глубине дерева 5 , полнота 0.6619385342789598 , точность 0.5175600739371534 , F1 0.5809128630705395\n"
     ]
    }
   ],
   "source": [
    "print('Решающее дерево: Accuracy', best_accuracy_dt_upsamled, 'при глубине дерева', best_depth_dt_upsamled,\n",
    "     ', полнота', best_recall_dt_upsampled, ', точность', best_precision_dt_upsampled, ', F1', best_f1_dt_upsampled)"
   ]
  },
  {
   "cell_type": "code",
   "execution_count": 94,
   "metadata": {},
   "outputs": [],
   "source": [
    "probabilities_valid_dt_upsampled = best_model_dt_upsamled.predict_proba(valid_features)\n",
    "probabilities_one_valid_dt_upsampled = probabilities_valid_dt_upsampled[:, 1]\n",
    "auc_dt_upsampled = roc_auc_score(valid_target, probabilities_one_valid_dt_upsampled)"
   ]
  },
  {
   "cell_type": "code",
   "execution_count": 95,
   "metadata": {},
   "outputs": [
    {
     "name": "stdout",
     "output_type": "stream",
     "text": [
      "AUC-ROC Решающее дерево: 0.8355347481752318\n"
     ]
    }
   ],
   "source": [
    "print('AUC-ROC Решающее дерево:', auc_dt_upsampled)"
   ]
  },
  {
   "cell_type": "markdown",
   "metadata": {},
   "source": [
    "Метрики улучшились. Метрика F1 повысилась и близка к целевой, AUC-ROC тоже стала выше\n",
    "\n",
    "#### Случайный лес ####"
   ]
  },
  {
   "cell_type": "code",
   "execution_count": 96,
   "metadata": {},
   "outputs": [
    {
     "name": "stdout",
     "output_type": "stream",
     "text": [
      "CPU times: user 31.5 s, sys: 82.6 ms, total: 31.5 s\n",
      "Wall time: 31.5 s\n"
     ]
    }
   ],
   "source": [
    "%%time\n",
    "best_model_rf_upsampled = None\n",
    "best_accuracy_rf_upsampled = 0\n",
    "best_est_rf_upsampled = 0\n",
    "best_depth_rf_upsampled = 0\n",
    "best_recall_rf_upsampled = 0\n",
    "best_precision_rf_upsampled = 0\n",
    "best_f1_rf_upsampled = 0\n",
    "for est in range(10, 301, 50):\n",
    "    for depth in range(1, 11):\n",
    "        model_rf_upsampled = RandomForestClassifier(random_state = 12345, n_estimators = est, max_depth = depth, \n",
    "                                                    class_weight='balanced')\n",
    "        model_rf_upsampled.fit(features_upsampled, target_upsampled)\n",
    "        predicted_valid_rf_upsampled = pd.Series(model_rf_upsampled.predict(valid_features))\n",
    "        accuracy_rf_upsampled = model_rf_upsampled.score(valid_features, valid_target)\n",
    "        recall_rf_upsampled = recall_score(valid_target, predicted_valid_rf_upsampled)\n",
    "        precision_rf_upsampled = precision_score(valid_target, predicted_valid_rf_upsampled)\n",
    "        f1_rf_upsampled = f1_score(valid_target, predicted_valid_rf_upsampled)\n",
    "        if accuracy_rf_upsampled > best_accuracy_rf_upsampled:\n",
    "            best_model_rf_upsampled = model_rf_upsampled\n",
    "            best_accuracy_rf_upsampled = accuracy_rf_upsampled\n",
    "            best_est_rf_upsampled = est\n",
    "            best_depth_rf_upsampled = depth\n",
    "            best_recall_rf_upsampled = recall_rf_upsampled\n",
    "            best_precision_rf_upsampled = precision_rf_upsampled\n",
    "            best_f1_rf_upsampled = f1_rf_upsampled"
   ]
  },
  {
   "cell_type": "code",
   "execution_count": 97,
   "metadata": {},
   "outputs": [
    {
     "name": "stdout",
     "output_type": "stream",
     "text": [
      "Случайный лес: Accuracy 0.8195 при глубине дерева 10 с количеством деревьев 160 , полнота 0.6548463356973995 , точность 0.5630081300813008 , F1 0.6054644808743169\n"
     ]
    }
   ],
   "source": [
    "print('Случайный лес: Accuracy', best_accuracy_rf_upsampled, 'при глубине дерева', best_depth_rf_upsampled,\n",
    "     'с количеством деревьев', best_est_rf_upsampled, ', полнота', best_recall_rf_upsampled, \n",
    "      ', точность', best_precision_rf_upsampled, ', F1', best_f1_rf_upsampled)"
   ]
  },
  {
   "cell_type": "code",
   "execution_count": 98,
   "metadata": {},
   "outputs": [],
   "source": [
    "probabilities_valid_rf_upsampled = best_model_rf_upsampled.predict_proba(valid_features)\n",
    "probabilities_one_valid_rf_upsampled = probabilities_valid_rf_upsampled[:, 1]\n",
    "auc_rf_upsampled = roc_auc_score(valid_target, probabilities_one_valid_rf_upsampled)"
   ]
  },
  {
   "cell_type": "code",
   "execution_count": 99,
   "metadata": {},
   "outputs": [
    {
     "name": "stdout",
     "output_type": "stream",
     "text": [
      "AUC-ROC Случайный лес: 0.8576283484066913\n"
     ]
    }
   ],
   "source": [
    "print('AUC-ROC Случайный лес:', auc_rf_upsampled)"
   ]
  },
  {
   "cell_type": "markdown",
   "metadata": {},
   "source": [
    "Значения метрик улучшилось\n",
    "\n",
    "#### Логистическая регрессия ####"
   ]
  },
  {
   "cell_type": "code",
   "execution_count": 100,
   "metadata": {},
   "outputs": [
    {
     "name": "stdout",
     "output_type": "stream",
     "text": [
      "CPU times: user 30.9 ms, sys: 61.5 ms, total: 92.3 ms\n",
      "Wall time: 18.4 ms\n"
     ]
    }
   ],
   "source": [
    "%%time\n",
    "model_lr_upsampled = LogisticRegression(random_state = 12345, solver = 'lbfgs', max_iter = 500, \n",
    "                                        class_weight='balanced')\n",
    "model_lr_upsampled.fit(features_upsampled, target_upsampled)\n",
    "predicted_valid_lr_upsampled = pd.Series(model_lr.predict(valid_features))\n",
    "accuracy_lr_upsampled = model_lr_upsampled.score(valid_features, valid_target)\n",
    "recall_lr_upsampled = recall_score(valid_target, predicted_valid_lr_upsampled)\n",
    "precision_lr_upsampled = precision_score(valid_target, predicted_valid_lr_upsampled)\n",
    "f1_lr_upsampled = f1_score(valid_target, predicted_valid_lr_upsampled)\n",
    "probabilities_valid_lr_upsampled = model_lr_upsampled.predict_proba(valid_features)\n",
    "probabilities_one_valid_lr_upsampled = probabilities_valid_lr_upsampled[:, 1]\n",
    "auc_lr_upsampled = roc_auc_score(valid_target, probabilities_one_valid_lr_upsampled)"
   ]
  },
  {
   "cell_type": "code",
   "execution_count": 101,
   "metadata": {},
   "outputs": [
    {
     "name": "stdout",
     "output_type": "stream",
     "text": [
      "Логистическая регерессия: Accuracy 0.6975 , полнота 0.1867612293144208 , точность 0.5163398692810458 , F1 0.2743055555555555 , AUC-Roc 0.7416661794621562\n"
     ]
    }
   ],
   "source": [
    "print('Логистическая регерессия: Accuracy', accuracy_lr_upsampled, ', полнота', recall_lr_upsampled, \n",
    "      ', точность', precision_lr_upsampled, ', F1', f1_lr_upsampled, ', AUC-Roc', auc_lr_upsampled)"
   ]
  },
  {
   "cell_type": "markdown",
   "metadata": {},
   "source": [
    "Для логистической регрессии метрики практически не изменились."
   ]
  },
  {
   "cell_type": "markdown",
   "metadata": {},
   "source": [
    "В результате увеличения выборки (количества положительных ответов) - дисбаланс классов устранен.\n",
    "\n",
    "Обучено 3 модели, для Решающего дерева и Случайного перебраны разные варианты глубины дерева и количества деревьев леса, также все классы \"взвешены\".\n",
    "\n",
    "**Лучший результат: модель \"Случайный лес\" с количеством деревьев 160 при глубине дерева 15**\n",
    "\n",
    "#### Проверка на адекватность ####\n",
    "\n",
    "Обучу финальную модель Случайного леса с параметрами, указанными выше \n",
    "\n",
    "Сравню Accuracy и AUC-ROC финальной и константной моделей (в константной модели все ответы будут предсказываться с классом \"0\")"
   ]
  },
  {
   "cell_type": "code",
   "execution_count": 102,
   "metadata": {},
   "outputs": [],
   "source": [
    "target_predicted_constant = pd.Series([0]*len(valid_target))\n",
    "accuracy_constant = accuracy_score(valid_target, target_predicted_constant)\n",
    "auc_constant = roc_auc_score(valid_target, target_predicted_constant)"
   ]
  },
  {
   "cell_type": "code",
   "execution_count": 103,
   "metadata": {},
   "outputs": [
    {
     "name": "stdout",
     "output_type": "stream",
     "text": [
      "Константная модель: Accuracy 0.7885 AUC-ROC 0.5\n"
     ]
    }
   ],
   "source": [
    "print('Константная модель: Accuracy', accuracy_constant, 'AUC-ROC', auc_constant)"
   ]
  },
  {
   "cell_type": "code",
   "execution_count": 104,
   "metadata": {},
   "outputs": [
    {
     "name": "stdout",
     "output_type": "stream",
     "text": [
      "CPU times: user 1.14 s, sys: 1 s, total: 2.15 s\n",
      "Wall time: 960 ms\n"
     ]
    }
   ],
   "source": [
    "%%time\n",
    "model_rf_final = RandomForestClassifier(random_state = 12345, n_estimators = 160, max_depth = 10,\n",
    "                                        class_weight='balanced')\n",
    "model_rf_final.fit(features_upsampled, target_upsampled)\n",
    "predicted_valid_rf_final = pd.Series(model_rf_final.predict(valid_features))\n",
    "accuracy_rf_final = model_rf_final.score(valid_features, valid_target)\n",
    "recall_rf_final = recall_score(valid_target, predicted_valid_rf_final)\n",
    "precision_rf_final = precision_score(valid_target, predicted_valid_rf_final)\n",
    "f1_rf_final = f1_score(valid_target, predicted_valid_rf_final)\n",
    "probabilities_valid_rf_final = model_rf_final.predict_proba(valid_features)\n",
    "probabilities_one_valid_rf_final = probabilities_valid_rf_final[:, 1]\n",
    "auc_rf_final = roc_auc_score(valid_target, probabilities_one_valid_rf_final)"
   ]
  },
  {
   "cell_type": "code",
   "execution_count": 105,
   "metadata": {},
   "outputs": [
    {
     "name": "stdout",
     "output_type": "stream",
     "text": [
      "Финальная модель Случайный лес: Accuracy 0.8195 AUC-Roc 0.8576283484066913\n"
     ]
    }
   ],
   "source": [
    "print('Финальная модель Случайный лес: Accuracy', accuracy_rf_final, 'AUC-Roc', auc_rf_final)"
   ]
  },
  {
   "cell_type": "markdown",
   "metadata": {},
   "source": [
    "**Вывод**\n",
    "\n",
    "Значения метрик у финальной модели выше, чем у константной модели.\n",
    "\n",
    "F1 финальной модели составляет 0.6194690265486725, что выше заданного порога"
   ]
  },
  {
   "cell_type": "code",
   "execution_count": 106,
   "metadata": {},
   "outputs": [
    {
     "data": {
      "text/plain": [
       "0    0\n",
       "1    1\n",
       "2    0\n",
       "3    0\n",
       "4    0\n",
       "dtype: int64"
      ]
     },
     "execution_count": 106,
     "metadata": {},
     "output_type": "execute_result"
    }
   ],
   "source": [
    "predicted_valid_rf_final.head()"
   ]
  },
  {
   "cell_type": "markdown",
   "metadata": {},
   "source": [
    "Обучу выбранную модель на объединенной обучающей (увеличенной) и валидационной выборках    \n",
    "\n",
    "#### Обучение выбранной модели на объединенной выборке ####\n",
    "\n",
    "Выборки объединю с помощью pd.concat()"
   ]
  },
  {
   "cell_type": "code",
   "execution_count": 107,
   "metadata": {},
   "outputs": [],
   "source": [
    "combine_features = pd.concat([features_upsampled, valid_features], ignore_index = True)"
   ]
  },
  {
   "cell_type": "code",
   "execution_count": 108,
   "metadata": {},
   "outputs": [
    {
     "data": {
      "text/plain": [
       "(11588, 11)"
      ]
     },
     "execution_count": 108,
     "metadata": {},
     "output_type": "execute_result"
    }
   ],
   "source": [
    "combine_features.shape"
   ]
  },
  {
   "cell_type": "code",
   "execution_count": 109,
   "metadata": {},
   "outputs": [],
   "source": [
    "combine_target = pd.concat([target_upsampled, valid_target], ignore_index = True)"
   ]
  },
  {
   "cell_type": "code",
   "execution_count": 110,
   "metadata": {},
   "outputs": [
    {
     "data": {
      "text/plain": [
       "(11588,)"
      ]
     },
     "execution_count": 110,
     "metadata": {},
     "output_type": "execute_result"
    }
   ],
   "source": [
    "combine_target.shape"
   ]
  },
  {
   "cell_type": "code",
   "execution_count": 111,
   "metadata": {},
   "outputs": [
    {
     "name": "stdout",
     "output_type": "stream",
     "text": [
      "CPU times: user 1.13 s, sys: 5.11 ms, total: 1.14 s\n",
      "Wall time: 1.14 s\n"
     ]
    }
   ],
   "source": [
    "%%time\n",
    "model_rf_combine = RandomForestClassifier(random_state = 12345, n_estimators = 160, max_depth = 10,\n",
    "                                        class_weight='balanced')\n",
    "model_rf_combine.fit(combine_features, combine_target)\n",
    "predicted_rf_combine = pd.Series(model_rf_combine.predict(valid_features))\n",
    "accuracy_rf_combine = model_rf_combine.score(valid_features, valid_target)\n",
    "recall_rf_combine = recall_score(valid_target, predicted_rf_combine)\n",
    "precision_rf_combine = precision_score(valid_target, predicted_rf_combine)\n",
    "f1_rf_combine = f1_score(valid_target, predicted_rf_combine)\n",
    "probabilities_rf_combine = model_rf_combine.predict_proba(valid_features)\n",
    "probabilities_one_rf_combine = probabilities_rf_combine[:, 1]\n",
    "auc_rf_combine = roc_auc_score(valid_target, probabilities_one_rf_combine)"
   ]
  },
  {
   "cell_type": "code",
   "execution_count": 112,
   "metadata": {},
   "outputs": [
    {
     "name": "stdout",
     "output_type": "stream",
     "text": [
      "Финальная модель Случайный лес на объединенной выборке: F1 0.7395143487858721 , AUC-Roc 0.9327357957398837 , полнота 0.7919621749408984 , точность 0.6935817805383023\n"
     ]
    }
   ],
   "source": [
    "print('Финальная модель Случайный лес на объединенной выборке: F1', f1_rf_combine, ', AUC-Roc', auc_rf_combine, ', полнота', \n",
    "      recall_rf_combine, ', точность', precision_rf_combine)"
   ]
  },
  {
   "cell_type": "code",
   "execution_count": 113,
   "metadata": {},
   "outputs": [
    {
     "data": {
      "image/png": "[encoded data removed]",
      "text/plain": [
       "<Figure size 432x288 with 1 Axes>"
      ]
     },
     "metadata": {
      "needs_background": "light"
     },
     "output_type": "display_data"
    }
   ],
   "source": [
    "fpr_combine, tpr_combine, thresholds_combine = roc_curve(valid_target, probabilities_one_rf_combine)\n",
    "\n",
    "plt.figure()\n",
    "plt.plot(fpr_combine, tpr_combine)\n",
    "plt.plot([0, 1], [0, 1], linestyle='--')\n",
    "plt.xlim([0.0, 1.0])\n",
    "plt.ylim([0.0, 1.0])\n",
    "plt.xlabel('False Positive Rate')\n",
    "plt.ylabel('True Positive Rate')\n",
    "plt.title('ROC-кривая')\n",
    "plt.show()"
   ]
  },
  {
   "cell_type": "markdown",
   "metadata": {},
   "source": [
    "После обучении модели на объединенной выборке, показания метрик для валидационной выборки стали отличными: F1 0.74, AUC-ROC близко к единице, полнота почти 0.8 (модель хорошо определяется положительные ответы), точность почти 0.7\n"
   ]
  },
  {
   "cell_type": "markdown",
   "metadata": {},
   "source": [
    "## Тестирование модели"
   ]
  },
  {
   "cell_type": "markdown",
   "metadata": {},
   "source": [
    "Проверю работу модели model_rf_combine на тестовой выборке и проверю значения все метрик качества"
   ]
  },
  {
   "cell_type": "code",
   "execution_count": 114,
   "metadata": {},
   "outputs": [
    {
     "name": "stdout",
     "output_type": "stream",
     "text": [
      "CPU times: user 102 ms, sys: 980 µs, total: 103 ms\n",
      "Wall time: 103 ms\n"
     ]
    }
   ],
   "source": [
    "%%time\n",
    "predicted_test = pd.Series(model_rf_combine.predict(test_features))\n",
    "accuracy_test = model_rf_combine.score(test_features, test_target)\n",
    "recall_test = recall_score(test_target, predicted_test)\n",
    "precision_test = precision_score(test_target, predicted_test)\n",
    "f1_test = f1_score(test_target, predicted_test)\n",
    "probabilities_test = model_rf_final.predict_proba(test_features)\n",
    "probabilities_one_test = probabilities_test[:, 1]\n",
    "auc_test = roc_auc_score(test_target, probabilities_one_test)"
   ]
  },
  {
   "cell_type": "code",
   "execution_count": 115,
   "metadata": {},
   "outputs": [
    {
     "data": {
      "image/png": "[encoded data removed]",
      "text/plain": [
       "<Figure size 432x288 with 1 Axes>"
      ]
     },
     "metadata": {
      "needs_background": "light"
     },
     "output_type": "display_data"
    }
   ],
   "source": [
    "fpr_test, tpr_test, thresholds_test = roc_curve(test_target, probabilities_one_test)\n",
    "\n",
    "plt.figure()\n",
    "plt.plot(fpr_test, tpr_test)\n",
    "plt.plot([0, 1], [0, 1], linestyle='--')\n",
    "plt.xlim([0.0, 1.0])\n",
    "plt.ylim([0.0, 1.0])\n",
    "plt.xlabel('False Positive Rate')\n",
    "plt.ylabel('True Positive Rate')\n",
    "plt.title('ROC-кривая')\n",
    "plt.show()"
   ]
  },
  {
   "cell_type": "code",
   "execution_count": 116,
   "metadata": {},
   "outputs": [
    {
     "name": "stdout",
     "output_type": "stream",
     "text": [
      "Работа финальной модели на тестовой выборке: accuracy 0.824 , полнота 0.6770334928229665 , точность 0.566 , F1 0.616557734204793 , AUC-ROC 0.85389156721248\n"
     ]
    }
   ],
   "source": [
    "print('Работа финальной модели на тестовой выборке: accuracy', accuracy_test, ', полнота', recall_test, ', точность', precision_test,\n",
    "     ', F1', f1_test, ', AUC-ROC', auc_test)"
   ]
  },
  {
   "cell_type": "code",
   "execution_count": 117,
   "metadata": {},
   "outputs": [
    {
     "data": {
      "text/plain": [
       "0    0\n",
       "1    1\n",
       "2    0\n",
       "3    0\n",
       "4    0\n",
       "dtype: int64"
      ]
     },
     "execution_count": 117,
     "metadata": {},
     "output_type": "execute_result"
    }
   ],
   "source": [
    "predicted_test.head()"
   ]
  },
  {
   "cell_type": "markdown",
   "metadata": {},
   "source": [
    "После проверки работы модели model_rf_combine  на тестовой выборке значения всех метрик снизились, но тем не менее F1 выше установленного порога. Возможно модель немного переобучена\n",
    "    \n",
    "В целом по сравнению с работой модели, обученнной только на обучающей увеличенной выборке, значения метрик F1  и точность стали немного ниже\n"
   ]
  },
  {
   "cell_type": "markdown",
   "metadata": {},
   "source": [
    "Посмотрю feature_importances, чтобы проверить наиболее важные признаки, которые влияют на работу модели"
   ]
  },
  {
   "cell_type": "code",
   "execution_count": 118,
   "metadata": {},
   "outputs": [
    {
     "data": {
      "text/plain": [
       "array([0.0721794 , 0.31796804, 0.04204745, 0.11800132, 0.21735517,\n",
       "       0.01100173, 0.05902854, 0.07573727, 0.05334657, 0.00802761,\n",
       "       0.02530691])"
      ]
     },
     "execution_count": 118,
     "metadata": {},
     "output_type": "execute_result"
    }
   ],
   "source": [
    "model_rf_combine.feature_importances_"
   ]
  },
  {
   "cell_type": "code",
   "execution_count": 119,
   "metadata": {},
   "outputs": [
    {
     "data": {
      "image/png": "[encoded data removed]",
      "text/plain": [
       "<Figure size 1440x720 with 1 Axes>"
      ]
     },
     "metadata": {
      "needs_background": "light"
     },
     "output_type": "display_data"
    }
   ],
   "source": [
    "plt.figure(figsize=(20,10))\n",
    "sns.set(style=\"darkgrid\")\n",
    "sorted_idx = model_rf_combine.feature_importances_.argsort()\n",
    "plt.barh(combine_features.columns[sorted_idx], model_rf_combine.feature_importances_[sorted_idx])\n",
    "plt.xlabel('Среднее уменьшение примесей', fontsize=16)\n",
    "plt.title('Случайное дерево, приоритетные значения', fontsize=20)\n",
    "plt.show()"
   ]
  },
  {
   "cell_type": "markdown",
   "metadata": {},
   "source": [
    "Судя по всему, наибольший вес в обучении модели и в предсказаниях  имеют следующие признаки:\n",
    "    \n",
    "- возраст клиента,\n",
    "\n",
    "- количество продуктов банка, используемых клиентом \n",
    "    \n",
    "- объем денежных средств на счете\n",
    "    \n",
    "Меньше всего влияют страна проживания клиента и наличие кредитной карты.\n",
    "    \n",
    "В принципе все логично - если клиент пользуется несколькими продуктами банка и держит деньги на счетах, то риск его ухода из банка минимален. Как верно и обратное - если клиент вывел деньги со счетов, то скорее всего планирует отказаться от банка"
   ]
  },
  {
   "cell_type": "markdown",
   "metadata": {},
   "source": [
    "## Общий вывод ##\n",
    "\n",
    "Были предоставлены данные о поведении клиентов банка и о расторжении договоров с банком.\n",
    "\n",
    "Была поставлена задача обучить модель классификации - уйдет ли клиент из банка.\n",
    "\n",
    "Я разбила данные о 10 000 клиентах на 3 выборки, затем обучила 3 модели. \n",
    "\n",
    "При проверке метрик качества обученных моделей был выявлен дисбаланс классов (количество отрицательных ответов в 4 раза больше, чем положительных).\n",
    "\n",
    "Для его устраненеия я произвела увеличение выборки (увеличила в 4 раза количество положительных ответов), затем заново обучила 3 модели, добавив параметр class_weight='balanced'.\n",
    "\n",
    "В результате была выявлена лучшая модель - Случайный лес из 160 деревьев глубиной 5.\n",
    "\n",
    "Финальная модель достигла заданного предела метрики F1 (0.59) и составила на валидационной выборке 0.60, на тестовой выборке - 0.62\n",
    "\n",
    "Полнота выявления положительных ответов - невысокая, точность тоже.\n",
    "\n",
    "В целом модель работает адекватно, но ее можно улучшить если будет больше данных о поведении клиентов в динамике "
   ]
  }
 ],
 "metadata": {
  "ExecuteTimeLog": [
   {
    "duration": 1537,
    "start_time": "2021-10-18T13:22:42.546Z"
   },
   {
    "duration": 34,
    "start_time": "2021-10-18T13:23:28.176Z"
   },
   {
    "duration": 28,
    "start_time": "2021-10-18T13:24:00.686Z"
   },
   {
    "duration": 16,
    "start_time": "2021-10-18T13:24:01.559Z"
   },
   {
    "duration": 64,
    "start_time": "2021-10-18T13:24:02.234Z"
   },
   {
    "duration": 17,
    "start_time": "2021-10-18T14:37:25.889Z"
   },
   {
    "duration": 9,
    "start_time": "2021-10-18T14:38:06.356Z"
   },
   {
    "duration": 9,
    "start_time": "2021-10-18T15:38:39.933Z"
   },
   {
    "duration": 6,
    "start_time": "2021-10-18T15:38:57.216Z"
   },
   {
    "duration": 6,
    "start_time": "2021-10-18T15:39:04.588Z"
   },
   {
    "duration": 8,
    "start_time": "2021-10-18T15:54:24.045Z"
   },
   {
    "duration": 1511,
    "start_time": "2021-10-18T15:55:58.475Z"
   },
   {
    "duration": 35,
    "start_time": "2021-10-18T15:55:59.989Z"
   },
   {
    "duration": 26,
    "start_time": "2021-10-18T15:56:00.311Z"
   },
   {
    "duration": 12,
    "start_time": "2021-10-18T15:56:01.054Z"
   },
   {
    "duration": 65,
    "start_time": "2021-10-18T15:56:01.713Z"
   },
   {
    "duration": 23,
    "start_time": "2021-10-18T15:56:02.422Z"
   },
   {
    "duration": 9,
    "start_time": "2021-10-18T15:56:03.176Z"
   },
   {
    "duration": 7,
    "start_time": "2021-10-18T15:56:04.064Z"
   },
   {
    "duration": 436,
    "start_time": "2021-10-18T15:56:05.406Z"
   },
   {
    "duration": 9,
    "start_time": "2021-10-18T15:56:21.670Z"
   },
   {
    "duration": 6,
    "start_time": "2021-10-18T15:56:23.247Z"
   },
   {
    "duration": 16,
    "start_time": "2021-10-18T15:56:25.609Z"
   },
   {
    "duration": 25,
    "start_time": "2021-10-18T15:59:55.501Z"
   },
   {
    "duration": 11,
    "start_time": "2021-10-18T16:00:21.686Z"
   },
   {
    "duration": 21,
    "start_time": "2021-10-18T16:34:52.672Z"
   },
   {
    "duration": 19,
    "start_time": "2021-10-18T16:34:53.566Z"
   },
   {
    "duration": 12,
    "start_time": "2021-10-18T16:34:54.331Z"
   },
   {
    "duration": 4,
    "start_time": "2021-10-18T16:55:35.640Z"
   },
   {
    "duration": 6,
    "start_time": "2021-10-18T16:57:39.818Z"
   },
   {
    "duration": 1827,
    "start_time": "2021-10-18T16:57:57.728Z"
   },
   {
    "duration": 36,
    "start_time": "2021-10-18T16:57:59.558Z"
   },
   {
    "duration": 29,
    "start_time": "2021-10-18T16:58:00.385Z"
   },
   {
    "duration": 12,
    "start_time": "2021-10-18T16:58:00.897Z"
   },
   {
    "duration": 62,
    "start_time": "2021-10-18T16:58:01.506Z"
   },
   {
    "duration": 18,
    "start_time": "2021-10-18T16:58:02.050Z"
   },
   {
    "duration": 8,
    "start_time": "2021-10-18T16:58:02.760Z"
   },
   {
    "duration": 6,
    "start_time": "2021-10-18T16:58:03.331Z"
   },
   {
    "duration": 9,
    "start_time": "2021-10-18T16:58:05.134Z"
   },
   {
    "duration": 6,
    "start_time": "2021-10-18T16:58:06.132Z"
   },
   {
    "duration": 10,
    "start_time": "2021-10-18T16:58:06.688Z"
   },
   {
    "duration": 22,
    "start_time": "2021-10-18T16:58:07.762Z"
   },
   {
    "duration": 20,
    "start_time": "2021-10-18T16:58:08.264Z"
   },
   {
    "duration": 11,
    "start_time": "2021-10-18T16:58:10.352Z"
   },
   {
    "duration": 4,
    "start_time": "2021-10-18T16:58:12.755Z"
   },
   {
    "duration": 6,
    "start_time": "2021-10-18T16:58:13.519Z"
   },
   {
    "duration": 12,
    "start_time": "2021-10-18T17:04:18.950Z"
   },
   {
    "duration": 459,
    "start_time": "2021-10-18T17:06:04.282Z"
   },
   {
    "duration": 9,
    "start_time": "2021-10-18T17:06:11.949Z"
   },
   {
    "duration": 5,
    "start_time": "2021-10-18T17:07:03.567Z"
   },
   {
    "duration": 6,
    "start_time": "2021-10-18T17:07:15.068Z"
   },
   {
    "duration": 5,
    "start_time": "2021-10-18T17:07:28.303Z"
   },
   {
    "duration": 5,
    "start_time": "2021-10-18T17:07:38.760Z"
   },
   {
    "duration": 5,
    "start_time": "2021-10-18T17:08:05.222Z"
   },
   {
    "duration": 7,
    "start_time": "2021-10-18T17:08:06.003Z"
   },
   {
    "duration": 16,
    "start_time": "2021-10-18T18:19:28.811Z"
   },
   {
    "duration": 1586,
    "start_time": "2021-10-18T18:22:39.945Z"
   },
   {
    "duration": 35,
    "start_time": "2021-10-18T18:22:42.827Z"
   },
   {
    "duration": 29,
    "start_time": "2021-10-18T18:22:43.469Z"
   },
   {
    "duration": 12,
    "start_time": "2021-10-18T18:22:44.030Z"
   },
   {
    "duration": 61,
    "start_time": "2021-10-18T18:22:44.691Z"
   },
   {
    "duration": 18,
    "start_time": "2021-10-18T18:22:45.423Z"
   },
   {
    "duration": 9,
    "start_time": "2021-10-18T18:22:46.720Z"
   },
   {
    "duration": 7,
    "start_time": "2021-10-18T18:22:47.334Z"
   },
   {
    "duration": 8,
    "start_time": "2021-10-18T18:22:49.688Z"
   },
   {
    "duration": 6,
    "start_time": "2021-10-18T18:22:50.436Z"
   },
   {
    "duration": 10,
    "start_time": "2021-10-18T18:22:50.919Z"
   },
   {
    "duration": 26,
    "start_time": "2021-10-18T18:22:51.458Z"
   },
   {
    "duration": 18,
    "start_time": "2021-10-18T18:22:52.119Z"
   },
   {
    "duration": 11,
    "start_time": "2021-10-18T18:22:52.422Z"
   },
   {
    "duration": 4,
    "start_time": "2021-10-18T18:22:54.103Z"
   },
   {
    "duration": 6,
    "start_time": "2021-10-18T18:22:54.400Z"
   },
   {
    "duration": 9,
    "start_time": "2021-10-18T18:22:54.990Z"
   },
   {
    "duration": 8,
    "start_time": "2021-10-18T18:22:55.240Z"
   },
   {
    "duration": 6,
    "start_time": "2021-10-18T18:22:56.160Z"
   },
   {
    "duration": 6,
    "start_time": "2021-10-18T18:22:56.414Z"
   },
   {
    "duration": 6,
    "start_time": "2021-10-18T18:22:56.635Z"
   },
   {
    "duration": 6,
    "start_time": "2021-10-18T18:22:56.878Z"
   },
   {
    "duration": 8,
    "start_time": "2021-10-18T18:22:57.074Z"
   },
   {
    "duration": 6,
    "start_time": "2021-10-18T18:22:57.282Z"
   },
   {
    "duration": 19,
    "start_time": "2021-10-18T18:22:59.155Z"
   },
   {
    "duration": 4,
    "start_time": "2021-10-18T18:26:39.401Z"
   },
   {
    "duration": 11,
    "start_time": "2021-10-18T18:34:06.534Z"
   },
   {
    "duration": 20,
    "start_time": "2021-10-18T18:37:15.276Z"
   },
   {
    "duration": 17,
    "start_time": "2021-10-18T18:37:45.296Z"
   },
   {
    "duration": 19,
    "start_time": "2021-10-18T18:38:06.243Z"
   },
   {
    "duration": 16,
    "start_time": "2021-10-18T18:39:20.295Z"
   },
   {
    "duration": 25,
    "start_time": "2021-10-18T18:39:21.123Z"
   },
   {
    "duration": 14,
    "start_time": "2021-10-18T18:40:23.671Z"
   },
   {
    "duration": 20,
    "start_time": "2021-10-18T18:40:35.304Z"
   },
   {
    "duration": 1104,
    "start_time": "2021-10-19T11:04:37.410Z"
   },
   {
    "duration": 29,
    "start_time": "2021-10-19T11:04:39.084Z"
   },
   {
    "duration": 16,
    "start_time": "2021-10-19T11:04:39.947Z"
   },
   {
    "duration": 9,
    "start_time": "2021-10-19T11:04:40.782Z"
   },
   {
    "duration": 39,
    "start_time": "2021-10-19T11:04:41.528Z"
   },
   {
    "duration": 11,
    "start_time": "2021-10-19T11:04:42.563Z"
   },
   {
    "duration": 5,
    "start_time": "2021-10-19T11:04:44.014Z"
   },
   {
    "duration": 5,
    "start_time": "2021-10-19T11:04:44.641Z"
   },
   {
    "duration": 6,
    "start_time": "2021-10-19T11:04:47.266Z"
   },
   {
    "duration": 5,
    "start_time": "2021-10-19T11:04:47.804Z"
   },
   {
    "duration": 7,
    "start_time": "2021-10-19T11:04:48.147Z"
   },
   {
    "duration": 13,
    "start_time": "2021-10-19T11:04:49.191Z"
   },
   {
    "duration": 14,
    "start_time": "2021-10-19T11:04:50.054Z"
   },
   {
    "duration": 8,
    "start_time": "2021-10-19T11:04:51.120Z"
   },
   {
    "duration": 3,
    "start_time": "2021-10-19T11:04:53.360Z"
   },
   {
    "duration": 4,
    "start_time": "2021-10-19T11:04:53.746Z"
   },
   {
    "duration": 7,
    "start_time": "2021-10-19T11:04:54.419Z"
   },
   {
    "duration": 6,
    "start_time": "2021-10-19T11:04:54.829Z"
   },
   {
    "duration": 3,
    "start_time": "2021-10-19T11:04:55.649Z"
   },
   {
    "duration": 4,
    "start_time": "2021-10-19T11:04:55.914Z"
   },
   {
    "duration": 4,
    "start_time": "2021-10-19T11:04:56.153Z"
   },
   {
    "duration": 4,
    "start_time": "2021-10-19T11:04:56.428Z"
   },
   {
    "duration": 3,
    "start_time": "2021-10-19T11:04:56.673Z"
   },
   {
    "duration": 4,
    "start_time": "2021-10-19T11:04:56.944Z"
   },
   {
    "duration": 11,
    "start_time": "2021-10-19T11:04:57.740Z"
   },
   {
    "duration": 2,
    "start_time": "2021-10-19T11:04:58.018Z"
   },
   {
    "duration": 9,
    "start_time": "2021-10-19T11:04:58.289Z"
   },
   {
    "duration": 11,
    "start_time": "2021-10-19T11:04:58.819Z"
   },
   {
    "duration": 12,
    "start_time": "2021-10-19T11:04:59.085Z"
   },
   {
    "duration": 8,
    "start_time": "2021-10-19T11:04:59.578Z"
   },
   {
    "duration": 11,
    "start_time": "2021-10-19T11:04:59.917Z"
   },
   {
    "duration": 4,
    "start_time": "2021-10-19T12:26:08.189Z"
   },
   {
    "duration": 396,
    "start_time": "2021-10-19T12:26:29.664Z"
   },
   {
    "duration": 1077,
    "start_time": "2021-10-19T12:44:27.012Z"
   },
   {
    "duration": 27,
    "start_time": "2021-10-19T12:44:29.307Z"
   },
   {
    "duration": 16,
    "start_time": "2021-10-19T12:44:34.106Z"
   },
   {
    "duration": 8,
    "start_time": "2021-10-19T12:44:34.821Z"
   },
   {
    "duration": 37,
    "start_time": "2021-10-19T12:44:35.449Z"
   },
   {
    "duration": 10,
    "start_time": "2021-10-19T12:44:36.102Z"
   },
   {
    "duration": 7,
    "start_time": "2021-10-19T12:44:36.663Z"
   },
   {
    "duration": 5,
    "start_time": "2021-10-19T12:44:37.298Z"
   },
   {
    "duration": 4,
    "start_time": "2021-10-19T12:44:39.052Z"
   },
   {
    "duration": 8,
    "start_time": "2021-10-19T12:44:40.235Z"
   },
   {
    "duration": 13,
    "start_time": "2021-10-19T12:44:41.709Z"
   },
   {
    "duration": 12,
    "start_time": "2021-10-19T12:44:43.406Z"
   },
   {
    "duration": 8,
    "start_time": "2021-10-19T12:44:44.572Z"
   },
   {
    "duration": 3,
    "start_time": "2021-10-19T12:44:46.383Z"
   },
   {
    "duration": 5,
    "start_time": "2021-10-19T12:44:46.947Z"
   },
   {
    "duration": 7,
    "start_time": "2021-10-19T12:44:48.114Z"
   },
   {
    "duration": 6,
    "start_time": "2021-10-19T12:44:48.752Z"
   },
   {
    "duration": 4,
    "start_time": "2021-10-19T12:44:49.810Z"
   },
   {
    "duration": 3,
    "start_time": "2021-10-19T12:44:50.261Z"
   },
   {
    "duration": 4,
    "start_time": "2021-10-19T12:44:50.927Z"
   },
   {
    "duration": 4,
    "start_time": "2021-10-19T12:44:51.400Z"
   },
   {
    "duration": 4,
    "start_time": "2021-10-19T12:44:51.742Z"
   },
   {
    "duration": 3,
    "start_time": "2021-10-19T12:44:52.024Z"
   },
   {
    "duration": 10,
    "start_time": "2021-10-19T12:44:53.647Z"
   },
   {
    "duration": 2,
    "start_time": "2021-10-19T12:44:54.372Z"
   },
   {
    "duration": 8,
    "start_time": "2021-10-19T12:44:55.050Z"
   },
   {
    "duration": 13,
    "start_time": "2021-10-19T12:44:56.340Z"
   },
   {
    "duration": 12,
    "start_time": "2021-10-19T12:44:57.635Z"
   },
   {
    "duration": 8,
    "start_time": "2021-10-19T12:44:59.746Z"
   },
   {
    "duration": 13,
    "start_time": "2021-10-19T12:45:00.658Z"
   },
   {
    "duration": 9,
    "start_time": "2021-10-19T12:45:01.299Z"
   },
   {
    "duration": 12,
    "start_time": "2021-10-19T12:45:01.904Z"
   },
   {
    "duration": 6,
    "start_time": "2021-10-19T12:45:05.391Z"
   },
   {
    "duration": 413,
    "start_time": "2021-10-19T12:45:06.617Z"
   },
   {
    "duration": 1063,
    "start_time": "2021-10-19T12:47:56.323Z"
   },
   {
    "duration": 29,
    "start_time": "2021-10-19T12:47:58.483Z"
   },
   {
    "duration": 17,
    "start_time": "2021-10-19T12:47:58.952Z"
   },
   {
    "duration": 9,
    "start_time": "2021-10-19T12:47:59.262Z"
   },
   {
    "duration": 38,
    "start_time": "2021-10-19T12:47:59.525Z"
   },
   {
    "duration": 12,
    "start_time": "2021-10-19T12:47:59.876Z"
   },
   {
    "duration": 7,
    "start_time": "2021-10-19T12:48:00.290Z"
   },
   {
    "duration": 5,
    "start_time": "2021-10-19T12:48:00.854Z"
   },
   {
    "duration": 5,
    "start_time": "2021-10-19T12:48:01.857Z"
   },
   {
    "duration": 9,
    "start_time": "2021-10-19T12:48:02.129Z"
   },
   {
    "duration": 13,
    "start_time": "2021-10-19T12:48:04.085Z"
   },
   {
    "duration": 12,
    "start_time": "2021-10-19T12:48:04.676Z"
   },
   {
    "duration": 8,
    "start_time": "2021-10-19T12:48:05.316Z"
   },
   {
    "duration": 3,
    "start_time": "2021-10-19T12:48:10.005Z"
   },
   {
    "duration": 5,
    "start_time": "2021-10-19T12:48:10.844Z"
   },
   {
    "duration": 7,
    "start_time": "2021-10-19T12:48:11.942Z"
   },
   {
    "duration": 6,
    "start_time": "2021-10-19T12:48:12.446Z"
   },
   {
    "duration": 4,
    "start_time": "2021-10-19T12:48:13.685Z"
   },
   {
    "duration": 4,
    "start_time": "2021-10-19T12:48:14.006Z"
   },
   {
    "duration": 4,
    "start_time": "2021-10-19T12:48:14.280Z"
   },
   {
    "duration": 4,
    "start_time": "2021-10-19T12:48:14.586Z"
   },
   {
    "duration": 4,
    "start_time": "2021-10-19T12:48:14.810Z"
   },
   {
    "duration": 3,
    "start_time": "2021-10-19T12:48:15.063Z"
   },
   {
    "duration": 11,
    "start_time": "2021-10-19T12:48:16.102Z"
   },
   {
    "duration": 2,
    "start_time": "2021-10-19T12:48:18.501Z"
   },
   {
    "duration": 8,
    "start_time": "2021-10-19T12:48:19.332Z"
   },
   {
    "duration": 12,
    "start_time": "2021-10-19T12:48:20.331Z"
   },
   {
    "duration": 13,
    "start_time": "2021-10-19T12:48:22.247Z"
   },
   {
    "duration": 9,
    "start_time": "2021-10-19T12:48:24.279Z"
   },
   {
    "duration": 13,
    "start_time": "2021-10-19T12:48:26.271Z"
   },
   {
    "duration": 9,
    "start_time": "2021-10-19T12:48:27.960Z"
   },
   {
    "duration": 11,
    "start_time": "2021-10-19T12:48:29.049Z"
   },
   {
    "duration": 5,
    "start_time": "2021-10-19T12:48:36.908Z"
   },
   {
    "duration": 368,
    "start_time": "2021-10-19T12:48:38.545Z"
   },
   {
    "duration": 4,
    "start_time": "2021-10-19T12:52:31.533Z"
   },
   {
    "duration": 29,
    "start_time": "2021-10-19T12:52:33.076Z"
   },
   {
    "duration": 13,
    "start_time": "2021-10-19T12:52:33.709Z"
   },
   {
    "duration": 9,
    "start_time": "2021-10-19T12:52:36.225Z"
   },
   {
    "duration": 39,
    "start_time": "2021-10-19T12:52:37.364Z"
   },
   {
    "duration": 1109,
    "start_time": "2021-10-19T12:54:20.313Z"
   },
   {
    "duration": 28,
    "start_time": "2021-10-19T12:54:22.664Z"
   },
   {
    "duration": 17,
    "start_time": "2021-10-19T12:54:23.517Z"
   },
   {
    "duration": 9,
    "start_time": "2021-10-19T12:54:24.449Z"
   },
   {
    "duration": 42,
    "start_time": "2021-10-19T12:54:25.734Z"
   },
   {
    "duration": 12,
    "start_time": "2021-10-19T12:54:26.699Z"
   },
   {
    "duration": 6,
    "start_time": "2021-10-19T12:54:28.785Z"
   },
   {
    "duration": 8,
    "start_time": "2021-10-19T12:55:14.783Z"
   },
   {
    "duration": 5,
    "start_time": "2021-10-19T12:56:57.943Z"
   },
   {
    "duration": 8,
    "start_time": "2021-10-19T12:56:58.517Z"
   },
   {
    "duration": 14,
    "start_time": "2021-10-19T12:57:01.171Z"
   },
   {
    "duration": 14,
    "start_time": "2021-10-19T12:57:02.448Z"
   },
   {
    "duration": 10,
    "start_time": "2021-10-19T12:57:03.297Z"
   },
   {
    "duration": 3,
    "start_time": "2021-10-19T12:57:07.041Z"
   },
   {
    "duration": 4,
    "start_time": "2021-10-19T12:57:08.067Z"
   },
   {
    "duration": 8,
    "start_time": "2021-10-19T12:57:08.646Z"
   },
   {
    "duration": 7,
    "start_time": "2021-10-19T12:57:08.953Z"
   },
   {
    "duration": 8,
    "start_time": "2021-10-19T12:57:12.946Z"
   },
   {
    "duration": 6,
    "start_time": "2021-10-19T12:57:13.499Z"
   },
   {
    "duration": 4,
    "start_time": "2021-10-19T12:57:14.760Z"
   },
   {
    "duration": 3,
    "start_time": "2021-10-19T12:57:15.332Z"
   },
   {
    "duration": 4,
    "start_time": "2021-10-19T12:57:15.591Z"
   },
   {
    "duration": 3,
    "start_time": "2021-10-19T12:57:15.780Z"
   },
   {
    "duration": 4,
    "start_time": "2021-10-19T12:57:15.970Z"
   },
   {
    "duration": 3,
    "start_time": "2021-10-19T12:57:16.170Z"
   },
   {
    "duration": 10,
    "start_time": "2021-10-19T12:57:16.590Z"
   },
   {
    "duration": 11,
    "start_time": "2021-10-19T12:57:55.631Z"
   },
   {
    "duration": 2,
    "start_time": "2021-10-19T12:57:56.650Z"
   },
   {
    "duration": 9,
    "start_time": "2021-10-19T12:57:57.417Z"
   },
   {
    "duration": 12,
    "start_time": "2021-10-19T12:57:59.176Z"
   },
   {
    "duration": 14,
    "start_time": "2021-10-19T12:57:59.624Z"
   },
   {
    "duration": 8,
    "start_time": "2021-10-19T12:58:00.440Z"
   },
   {
    "duration": 12,
    "start_time": "2021-10-19T12:58:04.207Z"
   },
   {
    "duration": 9,
    "start_time": "2021-10-19T12:58:07.913Z"
   },
   {
    "duration": 13,
    "start_time": "2021-10-19T12:58:41.755Z"
   },
   {
    "duration": 5,
    "start_time": "2021-10-19T12:58:46.605Z"
   },
   {
    "duration": 438,
    "start_time": "2021-10-19T12:58:47.912Z"
   },
   {
    "duration": 389,
    "start_time": "2021-10-19T13:04:03.166Z"
   },
   {
    "duration": 1294,
    "start_time": "2021-10-19T13:07:44.912Z"
   },
   {
    "duration": 29,
    "start_time": "2021-10-19T13:07:50.504Z"
   },
   {
    "duration": 17,
    "start_time": "2021-10-19T13:07:50.839Z"
   },
   {
    "duration": 9,
    "start_time": "2021-10-19T13:07:52.592Z"
   },
   {
    "duration": 40,
    "start_time": "2021-10-19T13:07:52.869Z"
   },
   {
    "duration": 11,
    "start_time": "2021-10-19T13:07:53.132Z"
   },
   {
    "duration": 5,
    "start_time": "2021-10-19T13:07:53.367Z"
   },
   {
    "duration": 7,
    "start_time": "2021-10-19T13:07:54.496Z"
   },
   {
    "duration": 4,
    "start_time": "2021-10-19T13:07:57.669Z"
   },
   {
    "duration": 4,
    "start_time": "2021-10-19T13:07:58.843Z"
   },
   {
    "duration": 8,
    "start_time": "2021-10-19T13:07:59.918Z"
   },
   {
    "duration": 13,
    "start_time": "2021-10-19T13:08:05.803Z"
   },
   {
    "duration": 11,
    "start_time": "2021-10-19T13:08:06.490Z"
   },
   {
    "duration": 8,
    "start_time": "2021-10-19T13:08:07.368Z"
   },
   {
    "duration": 3,
    "start_time": "2021-10-19T13:08:09.704Z"
   },
   {
    "duration": 4,
    "start_time": "2021-10-19T13:08:10.199Z"
   },
   {
    "duration": 7,
    "start_time": "2021-10-19T13:08:23.537Z"
   },
   {
    "duration": 6,
    "start_time": "2021-10-19T13:08:23.546Z"
   },
   {
    "duration": 4,
    "start_time": "2021-10-19T13:08:23.554Z"
   },
   {
    "duration": 7,
    "start_time": "2021-10-19T13:08:23.559Z"
   },
   {
    "duration": 6,
    "start_time": "2021-10-19T13:08:23.567Z"
   },
   {
    "duration": 5,
    "start_time": "2021-10-19T13:08:23.574Z"
   },
   {
    "duration": 4,
    "start_time": "2021-10-19T13:08:23.581Z"
   },
   {
    "duration": 6,
    "start_time": "2021-10-19T13:08:23.586Z"
   },
   {
    "duration": 11,
    "start_time": "2021-10-19T13:08:23.594Z"
   },
   {
    "duration": 6,
    "start_time": "2021-10-19T13:08:23.608Z"
   },
   {
    "duration": 11,
    "start_time": "2021-10-19T13:08:23.615Z"
   },
   {
    "duration": 12,
    "start_time": "2021-10-19T13:08:23.627Z"
   },
   {
    "duration": 12,
    "start_time": "2021-10-19T13:08:23.640Z"
   },
   {
    "duration": 9,
    "start_time": "2021-10-19T13:08:23.653Z"
   },
   {
    "duration": 12,
    "start_time": "2021-10-19T13:08:23.690Z"
   },
   {
    "duration": 9,
    "start_time": "2021-10-19T13:08:26.097Z"
   },
   {
    "duration": 13,
    "start_time": "2021-10-19T13:08:27.774Z"
   },
   {
    "duration": 301,
    "start_time": "2021-10-19T13:08:32.880Z"
   },
   {
    "duration": 5,
    "start_time": "2021-10-19T13:10:25.762Z"
   },
   {
    "duration": 579,
    "start_time": "2021-10-19T13:10:27.417Z"
   },
   {
    "duration": 4,
    "start_time": "2021-10-19T13:11:09.088Z"
   },
   {
    "duration": 561,
    "start_time": "2021-10-19T13:11:10.132Z"
   },
   {
    "duration": 5,
    "start_time": "2021-10-19T13:11:19.549Z"
   },
   {
    "duration": 5,
    "start_time": "2021-10-19T13:11:23.529Z"
   },
   {
    "duration": 805,
    "start_time": "2021-10-19T13:11:31.086Z"
   },
   {
    "duration": 5,
    "start_time": "2021-10-19T13:11:47.115Z"
   },
   {
    "duration": 573,
    "start_time": "2021-10-19T13:11:47.821Z"
   },
   {
    "duration": 5,
    "start_time": "2021-10-19T13:12:21.239Z"
   },
   {
    "duration": 624,
    "start_time": "2021-10-19T13:12:22.369Z"
   },
   {
    "duration": 1131,
    "start_time": "2021-10-19T13:34:24.474Z"
   },
   {
    "duration": 664,
    "start_time": "2021-10-19T13:34:25.715Z"
   },
   {
    "duration": 16,
    "start_time": "2021-10-19T13:34:26.381Z"
   },
   {
    "duration": 10,
    "start_time": "2021-10-19T13:34:26.399Z"
   },
   {
    "duration": 42,
    "start_time": "2021-10-19T13:34:26.411Z"
   },
   {
    "duration": 14,
    "start_time": "2021-10-19T13:34:26.477Z"
   },
   {
    "duration": 5,
    "start_time": "2021-10-19T13:34:26.641Z"
   },
   {
    "duration": 7,
    "start_time": "2021-10-19T13:34:26.810Z"
   },
   {
    "duration": 3,
    "start_time": "2021-10-19T13:34:27.366Z"
   },
   {
    "duration": 4,
    "start_time": "2021-10-19T13:34:27.508Z"
   },
   {
    "duration": 8,
    "start_time": "2021-10-19T13:34:27.677Z"
   },
   {
    "duration": 14,
    "start_time": "2021-10-19T13:34:28.011Z"
   },
   {
    "duration": 11,
    "start_time": "2021-10-19T13:34:28.176Z"
   },
   {
    "duration": 8,
    "start_time": "2021-10-19T13:34:28.338Z"
   },
   {
    "duration": 3,
    "start_time": "2021-10-19T13:34:28.845Z"
   },
   {
    "duration": 4,
    "start_time": "2021-10-19T13:34:29.020Z"
   },
   {
    "duration": 6,
    "start_time": "2021-10-19T13:34:29.373Z"
   },
   {
    "duration": 5,
    "start_time": "2021-10-19T13:34:29.567Z"
   },
   {
    "duration": 5,
    "start_time": "2021-10-19T13:34:29.944Z"
   },
   {
    "duration": 4,
    "start_time": "2021-10-19T13:34:30.131Z"
   },
   {
    "duration": 4,
    "start_time": "2021-10-19T13:34:30.311Z"
   },
   {
    "duration": 4,
    "start_time": "2021-10-19T13:34:30.490Z"
   },
   {
    "duration": 4,
    "start_time": "2021-10-19T13:34:30.667Z"
   },
   {
    "duration": 4,
    "start_time": "2021-10-19T13:34:30.850Z"
   },
   {
    "duration": 11,
    "start_time": "2021-10-19T13:34:31.188Z"
   },
   {
    "duration": 3,
    "start_time": "2021-10-19T13:34:31.369Z"
   },
   {
    "duration": 9,
    "start_time": "2021-10-19T13:34:32.321Z"
   },
   {
    "duration": 11,
    "start_time": "2021-10-19T13:34:32.332Z"
   },
   {
    "duration": 17,
    "start_time": "2021-10-19T13:34:32.345Z"
   },
   {
    "duration": 15,
    "start_time": "2021-10-19T13:34:32.364Z"
   },
   {
    "duration": 12,
    "start_time": "2021-10-19T13:34:32.437Z"
   },
   {
    "duration": 8,
    "start_time": "2021-10-19T13:34:32.605Z"
   },
   {
    "duration": 11,
    "start_time": "2021-10-19T13:34:32.803Z"
   },
   {
    "duration": 6,
    "start_time": "2021-10-19T13:34:34.140Z"
   },
   {
    "duration": 6335,
    "start_time": "2021-10-19T13:34:34.357Z"
   },
   {
    "duration": 5,
    "start_time": "2021-10-19T13:36:53.946Z"
   },
   {
    "duration": 7378,
    "start_time": "2021-10-19T13:36:54.818Z"
   },
   {
    "duration": 7581,
    "start_time": "2021-10-19T13:40:42.721Z"
   },
   {
    "duration": 6,
    "start_time": "2021-10-19T13:41:23.742Z"
   },
   {
    "duration": 83252,
    "start_time": "2021-10-19T13:41:24.840Z"
   },
   {
    "duration": 5,
    "start_time": "2021-10-19T13:45:25.641Z"
   },
   {
    "duration": 1097,
    "start_time": "2021-10-19T13:50:57.090Z"
   },
   {
    "duration": 28,
    "start_time": "2021-10-19T13:50:58.828Z"
   },
   {
    "duration": 17,
    "start_time": "2021-10-19T13:50:59.031Z"
   },
   {
    "duration": 9,
    "start_time": "2021-10-19T13:50:59.242Z"
   },
   {
    "duration": 39,
    "start_time": "2021-10-19T13:50:59.451Z"
   },
   {
    "duration": 11,
    "start_time": "2021-10-19T13:50:59.649Z"
   },
   {
    "duration": 4,
    "start_time": "2021-10-19T13:50:59.850Z"
   },
   {
    "duration": 8,
    "start_time": "2021-10-19T13:51:00.059Z"
   },
   {
    "duration": 4,
    "start_time": "2021-10-19T13:51:00.687Z"
   },
   {
    "duration": 4,
    "start_time": "2021-10-19T13:51:00.888Z"
   },
   {
    "duration": 7,
    "start_time": "2021-10-19T13:51:01.101Z"
   },
   {
    "duration": 13,
    "start_time": "2021-10-19T13:51:01.561Z"
   },
   {
    "duration": 11,
    "start_time": "2021-10-19T13:51:01.787Z"
   },
   {
    "duration": 8,
    "start_time": "2021-10-19T13:51:01.979Z"
   },
   {
    "duration": 3,
    "start_time": "2021-10-19T13:51:02.600Z"
   },
   {
    "duration": 4,
    "start_time": "2021-10-19T13:51:02.804Z"
   },
   {
    "duration": 6,
    "start_time": "2021-10-19T13:51:03.255Z"
   },
   {
    "duration": 6,
    "start_time": "2021-10-19T13:51:03.456Z"
   },
   {
    "duration": 3,
    "start_time": "2021-10-19T13:51:03.870Z"
   },
   {
    "duration": 3,
    "start_time": "2021-10-19T13:51:04.091Z"
   },
   {
    "duration": 4,
    "start_time": "2021-10-19T13:51:04.290Z"
   },
   {
    "duration": 4,
    "start_time": "2021-10-19T13:51:04.517Z"
   },
   {
    "duration": 4,
    "start_time": "2021-10-19T13:51:04.706Z"
   },
   {
    "duration": 4,
    "start_time": "2021-10-19T13:51:04.906Z"
   },
   {
    "duration": 10,
    "start_time": "2021-10-19T13:51:05.329Z"
   },
   {
    "duration": 3,
    "start_time": "2021-10-19T13:51:05.921Z"
   },
   {
    "duration": 8,
    "start_time": "2021-10-19T13:51:06.368Z"
   },
   {
    "duration": 12,
    "start_time": "2021-10-19T13:51:07.320Z"
   },
   {
    "duration": 11,
    "start_time": "2021-10-19T13:51:07.731Z"
   },
   {
    "duration": 8,
    "start_time": "2021-10-19T13:51:08.195Z"
   },
   {
    "duration": 12,
    "start_time": "2021-10-19T13:51:08.473Z"
   },
   {
    "duration": 9,
    "start_time": "2021-10-19T13:51:08.724Z"
   },
   {
    "duration": 12,
    "start_time": "2021-10-19T13:51:09.121Z"
   },
   {
    "duration": 6,
    "start_time": "2021-10-19T13:51:16.539Z"
   },
   {
    "duration": 1283,
    "start_time": "2021-10-19T14:55:35.579Z"
   },
   {
    "duration": 28,
    "start_time": "2021-10-19T14:55:36.864Z"
   },
   {
    "duration": 16,
    "start_time": "2021-10-19T14:55:36.894Z"
   },
   {
    "duration": 12,
    "start_time": "2021-10-19T14:55:36.911Z"
   },
   {
    "duration": 38,
    "start_time": "2021-10-19T14:55:36.925Z"
   },
   {
    "duration": 28,
    "start_time": "2021-10-19T14:55:36.964Z"
   },
   {
    "duration": 4,
    "start_time": "2021-10-19T14:55:36.994Z"
   },
   {
    "duration": 8,
    "start_time": "2021-10-19T14:55:37.000Z"
   },
   {
    "duration": 4,
    "start_time": "2021-10-19T14:55:37.010Z"
   },
   {
    "duration": 6,
    "start_time": "2021-10-19T14:55:37.016Z"
   },
   {
    "duration": 11,
    "start_time": "2021-10-19T14:55:37.024Z"
   },
   {
    "duration": 13,
    "start_time": "2021-10-19T14:55:37.036Z"
   },
   {
    "duration": 11,
    "start_time": "2021-10-19T14:55:37.050Z"
   },
   {
    "duration": 36,
    "start_time": "2021-10-19T14:55:37.062Z"
   },
   {
    "duration": 2,
    "start_time": "2021-10-19T14:55:37.100Z"
   },
   {
    "duration": 6,
    "start_time": "2021-10-19T14:55:37.103Z"
   },
   {
    "duration": 9,
    "start_time": "2021-10-19T14:55:37.110Z"
   },
   {
    "duration": 5,
    "start_time": "2021-10-19T14:55:37.121Z"
   },
   {
    "duration": 14,
    "start_time": "2021-10-19T14:55:37.128Z"
   },
   {
    "duration": 8,
    "start_time": "2021-10-19T14:55:37.143Z"
   },
   {
    "duration": 6,
    "start_time": "2021-10-19T14:55:37.152Z"
   },
   {
    "duration": 5,
    "start_time": "2021-10-19T14:55:37.159Z"
   },
   {
    "duration": 24,
    "start_time": "2021-10-19T14:55:37.167Z"
   },
   {
    "duration": 3,
    "start_time": "2021-10-19T14:55:37.193Z"
   },
   {
    "duration": 14,
    "start_time": "2021-10-19T14:55:37.197Z"
   },
   {
    "duration": 4,
    "start_time": "2021-10-19T14:55:37.212Z"
   },
   {
    "duration": 13,
    "start_time": "2021-10-19T14:55:37.218Z"
   },
   {
    "duration": 11,
    "start_time": "2021-10-19T14:55:37.232Z"
   },
   {
    "duration": 11,
    "start_time": "2021-10-19T14:55:37.245Z"
   },
   {
    "duration": 34,
    "start_time": "2021-10-19T14:55:37.257Z"
   },
   {
    "duration": 12,
    "start_time": "2021-10-19T14:55:37.293Z"
   },
   {
    "duration": 7,
    "start_time": "2021-10-19T14:55:37.306Z"
   },
   {
    "duration": 10,
    "start_time": "2021-10-19T14:55:37.315Z"
   },
   {
    "duration": 7,
    "start_time": "2021-10-19T14:55:37.327Z"
   },
   {
    "duration": 96558,
    "start_time": "2021-10-19T14:55:37.336Z"
   },
   {
    "duration": 271,
    "start_time": "2021-10-19T15:03:56.975Z"
   },
   {
    "duration": 8,
    "start_time": "2021-10-19T15:04:26.062Z"
   },
   {
    "duration": 9,
    "start_time": "2021-10-19T15:04:59.199Z"
   },
   {
    "duration": 8,
    "start_time": "2021-10-19T15:04:59.961Z"
   },
   {
    "duration": 7,
    "start_time": "2021-10-19T15:05:21.572Z"
   },
   {
    "duration": 7,
    "start_time": "2021-10-19T15:05:22.417Z"
   },
   {
    "duration": 350,
    "start_time": "2021-10-19T15:13:13.921Z"
   },
   {
    "duration": 200,
    "start_time": "2021-10-19T15:13:40.044Z"
   },
   {
    "duration": 1132,
    "start_time": "2021-10-19T15:13:56.556Z"
   },
   {
    "duration": 28,
    "start_time": "2021-10-19T15:13:57.691Z"
   },
   {
    "duration": 16,
    "start_time": "2021-10-19T15:13:57.721Z"
   },
   {
    "duration": 7,
    "start_time": "2021-10-19T15:13:57.739Z"
   },
   {
    "duration": 52,
    "start_time": "2021-10-19T15:13:57.748Z"
   },
   {
    "duration": 11,
    "start_time": "2021-10-19T15:13:57.802Z"
   },
   {
    "duration": 4,
    "start_time": "2021-10-19T15:13:57.814Z"
   },
   {
    "duration": 8,
    "start_time": "2021-10-19T15:13:57.820Z"
   },
   {
    "duration": 3,
    "start_time": "2021-10-19T15:13:57.831Z"
   },
   {
    "duration": 5,
    "start_time": "2021-10-19T15:13:57.836Z"
   },
   {
    "duration": 8,
    "start_time": "2021-10-19T15:13:57.843Z"
   },
   {
    "duration": 46,
    "start_time": "2021-10-19T15:13:57.853Z"
   },
   {
    "duration": 10,
    "start_time": "2021-10-19T15:13:57.901Z"
   },
   {
    "duration": 8,
    "start_time": "2021-10-19T15:13:57.912Z"
   },
   {
    "duration": 2,
    "start_time": "2021-10-19T15:13:57.922Z"
   },
   {
    "duration": 10,
    "start_time": "2021-10-19T15:13:57.926Z"
   },
   {
    "duration": 10,
    "start_time": "2021-10-19T15:13:57.938Z"
   },
   {
    "duration": 6,
    "start_time": "2021-10-19T15:13:57.950Z"
   },
   {
    "duration": 34,
    "start_time": "2021-10-19T15:13:57.958Z"
   },
   {
    "duration": 7,
    "start_time": "2021-10-19T15:13:57.994Z"
   },
   {
    "duration": 4,
    "start_time": "2021-10-19T15:13:58.003Z"
   },
   {
    "duration": 5,
    "start_time": "2021-10-19T15:13:58.009Z"
   },
   {
    "duration": 5,
    "start_time": "2021-10-19T15:13:58.015Z"
   },
   {
    "duration": 6,
    "start_time": "2021-10-19T15:13:58.021Z"
   },
   {
    "duration": 11,
    "start_time": "2021-10-19T15:13:58.028Z"
   },
   {
    "duration": 3,
    "start_time": "2021-10-19T15:13:58.041Z"
   },
   {
    "duration": 45,
    "start_time": "2021-10-19T15:13:58.047Z"
   },
   {
    "duration": 12,
    "start_time": "2021-10-19T15:13:58.093Z"
   },
   {
    "duration": 11,
    "start_time": "2021-10-19T15:13:58.106Z"
   },
   {
    "duration": 9,
    "start_time": "2021-10-19T15:13:58.119Z"
   },
   {
    "duration": 14,
    "start_time": "2021-10-19T15:13:58.129Z"
   },
   {
    "duration": 8,
    "start_time": "2021-10-19T15:13:58.144Z"
   },
   {
    "duration": 10,
    "start_time": "2021-10-19T15:13:58.153Z"
   },
   {
    "duration": 29,
    "start_time": "2021-10-19T15:13:58.165Z"
   },
   {
    "duration": 98098,
    "start_time": "2021-10-19T15:13:58.196Z"
   },
   {
    "duration": 97,
    "start_time": "2021-10-19T15:15:36.298Z"
   },
   {
    "duration": 6,
    "start_time": "2021-10-19T15:15:36.396Z"
   },
   {
    "duration": 258,
    "start_time": "2021-10-19T15:15:36.403Z"
   },
   {
    "duration": 170,
    "start_time": "2021-10-19T15:18:04.043Z"
   },
   {
    "duration": 6,
    "start_time": "2021-10-19T15:18:09.146Z"
   },
   {
    "duration": 98724,
    "start_time": "2021-10-19T15:18:09.771Z"
   },
   {
    "duration": 96,
    "start_time": "2021-10-19T15:19:48.497Z"
   },
   {
    "duration": 11,
    "start_time": "2021-10-19T15:19:48.596Z"
   },
   {
    "duration": 171,
    "start_time": "2021-10-19T15:19:48.608Z"
   },
   {
    "duration": 432,
    "start_time": "2021-10-19T15:22:14.100Z"
   },
   {
    "duration": 1186,
    "start_time": "2021-10-19T15:23:04.279Z"
   },
   {
    "duration": 29,
    "start_time": "2021-10-19T15:23:05.466Z"
   },
   {
    "duration": 17,
    "start_time": "2021-10-19T15:23:05.497Z"
   },
   {
    "duration": 10,
    "start_time": "2021-10-19T15:23:05.516Z"
   },
   {
    "duration": 40,
    "start_time": "2021-10-19T15:23:05.527Z"
   },
   {
    "duration": 29,
    "start_time": "2021-10-19T15:23:05.570Z"
   },
   {
    "duration": 4,
    "start_time": "2021-10-19T15:23:05.601Z"
   },
   {
    "duration": 9,
    "start_time": "2021-10-19T15:23:05.607Z"
   },
   {
    "duration": 3,
    "start_time": "2021-10-19T15:23:05.619Z"
   },
   {
    "duration": 7,
    "start_time": "2021-10-19T15:23:05.625Z"
   },
   {
    "duration": 11,
    "start_time": "2021-10-19T15:23:05.633Z"
   },
   {
    "duration": 18,
    "start_time": "2021-10-19T15:23:05.645Z"
   },
   {
    "duration": 36,
    "start_time": "2021-10-19T15:23:05.664Z"
   },
   {
    "duration": 7,
    "start_time": "2021-10-19T15:23:05.702Z"
   },
   {
    "duration": 3,
    "start_time": "2021-10-19T15:23:05.711Z"
   },
   {
    "duration": 9,
    "start_time": "2021-10-19T15:23:05.715Z"
   },
   {
    "duration": 10,
    "start_time": "2021-10-19T15:23:05.726Z"
   },
   {
    "duration": 5,
    "start_time": "2021-10-19T15:23:05.738Z"
   },
   {
    "duration": 9,
    "start_time": "2021-10-19T15:23:05.744Z"
   },
   {
    "duration": 6,
    "start_time": "2021-10-19T15:23:05.754Z"
   },
   {
    "duration": 29,
    "start_time": "2021-10-19T15:23:05.762Z"
   },
   {
    "duration": 4,
    "start_time": "2021-10-19T15:23:05.793Z"
   },
   {
    "duration": 8,
    "start_time": "2021-10-19T15:23:05.798Z"
   },
   {
    "duration": 5,
    "start_time": "2021-10-19T15:23:05.808Z"
   },
   {
    "duration": 15,
    "start_time": "2021-10-19T15:23:05.814Z"
   },
   {
    "duration": 4,
    "start_time": "2021-10-19T15:23:05.831Z"
   },
   {
    "duration": 8,
    "start_time": "2021-10-19T15:23:05.838Z"
   },
   {
    "duration": 12,
    "start_time": "2021-10-19T15:23:05.848Z"
   },
   {
    "duration": 36,
    "start_time": "2021-10-19T15:23:05.861Z"
   },
   {
    "duration": 15,
    "start_time": "2021-10-19T15:23:05.899Z"
   },
   {
    "duration": 11,
    "start_time": "2021-10-19T15:23:05.916Z"
   },
   {
    "duration": 9,
    "start_time": "2021-10-19T15:23:05.929Z"
   },
   {
    "duration": 13,
    "start_time": "2021-10-19T15:23:05.940Z"
   },
   {
    "duration": 9,
    "start_time": "2021-10-19T15:23:05.954Z"
   },
   {
    "duration": 100333,
    "start_time": "2021-10-19T15:23:05.964Z"
   },
   {
    "duration": 95,
    "start_time": "2021-10-19T15:24:46.299Z"
   },
   {
    "duration": 7,
    "start_time": "2021-10-19T15:24:46.396Z"
   },
   {
    "duration": 273,
    "start_time": "2021-10-19T15:24:46.404Z"
   },
   {
    "duration": 165,
    "start_time": "2021-10-19T15:29:19.463Z"
   },
   {
    "duration": 6,
    "start_time": "2021-10-19T15:30:42.021Z"
   },
   {
    "duration": 98658,
    "start_time": "2021-10-19T15:30:43.636Z"
   },
   {
    "duration": 96,
    "start_time": "2021-10-19T15:32:22.297Z"
   },
   {
    "duration": 9,
    "start_time": "2021-10-19T15:32:22.395Z"
   },
   {
    "duration": 172,
    "start_time": "2021-10-19T15:32:22.406Z"
   },
   {
    "duration": 668,
    "start_time": "2021-10-19T15:33:28.737Z"
   },
   {
    "duration": 5,
    "start_time": "2021-10-19T15:34:48.903Z"
   },
   {
    "duration": 99003,
    "start_time": "2021-10-19T15:34:50.590Z"
   },
   {
    "duration": 1127,
    "start_time": "2021-10-19T15:36:44.689Z"
   },
   {
    "duration": 30,
    "start_time": "2021-10-19T15:36:45.817Z"
   },
   {
    "duration": 17,
    "start_time": "2021-10-19T15:36:45.849Z"
   },
   {
    "duration": 23,
    "start_time": "2021-10-19T15:36:45.868Z"
   },
   {
    "duration": 40,
    "start_time": "2021-10-19T15:36:45.893Z"
   },
   {
    "duration": 12,
    "start_time": "2021-10-19T15:36:45.935Z"
   },
   {
    "duration": 5,
    "start_time": "2021-10-19T15:36:45.948Z"
   },
   {
    "duration": 37,
    "start_time": "2021-10-19T15:36:45.955Z"
   },
   {
    "duration": 4,
    "start_time": "2021-10-19T15:36:45.995Z"
   },
   {
    "duration": 7,
    "start_time": "2021-10-19T15:36:46.000Z"
   },
   {
    "duration": 10,
    "start_time": "2021-10-19T15:36:46.008Z"
   },
   {
    "duration": 12,
    "start_time": "2021-10-19T15:36:46.020Z"
   },
   {
    "duration": 11,
    "start_time": "2021-10-19T15:36:46.034Z"
   },
   {
    "duration": 8,
    "start_time": "2021-10-19T15:36:46.046Z"
   },
   {
    "duration": 37,
    "start_time": "2021-10-19T15:36:46.055Z"
   },
   {
    "duration": 7,
    "start_time": "2021-10-19T15:36:46.094Z"
   },
   {
    "duration": 7,
    "start_time": "2021-10-19T15:36:46.103Z"
   },
   {
    "duration": 7,
    "start_time": "2021-10-19T15:36:46.111Z"
   },
   {
    "duration": 4,
    "start_time": "2021-10-19T15:36:46.119Z"
   },
   {
    "duration": 7,
    "start_time": "2021-10-19T15:36:46.124Z"
   },
   {
    "duration": 5,
    "start_time": "2021-10-19T15:36:46.133Z"
   },
   {
    "duration": 6,
    "start_time": "2021-10-19T15:36:46.139Z"
   },
   {
    "duration": 3,
    "start_time": "2021-10-19T15:36:46.148Z"
   },
   {
    "duration": 38,
    "start_time": "2021-10-19T15:36:46.153Z"
   },
   {
    "duration": 10,
    "start_time": "2021-10-19T15:36:46.193Z"
   },
   {
    "duration": 4,
    "start_time": "2021-10-19T15:36:46.205Z"
   },
   {
    "duration": 9,
    "start_time": "2021-10-19T15:36:46.211Z"
   },
   {
    "duration": 10,
    "start_time": "2021-10-19T15:36:46.222Z"
   },
   {
    "duration": 10,
    "start_time": "2021-10-19T15:36:46.233Z"
   },
   {
    "duration": 9,
    "start_time": "2021-10-19T15:36:46.245Z"
   },
   {
    "duration": 40,
    "start_time": "2021-10-19T15:36:46.255Z"
   },
   {
    "duration": 8,
    "start_time": "2021-10-19T15:36:46.297Z"
   },
   {
    "duration": 11,
    "start_time": "2021-10-19T15:36:46.307Z"
   },
   {
    "duration": 6,
    "start_time": "2021-10-19T15:36:46.320Z"
   },
   {
    "duration": 104966,
    "start_time": "2021-10-19T15:36:46.328Z"
   },
   {
    "duration": 98,
    "start_time": "2021-10-19T15:38:31.296Z"
   },
   {
    "duration": 11,
    "start_time": "2021-10-19T15:38:31.396Z"
   },
   {
    "duration": -24,
    "start_time": "2021-10-19T15:38:31.976Z"
   },
   {
    "duration": 180,
    "start_time": "2021-10-19T15:38:38.914Z"
   },
   {
    "duration": 197,
    "start_time": "2021-10-19T15:39:39.255Z"
   },
   {
    "duration": 167,
    "start_time": "2021-10-19T15:41:15.593Z"
   },
   {
    "duration": 1053,
    "start_time": "2021-10-19T15:51:44.538Z"
   },
   {
    "duration": 28,
    "start_time": "2021-10-19T15:51:45.593Z"
   },
   {
    "duration": 17,
    "start_time": "2021-10-19T15:51:45.623Z"
   },
   {
    "duration": 8,
    "start_time": "2021-10-19T15:51:45.642Z"
   },
   {
    "duration": 50,
    "start_time": "2021-10-19T15:51:45.652Z"
   },
   {
    "duration": 10,
    "start_time": "2021-10-19T15:51:45.704Z"
   },
   {
    "duration": 4,
    "start_time": "2021-10-19T15:51:45.716Z"
   },
   {
    "duration": 7,
    "start_time": "2021-10-19T15:51:45.721Z"
   },
   {
    "duration": 3,
    "start_time": "2021-10-19T15:51:45.730Z"
   },
   {
    "duration": 5,
    "start_time": "2021-10-19T15:51:45.735Z"
   },
   {
    "duration": 9,
    "start_time": "2021-10-19T15:51:45.741Z"
   },
   {
    "duration": 44,
    "start_time": "2021-10-19T15:51:45.752Z"
   },
   {
    "duration": 11,
    "start_time": "2021-10-19T15:51:45.798Z"
   },
   {
    "duration": 7,
    "start_time": "2021-10-19T15:51:45.810Z"
   },
   {
    "duration": 5,
    "start_time": "2021-10-19T15:51:45.819Z"
   },
   {
    "duration": 6,
    "start_time": "2021-10-19T15:51:45.826Z"
   },
   {
    "duration": 12,
    "start_time": "2021-10-19T15:51:45.833Z"
   },
   {
    "duration": 6,
    "start_time": "2021-10-19T15:51:45.846Z"
   },
   {
    "duration": 7,
    "start_time": "2021-10-19T15:51:45.853Z"
   },
   {
    "duration": 30,
    "start_time": "2021-10-19T15:51:45.862Z"
   },
   {
    "duration": 4,
    "start_time": "2021-10-19T15:51:45.893Z"
   },
   {
    "duration": 6,
    "start_time": "2021-10-19T15:51:45.898Z"
   },
   {
    "duration": 11,
    "start_time": "2021-10-19T15:51:45.906Z"
   },
   {
    "duration": 7,
    "start_time": "2021-10-19T15:51:45.919Z"
   },
   {
    "duration": 18,
    "start_time": "2021-10-19T15:51:45.927Z"
   },
   {
    "duration": 12,
    "start_time": "2021-10-19T15:51:45.947Z"
   },
   {
    "duration": 8,
    "start_time": "2021-10-19T15:51:45.963Z"
   },
   {
    "duration": 26,
    "start_time": "2021-10-19T15:51:45.973Z"
   },
   {
    "duration": 13,
    "start_time": "2021-10-19T15:51:46.001Z"
   },
   {
    "duration": 12,
    "start_time": "2021-10-19T15:51:46.016Z"
   },
   {
    "duration": 13,
    "start_time": "2021-10-19T15:51:46.030Z"
   },
   {
    "duration": 9,
    "start_time": "2021-10-19T15:51:46.045Z"
   },
   {
    "duration": 41,
    "start_time": "2021-10-19T15:51:46.055Z"
   },
   {
    "duration": 56,
    "start_time": "2021-10-19T15:51:46.098Z"
   },
   {
    "duration": 28,
    "start_time": "2021-10-19T15:51:46.127Z"
   },
   {
    "duration": 28,
    "start_time": "2021-10-19T15:51:46.128Z"
   },
   {
    "duration": 26,
    "start_time": "2021-10-19T15:51:46.131Z"
   },
   {
    "duration": 26,
    "start_time": "2021-10-19T15:51:46.132Z"
   },
   {
    "duration": 26,
    "start_time": "2021-10-19T15:51:46.133Z"
   },
   {
    "duration": 26,
    "start_time": "2021-10-19T15:51:46.134Z"
   },
   {
    "duration": 26,
    "start_time": "2021-10-19T15:51:46.135Z"
   },
   {
    "duration": 17,
    "start_time": "2021-10-19T15:51:46.145Z"
   },
   {
    "duration": 527,
    "start_time": "2021-10-19T15:52:26.177Z"
   },
   {
    "duration": 3,
    "start_time": "2021-10-19T15:52:29.510Z"
   },
   {
    "duration": 101435,
    "start_time": "2021-10-19T15:52:31.661Z"
   },
   {
    "duration": 4,
    "start_time": "2021-10-19T15:54:13.098Z"
   },
   {
    "duration": 189,
    "start_time": "2021-10-19T15:54:13.104Z"
   },
   {
    "duration": 4,
    "start_time": "2021-10-19T15:54:13.295Z"
   },
   {
    "duration": 10,
    "start_time": "2021-10-19T15:54:13.391Z"
   },
   {
    "duration": 5,
    "start_time": "2021-10-19T15:54:13.403Z"
   },
   {
    "duration": 5,
    "start_time": "2021-10-19T15:54:13.409Z"
   },
   {
    "duration": 280,
    "start_time": "2021-10-19T15:58:14.680Z"
   },
   {
    "duration": 1020,
    "start_time": "2021-10-19T15:59:38.855Z"
   },
   {
    "duration": 28,
    "start_time": "2021-10-19T15:59:39.876Z"
   },
   {
    "duration": 15,
    "start_time": "2021-10-19T15:59:39.905Z"
   },
   {
    "duration": 10,
    "start_time": "2021-10-19T15:59:39.922Z"
   },
   {
    "duration": 39,
    "start_time": "2021-10-19T15:59:39.934Z"
   },
   {
    "duration": 22,
    "start_time": "2021-10-19T15:59:39.974Z"
   },
   {
    "duration": 4,
    "start_time": "2021-10-19T15:59:39.997Z"
   },
   {
    "duration": 9,
    "start_time": "2021-10-19T15:59:40.003Z"
   },
   {
    "duration": 3,
    "start_time": "2021-10-19T15:59:40.015Z"
   },
   {
    "duration": 6,
    "start_time": "2021-10-19T15:59:40.020Z"
   },
   {
    "duration": 12,
    "start_time": "2021-10-19T15:59:40.027Z"
   },
   {
    "duration": 13,
    "start_time": "2021-10-19T15:59:40.040Z"
   },
   {
    "duration": 41,
    "start_time": "2021-10-19T15:59:40.054Z"
   },
   {
    "duration": 10,
    "start_time": "2021-10-19T15:59:40.096Z"
   },
   {
    "duration": 2,
    "start_time": "2021-10-19T15:59:40.107Z"
   },
   {
    "duration": 6,
    "start_time": "2021-10-19T15:59:40.110Z"
   },
   {
    "duration": 9,
    "start_time": "2021-10-19T15:59:40.117Z"
   },
   {
    "duration": 6,
    "start_time": "2021-10-19T15:59:40.127Z"
   },
   {
    "duration": 4,
    "start_time": "2021-10-19T15:59:40.134Z"
   },
   {
    "duration": 5,
    "start_time": "2021-10-19T15:59:40.140Z"
   },
   {
    "duration": 5,
    "start_time": "2021-10-19T15:59:40.146Z"
   },
   {
    "duration": 39,
    "start_time": "2021-10-19T15:59:40.153Z"
   },
   {
    "duration": 4,
    "start_time": "2021-10-19T15:59:40.194Z"
   },
   {
    "duration": 5,
    "start_time": "2021-10-19T15:59:40.200Z"
   },
   {
    "duration": 11,
    "start_time": "2021-10-19T15:59:40.207Z"
   },
   {
    "duration": 4,
    "start_time": "2021-10-19T15:59:40.220Z"
   },
   {
    "duration": 8,
    "start_time": "2021-10-19T15:59:40.228Z"
   },
   {
    "duration": 11,
    "start_time": "2021-10-19T15:59:40.238Z"
   },
   {
    "duration": 48,
    "start_time": "2021-10-19T15:59:40.251Z"
   },
   {
    "duration": 9,
    "start_time": "2021-10-19T15:59:40.300Z"
   },
   {
    "duration": 10,
    "start_time": "2021-10-19T15:59:40.311Z"
   },
   {
    "duration": 12,
    "start_time": "2021-10-19T15:59:40.323Z"
   },
   {
    "duration": 16,
    "start_time": "2021-10-19T15:59:40.336Z"
   },
   {
    "duration": 517,
    "start_time": "2021-10-19T15:59:40.354Z"
   },
   {
    "duration": 3,
    "start_time": "2021-10-19T15:59:40.873Z"
   },
   {
    "duration": 101592,
    "start_time": "2021-10-19T15:59:40.878Z"
   },
   {
    "duration": 3,
    "start_time": "2021-10-19T16:01:22.472Z"
   },
   {
    "duration": 323,
    "start_time": "2021-10-19T16:01:22.477Z"
   },
   {
    "duration": 4,
    "start_time": "2021-10-19T16:01:22.893Z"
   },
   {
    "duration": 97,
    "start_time": "2021-10-19T16:01:22.900Z"
   },
   {
    "duration": 6,
    "start_time": "2021-10-19T16:01:22.999Z"
   },
   {
    "duration": 686,
    "start_time": "2021-10-19T16:01:23.006Z"
   },
   {
    "duration": 6,
    "start_time": "2021-10-19T16:02:10.761Z"
   },
   {
    "duration": 7,
    "start_time": "2021-10-19T16:02:49.056Z"
   },
   {
    "duration": 6,
    "start_time": "2021-10-19T16:03:13.446Z"
   },
   {
    "duration": 5,
    "start_time": "2021-10-19T16:10:01.228Z"
   },
   {
    "duration": 4,
    "start_time": "2021-10-19T16:10:09.563Z"
   },
   {
    "duration": 5,
    "start_time": "2021-10-19T16:20:40.632Z"
   },
   {
    "duration": 3,
    "start_time": "2021-10-19T16:20:50.519Z"
   },
   {
    "duration": 5,
    "start_time": "2021-10-19T16:25:57.211Z"
   },
   {
    "duration": 5,
    "start_time": "2021-10-19T16:27:54.227Z"
   },
   {
    "duration": 3,
    "start_time": "2021-10-19T16:27:54.899Z"
   },
   {
    "duration": 8,
    "start_time": "2021-10-19T16:29:30.994Z"
   },
   {
    "duration": 4,
    "start_time": "2021-10-19T16:29:31.740Z"
   },
   {
    "duration": 1490,
    "start_time": "2021-10-20T11:57:38.003Z"
   },
   {
    "duration": 32,
    "start_time": "2021-10-20T11:57:39.496Z"
   },
   {
    "duration": 32,
    "start_time": "2021-10-20T11:57:39.531Z"
   },
   {
    "duration": 12,
    "start_time": "2021-10-20T11:57:39.566Z"
   },
   {
    "duration": 83,
    "start_time": "2021-10-20T11:57:39.580Z"
   },
   {
    "duration": 16,
    "start_time": "2021-10-20T11:57:39.666Z"
   },
   {
    "duration": 6,
    "start_time": "2021-10-20T11:57:39.684Z"
   },
   {
    "duration": 10,
    "start_time": "2021-10-20T11:57:39.692Z"
   },
   {
    "duration": 4,
    "start_time": "2021-10-20T11:57:39.706Z"
   },
   {
    "duration": 49,
    "start_time": "2021-10-20T11:57:39.713Z"
   },
   {
    "duration": 14,
    "start_time": "2021-10-20T11:57:39.765Z"
   },
   {
    "duration": 19,
    "start_time": "2021-10-20T11:57:39.781Z"
   },
   {
    "duration": 16,
    "start_time": "2021-10-20T11:57:39.803Z"
   },
   {
    "duration": 45,
    "start_time": "2021-10-20T11:57:39.821Z"
   },
   {
    "duration": 4,
    "start_time": "2021-10-20T11:57:39.867Z"
   },
   {
    "duration": 12,
    "start_time": "2021-10-20T11:57:39.874Z"
   },
   {
    "duration": 23,
    "start_time": "2021-10-20T11:57:39.888Z"
   },
   {
    "duration": 8,
    "start_time": "2021-10-20T11:57:39.913Z"
   },
   {
    "duration": 6,
    "start_time": "2021-10-20T11:57:39.923Z"
   },
   {
    "duration": 32,
    "start_time": "2021-10-20T11:57:39.931Z"
   },
   {
    "duration": 5,
    "start_time": "2021-10-20T11:57:39.965Z"
   },
   {
    "duration": 5,
    "start_time": "2021-10-20T11:57:39.973Z"
   },
   {
    "duration": 6,
    "start_time": "2021-10-20T11:57:39.980Z"
   },
   {
    "duration": 10,
    "start_time": "2021-10-20T11:57:39.988Z"
   },
   {
    "duration": 17,
    "start_time": "2021-10-20T11:57:40.001Z"
   },
   {
    "duration": 46,
    "start_time": "2021-10-20T11:57:40.020Z"
   },
   {
    "duration": 12,
    "start_time": "2021-10-20T11:57:40.071Z"
   },
   {
    "duration": 15,
    "start_time": "2021-10-20T11:57:40.086Z"
   },
   {
    "duration": 21,
    "start_time": "2021-10-20T11:57:40.103Z"
   },
   {
    "duration": 18,
    "start_time": "2021-10-20T11:57:40.162Z"
   },
   {
    "duration": 27,
    "start_time": "2021-10-20T11:57:40.183Z"
   },
   {
    "duration": 14,
    "start_time": "2021-10-20T11:57:40.213Z"
   },
   {
    "duration": 47,
    "start_time": "2021-10-20T11:57:40.229Z"
   },
   {
    "duration": 780,
    "start_time": "2021-10-20T11:57:40.278Z"
   },
   {
    "duration": 5,
    "start_time": "2021-10-20T11:57:41.062Z"
   },
   {
    "duration": 166614,
    "start_time": "2021-10-20T11:57:41.069Z"
   },
   {
    "duration": 6,
    "start_time": "2021-10-20T12:00:27.685Z"
   },
   {
    "duration": 180,
    "start_time": "2021-10-20T12:00:27.693Z"
   },
   {
    "duration": 4,
    "start_time": "2021-10-20T12:00:27.962Z"
   },
   {
    "duration": 120,
    "start_time": "2021-10-20T12:00:27.968Z"
   },
   {
    "duration": 8,
    "start_time": "2021-10-20T12:00:28.090Z"
   },
   {
    "duration": 13,
    "start_time": "2021-10-20T12:00:28.100Z"
   },
   {
    "duration": 13,
    "start_time": "2021-10-20T12:00:28.115Z"
   },
   {
    "duration": 10,
    "start_time": "2021-10-20T12:00:28.131Z"
   },
   {
    "duration": 7,
    "start_time": "2021-10-20T12:00:28.163Z"
   },
   {
    "duration": 6,
    "start_time": "2021-10-20T12:00:28.173Z"
   },
   {
    "duration": 8,
    "start_time": "2021-10-20T12:00:28.181Z"
   },
   {
    "duration": 8,
    "start_time": "2021-10-20T12:00:28.191Z"
   },
   {
    "duration": 11,
    "start_time": "2021-10-20T12:00:28.201Z"
   },
   {
    "duration": 5,
    "start_time": "2021-10-20T12:00:28.214Z"
   },
   {
    "duration": 7,
    "start_time": "2021-10-20T12:00:28.261Z"
   },
   {
    "duration": 6,
    "start_time": "2021-10-20T12:00:28.270Z"
   },
   {
    "duration": 7,
    "start_time": "2021-10-20T12:43:27.221Z"
   },
   {
    "duration": 8,
    "start_time": "2021-10-20T12:43:36.274Z"
   },
   {
    "duration": 8,
    "start_time": "2021-10-20T12:49:30.667Z"
   },
   {
    "duration": 9,
    "start_time": "2021-10-20T12:51:14.508Z"
   },
   {
    "duration": 427,
    "start_time": "2021-10-20T13:55:05.995Z"
   },
   {
    "duration": 8,
    "start_time": "2021-10-20T13:55:43.908Z"
   },
   {
    "duration": 5,
    "start_time": "2021-10-20T13:56:02.968Z"
   },
   {
    "duration": 8,
    "start_time": "2021-10-20T14:01:25.095Z"
   },
   {
    "duration": 8,
    "start_time": "2021-10-20T14:01:48.982Z"
   },
   {
    "duration": 8,
    "start_time": "2021-10-20T14:02:31.513Z"
   },
   {
    "duration": 147,
    "start_time": "2021-10-20T14:03:10.099Z"
   },
   {
    "duration": 145,
    "start_time": "2021-10-20T14:03:18.093Z"
   },
   {
    "duration": 5,
    "start_time": "2021-10-20T14:03:19.405Z"
   },
   {
    "duration": 150,
    "start_time": "2021-10-20T14:03:36.864Z"
   },
   {
    "duration": 5,
    "start_time": "2021-10-20T14:03:37.467Z"
   },
   {
    "duration": 9,
    "start_time": "2021-10-20T14:24:41.345Z"
   },
   {
    "duration": 10,
    "start_time": "2021-10-20T14:25:02.993Z"
   },
   {
    "duration": 8,
    "start_time": "2021-10-20T14:25:19.146Z"
   },
   {
    "duration": 49,
    "start_time": "2021-10-20T14:31:00.337Z"
   },
   {
    "duration": 6,
    "start_time": "2021-10-20T14:31:01.631Z"
   },
   {
    "duration": 324,
    "start_time": "2021-10-20T14:34:21.546Z"
   },
   {
    "duration": 31,
    "start_time": "2021-10-20T16:01:28.567Z"
   },
   {
    "duration": 38,
    "start_time": "2021-10-20T16:03:04.661Z"
   },
   {
    "duration": 33,
    "start_time": "2021-10-20T16:03:37.639Z"
   },
   {
    "duration": 9,
    "start_time": "2021-10-20T16:03:39.298Z"
   },
   {
    "duration": 8,
    "start_time": "2021-10-20T16:03:45.892Z"
   },
   {
    "duration": 10,
    "start_time": "2021-10-20T16:04:50.504Z"
   },
   {
    "duration": 9,
    "start_time": "2021-10-20T16:05:30.895Z"
   },
   {
    "duration": 642,
    "start_time": "2021-10-20T16:11:07.271Z"
   },
   {
    "duration": 8,
    "start_time": "2021-10-20T16:12:12.723Z"
   },
   {
    "duration": 8,
    "start_time": "2021-10-20T16:12:41.728Z"
   },
   {
    "duration": 10,
    "start_time": "2021-10-20T16:12:56.419Z"
   },
   {
    "duration": 163,
    "start_time": "2021-10-20T16:13:09.522Z"
   },
   {
    "duration": 134,
    "start_time": "2021-10-20T16:13:32.057Z"
   },
   {
    "duration": 5,
    "start_time": "2021-10-20T16:13:33.021Z"
   },
   {
    "duration": 39,
    "start_time": "2021-10-20T16:14:37.828Z"
   },
   {
    "duration": 905,
    "start_time": "2021-10-20T16:17:51.233Z"
   },
   {
    "duration": 112,
    "start_time": "2021-10-20T16:18:09.679Z"
   },
   {
    "duration": 9,
    "start_time": "2021-10-20T16:18:58.411Z"
   },
   {
    "duration": 9,
    "start_time": "2021-10-20T16:19:26.647Z"
   },
   {
    "duration": 9,
    "start_time": "2021-10-20T16:19:54.269Z"
   },
   {
    "duration": 86,
    "start_time": "2021-10-20T16:20:52.905Z"
   },
   {
    "duration": 242,
    "start_time": "2021-10-20T16:21:21.442Z"
   },
   {
    "duration": 1574,
    "start_time": "2021-10-20T16:30:06.555Z"
   },
   {
    "duration": 34,
    "start_time": "2021-10-20T16:30:08.132Z"
   },
   {
    "duration": 29,
    "start_time": "2021-10-20T16:30:08.169Z"
   },
   {
    "duration": 16,
    "start_time": "2021-10-20T16:30:08.200Z"
   },
   {
    "duration": 79,
    "start_time": "2021-10-20T16:30:08.218Z"
   },
   {
    "duration": 16,
    "start_time": "2021-10-20T16:30:08.299Z"
   },
   {
    "duration": 6,
    "start_time": "2021-10-20T16:30:08.317Z"
   },
   {
    "duration": 10,
    "start_time": "2021-10-20T16:30:08.326Z"
   },
   {
    "duration": 5,
    "start_time": "2021-10-20T16:30:08.340Z"
   },
   {
    "duration": 6,
    "start_time": "2021-10-20T16:30:08.383Z"
   },
   {
    "duration": 12,
    "start_time": "2021-10-20T16:30:08.391Z"
   },
   {
    "duration": 19,
    "start_time": "2021-10-20T16:30:08.406Z"
   },
   {
    "duration": 18,
    "start_time": "2021-10-20T16:30:08.427Z"
   },
   {
    "duration": 11,
    "start_time": "2021-10-20T16:30:08.482Z"
   },
   {
    "duration": 4,
    "start_time": "2021-10-20T16:30:08.495Z"
   },
   {
    "duration": 8,
    "start_time": "2021-10-20T16:30:08.502Z"
   },
   {
    "duration": 12,
    "start_time": "2021-10-20T16:30:08.512Z"
   },
   {
    "duration": 8,
    "start_time": "2021-10-20T16:30:08.526Z"
   },
   {
    "duration": 45,
    "start_time": "2021-10-20T16:30:08.537Z"
   },
   {
    "duration": 6,
    "start_time": "2021-10-20T16:30:08.584Z"
   },
   {
    "duration": 6,
    "start_time": "2021-10-20T16:30:08.593Z"
   },
   {
    "duration": 7,
    "start_time": "2021-10-20T16:30:08.601Z"
   },
   {
    "duration": 7,
    "start_time": "2021-10-20T16:30:08.610Z"
   },
   {
    "duration": 7,
    "start_time": "2021-10-20T16:30:08.619Z"
   },
   {
    "duration": 68,
    "start_time": "2021-10-20T16:30:08.629Z"
   },
   {
    "duration": 4,
    "start_time": "2021-10-20T16:30:08.699Z"
   },
   {
    "duration": 10,
    "start_time": "2021-10-20T16:30:08.710Z"
   },
   {
    "duration": 15,
    "start_time": "2021-10-20T16:30:08.726Z"
   },
   {
    "duration": 55,
    "start_time": "2021-10-20T16:30:08.743Z"
   },
   {
    "duration": 11,
    "start_time": "2021-10-20T16:30:08.800Z"
   },
   {
    "duration": 21,
    "start_time": "2021-10-20T16:30:08.814Z"
   },
   {
    "duration": 47,
    "start_time": "2021-10-20T16:30:08.838Z"
   },
   {
    "duration": 18,
    "start_time": "2021-10-20T16:30:08.888Z"
   },
   {
    "duration": 780,
    "start_time": "2021-10-20T16:30:08.909Z"
   },
   {
    "duration": 5,
    "start_time": "2021-10-20T16:30:09.691Z"
   },
   {
    "duration": 159972,
    "start_time": "2021-10-20T16:30:09.698Z"
   },
   {
    "duration": 11,
    "start_time": "2021-10-20T16:32:49.673Z"
   },
   {
    "duration": 298,
    "start_time": "2021-10-20T16:32:49.686Z"
   },
   {
    "duration": 96,
    "start_time": "2021-10-20T16:32:49.987Z"
   },
   {
    "duration": 15,
    "start_time": "2021-10-20T16:32:50.086Z"
   },
   {
    "duration": 8,
    "start_time": "2021-10-20T16:32:50.103Z"
   },
   {
    "duration": 8,
    "start_time": "2021-10-20T16:32:50.113Z"
   },
   {
    "duration": 8,
    "start_time": "2021-10-20T16:32:50.123Z"
   },
   {
    "duration": 54,
    "start_time": "2021-10-20T16:32:50.133Z"
   },
   {
    "duration": 10,
    "start_time": "2021-10-20T16:32:50.189Z"
   },
   {
    "duration": 7,
    "start_time": "2021-10-20T16:32:50.202Z"
   },
   {
    "duration": 9,
    "start_time": "2021-10-20T16:32:50.211Z"
   },
   {
    "duration": 5,
    "start_time": "2021-10-20T16:32:50.223Z"
   },
   {
    "duration": 10,
    "start_time": "2021-10-20T16:32:50.230Z"
   },
   {
    "duration": 5,
    "start_time": "2021-10-20T16:32:50.242Z"
   },
   {
    "duration": 8,
    "start_time": "2021-10-20T16:32:50.282Z"
   },
   {
    "duration": 5,
    "start_time": "2021-10-20T16:32:50.292Z"
   },
   {
    "duration": 14,
    "start_time": "2021-10-20T16:32:50.299Z"
   },
   {
    "duration": 8,
    "start_time": "2021-10-20T16:32:50.315Z"
   },
   {
    "duration": 10,
    "start_time": "2021-10-20T16:32:50.326Z"
   },
   {
    "duration": 50,
    "start_time": "2021-10-20T16:32:50.338Z"
   },
   {
    "duration": 6,
    "start_time": "2021-10-20T16:32:50.391Z"
   },
   {
    "duration": 34,
    "start_time": "2021-10-20T16:32:50.400Z"
   },
   {
    "duration": 52,
    "start_time": "2021-10-20T16:32:50.437Z"
   },
   {
    "duration": 10,
    "start_time": "2021-10-20T16:32:50.492Z"
   },
   {
    "duration": 11,
    "start_time": "2021-10-20T16:32:50.505Z"
   },
   {
    "duration": 12,
    "start_time": "2021-10-20T16:32:50.519Z"
   },
   {
    "duration": 54,
    "start_time": "2021-10-20T16:32:50.534Z"
   },
   {
    "duration": 8,
    "start_time": "2021-10-20T16:32:50.591Z"
   },
   {
    "duration": 9,
    "start_time": "2021-10-20T16:32:50.602Z"
   },
   {
    "duration": 175,
    "start_time": "2021-10-20T16:32:50.613Z"
   },
   {
    "duration": 5,
    "start_time": "2021-10-20T16:32:50.790Z"
   },
   {
    "duration": 594,
    "start_time": "2021-10-20T16:32:50.797Z"
   },
   {
    "duration": 9,
    "start_time": "2021-10-20T16:32:51.393Z"
   },
   {
    "duration": 9,
    "start_time": "2021-10-20T16:32:51.404Z"
   },
   {
    "duration": 8,
    "start_time": "2021-10-20T16:32:51.415Z"
   },
   {
    "duration": 80,
    "start_time": "2021-10-20T16:32:51.426Z"
   },
   {
    "duration": 8,
    "start_time": "2021-10-20T16:32:51.509Z"
   },
   {
    "duration": 8,
    "start_time": "2021-10-20T16:32:51.520Z"
   },
   {
    "duration": 8,
    "start_time": "2021-10-20T16:32:51.530Z"
   },
   {
    "duration": 48,
    "start_time": "2021-10-20T16:32:51.541Z"
   },
   {
    "duration": 190,
    "start_time": "2021-10-20T16:32:51.593Z"
   },
   {
    "duration": 281,
    "start_time": "2021-10-20T16:32:51.786Z"
   },
   {
    "duration": 114,
    "start_time": "2021-10-20T16:32:52.069Z"
   },
   {
    "duration": 99,
    "start_time": "2021-10-20T16:32:52.187Z"
   },
   {
    "duration": 8,
    "start_time": "2021-10-20T16:32:52.294Z"
   },
   {
    "duration": 8,
    "start_time": "2021-10-20T16:32:52.305Z"
   },
   {
    "duration": 78,
    "start_time": "2021-10-20T16:32:52.315Z"
   },
   {
    "duration": 270,
    "start_time": "2021-10-20T16:32:52.483Z"
   },
   {
    "duration": 1628,
    "start_time": "2021-10-20T17:09:31.023Z"
   },
   {
    "duration": 41,
    "start_time": "2021-10-20T17:09:32.654Z"
   },
   {
    "duration": 25,
    "start_time": "2021-10-20T17:09:32.699Z"
   },
   {
    "duration": 11,
    "start_time": "2021-10-20T17:09:32.727Z"
   },
   {
    "duration": 83,
    "start_time": "2021-10-20T17:09:32.741Z"
   },
   {
    "duration": 16,
    "start_time": "2021-10-20T17:09:32.827Z"
   },
   {
    "duration": 6,
    "start_time": "2021-10-20T17:09:32.845Z"
   },
   {
    "duration": 37,
    "start_time": "2021-10-20T17:09:32.853Z"
   },
   {
    "duration": 5,
    "start_time": "2021-10-20T17:09:32.894Z"
   },
   {
    "duration": 6,
    "start_time": "2021-10-20T17:09:32.902Z"
   },
   {
    "duration": 12,
    "start_time": "2021-10-20T17:09:32.910Z"
   },
   {
    "duration": 64,
    "start_time": "2021-10-20T17:09:32.924Z"
   },
   {
    "duration": 17,
    "start_time": "2021-10-20T17:09:32.990Z"
   },
   {
    "duration": 11,
    "start_time": "2021-10-20T17:09:33.010Z"
   },
   {
    "duration": 4,
    "start_time": "2021-10-20T17:09:33.023Z"
   },
   {
    "duration": 7,
    "start_time": "2021-10-20T17:09:33.029Z"
   },
   {
    "duration": 48,
    "start_time": "2021-10-20T17:09:33.038Z"
   },
   {
    "duration": 8,
    "start_time": "2021-10-20T17:09:33.088Z"
   },
   {
    "duration": 6,
    "start_time": "2021-10-20T17:09:33.098Z"
   },
   {
    "duration": 9,
    "start_time": "2021-10-20T17:09:33.106Z"
   },
   {
    "duration": 11,
    "start_time": "2021-10-20T17:09:33.118Z"
   },
   {
    "duration": 9,
    "start_time": "2021-10-20T17:09:33.131Z"
   },
   {
    "duration": 5,
    "start_time": "2021-10-20T17:09:33.182Z"
   },
   {
    "duration": 12,
    "start_time": "2021-10-20T17:09:33.190Z"
   },
   {
    "duration": 15,
    "start_time": "2021-10-20T17:09:33.205Z"
   },
   {
    "duration": 4,
    "start_time": "2021-10-20T17:09:33.222Z"
   },
   {
    "duration": 50,
    "start_time": "2021-10-20T17:09:33.233Z"
   },
   {
    "duration": 16,
    "start_time": "2021-10-20T17:09:33.287Z"
   },
   {
    "duration": 16,
    "start_time": "2021-10-20T17:09:33.306Z"
   },
   {
    "duration": 14,
    "start_time": "2021-10-20T17:09:33.324Z"
   },
   {
    "duration": 46,
    "start_time": "2021-10-20T17:09:33.340Z"
   },
   {
    "duration": 12,
    "start_time": "2021-10-20T17:09:33.388Z"
   },
   {
    "duration": 18,
    "start_time": "2021-10-20T17:09:33.402Z"
   },
   {
    "duration": 786,
    "start_time": "2021-10-20T17:09:33.422Z"
   },
   {
    "duration": 5,
    "start_time": "2021-10-20T17:09:34.211Z"
   },
   {
    "duration": 161172,
    "start_time": "2021-10-20T17:09:34.220Z"
   },
   {
    "duration": 5,
    "start_time": "2021-10-20T17:12:15.394Z"
   },
   {
    "duration": 285,
    "start_time": "2021-10-20T17:12:15.401Z"
   },
   {
    "duration": 94,
    "start_time": "2021-10-20T17:12:15.690Z"
   },
   {
    "duration": 96,
    "start_time": "2021-10-20T17:12:15.788Z"
   },
   {
    "duration": 8,
    "start_time": "2021-10-20T17:12:15.886Z"
   },
   {
    "duration": 13,
    "start_time": "2021-10-20T17:12:15.896Z"
   },
   {
    "duration": 8,
    "start_time": "2021-10-20T17:12:15.912Z"
   },
   {
    "duration": 8,
    "start_time": "2021-10-20T17:12:15.922Z"
   },
   {
    "duration": 5,
    "start_time": "2021-10-20T17:12:15.933Z"
   },
   {
    "duration": 50,
    "start_time": "2021-10-20T17:12:15.940Z"
   },
   {
    "duration": 12,
    "start_time": "2021-10-20T17:12:15.992Z"
   },
   {
    "duration": 5,
    "start_time": "2021-10-20T17:12:16.006Z"
   },
   {
    "duration": 15,
    "start_time": "2021-10-20T17:12:16.014Z"
   },
   {
    "duration": 6,
    "start_time": "2021-10-20T17:12:16.032Z"
   },
   {
    "duration": 10,
    "start_time": "2021-10-20T17:12:16.041Z"
   },
   {
    "duration": 6,
    "start_time": "2021-10-20T17:12:16.083Z"
   },
   {
    "duration": 10,
    "start_time": "2021-10-20T17:12:16.091Z"
   },
   {
    "duration": 9,
    "start_time": "2021-10-20T17:12:16.104Z"
   },
   {
    "duration": 18,
    "start_time": "2021-10-20T17:12:16.115Z"
   },
   {
    "duration": 9,
    "start_time": "2021-10-20T17:12:16.136Z"
   },
   {
    "duration": 5,
    "start_time": "2021-10-20T17:12:16.183Z"
   },
   {
    "duration": 40,
    "start_time": "2021-10-20T17:12:16.191Z"
   },
   {
    "duration": 9,
    "start_time": "2021-10-20T17:12:16.234Z"
   },
   {
    "duration": 41,
    "start_time": "2021-10-20T17:12:16.246Z"
   },
   {
    "duration": 8,
    "start_time": "2021-10-20T17:12:16.289Z"
   },
   {
    "duration": 9,
    "start_time": "2021-10-20T17:12:16.300Z"
   },
   {
    "duration": 7,
    "start_time": "2021-10-20T17:12:16.311Z"
   },
   {
    "duration": 7,
    "start_time": "2021-10-20T17:12:16.321Z"
   },
   {
    "duration": 56,
    "start_time": "2021-10-20T17:12:16.330Z"
   },
   {
    "duration": 149,
    "start_time": "2021-10-20T17:12:16.389Z"
   },
   {
    "duration": 5,
    "start_time": "2021-10-20T17:12:16.540Z"
   },
   {
    "duration": 600,
    "start_time": "2021-10-20T17:12:16.547Z"
   },
   {
    "duration": 9,
    "start_time": "2021-10-20T17:12:17.149Z"
   },
   {
    "duration": 29,
    "start_time": "2021-10-20T17:12:17.160Z"
   },
   {
    "duration": 7,
    "start_time": "2021-10-20T17:12:17.192Z"
   },
   {
    "duration": 40,
    "start_time": "2021-10-20T17:12:17.202Z"
   },
   {
    "duration": 39,
    "start_time": "2021-10-20T17:12:17.244Z"
   },
   {
    "duration": 8,
    "start_time": "2021-10-20T17:12:17.286Z"
   },
   {
    "duration": 8,
    "start_time": "2021-10-20T17:12:17.296Z"
   },
   {
    "duration": 77,
    "start_time": "2021-10-20T17:12:17.307Z"
   },
   {
    "duration": 96,
    "start_time": "2021-10-20T17:12:17.388Z"
   },
   {
    "duration": 285,
    "start_time": "2021-10-20T17:12:17.487Z"
   },
   {
    "duration": 102,
    "start_time": "2021-10-20T17:12:17.781Z"
   },
   {
    "duration": 100,
    "start_time": "2021-10-20T17:12:17.886Z"
   },
   {
    "duration": 10,
    "start_time": "2021-10-20T17:12:17.995Z"
   },
   {
    "duration": 10,
    "start_time": "2021-10-20T17:12:18.008Z"
   },
   {
    "duration": 163,
    "start_time": "2021-10-20T17:12:18.021Z"
   },
   {
    "duration": 333,
    "start_time": "2021-10-20T17:12:18.188Z"
   },
   {
    "duration": 1495,
    "start_time": "2021-10-20T17:29:04.329Z"
   },
   {
    "duration": 35,
    "start_time": "2021-10-20T17:29:06.329Z"
   },
   {
    "duration": 26,
    "start_time": "2021-10-20T17:29:07.054Z"
   },
   {
    "duration": 16,
    "start_time": "2021-10-20T17:29:07.877Z"
   },
   {
    "duration": 62,
    "start_time": "2021-10-20T17:29:08.809Z"
   },
   {
    "duration": 19,
    "start_time": "2021-10-20T17:29:09.609Z"
   },
   {
    "duration": 7,
    "start_time": "2021-10-20T17:29:10.449Z"
   },
   {
    "duration": 11,
    "start_time": "2021-10-20T17:29:11.234Z"
   },
   {
    "duration": 6,
    "start_time": "2021-10-20T17:29:14.985Z"
   },
   {
    "duration": 6,
    "start_time": "2021-10-20T17:29:15.656Z"
   },
   {
    "duration": 13,
    "start_time": "2021-10-20T17:29:16.244Z"
   },
   {
    "duration": 32,
    "start_time": "2021-10-20T17:29:17.681Z"
   },
   {
    "duration": 28,
    "start_time": "2021-10-20T17:29:18.226Z"
   },
   {
    "duration": 12,
    "start_time": "2021-10-20T17:29:18.808Z"
   },
   {
    "duration": 3,
    "start_time": "2021-10-20T17:29:20.823Z"
   },
   {
    "duration": 5,
    "start_time": "2021-10-20T17:29:21.407Z"
   },
   {
    "duration": 8,
    "start_time": "2021-10-20T17:29:22.849Z"
   },
   {
    "duration": 8,
    "start_time": "2021-10-20T17:29:23.311Z"
   },
   {
    "duration": 5,
    "start_time": "2021-10-20T17:29:24.616Z"
   },
   {
    "duration": 9,
    "start_time": "2021-10-20T17:29:24.857Z"
   },
   {
    "duration": 5,
    "start_time": "2021-10-20T17:29:25.119Z"
   },
   {
    "duration": 8,
    "start_time": "2021-10-20T17:29:25.403Z"
   },
   {
    "duration": 5,
    "start_time": "2021-10-20T17:29:25.773Z"
   },
   {
    "duration": 6,
    "start_time": "2021-10-20T17:29:26.052Z"
   },
   {
    "duration": 16,
    "start_time": "2021-10-20T17:29:27.784Z"
   },
   {
    "duration": 4,
    "start_time": "2021-10-20T17:29:29.458Z"
   },
   {
    "duration": 12,
    "start_time": "2021-10-20T17:29:33.117Z"
   },
   {
    "duration": 18,
    "start_time": "2021-10-20T17:29:37.305Z"
   },
   {
    "duration": 18,
    "start_time": "2021-10-20T17:29:39.368Z"
   },
   {
    "duration": 13,
    "start_time": "2021-10-20T17:29:40.560Z"
   },
   {
    "duration": 17,
    "start_time": "2021-10-20T17:29:41.137Z"
   },
   {
    "duration": 14,
    "start_time": "2021-10-20T17:29:42.974Z"
   },
   {
    "duration": 17,
    "start_time": "2021-10-20T17:29:43.730Z"
   },
   {
    "duration": 760,
    "start_time": "2021-10-20T17:30:01.653Z"
   },
   {
    "duration": 6,
    "start_time": "2021-10-20T17:30:04.034Z"
   },
   {
    "duration": 159627,
    "start_time": "2021-10-20T17:30:07.769Z"
   },
   {
    "duration": 4,
    "start_time": "2021-10-20T17:32:47.399Z"
   },
   {
    "duration": 380,
    "start_time": "2021-10-20T17:32:47.406Z"
   },
   {
    "duration": 95,
    "start_time": "2021-10-20T17:32:47.790Z"
   },
   {
    "duration": 9,
    "start_time": "2021-10-20T17:32:47.997Z"
   },
   {
    "duration": 13,
    "start_time": "2021-10-20T17:32:48.010Z"
   },
   {
    "duration": 8,
    "start_time": "2021-10-20T17:32:48.026Z"
   },
   {
    "duration": 49,
    "start_time": "2021-10-20T17:32:48.036Z"
   },
   {
    "duration": 8,
    "start_time": "2021-10-20T17:32:48.087Z"
   },
   {
    "duration": 10,
    "start_time": "2021-10-20T17:32:48.097Z"
   },
   {
    "duration": 5,
    "start_time": "2021-10-20T17:32:48.109Z"
   },
   {
    "duration": 8,
    "start_time": "2021-10-20T17:32:48.116Z"
   },
   {
    "duration": 5,
    "start_time": "2021-10-20T17:32:48.126Z"
   },
   {
    "duration": 49,
    "start_time": "2021-10-20T17:32:48.133Z"
   },
   {
    "duration": 8,
    "start_time": "2021-10-20T17:32:48.184Z"
   },
   {
    "duration": 7,
    "start_time": "2021-10-20T17:32:48.194Z"
   },
   {
    "duration": 5,
    "start_time": "2021-10-20T17:32:48.204Z"
   },
   {
    "duration": 8,
    "start_time": "2021-10-20T17:32:48.211Z"
   },
   {
    "duration": 7,
    "start_time": "2021-10-20T17:32:48.222Z"
   },
   {
    "duration": 63,
    "start_time": "2021-10-20T17:32:48.231Z"
   },
   {
    "duration": 22,
    "start_time": "2021-10-20T17:32:48.303Z"
   },
   {
    "duration": 8,
    "start_time": "2021-10-20T17:32:48.329Z"
   },
   {
    "duration": 74,
    "start_time": "2021-10-20T17:32:48.341Z"
   },
   {
    "duration": 11,
    "start_time": "2021-10-20T17:32:48.418Z"
   },
   {
    "duration": 9,
    "start_time": "2021-10-20T17:32:48.431Z"
   },
   {
    "duration": 8,
    "start_time": "2021-10-20T17:32:48.442Z"
   },
   {
    "duration": 35,
    "start_time": "2021-10-20T17:32:48.452Z"
   },
   {
    "duration": 8,
    "start_time": "2021-10-20T17:32:48.490Z"
   },
   {
    "duration": 8,
    "start_time": "2021-10-20T17:32:48.500Z"
   },
   {
    "duration": 8,
    "start_time": "2021-10-20T17:32:48.510Z"
   },
   {
    "duration": 189,
    "start_time": "2021-10-20T17:32:48.520Z"
   },
   {
    "duration": 5,
    "start_time": "2021-10-20T17:32:48.711Z"
   },
   {
    "duration": 606,
    "start_time": "2021-10-20T17:32:48.718Z"
   },
   {
    "duration": 7,
    "start_time": "2021-10-20T17:32:49.327Z"
   },
   {
    "duration": 8,
    "start_time": "2021-10-20T17:32:49.337Z"
   },
   {
    "duration": 41,
    "start_time": "2021-10-20T17:32:49.347Z"
   },
   {
    "duration": 39,
    "start_time": "2021-10-20T17:32:49.391Z"
   },
   {
    "duration": 8,
    "start_time": "2021-10-20T17:32:49.433Z"
   },
   {
    "duration": 45,
    "start_time": "2021-10-20T17:32:49.443Z"
   },
   {
    "duration": 8,
    "start_time": "2021-10-20T17:32:49.491Z"
   },
   {
    "duration": 83,
    "start_time": "2021-10-20T17:32:49.502Z"
   },
   {
    "duration": 92,
    "start_time": "2021-10-20T17:32:49.592Z"
   },
   {
    "duration": 281,
    "start_time": "2021-10-20T17:32:49.686Z"
   },
   {
    "duration": 115,
    "start_time": "2021-10-20T17:32:49.969Z"
   },
   {
    "duration": 100,
    "start_time": "2021-10-20T17:32:50.088Z"
   },
   {
    "duration": 8,
    "start_time": "2021-10-20T17:32:50.191Z"
   },
   {
    "duration": 8,
    "start_time": "2021-10-20T17:32:50.202Z"
   },
   {
    "duration": 76,
    "start_time": "2021-10-20T17:32:50.212Z"
   },
   {
    "duration": 362,
    "start_time": "2021-10-20T17:32:50.291Z"
   },
   {
    "duration": 107,
    "start_time": "2021-10-20T18:29:47.922Z"
   },
   {
    "duration": 6,
    "start_time": "2021-10-20T18:42:57.048Z"
   },
   {
    "duration": 6,
    "start_time": "2021-10-20T18:43:15.333Z"
   },
   {
    "duration": 19,
    "start_time": "2021-10-20T18:44:56.530Z"
   },
   {
    "duration": 6,
    "start_time": "2021-10-20T18:44:58.642Z"
   },
   {
    "duration": 6,
    "start_time": "2021-10-20T18:45:01.825Z"
   },
   {
    "duration": 5,
    "start_time": "2021-10-20T18:55:19.968Z"
   },
   {
    "duration": 5,
    "start_time": "2021-10-20T18:55:40.164Z"
   },
   {
    "duration": 5,
    "start_time": "2021-10-20T18:55:48.142Z"
   },
   {
    "duration": 969,
    "start_time": "2021-10-20T18:56:27.663Z"
   },
   {
    "duration": 5,
    "start_time": "2021-10-20T18:57:31.204Z"
   },
   {
    "duration": 1222,
    "start_time": "2021-10-20T19:09:02.123Z"
   },
   {
    "duration": 6,
    "start_time": "2021-10-20T19:09:03.390Z"
   },
   {
    "duration": 7,
    "start_time": "2021-10-20T19:13:05.707Z"
   },
   {
    "duration": 4,
    "start_time": "2021-10-20T19:13:06.584Z"
   },
   {
    "duration": 385,
    "start_time": "2021-10-20T19:25:05.276Z"
   },
   {
    "duration": 1531,
    "start_time": "2021-10-20T19:28:03.803Z"
   },
   {
    "duration": 34,
    "start_time": "2021-10-20T19:28:05.337Z"
   },
   {
    "duration": 30,
    "start_time": "2021-10-20T19:28:05.374Z"
   },
   {
    "duration": 11,
    "start_time": "2021-10-20T19:28:05.407Z"
   },
   {
    "duration": 87,
    "start_time": "2021-10-20T19:28:05.421Z"
   },
   {
    "duration": 15,
    "start_time": "2021-10-20T19:28:05.510Z"
   },
   {
    "duration": 5,
    "start_time": "2021-10-20T19:28:05.528Z"
   },
   {
    "duration": 10,
    "start_time": "2021-10-20T19:28:05.535Z"
   },
   {
    "duration": 34,
    "start_time": "2021-10-20T19:28:05.550Z"
   },
   {
    "duration": 8,
    "start_time": "2021-10-20T19:28:05.587Z"
   },
   {
    "duration": 14,
    "start_time": "2021-10-20T19:28:05.598Z"
   },
   {
    "duration": 24,
    "start_time": "2021-10-20T19:28:05.615Z"
   },
   {
    "duration": 47,
    "start_time": "2021-10-20T19:28:05.642Z"
   },
   {
    "duration": 14,
    "start_time": "2021-10-20T19:28:05.691Z"
   },
   {
    "duration": 3,
    "start_time": "2021-10-20T19:28:05.708Z"
   },
   {
    "duration": 12,
    "start_time": "2021-10-20T19:28:05.714Z"
   },
   {
    "duration": 9,
    "start_time": "2021-10-20T19:28:05.729Z"
   },
   {
    "duration": 41,
    "start_time": "2021-10-20T19:28:05.741Z"
   },
   {
    "duration": 6,
    "start_time": "2021-10-20T19:28:05.784Z"
   },
   {
    "duration": 7,
    "start_time": "2021-10-20T19:28:05.793Z"
   },
   {
    "duration": 9,
    "start_time": "2021-10-20T19:28:05.803Z"
   },
   {
    "duration": 9,
    "start_time": "2021-10-20T19:28:05.815Z"
   },
   {
    "duration": 8,
    "start_time": "2021-10-20T19:28:05.826Z"
   },
   {
    "duration": 48,
    "start_time": "2021-10-20T19:28:05.836Z"
   },
   {
    "duration": 17,
    "start_time": "2021-10-20T19:28:05.886Z"
   },
   {
    "duration": 5,
    "start_time": "2021-10-20T19:28:05.906Z"
   },
   {
    "duration": 11,
    "start_time": "2021-10-20T19:28:05.918Z"
   },
   {
    "duration": 49,
    "start_time": "2021-10-20T19:28:05.933Z"
   },
   {
    "duration": 18,
    "start_time": "2021-10-20T19:28:05.984Z"
   },
   {
    "duration": 15,
    "start_time": "2021-10-20T19:28:06.005Z"
   },
   {
    "duration": 17,
    "start_time": "2021-10-20T19:28:06.023Z"
   },
   {
    "duration": 47,
    "start_time": "2021-10-20T19:28:06.042Z"
   },
   {
    "duration": 17,
    "start_time": "2021-10-20T19:28:06.091Z"
   },
   {
    "duration": 795,
    "start_time": "2021-10-20T19:28:06.111Z"
   },
   {
    "duration": 4,
    "start_time": "2021-10-20T19:28:06.909Z"
   },
   {
    "duration": 162854,
    "start_time": "2021-10-20T19:28:06.915Z"
   },
   {
    "duration": 13,
    "start_time": "2021-10-20T19:30:49.771Z"
   },
   {
    "duration": 300,
    "start_time": "2021-10-20T19:30:49.786Z"
   },
   {
    "duration": 94,
    "start_time": "2021-10-20T19:30:50.090Z"
   },
   {
    "duration": 95,
    "start_time": "2021-10-20T19:30:50.188Z"
   },
   {
    "duration": 9,
    "start_time": "2021-10-20T19:30:50.286Z"
   },
   {
    "duration": 9,
    "start_time": "2021-10-20T19:30:50.297Z"
   },
   {
    "duration": 9,
    "start_time": "2021-10-20T19:30:50.309Z"
   },
   {
    "duration": 8,
    "start_time": "2021-10-20T19:30:50.320Z"
   },
   {
    "duration": 52,
    "start_time": "2021-10-20T19:30:50.331Z"
   },
   {
    "duration": 6,
    "start_time": "2021-10-20T19:30:50.385Z"
   },
   {
    "duration": 7,
    "start_time": "2021-10-20T19:30:50.394Z"
   },
   {
    "duration": 6,
    "start_time": "2021-10-20T19:30:50.403Z"
   },
   {
    "duration": 7,
    "start_time": "2021-10-20T19:30:50.411Z"
   },
   {
    "duration": 5,
    "start_time": "2021-10-20T19:30:50.421Z"
   },
   {
    "duration": 54,
    "start_time": "2021-10-20T19:30:50.428Z"
   },
   {
    "duration": 6,
    "start_time": "2021-10-20T19:30:50.485Z"
   },
   {
    "duration": 9,
    "start_time": "2021-10-20T19:30:50.493Z"
   },
   {
    "duration": 8,
    "start_time": "2021-10-20T19:30:50.504Z"
   },
   {
    "duration": 8,
    "start_time": "2021-10-20T19:30:50.515Z"
   },
   {
    "duration": 57,
    "start_time": "2021-10-20T19:30:50.525Z"
   },
   {
    "duration": 6,
    "start_time": "2021-10-20T19:30:50.585Z"
   },
   {
    "duration": 34,
    "start_time": "2021-10-20T19:30:50.593Z"
   },
   {
    "duration": 9,
    "start_time": "2021-10-20T19:30:50.630Z"
   },
   {
    "duration": 43,
    "start_time": "2021-10-20T19:30:50.641Z"
   },
   {
    "duration": 11,
    "start_time": "2021-10-20T19:30:50.687Z"
   },
   {
    "duration": 10,
    "start_time": "2021-10-20T19:30:50.701Z"
   },
   {
    "duration": 9,
    "start_time": "2021-10-20T19:30:50.713Z"
   },
   {
    "duration": 8,
    "start_time": "2021-10-20T19:30:50.724Z"
   },
   {
    "duration": 9,
    "start_time": "2021-10-20T19:30:50.783Z"
   },
   {
    "duration": 163,
    "start_time": "2021-10-20T19:30:50.795Z"
   },
   {
    "duration": 6,
    "start_time": "2021-10-20T19:30:50.961Z"
   },
   {
    "duration": 579,
    "start_time": "2021-10-20T19:30:50.981Z"
   },
   {
    "duration": 21,
    "start_time": "2021-10-20T19:30:51.563Z"
   },
   {
    "duration": 8,
    "start_time": "2021-10-20T19:30:51.586Z"
   },
   {
    "duration": 14,
    "start_time": "2021-10-20T19:30:51.596Z"
   },
   {
    "duration": 40,
    "start_time": "2021-10-20T19:30:51.613Z"
   },
   {
    "duration": 34,
    "start_time": "2021-10-20T19:30:51.656Z"
   },
   {
    "duration": 10,
    "start_time": "2021-10-20T19:30:51.692Z"
   },
   {
    "duration": 8,
    "start_time": "2021-10-20T19:30:51.705Z"
   },
   {
    "duration": 69,
    "start_time": "2021-10-20T19:30:51.716Z"
   },
   {
    "duration": 96,
    "start_time": "2021-10-20T19:30:51.788Z"
   },
   {
    "duration": 276,
    "start_time": "2021-10-20T19:30:51.886Z"
   },
   {
    "duration": 124,
    "start_time": "2021-10-20T19:30:52.164Z"
   },
   {
    "duration": 9,
    "start_time": "2021-10-20T19:30:52.383Z"
   },
   {
    "duration": 8,
    "start_time": "2021-10-20T19:30:52.400Z"
   },
   {
    "duration": 8,
    "start_time": "2021-10-20T19:30:52.410Z"
   },
   {
    "duration": 163,
    "start_time": "2021-10-20T19:30:52.420Z"
   },
   {
    "duration": 275,
    "start_time": "2021-10-20T19:30:52.586Z"
   },
   {
    "duration": 20,
    "start_time": "2021-10-20T19:30:52.864Z"
   },
   {
    "duration": 21,
    "start_time": "2021-10-20T19:30:52.886Z"
   },
   {
    "duration": 4,
    "start_time": "2021-10-20T19:30:52.910Z"
   },
   {
    "duration": 6,
    "start_time": "2021-10-20T19:30:52.916Z"
   },
   {
    "duration": 1217,
    "start_time": "2021-10-20T19:30:52.924Z"
   },
   {
    "duration": 6,
    "start_time": "2021-10-20T19:30:54.143Z"
   },
   {
    "duration": 8,
    "start_time": "2021-10-20T19:30:54.151Z"
   },
   {
    "duration": 4,
    "start_time": "2021-10-20T19:30:54.182Z"
   },
   {
    "duration": 233215,
    "start_time": "2021-10-20T19:30:54.189Z"
   },
   {
    "duration": 6,
    "start_time": "2021-10-20T19:34:47.407Z"
   },
   {
    "duration": 5,
    "start_time": "2021-10-20T19:35:55.072Z"
   },
   {
    "duration": 464,
    "start_time": "2021-10-20T19:36:34.308Z"
   },
   {
    "duration": 694,
    "start_time": "2021-10-20T19:36:55.359Z"
   },
   {
    "duration": 70,
    "start_time": "2021-10-20T19:37:10.199Z"
   },
   {
    "duration": 5,
    "start_time": "2021-10-20T19:37:46.629Z"
   },
   {
    "duration": 246,
    "start_time": "2021-10-20T19:42:22.743Z"
   },
   {
    "duration": 5,
    "start_time": "2021-10-20T19:43:46.280Z"
   },
   {
    "duration": 653,
    "start_time": "2021-10-20T19:47:16.815Z"
   },
   {
    "duration": 9,
    "start_time": "2021-10-20T19:47:29.962Z"
   },
   {
    "duration": 9,
    "start_time": "2021-10-20T19:58:15.577Z"
   },
   {
    "duration": 1221,
    "start_time": "2021-10-20T20:00:45.893Z"
   },
   {
    "duration": 1571,
    "start_time": "2021-10-20T20:01:53.555Z"
   },
   {
    "duration": 34,
    "start_time": "2021-10-20T20:01:55.129Z"
   },
   {
    "duration": 29,
    "start_time": "2021-10-20T20:01:55.167Z"
   },
   {
    "duration": 13,
    "start_time": "2021-10-20T20:01:55.199Z"
   },
   {
    "duration": 88,
    "start_time": "2021-10-20T20:01:55.214Z"
   },
   {
    "duration": 16,
    "start_time": "2021-10-20T20:01:55.305Z"
   },
   {
    "duration": 6,
    "start_time": "2021-10-20T20:01:55.324Z"
   },
   {
    "duration": 10,
    "start_time": "2021-10-20T20:01:55.333Z"
   },
   {
    "duration": 38,
    "start_time": "2021-10-20T20:01:55.347Z"
   },
   {
    "duration": 6,
    "start_time": "2021-10-20T20:01:55.388Z"
   },
   {
    "duration": 13,
    "start_time": "2021-10-20T20:01:55.396Z"
   },
   {
    "duration": 18,
    "start_time": "2021-10-20T20:01:55.411Z"
   },
   {
    "duration": 52,
    "start_time": "2021-10-20T20:01:55.432Z"
   },
   {
    "duration": 11,
    "start_time": "2021-10-20T20:01:55.486Z"
   },
   {
    "duration": 3,
    "start_time": "2021-10-20T20:01:55.500Z"
   },
   {
    "duration": 6,
    "start_time": "2021-10-20T20:01:55.505Z"
   },
   {
    "duration": 10,
    "start_time": "2021-10-20T20:01:55.514Z"
   },
   {
    "duration": 7,
    "start_time": "2021-10-20T20:01:55.527Z"
   },
   {
    "duration": 46,
    "start_time": "2021-10-20T20:01:55.537Z"
   },
   {
    "duration": 6,
    "start_time": "2021-10-20T20:01:55.586Z"
   },
   {
    "duration": 6,
    "start_time": "2021-10-20T20:01:55.594Z"
   },
   {
    "duration": 6,
    "start_time": "2021-10-20T20:01:55.602Z"
   },
   {
    "duration": 6,
    "start_time": "2021-10-20T20:01:55.610Z"
   },
   {
    "duration": 6,
    "start_time": "2021-10-20T20:01:55.618Z"
   },
   {
    "duration": 65,
    "start_time": "2021-10-20T20:01:55.626Z"
   },
   {
    "duration": 8,
    "start_time": "2021-10-20T20:01:55.694Z"
   },
   {
    "duration": 10,
    "start_time": "2021-10-20T20:01:55.709Z"
   },
   {
    "duration": 15,
    "start_time": "2021-10-20T20:01:55.723Z"
   },
   {
    "duration": 51,
    "start_time": "2021-10-20T20:01:55.740Z"
   },
   {
    "duration": 12,
    "start_time": "2021-10-20T20:01:55.793Z"
   },
   {
    "duration": 17,
    "start_time": "2021-10-20T20:01:55.807Z"
   },
   {
    "duration": 12,
    "start_time": "2021-10-20T20:01:55.826Z"
   },
   {
    "duration": 53,
    "start_time": "2021-10-20T20:01:55.841Z"
   },
   {
    "duration": 770,
    "start_time": "2021-10-20T20:01:55.896Z"
   },
   {
    "duration": 4,
    "start_time": "2021-10-20T20:01:56.669Z"
   },
   {
    "duration": 164649,
    "start_time": "2021-10-20T20:01:56.682Z"
   },
   {
    "duration": 5,
    "start_time": "2021-10-20T20:04:41.334Z"
   },
   {
    "duration": 345,
    "start_time": "2021-10-20T20:04:41.341Z"
   },
   {
    "duration": 94,
    "start_time": "2021-10-20T20:04:41.689Z"
   },
   {
    "duration": 21,
    "start_time": "2021-10-20T20:04:41.787Z"
   },
   {
    "duration": 11,
    "start_time": "2021-10-20T20:04:41.882Z"
   },
   {
    "duration": 9,
    "start_time": "2021-10-20T20:04:41.896Z"
   },
   {
    "duration": 9,
    "start_time": "2021-10-20T20:04:41.909Z"
   },
   {
    "duration": 62,
    "start_time": "2021-10-20T20:04:41.921Z"
   },
   {
    "duration": 9,
    "start_time": "2021-10-20T20:04:41.986Z"
   },
   {
    "duration": 8,
    "start_time": "2021-10-20T20:04:41.997Z"
   },
   {
    "duration": 9,
    "start_time": "2021-10-20T20:04:42.008Z"
   },
   {
    "duration": 6,
    "start_time": "2021-10-20T20:04:42.020Z"
   },
   {
    "duration": 60,
    "start_time": "2021-10-20T20:04:42.029Z"
   },
   {
    "duration": 7,
    "start_time": "2021-10-20T20:04:42.092Z"
   },
   {
    "duration": 14,
    "start_time": "2021-10-20T20:04:42.102Z"
   },
   {
    "duration": 10,
    "start_time": "2021-10-20T20:04:42.119Z"
   },
   {
    "duration": 9,
    "start_time": "2021-10-20T20:04:42.132Z"
   },
   {
    "duration": 45,
    "start_time": "2021-10-20T20:04:42.143Z"
   },
   {
    "duration": 9,
    "start_time": "2021-10-20T20:04:42.193Z"
   },
   {
    "duration": 10,
    "start_time": "2021-10-20T20:04:42.205Z"
   },
   {
    "duration": 6,
    "start_time": "2021-10-20T20:04:42.218Z"
   },
   {
    "duration": 79,
    "start_time": "2021-10-20T20:04:42.227Z"
   },
   {
    "duration": 10,
    "start_time": "2021-10-20T20:04:42.308Z"
   },
   {
    "duration": 9,
    "start_time": "2021-10-20T20:04:42.321Z"
   },
   {
    "duration": 12,
    "start_time": "2021-10-20T20:04:42.332Z"
   },
   {
    "duration": 42,
    "start_time": "2021-10-20T20:04:42.347Z"
   },
   {
    "duration": 11,
    "start_time": "2021-10-20T20:04:42.391Z"
   },
   {
    "duration": 9,
    "start_time": "2021-10-20T20:04:42.404Z"
   },
   {
    "duration": 8,
    "start_time": "2021-10-20T20:04:42.415Z"
   },
   {
    "duration": 199,
    "start_time": "2021-10-20T20:04:42.426Z"
   },
   {
    "duration": 5,
    "start_time": "2021-10-20T20:04:42.627Z"
   },
   {
    "duration": 624,
    "start_time": "2021-10-20T20:04:42.634Z"
   },
   {
    "duration": 8,
    "start_time": "2021-10-20T20:04:43.261Z"
   },
   {
    "duration": 11,
    "start_time": "2021-10-20T20:04:43.282Z"
   },
   {
    "duration": 11,
    "start_time": "2021-10-20T20:04:43.295Z"
   },
   {
    "duration": 80,
    "start_time": "2021-10-20T20:04:43.308Z"
   },
   {
    "duration": 8,
    "start_time": "2021-10-20T20:04:43.391Z"
   },
   {
    "duration": 8,
    "start_time": "2021-10-20T20:04:43.401Z"
   },
   {
    "duration": 8,
    "start_time": "2021-10-20T20:04:43.411Z"
   },
   {
    "duration": 72,
    "start_time": "2021-10-20T20:04:43.421Z"
   },
   {
    "duration": 6,
    "start_time": "2021-10-20T20:04:43.581Z"
   },
   {
    "duration": 329,
    "start_time": "2021-10-20T20:04:43.590Z"
   },
   {
    "duration": 67,
    "start_time": "2021-10-20T20:04:43.922Z"
   },
   {
    "duration": 191,
    "start_time": "2021-10-20T20:04:43.993Z"
   },
   {
    "duration": 9,
    "start_time": "2021-10-20T20:04:44.194Z"
   },
   {
    "duration": 9,
    "start_time": "2021-10-20T20:04:44.206Z"
   },
   {
    "duration": 69,
    "start_time": "2021-10-20T20:04:44.217Z"
   },
   {
    "duration": 348,
    "start_time": "2021-10-20T20:04:44.290Z"
   },
   {
    "duration": 7,
    "start_time": "2021-10-20T20:04:44.640Z"
   },
   {
    "duration": 38,
    "start_time": "2021-10-20T20:04:44.650Z"
   },
   {
    "duration": 6,
    "start_time": "2021-10-20T20:04:44.691Z"
   },
   {
    "duration": 7,
    "start_time": "2021-10-20T20:04:44.700Z"
   },
   {
    "duration": 11,
    "start_time": "2021-10-20T20:04:44.709Z"
   },
   {
    "duration": 1304,
    "start_time": "2021-10-20T20:04:44.723Z"
   },
   {
    "duration": 6,
    "start_time": "2021-10-20T20:04:46.029Z"
   },
   {
    "duration": 12,
    "start_time": "2021-10-20T20:04:46.038Z"
   },
   {
    "duration": 30,
    "start_time": "2021-10-20T20:04:46.052Z"
   },
   {
    "duration": 227626,
    "start_time": "2021-10-20T20:04:46.086Z"
   },
   {
    "duration": 6,
    "start_time": "2021-10-20T20:08:33.714Z"
   },
   {
    "duration": 110,
    "start_time": "2021-10-20T20:08:33.723Z"
   },
   {
    "duration": 5,
    "start_time": "2021-10-20T20:08:33.836Z"
   },
   {
    "duration": 245,
    "start_time": "2021-10-20T20:08:33.844Z"
   },
   {
    "duration": 102,
    "start_time": "2021-10-20T20:08:34.091Z"
   },
   {
    "duration": 407,
    "start_time": "2021-10-20T20:24:46.396Z"
   },
   {
    "duration": 310,
    "start_time": "2021-10-20T20:24:47.084Z"
   },
   {
    "duration": 12,
    "start_time": "2021-10-20T20:25:04.684Z"
   },
   {
    "duration": 5,
    "start_time": "2021-10-20T20:25:16.054Z"
   },
   {
    "duration": 2373,
    "start_time": "2021-10-20T20:25:21.877Z"
   },
   {
    "duration": 5,
    "start_time": "2021-10-20T20:25:24.253Z"
   },
   {
    "duration": 8,
    "start_time": "2021-10-20T20:28:31.004Z"
   },
   {
    "duration": 5,
    "start_time": "2021-10-20T20:28:32.047Z"
   },
   {
    "duration": 2332,
    "start_time": "2021-10-20T20:28:33.600Z"
   },
   {
    "duration": 5,
    "start_time": "2021-10-20T20:28:35.934Z"
   },
   {
    "duration": 7,
    "start_time": "2021-10-20T20:31:04.523Z"
   },
   {
    "duration": 270,
    "start_time": "2021-10-20T20:43:07.837Z"
   },
   {
    "duration": 262,
    "start_time": "2021-10-20T20:43:10.858Z"
   },
   {
    "duration": 8,
    "start_time": "2021-10-20T20:43:14.341Z"
   },
   {
    "duration": 272,
    "start_time": "2021-10-20T20:44:56.280Z"
   },
   {
    "duration": 7,
    "start_time": "2021-10-20T20:45:48.737Z"
   },
   {
    "duration": 6,
    "start_time": "2021-10-20T21:03:45.692Z"
   },
   {
    "duration": 1534,
    "start_time": "2021-10-20T21:03:58.186Z"
   },
   {
    "duration": 34,
    "start_time": "2021-10-20T21:03:59.722Z"
   },
   {
    "duration": 28,
    "start_time": "2021-10-20T21:04:00.483Z"
   },
   {
    "duration": 14,
    "start_time": "2021-10-20T21:04:01.193Z"
   },
   {
    "duration": 61,
    "start_time": "2021-10-20T21:04:01.810Z"
   },
   {
    "duration": 16,
    "start_time": "2021-10-20T21:04:02.377Z"
   },
   {
    "duration": 6,
    "start_time": "2021-10-20T21:04:03.068Z"
   },
   {
    "duration": 10,
    "start_time": "2021-10-20T21:04:03.792Z"
   },
   {
    "duration": 5,
    "start_time": "2021-10-20T21:04:31.570Z"
   },
   {
    "duration": 6,
    "start_time": "2021-10-20T21:04:33.355Z"
   },
   {
    "duration": 13,
    "start_time": "2021-10-20T21:04:35.050Z"
   },
   {
    "duration": 22,
    "start_time": "2021-10-20T21:04:36.985Z"
   },
   {
    "duration": 19,
    "start_time": "2021-10-20T21:04:37.651Z"
   },
   {
    "duration": 12,
    "start_time": "2021-10-20T21:04:38.499Z"
   },
   {
    "duration": 4,
    "start_time": "2021-10-20T21:04:40.504Z"
   },
   {
    "duration": 5,
    "start_time": "2021-10-20T21:04:41.190Z"
   },
   {
    "duration": 8,
    "start_time": "2021-10-20T21:04:42.572Z"
   },
   {
    "duration": 7,
    "start_time": "2021-10-20T21:04:43.224Z"
   },
   {
    "duration": 6,
    "start_time": "2021-10-20T21:04:44.803Z"
   },
   {
    "duration": 5,
    "start_time": "2021-10-20T21:04:45.034Z"
   },
   {
    "duration": 5,
    "start_time": "2021-10-20T21:04:45.233Z"
   },
   {
    "duration": 5,
    "start_time": "2021-10-20T21:04:45.449Z"
   },
   {
    "duration": 5,
    "start_time": "2021-10-20T21:04:45.657Z"
   },
   {
    "duration": 5,
    "start_time": "2021-10-20T21:04:45.925Z"
   },
   {
    "duration": 17,
    "start_time": "2021-10-20T21:04:50.601Z"
   },
   {
    "duration": 4,
    "start_time": "2021-10-20T21:04:52.126Z"
   },
   {
    "duration": 11,
    "start_time": "2021-10-20T21:04:52.981Z"
   },
   {
    "duration": 22,
    "start_time": "2021-10-20T21:04:54.142Z"
   },
   {
    "duration": 17,
    "start_time": "2021-10-20T21:04:54.659Z"
   },
   {
    "duration": 12,
    "start_time": "2021-10-20T21:04:55.218Z"
   },
   {
    "duration": 16,
    "start_time": "2021-10-20T21:04:55.850Z"
   },
   {
    "duration": 12,
    "start_time": "2021-10-20T21:04:56.369Z"
   },
   {
    "duration": 18,
    "start_time": "2021-10-20T21:04:56.964Z"
   },
   {
    "duration": 197,
    "start_time": "2021-10-20T21:05:02.369Z"
   },
   {
    "duration": 4,
    "start_time": "2021-10-20T21:05:08.072Z"
   },
   {
    "duration": 41260,
    "start_time": "2021-10-20T21:05:11.089Z"
   },
   {
    "duration": 6,
    "start_time": "2021-10-20T21:05:52.352Z"
   },
   {
    "duration": 160,
    "start_time": "2021-10-20T21:06:11.028Z"
   },
   {
    "duration": 4,
    "start_time": "2021-10-20T21:06:11.710Z"
   },
   {
    "duration": 16,
    "start_time": "2021-10-20T21:06:14.323Z"
   },
   {
    "duration": 9,
    "start_time": "2021-10-20T21:06:15.020Z"
   },
   {
    "duration": 8,
    "start_time": "2021-10-20T21:06:18.348Z"
   },
   {
    "duration": 10,
    "start_time": "2021-10-20T21:06:19.007Z"
   },
   {
    "duration": 9,
    "start_time": "2021-10-20T21:06:19.573Z"
   },
   {
    "duration": 6,
    "start_time": "2021-10-20T21:06:21.383Z"
   },
   {
    "duration": 5,
    "start_time": "2021-10-20T21:06:22.011Z"
   },
   {
    "duration": 7,
    "start_time": "2021-10-20T21:06:25.985Z"
   },
   {
    "duration": 5,
    "start_time": "2021-10-20T21:06:26.618Z"
   },
   {
    "duration": 7,
    "start_time": "2021-10-20T21:06:27.865Z"
   },
   {
    "duration": 5,
    "start_time": "2021-10-20T21:06:28.721Z"
   },
   {
    "duration": 8,
    "start_time": "2021-10-20T21:06:29.628Z"
   },
   {
    "duration": 6,
    "start_time": "2021-10-20T21:06:30.337Z"
   },
   {
    "duration": 7,
    "start_time": "2021-10-20T21:06:35.313Z"
   },
   {
    "duration": 8,
    "start_time": "2021-10-20T21:06:36.502Z"
   },
   {
    "duration": 8,
    "start_time": "2021-10-20T21:06:37.135Z"
   },
   {
    "duration": 8,
    "start_time": "2021-10-20T21:06:39.937Z"
   },
   {
    "duration": 5,
    "start_time": "2021-10-20T21:06:41.307Z"
   },
   {
    "duration": 33,
    "start_time": "2021-10-20T21:07:15.878Z"
   },
   {
    "duration": 9,
    "start_time": "2021-10-20T21:07:16.956Z"
   },
   {
    "duration": 9,
    "start_time": "2021-10-20T21:07:18.018Z"
   },
   {
    "duration": 9,
    "start_time": "2021-10-20T21:07:18.785Z"
   },
   {
    "duration": 11,
    "start_time": "2021-10-20T21:07:20.232Z"
   },
   {
    "duration": 9,
    "start_time": "2021-10-20T21:07:23.314Z"
   },
   {
    "duration": 9,
    "start_time": "2021-10-20T21:07:27.187Z"
   },
   {
    "duration": 9,
    "start_time": "2021-10-20T21:07:27.964Z"
   },
   {
    "duration": 123,
    "start_time": "2021-10-20T21:07:28.658Z"
   },
   {
    "duration": 6,
    "start_time": "2021-10-20T21:07:29.531Z"
   },
   {
    "duration": 95,
    "start_time": "2021-10-20T21:07:44.323Z"
   },
   {
    "duration": 8,
    "start_time": "2021-10-20T21:07:45.840Z"
   },
   {
    "duration": 9,
    "start_time": "2021-10-20T21:07:46.954Z"
   },
   {
    "duration": 10,
    "start_time": "2021-10-20T21:07:47.771Z"
   },
   {
    "duration": 9,
    "start_time": "2021-10-20T21:07:53.247Z"
   },
   {
    "duration": 9,
    "start_time": "2021-10-20T21:07:54.009Z"
   },
   {
    "duration": 8,
    "start_time": "2021-10-20T21:07:54.810Z"
   },
   {
    "duration": 15,
    "start_time": "2021-10-20T21:07:55.490Z"
   },
   {
    "duration": 9,
    "start_time": "2021-10-20T21:07:57.392Z"
   },
   {
    "duration": 8,
    "start_time": "2021-10-20T21:07:59.440Z"
   },
   {
    "duration": 9,
    "start_time": "2021-10-20T21:08:00.706Z"
   },
   {
    "duration": 13,
    "start_time": "2021-10-20T21:08:02.240Z"
   },
   {
    "duration": 5,
    "start_time": "2021-10-20T21:08:02.785Z"
   },
   {
    "duration": 262,
    "start_time": "2021-10-20T21:08:05.026Z"
   },
   {
    "duration": 39,
    "start_time": "2021-10-20T21:08:09.044Z"
   },
   {
    "duration": 8,
    "start_time": "2021-10-20T21:08:10.339Z"
   },
   {
    "duration": 8,
    "start_time": "2021-10-20T21:08:11.040Z"
   },
   {
    "duration": 9,
    "start_time": "2021-10-20T21:08:11.736Z"
   },
   {
    "duration": 18,
    "start_time": "2021-10-20T21:08:12.594Z"
   },
   {
    "duration": 324,
    "start_time": "2021-10-20T21:08:16.392Z"
   },
   {
    "duration": 7,
    "start_time": "2021-10-20T21:08:28.577Z"
   },
   {
    "duration": 17,
    "start_time": "2021-10-20T21:08:30.345Z"
   },
   {
    "duration": 5,
    "start_time": "2021-10-20T21:08:32.407Z"
   },
   {
    "duration": 5,
    "start_time": "2021-10-20T21:08:33.122Z"
   },
   {
    "duration": 9,
    "start_time": "2021-10-20T21:08:33.684Z"
   },
   {
    "duration": 1561,
    "start_time": "2021-10-20T21:09:05.158Z"
   },
   {
    "duration": 34,
    "start_time": "2021-10-20T21:09:07.332Z"
   },
   {
    "duration": 28,
    "start_time": "2021-10-20T21:09:07.723Z"
   },
   {
    "duration": 14,
    "start_time": "2021-10-20T21:09:07.930Z"
   },
   {
    "duration": 63,
    "start_time": "2021-10-20T21:09:08.164Z"
   },
   {
    "duration": 19,
    "start_time": "2021-10-20T21:09:08.684Z"
   },
   {
    "duration": 7,
    "start_time": "2021-10-20T21:09:08.915Z"
   },
   {
    "duration": 11,
    "start_time": "2021-10-20T21:09:09.185Z"
   },
   {
    "duration": 6,
    "start_time": "2021-10-20T21:09:10.226Z"
   },
   {
    "duration": 6,
    "start_time": "2021-10-20T21:09:10.427Z"
   },
   {
    "duration": 11,
    "start_time": "2021-10-20T21:09:10.627Z"
   },
   {
    "duration": 22,
    "start_time": "2021-10-20T21:09:11.204Z"
   },
   {
    "duration": 18,
    "start_time": "2021-10-20T21:09:11.541Z"
   },
   {
    "duration": 13,
    "start_time": "2021-10-20T21:09:11.748Z"
   },
   {
    "duration": 4,
    "start_time": "2021-10-20T21:09:13.303Z"
   },
   {
    "duration": 6,
    "start_time": "2021-10-20T21:09:13.831Z"
   },
   {
    "duration": 9,
    "start_time": "2021-10-20T21:09:15.258Z"
   },
   {
    "duration": 9,
    "start_time": "2021-10-20T21:09:15.889Z"
   },
   {
    "duration": 5,
    "start_time": "2021-10-20T21:09:19.290Z"
   },
   {
    "duration": 5,
    "start_time": "2021-10-20T21:09:19.499Z"
   },
   {
    "duration": 5,
    "start_time": "2021-10-20T21:09:19.699Z"
   },
   {
    "duration": 5,
    "start_time": "2021-10-20T21:09:20.565Z"
   },
   {
    "duration": 8,
    "start_time": "2021-10-20T21:09:20.572Z"
   },
   {
    "duration": 7,
    "start_time": "2021-10-20T21:09:20.582Z"
   },
   {
    "duration": 15,
    "start_time": "2021-10-20T21:09:21.180Z"
   },
   {
    "duration": 4,
    "start_time": "2021-10-20T21:09:23.110Z"
   },
   {
    "duration": 13,
    "start_time": "2021-10-20T21:09:23.940Z"
   },
   {
    "duration": 18,
    "start_time": "2021-10-20T21:09:25.463Z"
   },
   {
    "duration": 18,
    "start_time": "2021-10-20T21:09:26.544Z"
   },
   {
    "duration": 14,
    "start_time": "2021-10-20T21:09:27.269Z"
   },
   {
    "duration": 19,
    "start_time": "2021-10-20T21:09:29.069Z"
   },
   {
    "duration": 13,
    "start_time": "2021-10-20T21:09:30.426Z"
   },
   {
    "duration": 17,
    "start_time": "2021-10-20T21:09:31.878Z"
   },
   {
    "duration": 234,
    "start_time": "2021-10-20T21:09:40.081Z"
   },
   {
    "duration": 5,
    "start_time": "2021-10-20T21:09:43.487Z"
   },
   {
    "duration": 49478,
    "start_time": "2021-10-20T21:09:50.519Z"
   },
   {
    "duration": 22,
    "start_time": "2021-10-20T21:10:40.000Z"
   },
   {
    "duration": 856,
    "start_time": "2021-10-20T21:10:40.026Z"
   },
   {
    "duration": 7,
    "start_time": "2021-10-20T21:10:40.886Z"
   },
   {
    "duration": 52,
    "start_time": "2021-10-20T21:10:49.339Z"
   },
   {
    "duration": 10,
    "start_time": "2021-10-20T21:10:49.652Z"
   },
   {
    "duration": 8,
    "start_time": "2021-10-20T21:10:50.223Z"
   },
   {
    "duration": 9,
    "start_time": "2021-10-20T21:10:50.664Z"
   },
   {
    "duration": 9,
    "start_time": "2021-10-20T21:10:51.227Z"
   },
   {
    "duration": 6,
    "start_time": "2021-10-20T21:10:52.110Z"
   },
   {
    "duration": 5,
    "start_time": "2021-10-20T21:10:52.612Z"
   },
   {
    "duration": 7,
    "start_time": "2021-10-20T21:10:53.127Z"
   },
   {
    "duration": 5,
    "start_time": "2021-10-20T21:10:53.349Z"
   },
   {
    "duration": 7,
    "start_time": "2021-10-20T21:10:54.749Z"
   },
   {
    "duration": 6,
    "start_time": "2021-10-20T21:10:55.107Z"
   },
   {
    "duration": 8,
    "start_time": "2021-10-20T21:10:55.505Z"
   },
   {
    "duration": 7,
    "start_time": "2021-10-20T21:10:55.692Z"
   },
   {
    "duration": 8,
    "start_time": "2021-10-20T21:10:56.151Z"
   },
   {
    "duration": 8,
    "start_time": "2021-10-20T21:10:56.835Z"
   },
   {
    "duration": 9,
    "start_time": "2021-10-20T21:10:57.491Z"
   },
   {
    "duration": 8,
    "start_time": "2021-10-20T21:10:57.742Z"
   },
   {
    "duration": 5,
    "start_time": "2021-10-20T21:10:57.998Z"
   },
   {
    "duration": 65,
    "start_time": "2021-10-20T21:10:59.474Z"
   },
   {
    "duration": 9,
    "start_time": "2021-10-20T21:11:00.038Z"
   },
   {
    "duration": 8,
    "start_time": "2021-10-20T21:11:00.587Z"
   },
   {
    "duration": 9,
    "start_time": "2021-10-20T21:11:01.234Z"
   },
   {
    "duration": 10,
    "start_time": "2021-10-20T21:11:02.286Z"
   },
   {
    "duration": 8,
    "start_time": "2021-10-20T21:11:03.418Z"
   },
   {
    "duration": 506,
    "start_time": "2021-10-20T21:11:12.986Z"
   },
   {
    "duration": 9,
    "start_time": "2021-10-20T21:11:14.858Z"
   },
   {
    "duration": 9,
    "start_time": "2021-10-20T21:11:18.673Z"
   },
   {
    "duration": 9,
    "start_time": "2021-10-20T21:11:19.432Z"
   },
   {
    "duration": 36,
    "start_time": "2021-10-20T21:11:22.513Z"
   },
   {
    "duration": 9,
    "start_time": "2021-10-20T21:11:24.637Z"
   },
   {
    "duration": 11,
    "start_time": "2021-10-20T21:11:25.326Z"
   },
   {
    "duration": 10,
    "start_time": "2021-10-20T21:11:25.885Z"
   },
   {
    "duration": 13,
    "start_time": "2021-10-20T21:11:26.133Z"
   },
   {
    "duration": 6,
    "start_time": "2021-10-20T21:11:26.404Z"
   },
   {
    "duration": 317,
    "start_time": "2021-10-20T21:11:27.151Z"
   },
   {
    "duration": 51,
    "start_time": "2021-10-20T21:11:29.037Z"
   },
   {
    "duration": 8,
    "start_time": "2021-10-20T21:11:31.009Z"
   },
   {
    "duration": 8,
    "start_time": "2021-10-20T21:11:31.404Z"
   },
   {
    "duration": 9,
    "start_time": "2021-10-20T21:11:31.643Z"
   },
   {
    "duration": 99,
    "start_time": "2021-10-20T21:11:31.887Z"
   },
   {
    "duration": 252,
    "start_time": "2021-10-20T21:11:33.049Z"
   },
   {
    "duration": 6,
    "start_time": "2021-10-20T21:12:28.584Z"
   },
   {
    "duration": 20,
    "start_time": "2021-10-20T21:12:29.316Z"
   },
   {
    "duration": 5,
    "start_time": "2021-10-20T21:12:30.645Z"
   },
   {
    "duration": 5,
    "start_time": "2021-10-20T21:12:31.172Z"
   },
   {
    "duration": 9,
    "start_time": "2021-10-20T21:12:31.355Z"
   },
   {
    "duration": 394,
    "start_time": "2021-10-20T21:12:33.704Z"
   },
   {
    "duration": 5,
    "start_time": "2021-10-20T21:12:37.946Z"
   },
   {
    "duration": 8,
    "start_time": "2021-10-20T21:12:42.224Z"
   },
   {
    "duration": 5,
    "start_time": "2021-10-20T21:12:44.740Z"
   },
   {
    "duration": 13979,
    "start_time": "2021-10-20T21:12:47.229Z"
   },
   {
    "duration": 6,
    "start_time": "2021-10-20T21:13:01.211Z"
   },
   {
    "duration": 67163,
    "start_time": "2021-10-20T21:13:04.185Z"
   },
   {
    "duration": 6,
    "start_time": "2021-10-20T21:14:11.351Z"
   },
   {
    "duration": 94,
    "start_time": "2021-10-20T21:14:11.360Z"
   },
   {
    "duration": 4,
    "start_time": "2021-10-20T21:14:11.457Z"
   },
   {
    "duration": 400,
    "start_time": "2021-10-20T21:14:26.584Z"
   },
   {
    "duration": 7,
    "start_time": "2021-10-20T21:14:29.159Z"
   },
   {
    "duration": 11,
    "start_time": "2021-10-20T21:14:33.560Z"
   },
   {
    "duration": 2039,
    "start_time": "2021-10-20T21:14:48.870Z"
   },
   {
    "duration": 5,
    "start_time": "2021-10-20T21:14:50.912Z"
   },
   {
    "duration": 7,
    "start_time": "2021-10-20T21:15:00.191Z"
   },
   {
    "duration": 227,
    "start_time": "2021-10-20T21:15:03.257Z"
   },
   {
    "duration": 254,
    "start_time": "2021-10-20T21:15:04.915Z"
   },
   {
    "duration": 6,
    "start_time": "2021-10-20T21:15:06.705Z"
   },
   {
    "duration": 6,
    "start_time": "2021-10-20T21:15:08.254Z"
   },
   {
    "duration": 1584,
    "start_time": "2021-10-20T21:15:33.644Z"
   },
   {
    "duration": 33,
    "start_time": "2021-10-20T21:15:35.230Z"
   },
   {
    "duration": 29,
    "start_time": "2021-10-20T21:15:35.266Z"
   },
   {
    "duration": 18,
    "start_time": "2021-10-20T21:15:35.299Z"
   },
   {
    "duration": 84,
    "start_time": "2021-10-20T21:15:35.320Z"
   },
   {
    "duration": 16,
    "start_time": "2021-10-20T21:15:35.407Z"
   },
   {
    "duration": 6,
    "start_time": "2021-10-20T21:15:35.425Z"
   },
   {
    "duration": 11,
    "start_time": "2021-10-20T21:15:35.433Z"
   },
   {
    "duration": 5,
    "start_time": "2021-10-20T21:15:35.447Z"
   },
   {
    "duration": 6,
    "start_time": "2021-10-20T21:15:35.483Z"
   },
   {
    "duration": 14,
    "start_time": "2021-10-20T21:15:35.491Z"
   },
   {
    "duration": 19,
    "start_time": "2021-10-20T21:15:35.508Z"
   },
   {
    "duration": 17,
    "start_time": "2021-10-20T21:15:35.530Z"
   },
   {
    "duration": 41,
    "start_time": "2021-10-20T21:15:35.549Z"
   },
   {
    "duration": 3,
    "start_time": "2021-10-20T21:15:35.593Z"
   },
   {
    "duration": 8,
    "start_time": "2021-10-20T21:15:35.598Z"
   },
   {
    "duration": 11,
    "start_time": "2021-10-20T21:15:35.609Z"
   },
   {
    "duration": 9,
    "start_time": "2021-10-20T21:15:35.624Z"
   },
   {
    "duration": 48,
    "start_time": "2021-10-20T21:15:35.636Z"
   },
   {
    "duration": 14,
    "start_time": "2021-10-20T21:15:35.686Z"
   },
   {
    "duration": 6,
    "start_time": "2021-10-20T21:15:35.702Z"
   },
   {
    "duration": 9,
    "start_time": "2021-10-20T21:15:35.710Z"
   },
   {
    "duration": 6,
    "start_time": "2021-10-20T21:15:35.722Z"
   },
   {
    "duration": 6,
    "start_time": "2021-10-20T21:15:35.730Z"
   },
   {
    "duration": 54,
    "start_time": "2021-10-20T21:15:35.739Z"
   },
   {
    "duration": 5,
    "start_time": "2021-10-20T21:15:35.795Z"
   },
   {
    "duration": 10,
    "start_time": "2021-10-20T21:15:35.808Z"
   },
   {
    "duration": 17,
    "start_time": "2021-10-20T21:15:35.823Z"
   },
   {
    "duration": 55,
    "start_time": "2021-10-20T21:15:35.842Z"
   },
   {
    "duration": 12,
    "start_time": "2021-10-20T21:15:35.900Z"
   },
   {
    "duration": 19,
    "start_time": "2021-10-20T21:15:35.914Z"
   },
   {
    "duration": 51,
    "start_time": "2021-10-20T21:15:35.936Z"
   },
   {
    "duration": 17,
    "start_time": "2021-10-20T21:15:35.989Z"
   },
   {
    "duration": 230,
    "start_time": "2021-10-20T21:15:36.009Z"
   },
   {
    "duration": 5,
    "start_time": "2021-10-20T21:15:36.241Z"
   },
   {
    "duration": 48804,
    "start_time": "2021-10-20T21:15:36.248Z"
   },
   {
    "duration": 6,
    "start_time": "2021-10-20T21:16:25.054Z"
   },
   {
    "duration": 207,
    "start_time": "2021-10-20T21:16:25.082Z"
   },
   {
    "duration": 100,
    "start_time": "2021-10-20T21:16:25.292Z"
   },
   {
    "duration": 16,
    "start_time": "2021-10-20T21:16:25.483Z"
   },
   {
    "duration": 8,
    "start_time": "2021-10-20T21:16:25.502Z"
   },
   {
    "duration": 19,
    "start_time": "2021-10-20T21:16:25.513Z"
   },
   {
    "duration": 9,
    "start_time": "2021-10-20T21:16:25.535Z"
   },
   {
    "duration": 37,
    "start_time": "2021-10-20T21:16:25.547Z"
   },
   {
    "duration": 7,
    "start_time": "2021-10-20T21:16:25.587Z"
   },
   {
    "duration": 9,
    "start_time": "2021-10-20T21:16:25.597Z"
   },
   {
    "duration": 9,
    "start_time": "2021-10-20T21:16:25.608Z"
   },
   {
    "duration": 5,
    "start_time": "2021-10-20T21:16:25.619Z"
   },
   {
    "duration": 11,
    "start_time": "2021-10-20T21:16:25.627Z"
   },
   {
    "duration": 44,
    "start_time": "2021-10-20T21:16:25.641Z"
   },
   {
    "duration": 9,
    "start_time": "2021-10-20T21:16:25.688Z"
   },
   {
    "duration": 5,
    "start_time": "2021-10-20T21:16:25.700Z"
   },
   {
    "duration": 9,
    "start_time": "2021-10-20T21:16:25.708Z"
   },
   {
    "duration": 14,
    "start_time": "2021-10-20T21:16:25.720Z"
   },
   {
    "duration": 48,
    "start_time": "2021-10-20T21:16:25.737Z"
   },
   {
    "duration": 8,
    "start_time": "2021-10-20T21:16:25.788Z"
   },
   {
    "duration": 6,
    "start_time": "2021-10-20T21:16:25.798Z"
   },
   {
    "duration": 33,
    "start_time": "2021-10-20T21:16:25.806Z"
   },
   {
    "duration": 41,
    "start_time": "2021-10-20T21:16:25.842Z"
   },
   {
    "duration": 9,
    "start_time": "2021-10-20T21:16:25.886Z"
   },
   {
    "duration": 8,
    "start_time": "2021-10-20T21:16:25.898Z"
   },
   {
    "duration": 10,
    "start_time": "2021-10-20T21:16:25.909Z"
   },
   {
    "duration": 8,
    "start_time": "2021-10-20T21:16:25.922Z"
   },
   {
    "duration": 56,
    "start_time": "2021-10-20T21:16:25.932Z"
   },
   {
    "duration": 9,
    "start_time": "2021-10-20T21:16:25.990Z"
   },
   {
    "duration": 202,
    "start_time": "2021-10-20T21:16:26.001Z"
   },
   {
    "duration": 5,
    "start_time": "2021-10-20T21:16:26.205Z"
   },
   {
    "duration": 531,
    "start_time": "2021-10-20T21:16:26.212Z"
   },
   {
    "duration": 8,
    "start_time": "2021-10-20T21:16:26.745Z"
   },
   {
    "duration": 28,
    "start_time": "2021-10-20T21:16:26.755Z"
   },
   {
    "duration": 8,
    "start_time": "2021-10-20T21:16:26.785Z"
   },
   {
    "duration": 37,
    "start_time": "2021-10-20T21:16:26.796Z"
   },
   {
    "duration": 8,
    "start_time": "2021-10-20T21:16:26.835Z"
   },
   {
    "duration": 10,
    "start_time": "2021-10-20T21:16:26.881Z"
   },
   {
    "duration": 8,
    "start_time": "2021-10-20T21:16:26.893Z"
   },
   {
    "duration": 82,
    "start_time": "2021-10-20T21:16:26.903Z"
   },
   {
    "duration": 8,
    "start_time": "2021-10-20T21:16:26.989Z"
   },
   {
    "duration": 273,
    "start_time": "2021-10-20T21:16:27.082Z"
   },
   {
    "duration": 42,
    "start_time": "2021-10-20T21:16:27.358Z"
   },
   {
    "duration": 86,
    "start_time": "2021-10-20T21:16:27.402Z"
   },
   {
    "duration": 9,
    "start_time": "2021-10-20T21:16:27.587Z"
   },
   {
    "duration": 8,
    "start_time": "2021-10-20T21:16:27.599Z"
   },
   {
    "duration": 73,
    "start_time": "2021-10-20T21:16:27.609Z"
   },
   {
    "duration": 349,
    "start_time": "2021-10-20T21:16:27.685Z"
   },
   {
    "duration": 7,
    "start_time": "2021-10-20T21:16:28.036Z"
   },
   {
    "duration": 39,
    "start_time": "2021-10-20T21:16:28.045Z"
   },
   {
    "duration": 5,
    "start_time": "2021-10-20T21:16:28.086Z"
   },
   {
    "duration": 5,
    "start_time": "2021-10-20T21:16:28.094Z"
   },
   {
    "duration": 12,
    "start_time": "2021-10-20T21:16:28.101Z"
   },
   {
    "duration": 427,
    "start_time": "2021-10-20T21:16:28.115Z"
   },
   {
    "duration": 6,
    "start_time": "2021-10-20T21:16:28.545Z"
   },
   {
    "duration": 29,
    "start_time": "2021-10-20T21:16:28.553Z"
   },
   {
    "duration": 5,
    "start_time": "2021-10-20T21:16:28.584Z"
   },
   {
    "duration": 67500,
    "start_time": "2021-10-20T21:16:28.591Z"
   },
   {
    "duration": 8,
    "start_time": "2021-10-20T21:17:36.093Z"
   },
   {
    "duration": 109,
    "start_time": "2021-10-20T21:17:36.104Z"
   },
   {
    "duration": 7,
    "start_time": "2021-10-20T21:17:36.215Z"
   },
   {
    "duration": 363,
    "start_time": "2021-10-20T21:17:36.225Z"
   },
   {
    "duration": 94,
    "start_time": "2021-10-20T21:17:36.592Z"
   },
   {
    "duration": 9,
    "start_time": "2021-10-20T21:17:36.688Z"
   },
   {
    "duration": 5,
    "start_time": "2021-10-20T21:17:36.700Z"
   },
   {
    "duration": 2067,
    "start_time": "2021-10-20T21:17:36.708Z"
   },
   {
    "duration": 8,
    "start_time": "2021-10-20T21:17:38.777Z"
   },
   {
    "duration": 9,
    "start_time": "2021-10-20T21:17:38.788Z"
   },
   {
    "duration": 258,
    "start_time": "2021-10-20T21:17:38.799Z"
   },
   {
    "duration": 266,
    "start_time": "2021-10-20T21:17:39.059Z"
   },
   {
    "duration": 7,
    "start_time": "2021-10-20T21:17:39.327Z"
   },
   {
    "duration": 8,
    "start_time": "2021-10-20T21:17:39.337Z"
   },
   {
    "duration": 1543,
    "start_time": "2021-10-21T06:06:46.292Z"
   },
   {
    "duration": 35,
    "start_time": "2021-10-21T06:06:47.838Z"
   },
   {
    "duration": 26,
    "start_time": "2021-10-21T06:06:48.430Z"
   },
   {
    "duration": 15,
    "start_time": "2021-10-21T06:06:52.324Z"
   },
   {
    "duration": 62,
    "start_time": "2021-10-21T06:06:52.667Z"
   },
   {
    "duration": 19,
    "start_time": "2021-10-21T06:06:53.203Z"
   },
   {
    "duration": 7,
    "start_time": "2021-10-21T06:06:54.488Z"
   },
   {
    "duration": 11,
    "start_time": "2021-10-21T06:06:54.710Z"
   },
   {
    "duration": 20,
    "start_time": "2021-10-21T06:07:32.302Z"
   },
   {
    "duration": 5,
    "start_time": "2021-10-21T06:08:25.371Z"
   },
   {
    "duration": 6,
    "start_time": "2021-10-21T06:08:25.830Z"
   },
   {
    "duration": 11,
    "start_time": "2021-10-21T06:09:14.830Z"
   },
   {
    "duration": 20,
    "start_time": "2021-10-21T06:09:16.272Z"
   },
   {
    "duration": 18,
    "start_time": "2021-10-21T06:09:16.747Z"
   },
   {
    "duration": 4,
    "start_time": "2021-10-21T06:09:48.502Z"
   },
   {
    "duration": 8,
    "start_time": "2021-10-21T06:09:49.056Z"
   },
   {
    "duration": 10,
    "start_time": "2021-10-21T06:10:07.967Z"
   },
   {
    "duration": 9,
    "start_time": "2021-10-21T06:10:08.236Z"
   },
   {
    "duration": 5,
    "start_time": "2021-10-21T06:10:08.594Z"
   },
   {
    "duration": 6,
    "start_time": "2021-10-21T06:10:08.831Z"
   },
   {
    "duration": 6,
    "start_time": "2021-10-21T06:10:09.173Z"
   },
   {
    "duration": 5,
    "start_time": "2021-10-21T06:10:11.427Z"
   },
   {
    "duration": 6,
    "start_time": "2021-10-21T06:10:11.617Z"
   },
   {
    "duration": 5,
    "start_time": "2021-10-21T06:10:12.227Z"
   },
   {
    "duration": 16,
    "start_time": "2021-10-21T06:11:04.089Z"
   },
   {
    "duration": 4,
    "start_time": "2021-10-21T06:11:04.779Z"
   },
   {
    "duration": 13,
    "start_time": "2021-10-21T06:11:04.960Z"
   },
   {
    "duration": 17,
    "start_time": "2021-10-21T06:11:05.292Z"
   },
   {
    "duration": 19,
    "start_time": "2021-10-21T06:11:05.460Z"
   },
   {
    "duration": 14,
    "start_time": "2021-10-21T06:11:05.626Z"
   },
   {
    "duration": 17,
    "start_time": "2021-10-21T06:11:05.817Z"
   },
   {
    "duration": 13,
    "start_time": "2021-10-21T06:11:06.008Z"
   },
   {
    "duration": 17,
    "start_time": "2021-10-21T06:11:06.785Z"
   },
   {
    "duration": 215,
    "start_time": "2021-10-21T06:12:26.643Z"
   },
   {
    "duration": 4,
    "start_time": "2021-10-21T06:12:27.210Z"
   },
   {
    "duration": 47117,
    "start_time": "2021-10-21T06:12:37.440Z"
   },
   {
    "duration": 21,
    "start_time": "2021-10-21T06:13:24.560Z"
   },
   {
    "duration": 207,
    "start_time": "2021-10-21T06:13:24.584Z"
   },
   {
    "duration": 6,
    "start_time": "2021-10-21T06:13:24.883Z"
   },
   {
    "duration": 16,
    "start_time": "2021-10-21T06:13:32.074Z"
   },
   {
    "duration": 8,
    "start_time": "2021-10-21T06:13:32.367Z"
   },
   {
    "duration": 8,
    "start_time": "2021-10-21T06:14:02.388Z"
   },
   {
    "duration": 8,
    "start_time": "2021-10-21T06:14:03.053Z"
   },
   {
    "duration": 8,
    "start_time": "2021-10-21T06:14:03.250Z"
   },
   {
    "duration": 7,
    "start_time": "2021-10-21T06:14:03.805Z"
   },
   {
    "duration": 5,
    "start_time": "2021-10-21T06:14:04.005Z"
   },
   {
    "duration": 7,
    "start_time": "2021-10-21T06:14:22.997Z"
   },
   {
    "duration": 5,
    "start_time": "2021-10-21T06:14:23.583Z"
   },
   {
    "duration": 7,
    "start_time": "2021-10-21T06:14:24.761Z"
   },
   {
    "duration": 6,
    "start_time": "2021-10-21T06:14:24.942Z"
   },
   {
    "duration": 9,
    "start_time": "2021-10-21T06:14:25.298Z"
   },
   {
    "duration": 6,
    "start_time": "2021-10-21T06:14:25.488Z"
   },
   {
    "duration": 10,
    "start_time": "2021-10-21T06:14:29.092Z"
   },
   {
    "duration": 10,
    "start_time": "2021-10-21T06:14:29.655Z"
   },
   {
    "duration": 10,
    "start_time": "2021-10-21T06:14:30.054Z"
   },
   {
    "duration": 9,
    "start_time": "2021-10-21T06:14:30.227Z"
   },
   {
    "duration": 4,
    "start_time": "2021-10-21T06:14:30.440Z"
   },
   {
    "duration": 32,
    "start_time": "2021-10-21T06:14:31.248Z"
   },
   {
    "duration": 8,
    "start_time": "2021-10-21T06:14:31.772Z"
   },
   {
    "duration": 9,
    "start_time": "2021-10-21T06:14:31.962Z"
   },
   {
    "duration": 8,
    "start_time": "2021-10-21T06:14:32.137Z"
   },
   {
    "duration": 10,
    "start_time": "2021-10-21T06:14:32.311Z"
   },
   {
    "duration": 8,
    "start_time": "2021-10-21T06:14:32.694Z"
   },
   {
    "duration": 8,
    "start_time": "2021-10-21T06:14:32.931Z"
   },
   {
    "duration": 9,
    "start_time": "2021-10-21T06:14:33.137Z"
   },
   {
    "duration": 113,
    "start_time": "2021-10-21T06:14:33.327Z"
   },
   {
    "duration": 5,
    "start_time": "2021-10-21T06:14:33.532Z"
   },
   {
    "duration": 512,
    "start_time": "2021-10-21T06:14:33.945Z"
   },
   {
    "duration": 23,
    "start_time": "2021-10-21T06:14:34.460Z"
   },
   {
    "duration": 8,
    "start_time": "2021-10-21T06:14:34.485Z"
   },
   {
    "duration": 8,
    "start_time": "2021-10-21T06:14:34.495Z"
   },
   {
    "duration": 37,
    "start_time": "2021-10-21T06:14:34.646Z"
   },
   {
    "duration": 8,
    "start_time": "2021-10-21T06:14:35.698Z"
   },
   {
    "duration": 8,
    "start_time": "2021-10-21T06:14:35.889Z"
   },
   {
    "duration": 8,
    "start_time": "2021-10-21T06:14:36.063Z"
   },
   {
    "duration": 19,
    "start_time": "2021-10-21T06:14:36.243Z"
   },
   {
    "duration": 6,
    "start_time": "2021-10-21T06:14:36.428Z"
   },
   {
    "duration": 317,
    "start_time": "2021-10-21T06:14:36.860Z"
   },
   {
    "duration": 51,
    "start_time": "2021-10-21T06:14:37.834Z"
   },
   {
    "duration": 8,
    "start_time": "2021-10-21T06:14:38.083Z"
   },
   {
    "duration": 8,
    "start_time": "2021-10-21T06:14:38.205Z"
   },
   {
    "duration": 8,
    "start_time": "2021-10-21T06:14:38.379Z"
   },
   {
    "duration": 13,
    "start_time": "2021-10-21T06:14:38.554Z"
   },
   {
    "duration": 303,
    "start_time": "2021-10-21T06:14:38.730Z"
   },
   {
    "duration": 6,
    "start_time": "2021-10-21T06:18:54.672Z"
   },
   {
    "duration": 19,
    "start_time": "2021-10-21T06:18:55.530Z"
   },
   {
    "duration": 6,
    "start_time": "2021-10-21T06:19:31.567Z"
   },
   {
    "duration": 5,
    "start_time": "2021-10-21T06:19:31.757Z"
   },
   {
    "duration": 8,
    "start_time": "2021-10-21T06:19:31.932Z"
   },
   {
    "duration": 384,
    "start_time": "2021-10-21T06:19:37.311Z"
   },
   {
    "duration": 5,
    "start_time": "2021-10-21T06:19:46.990Z"
   },
   {
    "duration": 9,
    "start_time": "2021-10-21T06:19:47.180Z"
   },
   {
    "duration": 4,
    "start_time": "2021-10-21T06:19:47.406Z"
   },
   {
    "duration": 66118,
    "start_time": "2021-10-21T06:19:55.648Z"
   },
   {
    "duration": 15,
    "start_time": "2021-10-21T06:21:01.769Z"
   },
   {
    "duration": 121,
    "start_time": "2021-10-21T06:21:01.787Z"
   },
   {
    "duration": 5,
    "start_time": "2021-10-21T06:21:01.911Z"
   },
   {
    "duration": 467,
    "start_time": "2021-10-21T06:21:01.918Z"
   },
   {
    "duration": 95,
    "start_time": "2021-10-21T06:21:02.389Z"
   },
   {
    "duration": 1492,
    "start_time": "2021-10-21T10:51:54.367Z"
   },
   {
    "duration": 37,
    "start_time": "2021-10-21T10:51:55.862Z"
   },
   {
    "duration": 28,
    "start_time": "2021-10-21T10:51:55.902Z"
   },
   {
    "duration": 14,
    "start_time": "2021-10-21T10:51:55.932Z"
   },
   {
    "duration": 84,
    "start_time": "2021-10-21T10:51:55.949Z"
   },
   {
    "duration": 16,
    "start_time": "2021-10-21T10:51:56.036Z"
   },
   {
    "duration": 6,
    "start_time": "2021-10-21T10:51:56.054Z"
   },
   {
    "duration": 11,
    "start_time": "2021-10-21T10:51:56.062Z"
   },
   {
    "duration": 5,
    "start_time": "2021-10-21T10:51:56.077Z"
   },
   {
    "duration": 43,
    "start_time": "2021-10-21T10:51:56.085Z"
   },
   {
    "duration": 17,
    "start_time": "2021-10-21T10:51:56.130Z"
   },
   {
    "duration": 18,
    "start_time": "2021-10-21T10:51:56.150Z"
   },
   {
    "duration": 17,
    "start_time": "2021-10-21T10:51:56.171Z"
   },
   {
    "duration": 12,
    "start_time": "2021-10-21T10:51:56.223Z"
   },
   {
    "duration": 3,
    "start_time": "2021-10-21T10:51:56.237Z"
   },
   {
    "duration": 12,
    "start_time": "2021-10-21T10:51:56.243Z"
   },
   {
    "duration": 9,
    "start_time": "2021-10-21T10:51:56.257Z"
   },
   {
    "duration": 9,
    "start_time": "2021-10-21T10:51:56.269Z"
   },
   {
    "duration": 42,
    "start_time": "2021-10-21T10:51:56.280Z"
   },
   {
    "duration": 6,
    "start_time": "2021-10-21T10:51:56.326Z"
   },
   {
    "duration": 6,
    "start_time": "2021-10-21T10:51:56.336Z"
   },
   {
    "duration": 6,
    "start_time": "2021-10-21T10:51:56.345Z"
   },
   {
    "duration": 6,
    "start_time": "2021-10-21T10:51:56.353Z"
   },
   {
    "duration": 11,
    "start_time": "2021-10-21T10:51:56.362Z"
   },
   {
    "duration": 66,
    "start_time": "2021-10-21T10:51:56.376Z"
   },
   {
    "duration": 9,
    "start_time": "2021-10-21T10:51:56.444Z"
   },
   {
    "duration": 10,
    "start_time": "2021-10-21T10:51:56.460Z"
   },
   {
    "duration": 16,
    "start_time": "2021-10-21T10:51:56.473Z"
   },
   {
    "duration": 45,
    "start_time": "2021-10-21T10:51:56.492Z"
   },
   {
    "duration": 12,
    "start_time": "2021-10-21T10:51:56.540Z"
   },
   {
    "duration": 17,
    "start_time": "2021-10-21T10:51:56.554Z"
   },
   {
    "duration": 18,
    "start_time": "2021-10-21T10:51:56.573Z"
   },
   {
    "duration": 17,
    "start_time": "2021-10-21T10:51:56.623Z"
   },
   {
    "duration": 229,
    "start_time": "2021-10-21T10:51:56.642Z"
   },
   {
    "duration": 4,
    "start_time": "2021-10-21T10:51:56.874Z"
   },
   {
    "duration": 51777,
    "start_time": "2021-10-21T10:51:56.881Z"
   },
   {
    "duration": 6,
    "start_time": "2021-10-21T10:52:48.660Z"
   },
   {
    "duration": 260,
    "start_time": "2021-10-21T10:52:48.669Z"
   },
   {
    "duration": 91,
    "start_time": "2021-10-21T10:52:48.932Z"
   },
   {
    "duration": 98,
    "start_time": "2021-10-21T10:52:49.027Z"
   },
   {
    "duration": 8,
    "start_time": "2021-10-21T10:52:49.127Z"
   },
   {
    "duration": 14,
    "start_time": "2021-10-21T10:52:49.138Z"
   },
   {
    "duration": 11,
    "start_time": "2021-10-21T10:52:49.155Z"
   },
   {
    "duration": 54,
    "start_time": "2021-10-21T10:52:49.168Z"
   },
   {
    "duration": 7,
    "start_time": "2021-10-21T10:52:49.224Z"
   },
   {
    "duration": 15,
    "start_time": "2021-10-21T10:52:49.233Z"
   },
   {
    "duration": 11,
    "start_time": "2021-10-21T10:52:49.250Z"
   },
   {
    "duration": 16,
    "start_time": "2021-10-21T10:52:49.263Z"
   },
   {
    "duration": 19,
    "start_time": "2021-10-21T10:52:49.281Z"
   },
   {
    "duration": 10,
    "start_time": "2021-10-21T10:52:49.303Z"
   },
   {
    "duration": 10,
    "start_time": "2021-10-21T10:52:49.323Z"
   },
   {
    "duration": 8,
    "start_time": "2021-10-21T10:52:49.336Z"
   },
   {
    "duration": 34,
    "start_time": "2021-10-21T10:52:49.346Z"
   },
   {
    "duration": 35,
    "start_time": "2021-10-21T10:52:49.382Z"
   },
   {
    "duration": 24,
    "start_time": "2021-10-21T10:52:49.419Z"
   },
   {
    "duration": 10,
    "start_time": "2021-10-21T10:52:49.446Z"
   },
   {
    "duration": 10,
    "start_time": "2021-10-21T10:52:49.459Z"
   },
   {
    "duration": 40,
    "start_time": "2021-10-21T10:52:49.471Z"
   },
   {
    "duration": 15,
    "start_time": "2021-10-21T10:52:49.515Z"
   },
   {
    "duration": 17,
    "start_time": "2021-10-21T10:52:49.533Z"
   },
   {
    "duration": 18,
    "start_time": "2021-10-21T10:52:49.552Z"
   },
   {
    "duration": 9,
    "start_time": "2021-10-21T10:52:49.573Z"
   },
   {
    "duration": 10,
    "start_time": "2021-10-21T10:52:49.584Z"
   },
   {
    "duration": 32,
    "start_time": "2021-10-21T10:52:49.596Z"
   },
   {
    "duration": 69,
    "start_time": "2021-10-21T10:52:49.630Z"
   },
   {
    "duration": 141,
    "start_time": "2021-10-21T10:52:49.701Z"
   },
   {
    "duration": 4,
    "start_time": "2021-10-21T10:52:49.845Z"
   },
   {
    "duration": 532,
    "start_time": "2021-10-21T10:52:49.851Z"
   },
   {
    "duration": 8,
    "start_time": "2021-10-21T10:52:50.385Z"
   },
   {
    "duration": 29,
    "start_time": "2021-10-21T10:52:50.395Z"
   },
   {
    "duration": 11,
    "start_time": "2021-10-21T10:52:50.427Z"
   },
   {
    "duration": 51,
    "start_time": "2021-10-21T10:52:50.441Z"
   },
   {
    "duration": 35,
    "start_time": "2021-10-21T10:52:50.494Z"
   },
   {
    "duration": 10,
    "start_time": "2021-10-21T10:52:50.532Z"
   },
   {
    "duration": 11,
    "start_time": "2021-10-21T10:52:50.544Z"
   },
   {
    "duration": 165,
    "start_time": "2021-10-21T10:52:50.558Z"
   },
   {
    "duration": 6,
    "start_time": "2021-10-21T10:52:50.726Z"
   },
   {
    "duration": 328,
    "start_time": "2021-10-21T10:52:50.735Z"
   },
   {
    "duration": 160,
    "start_time": "2021-10-21T10:52:51.066Z"
   },
   {
    "duration": 95,
    "start_time": "2021-10-21T10:52:51.230Z"
   },
   {
    "duration": 8,
    "start_time": "2021-10-21T10:52:51.333Z"
   },
   {
    "duration": 8,
    "start_time": "2021-10-21T10:52:51.344Z"
   },
   {
    "duration": 83,
    "start_time": "2021-10-21T10:52:51.354Z"
   },
   {
    "duration": 304,
    "start_time": "2021-10-21T10:52:51.523Z"
   },
   {
    "duration": 6,
    "start_time": "2021-10-21T10:52:51.829Z"
   },
   {
    "duration": 26,
    "start_time": "2021-10-21T10:52:51.838Z"
   },
   {
    "duration": 5,
    "start_time": "2021-10-21T10:52:51.866Z"
   },
   {
    "duration": 5,
    "start_time": "2021-10-21T10:52:51.874Z"
   },
   {
    "duration": 49,
    "start_time": "2021-10-21T10:52:51.882Z"
   },
   {
    "duration": 419,
    "start_time": "2021-10-21T10:52:51.933Z"
   },
   {
    "duration": 8,
    "start_time": "2021-10-21T10:52:52.355Z"
   },
   {
    "duration": 11,
    "start_time": "2021-10-21T10:52:52.366Z"
   },
   {
    "duration": 6,
    "start_time": "2021-10-21T10:52:52.380Z"
   },
   {
    "duration": 68802,
    "start_time": "2021-10-21T10:52:52.422Z"
   },
   {
    "duration": 7,
    "start_time": "2021-10-21T10:54:01.227Z"
   },
   {
    "duration": 98,
    "start_time": "2021-10-21T10:54:01.237Z"
   },
   {
    "duration": 4,
    "start_time": "2021-10-21T10:54:01.338Z"
   },
   {
    "duration": 387,
    "start_time": "2021-10-21T10:54:01.344Z"
   },
   {
    "duration": 97,
    "start_time": "2021-10-21T10:54:01.825Z"
   },
   {
    "duration": 20,
    "start_time": "2021-10-21T10:54:01.925Z"
   },
   {
    "duration": 10,
    "start_time": "2021-10-21T10:54:01.947Z"
   },
   {
    "duration": 1988,
    "start_time": "2021-10-21T10:54:01.959Z"
   },
   {
    "duration": 4,
    "start_time": "2021-10-21T10:54:03.949Z"
   },
   {
    "duration": 19,
    "start_time": "2021-10-21T10:54:03.955Z"
   },
   {
    "duration": 253,
    "start_time": "2021-10-21T10:54:03.976Z"
   },
   {
    "duration": 260,
    "start_time": "2021-10-21T10:54:04.231Z"
   },
   {
    "duration": 5,
    "start_time": "2021-10-21T10:54:04.493Z"
   },
   {
    "duration": 24,
    "start_time": "2021-10-21T10:54:04.500Z"
   },
   {
    "duration": 95,
    "start_time": "2021-10-21T11:23:16.887Z"
   },
   {
    "duration": 235,
    "start_time": "2021-10-21T11:49:40.550Z"
   },
   {
    "duration": 6,
    "start_time": "2021-10-21T11:49:42.925Z"
   },
   {
    "duration": 48576,
    "start_time": "2021-10-21T11:51:46.682Z"
   },
   {
    "duration": 5,
    "start_time": "2021-10-21T11:52:35.260Z"
   },
   {
    "duration": 408,
    "start_time": "2021-10-21T11:52:53.114Z"
   },
   {
    "duration": 5,
    "start_time": "2021-10-21T11:52:56.162Z"
   },
   {
    "duration": 1582,
    "start_time": "2021-10-21T11:53:27.973Z"
   },
   {
    "duration": 48,
    "start_time": "2021-10-21T11:53:29.559Z"
   },
   {
    "duration": 38,
    "start_time": "2021-10-21T11:53:29.611Z"
   },
   {
    "duration": 17,
    "start_time": "2021-10-21T11:53:29.653Z"
   },
   {
    "duration": 92,
    "start_time": "2021-10-21T11:53:29.673Z"
   },
   {
    "duration": 15,
    "start_time": "2021-10-21T11:53:29.767Z"
   },
   {
    "duration": 5,
    "start_time": "2021-10-21T11:53:29.785Z"
   },
   {
    "duration": 36,
    "start_time": "2021-10-21T11:53:29.793Z"
   },
   {
    "duration": 4,
    "start_time": "2021-10-21T11:53:29.836Z"
   },
   {
    "duration": 11,
    "start_time": "2021-10-21T11:53:29.845Z"
   },
   {
    "duration": 16,
    "start_time": "2021-10-21T11:53:29.859Z"
   },
   {
    "duration": 57,
    "start_time": "2021-10-21T11:53:29.878Z"
   },
   {
    "duration": 18,
    "start_time": "2021-10-21T11:53:29.938Z"
   },
   {
    "duration": 12,
    "start_time": "2021-10-21T11:53:29.959Z"
   },
   {
    "duration": 3,
    "start_time": "2021-10-21T11:53:29.974Z"
   },
   {
    "duration": 44,
    "start_time": "2021-10-21T11:53:29.979Z"
   },
   {
    "duration": 31,
    "start_time": "2021-10-21T11:53:30.026Z"
   },
   {
    "duration": 11,
    "start_time": "2021-10-21T11:53:30.060Z"
   },
   {
    "duration": 16,
    "start_time": "2021-10-21T11:53:30.074Z"
   },
   {
    "duration": 16,
    "start_time": "2021-10-21T11:53:30.093Z"
   },
   {
    "duration": 21,
    "start_time": "2021-10-21T11:53:30.112Z"
   },
   {
    "duration": 20,
    "start_time": "2021-10-21T11:53:30.135Z"
   },
   {
    "duration": 22,
    "start_time": "2021-10-21T11:53:30.157Z"
   },
   {
    "duration": 32,
    "start_time": "2021-10-21T11:53:30.181Z"
   },
   {
    "duration": 36,
    "start_time": "2021-10-21T11:53:30.215Z"
   },
   {
    "duration": 12,
    "start_time": "2021-10-21T11:53:30.254Z"
   },
   {
    "duration": 16,
    "start_time": "2021-10-21T11:53:30.273Z"
   },
   {
    "duration": 31,
    "start_time": "2021-10-21T11:53:30.293Z"
   },
   {
    "duration": 17,
    "start_time": "2021-10-21T11:53:30.326Z"
   },
   {
    "duration": 23,
    "start_time": "2021-10-21T11:53:30.346Z"
   },
   {
    "duration": 33,
    "start_time": "2021-10-21T11:53:30.372Z"
   },
   {
    "duration": 17,
    "start_time": "2021-10-21T11:53:30.427Z"
   },
   {
    "duration": 42,
    "start_time": "2021-10-21T11:53:30.447Z"
   },
   {
    "duration": 274,
    "start_time": "2021-10-21T11:53:30.491Z"
   },
   {
    "duration": 6,
    "start_time": "2021-10-21T11:53:30.767Z"
   },
   {
    "duration": 48495,
    "start_time": "2021-10-21T11:53:30.776Z"
   },
   {
    "duration": 6,
    "start_time": "2021-10-21T11:54:19.273Z"
   },
   {
    "duration": 341,
    "start_time": "2021-10-21T11:54:19.281Z"
   },
   {
    "duration": 100,
    "start_time": "2021-10-21T11:54:19.626Z"
   },
   {
    "duration": 16,
    "start_time": "2021-10-21T11:54:19.729Z"
   },
   {
    "duration": 8,
    "start_time": "2021-10-21T11:54:19.747Z"
   },
   {
    "duration": 8,
    "start_time": "2021-10-21T11:54:19.757Z"
   },
   {
    "duration": 11,
    "start_time": "2021-10-21T11:54:19.768Z"
   },
   {
    "duration": 47,
    "start_time": "2021-10-21T11:54:19.781Z"
   },
   {
    "duration": 8,
    "start_time": "2021-10-21T11:54:19.831Z"
   },
   {
    "duration": 7,
    "start_time": "2021-10-21T11:54:19.841Z"
   },
   {
    "duration": 16,
    "start_time": "2021-10-21T11:54:19.850Z"
   },
   {
    "duration": 5,
    "start_time": "2021-10-21T11:54:19.868Z"
   },
   {
    "duration": 49,
    "start_time": "2021-10-21T11:54:19.875Z"
   },
   {
    "duration": 6,
    "start_time": "2021-10-21T11:54:19.926Z"
   },
   {
    "duration": 14,
    "start_time": "2021-10-21T11:54:19.934Z"
   },
   {
    "duration": 5,
    "start_time": "2021-10-21T11:54:19.951Z"
   },
   {
    "duration": 8,
    "start_time": "2021-10-21T11:54:19.958Z"
   },
   {
    "duration": 8,
    "start_time": "2021-10-21T11:54:19.968Z"
   },
   {
    "duration": 50,
    "start_time": "2021-10-21T11:54:19.979Z"
   },
   {
    "duration": 14,
    "start_time": "2021-10-21T11:54:20.032Z"
   },
   {
    "duration": 5,
    "start_time": "2021-10-21T11:54:20.048Z"
   },
   {
    "duration": 35,
    "start_time": "2021-10-21T11:54:20.055Z"
   },
   {
    "duration": 37,
    "start_time": "2021-10-21T11:54:20.093Z"
   },
   {
    "duration": 14,
    "start_time": "2021-10-21T11:54:20.132Z"
   },
   {
    "duration": 9,
    "start_time": "2021-10-21T11:54:20.148Z"
   },
   {
    "duration": 10,
    "start_time": "2021-10-21T11:54:20.160Z"
   },
   {
    "duration": 53,
    "start_time": "2021-10-21T11:54:20.173Z"
   },
   {
    "duration": 9,
    "start_time": "2021-10-21T11:54:20.229Z"
   },
   {
    "duration": 9,
    "start_time": "2021-10-21T11:54:20.240Z"
   },
   {
    "duration": 212,
    "start_time": "2021-10-21T11:54:20.251Z"
   },
   {
    "duration": 5,
    "start_time": "2021-10-21T11:54:20.466Z"
   },
   {
    "duration": 551,
    "start_time": "2021-10-21T11:54:20.473Z"
   },
   {
    "duration": 8,
    "start_time": "2021-10-21T11:54:21.026Z"
   },
   {
    "duration": 8,
    "start_time": "2021-10-21T11:54:21.037Z"
   },
   {
    "duration": 16,
    "start_time": "2021-10-21T11:54:21.047Z"
   },
   {
    "duration": 75,
    "start_time": "2021-10-21T11:54:21.065Z"
   },
   {
    "duration": 8,
    "start_time": "2021-10-21T11:54:21.142Z"
   },
   {
    "duration": 8,
    "start_time": "2021-10-21T11:54:21.153Z"
   },
   {
    "duration": 8,
    "start_time": "2021-10-21T11:54:21.164Z"
   },
   {
    "duration": 55,
    "start_time": "2021-10-21T11:54:21.175Z"
   },
   {
    "duration": 5,
    "start_time": "2021-10-21T11:54:21.323Z"
   },
   {
    "duration": 277,
    "start_time": "2021-10-21T11:54:21.331Z"
   },
   {
    "duration": 117,
    "start_time": "2021-10-21T11:54:21.611Z"
   },
   {
    "duration": 95,
    "start_time": "2021-10-21T11:54:21.731Z"
   },
   {
    "duration": 10,
    "start_time": "2021-10-21T11:54:21.838Z"
   },
   {
    "duration": 11,
    "start_time": "2021-10-21T11:54:21.852Z"
   },
   {
    "duration": 67,
    "start_time": "2021-10-21T11:54:21.865Z"
   },
   {
    "duration": 348,
    "start_time": "2021-10-21T11:54:22.023Z"
   },
   {
    "duration": 6,
    "start_time": "2021-10-21T11:54:22.373Z"
   },
   {
    "duration": 20,
    "start_time": "2021-10-21T11:54:22.382Z"
   },
   {
    "duration": 5,
    "start_time": "2021-10-21T11:54:22.423Z"
   },
   {
    "duration": 9,
    "start_time": "2021-10-21T11:54:22.431Z"
   },
   {
    "duration": 10,
    "start_time": "2021-10-21T11:54:22.443Z"
   },
   {
    "duration": 427,
    "start_time": "2021-10-21T11:54:22.456Z"
   },
   {
    "duration": 7,
    "start_time": "2021-10-21T11:54:22.885Z"
   },
   {
    "duration": 29,
    "start_time": "2021-10-21T11:54:22.894Z"
   },
   {
    "duration": 5,
    "start_time": "2021-10-21T11:54:22.925Z"
   },
   {
    "duration": 68874,
    "start_time": "2021-10-21T11:54:22.933Z"
   },
   {
    "duration": 14,
    "start_time": "2021-10-21T11:55:31.810Z"
   },
   {
    "duration": 99,
    "start_time": "2021-10-21T11:55:31.826Z"
   },
   {
    "duration": 5,
    "start_time": "2021-10-21T11:55:31.927Z"
   },
   {
    "duration": 496,
    "start_time": "2021-10-21T11:55:31.934Z"
   },
   {
    "duration": 94,
    "start_time": "2021-10-21T11:55:32.433Z"
   },
   {
    "duration": 91,
    "start_time": "2021-10-21T11:55:32.531Z"
   },
   {
    "duration": 6,
    "start_time": "2021-10-21T11:55:32.624Z"
   },
   {
    "duration": 2280,
    "start_time": "2021-10-21T11:55:32.632Z"
   },
   {
    "duration": 11,
    "start_time": "2021-10-21T11:55:34.914Z"
   },
   {
    "duration": 11,
    "start_time": "2021-10-21T11:55:34.928Z"
   },
   {
    "duration": 245,
    "start_time": "2021-10-21T11:55:34.941Z"
   },
   {
    "duration": 273,
    "start_time": "2021-10-21T11:55:35.188Z"
   },
   {
    "duration": 6,
    "start_time": "2021-10-21T11:55:35.464Z"
   },
   {
    "duration": 14,
    "start_time": "2021-10-21T11:55:35.472Z"
   },
   {
    "duration": 1604,
    "start_time": "2021-10-21T11:59:11.169Z"
   },
   {
    "duration": 37,
    "start_time": "2021-10-21T11:59:12.776Z"
   },
   {
    "duration": 29,
    "start_time": "2021-10-21T11:59:12.816Z"
   },
   {
    "duration": 28,
    "start_time": "2021-10-21T11:59:12.848Z"
   },
   {
    "duration": 118,
    "start_time": "2021-10-21T11:59:12.879Z"
   },
   {
    "duration": 31,
    "start_time": "2021-10-21T11:59:13.001Z"
   },
   {
    "duration": 7,
    "start_time": "2021-10-21T11:59:13.353Z"
   },
   {
    "duration": 10,
    "start_time": "2021-10-21T11:59:13.603Z"
   },
   {
    "duration": 5,
    "start_time": "2021-10-21T11:59:15.879Z"
   },
   {
    "duration": 6,
    "start_time": "2021-10-21T11:59:16.669Z"
   },
   {
    "duration": 11,
    "start_time": "2021-10-21T11:59:17.649Z"
   },
   {
    "duration": 35,
    "start_time": "2021-10-21T11:59:18.245Z"
   },
   {
    "duration": 24,
    "start_time": "2021-10-21T11:59:18.615Z"
   },
   {
    "duration": 11,
    "start_time": "2021-10-21T11:59:19.907Z"
   },
   {
    "duration": 4,
    "start_time": "2021-10-21T11:59:20.800Z"
   },
   {
    "duration": 5,
    "start_time": "2021-10-21T11:59:21.099Z"
   },
   {
    "duration": 10,
    "start_time": "2021-10-21T11:59:22.404Z"
   },
   {
    "duration": 11,
    "start_time": "2021-10-21T11:59:25.230Z"
   },
   {
    "duration": 6,
    "start_time": "2021-10-21T11:59:26.264Z"
   },
   {
    "duration": 6,
    "start_time": "2021-10-21T11:59:26.654Z"
   },
   {
    "duration": 5,
    "start_time": "2021-10-21T11:59:26.841Z"
   },
   {
    "duration": 6,
    "start_time": "2021-10-21T11:59:27.017Z"
   },
   {
    "duration": 6,
    "start_time": "2021-10-21T11:59:27.235Z"
   },
   {
    "duration": 6,
    "start_time": "2021-10-21T11:59:28.259Z"
   },
   {
    "duration": 16,
    "start_time": "2021-10-21T11:59:30.388Z"
   },
   {
    "duration": 4,
    "start_time": "2021-10-21T11:59:30.669Z"
   },
   {
    "duration": 11,
    "start_time": "2021-10-21T11:59:31.052Z"
   },
   {
    "duration": 20,
    "start_time": "2021-10-21T11:59:33.021Z"
   },
   {
    "duration": 22,
    "start_time": "2021-10-21T11:59:33.393Z"
   },
   {
    "duration": 15,
    "start_time": "2021-10-21T11:59:33.731Z"
   },
   {
    "duration": 18,
    "start_time": "2021-10-21T11:59:35.004Z"
   },
   {
    "duration": 14,
    "start_time": "2021-10-21T11:59:36.001Z"
   },
   {
    "duration": 20,
    "start_time": "2021-10-21T11:59:36.571Z"
   },
   {
    "duration": 249,
    "start_time": "2021-10-21T11:59:40.598Z"
   },
   {
    "duration": 6,
    "start_time": "2021-10-21T11:59:41.712Z"
   },
   {
    "duration": 52165,
    "start_time": "2021-10-21T11:59:43.363Z"
   },
   {
    "duration": 5,
    "start_time": "2021-10-21T12:00:35.531Z"
   },
   {
    "duration": 290,
    "start_time": "2021-10-21T12:00:35.539Z"
   },
   {
    "duration": 92,
    "start_time": "2021-10-21T12:00:35.833Z"
   },
   {
    "duration": 223,
    "start_time": "2021-10-21T12:07:30.379Z"
   },
   {
    "duration": 8,
    "start_time": "2021-10-21T12:07:48.323Z"
   },
   {
    "duration": 5,
    "start_time": "2021-10-21T12:07:49.262Z"
   },
   {
    "duration": 2154,
    "start_time": "2021-10-21T12:09:21.176Z"
   },
   {
    "duration": 51,
    "start_time": "2021-10-21T12:09:23.333Z"
   },
   {
    "duration": 48,
    "start_time": "2021-10-21T12:09:23.388Z"
   },
   {
    "duration": 18,
    "start_time": "2021-10-21T12:09:23.440Z"
   },
   {
    "duration": 129,
    "start_time": "2021-10-21T12:09:23.461Z"
   },
   {
    "duration": 38,
    "start_time": "2021-10-21T12:09:23.594Z"
   },
   {
    "duration": 9,
    "start_time": "2021-10-21T12:09:23.635Z"
   },
   {
    "duration": 16,
    "start_time": "2021-10-21T12:09:23.650Z"
   },
   {
    "duration": 7,
    "start_time": "2021-10-21T12:09:23.671Z"
   },
   {
    "duration": 49,
    "start_time": "2021-10-21T12:09:23.681Z"
   },
   {
    "duration": 30,
    "start_time": "2021-10-21T12:09:23.734Z"
   },
   {
    "duration": 35,
    "start_time": "2021-10-21T12:09:23.768Z"
   },
   {
    "duration": 42,
    "start_time": "2021-10-21T12:09:23.806Z"
   },
   {
    "duration": 17,
    "start_time": "2021-10-21T12:09:23.851Z"
   },
   {
    "duration": 4,
    "start_time": "2021-10-21T12:09:23.871Z"
   },
   {
    "duration": 45,
    "start_time": "2021-10-21T12:09:23.878Z"
   },
   {
    "duration": 32,
    "start_time": "2021-10-21T12:09:23.926Z"
   },
   {
    "duration": 11,
    "start_time": "2021-10-21T12:09:23.962Z"
   },
   {
    "duration": 12,
    "start_time": "2021-10-21T12:09:23.977Z"
   },
   {
    "duration": 7,
    "start_time": "2021-10-21T12:09:23.991Z"
   },
   {
    "duration": 5,
    "start_time": "2021-10-21T12:09:24.022Z"
   },
   {
    "duration": 14,
    "start_time": "2021-10-21T12:09:24.030Z"
   },
   {
    "duration": 5,
    "start_time": "2021-10-21T12:09:24.051Z"
   },
   {
    "duration": 12,
    "start_time": "2021-10-21T12:09:24.059Z"
   },
   {
    "duration": 62,
    "start_time": "2021-10-21T12:09:24.073Z"
   },
   {
    "duration": 7,
    "start_time": "2021-10-21T12:09:24.137Z"
   },
   {
    "duration": 30,
    "start_time": "2021-10-21T12:09:24.146Z"
   },
   {
    "duration": 35,
    "start_time": "2021-10-21T12:09:24.179Z"
   },
   {
    "duration": 25,
    "start_time": "2021-10-21T12:09:24.216Z"
   },
   {
    "duration": 26,
    "start_time": "2021-10-21T12:09:24.243Z"
   },
   {
    "duration": 26,
    "start_time": "2021-10-21T12:09:24.272Z"
   },
   {
    "duration": 30,
    "start_time": "2021-10-21T12:09:24.300Z"
   },
   {
    "duration": 31,
    "start_time": "2021-10-21T12:09:24.333Z"
   },
   {
    "duration": 233,
    "start_time": "2021-10-21T12:09:24.366Z"
   },
   {
    "duration": 7,
    "start_time": "2021-10-21T12:09:24.601Z"
   },
   {
    "duration": 638,
    "start_time": "2021-10-21T12:09:24.610Z"
   },
   {
    "duration": 38,
    "start_time": "2021-10-21T12:09:25.215Z"
   },
   {
    "duration": 37,
    "start_time": "2021-10-21T12:09:25.217Z"
   },
   {
    "duration": 35,
    "start_time": "2021-10-21T12:09:25.221Z"
   },
   {
    "duration": 25,
    "start_time": "2021-10-21T12:09:25.232Z"
   },
   {
    "duration": 22,
    "start_time": "2021-10-21T12:09:25.237Z"
   },
   {
    "duration": 12,
    "start_time": "2021-10-21T12:09:25.249Z"
   },
   {
    "duration": 9,
    "start_time": "2021-10-21T12:09:25.253Z"
   },
   {
    "duration": 9,
    "start_time": "2021-10-21T12:09:25.255Z"
   },
   {
    "duration": 9,
    "start_time": "2021-10-21T12:09:25.256Z"
   },
   {
    "duration": 9,
    "start_time": "2021-10-21T12:09:25.258Z"
   },
   {
    "duration": 9,
    "start_time": "2021-10-21T12:09:25.259Z"
   },
   {
    "duration": 8,
    "start_time": "2021-10-21T12:09:25.261Z"
   },
   {
    "duration": 7,
    "start_time": "2021-10-21T12:09:25.263Z"
   },
   {
    "duration": 8,
    "start_time": "2021-10-21T12:09:25.264Z"
   },
   {
    "duration": 7,
    "start_time": "2021-10-21T12:09:25.266Z"
   },
   {
    "duration": 8,
    "start_time": "2021-10-21T12:09:25.267Z"
   },
   {
    "duration": 8,
    "start_time": "2021-10-21T12:09:25.268Z"
   },
   {
    "duration": 8,
    "start_time": "2021-10-21T12:09:25.270Z"
   },
   {
    "duration": 8,
    "start_time": "2021-10-21T12:09:25.271Z"
   },
   {
    "duration": 7,
    "start_time": "2021-10-21T12:09:25.273Z"
   },
   {
    "duration": 8,
    "start_time": "2021-10-21T12:09:25.274Z"
   },
   {
    "duration": 7,
    "start_time": "2021-10-21T12:09:25.276Z"
   },
   {
    "duration": 7,
    "start_time": "2021-10-21T12:09:25.277Z"
   },
   {
    "duration": 7,
    "start_time": "2021-10-21T12:09:25.278Z"
   },
   {
    "duration": 7,
    "start_time": "2021-10-21T12:09:25.280Z"
   },
   {
    "duration": 7,
    "start_time": "2021-10-21T12:09:25.281Z"
   },
   {
    "duration": 7,
    "start_time": "2021-10-21T12:09:25.282Z"
   },
   {
    "duration": 33,
    "start_time": "2021-10-21T12:09:25.289Z"
   },
   {
    "duration": 33,
    "start_time": "2021-10-21T12:09:25.291Z"
   },
   {
    "duration": 32,
    "start_time": "2021-10-21T12:09:25.293Z"
   },
   {
    "duration": 32,
    "start_time": "2021-10-21T12:09:25.295Z"
   },
   {
    "duration": 32,
    "start_time": "2021-10-21T12:09:25.296Z"
   },
   {
    "duration": 32,
    "start_time": "2021-10-21T12:09:25.297Z"
   },
   {
    "duration": 31,
    "start_time": "2021-10-21T12:09:25.299Z"
   },
   {
    "duration": 32,
    "start_time": "2021-10-21T12:09:25.300Z"
   },
   {
    "duration": -14,
    "start_time": "2021-10-21T12:09:25.347Z"
   },
   {
    "duration": -36,
    "start_time": "2021-10-21T12:09:25.371Z"
   },
   {
    "duration": -37,
    "start_time": "2021-10-21T12:09:25.373Z"
   },
   {
    "duration": -38,
    "start_time": "2021-10-21T12:09:25.375Z"
   },
   {
    "duration": -37,
    "start_time": "2021-10-21T12:09:25.376Z"
   },
   {
    "duration": -38,
    "start_time": "2021-10-21T12:09:25.378Z"
   },
   {
    "duration": -38,
    "start_time": "2021-10-21T12:09:25.379Z"
   },
   {
    "duration": -37,
    "start_time": "2021-10-21T12:09:25.380Z"
   },
   {
    "duration": -38,
    "start_time": "2021-10-21T12:09:25.382Z"
   },
   {
    "duration": -74,
    "start_time": "2021-10-21T12:09:25.420Z"
   },
   {
    "duration": -117,
    "start_time": "2021-10-21T12:09:25.464Z"
   },
   {
    "duration": -129,
    "start_time": "2021-10-21T12:09:25.477Z"
   },
   {
    "duration": -129,
    "start_time": "2021-10-21T12:09:25.479Z"
   },
   {
    "duration": -130,
    "start_time": "2021-10-21T12:09:25.481Z"
   },
   {
    "duration": -129,
    "start_time": "2021-10-21T12:09:25.482Z"
   },
   {
    "duration": -129,
    "start_time": "2021-10-21T12:09:25.483Z"
   },
   {
    "duration": -130,
    "start_time": "2021-10-21T12:09:25.485Z"
   },
   {
    "duration": -129,
    "start_time": "2021-10-21T12:09:25.486Z"
   },
   {
    "duration": -135,
    "start_time": "2021-10-21T12:09:25.493Z"
   },
   {
    "duration": -136,
    "start_time": "2021-10-21T12:09:25.495Z"
   },
   {
    "duration": -90,
    "start_time": "2021-10-21T12:09:25.511Z"
   },
   {
    "duration": -103,
    "start_time": "2021-10-21T12:09:25.526Z"
   },
   {
    "duration": -116,
    "start_time": "2021-10-21T12:09:25.541Z"
   },
   {
    "duration": -174,
    "start_time": "2021-10-21T12:09:25.600Z"
   },
   {
    "duration": -174,
    "start_time": "2021-10-21T12:09:25.601Z"
   },
   {
    "duration": -174,
    "start_time": "2021-10-21T12:09:25.603Z"
   },
   {
    "duration": -174,
    "start_time": "2021-10-21T12:09:25.604Z"
   },
   {
    "duration": -186,
    "start_time": "2021-10-21T12:09:25.617Z"
   },
   {
    "duration": -199,
    "start_time": "2021-10-21T12:09:25.632Z"
   },
   {
    "duration": -200,
    "start_time": "2021-10-21T12:09:25.634Z"
   },
   {
    "duration": -199,
    "start_time": "2021-10-21T12:09:25.635Z"
   },
   {
    "duration": -200,
    "start_time": "2021-10-21T12:09:25.637Z"
   },
   {
    "duration": -210,
    "start_time": "2021-10-21T12:09:25.649Z"
   },
   {
    "duration": -211,
    "start_time": "2021-10-21T12:09:25.651Z"
   },
   {
    "duration": -211,
    "start_time": "2021-10-21T12:09:25.652Z"
   },
   {
    "duration": -211,
    "start_time": "2021-10-21T12:09:25.654Z"
   },
   {
    "duration": -210,
    "start_time": "2021-10-21T12:09:25.655Z"
   },
   {
    "duration": -219,
    "start_time": "2021-10-21T12:09:25.665Z"
   },
   {
    "duration": -221,
    "start_time": "2021-10-21T12:09:25.669Z"
   },
   {
    "duration": 5,
    "start_time": "2021-10-21T12:09:51.185Z"
   },
   {
    "duration": 53564,
    "start_time": "2021-10-21T12:10:08.531Z"
   },
   {
    "duration": 6,
    "start_time": "2021-10-21T12:11:02.098Z"
   },
   {
    "duration": 23,
    "start_time": "2021-10-21T12:11:02.107Z"
   },
   {
    "duration": 299,
    "start_time": "2021-10-21T12:11:02.132Z"
   },
   {
    "duration": 91,
    "start_time": "2021-10-21T12:11:02.434Z"
   },
   {
    "duration": 25,
    "start_time": "2021-10-21T12:11:02.527Z"
   },
   {
    "duration": 22,
    "start_time": "2021-10-21T12:11:02.554Z"
   },
   {
    "duration": 26,
    "start_time": "2021-10-21T12:11:02.579Z"
   },
   {
    "duration": 21,
    "start_time": "2021-10-21T12:11:02.608Z"
   },
   {
    "duration": 28,
    "start_time": "2021-10-21T12:11:02.631Z"
   },
   {
    "duration": 93,
    "start_time": "2021-10-21T12:11:02.662Z"
   },
   {
    "duration": 18,
    "start_time": "2021-10-21T12:11:02.757Z"
   },
   {
    "duration": 25,
    "start_time": "2021-10-21T12:11:02.777Z"
   },
   {
    "duration": 14,
    "start_time": "2021-10-21T12:11:02.804Z"
   },
   {
    "duration": 22,
    "start_time": "2021-10-21T12:11:02.821Z"
   },
   {
    "duration": 9,
    "start_time": "2021-10-21T12:11:02.846Z"
   },
   {
    "duration": 13,
    "start_time": "2021-10-21T12:11:02.858Z"
   },
   {
    "duration": 16,
    "start_time": "2021-10-21T12:11:02.874Z"
   },
   {
    "duration": 19,
    "start_time": "2021-10-21T12:11:02.892Z"
   },
   {
    "duration": 14,
    "start_time": "2021-10-21T12:11:02.913Z"
   },
   {
    "duration": 8,
    "start_time": "2021-10-21T12:11:02.930Z"
   },
   {
    "duration": 20,
    "start_time": "2021-10-21T12:11:02.940Z"
   },
   {
    "duration": 33,
    "start_time": "2021-10-21T12:11:02.966Z"
   },
   {
    "duration": 42,
    "start_time": "2021-10-21T12:11:03.003Z"
   },
   {
    "duration": 9,
    "start_time": "2021-10-21T12:11:03.047Z"
   },
   {
    "duration": 10,
    "start_time": "2021-10-21T12:11:03.058Z"
   },
   {
    "duration": 11,
    "start_time": "2021-10-21T12:11:03.070Z"
   },
   {
    "duration": 47,
    "start_time": "2021-10-21T12:11:03.083Z"
   },
   {
    "duration": 10,
    "start_time": "2021-10-21T12:11:03.133Z"
   },
   {
    "duration": 9,
    "start_time": "2021-10-21T12:11:03.146Z"
   },
   {
    "duration": 10,
    "start_time": "2021-10-21T12:11:03.158Z"
   },
   {
    "duration": 167,
    "start_time": "2021-10-21T12:11:03.170Z"
   },
   {
    "duration": 7,
    "start_time": "2021-10-21T12:11:03.339Z"
   },
   {
    "duration": 544,
    "start_time": "2021-10-21T12:11:03.349Z"
   },
   {
    "duration": 8,
    "start_time": "2021-10-21T12:11:03.896Z"
   },
   {
    "duration": 23,
    "start_time": "2021-10-21T12:11:03.906Z"
   },
   {
    "duration": 10,
    "start_time": "2021-10-21T12:11:03.932Z"
   },
   {
    "duration": 78,
    "start_time": "2021-10-21T12:11:03.945Z"
   },
   {
    "duration": 9,
    "start_time": "2021-10-21T12:11:04.026Z"
   },
   {
    "duration": 9,
    "start_time": "2021-10-21T12:11:04.037Z"
   },
   {
    "duration": 12,
    "start_time": "2021-10-21T12:11:04.048Z"
   },
   {
    "duration": 67,
    "start_time": "2021-10-21T12:11:04.062Z"
   },
   {
    "duration": 91,
    "start_time": "2021-10-21T12:11:04.133Z"
   },
   {
    "duration": 295,
    "start_time": "2021-10-21T12:11:04.227Z"
   },
   {
    "duration": 100,
    "start_time": "2021-10-21T12:11:04.525Z"
   },
   {
    "duration": 96,
    "start_time": "2021-10-21T12:11:04.628Z"
   },
   {
    "duration": 9,
    "start_time": "2021-10-21T12:11:04.727Z"
   },
   {
    "duration": 11,
    "start_time": "2021-10-21T12:11:04.738Z"
   },
   {
    "duration": 84,
    "start_time": "2021-10-21T12:11:04.752Z"
   },
   {
    "duration": 316,
    "start_time": "2021-10-21T12:11:04.924Z"
   },
   {
    "duration": 7,
    "start_time": "2021-10-21T12:11:05.243Z"
   },
   {
    "duration": 28,
    "start_time": "2021-10-21T12:11:05.252Z"
   },
   {
    "duration": 6,
    "start_time": "2021-10-21T12:11:05.282Z"
   },
   {
    "duration": 36,
    "start_time": "2021-10-21T12:11:05.290Z"
   },
   {
    "duration": 13,
    "start_time": "2021-10-21T12:11:05.328Z"
   },
   {
    "duration": 444,
    "start_time": "2021-10-21T12:11:05.343Z"
   },
   {
    "duration": 6,
    "start_time": "2021-10-21T12:11:05.789Z"
   },
   {
    "duration": 29,
    "start_time": "2021-10-21T12:11:05.797Z"
   },
   {
    "duration": 9,
    "start_time": "2021-10-21T12:11:05.828Z"
   },
   {
    "duration": 71009,
    "start_time": "2021-10-21T12:11:05.839Z"
   },
   {
    "duration": 7,
    "start_time": "2021-10-21T12:12:16.852Z"
   },
   {
    "duration": 145,
    "start_time": "2021-10-21T12:12:16.863Z"
   },
   {
    "duration": 15,
    "start_time": "2021-10-21T12:12:17.011Z"
   },
   {
    "duration": 302,
    "start_time": "2021-10-21T12:12:17.030Z"
   },
   {
    "duration": 93,
    "start_time": "2021-10-21T12:12:17.337Z"
   },
   {
    "duration": 95,
    "start_time": "2021-10-21T12:12:17.433Z"
   },
   {
    "duration": 13,
    "start_time": "2021-10-21T12:12:17.530Z"
   },
   {
    "duration": 2174,
    "start_time": "2021-10-21T12:12:17.550Z"
   },
   {
    "duration": 6,
    "start_time": "2021-10-21T12:12:19.727Z"
   },
   {
    "duration": 19,
    "start_time": "2021-10-21T12:12:19.735Z"
   },
   {
    "duration": 257,
    "start_time": "2021-10-21T12:12:19.756Z"
   },
   {
    "duration": 281,
    "start_time": "2021-10-21T12:12:20.022Z"
   },
   {
    "duration": 16,
    "start_time": "2021-10-21T12:12:20.306Z"
   },
   {
    "duration": 7,
    "start_time": "2021-10-21T12:12:20.325Z"
   },
   {
    "duration": 105,
    "start_time": "2021-10-21T12:46:53.211Z"
   },
   {
    "duration": 8,
    "start_time": "2021-10-21T12:47:08.645Z"
   },
   {
    "duration": 10,
    "start_time": "2021-10-21T12:47:32.154Z"
   },
   {
    "duration": 10,
    "start_time": "2021-10-21T12:48:03.367Z"
   },
   {
    "duration": 5,
    "start_time": "2021-10-21T12:48:30.673Z"
   },
   {
    "duration": 38,
    "start_time": "2021-10-21T13:41:11.635Z"
   },
   {
    "duration": 11,
    "start_time": "2021-10-21T13:41:34.437Z"
   },
   {
    "duration": 8,
    "start_time": "2021-10-21T13:41:48.775Z"
   },
   {
    "duration": 9,
    "start_time": "2021-10-21T13:42:03.819Z"
   },
   {
    "duration": 11,
    "start_time": "2021-10-21T13:42:20.313Z"
   },
   {
    "duration": 8,
    "start_time": "2021-10-21T13:42:49.909Z"
   },
   {
    "duration": 8,
    "start_time": "2021-10-21T13:43:02.554Z"
   },
   {
    "duration": 7,
    "start_time": "2021-10-21T13:43:14.937Z"
   },
   {
    "duration": 4,
    "start_time": "2021-10-21T13:43:34.167Z"
   },
   {
    "duration": 678,
    "start_time": "2021-10-21T13:45:42.145Z"
   },
   {
    "duration": 17,
    "start_time": "2021-10-21T13:45:56.426Z"
   },
   {
    "duration": 8,
    "start_time": "2021-10-21T13:46:44.553Z"
   },
   {
    "duration": 8,
    "start_time": "2021-10-21T13:46:57.307Z"
   },
   {
    "duration": 35,
    "start_time": "2021-10-21T13:47:13.757Z"
   },
   {
    "duration": 9,
    "start_time": "2021-10-21T13:47:44.831Z"
   },
   {
    "duration": 9,
    "start_time": "2021-10-21T13:47:45.511Z"
   },
   {
    "duration": 7,
    "start_time": "2021-10-21T13:47:57.551Z"
   },
   {
    "duration": 4,
    "start_time": "2021-10-21T13:48:09.327Z"
   },
   {
    "duration": 53,
    "start_time": "2021-10-21T13:48:39.882Z"
   },
   {
    "duration": 11,
    "start_time": "2021-10-21T13:48:55.735Z"
   },
   {
    "duration": 8,
    "start_time": "2021-10-21T13:49:10.644Z"
   },
   {
    "duration": 8,
    "start_time": "2021-10-21T13:49:25.480Z"
   },
   {
    "duration": 102,
    "start_time": "2021-10-21T13:49:46.325Z"
   },
   {
    "duration": 1635,
    "start_time": "2021-10-21T13:50:25.060Z"
   },
   {
    "duration": 41,
    "start_time": "2021-10-21T13:50:26.698Z"
   },
   {
    "duration": 26,
    "start_time": "2021-10-21T13:50:26.742Z"
   },
   {
    "duration": 11,
    "start_time": "2021-10-21T13:50:26.771Z"
   },
   {
    "duration": 91,
    "start_time": "2021-10-21T13:50:26.785Z"
   },
   {
    "duration": 16,
    "start_time": "2021-10-21T13:50:26.878Z"
   },
   {
    "duration": 27,
    "start_time": "2021-10-21T13:50:26.896Z"
   },
   {
    "duration": 9,
    "start_time": "2021-10-21T13:50:26.925Z"
   },
   {
    "duration": 7,
    "start_time": "2021-10-21T13:50:26.938Z"
   },
   {
    "duration": 12,
    "start_time": "2021-10-21T13:50:26.948Z"
   },
   {
    "duration": 13,
    "start_time": "2021-10-21T13:50:26.962Z"
   },
   {
    "duration": 47,
    "start_time": "2021-10-21T13:50:26.978Z"
   },
   {
    "duration": 17,
    "start_time": "2021-10-21T13:50:27.027Z"
   },
   {
    "duration": 12,
    "start_time": "2021-10-21T13:50:27.046Z"
   },
   {
    "duration": 5,
    "start_time": "2021-10-21T13:50:27.061Z"
   },
   {
    "duration": 6,
    "start_time": "2021-10-21T13:50:27.070Z"
   },
   {
    "duration": 48,
    "start_time": "2021-10-21T13:50:27.078Z"
   },
   {
    "duration": 8,
    "start_time": "2021-10-21T13:50:27.128Z"
   },
   {
    "duration": 8,
    "start_time": "2021-10-21T13:50:27.138Z"
   },
   {
    "duration": 11,
    "start_time": "2021-10-21T13:50:27.148Z"
   },
   {
    "duration": 11,
    "start_time": "2021-10-21T13:50:27.162Z"
   },
   {
    "duration": 7,
    "start_time": "2021-10-21T13:50:27.175Z"
   },
   {
    "duration": 41,
    "start_time": "2021-10-21T13:50:27.185Z"
   },
   {
    "duration": 20,
    "start_time": "2021-10-21T13:50:27.229Z"
   },
   {
    "duration": 17,
    "start_time": "2021-10-21T13:50:27.252Z"
   },
   {
    "duration": 5,
    "start_time": "2021-10-21T13:50:27.271Z"
   },
   {
    "duration": 20,
    "start_time": "2021-10-21T13:50:27.282Z"
   },
   {
    "duration": 17,
    "start_time": "2021-10-21T13:50:27.322Z"
   },
   {
    "duration": 18,
    "start_time": "2021-10-21T13:50:27.341Z"
   },
   {
    "duration": 19,
    "start_time": "2021-10-21T13:50:27.362Z"
   },
   {
    "duration": 41,
    "start_time": "2021-10-21T13:50:27.383Z"
   },
   {
    "duration": 12,
    "start_time": "2021-10-21T13:50:27.426Z"
   },
   {
    "duration": 31,
    "start_time": "2021-10-21T13:50:27.440Z"
   },
   {
    "duration": 230,
    "start_time": "2021-10-21T13:50:27.474Z"
   },
   {
    "duration": 16,
    "start_time": "2021-10-21T13:50:27.706Z"
   },
   {
    "duration": 5,
    "start_time": "2021-10-21T13:50:27.725Z"
   },
   {
    "duration": 49694,
    "start_time": "2021-10-21T13:50:27.732Z"
   },
   {
    "duration": 7,
    "start_time": "2021-10-21T13:51:17.428Z"
   },
   {
    "duration": 25,
    "start_time": "2021-10-21T13:51:17.437Z"
   },
   {
    "duration": 459,
    "start_time": "2021-10-21T13:51:17.464Z"
   },
   {
    "duration": 5,
    "start_time": "2021-10-21T13:51:17.925Z"
   },
   {
    "duration": 27,
    "start_time": "2021-10-21T13:51:17.932Z"
   },
   {
    "duration": 14,
    "start_time": "2021-10-21T13:51:17.961Z"
   },
   {
    "duration": 16,
    "start_time": "2021-10-21T13:51:17.977Z"
   },
   {
    "duration": 26,
    "start_time": "2021-10-21T13:51:17.996Z"
   },
   {
    "duration": 12,
    "start_time": "2021-10-21T13:51:18.024Z"
   },
   {
    "duration": 12,
    "start_time": "2021-10-21T13:51:18.039Z"
   },
   {
    "duration": 13,
    "start_time": "2021-10-21T13:51:18.054Z"
   },
   {
    "duration": 21,
    "start_time": "2021-10-21T13:51:18.070Z"
   },
   {
    "duration": 16,
    "start_time": "2021-10-21T13:51:18.094Z"
   },
   {
    "duration": 24,
    "start_time": "2021-10-21T13:51:18.112Z"
   },
   {
    "duration": 15,
    "start_time": "2021-10-21T13:51:18.138Z"
   },
   {
    "duration": 21,
    "start_time": "2021-10-21T13:51:18.156Z"
   },
   {
    "duration": 24,
    "start_time": "2021-10-21T13:51:18.180Z"
   },
   {
    "duration": 26,
    "start_time": "2021-10-21T13:51:18.206Z"
   },
   {
    "duration": 20,
    "start_time": "2021-10-21T13:51:18.234Z"
   },
   {
    "duration": 20,
    "start_time": "2021-10-21T13:51:18.256Z"
   },
   {
    "duration": 21,
    "start_time": "2021-10-21T13:51:18.279Z"
   },
   {
    "duration": 15,
    "start_time": "2021-10-21T13:51:18.302Z"
   },
   {
    "duration": 44,
    "start_time": "2021-10-21T13:51:18.319Z"
   },
   {
    "duration": 8,
    "start_time": "2021-10-21T13:51:18.366Z"
   },
   {
    "duration": 10,
    "start_time": "2021-10-21T13:51:18.377Z"
   },
   {
    "duration": 16,
    "start_time": "2021-10-21T13:51:18.390Z"
   },
   {
    "duration": 17,
    "start_time": "2021-10-21T13:51:18.408Z"
   },
   {
    "duration": 22,
    "start_time": "2021-10-21T13:51:18.428Z"
   },
   {
    "duration": 14,
    "start_time": "2021-10-21T13:51:18.514Z"
   },
   {
    "duration": 13,
    "start_time": "2021-10-21T13:51:18.530Z"
   },
   {
    "duration": 131,
    "start_time": "2021-10-21T13:51:18.545Z"
   },
   {
    "duration": 4,
    "start_time": "2021-10-21T13:51:18.679Z"
   },
   {
    "duration": 537,
    "start_time": "2021-10-21T13:51:18.685Z"
   },
   {
    "duration": 8,
    "start_time": "2021-10-21T13:51:19.225Z"
   },
   {
    "duration": 16,
    "start_time": "2021-10-21T13:51:19.235Z"
   },
   {
    "duration": 16,
    "start_time": "2021-10-21T13:51:19.254Z"
   },
   {
    "duration": 57,
    "start_time": "2021-10-21T13:51:19.272Z"
   },
   {
    "duration": 8,
    "start_time": "2021-10-21T13:51:19.332Z"
   },
   {
    "duration": 9,
    "start_time": "2021-10-21T13:51:19.342Z"
   },
   {
    "duration": 21,
    "start_time": "2021-10-21T13:51:19.353Z"
   },
   {
    "duration": 146,
    "start_time": "2021-10-21T13:51:19.377Z"
   },
   {
    "duration": 4,
    "start_time": "2021-10-21T13:51:19.526Z"
   },
   {
    "duration": 300,
    "start_time": "2021-10-21T13:51:19.533Z"
   },
   {
    "duration": 90,
    "start_time": "2021-10-21T13:51:19.842Z"
   },
   {
    "duration": 9,
    "start_time": "2021-10-21T13:51:20.022Z"
   },
   {
    "duration": 14,
    "start_time": "2021-10-21T13:51:20.033Z"
   },
   {
    "duration": 9,
    "start_time": "2021-10-21T13:51:20.050Z"
   },
   {
    "duration": 67,
    "start_time": "2021-10-21T13:51:20.061Z"
   },
   {
    "duration": 356,
    "start_time": "2021-10-21T13:51:20.131Z"
   },
   {
    "duration": 6,
    "start_time": "2021-10-21T13:51:20.490Z"
   },
   {
    "duration": 39,
    "start_time": "2021-10-21T13:51:20.499Z"
   },
   {
    "duration": 5,
    "start_time": "2021-10-21T13:51:20.540Z"
   },
   {
    "duration": 14,
    "start_time": "2021-10-21T13:51:20.548Z"
   },
   {
    "duration": 11,
    "start_time": "2021-10-21T13:51:20.564Z"
   },
   {
    "duration": 431,
    "start_time": "2021-10-21T13:51:20.577Z"
   },
   {
    "duration": 6,
    "start_time": "2021-10-21T13:51:21.010Z"
   },
   {
    "duration": 10,
    "start_time": "2021-10-21T13:51:21.023Z"
   },
   {
    "duration": 5,
    "start_time": "2021-10-21T13:51:21.036Z"
   },
   {
    "duration": 67131,
    "start_time": "2021-10-21T13:51:21.044Z"
   },
   {
    "duration": 6,
    "start_time": "2021-10-21T13:52:28.178Z"
   },
   {
    "duration": 99,
    "start_time": "2021-10-21T13:52:28.186Z"
   },
   {
    "duration": 4,
    "start_time": "2021-10-21T13:52:28.287Z"
   },
   {
    "duration": 234,
    "start_time": "2021-10-21T13:52:28.293Z"
   },
   {
    "duration": 93,
    "start_time": "2021-10-21T13:52:28.529Z"
   },
   {
    "duration": 105,
    "start_time": "2021-10-21T13:52:28.625Z"
   },
   {
    "duration": 12,
    "start_time": "2021-10-21T13:52:28.732Z"
   },
   {
    "duration": 2397,
    "start_time": "2021-10-21T13:52:28.746Z"
   },
   {
    "duration": 5,
    "start_time": "2021-10-21T13:52:31.145Z"
   },
   {
    "duration": 29,
    "start_time": "2021-10-21T13:52:31.152Z"
   },
   {
    "duration": 364,
    "start_time": "2021-10-21T13:52:31.183Z"
   },
   {
    "duration": 268,
    "start_time": "2021-10-21T13:52:31.549Z"
   },
   {
    "duration": 4,
    "start_time": "2021-10-21T13:52:31.822Z"
   },
   {
    "duration": 31,
    "start_time": "2021-10-21T13:52:31.830Z"
   },
   {
    "duration": 7,
    "start_time": "2021-10-21T14:33:43.920Z"
   },
   {
    "duration": 20,
    "start_time": "2021-10-21T14:34:00.010Z"
   },
   {
    "duration": 425,
    "start_time": "2021-10-21T14:34:25.977Z"
   },
   {
    "duration": 4,
    "start_time": "2021-10-21T14:34:46.480Z"
   },
   {
    "duration": 7,
    "start_time": "2021-10-21T14:35:36.319Z"
   },
   {
    "duration": 6,
    "start_time": "2021-10-21T14:35:37.176Z"
   },
   {
    "duration": 5,
    "start_time": "2021-10-21T14:37:02.356Z"
   },
   {
    "duration": 6,
    "start_time": "2021-10-21T14:37:12.696Z"
   },
   {
    "duration": 2720,
    "start_time": "2021-10-21T14:43:46.728Z"
   },
   {
    "duration": 2515,
    "start_time": "2021-10-21T14:44:39.684Z"
   },
   {
    "duration": 2636,
    "start_time": "2021-10-21T14:45:59.748Z"
   },
   {
    "duration": 5,
    "start_time": "2021-10-21T14:46:02.387Z"
   },
   {
    "duration": 5,
    "start_time": "2021-10-21T14:47:21.573Z"
   },
   {
    "duration": 2452,
    "start_time": "2021-10-21T14:52:12.106Z"
   },
   {
    "duration": 6,
    "start_time": "2021-10-21T14:52:14.561Z"
   },
   {
    "duration": 266,
    "start_time": "2021-10-21T14:52:51.899Z"
   },
   {
    "duration": 233,
    "start_time": "2021-10-21T15:00:08.236Z"
   },
   {
    "duration": 265,
    "start_time": "2021-10-21T15:00:12.715Z"
   },
   {
    "duration": 12,
    "start_time": "2021-10-21T15:00:17.422Z"
   },
   {
    "duration": 8,
    "start_time": "2021-10-21T15:00:18.818Z"
   },
   {
    "duration": 1542,
    "start_time": "2021-10-21T15:03:11.428Z"
   },
   {
    "duration": 36,
    "start_time": "2021-10-21T15:03:12.973Z"
   },
   {
    "duration": 31,
    "start_time": "2021-10-21T15:03:13.012Z"
   },
   {
    "duration": 17,
    "start_time": "2021-10-21T15:03:13.045Z"
   },
   {
    "duration": 86,
    "start_time": "2021-10-21T15:03:13.065Z"
   },
   {
    "duration": 17,
    "start_time": "2021-10-21T15:03:13.153Z"
   },
   {
    "duration": 7,
    "start_time": "2021-10-21T15:03:13.172Z"
   },
   {
    "duration": 44,
    "start_time": "2021-10-21T15:03:13.181Z"
   },
   {
    "duration": 6,
    "start_time": "2021-10-21T15:03:13.233Z"
   },
   {
    "duration": 6,
    "start_time": "2021-10-21T15:03:13.244Z"
   },
   {
    "duration": 16,
    "start_time": "2021-10-21T15:03:13.252Z"
   },
   {
    "duration": 20,
    "start_time": "2021-10-21T15:03:13.271Z"
   },
   {
    "duration": 20,
    "start_time": "2021-10-21T15:03:13.322Z"
   },
   {
    "duration": 14,
    "start_time": "2021-10-21T15:03:13.346Z"
   },
   {
    "duration": 4,
    "start_time": "2021-10-21T15:03:13.363Z"
   },
   {
    "duration": 8,
    "start_time": "2021-10-21T15:03:13.369Z"
   },
   {
    "duration": 61,
    "start_time": "2021-10-21T15:03:13.379Z"
   },
   {
    "duration": 8,
    "start_time": "2021-10-21T15:03:13.443Z"
   },
   {
    "duration": 6,
    "start_time": "2021-10-21T15:03:13.453Z"
   },
   {
    "duration": 6,
    "start_time": "2021-10-21T15:03:13.461Z"
   },
   {
    "duration": 9,
    "start_time": "2021-10-21T15:03:13.469Z"
   },
   {
    "duration": 6,
    "start_time": "2021-10-21T15:03:13.481Z"
   },
   {
    "duration": 44,
    "start_time": "2021-10-21T15:03:13.490Z"
   },
   {
    "duration": 6,
    "start_time": "2021-10-21T15:03:13.536Z"
   },
   {
    "duration": 19,
    "start_time": "2021-10-21T15:03:13.544Z"
   },
   {
    "duration": 3,
    "start_time": "2021-10-21T15:03:13.565Z"
   },
   {
    "duration": 53,
    "start_time": "2021-10-21T15:03:13.576Z"
   },
   {
    "duration": 18,
    "start_time": "2021-10-21T15:03:13.634Z"
   },
   {
    "duration": 18,
    "start_time": "2021-10-21T15:03:13.654Z"
   },
   {
    "duration": 11,
    "start_time": "2021-10-21T15:03:13.674Z"
   },
   {
    "duration": 51,
    "start_time": "2021-10-21T15:03:13.688Z"
   },
   {
    "duration": 16,
    "start_time": "2021-10-21T15:03:13.742Z"
   },
   {
    "duration": 24,
    "start_time": "2021-10-21T15:03:13.760Z"
   },
   {
    "duration": 255,
    "start_time": "2021-10-21T15:03:13.787Z"
   },
   {
    "duration": 8,
    "start_time": "2021-10-21T15:03:14.046Z"
   },
   {
    "duration": 7,
    "start_time": "2021-10-21T15:03:14.056Z"
   },
   {
    "duration": 50694,
    "start_time": "2021-10-21T15:03:14.066Z"
   },
   {
    "duration": 7,
    "start_time": "2021-10-21T15:04:04.762Z"
   },
   {
    "duration": 15,
    "start_time": "2021-10-21T15:04:04.771Z"
   },
   {
    "duration": 554,
    "start_time": "2021-10-21T15:04:04.788Z"
   },
   {
    "duration": 90,
    "start_time": "2021-10-21T15:04:05.346Z"
   },
   {
    "duration": 95,
    "start_time": "2021-10-21T15:04:05.446Z"
   },
   {
    "duration": 9,
    "start_time": "2021-10-21T15:04:05.544Z"
   },
   {
    "duration": 10,
    "start_time": "2021-10-21T15:04:05.555Z"
   },
   {
    "duration": 12,
    "start_time": "2021-10-21T15:04:05.567Z"
   },
   {
    "duration": 9,
    "start_time": "2021-10-21T15:04:05.581Z"
   },
   {
    "duration": 13,
    "start_time": "2021-10-21T15:04:05.623Z"
   },
   {
    "duration": 16,
    "start_time": "2021-10-21T15:04:05.639Z"
   },
   {
    "duration": 16,
    "start_time": "2021-10-21T15:04:05.658Z"
   },
   {
    "duration": 6,
    "start_time": "2021-10-21T15:04:05.676Z"
   },
   {
    "duration": 8,
    "start_time": "2021-10-21T15:04:05.685Z"
   },
   {
    "duration": 34,
    "start_time": "2021-10-21T15:04:05.695Z"
   },
   {
    "duration": 14,
    "start_time": "2021-10-21T15:04:05.732Z"
   },
   {
    "duration": 6,
    "start_time": "2021-10-21T15:04:05.749Z"
   },
   {
    "duration": 8,
    "start_time": "2021-10-21T15:04:05.757Z"
   },
   {
    "duration": 9,
    "start_time": "2021-10-21T15:04:05.768Z"
   },
   {
    "duration": 55,
    "start_time": "2021-10-21T15:04:05.779Z"
   },
   {
    "duration": 9,
    "start_time": "2021-10-21T15:04:05.837Z"
   },
   {
    "duration": 6,
    "start_time": "2021-10-21T15:04:05.849Z"
   },
   {
    "duration": 33,
    "start_time": "2021-10-21T15:04:05.858Z"
   },
   {
    "duration": 17,
    "start_time": "2021-10-21T15:04:05.921Z"
   },
   {
    "duration": 10,
    "start_time": "2021-10-21T15:04:05.941Z"
   },
   {
    "duration": 22,
    "start_time": "2021-10-21T15:04:05.954Z"
   },
   {
    "duration": 15,
    "start_time": "2021-10-21T15:04:05.979Z"
   },
   {
    "duration": 33,
    "start_time": "2021-10-21T15:04:05.997Z"
   },
   {
    "duration": 10,
    "start_time": "2021-10-21T15:04:06.033Z"
   },
   {
    "duration": 95,
    "start_time": "2021-10-21T15:04:06.045Z"
   },
   {
    "duration": 133,
    "start_time": "2021-10-21T15:04:06.144Z"
   },
   {
    "duration": 5,
    "start_time": "2021-10-21T15:04:06.280Z"
   },
   {
    "duration": 544,
    "start_time": "2021-10-21T15:04:06.288Z"
   },
   {
    "duration": 8,
    "start_time": "2021-10-21T15:04:06.834Z"
   },
   {
    "duration": 25,
    "start_time": "2021-10-21T15:04:06.844Z"
   },
   {
    "duration": 18,
    "start_time": "2021-10-21T15:04:06.872Z"
   },
   {
    "duration": 50,
    "start_time": "2021-10-21T15:04:06.893Z"
   },
   {
    "duration": 7,
    "start_time": "2021-10-21T15:04:06.946Z"
   },
   {
    "duration": 17,
    "start_time": "2021-10-21T15:04:06.955Z"
   },
   {
    "duration": 26,
    "start_time": "2021-10-21T15:04:06.974Z"
   },
   {
    "duration": 119,
    "start_time": "2021-10-21T15:04:07.003Z"
   },
   {
    "duration": 16,
    "start_time": "2021-10-21T15:04:07.125Z"
   },
   {
    "duration": 277,
    "start_time": "2021-10-21T15:04:07.223Z"
   },
   {
    "duration": 46,
    "start_time": "2021-10-21T15:04:07.509Z"
   },
   {
    "duration": 13,
    "start_time": "2021-10-21T15:04:07.633Z"
   },
   {
    "duration": 18,
    "start_time": "2021-10-21T15:04:07.728Z"
   },
   {
    "duration": 10,
    "start_time": "2021-10-21T15:04:07.749Z"
   },
   {
    "duration": 68,
    "start_time": "2021-10-21T15:04:07.761Z"
   },
   {
    "duration": 358,
    "start_time": "2021-10-21T15:04:07.834Z"
   },
   {
    "duration": 6,
    "start_time": "2021-10-21T15:04:08.195Z"
   },
   {
    "duration": 42,
    "start_time": "2021-10-21T15:04:08.203Z"
   },
   {
    "duration": 9,
    "start_time": "2021-10-21T15:04:08.247Z"
   },
   {
    "duration": 26,
    "start_time": "2021-10-21T15:04:08.258Z"
   },
   {
    "duration": 20,
    "start_time": "2021-10-21T15:04:08.287Z"
   },
   {
    "duration": 402,
    "start_time": "2021-10-21T15:04:08.309Z"
   },
   {
    "duration": 12,
    "start_time": "2021-10-21T15:04:08.713Z"
   },
   {
    "duration": 29,
    "start_time": "2021-10-21T15:04:08.728Z"
   },
   {
    "duration": 22,
    "start_time": "2021-10-21T15:04:08.760Z"
   },
   {
    "duration": 70075,
    "start_time": "2021-10-21T15:04:08.785Z"
   },
   {
    "duration": 7,
    "start_time": "2021-10-21T15:05:18.863Z"
   },
   {
    "duration": 103,
    "start_time": "2021-10-21T15:05:18.872Z"
   },
   {
    "duration": 5,
    "start_time": "2021-10-21T15:05:18.977Z"
   },
   {
    "duration": 750,
    "start_time": "2021-10-21T15:05:18.985Z"
   },
   {
    "duration": 12,
    "start_time": "2021-10-21T15:05:19.738Z"
   },
   {
    "duration": 16,
    "start_time": "2021-10-21T15:05:19.826Z"
   },
   {
    "duration": 90,
    "start_time": "2021-10-21T15:05:19.845Z"
   },
   {
    "duration": 1999,
    "start_time": "2021-10-21T15:05:19.938Z"
   },
   {
    "duration": 5,
    "start_time": "2021-10-21T15:05:21.940Z"
   },
   {
    "duration": 24,
    "start_time": "2021-10-21T15:05:21.947Z"
   },
   {
    "duration": 24,
    "start_time": "2021-10-21T15:05:21.973Z"
   },
   {
    "duration": 16,
    "start_time": "2021-10-21T15:05:22.000Z"
   },
   {
    "duration": 15,
    "start_time": "2021-10-21T15:05:22.019Z"
   },
   {
    "duration": 8,
    "start_time": "2021-10-21T15:05:22.036Z"
   },
   {
    "duration": 2403,
    "start_time": "2021-10-21T15:05:22.047Z"
   },
   {
    "duration": 5,
    "start_time": "2021-10-21T15:05:24.452Z"
   },
   {
    "duration": 283,
    "start_time": "2021-10-21T15:05:24.459Z"
   },
   {
    "duration": 241,
    "start_time": "2021-10-21T15:05:24.745Z"
   },
   {
    "duration": 269,
    "start_time": "2021-10-21T15:05:24.988Z"
   },
   {
    "duration": 7,
    "start_time": "2021-10-21T15:05:25.259Z"
   },
   {
    "duration": 7,
    "start_time": "2021-10-21T15:05:25.268Z"
   },
   {
    "duration": 2887,
    "start_time": "2021-10-21T16:50:32.386Z"
   },
   {
    "duration": 351,
    "start_time": "2021-10-21T17:05:11.003Z"
   },
   {
    "duration": 257,
    "start_time": "2021-10-21T17:05:29.803Z"
   },
   {
    "duration": 276,
    "start_time": "2021-10-21T17:05:46.456Z"
   },
   {
    "duration": 11,
    "start_time": "2021-10-21T17:05:54.719Z"
   },
   {
    "duration": 1614,
    "start_time": "2021-10-21T17:06:08.872Z"
   },
   {
    "duration": 41,
    "start_time": "2021-10-21T17:06:10.489Z"
   },
   {
    "duration": 28,
    "start_time": "2021-10-21T17:06:10.533Z"
   },
   {
    "duration": 19,
    "start_time": "2021-10-21T17:06:10.564Z"
   },
   {
    "duration": 87,
    "start_time": "2021-10-21T17:06:10.586Z"
   },
   {
    "duration": 16,
    "start_time": "2021-10-21T17:06:10.676Z"
   },
   {
    "duration": 7,
    "start_time": "2021-10-21T17:06:10.694Z"
   },
   {
    "duration": 13,
    "start_time": "2021-10-21T17:06:10.727Z"
   },
   {
    "duration": 6,
    "start_time": "2021-10-21T17:06:10.749Z"
   },
   {
    "duration": 10,
    "start_time": "2021-10-21T17:06:10.759Z"
   },
   {
    "duration": 18,
    "start_time": "2021-10-21T17:06:10.771Z"
   },
   {
    "duration": 55,
    "start_time": "2021-10-21T17:06:10.792Z"
   },
   {
    "duration": 17,
    "start_time": "2021-10-21T17:06:10.850Z"
   },
   {
    "duration": 15,
    "start_time": "2021-10-21T17:06:10.870Z"
   },
   {
    "duration": 3,
    "start_time": "2021-10-21T17:06:10.888Z"
   },
   {
    "duration": 38,
    "start_time": "2021-10-21T17:06:10.895Z"
   },
   {
    "duration": 20,
    "start_time": "2021-10-21T17:06:10.935Z"
   },
   {
    "duration": 9,
    "start_time": "2021-10-21T17:06:10.959Z"
   },
   {
    "duration": 13,
    "start_time": "2021-10-21T17:06:10.970Z"
   },
   {
    "duration": 8,
    "start_time": "2021-10-21T17:06:10.986Z"
   },
   {
    "duration": 32,
    "start_time": "2021-10-21T17:06:10.997Z"
   },
   {
    "duration": 9,
    "start_time": "2021-10-21T17:06:11.031Z"
   },
   {
    "duration": 13,
    "start_time": "2021-10-21T17:06:11.044Z"
   },
   {
    "duration": 8,
    "start_time": "2021-10-21T17:06:11.059Z"
   },
   {
    "duration": 52,
    "start_time": "2021-10-21T17:06:11.078Z"
   },
   {
    "duration": 4,
    "start_time": "2021-10-21T17:06:11.133Z"
   },
   {
    "duration": 12,
    "start_time": "2021-10-21T17:06:11.148Z"
   },
   {
    "duration": 17,
    "start_time": "2021-10-21T17:06:11.164Z"
   },
   {
    "duration": 54,
    "start_time": "2021-10-21T17:06:11.184Z"
   },
   {
    "duration": 15,
    "start_time": "2021-10-21T17:06:11.241Z"
   },
   {
    "duration": 20,
    "start_time": "2021-10-21T17:06:11.259Z"
   },
   {
    "duration": 51,
    "start_time": "2021-10-21T17:06:11.282Z"
   },
   {
    "duration": 21,
    "start_time": "2021-10-21T17:06:11.337Z"
   },
   {
    "duration": 248,
    "start_time": "2021-10-21T17:06:11.360Z"
   },
   {
    "duration": 21,
    "start_time": "2021-10-21T17:06:11.611Z"
   },
   {
    "duration": 7,
    "start_time": "2021-10-21T17:06:11.634Z"
   },
   {
    "duration": 51846,
    "start_time": "2021-10-21T17:06:11.643Z"
   },
   {
    "duration": 7,
    "start_time": "2021-10-21T17:07:03.491Z"
   },
   {
    "duration": 33,
    "start_time": "2021-10-21T17:07:03.500Z"
   },
   {
    "duration": 709,
    "start_time": "2021-10-21T17:07:03.536Z"
   },
   {
    "duration": 88,
    "start_time": "2021-10-21T17:07:04.248Z"
   },
   {
    "duration": 22,
    "start_time": "2021-10-21T17:07:04.339Z"
   },
   {
    "duration": 8,
    "start_time": "2021-10-21T17:07:04.364Z"
   },
   {
    "duration": 12,
    "start_time": "2021-10-21T17:07:04.428Z"
   },
   {
    "duration": 10,
    "start_time": "2021-10-21T17:07:04.444Z"
   },
   {
    "duration": 12,
    "start_time": "2021-10-21T17:07:04.456Z"
   },
   {
    "duration": 9,
    "start_time": "2021-10-21T17:07:04.470Z"
   },
   {
    "duration": 51,
    "start_time": "2021-10-21T17:07:04.482Z"
   },
   {
    "duration": 12,
    "start_time": "2021-10-21T17:07:04.537Z"
   },
   {
    "duration": 5,
    "start_time": "2021-10-21T17:07:04.552Z"
   },
   {
    "duration": 13,
    "start_time": "2021-10-21T17:07:04.560Z"
   },
   {
    "duration": 6,
    "start_time": "2021-10-21T17:07:04.576Z"
   },
   {
    "duration": 44,
    "start_time": "2021-10-21T17:07:04.585Z"
   },
   {
    "duration": 12,
    "start_time": "2021-10-21T17:07:04.631Z"
   },
   {
    "duration": 8,
    "start_time": "2021-10-21T17:07:04.645Z"
   },
   {
    "duration": 10,
    "start_time": "2021-10-21T17:07:04.655Z"
   },
   {
    "duration": 10,
    "start_time": "2021-10-21T17:07:04.668Z"
   },
   {
    "duration": 61,
    "start_time": "2021-10-21T17:07:04.680Z"
   },
   {
    "duration": 7,
    "start_time": "2021-10-21T17:07:04.744Z"
   },
   {
    "duration": 33,
    "start_time": "2021-10-21T17:07:04.754Z"
   },
   {
    "duration": 7,
    "start_time": "2021-10-21T17:07:04.790Z"
   },
   {
    "duration": 38,
    "start_time": "2021-10-21T17:07:04.799Z"
   },
   {
    "duration": 15,
    "start_time": "2021-10-21T17:07:04.839Z"
   },
   {
    "duration": 104,
    "start_time": "2021-10-21T17:07:04.856Z"
   },
   {
    "duration": 8,
    "start_time": "2021-10-21T17:07:04.962Z"
   },
   {
    "duration": 10,
    "start_time": "2021-10-21T17:07:04.973Z"
   },
   {
    "duration": 43,
    "start_time": "2021-10-21T17:07:04.986Z"
   },
   {
    "duration": 138,
    "start_time": "2021-10-21T17:07:05.032Z"
   },
   {
    "duration": 5,
    "start_time": "2021-10-21T17:07:05.172Z"
   },
   {
    "duration": 560,
    "start_time": "2021-10-21T17:07:05.180Z"
   },
   {
    "duration": 8,
    "start_time": "2021-10-21T17:07:05.743Z"
   },
   {
    "duration": 17,
    "start_time": "2021-10-21T17:07:05.753Z"
   },
   {
    "duration": 39,
    "start_time": "2021-10-21T17:07:05.772Z"
   },
   {
    "duration": 47,
    "start_time": "2021-10-21T17:07:05.813Z"
   },
   {
    "duration": 8,
    "start_time": "2021-10-21T17:07:05.862Z"
   },
   {
    "duration": 8,
    "start_time": "2021-10-21T17:07:05.872Z"
   },
   {
    "duration": 13,
    "start_time": "2021-10-21T17:07:05.882Z"
   },
   {
    "duration": 59,
    "start_time": "2021-10-21T17:07:05.898Z"
   },
   {
    "duration": 10,
    "start_time": "2021-10-21T17:07:06.024Z"
   },
   {
    "duration": 359,
    "start_time": "2021-10-21T17:07:06.037Z"
   },
   {
    "duration": 120,
    "start_time": "2021-10-21T17:07:06.406Z"
   },
   {
    "duration": 84,
    "start_time": "2021-10-21T17:07:06.542Z"
   },
   {
    "duration": 25,
    "start_time": "2021-10-21T17:07:06.629Z"
   },
   {
    "duration": 19,
    "start_time": "2021-10-21T17:07:06.657Z"
   },
   {
    "duration": 73,
    "start_time": "2021-10-21T17:07:06.679Z"
   },
   {
    "duration": 353,
    "start_time": "2021-10-21T17:07:06.755Z"
   },
   {
    "duration": 6,
    "start_time": "2021-10-21T17:07:07.111Z"
   },
   {
    "duration": 34,
    "start_time": "2021-10-21T17:07:07.129Z"
   },
   {
    "duration": 9,
    "start_time": "2021-10-21T17:07:07.166Z"
   },
   {
    "duration": 18,
    "start_time": "2021-10-21T17:07:07.177Z"
   },
   {
    "duration": 20,
    "start_time": "2021-10-21T17:07:07.198Z"
   },
   {
    "duration": 434,
    "start_time": "2021-10-21T17:07:07.221Z"
   },
   {
    "duration": 6,
    "start_time": "2021-10-21T17:07:07.657Z"
   },
   {
    "duration": 8,
    "start_time": "2021-10-21T17:07:07.665Z"
   },
   {
    "duration": 37,
    "start_time": "2021-10-21T17:07:07.675Z"
   },
   {
    "duration": 72192,
    "start_time": "2021-10-21T17:07:07.714Z"
   },
   {
    "duration": 25,
    "start_time": "2021-10-21T17:08:19.909Z"
   },
   {
    "duration": 79,
    "start_time": "2021-10-21T17:08:19.936Z"
   },
   {
    "duration": 19,
    "start_time": "2021-10-21T17:08:20.018Z"
   },
   {
    "duration": 595,
    "start_time": "2021-10-21T17:08:20.042Z"
   },
   {
    "duration": 88,
    "start_time": "2021-10-21T17:08:20.640Z"
   },
   {
    "duration": 22,
    "start_time": "2021-10-21T17:08:20.731Z"
   },
   {
    "duration": 5,
    "start_time": "2021-10-21T17:08:20.756Z"
   },
   {
    "duration": 2169,
    "start_time": "2021-10-21T17:08:20.763Z"
   },
   {
    "duration": 10,
    "start_time": "2021-10-21T17:08:22.934Z"
   },
   {
    "duration": 16,
    "start_time": "2021-10-21T17:08:22.946Z"
   },
   {
    "duration": 11,
    "start_time": "2021-10-21T17:08:22.964Z"
   },
   {
    "duration": 12,
    "start_time": "2021-10-21T17:08:22.977Z"
   },
   {
    "duration": 5,
    "start_time": "2021-10-21T17:08:22.992Z"
   },
   {
    "duration": 30,
    "start_time": "2021-10-21T17:08:22.999Z"
   },
   {
    "duration": 2505,
    "start_time": "2021-10-21T17:08:23.034Z"
   },
   {
    "duration": 8,
    "start_time": "2021-10-21T17:08:25.542Z"
   },
   {
    "duration": 296,
    "start_time": "2021-10-21T17:08:25.552Z"
   },
   {
    "duration": 242,
    "start_time": "2021-10-21T17:08:25.850Z"
   },
   {
    "duration": 294,
    "start_time": "2021-10-21T17:08:26.095Z"
   },
   {
    "duration": 6,
    "start_time": "2021-10-21T17:08:26.391Z"
   },
   {
    "duration": 34,
    "start_time": "2021-10-21T17:08:26.399Z"
   },
   {
    "duration": 27,
    "start_time": "2021-10-21T17:41:31.155Z"
   },
   {
    "duration": 443,
    "start_time": "2021-10-21T17:45:52.095Z"
   },
   {
    "duration": 276,
    "start_time": "2021-10-21T17:46:56.840Z"
   },
   {
    "duration": 346,
    "start_time": "2021-10-21T17:47:18.015Z"
   },
   {
    "duration": 339,
    "start_time": "2021-10-21T17:49:59.257Z"
   },
   {
    "duration": 304,
    "start_time": "2021-10-21T17:58:21.905Z"
   },
   {
    "duration": 525,
    "start_time": "2021-10-21T17:59:26.018Z"
   },
   {
    "duration": 821,
    "start_time": "2021-10-21T17:59:56.274Z"
   },
   {
    "duration": 849,
    "start_time": "2021-10-21T18:01:01.038Z"
   },
   {
    "duration": 1204,
    "start_time": "2021-10-21T18:02:02.422Z"
   },
   {
    "duration": 848,
    "start_time": "2021-10-21T18:02:57.933Z"
   },
   {
    "duration": 821,
    "start_time": "2021-10-21T18:08:11.835Z"
   },
   {
    "duration": 829,
    "start_time": "2021-10-21T18:08:56.053Z"
   },
   {
    "duration": 1723,
    "start_time": "2021-10-21T18:24:59.842Z"
   },
   {
    "duration": 38,
    "start_time": "2021-10-21T18:25:01.567Z"
   },
   {
    "duration": 44,
    "start_time": "2021-10-21T18:25:01.608Z"
   },
   {
    "duration": 12,
    "start_time": "2021-10-21T18:25:01.655Z"
   },
   {
    "duration": 89,
    "start_time": "2021-10-21T18:25:01.670Z"
   },
   {
    "duration": 15,
    "start_time": "2021-10-21T18:25:01.762Z"
   },
   {
    "duration": 10,
    "start_time": "2021-10-21T18:25:01.780Z"
   },
   {
    "duration": 34,
    "start_time": "2021-10-21T18:25:01.792Z"
   },
   {
    "duration": 17,
    "start_time": "2021-10-21T18:25:01.830Z"
   },
   {
    "duration": 6,
    "start_time": "2021-10-21T18:25:01.851Z"
   },
   {
    "duration": 29,
    "start_time": "2021-10-21T18:25:01.860Z"
   },
   {
    "duration": 25,
    "start_time": "2021-10-21T18:25:01.892Z"
   },
   {
    "duration": 38,
    "start_time": "2021-10-21T18:25:01.919Z"
   },
   {
    "duration": 25,
    "start_time": "2021-10-21T18:25:01.959Z"
   },
   {
    "duration": 22,
    "start_time": "2021-10-21T18:25:01.987Z"
   },
   {
    "duration": 40,
    "start_time": "2021-10-21T18:25:02.012Z"
   },
   {
    "duration": 29,
    "start_time": "2021-10-21T18:25:02.054Z"
   },
   {
    "duration": 33,
    "start_time": "2021-10-21T18:25:02.086Z"
   },
   {
    "duration": 35,
    "start_time": "2021-10-21T18:25:02.122Z"
   },
   {
    "duration": 16,
    "start_time": "2021-10-21T18:25:02.160Z"
   },
   {
    "duration": 30,
    "start_time": "2021-10-21T18:25:02.179Z"
   },
   {
    "duration": 25,
    "start_time": "2021-10-21T18:25:02.211Z"
   },
   {
    "duration": 27,
    "start_time": "2021-10-21T18:25:02.238Z"
   },
   {
    "duration": 27,
    "start_time": "2021-10-21T18:25:02.268Z"
   },
   {
    "duration": 36,
    "start_time": "2021-10-21T18:25:02.297Z"
   },
   {
    "duration": 31,
    "start_time": "2021-10-21T18:25:02.341Z"
   },
   {
    "duration": 29,
    "start_time": "2021-10-21T18:25:02.379Z"
   },
   {
    "duration": 48,
    "start_time": "2021-10-21T18:25:02.412Z"
   },
   {
    "duration": 25,
    "start_time": "2021-10-21T18:25:02.462Z"
   },
   {
    "duration": 17,
    "start_time": "2021-10-21T18:25:02.489Z"
   },
   {
    "duration": 45,
    "start_time": "2021-10-21T18:25:02.509Z"
   },
   {
    "duration": 25,
    "start_time": "2021-10-21T18:25:02.558Z"
   },
   {
    "duration": 27,
    "start_time": "2021-10-21T18:25:02.586Z"
   },
   {
    "duration": 300,
    "start_time": "2021-10-21T18:25:02.616Z"
   },
   {
    "duration": 10,
    "start_time": "2021-10-21T18:25:02.919Z"
   },
   {
    "duration": 32,
    "start_time": "2021-10-21T18:25:02.938Z"
   },
   {
    "duration": 55506,
    "start_time": "2021-10-21T18:25:02.972Z"
   },
   {
    "duration": 6,
    "start_time": "2021-10-21T18:25:58.481Z"
   },
   {
    "duration": 9,
    "start_time": "2021-10-21T18:25:58.490Z"
   },
   {
    "duration": 734,
    "start_time": "2021-10-21T18:25:58.526Z"
   },
   {
    "duration": 15,
    "start_time": "2021-10-21T18:25:59.325Z"
   },
   {
    "duration": 19,
    "start_time": "2021-10-21T18:25:59.343Z"
   },
   {
    "duration": 8,
    "start_time": "2021-10-21T18:25:59.365Z"
   },
   {
    "duration": 13,
    "start_time": "2021-10-21T18:25:59.376Z"
   },
   {
    "duration": 40,
    "start_time": "2021-10-21T18:25:59.392Z"
   },
   {
    "duration": 14,
    "start_time": "2021-10-21T18:25:59.435Z"
   },
   {
    "duration": 7,
    "start_time": "2021-10-21T18:25:59.458Z"
   },
   {
    "duration": 19,
    "start_time": "2021-10-21T18:25:59.467Z"
   },
   {
    "duration": 12,
    "start_time": "2021-10-21T18:25:59.488Z"
   },
   {
    "duration": 38,
    "start_time": "2021-10-21T18:25:59.502Z"
   },
   {
    "duration": 11,
    "start_time": "2021-10-21T18:25:59.542Z"
   },
   {
    "duration": 5,
    "start_time": "2021-10-21T18:25:59.556Z"
   },
   {
    "duration": 9,
    "start_time": "2021-10-21T18:25:59.564Z"
   },
   {
    "duration": 5,
    "start_time": "2021-10-21T18:25:59.575Z"
   },
   {
    "duration": 46,
    "start_time": "2021-10-21T18:25:59.583Z"
   },
   {
    "duration": 15,
    "start_time": "2021-10-21T18:25:59.634Z"
   },
   {
    "duration": 9,
    "start_time": "2021-10-21T18:25:59.652Z"
   },
   {
    "duration": 9,
    "start_time": "2021-10-21T18:25:59.663Z"
   },
   {
    "duration": 5,
    "start_time": "2021-10-21T18:25:59.674Z"
   },
   {
    "duration": 37,
    "start_time": "2021-10-21T18:25:59.734Z"
   },
   {
    "duration": 7,
    "start_time": "2021-10-21T18:25:59.774Z"
   },
   {
    "duration": 9,
    "start_time": "2021-10-21T18:25:59.783Z"
   },
   {
    "duration": 54,
    "start_time": "2021-10-21T18:25:59.794Z"
   },
   {
    "duration": 13,
    "start_time": "2021-10-21T18:25:59.850Z"
   },
   {
    "duration": 9,
    "start_time": "2021-10-21T18:25:59.865Z"
   },
   {
    "duration": 11,
    "start_time": "2021-10-21T18:25:59.876Z"
   },
   {
    "duration": 107,
    "start_time": "2021-10-21T18:25:59.890Z"
   },
   {
    "duration": 147,
    "start_time": "2021-10-21T18:26:00.000Z"
   },
   {
    "duration": 6,
    "start_time": "2021-10-21T18:26:00.149Z"
   },
   {
    "duration": 908,
    "start_time": "2021-10-21T18:26:00.159Z"
   },
   {
    "duration": 10,
    "start_time": "2021-10-21T18:26:01.070Z"
   },
   {
    "duration": 19,
    "start_time": "2021-10-21T18:26:01.083Z"
   },
   {
    "duration": 27,
    "start_time": "2021-10-21T18:26:01.105Z"
   },
   {
    "duration": 50,
    "start_time": "2021-10-21T18:26:01.139Z"
   },
   {
    "duration": 11,
    "start_time": "2021-10-21T18:26:01.193Z"
   },
   {
    "duration": 38,
    "start_time": "2021-10-21T18:26:01.207Z"
   },
   {
    "duration": 17,
    "start_time": "2021-10-21T18:26:01.250Z"
   },
   {
    "duration": 72,
    "start_time": "2021-10-21T18:26:01.270Z"
   },
   {
    "duration": 83,
    "start_time": "2021-10-21T18:26:01.348Z"
   },
   {
    "duration": 316,
    "start_time": "2021-10-21T18:26:01.434Z"
   },
   {
    "duration": 73,
    "start_time": "2021-10-21T18:26:01.764Z"
   },
   {
    "duration": 93,
    "start_time": "2021-10-21T18:26:01.843Z"
   },
   {
    "duration": 19,
    "start_time": "2021-10-21T18:26:01.939Z"
   },
   {
    "duration": 18,
    "start_time": "2021-10-21T18:26:01.961Z"
   },
   {
    "duration": 69,
    "start_time": "2021-10-21T18:26:01.982Z"
   },
   {
    "duration": 435,
    "start_time": "2021-10-21T18:26:02.056Z"
   },
   {
    "duration": 7,
    "start_time": "2021-10-21T18:26:02.494Z"
   },
   {
    "duration": 46,
    "start_time": "2021-10-21T18:26:02.503Z"
   },
   {
    "duration": 11,
    "start_time": "2021-10-21T18:26:02.552Z"
   },
   {
    "duration": 13,
    "start_time": "2021-10-21T18:26:02.566Z"
   },
   {
    "duration": 42,
    "start_time": "2021-10-21T18:26:02.582Z"
   },
   {
    "duration": 491,
    "start_time": "2021-10-21T18:26:02.628Z"
   },
   {
    "duration": 8,
    "start_time": "2021-10-21T18:26:03.124Z"
   },
   {
    "duration": 18,
    "start_time": "2021-10-21T18:26:03.136Z"
   },
   {
    "duration": 10,
    "start_time": "2021-10-21T18:26:03.157Z"
   },
   {
    "duration": 73773,
    "start_time": "2021-10-21T18:26:03.169Z"
   },
   {
    "duration": 8,
    "start_time": "2021-10-21T18:27:16.946Z"
   },
   {
    "duration": 101,
    "start_time": "2021-10-21T18:27:16.959Z"
   },
   {
    "duration": 6,
    "start_time": "2021-10-21T18:27:17.063Z"
   },
   {
    "duration": 875,
    "start_time": "2021-10-21T18:27:17.072Z"
   },
   {
    "duration": 77,
    "start_time": "2021-10-21T18:27:17.952Z"
   },
   {
    "duration": 93,
    "start_time": "2021-10-21T18:27:18.037Z"
   },
   {
    "duration": 10,
    "start_time": "2021-10-21T18:27:18.132Z"
   },
   {
    "duration": 2158,
    "start_time": "2021-10-21T18:27:18.144Z"
   },
   {
    "duration": 5,
    "start_time": "2021-10-21T18:27:20.305Z"
   },
   {
    "duration": 10,
    "start_time": "2021-10-21T18:27:20.325Z"
   },
   {
    "duration": 9,
    "start_time": "2021-10-21T18:27:20.338Z"
   },
   {
    "duration": 9,
    "start_time": "2021-10-21T18:27:20.349Z"
   },
   {
    "duration": 5,
    "start_time": "2021-10-21T18:27:20.361Z"
   },
   {
    "duration": 14,
    "start_time": "2021-10-21T18:27:20.369Z"
   },
   {
    "duration": 2540,
    "start_time": "2021-10-21T18:27:20.386Z"
   },
   {
    "duration": 8,
    "start_time": "2021-10-21T18:27:22.928Z"
   },
   {
    "duration": 283,
    "start_time": "2021-10-21T18:27:22.939Z"
   },
   {
    "duration": 250,
    "start_time": "2021-10-21T18:27:23.226Z"
   },
   {
    "duration": 284,
    "start_time": "2021-10-21T18:27:23.478Z"
   },
   {
    "duration": 5,
    "start_time": "2021-10-21T18:27:23.765Z"
   },
   {
    "duration": 14,
    "start_time": "2021-10-21T18:27:23.773Z"
   },
   {
    "duration": 52,
    "start_time": "2021-10-21T18:27:23.789Z"
   },
   {
    "duration": 834,
    "start_time": "2021-10-21T18:27:23.847Z"
   }
  ],
  "kernelspec": {
   "display_name": "Python 3",
   "language": "python",
   "name": "python3"
  },
  "language_info": {
   "codemirror_mode": {
    "name": "ipython",
    "version": 3
   },
   "file_extension": ".py",
   "mimetype": "text/x-python",
   "name": "python",
   "nbconvert_exporter": "python",
   "pygments_lexer": "ipython3",
   "version": "3.7.10"
  },
  "toc": {
   "base_numbering": 1,
   "nav_menu": {},
   "number_sections": true,
   "sideBar": true,
   "skip_h1_title": true,
   "title_cell": "Содержание",
   "title_sidebar": "Contents",
   "toc_cell": true,
   "toc_position": {},
   "toc_section_display": true,
   "toc_window_display": false
  }
 },
 "nbformat": 4,
 "nbformat_minor": 2
}
