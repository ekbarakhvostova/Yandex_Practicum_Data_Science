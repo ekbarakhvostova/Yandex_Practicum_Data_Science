{
 "cells": [
  {
   "cell_type": "markdown",
   "metadata": {},
   "source": [
    "# Восстановление золота из руды"
   ]
  },
  {
   "cell_type": "markdown",
   "metadata": {},
   "source": [
    "## Подготовка данных"
   ]
  },
  {
   "cell_type": "code",
   "execution_count": 1,
   "metadata": {},
   "outputs": [],
   "source": [
    "import pandas as pd\n",
    "import numpy as np\n",
    "import collections\n",
    "import matplotlib.pyplot as plt\n",
    "import seaborn as sns\n",
    "from scipy import stats as st\n",
    "from sklearn.linear_model import LinearRegression, Lasso, Ridge\n",
    "from sklearn.tree import DecisionTreeRegressor\n",
    "from sklearn.ensemble import RandomForestRegressor\n",
    "from sklearn.model_selection import train_test_split\n",
    "from sklearn.model_selection import cross_val_score\n",
    "from sklearn.model_selection import cross_val_predict\n",
    "from sklearn.model_selection import GridSearchCV\n",
    "from sklearn.pipeline import  make_pipeline\n",
    "from sklearn.preprocessing import StandardScaler \n",
    "from sklearn.metrics import mean_squared_error\n",
    "from sklearn.metrics import mean_absolute_error\n",
    "from sklearn.metrics import make_scorer\n",
    "from sklearn.dummy import DummyRegressor\n",
    "\n",
    "import warnings\n",
    "warnings.simplefilter(action='ignore', category=FutureWarning)"
   ]
  },
  {
   "cell_type": "markdown",
   "metadata": {},
   "source": [
    "### Чтение файлов ###"
   ]
  },
  {
   "cell_type": "code",
   "execution_count": 2,
   "metadata": {},
   "outputs": [],
   "source": [
    "data_train = pd.read_csv('gold_recovery_train_new.csv')"
   ]
  },
  {
   "cell_type": "code",
   "execution_count": 3,
   "metadata": {},
   "outputs": [],
   "source": [
    "data_test = pd.read_csv('gold_recovery_test_new.csv')"
   ]
  },
  {
   "cell_type": "code",
   "execution_count": 4,
   "metadata": {},
   "outputs": [],
   "source": [
    "data_full = pd.read_csv('gold_recovery_full_new.csv')"
   ]
  },
  {
   "cell_type": "markdown",
   "metadata": {},
   "source": [
    "### Первичный анализ данных ###\n",
    "\n",
    "#### Обучающая выборка ####"
   ]
  },
  {
   "cell_type": "code",
   "execution_count": 5,
   "metadata": {},
   "outputs": [
    {
     "name": "stdout",
     "output_type": "stream",
     "text": [
      "<class 'pandas.core.frame.DataFrame'>\n",
      "RangeIndex: 14149 entries, 0 to 14148\n",
      "Data columns (total 87 columns):\n",
      "date                                                  14149 non-null object\n",
      "final.output.concentrate_ag                           14148 non-null float64\n",
      "final.output.concentrate_pb                           14148 non-null float64\n",
      "final.output.concentrate_sol                          13938 non-null float64\n",
      "final.output.concentrate_au                           14149 non-null float64\n",
      "final.output.recovery                                 14149 non-null float64\n",
      "final.output.tail_ag                                  14149 non-null float64\n",
      "final.output.tail_pb                                  14049 non-null float64\n",
      "final.output.tail_sol                                 14144 non-null float64\n",
      "final.output.tail_au                                  14149 non-null float64\n",
      "primary_cleaner.input.sulfate                         14129 non-null float64\n",
      "primary_cleaner.input.depressant                      14117 non-null float64\n",
      "primary_cleaner.input.feed_size                       14149 non-null float64\n",
      "primary_cleaner.input.xanthate                        14049 non-null float64\n",
      "primary_cleaner.output.concentrate_ag                 14149 non-null float64\n",
      "primary_cleaner.output.concentrate_pb                 14063 non-null float64\n",
      "primary_cleaner.output.concentrate_sol                13863 non-null float64\n",
      "primary_cleaner.output.concentrate_au                 14149 non-null float64\n",
      "primary_cleaner.output.tail_ag                        14148 non-null float64\n",
      "primary_cleaner.output.tail_pb                        14134 non-null float64\n",
      "primary_cleaner.output.tail_sol                       14103 non-null float64\n",
      "primary_cleaner.output.tail_au                        14149 non-null float64\n",
      "primary_cleaner.state.floatbank8_a_air                14145 non-null float64\n",
      "primary_cleaner.state.floatbank8_a_level              14148 non-null float64\n",
      "primary_cleaner.state.floatbank8_b_air                14145 non-null float64\n",
      "primary_cleaner.state.floatbank8_b_level              14148 non-null float64\n",
      "primary_cleaner.state.floatbank8_c_air                14147 non-null float64\n",
      "primary_cleaner.state.floatbank8_c_level              14148 non-null float64\n",
      "primary_cleaner.state.floatbank8_d_air                14146 non-null float64\n",
      "primary_cleaner.state.floatbank8_d_level              14148 non-null float64\n",
      "rougher.calculation.sulfate_to_au_concentrate         14148 non-null float64\n",
      "rougher.calculation.floatbank10_sulfate_to_au_feed    14148 non-null float64\n",
      "rougher.calculation.floatbank11_sulfate_to_au_feed    14148 non-null float64\n",
      "rougher.calculation.au_pb_ratio                       14149 non-null float64\n",
      "rougher.input.feed_ag                                 14149 non-null float64\n",
      "rougher.input.feed_pb                                 14049 non-null float64\n",
      "rougher.input.feed_rate                               14141 non-null float64\n",
      "rougher.input.feed_size                               14005 non-null float64\n",
      "rougher.input.feed_sol                                14071 non-null float64\n",
      "rougher.input.feed_au                                 14149 non-null float64\n",
      "rougher.input.floatbank10_sulfate                     14120 non-null float64\n",
      "rougher.input.floatbank10_xanthate                    14141 non-null float64\n",
      "rougher.input.floatbank11_sulfate                     14113 non-null float64\n",
      "rougher.input.floatbank11_xanthate                    13721 non-null float64\n",
      "rougher.output.concentrate_ag                         14149 non-null float64\n",
      "rougher.output.concentrate_pb                         14149 non-null float64\n",
      "rougher.output.concentrate_sol                        14127 non-null float64\n",
      "rougher.output.concentrate_au                         14149 non-null float64\n",
      "rougher.output.recovery                               14149 non-null float64\n",
      "rougher.output.tail_ag                                14148 non-null float64\n",
      "rougher.output.tail_pb                                14149 non-null float64\n",
      "rougher.output.tail_sol                               14149 non-null float64\n",
      "rougher.output.tail_au                                14149 non-null float64\n",
      "rougher.state.floatbank10_a_air                       14148 non-null float64\n",
      "rougher.state.floatbank10_a_level                     14148 non-null float64\n",
      "rougher.state.floatbank10_b_air                       14148 non-null float64\n",
      "rougher.state.floatbank10_b_level                     14148 non-null float64\n",
      "rougher.state.floatbank10_c_air                       14148 non-null float64\n",
      "rougher.state.floatbank10_c_level                     14148 non-null float64\n",
      "rougher.state.floatbank10_d_air                       14149 non-null float64\n",
      "rougher.state.floatbank10_d_level                     14149 non-null float64\n",
      "rougher.state.floatbank10_e_air                       13713 non-null float64\n",
      "rougher.state.floatbank10_e_level                     14149 non-null float64\n",
      "rougher.state.floatbank10_f_air                       14149 non-null float64\n",
      "rougher.state.floatbank10_f_level                     14149 non-null float64\n",
      "secondary_cleaner.output.tail_ag                      14147 non-null float64\n",
      "secondary_cleaner.output.tail_pb                      14139 non-null float64\n",
      "secondary_cleaner.output.tail_sol                     12544 non-null float64\n",
      "secondary_cleaner.output.tail_au                      14149 non-null float64\n",
      "secondary_cleaner.state.floatbank2_a_air              13932 non-null float64\n",
      "secondary_cleaner.state.floatbank2_a_level            14148 non-null float64\n",
      "secondary_cleaner.state.floatbank2_b_air              14128 non-null float64\n",
      "secondary_cleaner.state.floatbank2_b_level            14148 non-null float64\n",
      "secondary_cleaner.state.floatbank3_a_air              14145 non-null float64\n",
      "secondary_cleaner.state.floatbank3_a_level            14148 non-null float64\n",
      "secondary_cleaner.state.floatbank3_b_air              14148 non-null float64\n",
      "secondary_cleaner.state.floatbank3_b_level            14148 non-null float64\n",
      "secondary_cleaner.state.floatbank4_a_air              14143 non-null float64\n",
      "secondary_cleaner.state.floatbank4_a_level            14148 non-null float64\n",
      "secondary_cleaner.state.floatbank4_b_air              14148 non-null float64\n",
      "secondary_cleaner.state.floatbank4_b_level            14148 non-null float64\n",
      "secondary_cleaner.state.floatbank5_a_air              14148 non-null float64\n",
      "secondary_cleaner.state.floatbank5_a_level            14148 non-null float64\n",
      "secondary_cleaner.state.floatbank5_b_air              14148 non-null float64\n",
      "secondary_cleaner.state.floatbank5_b_level            14148 non-null float64\n",
      "secondary_cleaner.state.floatbank6_a_air              14147 non-null float64\n",
      "secondary_cleaner.state.floatbank6_a_level            14148 non-null float64\n",
      "dtypes: float64(86), object(1)\n",
      "memory usage: 9.4+ MB\n"
     ]
    }
   ],
   "source": [
    "data_train.info()"
   ]
  },
  {
   "cell_type": "code",
   "execution_count": 6,
   "metadata": {},
   "outputs": [
    {
     "data": {
      "text/html": [
       "<div>\n",
       "<style scoped>\n",
       "    .dataframe tbody tr th:only-of-type {\n",
       "        vertical-align: middle;\n",
       "    }\n",
       "\n",
       "    .dataframe tbody tr th {\n",
       "        vertical-align: top;\n",
       "    }\n",
       "\n",
       "    .dataframe thead th {\n",
       "        text-align: right;\n",
       "    }\n",
       "</style>\n",
       "<table border=\"1\" class=\"dataframe\">\n",
       "  <thead>\n",
       "    <tr style=\"text-align: right;\">\n",
       "      <th></th>\n",
       "      <th>date</th>\n",
       "      <th>final.output.concentrate_ag</th>\n",
       "      <th>final.output.concentrate_pb</th>\n",
       "      <th>final.output.concentrate_sol</th>\n",
       "      <th>final.output.concentrate_au</th>\n",
       "      <th>final.output.recovery</th>\n",
       "      <th>final.output.tail_ag</th>\n",
       "      <th>final.output.tail_pb</th>\n",
       "      <th>final.output.tail_sol</th>\n",
       "      <th>final.output.tail_au</th>\n",
       "      <th>...</th>\n",
       "      <th>secondary_cleaner.state.floatbank4_a_air</th>\n",
       "      <th>secondary_cleaner.state.floatbank4_a_level</th>\n",
       "      <th>secondary_cleaner.state.floatbank4_b_air</th>\n",
       "      <th>secondary_cleaner.state.floatbank4_b_level</th>\n",
       "      <th>secondary_cleaner.state.floatbank5_a_air</th>\n",
       "      <th>secondary_cleaner.state.floatbank5_a_level</th>\n",
       "      <th>secondary_cleaner.state.floatbank5_b_air</th>\n",
       "      <th>secondary_cleaner.state.floatbank5_b_level</th>\n",
       "      <th>secondary_cleaner.state.floatbank6_a_air</th>\n",
       "      <th>secondary_cleaner.state.floatbank6_a_level</th>\n",
       "    </tr>\n",
       "  </thead>\n",
       "  <tbody>\n",
       "    <tr>\n",
       "      <td>0</td>\n",
       "      <td>2016-01-15 00:00:00</td>\n",
       "      <td>6.055403</td>\n",
       "      <td>9.889648</td>\n",
       "      <td>5.507324</td>\n",
       "      <td>42.192020</td>\n",
       "      <td>70.541216</td>\n",
       "      <td>10.411962</td>\n",
       "      <td>0.895447</td>\n",
       "      <td>16.904297</td>\n",
       "      <td>2.143149</td>\n",
       "      <td>...</td>\n",
       "      <td>14.016835</td>\n",
       "      <td>-502.488007</td>\n",
       "      <td>12.099931</td>\n",
       "      <td>-504.715942</td>\n",
       "      <td>9.925633</td>\n",
       "      <td>-498.310211</td>\n",
       "      <td>8.079666</td>\n",
       "      <td>-500.470978</td>\n",
       "      <td>14.151341</td>\n",
       "      <td>-605.841980</td>\n",
       "    </tr>\n",
       "    <tr>\n",
       "      <td>1</td>\n",
       "      <td>2016-01-15 01:00:00</td>\n",
       "      <td>6.029369</td>\n",
       "      <td>9.968944</td>\n",
       "      <td>5.257781</td>\n",
       "      <td>42.701629</td>\n",
       "      <td>69.266198</td>\n",
       "      <td>10.462676</td>\n",
       "      <td>0.927452</td>\n",
       "      <td>16.634514</td>\n",
       "      <td>2.224930</td>\n",
       "      <td>...</td>\n",
       "      <td>13.992281</td>\n",
       "      <td>-505.503262</td>\n",
       "      <td>11.950531</td>\n",
       "      <td>-501.331529</td>\n",
       "      <td>10.039245</td>\n",
       "      <td>-500.169983</td>\n",
       "      <td>7.984757</td>\n",
       "      <td>-500.582168</td>\n",
       "      <td>13.998353</td>\n",
       "      <td>-599.787184</td>\n",
       "    </tr>\n",
       "    <tr>\n",
       "      <td>2</td>\n",
       "      <td>2016-01-15 02:00:00</td>\n",
       "      <td>6.055926</td>\n",
       "      <td>10.213995</td>\n",
       "      <td>5.383759</td>\n",
       "      <td>42.657501</td>\n",
       "      <td>68.116445</td>\n",
       "      <td>10.507046</td>\n",
       "      <td>0.953716</td>\n",
       "      <td>16.208849</td>\n",
       "      <td>2.257889</td>\n",
       "      <td>...</td>\n",
       "      <td>14.015015</td>\n",
       "      <td>-502.520901</td>\n",
       "      <td>11.912783</td>\n",
       "      <td>-501.133383</td>\n",
       "      <td>10.070913</td>\n",
       "      <td>-500.129135</td>\n",
       "      <td>8.013877</td>\n",
       "      <td>-500.517572</td>\n",
       "      <td>14.028663</td>\n",
       "      <td>-601.427363</td>\n",
       "    </tr>\n",
       "  </tbody>\n",
       "</table>\n",
       "<p>3 rows × 87 columns</p>\n",
       "</div>"
      ],
      "text/plain": [
       "                  date  final.output.concentrate_ag  \\\n",
       "0  2016-01-15 00:00:00                     6.055403   \n",
       "1  2016-01-15 01:00:00                     6.029369   \n",
       "2  2016-01-15 02:00:00                     6.055926   \n",
       "\n",
       "   final.output.concentrate_pb  final.output.concentrate_sol  \\\n",
       "0                     9.889648                      5.507324   \n",
       "1                     9.968944                      5.257781   \n",
       "2                    10.213995                      5.383759   \n",
       "\n",
       "   final.output.concentrate_au  final.output.recovery  final.output.tail_ag  \\\n",
       "0                    42.192020              70.541216             10.411962   \n",
       "1                    42.701629              69.266198             10.462676   \n",
       "2                    42.657501              68.116445             10.507046   \n",
       "\n",
       "   final.output.tail_pb  final.output.tail_sol  final.output.tail_au  ...  \\\n",
       "0              0.895447              16.904297              2.143149  ...   \n",
       "1              0.927452              16.634514              2.224930  ...   \n",
       "2              0.953716              16.208849              2.257889  ...   \n",
       "\n",
       "   secondary_cleaner.state.floatbank4_a_air  \\\n",
       "0                                 14.016835   \n",
       "1                                 13.992281   \n",
       "2                                 14.015015   \n",
       "\n",
       "   secondary_cleaner.state.floatbank4_a_level  \\\n",
       "0                                 -502.488007   \n",
       "1                                 -505.503262   \n",
       "2                                 -502.520901   \n",
       "\n",
       "   secondary_cleaner.state.floatbank4_b_air  \\\n",
       "0                                 12.099931   \n",
       "1                                 11.950531   \n",
       "2                                 11.912783   \n",
       "\n",
       "   secondary_cleaner.state.floatbank4_b_level  \\\n",
       "0                                 -504.715942   \n",
       "1                                 -501.331529   \n",
       "2                                 -501.133383   \n",
       "\n",
       "   secondary_cleaner.state.floatbank5_a_air  \\\n",
       "0                                  9.925633   \n",
       "1                                 10.039245   \n",
       "2                                 10.070913   \n",
       "\n",
       "   secondary_cleaner.state.floatbank5_a_level  \\\n",
       "0                                 -498.310211   \n",
       "1                                 -500.169983   \n",
       "2                                 -500.129135   \n",
       "\n",
       "   secondary_cleaner.state.floatbank5_b_air  \\\n",
       "0                                  8.079666   \n",
       "1                                  7.984757   \n",
       "2                                  8.013877   \n",
       "\n",
       "   secondary_cleaner.state.floatbank5_b_level  \\\n",
       "0                                 -500.470978   \n",
       "1                                 -500.582168   \n",
       "2                                 -500.517572   \n",
       "\n",
       "   secondary_cleaner.state.floatbank6_a_air  \\\n",
       "0                                 14.151341   \n",
       "1                                 13.998353   \n",
       "2                                 14.028663   \n",
       "\n",
       "   secondary_cleaner.state.floatbank6_a_level  \n",
       "0                                 -605.841980  \n",
       "1                                 -599.787184  \n",
       "2                                 -601.427363  \n",
       "\n",
       "[3 rows x 87 columns]"
      ]
     },
     "execution_count": 6,
     "metadata": {},
     "output_type": "execute_result"
    }
   ],
   "source": [
    "data_train.head(3)"
   ]
  },
  {
   "cell_type": "code",
   "execution_count": 7,
   "metadata": {},
   "outputs": [
    {
     "data": {
      "text/html": [
       "<div>\n",
       "<style scoped>\n",
       "    .dataframe tbody tr th:only-of-type {\n",
       "        vertical-align: middle;\n",
       "    }\n",
       "\n",
       "    .dataframe tbody tr th {\n",
       "        vertical-align: top;\n",
       "    }\n",
       "\n",
       "    .dataframe thead th {\n",
       "        text-align: right;\n",
       "    }\n",
       "</style>\n",
       "<table border=\"1\" class=\"dataframe\">\n",
       "  <thead>\n",
       "    <tr style=\"text-align: right;\">\n",
       "      <th></th>\n",
       "      <th>final.output.concentrate_ag</th>\n",
       "      <th>final.output.concentrate_pb</th>\n",
       "      <th>final.output.concentrate_sol</th>\n",
       "      <th>final.output.concentrate_au</th>\n",
       "      <th>final.output.recovery</th>\n",
       "      <th>final.output.tail_ag</th>\n",
       "      <th>final.output.tail_pb</th>\n",
       "      <th>final.output.tail_sol</th>\n",
       "      <th>final.output.tail_au</th>\n",
       "      <th>primary_cleaner.input.sulfate</th>\n",
       "      <th>...</th>\n",
       "      <th>secondary_cleaner.state.floatbank4_a_air</th>\n",
       "      <th>secondary_cleaner.state.floatbank4_a_level</th>\n",
       "      <th>secondary_cleaner.state.floatbank4_b_air</th>\n",
       "      <th>secondary_cleaner.state.floatbank4_b_level</th>\n",
       "      <th>secondary_cleaner.state.floatbank5_a_air</th>\n",
       "      <th>secondary_cleaner.state.floatbank5_a_level</th>\n",
       "      <th>secondary_cleaner.state.floatbank5_b_air</th>\n",
       "      <th>secondary_cleaner.state.floatbank5_b_level</th>\n",
       "      <th>secondary_cleaner.state.floatbank6_a_air</th>\n",
       "      <th>secondary_cleaner.state.floatbank6_a_level</th>\n",
       "    </tr>\n",
       "  </thead>\n",
       "  <tbody>\n",
       "    <tr>\n",
       "      <td>count</td>\n",
       "      <td>14148.000000</td>\n",
       "      <td>14148.000000</td>\n",
       "      <td>13938.000000</td>\n",
       "      <td>14149.000000</td>\n",
       "      <td>14149.000000</td>\n",
       "      <td>14149.000000</td>\n",
       "      <td>14049.000000</td>\n",
       "      <td>14144.000000</td>\n",
       "      <td>14149.000000</td>\n",
       "      <td>14129.000000</td>\n",
       "      <td>...</td>\n",
       "      <td>14143.000000</td>\n",
       "      <td>14148.000000</td>\n",
       "      <td>14148.000000</td>\n",
       "      <td>14148.000000</td>\n",
       "      <td>14148.000000</td>\n",
       "      <td>14148.000000</td>\n",
       "      <td>14148.000000</td>\n",
       "      <td>14148.000000</td>\n",
       "      <td>14147.000000</td>\n",
       "      <td>14148.000000</td>\n",
       "    </tr>\n",
       "    <tr>\n",
       "      <td>mean</td>\n",
       "      <td>5.142034</td>\n",
       "      <td>10.132960</td>\n",
       "      <td>9.202849</td>\n",
       "      <td>44.003792</td>\n",
       "      <td>66.518832</td>\n",
       "      <td>9.607035</td>\n",
       "      <td>2.597298</td>\n",
       "      <td>10.512122</td>\n",
       "      <td>2.918421</td>\n",
       "      <td>133.320659</td>\n",
       "      <td>...</td>\n",
       "      <td>19.985454</td>\n",
       "      <td>-478.696836</td>\n",
       "      <td>15.487065</td>\n",
       "      <td>-460.229416</td>\n",
       "      <td>16.775136</td>\n",
       "      <td>-483.956022</td>\n",
       "      <td>13.064590</td>\n",
       "      <td>-483.966564</td>\n",
       "      <td>19.577539</td>\n",
       "      <td>-506.798480</td>\n",
       "    </tr>\n",
       "    <tr>\n",
       "      <td>std</td>\n",
       "      <td>1.369586</td>\n",
       "      <td>1.654930</td>\n",
       "      <td>2.790516</td>\n",
       "      <td>4.905261</td>\n",
       "      <td>10.295402</td>\n",
       "      <td>2.319069</td>\n",
       "      <td>0.971843</td>\n",
       "      <td>3.003617</td>\n",
       "      <td>0.903712</td>\n",
       "      <td>39.431659</td>\n",
       "      <td>...</td>\n",
       "      <td>5.657723</td>\n",
       "      <td>50.736021</td>\n",
       "      <td>5.255655</td>\n",
       "      <td>58.843586</td>\n",
       "      <td>5.831906</td>\n",
       "      <td>37.892788</td>\n",
       "      <td>5.765617</td>\n",
       "      <td>39.207913</td>\n",
       "      <td>5.764417</td>\n",
       "      <td>37.079249</td>\n",
       "    </tr>\n",
       "    <tr>\n",
       "      <td>min</td>\n",
       "      <td>0.000000</td>\n",
       "      <td>0.000000</td>\n",
       "      <td>0.000000</td>\n",
       "      <td>0.000000</td>\n",
       "      <td>0.000000</td>\n",
       "      <td>0.000000</td>\n",
       "      <td>0.000000</td>\n",
       "      <td>0.000000</td>\n",
       "      <td>0.000000</td>\n",
       "      <td>0.003112</td>\n",
       "      <td>...</td>\n",
       "      <td>0.000000</td>\n",
       "      <td>-799.709069</td>\n",
       "      <td>0.000000</td>\n",
       "      <td>-799.889113</td>\n",
       "      <td>-0.372054</td>\n",
       "      <td>-797.142475</td>\n",
       "      <td>0.646208</td>\n",
       "      <td>-800.006180</td>\n",
       "      <td>0.195324</td>\n",
       "      <td>-809.398668</td>\n",
       "    </tr>\n",
       "    <tr>\n",
       "      <td>25%</td>\n",
       "      <td>4.211620</td>\n",
       "      <td>9.297355</td>\n",
       "      <td>7.484645</td>\n",
       "      <td>43.276111</td>\n",
       "      <td>62.545817</td>\n",
       "      <td>7.997429</td>\n",
       "      <td>1.905973</td>\n",
       "      <td>8.811324</td>\n",
       "      <td>2.368607</td>\n",
       "      <td>107.006651</td>\n",
       "      <td>...</td>\n",
       "      <td>14.990775</td>\n",
       "      <td>-500.628656</td>\n",
       "      <td>11.894558</td>\n",
       "      <td>-500.149000</td>\n",
       "      <td>11.083980</td>\n",
       "      <td>-500.363177</td>\n",
       "      <td>8.994405</td>\n",
       "      <td>-500.105994</td>\n",
       "      <td>14.989304</td>\n",
       "      <td>-500.745104</td>\n",
       "    </tr>\n",
       "    <tr>\n",
       "      <td>50%</td>\n",
       "      <td>4.994652</td>\n",
       "      <td>10.297144</td>\n",
       "      <td>8.845462</td>\n",
       "      <td>44.872436</td>\n",
       "      <td>67.432775</td>\n",
       "      <td>9.480270</td>\n",
       "      <td>2.592022</td>\n",
       "      <td>10.514621</td>\n",
       "      <td>2.851025</td>\n",
       "      <td>133.018328</td>\n",
       "      <td>...</td>\n",
       "      <td>20.001789</td>\n",
       "      <td>-499.681450</td>\n",
       "      <td>14.975536</td>\n",
       "      <td>-499.388738</td>\n",
       "      <td>17.932223</td>\n",
       "      <td>-499.702452</td>\n",
       "      <td>11.997547</td>\n",
       "      <td>-499.914556</td>\n",
       "      <td>19.984175</td>\n",
       "      <td>-500.061431</td>\n",
       "    </tr>\n",
       "    <tr>\n",
       "      <td>75%</td>\n",
       "      <td>5.859540</td>\n",
       "      <td>11.170603</td>\n",
       "      <td>10.487508</td>\n",
       "      <td>46.166425</td>\n",
       "      <td>72.346428</td>\n",
       "      <td>11.003707</td>\n",
       "      <td>3.241723</td>\n",
       "      <td>11.933009</td>\n",
       "      <td>3.434764</td>\n",
       "      <td>159.825396</td>\n",
       "      <td>...</td>\n",
       "      <td>24.990826</td>\n",
       "      <td>-477.472413</td>\n",
       "      <td>20.059375</td>\n",
       "      <td>-400.039008</td>\n",
       "      <td>21.346550</td>\n",
       "      <td>-487.712108</td>\n",
       "      <td>17.982903</td>\n",
       "      <td>-453.186936</td>\n",
       "      <td>24.991623</td>\n",
       "      <td>-499.536466</td>\n",
       "    </tr>\n",
       "    <tr>\n",
       "      <td>max</td>\n",
       "      <td>16.001945</td>\n",
       "      <td>17.031899</td>\n",
       "      <td>18.124851</td>\n",
       "      <td>52.756638</td>\n",
       "      <td>100.000000</td>\n",
       "      <td>19.552149</td>\n",
       "      <td>5.639565</td>\n",
       "      <td>22.317730</td>\n",
       "      <td>8.197408</td>\n",
       "      <td>250.127834</td>\n",
       "      <td>...</td>\n",
       "      <td>30.115735</td>\n",
       "      <td>-245.239184</td>\n",
       "      <td>24.007913</td>\n",
       "      <td>-145.071088</td>\n",
       "      <td>43.709931</td>\n",
       "      <td>-275.073125</td>\n",
       "      <td>27.926001</td>\n",
       "      <td>-157.396071</td>\n",
       "      <td>32.188906</td>\n",
       "      <td>-104.427459</td>\n",
       "    </tr>\n",
       "  </tbody>\n",
       "</table>\n",
       "<p>8 rows × 86 columns</p>\n",
       "</div>"
      ],
      "text/plain": [
       "       final.output.concentrate_ag  final.output.concentrate_pb  \\\n",
       "count                 14148.000000                 14148.000000   \n",
       "mean                      5.142034                    10.132960   \n",
       "std                       1.369586                     1.654930   \n",
       "min                       0.000000                     0.000000   \n",
       "25%                       4.211620                     9.297355   \n",
       "50%                       4.994652                    10.297144   \n",
       "75%                       5.859540                    11.170603   \n",
       "max                      16.001945                    17.031899   \n",
       "\n",
       "       final.output.concentrate_sol  final.output.concentrate_au  \\\n",
       "count                  13938.000000                 14149.000000   \n",
       "mean                       9.202849                    44.003792   \n",
       "std                        2.790516                     4.905261   \n",
       "min                        0.000000                     0.000000   \n",
       "25%                        7.484645                    43.276111   \n",
       "50%                        8.845462                    44.872436   \n",
       "75%                       10.487508                    46.166425   \n",
       "max                       18.124851                    52.756638   \n",
       "\n",
       "       final.output.recovery  final.output.tail_ag  final.output.tail_pb  \\\n",
       "count           14149.000000          14149.000000          14049.000000   \n",
       "mean               66.518832              9.607035              2.597298   \n",
       "std                10.295402              2.319069              0.971843   \n",
       "min                 0.000000              0.000000              0.000000   \n",
       "25%                62.545817              7.997429              1.905973   \n",
       "50%                67.432775              9.480270              2.592022   \n",
       "75%                72.346428             11.003707              3.241723   \n",
       "max               100.000000             19.552149              5.639565   \n",
       "\n",
       "       final.output.tail_sol  final.output.tail_au  \\\n",
       "count           14144.000000          14149.000000   \n",
       "mean               10.512122              2.918421   \n",
       "std                 3.003617              0.903712   \n",
       "min                 0.000000              0.000000   \n",
       "25%                 8.811324              2.368607   \n",
       "50%                10.514621              2.851025   \n",
       "75%                11.933009              3.434764   \n",
       "max                22.317730              8.197408   \n",
       "\n",
       "       primary_cleaner.input.sulfate  ...  \\\n",
       "count                   14129.000000  ...   \n",
       "mean                      133.320659  ...   \n",
       "std                        39.431659  ...   \n",
       "min                         0.003112  ...   \n",
       "25%                       107.006651  ...   \n",
       "50%                       133.018328  ...   \n",
       "75%                       159.825396  ...   \n",
       "max                       250.127834  ...   \n",
       "\n",
       "       secondary_cleaner.state.floatbank4_a_air  \\\n",
       "count                              14143.000000   \n",
       "mean                                  19.985454   \n",
       "std                                    5.657723   \n",
       "min                                    0.000000   \n",
       "25%                                   14.990775   \n",
       "50%                                   20.001789   \n",
       "75%                                   24.990826   \n",
       "max                                   30.115735   \n",
       "\n",
       "       secondary_cleaner.state.floatbank4_a_level  \\\n",
       "count                                14148.000000   \n",
       "mean                                  -478.696836   \n",
       "std                                     50.736021   \n",
       "min                                   -799.709069   \n",
       "25%                                   -500.628656   \n",
       "50%                                   -499.681450   \n",
       "75%                                   -477.472413   \n",
       "max                                   -245.239184   \n",
       "\n",
       "       secondary_cleaner.state.floatbank4_b_air  \\\n",
       "count                              14148.000000   \n",
       "mean                                  15.487065   \n",
       "std                                    5.255655   \n",
       "min                                    0.000000   \n",
       "25%                                   11.894558   \n",
       "50%                                   14.975536   \n",
       "75%                                   20.059375   \n",
       "max                                   24.007913   \n",
       "\n",
       "       secondary_cleaner.state.floatbank4_b_level  \\\n",
       "count                                14148.000000   \n",
       "mean                                  -460.229416   \n",
       "std                                     58.843586   \n",
       "min                                   -799.889113   \n",
       "25%                                   -500.149000   \n",
       "50%                                   -499.388738   \n",
       "75%                                   -400.039008   \n",
       "max                                   -145.071088   \n",
       "\n",
       "       secondary_cleaner.state.floatbank5_a_air  \\\n",
       "count                              14148.000000   \n",
       "mean                                  16.775136   \n",
       "std                                    5.831906   \n",
       "min                                   -0.372054   \n",
       "25%                                   11.083980   \n",
       "50%                                   17.932223   \n",
       "75%                                   21.346550   \n",
       "max                                   43.709931   \n",
       "\n",
       "       secondary_cleaner.state.floatbank5_a_level  \\\n",
       "count                                14148.000000   \n",
       "mean                                  -483.956022   \n",
       "std                                     37.892788   \n",
       "min                                   -797.142475   \n",
       "25%                                   -500.363177   \n",
       "50%                                   -499.702452   \n",
       "75%                                   -487.712108   \n",
       "max                                   -275.073125   \n",
       "\n",
       "       secondary_cleaner.state.floatbank5_b_air  \\\n",
       "count                              14148.000000   \n",
       "mean                                  13.064590   \n",
       "std                                    5.765617   \n",
       "min                                    0.646208   \n",
       "25%                                    8.994405   \n",
       "50%                                   11.997547   \n",
       "75%                                   17.982903   \n",
       "max                                   27.926001   \n",
       "\n",
       "       secondary_cleaner.state.floatbank5_b_level  \\\n",
       "count                                14148.000000   \n",
       "mean                                  -483.966564   \n",
       "std                                     39.207913   \n",
       "min                                   -800.006180   \n",
       "25%                                   -500.105994   \n",
       "50%                                   -499.914556   \n",
       "75%                                   -453.186936   \n",
       "max                                   -157.396071   \n",
       "\n",
       "       secondary_cleaner.state.floatbank6_a_air  \\\n",
       "count                              14147.000000   \n",
       "mean                                  19.577539   \n",
       "std                                    5.764417   \n",
       "min                                    0.195324   \n",
       "25%                                   14.989304   \n",
       "50%                                   19.984175   \n",
       "75%                                   24.991623   \n",
       "max                                   32.188906   \n",
       "\n",
       "       secondary_cleaner.state.floatbank6_a_level  \n",
       "count                                14148.000000  \n",
       "mean                                  -506.798480  \n",
       "std                                     37.079249  \n",
       "min                                   -809.398668  \n",
       "25%                                   -500.745104  \n",
       "50%                                   -500.061431  \n",
       "75%                                   -499.536466  \n",
       "max                                   -104.427459  \n",
       "\n",
       "[8 rows x 86 columns]"
      ]
     },
     "execution_count": 7,
     "metadata": {},
     "output_type": "execute_result"
    }
   ],
   "source": [
    "data_train.describe()"
   ]
  },
  {
   "cell_type": "code",
   "execution_count": 8,
   "metadata": {},
   "outputs": [
    {
     "data": {
      "text/plain": [
       "4100"
      ]
     },
     "execution_count": 8,
     "metadata": {},
     "output_type": "execute_result"
    }
   ],
   "source": [
    "data_train.isna().sum().sum()"
   ]
  },
  {
   "cell_type": "code",
   "execution_count": 9,
   "metadata": {},
   "outputs": [
    {
     "data": {
      "text/plain": [
       "0"
      ]
     },
     "execution_count": 9,
     "metadata": {},
     "output_type": "execute_result"
    }
   ],
   "source": [
    "data_train.duplicated().sum()"
   ]
  },
  {
   "cell_type": "markdown",
   "metadata": {},
   "source": [
    "Предварительный анализ данных об обучающей выборке (87 колонок с признаками, 14149 строк) показал наличие пропусков в данных (в целом до 5 %, и только в 1 признаке 'secondary_cleaner.output.tail_sol' количество пропусков более 10 %)\n",
    "\n",
    "Полные дубликаты не выявлены. Числовые аномалии не обнаружены, однако есть данные со значением 0, в количественных признаках видны признаки с разными разбросами.  \n",
    "\n",
    "#### Тестовая выборка ####"
   ]
  },
  {
   "cell_type": "code",
   "execution_count": 10,
   "metadata": {},
   "outputs": [
    {
     "name": "stdout",
     "output_type": "stream",
     "text": [
      "<class 'pandas.core.frame.DataFrame'>\n",
      "RangeIndex: 5290 entries, 0 to 5289\n",
      "Data columns (total 53 columns):\n",
      "date                                          5290 non-null object\n",
      "primary_cleaner.input.sulfate                 5286 non-null float64\n",
      "primary_cleaner.input.depressant              5285 non-null float64\n",
      "primary_cleaner.input.feed_size               5290 non-null float64\n",
      "primary_cleaner.input.xanthate                5286 non-null float64\n",
      "primary_cleaner.state.floatbank8_a_air        5290 non-null float64\n",
      "primary_cleaner.state.floatbank8_a_level      5290 non-null float64\n",
      "primary_cleaner.state.floatbank8_b_air        5290 non-null float64\n",
      "primary_cleaner.state.floatbank8_b_level      5290 non-null float64\n",
      "primary_cleaner.state.floatbank8_c_air        5290 non-null float64\n",
      "primary_cleaner.state.floatbank8_c_level      5290 non-null float64\n",
      "primary_cleaner.state.floatbank8_d_air        5290 non-null float64\n",
      "primary_cleaner.state.floatbank8_d_level      5290 non-null float64\n",
      "rougher.input.feed_ag                         5290 non-null float64\n",
      "rougher.input.feed_pb                         5290 non-null float64\n",
      "rougher.input.feed_rate                       5287 non-null float64\n",
      "rougher.input.feed_size                       5289 non-null float64\n",
      "rougher.input.feed_sol                        5269 non-null float64\n",
      "rougher.input.feed_au                         5290 non-null float64\n",
      "rougher.input.floatbank10_sulfate             5285 non-null float64\n",
      "rougher.input.floatbank10_xanthate            5290 non-null float64\n",
      "rougher.input.floatbank11_sulfate             5282 non-null float64\n",
      "rougher.input.floatbank11_xanthate            5265 non-null float64\n",
      "rougher.state.floatbank10_a_air               5290 non-null float64\n",
      "rougher.state.floatbank10_a_level             5290 non-null float64\n",
      "rougher.state.floatbank10_b_air               5290 non-null float64\n",
      "rougher.state.floatbank10_b_level             5290 non-null float64\n",
      "rougher.state.floatbank10_c_air               5290 non-null float64\n",
      "rougher.state.floatbank10_c_level             5290 non-null float64\n",
      "rougher.state.floatbank10_d_air               5290 non-null float64\n",
      "rougher.state.floatbank10_d_level             5290 non-null float64\n",
      "rougher.state.floatbank10_e_air               5290 non-null float64\n",
      "rougher.state.floatbank10_e_level             5290 non-null float64\n",
      "rougher.state.floatbank10_f_air               5290 non-null float64\n",
      "rougher.state.floatbank10_f_level             5290 non-null float64\n",
      "secondary_cleaner.state.floatbank2_a_air      5287 non-null float64\n",
      "secondary_cleaner.state.floatbank2_a_level    5290 non-null float64\n",
      "secondary_cleaner.state.floatbank2_b_air      5288 non-null float64\n",
      "secondary_cleaner.state.floatbank2_b_level    5290 non-null float64\n",
      "secondary_cleaner.state.floatbank3_a_air      5281 non-null float64\n",
      "secondary_cleaner.state.floatbank3_a_level    5290 non-null float64\n",
      "secondary_cleaner.state.floatbank3_b_air      5290 non-null float64\n",
      "secondary_cleaner.state.floatbank3_b_level    5290 non-null float64\n",
      "secondary_cleaner.state.floatbank4_a_air      5290 non-null float64\n",
      "secondary_cleaner.state.floatbank4_a_level    5290 non-null float64\n",
      "secondary_cleaner.state.floatbank4_b_air      5290 non-null float64\n",
      "secondary_cleaner.state.floatbank4_b_level    5290 non-null float64\n",
      "secondary_cleaner.state.floatbank5_a_air      5290 non-null float64\n",
      "secondary_cleaner.state.floatbank5_a_level    5290 non-null float64\n",
      "secondary_cleaner.state.floatbank5_b_air      5290 non-null float64\n",
      "secondary_cleaner.state.floatbank5_b_level    5290 non-null float64\n",
      "secondary_cleaner.state.floatbank6_a_air      5290 non-null float64\n",
      "secondary_cleaner.state.floatbank6_a_level    5290 non-null float64\n",
      "dtypes: float64(52), object(1)\n",
      "memory usage: 2.1+ MB\n"
     ]
    }
   ],
   "source": [
    "data_test.info()"
   ]
  },
  {
   "cell_type": "code",
   "execution_count": 11,
   "metadata": {},
   "outputs": [
    {
     "data": {
      "text/html": [
       "<div>\n",
       "<style scoped>\n",
       "    .dataframe tbody tr th:only-of-type {\n",
       "        vertical-align: middle;\n",
       "    }\n",
       "\n",
       "    .dataframe tbody tr th {\n",
       "        vertical-align: top;\n",
       "    }\n",
       "\n",
       "    .dataframe thead th {\n",
       "        text-align: right;\n",
       "    }\n",
       "</style>\n",
       "<table border=\"1\" class=\"dataframe\">\n",
       "  <thead>\n",
       "    <tr style=\"text-align: right;\">\n",
       "      <th></th>\n",
       "      <th>date</th>\n",
       "      <th>primary_cleaner.input.sulfate</th>\n",
       "      <th>primary_cleaner.input.depressant</th>\n",
       "      <th>primary_cleaner.input.feed_size</th>\n",
       "      <th>primary_cleaner.input.xanthate</th>\n",
       "      <th>primary_cleaner.state.floatbank8_a_air</th>\n",
       "      <th>primary_cleaner.state.floatbank8_a_level</th>\n",
       "      <th>primary_cleaner.state.floatbank8_b_air</th>\n",
       "      <th>primary_cleaner.state.floatbank8_b_level</th>\n",
       "      <th>primary_cleaner.state.floatbank8_c_air</th>\n",
       "      <th>...</th>\n",
       "      <th>secondary_cleaner.state.floatbank4_a_air</th>\n",
       "      <th>secondary_cleaner.state.floatbank4_a_level</th>\n",
       "      <th>secondary_cleaner.state.floatbank4_b_air</th>\n",
       "      <th>secondary_cleaner.state.floatbank4_b_level</th>\n",
       "      <th>secondary_cleaner.state.floatbank5_a_air</th>\n",
       "      <th>secondary_cleaner.state.floatbank5_a_level</th>\n",
       "      <th>secondary_cleaner.state.floatbank5_b_air</th>\n",
       "      <th>secondary_cleaner.state.floatbank5_b_level</th>\n",
       "      <th>secondary_cleaner.state.floatbank6_a_air</th>\n",
       "      <th>secondary_cleaner.state.floatbank6_a_level</th>\n",
       "    </tr>\n",
       "  </thead>\n",
       "  <tbody>\n",
       "    <tr>\n",
       "      <td>0</td>\n",
       "      <td>2016-09-01 00:59:59</td>\n",
       "      <td>210.800909</td>\n",
       "      <td>14.993118</td>\n",
       "      <td>8.080000</td>\n",
       "      <td>1.005021</td>\n",
       "      <td>1398.981301</td>\n",
       "      <td>-500.225577</td>\n",
       "      <td>1399.144926</td>\n",
       "      <td>-499.919735</td>\n",
       "      <td>1400.102998</td>\n",
       "      <td>...</td>\n",
       "      <td>12.023554</td>\n",
       "      <td>-497.795834</td>\n",
       "      <td>8.016656</td>\n",
       "      <td>-501.289139</td>\n",
       "      <td>7.946562</td>\n",
       "      <td>-432.317850</td>\n",
       "      <td>4.872511</td>\n",
       "      <td>-500.037437</td>\n",
       "      <td>26.705889</td>\n",
       "      <td>-499.709414</td>\n",
       "    </tr>\n",
       "    <tr>\n",
       "      <td>1</td>\n",
       "      <td>2016-09-01 01:59:59</td>\n",
       "      <td>215.392455</td>\n",
       "      <td>14.987471</td>\n",
       "      <td>8.080000</td>\n",
       "      <td>0.990469</td>\n",
       "      <td>1398.777912</td>\n",
       "      <td>-500.057435</td>\n",
       "      <td>1398.055362</td>\n",
       "      <td>-499.778182</td>\n",
       "      <td>1396.151033</td>\n",
       "      <td>...</td>\n",
       "      <td>12.058140</td>\n",
       "      <td>-498.695773</td>\n",
       "      <td>8.130979</td>\n",
       "      <td>-499.634209</td>\n",
       "      <td>7.958270</td>\n",
       "      <td>-525.839648</td>\n",
       "      <td>4.878850</td>\n",
       "      <td>-500.162375</td>\n",
       "      <td>25.019940</td>\n",
       "      <td>-499.819438</td>\n",
       "    </tr>\n",
       "    <tr>\n",
       "      <td>2</td>\n",
       "      <td>2016-09-01 02:59:59</td>\n",
       "      <td>215.259946</td>\n",
       "      <td>12.884934</td>\n",
       "      <td>7.786667</td>\n",
       "      <td>0.996043</td>\n",
       "      <td>1398.493666</td>\n",
       "      <td>-500.868360</td>\n",
       "      <td>1398.860436</td>\n",
       "      <td>-499.764529</td>\n",
       "      <td>1398.075709</td>\n",
       "      <td>...</td>\n",
       "      <td>11.962366</td>\n",
       "      <td>-498.767484</td>\n",
       "      <td>8.096893</td>\n",
       "      <td>-500.827423</td>\n",
       "      <td>8.071056</td>\n",
       "      <td>-500.801673</td>\n",
       "      <td>4.905125</td>\n",
       "      <td>-499.828510</td>\n",
       "      <td>24.994862</td>\n",
       "      <td>-500.622559</td>\n",
       "    </tr>\n",
       "  </tbody>\n",
       "</table>\n",
       "<p>3 rows × 53 columns</p>\n",
       "</div>"
      ],
      "text/plain": [
       "                  date  primary_cleaner.input.sulfate  \\\n",
       "0  2016-09-01 00:59:59                     210.800909   \n",
       "1  2016-09-01 01:59:59                     215.392455   \n",
       "2  2016-09-01 02:59:59                     215.259946   \n",
       "\n",
       "   primary_cleaner.input.depressant  primary_cleaner.input.feed_size  \\\n",
       "0                         14.993118                         8.080000   \n",
       "1                         14.987471                         8.080000   \n",
       "2                         12.884934                         7.786667   \n",
       "\n",
       "   primary_cleaner.input.xanthate  primary_cleaner.state.floatbank8_a_air  \\\n",
       "0                        1.005021                             1398.981301   \n",
       "1                        0.990469                             1398.777912   \n",
       "2                        0.996043                             1398.493666   \n",
       "\n",
       "   primary_cleaner.state.floatbank8_a_level  \\\n",
       "0                               -500.225577   \n",
       "1                               -500.057435   \n",
       "2                               -500.868360   \n",
       "\n",
       "   primary_cleaner.state.floatbank8_b_air  \\\n",
       "0                             1399.144926   \n",
       "1                             1398.055362   \n",
       "2                             1398.860436   \n",
       "\n",
       "   primary_cleaner.state.floatbank8_b_level  \\\n",
       "0                               -499.919735   \n",
       "1                               -499.778182   \n",
       "2                               -499.764529   \n",
       "\n",
       "   primary_cleaner.state.floatbank8_c_air  ...  \\\n",
       "0                             1400.102998  ...   \n",
       "1                             1396.151033  ...   \n",
       "2                             1398.075709  ...   \n",
       "\n",
       "   secondary_cleaner.state.floatbank4_a_air  \\\n",
       "0                                 12.023554   \n",
       "1                                 12.058140   \n",
       "2                                 11.962366   \n",
       "\n",
       "   secondary_cleaner.state.floatbank4_a_level  \\\n",
       "0                                 -497.795834   \n",
       "1                                 -498.695773   \n",
       "2                                 -498.767484   \n",
       "\n",
       "   secondary_cleaner.state.floatbank4_b_air  \\\n",
       "0                                  8.016656   \n",
       "1                                  8.130979   \n",
       "2                                  8.096893   \n",
       "\n",
       "   secondary_cleaner.state.floatbank4_b_level  \\\n",
       "0                                 -501.289139   \n",
       "1                                 -499.634209   \n",
       "2                                 -500.827423   \n",
       "\n",
       "   secondary_cleaner.state.floatbank5_a_air  \\\n",
       "0                                  7.946562   \n",
       "1                                  7.958270   \n",
       "2                                  8.071056   \n",
       "\n",
       "   secondary_cleaner.state.floatbank5_a_level  \\\n",
       "0                                 -432.317850   \n",
       "1                                 -525.839648   \n",
       "2                                 -500.801673   \n",
       "\n",
       "   secondary_cleaner.state.floatbank5_b_air  \\\n",
       "0                                  4.872511   \n",
       "1                                  4.878850   \n",
       "2                                  4.905125   \n",
       "\n",
       "   secondary_cleaner.state.floatbank5_b_level  \\\n",
       "0                                 -500.037437   \n",
       "1                                 -500.162375   \n",
       "2                                 -499.828510   \n",
       "\n",
       "   secondary_cleaner.state.floatbank6_a_air  \\\n",
       "0                                 26.705889   \n",
       "1                                 25.019940   \n",
       "2                                 24.994862   \n",
       "\n",
       "   secondary_cleaner.state.floatbank6_a_level  \n",
       "0                                 -499.709414  \n",
       "1                                 -499.819438  \n",
       "2                                 -500.622559  \n",
       "\n",
       "[3 rows x 53 columns]"
      ]
     },
     "execution_count": 11,
     "metadata": {},
     "output_type": "execute_result"
    }
   ],
   "source": [
    "data_test.head(3)"
   ]
  },
  {
   "cell_type": "code",
   "execution_count": 12,
   "metadata": {},
   "outputs": [
    {
     "data": {
      "text/html": [
       "<div>\n",
       "<style scoped>\n",
       "    .dataframe tbody tr th:only-of-type {\n",
       "        vertical-align: middle;\n",
       "    }\n",
       "\n",
       "    .dataframe tbody tr th {\n",
       "        vertical-align: top;\n",
       "    }\n",
       "\n",
       "    .dataframe thead th {\n",
       "        text-align: right;\n",
       "    }\n",
       "</style>\n",
       "<table border=\"1\" class=\"dataframe\">\n",
       "  <thead>\n",
       "    <tr style=\"text-align: right;\">\n",
       "      <th></th>\n",
       "      <th>primary_cleaner.input.sulfate</th>\n",
       "      <th>primary_cleaner.input.depressant</th>\n",
       "      <th>primary_cleaner.input.feed_size</th>\n",
       "      <th>primary_cleaner.input.xanthate</th>\n",
       "      <th>primary_cleaner.state.floatbank8_a_air</th>\n",
       "      <th>primary_cleaner.state.floatbank8_a_level</th>\n",
       "      <th>primary_cleaner.state.floatbank8_b_air</th>\n",
       "      <th>primary_cleaner.state.floatbank8_b_level</th>\n",
       "      <th>primary_cleaner.state.floatbank8_c_air</th>\n",
       "      <th>primary_cleaner.state.floatbank8_c_level</th>\n",
       "      <th>...</th>\n",
       "      <th>secondary_cleaner.state.floatbank4_a_air</th>\n",
       "      <th>secondary_cleaner.state.floatbank4_a_level</th>\n",
       "      <th>secondary_cleaner.state.floatbank4_b_air</th>\n",
       "      <th>secondary_cleaner.state.floatbank4_b_level</th>\n",
       "      <th>secondary_cleaner.state.floatbank5_a_air</th>\n",
       "      <th>secondary_cleaner.state.floatbank5_a_level</th>\n",
       "      <th>secondary_cleaner.state.floatbank5_b_air</th>\n",
       "      <th>secondary_cleaner.state.floatbank5_b_level</th>\n",
       "      <th>secondary_cleaner.state.floatbank6_a_air</th>\n",
       "      <th>secondary_cleaner.state.floatbank6_a_level</th>\n",
       "    </tr>\n",
       "  </thead>\n",
       "  <tbody>\n",
       "    <tr>\n",
       "      <td>count</td>\n",
       "      <td>5286.000000</td>\n",
       "      <td>5285.000000</td>\n",
       "      <td>5290.000000</td>\n",
       "      <td>5286.000000</td>\n",
       "      <td>5.290000e+03</td>\n",
       "      <td>5290.000000</td>\n",
       "      <td>5.290000e+03</td>\n",
       "      <td>5290.000000</td>\n",
       "      <td>5.290000e+03</td>\n",
       "      <td>5290.000000</td>\n",
       "      <td>...</td>\n",
       "      <td>5.290000e+03</td>\n",
       "      <td>5290.000000</td>\n",
       "      <td>5.290000e+03</td>\n",
       "      <td>5290.000000</td>\n",
       "      <td>5290.000000</td>\n",
       "      <td>5290.000000</td>\n",
       "      <td>5290.000000</td>\n",
       "      <td>5290.000000</td>\n",
       "      <td>5290.000000</td>\n",
       "      <td>5290.000000</td>\n",
       "    </tr>\n",
       "    <tr>\n",
       "      <td>mean</td>\n",
       "      <td>174.839652</td>\n",
       "      <td>8.683596</td>\n",
       "      <td>7.266339</td>\n",
       "      <td>1.383803</td>\n",
       "      <td>1.539494e+03</td>\n",
       "      <td>-497.665883</td>\n",
       "      <td>1.545174e+03</td>\n",
       "      <td>-500.273098</td>\n",
       "      <td>1.527272e+03</td>\n",
       "      <td>-498.330680</td>\n",
       "      <td>...</td>\n",
       "      <td>1.632007e+01</td>\n",
       "      <td>-505.144570</td>\n",
       "      <td>1.373544e+01</td>\n",
       "      <td>-463.349858</td>\n",
       "      <td>12.804186</td>\n",
       "      <td>-501.329122</td>\n",
       "      <td>9.881145</td>\n",
       "      <td>-495.663398</td>\n",
       "      <td>17.304935</td>\n",
       "      <td>-501.793193</td>\n",
       "    </tr>\n",
       "    <tr>\n",
       "      <td>std</td>\n",
       "      <td>43.027080</td>\n",
       "      <td>3.072050</td>\n",
       "      <td>0.610219</td>\n",
       "      <td>0.643474</td>\n",
       "      <td>1.167979e+02</td>\n",
       "      <td>19.952431</td>\n",
       "      <td>1.222246e+02</td>\n",
       "      <td>32.968307</td>\n",
       "      <td>1.225380e+02</td>\n",
       "      <td>21.964876</td>\n",
       "      <td>...</td>\n",
       "      <td>3.493583e+00</td>\n",
       "      <td>31.427337</td>\n",
       "      <td>3.430484e+00</td>\n",
       "      <td>86.189107</td>\n",
       "      <td>3.026591</td>\n",
       "      <td>17.951495</td>\n",
       "      <td>2.868205</td>\n",
       "      <td>34.535007</td>\n",
       "      <td>4.536544</td>\n",
       "      <td>39.044215</td>\n",
       "    </tr>\n",
       "    <tr>\n",
       "      <td>min</td>\n",
       "      <td>2.566156</td>\n",
       "      <td>0.003839</td>\n",
       "      <td>5.650000</td>\n",
       "      <td>0.004984</td>\n",
       "      <td>5.445860e-32</td>\n",
       "      <td>-795.316337</td>\n",
       "      <td>6.647490e-32</td>\n",
       "      <td>-799.997015</td>\n",
       "      <td>4.033736e-32</td>\n",
       "      <td>-799.960571</td>\n",
       "      <td>...</td>\n",
       "      <td>1.079872e-16</td>\n",
       "      <td>-799.798523</td>\n",
       "      <td>2.489718e-17</td>\n",
       "      <td>-800.836914</td>\n",
       "      <td>0.069227</td>\n",
       "      <td>-797.323986</td>\n",
       "      <td>0.528083</td>\n",
       "      <td>-800.220337</td>\n",
       "      <td>-0.079426</td>\n",
       "      <td>-809.741464</td>\n",
       "    </tr>\n",
       "    <tr>\n",
       "      <td>25%</td>\n",
       "      <td>147.121401</td>\n",
       "      <td>6.489555</td>\n",
       "      <td>6.890000</td>\n",
       "      <td>0.907623</td>\n",
       "      <td>1.498936e+03</td>\n",
       "      <td>-500.357298</td>\n",
       "      <td>1.498971e+03</td>\n",
       "      <td>-500.703002</td>\n",
       "      <td>1.473230e+03</td>\n",
       "      <td>-501.018117</td>\n",
       "      <td>...</td>\n",
       "      <td>1.403618e+01</td>\n",
       "      <td>-500.868258</td>\n",
       "      <td>1.202862e+01</td>\n",
       "      <td>-500.323028</td>\n",
       "      <td>10.914838</td>\n",
       "      <td>-500.726841</td>\n",
       "      <td>8.036719</td>\n",
       "      <td>-500.194668</td>\n",
       "      <td>13.997317</td>\n",
       "      <td>-500.690984</td>\n",
       "    </tr>\n",
       "    <tr>\n",
       "      <td>50%</td>\n",
       "      <td>177.828489</td>\n",
       "      <td>8.052207</td>\n",
       "      <td>7.250000</td>\n",
       "      <td>1.197610</td>\n",
       "      <td>1.585129e+03</td>\n",
       "      <td>-499.969164</td>\n",
       "      <td>1.595622e+03</td>\n",
       "      <td>-500.028514</td>\n",
       "      <td>1.549595e+03</td>\n",
       "      <td>-500.017711</td>\n",
       "      <td>...</td>\n",
       "      <td>1.700847e+01</td>\n",
       "      <td>-500.115727</td>\n",
       "      <td>1.496486e+01</td>\n",
       "      <td>-499.576513</td>\n",
       "      <td>12.954182</td>\n",
       "      <td>-499.990332</td>\n",
       "      <td>10.004301</td>\n",
       "      <td>-499.990535</td>\n",
       "      <td>16.014935</td>\n",
       "      <td>-500.007126</td>\n",
       "    </tr>\n",
       "    <tr>\n",
       "      <td>75%</td>\n",
       "      <td>208.125438</td>\n",
       "      <td>10.027764</td>\n",
       "      <td>7.600000</td>\n",
       "      <td>1.797819</td>\n",
       "      <td>1.602077e+03</td>\n",
       "      <td>-499.568951</td>\n",
       "      <td>1.602324e+03</td>\n",
       "      <td>-499.293257</td>\n",
       "      <td>1.601144e+03</td>\n",
       "      <td>-498.994130</td>\n",
       "      <td>...</td>\n",
       "      <td>1.803862e+01</td>\n",
       "      <td>-499.404224</td>\n",
       "      <td>1.596213e+01</td>\n",
       "      <td>-400.933805</td>\n",
       "      <td>15.097528</td>\n",
       "      <td>-499.283191</td>\n",
       "      <td>11.997467</td>\n",
       "      <td>-499.719913</td>\n",
       "      <td>21.020013</td>\n",
       "      <td>-499.373018</td>\n",
       "    </tr>\n",
       "    <tr>\n",
       "      <td>max</td>\n",
       "      <td>265.983123</td>\n",
       "      <td>40.000000</td>\n",
       "      <td>15.500000</td>\n",
       "      <td>4.102454</td>\n",
       "      <td>2.103104e+03</td>\n",
       "      <td>-57.195404</td>\n",
       "      <td>1.813084e+03</td>\n",
       "      <td>-142.527229</td>\n",
       "      <td>1.715054e+03</td>\n",
       "      <td>-150.937035</td>\n",
       "      <td>...</td>\n",
       "      <td>3.005180e+01</td>\n",
       "      <td>-401.565212</td>\n",
       "      <td>3.126971e+01</td>\n",
       "      <td>-6.506986</td>\n",
       "      <td>25.258848</td>\n",
       "      <td>-244.483566</td>\n",
       "      <td>14.086866</td>\n",
       "      <td>-137.740004</td>\n",
       "      <td>26.705889</td>\n",
       "      <td>-123.307487</td>\n",
       "    </tr>\n",
       "  </tbody>\n",
       "</table>\n",
       "<p>8 rows × 52 columns</p>\n",
       "</div>"
      ],
      "text/plain": [
       "       primary_cleaner.input.sulfate  primary_cleaner.input.depressant  \\\n",
       "count                    5286.000000                       5285.000000   \n",
       "mean                      174.839652                          8.683596   \n",
       "std                        43.027080                          3.072050   \n",
       "min                         2.566156                          0.003839   \n",
       "25%                       147.121401                          6.489555   \n",
       "50%                       177.828489                          8.052207   \n",
       "75%                       208.125438                         10.027764   \n",
       "max                       265.983123                         40.000000   \n",
       "\n",
       "       primary_cleaner.input.feed_size  primary_cleaner.input.xanthate  \\\n",
       "count                      5290.000000                     5286.000000   \n",
       "mean                          7.266339                        1.383803   \n",
       "std                           0.610219                        0.643474   \n",
       "min                           5.650000                        0.004984   \n",
       "25%                           6.890000                        0.907623   \n",
       "50%                           7.250000                        1.197610   \n",
       "75%                           7.600000                        1.797819   \n",
       "max                          15.500000                        4.102454   \n",
       "\n",
       "       primary_cleaner.state.floatbank8_a_air  \\\n",
       "count                            5.290000e+03   \n",
       "mean                             1.539494e+03   \n",
       "std                              1.167979e+02   \n",
       "min                              5.445860e-32   \n",
       "25%                              1.498936e+03   \n",
       "50%                              1.585129e+03   \n",
       "75%                              1.602077e+03   \n",
       "max                              2.103104e+03   \n",
       "\n",
       "       primary_cleaner.state.floatbank8_a_level  \\\n",
       "count                               5290.000000   \n",
       "mean                                -497.665883   \n",
       "std                                   19.952431   \n",
       "min                                 -795.316337   \n",
       "25%                                 -500.357298   \n",
       "50%                                 -499.969164   \n",
       "75%                                 -499.568951   \n",
       "max                                  -57.195404   \n",
       "\n",
       "       primary_cleaner.state.floatbank8_b_air  \\\n",
       "count                            5.290000e+03   \n",
       "mean                             1.545174e+03   \n",
       "std                              1.222246e+02   \n",
       "min                              6.647490e-32   \n",
       "25%                              1.498971e+03   \n",
       "50%                              1.595622e+03   \n",
       "75%                              1.602324e+03   \n",
       "max                              1.813084e+03   \n",
       "\n",
       "       primary_cleaner.state.floatbank8_b_level  \\\n",
       "count                               5290.000000   \n",
       "mean                                -500.273098   \n",
       "std                                   32.968307   \n",
       "min                                 -799.997015   \n",
       "25%                                 -500.703002   \n",
       "50%                                 -500.028514   \n",
       "75%                                 -499.293257   \n",
       "max                                 -142.527229   \n",
       "\n",
       "       primary_cleaner.state.floatbank8_c_air  \\\n",
       "count                            5.290000e+03   \n",
       "mean                             1.527272e+03   \n",
       "std                              1.225380e+02   \n",
       "min                              4.033736e-32   \n",
       "25%                              1.473230e+03   \n",
       "50%                              1.549595e+03   \n",
       "75%                              1.601144e+03   \n",
       "max                              1.715054e+03   \n",
       "\n",
       "       primary_cleaner.state.floatbank8_c_level  ...  \\\n",
       "count                               5290.000000  ...   \n",
       "mean                                -498.330680  ...   \n",
       "std                                   21.964876  ...   \n",
       "min                                 -799.960571  ...   \n",
       "25%                                 -501.018117  ...   \n",
       "50%                                 -500.017711  ...   \n",
       "75%                                 -498.994130  ...   \n",
       "max                                 -150.937035  ...   \n",
       "\n",
       "       secondary_cleaner.state.floatbank4_a_air  \\\n",
       "count                              5.290000e+03   \n",
       "mean                               1.632007e+01   \n",
       "std                                3.493583e+00   \n",
       "min                                1.079872e-16   \n",
       "25%                                1.403618e+01   \n",
       "50%                                1.700847e+01   \n",
       "75%                                1.803862e+01   \n",
       "max                                3.005180e+01   \n",
       "\n",
       "       secondary_cleaner.state.floatbank4_a_level  \\\n",
       "count                                 5290.000000   \n",
       "mean                                  -505.144570   \n",
       "std                                     31.427337   \n",
       "min                                   -799.798523   \n",
       "25%                                   -500.868258   \n",
       "50%                                   -500.115727   \n",
       "75%                                   -499.404224   \n",
       "max                                   -401.565212   \n",
       "\n",
       "       secondary_cleaner.state.floatbank4_b_air  \\\n",
       "count                              5.290000e+03   \n",
       "mean                               1.373544e+01   \n",
       "std                                3.430484e+00   \n",
       "min                                2.489718e-17   \n",
       "25%                                1.202862e+01   \n",
       "50%                                1.496486e+01   \n",
       "75%                                1.596213e+01   \n",
       "max                                3.126971e+01   \n",
       "\n",
       "       secondary_cleaner.state.floatbank4_b_level  \\\n",
       "count                                 5290.000000   \n",
       "mean                                  -463.349858   \n",
       "std                                     86.189107   \n",
       "min                                   -800.836914   \n",
       "25%                                   -500.323028   \n",
       "50%                                   -499.576513   \n",
       "75%                                   -400.933805   \n",
       "max                                     -6.506986   \n",
       "\n",
       "       secondary_cleaner.state.floatbank5_a_air  \\\n",
       "count                               5290.000000   \n",
       "mean                                  12.804186   \n",
       "std                                    3.026591   \n",
       "min                                    0.069227   \n",
       "25%                                   10.914838   \n",
       "50%                                   12.954182   \n",
       "75%                                   15.097528   \n",
       "max                                   25.258848   \n",
       "\n",
       "       secondary_cleaner.state.floatbank5_a_level  \\\n",
       "count                                 5290.000000   \n",
       "mean                                  -501.329122   \n",
       "std                                     17.951495   \n",
       "min                                   -797.323986   \n",
       "25%                                   -500.726841   \n",
       "50%                                   -499.990332   \n",
       "75%                                   -499.283191   \n",
       "max                                   -244.483566   \n",
       "\n",
       "       secondary_cleaner.state.floatbank5_b_air  \\\n",
       "count                               5290.000000   \n",
       "mean                                   9.881145   \n",
       "std                                    2.868205   \n",
       "min                                    0.528083   \n",
       "25%                                    8.036719   \n",
       "50%                                   10.004301   \n",
       "75%                                   11.997467   \n",
       "max                                   14.086866   \n",
       "\n",
       "       secondary_cleaner.state.floatbank5_b_level  \\\n",
       "count                                 5290.000000   \n",
       "mean                                  -495.663398   \n",
       "std                                     34.535007   \n",
       "min                                   -800.220337   \n",
       "25%                                   -500.194668   \n",
       "50%                                   -499.990535   \n",
       "75%                                   -499.719913   \n",
       "max                                   -137.740004   \n",
       "\n",
       "       secondary_cleaner.state.floatbank6_a_air  \\\n",
       "count                               5290.000000   \n",
       "mean                                  17.304935   \n",
       "std                                    4.536544   \n",
       "min                                   -0.079426   \n",
       "25%                                   13.997317   \n",
       "50%                                   16.014935   \n",
       "75%                                   21.020013   \n",
       "max                                   26.705889   \n",
       "\n",
       "       secondary_cleaner.state.floatbank6_a_level  \n",
       "count                                 5290.000000  \n",
       "mean                                  -501.793193  \n",
       "std                                     39.044215  \n",
       "min                                   -809.741464  \n",
       "25%                                   -500.690984  \n",
       "50%                                   -500.007126  \n",
       "75%                                   -499.373018  \n",
       "max                                   -123.307487  \n",
       "\n",
       "[8 rows x 52 columns]"
      ]
     },
     "execution_count": 12,
     "metadata": {},
     "output_type": "execute_result"
    }
   ],
   "source": [
    "data_test.describe()"
   ]
  },
  {
   "cell_type": "code",
   "execution_count": 13,
   "metadata": {},
   "outputs": [
    {
     "data": {
      "text/plain": [
       "90"
      ]
     },
     "execution_count": 13,
     "metadata": {},
     "output_type": "execute_result"
    }
   ],
   "source": [
    "data_test.isna().sum().sum()"
   ]
  },
  {
   "cell_type": "code",
   "execution_count": 14,
   "metadata": {},
   "outputs": [
    {
     "data": {
      "text/plain": [
       "0"
      ]
     },
     "execution_count": 14,
     "metadata": {},
     "output_type": "execute_result"
    }
   ],
   "source": [
    "data_test.duplicated().sum()"
   ]
  },
  {
   "cell_type": "markdown",
   "metadata": {},
   "source": [
    "Предварительный анализ данных о тестовой выборке (53 колонки с признаками, 5290 строк) показал наличие пропусков в данных (меньше 1 %)\n",
    "\n",
    "Полные дубликаты не выявлены. Числовые аномалии не обнаружены, однако есть данные со значением 0, в количественных признаках видны признаки с разными разбросами.  \n",
    "\n",
    "#### Исходные данные ####"
   ]
  },
  {
   "cell_type": "code",
   "execution_count": 15,
   "metadata": {},
   "outputs": [
    {
     "data": {
      "text/html": [
       "<div>\n",
       "<style scoped>\n",
       "    .dataframe tbody tr th:only-of-type {\n",
       "        vertical-align: middle;\n",
       "    }\n",
       "\n",
       "    .dataframe tbody tr th {\n",
       "        vertical-align: top;\n",
       "    }\n",
       "\n",
       "    .dataframe thead th {\n",
       "        text-align: right;\n",
       "    }\n",
       "</style>\n",
       "<table border=\"1\" class=\"dataframe\">\n",
       "  <thead>\n",
       "    <tr style=\"text-align: right;\">\n",
       "      <th></th>\n",
       "      <th>date</th>\n",
       "      <th>final.output.concentrate_ag</th>\n",
       "      <th>final.output.concentrate_pb</th>\n",
       "      <th>final.output.concentrate_sol</th>\n",
       "      <th>final.output.concentrate_au</th>\n",
       "      <th>final.output.recovery</th>\n",
       "      <th>final.output.tail_ag</th>\n",
       "      <th>final.output.tail_pb</th>\n",
       "      <th>final.output.tail_sol</th>\n",
       "      <th>final.output.tail_au</th>\n",
       "      <th>...</th>\n",
       "      <th>secondary_cleaner.state.floatbank4_a_air</th>\n",
       "      <th>secondary_cleaner.state.floatbank4_a_level</th>\n",
       "      <th>secondary_cleaner.state.floatbank4_b_air</th>\n",
       "      <th>secondary_cleaner.state.floatbank4_b_level</th>\n",
       "      <th>secondary_cleaner.state.floatbank5_a_air</th>\n",
       "      <th>secondary_cleaner.state.floatbank5_a_level</th>\n",
       "      <th>secondary_cleaner.state.floatbank5_b_air</th>\n",
       "      <th>secondary_cleaner.state.floatbank5_b_level</th>\n",
       "      <th>secondary_cleaner.state.floatbank6_a_air</th>\n",
       "      <th>secondary_cleaner.state.floatbank6_a_level</th>\n",
       "    </tr>\n",
       "  </thead>\n",
       "  <tbody>\n",
       "    <tr>\n",
       "      <td>0</td>\n",
       "      <td>2016-01-15 00:00:00</td>\n",
       "      <td>6.055403</td>\n",
       "      <td>9.889648</td>\n",
       "      <td>5.507324</td>\n",
       "      <td>42.192020</td>\n",
       "      <td>70.541216</td>\n",
       "      <td>10.411962</td>\n",
       "      <td>0.895447</td>\n",
       "      <td>16.904297</td>\n",
       "      <td>2.143149</td>\n",
       "      <td>...</td>\n",
       "      <td>14.016835</td>\n",
       "      <td>-502.488007</td>\n",
       "      <td>12.099931</td>\n",
       "      <td>-504.715942</td>\n",
       "      <td>9.925633</td>\n",
       "      <td>-498.310211</td>\n",
       "      <td>8.079666</td>\n",
       "      <td>-500.470978</td>\n",
       "      <td>14.151341</td>\n",
       "      <td>-605.841980</td>\n",
       "    </tr>\n",
       "    <tr>\n",
       "      <td>1</td>\n",
       "      <td>2016-01-15 01:00:00</td>\n",
       "      <td>6.029369</td>\n",
       "      <td>9.968944</td>\n",
       "      <td>5.257781</td>\n",
       "      <td>42.701629</td>\n",
       "      <td>69.266198</td>\n",
       "      <td>10.462676</td>\n",
       "      <td>0.927452</td>\n",
       "      <td>16.634514</td>\n",
       "      <td>2.224930</td>\n",
       "      <td>...</td>\n",
       "      <td>13.992281</td>\n",
       "      <td>-505.503262</td>\n",
       "      <td>11.950531</td>\n",
       "      <td>-501.331529</td>\n",
       "      <td>10.039245</td>\n",
       "      <td>-500.169983</td>\n",
       "      <td>7.984757</td>\n",
       "      <td>-500.582168</td>\n",
       "      <td>13.998353</td>\n",
       "      <td>-599.787184</td>\n",
       "    </tr>\n",
       "    <tr>\n",
       "      <td>2</td>\n",
       "      <td>2016-01-15 02:00:00</td>\n",
       "      <td>6.055926</td>\n",
       "      <td>10.213995</td>\n",
       "      <td>5.383759</td>\n",
       "      <td>42.657501</td>\n",
       "      <td>68.116445</td>\n",
       "      <td>10.507046</td>\n",
       "      <td>0.953716</td>\n",
       "      <td>16.208849</td>\n",
       "      <td>2.257889</td>\n",
       "      <td>...</td>\n",
       "      <td>14.015015</td>\n",
       "      <td>-502.520901</td>\n",
       "      <td>11.912783</td>\n",
       "      <td>-501.133383</td>\n",
       "      <td>10.070913</td>\n",
       "      <td>-500.129135</td>\n",
       "      <td>8.013877</td>\n",
       "      <td>-500.517572</td>\n",
       "      <td>14.028663</td>\n",
       "      <td>-601.427363</td>\n",
       "    </tr>\n",
       "  </tbody>\n",
       "</table>\n",
       "<p>3 rows × 87 columns</p>\n",
       "</div>"
      ],
      "text/plain": [
       "                  date  final.output.concentrate_ag  \\\n",
       "0  2016-01-15 00:00:00                     6.055403   \n",
       "1  2016-01-15 01:00:00                     6.029369   \n",
       "2  2016-01-15 02:00:00                     6.055926   \n",
       "\n",
       "   final.output.concentrate_pb  final.output.concentrate_sol  \\\n",
       "0                     9.889648                      5.507324   \n",
       "1                     9.968944                      5.257781   \n",
       "2                    10.213995                      5.383759   \n",
       "\n",
       "   final.output.concentrate_au  final.output.recovery  final.output.tail_ag  \\\n",
       "0                    42.192020              70.541216             10.411962   \n",
       "1                    42.701629              69.266198             10.462676   \n",
       "2                    42.657501              68.116445             10.507046   \n",
       "\n",
       "   final.output.tail_pb  final.output.tail_sol  final.output.tail_au  ...  \\\n",
       "0              0.895447              16.904297              2.143149  ...   \n",
       "1              0.927452              16.634514              2.224930  ...   \n",
       "2              0.953716              16.208849              2.257889  ...   \n",
       "\n",
       "   secondary_cleaner.state.floatbank4_a_air  \\\n",
       "0                                 14.016835   \n",
       "1                                 13.992281   \n",
       "2                                 14.015015   \n",
       "\n",
       "   secondary_cleaner.state.floatbank4_a_level  \\\n",
       "0                                 -502.488007   \n",
       "1                                 -505.503262   \n",
       "2                                 -502.520901   \n",
       "\n",
       "   secondary_cleaner.state.floatbank4_b_air  \\\n",
       "0                                 12.099931   \n",
       "1                                 11.950531   \n",
       "2                                 11.912783   \n",
       "\n",
       "   secondary_cleaner.state.floatbank4_b_level  \\\n",
       "0                                 -504.715942   \n",
       "1                                 -501.331529   \n",
       "2                                 -501.133383   \n",
       "\n",
       "   secondary_cleaner.state.floatbank5_a_air  \\\n",
       "0                                  9.925633   \n",
       "1                                 10.039245   \n",
       "2                                 10.070913   \n",
       "\n",
       "   secondary_cleaner.state.floatbank5_a_level  \\\n",
       "0                                 -498.310211   \n",
       "1                                 -500.169983   \n",
       "2                                 -500.129135   \n",
       "\n",
       "   secondary_cleaner.state.floatbank5_b_air  \\\n",
       "0                                  8.079666   \n",
       "1                                  7.984757   \n",
       "2                                  8.013877   \n",
       "\n",
       "   secondary_cleaner.state.floatbank5_b_level  \\\n",
       "0                                 -500.470978   \n",
       "1                                 -500.582168   \n",
       "2                                 -500.517572   \n",
       "\n",
       "   secondary_cleaner.state.floatbank6_a_air  \\\n",
       "0                                 14.151341   \n",
       "1                                 13.998353   \n",
       "2                                 14.028663   \n",
       "\n",
       "   secondary_cleaner.state.floatbank6_a_level  \n",
       "0                                 -605.841980  \n",
       "1                                 -599.787184  \n",
       "2                                 -601.427363  \n",
       "\n",
       "[3 rows x 87 columns]"
      ]
     },
     "execution_count": 15,
     "metadata": {},
     "output_type": "execute_result"
    }
   ],
   "source": [
    "data_full.head(3)"
   ]
  },
  {
   "cell_type": "code",
   "execution_count": 16,
   "metadata": {},
   "outputs": [
    {
     "name": "stdout",
     "output_type": "stream",
     "text": [
      "<class 'pandas.core.frame.DataFrame'>\n",
      "RangeIndex: 19439 entries, 0 to 19438\n",
      "Data columns (total 87 columns):\n",
      "date                                                  19439 non-null object\n",
      "final.output.concentrate_ag                           19438 non-null float64\n",
      "final.output.concentrate_pb                           19438 non-null float64\n",
      "final.output.concentrate_sol                          19228 non-null float64\n",
      "final.output.concentrate_au                           19439 non-null float64\n",
      "final.output.recovery                                 19439 non-null float64\n",
      "final.output.tail_ag                                  19438 non-null float64\n",
      "final.output.tail_pb                                  19338 non-null float64\n",
      "final.output.tail_sol                                 19433 non-null float64\n",
      "final.output.tail_au                                  19439 non-null float64\n",
      "primary_cleaner.input.sulfate                         19415 non-null float64\n",
      "primary_cleaner.input.depressant                      19402 non-null float64\n",
      "primary_cleaner.input.feed_size                       19439 non-null float64\n",
      "primary_cleaner.input.xanthate                        19335 non-null float64\n",
      "primary_cleaner.output.concentrate_ag                 19439 non-null float64\n",
      "primary_cleaner.output.concentrate_pb                 19323 non-null float64\n",
      "primary_cleaner.output.concentrate_sol                19069 non-null float64\n",
      "primary_cleaner.output.concentrate_au                 19439 non-null float64\n",
      "primary_cleaner.output.tail_ag                        19435 non-null float64\n",
      "primary_cleaner.output.tail_pb                        19418 non-null float64\n",
      "primary_cleaner.output.tail_sol                       19377 non-null float64\n",
      "primary_cleaner.output.tail_au                        19439 non-null float64\n",
      "primary_cleaner.state.floatbank8_a_air                19435 non-null float64\n",
      "primary_cleaner.state.floatbank8_a_level              19438 non-null float64\n",
      "primary_cleaner.state.floatbank8_b_air                19435 non-null float64\n",
      "primary_cleaner.state.floatbank8_b_level              19438 non-null float64\n",
      "primary_cleaner.state.floatbank8_c_air                19437 non-null float64\n",
      "primary_cleaner.state.floatbank8_c_level              19438 non-null float64\n",
      "primary_cleaner.state.floatbank8_d_air                19436 non-null float64\n",
      "primary_cleaner.state.floatbank8_d_level              19438 non-null float64\n",
      "rougher.calculation.sulfate_to_au_concentrate         19437 non-null float64\n",
      "rougher.calculation.floatbank10_sulfate_to_au_feed    19437 non-null float64\n",
      "rougher.calculation.floatbank11_sulfate_to_au_feed    19437 non-null float64\n",
      "rougher.calculation.au_pb_ratio                       19439 non-null float64\n",
      "rougher.input.feed_ag                                 19439 non-null float64\n",
      "rougher.input.feed_pb                                 19339 non-null float64\n",
      "rougher.input.feed_rate                               19428 non-null float64\n",
      "rougher.input.feed_size                               19294 non-null float64\n",
      "rougher.input.feed_sol                                19340 non-null float64\n",
      "rougher.input.feed_au                                 19439 non-null float64\n",
      "rougher.input.floatbank10_sulfate                     19405 non-null float64\n",
      "rougher.input.floatbank10_xanthate                    19431 non-null float64\n",
      "rougher.input.floatbank11_sulfate                     19395 non-null float64\n",
      "rougher.input.floatbank11_xanthate                    18986 non-null float64\n",
      "rougher.output.concentrate_ag                         19439 non-null float64\n",
      "rougher.output.concentrate_pb                         19439 non-null float64\n",
      "rougher.output.concentrate_sol                        19416 non-null float64\n",
      "rougher.output.concentrate_au                         19439 non-null float64\n",
      "rougher.output.recovery                               19439 non-null float64\n",
      "rougher.output.tail_ag                                19438 non-null float64\n",
      "rougher.output.tail_pb                                19439 non-null float64\n",
      "rougher.output.tail_sol                               19439 non-null float64\n",
      "rougher.output.tail_au                                19439 non-null float64\n",
      "rougher.state.floatbank10_a_air                       19438 non-null float64\n",
      "rougher.state.floatbank10_a_level                     19438 non-null float64\n",
      "rougher.state.floatbank10_b_air                       19438 non-null float64\n",
      "rougher.state.floatbank10_b_level                     19438 non-null float64\n",
      "rougher.state.floatbank10_c_air                       19438 non-null float64\n",
      "rougher.state.floatbank10_c_level                     19438 non-null float64\n",
      "rougher.state.floatbank10_d_air                       19439 non-null float64\n",
      "rougher.state.floatbank10_d_level                     19439 non-null float64\n",
      "rougher.state.floatbank10_e_air                       19003 non-null float64\n",
      "rougher.state.floatbank10_e_level                     19439 non-null float64\n",
      "rougher.state.floatbank10_f_air                       19439 non-null float64\n",
      "rougher.state.floatbank10_f_level                     19439 non-null float64\n",
      "secondary_cleaner.output.tail_ag                      19437 non-null float64\n",
      "secondary_cleaner.output.tail_pb                      19427 non-null float64\n",
      "secondary_cleaner.output.tail_sol                     17691 non-null float64\n",
      "secondary_cleaner.output.tail_au                      19439 non-null float64\n",
      "secondary_cleaner.state.floatbank2_a_air              19219 non-null float64\n",
      "secondary_cleaner.state.floatbank2_a_level            19438 non-null float64\n",
      "secondary_cleaner.state.floatbank2_b_air              19416 non-null float64\n",
      "secondary_cleaner.state.floatbank2_b_level            19438 non-null float64\n",
      "secondary_cleaner.state.floatbank3_a_air              19426 non-null float64\n",
      "secondary_cleaner.state.floatbank3_a_level            19438 non-null float64\n",
      "secondary_cleaner.state.floatbank3_b_air              19438 non-null float64\n",
      "secondary_cleaner.state.floatbank3_b_level            19438 non-null float64\n",
      "secondary_cleaner.state.floatbank4_a_air              19433 non-null float64\n",
      "secondary_cleaner.state.floatbank4_a_level            19438 non-null float64\n",
      "secondary_cleaner.state.floatbank4_b_air              19438 non-null float64\n",
      "secondary_cleaner.state.floatbank4_b_level            19438 non-null float64\n",
      "secondary_cleaner.state.floatbank5_a_air              19438 non-null float64\n",
      "secondary_cleaner.state.floatbank5_a_level            19438 non-null float64\n",
      "secondary_cleaner.state.floatbank5_b_air              19438 non-null float64\n",
      "secondary_cleaner.state.floatbank5_b_level            19438 non-null float64\n",
      "secondary_cleaner.state.floatbank6_a_air              19437 non-null float64\n",
      "secondary_cleaner.state.floatbank6_a_level            19438 non-null float64\n",
      "dtypes: float64(86), object(1)\n",
      "memory usage: 12.9+ MB\n"
     ]
    }
   ],
   "source": [
    "data_full.info()"
   ]
  },
  {
   "cell_type": "code",
   "execution_count": 17,
   "metadata": {},
   "outputs": [
    {
     "data": {
      "text/html": [
       "<div>\n",
       "<style scoped>\n",
       "    .dataframe tbody tr th:only-of-type {\n",
       "        vertical-align: middle;\n",
       "    }\n",
       "\n",
       "    .dataframe tbody tr th {\n",
       "        vertical-align: top;\n",
       "    }\n",
       "\n",
       "    .dataframe thead th {\n",
       "        text-align: right;\n",
       "    }\n",
       "</style>\n",
       "<table border=\"1\" class=\"dataframe\">\n",
       "  <thead>\n",
       "    <tr style=\"text-align: right;\">\n",
       "      <th></th>\n",
       "      <th>final.output.concentrate_ag</th>\n",
       "      <th>final.output.concentrate_pb</th>\n",
       "      <th>final.output.concentrate_sol</th>\n",
       "      <th>final.output.concentrate_au</th>\n",
       "      <th>final.output.recovery</th>\n",
       "      <th>final.output.tail_ag</th>\n",
       "      <th>final.output.tail_pb</th>\n",
       "      <th>final.output.tail_sol</th>\n",
       "      <th>final.output.tail_au</th>\n",
       "      <th>primary_cleaner.input.sulfate</th>\n",
       "      <th>...</th>\n",
       "      <th>secondary_cleaner.state.floatbank4_a_air</th>\n",
       "      <th>secondary_cleaner.state.floatbank4_a_level</th>\n",
       "      <th>secondary_cleaner.state.floatbank4_b_air</th>\n",
       "      <th>secondary_cleaner.state.floatbank4_b_level</th>\n",
       "      <th>secondary_cleaner.state.floatbank5_a_air</th>\n",
       "      <th>secondary_cleaner.state.floatbank5_a_level</th>\n",
       "      <th>secondary_cleaner.state.floatbank5_b_air</th>\n",
       "      <th>secondary_cleaner.state.floatbank5_b_level</th>\n",
       "      <th>secondary_cleaner.state.floatbank6_a_air</th>\n",
       "      <th>secondary_cleaner.state.floatbank6_a_level</th>\n",
       "    </tr>\n",
       "  </thead>\n",
       "  <tbody>\n",
       "    <tr>\n",
       "      <td>count</td>\n",
       "      <td>19438.000000</td>\n",
       "      <td>19438.000000</td>\n",
       "      <td>19228.000000</td>\n",
       "      <td>19439.000000</td>\n",
       "      <td>19439.000000</td>\n",
       "      <td>19438.000000</td>\n",
       "      <td>19338.000000</td>\n",
       "      <td>19433.000000</td>\n",
       "      <td>19439.000000</td>\n",
       "      <td>19415.000000</td>\n",
       "      <td>...</td>\n",
       "      <td>19433.000000</td>\n",
       "      <td>19438.000000</td>\n",
       "      <td>19438.000000</td>\n",
       "      <td>19438.000000</td>\n",
       "      <td>19438.000000</td>\n",
       "      <td>19438.000000</td>\n",
       "      <td>19438.000000</td>\n",
       "      <td>19438.000000</td>\n",
       "      <td>19437.000000</td>\n",
       "      <td>19438.000000</td>\n",
       "    </tr>\n",
       "    <tr>\n",
       "      <td>mean</td>\n",
       "      <td>5.168470</td>\n",
       "      <td>9.978895</td>\n",
       "      <td>9.501224</td>\n",
       "      <td>44.076513</td>\n",
       "      <td>67.050208</td>\n",
       "      <td>9.688589</td>\n",
       "      <td>2.705795</td>\n",
       "      <td>10.583728</td>\n",
       "      <td>3.042467</td>\n",
       "      <td>144.624774</td>\n",
       "      <td>...</td>\n",
       "      <td>18.987674</td>\n",
       "      <td>-485.894516</td>\n",
       "      <td>15.010366</td>\n",
       "      <td>-461.078636</td>\n",
       "      <td>15.694452</td>\n",
       "      <td>-488.684065</td>\n",
       "      <td>12.198224</td>\n",
       "      <td>-487.149827</td>\n",
       "      <td>18.959024</td>\n",
       "      <td>-505.436305</td>\n",
       "    </tr>\n",
       "    <tr>\n",
       "      <td>std</td>\n",
       "      <td>1.372348</td>\n",
       "      <td>1.669240</td>\n",
       "      <td>2.787537</td>\n",
       "      <td>5.129784</td>\n",
       "      <td>10.125840</td>\n",
       "      <td>2.328642</td>\n",
       "      <td>0.949077</td>\n",
       "      <td>2.868782</td>\n",
       "      <td>0.922808</td>\n",
       "      <td>44.464071</td>\n",
       "      <td>...</td>\n",
       "      <td>5.411058</td>\n",
       "      <td>47.758570</td>\n",
       "      <td>4.890228</td>\n",
       "      <td>67.405524</td>\n",
       "      <td>5.510974</td>\n",
       "      <td>34.533396</td>\n",
       "      <td>5.333024</td>\n",
       "      <td>38.347312</td>\n",
       "      <td>5.550498</td>\n",
       "      <td>37.689057</td>\n",
       "    </tr>\n",
       "    <tr>\n",
       "      <td>min</td>\n",
       "      <td>0.000000</td>\n",
       "      <td>0.000000</td>\n",
       "      <td>0.000000</td>\n",
       "      <td>0.000000</td>\n",
       "      <td>0.000000</td>\n",
       "      <td>0.000000</td>\n",
       "      <td>0.000000</td>\n",
       "      <td>0.000000</td>\n",
       "      <td>0.000000</td>\n",
       "      <td>0.003112</td>\n",
       "      <td>...</td>\n",
       "      <td>0.000000</td>\n",
       "      <td>-799.798523</td>\n",
       "      <td>0.000000</td>\n",
       "      <td>-800.836914</td>\n",
       "      <td>-0.372054</td>\n",
       "      <td>-797.323986</td>\n",
       "      <td>0.528083</td>\n",
       "      <td>-800.220337</td>\n",
       "      <td>-0.079426</td>\n",
       "      <td>-809.741464</td>\n",
       "    </tr>\n",
       "    <tr>\n",
       "      <td>25%</td>\n",
       "      <td>4.251240</td>\n",
       "      <td>9.137262</td>\n",
       "      <td>7.722820</td>\n",
       "      <td>43.402215</td>\n",
       "      <td>63.299712</td>\n",
       "      <td>8.062878</td>\n",
       "      <td>2.040119</td>\n",
       "      <td>8.938947</td>\n",
       "      <td>2.461138</td>\n",
       "      <td>114.107029</td>\n",
       "      <td>...</td>\n",
       "      <td>14.975734</td>\n",
       "      <td>-500.704892</td>\n",
       "      <td>11.940294</td>\n",
       "      <td>-500.187742</td>\n",
       "      <td>10.988606</td>\n",
       "      <td>-500.458467</td>\n",
       "      <td>8.971105</td>\n",
       "      <td>-500.129462</td>\n",
       "      <td>14.983037</td>\n",
       "      <td>-500.728067</td>\n",
       "    </tr>\n",
       "    <tr>\n",
       "      <td>50%</td>\n",
       "      <td>5.066094</td>\n",
       "      <td>10.102433</td>\n",
       "      <td>9.218961</td>\n",
       "      <td>45.011244</td>\n",
       "      <td>68.172738</td>\n",
       "      <td>9.743623</td>\n",
       "      <td>2.748730</td>\n",
       "      <td>10.622456</td>\n",
       "      <td>2.984909</td>\n",
       "      <td>143.232103</td>\n",
       "      <td>...</td>\n",
       "      <td>18.017481</td>\n",
       "      <td>-499.837793</td>\n",
       "      <td>14.971014</td>\n",
       "      <td>-499.459786</td>\n",
       "      <td>15.000036</td>\n",
       "      <td>-499.802605</td>\n",
       "      <td>11.019433</td>\n",
       "      <td>-499.935317</td>\n",
       "      <td>19.960541</td>\n",
       "      <td>-500.048400</td>\n",
       "    </tr>\n",
       "    <tr>\n",
       "      <td>75%</td>\n",
       "      <td>5.895527</td>\n",
       "      <td>11.035769</td>\n",
       "      <td>10.947813</td>\n",
       "      <td>46.275313</td>\n",
       "      <td>72.686642</td>\n",
       "      <td>11.134294</td>\n",
       "      <td>3.333216</td>\n",
       "      <td>12.104271</td>\n",
       "      <td>3.571351</td>\n",
       "      <td>175.075656</td>\n",
       "      <td>...</td>\n",
       "      <td>23.012470</td>\n",
       "      <td>-498.249730</td>\n",
       "      <td>19.034162</td>\n",
       "      <td>-400.118106</td>\n",
       "      <td>18.026190</td>\n",
       "      <td>-498.384187</td>\n",
       "      <td>14.019088</td>\n",
       "      <td>-499.436708</td>\n",
       "      <td>24.003170</td>\n",
       "      <td>-499.495378</td>\n",
       "    </tr>\n",
       "    <tr>\n",
       "      <td>max</td>\n",
       "      <td>16.001945</td>\n",
       "      <td>17.031899</td>\n",
       "      <td>19.615720</td>\n",
       "      <td>52.756638</td>\n",
       "      <td>100.000000</td>\n",
       "      <td>19.552149</td>\n",
       "      <td>5.804178</td>\n",
       "      <td>22.317730</td>\n",
       "      <td>8.245022</td>\n",
       "      <td>265.983123</td>\n",
       "      <td>...</td>\n",
       "      <td>30.115735</td>\n",
       "      <td>-245.239184</td>\n",
       "      <td>31.269706</td>\n",
       "      <td>-6.506986</td>\n",
       "      <td>43.709931</td>\n",
       "      <td>-244.483566</td>\n",
       "      <td>27.926001</td>\n",
       "      <td>-137.740004</td>\n",
       "      <td>32.188906</td>\n",
       "      <td>-104.427459</td>\n",
       "    </tr>\n",
       "  </tbody>\n",
       "</table>\n",
       "<p>8 rows × 86 columns</p>\n",
       "</div>"
      ],
      "text/plain": [
       "       final.output.concentrate_ag  final.output.concentrate_pb  \\\n",
       "count                 19438.000000                 19438.000000   \n",
       "mean                      5.168470                     9.978895   \n",
       "std                       1.372348                     1.669240   \n",
       "min                       0.000000                     0.000000   \n",
       "25%                       4.251240                     9.137262   \n",
       "50%                       5.066094                    10.102433   \n",
       "75%                       5.895527                    11.035769   \n",
       "max                      16.001945                    17.031899   \n",
       "\n",
       "       final.output.concentrate_sol  final.output.concentrate_au  \\\n",
       "count                  19228.000000                 19439.000000   \n",
       "mean                       9.501224                    44.076513   \n",
       "std                        2.787537                     5.129784   \n",
       "min                        0.000000                     0.000000   \n",
       "25%                        7.722820                    43.402215   \n",
       "50%                        9.218961                    45.011244   \n",
       "75%                       10.947813                    46.275313   \n",
       "max                       19.615720                    52.756638   \n",
       "\n",
       "       final.output.recovery  final.output.tail_ag  final.output.tail_pb  \\\n",
       "count           19439.000000          19438.000000          19338.000000   \n",
       "mean               67.050208              9.688589              2.705795   \n",
       "std                10.125840              2.328642              0.949077   \n",
       "min                 0.000000              0.000000              0.000000   \n",
       "25%                63.299712              8.062878              2.040119   \n",
       "50%                68.172738              9.743623              2.748730   \n",
       "75%                72.686642             11.134294              3.333216   \n",
       "max               100.000000             19.552149              5.804178   \n",
       "\n",
       "       final.output.tail_sol  final.output.tail_au  \\\n",
       "count           19433.000000          19439.000000   \n",
       "mean               10.583728              3.042467   \n",
       "std                 2.868782              0.922808   \n",
       "min                 0.000000              0.000000   \n",
       "25%                 8.938947              2.461138   \n",
       "50%                10.622456              2.984909   \n",
       "75%                12.104271              3.571351   \n",
       "max                22.317730              8.245022   \n",
       "\n",
       "       primary_cleaner.input.sulfate  ...  \\\n",
       "count                   19415.000000  ...   \n",
       "mean                      144.624774  ...   \n",
       "std                        44.464071  ...   \n",
       "min                         0.003112  ...   \n",
       "25%                       114.107029  ...   \n",
       "50%                       143.232103  ...   \n",
       "75%                       175.075656  ...   \n",
       "max                       265.983123  ...   \n",
       "\n",
       "       secondary_cleaner.state.floatbank4_a_air  \\\n",
       "count                              19433.000000   \n",
       "mean                                  18.987674   \n",
       "std                                    5.411058   \n",
       "min                                    0.000000   \n",
       "25%                                   14.975734   \n",
       "50%                                   18.017481   \n",
       "75%                                   23.012470   \n",
       "max                                   30.115735   \n",
       "\n",
       "       secondary_cleaner.state.floatbank4_a_level  \\\n",
       "count                                19438.000000   \n",
       "mean                                  -485.894516   \n",
       "std                                     47.758570   \n",
       "min                                   -799.798523   \n",
       "25%                                   -500.704892   \n",
       "50%                                   -499.837793   \n",
       "75%                                   -498.249730   \n",
       "max                                   -245.239184   \n",
       "\n",
       "       secondary_cleaner.state.floatbank4_b_air  \\\n",
       "count                              19438.000000   \n",
       "mean                                  15.010366   \n",
       "std                                    4.890228   \n",
       "min                                    0.000000   \n",
       "25%                                   11.940294   \n",
       "50%                                   14.971014   \n",
       "75%                                   19.034162   \n",
       "max                                   31.269706   \n",
       "\n",
       "       secondary_cleaner.state.floatbank4_b_level  \\\n",
       "count                                19438.000000   \n",
       "mean                                  -461.078636   \n",
       "std                                     67.405524   \n",
       "min                                   -800.836914   \n",
       "25%                                   -500.187742   \n",
       "50%                                   -499.459786   \n",
       "75%                                   -400.118106   \n",
       "max                                     -6.506986   \n",
       "\n",
       "       secondary_cleaner.state.floatbank5_a_air  \\\n",
       "count                              19438.000000   \n",
       "mean                                  15.694452   \n",
       "std                                    5.510974   \n",
       "min                                   -0.372054   \n",
       "25%                                   10.988606   \n",
       "50%                                   15.000036   \n",
       "75%                                   18.026190   \n",
       "max                                   43.709931   \n",
       "\n",
       "       secondary_cleaner.state.floatbank5_a_level  \\\n",
       "count                                19438.000000   \n",
       "mean                                  -488.684065   \n",
       "std                                     34.533396   \n",
       "min                                   -797.323986   \n",
       "25%                                   -500.458467   \n",
       "50%                                   -499.802605   \n",
       "75%                                   -498.384187   \n",
       "max                                   -244.483566   \n",
       "\n",
       "       secondary_cleaner.state.floatbank5_b_air  \\\n",
       "count                              19438.000000   \n",
       "mean                                  12.198224   \n",
       "std                                    5.333024   \n",
       "min                                    0.528083   \n",
       "25%                                    8.971105   \n",
       "50%                                   11.019433   \n",
       "75%                                   14.019088   \n",
       "max                                   27.926001   \n",
       "\n",
       "       secondary_cleaner.state.floatbank5_b_level  \\\n",
       "count                                19438.000000   \n",
       "mean                                  -487.149827   \n",
       "std                                     38.347312   \n",
       "min                                   -800.220337   \n",
       "25%                                   -500.129462   \n",
       "50%                                   -499.935317   \n",
       "75%                                   -499.436708   \n",
       "max                                   -137.740004   \n",
       "\n",
       "       secondary_cleaner.state.floatbank6_a_air  \\\n",
       "count                              19437.000000   \n",
       "mean                                  18.959024   \n",
       "std                                    5.550498   \n",
       "min                                   -0.079426   \n",
       "25%                                   14.983037   \n",
       "50%                                   19.960541   \n",
       "75%                                   24.003170   \n",
       "max                                   32.188906   \n",
       "\n",
       "       secondary_cleaner.state.floatbank6_a_level  \n",
       "count                                19438.000000  \n",
       "mean                                  -505.436305  \n",
       "std                                     37.689057  \n",
       "min                                   -809.741464  \n",
       "25%                                   -500.728067  \n",
       "50%                                   -500.048400  \n",
       "75%                                   -499.495378  \n",
       "max                                   -104.427459  \n",
       "\n",
       "[8 rows x 86 columns]"
      ]
     },
     "execution_count": 17,
     "metadata": {},
     "output_type": "execute_result"
    }
   ],
   "source": [
    "data_full.describe()"
   ]
  },
  {
   "cell_type": "code",
   "execution_count": 18,
   "metadata": {},
   "outputs": [
    {
     "data": {
      "text/plain": [
       "4481"
      ]
     },
     "execution_count": 18,
     "metadata": {},
     "output_type": "execute_result"
    }
   ],
   "source": [
    "data_full.isna().sum().sum()"
   ]
  },
  {
   "cell_type": "code",
   "execution_count": 19,
   "metadata": {},
   "outputs": [
    {
     "data": {
      "text/plain": [
       "0"
      ]
     },
     "execution_count": 19,
     "metadata": {},
     "output_type": "execute_result"
    }
   ],
   "source": [
    "data_full.duplicated().sum()"
   ]
  },
  {
   "cell_type": "markdown",
   "metadata": {},
   "source": [
    "Предварительный анализ исходных данных (87 колонок с признаками, 19439 строк) показал наличие пропусков в данных (в целом до 5 %, и только в 1 признаке 'secondary_cleaner.output.tail_sol' количество пропусков более 10 %)\n",
    "\n",
    "Полные дубликаты не выявлены. Числовые аномалии не обнаружены, однако есть данные со значением 0, в количественных признаках видны признаки с разными разбросами.  \n",
    "\n",
    "### Вычисления эффективности обогащения (Recovery) ###\n",
    "\n",
    "Вычислю на обучающей выборке для признака rougher.output.recovery\n",
    "\n",
    "Рассчитаю эффективность по формуле rec_train = \n",
    "\n",
    "$$\\frac{C (F-T)}{F (C-T)} * 100$$\n",
    "\n",
    "Объявлю константные переменные C, F, T"
   ]
  },
  {
   "cell_type": "code",
   "execution_count": 20,
   "metadata": {},
   "outputs": [],
   "source": [
    "C = data_train['rougher.output.concentrate_au']\n",
    "F = data_train['rougher.input.feed_au'] \n",
    "T = data_train['rougher.output.tail_au'] "
   ]
  },
  {
   "cell_type": "code",
   "execution_count": 21,
   "metadata": {},
   "outputs": [],
   "source": [
    "rec_train = ((C*(F-T))/(F*(C-T)))*100"
   ]
  },
  {
   "cell_type": "code",
   "execution_count": 22,
   "metadata": {},
   "outputs": [
    {
     "data": {
      "text/plain": [
       "0    87.107763\n",
       "1    86.843261\n",
       "2    86.842308\n",
       "dtype: float64"
      ]
     },
     "execution_count": 22,
     "metadata": {},
     "output_type": "execute_result"
    }
   ],
   "source": [
    "rec_train.head(3)"
   ]
  },
  {
   "cell_type": "code",
   "execution_count": 23,
   "metadata": {},
   "outputs": [
    {
     "name": "stdout",
     "output_type": "stream",
     "text": [
      "Эффективность обогащения в среднем составляет: 82.70450164550293\n"
     ]
    }
   ],
   "source": [
    "print('Эффективность обогащения в среднем составляет:', rec_train.mean())"
   ]
  },
  {
   "cell_type": "markdown",
   "metadata": {},
   "source": [
    "### MAE между расчётами эффективности (из п. 1.3) и значением признака 'rougher.output.recovery' ###"
   ]
  },
  {
   "cell_type": "code",
   "execution_count": 24,
   "metadata": {},
   "outputs": [
    {
     "name": "stdout",
     "output_type": "stream",
     "text": [
      "MAE составляет: 9.682896147825551e-15\n"
     ]
    }
   ],
   "source": [
    "print('MAE составляет:', mean_absolute_error(data_train['rougher.output.recovery'], rec_train))"
   ]
  },
  {
   "cell_type": "markdown",
   "metadata": {},
   "source": [
    "MAE небольшое. Соотвественно данные в признаке 'rougher.output.recovery' указаны с достаточной точностью.   \n",
    "\n",
    "### Анализ признаков, недоступных в тестовой выборке ###"
   ]
  },
  {
   "cell_type": "code",
   "execution_count": 25,
   "metadata": {},
   "outputs": [
    {
     "data": {
      "text/plain": [
       "34"
      ]
     },
     "execution_count": 25,
     "metadata": {},
     "output_type": "execute_result"
    }
   ],
   "source": [
    "missed_columns_in_test = list(set(data_train) - set(data_test))\n",
    "len(missed_columns_in_test)"
   ]
  },
  {
   "cell_type": "code",
   "execution_count": 26,
   "metadata": {},
   "outputs": [
    {
     "data": {
      "text/plain": [
       "['primary_cleaner.output.tail_au',\n",
       " 'rougher.calculation.au_pb_ratio',\n",
       " 'final.output.tail_sol',\n",
       " 'rougher.output.tail_sol',\n",
       " 'rougher.output.concentrate_au',\n",
       " 'final.output.tail_pb',\n",
       " 'rougher.calculation.sulfate_to_au_concentrate',\n",
       " 'rougher.output.recovery',\n",
       " 'primary_cleaner.output.tail_pb',\n",
       " 'secondary_cleaner.output.tail_au',\n",
       " 'secondary_cleaner.output.tail_pb',\n",
       " 'secondary_cleaner.output.tail_ag',\n",
       " 'final.output.concentrate_pb',\n",
       " 'primary_cleaner.output.concentrate_au',\n",
       " 'primary_cleaner.output.tail_sol',\n",
       " 'final.output.concentrate_sol',\n",
       " 'secondary_cleaner.output.tail_sol',\n",
       " 'rougher.output.tail_au',\n",
       " 'final.output.concentrate_ag',\n",
       " 'rougher.output.tail_ag',\n",
       " 'final.output.tail_ag',\n",
       " 'final.output.concentrate_au',\n",
       " 'primary_cleaner.output.concentrate_sol',\n",
       " 'rougher.output.concentrate_sol',\n",
       " 'final.output.recovery',\n",
       " 'rougher.output.concentrate_pb',\n",
       " 'rougher.output.concentrate_ag',\n",
       " 'primary_cleaner.output.concentrate_ag',\n",
       " 'rougher.calculation.floatbank10_sulfate_to_au_feed',\n",
       " 'final.output.tail_au',\n",
       " 'primary_cleaner.output.tail_ag',\n",
       " 'primary_cleaner.output.concentrate_pb',\n",
       " 'rougher.output.tail_pb',\n",
       " 'rougher.calculation.floatbank11_sulfate_to_au_feed']"
      ]
     },
     "execution_count": 26,
     "metadata": {},
     "output_type": "execute_result"
    }
   ],
   "source": [
    "missed_columns_in_test"
   ]
  },
  {
   "cell_type": "markdown",
   "metadata": {},
   "source": [
    "В тестовой выборке пропущено 34 признака: 8 признаков \"primary_cleaner.output\", 4 \"secondary_cleaner.output\", 4 \"rougher.calculation\"(это расчетные характеристики), 9 \"rougher.output\", 9 \"final.output\".\n",
    "\n",
    "Отсутствует информация:\n",
    "\n",
    "- о целевых признаках,\n",
    "\n",
    "- о хвостах на всех этапах процесса, \n",
    "\n",
    "- о доле металлов на этапах primary_cleaner, rougher и final,\n",
    "\n",
    "- об эффективности обогащения после флотации и на финале,\n",
    "\n",
    "- о некоторых флотационных реагентах.\n",
    "\n",
    "Пропущеные признаки не известны на этапе подготовки модели, значит это онлайн-метрики, которые станут известны в результате и по ходу процесса обогащения. \n",
    "\n",
    "Все остальные метрики можно считать офлайн-метриками, которые можно посчитать по исторческим данным (ранее уже собранным).\n",
    "\n",
    "### Предобработка данных ###\n",
    "\n",
    "Поменяю тип данных в колонках 'date'\n",
    "\n",
    "В данных есть достаточно много пропусков, заменю их с помошью методов ffill и bfill."
   ]
  },
  {
   "cell_type": "code",
   "execution_count": 27,
   "metadata": {},
   "outputs": [],
   "source": [
    "data_train['date'] = pd.to_datetime(data_train['date'])\n",
    "data_test['date'] = pd.to_datetime(data_test['date'])\n",
    "data_full['date'] = pd.to_datetime(data_full['date'])"
   ]
  },
  {
   "cell_type": "code",
   "execution_count": 28,
   "metadata": {},
   "outputs": [
    {
     "data": {
      "text/plain": [
       "0"
      ]
     },
     "execution_count": 28,
     "metadata": {},
     "output_type": "execute_result"
    }
   ],
   "source": [
    "data_train['rougher.output.recovery'].isna().sum()"
   ]
  },
  {
   "cell_type": "code",
   "execution_count": 29,
   "metadata": {},
   "outputs": [
    {
     "data": {
      "text/plain": [
       "0"
      ]
     },
     "execution_count": 29,
     "metadata": {},
     "output_type": "execute_result"
    }
   ],
   "source": [
    "data_full['rougher.output.recovery'].isna().sum()"
   ]
  },
  {
   "cell_type": "code",
   "execution_count": 30,
   "metadata": {},
   "outputs": [
    {
     "data": {
      "text/plain": [
       "0"
      ]
     },
     "execution_count": 30,
     "metadata": {},
     "output_type": "execute_result"
    }
   ],
   "source": [
    "data_train['final.output.recovery'].isna().sum()"
   ]
  },
  {
   "cell_type": "code",
   "execution_count": 31,
   "metadata": {},
   "outputs": [
    {
     "data": {
      "text/plain": [
       "0"
      ]
     },
     "execution_count": 31,
     "metadata": {},
     "output_type": "execute_result"
    }
   ],
   "source": [
    "data_full['final.output.recovery'].isna().sum()"
   ]
  },
  {
   "cell_type": "markdown",
   "metadata": {},
   "source": [
    "Пропусков в целевых признаках нет"
   ]
  },
  {
   "cell_type": "code",
   "execution_count": 32,
   "metadata": {},
   "outputs": [],
   "source": [
    "data_train = data_train.fillna(method='ffill').fillna(method='bfill')"
   ]
  },
  {
   "cell_type": "code",
   "execution_count": 33,
   "metadata": {},
   "outputs": [],
   "source": [
    "data_test = data_test.fillna(method='ffill').fillna(method='bfill')"
   ]
  },
  {
   "cell_type": "code",
   "execution_count": 34,
   "metadata": {},
   "outputs": [],
   "source": [
    "data_full = data_full.fillna(method='ffill').fillna(method='bfill')"
   ]
  },
  {
   "cell_type": "code",
   "execution_count": 35,
   "metadata": {},
   "outputs": [
    {
     "data": {
      "text/plain": [
       "0"
      ]
     },
     "execution_count": 35,
     "metadata": {},
     "output_type": "execute_result"
    }
   ],
   "source": [
    "data_train.isna().sum().sum()"
   ]
  },
  {
   "cell_type": "code",
   "execution_count": 36,
   "metadata": {},
   "outputs": [
    {
     "data": {
      "text/plain": [
       "0"
      ]
     },
     "execution_count": 36,
     "metadata": {},
     "output_type": "execute_result"
    }
   ],
   "source": [
    "data_test.isna().sum().sum()"
   ]
  },
  {
   "cell_type": "code",
   "execution_count": 37,
   "metadata": {},
   "outputs": [
    {
     "data": {
      "text/plain": [
       "0"
      ]
     },
     "execution_count": 37,
     "metadata": {},
     "output_type": "execute_result"
    }
   ],
   "source": [
    "data_full.isna().sum().sum()"
   ]
  },
  {
   "cell_type": "markdown",
   "metadata": {},
   "source": [
    "### Вывод  ###\n",
    "\n",
    "Прочитаны файды с данными о тестовой и обучающей выборке и об исходных данных.\n",
    "\n",
    "Дубликаты не обнаружены.\n",
    "\n",
    "Пропуски есть (их суммарно почти 30 %), поэтому произвела замену исходя из соседних значений (по дате). Замена произвелась корректно.\n",
    "\n",
    "Проверена формула расчета эффективности обогащения - она работает верно.\n",
    "\n",
    "Выявлены и проанализированы признаки, отсутствующие в тестовой выборке:\n",
    "\n",
    "- отсутствуют целевые признаки, \n",
    "\n",
    "- данные о хвостах, \n",
    "\n",
    "- об эффективности обогащения, \n",
    "\n",
    "- о некоторых флотационных реагентах,\n",
    "\n",
    "- о доле металла на некоторых этапах процесса\n"
   ]
  },
  {
   "cell_type": "markdown",
   "metadata": {},
   "source": [
    "## Анализ данных\n",
    "\n",
    "### Концентрация металлов (Au, Ag, Pb) на различных этапах очистки ###\n",
    "\n",
    "Проверку сделаю на основе **исходных данных**\n",
    "\n",
    "#### Концентрация золота (Au) ####"
   ]
  },
  {
   "cell_type": "code",
   "execution_count": 38,
   "metadata": {
    "scrolled": false
   },
   "outputs": [
    {
     "data": {
      "image/png": "[encoded data removed]",
      "text/plain": [
       "<Figure size 1152x720 with 1 Axes>"
      ]
     },
     "metadata": {
      "needs_background": "light"
     },
     "output_type": "display_data"
    }
   ],
   "source": [
    "plt.figure(figsize=[16,10])\n",
    "\n",
    "plt.hist(data_full['rougher.input.feed_au'], bins=150, label = 'Концентрация золота до флотации', alpha=.5)\n",
    "plt.hist(data_full['rougher.output.concentrate_au'], bins=150, label = 'Концентрация золота после флотации', alpha=.5)\n",
    "plt.hist(data_full['primary_cleaner.output.concentrate_au'], bins=150, label = 'Концентрация золота после первичной очистки', alpha=.5)\n",
    "plt.hist(data_full['final.output.concentrate_au'], bins=150, label = 'Концентрация золота после вторичной очистки', alpha=.5)\n",
    "\n",
    "plt.xlim([0, 55])\n",
    "plt.ylim([0, 1500])\n",
    "\n",
    "plt.xlabel(\"Концентрация золота на разных этапах\")\n",
    "plt.ylabel(\"Количество\")\n",
    "\n",
    "plt.legend(loc='upper left', fontsize='x-large')\n",
    "\n",
    "plt.title(\"Гистограмма распределения концентрации золота\")\n",
    "plt.show()"
   ]
  },
  {
   "cell_type": "code",
   "execution_count": 39,
   "metadata": {},
   "outputs": [
    {
     "name": "stdout",
     "output_type": "stream",
     "text": [
      "Средняя концентрация золота:\n",
      "до флотации: 8.27\n",
      "после флотации: 19.77\n",
      "после первичной очистки: 32.12\n",
      "после вторичной очистки: 44.08\n"
     ]
    }
   ],
   "source": [
    "print('Средняя концентрация золота:')\n",
    "print('до флотации: {:.2f}'.format(data_full['rougher.input.feed_au'].mean()))\n",
    "print('после флотации: {:.2f}'.format(data_full['rougher.output.concentrate_au'].mean()))\n",
    "print('после первичной очистки: {:.2f}'.format(data_full['primary_cleaner.output.concentrate_au'].mean()))\n",
    "print('после вторичной очистки: {:.2f}'.format(data_full['final.output.concentrate_au'].mean()))"
   ]
  },
  {
   "cell_type": "markdown",
   "metadata": {},
   "source": [
    "#### Концентрация серебра (Ag) ####"
   ]
  },
  {
   "cell_type": "code",
   "execution_count": 40,
   "metadata": {},
   "outputs": [
    {
     "data": {
      "image/png": "[encoded data removed]",
      "text/plain": [
       "<Figure size 1152x720 with 1 Axes>"
      ]
     },
     "metadata": {
      "needs_background": "light"
     },
     "output_type": "display_data"
    }
   ],
   "source": [
    "plt.figure(figsize=[16,10])\n",
    "\n",
    "plt.hist(data_full['rougher.input.feed_ag'], bins=150, label = 'Концентрация серебра до флотации', alpha=.5)\n",
    "plt.hist(data_full['rougher.output.concentrate_ag'], bins=150, label = 'Концентрация серебра после флотации', alpha=.5)\n",
    "plt.hist(data_full['primary_cleaner.output.concentrate_ag'], bins=150, label = 'Концентрация серебра после первичной очистки', alpha=.5)\n",
    "plt.hist(data_full['final.output.concentrate_ag'], bins=150, label = 'Концентрация серебра после вторичной очистки', alpha=.5)\n",
    "\n",
    "plt.xlim([0, 23])\n",
    "plt.ylim([0, 850])\n",
    "\n",
    "plt.xlabel(\"Концентрация серебра на разных этапах\")\n",
    "plt.ylabel(\"Количество\")\n",
    "\n",
    "plt.legend(loc='upper right', fontsize='x-large')\n",
    "\n",
    "plt.title(\"Гистограмма распределения концентрации серебра\")\n",
    "plt.show()"
   ]
  },
  {
   "cell_type": "code",
   "execution_count": 41,
   "metadata": {},
   "outputs": [
    {
     "name": "stdout",
     "output_type": "stream",
     "text": [
      "Средняя концентрация серебра:\n",
      "до флотации: 8.79\n",
      "после флотации: 11.99\n",
      "после первичной очистки: 8.44\n",
      "после вторичной очистки: 5.17\n"
     ]
    }
   ],
   "source": [
    "print('Средняя концентрация серебра:')\n",
    "print('до флотации: {:.2f}'.format(data_full['rougher.input.feed_ag'].mean()))\n",
    "print('после флотации: {:.2f}'.format(data_full['rougher.output.concentrate_ag'].mean()))\n",
    "print('после первичной очистки: {:.2f}'.format(data_full['primary_cleaner.output.concentrate_ag'].mean()))\n",
    "print('после вторичной очистки: {:.2f}'.format(data_full['final.output.concentrate_ag'].mean()))"
   ]
  },
  {
   "cell_type": "markdown",
   "metadata": {},
   "source": [
    "#### Концентрация свинца (Pb) ####"
   ]
  },
  {
   "cell_type": "code",
   "execution_count": 42,
   "metadata": {},
   "outputs": [
    {
     "data": {
      "image/png": "[encoded data removed]",
      "text/plain": [
       "<Figure size 1152x720 with 1 Axes>"
      ]
     },
     "metadata": {
      "needs_background": "light"
     },
     "output_type": "display_data"
    }
   ],
   "source": [
    "plt.figure(figsize=[16,10])\n",
    "\n",
    "plt.hist(data_full['rougher.input.feed_pb'], bins=150, label = 'Концентрация свинца до флотации', alpha=.5)\n",
    "plt.hist(data_full['rougher.output.concentrate_pb'], bins=150, label = 'Концентрация свинца после флотации', alpha=.5)\n",
    "plt.hist(data_full['primary_cleaner.output.concentrate_pb'], bins=150, label = 'Концентрация свинца после первичной очистки', alpha=.5)\n",
    "plt.hist(data_full['final.output.concentrate_pb'], bins=150, label = 'Концентрация свинца после вторичной очистки', alpha=.5)\n",
    "\n",
    "plt.xlim([0, 18])\n",
    "plt.ylim([0, 700])\n",
    "\n",
    "plt.xlabel(\"Концентрация свинца на разных этапах\")\n",
    "plt.ylabel(\"Количество\")\n",
    "\n",
    "plt.legend(loc='upper left', fontsize='x-large')\n",
    "\n",
    "plt.title(\"Гистограмма распределения концентрации свинца\")\n",
    "plt.show()"
   ]
  },
  {
   "cell_type": "code",
   "execution_count": 43,
   "metadata": {},
   "outputs": [
    {
     "name": "stdout",
     "output_type": "stream",
     "text": [
      "Средняя концентрация свинца:\n",
      "до флотации: 3.59\n",
      "после флотации: 7.61\n",
      "после первичной очистки: 9.81\n",
      "после вторичной очистки: 9.98\n"
     ]
    }
   ],
   "source": [
    "print('Средняя концентрация свинца:')\n",
    "print('до флотации: {:.2f}'.format(data_full['rougher.input.feed_pb'].mean()))\n",
    "print('после флотации: {:.2f}'.format(data_full['rougher.output.concentrate_pb'].mean()))\n",
    "print('после первичной очистки: {:.2f}'.format(data_full['primary_cleaner.output.concentrate_pb'].mean()))\n",
    "print('после вторичной очистки: {:.2f}'.format(data_full['final.output.concentrate_pb'].mean()))"
   ]
  },
  {
   "cell_type": "markdown",
   "metadata": {},
   "source": [
    "С каждым этапом:\n",
    "- концентрация золота увеличивается (что объяснимо, так как цель процесса - достигнуть максимальной концентрации золота), \n",
    "- концентрация серебра снижается (максимальное значение было после флотации, затем стабильное снижение),\n",
    "- концентрация свинца возросла к флотации и затем усредниалсь после 2-х этапов очистки\n",
    "\n",
    "Кроме того, после этапа флотации достаточно много нулевых значений у всех металлов. С этим разберусь позже."
   ]
  },
  {
   "cell_type": "markdown",
   "metadata": {},
   "source": [
    "### Оценка распределения размеров гранул сырья  ###\n",
    "\n",
    "Проверю распределение на обучающей и тестовой выборках\n",
    "\n",
    "#### До флотации ####"
   ]
  },
  {
   "cell_type": "code",
   "execution_count": 44,
   "metadata": {},
   "outputs": [
    {
     "data": {
      "image/png": "[encoded data removed]",
      "text/plain": [
       "<Figure size 864x576 with 1 Axes>"
      ]
     },
     "metadata": {
      "needs_background": "light"
     },
     "output_type": "display_data"
    }
   ],
   "source": [
    "plt.figure(figsize=[12,8])\n",
    "for frame,name in zip([data_train,data_test],\n",
    "                       [\"Обучающая выборка\",\"Тестовая выборка\"]):\n",
    "    subset = frame[\"rougher.input.feed_size\"]\n",
    "\n",
    "    sns.distplot(subset, hist = False, kde = True, label = name)\n",
    "plt.legend(prop={'size': 13})\n",
    "plt.xlabel('Размер гранул')\n",
    "plt.title(\"Плотность распределения размера гранул сырья перед флотацией\")\n",
    "plt.xlim([0, 150])\n",
    "plt.show()"
   ]
  },
  {
   "cell_type": "markdown",
   "metadata": {},
   "source": [
    "#### После флотации и до первичной очистки ####"
   ]
  },
  {
   "cell_type": "code",
   "execution_count": 45,
   "metadata": {},
   "outputs": [
    {
     "data": {
      "image/png": "[encoded data removed]",
      "text/plain": [
       "<Figure size 864x576 with 1 Axes>"
      ]
     },
     "metadata": {
      "needs_background": "light"
     },
     "output_type": "display_data"
    }
   ],
   "source": [
    "plt.figure(figsize=[12,8])\n",
    "for frame,name in zip([data_train,data_test],\n",
    "                       [\"Обучающая выборка\",\"Тестовая выборка\"]):\n",
    "    subset = frame[\"primary_cleaner.input.feed_size\"]\n",
    "\n",
    "    sns.distplot(subset, hist = False, kde = True, label = name)\n",
    "plt.legend(prop={'size': 13})\n",
    "plt.xlabel('Размер гранул')\n",
    "plt.title(\"Плотность распределения размера гранул сырья после флотации и перед первичной очисткой\")\n",
    "plt.xlim([0, 15])\n",
    "plt.show()"
   ]
  },
  {
   "cell_type": "markdown",
   "metadata": {},
   "source": [
    "До флотации распеределение размера гранул в обучающей и тестовой выборках немного разное:\n",
    "\n",
    "- в обучающей выборке пик примерно 55,\n",
    "\n",
    "- в тестовой выборке пик около 40,\n",
    "\n",
    "- у обоих выборок есть выбросы справа, после 115.\n",
    "\n",
    "После флотации и перед первичной очисткой размер гранул сырья в обоих выборках визуально становится более схожим и нормальным"
   ]
  },
  {
   "cell_type": "markdown",
   "metadata": {},
   "source": [
    "### Исследование суммарной концентрации всех веществ на разных стадиях: в сырье, в черновом и финальном концентратах ###\n",
    "\n",
    "#### Рассчет суммарной концентрации всех веществ на обучающей выборке ####"
   ]
  },
  {
   "cell_type": "code",
   "execution_count": 46,
   "metadata": {},
   "outputs": [],
   "source": [
    "rougher_input_sum_full = (data_train['rougher.input.feed_au'] +\n",
    "                         data_train['rougher.input.feed_ag'] +\n",
    "                         data_train['rougher.input.feed_pb'] +\n",
    "                         data_train['rougher.input.feed_sol'])"
   ]
  },
  {
   "cell_type": "code",
   "execution_count": 47,
   "metadata": {},
   "outputs": [],
   "source": [
    "rougher_concentrate_sum_full = (data_train['rougher.output.concentrate_au'] + \n",
    "                               data_train['rougher.output.concentrate_ag'] + \n",
    "                               data_train['rougher.output.concentrate_pb'] + \n",
    "                               data_train['rougher.output.concentrate_sol'])"
   ]
  },
  {
   "cell_type": "code",
   "execution_count": 48,
   "metadata": {},
   "outputs": [],
   "source": [
    "primary_cleaner_concentrate_sum_full = (data_train['primary_cleaner.output.concentrate_au'] +\n",
    "                                       data_train['primary_cleaner.output.concentrate_ag'] +\n",
    "                                       data_train['primary_cleaner.output.concentrate_pb'] +\n",
    "                                       data_train['primary_cleaner.output.concentrate_sol']) "
   ]
  },
  {
   "cell_type": "code",
   "execution_count": 49,
   "metadata": {},
   "outputs": [],
   "source": [
    "final_concentrate_sum_full = (data_train['final.output.concentrate_au'] +\n",
    "                             data_train['final.output.concentrate_ag'] +\n",
    "                             data_train['final.output.concentrate_pb'] +\n",
    "                             data_train['final.output.concentrate_sol'])"
   ]
  },
  {
   "cell_type": "code",
   "execution_count": 50,
   "metadata": {},
   "outputs": [
    {
     "data": {
      "image/png": "[encoded data removed]",
      "text/plain": [
       "<Figure size 1296x864 with 1 Axes>"
      ]
     },
     "metadata": {
      "needs_background": "light"
     },
     "output_type": "display_data"
    }
   ],
   "source": [
    "plt.figure(figsize=[18,12])\n",
    "\n",
    "plt.hist(rougher_input_sum_full, bins=150, label = 'Суммарная концентрация всех веществ в сырье перед флотацией', alpha=.5)\n",
    "plt.hist(rougher_concentrate_sum_full, bins=150, label = 'Суммарная концентрация всех веществ в черновом концентрате', alpha=.5)\n",
    "plt.hist(primary_cleaner_concentrate_sum_full, bins=150, label = 'Суммарная концентрация всех веществ в черновом концентрате перед второй очисткой', alpha=.5)\n",
    "plt.hist(final_concentrate_sum_full, bins=150, label = 'Суммарная концентрация всех веществ в финальном концентрате', alpha=.5)\n",
    "\n",
    "plt.xlim([0, 100])\n",
    "plt.ylim([0, 1500])\n",
    "\n",
    "plt.xlabel(\"Суммарная концентрация всех веществ\")\n",
    "\n",
    "plt.legend(loc='upper left', fontsize='x-large')\n",
    "\n",
    "plt.title(\"Гистограмма распределения суммарной концентрации всех веществ\")\n",
    "plt.show()"
   ]
  },
  {
   "cell_type": "markdown",
   "metadata": {},
   "source": [
    "Распределение суммарной концентрации всех веществ - почти нормальное со скошенностью влево. Также есть пик значений на занчении \"0\" - это выбросы.\n",
    "\n",
    "Значит в выборках есть данные со значением \"0\".\n",
    "\n",
    "Перед обучением модели обработаю данные с нулевыми значениями в обучающей и тестовой выборках.\n",
    "\n",
    "#### Обработка данных с нулевыми значениями ####\n",
    "\n",
    "Чтобы нулевые значения (выбросы) не мешали обучению, удалю околонулевые выбросы в обучающей выборке"
   ]
  },
  {
   "cell_type": "code",
   "execution_count": 51,
   "metadata": {},
   "outputs": [],
   "source": [
    "columns_concentrate_metall_train = data_train.loc[:,['rougher.output.concentrate_au', 'rougher.output.concentrate_ag',\n",
    "                                                     'rougher.output.concentrate_pb', 'rougher.output.concentrate_sol',\n",
    "                                                     'primary_cleaner.output.concentrate_au', 'primary_cleaner.output.concentrate_ag',\n",
    "                                                    'primary_cleaner.output.concentrate_pb', 'primary_cleaner.output.concentrate_sol',\n",
    "                                                    'final.output.concentrate_au', 'final.output.concentrate_ag', 'final.output.concentrate_pb',\n",
    "                                                    'final.output.concentrate_sol']]"
   ]
  },
  {
   "cell_type": "code",
   "execution_count": 52,
   "metadata": {},
   "outputs": [],
   "source": [
    "for col in columns_concentrate_metall_train:\n",
    "    zeros_rows = data_train[data_train[col] < 1]\n",
    "    zeros_rows_indexes = zeros_rows.index\n",
    "    data_train.drop(zeros_rows_indexes, inplace=True)"
   ]
  },
  {
   "cell_type": "markdown",
   "metadata": {},
   "source": [
    "Проверю, как изменилось распеределение суммарной концентрации веществ"
   ]
  },
  {
   "cell_type": "code",
   "execution_count": 53,
   "metadata": {},
   "outputs": [],
   "source": [
    "rougher_input_sum_full = (data_train['rougher.input.feed_au'] +\n",
    "                         data_train['rougher.input.feed_ag'] +\n",
    "                         data_train['rougher.input.feed_pb'] +\n",
    "                         data_train['rougher.input.feed_sol'])\n",
    "rougher_concentrate_sum_full = (data_train['rougher.output.concentrate_au'] + \n",
    "                               data_train['rougher.output.concentrate_ag'] + \n",
    "                               data_train['rougher.output.concentrate_pb'] + \n",
    "                               data_train['rougher.output.concentrate_sol'])\n",
    "primary_cleaner_concentrate_sum_full = (data_train['primary_cleaner.output.concentrate_au'] +\n",
    "                                       data_train['primary_cleaner.output.concentrate_ag'] +\n",
    "                                       data_train['primary_cleaner.output.concentrate_pb'] +\n",
    "                                       data_train['primary_cleaner.output.concentrate_sol']) \n",
    "final_concentrate_sum_full = (data_train['final.output.concentrate_au'] +\n",
    "                             data_train['final.output.concentrate_ag'] +\n",
    "                             data_train['final.output.concentrate_pb'] +\n",
    "                             data_train['final.output.concentrate_sol'])"
   ]
  },
  {
   "cell_type": "code",
   "execution_count": 54,
   "metadata": {},
   "outputs": [
    {
     "data": {
      "image/png": "[encoded data removed]",
      "text/plain": [
       "<Figure size 1296x864 with 1 Axes>"
      ]
     },
     "metadata": {
      "needs_background": "light"
     },
     "output_type": "display_data"
    }
   ],
   "source": [
    "plt.figure(figsize=[18,12])\n",
    "\n",
    "plt.hist(rougher_input_sum_full, bins=150, label = 'Суммарная концентрация всех веществ в сырье перед флотацией', alpha=.5)\n",
    "plt.hist(rougher_concentrate_sum_full, bins=150, label = 'Суммарная концентрация всех веществ в черновом концентрате', alpha=.5)\n",
    "plt.hist(primary_cleaner_concentrate_sum_full, bins=150, label = 'Суммарная концентрация всех веществ в черновом концентрате перед второй очисткой', alpha=.5)\n",
    "plt.hist(final_concentrate_sum_full, bins=150, label = 'Суммарная концентрация всех веществ в финальном концентрате', alpha=.5)\n",
    "\n",
    "plt.xlim([0, 100])\n",
    "plt.ylim([0, 1500])\n",
    "\n",
    "plt.xlabel(\"Суммарная концентрация всех веществ\")\n",
    "\n",
    "plt.legend(loc='upper left', fontsize='x-large')\n",
    "\n",
    "plt.title(\"Гистограмма распределения суммарной концентрации всех веществ\")\n",
    "plt.show()"
   ]
  },
  {
   "cell_type": "markdown",
   "metadata": {},
   "source": [
    "Данных со значениями меньше 1 удалены (в основном это данные о черновом концентрате на этапе чисток)"
   ]
  },
  {
   "cell_type": "markdown",
   "metadata": {},
   "source": [
    "## Модель\n",
    "\n",
    "### Функция для  вычисления итоговой sMAPE ###\n",
    "\n",
    "Сначала объявлю функцию для расчета sMAPE - smape, затем функцию для расчета итоговой sMAPE - total_smape "
   ]
  },
  {
   "cell_type": "code",
   "execution_count": 55,
   "metadata": {},
   "outputs": [],
   "source": [
    "def smape(target, prediction):\n",
    "    smape = 100/len(target) * np.sum(2 * np.abs(prediction - target) / (np.abs(target) + np.abs(prediction)))\n",
    "    return smape\n",
    "      \n",
    "def total_smape(rougher, final):\n",
    "    total_smape = 0.25*rougher + 0.75*final\n",
    "    return total_smape"
   ]
  },
  {
   "cell_type": "code",
   "execution_count": 56,
   "metadata": {},
   "outputs": [],
   "source": [
    "smape_score = make_scorer(smape,greater_is_better=False)"
   ]
  },
  {
   "cell_type": "markdown",
   "metadata": {},
   "source": [
    "### Подготовка признаков для обучения моделей ###\n",
    "\n",
    "Выделение целевых признаков и признаков для обучения\n",
    "\n",
    "Выделю из обучающей выборки целевые признаки, остальные признаки приведу в соотвествие с тестовой выборкой\n",
    "\n",
    "Из исходных данных добавлю целевые признаки для тестовой выборки\n",
    "\n",
    "#### Обучающая выборка ####\n",
    "\n",
    "Выделю 2 целевых признака (для каждого будет своя модель) - 'final.output.recovery' и 'rougher.output.recovery'.\n",
    "\n",
    "Для обучения признаков из обучающей выборки \"вычту\" признаки, которые отсутствуют в тестовой выборке"
   ]
  },
  {
   "cell_type": "code",
   "execution_count": 57,
   "metadata": {},
   "outputs": [],
   "source": [
    "target_train_rougher = data_train['rougher.output.recovery']\n",
    "target_train_final = data_train['final.output.recovery']\n",
    "features_train = data_train.drop(missed_columns_in_test, axis=1)\n",
    "features_train = features_train.drop(['date'], axis=1)"
   ]
  },
  {
   "cell_type": "code",
   "execution_count": 58,
   "metadata": {},
   "outputs": [
    {
     "name": "stdout",
     "output_type": "stream",
     "text": [
      "<class 'pandas.core.frame.DataFrame'>\n",
      "Int64Index: 13425 entries, 0 to 14148\n",
      "Data columns (total 52 columns):\n",
      "primary_cleaner.input.sulfate                 13425 non-null float64\n",
      "primary_cleaner.input.depressant              13425 non-null float64\n",
      "primary_cleaner.input.feed_size               13425 non-null float64\n",
      "primary_cleaner.input.xanthate                13425 non-null float64\n",
      "primary_cleaner.state.floatbank8_a_air        13425 non-null float64\n",
      "primary_cleaner.state.floatbank8_a_level      13425 non-null float64\n",
      "primary_cleaner.state.floatbank8_b_air        13425 non-null float64\n",
      "primary_cleaner.state.floatbank8_b_level      13425 non-null float64\n",
      "primary_cleaner.state.floatbank8_c_air        13425 non-null float64\n",
      "primary_cleaner.state.floatbank8_c_level      13425 non-null float64\n",
      "primary_cleaner.state.floatbank8_d_air        13425 non-null float64\n",
      "primary_cleaner.state.floatbank8_d_level      13425 non-null float64\n",
      "rougher.input.feed_ag                         13425 non-null float64\n",
      "rougher.input.feed_pb                         13425 non-null float64\n",
      "rougher.input.feed_rate                       13425 non-null float64\n",
      "rougher.input.feed_size                       13425 non-null float64\n",
      "rougher.input.feed_sol                        13425 non-null float64\n",
      "rougher.input.feed_au                         13425 non-null float64\n",
      "rougher.input.floatbank10_sulfate             13425 non-null float64\n",
      "rougher.input.floatbank10_xanthate            13425 non-null float64\n",
      "rougher.input.floatbank11_sulfate             13425 non-null float64\n",
      "rougher.input.floatbank11_xanthate            13425 non-null float64\n",
      "rougher.state.floatbank10_a_air               13425 non-null float64\n",
      "rougher.state.floatbank10_a_level             13425 non-null float64\n",
      "rougher.state.floatbank10_b_air               13425 non-null float64\n",
      "rougher.state.floatbank10_b_level             13425 non-null float64\n",
      "rougher.state.floatbank10_c_air               13425 non-null float64\n",
      "rougher.state.floatbank10_c_level             13425 non-null float64\n",
      "rougher.state.floatbank10_d_air               13425 non-null float64\n",
      "rougher.state.floatbank10_d_level             13425 non-null float64\n",
      "rougher.state.floatbank10_e_air               13425 non-null float64\n",
      "rougher.state.floatbank10_e_level             13425 non-null float64\n",
      "rougher.state.floatbank10_f_air               13425 non-null float64\n",
      "rougher.state.floatbank10_f_level             13425 non-null float64\n",
      "secondary_cleaner.state.floatbank2_a_air      13425 non-null float64\n",
      "secondary_cleaner.state.floatbank2_a_level    13425 non-null float64\n",
      "secondary_cleaner.state.floatbank2_b_air      13425 non-null float64\n",
      "secondary_cleaner.state.floatbank2_b_level    13425 non-null float64\n",
      "secondary_cleaner.state.floatbank3_a_air      13425 non-null float64\n",
      "secondary_cleaner.state.floatbank3_a_level    13425 non-null float64\n",
      "secondary_cleaner.state.floatbank3_b_air      13425 non-null float64\n",
      "secondary_cleaner.state.floatbank3_b_level    13425 non-null float64\n",
      "secondary_cleaner.state.floatbank4_a_air      13425 non-null float64\n",
      "secondary_cleaner.state.floatbank4_a_level    13425 non-null float64\n",
      "secondary_cleaner.state.floatbank4_b_air      13425 non-null float64\n",
      "secondary_cleaner.state.floatbank4_b_level    13425 non-null float64\n",
      "secondary_cleaner.state.floatbank5_a_air      13425 non-null float64\n",
      "secondary_cleaner.state.floatbank5_a_level    13425 non-null float64\n",
      "secondary_cleaner.state.floatbank5_b_air      13425 non-null float64\n",
      "secondary_cleaner.state.floatbank5_b_level    13425 non-null float64\n",
      "secondary_cleaner.state.floatbank6_a_air      13425 non-null float64\n",
      "secondary_cleaner.state.floatbank6_a_level    13425 non-null float64\n",
      "dtypes: float64(52)\n",
      "memory usage: 5.4 MB\n"
     ]
    }
   ],
   "source": [
    "features_train.info()"
   ]
  },
  {
   "cell_type": "markdown",
   "metadata": {},
   "source": [
    "#### Тестовая выборка ####\n",
    "\n",
    "Так как в тестовой выборке нет целевых признаков, то я их возьму из исходных данных. Для этого с помощью .merge() добавлю 2 столбца 'final.output.recovery' и 'rougher.output.recovery' по совпадающим датам"
   ]
  },
  {
   "cell_type": "code",
   "execution_count": 59,
   "metadata": {},
   "outputs": [],
   "source": [
    "data_test = data_test.merge(data_full[['date', 'final.output.recovery', 'rougher.output.recovery']], how='left', on='date')"
   ]
  },
  {
   "cell_type": "code",
   "execution_count": 60,
   "metadata": {},
   "outputs": [],
   "source": [
    "target_test_rougher = data_test['rougher.output.recovery']\n",
    "target_test_final = data_test['final.output.recovery']\n",
    "features_test = data_test.drop(['rougher.output.recovery', 'final.output.recovery', 'date'], axis=1)\n",
    "features_test = features_test[features_train.columns]"
   ]
  },
  {
   "cell_type": "code",
   "execution_count": 61,
   "metadata": {},
   "outputs": [
    {
     "name": "stdout",
     "output_type": "stream",
     "text": [
      "<class 'pandas.core.frame.DataFrame'>\n",
      "Int64Index: 5290 entries, 0 to 5289\n",
      "Data columns (total 52 columns):\n",
      "primary_cleaner.input.sulfate                 5290 non-null float64\n",
      "primary_cleaner.input.depressant              5290 non-null float64\n",
      "primary_cleaner.input.feed_size               5290 non-null float64\n",
      "primary_cleaner.input.xanthate                5290 non-null float64\n",
      "primary_cleaner.state.floatbank8_a_air        5290 non-null float64\n",
      "primary_cleaner.state.floatbank8_a_level      5290 non-null float64\n",
      "primary_cleaner.state.floatbank8_b_air        5290 non-null float64\n",
      "primary_cleaner.state.floatbank8_b_level      5290 non-null float64\n",
      "primary_cleaner.state.floatbank8_c_air        5290 non-null float64\n",
      "primary_cleaner.state.floatbank8_c_level      5290 non-null float64\n",
      "primary_cleaner.state.floatbank8_d_air        5290 non-null float64\n",
      "primary_cleaner.state.floatbank8_d_level      5290 non-null float64\n",
      "rougher.input.feed_ag                         5290 non-null float64\n",
      "rougher.input.feed_pb                         5290 non-null float64\n",
      "rougher.input.feed_rate                       5290 non-null float64\n",
      "rougher.input.feed_size                       5290 non-null float64\n",
      "rougher.input.feed_sol                        5290 non-null float64\n",
      "rougher.input.feed_au                         5290 non-null float64\n",
      "rougher.input.floatbank10_sulfate             5290 non-null float64\n",
      "rougher.input.floatbank10_xanthate            5290 non-null float64\n",
      "rougher.input.floatbank11_sulfate             5290 non-null float64\n",
      "rougher.input.floatbank11_xanthate            5290 non-null float64\n",
      "rougher.state.floatbank10_a_air               5290 non-null float64\n",
      "rougher.state.floatbank10_a_level             5290 non-null float64\n",
      "rougher.state.floatbank10_b_air               5290 non-null float64\n",
      "rougher.state.floatbank10_b_level             5290 non-null float64\n",
      "rougher.state.floatbank10_c_air               5290 non-null float64\n",
      "rougher.state.floatbank10_c_level             5290 non-null float64\n",
      "rougher.state.floatbank10_d_air               5290 non-null float64\n",
      "rougher.state.floatbank10_d_level             5290 non-null float64\n",
      "rougher.state.floatbank10_e_air               5290 non-null float64\n",
      "rougher.state.floatbank10_e_level             5290 non-null float64\n",
      "rougher.state.floatbank10_f_air               5290 non-null float64\n",
      "rougher.state.floatbank10_f_level             5290 non-null float64\n",
      "secondary_cleaner.state.floatbank2_a_air      5290 non-null float64\n",
      "secondary_cleaner.state.floatbank2_a_level    5290 non-null float64\n",
      "secondary_cleaner.state.floatbank2_b_air      5290 non-null float64\n",
      "secondary_cleaner.state.floatbank2_b_level    5290 non-null float64\n",
      "secondary_cleaner.state.floatbank3_a_air      5290 non-null float64\n",
      "secondary_cleaner.state.floatbank3_a_level    5290 non-null float64\n",
      "secondary_cleaner.state.floatbank3_b_air      5290 non-null float64\n",
      "secondary_cleaner.state.floatbank3_b_level    5290 non-null float64\n",
      "secondary_cleaner.state.floatbank4_a_air      5290 non-null float64\n",
      "secondary_cleaner.state.floatbank4_a_level    5290 non-null float64\n",
      "secondary_cleaner.state.floatbank4_b_air      5290 non-null float64\n",
      "secondary_cleaner.state.floatbank4_b_level    5290 non-null float64\n",
      "secondary_cleaner.state.floatbank5_a_air      5290 non-null float64\n",
      "secondary_cleaner.state.floatbank5_a_level    5290 non-null float64\n",
      "secondary_cleaner.state.floatbank5_b_air      5290 non-null float64\n",
      "secondary_cleaner.state.floatbank5_b_level    5290 non-null float64\n",
      "secondary_cleaner.state.floatbank6_a_air      5290 non-null float64\n",
      "secondary_cleaner.state.floatbank6_a_level    5290 non-null float64\n",
      "dtypes: float64(52)\n",
      "memory usage: 2.1 MB\n"
     ]
    }
   ],
   "source": [
    "features_test.info()"
   ]
  },
  {
   "cell_type": "markdown",
   "metadata": {},
   "source": [
    "### Обучение моделей ###\n",
    "\n",
    "#### Линейная регрессия (LinearRegression)  ####\n",
    "\n",
    "с проверкой качества кросс-валидацией\n",
    "\n",
    "**Для rougher.output.recovery**"
   ]
  },
  {
   "cell_type": "code",
   "execution_count": 62,
   "metadata": {},
   "outputs": [],
   "source": [
    "model_lr_rougher = LinearRegression()"
   ]
  },
  {
   "cell_type": "code",
   "execution_count": 63,
   "metadata": {},
   "outputs": [],
   "source": [
    "predictions_lr_rougher = pd.Series(cross_val_predict(model_lr_rougher, features_train, target_train_rougher, cv=5))\n",
    "smape_lr_rouger = smape(target_train_rougher, predictions_lr_rougher)"
   ]
  },
  {
   "cell_type": "code",
   "execution_count": 64,
   "metadata": {},
   "outputs": [
    {
     "name": "stdout",
     "output_type": "stream",
     "text": [
      "sMAPE модели Линейная регрессия для признака rougher.output.recovery: 7.85\n"
     ]
    }
   ],
   "source": [
    "print('sMAPE модели Линейная регрессия для признака rougher.output.recovery: {:.2f}'.format(smape_lr_rouger))"
   ]
  },
  {
   "cell_type": "markdown",
   "metadata": {},
   "source": [
    "**Для  final.output.recovery**"
   ]
  },
  {
   "cell_type": "code",
   "execution_count": 65,
   "metadata": {},
   "outputs": [],
   "source": [
    "model_lr_final = LinearRegression()"
   ]
  },
  {
   "cell_type": "code",
   "execution_count": 66,
   "metadata": {},
   "outputs": [],
   "source": [
    "predictions_lr_final = pd.Series(cross_val_predict(model_lr_rougher, features_train, target_train_final, cv=5))\n",
    "smape_lr_final = smape(target_train_final, predictions_lr_final)"
   ]
  },
  {
   "cell_type": "code",
   "execution_count": 67,
   "metadata": {},
   "outputs": [
    {
     "name": "stdout",
     "output_type": "stream",
     "text": [
      "sMAPE модели Линейная регрессия (по результатам кросс-валидации) для признака final.output.recovery: 11.95\n"
     ]
    }
   ],
   "source": [
    "print('sMAPE модели Линейная регрессия (по результатам кросс-валидации) для признака final.output.recovery: {:.2f}'.format(smape_lr_final))"
   ]
  },
  {
   "cell_type": "markdown",
   "metadata": {},
   "source": [
    "##### Линейная регрессия с масштабированными признаками #####\n",
    "    \n",
    "Проверю измениться ли sMAPE модели, если я отмасштабирую признаки "
   ]
  },
  {
   "cell_type": "code",
   "execution_count": 68,
   "metadata": {},
   "outputs": [
    {
     "data": {
      "text/plain": [
       "StandardScaler(copy=True, with_mean=True, with_std=True)"
      ]
     },
     "execution_count": 68,
     "metadata": {},
     "output_type": "execute_result"
    }
   ],
   "source": [
    "scaler = StandardScaler()\n",
    "scaler.fit(features_train) "
   ]
  },
  {
   "cell_type": "code",
   "execution_count": 69,
   "metadata": {},
   "outputs": [],
   "source": [
    "features_train_scaled = scaler.transform(features_train)\n",
    "\n",
    "predictions_lr_rougher_scaled = pd.Series(cross_val_predict(model_lr_rougher, features_train_scaled, \n",
    "                                                            target_train_rougher, cv=5))\n",
    "smape_lr_rouger_scaled = smape(target_train_rougher, predictions_lr_rougher_scaled)\n",
    "\n",
    "predictions_lr_final_scaled = pd.Series(cross_val_predict(model_lr_rougher, features_train_scaled, \n",
    "                                                          target_train_final, cv=5))\n",
    "smape_lr_final_scaled = smape(target_train_final, predictions_lr_final_scaled)"
   ]
  },
  {
   "cell_type": "code",
   "execution_count": 70,
   "metadata": {},
   "outputs": [
    {
     "name": "stdout",
     "output_type": "stream",
     "text": [
      "sMAPE модели Линейная регрессия (по результатам кросс-валидации, масштабированные признаки:\n",
      "для признака final.output.recovery: 7.85\n",
      "для признака final.output.recovery: 11.95\n"
     ]
    }
   ],
   "source": [
    "print('sMAPE модели Линейная регрессия (по результатам кросс-валидации, масштабированные признаки:')\n",
    "print('для признака final.output.recovery: {:.2f}'.format(smape_lr_rouger_scaled))\n",
    "print('для признака final.output.recovery: {:.2f}'.format(smape_lr_final_scaled))"
   ]
  },
  {
   "cell_type": "markdown",
   "metadata": {},
   "source": [
    "Для признака  rougher.output.recovery sMAPE модели на  44% ниже, чем для признака   final.output.recovery\n",
    "Масштабирование данных не повляило на результат \n",
    "\n",
    "#### Случайный лес (RandomForest) и Решающее дерево (DecisionTree)  ####\n",
    "\n",
    "с проверкой качества кросс-валидацией, лучшие параметры подберу с помощью GridSearchCV (уже включает кросс-валидацию) и pipeline.\n",
    "\n",
    "Учитывая, что при начальном анализе данных в признаках был виден значительный разброс данных (они все численные), то будет необходимо еще масштабирование признаков с помощью StandardScaler\n",
    "\n",
    "**Инициализация pipeline**"
   ]
  },
  {
   "cell_type": "code",
   "execution_count": 71,
   "metadata": {},
   "outputs": [],
   "source": [
    "model_rf = make_pipeline(StandardScaler(), RandomForestRegressor(random_state=12345))\n",
    "model_dt = make_pipeline(StandardScaler(), DecisionTreeRegressor(random_state=12345))"
   ]
  },
  {
   "cell_type": "markdown",
   "metadata": {},
   "source": [
    "**Инициализация параметров для GridSearch**"
   ]
  },
  {
   "cell_type": "code",
   "execution_count": 72,
   "metadata": {},
   "outputs": [],
   "source": [
    "parameters_rf = {'randomforestregressor__n_estimators':[5,155, 5],\n",
    "             'randomforestregressor__max_depth':[1,21,2],\n",
    "              'randomforestregressor__max_leaf_nodes':[10,55, 5]}\n",
    "parameters_dt = {'decisiontreeregressor__max_depth':[1,21,2]}"
   ]
  },
  {
   "cell_type": "code",
   "execution_count": 73,
   "metadata": {},
   "outputs": [],
   "source": [
    "grid_rougher_rf = GridSearchCV(model_rf,param_grid=parameters_rf, scoring=smape_score, cv=5)\n",
    "grid_final_rf = GridSearchCV(model_rf,param_grid=parameters_rf, scoring=smape_score, cv=5)"
   ]
  },
  {
   "cell_type": "code",
   "execution_count": 74,
   "metadata": {},
   "outputs": [],
   "source": [
    "grid_rougher_dt = GridSearchCV(model_dt,param_grid=parameters_dt, scoring=smape_score)\n",
    "grid_final_dt = GridSearchCV(model_dt,param_grid = parameters_dt, scoring=smape_score)"
   ]
  },
  {
   "cell_type": "markdown",
   "metadata": {},
   "source": [
    "**Непосредственно обучение моделей для выявления лучших параметров**"
   ]
  },
  {
   "cell_type": "code",
   "execution_count": 75,
   "metadata": {},
   "outputs": [
    {
     "data": {
      "text/plain": [
       "GridSearchCV(cv=5, error_score='raise-deprecating',\n",
       "             estimator=Pipeline(memory=None,\n",
       "                                steps=[('standardscaler',\n",
       "                                        StandardScaler(copy=True,\n",
       "                                                       with_mean=True,\n",
       "                                                       with_std=True)),\n",
       "                                       ('randomforestregressor',\n",
       "                                        RandomForestRegressor(bootstrap=True,\n",
       "                                                              criterion='mse',\n",
       "                                                              max_depth=None,\n",
       "                                                              max_features='auto',\n",
       "                                                              max_leaf_nodes=None,\n",
       "                                                              min_impurity_decrease=0.0,\n",
       "                                                              min_impurity_split=None,\n",
       "                                                              min_s...\n",
       "                                                              random_state=12345,\n",
       "                                                              verbose=0,\n",
       "                                                              warm_start=False))],\n",
       "                                verbose=False),\n",
       "             iid='warn', n_jobs=None,\n",
       "             param_grid={'randomforestregressor__max_depth': [1, 21, 2],\n",
       "                         'randomforestregressor__max_leaf_nodes': [10, 55, 5],\n",
       "                         'randomforestregressor__n_estimators': [5, 155, 5]},\n",
       "             pre_dispatch='2*n_jobs', refit=True, return_train_score=False,\n",
       "             scoring=make_scorer(smape, greater_is_better=False), verbose=0)"
      ]
     },
     "execution_count": 75,
     "metadata": {},
     "output_type": "execute_result"
    }
   ],
   "source": [
    "grid_rougher_rf.fit(features_train, target_train_rougher)\n",
    "grid_final_rf.fit(features_train, target_train_final)"
   ]
  },
  {
   "cell_type": "code",
   "execution_count": 76,
   "metadata": {},
   "outputs": [
    {
     "data": {
      "text/plain": [
       "GridSearchCV(cv='warn', error_score='raise-deprecating',\n",
       "             estimator=Pipeline(memory=None,\n",
       "                                steps=[('standardscaler',\n",
       "                                        StandardScaler(copy=True,\n",
       "                                                       with_mean=True,\n",
       "                                                       with_std=True)),\n",
       "                                       ('decisiontreeregressor',\n",
       "                                        DecisionTreeRegressor(criterion='mse',\n",
       "                                                              max_depth=None,\n",
       "                                                              max_features=None,\n",
       "                                                              max_leaf_nodes=None,\n",
       "                                                              min_impurity_decrease=0.0,\n",
       "                                                              min_impurity_split=None,\n",
       "                                                              min_samples_leaf=1,\n",
       "                                                              min_samples_split=2,\n",
       "                                                              min_weight_fraction_leaf=0.0,\n",
       "                                                              presort=False,\n",
       "                                                              random_state=12345,\n",
       "                                                              splitter='best'))],\n",
       "                                verbose=False),\n",
       "             iid='warn', n_jobs=None,\n",
       "             param_grid={'decisiontreeregressor__max_depth': [1, 21, 2]},\n",
       "             pre_dispatch='2*n_jobs', refit=True, return_train_score=False,\n",
       "             scoring=make_scorer(smape, greater_is_better=False), verbose=0)"
      ]
     },
     "execution_count": 76,
     "metadata": {},
     "output_type": "execute_result"
    }
   ],
   "source": [
    "grid_rougher_dt.fit(features_train, target_train_rougher)\n",
    "grid_final_dt.fit(features_train, target_train_final)"
   ]
  },
  {
   "cell_type": "code",
   "execution_count": 77,
   "metadata": {},
   "outputs": [
    {
     "name": "stdout",
     "output_type": "stream",
     "text": [
      "Лучшая модель Случайный лес для признака rougher.output.recovery:\n",
      "Pipeline(memory=None,\n",
      "         steps=[('standardscaler',\n",
      "                 StandardScaler(copy=True, with_mean=True, with_std=True)),\n",
      "                ('randomforestregressor',\n",
      "                 RandomForestRegressor(bootstrap=True, criterion='mse',\n",
      "                                       max_depth=21, max_features='auto',\n",
      "                                       max_leaf_nodes=10,\n",
      "                                       min_impurity_decrease=0.0,\n",
      "                                       min_impurity_split=None,\n",
      "                                       min_samples_leaf=1, min_samples_split=2,\n",
      "                                       min_weight_fraction_leaf=0.0,\n",
      "                                       n_estimators=155, n_jobs=None,\n",
      "                                       oob_score=False, random_state=12345,\n",
      "                                       verbose=0, warm_start=False))],\n",
      "         verbose=False)\n"
     ]
    }
   ],
   "source": [
    "print('Лучшая модель Случайный лес для признака rougher.output.recovery:')\n",
    "print(grid_rougher_rf.best_estimator_)"
   ]
  },
  {
   "cell_type": "code",
   "execution_count": 78,
   "metadata": {},
   "outputs": [
    {
     "name": "stdout",
     "output_type": "stream",
     "text": [
      "Лучшая модель Случайный лес для признака final.output.recovery:\n",
      "Pipeline(memory=None,\n",
      "         steps=[('standardscaler',\n",
      "                 StandardScaler(copy=True, with_mean=True, with_std=True)),\n",
      "                ('randomforestregressor',\n",
      "                 RandomForestRegressor(bootstrap=True, criterion='mse',\n",
      "                                       max_depth=21, max_features='auto',\n",
      "                                       max_leaf_nodes=55,\n",
      "                                       min_impurity_decrease=0.0,\n",
      "                                       min_impurity_split=None,\n",
      "                                       min_samples_leaf=1, min_samples_split=2,\n",
      "                                       min_weight_fraction_leaf=0.0,\n",
      "                                       n_estimators=155, n_jobs=None,\n",
      "                                       oob_score=False, random_state=12345,\n",
      "                                       verbose=0, warm_start=False))],\n",
      "         verbose=False)\n"
     ]
    }
   ],
   "source": [
    "print('Лучшая модель Случайный лес для признака final.output.recovery:')\n",
    "print(grid_final_rf.best_estimator_)"
   ]
  },
  {
   "cell_type": "code",
   "execution_count": 79,
   "metadata": {},
   "outputs": [
    {
     "data": {
      "text/plain": [
       "{'randomforestregressor__max_depth': 21,\n",
       " 'randomforestregressor__max_leaf_nodes': 10,\n",
       " 'randomforestregressor__n_estimators': 155}"
      ]
     },
     "execution_count": 79,
     "metadata": {},
     "output_type": "execute_result"
    }
   ],
   "source": [
    "grid_rougher_rf.best_params_"
   ]
  },
  {
   "cell_type": "code",
   "execution_count": 80,
   "metadata": {},
   "outputs": [
    {
     "data": {
      "text/plain": [
       "{'randomforestregressor__max_depth': 21,\n",
       " 'randomforestregressor__max_leaf_nodes': 55,\n",
       " 'randomforestregressor__n_estimators': 155}"
      ]
     },
     "execution_count": 80,
     "metadata": {},
     "output_type": "execute_result"
    }
   ],
   "source": [
    "grid_final_rf.best_params_"
   ]
  },
  {
   "cell_type": "markdown",
   "metadata": {},
   "source": [
    "Для модели Случайный лес лучшие параметры:\n",
    "\n",
    "- для rougher.output.recovery: 155 деревьев с глубиной 21 и 10 листьями\n",
    "\n",
    "- для final.output.recovery: 155 деревьев с глубиной 21 и 55 листьями"
   ]
  },
  {
   "cell_type": "code",
   "execution_count": 81,
   "metadata": {},
   "outputs": [
    {
     "name": "stdout",
     "output_type": "stream",
     "text": [
      "Лучшая модель Решающее дерево для признака rougher.output.recovery::\n",
      "Pipeline(memory=None,\n",
      "         steps=[('standardscaler',\n",
      "                 StandardScaler(copy=True, with_mean=True, with_std=True)),\n",
      "                ('decisiontreeregressor',\n",
      "                 DecisionTreeRegressor(criterion='mse', max_depth=2,\n",
      "                                       max_features=None, max_leaf_nodes=None,\n",
      "                                       min_impurity_decrease=0.0,\n",
      "                                       min_impurity_split=None,\n",
      "                                       min_samples_leaf=1, min_samples_split=2,\n",
      "                                       min_weight_fraction_leaf=0.0,\n",
      "                                       presort=False, random_state=12345,\n",
      "                                       splitter='best'))],\n",
      "         verbose=False)\n"
     ]
    }
   ],
   "source": [
    "print('Лучшая модель Решающее дерево для признака rougher.output.recovery::')\n",
    "print(grid_rougher_dt.best_estimator_)"
   ]
  },
  {
   "cell_type": "code",
   "execution_count": 82,
   "metadata": {},
   "outputs": [
    {
     "name": "stdout",
     "output_type": "stream",
     "text": [
      "Лучшая модель Решающее дерево для признака final.output.recovery:\n",
      "Pipeline(memory=None,\n",
      "         steps=[('standardscaler',\n",
      "                 StandardScaler(copy=True, with_mean=True, with_std=True)),\n",
      "                ('decisiontreeregressor',\n",
      "                 DecisionTreeRegressor(criterion='mse', max_depth=1,\n",
      "                                       max_features=None, max_leaf_nodes=None,\n",
      "                                       min_impurity_decrease=0.0,\n",
      "                                       min_impurity_split=None,\n",
      "                                       min_samples_leaf=1, min_samples_split=2,\n",
      "                                       min_weight_fraction_leaf=0.0,\n",
      "                                       presort=False, random_state=12345,\n",
      "                                       splitter='best'))],\n",
      "         verbose=False)\n"
     ]
    }
   ],
   "source": [
    "print('Лучшая модель Решающее дерево для признака final.output.recovery:')\n",
    "print(grid_final_dt.best_estimator_)"
   ]
  },
  {
   "cell_type": "code",
   "execution_count": 83,
   "metadata": {},
   "outputs": [
    {
     "data": {
      "text/plain": [
       "{'decisiontreeregressor__max_depth': 2}"
      ]
     },
     "execution_count": 83,
     "metadata": {},
     "output_type": "execute_result"
    }
   ],
   "source": [
    "grid_rougher_dt.best_params_"
   ]
  },
  {
   "cell_type": "code",
   "execution_count": 84,
   "metadata": {},
   "outputs": [
    {
     "data": {
      "text/plain": [
       "{'decisiontreeregressor__max_depth': 1}"
      ]
     },
     "execution_count": 84,
     "metadata": {},
     "output_type": "execute_result"
    }
   ],
   "source": [
    "grid_final_dt.best_params_"
   ]
  },
  {
   "cell_type": "markdown",
   "metadata": {},
   "source": [
    "Для модели Решающее дерево лучшие параметры:\n",
    "\n",
    "- для rougher.output.recovery: глубина дерева 2\n",
    "\n",
    "- для final.output.recovery: глубина дерева 1\n",
    "\n",
    "**Показатели sMAPE для Случайного леса и решающего дерева**"
   ]
  },
  {
   "cell_type": "code",
   "execution_count": 85,
   "metadata": {},
   "outputs": [],
   "source": [
    "best_score_rf_rouger = abs(grid_rougher_rf.best_score_)\n",
    "best_score_rf_final = abs(grid_final_rf.best_score_)\n",
    "best_score_dt_rouger = abs(grid_rougher_dt.best_score_)\n",
    "best_score_dt_final = abs(grid_final_dt.best_score_)"
   ]
  },
  {
   "cell_type": "code",
   "execution_count": 86,
   "metadata": {},
   "outputs": [
    {
     "name": "stdout",
     "output_type": "stream",
     "text": [
      "Лучший sMAPE для признака rougher.output.recovery:\n",
      "модель Случайное лес 6.53 , модель Решающее дерево 7.98\n"
     ]
    }
   ],
   "source": [
    "print('Лучший sMAPE для признака rougher.output.recovery:')\n",
    "print('модель Случайное лес {:.2f}'.format(best_score_rf_rouger), ', модель Решающее дерево {:.2f}'.format(best_score_dt_rouger))"
   ]
  },
  {
   "cell_type": "code",
   "execution_count": 87,
   "metadata": {},
   "outputs": [
    {
     "name": "stdout",
     "output_type": "stream",
     "text": [
      "Лучший sMAPE для признака final.output.recovery:\n",
      "модель Случайное лес 8.85 , модель Решающее дерево 9.99\n"
     ]
    }
   ],
   "source": [
    "print('Лучший sMAPE для признака final.output.recovery:')\n",
    "print('модель Случайное лес {:.2f}'.format(best_score_rf_final), ', модель Решающее дерево {:.2f}'.format(best_score_dt_final))"
   ]
  },
  {
   "cell_type": "markdown",
   "metadata": {},
   "source": [
    "#### Lasso Regression ####"
   ]
  },
  {
   "cell_type": "code",
   "execution_count": 94,
   "metadata": {},
   "outputs": [],
   "source": [
    "scaler = StandardScaler()\n",
    "scaler.fit(features_train) \n",
    "model_lasso_rouger = Lasso(alpha=0.1)\n",
    "predictions_lasso_rougher = pd.Series(cross_val_predict(model_lasso_rouger, features_train, target_train_rougher, cv=5))\n",
    "smape_lasso_rouger = smape(target_train_rougher, predictions_lasso_rougher)"
   ]
  },
  {
   "cell_type": "code",
   "execution_count": 95,
   "metadata": {},
   "outputs": [
    {
     "name": "stderr",
     "output_type": "stream",
     "text": [
      "/Users/kate/opt/anaconda3/envs/praktikum/lib/python3.7/site-packages/sklearn/linear_model/coordinate_descent.py:475: ConvergenceWarning: Objective did not converge. You might want to increase the number of iterations. Duality gap: 2798.790132529335, tolerance: 93.21502496730463\n",
      "  positive)\n"
     ]
    }
   ],
   "source": [
    "model_lasso_final = Lasso(alpha=0.1)\n",
    "predictions_lasso_final = pd.Series(cross_val_predict(model_lasso_final, features_train, target_train_final, cv=5))\n",
    "smape_lasso_final = smape(target_train_rougher, predictions_lasso_final)"
   ]
  },
  {
   "cell_type": "code",
   "execution_count": 96,
   "metadata": {},
   "outputs": [
    {
     "name": "stdout",
     "output_type": "stream",
     "text": [
      "Лучший sMAPE для признака rougher.output.recovery:\n",
      "модель Лассо 7.43\n"
     ]
    }
   ],
   "source": [
    "print('Лучший sMAPE для признака rougher.output.recovery:')\n",
    "print('модель Лассо {:.2f}'.format(smape_lasso_rouger))"
   ]
  },
  {
   "cell_type": "code",
   "execution_count": 97,
   "metadata": {},
   "outputs": [
    {
     "name": "stdout",
     "output_type": "stream",
     "text": [
      "Лучший sMAPE для признака final.output.recovery:\n",
      "модель Лассо 22.47\n"
     ]
    }
   ],
   "source": [
    "print('Лучший sMAPE для признака final.output.recovery:')\n",
    "print('модель Лассо {:.2f}'.format(smape_lasso_final))"
   ]
  },
  {
   "cell_type": "markdown",
   "metadata": {},
   "source": [
    "#### Ridge Regression #### "
   ]
  },
  {
   "cell_type": "code",
   "execution_count": 98,
   "metadata": {},
   "outputs": [],
   "source": [
    "scaler = StandardScaler()\n",
    "scaler.fit(features_train) \n",
    "model_ridge_rouger = Ridge(alpha=0.1)\n",
    "predictions_ridge_rougher = pd.Series(cross_val_predict(model_ridge_rouger, features_train, target_train_rougher, cv=5))\n",
    "smape_ridge_rouger = smape(target_train_rougher, predictions_ridge_rougher)"
   ]
  },
  {
   "cell_type": "code",
   "execution_count": 99,
   "metadata": {},
   "outputs": [],
   "source": [
    "model_ridge_final = Ridge(alpha = 0.1)\n",
    "predictions_ridge_final = pd.Series(cross_val_predict(model_ridge_final, features_train, target_train_final, cv=5))\n",
    "smape_ridge_final = smape(target_train_final, predictions_ridge_final)"
   ]
  },
  {
   "cell_type": "code",
   "execution_count": 123,
   "metadata": {},
   "outputs": [
    {
     "name": "stdout",
     "output_type": "stream",
     "text": [
      "Лучший sMAPE для признака rougher.output.recovery:\n",
      "модель Ridge 7.85\n"
     ]
    }
   ],
   "source": [
    "print('Лучший sMAPE для признака rougher.output.recovery:')\n",
    "print('модель Ridge {:.2f}'.format(smape_ridge_rouger))"
   ]
  },
  {
   "cell_type": "code",
   "execution_count": 124,
   "metadata": {},
   "outputs": [
    {
     "name": "stdout",
     "output_type": "stream",
     "text": [
      "Лучший sMAPE для признака final.output.recovery:\n",
      "модель Ridge 11.95\n"
     ]
    }
   ],
   "source": [
    "print('Лучший sMAPE для признака final.output.recovery:')\n",
    "print('модель Ridge {:.2f}'.format(smape_ridge_final))"
   ]
  },
  {
   "cell_type": "markdown",
   "metadata": {},
   "source": [
    "### Итоговый sMAPE для обученных моделей ###"
   ]
  },
  {
   "cell_type": "code",
   "execution_count": 102,
   "metadata": {},
   "outputs": [],
   "source": [
    "total_smape_lr = total_smape(smape_lr_rouger, smape_lr_final)"
   ]
  },
  {
   "cell_type": "code",
   "execution_count": 103,
   "metadata": {},
   "outputs": [
    {
     "name": "stdout",
     "output_type": "stream",
     "text": [
      "Итоговое sMAPE для модели Линейная регрессия: 10.92\n"
     ]
    }
   ],
   "source": [
    "print('Итоговое sMAPE для модели Линейная регрессия: {:.2f}'.format(total_smape_lr))"
   ]
  },
  {
   "cell_type": "code",
   "execution_count": 104,
   "metadata": {},
   "outputs": [],
   "source": [
    "total_smape_rf = total_smape(best_score_rf_rouger, best_score_rf_final)"
   ]
  },
  {
   "cell_type": "code",
   "execution_count": 105,
   "metadata": {},
   "outputs": [
    {
     "name": "stdout",
     "output_type": "stream",
     "text": [
      "Итоговое sMAPE для модели Случайное лес: 8.27\n"
     ]
    }
   ],
   "source": [
    "print('Итоговое sMAPE для модели Случайное лес: {:.2f}'.format(total_smape_rf))"
   ]
  },
  {
   "cell_type": "code",
   "execution_count": 106,
   "metadata": {},
   "outputs": [],
   "source": [
    "total_smape_dt = total_smape(best_score_dt_rouger, best_score_dt_final)"
   ]
  },
  {
   "cell_type": "code",
   "execution_count": 107,
   "metadata": {},
   "outputs": [
    {
     "name": "stdout",
     "output_type": "stream",
     "text": [
      "Итоговое sMAPE для модели Решающее дерево: 9.49\n"
     ]
    }
   ],
   "source": [
    "print('Итоговое sMAPE для модели Решающее дерево: {:.2f}'.format(total_smape_dt))"
   ]
  },
  {
   "cell_type": "code",
   "execution_count": 108,
   "metadata": {},
   "outputs": [],
   "source": [
    "total_smape_lasso = total_smape(smape_lasso_rouger, smape_lasso_final)"
   ]
  },
  {
   "cell_type": "code",
   "execution_count": 109,
   "metadata": {},
   "outputs": [
    {
     "name": "stdout",
     "output_type": "stream",
     "text": [
      "Итоговое sMAPE для модели Лассо: 18.71\n"
     ]
    }
   ],
   "source": [
    "print('Итоговое sMAPE для модели Лассо: {:.2f}'.format(total_smape_lasso))"
   ]
  },
  {
   "cell_type": "code",
   "execution_count": 110,
   "metadata": {},
   "outputs": [],
   "source": [
    "total_smape_ridge = total_smape(smape_ridge_rouger, smape_ridge_final)"
   ]
  },
  {
   "cell_type": "code",
   "execution_count": 122,
   "metadata": {},
   "outputs": [
    {
     "name": "stdout",
     "output_type": "stream",
     "text": [
      "Итоговое sMAPE для модели Ridge: 10.92\n"
     ]
    }
   ],
   "source": [
    "print('Итоговое sMAPE для модели Ridge: {:.2f}'.format(total_smape_ridge))"
   ]
  },
  {
   "cell_type": "markdown",
   "metadata": {},
   "source": [
    "Если смотреть итоговое sMAPE, то меньший показатель у модели **Случайного дерева**.\n",
    "    \n",
    "Если смотреть по каждому целевому признаку, то опять же Случайный лес выйгрывает:\n",
    "\n",
    "- у rougher.output.recovery - 6.54, \n",
    "    \n",
    "- у final.output.recovery - 8.95.\n",
    "    \n",
    "Самый высокий показатель:\n",
    "    \n",
    "- итогового sMAPE у модели Lasso (18.71), \n",
    "    \n",
    "- для rougher.output.recovery у Решающего дерева (9.99),\n",
    "    \n",
    "- для final.output.recovery у Lasso (22.47)"
   ]
  },
  {
   "cell_type": "markdown",
   "metadata": {},
   "source": [
    "#### Выбор лучшей модели и ее проверка на тестовой выборке ####"
   ]
  },
  {
   "cell_type": "markdown",
   "metadata": {},
   "source": [
    "На обучающей выборке лучший итоговый sMAPE (наименьшая ошибка) у модели Случайный лес. \n",
    "\n",
    "Подсчитаю итоговое sMape на тестовой выборке. "
   ]
  },
  {
   "cell_type": "code",
   "execution_count": 112,
   "metadata": {},
   "outputs": [],
   "source": [
    "rf_rougher_test = grid_rougher_rf.predict(features_test)\n",
    "rf_final_test = grid_final_rf.predict(features_test)"
   ]
  },
  {
   "cell_type": "markdown",
   "metadata": {},
   "source": [
    "Выведу отдельно sMAPE по каждому целевому признаку"
   ]
  },
  {
   "cell_type": "code",
   "execution_count": 113,
   "metadata": {},
   "outputs": [],
   "source": [
    "smape_rf_test_rougher = smape(target_test_rougher, rf_rougher_test)"
   ]
  },
  {
   "cell_type": "code",
   "execution_count": 114,
   "metadata": {},
   "outputs": [],
   "source": [
    "smape_rf_test_final = smape(target_test_final, rf_final_test)"
   ]
  },
  {
   "cell_type": "code",
   "execution_count": 115,
   "metadata": {},
   "outputs": [],
   "source": [
    "total_smape_rf_test = total_smape(smape_rf_test_rougher,smape_rf_test_final)"
   ]
  },
  {
   "cell_type": "code",
   "execution_count": 116,
   "metadata": {},
   "outputs": [
    {
     "name": "stdout",
     "output_type": "stream",
     "text": [
      "Для модели Случайное лес на тестовой выборке:\n",
      "sMAPE для признака rougher.output.recovery: 7.99\n",
      "sMAPE для признака final.output.recovery: 9.79\n",
      "Итоговое sMAPE: 9.34\n"
     ]
    }
   ],
   "source": [
    "print('Для модели Случайное лес на тестовой выборке:')\n",
    "print('sMAPE для признака rougher.output.recovery: {:.2f}'.format(smape_rf_test_rougher))\n",
    "print('sMAPE для признака final.output.recovery: {:.2f}'.format(smape_rf_test_final))\n",
    "print('Итоговое sMAPE: {:.2f}'.format(total_smape_rf_test))"
   ]
  },
  {
   "cell_type": "markdown",
   "metadata": {},
   "source": [
    "Затем сравню с **константной моделью** (чтобы проверить на адекватность). Использую DummyRegressor со стратегией median, обучу на обучающей выборке. Посчитаю sMAPE для каждого целевого признака и итоговое sMAPE    "
   ]
  },
  {
   "cell_type": "code",
   "execution_count": 117,
   "metadata": {},
   "outputs": [
    {
     "data": {
      "text/plain": [
       "DummyRegressor(constant=None, quantile=None, strategy='median')"
      ]
     },
     "execution_count": 117,
     "metadata": {},
     "output_type": "execute_result"
    }
   ],
   "source": [
    "model_dummy_rougher = DummyRegressor(strategy = 'median')\n",
    "model_dummy_final = DummyRegressor(strategy = 'median')\n",
    "model_dummy_rougher.fit(features_train, target_train_rougher)\n",
    "model_dummy_final.fit(features_train, target_train_final)"
   ]
  },
  {
   "cell_type": "code",
   "execution_count": 118,
   "metadata": {},
   "outputs": [],
   "source": [
    "dummy_rougher = model_dummy_rougher.predict(features_test)\n",
    "dummy_final = model_dummy_final.predict(features_test)"
   ]
  },
  {
   "cell_type": "code",
   "execution_count": 119,
   "metadata": {},
   "outputs": [],
   "source": [
    "smape_rf_dummy_rougher = smape(target_test_rougher, dummy_rougher)\n",
    "smape_rf_dummy_final = smape(target_test_final, dummy_final)"
   ]
  },
  {
   "cell_type": "code",
   "execution_count": 120,
   "metadata": {},
   "outputs": [],
   "source": [
    "total_smape_dummy = total_smape(smape_rf_dummy_rougher, smape_rf_dummy_final)"
   ]
  },
  {
   "cell_type": "code",
   "execution_count": 121,
   "metadata": {},
   "outputs": [
    {
     "name": "stdout",
     "output_type": "stream",
     "text": [
      "Для dummy-модели на тестовой выборке:\n",
      "sMAPE для признака rougher.output.recovery: 8.50\n",
      "sMAPE для признака final.output.recovery: 9.73\n",
      "Итоговое sMAPE: 9.42\n"
     ]
    }
   ],
   "source": [
    "print('Для dummy-модели на тестовой выборке:')\n",
    "print('sMAPE для признака rougher.output.recovery: {:.2f}'.format(smape_rf_dummy_rougher))\n",
    "print('sMAPE для признака final.output.recovery: {:.2f}'.format(smape_rf_dummy_final))\n",
    "print('Итоговое sMAPE: {:.2f}'.format(total_smape_dummy))"
   ]
  },
  {
   "cell_type": "markdown",
   "metadata": {},
   "source": [
    "**Вывод**\n",
    "\n",
    "При проверке на адекватность модель Случайное дерево показала себя рабочей:\n",
    "    \n",
    "- итоговое sMAPE у dummy-модели выше на 4.9 % по сравнению с тестовой выборкой\n",
    "    \n",
    "- у rougher.output.recovery  sMAPE у dummy-модели на 6.65% выше, чем в тестовой выборке\n",
    "    \n",
    "- у final.output.recovery sMAPE у dummy-модели на 4.62% выше, чем в тестовой выборке\n"
   ]
  },
  {
   "cell_type": "markdown",
   "metadata": {},
   "source": [
    "## Общий вывод ##\n",
    "\n",
    "- Во время работы над проектом были проанализированы \"сырые\" данные о процессе золотодобычи: иходные данные, обучающая выборка и тестовая выборка.\n",
    "\n",
    "- Данные были проверены на наличие пропусков, полных дубликатов. Пропуски были заменены на соседние по времени данные (это допускалось заданием). Также было удалено 80 % данных выбросов (со значением 0).\n",
    "\n",
    "- В тестовой выборке не хватало 34 признаков (в том числе целевых). Для обучения моделей целевые признаки для тестовой выборки были извлечены из исходных данных (по датам).\n",
    "\n",
    "- Проанализированы данные о концентрации веществ на разных этапах: концентрация золота увеличивалась, концентрация серебра в финальном концентрате снизилась, концентрат свинца после 2-х очисток практически не менялся.\n",
    "\n",
    "- Проанализированы размеры гранул сырья на обучающей и тестовой выборках: распределение практически одинаковое и после флотации оно стало практически нормальным.\n",
    "\n",
    "- Были обучены 3 модели для прогнозирования 2-х параметров (эффективность обогащения чернового концентрата и эффективность обогащения финального концентрата): линейная регрессия, случайный лес и решающее дерево. Для последних двух моеделй были подобраны параметры с помощью GridSearchCV.\n",
    "\n",
    "- Лучший показатель был у модели Случайный лес.\n",
    "\n",
    "- Модель была проверена на тестовой выборке и результаты я сравнила с константной моделью. \n",
    "\n",
    "Я могу рекомендовать для внедрения модель **Случайное дерево** со следующими  параметрами: \n",
    "- для rougher.output.recovery: 155 деревьев с глубиной 21 и 10 листьями\n",
    "\n",
    "- для final.output.recovery: 155 деревьев с глубиной 21 и 55 листьями \n",
    "    \n",
    "Хотя безусловно модель можно настроить еще тоньше для получения меньшего количества ошибок "
   ]
  }
 ],
 "metadata": {
  "ExecuteTimeLog": [
   {
    "duration": 1297,
    "start_time": "2021-11-08T13:12:03.191Z"
   },
   {
    "duration": 26,
    "start_time": "2021-11-08T13:25:46.707Z"
   },
   {
    "duration": 293,
    "start_time": "2021-11-08T13:51:20.076Z"
   },
   {
    "duration": 85,
    "start_time": "2021-11-08T13:52:08.359Z"
   },
   {
    "duration": 385,
    "start_time": "2021-11-08T13:53:04.334Z"
   },
   {
    "duration": 18,
    "start_time": "2021-11-08T14:27:35.502Z"
   },
   {
    "duration": 239,
    "start_time": "2021-11-08T14:28:53.190Z"
   },
   {
    "duration": 9,
    "start_time": "2021-11-08T14:49:47.307Z"
   },
   {
    "duration": 120,
    "start_time": "2021-11-08T14:49:57.160Z"
   },
   {
    "duration": 117,
    "start_time": "2021-11-08T15:06:09.636Z"
   },
   {
    "duration": 12,
    "start_time": "2021-11-08T15:09:04.577Z"
   },
   {
    "duration": 135,
    "start_time": "2021-11-08T15:10:14.907Z"
   },
   {
    "duration": 18,
    "start_time": "2021-11-08T15:13:07.305Z"
   },
   {
    "duration": 20,
    "start_time": "2021-11-08T15:14:57.430Z"
   },
   {
    "duration": 128,
    "start_time": "2021-11-08T15:15:13.352Z"
   },
   {
    "duration": 7,
    "start_time": "2021-11-08T15:15:14.416Z"
   },
   {
    "duration": 22,
    "start_time": "2021-11-08T15:15:15.299Z"
   },
   {
    "duration": 20,
    "start_time": "2021-11-08T15:35:32.426Z"
   },
   {
    "duration": 22,
    "start_time": "2021-11-08T15:35:34.456Z"
   },
   {
    "duration": 265,
    "start_time": "2021-11-08T15:35:42.488Z"
   },
   {
    "duration": 11,
    "start_time": "2021-11-08T15:35:43.601Z"
   },
   {
    "duration": 83,
    "start_time": "2021-11-08T15:35:44.344Z"
   },
   {
    "duration": 3,
    "start_time": "2021-11-08T17:32:06.190Z"
   },
   {
    "duration": 539,
    "start_time": "2021-11-08T17:32:51.401Z"
   },
   {
    "duration": 344,
    "start_time": "2021-11-08T17:33:07.452Z"
   },
   {
    "duration": 1179,
    "start_time": "2021-11-08T17:34:27.043Z"
   },
   {
    "duration": 4,
    "start_time": "2021-11-08T17:35:38.388Z"
   },
   {
    "duration": 5,
    "start_time": "2021-11-08T17:36:46.622Z"
   },
   {
    "duration": 5,
    "start_time": "2021-11-08T17:37:58.877Z"
   },
   {
    "duration": 2,
    "start_time": "2021-11-08T17:42:06.795Z"
   },
   {
    "duration": 4,
    "start_time": "2021-11-08T17:42:07.649Z"
   },
   {
    "duration": 1228,
    "start_time": "2021-11-08T17:43:48.961Z"
   },
   {
    "duration": 406,
    "start_time": "2021-11-08T17:43:52.911Z"
   },
   {
    "duration": 86,
    "start_time": "2021-11-08T17:43:53.986Z"
   },
   {
    "duration": 397,
    "start_time": "2021-11-08T17:43:54.521Z"
   },
   {
    "duration": 18,
    "start_time": "2021-11-08T17:43:55.767Z"
   },
   {
    "duration": 23,
    "start_time": "2021-11-08T17:43:56.590Z"
   },
   {
    "duration": 257,
    "start_time": "2021-11-08T17:43:57.391Z"
   },
   {
    "duration": 10,
    "start_time": "2021-11-08T17:43:58.399Z"
   },
   {
    "duration": 120,
    "start_time": "2021-11-08T17:43:59.021Z"
   },
   {
    "duration": 11,
    "start_time": "2021-11-08T17:44:00.649Z"
   },
   {
    "duration": 19,
    "start_time": "2021-11-08T17:44:03.166Z"
   },
   {
    "duration": 142,
    "start_time": "2021-11-08T17:44:06.040Z"
   },
   {
    "duration": 7,
    "start_time": "2021-11-08T17:44:06.776Z"
   },
   {
    "duration": 29,
    "start_time": "2021-11-08T17:44:07.743Z"
   },
   {
    "duration": 20,
    "start_time": "2021-11-08T17:44:14.610Z"
   },
   {
    "duration": 18,
    "start_time": "2021-11-08T17:44:16.248Z"
   },
   {
    "duration": 248,
    "start_time": "2021-11-08T17:44:18.778Z"
   },
   {
    "duration": 11,
    "start_time": "2021-11-08T17:44:20.112Z"
   },
   {
    "duration": 85,
    "start_time": "2021-11-08T17:44:20.662Z"
   },
   {
    "duration": 3,
    "start_time": "2021-11-08T17:44:22.685Z"
   },
   {
    "duration": 10,
    "start_time": "2021-11-08T17:44:23.749Z"
   },
   {
    "duration": 4,
    "start_time": "2021-11-08T17:44:28.110Z"
   },
   {
    "duration": 4,
    "start_time": "2021-11-08T17:44:29.985Z"
   },
   {
    "duration": 2,
    "start_time": "2021-11-08T17:44:32.076Z"
   },
   {
    "duration": 4,
    "start_time": "2021-11-08T17:44:33.281Z"
   },
   {
    "duration": 6,
    "start_time": "2021-11-08T18:02:58.136Z"
   },
   {
    "duration": 519,
    "start_time": "2021-11-08T18:39:41.943Z"
   },
   {
    "duration": 5,
    "start_time": "2021-11-08T18:40:27.951Z"
   },
   {
    "duration": 8,
    "start_time": "2021-11-08T19:06:33.094Z"
   },
   {
    "duration": 7,
    "start_time": "2021-11-08T19:06:47.015Z"
   },
   {
    "duration": 11,
    "start_time": "2021-11-08T19:06:59.647Z"
   },
   {
    "duration": 1509,
    "start_time": "2021-11-10T10:35:32.981Z"
   },
   {
    "duration": 326,
    "start_time": "2021-11-10T10:35:34.493Z"
   },
   {
    "duration": 96,
    "start_time": "2021-11-10T10:35:34.823Z"
   },
   {
    "duration": 428,
    "start_time": "2021-11-10T10:35:34.921Z"
   },
   {
    "duration": 24,
    "start_time": "2021-11-10T10:35:35.351Z"
   },
   {
    "duration": 58,
    "start_time": "2021-11-10T10:35:35.377Z"
   },
   {
    "duration": 363,
    "start_time": "2021-11-10T10:35:35.438Z"
   },
   {
    "duration": 20,
    "start_time": "2021-11-10T10:35:35.803Z"
   },
   {
    "duration": 195,
    "start_time": "2021-11-10T10:35:35.829Z"
   },
   {
    "duration": 17,
    "start_time": "2021-11-10T10:35:36.028Z"
   },
   {
    "duration": 29,
    "start_time": "2021-11-10T10:35:36.048Z"
   },
   {
    "duration": 229,
    "start_time": "2021-11-10T10:35:36.080Z"
   },
   {
    "duration": 8,
    "start_time": "2021-11-10T10:35:36.322Z"
   },
   {
    "duration": 35,
    "start_time": "2021-11-10T10:35:36.333Z"
   },
   {
    "duration": 54,
    "start_time": "2021-11-10T10:35:36.370Z"
   },
   {
    "duration": 26,
    "start_time": "2021-11-10T10:35:36.427Z"
   },
   {
    "duration": 496,
    "start_time": "2021-11-10T10:35:36.455Z"
   },
   {
    "duration": 12,
    "start_time": "2021-11-10T10:35:36.953Z"
   },
   {
    "duration": 178,
    "start_time": "2021-11-10T10:35:36.967Z"
   },
   {
    "duration": 4,
    "start_time": "2021-11-10T10:35:37.148Z"
   },
   {
    "duration": 13,
    "start_time": "2021-11-10T10:35:37.155Z"
   },
   {
    "duration": 6,
    "start_time": "2021-11-10T10:35:37.170Z"
   },
   {
    "duration": 6,
    "start_time": "2021-11-10T10:35:37.179Z"
   },
   {
    "duration": 6,
    "start_time": "2021-11-10T11:01:24.189Z"
   },
   {
    "duration": 426,
    "start_time": "2021-11-10T11:01:33.377Z"
   },
   {
    "duration": 6,
    "start_time": "2021-11-10T11:01:39.292Z"
   },
   {
    "duration": 6,
    "start_time": "2021-11-10T11:01:46.913Z"
   },
   {
    "duration": 6,
    "start_time": "2021-11-10T11:02:01.539Z"
   },
   {
    "duration": 5,
    "start_time": "2021-11-10T11:02:10.292Z"
   },
   {
    "duration": 5,
    "start_time": "2021-11-10T11:02:11.791Z"
   },
   {
    "duration": 300,
    "start_time": "2021-11-10T11:42:37.910Z"
   },
   {
    "duration": 8,
    "start_time": "2021-11-10T11:43:48.770Z"
   },
   {
    "duration": 6,
    "start_time": "2021-11-10T12:50:21.965Z"
   },
   {
    "duration": 5,
    "start_time": "2021-11-10T12:50:23.025Z"
   },
   {
    "duration": 6,
    "start_time": "2021-11-10T12:50:32.764Z"
   },
   {
    "duration": 6,
    "start_time": "2021-11-10T12:51:17.847Z"
   },
   {
    "duration": 4,
    "start_time": "2021-11-10T14:52:06.473Z"
   },
   {
    "duration": 30,
    "start_time": "2021-11-10T14:52:23.931Z"
   },
   {
    "duration": 4,
    "start_time": "2021-11-10T14:52:47.138Z"
   },
   {
    "duration": 29,
    "start_time": "2021-11-10T14:52:47.740Z"
   },
   {
    "duration": 30,
    "start_time": "2021-11-10T14:56:56.910Z"
   },
   {
    "duration": 21,
    "start_time": "2021-11-10T14:58:06.729Z"
   },
   {
    "duration": 29,
    "start_time": "2021-11-10T14:58:07.319Z"
   },
   {
    "duration": 1496,
    "start_time": "2021-11-10T14:59:22.526Z"
   },
   {
    "duration": 346,
    "start_time": "2021-11-10T14:59:24.025Z"
   },
   {
    "duration": 98,
    "start_time": "2021-11-10T14:59:24.374Z"
   },
   {
    "duration": 448,
    "start_time": "2021-11-10T14:59:24.475Z"
   },
   {
    "duration": 25,
    "start_time": "2021-11-10T14:59:24.925Z"
   },
   {
    "duration": 34,
    "start_time": "2021-11-10T14:59:24.953Z"
   },
   {
    "duration": 403,
    "start_time": "2021-11-10T14:59:24.990Z"
   },
   {
    "duration": 11,
    "start_time": "2021-11-10T14:59:25.395Z"
   },
   {
    "duration": 189,
    "start_time": "2021-11-10T14:59:25.425Z"
   },
   {
    "duration": 16,
    "start_time": "2021-11-10T14:59:25.621Z"
   },
   {
    "duration": 29,
    "start_time": "2021-11-10T14:59:25.640Z"
   },
   {
    "duration": 252,
    "start_time": "2021-11-10T14:59:25.672Z"
   },
   {
    "duration": 7,
    "start_time": "2021-11-10T14:59:25.927Z"
   },
   {
    "duration": 41,
    "start_time": "2021-11-10T14:59:25.937Z"
   },
   {
    "duration": 61,
    "start_time": "2021-11-10T14:59:25.981Z"
   },
   {
    "duration": 27,
    "start_time": "2021-11-10T14:59:26.044Z"
   },
   {
    "duration": 420,
    "start_time": "2021-11-10T14:59:26.074Z"
   },
   {
    "duration": 28,
    "start_time": "2021-11-10T14:59:26.497Z"
   },
   {
    "duration": 185,
    "start_time": "2021-11-10T14:59:26.527Z"
   },
   {
    "duration": 10,
    "start_time": "2021-11-10T14:59:26.714Z"
   },
   {
    "duration": 18,
    "start_time": "2021-11-10T14:59:26.727Z"
   },
   {
    "duration": 5,
    "start_time": "2021-11-10T14:59:26.748Z"
   },
   {
    "duration": 9,
    "start_time": "2021-11-10T14:59:26.755Z"
   },
   {
    "duration": 10,
    "start_time": "2021-11-10T14:59:26.766Z"
   },
   {
    "duration": 45,
    "start_time": "2021-11-10T14:59:26.779Z"
   },
   {
    "duration": 22,
    "start_time": "2021-11-10T14:59:26.826Z"
   },
   {
    "duration": 30,
    "start_time": "2021-11-10T14:59:26.852Z"
   },
   {
    "duration": 16,
    "start_time": "2021-11-10T15:00:32.132Z"
   },
   {
    "duration": 8,
    "start_time": "2021-11-10T15:00:53.524Z"
   },
   {
    "duration": 15,
    "start_time": "2021-11-10T15:00:54.701Z"
   },
   {
    "duration": 34,
    "start_time": "2021-11-10T15:01:03.053Z"
   },
   {
    "duration": 24,
    "start_time": "2021-11-10T15:01:09.293Z"
   },
   {
    "duration": 680,
    "start_time": "2021-11-10T16:29:24.181Z"
   },
   {
    "duration": 97,
    "start_time": "2021-11-10T16:37:59.925Z"
   },
   {
    "duration": 90,
    "start_time": "2021-11-10T16:38:13.564Z"
   },
   {
    "duration": 6294,
    "start_time": "2021-11-10T16:38:27.930Z"
   },
   {
    "duration": 5365,
    "start_time": "2021-11-10T16:38:42.284Z"
   },
   {
    "duration": 5780,
    "start_time": "2021-11-10T16:40:43.333Z"
   },
   {
    "duration": 5487,
    "start_time": "2021-11-10T16:43:24.149Z"
   },
   {
    "duration": 2673,
    "start_time": "2021-11-10T16:46:04.900Z"
   },
   {
    "duration": 586,
    "start_time": "2021-11-10T16:49:16.419Z"
   },
   {
    "duration": 3155,
    "start_time": "2021-11-10T16:51:07.306Z"
   },
   {
    "duration": 2627,
    "start_time": "2021-11-10T16:51:36.695Z"
   },
   {
    "duration": 2631,
    "start_time": "2021-11-10T16:51:50.657Z"
   },
   {
    "duration": 1972,
    "start_time": "2021-11-10T16:55:53.467Z"
   },
   {
    "duration": 1838,
    "start_time": "2021-11-10T16:56:08.766Z"
   },
   {
    "duration": 2151,
    "start_time": "2021-11-10T16:56:22.842Z"
   },
   {
    "duration": 2432,
    "start_time": "2021-11-10T16:57:09.991Z"
   },
   {
    "duration": 2546,
    "start_time": "2021-11-10T16:57:33.603Z"
   },
   {
    "duration": 2579,
    "start_time": "2021-11-10T17:00:13.335Z"
   },
   {
    "duration": 2295,
    "start_time": "2021-11-10T17:00:31.895Z"
   },
   {
    "duration": 2474,
    "start_time": "2021-11-10T17:00:47.891Z"
   },
   {
    "duration": 10,
    "start_time": "2021-11-10T17:06:27.777Z"
   },
   {
    "duration": 309,
    "start_time": "2021-11-10T17:11:16.674Z"
   },
   {
    "duration": 10,
    "start_time": "2021-11-10T17:11:25.365Z"
   },
   {
    "duration": 2356,
    "start_time": "2021-11-10T17:12:40.708Z"
   },
   {
    "duration": 9493,
    "start_time": "2021-11-10T17:14:04.933Z"
   },
   {
    "duration": 2230,
    "start_time": "2021-11-10T17:14:36.706Z"
   },
   {
    "duration": 3430,
    "start_time": "2021-11-10T17:15:10.531Z"
   },
   {
    "duration": 2629,
    "start_time": "2021-11-10T17:15:26.651Z"
   },
   {
    "duration": 9,
    "start_time": "2021-11-10T17:16:07.397Z"
   },
   {
    "duration": 2435,
    "start_time": "2021-11-10T17:20:25.048Z"
   },
   {
    "duration": 2513,
    "start_time": "2021-11-10T17:20:48.348Z"
   },
   {
    "duration": 9,
    "start_time": "2021-11-10T17:21:50.400Z"
   },
   {
    "duration": 1345,
    "start_time": "2021-11-10T18:10:19.980Z"
   },
   {
    "duration": 1575,
    "start_time": "2021-11-10T18:11:02.379Z"
   },
   {
    "duration": 1339,
    "start_time": "2021-11-10T18:11:18.211Z"
   },
   {
    "duration": 1355,
    "start_time": "2021-11-10T18:11:28.133Z"
   },
   {
    "duration": 1562,
    "start_time": "2021-11-10T18:12:59.328Z"
   },
   {
    "duration": 2020,
    "start_time": "2021-11-10T18:14:42.738Z"
   },
   {
    "duration": 2166,
    "start_time": "2021-11-10T18:14:58.619Z"
   },
   {
    "duration": 1818,
    "start_time": "2021-11-10T18:15:08.222Z"
   },
   {
    "duration": 1744,
    "start_time": "2021-11-10T18:17:08.926Z"
   },
   {
    "duration": 1555,
    "start_time": "2021-11-10T18:17:31.103Z"
   },
   {
    "duration": 1803,
    "start_time": "2021-11-10T18:36:08.888Z"
   },
   {
    "duration": 1721,
    "start_time": "2021-11-10T18:37:47.406Z"
   },
   {
    "duration": 1708,
    "start_time": "2021-11-10T18:38:06.462Z"
   },
   {
    "duration": 1017,
    "start_time": "2021-11-10T18:38:31.105Z"
   },
   {
    "duration": 1273,
    "start_time": "2021-11-10T18:38:43.484Z"
   },
   {
    "duration": 1560,
    "start_time": "2021-11-10T18:38:52.130Z"
   },
   {
    "duration": 278,
    "start_time": "2021-11-10T19:01:40.670Z"
   },
   {
    "duration": 12882,
    "start_time": "2021-11-10T19:01:55.470Z"
   },
   {
    "duration": 5,
    "start_time": "2021-11-10T19:02:23.486Z"
   },
   {
    "duration": 374,
    "start_time": "2021-11-10T19:11:05.031Z"
   },
   {
    "duration": 5,
    "start_time": "2021-11-10T19:11:13.077Z"
   },
   {
    "duration": 5,
    "start_time": "2021-11-10T19:13:18.635Z"
   },
   {
    "duration": 2129,
    "start_time": "2021-11-10T19:15:52.759Z"
   },
   {
    "duration": 516,
    "start_time": "2021-11-10T19:15:54.892Z"
   },
   {
    "duration": 103,
    "start_time": "2021-11-10T19:15:55.412Z"
   },
   {
    "duration": 466,
    "start_time": "2021-11-10T19:15:55.519Z"
   },
   {
    "duration": 37,
    "start_time": "2021-11-10T19:15:55.988Z"
   },
   {
    "duration": 47,
    "start_time": "2021-11-10T19:15:56.028Z"
   },
   {
    "duration": 416,
    "start_time": "2021-11-10T19:15:56.078Z"
   },
   {
    "duration": 11,
    "start_time": "2021-11-10T19:15:56.497Z"
   },
   {
    "duration": 184,
    "start_time": "2021-11-10T19:15:56.524Z"
   },
   {
    "duration": 24,
    "start_time": "2021-11-10T19:15:56.711Z"
   },
   {
    "duration": 29,
    "start_time": "2021-11-10T19:15:56.737Z"
   },
   {
    "duration": 235,
    "start_time": "2021-11-10T19:15:56.769Z"
   },
   {
    "duration": 16,
    "start_time": "2021-11-10T19:15:57.007Z"
   },
   {
    "duration": 37,
    "start_time": "2021-11-10T19:15:57.025Z"
   },
   {
    "duration": 28,
    "start_time": "2021-11-10T19:15:57.064Z"
   },
   {
    "duration": 25,
    "start_time": "2021-11-10T19:15:57.124Z"
   },
   {
    "duration": 402,
    "start_time": "2021-11-10T19:15:57.151Z"
   },
   {
    "duration": 13,
    "start_time": "2021-11-10T19:15:57.555Z"
   },
   {
    "duration": 186,
    "start_time": "2021-11-10T19:15:57.571Z"
   },
   {
    "duration": 4,
    "start_time": "2021-11-10T19:15:57.760Z"
   },
   {
    "duration": 14,
    "start_time": "2021-11-10T19:15:57.767Z"
   },
   {
    "duration": 6,
    "start_time": "2021-11-10T19:15:57.783Z"
   },
   {
    "duration": 33,
    "start_time": "2021-11-10T19:15:57.791Z"
   },
   {
    "duration": 7,
    "start_time": "2021-11-10T19:15:57.827Z"
   },
   {
    "duration": 11,
    "start_time": "2021-11-10T19:15:57.837Z"
   },
   {
    "duration": 24,
    "start_time": "2021-11-10T19:15:57.850Z"
   },
   {
    "duration": 2480,
    "start_time": "2021-11-10T19:15:57.879Z"
   },
   {
    "duration": 11,
    "start_time": "2021-11-10T19:16:00.362Z"
   },
   {
    "duration": 2391,
    "start_time": "2021-11-10T19:16:00.375Z"
   },
   {
    "duration": 11,
    "start_time": "2021-11-10T19:16:02.769Z"
   },
   {
    "duration": 2612,
    "start_time": "2021-11-10T19:16:02.783Z"
   },
   {
    "duration": 24,
    "start_time": "2021-11-10T19:16:05.398Z"
   },
   {
    "duration": 1538,
    "start_time": "2021-11-10T19:16:05.426Z"
   },
   {
    "duration": 1446,
    "start_time": "2021-11-10T19:16:06.967Z"
   },
   {
    "duration": 6,
    "start_time": "2021-11-10T19:16:08.423Z"
   },
   {
    "duration": 8,
    "start_time": "2021-11-10T19:16:08.432Z"
   },
   {
    "duration": 7,
    "start_time": "2021-11-10T19:16:08.442Z"
   },
   {
    "duration": 9,
    "start_time": "2021-11-10T19:16:08.451Z"
   },
   {
    "duration": 585,
    "start_time": "2021-11-10T19:21:13.227Z"
   },
   {
    "duration": 2586,
    "start_time": "2021-11-10T19:21:31.455Z"
   },
   {
    "duration": 2720,
    "start_time": "2021-11-10T19:21:57.069Z"
   },
   {
    "duration": 2069,
    "start_time": "2021-11-10T19:22:19.558Z"
   },
   {
    "duration": 1931,
    "start_time": "2021-11-10T19:22:59.161Z"
   },
   {
    "duration": 2059,
    "start_time": "2021-11-10T19:23:08.096Z"
   },
   {
    "duration": 2503,
    "start_time": "2021-11-10T19:23:27.968Z"
   },
   {
    "duration": 2606,
    "start_time": "2021-11-10T19:23:39.211Z"
   },
   {
    "duration": 1509,
    "start_time": "2021-11-11T07:42:50.758Z"
   },
   {
    "duration": 346,
    "start_time": "2021-11-11T07:42:52.270Z"
   },
   {
    "duration": 97,
    "start_time": "2021-11-11T07:42:52.619Z"
   },
   {
    "duration": 456,
    "start_time": "2021-11-11T07:42:52.719Z"
   },
   {
    "duration": 23,
    "start_time": "2021-11-11T07:42:53.177Z"
   },
   {
    "duration": 33,
    "start_time": "2021-11-11T07:42:53.203Z"
   },
   {
    "duration": 391,
    "start_time": "2021-11-11T07:42:53.238Z"
   },
   {
    "duration": 11,
    "start_time": "2021-11-11T07:42:53.632Z"
   },
   {
    "duration": 209,
    "start_time": "2021-11-11T07:42:53.647Z"
   },
   {
    "duration": 21,
    "start_time": "2021-11-11T07:42:53.859Z"
   },
   {
    "duration": 28,
    "start_time": "2021-11-11T07:42:53.882Z"
   },
   {
    "duration": 233,
    "start_time": "2021-11-11T07:42:53.912Z"
   },
   {
    "duration": 20,
    "start_time": "2021-11-11T07:42:54.148Z"
   },
   {
    "duration": 38,
    "start_time": "2021-11-11T07:42:54.171Z"
   },
   {
    "duration": 30,
    "start_time": "2021-11-11T07:42:54.211Z"
   },
   {
    "duration": 25,
    "start_time": "2021-11-11T07:42:54.268Z"
   },
   {
    "duration": 404,
    "start_time": "2021-11-11T07:42:54.296Z"
   },
   {
    "duration": 12,
    "start_time": "2021-11-11T07:42:54.702Z"
   },
   {
    "duration": 184,
    "start_time": "2021-11-11T07:42:54.716Z"
   },
   {
    "duration": 4,
    "start_time": "2021-11-11T07:42:54.902Z"
   },
   {
    "duration": 14,
    "start_time": "2021-11-11T07:42:54.908Z"
   },
   {
    "duration": 5,
    "start_time": "2021-11-11T07:42:54.924Z"
   },
   {
    "duration": 37,
    "start_time": "2021-11-11T07:42:54.931Z"
   },
   {
    "duration": 6,
    "start_time": "2021-11-11T07:42:54.970Z"
   },
   {
    "duration": 7,
    "start_time": "2021-11-11T07:42:54.979Z"
   },
   {
    "duration": 24,
    "start_time": "2021-11-11T07:42:54.988Z"
   },
   {
    "duration": 2368,
    "start_time": "2021-11-11T07:42:55.016Z"
   },
   {
    "duration": 9,
    "start_time": "2021-11-11T07:42:57.387Z"
   },
   {
    "duration": 2285,
    "start_time": "2021-11-11T07:42:57.398Z"
   },
   {
    "duration": 8,
    "start_time": "2021-11-11T07:42:59.686Z"
   },
   {
    "duration": 2497,
    "start_time": "2021-11-11T07:42:59.696Z"
   },
   {
    "duration": 9,
    "start_time": "2021-11-11T07:43:02.196Z"
   },
   {
    "duration": 1560,
    "start_time": "2021-11-11T07:43:02.207Z"
   },
   {
    "duration": 1388,
    "start_time": "2021-11-11T07:43:03.769Z"
   },
   {
    "duration": 4,
    "start_time": "2021-11-11T07:43:05.168Z"
   },
   {
    "duration": 11,
    "start_time": "2021-11-11T07:43:05.175Z"
   },
   {
    "duration": 7,
    "start_time": "2021-11-11T07:43:05.189Z"
   },
   {
    "duration": 10,
    "start_time": "2021-11-11T07:43:05.198Z"
   },
   {
    "duration": 2388,
    "start_time": "2021-11-11T07:43:05.210Z"
   },
   {
    "duration": 2257,
    "start_time": "2021-11-11T09:47:24.224Z"
   },
   {
    "duration": 2342,
    "start_time": "2021-11-11T09:47:35.792Z"
   },
   {
    "duration": 2191,
    "start_time": "2021-11-11T09:48:00.244Z"
   },
   {
    "duration": 2423,
    "start_time": "2021-11-11T09:48:12.514Z"
   },
   {
    "duration": 7,
    "start_time": "2021-11-11T10:22:10.280Z"
   },
   {
    "duration": 1465,
    "start_time": "2021-11-11T10:26:28.797Z"
   },
   {
    "duration": 346,
    "start_time": "2021-11-11T10:26:30.267Z"
   },
   {
    "duration": 94,
    "start_time": "2021-11-11T10:26:30.616Z"
   },
   {
    "duration": 450,
    "start_time": "2021-11-11T10:26:30.713Z"
   },
   {
    "duration": 26,
    "start_time": "2021-11-11T10:26:31.165Z"
   },
   {
    "duration": 33,
    "start_time": "2021-11-11T10:26:31.193Z"
   },
   {
    "duration": 388,
    "start_time": "2021-11-11T10:26:31.228Z"
   },
   {
    "duration": 10,
    "start_time": "2021-11-11T10:26:31.618Z"
   },
   {
    "duration": 202,
    "start_time": "2021-11-11T10:26:31.632Z"
   },
   {
    "duration": 34,
    "start_time": "2021-11-11T10:26:31.837Z"
   },
   {
    "duration": 30,
    "start_time": "2021-11-11T10:26:31.874Z"
   },
   {
    "duration": 240,
    "start_time": "2021-11-11T10:26:31.907Z"
   },
   {
    "duration": 18,
    "start_time": "2021-11-11T10:26:32.150Z"
   },
   {
    "duration": 39,
    "start_time": "2021-11-11T10:26:32.171Z"
   },
   {
    "duration": 56,
    "start_time": "2021-11-11T10:26:32.214Z"
   },
   {
    "duration": 27,
    "start_time": "2021-11-11T10:26:32.273Z"
   },
   {
    "duration": 423,
    "start_time": "2021-11-11T10:26:32.303Z"
   },
   {
    "duration": 15,
    "start_time": "2021-11-11T10:26:32.729Z"
   },
   {
    "duration": 186,
    "start_time": "2021-11-11T10:26:32.747Z"
   },
   {
    "duration": 4,
    "start_time": "2021-11-11T10:26:32.937Z"
   },
   {
    "duration": 31,
    "start_time": "2021-11-11T10:26:32.944Z"
   },
   {
    "duration": 16,
    "start_time": "2021-11-11T10:26:32.978Z"
   },
   {
    "duration": 8,
    "start_time": "2021-11-11T10:26:32.997Z"
   },
   {
    "duration": 9,
    "start_time": "2021-11-11T10:26:33.008Z"
   },
   {
    "duration": 9,
    "start_time": "2021-11-11T10:26:33.020Z"
   },
   {
    "duration": 49,
    "start_time": "2021-11-11T10:26:33.032Z"
   },
   {
    "duration": 2334,
    "start_time": "2021-11-11T10:26:33.086Z"
   },
   {
    "duration": 9,
    "start_time": "2021-11-11T10:26:35.423Z"
   },
   {
    "duration": 2271,
    "start_time": "2021-11-11T10:26:35.435Z"
   },
   {
    "duration": 9,
    "start_time": "2021-11-11T10:26:37.708Z"
   },
   {
    "duration": 2480,
    "start_time": "2021-11-11T10:26:37.719Z"
   },
   {
    "duration": 9,
    "start_time": "2021-11-11T10:26:40.201Z"
   },
   {
    "duration": 1526,
    "start_time": "2021-11-11T10:26:40.212Z"
   },
   {
    "duration": 1402,
    "start_time": "2021-11-11T10:26:41.740Z"
   },
   {
    "duration": 5,
    "start_time": "2021-11-11T10:26:43.145Z"
   },
   {
    "duration": 5,
    "start_time": "2021-11-11T10:26:43.168Z"
   },
   {
    "duration": 12,
    "start_time": "2021-11-11T10:26:43.175Z"
   },
   {
    "duration": 15,
    "start_time": "2021-11-11T10:26:43.189Z"
   },
   {
    "duration": 1422,
    "start_time": "2021-11-11T10:55:25.317Z"
   },
   {
    "duration": 339,
    "start_time": "2021-11-11T10:55:26.742Z"
   },
   {
    "duration": 97,
    "start_time": "2021-11-11T10:55:27.084Z"
   },
   {
    "duration": 453,
    "start_time": "2021-11-11T10:55:27.184Z"
   },
   {
    "duration": 32,
    "start_time": "2021-11-11T10:55:27.640Z"
   },
   {
    "duration": 34,
    "start_time": "2021-11-11T10:55:27.674Z"
   },
   {
    "duration": 399,
    "start_time": "2021-11-11T10:55:27.711Z"
   },
   {
    "duration": 12,
    "start_time": "2021-11-11T10:55:28.112Z"
   },
   {
    "duration": 209,
    "start_time": "2021-11-11T10:55:28.128Z"
   },
   {
    "duration": 31,
    "start_time": "2021-11-11T10:55:28.340Z"
   },
   {
    "duration": 32,
    "start_time": "2021-11-11T10:55:28.373Z"
   },
   {
    "duration": 235,
    "start_time": "2021-11-11T10:55:28.407Z"
   },
   {
    "duration": 8,
    "start_time": "2021-11-11T10:55:28.644Z"
   },
   {
    "duration": 48,
    "start_time": "2021-11-11T10:55:28.654Z"
   },
   {
    "duration": 29,
    "start_time": "2021-11-11T10:55:28.704Z"
   },
   {
    "duration": 52,
    "start_time": "2021-11-11T10:55:28.735Z"
   },
   {
    "duration": 411,
    "start_time": "2021-11-11T10:55:28.789Z"
   },
   {
    "duration": 12,
    "start_time": "2021-11-11T10:55:29.203Z"
   },
   {
    "duration": 185,
    "start_time": "2021-11-11T10:55:29.218Z"
   },
   {
    "duration": 5,
    "start_time": "2021-11-11T10:55:29.406Z"
   },
   {
    "duration": 13,
    "start_time": "2021-11-11T10:55:29.413Z"
   },
   {
    "duration": 6,
    "start_time": "2021-11-11T10:55:29.429Z"
   },
   {
    "duration": 30,
    "start_time": "2021-11-11T10:55:29.437Z"
   },
   {
    "duration": 7,
    "start_time": "2021-11-11T10:55:29.469Z"
   },
   {
    "duration": 8,
    "start_time": "2021-11-11T10:55:29.478Z"
   },
   {
    "duration": 28,
    "start_time": "2021-11-11T10:55:29.488Z"
   },
   {
    "duration": 2486,
    "start_time": "2021-11-11T10:55:29.521Z"
   },
   {
    "duration": 9,
    "start_time": "2021-11-11T10:55:32.009Z"
   },
   {
    "duration": 2385,
    "start_time": "2021-11-11T10:55:32.020Z"
   },
   {
    "duration": 8,
    "start_time": "2021-11-11T10:55:34.408Z"
   },
   {
    "duration": 2549,
    "start_time": "2021-11-11T10:55:34.418Z"
   },
   {
    "duration": 11,
    "start_time": "2021-11-11T10:55:36.970Z"
   },
   {
    "duration": 1596,
    "start_time": "2021-11-11T10:55:36.983Z"
   },
   {
    "duration": 1413,
    "start_time": "2021-11-11T10:55:38.582Z"
   },
   {
    "duration": 5,
    "start_time": "2021-11-11T10:55:39.997Z"
   },
   {
    "duration": 14,
    "start_time": "2021-11-11T10:55:40.004Z"
   },
   {
    "duration": 9,
    "start_time": "2021-11-11T10:55:40.020Z"
   },
   {
    "duration": 14,
    "start_time": "2021-11-11T10:55:40.031Z"
   },
   {
    "duration": 2456,
    "start_time": "2021-11-11T10:55:40.047Z"
   },
   {
    "duration": 6,
    "start_time": "2021-11-11T10:55:42.505Z"
   },
   {
    "duration": 130,
    "start_time": "2021-11-11T11:26:30.241Z"
   },
   {
    "duration": 1431,
    "start_time": "2021-11-11T11:48:29.719Z"
   },
   {
    "duration": 342,
    "start_time": "2021-11-11T11:48:31.632Z"
   },
   {
    "duration": 94,
    "start_time": "2021-11-11T11:48:32.229Z"
   },
   {
    "duration": 445,
    "start_time": "2021-11-11T11:48:32.606Z"
   },
   {
    "duration": 27,
    "start_time": "2021-11-11T11:48:33.885Z"
   },
   {
    "duration": 34,
    "start_time": "2021-11-11T11:48:34.503Z"
   },
   {
    "duration": 385,
    "start_time": "2021-11-11T11:48:34.873Z"
   },
   {
    "duration": 9,
    "start_time": "2021-11-11T11:48:35.261Z"
   },
   {
    "duration": 182,
    "start_time": "2021-11-11T11:48:35.334Z"
   },
   {
    "duration": 16,
    "start_time": "2021-11-11T11:48:35.760Z"
   },
   {
    "duration": 29,
    "start_time": "2021-11-11T11:48:35.994Z"
   },
   {
    "duration": 206,
    "start_time": "2021-11-11T11:48:37.305Z"
   },
   {
    "duration": 9,
    "start_time": "2021-11-11T11:48:37.838Z"
   },
   {
    "duration": 37,
    "start_time": "2021-11-11T11:48:38.176Z"
   },
   {
    "duration": 31,
    "start_time": "2021-11-11T11:48:38.614Z"
   },
   {
    "duration": 26,
    "start_time": "2021-11-11T11:48:38.799Z"
   },
   {
    "duration": 379,
    "start_time": "2021-11-11T11:48:39.016Z"
   },
   {
    "duration": 12,
    "start_time": "2021-11-11T11:48:39.398Z"
   },
   {
    "duration": 156,
    "start_time": "2021-11-11T11:48:39.507Z"
   },
   {
    "duration": 4,
    "start_time": "2021-11-11T11:48:39.968Z"
   },
   {
    "duration": 10,
    "start_time": "2021-11-11T11:48:40.224Z"
   },
   {
    "duration": 6,
    "start_time": "2021-11-11T11:48:40.454Z"
   },
   {
    "duration": 6,
    "start_time": "2021-11-11T11:48:41.047Z"
   },
   {
    "duration": 6,
    "start_time": "2021-11-11T11:48:41.646Z"
   },
   {
    "duration": 6,
    "start_time": "2021-11-11T11:48:42.068Z"
   },
   {
    "duration": 21,
    "start_time": "2021-11-11T11:48:44.103Z"
   },
   {
    "duration": 2495,
    "start_time": "2021-11-11T11:48:47.393Z"
   },
   {
    "duration": 10,
    "start_time": "2021-11-11T11:48:49.890Z"
   },
   {
    "duration": 2351,
    "start_time": "2021-11-11T11:48:50.734Z"
   },
   {
    "duration": 10,
    "start_time": "2021-11-11T11:48:53.087Z"
   },
   {
    "duration": 2552,
    "start_time": "2021-11-11T11:48:53.099Z"
   },
   {
    "duration": 15,
    "start_time": "2021-11-11T11:48:55.653Z"
   },
   {
    "duration": 1578,
    "start_time": "2021-11-11T11:48:55.671Z"
   },
   {
    "duration": 1490,
    "start_time": "2021-11-11T11:48:57.252Z"
   },
   {
    "duration": 5,
    "start_time": "2021-11-11T11:48:58.745Z"
   },
   {
    "duration": 18,
    "start_time": "2021-11-11T11:48:58.753Z"
   },
   {
    "duration": 6,
    "start_time": "2021-11-11T11:48:59.252Z"
   },
   {
    "duration": 5,
    "start_time": "2021-11-11T11:49:01.287Z"
   },
   {
    "duration": 2438,
    "start_time": "2021-11-11T11:49:02.370Z"
   },
   {
    "duration": 6,
    "start_time": "2021-11-11T11:49:04.814Z"
   },
   {
    "duration": 131,
    "start_time": "2021-11-11T11:49:06.517Z"
   },
   {
    "duration": 2583,
    "start_time": "2021-11-11T11:49:29.316Z"
   },
   {
    "duration": 2654,
    "start_time": "2021-11-11T11:50:59.243Z"
   },
   {
    "duration": 1474,
    "start_time": "2021-11-11T11:52:36.879Z"
   },
   {
    "duration": 351,
    "start_time": "2021-11-11T11:52:38.356Z"
   },
   {
    "duration": 105,
    "start_time": "2021-11-11T11:52:38.710Z"
   },
   {
    "duration": 450,
    "start_time": "2021-11-11T11:52:38.818Z"
   },
   {
    "duration": 26,
    "start_time": "2021-11-11T11:52:39.271Z"
   },
   {
    "duration": 35,
    "start_time": "2021-11-11T11:52:39.299Z"
   },
   {
    "duration": 384,
    "start_time": "2021-11-11T11:52:39.337Z"
   },
   {
    "duration": 11,
    "start_time": "2021-11-11T11:52:39.724Z"
   },
   {
    "duration": 205,
    "start_time": "2021-11-11T11:52:39.737Z"
   },
   {
    "duration": 33,
    "start_time": "2021-11-11T11:52:39.944Z"
   },
   {
    "duration": 29,
    "start_time": "2021-11-11T11:52:39.980Z"
   },
   {
    "duration": 240,
    "start_time": "2021-11-11T11:52:40.013Z"
   },
   {
    "duration": 17,
    "start_time": "2021-11-11T11:52:40.257Z"
   },
   {
    "duration": 39,
    "start_time": "2021-11-11T11:52:40.276Z"
   },
   {
    "duration": 31,
    "start_time": "2021-11-11T11:52:40.504Z"
   },
   {
    "duration": 25,
    "start_time": "2021-11-11T11:52:40.700Z"
   },
   {
    "duration": 380,
    "start_time": "2021-11-11T11:52:40.922Z"
   },
   {
    "duration": 15,
    "start_time": "2021-11-11T11:52:41.305Z"
   },
   {
    "duration": 190,
    "start_time": "2021-11-11T11:52:41.324Z"
   },
   {
    "duration": 4,
    "start_time": "2021-11-11T11:52:41.931Z"
   },
   {
    "duration": 9,
    "start_time": "2021-11-11T11:52:42.252Z"
   },
   {
    "duration": 6,
    "start_time": "2021-11-11T11:52:42.483Z"
   },
   {
    "duration": 6,
    "start_time": "2021-11-11T11:52:42.913Z"
   },
   {
    "duration": 6,
    "start_time": "2021-11-11T11:52:43.322Z"
   },
   {
    "duration": 6,
    "start_time": "2021-11-11T11:52:43.548Z"
   },
   {
    "duration": 21,
    "start_time": "2021-11-11T11:52:44.045Z"
   },
   {
    "duration": 2390,
    "start_time": "2021-11-11T11:52:44.677Z"
   },
   {
    "duration": 9,
    "start_time": "2021-11-11T11:52:47.069Z"
   },
   {
    "duration": 2452,
    "start_time": "2021-11-11T11:52:47.081Z"
   },
   {
    "duration": 9,
    "start_time": "2021-11-11T11:52:49.536Z"
   },
   {
    "duration": 2555,
    "start_time": "2021-11-11T11:52:49.548Z"
   },
   {
    "duration": 10,
    "start_time": "2021-11-11T11:52:52.106Z"
   },
   {
    "duration": 1613,
    "start_time": "2021-11-11T11:52:52.118Z"
   },
   {
    "duration": 1465,
    "start_time": "2021-11-11T11:52:53.734Z"
   },
   {
    "duration": 6,
    "start_time": "2021-11-11T11:52:55.203Z"
   },
   {
    "duration": 7,
    "start_time": "2021-11-11T11:52:55.211Z"
   },
   {
    "duration": 6,
    "start_time": "2021-11-11T11:52:55.633Z"
   },
   {
    "duration": 6,
    "start_time": "2021-11-11T11:52:56.004Z"
   },
   {
    "duration": 2449,
    "start_time": "2021-11-11T11:52:56.319Z"
   },
   {
    "duration": 6,
    "start_time": "2021-11-11T11:52:58.771Z"
   },
   {
    "duration": 147,
    "start_time": "2021-11-11T11:52:58.780Z"
   },
   {
    "duration": 11,
    "start_time": "2021-11-11T11:52:59.927Z"
   },
   {
    "duration": 2652,
    "start_time": "2021-11-11T11:53:01.415Z"
   },
   {
    "duration": 96,
    "start_time": "2021-11-11T11:57:29.327Z"
   },
   {
    "duration": 11,
    "start_time": "2021-11-11T11:57:30.745Z"
   },
   {
    "duration": 2606,
    "start_time": "2021-11-11T11:57:31.736Z"
   },
   {
    "duration": 130,
    "start_time": "2021-11-11T11:58:31.459Z"
   },
   {
    "duration": 10,
    "start_time": "2021-11-11T11:58:32.654Z"
   },
   {
    "duration": 2490,
    "start_time": "2021-11-11T11:58:33.429Z"
   },
   {
    "duration": 138,
    "start_time": "2021-11-11T12:03:26.917Z"
   },
   {
    "duration": 10,
    "start_time": "2021-11-11T12:03:27.971Z"
   },
   {
    "duration": 2665,
    "start_time": "2021-11-11T12:03:28.718Z"
   },
   {
    "duration": 135,
    "start_time": "2021-11-11T12:05:35.532Z"
   },
   {
    "duration": 11,
    "start_time": "2021-11-11T12:05:37.146Z"
   },
   {
    "duration": 2434,
    "start_time": "2021-11-11T12:05:37.957Z"
   },
   {
    "duration": 124,
    "start_time": "2021-11-11T12:12:06.784Z"
   },
   {
    "duration": 11,
    "start_time": "2021-11-11T12:12:08.009Z"
   },
   {
    "duration": 2611,
    "start_time": "2021-11-11T12:12:08.807Z"
   },
   {
    "duration": 2480,
    "start_time": "2021-11-11T12:12:35.972Z"
   },
   {
    "duration": 2304,
    "start_time": "2021-11-11T12:12:49.085Z"
   },
   {
    "duration": 2509,
    "start_time": "2021-11-11T12:13:06.630Z"
   },
   {
    "duration": 2437,
    "start_time": "2021-11-11T12:13:16.078Z"
   },
   {
    "duration": 136,
    "start_time": "2021-11-11T12:13:38.760Z"
   },
   {
    "duration": 10,
    "start_time": "2021-11-11T12:13:39.881Z"
   },
   {
    "duration": 2764,
    "start_time": "2021-11-11T12:13:40.490Z"
   },
   {
    "duration": 1518,
    "start_time": "2021-11-11T13:25:09.032Z"
   },
   {
    "duration": 341,
    "start_time": "2021-11-11T13:25:10.553Z"
   },
   {
    "duration": 94,
    "start_time": "2021-11-11T13:25:10.897Z"
   },
   {
    "duration": 448,
    "start_time": "2021-11-11T13:25:10.993Z"
   },
   {
    "duration": 32,
    "start_time": "2021-11-11T13:25:11.444Z"
   },
   {
    "duration": 33,
    "start_time": "2021-11-11T13:25:11.479Z"
   },
   {
    "duration": 383,
    "start_time": "2021-11-11T13:25:11.514Z"
   },
   {
    "duration": 10,
    "start_time": "2021-11-11T13:25:11.899Z"
   },
   {
    "duration": 207,
    "start_time": "2021-11-11T13:25:11.913Z"
   },
   {
    "duration": 15,
    "start_time": "2021-11-11T13:25:12.123Z"
   },
   {
    "duration": 51,
    "start_time": "2021-11-11T13:25:12.141Z"
   },
   {
    "duration": 218,
    "start_time": "2021-11-11T13:25:12.194Z"
   },
   {
    "duration": 8,
    "start_time": "2021-11-11T13:25:12.414Z"
   },
   {
    "duration": 59,
    "start_time": "2021-11-11T13:25:12.424Z"
   },
   {
    "duration": 31,
    "start_time": "2021-11-11T13:25:12.485Z"
   },
   {
    "duration": 51,
    "start_time": "2021-11-11T13:25:12.518Z"
   },
   {
    "duration": 387,
    "start_time": "2021-11-11T13:25:12.571Z"
   },
   {
    "duration": 17,
    "start_time": "2021-11-11T13:25:12.960Z"
   },
   {
    "duration": 176,
    "start_time": "2021-11-11T13:25:12.979Z"
   },
   {
    "duration": 4,
    "start_time": "2021-11-11T13:25:13.157Z"
   },
   {
    "duration": 17,
    "start_time": "2021-11-11T13:25:13.167Z"
   },
   {
    "duration": 7,
    "start_time": "2021-11-11T13:25:13.186Z"
   },
   {
    "duration": 9,
    "start_time": "2021-11-11T13:25:13.196Z"
   },
   {
    "duration": 17,
    "start_time": "2021-11-11T13:25:13.208Z"
   },
   {
    "duration": 13,
    "start_time": "2021-11-11T13:25:13.227Z"
   },
   {
    "duration": 23,
    "start_time": "2021-11-11T13:25:13.269Z"
   },
   {
    "duration": 2426,
    "start_time": "2021-11-11T13:25:13.298Z"
   },
   {
    "duration": 8,
    "start_time": "2021-11-11T13:25:15.727Z"
   },
   {
    "duration": 2491,
    "start_time": "2021-11-11T13:25:15.738Z"
   },
   {
    "duration": 9,
    "start_time": "2021-11-11T13:25:18.231Z"
   },
   {
    "duration": 2531,
    "start_time": "2021-11-11T13:25:18.242Z"
   },
   {
    "duration": 9,
    "start_time": "2021-11-11T13:25:20.775Z"
   },
   {
    "duration": 1648,
    "start_time": "2021-11-11T13:25:20.786Z"
   },
   {
    "duration": 1444,
    "start_time": "2021-11-11T13:25:22.436Z"
   },
   {
    "duration": 5,
    "start_time": "2021-11-11T13:25:23.882Z"
   },
   {
    "duration": 8,
    "start_time": "2021-11-11T13:25:23.890Z"
   },
   {
    "duration": 10,
    "start_time": "2021-11-11T13:25:23.900Z"
   },
   {
    "duration": 13,
    "start_time": "2021-11-11T13:25:23.912Z"
   },
   {
    "duration": 2553,
    "start_time": "2021-11-11T13:25:23.928Z"
   },
   {
    "duration": 7,
    "start_time": "2021-11-11T13:25:26.484Z"
   },
   {
    "duration": 155,
    "start_time": "2021-11-11T13:25:26.494Z"
   },
   {
    "duration": 21,
    "start_time": "2021-11-11T13:25:26.652Z"
   },
   {
    "duration": 2692,
    "start_time": "2021-11-11T13:25:26.676Z"
   },
   {
    "duration": 5,
    "start_time": "2021-11-11T13:48:55.418Z"
   },
   {
    "duration": 1621,
    "start_time": "2021-11-11T15:24:44.927Z"
   },
   {
    "duration": 347,
    "start_time": "2021-11-11T15:24:46.550Z"
   },
   {
    "duration": 99,
    "start_time": "2021-11-11T15:24:47.482Z"
   },
   {
    "duration": 454,
    "start_time": "2021-11-11T15:24:47.810Z"
   },
   {
    "duration": 23,
    "start_time": "2021-11-11T15:24:48.399Z"
   },
   {
    "duration": 34,
    "start_time": "2021-11-11T15:24:49.044Z"
   },
   {
    "duration": 363,
    "start_time": "2021-11-11T15:24:49.252Z"
   },
   {
    "duration": 11,
    "start_time": "2021-11-11T15:24:49.618Z"
   },
   {
    "duration": 187,
    "start_time": "2021-11-11T15:24:49.650Z"
   },
   {
    "duration": 16,
    "start_time": "2021-11-11T15:24:50.044Z"
   },
   {
    "duration": 32,
    "start_time": "2021-11-11T15:24:50.580Z"
   },
   {
    "duration": 208,
    "start_time": "2021-11-11T15:24:50.812Z"
   },
   {
    "duration": 9,
    "start_time": "2021-11-11T15:24:51.082Z"
   },
   {
    "duration": 38,
    "start_time": "2021-11-11T15:24:51.404Z"
   },
   {
    "duration": 30,
    "start_time": "2021-11-11T15:24:52.779Z"
   },
   {
    "duration": 30,
    "start_time": "2021-11-11T15:24:53.235Z"
   },
   {
    "duration": 378,
    "start_time": "2021-11-11T15:24:53.743Z"
   },
   {
    "duration": 12,
    "start_time": "2021-11-11T15:24:54.294Z"
   },
   {
    "duration": 158,
    "start_time": "2021-11-11T15:24:54.885Z"
   },
   {
    "duration": 5,
    "start_time": "2021-11-11T15:24:56.174Z"
   },
   {
    "duration": 9,
    "start_time": "2021-11-11T15:24:56.811Z"
   },
   {
    "duration": 6,
    "start_time": "2021-11-11T15:24:57.726Z"
   },
   {
    "duration": 6,
    "start_time": "2021-11-11T15:24:58.973Z"
   },
   {
    "duration": 6,
    "start_time": "2021-11-11T15:25:00.630Z"
   },
   {
    "duration": 6,
    "start_time": "2021-11-11T15:25:01.660Z"
   },
   {
    "duration": 22,
    "start_time": "2021-11-11T15:25:03.647Z"
   },
   {
    "duration": 15,
    "start_time": "2021-11-11T15:25:04.204Z"
   },
   {
    "duration": 7,
    "start_time": "2021-11-11T15:25:04.740Z"
   },
   {
    "duration": 28,
    "start_time": "2021-11-11T15:25:05.276Z"
   },
   {
    "duration": 13,
    "start_time": "2021-11-11T15:25:05.752Z"
   },
   {
    "duration": 10,
    "start_time": "2021-11-11T15:25:06.194Z"
   },
   {
    "duration": 10,
    "start_time": "2021-11-11T15:25:14.393Z"
   },
   {
    "duration": 8,
    "start_time": "2021-11-11T15:25:25.476Z"
   },
   {
    "duration": 12,
    "start_time": "2021-11-11T15:25:32.919Z"
   },
   {
    "duration": 2536,
    "start_time": "2021-11-11T15:25:35.741Z"
   },
   {
    "duration": 11,
    "start_time": "2021-11-11T15:25:38.281Z"
   },
   {
    "duration": 2519,
    "start_time": "2021-11-11T15:25:48.037Z"
   },
   {
    "duration": 13,
    "start_time": "2021-11-11T15:25:50.559Z"
   },
   {
    "duration": 2455,
    "start_time": "2021-11-11T15:25:55.670Z"
   },
   {
    "duration": 9,
    "start_time": "2021-11-11T15:25:58.128Z"
   },
   {
    "duration": 1531,
    "start_time": "2021-11-11T15:26:13.242Z"
   },
   {
    "duration": 1413,
    "start_time": "2021-11-11T15:26:14.776Z"
   },
   {
    "duration": 6,
    "start_time": "2021-11-11T15:26:16.192Z"
   },
   {
    "duration": 10,
    "start_time": "2021-11-11T15:26:16.200Z"
   },
   {
    "duration": 10,
    "start_time": "2021-11-11T15:26:16.213Z"
   },
   {
    "duration": 9,
    "start_time": "2021-11-11T15:26:16.225Z"
   },
   {
    "duration": 2580,
    "start_time": "2021-11-11T15:26:16.236Z"
   },
   {
    "duration": 6,
    "start_time": "2021-11-11T15:26:18.821Z"
   },
   {
    "duration": 158,
    "start_time": "2021-11-11T15:26:18.830Z"
   },
   {
    "duration": 10,
    "start_time": "2021-11-11T15:26:18.991Z"
   },
   {
    "duration": 2526,
    "start_time": "2021-11-11T15:26:19.003Z"
   },
   {
    "duration": 5,
    "start_time": "2021-11-11T15:26:21.532Z"
   },
   {
    "duration": 7,
    "start_time": "2021-11-11T17:10:03.760Z"
   },
   {
    "duration": 18,
    "start_time": "2021-11-11T17:11:28.818Z"
   },
   {
    "duration": 6573,
    "start_time": "2021-11-11T17:12:23.290Z"
   },
   {
    "duration": 261,
    "start_time": "2021-11-11T17:13:11.334Z"
   },
   {
    "duration": 259,
    "start_time": "2021-11-11T17:13:28.129Z"
   },
   {
    "duration": 1516,
    "start_time": "2021-11-11T17:13:45.932Z"
   },
   {
    "duration": 356,
    "start_time": "2021-11-11T17:13:47.451Z"
   },
   {
    "duration": 97,
    "start_time": "2021-11-11T17:13:47.810Z"
   },
   {
    "duration": 467,
    "start_time": "2021-11-11T17:13:47.910Z"
   },
   {
    "duration": 28,
    "start_time": "2021-11-11T17:13:48.380Z"
   },
   {
    "duration": 59,
    "start_time": "2021-11-11T17:13:48.410Z"
   },
   {
    "duration": 374,
    "start_time": "2021-11-11T17:13:48.472Z"
   },
   {
    "duration": 21,
    "start_time": "2021-11-11T17:13:48.848Z"
   },
   {
    "duration": 195,
    "start_time": "2021-11-11T17:13:48.873Z"
   },
   {
    "duration": 16,
    "start_time": "2021-11-11T17:13:49.071Z"
   },
   {
    "duration": 30,
    "start_time": "2021-11-11T17:13:49.089Z"
   },
   {
    "duration": 240,
    "start_time": "2021-11-11T17:13:49.121Z"
   },
   {
    "duration": 8,
    "start_time": "2021-11-11T17:13:49.367Z"
   },
   {
    "duration": 41,
    "start_time": "2021-11-11T17:13:49.378Z"
   },
   {
    "duration": 58,
    "start_time": "2021-11-11T17:13:49.421Z"
   },
   {
    "duration": 29,
    "start_time": "2021-11-11T17:13:49.482Z"
   },
   {
    "duration": 408,
    "start_time": "2021-11-11T17:13:49.513Z"
   },
   {
    "duration": 13,
    "start_time": "2021-11-11T17:13:49.923Z"
   },
   {
    "duration": 178,
    "start_time": "2021-11-11T17:13:49.938Z"
   },
   {
    "duration": 4,
    "start_time": "2021-11-11T17:13:50.119Z"
   },
   {
    "duration": 14,
    "start_time": "2021-11-11T17:13:50.125Z"
   },
   {
    "duration": 5,
    "start_time": "2021-11-11T17:13:50.142Z"
   },
   {
    "duration": 6,
    "start_time": "2021-11-11T17:13:50.168Z"
   },
   {
    "duration": 12,
    "start_time": "2021-11-11T17:13:50.177Z"
   },
   {
    "duration": 19,
    "start_time": "2021-11-11T17:13:50.192Z"
   },
   {
    "duration": 31,
    "start_time": "2021-11-11T17:13:50.214Z"
   },
   {
    "duration": 19,
    "start_time": "2021-11-11T17:13:50.266Z"
   },
   {
    "duration": 6,
    "start_time": "2021-11-11T17:13:50.288Z"
   },
   {
    "duration": 30,
    "start_time": "2021-11-11T17:13:50.297Z"
   },
   {
    "duration": 38,
    "start_time": "2021-11-11T17:13:50.330Z"
   },
   {
    "duration": 7,
    "start_time": "2021-11-11T17:13:50.371Z"
   },
   {
    "duration": 13,
    "start_time": "2021-11-11T17:13:50.380Z"
   },
   {
    "duration": 2534,
    "start_time": "2021-11-11T17:13:50.395Z"
   },
   {
    "duration": 10,
    "start_time": "2021-11-11T17:13:52.932Z"
   },
   {
    "duration": 2373,
    "start_time": "2021-11-11T17:13:52.944Z"
   },
   {
    "duration": 10,
    "start_time": "2021-11-11T17:13:55.319Z"
   },
   {
    "duration": 2575,
    "start_time": "2021-11-11T17:13:55.331Z"
   },
   {
    "duration": 9,
    "start_time": "2021-11-11T17:13:57.908Z"
   },
   {
    "duration": 1616,
    "start_time": "2021-11-11T17:13:57.920Z"
   },
   {
    "duration": 1446,
    "start_time": "2021-11-11T17:13:59.539Z"
   },
   {
    "duration": 6,
    "start_time": "2021-11-11T17:14:00.988Z"
   },
   {
    "duration": 20,
    "start_time": "2021-11-11T17:14:00.996Z"
   },
   {
    "duration": 21,
    "start_time": "2021-11-11T17:14:01.019Z"
   },
   {
    "duration": 34,
    "start_time": "2021-11-11T17:14:01.042Z"
   },
   {
    "duration": 2468,
    "start_time": "2021-11-11T17:14:01.079Z"
   },
   {
    "duration": 17,
    "start_time": "2021-11-11T17:14:03.550Z"
   },
   {
    "duration": 152,
    "start_time": "2021-11-11T17:14:03.570Z"
   },
   {
    "duration": 12,
    "start_time": "2021-11-11T17:14:03.725Z"
   },
   {
    "duration": 2676,
    "start_time": "2021-11-11T17:14:03.739Z"
   },
   {
    "duration": 4,
    "start_time": "2021-11-11T17:14:06.418Z"
   },
   {
    "duration": 14,
    "start_time": "2021-11-11T17:14:06.425Z"
   },
   {
    "duration": 13,
    "start_time": "2021-11-11T17:14:06.441Z"
   },
   {
    "duration": 407,
    "start_time": "2021-11-11T17:16:22.091Z"
   },
   {
    "duration": 6122,
    "start_time": "2021-11-11T17:22:31.966Z"
   },
   {
    "duration": 1525,
    "start_time": "2021-11-11T17:22:53.579Z"
   },
   {
    "duration": 356,
    "start_time": "2021-11-11T17:22:55.107Z"
   },
   {
    "duration": 100,
    "start_time": "2021-11-11T17:22:55.468Z"
   },
   {
    "duration": 667,
    "start_time": "2021-11-11T17:22:55.571Z"
   },
   {
    "duration": 39,
    "start_time": "2021-11-11T17:22:56.241Z"
   },
   {
    "duration": 34,
    "start_time": "2021-11-11T17:22:56.283Z"
   },
   {
    "duration": 382,
    "start_time": "2021-11-11T17:22:56.320Z"
   },
   {
    "duration": 12,
    "start_time": "2021-11-11T17:22:56.704Z"
   },
   {
    "duration": 202,
    "start_time": "2021-11-11T17:22:56.720Z"
   },
   {
    "duration": 16,
    "start_time": "2021-11-11T17:22:56.925Z"
   },
   {
    "duration": 61,
    "start_time": "2021-11-11T17:22:56.944Z"
   },
   {
    "duration": 240,
    "start_time": "2021-11-11T17:22:57.008Z"
   },
   {
    "duration": 21,
    "start_time": "2021-11-11T17:22:57.250Z"
   },
   {
    "duration": 37,
    "start_time": "2021-11-11T17:22:57.273Z"
   },
   {
    "duration": 29,
    "start_time": "2021-11-11T17:22:57.313Z"
   },
   {
    "duration": 27,
    "start_time": "2021-11-11T17:22:57.368Z"
   },
   {
    "duration": 410,
    "start_time": "2021-11-11T17:22:57.397Z"
   },
   {
    "duration": 12,
    "start_time": "2021-11-11T17:22:57.809Z"
   },
   {
    "duration": 182,
    "start_time": "2021-11-11T17:22:57.823Z"
   },
   {
    "duration": 3,
    "start_time": "2021-11-11T17:22:58.008Z"
   },
   {
    "duration": 14,
    "start_time": "2021-11-11T17:22:58.013Z"
   },
   {
    "duration": 6,
    "start_time": "2021-11-11T17:22:58.030Z"
   },
   {
    "duration": 31,
    "start_time": "2021-11-11T17:22:58.039Z"
   },
   {
    "duration": 7,
    "start_time": "2021-11-11T17:22:58.072Z"
   },
   {
    "duration": 16,
    "start_time": "2021-11-11T17:22:58.081Z"
   },
   {
    "duration": 22,
    "start_time": "2021-11-11T17:22:58.099Z"
   },
   {
    "duration": 57,
    "start_time": "2021-11-11T17:22:58.127Z"
   },
   {
    "duration": 7,
    "start_time": "2021-11-11T17:22:58.188Z"
   },
   {
    "duration": 26,
    "start_time": "2021-11-11T17:22:58.198Z"
   },
   {
    "duration": 11,
    "start_time": "2021-11-11T17:22:58.226Z"
   },
   {
    "duration": 33,
    "start_time": "2021-11-11T17:22:58.239Z"
   },
   {
    "duration": 14,
    "start_time": "2021-11-11T17:22:58.274Z"
   },
   {
    "duration": 2627,
    "start_time": "2021-11-11T17:22:58.290Z"
   },
   {
    "duration": 9,
    "start_time": "2021-11-11T17:23:00.919Z"
   },
   {
    "duration": 2554,
    "start_time": "2021-11-11T17:23:00.930Z"
   },
   {
    "duration": 10,
    "start_time": "2021-11-11T17:23:03.487Z"
   },
   {
    "duration": 2620,
    "start_time": "2021-11-11T17:23:03.499Z"
   },
   {
    "duration": 10,
    "start_time": "2021-11-11T17:23:06.122Z"
   },
   {
    "duration": 1605,
    "start_time": "2021-11-11T17:23:06.134Z"
   },
   {
    "duration": 1465,
    "start_time": "2021-11-11T17:23:07.741Z"
   },
   {
    "duration": 5,
    "start_time": "2021-11-11T17:23:09.209Z"
   },
   {
    "duration": 11,
    "start_time": "2021-11-11T17:23:09.216Z"
   },
   {
    "duration": 7,
    "start_time": "2021-11-11T17:23:09.230Z"
   },
   {
    "duration": 29,
    "start_time": "2021-11-11T17:23:09.239Z"
   },
   {
    "duration": 2462,
    "start_time": "2021-11-11T17:23:09.272Z"
   },
   {
    "duration": 7,
    "start_time": "2021-11-11T17:23:11.737Z"
   },
   {
    "duration": 145,
    "start_time": "2021-11-11T17:23:11.766Z"
   },
   {
    "duration": 12,
    "start_time": "2021-11-11T17:23:11.913Z"
   },
   {
    "duration": 2636,
    "start_time": "2021-11-11T17:23:11.928Z"
   },
   {
    "duration": 5,
    "start_time": "2021-11-11T17:23:14.567Z"
   },
   {
    "duration": 11,
    "start_time": "2021-11-11T17:23:14.574Z"
   },
   {
    "duration": 1482,
    "start_time": "2021-11-11T17:29:29.465Z"
   },
   {
    "duration": 371,
    "start_time": "2021-11-11T17:29:30.950Z"
   },
   {
    "duration": 100,
    "start_time": "2021-11-11T17:29:31.325Z"
   },
   {
    "duration": 571,
    "start_time": "2021-11-11T17:29:31.428Z"
   },
   {
    "duration": 25,
    "start_time": "2021-11-11T17:29:32.001Z"
   },
   {
    "duration": 53,
    "start_time": "2021-11-11T17:29:32.029Z"
   },
   {
    "duration": 373,
    "start_time": "2021-11-11T17:29:32.085Z"
   },
   {
    "duration": 16,
    "start_time": "2021-11-11T17:29:32.461Z"
   },
   {
    "duration": 302,
    "start_time": "2021-11-11T17:29:32.481Z"
   },
   {
    "duration": 16,
    "start_time": "2021-11-11T17:29:32.787Z"
   },
   {
    "duration": 30,
    "start_time": "2021-11-11T17:29:32.805Z"
   },
   {
    "duration": 246,
    "start_time": "2021-11-11T17:29:32.837Z"
   },
   {
    "duration": 9,
    "start_time": "2021-11-11T17:29:33.085Z"
   },
   {
    "duration": 50,
    "start_time": "2021-11-11T17:29:33.096Z"
   },
   {
    "duration": 30,
    "start_time": "2021-11-11T17:29:33.168Z"
   },
   {
    "duration": 29,
    "start_time": "2021-11-11T17:29:33.200Z"
   },
   {
    "duration": 463,
    "start_time": "2021-11-11T17:29:33.231Z"
   },
   {
    "duration": 12,
    "start_time": "2021-11-11T17:29:33.696Z"
   },
   {
    "duration": 180,
    "start_time": "2021-11-11T17:29:33.711Z"
   },
   {
    "duration": 4,
    "start_time": "2021-11-11T17:29:33.894Z"
   },
   {
    "duration": 20,
    "start_time": "2021-11-11T17:29:33.900Z"
   },
   {
    "duration": 5,
    "start_time": "2021-11-11T17:29:33.923Z"
   },
   {
    "duration": 7,
    "start_time": "2021-11-11T17:29:33.931Z"
   },
   {
    "duration": 29,
    "start_time": "2021-11-11T17:29:33.940Z"
   },
   {
    "duration": 11,
    "start_time": "2021-11-11T17:29:33.971Z"
   },
   {
    "duration": 24,
    "start_time": "2021-11-11T17:29:33.985Z"
   },
   {
    "duration": 17,
    "start_time": "2021-11-11T17:29:34.015Z"
   },
   {
    "duration": 32,
    "start_time": "2021-11-11T17:29:34.036Z"
   },
   {
    "duration": 29,
    "start_time": "2021-11-11T17:29:34.070Z"
   },
   {
    "duration": 10,
    "start_time": "2021-11-11T17:29:34.102Z"
   },
   {
    "duration": 7,
    "start_time": "2021-11-11T17:29:34.115Z"
   },
   {
    "duration": 49,
    "start_time": "2021-11-11T17:29:34.124Z"
   },
   {
    "duration": 2647,
    "start_time": "2021-11-11T17:29:34.175Z"
   },
   {
    "duration": 8,
    "start_time": "2021-11-11T17:29:36.825Z"
   },
   {
    "duration": 2464,
    "start_time": "2021-11-11T17:29:36.835Z"
   },
   {
    "duration": 9,
    "start_time": "2021-11-11T17:29:39.302Z"
   },
   {
    "duration": 2834,
    "start_time": "2021-11-11T17:29:39.313Z"
   },
   {
    "duration": 20,
    "start_time": "2021-11-11T17:29:42.149Z"
   },
   {
    "duration": 1702,
    "start_time": "2021-11-11T17:29:42.172Z"
   },
   {
    "duration": 1449,
    "start_time": "2021-11-11T17:29:43.876Z"
   },
   {
    "duration": 5,
    "start_time": "2021-11-11T17:29:45.327Z"
   },
   {
    "duration": 12,
    "start_time": "2021-11-11T17:29:45.334Z"
   },
   {
    "duration": 22,
    "start_time": "2021-11-11T17:29:45.348Z"
   },
   {
    "duration": 10,
    "start_time": "2021-11-11T17:29:45.373Z"
   },
   {
    "duration": 2436,
    "start_time": "2021-11-11T17:29:45.386Z"
   },
   {
    "duration": 7,
    "start_time": "2021-11-11T17:29:47.825Z"
   },
   {
    "duration": 150,
    "start_time": "2021-11-11T17:29:47.836Z"
   },
   {
    "duration": 13,
    "start_time": "2021-11-11T17:29:47.989Z"
   },
   {
    "duration": 2816,
    "start_time": "2021-11-11T17:29:48.010Z"
   },
   {
    "duration": 7,
    "start_time": "2021-11-11T17:29:50.829Z"
   },
   {
    "duration": 33,
    "start_time": "2021-11-11T17:29:50.839Z"
   },
   {
    "duration": 17,
    "start_time": "2021-11-11T17:30:09.776Z"
   },
   {
    "duration": 453,
    "start_time": "2021-11-11T17:30:18.939Z"
   },
   {
    "duration": 6,
    "start_time": "2021-11-11T17:30:40.653Z"
   },
   {
    "duration": 6,
    "start_time": "2021-11-11T17:30:52.539Z"
   },
   {
    "duration": 17,
    "start_time": "2021-11-11T17:59:39.808Z"
   },
   {
    "duration": 20,
    "start_time": "2021-11-11T17:59:53.018Z"
   },
   {
    "duration": 37,
    "start_time": "2021-11-11T18:00:30.956Z"
   },
   {
    "duration": 7,
    "start_time": "2021-11-11T18:04:16.928Z"
   },
   {
    "duration": 8,
    "start_time": "2021-11-11T18:04:29.483Z"
   },
   {
    "duration": 7,
    "start_time": "2021-11-11T18:04:37.010Z"
   },
   {
    "duration": 6,
    "start_time": "2021-11-11T18:04:48.248Z"
   },
   {
    "duration": 6,
    "start_time": "2021-11-11T18:05:10.221Z"
   },
   {
    "duration": 6,
    "start_time": "2021-11-11T18:05:31.488Z"
   },
   {
    "duration": 33,
    "start_time": "2021-11-11T18:05:37.446Z"
   },
   {
    "duration": 1516,
    "start_time": "2021-11-11T18:06:48.331Z"
   },
   {
    "duration": 350,
    "start_time": "2021-11-11T18:06:49.850Z"
   },
   {
    "duration": 99,
    "start_time": "2021-11-11T18:06:50.204Z"
   },
   {
    "duration": 463,
    "start_time": "2021-11-11T18:06:50.306Z"
   },
   {
    "duration": 25,
    "start_time": "2021-11-11T18:06:50.771Z"
   },
   {
    "duration": 34,
    "start_time": "2021-11-11T18:06:50.799Z"
   },
   {
    "duration": 395,
    "start_time": "2021-11-11T18:06:50.836Z"
   },
   {
    "duration": 10,
    "start_time": "2021-11-11T18:06:51.234Z"
   },
   {
    "duration": 197,
    "start_time": "2021-11-11T18:06:51.248Z"
   },
   {
    "duration": 29,
    "start_time": "2021-11-11T18:06:51.448Z"
   },
   {
    "duration": 30,
    "start_time": "2021-11-11T18:06:51.479Z"
   },
   {
    "duration": 242,
    "start_time": "2021-11-11T18:06:51.512Z"
   },
   {
    "duration": 16,
    "start_time": "2021-11-11T18:06:51.757Z"
   },
   {
    "duration": 43,
    "start_time": "2021-11-11T18:06:51.775Z"
   },
   {
    "duration": 59,
    "start_time": "2021-11-11T18:06:51.821Z"
   },
   {
    "duration": 27,
    "start_time": "2021-11-11T18:06:51.883Z"
   },
   {
    "duration": 420,
    "start_time": "2021-11-11T18:06:51.913Z"
   },
   {
    "duration": 31,
    "start_time": "2021-11-11T18:06:52.336Z"
   },
   {
    "duration": 173,
    "start_time": "2021-11-11T18:06:52.370Z"
   },
   {
    "duration": 5,
    "start_time": "2021-11-11T18:06:52.546Z"
   },
   {
    "duration": 11,
    "start_time": "2021-11-11T18:06:52.566Z"
   },
   {
    "duration": 6,
    "start_time": "2021-11-11T18:06:52.580Z"
   },
   {
    "duration": 9,
    "start_time": "2021-11-11T18:06:52.589Z"
   },
   {
    "duration": 12,
    "start_time": "2021-11-11T18:06:52.601Z"
   },
   {
    "duration": 9,
    "start_time": "2021-11-11T18:06:52.616Z"
   },
   {
    "duration": 59,
    "start_time": "2021-11-11T18:06:52.627Z"
   },
   {
    "duration": 18,
    "start_time": "2021-11-11T18:06:52.692Z"
   },
   {
    "duration": 7,
    "start_time": "2021-11-11T18:06:52.713Z"
   },
   {
    "duration": 55,
    "start_time": "2021-11-11T18:06:52.723Z"
   },
   {
    "duration": 10,
    "start_time": "2021-11-11T18:06:52.781Z"
   },
   {
    "duration": 10,
    "start_time": "2021-11-11T18:06:52.795Z"
   },
   {
    "duration": 12,
    "start_time": "2021-11-11T18:06:52.808Z"
   },
   {
    "duration": 2759,
    "start_time": "2021-11-11T18:06:52.822Z"
   },
   {
    "duration": 8,
    "start_time": "2021-11-11T18:06:55.584Z"
   },
   {
    "duration": 2552,
    "start_time": "2021-11-11T18:06:55.594Z"
   },
   {
    "duration": 20,
    "start_time": "2021-11-11T18:06:58.148Z"
   },
   {
    "duration": 2682,
    "start_time": "2021-11-11T18:06:58.171Z"
   },
   {
    "duration": 15,
    "start_time": "2021-11-11T18:07:00.855Z"
   },
   {
    "duration": 1600,
    "start_time": "2021-11-11T18:07:00.872Z"
   },
   {
    "duration": 1502,
    "start_time": "2021-11-11T18:07:02.474Z"
   },
   {
    "duration": 5,
    "start_time": "2021-11-11T18:07:03.979Z"
   },
   {
    "duration": 9,
    "start_time": "2021-11-11T18:07:03.986Z"
   },
   {
    "duration": 13,
    "start_time": "2021-11-11T18:07:03.997Z"
   },
   {
    "duration": 14,
    "start_time": "2021-11-11T18:07:04.012Z"
   },
   {
    "duration": 2462,
    "start_time": "2021-11-11T18:07:04.028Z"
   },
   {
    "duration": 6,
    "start_time": "2021-11-11T18:07:06.493Z"
   },
   {
    "duration": 151,
    "start_time": "2021-11-11T18:07:06.502Z"
   },
   {
    "duration": 16,
    "start_time": "2021-11-11T18:07:06.656Z"
   },
   {
    "duration": 2792,
    "start_time": "2021-11-11T18:07:06.675Z"
   },
   {
    "duration": 5,
    "start_time": "2021-11-11T18:07:09.470Z"
   },
   {
    "duration": 15,
    "start_time": "2021-11-11T18:07:09.477Z"
   },
   {
    "duration": 19,
    "start_time": "2021-11-11T18:07:09.495Z"
   },
   {
    "duration": 58,
    "start_time": "2021-11-11T18:07:09.516Z"
   },
   {
    "duration": 7,
    "start_time": "2021-11-11T18:07:09.577Z"
   },
   {
    "duration": 17,
    "start_time": "2021-11-11T18:07:09.587Z"
   },
   {
    "duration": 502,
    "start_time": "2021-11-11T18:25:48.488Z"
   },
   {
    "duration": 350,
    "start_time": "2021-11-11T18:26:01.128Z"
   },
   {
    "duration": 17,
    "start_time": "2021-11-11T18:26:40.384Z"
   },
   {
    "duration": 1468,
    "start_time": "2021-11-11T18:28:03.090Z"
   },
   {
    "duration": 365,
    "start_time": "2021-11-11T18:28:04.561Z"
   },
   {
    "duration": 97,
    "start_time": "2021-11-11T18:28:04.929Z"
   },
   {
    "duration": 469,
    "start_time": "2021-11-11T18:28:05.029Z"
   },
   {
    "duration": 25,
    "start_time": "2021-11-11T18:28:05.501Z"
   },
   {
    "duration": 50,
    "start_time": "2021-11-11T18:28:05.528Z"
   },
   {
    "duration": 376,
    "start_time": "2021-11-11T18:28:05.580Z"
   },
   {
    "duration": 15,
    "start_time": "2021-11-11T18:28:05.959Z"
   },
   {
    "duration": 202,
    "start_time": "2021-11-11T18:28:05.977Z"
   },
   {
    "duration": 16,
    "start_time": "2021-11-11T18:28:06.182Z"
   },
   {
    "duration": 28,
    "start_time": "2021-11-11T18:28:06.201Z"
   },
   {
    "duration": 241,
    "start_time": "2021-11-11T18:28:06.232Z"
   },
   {
    "duration": 7,
    "start_time": "2021-11-11T18:28:06.476Z"
   },
   {
    "duration": 37,
    "start_time": "2021-11-11T18:28:06.486Z"
   },
   {
    "duration": 61,
    "start_time": "2021-11-11T18:28:06.525Z"
   },
   {
    "duration": 26,
    "start_time": "2021-11-11T18:28:06.588Z"
   },
   {
    "duration": 411,
    "start_time": "2021-11-11T18:28:06.616Z"
   },
   {
    "duration": 13,
    "start_time": "2021-11-11T18:28:07.029Z"
   },
   {
    "duration": 195,
    "start_time": "2021-11-11T18:28:07.045Z"
   },
   {
    "duration": 5,
    "start_time": "2021-11-11T18:28:07.243Z"
   },
   {
    "duration": 21,
    "start_time": "2021-11-11T18:28:07.251Z"
   },
   {
    "duration": 6,
    "start_time": "2021-11-11T18:28:07.275Z"
   },
   {
    "duration": 7,
    "start_time": "2021-11-11T18:28:07.289Z"
   },
   {
    "duration": 8,
    "start_time": "2021-11-11T18:28:07.300Z"
   },
   {
    "duration": 58,
    "start_time": "2021-11-11T18:28:07.311Z"
   },
   {
    "duration": 26,
    "start_time": "2021-11-11T18:28:07.371Z"
   },
   {
    "duration": 22,
    "start_time": "2021-11-11T18:28:07.400Z"
   },
   {
    "duration": 7,
    "start_time": "2021-11-11T18:28:07.424Z"
   },
   {
    "duration": 52,
    "start_time": "2021-11-11T18:28:07.434Z"
   },
   {
    "duration": 10,
    "start_time": "2021-11-11T18:28:07.488Z"
   },
   {
    "duration": 8,
    "start_time": "2021-11-11T18:28:07.500Z"
   },
   {
    "duration": 12,
    "start_time": "2021-11-11T18:28:07.510Z"
   },
   {
    "duration": 2531,
    "start_time": "2021-11-11T18:28:07.524Z"
   },
   {
    "duration": 15,
    "start_time": "2021-11-11T18:28:10.057Z"
   },
   {
    "duration": 2339,
    "start_time": "2021-11-11T18:28:10.075Z"
   },
   {
    "duration": 10,
    "start_time": "2021-11-11T18:28:12.418Z"
   },
   {
    "duration": 2501,
    "start_time": "2021-11-11T18:28:12.431Z"
   },
   {
    "duration": 11,
    "start_time": "2021-11-11T18:28:14.936Z"
   },
   {
    "duration": 1609,
    "start_time": "2021-11-11T18:28:14.949Z"
   },
   {
    "duration": 1449,
    "start_time": "2021-11-11T18:28:16.566Z"
   },
   {
    "duration": 8,
    "start_time": "2021-11-11T18:28:18.018Z"
   },
   {
    "duration": 10,
    "start_time": "2021-11-11T18:28:18.029Z"
   },
   {
    "duration": 35,
    "start_time": "2021-11-11T18:28:18.042Z"
   },
   {
    "duration": 18,
    "start_time": "2021-11-11T18:28:18.080Z"
   },
   {
    "duration": 2517,
    "start_time": "2021-11-11T18:28:18.100Z"
   },
   {
    "duration": 8,
    "start_time": "2021-11-11T18:28:20.620Z"
   },
   {
    "duration": 165,
    "start_time": "2021-11-11T18:28:20.631Z"
   },
   {
    "duration": 14,
    "start_time": "2021-11-11T18:28:20.798Z"
   },
   {
    "duration": 2572,
    "start_time": "2021-11-11T18:28:20.814Z"
   },
   {
    "duration": 5,
    "start_time": "2021-11-11T18:28:23.388Z"
   },
   {
    "duration": 437,
    "start_time": "2021-11-11T18:28:23.396Z"
   },
   {
    "duration": 46,
    "start_time": "2021-11-11T18:28:23.789Z"
   },
   {
    "duration": 45,
    "start_time": "2021-11-11T18:28:23.792Z"
   },
   {
    "duration": 42,
    "start_time": "2021-11-11T18:28:23.796Z"
   },
   {
    "duration": 41,
    "start_time": "2021-11-11T18:28:23.799Z"
   },
   {
    "duration": 1896,
    "start_time": "2021-11-11T18:30:24.916Z"
   },
   {
    "duration": 8,
    "start_time": "2021-11-11T18:30:45.760Z"
   },
   {
    "duration": 16,
    "start_time": "2021-11-11T18:31:04.822Z"
   },
   {
    "duration": 33,
    "start_time": "2021-11-11T18:31:05.529Z"
   },
   {
    "duration": 8,
    "start_time": "2021-11-11T18:31:06.290Z"
   },
   {
    "duration": 397,
    "start_time": "2021-11-11T18:31:13.072Z"
   },
   {
    "duration": 1506,
    "start_time": "2021-11-11T18:34:49.754Z"
   },
   {
    "duration": 364,
    "start_time": "2021-11-11T18:34:51.263Z"
   },
   {
    "duration": 107,
    "start_time": "2021-11-11T18:34:51.631Z"
   },
   {
    "duration": 485,
    "start_time": "2021-11-11T18:34:51.741Z"
   },
   {
    "duration": 28,
    "start_time": "2021-11-11T18:34:52.229Z"
   },
   {
    "duration": 33,
    "start_time": "2021-11-11T18:34:52.268Z"
   },
   {
    "duration": 385,
    "start_time": "2021-11-11T18:34:52.304Z"
   },
   {
    "duration": 11,
    "start_time": "2021-11-11T18:34:52.692Z"
   },
   {
    "duration": 208,
    "start_time": "2021-11-11T18:34:52.709Z"
   },
   {
    "duration": 16,
    "start_time": "2021-11-11T18:34:52.920Z"
   },
   {
    "duration": 49,
    "start_time": "2021-11-11T18:34:52.939Z"
   },
   {
    "duration": 224,
    "start_time": "2021-11-11T18:34:52.991Z"
   },
   {
    "duration": 8,
    "start_time": "2021-11-11T18:34:53.217Z"
   },
   {
    "duration": 57,
    "start_time": "2021-11-11T18:34:53.227Z"
   },
   {
    "duration": 27,
    "start_time": "2021-11-11T18:34:53.287Z"
   },
   {
    "duration": 27,
    "start_time": "2021-11-11T18:34:53.317Z"
   },
   {
    "duration": 390,
    "start_time": "2021-11-11T18:34:53.368Z"
   },
   {
    "duration": 12,
    "start_time": "2021-11-11T18:34:53.761Z"
   },
   {
    "duration": 175,
    "start_time": "2021-11-11T18:34:53.776Z"
   },
   {
    "duration": 15,
    "start_time": "2021-11-11T18:34:53.953Z"
   },
   {
    "duration": 14,
    "start_time": "2021-11-11T18:34:53.970Z"
   },
   {
    "duration": 6,
    "start_time": "2021-11-11T18:34:53.987Z"
   },
   {
    "duration": 22,
    "start_time": "2021-11-11T18:34:53.996Z"
   },
   {
    "duration": 15,
    "start_time": "2021-11-11T18:34:54.021Z"
   },
   {
    "duration": 27,
    "start_time": "2021-11-11T18:34:54.040Z"
   },
   {
    "duration": 26,
    "start_time": "2021-11-11T18:34:54.069Z"
   },
   {
    "duration": 18,
    "start_time": "2021-11-11T18:34:54.100Z"
   },
   {
    "duration": 7,
    "start_time": "2021-11-11T18:34:54.121Z"
   },
   {
    "duration": 55,
    "start_time": "2021-11-11T18:34:54.130Z"
   },
   {
    "duration": 9,
    "start_time": "2021-11-11T18:34:54.188Z"
   },
   {
    "duration": 8,
    "start_time": "2021-11-11T18:34:54.199Z"
   },
   {
    "duration": 16,
    "start_time": "2021-11-11T18:34:54.210Z"
   },
   {
    "duration": 2414,
    "start_time": "2021-11-11T18:34:54.229Z"
   },
   {
    "duration": 22,
    "start_time": "2021-11-11T18:34:56.645Z"
   },
   {
    "duration": 2353,
    "start_time": "2021-11-11T18:34:56.670Z"
   },
   {
    "duration": 9,
    "start_time": "2021-11-11T18:34:59.025Z"
   },
   {
    "duration": 2478,
    "start_time": "2021-11-11T18:34:59.037Z"
   },
   {
    "duration": 8,
    "start_time": "2021-11-11T18:35:01.518Z"
   },
   {
    "duration": 1591,
    "start_time": "2021-11-11T18:35:01.528Z"
   },
   {
    "duration": 1458,
    "start_time": "2021-11-11T18:35:03.122Z"
   },
   {
    "duration": 6,
    "start_time": "2021-11-11T18:35:04.582Z"
   },
   {
    "duration": 16,
    "start_time": "2021-11-11T18:35:04.590Z"
   },
   {
    "duration": 8,
    "start_time": "2021-11-11T18:35:04.608Z"
   },
   {
    "duration": 12,
    "start_time": "2021-11-11T18:35:04.618Z"
   },
   {
    "duration": 2417,
    "start_time": "2021-11-11T18:35:04.632Z"
   },
   {
    "duration": 16,
    "start_time": "2021-11-11T18:35:07.051Z"
   },
   {
    "duration": 161,
    "start_time": "2021-11-11T18:35:07.069Z"
   },
   {
    "duration": 12,
    "start_time": "2021-11-11T18:35:07.232Z"
   },
   {
    "duration": 2575,
    "start_time": "2021-11-11T18:35:07.247Z"
   },
   {
    "duration": 5,
    "start_time": "2021-11-11T18:35:09.826Z"
   },
   {
    "duration": 8890,
    "start_time": "2021-11-11T18:35:09.833Z"
   },
   {
    "duration": -41,
    "start_time": "2021-11-11T18:35:18.767Z"
   },
   {
    "duration": -41,
    "start_time": "2021-11-11T18:35:18.768Z"
   },
   {
    "duration": -41,
    "start_time": "2021-11-11T18:35:18.770Z"
   },
   {
    "duration": -42,
    "start_time": "2021-11-11T18:35:18.772Z"
   },
   {
    "duration": 6464,
    "start_time": "2021-11-11T18:39:22.495Z"
   },
   {
    "duration": 6423,
    "start_time": "2021-11-11T18:39:48.477Z"
   },
   {
    "duration": 1554,
    "start_time": "2021-11-11T18:40:05.710Z"
   },
   {
    "duration": 363,
    "start_time": "2021-11-11T18:40:07.267Z"
   },
   {
    "duration": 103,
    "start_time": "2021-11-11T18:40:07.633Z"
   },
   {
    "duration": 463,
    "start_time": "2021-11-11T18:40:07.739Z"
   },
   {
    "duration": 27,
    "start_time": "2021-11-11T18:40:08.205Z"
   },
   {
    "duration": 57,
    "start_time": "2021-11-11T18:40:08.235Z"
   },
   {
    "duration": 395,
    "start_time": "2021-11-11T18:40:08.294Z"
   },
   {
    "duration": 11,
    "start_time": "2021-11-11T18:40:08.691Z"
   },
   {
    "duration": 201,
    "start_time": "2021-11-11T18:40:08.706Z"
   },
   {
    "duration": 18,
    "start_time": "2021-11-11T18:40:08.910Z"
   },
   {
    "duration": 53,
    "start_time": "2021-11-11T18:40:08.930Z"
   },
   {
    "duration": 222,
    "start_time": "2021-11-11T18:40:08.986Z"
   },
   {
    "duration": 8,
    "start_time": "2021-11-11T18:40:09.210Z"
   },
   {
    "duration": 60,
    "start_time": "2021-11-11T18:40:09.220Z"
   },
   {
    "duration": 32,
    "start_time": "2021-11-11T18:40:09.283Z"
   },
   {
    "duration": 50,
    "start_time": "2021-11-11T18:40:09.318Z"
   },
   {
    "duration": 403,
    "start_time": "2021-11-11T18:40:09.371Z"
   },
   {
    "duration": 13,
    "start_time": "2021-11-11T18:40:09.776Z"
   },
   {
    "duration": 185,
    "start_time": "2021-11-11T18:40:09.792Z"
   },
   {
    "duration": 5,
    "start_time": "2021-11-11T18:40:09.980Z"
   },
   {
    "duration": 24,
    "start_time": "2021-11-11T18:40:09.988Z"
   },
   {
    "duration": 7,
    "start_time": "2021-11-11T18:40:10.015Z"
   },
   {
    "duration": 10,
    "start_time": "2021-11-11T18:40:10.025Z"
   },
   {
    "duration": 31,
    "start_time": "2021-11-11T18:40:10.038Z"
   },
   {
    "duration": 17,
    "start_time": "2021-11-11T18:40:10.072Z"
   },
   {
    "duration": 35,
    "start_time": "2021-11-11T18:40:10.092Z"
   },
   {
    "duration": 42,
    "start_time": "2021-11-11T18:40:10.135Z"
   },
   {
    "duration": 6,
    "start_time": "2021-11-11T18:40:10.181Z"
   },
   {
    "duration": 38,
    "start_time": "2021-11-11T18:40:10.190Z"
   },
   {
    "duration": 10,
    "start_time": "2021-11-11T18:40:10.230Z"
   },
   {
    "duration": 27,
    "start_time": "2021-11-11T18:40:10.242Z"
   },
   {
    "duration": 11,
    "start_time": "2021-11-11T18:40:10.271Z"
   },
   {
    "duration": 2502,
    "start_time": "2021-11-11T18:40:10.285Z"
   },
   {
    "duration": 9,
    "start_time": "2021-11-11T18:40:12.789Z"
   },
   {
    "duration": 3122,
    "start_time": "2021-11-11T18:40:12.801Z"
   },
   {
    "duration": 10,
    "start_time": "2021-11-11T18:40:15.925Z"
   },
   {
    "duration": 2556,
    "start_time": "2021-11-11T18:40:15.938Z"
   },
   {
    "duration": 11,
    "start_time": "2021-11-11T18:40:18.498Z"
   },
   {
    "duration": 1865,
    "start_time": "2021-11-11T18:40:18.512Z"
   },
   {
    "duration": 1593,
    "start_time": "2021-11-11T18:40:20.379Z"
   },
   {
    "duration": 6,
    "start_time": "2021-11-11T18:40:21.975Z"
   },
   {
    "duration": 21,
    "start_time": "2021-11-11T18:40:21.984Z"
   },
   {
    "duration": 10,
    "start_time": "2021-11-11T18:40:22.007Z"
   },
   {
    "duration": 22,
    "start_time": "2021-11-11T18:40:22.020Z"
   },
   {
    "duration": 2460,
    "start_time": "2021-11-11T18:40:22.044Z"
   },
   {
    "duration": 6,
    "start_time": "2021-11-11T18:40:24.507Z"
   },
   {
    "duration": 152,
    "start_time": "2021-11-11T18:40:24.515Z"
   },
   {
    "duration": 10,
    "start_time": "2021-11-11T18:40:24.669Z"
   },
   {
    "duration": 2567,
    "start_time": "2021-11-11T18:40:24.682Z"
   },
   {
    "duration": 15,
    "start_time": "2021-11-11T18:40:27.252Z"
   },
   {
    "duration": 11,
    "start_time": "2021-11-11T18:40:27.270Z"
   },
   {
    "duration": 21,
    "start_time": "2021-11-11T18:40:27.284Z"
   },
   {
    "duration": 61,
    "start_time": "2021-11-11T18:40:27.308Z"
   },
   {
    "duration": 9,
    "start_time": "2021-11-11T18:40:27.371Z"
   },
   {
    "duration": 688,
    "start_time": "2021-11-11T18:40:27.382Z"
   },
   {
    "duration": 255,
    "start_time": "2021-11-11T18:41:00.773Z"
   },
   {
    "duration": 692,
    "start_time": "2021-11-11T18:41:22.580Z"
   },
   {
    "duration": 689,
    "start_time": "2021-11-11T18:41:31.713Z"
   },
   {
    "duration": 258,
    "start_time": "2021-11-11T18:48:41.343Z"
   },
   {
    "duration": 7,
    "start_time": "2021-11-11T18:58:33.320Z"
   },
   {
    "duration": 17,
    "start_time": "2021-11-11T18:58:35.118Z"
   },
   {
    "duration": 32,
    "start_time": "2021-11-11T18:58:35.800Z"
   },
   {
    "duration": 6426,
    "start_time": "2021-11-11T18:58:36.670Z"
   },
   {
    "duration": 1509,
    "start_time": "2021-11-11T18:59:10.232Z"
   },
   {
    "duration": 356,
    "start_time": "2021-11-11T18:59:11.744Z"
   },
   {
    "duration": 94,
    "start_time": "2021-11-11T18:59:12.103Z"
   },
   {
    "duration": 451,
    "start_time": "2021-11-11T18:59:12.200Z"
   },
   {
    "duration": 28,
    "start_time": "2021-11-11T18:59:12.654Z"
   },
   {
    "duration": 34,
    "start_time": "2021-11-11T18:59:12.685Z"
   },
   {
    "duration": 380,
    "start_time": "2021-11-11T18:59:12.722Z"
   },
   {
    "duration": 10,
    "start_time": "2021-11-11T18:59:13.106Z"
   },
   {
    "duration": 204,
    "start_time": "2021-11-11T18:59:13.119Z"
   },
   {
    "duration": 16,
    "start_time": "2021-11-11T18:59:13.325Z"
   },
   {
    "duration": 51,
    "start_time": "2021-11-11T18:59:13.344Z"
   },
   {
    "duration": 224,
    "start_time": "2021-11-11T18:59:13.397Z"
   },
   {
    "duration": 8,
    "start_time": "2021-11-11T18:59:13.623Z"
   },
   {
    "duration": 58,
    "start_time": "2021-11-11T18:59:13.633Z"
   },
   {
    "duration": 30,
    "start_time": "2021-11-11T18:59:13.694Z"
   },
   {
    "duration": 49,
    "start_time": "2021-11-11T18:59:13.727Z"
   },
   {
    "duration": 404,
    "start_time": "2021-11-11T18:59:13.779Z"
   },
   {
    "duration": 12,
    "start_time": "2021-11-11T18:59:14.185Z"
   },
   {
    "duration": 199,
    "start_time": "2021-11-11T18:59:14.200Z"
   },
   {
    "duration": 4,
    "start_time": "2021-11-11T18:59:14.401Z"
   },
   {
    "duration": 17,
    "start_time": "2021-11-11T18:59:14.407Z"
   },
   {
    "duration": 5,
    "start_time": "2021-11-11T18:59:14.427Z"
   },
   {
    "duration": 5,
    "start_time": "2021-11-11T18:59:14.439Z"
   },
   {
    "duration": 11,
    "start_time": "2021-11-11T18:59:14.447Z"
   },
   {
    "duration": 13,
    "start_time": "2021-11-11T18:59:14.461Z"
   },
   {
    "duration": 24,
    "start_time": "2021-11-11T18:59:14.476Z"
   },
   {
    "duration": 15,
    "start_time": "2021-11-11T18:59:14.503Z"
   },
   {
    "duration": 7,
    "start_time": "2021-11-11T18:59:14.520Z"
   },
   {
    "duration": 29,
    "start_time": "2021-11-11T18:59:14.529Z"
   },
   {
    "duration": 10,
    "start_time": "2021-11-11T18:59:14.560Z"
   },
   {
    "duration": 7,
    "start_time": "2021-11-11T18:59:14.572Z"
   },
   {
    "duration": 12,
    "start_time": "2021-11-11T18:59:14.581Z"
   },
   {
    "duration": 2797,
    "start_time": "2021-11-11T18:59:14.596Z"
   },
   {
    "duration": 9,
    "start_time": "2021-11-11T18:59:17.395Z"
   },
   {
    "duration": 2621,
    "start_time": "2021-11-11T18:59:17.406Z"
   },
   {
    "duration": 8,
    "start_time": "2021-11-11T18:59:20.030Z"
   },
   {
    "duration": 2941,
    "start_time": "2021-11-11T18:59:20.040Z"
   },
   {
    "duration": 12,
    "start_time": "2021-11-11T18:59:22.984Z"
   },
   {
    "duration": 1742,
    "start_time": "2021-11-11T18:59:22.999Z"
   },
   {
    "duration": 1554,
    "start_time": "2021-11-11T18:59:24.743Z"
   },
   {
    "duration": 6,
    "start_time": "2021-11-11T18:59:26.299Z"
   },
   {
    "duration": 11,
    "start_time": "2021-11-11T18:59:26.307Z"
   },
   {
    "duration": 14,
    "start_time": "2021-11-11T18:59:26.320Z"
   },
   {
    "duration": 11,
    "start_time": "2021-11-11T18:59:26.337Z"
   },
   {
    "duration": 2490,
    "start_time": "2021-11-11T18:59:26.350Z"
   },
   {
    "duration": 7,
    "start_time": "2021-11-11T18:59:28.843Z"
   },
   {
    "duration": 152,
    "start_time": "2021-11-11T18:59:28.868Z"
   },
   {
    "duration": 11,
    "start_time": "2021-11-11T18:59:29.022Z"
   },
   {
    "duration": 2846,
    "start_time": "2021-11-11T18:59:29.036Z"
   },
   {
    "duration": 5,
    "start_time": "2021-11-11T18:59:31.885Z"
   },
   {
    "duration": 13,
    "start_time": "2021-11-11T18:59:31.893Z"
   },
   {
    "duration": 18,
    "start_time": "2021-11-11T18:59:31.908Z"
   },
   {
    "duration": 60,
    "start_time": "2021-11-11T18:59:31.929Z"
   },
   {
    "duration": 8,
    "start_time": "2021-11-11T18:59:31.992Z"
   },
   {
    "duration": 535,
    "start_time": "2021-11-11T18:59:32.002Z"
   },
   {
    "duration": 1524,
    "start_time": "2021-11-11T19:01:04.230Z"
   },
   {
    "duration": 354,
    "start_time": "2021-11-11T19:01:05.757Z"
   },
   {
    "duration": 95,
    "start_time": "2021-11-11T19:01:06.114Z"
   },
   {
    "duration": 458,
    "start_time": "2021-11-11T19:01:06.212Z"
   },
   {
    "duration": 25,
    "start_time": "2021-11-11T19:01:06.672Z"
   },
   {
    "duration": 33,
    "start_time": "2021-11-11T19:01:06.700Z"
   },
   {
    "duration": 386,
    "start_time": "2021-11-11T19:01:06.735Z"
   },
   {
    "duration": 11,
    "start_time": "2021-11-11T19:01:07.123Z"
   },
   {
    "duration": 214,
    "start_time": "2021-11-11T19:01:07.139Z"
   },
   {
    "duration": 20,
    "start_time": "2021-11-11T19:01:07.356Z"
   },
   {
    "duration": 31,
    "start_time": "2021-11-11T19:01:07.379Z"
   },
   {
    "duration": 236,
    "start_time": "2021-11-11T19:01:07.412Z"
   },
   {
    "duration": 7,
    "start_time": "2021-11-11T19:01:07.651Z"
   },
   {
    "duration": 43,
    "start_time": "2021-11-11T19:01:07.667Z"
   },
   {
    "duration": 30,
    "start_time": "2021-11-11T19:01:07.712Z"
   },
   {
    "duration": 24,
    "start_time": "2021-11-11T19:01:07.768Z"
   },
   {
    "duration": 395,
    "start_time": "2021-11-11T19:01:07.794Z"
   },
   {
    "duration": 14,
    "start_time": "2021-11-11T19:01:08.191Z"
   },
   {
    "duration": 184,
    "start_time": "2021-11-11T19:01:08.207Z"
   },
   {
    "duration": 3,
    "start_time": "2021-11-11T19:01:08.393Z"
   },
   {
    "duration": 13,
    "start_time": "2021-11-11T19:01:08.399Z"
   },
   {
    "duration": 14,
    "start_time": "2021-11-11T19:01:08.415Z"
   },
   {
    "duration": 7,
    "start_time": "2021-11-11T19:01:08.431Z"
   },
   {
    "duration": 29,
    "start_time": "2021-11-11T19:01:08.440Z"
   },
   {
    "duration": 6,
    "start_time": "2021-11-11T19:01:08.471Z"
   },
   {
    "duration": 10,
    "start_time": "2021-11-11T19:01:08.479Z"
   },
   {
    "duration": 28,
    "start_time": "2021-11-11T19:01:08.495Z"
   },
   {
    "duration": 8,
    "start_time": "2021-11-11T19:01:08.526Z"
   },
   {
    "duration": 58,
    "start_time": "2021-11-11T19:01:08.536Z"
   },
   {
    "duration": 10,
    "start_time": "2021-11-11T19:01:08.597Z"
   },
   {
    "duration": 8,
    "start_time": "2021-11-11T19:01:08.610Z"
   },
   {
    "duration": 48,
    "start_time": "2021-11-11T19:01:08.620Z"
   },
   {
    "duration": 2588,
    "start_time": "2021-11-11T19:01:08.671Z"
   },
   {
    "duration": 9,
    "start_time": "2021-11-11T19:01:11.266Z"
   },
   {
    "duration": 2533,
    "start_time": "2021-11-11T19:01:11.277Z"
   },
   {
    "duration": 9,
    "start_time": "2021-11-11T19:01:13.813Z"
   },
   {
    "duration": 2815,
    "start_time": "2021-11-11T19:01:13.824Z"
   },
   {
    "duration": 9,
    "start_time": "2021-11-11T19:01:16.641Z"
   },
   {
    "duration": 1745,
    "start_time": "2021-11-11T19:01:16.653Z"
   },
   {
    "duration": 1457,
    "start_time": "2021-11-11T19:01:18.401Z"
   },
   {
    "duration": 10,
    "start_time": "2021-11-11T19:01:19.860Z"
   },
   {
    "duration": 11,
    "start_time": "2021-11-11T19:01:19.872Z"
   },
   {
    "duration": 11,
    "start_time": "2021-11-11T19:01:19.886Z"
   },
   {
    "duration": 20,
    "start_time": "2021-11-11T19:01:19.900Z"
   },
   {
    "duration": 2468,
    "start_time": "2021-11-11T19:01:19.922Z"
   },
   {
    "duration": 7,
    "start_time": "2021-11-11T19:01:22.392Z"
   },
   {
    "duration": 160,
    "start_time": "2021-11-11T19:01:22.401Z"
   },
   {
    "duration": 11,
    "start_time": "2021-11-11T19:01:22.563Z"
   },
   {
    "duration": 2564,
    "start_time": "2021-11-11T19:01:22.576Z"
   },
   {
    "duration": 5,
    "start_time": "2021-11-11T19:01:25.143Z"
   },
   {
    "duration": 23,
    "start_time": "2021-11-11T19:01:25.151Z"
   },
   {
    "duration": 23,
    "start_time": "2021-11-11T19:01:25.178Z"
   },
   {
    "duration": 30,
    "start_time": "2021-11-11T19:01:25.203Z"
   },
   {
    "duration": 36,
    "start_time": "2021-11-11T19:01:25.236Z"
   },
   {
    "duration": 445,
    "start_time": "2021-11-11T19:01:25.274Z"
   },
   {
    "duration": 1468,
    "start_time": "2021-11-11T19:15:51.775Z"
   },
   {
    "duration": 348,
    "start_time": "2021-11-11T19:15:53.246Z"
   },
   {
    "duration": 98,
    "start_time": "2021-11-11T19:15:53.597Z"
   },
   {
    "duration": 461,
    "start_time": "2021-11-11T19:15:53.698Z"
   },
   {
    "duration": 24,
    "start_time": "2021-11-11T19:15:54.161Z"
   },
   {
    "duration": 33,
    "start_time": "2021-11-11T19:15:54.187Z"
   },
   {
    "duration": 388,
    "start_time": "2021-11-11T19:15:54.222Z"
   },
   {
    "duration": 11,
    "start_time": "2021-11-11T19:15:54.614Z"
   },
   {
    "duration": 201,
    "start_time": "2021-11-11T19:15:54.628Z"
   },
   {
    "duration": 16,
    "start_time": "2021-11-11T19:15:54.831Z"
   },
   {
    "duration": 47,
    "start_time": "2021-11-11T19:15:54.849Z"
   },
   {
    "duration": 221,
    "start_time": "2021-11-11T19:15:54.898Z"
   },
   {
    "duration": 8,
    "start_time": "2021-11-11T19:15:55.122Z"
   },
   {
    "duration": 57,
    "start_time": "2021-11-11T19:15:55.132Z"
   },
   {
    "duration": 30,
    "start_time": "2021-11-11T19:15:55.192Z"
   },
   {
    "duration": 46,
    "start_time": "2021-11-11T19:15:55.224Z"
   },
   {
    "duration": 388,
    "start_time": "2021-11-11T19:15:55.272Z"
   },
   {
    "duration": 12,
    "start_time": "2021-11-11T19:15:55.667Z"
   },
   {
    "duration": 170,
    "start_time": "2021-11-11T19:15:55.681Z"
   },
   {
    "duration": 14,
    "start_time": "2021-11-11T19:15:55.853Z"
   },
   {
    "duration": 17,
    "start_time": "2021-11-11T19:15:55.869Z"
   },
   {
    "duration": 5,
    "start_time": "2021-11-11T19:15:55.888Z"
   },
   {
    "duration": 7,
    "start_time": "2021-11-11T19:15:55.899Z"
   },
   {
    "duration": 6,
    "start_time": "2021-11-11T19:15:55.909Z"
   },
   {
    "duration": 7,
    "start_time": "2021-11-11T19:15:55.918Z"
   },
   {
    "duration": 21,
    "start_time": "2021-11-11T19:15:55.966Z"
   },
   {
    "duration": 18,
    "start_time": "2021-11-11T19:15:55.989Z"
   },
   {
    "duration": 7,
    "start_time": "2021-11-11T19:15:56.009Z"
   },
   {
    "duration": 57,
    "start_time": "2021-11-11T19:15:56.018Z"
   },
   {
    "duration": 10,
    "start_time": "2021-11-11T19:15:56.078Z"
   },
   {
    "duration": 8,
    "start_time": "2021-11-11T19:15:56.090Z"
   },
   {
    "duration": 15,
    "start_time": "2021-11-11T19:15:56.100Z"
   },
   {
    "duration": 2469,
    "start_time": "2021-11-11T19:15:56.118Z"
   },
   {
    "duration": 10,
    "start_time": "2021-11-11T19:15:58.589Z"
   },
   {
    "duration": 2335,
    "start_time": "2021-11-11T19:15:58.601Z"
   },
   {
    "duration": 27,
    "start_time": "2021-11-11T19:16:00.940Z"
   },
   {
    "duration": 2497,
    "start_time": "2021-11-11T19:16:00.970Z"
   },
   {
    "duration": 9,
    "start_time": "2021-11-11T19:16:03.470Z"
   },
   {
    "duration": 1575,
    "start_time": "2021-11-11T19:16:03.482Z"
   },
   {
    "duration": 1438,
    "start_time": "2021-11-11T19:16:05.059Z"
   },
   {
    "duration": 6,
    "start_time": "2021-11-11T19:16:06.499Z"
   },
   {
    "duration": 10,
    "start_time": "2021-11-11T19:16:06.507Z"
   },
   {
    "duration": 11,
    "start_time": "2021-11-11T19:16:06.519Z"
   },
   {
    "duration": 16,
    "start_time": "2021-11-11T19:16:06.532Z"
   },
   {
    "duration": 2446,
    "start_time": "2021-11-11T19:16:06.550Z"
   },
   {
    "duration": 6,
    "start_time": "2021-11-11T19:16:08.999Z"
   },
   {
    "duration": 152,
    "start_time": "2021-11-11T19:16:09.007Z"
   },
   {
    "duration": 10,
    "start_time": "2021-11-11T19:16:09.161Z"
   },
   {
    "duration": 2525,
    "start_time": "2021-11-11T19:16:09.173Z"
   },
   {
    "duration": 5,
    "start_time": "2021-11-11T19:16:11.700Z"
   },
   {
    "duration": 13,
    "start_time": "2021-11-11T19:16:11.707Z"
   },
   {
    "duration": 17,
    "start_time": "2021-11-11T19:16:11.723Z"
   },
   {
    "duration": 53,
    "start_time": "2021-11-11T19:16:11.743Z"
   },
   {
    "duration": 13,
    "start_time": "2021-11-11T19:16:11.798Z"
   },
   {
    "duration": 562,
    "start_time": "2021-11-11T19:16:11.813Z"
   },
   {
    "duration": 1539,
    "start_time": "2021-11-11T19:17:58.924Z"
   },
   {
    "duration": 360,
    "start_time": "2021-11-11T19:18:00.468Z"
   },
   {
    "duration": 97,
    "start_time": "2021-11-11T19:18:00.831Z"
   },
   {
    "duration": 461,
    "start_time": "2021-11-11T19:18:00.931Z"
   },
   {
    "duration": 25,
    "start_time": "2021-11-11T19:18:01.395Z"
   },
   {
    "duration": 59,
    "start_time": "2021-11-11T19:18:01.423Z"
   },
   {
    "duration": 392,
    "start_time": "2021-11-11T19:18:01.484Z"
   },
   {
    "duration": 11,
    "start_time": "2021-11-11T19:18:01.878Z"
   },
   {
    "duration": 206,
    "start_time": "2021-11-11T19:18:01.893Z"
   },
   {
    "duration": 16,
    "start_time": "2021-11-11T19:18:02.102Z"
   },
   {
    "duration": 52,
    "start_time": "2021-11-11T19:18:02.120Z"
   },
   {
    "duration": 223,
    "start_time": "2021-11-11T19:18:02.174Z"
   },
   {
    "duration": 7,
    "start_time": "2021-11-11T19:18:02.399Z"
   },
   {
    "duration": 60,
    "start_time": "2021-11-11T19:18:02.409Z"
   },
   {
    "duration": 31,
    "start_time": "2021-11-11T19:18:02.471Z"
   },
   {
    "duration": 28,
    "start_time": "2021-11-11T19:18:02.505Z"
   },
   {
    "duration": 412,
    "start_time": "2021-11-11T19:18:02.536Z"
   },
   {
    "duration": 21,
    "start_time": "2021-11-11T19:18:02.950Z"
   },
   {
    "duration": 176,
    "start_time": "2021-11-11T19:18:02.973Z"
   },
   {
    "duration": 4,
    "start_time": "2021-11-11T19:18:03.152Z"
   },
   {
    "duration": 20,
    "start_time": "2021-11-11T19:18:03.158Z"
   },
   {
    "duration": 5,
    "start_time": "2021-11-11T19:18:03.180Z"
   },
   {
    "duration": 8,
    "start_time": "2021-11-11T19:18:03.192Z"
   },
   {
    "duration": 7,
    "start_time": "2021-11-11T19:18:03.202Z"
   },
   {
    "duration": 7,
    "start_time": "2021-11-11T19:18:03.212Z"
   },
   {
    "duration": 59,
    "start_time": "2021-11-11T19:18:03.221Z"
   },
   {
    "duration": 16,
    "start_time": "2021-11-11T19:18:03.286Z"
   },
   {
    "duration": 7,
    "start_time": "2021-11-11T19:18:03.305Z"
   },
   {
    "duration": 53,
    "start_time": "2021-11-11T19:18:03.314Z"
   },
   {
    "duration": 10,
    "start_time": "2021-11-11T19:18:03.370Z"
   },
   {
    "duration": 7,
    "start_time": "2021-11-11T19:18:03.382Z"
   },
   {
    "duration": 15,
    "start_time": "2021-11-11T19:18:03.392Z"
   },
   {
    "duration": 2504,
    "start_time": "2021-11-11T19:18:03.410Z"
   },
   {
    "duration": 8,
    "start_time": "2021-11-11T19:18:05.916Z"
   },
   {
    "duration": 2375,
    "start_time": "2021-11-11T19:18:05.926Z"
   },
   {
    "duration": 9,
    "start_time": "2021-11-11T19:18:08.304Z"
   },
   {
    "duration": 2552,
    "start_time": "2021-11-11T19:18:08.315Z"
   },
   {
    "duration": 11,
    "start_time": "2021-11-11T19:18:10.869Z"
   },
   {
    "duration": 1607,
    "start_time": "2021-11-11T19:18:10.883Z"
   },
   {
    "duration": 1405,
    "start_time": "2021-11-11T19:18:12.492Z"
   },
   {
    "duration": 6,
    "start_time": "2021-11-11T19:18:13.900Z"
   },
   {
    "duration": 13,
    "start_time": "2021-11-11T19:18:13.908Z"
   },
   {
    "duration": 8,
    "start_time": "2021-11-11T19:18:13.923Z"
   },
   {
    "duration": 14,
    "start_time": "2021-11-11T19:18:13.933Z"
   },
   {
    "duration": 2410,
    "start_time": "2021-11-11T19:18:13.949Z"
   },
   {
    "duration": 6,
    "start_time": "2021-11-11T19:18:16.361Z"
   },
   {
    "duration": 140,
    "start_time": "2021-11-11T19:18:16.369Z"
   },
   {
    "duration": 10,
    "start_time": "2021-11-11T19:18:16.512Z"
   },
   {
    "duration": 2909,
    "start_time": "2021-11-11T19:18:16.524Z"
   },
   {
    "duration": 5,
    "start_time": "2021-11-11T19:18:19.435Z"
   },
   {
    "duration": 30,
    "start_time": "2021-11-11T19:18:19.442Z"
   },
   {
    "duration": 25,
    "start_time": "2021-11-11T19:18:19.475Z"
   },
   {
    "duration": 33,
    "start_time": "2021-11-11T19:18:19.502Z"
   },
   {
    "duration": 9,
    "start_time": "2021-11-11T19:18:19.537Z"
   },
   {
    "duration": 50,
    "start_time": "2021-11-11T19:18:19.548Z"
   },
   {
    "duration": 398,
    "start_time": "2021-11-11T19:18:53.589Z"
   },
   {
    "duration": 8,
    "start_time": "2021-11-11T19:19:04.012Z"
   },
   {
    "duration": 32,
    "start_time": "2021-11-11T19:19:49.009Z"
   },
   {
    "duration": 32,
    "start_time": "2021-11-11T19:20:04.270Z"
   },
   {
    "duration": 314,
    "start_time": "2021-11-11T19:20:04.985Z"
   },
   {
    "duration": 28,
    "start_time": "2021-11-11T19:21:38.226Z"
   },
   {
    "duration": 279,
    "start_time": "2021-11-11T19:21:39.792Z"
   },
   {
    "duration": 1443,
    "start_time": "2021-11-11T19:22:00.909Z"
   },
   {
    "duration": 352,
    "start_time": "2021-11-11T19:22:02.355Z"
   },
   {
    "duration": 96,
    "start_time": "2021-11-11T19:22:02.710Z"
   },
   {
    "duration": 458,
    "start_time": "2021-11-11T19:22:02.809Z"
   },
   {
    "duration": 23,
    "start_time": "2021-11-11T19:22:03.270Z"
   },
   {
    "duration": 35,
    "start_time": "2021-11-11T19:22:03.296Z"
   },
   {
    "duration": 394,
    "start_time": "2021-11-11T19:22:03.333Z"
   },
   {
    "duration": 10,
    "start_time": "2021-11-11T19:22:03.730Z"
   },
   {
    "duration": 209,
    "start_time": "2021-11-11T19:22:03.744Z"
   },
   {
    "duration": 24,
    "start_time": "2021-11-11T19:22:03.956Z"
   },
   {
    "duration": 28,
    "start_time": "2021-11-11T19:22:03.982Z"
   },
   {
    "duration": 237,
    "start_time": "2021-11-11T19:22:04.013Z"
   },
   {
    "duration": 20,
    "start_time": "2021-11-11T19:22:04.252Z"
   },
   {
    "duration": 39,
    "start_time": "2021-11-11T19:22:04.274Z"
   },
   {
    "duration": 54,
    "start_time": "2021-11-11T19:22:04.315Z"
   },
   {
    "duration": 26,
    "start_time": "2021-11-11T19:22:04.371Z"
   },
   {
    "duration": 414,
    "start_time": "2021-11-11T19:22:04.400Z"
   },
   {
    "duration": 13,
    "start_time": "2021-11-11T19:22:04.816Z"
   },
   {
    "duration": 183,
    "start_time": "2021-11-11T19:22:04.831Z"
   },
   {
    "duration": 3,
    "start_time": "2021-11-11T19:22:05.017Z"
   },
   {
    "duration": 31,
    "start_time": "2021-11-11T19:22:05.023Z"
   },
   {
    "duration": 23,
    "start_time": "2021-11-11T19:22:05.057Z"
   },
   {
    "duration": 16,
    "start_time": "2021-11-11T19:22:05.083Z"
   },
   {
    "duration": 18,
    "start_time": "2021-11-11T19:22:05.101Z"
   },
   {
    "duration": 16,
    "start_time": "2021-11-11T19:22:05.121Z"
   },
   {
    "duration": 28,
    "start_time": "2021-11-11T19:22:05.139Z"
   },
   {
    "duration": 20,
    "start_time": "2021-11-11T19:22:05.172Z"
   },
   {
    "duration": 7,
    "start_time": "2021-11-11T19:22:05.195Z"
   },
   {
    "duration": 32,
    "start_time": "2021-11-11T19:22:05.204Z"
   },
   {
    "duration": 30,
    "start_time": "2021-11-11T19:22:05.239Z"
   },
   {
    "duration": 8,
    "start_time": "2021-11-11T19:22:05.271Z"
   },
   {
    "duration": 15,
    "start_time": "2021-11-11T19:22:05.281Z"
   },
   {
    "duration": 2487,
    "start_time": "2021-11-11T19:22:05.299Z"
   },
   {
    "duration": 10,
    "start_time": "2021-11-11T19:22:07.790Z"
   },
   {
    "duration": 2350,
    "start_time": "2021-11-11T19:22:07.803Z"
   },
   {
    "duration": 18,
    "start_time": "2021-11-11T19:22:10.155Z"
   },
   {
    "duration": 2520,
    "start_time": "2021-11-11T19:22:10.175Z"
   },
   {
    "duration": 9,
    "start_time": "2021-11-11T19:22:12.697Z"
   },
   {
    "duration": 1564,
    "start_time": "2021-11-11T19:22:12.709Z"
   },
   {
    "duration": 1514,
    "start_time": "2021-11-11T19:22:14.276Z"
   },
   {
    "duration": 5,
    "start_time": "2021-11-11T19:22:15.793Z"
   },
   {
    "duration": 9,
    "start_time": "2021-11-11T19:22:15.800Z"
   },
   {
    "duration": 9,
    "start_time": "2021-11-11T19:22:15.812Z"
   },
   {
    "duration": 13,
    "start_time": "2021-11-11T19:22:15.823Z"
   },
   {
    "duration": 2417,
    "start_time": "2021-11-11T19:22:15.838Z"
   },
   {
    "duration": 11,
    "start_time": "2021-11-11T19:22:18.257Z"
   },
   {
    "duration": 151,
    "start_time": "2021-11-11T19:22:18.270Z"
   },
   {
    "duration": 11,
    "start_time": "2021-11-11T19:22:18.424Z"
   },
   {
    "duration": 2545,
    "start_time": "2021-11-11T19:22:18.438Z"
   },
   {
    "duration": 5,
    "start_time": "2021-11-11T19:22:20.985Z"
   },
   {
    "duration": 26,
    "start_time": "2021-11-11T19:22:20.992Z"
   },
   {
    "duration": 27,
    "start_time": "2021-11-11T19:22:21.020Z"
   },
   {
    "duration": 45,
    "start_time": "2021-11-11T19:22:21.049Z"
   },
   {
    "duration": 8,
    "start_time": "2021-11-11T19:22:21.096Z"
   },
   {
    "duration": 41,
    "start_time": "2021-11-11T19:22:21.107Z"
   },
   {
    "duration": 46,
    "start_time": "2021-11-11T19:22:21.151Z"
   },
   {
    "duration": 31,
    "start_time": "2021-11-11T19:22:51.592Z"
   },
   {
    "duration": 30,
    "start_time": "2021-11-11T19:22:59.467Z"
   },
   {
    "duration": 40,
    "start_time": "2021-11-11T19:23:25.697Z"
   },
   {
    "duration": 29,
    "start_time": "2021-11-11T19:23:26.232Z"
   },
   {
    "duration": 29,
    "start_time": "2021-11-11T19:23:26.834Z"
   },
   {
    "duration": 1850,
    "start_time": "2021-11-11T20:07:19.221Z"
   },
   {
    "duration": 4,
    "start_time": "2021-11-11T20:08:37.665Z"
   },
   {
    "duration": 4,
    "start_time": "2021-11-11T20:11:02.505Z"
   },
   {
    "duration": 1857,
    "start_time": "2021-11-11T20:11:04.112Z"
   },
   {
    "duration": 4,
    "start_time": "2021-11-11T20:11:06.903Z"
   },
   {
    "duration": 416,
    "start_time": "2021-11-11T20:14:17.371Z"
   },
   {
    "duration": 2511,
    "start_time": "2021-11-11T20:15:04.559Z"
   },
   {
    "duration": 4,
    "start_time": "2021-11-11T20:16:24.661Z"
   },
   {
    "duration": 4,
    "start_time": "2021-11-11T20:17:04.516Z"
   },
   {
    "duration": 1520,
    "start_time": "2021-11-11T20:17:05.151Z"
   },
   {
    "duration": 4,
    "start_time": "2021-11-11T20:17:08.066Z"
   },
   {
    "duration": 1516,
    "start_time": "2021-11-11T20:17:23.619Z"
   },
   {
    "duration": 590,
    "start_time": "2021-11-11T20:17:25.138Z"
   },
   {
    "duration": 148,
    "start_time": "2021-11-11T20:17:25.733Z"
   },
   {
    "duration": 460,
    "start_time": "2021-11-11T20:17:25.884Z"
   },
   {
    "duration": 33,
    "start_time": "2021-11-11T20:17:26.346Z"
   },
   {
    "duration": 32,
    "start_time": "2021-11-11T20:17:26.381Z"
   },
   {
    "duration": 365,
    "start_time": "2021-11-11T20:17:26.415Z"
   },
   {
    "duration": 10,
    "start_time": "2021-11-11T20:17:26.783Z"
   },
   {
    "duration": 307,
    "start_time": "2021-11-11T20:17:26.797Z"
   },
   {
    "duration": 18,
    "start_time": "2021-11-11T20:17:27.107Z"
   },
   {
    "duration": 51,
    "start_time": "2021-11-11T20:17:27.127Z"
   },
   {
    "duration": 222,
    "start_time": "2021-11-11T20:17:27.180Z"
   },
   {
    "duration": 9,
    "start_time": "2021-11-11T20:17:27.404Z"
   },
   {
    "duration": 60,
    "start_time": "2021-11-11T20:17:27.415Z"
   },
   {
    "duration": 30,
    "start_time": "2021-11-11T20:17:27.477Z"
   },
   {
    "duration": 26,
    "start_time": "2021-11-11T20:17:27.509Z"
   },
   {
    "duration": 408,
    "start_time": "2021-11-11T20:17:27.537Z"
   },
   {
    "duration": 21,
    "start_time": "2021-11-11T20:17:27.947Z"
   },
   {
    "duration": 172,
    "start_time": "2021-11-11T20:17:27.970Z"
   },
   {
    "duration": 4,
    "start_time": "2021-11-11T20:17:28.144Z"
   },
   {
    "duration": 23,
    "start_time": "2021-11-11T20:17:28.151Z"
   },
   {
    "duration": 6,
    "start_time": "2021-11-11T20:17:28.177Z"
   },
   {
    "duration": 9,
    "start_time": "2021-11-11T20:17:28.186Z"
   },
   {
    "duration": 6,
    "start_time": "2021-11-11T20:17:28.198Z"
   },
   {
    "duration": 7,
    "start_time": "2021-11-11T20:17:28.207Z"
   },
   {
    "duration": 60,
    "start_time": "2021-11-11T20:17:28.216Z"
   },
   {
    "duration": 16,
    "start_time": "2021-11-11T20:17:28.281Z"
   },
   {
    "duration": 6,
    "start_time": "2021-11-11T20:17:28.301Z"
   },
   {
    "duration": 27,
    "start_time": "2021-11-11T20:17:28.310Z"
   },
   {
    "duration": 34,
    "start_time": "2021-11-11T20:17:28.340Z"
   },
   {
    "duration": 7,
    "start_time": "2021-11-11T20:17:28.376Z"
   },
   {
    "duration": 12,
    "start_time": "2021-11-11T20:17:28.385Z"
   },
   {
    "duration": 2557,
    "start_time": "2021-11-11T20:17:28.399Z"
   },
   {
    "duration": 10,
    "start_time": "2021-11-11T20:17:30.966Z"
   },
   {
    "duration": 2399,
    "start_time": "2021-11-11T20:17:30.978Z"
   },
   {
    "duration": 9,
    "start_time": "2021-11-11T20:17:33.379Z"
   },
   {
    "duration": 2597,
    "start_time": "2021-11-11T20:17:33.390Z"
   },
   {
    "duration": 9,
    "start_time": "2021-11-11T20:17:35.989Z"
   },
   {
    "duration": 1558,
    "start_time": "2021-11-11T20:17:36.000Z"
   },
   {
    "duration": 1393,
    "start_time": "2021-11-11T20:17:37.561Z"
   },
   {
    "duration": 11,
    "start_time": "2021-11-11T20:17:38.956Z"
   },
   {
    "duration": 9,
    "start_time": "2021-11-11T20:17:38.969Z"
   },
   {
    "duration": 8,
    "start_time": "2021-11-11T20:17:38.980Z"
   },
   {
    "duration": 17,
    "start_time": "2021-11-11T20:17:38.990Z"
   },
   {
    "duration": 2388,
    "start_time": "2021-11-11T20:17:39.010Z"
   },
   {
    "duration": 7,
    "start_time": "2021-11-11T20:17:41.400Z"
   },
   {
    "duration": 148,
    "start_time": "2021-11-11T20:17:41.409Z"
   },
   {
    "duration": 10,
    "start_time": "2021-11-11T20:17:41.560Z"
   },
   {
    "duration": 2514,
    "start_time": "2021-11-11T20:17:41.572Z"
   },
   {
    "duration": 6,
    "start_time": "2021-11-11T20:17:44.089Z"
   },
   {
    "duration": 14,
    "start_time": "2021-11-11T20:17:44.098Z"
   },
   {
    "duration": 19,
    "start_time": "2021-11-11T20:17:44.114Z"
   },
   {
    "duration": 9,
    "start_time": "2021-11-11T20:17:44.168Z"
   },
   {
    "duration": 34,
    "start_time": "2021-11-11T20:17:44.180Z"
   },
   {
    "duration": 59,
    "start_time": "2021-11-11T20:17:44.216Z"
   },
   {
    "duration": 30,
    "start_time": "2021-11-11T20:17:44.278Z"
   },
   {
    "duration": 4,
    "start_time": "2021-11-11T20:17:44.311Z"
   },
   {
    "duration": 2048,
    "start_time": "2021-11-11T20:17:44.318Z"
   },
   {
    "duration": 5,
    "start_time": "2021-11-11T20:17:46.369Z"
   },
   {
    "duration": 13,
    "start_time": "2021-11-11T20:17:46.377Z"
   },
   {
    "duration": 1800,
    "start_time": "2021-11-11T20:17:46.467Z"
   },
   {
    "duration": 95,
    "start_time": "2021-11-11T20:17:48.272Z"
   },
   {
    "duration": 1265,
    "start_time": "2021-11-12T07:07:27.619Z"
   },
   {
    "duration": 286,
    "start_time": "2021-11-12T07:07:28.886Z"
   },
   {
    "duration": 81,
    "start_time": "2021-11-12T07:07:29.174Z"
   },
   {
    "duration": 371,
    "start_time": "2021-11-12T07:07:29.257Z"
   },
   {
    "duration": 17,
    "start_time": "2021-11-12T07:07:29.629Z"
   },
   {
    "duration": 23,
    "start_time": "2021-11-12T07:07:29.648Z"
   },
   {
    "duration": 258,
    "start_time": "2021-11-12T07:07:29.672Z"
   },
   {
    "duration": 8,
    "start_time": "2021-11-12T07:07:29.932Z"
   },
   {
    "duration": 132,
    "start_time": "2021-11-12T07:07:29.943Z"
   },
   {
    "duration": 11,
    "start_time": "2021-11-12T07:07:30.077Z"
   },
   {
    "duration": 30,
    "start_time": "2021-11-12T07:07:30.090Z"
   },
   {
    "duration": 134,
    "start_time": "2021-11-12T07:07:30.122Z"
   },
   {
    "duration": 6,
    "start_time": "2021-11-12T07:07:30.258Z"
   },
   {
    "duration": 41,
    "start_time": "2021-11-12T07:07:30.266Z"
   },
   {
    "duration": 19,
    "start_time": "2021-11-12T07:07:30.309Z"
   },
   {
    "duration": 17,
    "start_time": "2021-11-12T07:07:30.329Z"
   },
   {
    "duration": 266,
    "start_time": "2021-11-12T07:07:30.347Z"
   },
   {
    "duration": 10,
    "start_time": "2021-11-12T07:07:30.615Z"
   },
   {
    "duration": 99,
    "start_time": "2021-11-12T07:07:30.627Z"
   },
   {
    "duration": 3,
    "start_time": "2021-11-12T07:07:30.728Z"
   },
   {
    "duration": 20,
    "start_time": "2021-11-12T07:07:30.733Z"
   },
   {
    "duration": 18,
    "start_time": "2021-11-12T07:07:30.755Z"
   },
   {
    "duration": 24,
    "start_time": "2021-11-12T07:07:30.775Z"
   },
   {
    "duration": 22,
    "start_time": "2021-11-12T07:07:30.801Z"
   },
   {
    "duration": 11,
    "start_time": "2021-11-12T07:07:30.824Z"
   },
   {
    "duration": 39,
    "start_time": "2021-11-12T07:07:30.837Z"
   },
   {
    "duration": 37,
    "start_time": "2021-11-12T07:07:30.880Z"
   },
   {
    "duration": 6,
    "start_time": "2021-11-12T07:07:30.920Z"
   },
   {
    "duration": 36,
    "start_time": "2021-11-12T07:07:30.927Z"
   },
   {
    "duration": 23,
    "start_time": "2021-11-12T07:07:30.965Z"
   },
   {
    "duration": 15,
    "start_time": "2021-11-12T07:07:30.990Z"
   },
   {
    "duration": 23,
    "start_time": "2021-11-12T07:07:31.007Z"
   },
   {
    "duration": 1397,
    "start_time": "2021-11-12T07:07:31.032Z"
   },
   {
    "duration": 8,
    "start_time": "2021-11-12T07:07:32.431Z"
   },
   {
    "duration": 1345,
    "start_time": "2021-11-12T07:07:32.440Z"
   },
   {
    "duration": 6,
    "start_time": "2021-11-12T07:07:33.787Z"
   },
   {
    "duration": 1507,
    "start_time": "2021-11-12T07:07:33.807Z"
   },
   {
    "duration": 6,
    "start_time": "2021-11-12T07:07:35.316Z"
   },
   {
    "duration": 929,
    "start_time": "2021-11-12T07:07:35.324Z"
   },
   {
    "duration": 889,
    "start_time": "2021-11-12T07:07:36.255Z"
   },
   {
    "duration": 4,
    "start_time": "2021-11-12T07:07:37.146Z"
   },
   {
    "duration": 10,
    "start_time": "2021-11-12T07:07:37.152Z"
   },
   {
    "duration": 8,
    "start_time": "2021-11-12T07:07:37.163Z"
   },
   {
    "duration": 15,
    "start_time": "2021-11-12T07:07:37.173Z"
   },
   {
    "duration": 1368,
    "start_time": "2021-11-12T07:07:37.190Z"
   },
   {
    "duration": 5,
    "start_time": "2021-11-12T07:07:38.560Z"
   },
   {
    "duration": 112,
    "start_time": "2021-11-12T07:07:38.567Z"
   },
   {
    "duration": 7,
    "start_time": "2021-11-12T07:07:38.681Z"
   },
   {
    "duration": 1497,
    "start_time": "2021-11-12T07:07:38.690Z"
   },
   {
    "duration": 3,
    "start_time": "2021-11-12T07:07:40.189Z"
   },
   {
    "duration": 24,
    "start_time": "2021-11-12T07:07:40.194Z"
   },
   {
    "duration": 16,
    "start_time": "2021-11-12T07:07:40.219Z"
   },
   {
    "duration": 11,
    "start_time": "2021-11-12T07:07:40.237Z"
   },
   {
    "duration": 31,
    "start_time": "2021-11-12T07:07:40.250Z"
   },
   {
    "duration": 27,
    "start_time": "2021-11-12T07:07:40.282Z"
   },
   {
    "duration": 19,
    "start_time": "2021-11-12T07:07:40.310Z"
   },
   {
    "duration": 9,
    "start_time": "2021-11-12T07:07:40.330Z"
   },
   {
    "duration": 1474,
    "start_time": "2021-11-12T07:07:40.341Z"
   },
   {
    "duration": 5,
    "start_time": "2021-11-12T07:07:41.908Z"
   },
   {
    "duration": 93,
    "start_time": "2021-11-12T07:07:41.915Z"
   },
   {
    "duration": 1697,
    "start_time": "2021-11-12T07:07:42.010Z"
   },
   {
    "duration": 3,
    "start_time": "2021-11-12T07:07:43.709Z"
   },
   {
    "duration": 1323,
    "start_time": "2021-11-12T11:02:00.765Z"
   },
   {
    "duration": 290,
    "start_time": "2021-11-12T11:02:02.090Z"
   },
   {
    "duration": 83,
    "start_time": "2021-11-12T11:02:02.382Z"
   },
   {
    "duration": 378,
    "start_time": "2021-11-12T11:02:02.467Z"
   },
   {
    "duration": 17,
    "start_time": "2021-11-12T11:02:02.994Z"
   },
   {
    "duration": 25,
    "start_time": "2021-11-12T11:02:03.533Z"
   },
   {
    "duration": 244,
    "start_time": "2021-11-12T11:02:04.134Z"
   },
   {
    "duration": 9,
    "start_time": "2021-11-12T11:02:04.614Z"
   },
   {
    "duration": 119,
    "start_time": "2021-11-12T11:02:04.999Z"
   },
   {
    "duration": 11,
    "start_time": "2021-11-12T11:02:05.400Z"
   },
   {
    "duration": 24,
    "start_time": "2021-11-12T11:02:05.590Z"
   },
   {
    "duration": 205,
    "start_time": "2021-11-12T11:02:05.807Z"
   },
   {
    "duration": 6,
    "start_time": "2021-11-12T11:02:06.015Z"
   },
   {
    "duration": 25,
    "start_time": "2021-11-12T11:02:06.396Z"
   },
   {
    "duration": 29,
    "start_time": "2021-11-12T11:02:07.363Z"
   },
   {
    "duration": 24,
    "start_time": "2021-11-12T11:02:07.600Z"
   },
   {
    "duration": 378,
    "start_time": "2021-11-12T11:02:08.029Z"
   },
   {
    "duration": 11,
    "start_time": "2021-11-12T11:02:08.410Z"
   },
   {
    "duration": 128,
    "start_time": "2021-11-12T11:02:08.880Z"
   },
   {
    "duration": 4,
    "start_time": "2021-11-12T11:02:09.546Z"
   },
   {
    "duration": 11,
    "start_time": "2021-11-12T11:02:09.804Z"
   },
   {
    "duration": 7,
    "start_time": "2021-11-12T11:02:10.172Z"
   },
   {
    "duration": 5,
    "start_time": "2021-11-12T11:02:10.818Z"
   },
   {
    "duration": 4,
    "start_time": "2021-11-12T11:02:11.416Z"
   },
   {
    "duration": 5,
    "start_time": "2021-11-12T11:02:12.405Z"
   },
   {
    "duration": 18,
    "start_time": "2021-11-12T11:02:13.684Z"
   },
   {
    "duration": 15,
    "start_time": "2021-11-12T11:02:14.115Z"
   },
   {
    "duration": 7,
    "start_time": "2021-11-12T11:02:14.378Z"
   },
   {
    "duration": 23,
    "start_time": "2021-11-12T11:02:14.610Z"
   },
   {
    "duration": 9,
    "start_time": "2021-11-12T11:02:14.833Z"
   },
   {
    "duration": 8,
    "start_time": "2021-11-12T11:02:15.080Z"
   },
   {
    "duration": 11,
    "start_time": "2021-11-12T11:02:27.266Z"
   },
   {
    "duration": 1524,
    "start_time": "2021-11-12T11:02:30.813Z"
   },
   {
    "duration": 8,
    "start_time": "2021-11-12T11:02:32.340Z"
   },
   {
    "duration": 2160,
    "start_time": "2021-11-12T11:02:34.275Z"
   },
   {
    "duration": 9,
    "start_time": "2021-11-12T11:02:36.437Z"
   },
   {
    "duration": 2541,
    "start_time": "2021-11-12T11:02:36.478Z"
   },
   {
    "duration": 8,
    "start_time": "2021-11-12T11:02:39.021Z"
   },
   {
    "duration": 952,
    "start_time": "2021-11-12T11:02:40.971Z"
   },
   {
    "duration": 1037,
    "start_time": "2021-11-12T11:02:44.020Z"
   },
   {
    "duration": 5,
    "start_time": "2021-11-12T11:02:47.537Z"
   },
   {
    "duration": 5,
    "start_time": "2021-11-12T11:02:47.818Z"
   },
   {
    "duration": 5,
    "start_time": "2021-11-12T11:02:48.033Z"
   },
   {
    "duration": 6,
    "start_time": "2021-11-12T11:02:48.250Z"
   },
   {
    "duration": 1530,
    "start_time": "2021-11-12T11:02:48.441Z"
   },
   {
    "duration": 6,
    "start_time": "2021-11-12T11:02:49.973Z"
   },
   {
    "duration": 116,
    "start_time": "2021-11-12T11:02:49.981Z"
   },
   {
    "duration": 9,
    "start_time": "2021-11-12T11:02:50.942Z"
   },
   {
    "duration": 1645,
    "start_time": "2021-11-12T11:02:51.761Z"
   },
   {
    "duration": 4,
    "start_time": "2021-11-12T11:02:55.600Z"
   },
   {
    "duration": 11,
    "start_time": "2021-11-12T11:02:56.987Z"
   },
   {
    "duration": 13,
    "start_time": "2021-11-12T11:02:59.275Z"
   },
   {
    "duration": 7,
    "start_time": "2021-11-12T11:02:59.821Z"
   },
   {
    "duration": 34,
    "start_time": "2021-11-12T11:03:01.019Z"
   },
   {
    "duration": 29,
    "start_time": "2021-11-12T11:03:01.779Z"
   },
   {
    "duration": 28,
    "start_time": "2021-11-12T11:03:02.351Z"
   },
   {
    "duration": 3,
    "start_time": "2021-11-12T11:03:04.382Z"
   },
   {
    "duration": 2223,
    "start_time": "2021-11-12T11:03:05.189Z"
   },
   {
    "duration": 4,
    "start_time": "2021-11-12T11:03:32.285Z"
   },
   {
    "duration": 4,
    "start_time": "2021-11-12T11:03:45.605Z"
   },
   {
    "duration": 453,
    "start_time": "2021-11-12T11:04:43.598Z"
   },
   {
    "duration": 3,
    "start_time": "2021-11-12T11:04:50.572Z"
   },
   {
    "duration": 2015,
    "start_time": "2021-11-12T11:04:51.399Z"
   },
   {
    "duration": 5,
    "start_time": "2021-11-12T11:05:36.168Z"
   },
   {
    "duration": 3,
    "start_time": "2021-11-12T11:07:50.483Z"
   },
   {
    "duration": 4,
    "start_time": "2021-11-12T11:07:51.401Z"
   },
   {
    "duration": 2932,
    "start_time": "2021-11-12T11:25:33.573Z"
   },
   {
    "duration": -19,
    "start_time": "2021-11-12T11:25:36.526Z"
   },
   {
    "duration": 2883,
    "start_time": "2021-11-12T11:26:46.274Z"
   },
   {
    "duration": 1216,
    "start_time": "2021-11-12T11:49:38.278Z"
   },
   {
    "duration": 323,
    "start_time": "2021-11-12T11:49:39.496Z"
   },
   {
    "duration": 94,
    "start_time": "2021-11-12T11:49:39.824Z"
   },
   {
    "duration": 410,
    "start_time": "2021-11-12T11:49:39.920Z"
   },
   {
    "duration": 16,
    "start_time": "2021-11-12T11:49:40.332Z"
   },
   {
    "duration": 23,
    "start_time": "2021-11-12T11:49:40.350Z"
   },
   {
    "duration": 255,
    "start_time": "2021-11-12T11:49:40.375Z"
   },
   {
    "duration": 8,
    "start_time": "2021-11-12T11:49:40.633Z"
   },
   {
    "duration": 148,
    "start_time": "2021-11-12T11:49:40.643Z"
   },
   {
    "duration": 24,
    "start_time": "2021-11-12T11:49:40.794Z"
   },
   {
    "duration": 19,
    "start_time": "2021-11-12T11:49:40.820Z"
   },
   {
    "duration": 140,
    "start_time": "2021-11-12T11:49:40.841Z"
   },
   {
    "duration": 5,
    "start_time": "2021-11-12T11:49:40.983Z"
   },
   {
    "duration": 43,
    "start_time": "2021-11-12T11:49:40.990Z"
   },
   {
    "duration": 19,
    "start_time": "2021-11-12T11:49:41.034Z"
   },
   {
    "duration": 28,
    "start_time": "2021-11-12T11:49:41.055Z"
   },
   {
    "duration": 273,
    "start_time": "2021-11-12T11:49:41.085Z"
   },
   {
    "duration": 10,
    "start_time": "2021-11-12T11:49:41.360Z"
   },
   {
    "duration": 104,
    "start_time": "2021-11-12T11:49:41.372Z"
   },
   {
    "duration": 2,
    "start_time": "2021-11-12T11:49:41.478Z"
   },
   {
    "duration": 19,
    "start_time": "2021-11-12T11:49:41.482Z"
   },
   {
    "duration": 7,
    "start_time": "2021-11-12T11:49:41.503Z"
   },
   {
    "duration": 13,
    "start_time": "2021-11-12T11:49:41.512Z"
   },
   {
    "duration": 12,
    "start_time": "2021-11-12T11:49:41.527Z"
   },
   {
    "duration": 12,
    "start_time": "2021-11-12T11:49:41.541Z"
   },
   {
    "duration": 16,
    "start_time": "2021-11-12T11:49:41.558Z"
   },
   {
    "duration": 15,
    "start_time": "2021-11-12T11:49:41.576Z"
   },
   {
    "duration": 26,
    "start_time": "2021-11-12T11:49:41.592Z"
   },
   {
    "duration": 25,
    "start_time": "2021-11-12T11:49:41.620Z"
   },
   {
    "duration": 8,
    "start_time": "2021-11-12T11:49:41.647Z"
   },
   {
    "duration": 6,
    "start_time": "2021-11-12T11:49:41.656Z"
   },
   {
    "duration": 10,
    "start_time": "2021-11-12T11:49:41.664Z"
   },
   {
    "duration": 1517,
    "start_time": "2021-11-12T11:49:41.676Z"
   },
   {
    "duration": 15,
    "start_time": "2021-11-12T11:49:43.195Z"
   },
   {
    "duration": 1412,
    "start_time": "2021-11-12T11:49:43.213Z"
   },
   {
    "duration": 8,
    "start_time": "2021-11-12T11:49:44.627Z"
   },
   {
    "duration": 1602,
    "start_time": "2021-11-12T11:49:44.637Z"
   },
   {
    "duration": 8,
    "start_time": "2021-11-12T11:49:46.241Z"
   },
   {
    "duration": 956,
    "start_time": "2021-11-12T11:49:46.251Z"
   },
   {
    "duration": 934,
    "start_time": "2021-11-12T11:49:47.208Z"
   },
   {
    "duration": 5,
    "start_time": "2021-11-12T11:49:48.144Z"
   },
   {
    "duration": 11,
    "start_time": "2021-11-12T11:49:48.150Z"
   },
   {
    "duration": 13,
    "start_time": "2021-11-12T11:49:48.163Z"
   },
   {
    "duration": 19,
    "start_time": "2021-11-12T11:49:48.179Z"
   },
   {
    "duration": 1487,
    "start_time": "2021-11-12T11:49:48.200Z"
   },
   {
    "duration": 5,
    "start_time": "2021-11-12T11:49:49.689Z"
   },
   {
    "duration": 116,
    "start_time": "2021-11-12T11:49:49.696Z"
   },
   {
    "duration": 8,
    "start_time": "2021-11-12T11:49:49.814Z"
   },
   {
    "duration": 1645,
    "start_time": "2021-11-12T11:49:49.824Z"
   },
   {
    "duration": 5,
    "start_time": "2021-11-12T11:49:51.471Z"
   },
   {
    "duration": 32,
    "start_time": "2021-11-12T11:49:51.478Z"
   },
   {
    "duration": 23,
    "start_time": "2021-11-12T11:49:51.513Z"
   },
   {
    "duration": 9,
    "start_time": "2021-11-12T11:49:51.538Z"
   },
   {
    "duration": 29,
    "start_time": "2021-11-12T11:49:51.549Z"
   },
   {
    "duration": 33,
    "start_time": "2021-11-12T11:49:51.580Z"
   },
   {
    "duration": 19,
    "start_time": "2021-11-12T11:49:51.616Z"
   },
   {
    "duration": 13,
    "start_time": "2021-11-12T11:49:51.637Z"
   },
   {
    "duration": 2161,
    "start_time": "2021-11-12T11:49:51.652Z"
   },
   {
    "duration": 4,
    "start_time": "2021-11-12T11:49:53.819Z"
   },
   {
    "duration": 7,
    "start_time": "2021-11-12T11:49:53.825Z"
   },
   {
    "duration": 1692,
    "start_time": "2021-11-12T11:49:53.834Z"
   },
   {
    "duration": 5,
    "start_time": "2021-11-12T11:49:55.529Z"
   },
   {
    "duration": 19,
    "start_time": "2021-11-12T11:49:55.536Z"
   },
   {
    "duration": 12,
    "start_time": "2021-11-12T11:49:55.607Z"
   },
   {
    "duration": 1239,
    "start_time": "2021-11-12T12:34:32.353Z"
   },
   {
    "duration": 429,
    "start_time": "2021-11-12T12:34:33.594Z"
   },
   {
    "duration": 117,
    "start_time": "2021-11-12T12:34:34.030Z"
   },
   {
    "duration": 538,
    "start_time": "2021-11-12T12:34:34.149Z"
   },
   {
    "duration": 26,
    "start_time": "2021-11-12T12:34:34.690Z"
   },
   {
    "duration": 36,
    "start_time": "2021-11-12T12:34:34.718Z"
   },
   {
    "duration": 407,
    "start_time": "2021-11-12T12:34:34.756Z"
   },
   {
    "duration": 11,
    "start_time": "2021-11-12T12:34:35.167Z"
   },
   {
    "duration": 171,
    "start_time": "2021-11-12T12:34:35.181Z"
   },
   {
    "duration": 17,
    "start_time": "2021-11-12T12:34:35.354Z"
   },
   {
    "duration": 45,
    "start_time": "2021-11-12T12:34:35.373Z"
   },
   {
    "duration": 235,
    "start_time": "2021-11-12T12:34:35.420Z"
   },
   {
    "duration": 6,
    "start_time": "2021-11-12T12:34:35.657Z"
   },
   {
    "duration": 25,
    "start_time": "2021-11-12T12:34:35.664Z"
   },
   {
    "duration": 37,
    "start_time": "2021-11-12T12:34:35.691Z"
   },
   {
    "duration": 21,
    "start_time": "2021-11-12T12:34:35.730Z"
   },
   {
    "duration": 286,
    "start_time": "2021-11-12T12:34:35.753Z"
   },
   {
    "duration": 10,
    "start_time": "2021-11-12T12:34:36.041Z"
   },
   {
    "duration": 108,
    "start_time": "2021-11-12T12:34:36.054Z"
   },
   {
    "duration": 3,
    "start_time": "2021-11-12T12:34:36.164Z"
   },
   {
    "duration": 26,
    "start_time": "2021-11-12T12:34:36.169Z"
   },
   {
    "duration": 9,
    "start_time": "2021-11-12T12:34:36.197Z"
   },
   {
    "duration": 5,
    "start_time": "2021-11-12T12:34:36.219Z"
   },
   {
    "duration": 12,
    "start_time": "2021-11-12T12:34:36.226Z"
   },
   {
    "duration": 20,
    "start_time": "2021-11-12T12:34:36.240Z"
   },
   {
    "duration": 19,
    "start_time": "2021-11-12T12:34:36.264Z"
   },
   {
    "duration": 17,
    "start_time": "2021-11-12T12:34:36.287Z"
   },
   {
    "duration": 8,
    "start_time": "2021-11-12T12:34:36.306Z"
   },
   {
    "duration": 33,
    "start_time": "2021-11-12T12:34:36.316Z"
   },
   {
    "duration": 11,
    "start_time": "2021-11-12T12:34:36.351Z"
   },
   {
    "duration": 12,
    "start_time": "2021-11-12T12:34:36.364Z"
   },
   {
    "duration": 40,
    "start_time": "2021-11-12T12:34:36.378Z"
   },
   {
    "duration": 1538,
    "start_time": "2021-11-12T12:34:36.420Z"
   },
   {
    "duration": 7,
    "start_time": "2021-11-12T12:34:37.960Z"
   },
   {
    "duration": 1455,
    "start_time": "2021-11-12T12:34:37.969Z"
   },
   {
    "duration": 8,
    "start_time": "2021-11-12T12:34:39.427Z"
   },
   {
    "duration": 1610,
    "start_time": "2021-11-12T12:34:39.438Z"
   },
   {
    "duration": 8,
    "start_time": "2021-11-12T12:34:41.051Z"
   },
   {
    "duration": 987,
    "start_time": "2021-11-12T12:34:41.061Z"
   },
   {
    "duration": 1084,
    "start_time": "2021-11-12T12:34:42.050Z"
   },
   {
    "duration": 4,
    "start_time": "2021-11-12T12:34:43.136Z"
   },
   {
    "duration": 12,
    "start_time": "2021-11-12T12:34:43.141Z"
   },
   {
    "duration": 9,
    "start_time": "2021-11-12T12:34:43.155Z"
   },
   {
    "duration": 13,
    "start_time": "2021-11-12T12:34:43.167Z"
   },
   {
    "duration": 1709,
    "start_time": "2021-11-12T12:34:43.182Z"
   },
   {
    "duration": 4,
    "start_time": "2021-11-12T12:34:44.893Z"
   },
   {
    "duration": 118,
    "start_time": "2021-11-12T12:34:44.899Z"
   },
   {
    "duration": 9,
    "start_time": "2021-11-12T12:34:45.019Z"
   },
   {
    "duration": 1710,
    "start_time": "2021-11-12T12:34:45.030Z"
   },
   {
    "duration": 4,
    "start_time": "2021-11-12T12:34:46.741Z"
   },
   {
    "duration": 18,
    "start_time": "2021-11-12T12:34:46.747Z"
   },
   {
    "duration": 27,
    "start_time": "2021-11-12T12:34:46.766Z"
   },
   {
    "duration": 5,
    "start_time": "2021-11-12T12:34:46.795Z"
   },
   {
    "duration": 42,
    "start_time": "2021-11-12T12:34:46.802Z"
   },
   {
    "duration": 17,
    "start_time": "2021-11-12T12:34:46.845Z"
   },
   {
    "duration": 28,
    "start_time": "2021-11-12T12:34:46.864Z"
   },
   {
    "duration": 22,
    "start_time": "2021-11-12T12:34:46.894Z"
   },
   {
    "duration": 2297,
    "start_time": "2021-11-12T12:34:46.918Z"
   },
   {
    "duration": 4,
    "start_time": "2021-11-12T12:34:49.221Z"
   },
   {
    "duration": 92,
    "start_time": "2021-11-12T12:34:49.227Z"
   },
   {
    "duration": 2507,
    "start_time": "2021-11-12T12:34:49.321Z"
   },
   {
    "duration": 80,
    "start_time": "2021-11-12T12:34:51.831Z"
   },
   {
    "duration": 14,
    "start_time": "2021-11-12T12:34:51.915Z"
   },
   {
    "duration": 82,
    "start_time": "2021-11-12T12:34:51.931Z"
   },
   {
    "duration": 21,
    "start_time": "2021-11-12T12:34:52.019Z"
   },
   {
    "duration": 494,
    "start_time": "2021-11-12T12:34:52.042Z"
   },
   {
    "duration": 37,
    "start_time": "2021-11-12T12:34:52.502Z"
   },
   {
    "duration": 4,
    "start_time": "2021-11-12T14:32:29.588Z"
   },
   {
    "duration": 252,
    "start_time": "2021-11-12T14:32:32.352Z"
   },
   {
    "duration": 71,
    "start_time": "2021-11-12T14:32:32.622Z"
   },
   {
    "duration": 325,
    "start_time": "2021-11-12T14:32:32.820Z"
   },
   {
    "duration": 15,
    "start_time": "2021-11-12T14:32:33.237Z"
   },
   {
    "duration": 17,
    "start_time": "2021-11-12T14:32:33.409Z"
   },
   {
    "duration": 222,
    "start_time": "2021-11-12T14:32:33.595Z"
   },
   {
    "duration": 7,
    "start_time": "2021-11-12T14:32:33.819Z"
   },
   {
    "duration": 98,
    "start_time": "2021-11-12T14:32:33.969Z"
   },
   {
    "duration": 11,
    "start_time": "2021-11-12T14:32:34.336Z"
   },
   {
    "duration": 19,
    "start_time": "2021-11-12T14:32:34.528Z"
   },
   {
    "duration": 126,
    "start_time": "2021-11-12T14:32:34.689Z"
   },
   {
    "duration": 6,
    "start_time": "2021-11-12T14:32:34.901Z"
   },
   {
    "duration": 20,
    "start_time": "2021-11-12T14:32:35.064Z"
   },
   {
    "duration": 17,
    "start_time": "2021-11-12T14:32:35.419Z"
   },
   {
    "duration": 18,
    "start_time": "2021-11-12T14:32:35.587Z"
   },
   {
    "duration": 220,
    "start_time": "2021-11-12T14:32:35.777Z"
   },
   {
    "duration": 12,
    "start_time": "2021-11-12T14:32:35.999Z"
   },
   {
    "duration": 73,
    "start_time": "2021-11-12T14:32:36.149Z"
   },
   {
    "duration": 3,
    "start_time": "2021-11-12T14:32:36.527Z"
   },
   {
    "duration": 4,
    "start_time": "2021-11-12T14:32:36.699Z"
   },
   {
    "duration": 4,
    "start_time": "2021-11-12T14:32:36.882Z"
   },
   {
    "duration": 4,
    "start_time": "2021-11-12T14:32:37.251Z"
   },
   {
    "duration": 4,
    "start_time": "2021-11-12T14:32:37.593Z"
   },
   {
    "duration": 4,
    "start_time": "2021-11-12T14:32:37.770Z"
   },
   {
    "duration": 14,
    "start_time": "2021-11-12T14:32:38.291Z"
   },
   {
    "duration": 11,
    "start_time": "2021-11-12T14:32:38.458Z"
   },
   {
    "duration": 5,
    "start_time": "2021-11-12T14:32:38.641Z"
   },
   {
    "duration": 19,
    "start_time": "2021-11-12T14:32:38.836Z"
   },
   {
    "duration": 8,
    "start_time": "2021-11-12T14:32:39.009Z"
   },
   {
    "duration": 6,
    "start_time": "2021-11-12T14:32:39.168Z"
   },
   {
    "duration": 10,
    "start_time": "2021-11-12T14:32:39.352Z"
   },
   {
    "duration": 1300,
    "start_time": "2021-11-12T14:32:39.915Z"
   },
   {
    "duration": 6,
    "start_time": "2021-11-12T14:32:41.217Z"
   },
   {
    "duration": 1225,
    "start_time": "2021-11-12T14:32:41.225Z"
   },
   {
    "duration": 6,
    "start_time": "2021-11-12T14:32:42.452Z"
   },
   {
    "duration": 1438,
    "start_time": "2021-11-12T14:32:42.460Z"
   },
   {
    "duration": 9,
    "start_time": "2021-11-12T14:32:43.900Z"
   },
   {
    "duration": 887,
    "start_time": "2021-11-12T14:32:43.911Z"
   },
   {
    "duration": 807,
    "start_time": "2021-11-12T14:32:44.800Z"
   },
   {
    "duration": 1172,
    "start_time": "2021-11-12T14:32:54.189Z"
   },
   {
    "duration": 267,
    "start_time": "2021-11-12T14:32:55.363Z"
   },
   {
    "duration": 77,
    "start_time": "2021-11-12T14:32:55.632Z"
   },
   {
    "duration": 345,
    "start_time": "2021-11-12T14:32:55.711Z"
   },
   {
    "duration": 16,
    "start_time": "2021-11-12T14:32:56.058Z"
   },
   {
    "duration": 38,
    "start_time": "2021-11-12T14:32:56.076Z"
   },
   {
    "duration": 254,
    "start_time": "2021-11-12T14:32:56.116Z"
   },
   {
    "duration": 8,
    "start_time": "2021-11-12T14:32:56.371Z"
   },
   {
    "duration": 121,
    "start_time": "2021-11-12T14:32:56.381Z"
   },
   {
    "duration": 9,
    "start_time": "2021-11-12T14:32:56.504Z"
   },
   {
    "duration": 21,
    "start_time": "2021-11-12T14:32:56.515Z"
   },
   {
    "duration": 130,
    "start_time": "2021-11-12T14:32:56.537Z"
   },
   {
    "duration": 6,
    "start_time": "2021-11-12T14:32:56.668Z"
   },
   {
    "duration": 34,
    "start_time": "2021-11-12T14:32:56.675Z"
   },
   {
    "duration": 18,
    "start_time": "2021-11-12T14:32:56.711Z"
   },
   {
    "duration": 17,
    "start_time": "2021-11-12T14:32:56.731Z"
   },
   {
    "duration": 251,
    "start_time": "2021-11-12T14:32:56.749Z"
   },
   {
    "duration": 8,
    "start_time": "2021-11-12T14:32:57.001Z"
   },
   {
    "duration": 79,
    "start_time": "2021-11-12T14:32:57.011Z"
   },
   {
    "duration": 3,
    "start_time": "2021-11-12T14:32:57.091Z"
   },
   {
    "duration": 11,
    "start_time": "2021-11-12T14:32:57.106Z"
   },
   {
    "duration": 7,
    "start_time": "2021-11-12T14:32:57.119Z"
   },
   {
    "duration": 11,
    "start_time": "2021-11-12T14:32:57.127Z"
   },
   {
    "duration": 17,
    "start_time": "2021-11-12T14:32:57.140Z"
   },
   {
    "duration": 19,
    "start_time": "2021-11-12T14:32:57.158Z"
   },
   {
    "duration": 21,
    "start_time": "2021-11-12T14:32:57.179Z"
   },
   {
    "duration": 12,
    "start_time": "2021-11-12T14:32:57.204Z"
   },
   {
    "duration": 5,
    "start_time": "2021-11-12T14:32:57.218Z"
   },
   {
    "duration": 25,
    "start_time": "2021-11-12T14:32:57.225Z"
   },
   {
    "duration": 7,
    "start_time": "2021-11-12T14:32:57.252Z"
   },
   {
    "duration": 8,
    "start_time": "2021-11-12T14:32:57.260Z"
   },
   {
    "duration": 21,
    "start_time": "2021-11-12T14:32:57.269Z"
   },
   {
    "duration": 1366,
    "start_time": "2021-11-12T14:32:57.291Z"
   },
   {
    "duration": 6,
    "start_time": "2021-11-12T14:32:58.658Z"
   },
   {
    "duration": 1234,
    "start_time": "2021-11-12T14:32:58.665Z"
   },
   {
    "duration": 10,
    "start_time": "2021-11-12T14:32:59.900Z"
   },
   {
    "duration": 1567,
    "start_time": "2021-11-12T14:32:59.912Z"
   },
   {
    "duration": 6,
    "start_time": "2021-11-12T14:33:01.481Z"
   },
   {
    "duration": 889,
    "start_time": "2021-11-12T14:33:01.488Z"
   },
   {
    "duration": 798,
    "start_time": "2021-11-12T14:33:02.379Z"
   },
   {
    "duration": 3,
    "start_time": "2021-11-12T14:33:03.179Z"
   },
   {
    "duration": 18,
    "start_time": "2021-11-12T14:33:03.184Z"
   },
   {
    "duration": 33,
    "start_time": "2021-11-12T14:33:03.204Z"
   },
   {
    "duration": 33,
    "start_time": "2021-11-12T14:33:03.239Z"
   },
   {
    "duration": 1279,
    "start_time": "2021-11-12T14:33:03.273Z"
   },
   {
    "duration": 4,
    "start_time": "2021-11-12T14:33:04.553Z"
   },
   {
    "duration": 89,
    "start_time": "2021-11-12T14:33:04.559Z"
   },
   {
    "duration": 6,
    "start_time": "2021-11-12T14:33:04.650Z"
   },
   {
    "duration": 1406,
    "start_time": "2021-11-12T14:33:04.657Z"
   },
   {
    "duration": 3,
    "start_time": "2021-11-12T14:33:06.065Z"
   },
   {
    "duration": 44,
    "start_time": "2021-11-12T14:33:06.070Z"
   },
   {
    "duration": 24,
    "start_time": "2021-11-12T14:33:06.115Z"
   },
   {
    "duration": 24,
    "start_time": "2021-11-12T14:33:06.141Z"
   },
   {
    "duration": 30,
    "start_time": "2021-11-12T14:33:06.167Z"
   },
   {
    "duration": 26,
    "start_time": "2021-11-12T14:33:06.199Z"
   },
   {
    "duration": 38,
    "start_time": "2021-11-12T14:33:06.226Z"
   },
   {
    "duration": 13,
    "start_time": "2021-11-12T14:33:06.266Z"
   },
   {
    "duration": 1533,
    "start_time": "2021-11-12T14:33:06.280Z"
   },
   {
    "duration": 4,
    "start_time": "2021-11-12T14:33:07.815Z"
   },
   {
    "duration": 86,
    "start_time": "2021-11-12T14:33:07.821Z"
   },
   {
    "duration": 1799,
    "start_time": "2021-11-12T14:33:07.908Z"
   },
   {
    "duration": 3,
    "start_time": "2021-11-12T14:33:09.709Z"
   },
   {
    "duration": 23,
    "start_time": "2021-11-12T14:33:09.714Z"
   },
   {
    "duration": 37,
    "start_time": "2021-11-12T14:33:09.739Z"
   },
   {
    "duration": 28,
    "start_time": "2021-11-12T14:33:09.778Z"
   },
   {
    "duration": 44,
    "start_time": "2021-11-12T14:33:09.808Z"
   },
   {
    "duration": 126,
    "start_time": "2021-11-12T14:33:09.854Z"
   },
   {
    "duration": 81,
    "start_time": "2021-11-12T14:33:09.901Z"
   },
   {
    "duration": 1124,
    "start_time": "2021-11-12T14:35:41.068Z"
   },
   {
    "duration": 265,
    "start_time": "2021-11-12T14:35:42.194Z"
   },
   {
    "duration": 83,
    "start_time": "2021-11-12T14:35:42.461Z"
   },
   {
    "duration": 344,
    "start_time": "2021-11-12T14:35:42.546Z"
   },
   {
    "duration": 19,
    "start_time": "2021-11-12T14:35:42.892Z"
   },
   {
    "duration": 20,
    "start_time": "2021-11-12T14:35:42.913Z"
   },
   {
    "duration": 220,
    "start_time": "2021-11-12T14:35:42.935Z"
   },
   {
    "duration": 7,
    "start_time": "2021-11-12T14:35:43.157Z"
   },
   {
    "duration": 115,
    "start_time": "2021-11-12T14:35:43.167Z"
   },
   {
    "duration": 9,
    "start_time": "2021-11-12T14:35:43.284Z"
   },
   {
    "duration": 17,
    "start_time": "2021-11-12T14:35:43.306Z"
   },
   {
    "duration": 132,
    "start_time": "2021-11-12T14:35:43.324Z"
   },
   {
    "duration": 7,
    "start_time": "2021-11-12T14:35:43.458Z"
   },
   {
    "duration": 47,
    "start_time": "2021-11-12T14:35:43.467Z"
   },
   {
    "duration": 17,
    "start_time": "2021-11-12T14:35:43.516Z"
   },
   {
    "duration": 44,
    "start_time": "2021-11-12T14:35:43.535Z"
   },
   {
    "duration": 237,
    "start_time": "2021-11-12T14:35:43.580Z"
   },
   {
    "duration": 8,
    "start_time": "2021-11-12T14:35:43.819Z"
   },
   {
    "duration": 131,
    "start_time": "2021-11-12T14:35:43.828Z"
   },
   {
    "duration": 3,
    "start_time": "2021-11-12T14:35:43.961Z"
   },
   {
    "duration": 18,
    "start_time": "2021-11-12T14:35:43.966Z"
   },
   {
    "duration": 4,
    "start_time": "2021-11-12T14:35:43.986Z"
   },
   {
    "duration": 14,
    "start_time": "2021-11-12T14:35:43.992Z"
   },
   {
    "duration": 4,
    "start_time": "2021-11-12T14:35:44.008Z"
   },
   {
    "duration": 12,
    "start_time": "2021-11-12T14:35:44.014Z"
   },
   {
    "duration": 15,
    "start_time": "2021-11-12T14:35:44.028Z"
   },
   {
    "duration": 14,
    "start_time": "2021-11-12T14:35:44.047Z"
   },
   {
    "duration": 12,
    "start_time": "2021-11-12T14:35:44.063Z"
   },
   {
    "duration": 34,
    "start_time": "2021-11-12T14:35:44.077Z"
   },
   {
    "duration": 7,
    "start_time": "2021-11-12T14:35:44.113Z"
   },
   {
    "duration": 6,
    "start_time": "2021-11-12T14:35:44.122Z"
   },
   {
    "duration": 8,
    "start_time": "2021-11-12T14:35:44.129Z"
   },
   {
    "duration": 1508,
    "start_time": "2021-11-12T14:35:44.138Z"
   },
   {
    "duration": 6,
    "start_time": "2021-11-12T14:35:45.648Z"
   },
   {
    "duration": 1435,
    "start_time": "2021-11-12T14:35:45.655Z"
   },
   {
    "duration": 15,
    "start_time": "2021-11-12T14:35:47.092Z"
   },
   {
    "duration": 1472,
    "start_time": "2021-11-12T14:35:47.108Z"
   },
   {
    "duration": 7,
    "start_time": "2021-11-12T14:35:48.583Z"
   },
   {
    "duration": 855,
    "start_time": "2021-11-12T14:35:48.591Z"
   },
   {
    "duration": 788,
    "start_time": "2021-11-12T14:35:49.448Z"
   },
   {
    "duration": 4,
    "start_time": "2021-11-12T14:35:50.238Z"
   },
   {
    "duration": 8,
    "start_time": "2021-11-12T14:35:50.244Z"
   },
   {
    "duration": 9,
    "start_time": "2021-11-12T14:35:50.254Z"
   },
   {
    "duration": 17,
    "start_time": "2021-11-12T14:35:50.265Z"
   },
   {
    "duration": 1480,
    "start_time": "2021-11-12T14:35:50.284Z"
   },
   {
    "duration": 4,
    "start_time": "2021-11-12T14:35:51.766Z"
   },
   {
    "duration": 103,
    "start_time": "2021-11-12T14:35:51.771Z"
   },
   {
    "duration": 6,
    "start_time": "2021-11-12T14:35:51.876Z"
   },
   {
    "duration": 1406,
    "start_time": "2021-11-12T14:35:51.884Z"
   },
   {
    "duration": 4,
    "start_time": "2021-11-12T14:35:53.291Z"
   },
   {
    "duration": 18,
    "start_time": "2021-11-12T14:35:53.296Z"
   },
   {
    "duration": 23,
    "start_time": "2021-11-12T14:35:53.315Z"
   },
   {
    "duration": 4,
    "start_time": "2021-11-12T14:35:53.340Z"
   },
   {
    "duration": 24,
    "start_time": "2021-11-12T14:35:53.346Z"
   },
   {
    "duration": 15,
    "start_time": "2021-11-12T14:35:53.372Z"
   },
   {
    "duration": 29,
    "start_time": "2021-11-12T14:35:53.389Z"
   },
   {
    "duration": 9,
    "start_time": "2021-11-12T14:35:53.419Z"
   },
   {
    "duration": 1880,
    "start_time": "2021-11-12T14:35:53.429Z"
   },
   {
    "duration": 4,
    "start_time": "2021-11-12T14:35:55.311Z"
   },
   {
    "duration": 11,
    "start_time": "2021-11-12T14:35:55.318Z"
   },
   {
    "duration": 1481,
    "start_time": "2021-11-12T14:35:55.331Z"
   },
   {
    "duration": 4,
    "start_time": "2021-11-12T14:35:56.814Z"
   },
   {
    "duration": 7,
    "start_time": "2021-11-12T14:35:56.820Z"
   },
   {
    "duration": 3,
    "start_time": "2021-11-12T14:35:56.907Z"
   },
   {
    "duration": 7,
    "start_time": "2021-11-12T14:35:56.912Z"
   },
   {
    "duration": 11,
    "start_time": "2021-11-12T14:35:56.920Z"
   },
   {
    "duration": 121,
    "start_time": "2021-11-12T14:35:56.933Z"
   },
   {
    "duration": 83,
    "start_time": "2021-11-12T14:35:56.973Z"
   },
   {
    "duration": 3,
    "start_time": "2021-11-12T14:46:07.999Z"
   },
   {
    "duration": 4,
    "start_time": "2021-11-12T14:48:53.174Z"
   },
   {
    "duration": 3,
    "start_time": "2021-11-12T14:52:08.895Z"
   },
   {
    "duration": 3,
    "start_time": "2021-11-12T14:54:52.690Z"
   },
   {
    "duration": 3,
    "start_time": "2021-11-12T14:54:53.453Z"
   },
   {
    "duration": 1185,
    "start_time": "2021-11-12T15:07:29.771Z"
   },
   {
    "duration": 255,
    "start_time": "2021-11-12T15:07:30.957Z"
   },
   {
    "duration": 74,
    "start_time": "2021-11-12T15:07:31.214Z"
   },
   {
    "duration": 337,
    "start_time": "2021-11-12T15:07:31.290Z"
   },
   {
    "duration": 13,
    "start_time": "2021-11-12T15:07:31.629Z"
   },
   {
    "duration": 18,
    "start_time": "2021-11-12T15:07:31.644Z"
   },
   {
    "duration": 214,
    "start_time": "2021-11-12T15:07:31.663Z"
   },
   {
    "duration": 7,
    "start_time": "2021-11-12T15:07:31.879Z"
   },
   {
    "duration": 110,
    "start_time": "2021-11-12T15:07:31.888Z"
   },
   {
    "duration": 13,
    "start_time": "2021-11-12T15:07:32.001Z"
   },
   {
    "duration": 19,
    "start_time": "2021-11-12T15:07:32.016Z"
   },
   {
    "duration": 138,
    "start_time": "2021-11-12T15:07:32.037Z"
   },
   {
    "duration": 5,
    "start_time": "2021-11-12T15:07:32.177Z"
   },
   {
    "duration": 33,
    "start_time": "2021-11-12T15:07:32.183Z"
   },
   {
    "duration": 16,
    "start_time": "2021-11-12T15:07:32.218Z"
   },
   {
    "duration": 46,
    "start_time": "2021-11-12T15:07:32.236Z"
   },
   {
    "duration": 225,
    "start_time": "2021-11-12T15:07:32.284Z"
   },
   {
    "duration": 8,
    "start_time": "2021-11-12T15:07:32.510Z"
   },
   {
    "duration": 86,
    "start_time": "2021-11-12T15:07:32.520Z"
   },
   {
    "duration": 2,
    "start_time": "2021-11-12T15:07:32.608Z"
   },
   {
    "duration": 11,
    "start_time": "2021-11-12T15:07:32.611Z"
   },
   {
    "duration": 6,
    "start_time": "2021-11-12T15:07:32.623Z"
   },
   {
    "duration": 7,
    "start_time": "2021-11-12T15:07:32.631Z"
   },
   {
    "duration": 11,
    "start_time": "2021-11-12T15:07:32.639Z"
   },
   {
    "duration": 9,
    "start_time": "2021-11-12T15:07:32.652Z"
   },
   {
    "duration": 15,
    "start_time": "2021-11-12T15:07:32.662Z"
   },
   {
    "duration": 28,
    "start_time": "2021-11-12T15:07:32.682Z"
   },
   {
    "duration": 6,
    "start_time": "2021-11-12T15:07:32.713Z"
   },
   {
    "duration": 34,
    "start_time": "2021-11-12T15:07:32.721Z"
   },
   {
    "duration": 8,
    "start_time": "2021-11-12T15:07:32.757Z"
   },
   {
    "duration": 5,
    "start_time": "2021-11-12T15:07:32.767Z"
   },
   {
    "duration": 12,
    "start_time": "2021-11-12T15:07:32.773Z"
   },
   {
    "duration": 1289,
    "start_time": "2021-11-12T15:07:32.786Z"
   },
   {
    "duration": 6,
    "start_time": "2021-11-12T15:07:34.076Z"
   },
   {
    "duration": 1232,
    "start_time": "2021-11-12T15:07:34.084Z"
   },
   {
    "duration": 8,
    "start_time": "2021-11-12T15:07:35.318Z"
   },
   {
    "duration": 1342,
    "start_time": "2021-11-12T15:07:35.327Z"
   },
   {
    "duration": 7,
    "start_time": "2021-11-12T15:07:36.671Z"
   },
   {
    "duration": 822,
    "start_time": "2021-11-12T15:07:36.679Z"
   },
   {
    "duration": 789,
    "start_time": "2021-11-12T15:07:37.506Z"
   },
   {
    "duration": 10,
    "start_time": "2021-11-12T15:07:38.297Z"
   },
   {
    "duration": 5,
    "start_time": "2021-11-12T15:07:38.309Z"
   },
   {
    "duration": 5,
    "start_time": "2021-11-12T15:07:38.315Z"
   },
   {
    "duration": 6,
    "start_time": "2021-11-12T15:07:38.321Z"
   },
   {
    "duration": 1254,
    "start_time": "2021-11-12T15:07:38.329Z"
   },
   {
    "duration": 4,
    "start_time": "2021-11-12T15:07:39.585Z"
   },
   {
    "duration": 85,
    "start_time": "2021-11-12T15:07:39.590Z"
   },
   {
    "duration": 7,
    "start_time": "2021-11-12T15:07:39.676Z"
   },
   {
    "duration": 1341,
    "start_time": "2021-11-12T15:07:39.684Z"
   },
   {
    "duration": 4,
    "start_time": "2021-11-12T15:07:41.027Z"
   },
   {
    "duration": 12,
    "start_time": "2021-11-12T15:07:41.032Z"
   },
   {
    "duration": 13,
    "start_time": "2021-11-12T15:07:41.045Z"
   },
   {
    "duration": 15,
    "start_time": "2021-11-12T15:07:41.060Z"
   },
   {
    "duration": 15,
    "start_time": "2021-11-12T15:07:41.077Z"
   },
   {
    "duration": 32,
    "start_time": "2021-11-12T15:07:41.093Z"
   },
   {
    "duration": 13,
    "start_time": "2021-11-12T15:07:41.127Z"
   },
   {
    "duration": 7,
    "start_time": "2021-11-12T15:07:41.142Z"
   },
   {
    "duration": 8,
    "start_time": "2021-11-12T15:07:41.151Z"
   },
   {
    "duration": 1747,
    "start_time": "2021-11-12T15:07:41.160Z"
   },
   {
    "duration": 5,
    "start_time": "2021-11-12T15:07:42.908Z"
   },
   {
    "duration": 13,
    "start_time": "2021-11-12T15:07:42.915Z"
   },
   {
    "duration": 1476,
    "start_time": "2021-11-12T15:07:42.930Z"
   },
   {
    "duration": 4,
    "start_time": "2021-11-12T15:07:44.408Z"
   },
   {
    "duration": 7,
    "start_time": "2021-11-12T15:07:44.413Z"
   },
   {
    "duration": 5,
    "start_time": "2021-11-12T15:07:44.422Z"
   },
   {
    "duration": 5,
    "start_time": "2021-11-12T15:07:44.428Z"
   },
   {
    "duration": 6,
    "start_time": "2021-11-12T15:07:44.435Z"
   },
   {
    "duration": 8,
    "start_time": "2021-11-12T15:07:44.442Z"
   },
   {
    "duration": 10,
    "start_time": "2021-11-12T15:07:44.451Z"
   },
   {
    "duration": 7,
    "start_time": "2021-11-12T15:07:44.462Z"
   },
   {
    "duration": 133,
    "start_time": "2021-11-12T15:07:44.470Z"
   },
   {
    "duration": 47,
    "start_time": "2021-11-12T15:07:44.559Z"
   },
   {
    "duration": 1121,
    "start_time": "2021-11-12T16:08:55.930Z"
   },
   {
    "duration": 254,
    "start_time": "2021-11-12T16:08:57.053Z"
   },
   {
    "duration": 72,
    "start_time": "2021-11-12T16:08:57.309Z"
   },
   {
    "duration": 342,
    "start_time": "2021-11-12T16:08:57.383Z"
   },
   {
    "duration": 14,
    "start_time": "2021-11-12T16:08:57.727Z"
   },
   {
    "duration": 20,
    "start_time": "2021-11-12T16:08:57.743Z"
   },
   {
    "duration": 218,
    "start_time": "2021-11-12T16:08:57.764Z"
   },
   {
    "duration": 7,
    "start_time": "2021-11-12T16:08:57.984Z"
   },
   {
    "duration": 103,
    "start_time": "2021-11-12T16:08:58.006Z"
   },
   {
    "duration": 10,
    "start_time": "2021-11-12T16:08:58.112Z"
   },
   {
    "duration": 23,
    "start_time": "2021-11-12T16:08:58.123Z"
   },
   {
    "duration": 127,
    "start_time": "2021-11-12T16:08:58.148Z"
   },
   {
    "duration": 5,
    "start_time": "2021-11-12T16:08:58.277Z"
   },
   {
    "duration": 31,
    "start_time": "2021-11-12T16:08:58.284Z"
   },
   {
    "duration": 15,
    "start_time": "2021-11-12T16:08:58.317Z"
   },
   {
    "duration": 20,
    "start_time": "2021-11-12T16:08:58.334Z"
   },
   {
    "duration": 227,
    "start_time": "2021-11-12T16:08:58.355Z"
   },
   {
    "duration": 7,
    "start_time": "2021-11-12T16:08:58.584Z"
   },
   {
    "duration": 82,
    "start_time": "2021-11-12T16:08:58.593Z"
   },
   {
    "duration": 2,
    "start_time": "2021-11-12T16:08:58.677Z"
   },
   {
    "duration": 12,
    "start_time": "2021-11-12T16:08:58.680Z"
   },
   {
    "duration": 13,
    "start_time": "2021-11-12T16:08:58.693Z"
   },
   {
    "duration": 3,
    "start_time": "2021-11-12T16:08:58.708Z"
   },
   {
    "duration": 10,
    "start_time": "2021-11-12T16:08:58.712Z"
   },
   {
    "duration": 6,
    "start_time": "2021-11-12T16:08:58.723Z"
   },
   {
    "duration": 16,
    "start_time": "2021-11-12T16:08:58.730Z"
   },
   {
    "duration": 10,
    "start_time": "2021-11-12T16:08:58.749Z"
   },
   {
    "duration": 5,
    "start_time": "2021-11-12T16:08:58.761Z"
   },
   {
    "duration": 46,
    "start_time": "2021-11-12T16:08:58.767Z"
   },
   {
    "duration": 7,
    "start_time": "2021-11-12T16:08:58.814Z"
   },
   {
    "duration": 7,
    "start_time": "2021-11-12T16:08:58.822Z"
   },
   {
    "duration": 8,
    "start_time": "2021-11-12T16:08:58.830Z"
   },
   {
    "duration": 1267,
    "start_time": "2021-11-12T16:08:58.839Z"
   },
   {
    "duration": 5,
    "start_time": "2021-11-12T16:09:00.108Z"
   },
   {
    "duration": 1468,
    "start_time": "2021-11-12T16:09:00.115Z"
   },
   {
    "duration": 5,
    "start_time": "2021-11-12T16:09:01.585Z"
   },
   {
    "duration": 1359,
    "start_time": "2021-11-12T16:09:01.592Z"
   },
   {
    "duration": 7,
    "start_time": "2021-11-12T16:09:02.952Z"
   },
   {
    "duration": 821,
    "start_time": "2021-11-12T16:09:02.960Z"
   },
   {
    "duration": 786,
    "start_time": "2021-11-12T16:09:03.783Z"
   },
   {
    "duration": 3,
    "start_time": "2021-11-12T16:09:04.571Z"
   },
   {
    "duration": 13,
    "start_time": "2021-11-12T16:09:04.576Z"
   },
   {
    "duration": 18,
    "start_time": "2021-11-12T16:09:04.590Z"
   },
   {
    "duration": 33,
    "start_time": "2021-11-12T16:09:04.609Z"
   },
   {
    "duration": 1227,
    "start_time": "2021-11-12T16:09:04.643Z"
   },
   {
    "duration": 4,
    "start_time": "2021-11-12T16:09:05.872Z"
   },
   {
    "duration": 102,
    "start_time": "2021-11-12T16:09:05.877Z"
   },
   {
    "duration": 6,
    "start_time": "2021-11-12T16:09:05.981Z"
   },
   {
    "duration": 1347,
    "start_time": "2021-11-12T16:09:05.988Z"
   },
   {
    "duration": 3,
    "start_time": "2021-11-12T16:09:07.337Z"
   },
   {
    "duration": 16,
    "start_time": "2021-11-12T16:09:07.341Z"
   },
   {
    "duration": 17,
    "start_time": "2021-11-12T16:09:07.358Z"
   },
   {
    "duration": 22,
    "start_time": "2021-11-12T16:09:07.377Z"
   },
   {
    "duration": 14,
    "start_time": "2021-11-12T16:09:07.401Z"
   },
   {
    "duration": 11,
    "start_time": "2021-11-12T16:09:07.417Z"
   },
   {
    "duration": 1688,
    "start_time": "2021-11-12T16:09:07.430Z"
   },
   {
    "duration": 5,
    "start_time": "2021-11-12T16:09:09.120Z"
   },
   {
    "duration": 81,
    "start_time": "2021-11-12T16:09:09.126Z"
   },
   {
    "duration": 1607,
    "start_time": "2021-11-12T16:09:09.209Z"
   },
   {
    "duration": 5,
    "start_time": "2021-11-12T16:09:10.819Z"
   },
   {
    "duration": 4,
    "start_time": "2021-11-12T16:09:10.907Z"
   },
   {
    "duration": 23,
    "start_time": "2021-11-12T16:09:10.913Z"
   },
   {
    "duration": 12,
    "start_time": "2021-11-12T16:09:10.938Z"
   },
   {
    "duration": 29,
    "start_time": "2021-11-12T16:09:10.952Z"
   },
   {
    "duration": 31,
    "start_time": "2021-11-12T16:09:10.982Z"
   },
   {
    "duration": 29,
    "start_time": "2021-11-12T16:09:11.015Z"
   },
   {
    "duration": 1206,
    "start_time": "2021-11-12T16:24:50.425Z"
   },
   {
    "duration": 277,
    "start_time": "2021-11-12T16:24:53.437Z"
   },
   {
    "duration": 77,
    "start_time": "2021-11-12T16:24:59.362Z"
   },
   {
    "duration": 351,
    "start_time": "2021-11-12T16:25:01.217Z"
   },
   {
    "duration": 16,
    "start_time": "2021-11-12T16:25:03.510Z"
   },
   {
    "duration": 21,
    "start_time": "2021-11-12T16:25:05.107Z"
   },
   {
    "duration": 218,
    "start_time": "2021-11-12T16:25:05.959Z"
   },
   {
    "duration": 7,
    "start_time": "2021-11-12T16:25:06.700Z"
   },
   {
    "duration": 142,
    "start_time": "2021-11-12T16:25:07.350Z"
   },
   {
    "duration": 10,
    "start_time": "2021-11-12T16:25:08.557Z"
   },
   {
    "duration": 18,
    "start_time": "2021-11-12T16:25:09.122Z"
   },
   {
    "duration": 113,
    "start_time": "2021-11-12T16:25:09.479Z"
   },
   {
    "duration": 6,
    "start_time": "2021-11-12T16:25:09.787Z"
   },
   {
    "duration": 19,
    "start_time": "2021-11-12T16:25:10.285Z"
   },
   {
    "duration": 17,
    "start_time": "2021-11-12T16:25:11.463Z"
   },
   {
    "duration": 14,
    "start_time": "2021-11-12T16:25:12.004Z"
   },
   {
    "duration": 235,
    "start_time": "2021-11-12T16:25:12.331Z"
   },
   {
    "duration": 8,
    "start_time": "2021-11-12T16:25:12.634Z"
   },
   {
    "duration": 72,
    "start_time": "2021-11-12T16:25:12.885Z"
   },
   {
    "duration": 2,
    "start_time": "2021-11-12T16:25:13.503Z"
   },
   {
    "duration": 9,
    "start_time": "2021-11-12T16:25:13.762Z"
   },
   {
    "duration": 4,
    "start_time": "2021-11-12T16:25:14.668Z"
   },
   {
    "duration": 4,
    "start_time": "2021-11-12T16:25:15.515Z"
   },
   {
    "duration": 5,
    "start_time": "2021-11-12T16:25:16.173Z"
   },
   {
    "duration": 4,
    "start_time": "2021-11-12T16:25:16.460Z"
   },
   {
    "duration": 14,
    "start_time": "2021-11-12T16:25:17.307Z"
   },
   {
    "duration": 12,
    "start_time": "2021-11-12T16:25:17.604Z"
   },
   {
    "duration": 5,
    "start_time": "2021-11-12T16:25:17.850Z"
   },
   {
    "duration": 22,
    "start_time": "2021-11-12T16:25:18.081Z"
   },
   {
    "duration": 7,
    "start_time": "2021-11-12T16:25:18.321Z"
   },
   {
    "duration": 6,
    "start_time": "2021-11-12T16:25:19.049Z"
   },
   {
    "duration": 8,
    "start_time": "2021-11-12T16:25:19.645Z"
   },
   {
    "duration": 7,
    "start_time": "2021-11-12T16:25:57.492Z"
   },
   {
    "duration": 15,
    "start_time": "2021-11-12T16:25:58.045Z"
   },
   {
    "duration": 6,
    "start_time": "2021-11-12T16:25:58.612Z"
   },
   {
    "duration": 16,
    "start_time": "2021-11-12T16:25:59.274Z"
   },
   {
    "duration": 8,
    "start_time": "2021-11-12T16:25:59.668Z"
   },
   {
    "duration": 6,
    "start_time": "2021-11-12T16:26:00.220Z"
   },
   {
    "duration": 8,
    "start_time": "2021-11-12T16:26:00.796Z"
   },
   {
    "duration": 1278,
    "start_time": "2021-11-12T16:26:02.980Z"
   },
   {
    "duration": 6,
    "start_time": "2021-11-12T16:26:04.260Z"
   },
   {
    "duration": 1216,
    "start_time": "2021-11-12T16:26:05.580Z"
   },
   {
    "duration": 10,
    "start_time": "2021-11-12T16:26:06.798Z"
   },
   {
    "duration": 1364,
    "start_time": "2021-11-12T16:26:07.364Z"
   },
   {
    "duration": 7,
    "start_time": "2021-11-12T16:26:08.730Z"
   },
   {
    "duration": 819,
    "start_time": "2021-11-12T16:26:14.120Z"
   },
   {
    "duration": 775,
    "start_time": "2021-11-12T16:26:16.450Z"
   },
   {
    "duration": 3,
    "start_time": "2021-11-12T16:26:19.694Z"
   },
   {
    "duration": 4,
    "start_time": "2021-11-12T16:26:20.750Z"
   },
   {
    "duration": 4,
    "start_time": "2021-11-12T16:26:21.314Z"
   },
   {
    "duration": 4,
    "start_time": "2021-11-12T16:26:22.026Z"
   },
   {
    "duration": 1363,
    "start_time": "2021-11-12T16:26:23.230Z"
   },
   {
    "duration": 10,
    "start_time": "2021-11-12T16:26:26.075Z"
   },
   {
    "duration": 80,
    "start_time": "2021-11-12T16:26:27.278Z"
   },
   {
    "duration": 7,
    "start_time": "2021-11-12T16:26:28.996Z"
   },
   {
    "duration": 1380,
    "start_time": "2021-11-12T16:26:29.922Z"
   },
   {
    "duration": 4,
    "start_time": "2021-11-12T16:26:33.106Z"
   },
   {
    "duration": 3,
    "start_time": "2021-11-12T16:26:35.125Z"
   },
   {
    "duration": 7,
    "start_time": "2021-11-12T16:26:37.934Z"
   },
   {
    "duration": 10,
    "start_time": "2021-11-12T16:26:40.043Z"
   },
   {
    "duration": 6,
    "start_time": "2021-11-12T16:26:41.078Z"
   },
   {
    "duration": 3,
    "start_time": "2021-11-12T16:26:43.059Z"
   },
   {
    "duration": 2044,
    "start_time": "2021-11-12T16:26:43.976Z"
   },
   {
    "duration": 3,
    "start_time": "2021-11-12T16:26:46.553Z"
   },
   {
    "duration": 2,
    "start_time": "2021-11-12T16:26:53.122Z"
   },
   {
    "duration": 1816,
    "start_time": "2021-11-12T16:26:56.901Z"
   },
   {
    "duration": 5,
    "start_time": "2021-11-12T16:26:58.719Z"
   },
   {
    "duration": 3,
    "start_time": "2021-11-12T16:26:58.807Z"
   },
   {
    "duration": 3,
    "start_time": "2021-11-12T16:27:01.059Z"
   },
   {
    "duration": 3,
    "start_time": "2021-11-12T16:27:04.066Z"
   },
   {
    "duration": 3,
    "start_time": "2021-11-12T16:27:08.986Z"
   },
   {
    "duration": 3,
    "start_time": "2021-11-12T16:27:10.074Z"
   },
   {
    "duration": 3,
    "start_time": "2021-11-12T16:27:11.285Z"
   },
   {
    "duration": 355596,
    "start_time": "2021-11-12T16:27:13.461Z"
   },
   {
    "duration": -74,
    "start_time": "2021-11-12T16:33:09.133Z"
   },
   {
    "duration": -75,
    "start_time": "2021-11-12T16:33:09.135Z"
   },
   {
    "duration": -76,
    "start_time": "2021-11-12T16:33:09.137Z"
   },
   {
    "duration": -77,
    "start_time": "2021-11-12T16:33:09.139Z"
   },
   {
    "duration": 3,
    "start_time": "2021-11-12T16:33:17.565Z"
   },
   {
    "duration": 3,
    "start_time": "2021-11-12T16:33:18.732Z"
   },
   {
    "duration": 3,
    "start_time": "2021-11-12T16:33:21.186Z"
   },
   {
    "duration": 6079,
    "start_time": "2021-11-12T16:33:26.654Z"
   },
   {
    "duration": 204598,
    "start_time": "2021-11-12T16:33:39.212Z"
   },
   {
    "duration": 5,
    "start_time": "2021-11-12T16:42:55.878Z"
   },
   {
    "duration": 1130,
    "start_time": "2021-11-12T16:43:55.715Z"
   },
   {
    "duration": 253,
    "start_time": "2021-11-12T16:43:56.847Z"
   },
   {
    "duration": 74,
    "start_time": "2021-11-12T16:43:57.102Z"
   },
   {
    "duration": 348,
    "start_time": "2021-11-12T16:43:57.178Z"
   },
   {
    "duration": 15,
    "start_time": "2021-11-12T16:43:57.528Z"
   },
   {
    "duration": 20,
    "start_time": "2021-11-12T16:43:57.544Z"
   },
   {
    "duration": 225,
    "start_time": "2021-11-12T16:43:57.566Z"
   },
   {
    "duration": 16,
    "start_time": "2021-11-12T16:43:57.793Z"
   },
   {
    "duration": 119,
    "start_time": "2021-11-12T16:43:57.811Z"
   },
   {
    "duration": 9,
    "start_time": "2021-11-12T16:43:57.932Z"
   },
   {
    "duration": 17,
    "start_time": "2021-11-12T16:43:57.943Z"
   },
   {
    "duration": 144,
    "start_time": "2021-11-12T16:43:57.961Z"
   },
   {
    "duration": 6,
    "start_time": "2021-11-12T16:43:58.106Z"
   },
   {
    "duration": 24,
    "start_time": "2021-11-12T16:43:58.113Z"
   },
   {
    "duration": 16,
    "start_time": "2021-11-12T16:43:58.139Z"
   },
   {
    "duration": 18,
    "start_time": "2021-11-12T16:43:58.156Z"
   },
   {
    "duration": 238,
    "start_time": "2021-11-12T16:43:58.176Z"
   },
   {
    "duration": 8,
    "start_time": "2021-11-12T16:43:58.415Z"
   },
   {
    "duration": 82,
    "start_time": "2021-11-12T16:43:58.425Z"
   },
   {
    "duration": 2,
    "start_time": "2021-11-12T16:43:58.509Z"
   },
   {
    "duration": 19,
    "start_time": "2021-11-12T16:43:58.512Z"
   },
   {
    "duration": 3,
    "start_time": "2021-11-12T16:43:58.532Z"
   },
   {
    "duration": 12,
    "start_time": "2021-11-12T16:43:58.537Z"
   },
   {
    "duration": 5,
    "start_time": "2021-11-12T16:43:58.551Z"
   },
   {
    "duration": 6,
    "start_time": "2021-11-12T16:43:58.557Z"
   },
   {
    "duration": 20,
    "start_time": "2021-11-12T16:43:58.564Z"
   },
   {
    "duration": 18,
    "start_time": "2021-11-12T16:43:58.588Z"
   },
   {
    "duration": 5,
    "start_time": "2021-11-12T16:43:58.608Z"
   },
   {
    "duration": 26,
    "start_time": "2021-11-12T16:43:58.614Z"
   },
   {
    "duration": 7,
    "start_time": "2021-11-12T16:43:58.641Z"
   },
   {
    "duration": 16,
    "start_time": "2021-11-12T16:43:58.649Z"
   },
   {
    "duration": 34,
    "start_time": "2021-11-12T16:43:58.667Z"
   },
   {
    "duration": 1270,
    "start_time": "2021-11-12T16:43:58.702Z"
   },
   {
    "duration": 6,
    "start_time": "2021-11-12T16:43:59.974Z"
   },
   {
    "duration": 1230,
    "start_time": "2021-11-12T16:43:59.982Z"
   },
   {
    "duration": 6,
    "start_time": "2021-11-12T16:44:01.213Z"
   },
   {
    "duration": 1333,
    "start_time": "2021-11-12T16:44:01.221Z"
   },
   {
    "duration": 5,
    "start_time": "2021-11-12T16:44:02.556Z"
   },
   {
    "duration": 832,
    "start_time": "2021-11-12T16:44:02.562Z"
   },
   {
    "duration": 799,
    "start_time": "2021-11-12T16:44:03.396Z"
   },
   {
    "duration": 4,
    "start_time": "2021-11-12T16:44:04.196Z"
   },
   {
    "duration": 4,
    "start_time": "2021-11-12T16:44:04.206Z"
   },
   {
    "duration": 7,
    "start_time": "2021-11-12T16:44:04.211Z"
   },
   {
    "duration": 12,
    "start_time": "2021-11-12T16:44:04.220Z"
   },
   {
    "duration": 1230,
    "start_time": "2021-11-12T16:44:04.234Z"
   },
   {
    "duration": 4,
    "start_time": "2021-11-12T16:44:05.466Z"
   },
   {
    "duration": 94,
    "start_time": "2021-11-12T16:44:05.472Z"
   },
   {
    "duration": 7,
    "start_time": "2021-11-12T16:44:05.567Z"
   },
   {
    "duration": 1438,
    "start_time": "2021-11-12T16:44:05.576Z"
   },
   {
    "duration": 3,
    "start_time": "2021-11-12T16:44:07.016Z"
   },
   {
    "duration": 14,
    "start_time": "2021-11-12T16:44:07.020Z"
   },
   {
    "duration": 10,
    "start_time": "2021-11-12T16:44:07.036Z"
   },
   {
    "duration": 20,
    "start_time": "2021-11-12T16:44:07.048Z"
   },
   {
    "duration": 14,
    "start_time": "2021-11-12T16:44:07.070Z"
   },
   {
    "duration": 16,
    "start_time": "2021-11-12T16:44:07.085Z"
   },
   {
    "duration": 1704,
    "start_time": "2021-11-12T16:44:07.103Z"
   },
   {
    "duration": 4,
    "start_time": "2021-11-12T16:44:08.808Z"
   },
   {
    "duration": 6,
    "start_time": "2021-11-12T16:44:08.813Z"
   },
   {
    "duration": 1495,
    "start_time": "2021-11-12T16:44:08.821Z"
   },
   {
    "duration": 9,
    "start_time": "2021-11-12T16:44:10.318Z"
   },
   {
    "duration": 3,
    "start_time": "2021-11-12T16:44:10.409Z"
   },
   {
    "duration": 14,
    "start_time": "2021-11-12T16:44:10.414Z"
   },
   {
    "duration": 5,
    "start_time": "2021-11-12T16:44:10.507Z"
   },
   {
    "duration": 7,
    "start_time": "2021-11-12T16:44:10.514Z"
   },
   {
    "duration": 8,
    "start_time": "2021-11-12T16:44:10.522Z"
   },
   {
    "duration": 7,
    "start_time": "2021-11-12T16:44:10.531Z"
   },
   {
    "duration": 1173,
    "start_time": "2021-11-12T16:44:51.775Z"
   },
   {
    "duration": 276,
    "start_time": "2021-11-12T16:44:52.950Z"
   },
   {
    "duration": 77,
    "start_time": "2021-11-12T16:44:53.230Z"
   },
   {
    "duration": 377,
    "start_time": "2021-11-12T16:44:53.308Z"
   },
   {
    "duration": 21,
    "start_time": "2021-11-12T16:44:53.687Z"
   },
   {
    "duration": 20,
    "start_time": "2021-11-12T16:44:53.709Z"
   },
   {
    "duration": 241,
    "start_time": "2021-11-12T16:44:53.731Z"
   },
   {
    "duration": 8,
    "start_time": "2021-11-12T16:44:53.976Z"
   },
   {
    "duration": 121,
    "start_time": "2021-11-12T16:44:53.986Z"
   },
   {
    "duration": 9,
    "start_time": "2021-11-12T16:44:54.109Z"
   },
   {
    "duration": 17,
    "start_time": "2021-11-12T16:44:54.120Z"
   },
   {
    "duration": 141,
    "start_time": "2021-11-12T16:44:54.138Z"
   },
   {
    "duration": 5,
    "start_time": "2021-11-12T16:44:54.281Z"
   },
   {
    "duration": 32,
    "start_time": "2021-11-12T16:44:54.288Z"
   },
   {
    "duration": 17,
    "start_time": "2021-11-12T16:44:54.321Z"
   },
   {
    "duration": 20,
    "start_time": "2021-11-12T16:44:54.340Z"
   },
   {
    "duration": 246,
    "start_time": "2021-11-12T16:44:54.362Z"
   },
   {
    "duration": 10,
    "start_time": "2021-11-12T16:44:54.610Z"
   },
   {
    "duration": 92,
    "start_time": "2021-11-12T16:44:54.621Z"
   },
   {
    "duration": 3,
    "start_time": "2021-11-12T16:44:54.715Z"
   },
   {
    "duration": 13,
    "start_time": "2021-11-12T16:44:54.720Z"
   },
   {
    "duration": 4,
    "start_time": "2021-11-12T16:44:54.735Z"
   },
   {
    "duration": 9,
    "start_time": "2021-11-12T16:44:54.740Z"
   },
   {
    "duration": 10,
    "start_time": "2021-11-12T16:44:54.751Z"
   },
   {
    "duration": 6,
    "start_time": "2021-11-12T16:44:54.762Z"
   },
   {
    "duration": 33,
    "start_time": "2021-11-12T16:44:54.773Z"
   },
   {
    "duration": 13,
    "start_time": "2021-11-12T16:44:54.809Z"
   },
   {
    "duration": 6,
    "start_time": "2021-11-12T16:44:54.824Z"
   },
   {
    "duration": 26,
    "start_time": "2021-11-12T16:44:54.832Z"
   },
   {
    "duration": 8,
    "start_time": "2021-11-12T16:44:54.859Z"
   },
   {
    "duration": 6,
    "start_time": "2021-11-12T16:44:54.869Z"
   },
   {
    "duration": 9,
    "start_time": "2021-11-12T16:44:54.907Z"
   },
   {
    "duration": 1288,
    "start_time": "2021-11-12T16:44:54.918Z"
   },
   {
    "duration": 7,
    "start_time": "2021-11-12T16:44:56.209Z"
   },
   {
    "duration": 1701,
    "start_time": "2021-11-12T16:44:56.218Z"
   },
   {
    "duration": 8,
    "start_time": "2021-11-12T16:44:57.921Z"
   },
   {
    "duration": 1690,
    "start_time": "2021-11-12T16:44:57.930Z"
   },
   {
    "duration": 7,
    "start_time": "2021-11-12T16:44:59.622Z"
   },
   {
    "duration": 1015,
    "start_time": "2021-11-12T16:44:59.631Z"
   },
   {
    "duration": 903,
    "start_time": "2021-11-12T16:45:00.648Z"
   },
   {
    "duration": 3,
    "start_time": "2021-11-12T16:45:01.553Z"
   },
   {
    "duration": 13,
    "start_time": "2021-11-12T16:45:01.558Z"
   },
   {
    "duration": 14,
    "start_time": "2021-11-12T16:45:01.573Z"
   },
   {
    "duration": 19,
    "start_time": "2021-11-12T16:45:01.589Z"
   },
   {
    "duration": 1280,
    "start_time": "2021-11-12T16:45:01.610Z"
   },
   {
    "duration": 4,
    "start_time": "2021-11-12T16:45:02.892Z"
   },
   {
    "duration": 99,
    "start_time": "2021-11-12T16:45:02.898Z"
   },
   {
    "duration": 8,
    "start_time": "2021-11-12T16:45:02.998Z"
   },
   {
    "duration": 1466,
    "start_time": "2021-11-12T16:45:03.008Z"
   },
   {
    "duration": 3,
    "start_time": "2021-11-12T16:45:04.476Z"
   },
   {
    "duration": 20,
    "start_time": "2021-11-12T16:45:04.480Z"
   },
   {
    "duration": 16,
    "start_time": "2021-11-12T16:45:04.502Z"
   },
   {
    "duration": 11,
    "start_time": "2021-11-12T16:45:04.520Z"
   },
   {
    "duration": 14,
    "start_time": "2021-11-12T16:45:04.532Z"
   },
   {
    "duration": 8,
    "start_time": "2021-11-12T16:45:04.548Z"
   },
   {
    "duration": 1660,
    "start_time": "2021-11-12T16:45:04.557Z"
   },
   {
    "duration": 4,
    "start_time": "2021-11-12T16:45:06.219Z"
   },
   {
    "duration": 6,
    "start_time": "2021-11-12T16:45:06.225Z"
   },
   {
    "duration": 1784,
    "start_time": "2021-11-12T16:45:06.233Z"
   },
   {
    "duration": 4,
    "start_time": "2021-11-12T16:45:08.019Z"
   },
   {
    "duration": 82,
    "start_time": "2021-11-12T16:45:08.024Z"
   },
   {
    "duration": 4,
    "start_time": "2021-11-12T16:45:08.108Z"
   },
   {
    "duration": 7,
    "start_time": "2021-11-12T16:45:08.113Z"
   },
   {
    "duration": 6,
    "start_time": "2021-11-12T16:45:08.121Z"
   },
   {
    "duration": 12,
    "start_time": "2021-11-12T16:45:08.128Z"
   },
   {
    "duration": 13,
    "start_time": "2021-11-12T16:45:08.141Z"
   },
   {
    "duration": 1177,
    "start_time": "2021-11-12T16:46:28.871Z"
   },
   {
    "duration": 339,
    "start_time": "2021-11-12T16:46:30.051Z"
   },
   {
    "duration": 134,
    "start_time": "2021-11-12T16:46:30.399Z"
   },
   {
    "duration": 415,
    "start_time": "2021-11-12T16:46:30.547Z"
   },
   {
    "duration": 14,
    "start_time": "2021-11-12T16:46:30.964Z"
   },
   {
    "duration": 35,
    "start_time": "2021-11-12T16:46:30.979Z"
   },
   {
    "duration": 217,
    "start_time": "2021-11-12T16:46:31.016Z"
   },
   {
    "duration": 8,
    "start_time": "2021-11-12T16:46:31.236Z"
   },
   {
    "duration": 116,
    "start_time": "2021-11-12T16:46:31.247Z"
   },
   {
    "duration": 10,
    "start_time": "2021-11-12T16:46:31.366Z"
   },
   {
    "duration": 35,
    "start_time": "2021-11-12T16:46:31.378Z"
   },
   {
    "duration": 126,
    "start_time": "2021-11-12T16:46:31.415Z"
   },
   {
    "duration": 6,
    "start_time": "2021-11-12T16:46:31.543Z"
   },
   {
    "duration": 27,
    "start_time": "2021-11-12T16:46:31.550Z"
   },
   {
    "duration": 31,
    "start_time": "2021-11-12T16:46:31.579Z"
   },
   {
    "duration": 21,
    "start_time": "2021-11-12T16:46:31.611Z"
   },
   {
    "duration": 233,
    "start_time": "2021-11-12T16:46:31.633Z"
   },
   {
    "duration": 8,
    "start_time": "2021-11-12T16:46:31.867Z"
   },
   {
    "duration": 86,
    "start_time": "2021-11-12T16:46:31.877Z"
   },
   {
    "duration": 2,
    "start_time": "2021-11-12T16:46:31.964Z"
   },
   {
    "duration": 14,
    "start_time": "2021-11-12T16:46:31.968Z"
   },
   {
    "duration": 4,
    "start_time": "2021-11-12T16:46:31.984Z"
   },
   {
    "duration": 17,
    "start_time": "2021-11-12T16:46:31.990Z"
   },
   {
    "duration": 5,
    "start_time": "2021-11-12T16:46:32.008Z"
   },
   {
    "duration": 8,
    "start_time": "2021-11-12T16:46:32.015Z"
   },
   {
    "duration": 17,
    "start_time": "2021-11-12T16:46:32.027Z"
   },
   {
    "duration": 12,
    "start_time": "2021-11-12T16:46:32.046Z"
   },
   {
    "duration": 8,
    "start_time": "2021-11-12T16:46:32.060Z"
   },
   {
    "duration": 37,
    "start_time": "2021-11-12T16:46:32.069Z"
   },
   {
    "duration": 7,
    "start_time": "2021-11-12T16:46:32.108Z"
   },
   {
    "duration": 5,
    "start_time": "2021-11-12T16:46:32.117Z"
   },
   {
    "duration": 9,
    "start_time": "2021-11-12T16:46:32.123Z"
   },
   {
    "duration": 1278,
    "start_time": "2021-11-12T16:46:32.133Z"
   },
   {
    "duration": 7,
    "start_time": "2021-11-12T16:46:33.413Z"
   },
   {
    "duration": 1221,
    "start_time": "2021-11-12T16:46:33.421Z"
   },
   {
    "duration": 6,
    "start_time": "2021-11-12T16:46:34.644Z"
   },
   {
    "duration": 1340,
    "start_time": "2021-11-12T16:46:34.652Z"
   },
   {
    "duration": 14,
    "start_time": "2021-11-12T16:46:35.993Z"
   },
   {
    "duration": 827,
    "start_time": "2021-11-12T16:46:36.009Z"
   },
   {
    "duration": 780,
    "start_time": "2021-11-12T16:46:36.837Z"
   },
   {
    "duration": 4,
    "start_time": "2021-11-12T16:46:37.619Z"
   },
   {
    "duration": 31,
    "start_time": "2021-11-12T16:46:37.624Z"
   },
   {
    "duration": 34,
    "start_time": "2021-11-12T16:46:37.657Z"
   },
   {
    "duration": 41,
    "start_time": "2021-11-12T16:46:37.692Z"
   },
   {
    "duration": 1261,
    "start_time": "2021-11-12T16:46:37.735Z"
   },
   {
    "duration": 4,
    "start_time": "2021-11-12T16:46:39.006Z"
   },
   {
    "duration": 114,
    "start_time": "2021-11-12T16:46:39.012Z"
   },
   {
    "duration": 9,
    "start_time": "2021-11-12T16:46:39.127Z"
   },
   {
    "duration": 1494,
    "start_time": "2021-11-12T16:46:39.137Z"
   },
   {
    "duration": 4,
    "start_time": "2021-11-12T16:46:40.633Z"
   },
   {
    "duration": 21,
    "start_time": "2021-11-12T16:46:40.639Z"
   },
   {
    "duration": 39,
    "start_time": "2021-11-12T16:46:40.661Z"
   },
   {
    "duration": 49,
    "start_time": "2021-11-12T16:46:40.702Z"
   },
   {
    "duration": 20,
    "start_time": "2021-11-12T16:46:40.753Z"
   },
   {
    "duration": 37,
    "start_time": "2021-11-12T16:46:40.775Z"
   },
   {
    "duration": 1492,
    "start_time": "2021-11-12T16:46:40.814Z"
   },
   {
    "duration": 4,
    "start_time": "2021-11-12T16:46:42.308Z"
   },
   {
    "duration": 26,
    "start_time": "2021-11-12T16:46:42.313Z"
   },
   {
    "duration": 1589,
    "start_time": "2021-11-12T16:46:42.340Z"
   },
   {
    "duration": 3,
    "start_time": "2021-11-12T16:46:44.007Z"
   },
   {
    "duration": 13,
    "start_time": "2021-11-12T16:46:44.012Z"
   },
   {
    "duration": 22,
    "start_time": "2021-11-12T16:46:44.026Z"
   },
   {
    "duration": 20,
    "start_time": "2021-11-12T16:46:44.050Z"
   },
   {
    "duration": 25,
    "start_time": "2021-11-12T16:46:44.072Z"
   },
   {
    "duration": 25,
    "start_time": "2021-11-12T16:46:44.099Z"
   },
   {
    "duration": 25,
    "start_time": "2021-11-12T16:46:44.125Z"
   },
   {
    "duration": 511,
    "start_time": "2021-11-12T16:46:44.152Z"
   },
   {
    "duration": 16,
    "start_time": "2021-11-12T16:46:44.648Z"
   },
   {
    "duration": 15,
    "start_time": "2021-11-12T16:46:44.650Z"
   },
   {
    "duration": 3,
    "start_time": "2021-11-12T16:47:46.625Z"
   },
   {
    "duration": 3,
    "start_time": "2021-11-12T16:47:47.155Z"
   },
   {
    "duration": 203987,
    "start_time": "2021-11-12T16:47:48.309Z"
   },
   {
    "duration": 3674,
    "start_time": "2021-11-12T16:51:12.297Z"
   },
   {
    "duration": 5,
    "start_time": "2021-11-12T16:51:15.972Z"
   },
   {
    "duration": 1103,
    "start_time": "2021-11-12T16:57:39.749Z"
   },
   {
    "duration": 267,
    "start_time": "2021-11-12T16:57:40.853Z"
   },
   {
    "duration": 77,
    "start_time": "2021-11-12T16:57:41.122Z"
   },
   {
    "duration": 348,
    "start_time": "2021-11-12T16:57:41.201Z"
   },
   {
    "duration": 15,
    "start_time": "2021-11-12T16:57:41.551Z"
   },
   {
    "duration": 19,
    "start_time": "2021-11-12T16:57:41.568Z"
   },
   {
    "duration": 229,
    "start_time": "2021-11-12T16:57:41.589Z"
   },
   {
    "duration": 8,
    "start_time": "2021-11-12T16:57:41.819Z"
   },
   {
    "duration": 115,
    "start_time": "2021-11-12T16:57:41.829Z"
   },
   {
    "duration": 10,
    "start_time": "2021-11-12T16:57:41.946Z"
   },
   {
    "duration": 17,
    "start_time": "2021-11-12T16:57:41.958Z"
   },
   {
    "duration": 132,
    "start_time": "2021-11-12T16:57:41.976Z"
   },
   {
    "duration": 5,
    "start_time": "2021-11-12T16:57:42.110Z"
   },
   {
    "duration": 22,
    "start_time": "2021-11-12T16:57:42.117Z"
   },
   {
    "duration": 17,
    "start_time": "2021-11-12T16:57:42.141Z"
   },
   {
    "duration": 16,
    "start_time": "2021-11-12T16:57:42.160Z"
   },
   {
    "duration": 251,
    "start_time": "2021-11-12T16:57:42.177Z"
   },
   {
    "duration": 9,
    "start_time": "2021-11-12T16:57:42.429Z"
   },
   {
    "duration": 91,
    "start_time": "2021-11-12T16:57:42.439Z"
   },
   {
    "duration": 3,
    "start_time": "2021-11-12T16:57:42.532Z"
   },
   {
    "duration": 14,
    "start_time": "2021-11-12T16:57:42.537Z"
   },
   {
    "duration": 5,
    "start_time": "2021-11-12T16:57:42.553Z"
   },
   {
    "duration": 6,
    "start_time": "2021-11-12T16:57:42.560Z"
   },
   {
    "duration": 11,
    "start_time": "2021-11-12T16:57:42.568Z"
   },
   {
    "duration": 13,
    "start_time": "2021-11-12T16:57:42.580Z"
   },
   {
    "duration": 27,
    "start_time": "2021-11-12T16:57:42.595Z"
   },
   {
    "duration": 12,
    "start_time": "2021-11-12T16:57:42.626Z"
   },
   {
    "duration": 5,
    "start_time": "2021-11-12T16:57:42.640Z"
   },
   {
    "duration": 23,
    "start_time": "2021-11-12T16:57:42.647Z"
   },
   {
    "duration": 7,
    "start_time": "2021-11-12T16:57:42.672Z"
   },
   {
    "duration": 5,
    "start_time": "2021-11-12T16:57:42.707Z"
   },
   {
    "duration": 14,
    "start_time": "2021-11-12T16:57:42.714Z"
   },
   {
    "duration": 1286,
    "start_time": "2021-11-12T16:57:42.730Z"
   },
   {
    "duration": 5,
    "start_time": "2021-11-12T16:57:44.018Z"
   },
   {
    "duration": 1341,
    "start_time": "2021-11-12T16:57:44.025Z"
   },
   {
    "duration": 6,
    "start_time": "2021-11-12T16:57:45.368Z"
   },
   {
    "duration": 1447,
    "start_time": "2021-11-12T16:57:45.375Z"
   },
   {
    "duration": 6,
    "start_time": "2021-11-12T16:57:46.824Z"
   },
   {
    "duration": 828,
    "start_time": "2021-11-12T16:57:46.831Z"
   },
   {
    "duration": 793,
    "start_time": "2021-11-12T16:57:47.661Z"
   },
   {
    "duration": 3,
    "start_time": "2021-11-12T16:57:48.456Z"
   },
   {
    "duration": 8,
    "start_time": "2021-11-12T16:57:48.461Z"
   },
   {
    "duration": 9,
    "start_time": "2021-11-12T16:57:48.471Z"
   },
   {
    "duration": 14,
    "start_time": "2021-11-12T16:57:48.481Z"
   },
   {
    "duration": 1291,
    "start_time": "2021-11-12T16:57:48.496Z"
   },
   {
    "duration": 4,
    "start_time": "2021-11-12T16:57:49.789Z"
   },
   {
    "duration": 92,
    "start_time": "2021-11-12T16:57:49.795Z"
   },
   {
    "duration": 7,
    "start_time": "2021-11-12T16:57:49.888Z"
   },
   {
    "duration": 1369,
    "start_time": "2021-11-12T16:57:49.905Z"
   },
   {
    "duration": 3,
    "start_time": "2021-11-12T16:57:51.275Z"
   },
   {
    "duration": 11,
    "start_time": "2021-11-12T16:57:51.280Z"
   },
   {
    "duration": 17,
    "start_time": "2021-11-12T16:57:51.292Z"
   },
   {
    "duration": 15,
    "start_time": "2021-11-12T16:57:51.310Z"
   },
   {
    "duration": 5,
    "start_time": "2021-11-12T16:57:51.326Z"
   },
   {
    "duration": 9,
    "start_time": "2021-11-12T16:57:51.333Z"
   },
   {
    "duration": 1365,
    "start_time": "2021-11-12T16:57:51.343Z"
   },
   {
    "duration": 4,
    "start_time": "2021-11-12T16:57:52.710Z"
   },
   {
    "duration": 21,
    "start_time": "2021-11-12T16:57:52.716Z"
   },
   {
    "duration": 1578,
    "start_time": "2021-11-12T16:57:52.739Z"
   },
   {
    "duration": 88,
    "start_time": "2021-11-12T16:57:54.319Z"
   },
   {
    "duration": 2,
    "start_time": "2021-11-12T16:57:54.409Z"
   },
   {
    "duration": 21,
    "start_time": "2021-11-12T16:57:54.413Z"
   },
   {
    "duration": 19,
    "start_time": "2021-11-12T16:57:54.436Z"
   },
   {
    "duration": 10,
    "start_time": "2021-11-12T16:57:54.457Z"
   },
   {
    "duration": 15,
    "start_time": "2021-11-12T16:57:54.469Z"
   },
   {
    "duration": 20,
    "start_time": "2021-11-12T16:57:54.486Z"
   },
   {
    "duration": 206691,
    "start_time": "2021-11-12T16:57:54.508Z"
   },
   {
    "duration": 3448,
    "start_time": "2021-11-12T17:01:21.200Z"
   },
   {
    "duration": 5,
    "start_time": "2021-11-12T17:01:24.649Z"
   },
   {
    "duration": 20,
    "start_time": "2021-11-12T17:01:24.655Z"
   },
   {
    "duration": 15,
    "start_time": "2021-11-12T17:01:24.677Z"
   },
   {
    "duration": 18,
    "start_time": "2021-11-12T17:01:24.694Z"
   },
   {
    "duration": 4,
    "start_time": "2021-11-12T17:28:10.677Z"
   },
   {
    "duration": 4,
    "start_time": "2021-11-12T17:28:33.960Z"
   },
   {
    "duration": 4,
    "start_time": "2021-11-12T17:28:53.596Z"
   },
   {
    "duration": 4,
    "start_time": "2021-11-12T17:29:09.780Z"
   },
   {
    "duration": 4,
    "start_time": "2021-11-12T17:29:25.609Z"
   },
   {
    "duration": 3,
    "start_time": "2021-11-12T17:29:48.283Z"
   },
   {
    "duration": 3,
    "start_time": "2021-11-12T17:36:11.778Z"
   },
   {
    "duration": 4,
    "start_time": "2021-11-12T17:36:12.619Z"
   },
   {
    "duration": 3,
    "start_time": "2021-11-12T17:36:13.270Z"
   },
   {
    "duration": 3,
    "start_time": "2021-11-12T17:40:53.259Z"
   },
   {
    "duration": 4,
    "start_time": "2021-11-12T17:40:53.771Z"
   },
   {
    "duration": 4,
    "start_time": "2021-11-12T17:40:55.471Z"
   },
   {
    "duration": 3,
    "start_time": "2021-11-12T17:41:32.457Z"
   },
   {
    "duration": 3,
    "start_time": "2021-11-12T17:41:33.125Z"
   },
   {
    "duration": 2,
    "start_time": "2021-11-12T17:41:33.828Z"
   },
   {
    "duration": 3,
    "start_time": "2021-11-12T17:41:34.621Z"
   },
   {
    "duration": 4,
    "start_time": "2021-11-12T17:44:54.735Z"
   },
   {
    "duration": 1111,
    "start_time": "2021-11-12T17:45:25.348Z"
   },
   {
    "duration": 276,
    "start_time": "2021-11-12T17:45:26.461Z"
   },
   {
    "duration": 77,
    "start_time": "2021-11-12T17:45:26.739Z"
   },
   {
    "duration": 359,
    "start_time": "2021-11-12T17:45:26.818Z"
   },
   {
    "duration": 14,
    "start_time": "2021-11-12T17:45:27.179Z"
   },
   {
    "duration": 36,
    "start_time": "2021-11-12T17:45:27.195Z"
   },
   {
    "duration": 215,
    "start_time": "2021-11-12T17:45:27.232Z"
   },
   {
    "duration": 7,
    "start_time": "2021-11-12T17:45:27.449Z"
   },
   {
    "duration": 143,
    "start_time": "2021-11-12T17:45:27.458Z"
   },
   {
    "duration": 9,
    "start_time": "2021-11-12T17:45:27.606Z"
   },
   {
    "duration": 29,
    "start_time": "2021-11-12T17:45:27.617Z"
   },
   {
    "duration": 128,
    "start_time": "2021-11-12T17:45:27.647Z"
   },
   {
    "duration": 5,
    "start_time": "2021-11-12T17:45:27.777Z"
   },
   {
    "duration": 27,
    "start_time": "2021-11-12T17:45:27.784Z"
   },
   {
    "duration": 16,
    "start_time": "2021-11-12T17:45:27.813Z"
   },
   {
    "duration": 17,
    "start_time": "2021-11-12T17:45:27.831Z"
   },
   {
    "duration": 232,
    "start_time": "2021-11-12T17:45:27.849Z"
   },
   {
    "duration": 8,
    "start_time": "2021-11-12T17:45:28.083Z"
   },
   {
    "duration": 86,
    "start_time": "2021-11-12T17:45:28.092Z"
   },
   {
    "duration": 3,
    "start_time": "2021-11-12T17:45:28.180Z"
   },
   {
    "duration": 19,
    "start_time": "2021-11-12T17:45:28.184Z"
   },
   {
    "duration": 5,
    "start_time": "2021-11-12T17:45:28.204Z"
   },
   {
    "duration": 15,
    "start_time": "2021-11-12T17:45:28.210Z"
   },
   {
    "duration": 19,
    "start_time": "2021-11-12T17:45:28.226Z"
   },
   {
    "duration": 6,
    "start_time": "2021-11-12T17:45:28.247Z"
   },
   {
    "duration": 23,
    "start_time": "2021-11-12T17:45:28.255Z"
   },
   {
    "duration": 14,
    "start_time": "2021-11-12T17:45:28.282Z"
   },
   {
    "duration": 7,
    "start_time": "2021-11-12T17:45:28.299Z"
   },
   {
    "duration": 30,
    "start_time": "2021-11-12T17:45:28.308Z"
   },
   {
    "duration": 9,
    "start_time": "2021-11-12T17:45:28.339Z"
   },
   {
    "duration": 9,
    "start_time": "2021-11-12T17:45:28.350Z"
   },
   {
    "duration": 11,
    "start_time": "2021-11-12T17:45:28.361Z"
   },
   {
    "duration": 1277,
    "start_time": "2021-11-12T17:45:28.374Z"
   },
   {
    "duration": 8,
    "start_time": "2021-11-12T17:45:29.653Z"
   },
   {
    "duration": 1225,
    "start_time": "2021-11-12T17:45:29.662Z"
   },
   {
    "duration": 6,
    "start_time": "2021-11-12T17:45:30.889Z"
   },
   {
    "duration": 1368,
    "start_time": "2021-11-12T17:45:30.896Z"
   },
   {
    "duration": 6,
    "start_time": "2021-11-12T17:45:32.266Z"
   },
   {
    "duration": 833,
    "start_time": "2021-11-12T17:45:32.273Z"
   },
   {
    "duration": 795,
    "start_time": "2021-11-12T17:45:33.108Z"
   },
   {
    "duration": 3,
    "start_time": "2021-11-12T17:45:33.907Z"
   },
   {
    "duration": 9,
    "start_time": "2021-11-12T17:45:33.912Z"
   },
   {
    "duration": 14,
    "start_time": "2021-11-12T17:45:33.922Z"
   },
   {
    "duration": 14,
    "start_time": "2021-11-12T17:45:33.937Z"
   },
   {
    "duration": 1277,
    "start_time": "2021-11-12T17:45:33.952Z"
   },
   {
    "duration": 4,
    "start_time": "2021-11-12T17:45:35.231Z"
   },
   {
    "duration": 91,
    "start_time": "2021-11-12T17:45:35.236Z"
   },
   {
    "duration": 7,
    "start_time": "2021-11-12T17:45:35.329Z"
   },
   {
    "duration": 1369,
    "start_time": "2021-11-12T17:45:35.337Z"
   },
   {
    "duration": 3,
    "start_time": "2021-11-12T17:45:36.708Z"
   },
   {
    "duration": 13,
    "start_time": "2021-11-12T17:45:36.712Z"
   },
   {
    "duration": 15,
    "start_time": "2021-11-12T17:45:36.727Z"
   },
   {
    "duration": 13,
    "start_time": "2021-11-12T17:45:36.744Z"
   },
   {
    "duration": 6,
    "start_time": "2021-11-12T17:45:36.759Z"
   },
   {
    "duration": 19,
    "start_time": "2021-11-12T17:45:36.766Z"
   },
   {
    "duration": 1627,
    "start_time": "2021-11-12T17:45:36.786Z"
   },
   {
    "duration": 4,
    "start_time": "2021-11-12T17:45:38.414Z"
   },
   {
    "duration": 88,
    "start_time": "2021-11-12T17:45:38.419Z"
   },
   {
    "duration": 1804,
    "start_time": "2021-11-12T17:45:38.509Z"
   },
   {
    "duration": 90,
    "start_time": "2021-11-12T17:45:40.317Z"
   },
   {
    "duration": 17,
    "start_time": "2021-11-12T17:45:40.409Z"
   },
   {
    "duration": 12,
    "start_time": "2021-11-12T17:45:40.427Z"
   },
   {
    "duration": 19,
    "start_time": "2021-11-12T17:45:40.441Z"
   },
   {
    "duration": 27,
    "start_time": "2021-11-12T17:45:40.461Z"
   },
   {
    "duration": 203631,
    "start_time": "2021-11-12T17:45:40.489Z"
   },
   {
    "duration": 3548,
    "start_time": "2021-11-12T17:49:04.122Z"
   },
   {
    "duration": 4,
    "start_time": "2021-11-12T17:49:07.672Z"
   },
   {
    "duration": 9,
    "start_time": "2021-11-12T17:49:07.677Z"
   },
   {
    "duration": 12,
    "start_time": "2021-11-12T17:49:07.688Z"
   },
   {
    "duration": 4,
    "start_time": "2021-11-12T17:49:07.706Z"
   },
   {
    "duration": 5,
    "start_time": "2021-11-12T17:49:07.712Z"
   },
   {
    "duration": 12,
    "start_time": "2021-11-12T17:49:07.719Z"
   },
   {
    "duration": 8,
    "start_time": "2021-11-12T17:49:07.733Z"
   },
   {
    "duration": 6,
    "start_time": "2021-11-12T17:49:07.743Z"
   },
   {
    "duration": 5,
    "start_time": "2021-11-12T17:49:07.751Z"
   },
   {
    "duration": 7,
    "start_time": "2021-11-12T17:49:07.757Z"
   },
   {
    "duration": 9,
    "start_time": "2021-11-12T17:49:07.766Z"
   },
   {
    "duration": 6,
    "start_time": "2021-11-12T17:49:07.776Z"
   },
   {
    "duration": 5,
    "start_time": "2021-11-12T17:49:07.784Z"
   },
   {
    "duration": 502,
    "start_time": "2021-11-12T18:33:33.447Z"
   },
   {
    "duration": 341,
    "start_time": "2021-11-12T18:33:34.296Z"
   },
   {
    "duration": 352,
    "start_time": "2021-11-12T18:33:35.440Z"
   },
   {
    "duration": 2252,
    "start_time": "2021-11-12T18:36:57.167Z"
   },
   {
    "duration": 15,
    "start_time": "2021-11-12T18:36:59.534Z"
   },
   {
    "duration": 3,
    "start_time": "2021-11-12T18:37:01.114Z"
   },
   {
    "duration": 3,
    "start_time": "2021-11-12T18:37:38.517Z"
   },
   {
    "duration": 24,
    "start_time": "2021-11-12T18:46:02.878Z"
   },
   {
    "duration": 6,
    "start_time": "2021-11-12T18:47:55.116Z"
   },
   {
    "duration": 3,
    "start_time": "2021-11-12T18:47:55.777Z"
   },
   {
    "duration": 1138,
    "start_time": "2021-11-12T18:55:54.020Z"
   },
   {
    "duration": 272,
    "start_time": "2021-11-12T18:55:55.159Z"
   },
   {
    "duration": 78,
    "start_time": "2021-11-12T18:55:55.433Z"
   },
   {
    "duration": 345,
    "start_time": "2021-11-12T18:55:55.512Z"
   },
   {
    "duration": 14,
    "start_time": "2021-11-12T18:55:55.858Z"
   },
   {
    "duration": 30,
    "start_time": "2021-11-12T18:55:55.873Z"
   },
   {
    "duration": 207,
    "start_time": "2021-11-12T18:55:55.906Z"
   },
   {
    "duration": 8,
    "start_time": "2021-11-12T18:55:56.114Z"
   },
   {
    "duration": 123,
    "start_time": "2021-11-12T18:55:56.124Z"
   },
   {
    "duration": 9,
    "start_time": "2021-11-12T18:55:56.249Z"
   },
   {
    "duration": 16,
    "start_time": "2021-11-12T18:55:56.259Z"
   },
   {
    "duration": 131,
    "start_time": "2021-11-12T18:55:56.277Z"
   },
   {
    "duration": 5,
    "start_time": "2021-11-12T18:55:56.410Z"
   },
   {
    "duration": 21,
    "start_time": "2021-11-12T18:55:56.416Z"
   },
   {
    "duration": 16,
    "start_time": "2021-11-12T18:55:56.439Z"
   },
   {
    "duration": 15,
    "start_time": "2021-11-12T18:55:56.456Z"
   },
   {
    "duration": 246,
    "start_time": "2021-11-12T18:55:56.473Z"
   },
   {
    "duration": 8,
    "start_time": "2021-11-12T18:55:56.720Z"
   },
   {
    "duration": 83,
    "start_time": "2021-11-12T18:55:56.730Z"
   },
   {
    "duration": 2,
    "start_time": "2021-11-12T18:55:56.814Z"
   },
   {
    "duration": 11,
    "start_time": "2021-11-12T18:55:56.818Z"
   },
   {
    "duration": 4,
    "start_time": "2021-11-12T18:55:56.830Z"
   },
   {
    "duration": 6,
    "start_time": "2021-11-12T18:55:56.835Z"
   },
   {
    "duration": 7,
    "start_time": "2021-11-12T18:55:56.843Z"
   },
   {
    "duration": 10,
    "start_time": "2021-11-12T18:55:56.851Z"
   },
   {
    "duration": 19,
    "start_time": "2021-11-12T18:55:56.863Z"
   },
   {
    "duration": 26,
    "start_time": "2021-11-12T18:55:56.886Z"
   },
   {
    "duration": 5,
    "start_time": "2021-11-12T18:55:56.914Z"
   },
   {
    "duration": 23,
    "start_time": "2021-11-12T18:55:56.921Z"
   },
   {
    "duration": 6,
    "start_time": "2021-11-12T18:55:56.946Z"
   },
   {
    "duration": 4,
    "start_time": "2021-11-12T18:55:56.954Z"
   },
   {
    "duration": 11,
    "start_time": "2021-11-12T18:55:56.959Z"
   },
   {
    "duration": 1301,
    "start_time": "2021-11-12T18:55:56.972Z"
   },
   {
    "duration": 6,
    "start_time": "2021-11-12T18:55:58.274Z"
   },
   {
    "duration": 1204,
    "start_time": "2021-11-12T18:55:58.281Z"
   },
   {
    "duration": 6,
    "start_time": "2021-11-12T18:55:59.487Z"
   },
   {
    "duration": 1579,
    "start_time": "2021-11-12T18:55:59.494Z"
   },
   {
    "duration": 7,
    "start_time": "2021-11-12T18:56:01.075Z"
   },
   {
    "duration": 850,
    "start_time": "2021-11-12T18:56:01.084Z"
   },
   {
    "duration": 783,
    "start_time": "2021-11-12T18:56:01.936Z"
   },
   {
    "duration": 3,
    "start_time": "2021-11-12T18:56:02.721Z"
   },
   {
    "duration": 6,
    "start_time": "2021-11-12T18:56:02.726Z"
   },
   {
    "duration": 15,
    "start_time": "2021-11-12T18:56:02.734Z"
   },
   {
    "duration": 9,
    "start_time": "2021-11-12T18:56:02.750Z"
   },
   {
    "duration": 1355,
    "start_time": "2021-11-12T18:56:02.760Z"
   },
   {
    "duration": 4,
    "start_time": "2021-11-12T18:56:04.117Z"
   },
   {
    "duration": 100,
    "start_time": "2021-11-12T18:56:04.123Z"
   },
   {
    "duration": 7,
    "start_time": "2021-11-12T18:56:04.224Z"
   },
   {
    "duration": 1362,
    "start_time": "2021-11-12T18:56:04.233Z"
   },
   {
    "duration": 9,
    "start_time": "2021-11-12T18:56:05.597Z"
   },
   {
    "duration": 26,
    "start_time": "2021-11-12T18:56:05.608Z"
   },
   {
    "duration": 24,
    "start_time": "2021-11-12T18:56:05.636Z"
   },
   {
    "duration": 29,
    "start_time": "2021-11-12T18:56:05.661Z"
   },
   {
    "duration": 30,
    "start_time": "2021-11-12T18:56:05.691Z"
   },
   {
    "duration": 34,
    "start_time": "2021-11-12T18:56:05.723Z"
   },
   {
    "duration": 1849,
    "start_time": "2021-11-12T18:56:05.758Z"
   },
   {
    "duration": 3,
    "start_time": "2021-11-12T18:56:07.609Z"
   },
   {
    "duration": 31,
    "start_time": "2021-11-12T18:56:07.613Z"
   },
   {
    "duration": 1661,
    "start_time": "2021-11-12T18:56:07.646Z"
   },
   {
    "duration": 3,
    "start_time": "2021-11-12T18:56:09.309Z"
   },
   {
    "duration": 28,
    "start_time": "2021-11-12T18:56:09.314Z"
   },
   {
    "duration": 28,
    "start_time": "2021-11-12T18:56:09.343Z"
   },
   {
    "duration": 20,
    "start_time": "2021-11-12T18:56:09.372Z"
   },
   {
    "duration": 34,
    "start_time": "2021-11-12T18:56:09.393Z"
   },
   {
    "duration": 206431,
    "start_time": "2021-11-12T18:56:09.429Z"
   },
   {
    "duration": 3578,
    "start_time": "2021-11-12T18:59:35.862Z"
   },
   {
    "duration": 5,
    "start_time": "2021-11-12T18:59:39.441Z"
   },
   {
    "duration": 11,
    "start_time": "2021-11-12T18:59:39.447Z"
   },
   {
    "duration": 9,
    "start_time": "2021-11-12T18:59:39.459Z"
   },
   {
    "duration": 18,
    "start_time": "2021-11-12T18:59:39.469Z"
   },
   {
    "duration": 7,
    "start_time": "2021-11-12T18:59:39.489Z"
   },
   {
    "duration": 8,
    "start_time": "2021-11-12T18:59:39.497Z"
   },
   {
    "duration": 14,
    "start_time": "2021-11-12T18:59:39.507Z"
   },
   {
    "duration": 12,
    "start_time": "2021-11-12T18:59:39.523Z"
   },
   {
    "duration": 9,
    "start_time": "2021-11-12T18:59:39.536Z"
   },
   {
    "duration": 13,
    "start_time": "2021-11-12T18:59:39.546Z"
   },
   {
    "duration": 36,
    "start_time": "2021-11-12T18:59:39.561Z"
   },
   {
    "duration": 10,
    "start_time": "2021-11-12T18:59:39.599Z"
   },
   {
    "duration": 15,
    "start_time": "2021-11-12T18:59:39.611Z"
   },
   {
    "duration": 43,
    "start_time": "2021-11-12T18:59:39.627Z"
   },
   {
    "duration": 6,
    "start_time": "2021-11-12T18:59:39.675Z"
   },
   {
    "duration": 10,
    "start_time": "2021-11-12T18:59:39.682Z"
   },
   {
    "duration": 5,
    "start_time": "2021-11-12T19:23:57.739Z"
   },
   {
    "duration": 4,
    "start_time": "2021-11-12T19:25:25.319Z"
   },
   {
    "duration": 6,
    "start_time": "2021-11-12T19:26:31.920Z"
   },
   {
    "duration": 3,
    "start_time": "2021-11-12T19:26:32.751Z"
   },
   {
    "duration": 5,
    "start_time": "2021-11-12T19:27:03.633Z"
   },
   {
    "duration": 3,
    "start_time": "2021-11-12T19:27:04.181Z"
   },
   {
    "duration": 5,
    "start_time": "2021-11-12T19:27:04.669Z"
   },
   {
    "duration": 4,
    "start_time": "2021-11-12T19:27:05.205Z"
   },
   {
    "duration": 5,
    "start_time": "2021-11-12T19:27:38.010Z"
   },
   {
    "duration": 3,
    "start_time": "2021-11-12T19:27:38.586Z"
   },
   {
    "duration": 6,
    "start_time": "2021-11-12T19:27:39.143Z"
   },
   {
    "duration": 4,
    "start_time": "2021-11-12T19:27:39.722Z"
   },
   {
    "duration": 1143,
    "start_time": "2021-11-12T20:26:49.412Z"
   },
   {
    "duration": 278,
    "start_time": "2021-11-12T20:26:50.557Z"
   },
   {
    "duration": 78,
    "start_time": "2021-11-12T20:26:50.837Z"
   },
   {
    "duration": 435,
    "start_time": "2021-11-12T20:26:50.917Z"
   },
   {
    "duration": 19,
    "start_time": "2021-11-12T20:26:51.354Z"
   },
   {
    "duration": 40,
    "start_time": "2021-11-12T20:26:51.375Z"
   },
   {
    "duration": 260,
    "start_time": "2021-11-12T20:26:51.416Z"
   },
   {
    "duration": 8,
    "start_time": "2021-11-12T20:26:51.677Z"
   },
   {
    "duration": 115,
    "start_time": "2021-11-12T20:26:51.687Z"
   },
   {
    "duration": 9,
    "start_time": "2021-11-12T20:26:51.804Z"
   },
   {
    "duration": 16,
    "start_time": "2021-11-12T20:26:51.815Z"
   },
   {
    "duration": 132,
    "start_time": "2021-11-12T20:26:51.833Z"
   },
   {
    "duration": 5,
    "start_time": "2021-11-12T20:26:51.966Z"
   },
   {
    "duration": 32,
    "start_time": "2021-11-12T20:26:51.972Z"
   },
   {
    "duration": 22,
    "start_time": "2021-11-12T20:26:52.005Z"
   },
   {
    "duration": 14,
    "start_time": "2021-11-12T20:26:52.029Z"
   },
   {
    "duration": 237,
    "start_time": "2021-11-12T20:26:52.045Z"
   },
   {
    "duration": 9,
    "start_time": "2021-11-12T20:26:52.284Z"
   },
   {
    "duration": 86,
    "start_time": "2021-11-12T20:26:52.294Z"
   },
   {
    "duration": 2,
    "start_time": "2021-11-12T20:26:52.382Z"
   },
   {
    "duration": 22,
    "start_time": "2021-11-12T20:26:52.385Z"
   },
   {
    "duration": 11,
    "start_time": "2021-11-12T20:26:52.409Z"
   },
   {
    "duration": 16,
    "start_time": "2021-11-12T20:26:52.421Z"
   },
   {
    "duration": 15,
    "start_time": "2021-11-12T20:26:52.439Z"
   },
   {
    "duration": 14,
    "start_time": "2021-11-12T20:26:52.456Z"
   },
   {
    "duration": 18,
    "start_time": "2021-11-12T20:26:52.472Z"
   },
   {
    "duration": 17,
    "start_time": "2021-11-12T20:26:52.494Z"
   },
   {
    "duration": 6,
    "start_time": "2021-11-12T20:26:52.514Z"
   },
   {
    "duration": 28,
    "start_time": "2021-11-12T20:26:52.521Z"
   },
   {
    "duration": 6,
    "start_time": "2021-11-12T20:26:52.551Z"
   },
   {
    "duration": 11,
    "start_time": "2021-11-12T20:26:52.559Z"
   },
   {
    "duration": 15,
    "start_time": "2021-11-12T20:26:52.572Z"
   },
   {
    "duration": 1265,
    "start_time": "2021-11-12T20:26:52.589Z"
   },
   {
    "duration": 5,
    "start_time": "2021-11-12T20:26:53.856Z"
   },
   {
    "duration": 1306,
    "start_time": "2021-11-12T20:26:53.863Z"
   },
   {
    "duration": 6,
    "start_time": "2021-11-12T20:26:55.170Z"
   },
   {
    "duration": 1448,
    "start_time": "2021-11-12T20:26:55.178Z"
   },
   {
    "duration": 6,
    "start_time": "2021-11-12T20:26:56.627Z"
   },
   {
    "duration": 812,
    "start_time": "2021-11-12T20:26:56.634Z"
   },
   {
    "duration": 804,
    "start_time": "2021-11-12T20:26:57.447Z"
   },
   {
    "duration": 4,
    "start_time": "2021-11-12T20:26:58.253Z"
   },
   {
    "duration": 9,
    "start_time": "2021-11-12T20:26:58.258Z"
   },
   {
    "duration": 7,
    "start_time": "2021-11-12T20:26:58.268Z"
   },
   {
    "duration": 9,
    "start_time": "2021-11-12T20:26:58.276Z"
   },
   {
    "duration": 1252,
    "start_time": "2021-11-12T20:26:58.287Z"
   },
   {
    "duration": 4,
    "start_time": "2021-11-12T20:26:59.541Z"
   },
   {
    "duration": 91,
    "start_time": "2021-11-12T20:26:59.546Z"
   },
   {
    "duration": 7,
    "start_time": "2021-11-12T20:26:59.638Z"
   },
   {
    "duration": 1394,
    "start_time": "2021-11-12T20:26:59.647Z"
   },
   {
    "duration": 3,
    "start_time": "2021-11-12T20:27:01.043Z"
   },
   {
    "duration": 24,
    "start_time": "2021-11-12T20:27:01.048Z"
   },
   {
    "duration": 38,
    "start_time": "2021-11-12T20:27:01.074Z"
   },
   {
    "duration": 24,
    "start_time": "2021-11-12T20:27:01.114Z"
   },
   {
    "duration": 20,
    "start_time": "2021-11-12T20:27:01.139Z"
   },
   {
    "duration": 28,
    "start_time": "2021-11-12T20:27:01.161Z"
   },
   {
    "duration": 1623,
    "start_time": "2021-11-12T20:27:01.190Z"
   },
   {
    "duration": 3,
    "start_time": "2021-11-12T20:27:02.815Z"
   },
   {
    "duration": 3,
    "start_time": "2021-11-12T20:27:02.907Z"
   },
   {
    "duration": 1796,
    "start_time": "2021-11-12T20:27:02.911Z"
   },
   {
    "duration": 4,
    "start_time": "2021-11-12T20:27:04.708Z"
   },
   {
    "duration": 15,
    "start_time": "2021-11-12T20:27:04.714Z"
   },
   {
    "duration": 14,
    "start_time": "2021-11-12T20:27:04.731Z"
   },
   {
    "duration": 20,
    "start_time": "2021-11-12T20:27:04.747Z"
   },
   {
    "duration": 11,
    "start_time": "2021-11-12T20:27:04.768Z"
   },
   {
    "duration": 222045,
    "start_time": "2021-11-12T20:27:04.781Z"
   },
   {
    "duration": 3488,
    "start_time": "2021-11-12T20:30:46.828Z"
   },
   {
    "duration": 5,
    "start_time": "2021-11-12T20:30:50.318Z"
   },
   {
    "duration": 9,
    "start_time": "2021-11-12T20:30:50.324Z"
   },
   {
    "duration": 7,
    "start_time": "2021-11-12T20:30:50.335Z"
   },
   {
    "duration": 11,
    "start_time": "2021-11-12T20:30:50.343Z"
   },
   {
    "duration": 7,
    "start_time": "2021-11-12T20:30:50.356Z"
   },
   {
    "duration": 6,
    "start_time": "2021-11-12T20:30:50.364Z"
   },
   {
    "duration": 5,
    "start_time": "2021-11-12T20:30:50.372Z"
   },
   {
    "duration": 27,
    "start_time": "2021-11-12T20:30:50.379Z"
   },
   {
    "duration": 11,
    "start_time": "2021-11-12T20:30:50.408Z"
   },
   {
    "duration": 18,
    "start_time": "2021-11-12T20:30:50.421Z"
   },
   {
    "duration": 13,
    "start_time": "2021-11-12T20:30:50.440Z"
   },
   {
    "duration": 8,
    "start_time": "2021-11-12T20:30:50.454Z"
   },
   {
    "duration": 5,
    "start_time": "2021-11-12T20:30:50.463Z"
   },
   {
    "duration": 43,
    "start_time": "2021-11-12T20:30:50.470Z"
   },
   {
    "duration": 5,
    "start_time": "2021-11-12T20:30:50.518Z"
   },
   {
    "duration": 12,
    "start_time": "2021-11-12T20:30:50.524Z"
   },
   {
    "duration": 19,
    "start_time": "2021-11-12T20:30:50.537Z"
   },
   {
    "duration": 7,
    "start_time": "2021-11-12T20:30:50.557Z"
   },
   {
    "duration": 18,
    "start_time": "2021-11-12T20:30:50.566Z"
   },
   {
    "duration": 22,
    "start_time": "2021-11-12T20:30:50.585Z"
   },
   {
    "duration": 4,
    "start_time": "2021-11-12T20:34:25.294Z"
   },
   {
    "duration": 4,
    "start_time": "2021-11-12T20:34:43.904Z"
   },
   {
    "duration": 5,
    "start_time": "2021-11-12T20:35:21.049Z"
   },
   {
    "duration": 4,
    "start_time": "2021-11-12T20:35:21.751Z"
   },
   {
    "duration": 3,
    "start_time": "2021-11-12T20:35:22.833Z"
   },
   {
    "duration": 3,
    "start_time": "2021-11-12T20:35:54.546Z"
   },
   {
    "duration": 3,
    "start_time": "2021-11-12T20:36:07.795Z"
   },
   {
    "duration": 1123,
    "start_time": "2021-11-12T20:36:26.328Z"
   },
   {
    "duration": 268,
    "start_time": "2021-11-12T20:36:28.630Z"
   },
   {
    "duration": 75,
    "start_time": "2021-11-12T20:36:28.900Z"
   },
   {
    "duration": 352,
    "start_time": "2021-11-12T20:36:29.089Z"
   },
   {
    "duration": 15,
    "start_time": "2021-11-12T20:36:29.486Z"
   },
   {
    "duration": 19,
    "start_time": "2021-11-12T20:36:29.671Z"
   },
   {
    "duration": 203,
    "start_time": "2021-11-12T20:36:29.866Z"
   },
   {
    "duration": 6,
    "start_time": "2021-11-12T20:36:30.071Z"
   },
   {
    "duration": 103,
    "start_time": "2021-11-12T20:36:30.239Z"
   },
   {
    "duration": 10,
    "start_time": "2021-11-12T20:36:30.609Z"
   },
   {
    "duration": 17,
    "start_time": "2021-11-12T20:36:30.816Z"
   },
   {
    "duration": 129,
    "start_time": "2021-11-12T20:36:31.007Z"
   },
   {
    "duration": 6,
    "start_time": "2021-11-12T20:36:31.216Z"
   },
   {
    "duration": 18,
    "start_time": "2021-11-12T20:36:31.384Z"
   },
   {
    "duration": 17,
    "start_time": "2021-11-12T20:36:31.790Z"
   },
   {
    "duration": 15,
    "start_time": "2021-11-12T20:36:31.999Z"
   },
   {
    "duration": 224,
    "start_time": "2021-11-12T20:36:32.513Z"
   },
   {
    "duration": 9,
    "start_time": "2021-11-12T20:36:32.869Z"
   },
   {
    "duration": 72,
    "start_time": "2021-11-12T20:36:33.170Z"
   },
   {
    "duration": 3,
    "start_time": "2021-11-12T20:36:34.014Z"
   },
   {
    "duration": 9,
    "start_time": "2021-11-12T20:36:34.603Z"
   },
   {
    "duration": 4,
    "start_time": "2021-11-12T20:36:35.178Z"
   },
   {
    "duration": 4,
    "start_time": "2021-11-12T20:36:36.313Z"
   },
   {
    "duration": 4,
    "start_time": "2021-11-12T20:36:37.163Z"
   },
   {
    "duration": 5,
    "start_time": "2021-11-12T20:36:37.662Z"
   },
   {
    "duration": 14,
    "start_time": "2021-11-12T20:36:40.169Z"
   },
   {
    "duration": 13,
    "start_time": "2021-11-12T20:36:40.606Z"
   },
   {
    "duration": 6,
    "start_time": "2021-11-12T20:36:40.911Z"
   },
   {
    "duration": 23,
    "start_time": "2021-11-12T20:36:41.228Z"
   },
   {
    "duration": 8,
    "start_time": "2021-11-12T20:36:41.533Z"
   },
   {
    "duration": 5,
    "start_time": "2021-11-12T20:36:42.015Z"
   },
   {
    "duration": 9,
    "start_time": "2021-11-12T20:36:42.502Z"
   },
   {
    "duration": 1264,
    "start_time": "2021-11-12T20:36:44.784Z"
   },
   {
    "duration": 7,
    "start_time": "2021-11-12T20:36:46.049Z"
   },
   {
    "duration": 1214,
    "start_time": "2021-11-12T20:36:46.459Z"
   },
   {
    "duration": 6,
    "start_time": "2021-11-12T20:36:47.675Z"
   },
   {
    "duration": 1455,
    "start_time": "2021-11-12T20:36:47.683Z"
   },
   {
    "duration": 5,
    "start_time": "2021-11-12T20:36:49.140Z"
   },
   {
    "duration": 810,
    "start_time": "2021-11-12T20:36:49.147Z"
   },
   {
    "duration": 783,
    "start_time": "2021-11-12T20:36:49.959Z"
   },
   {
    "duration": 4,
    "start_time": "2021-11-12T20:36:50.743Z"
   },
   {
    "duration": 3,
    "start_time": "2021-11-12T20:36:50.852Z"
   },
   {
    "duration": 4,
    "start_time": "2021-11-12T20:36:51.144Z"
   },
   {
    "duration": 4,
    "start_time": "2021-11-12T20:36:51.384Z"
   },
   {
    "duration": 1253,
    "start_time": "2021-11-12T20:36:51.609Z"
   },
   {
    "duration": 4,
    "start_time": "2021-11-12T20:36:52.864Z"
   },
   {
    "duration": 93,
    "start_time": "2021-11-12T20:36:52.869Z"
   },
   {
    "duration": 7,
    "start_time": "2021-11-12T20:36:54.023Z"
   },
   {
    "duration": 1389,
    "start_time": "2021-11-12T20:36:54.756Z"
   },
   {
    "duration": 3,
    "start_time": "2021-11-12T20:36:57.101Z"
   },
   {
    "duration": 3,
    "start_time": "2021-11-12T20:36:57.636Z"
   },
   {
    "duration": 8,
    "start_time": "2021-11-12T20:36:58.941Z"
   },
   {
    "duration": 11,
    "start_time": "2021-11-12T20:37:00.485Z"
   },
   {
    "duration": 6,
    "start_time": "2021-11-12T20:37:01.299Z"
   },
   {
    "duration": 3,
    "start_time": "2021-11-12T20:37:03.333Z"
   },
   {
    "duration": 1692,
    "start_time": "2021-11-12T20:37:04.015Z"
   },
   {
    "duration": 4,
    "start_time": "2021-11-12T20:37:05.711Z"
   },
   {
    "duration": 2,
    "start_time": "2021-11-12T20:37:06.132Z"
   },
   {
    "duration": 4,
    "start_time": "2021-11-12T20:37:13.801Z"
   },
   {
    "duration": 3,
    "start_time": "2021-11-12T20:37:16.133Z"
   },
   {
    "duration": 1736,
    "start_time": "2021-11-12T20:37:17.071Z"
   },
   {
    "duration": 4,
    "start_time": "2021-11-12T20:37:18.810Z"
   },
   {
    "duration": 3,
    "start_time": "2021-11-12T20:37:19.742Z"
   },
   {
    "duration": 3,
    "start_time": "2021-11-12T20:37:20.574Z"
   },
   {
    "duration": 3,
    "start_time": "2021-11-12T20:37:20.978Z"
   },
   {
    "duration": 3,
    "start_time": "2021-11-12T20:37:21.368Z"
   },
   {
    "duration": 1145,
    "start_time": "2021-11-12T20:37:52.714Z"
   },
   {
    "duration": 276,
    "start_time": "2021-11-12T20:37:53.918Z"
   },
   {
    "duration": 77,
    "start_time": "2021-11-12T20:37:54.284Z"
   },
   {
    "duration": 351,
    "start_time": "2021-11-12T20:37:54.479Z"
   },
   {
    "duration": 14,
    "start_time": "2021-11-12T20:37:54.873Z"
   },
   {
    "duration": 19,
    "start_time": "2021-11-12T20:37:55.055Z"
   },
   {
    "duration": 201,
    "start_time": "2021-11-12T20:37:55.231Z"
   },
   {
    "duration": 8,
    "start_time": "2021-11-12T20:37:55.434Z"
   },
   {
    "duration": 102,
    "start_time": "2021-11-12T20:37:55.601Z"
   },
   {
    "duration": 10,
    "start_time": "2021-11-12T20:37:55.960Z"
   },
   {
    "duration": 17,
    "start_time": "2021-11-12T20:37:56.134Z"
   },
   {
    "duration": 116,
    "start_time": "2021-11-12T20:37:56.350Z"
   },
   {
    "duration": 5,
    "start_time": "2021-11-12T20:37:56.523Z"
   },
   {
    "duration": 19,
    "start_time": "2021-11-12T20:37:56.684Z"
   },
   {
    "duration": 17,
    "start_time": "2021-11-12T20:37:57.056Z"
   },
   {
    "duration": 15,
    "start_time": "2021-11-12T20:37:57.240Z"
   },
   {
    "duration": 226,
    "start_time": "2021-11-12T20:37:57.422Z"
   },
   {
    "duration": 8,
    "start_time": "2021-11-12T20:37:57.650Z"
   },
   {
    "duration": 78,
    "start_time": "2021-11-12T20:37:57.788Z"
   },
   {
    "duration": 3,
    "start_time": "2021-11-12T20:37:58.175Z"
   },
   {
    "duration": 8,
    "start_time": "2021-11-12T20:37:58.350Z"
   },
   {
    "duration": 4,
    "start_time": "2021-11-12T20:37:58.562Z"
   },
   {
    "duration": 5,
    "start_time": "2021-11-12T20:37:59.114Z"
   },
   {
    "duration": 4,
    "start_time": "2021-11-12T20:37:59.612Z"
   },
   {
    "duration": 4,
    "start_time": "2021-11-12T20:37:59.878Z"
   },
   {
    "duration": 17,
    "start_time": "2021-11-12T20:38:00.263Z"
   },
   {
    "duration": 14,
    "start_time": "2021-11-12T20:38:00.454Z"
   },
   {
    "duration": 6,
    "start_time": "2021-11-12T20:38:00.629Z"
   },
   {
    "duration": 22,
    "start_time": "2021-11-12T20:38:00.848Z"
   },
   {
    "duration": 8,
    "start_time": "2021-11-12T20:38:01.031Z"
   },
   {
    "duration": 6,
    "start_time": "2021-11-12T20:38:01.221Z"
   },
   {
    "duration": 8,
    "start_time": "2021-11-12T20:38:01.430Z"
   },
   {
    "duration": 1265,
    "start_time": "2021-11-12T20:38:02.062Z"
   },
   {
    "duration": 6,
    "start_time": "2021-11-12T20:38:03.329Z"
   },
   {
    "duration": 1224,
    "start_time": "2021-11-12T20:38:03.337Z"
   },
   {
    "duration": 7,
    "start_time": "2021-11-12T20:38:04.563Z"
   },
   {
    "duration": 1359,
    "start_time": "2021-11-12T20:38:04.571Z"
   },
   {
    "duration": 7,
    "start_time": "2021-11-12T20:38:05.931Z"
   },
   {
    "duration": 828,
    "start_time": "2021-11-12T20:38:05.940Z"
   },
   {
    "duration": 789,
    "start_time": "2021-11-12T20:38:06.770Z"
   },
   {
    "duration": 4,
    "start_time": "2021-11-12T20:38:07.561Z"
   },
   {
    "duration": 14,
    "start_time": "2021-11-12T20:38:07.566Z"
   },
   {
    "duration": 13,
    "start_time": "2021-11-12T20:38:07.582Z"
   },
   {
    "duration": 13,
    "start_time": "2021-11-12T20:38:07.597Z"
   },
   {
    "duration": 1249,
    "start_time": "2021-11-12T20:38:07.612Z"
   },
   {
    "duration": 5,
    "start_time": "2021-11-12T20:38:08.862Z"
   },
   {
    "duration": 95,
    "start_time": "2021-11-12T20:38:08.868Z"
   },
   {
    "duration": 7,
    "start_time": "2021-11-12T20:38:08.965Z"
   },
   {
    "duration": 1354,
    "start_time": "2021-11-12T20:38:09.406Z"
   },
   {
    "duration": 4,
    "start_time": "2021-11-12T20:38:11.643Z"
   },
   {
    "duration": 3,
    "start_time": "2021-11-12T20:38:12.107Z"
   },
   {
    "duration": 7,
    "start_time": "2021-11-12T20:38:13.915Z"
   },
   {
    "duration": 13,
    "start_time": "2021-11-12T20:38:13.925Z"
   },
   {
    "duration": 7,
    "start_time": "2021-11-12T20:38:13.940Z"
   },
   {
    "duration": 3,
    "start_time": "2021-11-12T20:38:14.381Z"
   },
   {
    "duration": 1703,
    "start_time": "2021-11-12T20:38:14.807Z"
   },
   {
    "duration": 4,
    "start_time": "2021-11-12T20:38:16.512Z"
   },
   {
    "duration": 23,
    "start_time": "2021-11-12T20:38:16.519Z"
   },
   {
    "duration": 1509,
    "start_time": "2021-11-12T20:38:16.607Z"
   },
   {
    "duration": 3,
    "start_time": "2021-11-12T20:38:18.207Z"
   },
   {
    "duration": 11,
    "start_time": "2021-11-12T20:38:18.212Z"
   },
   {
    "duration": 9,
    "start_time": "2021-11-12T20:38:18.225Z"
   },
   {
    "duration": 11,
    "start_time": "2021-11-12T20:38:18.236Z"
   },
   {
    "duration": 8,
    "start_time": "2021-11-12T20:38:18.249Z"
   },
   {
    "duration": 1210,
    "start_time": "2021-11-12T20:40:13.856Z"
   },
   {
    "duration": 273,
    "start_time": "2021-11-12T20:40:15.068Z"
   },
   {
    "duration": 78,
    "start_time": "2021-11-12T20:40:15.346Z"
   },
   {
    "duration": 350,
    "start_time": "2021-11-12T20:40:15.426Z"
   },
   {
    "duration": 15,
    "start_time": "2021-11-12T20:40:15.777Z"
   },
   {
    "duration": 30,
    "start_time": "2021-11-12T20:40:15.793Z"
   },
   {
    "duration": 215,
    "start_time": "2021-11-12T20:40:15.824Z"
   },
   {
    "duration": 7,
    "start_time": "2021-11-12T20:40:16.042Z"
   },
   {
    "duration": 114,
    "start_time": "2021-11-12T20:40:16.051Z"
   },
   {
    "duration": 9,
    "start_time": "2021-11-12T20:40:16.167Z"
   },
   {
    "duration": 28,
    "start_time": "2021-11-12T20:40:16.178Z"
   },
   {
    "duration": 121,
    "start_time": "2021-11-12T20:40:16.208Z"
   },
   {
    "duration": 5,
    "start_time": "2021-11-12T20:40:16.331Z"
   },
   {
    "duration": 20,
    "start_time": "2021-11-12T20:40:16.338Z"
   },
   {
    "duration": 17,
    "start_time": "2021-11-12T20:40:16.359Z"
   },
   {
    "duration": 38,
    "start_time": "2021-11-12T20:40:16.378Z"
   },
   {
    "duration": 226,
    "start_time": "2021-11-12T20:40:16.418Z"
   },
   {
    "duration": 8,
    "start_time": "2021-11-12T20:40:16.646Z"
   },
   {
    "duration": 87,
    "start_time": "2021-11-12T20:40:16.656Z"
   },
   {
    "duration": 3,
    "start_time": "2021-11-12T20:40:16.744Z"
   },
   {
    "duration": 11,
    "start_time": "2021-11-12T20:40:16.748Z"
   },
   {
    "duration": 3,
    "start_time": "2021-11-12T20:40:16.761Z"
   },
   {
    "duration": 9,
    "start_time": "2021-11-12T20:40:16.766Z"
   },
   {
    "duration": 7,
    "start_time": "2021-11-12T20:40:16.776Z"
   },
   {
    "duration": 21,
    "start_time": "2021-11-12T20:40:16.785Z"
   },
   {
    "duration": 13,
    "start_time": "2021-11-12T20:40:16.810Z"
   },
   {
    "duration": 14,
    "start_time": "2021-11-12T20:40:16.826Z"
   },
   {
    "duration": 6,
    "start_time": "2021-11-12T20:40:16.841Z"
   },
   {
    "duration": 28,
    "start_time": "2021-11-12T20:40:16.848Z"
   },
   {
    "duration": 6,
    "start_time": "2021-11-12T20:40:16.878Z"
   },
   {
    "duration": 5,
    "start_time": "2021-11-12T20:40:16.906Z"
   },
   {
    "duration": 14,
    "start_time": "2021-11-12T20:40:16.913Z"
   },
   {
    "duration": 1297,
    "start_time": "2021-11-12T20:40:16.929Z"
   },
   {
    "duration": 6,
    "start_time": "2021-11-12T20:40:18.227Z"
   },
   {
    "duration": 1207,
    "start_time": "2021-11-12T20:40:18.235Z"
   },
   {
    "duration": 6,
    "start_time": "2021-11-12T20:40:19.444Z"
   },
   {
    "duration": 1337,
    "start_time": "2021-11-12T20:40:19.451Z"
   },
   {
    "duration": 6,
    "start_time": "2021-11-12T20:40:20.790Z"
   },
   {
    "duration": 818,
    "start_time": "2021-11-12T20:40:20.797Z"
   },
   {
    "duration": 779,
    "start_time": "2021-11-12T20:40:21.617Z"
   },
   {
    "duration": 4,
    "start_time": "2021-11-12T20:40:22.397Z"
   },
   {
    "duration": 21,
    "start_time": "2021-11-12T20:40:22.406Z"
   },
   {
    "duration": 12,
    "start_time": "2021-11-12T20:40:22.428Z"
   },
   {
    "duration": 22,
    "start_time": "2021-11-12T20:40:22.441Z"
   },
   {
    "duration": 1251,
    "start_time": "2021-11-12T20:40:22.465Z"
   },
   {
    "duration": 4,
    "start_time": "2021-11-12T20:40:23.718Z"
   },
   {
    "duration": 100,
    "start_time": "2021-11-12T20:40:23.723Z"
   },
   {
    "duration": 6,
    "start_time": "2021-11-12T20:40:23.825Z"
   },
   {
    "duration": 1368,
    "start_time": "2021-11-12T20:40:23.832Z"
   },
   {
    "duration": 4,
    "start_time": "2021-11-12T20:40:25.206Z"
   },
   {
    "duration": 14,
    "start_time": "2021-11-12T20:40:25.212Z"
   },
   {
    "duration": 21,
    "start_time": "2021-11-12T20:40:25.227Z"
   },
   {
    "duration": 13,
    "start_time": "2021-11-12T20:40:25.249Z"
   },
   {
    "duration": 5,
    "start_time": "2021-11-12T20:40:25.263Z"
   },
   {
    "duration": 8,
    "start_time": "2021-11-12T20:40:25.269Z"
   },
   {
    "duration": 1733,
    "start_time": "2021-11-12T20:40:25.278Z"
   },
   {
    "duration": 3,
    "start_time": "2021-11-12T20:40:27.012Z"
   },
   {
    "duration": 11,
    "start_time": "2021-11-12T20:40:27.017Z"
   },
   {
    "duration": 1877,
    "start_time": "2021-11-12T20:40:27.030Z"
   },
   {
    "duration": 4,
    "start_time": "2021-11-12T20:40:28.909Z"
   },
   {
    "duration": 13,
    "start_time": "2021-11-12T20:40:28.915Z"
   },
   {
    "duration": 19,
    "start_time": "2021-11-12T20:40:28.930Z"
   },
   {
    "duration": 4,
    "start_time": "2021-11-12T20:40:29.007Z"
   },
   {
    "duration": 17,
    "start_time": "2021-11-12T20:40:29.012Z"
   },
   {
    "duration": 205307,
    "start_time": "2021-11-12T20:40:29.031Z"
   },
   {
    "duration": 3552,
    "start_time": "2021-11-12T20:43:54.339Z"
   },
   {
    "duration": 4,
    "start_time": "2021-11-12T20:43:57.893Z"
   },
   {
    "duration": 7,
    "start_time": "2021-11-12T20:43:57.906Z"
   },
   {
    "duration": 21,
    "start_time": "2021-11-12T20:43:57.914Z"
   },
   {
    "duration": 25,
    "start_time": "2021-11-12T20:43:57.936Z"
   },
   {
    "duration": 9,
    "start_time": "2021-11-12T20:43:57.962Z"
   },
   {
    "duration": 12,
    "start_time": "2021-11-12T20:43:57.973Z"
   },
   {
    "duration": 8,
    "start_time": "2021-11-12T20:43:57.986Z"
   },
   {
    "duration": 6,
    "start_time": "2021-11-12T20:43:57.995Z"
   },
   {
    "duration": 9,
    "start_time": "2021-11-12T20:43:58.003Z"
   },
   {
    "duration": 12,
    "start_time": "2021-11-12T20:43:58.013Z"
   },
   {
    "duration": 16,
    "start_time": "2021-11-12T20:43:58.026Z"
   },
   {
    "duration": 14,
    "start_time": "2021-11-12T20:43:58.043Z"
   },
   {
    "duration": 6,
    "start_time": "2021-11-12T20:43:58.059Z"
   },
   {
    "duration": 16,
    "start_time": "2021-11-12T20:43:58.070Z"
   },
   {
    "duration": 11,
    "start_time": "2021-11-12T20:43:58.088Z"
   },
   {
    "duration": 7,
    "start_time": "2021-11-12T20:43:58.101Z"
   },
   {
    "duration": 5,
    "start_time": "2021-11-12T20:43:58.110Z"
   },
   {
    "duration": 33,
    "start_time": "2021-11-12T20:43:58.117Z"
   },
   {
    "duration": 6,
    "start_time": "2021-11-12T20:43:58.152Z"
   },
   {
    "duration": 7,
    "start_time": "2021-11-12T20:43:58.159Z"
   },
   {
    "duration": 12,
    "start_time": "2021-11-12T20:43:58.167Z"
   },
   {
    "duration": 10,
    "start_time": "2021-11-12T20:43:58.180Z"
   },
   {
    "duration": 11,
    "start_time": "2021-11-12T20:43:58.192Z"
   },
   {
    "duration": 6,
    "start_time": "2021-11-12T20:43:58.205Z"
   },
   {
    "duration": 1105,
    "start_time": "2021-11-12T20:45:05.256Z"
   },
   {
    "duration": 272,
    "start_time": "2021-11-12T20:45:06.363Z"
   },
   {
    "duration": 75,
    "start_time": "2021-11-12T20:45:06.637Z"
   },
   {
    "duration": 355,
    "start_time": "2021-11-12T20:45:06.714Z"
   },
   {
    "duration": 15,
    "start_time": "2021-11-12T20:45:07.071Z"
   },
   {
    "duration": 33,
    "start_time": "2021-11-12T20:45:07.088Z"
   },
   {
    "duration": 207,
    "start_time": "2021-11-12T20:45:07.122Z"
   },
   {
    "duration": 7,
    "start_time": "2021-11-12T20:45:07.330Z"
   },
   {
    "duration": 115,
    "start_time": "2021-11-12T20:45:07.339Z"
   },
   {
    "duration": 10,
    "start_time": "2021-11-12T20:45:07.455Z"
   },
   {
    "duration": 16,
    "start_time": "2021-11-12T20:45:07.466Z"
   },
   {
    "duration": 128,
    "start_time": "2021-11-12T20:45:07.483Z"
   },
   {
    "duration": 5,
    "start_time": "2021-11-12T20:45:07.612Z"
   },
   {
    "duration": 32,
    "start_time": "2021-11-12T20:45:07.618Z"
   },
   {
    "duration": 16,
    "start_time": "2021-11-12T20:45:07.651Z"
   },
   {
    "duration": 19,
    "start_time": "2021-11-12T20:45:07.668Z"
   },
   {
    "duration": 228,
    "start_time": "2021-11-12T20:45:07.688Z"
   },
   {
    "duration": 8,
    "start_time": "2021-11-12T20:45:07.917Z"
   },
   {
    "duration": 85,
    "start_time": "2021-11-12T20:45:07.927Z"
   },
   {
    "duration": 3,
    "start_time": "2021-11-12T20:45:08.013Z"
   },
   {
    "duration": 14,
    "start_time": "2021-11-12T20:45:08.017Z"
   },
   {
    "duration": 3,
    "start_time": "2021-11-12T20:45:08.033Z"
   },
   {
    "duration": 11,
    "start_time": "2021-11-12T20:45:08.037Z"
   },
   {
    "duration": 8,
    "start_time": "2021-11-12T20:45:08.049Z"
   },
   {
    "duration": 10,
    "start_time": "2021-11-12T20:45:08.059Z"
   },
   {
    "duration": 21,
    "start_time": "2021-11-12T20:45:08.070Z"
   },
   {
    "duration": 16,
    "start_time": "2021-11-12T20:45:08.095Z"
   },
   {
    "duration": 5,
    "start_time": "2021-11-12T20:45:08.114Z"
   },
   {
    "duration": 22,
    "start_time": "2021-11-12T20:45:08.120Z"
   },
   {
    "duration": 7,
    "start_time": "2021-11-12T20:45:08.143Z"
   },
   {
    "duration": 5,
    "start_time": "2021-11-12T20:45:08.151Z"
   },
   {
    "duration": 13,
    "start_time": "2021-11-12T20:45:08.158Z"
   },
   {
    "duration": 1262,
    "start_time": "2021-11-12T20:45:08.173Z"
   },
   {
    "duration": 6,
    "start_time": "2021-11-12T20:45:09.437Z"
   },
   {
    "duration": 1202,
    "start_time": "2021-11-12T20:45:09.445Z"
   },
   {
    "duration": 6,
    "start_time": "2021-11-12T20:45:10.648Z"
   },
   {
    "duration": 1322,
    "start_time": "2021-11-12T20:45:10.656Z"
   },
   {
    "duration": 5,
    "start_time": "2021-11-12T20:45:11.980Z"
   },
   {
    "duration": 819,
    "start_time": "2021-11-12T20:45:11.987Z"
   },
   {
    "duration": 780,
    "start_time": "2021-11-12T20:45:12.808Z"
   },
   {
    "duration": 3,
    "start_time": "2021-11-12T20:45:13.590Z"
   },
   {
    "duration": 22,
    "start_time": "2021-11-12T20:45:13.595Z"
   },
   {
    "duration": 7,
    "start_time": "2021-11-12T20:45:13.618Z"
   },
   {
    "duration": 26,
    "start_time": "2021-11-12T20:45:13.627Z"
   },
   {
    "duration": 1263,
    "start_time": "2021-11-12T20:45:13.655Z"
   },
   {
    "duration": 4,
    "start_time": "2021-11-12T20:45:14.920Z"
   },
   {
    "duration": 90,
    "start_time": "2021-11-12T20:45:14.925Z"
   },
   {
    "duration": 7,
    "start_time": "2021-11-12T20:45:15.016Z"
   },
   {
    "duration": 1409,
    "start_time": "2021-11-12T20:45:15.025Z"
   },
   {
    "duration": 3,
    "start_time": "2021-11-12T20:45:16.436Z"
   },
   {
    "duration": 10,
    "start_time": "2021-11-12T20:45:16.441Z"
   },
   {
    "duration": 10,
    "start_time": "2021-11-12T20:45:16.452Z"
   },
   {
    "duration": 13,
    "start_time": "2021-11-12T20:45:16.463Z"
   },
   {
    "duration": 5,
    "start_time": "2021-11-12T20:45:16.477Z"
   },
   {
    "duration": 6,
    "start_time": "2021-11-12T20:45:16.484Z"
   },
   {
    "duration": 1925,
    "start_time": "2021-11-12T20:45:16.492Z"
   },
   {
    "duration": 4,
    "start_time": "2021-11-12T20:45:18.419Z"
   },
   {
    "duration": 7,
    "start_time": "2021-11-12T20:45:18.425Z"
   },
   {
    "duration": 1810,
    "start_time": "2021-11-12T20:45:18.507Z"
   },
   {
    "duration": 4,
    "start_time": "2021-11-12T20:45:20.319Z"
   },
   {
    "duration": 8,
    "start_time": "2021-11-12T20:45:20.324Z"
   },
   {
    "duration": 73,
    "start_time": "2021-11-12T20:45:20.334Z"
   },
   {
    "duration": 13,
    "start_time": "2021-11-12T20:45:20.409Z"
   },
   {
    "duration": 7,
    "start_time": "2021-11-12T20:45:20.424Z"
   },
   {
    "duration": 204920,
    "start_time": "2021-11-12T20:45:20.433Z"
   },
   {
    "duration": 3427,
    "start_time": "2021-11-12T20:48:45.355Z"
   },
   {
    "duration": 5,
    "start_time": "2021-11-12T20:48:48.784Z"
   },
   {
    "duration": 28,
    "start_time": "2021-11-12T20:48:48.790Z"
   },
   {
    "duration": 20,
    "start_time": "2021-11-12T20:48:48.820Z"
   },
   {
    "duration": 15,
    "start_time": "2021-11-12T20:48:48.842Z"
   },
   {
    "duration": 37,
    "start_time": "2021-11-12T20:48:48.859Z"
   },
   {
    "duration": 41,
    "start_time": "2021-11-12T20:48:48.897Z"
   },
   {
    "duration": 31,
    "start_time": "2021-11-12T20:48:48.940Z"
   },
   {
    "duration": 38,
    "start_time": "2021-11-12T20:48:48.973Z"
   },
   {
    "duration": 29,
    "start_time": "2021-11-12T20:48:49.012Z"
   },
   {
    "duration": 28,
    "start_time": "2021-11-12T20:48:49.042Z"
   },
   {
    "duration": 21,
    "start_time": "2021-11-12T20:48:49.072Z"
   },
   {
    "duration": 30,
    "start_time": "2021-11-12T20:48:49.095Z"
   },
   {
    "duration": 27,
    "start_time": "2021-11-12T20:48:49.127Z"
   },
   {
    "duration": 30,
    "start_time": "2021-11-12T20:48:49.156Z"
   },
   {
    "duration": 9,
    "start_time": "2021-11-12T20:48:49.192Z"
   },
   {
    "duration": 14,
    "start_time": "2021-11-12T20:48:49.202Z"
   },
   {
    "duration": 29,
    "start_time": "2021-11-12T20:48:49.217Z"
   },
   {
    "duration": 31,
    "start_time": "2021-11-12T20:48:49.248Z"
   },
   {
    "duration": 5,
    "start_time": "2021-11-12T20:48:49.280Z"
   },
   {
    "duration": 21,
    "start_time": "2021-11-12T20:48:49.287Z"
   },
   {
    "duration": 23,
    "start_time": "2021-11-12T20:48:49.309Z"
   },
   {
    "duration": 17,
    "start_time": "2021-11-12T20:48:49.334Z"
   },
   {
    "duration": 17,
    "start_time": "2021-11-12T20:48:49.353Z"
   },
   {
    "duration": 7,
    "start_time": "2021-11-12T20:48:49.371Z"
   },
   {
    "duration": 1142,
    "start_time": "2021-11-13T13:40:11.465Z"
   },
   {
    "duration": 261,
    "start_time": "2021-11-13T13:40:12.609Z"
   },
   {
    "duration": 90,
    "start_time": "2021-11-13T13:40:12.872Z"
   },
   {
    "duration": 356,
    "start_time": "2021-11-13T13:40:12.963Z"
   },
   {
    "duration": 23,
    "start_time": "2021-11-13T13:40:13.321Z"
   },
   {
    "duration": 23,
    "start_time": "2021-11-13T13:40:13.346Z"
   },
   {
    "duration": 238,
    "start_time": "2021-11-13T13:40:13.371Z"
   },
   {
    "duration": 8,
    "start_time": "2021-11-13T13:40:13.611Z"
   },
   {
    "duration": 142,
    "start_time": "2021-11-13T13:40:13.621Z"
   },
   {
    "duration": 10,
    "start_time": "2021-11-13T13:40:13.764Z"
   },
   {
    "duration": 32,
    "start_time": "2021-11-13T13:40:13.775Z"
   },
   {
    "duration": 140,
    "start_time": "2021-11-13T13:40:13.809Z"
   },
   {
    "duration": 6,
    "start_time": "2021-11-13T13:40:13.950Z"
   },
   {
    "duration": 24,
    "start_time": "2021-11-13T13:40:13.957Z"
   },
   {
    "duration": 18,
    "start_time": "2021-11-13T13:40:13.982Z"
   },
   {
    "duration": 45,
    "start_time": "2021-11-13T13:40:14.002Z"
   },
   {
    "duration": 245,
    "start_time": "2021-11-13T13:40:14.049Z"
   },
   {
    "duration": 9,
    "start_time": "2021-11-13T13:40:14.295Z"
   },
   {
    "duration": 109,
    "start_time": "2021-11-13T13:40:14.305Z"
   },
   {
    "duration": 2,
    "start_time": "2021-11-13T13:40:14.416Z"
   },
   {
    "duration": 16,
    "start_time": "2021-11-13T13:40:14.420Z"
   },
   {
    "duration": 8,
    "start_time": "2021-11-13T13:40:14.438Z"
   },
   {
    "duration": 12,
    "start_time": "2021-11-13T13:40:14.449Z"
   },
   {
    "duration": 5,
    "start_time": "2021-11-13T13:40:32.007Z"
   },
   {
    "duration": 5,
    "start_time": "2021-11-13T13:44:08.902Z"
   },
   {
    "duration": 1117,
    "start_time": "2021-11-13T16:01:59.789Z"
   },
   {
    "duration": 298,
    "start_time": "2021-11-13T16:02:00.908Z"
   },
   {
    "duration": 82,
    "start_time": "2021-11-13T16:02:01.208Z"
   },
   {
    "duration": 358,
    "start_time": "2021-11-13T16:02:01.293Z"
   },
   {
    "duration": 16,
    "start_time": "2021-11-13T16:02:01.653Z"
   },
   {
    "duration": 47,
    "start_time": "2021-11-13T16:02:01.671Z"
   },
   {
    "duration": 254,
    "start_time": "2021-11-13T16:02:01.720Z"
   },
   {
    "duration": 9,
    "start_time": "2021-11-13T16:02:01.976Z"
   },
   {
    "duration": 121,
    "start_time": "2021-11-13T16:02:01.989Z"
   },
   {
    "duration": 11,
    "start_time": "2021-11-13T16:02:02.113Z"
   },
   {
    "duration": 46,
    "start_time": "2021-11-13T16:02:02.126Z"
   },
   {
    "duration": 166,
    "start_time": "2021-11-13T16:02:02.174Z"
   },
   {
    "duration": 10,
    "start_time": "2021-11-13T16:02:02.341Z"
   },
   {
    "duration": 26,
    "start_time": "2021-11-13T16:02:02.353Z"
   },
   {
    "duration": 17,
    "start_time": "2021-11-13T16:02:02.380Z"
   },
   {
    "duration": 28,
    "start_time": "2021-11-13T16:02:02.398Z"
   },
   {
    "duration": 267,
    "start_time": "2021-11-13T16:02:02.428Z"
   },
   {
    "duration": 9,
    "start_time": "2021-11-13T16:02:02.697Z"
   },
   {
    "duration": 98,
    "start_time": "2021-11-13T16:02:02.707Z"
   },
   {
    "duration": 2,
    "start_time": "2021-11-13T16:02:02.807Z"
   },
   {
    "duration": 18,
    "start_time": "2021-11-13T16:02:02.810Z"
   },
   {
    "duration": 12,
    "start_time": "2021-11-13T16:02:02.830Z"
   },
   {
    "duration": 15,
    "start_time": "2021-11-13T16:02:02.843Z"
   },
   {
    "duration": 8,
    "start_time": "2021-11-13T16:02:02.861Z"
   },
   {
    "duration": 25,
    "start_time": "2021-11-13T16:02:02.870Z"
   },
   {
    "duration": 30,
    "start_time": "2021-11-13T16:02:02.896Z"
   },
   {
    "duration": 19,
    "start_time": "2021-11-13T16:02:02.930Z"
   },
   {
    "duration": 17,
    "start_time": "2021-11-13T16:02:02.952Z"
   },
   {
    "duration": 7,
    "start_time": "2021-11-13T16:02:02.970Z"
   },
   {
    "duration": 36,
    "start_time": "2021-11-13T16:02:02.978Z"
   },
   {
    "duration": 7,
    "start_time": "2021-11-13T16:02:03.016Z"
   },
   {
    "duration": 9,
    "start_time": "2021-11-13T16:02:03.024Z"
   },
   {
    "duration": 19,
    "start_time": "2021-11-13T16:02:03.034Z"
   },
   {
    "duration": 1374,
    "start_time": "2021-11-13T16:02:03.055Z"
   },
   {
    "duration": 15,
    "start_time": "2021-11-13T16:02:04.431Z"
   },
   {
    "duration": 1422,
    "start_time": "2021-11-13T16:02:04.450Z"
   },
   {
    "duration": 6,
    "start_time": "2021-11-13T16:02:05.873Z"
   },
   {
    "duration": 1559,
    "start_time": "2021-11-13T16:02:05.881Z"
   },
   {
    "duration": 10,
    "start_time": "2021-11-13T16:02:07.442Z"
   },
   {
    "duration": 881,
    "start_time": "2021-11-13T16:02:07.454Z"
   },
   {
    "duration": 867,
    "start_time": "2021-11-13T16:02:08.337Z"
   },
   {
    "duration": 4,
    "start_time": "2021-11-13T16:02:09.205Z"
   },
   {
    "duration": 8,
    "start_time": "2021-11-13T16:02:09.211Z"
   },
   {
    "duration": 10,
    "start_time": "2021-11-13T16:02:09.220Z"
   },
   {
    "duration": 10,
    "start_time": "2021-11-13T16:02:09.231Z"
   },
   {
    "duration": 1379,
    "start_time": "2021-11-13T16:02:09.246Z"
   },
   {
    "duration": 4,
    "start_time": "2021-11-13T16:02:10.627Z"
   },
   {
    "duration": 100,
    "start_time": "2021-11-13T16:02:10.633Z"
   },
   {
    "duration": 16,
    "start_time": "2021-11-13T16:02:10.734Z"
   },
   {
    "duration": 1471,
    "start_time": "2021-11-13T16:02:10.756Z"
   },
   {
    "duration": 3,
    "start_time": "2021-11-13T16:02:12.229Z"
   },
   {
    "duration": 11,
    "start_time": "2021-11-13T16:02:12.234Z"
   },
   {
    "duration": 22,
    "start_time": "2021-11-13T16:02:12.247Z"
   },
   {
    "duration": 18,
    "start_time": "2021-11-13T16:02:12.270Z"
   },
   {
    "duration": 9,
    "start_time": "2021-11-13T16:02:12.289Z"
   },
   {
    "duration": 6,
    "start_time": "2021-11-13T16:02:12.299Z"
   },
   {
    "duration": 2059,
    "start_time": "2021-11-13T16:02:12.306Z"
   },
   {
    "duration": 83,
    "start_time": "2021-11-13T16:02:14.367Z"
   },
   {
    "duration": 10,
    "start_time": "2021-11-13T16:02:14.453Z"
   },
   {
    "duration": 1985,
    "start_time": "2021-11-13T16:02:14.465Z"
   },
   {
    "duration": 12,
    "start_time": "2021-11-13T16:02:16.452Z"
   },
   {
    "duration": 84,
    "start_time": "2021-11-13T16:02:16.468Z"
   },
   {
    "duration": 6,
    "start_time": "2021-11-13T16:02:16.554Z"
   },
   {
    "duration": 4,
    "start_time": "2021-11-13T16:02:16.562Z"
   },
   {
    "duration": 8,
    "start_time": "2021-11-13T16:02:16.568Z"
   },
   {
    "duration": 230161,
    "start_time": "2021-11-13T16:02:16.577Z"
   },
   {
    "duration": 3923,
    "start_time": "2021-11-13T16:06:06.739Z"
   },
   {
    "duration": 4,
    "start_time": "2021-11-13T16:06:10.664Z"
   },
   {
    "duration": 11,
    "start_time": "2021-11-13T16:06:10.670Z"
   },
   {
    "duration": 13,
    "start_time": "2021-11-13T16:06:10.683Z"
   },
   {
    "duration": 11,
    "start_time": "2021-11-13T16:06:10.697Z"
   },
   {
    "duration": 9,
    "start_time": "2021-11-13T16:06:10.710Z"
   },
   {
    "duration": 10,
    "start_time": "2021-11-13T16:06:10.721Z"
   },
   {
    "duration": 11,
    "start_time": "2021-11-13T16:06:10.733Z"
   },
   {
    "duration": 6,
    "start_time": "2021-11-13T16:06:10.746Z"
   },
   {
    "duration": 6,
    "start_time": "2021-11-13T16:06:10.754Z"
   },
   {
    "duration": 7,
    "start_time": "2021-11-13T16:06:10.762Z"
   },
   {
    "duration": 13,
    "start_time": "2021-11-13T16:06:10.770Z"
   },
   {
    "duration": 12,
    "start_time": "2021-11-13T16:06:10.785Z"
   },
   {
    "duration": 8,
    "start_time": "2021-11-13T16:06:10.799Z"
   },
   {
    "duration": 11,
    "start_time": "2021-11-13T16:06:10.812Z"
   },
   {
    "duration": 6,
    "start_time": "2021-11-13T16:06:10.825Z"
   },
   {
    "duration": 15,
    "start_time": "2021-11-13T16:06:10.833Z"
   },
   {
    "duration": 6,
    "start_time": "2021-11-13T16:06:10.850Z"
   },
   {
    "duration": 33,
    "start_time": "2021-11-13T16:06:10.858Z"
   },
   {
    "duration": 5,
    "start_time": "2021-11-13T16:06:10.893Z"
   },
   {
    "duration": 15,
    "start_time": "2021-11-13T16:06:10.899Z"
   },
   {
    "duration": 11,
    "start_time": "2021-11-13T16:06:10.915Z"
   },
   {
    "duration": 9,
    "start_time": "2021-11-13T16:06:10.928Z"
   },
   {
    "duration": 29,
    "start_time": "2021-11-13T16:06:10.939Z"
   },
   {
    "duration": 6,
    "start_time": "2021-11-13T16:06:10.969Z"
   },
   {
    "duration": 5,
    "start_time": "2021-11-13T16:37:27.487Z"
   },
   {
    "duration": 4,
    "start_time": "2021-11-13T16:37:31.177Z"
   },
   {
    "duration": 4,
    "start_time": "2021-11-13T16:37:34.327Z"
   },
   {
    "duration": 6,
    "start_time": "2021-11-13T16:38:00.429Z"
   },
   {
    "duration": 6,
    "start_time": "2021-11-13T16:40:28.611Z"
   },
   {
    "duration": 1218,
    "start_time": "2021-11-13T16:41:51.753Z"
   },
   {
    "duration": 307,
    "start_time": "2021-11-13T16:41:52.973Z"
   },
   {
    "duration": 83,
    "start_time": "2021-11-13T16:41:53.282Z"
   },
   {
    "duration": 374,
    "start_time": "2021-11-13T16:41:53.367Z"
   },
   {
    "duration": 20,
    "start_time": "2021-11-13T16:41:53.745Z"
   },
   {
    "duration": 22,
    "start_time": "2021-11-13T16:41:53.767Z"
   },
   {
    "duration": 254,
    "start_time": "2021-11-13T16:41:53.791Z"
   },
   {
    "duration": 10,
    "start_time": "2021-11-13T16:41:54.048Z"
   },
   {
    "duration": 141,
    "start_time": "2021-11-13T16:41:54.061Z"
   },
   {
    "duration": 11,
    "start_time": "2021-11-13T16:41:54.205Z"
   },
   {
    "duration": 38,
    "start_time": "2021-11-13T16:41:54.218Z"
   },
   {
    "duration": 138,
    "start_time": "2021-11-13T16:41:54.258Z"
   },
   {
    "duration": 6,
    "start_time": "2021-11-13T16:41:54.398Z"
   },
   {
    "duration": 26,
    "start_time": "2021-11-13T16:41:54.405Z"
   },
   {
    "duration": 35,
    "start_time": "2021-11-13T16:41:54.432Z"
   },
   {
    "duration": 24,
    "start_time": "2021-11-13T16:41:54.469Z"
   },
   {
    "duration": 309,
    "start_time": "2021-11-13T16:41:54.495Z"
   },
   {
    "duration": 12,
    "start_time": "2021-11-13T16:41:54.806Z"
   },
   {
    "duration": 105,
    "start_time": "2021-11-13T16:41:54.821Z"
   },
   {
    "duration": 3,
    "start_time": "2021-11-13T16:41:54.928Z"
   },
   {
    "duration": 15,
    "start_time": "2021-11-13T16:41:54.932Z"
   },
   {
    "duration": 12,
    "start_time": "2021-11-13T16:41:54.950Z"
   },
   {
    "duration": 9,
    "start_time": "2021-11-13T16:41:54.964Z"
   },
   {
    "duration": 10,
    "start_time": "2021-11-13T16:41:54.974Z"
   },
   {
    "duration": 10,
    "start_time": "2021-11-13T16:41:54.986Z"
   },
   {
    "duration": 12,
    "start_time": "2021-11-13T16:41:54.998Z"
   },
   {
    "duration": 7,
    "start_time": "2021-11-13T16:41:55.015Z"
   },
   {
    "duration": 21,
    "start_time": "2021-11-13T16:41:55.025Z"
   },
   {
    "duration": 21,
    "start_time": "2021-11-13T16:41:55.048Z"
   },
   {
    "duration": 13,
    "start_time": "2021-11-13T16:41:55.071Z"
   },
   {
    "duration": 5,
    "start_time": "2021-11-13T16:41:55.086Z"
   },
   {
    "duration": 26,
    "start_time": "2021-11-13T16:41:55.092Z"
   },
   {
    "duration": 28,
    "start_time": "2021-11-13T16:41:55.120Z"
   },
   {
    "duration": 9,
    "start_time": "2021-11-13T16:41:55.150Z"
   },
   {
    "duration": 16,
    "start_time": "2021-11-13T16:41:55.160Z"
   },
   {
    "duration": 1625,
    "start_time": "2021-11-13T16:41:55.177Z"
   },
   {
    "duration": 6,
    "start_time": "2021-11-13T16:41:56.804Z"
   },
   {
    "duration": 1376,
    "start_time": "2021-11-13T16:41:56.811Z"
   },
   {
    "duration": 7,
    "start_time": "2021-11-13T16:41:58.189Z"
   },
   {
    "duration": 1581,
    "start_time": "2021-11-13T16:41:58.197Z"
   },
   {
    "duration": 7,
    "start_time": "2021-11-13T16:41:59.781Z"
   },
   {
    "duration": 1060,
    "start_time": "2021-11-13T16:41:59.791Z"
   },
   {
    "duration": 870,
    "start_time": "2021-11-13T16:42:00.852Z"
   },
   {
    "duration": 4,
    "start_time": "2021-11-13T16:42:01.723Z"
   },
   {
    "duration": 41,
    "start_time": "2021-11-13T16:42:01.729Z"
   },
   {
    "duration": 17,
    "start_time": "2021-11-13T16:42:01.772Z"
   },
   {
    "duration": 17,
    "start_time": "2021-11-13T16:42:01.791Z"
   },
   {
    "duration": 1498,
    "start_time": "2021-11-13T16:42:01.810Z"
   },
   {
    "duration": 4,
    "start_time": "2021-11-13T16:42:03.310Z"
   },
   {
    "duration": 111,
    "start_time": "2021-11-13T16:42:03.316Z"
   },
   {
    "duration": 18,
    "start_time": "2021-11-13T16:42:03.429Z"
   },
   {
    "duration": 1563,
    "start_time": "2021-11-13T16:42:03.451Z"
   },
   {
    "duration": 4,
    "start_time": "2021-11-13T16:42:05.016Z"
   },
   {
    "duration": 8,
    "start_time": "2021-11-13T16:42:05.021Z"
   },
   {
    "duration": 22,
    "start_time": "2021-11-13T16:42:05.031Z"
   },
   {
    "duration": 16,
    "start_time": "2021-11-13T16:42:05.055Z"
   },
   {
    "duration": 6,
    "start_time": "2021-11-13T16:42:05.072Z"
   },
   {
    "duration": 11,
    "start_time": "2021-11-13T16:42:05.079Z"
   },
   {
    "duration": 1663,
    "start_time": "2021-11-13T16:42:05.092Z"
   },
   {
    "duration": 89,
    "start_time": "2021-11-13T16:42:06.757Z"
   },
   {
    "duration": 8,
    "start_time": "2021-11-13T16:42:06.848Z"
   },
   {
    "duration": 1886,
    "start_time": "2021-11-13T16:42:06.859Z"
   },
   {
    "duration": 4,
    "start_time": "2021-11-13T16:42:08.747Z"
   },
   {
    "duration": 9,
    "start_time": "2021-11-13T16:42:08.753Z"
   },
   {
    "duration": 85,
    "start_time": "2021-11-13T16:42:08.766Z"
   },
   {
    "duration": 9,
    "start_time": "2021-11-13T16:42:08.854Z"
   },
   {
    "duration": 7,
    "start_time": "2021-11-13T16:42:08.864Z"
   },
   {
    "duration": 233602,
    "start_time": "2021-11-13T16:42:08.873Z"
   },
   {
    "duration": 3859,
    "start_time": "2021-11-13T16:46:02.477Z"
   },
   {
    "duration": 10,
    "start_time": "2021-11-13T16:46:06.337Z"
   },
   {
    "duration": 18,
    "start_time": "2021-11-13T16:46:06.350Z"
   },
   {
    "duration": 8,
    "start_time": "2021-11-13T16:46:06.370Z"
   },
   {
    "duration": 12,
    "start_time": "2021-11-13T16:46:06.380Z"
   },
   {
    "duration": 8,
    "start_time": "2021-11-13T16:46:06.394Z"
   },
   {
    "duration": 14,
    "start_time": "2021-11-13T16:46:06.404Z"
   },
   {
    "duration": 10,
    "start_time": "2021-11-13T16:46:06.420Z"
   },
   {
    "duration": 15,
    "start_time": "2021-11-13T16:46:06.432Z"
   },
   {
    "duration": 10,
    "start_time": "2021-11-13T16:46:06.450Z"
   },
   {
    "duration": 10,
    "start_time": "2021-11-13T16:46:06.462Z"
   },
   {
    "duration": 7,
    "start_time": "2021-11-13T16:46:06.473Z"
   },
   {
    "duration": 2,
    "start_time": "2021-11-13T16:46:06.486Z"
   },
   {
    "duration": 5,
    "start_time": "2021-11-13T16:46:06.490Z"
   },
   {
    "duration": 11,
    "start_time": "2021-11-13T16:46:06.497Z"
   },
   {
    "duration": 7,
    "start_time": "2021-11-13T16:46:06.510Z"
   },
   {
    "duration": 5,
    "start_time": "2021-11-13T16:46:06.518Z"
   },
   {
    "duration": 21,
    "start_time": "2021-11-13T16:46:06.524Z"
   },
   {
    "duration": 40,
    "start_time": "2021-11-13T16:46:06.547Z"
   },
   {
    "duration": 7,
    "start_time": "2021-11-13T16:46:06.588Z"
   },
   {
    "duration": 15,
    "start_time": "2021-11-13T16:46:06.597Z"
   },
   {
    "duration": 13,
    "start_time": "2021-11-13T16:46:06.613Z"
   },
   {
    "duration": 11,
    "start_time": "2021-11-13T16:46:06.628Z"
   },
   {
    "duration": 11,
    "start_time": "2021-11-13T16:46:06.640Z"
   },
   {
    "duration": 20,
    "start_time": "2021-11-13T16:46:06.654Z"
   },
   {
    "duration": 5,
    "start_time": "2021-11-13T16:50:25.009Z"
   },
   {
    "duration": 5,
    "start_time": "2021-11-13T16:50:45.408Z"
   },
   {
    "duration": 5,
    "start_time": "2021-11-13T16:51:02.473Z"
   },
   {
    "duration": 5,
    "start_time": "2021-11-13T16:51:17.863Z"
   },
   {
    "duration": 851,
    "start_time": "2021-11-13T17:04:23.512Z"
   },
   {
    "duration": 658,
    "start_time": "2021-11-13T17:04:34.435Z"
   },
   {
    "duration": 404,
    "start_time": "2021-11-13T17:04:46.112Z"
   },
   {
    "duration": 837,
    "start_time": "2021-11-13T17:05:06.266Z"
   },
   {
    "duration": 1081,
    "start_time": "2021-11-13T17:06:03.528Z"
   },
   {
    "duration": 925,
    "start_time": "2021-11-13T17:06:14.385Z"
   },
   {
    "duration": 684,
    "start_time": "2021-11-13T17:30:59.711Z"
   },
   {
    "duration": 1234,
    "start_time": "2021-11-13T17:32:06.231Z"
   },
   {
    "duration": 297,
    "start_time": "2021-11-13T17:32:08.675Z"
   },
   {
    "duration": 84,
    "start_time": "2021-11-13T17:32:08.973Z"
   },
   {
    "duration": 405,
    "start_time": "2021-11-13T17:32:09.089Z"
   },
   {
    "duration": 24,
    "start_time": "2021-11-13T17:32:09.537Z"
   },
   {
    "duration": 24,
    "start_time": "2021-11-13T17:32:09.742Z"
   },
   {
    "duration": 230,
    "start_time": "2021-11-13T17:32:09.979Z"
   },
   {
    "duration": 15,
    "start_time": "2021-11-13T17:32:10.238Z"
   },
   {
    "duration": 109,
    "start_time": "2021-11-13T17:32:10.450Z"
   },
   {
    "duration": 11,
    "start_time": "2021-11-13T17:32:10.986Z"
   },
   {
    "duration": 17,
    "start_time": "2021-11-13T17:32:11.177Z"
   },
   {
    "duration": 123,
    "start_time": "2021-11-13T17:32:11.360Z"
   },
   {
    "duration": 5,
    "start_time": "2021-11-13T17:32:11.561Z"
   },
   {
    "duration": 21,
    "start_time": "2021-11-13T17:32:11.752Z"
   },
   {
    "duration": 18,
    "start_time": "2021-11-13T17:32:12.189Z"
   },
   {
    "duration": 16,
    "start_time": "2021-11-13T17:32:12.375Z"
   },
   {
    "duration": 240,
    "start_time": "2021-11-13T17:32:12.569Z"
   },
   {
    "duration": 9,
    "start_time": "2021-11-13T17:32:12.811Z"
   },
   {
    "duration": 80,
    "start_time": "2021-11-13T17:32:13.428Z"
   },
   {
    "duration": 2,
    "start_time": "2021-11-13T17:32:17.292Z"
   },
   {
    "duration": 3,
    "start_time": "2021-11-13T17:32:17.936Z"
   },
   {
    "duration": 10,
    "start_time": "2021-11-13T17:32:19.571Z"
   },
   {
    "duration": 5,
    "start_time": "2021-11-13T17:32:35.466Z"
   },
   {
    "duration": 4,
    "start_time": "2021-11-13T17:32:36.510Z"
   },
   {
    "duration": 4,
    "start_time": "2021-11-13T17:32:37.303Z"
   },
   {
    "duration": 4,
    "start_time": "2021-11-13T17:32:39.608Z"
   },
   {
    "duration": 4,
    "start_time": "2021-11-13T17:33:00.595Z"
   },
   {
    "duration": 5,
    "start_time": "2021-11-13T17:33:02.165Z"
   },
   {
    "duration": 4,
    "start_time": "2021-11-13T17:33:02.801Z"
   },
   {
    "duration": 22,
    "start_time": "2021-11-13T17:33:05.344Z"
   },
   {
    "duration": 14,
    "start_time": "2021-11-13T17:33:05.995Z"
   },
   {
    "duration": 19,
    "start_time": "2021-11-13T17:33:09.413Z"
   },
   {
    "duration": 5,
    "start_time": "2021-11-13T17:33:10.616Z"
   },
   {
    "duration": 20,
    "start_time": "2021-11-13T17:33:11.450Z"
   },
   {
    "duration": 4,
    "start_time": "2021-11-13T17:33:40.938Z"
   },
   {
    "duration": 5,
    "start_time": "2021-11-13T17:33:41.571Z"
   },
   {
    "duration": 5,
    "start_time": "2021-11-13T17:33:45.964Z"
   },
   {
    "duration": 4,
    "start_time": "2021-11-13T17:33:46.869Z"
   },
   {
    "duration": 7,
    "start_time": "2021-11-13T17:33:48.313Z"
   },
   {
    "duration": 5,
    "start_time": "2021-11-13T17:33:48.633Z"
   },
   {
    "duration": 9,
    "start_time": "2021-11-13T17:33:48.967Z"
   },
   {
    "duration": 1389,
    "start_time": "2021-11-13T17:33:51.721Z"
   },
   {
    "duration": 6,
    "start_time": "2021-11-13T17:33:53.112Z"
   },
   {
    "duration": 1292,
    "start_time": "2021-11-13T17:33:53.500Z"
   },
   {
    "duration": 6,
    "start_time": "2021-11-13T17:33:55.637Z"
   },
   {
    "duration": 1429,
    "start_time": "2021-11-13T17:33:57.384Z"
   },
   {
    "duration": 6,
    "start_time": "2021-11-13T17:33:58.815Z"
   },
   {
    "duration": 853,
    "start_time": "2021-11-13T17:34:10.883Z"
   },
   {
    "duration": 324,
    "start_time": "2021-11-13T17:34:12.744Z"
   },
   {
    "duration": 194,
    "start_time": "2021-11-13T17:34:19.938Z"
   },
   {
    "duration": 250,
    "start_time": "2021-11-13T17:34:43.319Z"
   },
   {
    "duration": 272,
    "start_time": "2021-11-13T17:35:17.749Z"
   },
   {
    "duration": 277,
    "start_time": "2021-11-13T17:35:29.140Z"
   },
   {
    "duration": 621,
    "start_time": "2021-11-13T17:37:12.669Z"
   },
   {
    "duration": 270,
    "start_time": "2021-11-13T17:38:03.505Z"
   },
   {
    "duration": 252,
    "start_time": "2021-11-13T17:38:20.601Z"
   },
   {
    "duration": 276,
    "start_time": "2021-11-13T17:41:38.082Z"
   },
   {
    "duration": 281,
    "start_time": "2021-11-13T17:41:56.879Z"
   },
   {
    "duration": 260,
    "start_time": "2021-11-13T17:42:45.128Z"
   },
   {
    "duration": 279,
    "start_time": "2021-11-13T17:43:04.930Z"
   },
   {
    "duration": 382,
    "start_time": "2021-11-13T17:43:13.545Z"
   },
   {
    "duration": 275,
    "start_time": "2021-11-13T17:43:38.549Z"
   },
   {
    "duration": 269,
    "start_time": "2021-11-13T17:43:51.957Z"
   },
   {
    "duration": 271,
    "start_time": "2021-11-13T17:44:22.860Z"
   },
   {
    "duration": 1162,
    "start_time": "2021-11-13T17:44:40.479Z"
   },
   {
    "duration": 284,
    "start_time": "2021-11-13T17:44:41.643Z"
   },
   {
    "duration": 93,
    "start_time": "2021-11-13T17:44:41.929Z"
   },
   {
    "duration": 373,
    "start_time": "2021-11-13T17:44:42.024Z"
   },
   {
    "duration": 15,
    "start_time": "2021-11-13T17:44:42.399Z"
   },
   {
    "duration": 36,
    "start_time": "2021-11-13T17:44:42.416Z"
   },
   {
    "duration": 225,
    "start_time": "2021-11-13T17:44:42.454Z"
   },
   {
    "duration": 7,
    "start_time": "2021-11-13T17:44:42.681Z"
   },
   {
    "duration": 122,
    "start_time": "2021-11-13T17:44:42.690Z"
   },
   {
    "duration": 10,
    "start_time": "2021-11-13T17:44:42.814Z"
   },
   {
    "duration": 35,
    "start_time": "2021-11-13T17:44:42.825Z"
   },
   {
    "duration": 133,
    "start_time": "2021-11-13T17:44:42.862Z"
   },
   {
    "duration": 5,
    "start_time": "2021-11-13T17:44:42.997Z"
   },
   {
    "duration": 32,
    "start_time": "2021-11-13T17:44:43.004Z"
   },
   {
    "duration": 25,
    "start_time": "2021-11-13T17:44:43.038Z"
   },
   {
    "duration": 15,
    "start_time": "2021-11-13T17:44:43.065Z"
   },
   {
    "duration": 251,
    "start_time": "2021-11-13T17:44:43.082Z"
   },
   {
    "duration": 13,
    "start_time": "2021-11-13T17:44:43.334Z"
   },
   {
    "duration": 86,
    "start_time": "2021-11-13T17:44:43.349Z"
   },
   {
    "duration": 3,
    "start_time": "2021-11-13T17:44:43.444Z"
   },
   {
    "duration": 11,
    "start_time": "2021-11-13T17:44:43.451Z"
   },
   {
    "duration": 17,
    "start_time": "2021-11-13T17:44:43.464Z"
   },
   {
    "duration": 24,
    "start_time": "2021-11-13T17:44:43.483Z"
   },
   {
    "duration": 19,
    "start_time": "2021-11-13T17:44:43.508Z"
   },
   {
    "duration": 10,
    "start_time": "2021-11-13T17:44:43.529Z"
   },
   {
    "duration": 23,
    "start_time": "2021-11-13T17:44:43.540Z"
   },
   {
    "duration": 16,
    "start_time": "2021-11-13T17:44:43.567Z"
   },
   {
    "duration": 21,
    "start_time": "2021-11-13T17:44:43.585Z"
   },
   {
    "duration": 26,
    "start_time": "2021-11-13T17:44:43.608Z"
   },
   {
    "duration": 24,
    "start_time": "2021-11-13T17:44:43.636Z"
   },
   {
    "duration": 7,
    "start_time": "2021-11-13T17:44:43.662Z"
   },
   {
    "duration": 27,
    "start_time": "2021-11-13T17:44:43.670Z"
   },
   {
    "duration": 5,
    "start_time": "2021-11-13T17:44:43.698Z"
   },
   {
    "duration": 18,
    "start_time": "2021-11-13T17:44:43.704Z"
   },
   {
    "duration": 10,
    "start_time": "2021-11-13T17:44:43.724Z"
   },
   {
    "duration": 20,
    "start_time": "2021-11-13T17:44:43.736Z"
   },
   {
    "duration": 19,
    "start_time": "2021-11-13T17:44:43.758Z"
   },
   {
    "duration": 21,
    "start_time": "2021-11-13T17:44:43.779Z"
   },
   {
    "duration": 19,
    "start_time": "2021-11-13T17:44:43.802Z"
   },
   {
    "duration": 1489,
    "start_time": "2021-11-13T17:44:43.823Z"
   },
   {
    "duration": 7,
    "start_time": "2021-11-13T17:44:45.315Z"
   },
   {
    "duration": 1375,
    "start_time": "2021-11-13T17:44:45.324Z"
   },
   {
    "duration": 6,
    "start_time": "2021-11-13T17:44:46.700Z"
   },
   {
    "duration": 1536,
    "start_time": "2021-11-13T17:44:46.708Z"
   },
   {
    "duration": 9,
    "start_time": "2021-11-13T17:44:48.248Z"
   },
   {
    "duration": 3,
    "start_time": "2021-11-13T17:44:48.260Z"
   },
   {
    "duration": 302,
    "start_time": "2021-11-13T17:44:48.265Z"
   },
   {
    "duration": 2,
    "start_time": "2021-11-13T17:44:48.569Z"
   },
   {
    "duration": 291,
    "start_time": "2021-11-13T17:44:48.573Z"
   },
   {
    "duration": 4,
    "start_time": "2021-11-13T17:44:48.866Z"
   },
   {
    "duration": 7,
    "start_time": "2021-11-13T17:44:48.872Z"
   },
   {
    "duration": 6,
    "start_time": "2021-11-13T17:44:48.881Z"
   },
   {
    "duration": 6,
    "start_time": "2021-11-13T17:44:48.889Z"
   },
   {
    "duration": 1534,
    "start_time": "2021-11-13T17:44:48.897Z"
   },
   {
    "duration": 4,
    "start_time": "2021-11-13T17:44:50.434Z"
   },
   {
    "duration": 109,
    "start_time": "2021-11-13T17:44:50.444Z"
   },
   {
    "duration": 9,
    "start_time": "2021-11-13T17:44:50.555Z"
   },
   {
    "duration": 1385,
    "start_time": "2021-11-13T17:44:50.566Z"
   },
   {
    "duration": 6,
    "start_time": "2021-11-13T17:44:51.953Z"
   },
   {
    "duration": 7,
    "start_time": "2021-11-13T17:44:51.961Z"
   },
   {
    "duration": 16,
    "start_time": "2021-11-13T17:44:51.970Z"
   },
   {
    "duration": 20,
    "start_time": "2021-11-13T17:44:51.988Z"
   },
   {
    "duration": 14,
    "start_time": "2021-11-13T17:44:52.010Z"
   },
   {
    "duration": 11,
    "start_time": "2021-11-13T17:44:52.025Z"
   },
   {
    "duration": 2919,
    "start_time": "2021-11-13T17:44:52.037Z"
   },
   {
    "duration": 92,
    "start_time": "2021-11-13T17:44:54.958Z"
   },
   {
    "duration": 19,
    "start_time": "2021-11-13T17:44:55.052Z"
   },
   {
    "duration": 2193,
    "start_time": "2021-11-13T17:44:55.073Z"
   },
   {
    "duration": 4,
    "start_time": "2021-11-13T17:44:57.269Z"
   },
   {
    "duration": 3,
    "start_time": "2021-11-13T17:44:57.347Z"
   },
   {
    "duration": 6,
    "start_time": "2021-11-13T17:44:57.354Z"
   },
   {
    "duration": 11,
    "start_time": "2021-11-13T17:44:57.362Z"
   },
   {
    "duration": 6,
    "start_time": "2021-11-13T17:44:57.374Z"
   },
   {
    "duration": 232152,
    "start_time": "2021-11-13T17:44:57.382Z"
   },
   {
    "duration": 3839,
    "start_time": "2021-11-13T17:48:49.535Z"
   },
   {
    "duration": 5,
    "start_time": "2021-11-13T17:48:53.376Z"
   },
   {
    "duration": 10,
    "start_time": "2021-11-13T17:48:53.383Z"
   },
   {
    "duration": 5,
    "start_time": "2021-11-13T17:48:53.395Z"
   },
   {
    "duration": 19,
    "start_time": "2021-11-13T17:48:53.402Z"
   },
   {
    "duration": 9,
    "start_time": "2021-11-13T17:48:53.423Z"
   },
   {
    "duration": 16,
    "start_time": "2021-11-13T17:48:53.450Z"
   },
   {
    "duration": 17,
    "start_time": "2021-11-13T17:48:53.468Z"
   },
   {
    "duration": 16,
    "start_time": "2021-11-13T17:48:53.486Z"
   },
   {
    "duration": 22,
    "start_time": "2021-11-13T17:48:53.504Z"
   },
   {
    "duration": 10,
    "start_time": "2021-11-13T17:48:53.528Z"
   },
   {
    "duration": 22,
    "start_time": "2021-11-13T17:48:53.540Z"
   },
   {
    "duration": 8,
    "start_time": "2021-11-13T17:48:53.564Z"
   },
   {
    "duration": 7,
    "start_time": "2021-11-13T17:48:53.573Z"
   },
   {
    "duration": 24,
    "start_time": "2021-11-13T17:48:53.581Z"
   },
   {
    "duration": 20,
    "start_time": "2021-11-13T17:48:53.606Z"
   },
   {
    "duration": 5,
    "start_time": "2021-11-13T17:48:53.628Z"
   },
   {
    "duration": 24,
    "start_time": "2021-11-13T17:48:53.634Z"
   },
   {
    "duration": 37,
    "start_time": "2021-11-13T17:48:53.660Z"
   },
   {
    "duration": 5,
    "start_time": "2021-11-13T17:48:53.699Z"
   },
   {
    "duration": 9,
    "start_time": "2021-11-13T17:48:53.705Z"
   },
   {
    "duration": 7,
    "start_time": "2021-11-13T17:48:53.716Z"
   },
   {
    "duration": 4,
    "start_time": "2021-11-13T17:48:53.724Z"
   },
   {
    "duration": 10,
    "start_time": "2021-11-13T17:48:53.729Z"
   },
   {
    "duration": 18,
    "start_time": "2021-11-13T17:48:53.740Z"
   },
   {
    "duration": 1201,
    "start_time": "2021-11-13T17:54:07.741Z"
   },
   {
    "duration": 279,
    "start_time": "2021-11-13T17:54:08.944Z"
   },
   {
    "duration": 85,
    "start_time": "2021-11-13T17:54:09.226Z"
   },
   {
    "duration": 404,
    "start_time": "2021-11-13T17:54:09.312Z"
   },
   {
    "duration": 16,
    "start_time": "2021-11-13T17:54:10.200Z"
   },
   {
    "duration": 22,
    "start_time": "2021-11-13T17:54:10.582Z"
   },
   {
    "duration": 227,
    "start_time": "2021-11-13T17:54:10.755Z"
   },
   {
    "duration": 7,
    "start_time": "2021-11-13T17:54:10.984Z"
   },
   {
    "duration": 108,
    "start_time": "2021-11-13T17:54:11.137Z"
   },
   {
    "duration": 10,
    "start_time": "2021-11-13T17:54:11.501Z"
   },
   {
    "duration": 19,
    "start_time": "2021-11-13T17:54:11.684Z"
   },
   {
    "duration": 126,
    "start_time": "2021-11-13T17:54:11.852Z"
   },
   {
    "duration": 6,
    "start_time": "2021-11-13T17:54:12.065Z"
   },
   {
    "duration": 24,
    "start_time": "2021-11-13T17:54:12.244Z"
   },
   {
    "duration": 17,
    "start_time": "2021-11-13T17:54:12.630Z"
   },
   {
    "duration": 21,
    "start_time": "2021-11-13T17:54:12.832Z"
   },
   {
    "duration": 249,
    "start_time": "2021-11-13T17:54:13.245Z"
   },
   {
    "duration": 13,
    "start_time": "2021-11-13T17:54:13.638Z"
   },
   {
    "duration": 82,
    "start_time": "2021-11-13T17:54:14.280Z"
   },
   {
    "duration": 3,
    "start_time": "2021-11-13T17:54:15.965Z"
   },
   {
    "duration": 2,
    "start_time": "2021-11-13T17:54:16.557Z"
   },
   {
    "duration": 5,
    "start_time": "2021-11-13T17:54:18.792Z"
   },
   {
    "duration": 13,
    "start_time": "2021-11-13T17:54:18.799Z"
   },
   {
    "duration": 4,
    "start_time": "2021-11-13T17:54:19.232Z"
   },
   {
    "duration": 5,
    "start_time": "2021-11-13T17:54:37.094Z"
   },
   {
    "duration": 4,
    "start_time": "2021-11-13T17:54:38.139Z"
   },
   {
    "duration": 4,
    "start_time": "2021-11-13T17:54:38.941Z"
   },
   {
    "duration": 15,
    "start_time": "2021-11-13T17:54:40.574Z"
   },
   {
    "duration": 14,
    "start_time": "2021-11-13T17:54:41.093Z"
   },
   {
    "duration": 6,
    "start_time": "2021-11-13T17:54:41.685Z"
   },
   {
    "duration": 23,
    "start_time": "2021-11-13T17:54:42.271Z"
   },
   {
    "duration": 6,
    "start_time": "2021-11-13T17:54:44.397Z"
   },
   {
    "duration": 5,
    "start_time": "2021-11-13T17:54:44.924Z"
   },
   {
    "duration": 5,
    "start_time": "2021-11-13T17:54:45.623Z"
   },
   {
    "duration": 5,
    "start_time": "2021-11-13T17:54:46.198Z"
   },
   {
    "duration": 7,
    "start_time": "2021-11-13T17:54:47.407Z"
   },
   {
    "duration": 5,
    "start_time": "2021-11-13T17:54:47.724Z"
   },
   {
    "duration": 9,
    "start_time": "2021-11-13T17:54:48.011Z"
   },
   {
    "duration": 1446,
    "start_time": "2021-11-13T17:54:51.038Z"
   },
   {
    "duration": 6,
    "start_time": "2021-11-13T17:54:52.486Z"
   },
   {
    "duration": 1389,
    "start_time": "2021-11-13T17:54:52.494Z"
   },
   {
    "duration": 6,
    "start_time": "2021-11-13T17:54:53.885Z"
   },
   {
    "duration": 1508,
    "start_time": "2021-11-13T17:54:53.893Z"
   },
   {
    "duration": 7,
    "start_time": "2021-11-13T17:54:55.403Z"
   },
   {
    "duration": 12,
    "start_time": "2021-11-13T17:54:55.412Z"
   },
   {
    "duration": 292,
    "start_time": "2021-11-13T17:54:55.426Z"
   },
   {
    "duration": 3,
    "start_time": "2021-11-13T17:54:57.360Z"
   },
   {
    "duration": 307,
    "start_time": "2021-11-13T17:54:58.021Z"
   },
   {
    "duration": 4,
    "start_time": "2021-11-13T17:55:01.733Z"
   },
   {
    "duration": 5,
    "start_time": "2021-11-13T17:55:02.229Z"
   },
   {
    "duration": 5,
    "start_time": "2021-11-13T17:55:02.640Z"
   },
   {
    "duration": 7,
    "start_time": "2021-11-13T17:55:03.244Z"
   },
   {
    "duration": 1484,
    "start_time": "2021-11-13T17:55:04.398Z"
   },
   {
    "duration": 4,
    "start_time": "2021-11-13T17:55:16.139Z"
   },
   {
    "duration": 1290,
    "start_time": "2021-11-13T17:55:18.113Z"
   },
   {
    "duration": 1069,
    "start_time": "2021-11-13T18:05:11.371Z"
   },
   {
    "duration": 58,
    "start_time": "2021-11-13T18:15:22.354Z"
   },
   {
    "duration": 9,
    "start_time": "2021-11-13T18:15:25.263Z"
   },
   {
    "duration": 1427,
    "start_time": "2021-11-13T18:15:28.246Z"
   },
   {
    "duration": 2276,
    "start_time": "2021-11-13T18:17:28.600Z"
   },
   {
    "duration": 1522,
    "start_time": "2021-11-13T18:17:39.215Z"
   },
   {
    "duration": 1390,
    "start_time": "2021-11-13T18:17:48.761Z"
   },
   {
    "duration": 4,
    "start_time": "2021-11-13T18:19:03.890Z"
   },
   {
    "duration": 2,
    "start_time": "2021-11-13T18:19:04.599Z"
   },
   {
    "duration": 11,
    "start_time": "2021-11-13T18:19:08.650Z"
   },
   {
    "duration": 12,
    "start_time": "2021-11-13T18:19:12.442Z"
   },
   {
    "duration": 7,
    "start_time": "2021-11-13T18:19:56.721Z"
   },
   {
    "duration": 21,
    "start_time": "2021-11-13T18:19:58.442Z"
   },
   {
    "duration": 11,
    "start_time": "2021-11-13T18:20:36.769Z"
   },
   {
    "duration": 1396,
    "start_time": "2021-11-13T18:21:16.727Z"
   },
   {
    "duration": 279,
    "start_time": "2021-11-13T18:21:18.125Z"
   },
   {
    "duration": 80,
    "start_time": "2021-11-13T18:21:18.406Z"
   },
   {
    "duration": 363,
    "start_time": "2021-11-13T18:21:18.487Z"
   },
   {
    "duration": 18,
    "start_time": "2021-11-13T18:21:18.852Z"
   },
   {
    "duration": 22,
    "start_time": "2021-11-13T18:21:18.871Z"
   },
   {
    "duration": 258,
    "start_time": "2021-11-13T18:21:18.895Z"
   },
   {
    "duration": 8,
    "start_time": "2021-11-13T18:21:19.156Z"
   },
   {
    "duration": 136,
    "start_time": "2021-11-13T18:21:19.166Z"
   },
   {
    "duration": 12,
    "start_time": "2021-11-13T18:21:19.304Z"
   },
   {
    "duration": 36,
    "start_time": "2021-11-13T18:21:19.318Z"
   },
   {
    "duration": 162,
    "start_time": "2021-11-13T18:21:19.357Z"
   },
   {
    "duration": 6,
    "start_time": "2021-11-13T18:21:19.521Z"
   },
   {
    "duration": 39,
    "start_time": "2021-11-13T18:21:19.529Z"
   },
   {
    "duration": 22,
    "start_time": "2021-11-13T18:21:19.570Z"
   },
   {
    "duration": 15,
    "start_time": "2021-11-13T18:21:19.594Z"
   },
   {
    "duration": 293,
    "start_time": "2021-11-13T18:21:19.611Z"
   },
   {
    "duration": 8,
    "start_time": "2021-11-13T18:21:19.906Z"
   },
   {
    "duration": 98,
    "start_time": "2021-11-13T18:21:19.916Z"
   },
   {
    "duration": 3,
    "start_time": "2021-11-13T18:21:20.016Z"
   },
   {
    "duration": 20,
    "start_time": "2021-11-13T18:21:20.020Z"
   },
   {
    "duration": 33,
    "start_time": "2021-11-13T18:21:20.042Z"
   },
   {
    "duration": 6,
    "start_time": "2021-11-13T18:21:20.079Z"
   },
   {
    "duration": 9,
    "start_time": "2021-11-13T18:21:20.088Z"
   },
   {
    "duration": 14,
    "start_time": "2021-11-13T18:21:20.099Z"
   },
   {
    "duration": 6,
    "start_time": "2021-11-13T18:21:20.115Z"
   },
   {
    "duration": 5,
    "start_time": "2021-11-13T18:21:20.123Z"
   },
   {
    "duration": 8,
    "start_time": "2021-11-13T18:21:20.130Z"
   },
   {
    "duration": 23,
    "start_time": "2021-11-13T18:21:20.140Z"
   },
   {
    "duration": 16,
    "start_time": "2021-11-13T18:21:20.165Z"
   },
   {
    "duration": 5,
    "start_time": "2021-11-13T18:21:20.183Z"
   },
   {
    "duration": 23,
    "start_time": "2021-11-13T18:21:20.190Z"
   },
   {
    "duration": 5,
    "start_time": "2021-11-13T18:21:20.215Z"
   },
   {
    "duration": 6,
    "start_time": "2021-11-13T18:21:20.245Z"
   },
   {
    "duration": 18,
    "start_time": "2021-11-13T18:21:20.253Z"
   },
   {
    "duration": 13,
    "start_time": "2021-11-13T18:21:20.273Z"
   },
   {
    "duration": 10,
    "start_time": "2021-11-13T18:21:20.288Z"
   },
   {
    "duration": 6,
    "start_time": "2021-11-13T18:21:20.300Z"
   },
   {
    "duration": 18,
    "start_time": "2021-11-13T18:21:20.308Z"
   },
   {
    "duration": 1418,
    "start_time": "2021-11-13T18:21:20.344Z"
   },
   {
    "duration": 7,
    "start_time": "2021-11-13T18:21:21.764Z"
   },
   {
    "duration": 1462,
    "start_time": "2021-11-13T18:21:21.773Z"
   },
   {
    "duration": 8,
    "start_time": "2021-11-13T18:21:23.244Z"
   },
   {
    "duration": 1552,
    "start_time": "2021-11-13T18:21:23.254Z"
   },
   {
    "duration": 7,
    "start_time": "2021-11-13T18:21:24.808Z"
   },
   {
    "duration": 4,
    "start_time": "2021-11-13T18:21:24.817Z"
   },
   {
    "duration": 296,
    "start_time": "2021-11-13T18:21:24.822Z"
   },
   {
    "duration": 2,
    "start_time": "2021-11-13T18:21:25.120Z"
   },
   {
    "duration": 311,
    "start_time": "2021-11-13T18:21:25.124Z"
   },
   {
    "duration": 8,
    "start_time": "2021-11-13T18:21:25.436Z"
   },
   {
    "duration": 15,
    "start_time": "2021-11-13T18:21:25.446Z"
   },
   {
    "duration": 20,
    "start_time": "2021-11-13T18:21:25.463Z"
   },
   {
    "duration": 11,
    "start_time": "2021-11-13T18:21:25.485Z"
   },
   {
    "duration": 1504,
    "start_time": "2021-11-13T18:21:25.498Z"
   },
   {
    "duration": 7,
    "start_time": "2021-11-13T18:21:27.005Z"
   },
   {
    "duration": 64,
    "start_time": "2021-11-13T18:21:27.013Z"
   },
   {
    "duration": 7,
    "start_time": "2021-11-13T18:21:27.079Z"
   },
   {
    "duration": 1414,
    "start_time": "2021-11-13T18:21:27.087Z"
   },
   {
    "duration": 4,
    "start_time": "2021-11-13T18:21:28.503Z"
   },
   {
    "duration": 7,
    "start_time": "2021-11-13T18:21:28.508Z"
   },
   {
    "duration": 11,
    "start_time": "2021-11-13T18:21:28.517Z"
   },
   {
    "duration": 21,
    "start_time": "2021-11-13T18:21:28.530Z"
   },
   {
    "duration": 7,
    "start_time": "2021-11-13T18:21:28.554Z"
   },
   {
    "duration": 152,
    "start_time": "2021-11-13T18:21:28.563Z"
   },
   {
    "duration": 3,
    "start_time": "2021-11-13T18:21:28.717Z"
   },
   {
    "duration": 1724,
    "start_time": "2021-11-13T18:21:28.721Z"
   },
   {
    "duration": 4,
    "start_time": "2021-11-13T18:21:30.447Z"
   },
   {
    "duration": 89,
    "start_time": "2021-11-13T18:21:30.456Z"
   },
   {
    "duration": 2198,
    "start_time": "2021-11-13T18:21:30.547Z"
   },
   {
    "duration": 10,
    "start_time": "2021-11-13T18:21:32.748Z"
   },
   {
    "duration": 3,
    "start_time": "2021-11-13T18:21:32.848Z"
   },
   {
    "duration": 10,
    "start_time": "2021-11-13T18:21:32.853Z"
   },
   {
    "duration": 9,
    "start_time": "2021-11-13T18:21:32.865Z"
   },
   {
    "duration": 16,
    "start_time": "2021-11-13T18:21:32.876Z"
   },
   {
    "duration": 222644,
    "start_time": "2021-11-13T18:21:32.893Z"
   },
   {
    "duration": 3833,
    "start_time": "2021-11-13T18:25:15.538Z"
   },
   {
    "duration": 5,
    "start_time": "2021-11-13T18:25:19.373Z"
   },
   {
    "duration": 44,
    "start_time": "2021-11-13T18:25:19.380Z"
   },
   {
    "duration": 32,
    "start_time": "2021-11-13T18:25:19.425Z"
   },
   {
    "duration": 28,
    "start_time": "2021-11-13T18:25:19.459Z"
   },
   {
    "duration": 19,
    "start_time": "2021-11-13T18:25:19.489Z"
   },
   {
    "duration": 25,
    "start_time": "2021-11-13T18:25:19.510Z"
   },
   {
    "duration": 24,
    "start_time": "2021-11-13T18:25:19.537Z"
   },
   {
    "duration": 16,
    "start_time": "2021-11-13T18:25:19.563Z"
   },
   {
    "duration": 9,
    "start_time": "2021-11-13T18:25:19.581Z"
   },
   {
    "duration": 12,
    "start_time": "2021-11-13T18:25:19.592Z"
   },
   {
    "duration": 21,
    "start_time": "2021-11-13T18:25:19.606Z"
   },
   {
    "duration": 29,
    "start_time": "2021-11-13T18:25:19.629Z"
   },
   {
    "duration": 16,
    "start_time": "2021-11-13T18:25:19.661Z"
   },
   {
    "duration": 31,
    "start_time": "2021-11-13T18:25:19.679Z"
   },
   {
    "duration": 12,
    "start_time": "2021-11-13T18:25:19.712Z"
   },
   {
    "duration": 12,
    "start_time": "2021-11-13T18:25:19.726Z"
   },
   {
    "duration": 24,
    "start_time": "2021-11-13T18:25:19.739Z"
   },
   {
    "duration": 59,
    "start_time": "2021-11-13T18:25:19.765Z"
   },
   {
    "duration": 7,
    "start_time": "2021-11-13T18:25:19.827Z"
   },
   {
    "duration": 10,
    "start_time": "2021-11-13T18:25:19.836Z"
   },
   {
    "duration": 18,
    "start_time": "2021-11-13T18:25:19.849Z"
   },
   {
    "duration": 14,
    "start_time": "2021-11-13T18:25:19.869Z"
   },
   {
    "duration": 24,
    "start_time": "2021-11-13T18:25:19.885Z"
   },
   {
    "duration": 20,
    "start_time": "2021-11-13T18:25:19.911Z"
   },
   {
    "duration": 1470,
    "start_time": "2021-11-13T18:26:58.498Z"
   },
   {
    "duration": 1448,
    "start_time": "2021-11-13T18:27:08.215Z"
   },
   {
    "duration": 10,
    "start_time": "2021-11-13T18:28:44.639Z"
   },
   {
    "duration": 1229,
    "start_time": "2021-11-13T18:46:06.130Z"
   },
   {
    "duration": 304,
    "start_time": "2021-11-13T18:46:07.361Z"
   },
   {
    "duration": 85,
    "start_time": "2021-11-13T18:46:08.043Z"
   },
   {
    "duration": 390,
    "start_time": "2021-11-13T18:46:08.444Z"
   },
   {
    "duration": 21,
    "start_time": "2021-11-13T18:46:09.537Z"
   },
   {
    "duration": 22,
    "start_time": "2021-11-13T18:46:10.055Z"
   },
   {
    "duration": 224,
    "start_time": "2021-11-13T18:46:10.388Z"
   },
   {
    "duration": 8,
    "start_time": "2021-11-13T18:46:11.590Z"
   },
   {
    "duration": 112,
    "start_time": "2021-11-13T18:46:12.408Z"
   },
   {
    "duration": 12,
    "start_time": "2021-11-13T18:46:14.265Z"
   },
   {
    "duration": 18,
    "start_time": "2021-11-13T18:46:14.881Z"
   },
   {
    "duration": 125,
    "start_time": "2021-11-13T18:46:15.599Z"
   },
   {
    "duration": 7,
    "start_time": "2021-11-13T18:46:16.114Z"
   },
   {
    "duration": 21,
    "start_time": "2021-11-13T18:46:16.305Z"
   },
   {
    "duration": 18,
    "start_time": "2021-11-13T18:46:16.699Z"
   },
   {
    "duration": 16,
    "start_time": "2021-11-13T18:46:16.880Z"
   },
   {
    "duration": 337,
    "start_time": "2021-11-13T18:46:17.063Z"
   },
   {
    "duration": 11,
    "start_time": "2021-11-13T18:46:18.859Z"
   },
   {
    "duration": 79,
    "start_time": "2021-11-13T18:46:18.872Z"
   },
   {
    "duration": 3,
    "start_time": "2021-11-13T18:46:19.525Z"
   },
   {
    "duration": 3,
    "start_time": "2021-11-13T18:46:20.801Z"
   },
   {
    "duration": 10,
    "start_time": "2021-11-13T18:46:21.738Z"
   },
   {
    "duration": 5,
    "start_time": "2021-11-13T18:46:22.292Z"
   },
   {
    "duration": 5,
    "start_time": "2021-11-13T18:46:22.842Z"
   },
   {
    "duration": 4,
    "start_time": "2021-11-13T18:46:23.439Z"
   },
   {
    "duration": 4,
    "start_time": "2021-11-13T18:46:24.459Z"
   },
   {
    "duration": 4,
    "start_time": "2021-11-13T18:46:24.993Z"
   },
   {
    "duration": 5,
    "start_time": "2021-11-13T18:46:25.471Z"
   },
   {
    "duration": 25,
    "start_time": "2021-11-13T18:46:26.643Z"
   },
   {
    "duration": 15,
    "start_time": "2021-11-13T18:46:26.930Z"
   },
   {
    "duration": 5,
    "start_time": "2021-11-13T18:46:27.217Z"
   },
   {
    "duration": 23,
    "start_time": "2021-11-13T18:46:27.585Z"
   },
   {
    "duration": 5,
    "start_time": "2021-11-13T18:46:28.539Z"
   },
   {
    "duration": 5,
    "start_time": "2021-11-13T18:46:28.803Z"
   },
   {
    "duration": 5,
    "start_time": "2021-11-13T18:46:29.067Z"
   },
   {
    "duration": 5,
    "start_time": "2021-11-13T18:46:29.337Z"
   },
   {
    "duration": 8,
    "start_time": "2021-11-13T18:46:30.375Z"
   },
   {
    "duration": 6,
    "start_time": "2021-11-13T18:46:30.734Z"
   },
   {
    "duration": 8,
    "start_time": "2021-11-13T18:46:30.996Z"
   },
   {
    "duration": 1405,
    "start_time": "2021-11-13T18:46:32.172Z"
   },
   {
    "duration": 8,
    "start_time": "2021-11-13T18:46:33.579Z"
   },
   {
    "duration": 1378,
    "start_time": "2021-11-13T18:46:33.590Z"
   },
   {
    "duration": 8,
    "start_time": "2021-11-13T18:46:34.971Z"
   },
   {
    "duration": 1531,
    "start_time": "2021-11-13T18:46:34.981Z"
   },
   {
    "duration": 8,
    "start_time": "2021-11-13T18:46:36.514Z"
   },
   {
    "duration": 3,
    "start_time": "2021-11-13T18:46:36.524Z"
   },
   {
    "duration": 288,
    "start_time": "2021-11-13T18:46:36.546Z"
   },
   {
    "duration": 2,
    "start_time": "2021-11-13T18:46:36.837Z"
   },
   {
    "duration": 292,
    "start_time": "2021-11-13T18:46:36.840Z"
   },
   {
    "duration": 4,
    "start_time": "2021-11-13T18:46:38.440Z"
   },
   {
    "duration": 5,
    "start_time": "2021-11-13T18:46:38.643Z"
   },
   {
    "duration": 4,
    "start_time": "2021-11-13T18:46:38.861Z"
   },
   {
    "duration": 4,
    "start_time": "2021-11-13T18:46:39.075Z"
   },
   {
    "duration": 1508,
    "start_time": "2021-11-13T18:46:39.385Z"
   },
   {
    "duration": 4,
    "start_time": "2021-11-13T18:46:41.850Z"
   },
   {
    "duration": 60,
    "start_time": "2021-11-13T18:46:42.957Z"
   },
   {
    "duration": 8,
    "start_time": "2021-11-13T18:46:44.251Z"
   },
   {
    "duration": 1450,
    "start_time": "2021-11-13T18:46:45.126Z"
   },
   {
    "duration": 4,
    "start_time": "2021-11-13T18:46:48.428Z"
   },
   {
    "duration": 7,
    "start_time": "2021-11-13T18:46:48.846Z"
   },
   {
    "duration": 8,
    "start_time": "2021-11-13T18:46:50.063Z"
   },
   {
    "duration": 140,
    "start_time": "2021-11-13T18:46:50.521Z"
   },
   {
    "duration": 11,
    "start_time": "2021-11-13T18:46:53.114Z"
   },
   {
    "duration": 7,
    "start_time": "2021-11-13T18:46:53.730Z"
   },
   {
    "duration": 11,
    "start_time": "2021-11-13T18:46:55.232Z"
   },
   {
    "duration": 2,
    "start_time": "2021-11-13T18:46:57.993Z"
   },
   {
    "duration": 1634,
    "start_time": "2021-11-13T18:54:06.110Z"
   },
   {
    "duration": 2,
    "start_time": "2021-11-13T18:55:17.629Z"
   },
   {
    "duration": 407,
    "start_time": "2021-11-13T18:57:29.666Z"
   },
   {
    "duration": 1844,
    "start_time": "2021-11-13T18:57:36.501Z"
   },
   {
    "duration": 4,
    "start_time": "2021-11-13T18:57:38.347Z"
   },
   {
    "duration": 1142,
    "start_time": "2021-11-13T18:58:11.214Z"
   },
   {
    "duration": 285,
    "start_time": "2021-11-13T18:58:12.358Z"
   },
   {
    "duration": 82,
    "start_time": "2021-11-13T18:58:12.645Z"
   },
   {
    "duration": 478,
    "start_time": "2021-11-13T18:58:12.729Z"
   },
   {
    "duration": 15,
    "start_time": "2021-11-13T18:58:13.209Z"
   },
   {
    "duration": 39,
    "start_time": "2021-11-13T18:58:13.226Z"
   },
   {
    "duration": 243,
    "start_time": "2021-11-13T18:58:13.267Z"
   },
   {
    "duration": 7,
    "start_time": "2021-11-13T18:58:13.512Z"
   },
   {
    "duration": 124,
    "start_time": "2021-11-13T18:58:13.521Z"
   },
   {
    "duration": 15,
    "start_time": "2021-11-13T18:58:13.647Z"
   },
   {
    "duration": 18,
    "start_time": "2021-11-13T18:58:13.664Z"
   },
   {
    "duration": 148,
    "start_time": "2021-11-13T18:58:13.683Z"
   },
   {
    "duration": 5,
    "start_time": "2021-11-13T18:58:13.833Z"
   },
   {
    "duration": 30,
    "start_time": "2021-11-13T18:58:13.839Z"
   },
   {
    "duration": 18,
    "start_time": "2021-11-13T18:58:13.871Z"
   },
   {
    "duration": 21,
    "start_time": "2021-11-13T18:58:13.891Z"
   },
   {
    "duration": 271,
    "start_time": "2021-11-13T18:58:13.913Z"
   },
   {
    "duration": 9,
    "start_time": "2021-11-13T18:58:14.186Z"
   },
   {
    "duration": 99,
    "start_time": "2021-11-13T18:58:14.197Z"
   },
   {
    "duration": 2,
    "start_time": "2021-11-13T18:58:14.298Z"
   },
   {
    "duration": 9,
    "start_time": "2021-11-13T18:58:14.302Z"
   },
   {
    "duration": 11,
    "start_time": "2021-11-13T18:58:14.313Z"
   },
   {
    "duration": 4,
    "start_time": "2021-11-13T18:58:14.326Z"
   },
   {
    "duration": 5,
    "start_time": "2021-11-13T18:58:14.344Z"
   },
   {
    "duration": 10,
    "start_time": "2021-11-13T18:58:14.350Z"
   },
   {
    "duration": 7,
    "start_time": "2021-11-13T18:58:14.362Z"
   },
   {
    "duration": 4,
    "start_time": "2021-11-13T18:58:14.374Z"
   },
   {
    "duration": 13,
    "start_time": "2021-11-13T18:58:14.381Z"
   },
   {
    "duration": 16,
    "start_time": "2021-11-13T18:58:14.396Z"
   },
   {
    "duration": 45,
    "start_time": "2021-11-13T18:58:14.414Z"
   },
   {
    "duration": 5,
    "start_time": "2021-11-13T18:58:14.461Z"
   },
   {
    "duration": 25,
    "start_time": "2021-11-13T18:58:14.468Z"
   },
   {
    "duration": 4,
    "start_time": "2021-11-13T18:58:14.495Z"
   },
   {
    "duration": 14,
    "start_time": "2021-11-13T18:58:14.501Z"
   },
   {
    "duration": 28,
    "start_time": "2021-11-13T18:58:14.517Z"
   },
   {
    "duration": 10,
    "start_time": "2021-11-13T18:58:14.547Z"
   },
   {
    "duration": 14,
    "start_time": "2021-11-13T18:58:14.558Z"
   },
   {
    "duration": 5,
    "start_time": "2021-11-13T18:58:14.574Z"
   },
   {
    "duration": 16,
    "start_time": "2021-11-13T18:58:14.581Z"
   },
   {
    "duration": 1540,
    "start_time": "2021-11-13T18:58:14.599Z"
   },
   {
    "duration": 8,
    "start_time": "2021-11-13T18:58:16.144Z"
   },
   {
    "duration": 1358,
    "start_time": "2021-11-13T18:58:16.155Z"
   },
   {
    "duration": 8,
    "start_time": "2021-11-13T18:58:17.515Z"
   },
   {
    "duration": 1640,
    "start_time": "2021-11-13T18:58:17.524Z"
   },
   {
    "duration": 9,
    "start_time": "2021-11-13T18:58:19.166Z"
   },
   {
    "duration": 10,
    "start_time": "2021-11-13T18:58:19.177Z"
   },
   {
    "duration": 289,
    "start_time": "2021-11-13T18:58:19.189Z"
   },
   {
    "duration": 3,
    "start_time": "2021-11-13T18:58:19.480Z"
   },
   {
    "duration": 298,
    "start_time": "2021-11-13T18:58:19.485Z"
   },
   {
    "duration": 5,
    "start_time": "2021-11-13T18:58:19.786Z"
   },
   {
    "duration": 7,
    "start_time": "2021-11-13T18:58:19.792Z"
   },
   {
    "duration": 6,
    "start_time": "2021-11-13T18:58:19.801Z"
   },
   {
    "duration": 8,
    "start_time": "2021-11-13T18:58:19.808Z"
   },
   {
    "duration": 1665,
    "start_time": "2021-11-13T18:58:19.818Z"
   },
   {
    "duration": 4,
    "start_time": "2021-11-13T18:58:21.485Z"
   },
   {
    "duration": 60,
    "start_time": "2021-11-13T18:58:21.490Z"
   },
   {
    "duration": 9,
    "start_time": "2021-11-13T18:58:21.552Z"
   },
   {
    "duration": 1424,
    "start_time": "2021-11-13T18:58:21.563Z"
   },
   {
    "duration": 3,
    "start_time": "2021-11-13T18:58:22.989Z"
   },
   {
    "duration": 6,
    "start_time": "2021-11-13T18:58:22.994Z"
   },
   {
    "duration": 16,
    "start_time": "2021-11-13T18:58:23.001Z"
   },
   {
    "duration": 165,
    "start_time": "2021-11-13T18:58:23.019Z"
   },
   {
    "duration": 9,
    "start_time": "2021-11-13T18:58:23.186Z"
   },
   {
    "duration": 7,
    "start_time": "2021-11-13T18:58:23.197Z"
   },
   {
    "duration": 19,
    "start_time": "2021-11-13T18:58:23.205Z"
   },
   {
    "duration": 2,
    "start_time": "2021-11-13T18:58:23.226Z"
   },
   {
    "duration": 1626,
    "start_time": "2021-11-13T18:58:23.229Z"
   },
   {
    "duration": 5,
    "start_time": "2021-11-13T18:58:24.857Z"
   },
   {
    "duration": 9,
    "start_time": "2021-11-13T18:58:24.945Z"
   },
   {
    "duration": 1193,
    "start_time": "2021-11-13T18:58:24.956Z"
   },
   {
    "duration": 5,
    "start_time": "2021-11-13T18:58:26.151Z"
   },
   {
    "duration": 89,
    "start_time": "2021-11-13T18:58:26.158Z"
   },
   {
    "duration": 23,
    "start_time": "2021-11-13T18:58:26.249Z"
   },
   {
    "duration": 15,
    "start_time": "2021-11-13T18:58:26.274Z"
   },
   {
    "duration": 15,
    "start_time": "2021-11-13T18:58:26.291Z"
   },
   {
    "duration": 220992,
    "start_time": "2021-11-13T18:58:26.308Z"
   },
   {
    "duration": 3824,
    "start_time": "2021-11-13T19:02:07.301Z"
   },
   {
    "duration": 5,
    "start_time": "2021-11-13T19:02:11.127Z"
   },
   {
    "duration": 6,
    "start_time": "2021-11-13T19:02:11.144Z"
   },
   {
    "duration": 8,
    "start_time": "2021-11-13T19:02:11.152Z"
   },
   {
    "duration": 3,
    "start_time": "2021-11-13T19:02:11.169Z"
   },
   {
    "duration": 8,
    "start_time": "2021-11-13T19:02:11.174Z"
   },
   {
    "duration": 8,
    "start_time": "2021-11-13T19:02:11.184Z"
   },
   {
    "duration": 7,
    "start_time": "2021-11-13T19:02:11.194Z"
   },
   {
    "duration": 6,
    "start_time": "2021-11-13T19:02:11.202Z"
   },
   {
    "duration": 7,
    "start_time": "2021-11-13T19:02:11.209Z"
   },
   {
    "duration": 27,
    "start_time": "2021-11-13T19:02:11.218Z"
   },
   {
    "duration": 5,
    "start_time": "2021-11-13T19:02:11.247Z"
   },
   {
    "duration": 5,
    "start_time": "2021-11-13T19:02:11.254Z"
   },
   {
    "duration": 7,
    "start_time": "2021-11-13T19:02:11.261Z"
   },
   {
    "duration": 10,
    "start_time": "2021-11-13T19:02:11.269Z"
   },
   {
    "duration": 7,
    "start_time": "2021-11-13T19:02:11.280Z"
   },
   {
    "duration": 4,
    "start_time": "2021-11-13T19:02:11.289Z"
   },
   {
    "duration": 6,
    "start_time": "2021-11-13T19:02:11.295Z"
   },
   {
    "duration": 60,
    "start_time": "2021-11-13T19:02:11.303Z"
   },
   {
    "duration": 6,
    "start_time": "2021-11-13T19:02:11.365Z"
   },
   {
    "duration": 7,
    "start_time": "2021-11-13T19:02:11.373Z"
   },
   {
    "duration": 15,
    "start_time": "2021-11-13T19:02:11.381Z"
   },
   {
    "duration": 8,
    "start_time": "2021-11-13T19:02:11.398Z"
   },
   {
    "duration": 11,
    "start_time": "2021-11-13T19:02:11.407Z"
   },
   {
    "duration": 4,
    "start_time": "2021-11-13T19:02:11.420Z"
   },
   {
    "duration": 1330,
    "start_time": "2021-11-13T19:05:03.629Z"
   },
   {
    "duration": 304,
    "start_time": "2021-11-13T19:05:04.961Z"
   },
   {
    "duration": 80,
    "start_time": "2021-11-13T19:05:05.267Z"
   },
   {
    "duration": 395,
    "start_time": "2021-11-13T19:05:05.350Z"
   },
   {
    "duration": 20,
    "start_time": "2021-11-13T19:05:05.748Z"
   },
   {
    "duration": 32,
    "start_time": "2021-11-13T19:05:05.771Z"
   },
   {
    "duration": 242,
    "start_time": "2021-11-13T19:05:05.805Z"
   },
   {
    "duration": 10,
    "start_time": "2021-11-13T19:05:06.049Z"
   },
   {
    "duration": 131,
    "start_time": "2021-11-13T19:05:06.063Z"
   },
   {
    "duration": 10,
    "start_time": "2021-11-13T19:05:06.196Z"
   },
   {
    "duration": 18,
    "start_time": "2021-11-13T19:05:06.207Z"
   },
   {
    "duration": 164,
    "start_time": "2021-11-13T19:05:06.226Z"
   },
   {
    "duration": 5,
    "start_time": "2021-11-13T19:05:06.392Z"
   },
   {
    "duration": 24,
    "start_time": "2021-11-13T19:05:06.399Z"
   },
   {
    "duration": 41,
    "start_time": "2021-11-13T19:05:06.424Z"
   },
   {
    "duration": 16,
    "start_time": "2021-11-13T19:05:06.467Z"
   },
   {
    "duration": 284,
    "start_time": "2021-11-13T19:05:06.485Z"
   },
   {
    "duration": 8,
    "start_time": "2021-11-13T19:05:06.771Z"
   },
   {
    "duration": 101,
    "start_time": "2021-11-13T19:05:06.781Z"
   },
   {
    "duration": 2,
    "start_time": "2021-11-13T19:05:06.884Z"
   },
   {
    "duration": 7,
    "start_time": "2021-11-13T19:05:06.888Z"
   },
   {
    "duration": 12,
    "start_time": "2021-11-13T19:05:06.896Z"
   },
   {
    "duration": 4,
    "start_time": "2021-11-13T19:05:06.910Z"
   },
   {
    "duration": 7,
    "start_time": "2021-11-13T19:05:06.916Z"
   },
   {
    "duration": 19,
    "start_time": "2021-11-13T19:05:06.925Z"
   },
   {
    "duration": 9,
    "start_time": "2021-11-13T19:05:06.946Z"
   },
   {
    "duration": 5,
    "start_time": "2021-11-13T19:05:06.961Z"
   },
   {
    "duration": 9,
    "start_time": "2021-11-13T19:05:06.969Z"
   },
   {
    "duration": 15,
    "start_time": "2021-11-13T19:05:06.979Z"
   },
   {
    "duration": 14,
    "start_time": "2021-11-13T19:05:06.995Z"
   },
   {
    "duration": 38,
    "start_time": "2021-11-13T19:05:07.011Z"
   },
   {
    "duration": 23,
    "start_time": "2021-11-13T19:05:07.051Z"
   },
   {
    "duration": 4,
    "start_time": "2021-11-13T19:05:07.076Z"
   },
   {
    "duration": 9,
    "start_time": "2021-11-13T19:05:07.082Z"
   },
   {
    "duration": 7,
    "start_time": "2021-11-13T19:05:07.092Z"
   },
   {
    "duration": 7,
    "start_time": "2021-11-13T19:05:07.101Z"
   },
   {
    "duration": 36,
    "start_time": "2021-11-13T19:05:07.110Z"
   },
   {
    "duration": 6,
    "start_time": "2021-11-13T19:05:07.148Z"
   },
   {
    "duration": 11,
    "start_time": "2021-11-13T19:05:07.156Z"
   },
   {
    "duration": 1365,
    "start_time": "2021-11-13T19:05:07.168Z"
   },
   {
    "duration": 12,
    "start_time": "2021-11-13T19:05:08.534Z"
   },
   {
    "duration": 1410,
    "start_time": "2021-11-13T19:05:08.547Z"
   },
   {
    "duration": 8,
    "start_time": "2021-11-13T19:05:09.961Z"
   },
   {
    "duration": 1592,
    "start_time": "2021-11-13T19:05:09.971Z"
   },
   {
    "duration": 7,
    "start_time": "2021-11-13T19:05:11.565Z"
   },
   {
    "duration": 7,
    "start_time": "2021-11-13T19:05:11.573Z"
   },
   {
    "duration": 296,
    "start_time": "2021-11-13T19:05:11.582Z"
   },
   {
    "duration": 3,
    "start_time": "2021-11-13T19:05:11.879Z"
   },
   {
    "duration": 298,
    "start_time": "2021-11-13T19:05:11.883Z"
   },
   {
    "duration": 5,
    "start_time": "2021-11-13T19:05:12.183Z"
   },
   {
    "duration": 15,
    "start_time": "2021-11-13T19:05:12.190Z"
   },
   {
    "duration": 9,
    "start_time": "2021-11-13T19:05:12.206Z"
   },
   {
    "duration": 5,
    "start_time": "2021-11-13T19:05:12.217Z"
   },
   {
    "duration": 1509,
    "start_time": "2021-11-13T19:05:12.224Z"
   },
   {
    "duration": 12,
    "start_time": "2021-11-13T19:05:13.735Z"
   },
   {
    "duration": 57,
    "start_time": "2021-11-13T19:05:13.749Z"
   },
   {
    "duration": 7,
    "start_time": "2021-11-13T19:05:13.808Z"
   },
   {
    "duration": 1569,
    "start_time": "2021-11-13T19:05:13.816Z"
   },
   {
    "duration": 5,
    "start_time": "2021-11-13T19:05:15.387Z"
   },
   {
    "duration": 6,
    "start_time": "2021-11-13T19:05:15.394Z"
   },
   {
    "duration": 14,
    "start_time": "2021-11-13T19:05:15.403Z"
   },
   {
    "duration": 166,
    "start_time": "2021-11-13T19:05:15.419Z"
   },
   {
    "duration": 10,
    "start_time": "2021-11-13T19:05:15.586Z"
   },
   {
    "duration": 10,
    "start_time": "2021-11-13T19:05:15.597Z"
   },
   {
    "duration": 16,
    "start_time": "2021-11-13T19:05:15.609Z"
   },
   {
    "duration": 18,
    "start_time": "2021-11-13T19:05:15.627Z"
   },
   {
    "duration": 1602,
    "start_time": "2021-11-13T19:05:15.647Z"
   },
   {
    "duration": 3,
    "start_time": "2021-11-13T19:05:17.251Z"
   },
   {
    "duration": 5,
    "start_time": "2021-11-13T19:05:17.256Z"
   },
   {
    "duration": 1077,
    "start_time": "2021-11-13T19:05:17.273Z"
   },
   {
    "duration": 8,
    "start_time": "2021-11-13T19:05:18.352Z"
   },
   {
    "duration": 83,
    "start_time": "2021-11-13T19:05:18.365Z"
   },
   {
    "duration": 8,
    "start_time": "2021-11-13T19:05:18.451Z"
   },
   {
    "duration": 5,
    "start_time": "2021-11-13T19:05:18.461Z"
   },
   {
    "duration": 5,
    "start_time": "2021-11-13T19:05:18.468Z"
   },
   {
    "duration": 253848,
    "start_time": "2021-11-13T19:05:18.474Z"
   },
   {
    "duration": 3110,
    "start_time": "2021-11-13T19:09:32.324Z"
   },
   {
    "duration": 11,
    "start_time": "2021-11-13T19:09:35.435Z"
   },
   {
    "duration": 13,
    "start_time": "2021-11-13T19:09:35.447Z"
   },
   {
    "duration": 12,
    "start_time": "2021-11-13T19:09:35.463Z"
   },
   {
    "duration": 6,
    "start_time": "2021-11-13T19:09:35.481Z"
   },
   {
    "duration": 9,
    "start_time": "2021-11-13T19:09:35.489Z"
   },
   {
    "duration": 18,
    "start_time": "2021-11-13T19:09:35.500Z"
   },
   {
    "duration": 12,
    "start_time": "2021-11-13T19:09:35.519Z"
   },
   {
    "duration": 13,
    "start_time": "2021-11-13T19:09:35.533Z"
   },
   {
    "duration": 28,
    "start_time": "2021-11-13T19:09:35.549Z"
   },
   {
    "duration": 47,
    "start_time": "2021-11-13T19:09:35.578Z"
   },
   {
    "duration": 16,
    "start_time": "2021-11-13T19:09:35.627Z"
   },
   {
    "duration": 27,
    "start_time": "2021-11-13T19:09:35.645Z"
   },
   {
    "duration": 31,
    "start_time": "2021-11-13T19:09:35.674Z"
   },
   {
    "duration": 49,
    "start_time": "2021-11-13T19:09:35.706Z"
   },
   {
    "duration": 12,
    "start_time": "2021-11-13T19:09:35.757Z"
   },
   {
    "duration": 22,
    "start_time": "2021-11-13T19:09:35.771Z"
   },
   {
    "duration": 35,
    "start_time": "2021-11-13T19:09:35.794Z"
   },
   {
    "duration": 85,
    "start_time": "2021-11-13T19:09:35.831Z"
   },
   {
    "duration": 6,
    "start_time": "2021-11-13T19:09:35.918Z"
   },
   {
    "duration": 21,
    "start_time": "2021-11-13T19:09:35.925Z"
   },
   {
    "duration": 42,
    "start_time": "2021-11-13T19:09:35.948Z"
   },
   {
    "duration": 27,
    "start_time": "2021-11-13T19:09:35.992Z"
   },
   {
    "duration": 12,
    "start_time": "2021-11-13T19:09:36.021Z"
   },
   {
    "duration": 9,
    "start_time": "2021-11-13T19:09:36.035Z"
   },
   {
    "duration": 363,
    "start_time": "2021-11-13T19:16:30.987Z"
   },
   {
    "duration": 3,
    "start_time": "2021-11-13T19:17:11.010Z"
   },
   {
    "duration": 3,
    "start_time": "2021-11-13T19:17:13.554Z"
   },
   {
    "duration": 3,
    "start_time": "2021-11-13T19:17:14.587Z"
   },
   {
    "duration": 3,
    "start_time": "2021-11-13T19:17:20.893Z"
   },
   {
    "duration": 1260,
    "start_time": "2021-11-13T19:18:25.824Z"
   },
   {
    "duration": 304,
    "start_time": "2021-11-13T19:18:27.086Z"
   },
   {
    "duration": 89,
    "start_time": "2021-11-13T19:18:27.392Z"
   },
   {
    "duration": 407,
    "start_time": "2021-11-13T19:18:27.483Z"
   },
   {
    "duration": 16,
    "start_time": "2021-11-13T19:18:27.891Z"
   },
   {
    "duration": 22,
    "start_time": "2021-11-13T19:18:27.908Z"
   },
   {
    "duration": 251,
    "start_time": "2021-11-13T19:18:27.945Z"
   },
   {
    "duration": 8,
    "start_time": "2021-11-13T19:18:28.198Z"
   },
   {
    "duration": 126,
    "start_time": "2021-11-13T19:18:28.209Z"
   },
   {
    "duration": 17,
    "start_time": "2021-11-13T19:18:28.337Z"
   },
   {
    "duration": 26,
    "start_time": "2021-11-13T19:18:28.356Z"
   },
   {
    "duration": 159,
    "start_time": "2021-11-13T19:18:28.385Z"
   },
   {
    "duration": 7,
    "start_time": "2021-11-13T19:18:28.546Z"
   },
   {
    "duration": 35,
    "start_time": "2021-11-13T19:18:28.555Z"
   },
   {
    "duration": 20,
    "start_time": "2021-11-13T19:18:28.592Z"
   },
   {
    "duration": 43,
    "start_time": "2021-11-13T19:18:28.614Z"
   },
   {
    "duration": 320,
    "start_time": "2021-11-13T19:18:28.659Z"
   },
   {
    "duration": 8,
    "start_time": "2021-11-13T19:18:28.981Z"
   },
   {
    "duration": 100,
    "start_time": "2021-11-13T19:18:28.991Z"
   },
   {
    "duration": 3,
    "start_time": "2021-11-13T19:18:29.093Z"
   },
   {
    "duration": 9,
    "start_time": "2021-11-13T19:18:29.097Z"
   },
   {
    "duration": 25,
    "start_time": "2021-11-13T19:18:29.108Z"
   },
   {
    "duration": 29,
    "start_time": "2021-11-13T19:18:29.135Z"
   },
   {
    "duration": 12,
    "start_time": "2021-11-13T19:18:29.166Z"
   },
   {
    "duration": 10,
    "start_time": "2021-11-13T19:18:29.180Z"
   },
   {
    "duration": 15,
    "start_time": "2021-11-13T19:18:29.192Z"
   },
   {
    "duration": 14,
    "start_time": "2021-11-13T19:18:29.212Z"
   },
   {
    "duration": 8,
    "start_time": "2021-11-13T19:18:29.228Z"
   },
   {
    "duration": 27,
    "start_time": "2021-11-13T19:18:29.238Z"
   },
   {
    "duration": 18,
    "start_time": "2021-11-13T19:18:29.267Z"
   },
   {
    "duration": 13,
    "start_time": "2021-11-13T19:18:29.287Z"
   },
   {
    "duration": 33,
    "start_time": "2021-11-13T19:18:29.302Z"
   },
   {
    "duration": 4,
    "start_time": "2021-11-13T19:18:29.337Z"
   },
   {
    "duration": 13,
    "start_time": "2021-11-13T19:18:29.343Z"
   },
   {
    "duration": 12,
    "start_time": "2021-11-13T19:18:29.358Z"
   },
   {
    "duration": 25,
    "start_time": "2021-11-13T19:18:29.372Z"
   },
   {
    "duration": 20,
    "start_time": "2021-11-13T19:18:29.399Z"
   },
   {
    "duration": 10,
    "start_time": "2021-11-13T19:18:29.420Z"
   },
   {
    "duration": 16,
    "start_time": "2021-11-13T19:18:29.431Z"
   },
   {
    "duration": 1534,
    "start_time": "2021-11-13T19:18:29.449Z"
   },
   {
    "duration": 8,
    "start_time": "2021-11-13T19:18:30.985Z"
   },
   {
    "duration": 1459,
    "start_time": "2021-11-13T19:18:30.995Z"
   },
   {
    "duration": 5,
    "start_time": "2021-11-13T19:18:32.456Z"
   },
   {
    "duration": 1530,
    "start_time": "2021-11-13T19:18:32.462Z"
   },
   {
    "duration": 6,
    "start_time": "2021-11-13T19:18:33.994Z"
   },
   {
    "duration": 9,
    "start_time": "2021-11-13T19:18:34.001Z"
   },
   {
    "duration": 309,
    "start_time": "2021-11-13T19:18:34.011Z"
   },
   {
    "duration": 3,
    "start_time": "2021-11-13T19:18:34.321Z"
   },
   {
    "duration": 316,
    "start_time": "2021-11-13T19:18:34.325Z"
   },
   {
    "duration": 6,
    "start_time": "2021-11-13T19:18:34.648Z"
   },
   {
    "duration": 21,
    "start_time": "2021-11-13T19:18:34.656Z"
   },
   {
    "duration": 23,
    "start_time": "2021-11-13T19:18:34.679Z"
   },
   {
    "duration": 10,
    "start_time": "2021-11-13T19:18:34.705Z"
   },
   {
    "duration": 1635,
    "start_time": "2021-11-13T19:18:34.717Z"
   },
   {
    "duration": 6,
    "start_time": "2021-11-13T19:18:36.354Z"
   },
   {
    "duration": 81,
    "start_time": "2021-11-13T19:18:36.363Z"
   },
   {
    "duration": 10,
    "start_time": "2021-11-13T19:18:36.446Z"
   },
   {
    "duration": 1496,
    "start_time": "2021-11-13T19:18:36.458Z"
   },
   {
    "duration": 5,
    "start_time": "2021-11-13T19:18:37.956Z"
   },
   {
    "duration": 9,
    "start_time": "2021-11-13T19:18:37.963Z"
   },
   {
    "duration": 11,
    "start_time": "2021-11-13T19:18:37.974Z"
   },
   {
    "duration": 179,
    "start_time": "2021-11-13T19:18:37.987Z"
   },
   {
    "duration": 10,
    "start_time": "2021-11-13T19:18:38.169Z"
   },
   {
    "duration": 7,
    "start_time": "2021-11-13T19:18:38.181Z"
   },
   {
    "duration": 15,
    "start_time": "2021-11-13T19:18:38.189Z"
   },
   {
    "duration": 2,
    "start_time": "2021-11-13T19:18:38.206Z"
   },
   {
    "duration": 1562,
    "start_time": "2021-11-13T19:18:38.210Z"
   },
   {
    "duration": 7,
    "start_time": "2021-11-13T19:18:39.845Z"
   },
   {
    "duration": 6,
    "start_time": "2021-11-13T19:18:39.859Z"
   },
   {
    "duration": 1978,
    "start_time": "2021-11-13T19:18:39.867Z"
   },
   {
    "duration": 5,
    "start_time": "2021-11-13T19:18:41.847Z"
   },
   {
    "duration": 27,
    "start_time": "2021-11-13T19:18:41.854Z"
   },
   {
    "duration": 21,
    "start_time": "2021-11-13T19:18:41.883Z"
   },
   {
    "duration": 16,
    "start_time": "2021-11-13T19:18:41.906Z"
   },
   {
    "duration": 10,
    "start_time": "2021-11-13T19:18:41.924Z"
   },
   {
    "duration": 248596,
    "start_time": "2021-11-13T19:18:41.935Z"
   },
   {
    "duration": 3995,
    "start_time": "2021-11-13T19:22:50.533Z"
   },
   {
    "duration": 4,
    "start_time": "2021-11-13T19:22:54.530Z"
   },
   {
    "duration": 8,
    "start_time": "2021-11-13T19:22:54.545Z"
   },
   {
    "duration": 22,
    "start_time": "2021-11-13T19:22:54.554Z"
   },
   {
    "duration": 12,
    "start_time": "2021-11-13T19:22:54.583Z"
   },
   {
    "duration": 14,
    "start_time": "2021-11-13T19:22:54.598Z"
   },
   {
    "duration": 26,
    "start_time": "2021-11-13T19:22:54.614Z"
   },
   {
    "duration": 27,
    "start_time": "2021-11-13T19:22:54.642Z"
   },
   {
    "duration": 9,
    "start_time": "2021-11-13T19:22:54.671Z"
   },
   {
    "duration": 6,
    "start_time": "2021-11-13T19:22:54.682Z"
   },
   {
    "duration": 15,
    "start_time": "2021-11-13T19:22:54.690Z"
   },
   {
    "duration": 37,
    "start_time": "2021-11-13T19:22:54.708Z"
   },
   {
    "duration": 37,
    "start_time": "2021-11-13T19:22:54.747Z"
   },
   {
    "duration": 24,
    "start_time": "2021-11-13T19:22:54.785Z"
   },
   {
    "duration": 19,
    "start_time": "2021-11-13T19:22:54.811Z"
   },
   {
    "duration": 8,
    "start_time": "2021-11-13T19:22:54.833Z"
   },
   {
    "duration": 8,
    "start_time": "2021-11-13T19:22:54.842Z"
   },
   {
    "duration": 7,
    "start_time": "2021-11-13T19:22:54.852Z"
   },
   {
    "duration": 49,
    "start_time": "2021-11-13T19:22:54.861Z"
   },
   {
    "duration": 4,
    "start_time": "2021-11-13T19:22:54.912Z"
   },
   {
    "duration": 5,
    "start_time": "2021-11-13T19:22:54.918Z"
   },
   {
    "duration": 7,
    "start_time": "2021-11-13T19:22:54.925Z"
   },
   {
    "duration": 4,
    "start_time": "2021-11-13T19:22:54.933Z"
   },
   {
    "duration": 7,
    "start_time": "2021-11-13T19:22:54.944Z"
   },
   {
    "duration": 4,
    "start_time": "2021-11-13T19:22:54.953Z"
   },
   {
    "duration": 1214,
    "start_time": "2021-11-13T19:55:42.455Z"
   },
   {
    "duration": 289,
    "start_time": "2021-11-13T19:55:43.671Z"
   },
   {
    "duration": 82,
    "start_time": "2021-11-13T19:55:43.962Z"
   },
   {
    "duration": 402,
    "start_time": "2021-11-13T19:55:44.047Z"
   },
   {
    "duration": 18,
    "start_time": "2021-11-13T19:55:44.452Z"
   },
   {
    "duration": 30,
    "start_time": "2021-11-13T19:55:44.473Z"
   },
   {
    "duration": 281,
    "start_time": "2021-11-13T19:55:44.505Z"
   },
   {
    "duration": 8,
    "start_time": "2021-11-13T19:55:44.788Z"
   },
   {
    "duration": 120,
    "start_time": "2021-11-13T19:55:44.798Z"
   },
   {
    "duration": 9,
    "start_time": "2021-11-13T19:55:44.920Z"
   },
   {
    "duration": 33,
    "start_time": "2021-11-13T19:55:44.931Z"
   },
   {
    "duration": 132,
    "start_time": "2021-11-13T19:55:44.966Z"
   },
   {
    "duration": 5,
    "start_time": "2021-11-13T19:55:45.099Z"
   },
   {
    "duration": 19,
    "start_time": "2021-11-13T19:55:45.106Z"
   },
   {
    "duration": 38,
    "start_time": "2021-11-13T19:55:45.127Z"
   },
   {
    "duration": 17,
    "start_time": "2021-11-13T19:55:45.167Z"
   },
   {
    "duration": 253,
    "start_time": "2021-11-13T19:55:45.186Z"
   },
   {
    "duration": 12,
    "start_time": "2021-11-13T19:55:45.445Z"
   },
   {
    "duration": 90,
    "start_time": "2021-11-13T19:55:45.460Z"
   },
   {
    "duration": 4,
    "start_time": "2021-11-13T19:55:45.552Z"
   },
   {
    "duration": 5,
    "start_time": "2021-11-13T19:55:45.558Z"
   },
   {
    "duration": 14,
    "start_time": "2021-11-13T19:55:45.565Z"
   },
   {
    "duration": 5,
    "start_time": "2021-11-13T19:55:45.582Z"
   },
   {
    "duration": 5,
    "start_time": "2021-11-13T19:55:45.589Z"
   },
   {
    "duration": 12,
    "start_time": "2021-11-13T19:55:45.596Z"
   },
   {
    "duration": 8,
    "start_time": "2021-11-13T19:55:45.609Z"
   },
   {
    "duration": 14,
    "start_time": "2021-11-13T19:55:45.619Z"
   },
   {
    "duration": 13,
    "start_time": "2021-11-13T19:55:45.644Z"
   },
   {
    "duration": 20,
    "start_time": "2021-11-13T19:55:45.659Z"
   },
   {
    "duration": 20,
    "start_time": "2021-11-13T19:55:45.681Z"
   },
   {
    "duration": 5,
    "start_time": "2021-11-13T19:55:45.702Z"
   },
   {
    "duration": 42,
    "start_time": "2021-11-13T19:55:45.709Z"
   },
   {
    "duration": 5,
    "start_time": "2021-11-13T19:55:45.753Z"
   },
   {
    "duration": 18,
    "start_time": "2021-11-13T19:55:45.760Z"
   },
   {
    "duration": 11,
    "start_time": "2021-11-13T19:55:45.780Z"
   },
   {
    "duration": 18,
    "start_time": "2021-11-13T19:55:45.792Z"
   },
   {
    "duration": 17,
    "start_time": "2021-11-13T19:55:45.811Z"
   },
   {
    "duration": 10,
    "start_time": "2021-11-13T19:55:45.829Z"
   },
   {
    "duration": 34,
    "start_time": "2021-11-13T19:55:45.841Z"
   },
   {
    "duration": 1379,
    "start_time": "2021-11-13T19:55:45.877Z"
   },
   {
    "duration": 7,
    "start_time": "2021-11-13T19:55:47.258Z"
   },
   {
    "duration": 1409,
    "start_time": "2021-11-13T19:55:47.267Z"
   },
   {
    "duration": 5,
    "start_time": "2021-11-13T19:55:48.678Z"
   },
   {
    "duration": 1502,
    "start_time": "2021-11-13T19:55:48.685Z"
   },
   {
    "duration": 7,
    "start_time": "2021-11-13T19:55:50.189Z"
   },
   {
    "duration": 6,
    "start_time": "2021-11-13T19:55:50.197Z"
   },
   {
    "duration": 285,
    "start_time": "2021-11-13T19:55:50.204Z"
   },
   {
    "duration": 3,
    "start_time": "2021-11-13T19:55:50.491Z"
   },
   {
    "duration": 295,
    "start_time": "2021-11-13T19:55:50.496Z"
   },
   {
    "duration": 5,
    "start_time": "2021-11-13T19:55:50.793Z"
   },
   {
    "duration": 6,
    "start_time": "2021-11-13T19:55:50.800Z"
   },
   {
    "duration": 8,
    "start_time": "2021-11-13T19:55:50.807Z"
   },
   {
    "duration": 8,
    "start_time": "2021-11-13T19:55:50.816Z"
   },
   {
    "duration": 1631,
    "start_time": "2021-11-13T19:55:50.826Z"
   },
   {
    "duration": 6,
    "start_time": "2021-11-13T19:55:52.459Z"
   },
   {
    "duration": 53,
    "start_time": "2021-11-13T19:55:52.467Z"
   },
   {
    "duration": 21,
    "start_time": "2021-11-13T19:55:52.523Z"
   },
   {
    "duration": 1371,
    "start_time": "2021-11-13T19:55:52.546Z"
   },
   {
    "duration": 5,
    "start_time": "2021-11-13T19:55:53.919Z"
   },
   {
    "duration": 7,
    "start_time": "2021-11-13T19:55:53.925Z"
   },
   {
    "duration": 9,
    "start_time": "2021-11-13T19:55:53.945Z"
   },
   {
    "duration": 159,
    "start_time": "2021-11-13T19:55:53.956Z"
   },
   {
    "duration": 10,
    "start_time": "2021-11-13T19:55:54.117Z"
   },
   {
    "duration": 21,
    "start_time": "2021-11-13T19:55:54.129Z"
   },
   {
    "duration": 18,
    "start_time": "2021-11-13T19:55:54.153Z"
   },
   {
    "duration": 7,
    "start_time": "2021-11-13T19:55:54.173Z"
   },
   {
    "duration": 1866,
    "start_time": "2021-11-13T19:55:54.181Z"
   },
   {
    "duration": 4,
    "start_time": "2021-11-13T19:55:56.055Z"
   },
   {
    "duration": 14,
    "start_time": "2021-11-13T19:55:56.062Z"
   },
   {
    "duration": 1373,
    "start_time": "2021-11-13T19:55:56.078Z"
   },
   {
    "duration": 4,
    "start_time": "2021-11-13T19:55:57.454Z"
   },
   {
    "duration": 98,
    "start_time": "2021-11-13T19:55:57.460Z"
   },
   {
    "duration": 20,
    "start_time": "2021-11-13T19:55:57.564Z"
   },
   {
    "duration": 28,
    "start_time": "2021-11-13T19:55:57.586Z"
   },
   {
    "duration": 23,
    "start_time": "2021-11-13T19:55:57.616Z"
   },
   {
    "duration": 428052,
    "start_time": "2021-11-13T19:55:57.641Z"
   },
   {
    "duration": 3838,
    "start_time": "2021-11-13T20:03:05.695Z"
   },
   {
    "duration": 13,
    "start_time": "2021-11-13T20:03:09.536Z"
   },
   {
    "duration": 8,
    "start_time": "2021-11-13T20:03:09.552Z"
   },
   {
    "duration": 6,
    "start_time": "2021-11-13T20:03:09.562Z"
   },
   {
    "duration": 5,
    "start_time": "2021-11-13T20:03:09.570Z"
   },
   {
    "duration": 6,
    "start_time": "2021-11-13T20:03:09.577Z"
   },
   {
    "duration": 7,
    "start_time": "2021-11-13T20:03:09.584Z"
   },
   {
    "duration": 6,
    "start_time": "2021-11-13T20:03:09.592Z"
   },
   {
    "duration": 7,
    "start_time": "2021-11-13T20:03:09.599Z"
   },
   {
    "duration": 37,
    "start_time": "2021-11-13T20:03:09.608Z"
   },
   {
    "duration": 11,
    "start_time": "2021-11-13T20:03:09.648Z"
   },
   {
    "duration": 6,
    "start_time": "2021-11-13T20:03:09.661Z"
   },
   {
    "duration": 9,
    "start_time": "2021-11-13T20:03:09.668Z"
   },
   {
    "duration": 7,
    "start_time": "2021-11-13T20:03:09.679Z"
   },
   {
    "duration": 7,
    "start_time": "2021-11-13T20:03:09.687Z"
   },
   {
    "duration": 7,
    "start_time": "2021-11-13T20:03:09.695Z"
   },
   {
    "duration": 6,
    "start_time": "2021-11-13T20:03:09.704Z"
   },
   {
    "duration": 6,
    "start_time": "2021-11-13T20:03:09.711Z"
   },
   {
    "duration": 64,
    "start_time": "2021-11-13T20:03:09.718Z"
   },
   {
    "duration": 6,
    "start_time": "2021-11-13T20:03:09.784Z"
   },
   {
    "duration": 4,
    "start_time": "2021-11-13T20:03:09.791Z"
   },
   {
    "duration": 9,
    "start_time": "2021-11-13T20:03:09.796Z"
   },
   {
    "duration": 3,
    "start_time": "2021-11-13T20:03:09.807Z"
   },
   {
    "duration": 7,
    "start_time": "2021-11-13T20:03:09.812Z"
   },
   {
    "duration": 26,
    "start_time": "2021-11-13T20:03:09.821Z"
   },
   {
    "duration": 1247,
    "start_time": "2021-11-13T20:07:39.635Z"
   },
   {
    "duration": 309,
    "start_time": "2021-11-13T20:07:40.885Z"
   },
   {
    "duration": 81,
    "start_time": "2021-11-13T20:07:41.196Z"
   },
   {
    "duration": 376,
    "start_time": "2021-11-13T20:07:41.280Z"
   },
   {
    "duration": 15,
    "start_time": "2021-11-13T20:07:41.658Z"
   },
   {
    "duration": 24,
    "start_time": "2021-11-13T20:07:41.675Z"
   },
   {
    "duration": 260,
    "start_time": "2021-11-13T20:07:41.701Z"
   },
   {
    "duration": 7,
    "start_time": "2021-11-13T20:07:41.963Z"
   },
   {
    "duration": 120,
    "start_time": "2021-11-13T20:07:41.972Z"
   },
   {
    "duration": 9,
    "start_time": "2021-11-13T20:07:42.094Z"
   },
   {
    "duration": 17,
    "start_time": "2021-11-13T20:07:42.105Z"
   },
   {
    "duration": 145,
    "start_time": "2021-11-13T20:07:42.124Z"
   },
   {
    "duration": 5,
    "start_time": "2021-11-13T20:07:42.271Z"
   },
   {
    "duration": 46,
    "start_time": "2021-11-13T20:07:42.278Z"
   },
   {
    "duration": 17,
    "start_time": "2021-11-13T20:07:42.326Z"
   },
   {
    "duration": 28,
    "start_time": "2021-11-13T20:07:42.345Z"
   },
   {
    "duration": 237,
    "start_time": "2021-11-13T20:07:42.374Z"
   },
   {
    "duration": 8,
    "start_time": "2021-11-13T20:07:42.613Z"
   },
   {
    "duration": 99,
    "start_time": "2021-11-13T20:07:42.623Z"
   },
   {
    "duration": 3,
    "start_time": "2021-11-13T20:07:42.724Z"
   },
   {
    "duration": 8,
    "start_time": "2021-11-13T20:07:42.730Z"
   },
   {
    "duration": 14,
    "start_time": "2021-11-13T20:07:42.745Z"
   },
   {
    "duration": 4,
    "start_time": "2021-11-13T20:07:42.761Z"
   },
   {
    "duration": 19,
    "start_time": "2021-11-13T20:07:42.766Z"
   },
   {
    "duration": 4,
    "start_time": "2021-11-13T20:07:42.787Z"
   },
   {
    "duration": 13,
    "start_time": "2021-11-13T20:07:42.793Z"
   },
   {
    "duration": 16,
    "start_time": "2021-11-13T20:07:42.811Z"
   },
   {
    "duration": 46,
    "start_time": "2021-11-13T20:07:42.830Z"
   },
   {
    "duration": 26,
    "start_time": "2021-11-13T20:07:42.878Z"
   },
   {
    "duration": 29,
    "start_time": "2021-11-13T20:07:42.905Z"
   },
   {
    "duration": 14,
    "start_time": "2021-11-13T20:07:42.935Z"
   },
   {
    "duration": 47,
    "start_time": "2021-11-13T20:07:42.951Z"
   },
   {
    "duration": 21,
    "start_time": "2021-11-13T20:07:43.000Z"
   },
   {
    "duration": 17,
    "start_time": "2021-11-13T20:07:43.023Z"
   },
   {
    "duration": 20,
    "start_time": "2021-11-13T20:07:43.042Z"
   },
   {
    "duration": 24,
    "start_time": "2021-11-13T20:07:43.064Z"
   },
   {
    "duration": 18,
    "start_time": "2021-11-13T20:07:43.090Z"
   },
   {
    "duration": 10,
    "start_time": "2021-11-13T20:07:43.110Z"
   },
   {
    "duration": 21,
    "start_time": "2021-11-13T20:07:43.122Z"
   },
   {
    "duration": 1420,
    "start_time": "2021-11-13T20:07:43.146Z"
   },
   {
    "duration": 7,
    "start_time": "2021-11-13T20:07:44.568Z"
   },
   {
    "duration": 1389,
    "start_time": "2021-11-13T20:07:44.577Z"
   },
   {
    "duration": 6,
    "start_time": "2021-11-13T20:07:45.968Z"
   },
   {
    "duration": 1565,
    "start_time": "2021-11-13T20:07:45.976Z"
   },
   {
    "duration": 7,
    "start_time": "2021-11-13T20:07:47.545Z"
   },
   {
    "duration": 4,
    "start_time": "2021-11-13T20:07:47.554Z"
   },
   {
    "duration": 290,
    "start_time": "2021-11-13T20:07:47.561Z"
   },
   {
    "duration": 2,
    "start_time": "2021-11-13T20:07:47.853Z"
   },
   {
    "duration": 290,
    "start_time": "2021-11-13T20:07:47.858Z"
   },
   {
    "duration": 4,
    "start_time": "2021-11-13T20:07:48.150Z"
   },
   {
    "duration": 9,
    "start_time": "2021-11-13T20:07:48.157Z"
   },
   {
    "duration": 13,
    "start_time": "2021-11-13T20:07:48.168Z"
   },
   {
    "duration": 6,
    "start_time": "2021-11-13T20:07:48.183Z"
   },
   {
    "duration": 1526,
    "start_time": "2021-11-13T20:07:48.191Z"
   },
   {
    "duration": 5,
    "start_time": "2021-11-13T20:07:49.719Z"
   },
   {
    "duration": 69,
    "start_time": "2021-11-13T20:07:49.725Z"
   },
   {
    "duration": 8,
    "start_time": "2021-11-13T20:07:49.795Z"
   },
   {
    "duration": 1423,
    "start_time": "2021-11-13T20:07:49.804Z"
   },
   {
    "duration": 4,
    "start_time": "2021-11-13T20:07:51.228Z"
   },
   {
    "duration": 11,
    "start_time": "2021-11-13T20:07:51.234Z"
   },
   {
    "duration": 17,
    "start_time": "2021-11-13T20:07:51.247Z"
   },
   {
    "duration": 155,
    "start_time": "2021-11-13T20:07:51.266Z"
   },
   {
    "duration": 9,
    "start_time": "2021-11-13T20:07:51.422Z"
   },
   {
    "duration": 13,
    "start_time": "2021-11-13T20:07:51.433Z"
   },
   {
    "duration": 26,
    "start_time": "2021-11-13T20:07:51.448Z"
   },
   {
    "duration": 5,
    "start_time": "2021-11-13T20:07:51.475Z"
   },
   {
    "duration": 1362,
    "start_time": "2021-11-13T20:07:51.482Z"
   },
   {
    "duration": 5,
    "start_time": "2021-11-13T20:07:52.847Z"
   },
   {
    "duration": 26,
    "start_time": "2021-11-13T20:07:52.854Z"
   },
   {
    "duration": 1172,
    "start_time": "2021-11-13T20:07:52.882Z"
   },
   {
    "duration": 85,
    "start_time": "2021-11-13T20:07:54.063Z"
   },
   {
    "duration": 16,
    "start_time": "2021-11-13T20:07:54.150Z"
   },
   {
    "duration": 15,
    "start_time": "2021-11-13T20:07:54.168Z"
   },
   {
    "duration": 23,
    "start_time": "2021-11-13T20:07:54.184Z"
   },
   {
    "duration": 6,
    "start_time": "2021-11-13T20:07:54.209Z"
   },
   {
    "duration": 420068,
    "start_time": "2021-11-13T20:07:54.216Z"
   },
   {
    "duration": 3564,
    "start_time": "2021-11-13T20:14:54.285Z"
   },
   {
    "duration": 5,
    "start_time": "2021-11-13T20:14:57.850Z"
   },
   {
    "duration": 7,
    "start_time": "2021-11-13T20:14:57.857Z"
   },
   {
    "duration": 5,
    "start_time": "2021-11-13T20:14:57.866Z"
   },
   {
    "duration": 3,
    "start_time": "2021-11-13T20:14:57.877Z"
   },
   {
    "duration": 5,
    "start_time": "2021-11-13T20:14:57.882Z"
   },
   {
    "duration": 7,
    "start_time": "2021-11-13T20:14:57.888Z"
   },
   {
    "duration": 7,
    "start_time": "2021-11-13T20:14:57.896Z"
   },
   {
    "duration": 42,
    "start_time": "2021-11-13T20:14:57.904Z"
   },
   {
    "duration": 4,
    "start_time": "2021-11-13T20:14:57.947Z"
   },
   {
    "duration": 6,
    "start_time": "2021-11-13T20:14:57.953Z"
   },
   {
    "duration": 5,
    "start_time": "2021-11-13T20:14:57.960Z"
   },
   {
    "duration": 4,
    "start_time": "2021-11-13T20:14:57.966Z"
   },
   {
    "duration": 10,
    "start_time": "2021-11-13T20:14:57.971Z"
   },
   {
    "duration": 17,
    "start_time": "2021-11-13T20:14:57.982Z"
   },
   {
    "duration": 16,
    "start_time": "2021-11-13T20:14:58.000Z"
   },
   {
    "duration": 8,
    "start_time": "2021-11-13T20:14:58.017Z"
   },
   {
    "duration": 21,
    "start_time": "2021-11-13T20:14:58.026Z"
   },
   {
    "duration": 65,
    "start_time": "2021-11-13T20:14:58.049Z"
   },
   {
    "duration": 5,
    "start_time": "2021-11-13T20:14:58.116Z"
   },
   {
    "duration": 9,
    "start_time": "2021-11-13T20:14:58.122Z"
   },
   {
    "duration": 11,
    "start_time": "2021-11-13T20:14:58.133Z"
   },
   {
    "duration": 7,
    "start_time": "2021-11-13T20:14:58.145Z"
   },
   {
    "duration": 8,
    "start_time": "2021-11-13T20:14:58.153Z"
   },
   {
    "duration": 12,
    "start_time": "2021-11-13T20:14:58.162Z"
   },
   {
    "duration": 1232,
    "start_time": "2021-11-13T20:27:51.717Z"
   },
   {
    "duration": 292,
    "start_time": "2021-11-13T20:27:52.951Z"
   },
   {
    "duration": 82,
    "start_time": "2021-11-13T20:27:53.245Z"
   },
   {
    "duration": 395,
    "start_time": "2021-11-13T20:27:53.329Z"
   },
   {
    "duration": 26,
    "start_time": "2021-11-13T20:27:53.726Z"
   },
   {
    "duration": 20,
    "start_time": "2021-11-13T20:27:53.754Z"
   },
   {
    "duration": 245,
    "start_time": "2021-11-13T20:27:53.775Z"
   },
   {
    "duration": 8,
    "start_time": "2021-11-13T20:27:54.022Z"
   },
   {
    "duration": 119,
    "start_time": "2021-11-13T20:27:54.032Z"
   },
   {
    "duration": 10,
    "start_time": "2021-11-13T20:27:54.153Z"
   },
   {
    "duration": 17,
    "start_time": "2021-11-13T20:27:54.165Z"
   },
   {
    "duration": 143,
    "start_time": "2021-11-13T20:27:54.184Z"
   },
   {
    "duration": 6,
    "start_time": "2021-11-13T20:27:54.329Z"
   },
   {
    "duration": 28,
    "start_time": "2021-11-13T20:27:54.345Z"
   },
   {
    "duration": 25,
    "start_time": "2021-11-13T20:27:54.375Z"
   },
   {
    "duration": 17,
    "start_time": "2021-11-13T20:27:54.402Z"
   },
   {
    "duration": 239,
    "start_time": "2021-11-13T20:27:54.445Z"
   },
   {
    "duration": 9,
    "start_time": "2021-11-13T20:27:54.686Z"
   },
   {
    "duration": 96,
    "start_time": "2021-11-13T20:27:54.696Z"
   },
   {
    "duration": 2,
    "start_time": "2021-11-13T20:27:54.794Z"
   },
   {
    "duration": 12,
    "start_time": "2021-11-13T20:27:54.798Z"
   },
   {
    "duration": 4,
    "start_time": "2021-11-13T20:27:54.812Z"
   },
   {
    "duration": 9,
    "start_time": "2021-11-13T20:27:54.817Z"
   },
   {
    "duration": 16,
    "start_time": "2021-11-13T20:27:54.828Z"
   },
   {
    "duration": 11,
    "start_time": "2021-11-13T20:27:54.846Z"
   },
   {
    "duration": 7,
    "start_time": "2021-11-13T20:27:54.859Z"
   },
   {
    "duration": 26,
    "start_time": "2021-11-13T20:27:54.870Z"
   },
   {
    "duration": 15,
    "start_time": "2021-11-13T20:27:54.898Z"
   },
   {
    "duration": 18,
    "start_time": "2021-11-13T20:27:54.914Z"
   },
   {
    "duration": 5,
    "start_time": "2021-11-13T20:27:54.934Z"
   },
   {
    "duration": 25,
    "start_time": "2021-11-13T20:27:54.941Z"
   },
   {
    "duration": 4,
    "start_time": "2021-11-13T20:27:54.968Z"
   },
   {
    "duration": 12,
    "start_time": "2021-11-13T20:27:54.973Z"
   },
   {
    "duration": 10,
    "start_time": "2021-11-13T20:27:54.986Z"
   },
   {
    "duration": 19,
    "start_time": "2021-11-13T20:27:54.998Z"
   },
   {
    "duration": 14,
    "start_time": "2021-11-13T20:27:55.019Z"
   },
   {
    "duration": 11,
    "start_time": "2021-11-13T20:27:55.035Z"
   },
   {
    "duration": 19,
    "start_time": "2021-11-13T20:27:55.048Z"
   },
   {
    "duration": 1328,
    "start_time": "2021-11-13T20:27:55.069Z"
   },
   {
    "duration": 6,
    "start_time": "2021-11-13T20:27:56.399Z"
   },
   {
    "duration": 1279,
    "start_time": "2021-11-13T20:27:56.406Z"
   },
   {
    "duration": 6,
    "start_time": "2021-11-13T20:27:57.687Z"
   },
   {
    "duration": 1407,
    "start_time": "2021-11-13T20:27:57.694Z"
   },
   {
    "duration": 7,
    "start_time": "2021-11-13T20:27:59.103Z"
   },
   {
    "duration": 276,
    "start_time": "2021-11-13T20:27:59.112Z"
   },
   {
    "duration": 283,
    "start_time": "2021-11-13T20:27:59.390Z"
   },
   {
    "duration": 4,
    "start_time": "2021-11-13T20:27:59.675Z"
   },
   {
    "duration": 8,
    "start_time": "2021-11-13T20:27:59.680Z"
   },
   {
    "duration": 10,
    "start_time": "2021-11-13T20:27:59.690Z"
   },
   {
    "duration": 7,
    "start_time": "2021-11-13T20:27:59.702Z"
   },
   {
    "duration": 1442,
    "start_time": "2021-11-13T20:27:59.711Z"
   },
   {
    "duration": 4,
    "start_time": "2021-11-13T20:28:01.154Z"
   },
   {
    "duration": 54,
    "start_time": "2021-11-13T20:28:01.160Z"
   },
   {
    "duration": 6,
    "start_time": "2021-11-13T20:28:01.216Z"
   },
   {
    "duration": 1377,
    "start_time": "2021-11-13T20:28:01.224Z"
   },
   {
    "duration": 3,
    "start_time": "2021-11-13T20:28:02.603Z"
   },
   {
    "duration": 14,
    "start_time": "2021-11-13T20:28:02.607Z"
   },
   {
    "duration": 19,
    "start_time": "2021-11-13T20:28:02.622Z"
   },
   {
    "duration": 147,
    "start_time": "2021-11-13T20:28:02.643Z"
   },
   {
    "duration": 10,
    "start_time": "2021-11-13T20:28:02.791Z"
   },
   {
    "duration": 7,
    "start_time": "2021-11-13T20:28:02.803Z"
   },
   {
    "duration": 11,
    "start_time": "2021-11-13T20:28:02.811Z"
   },
   {
    "duration": 2,
    "start_time": "2021-11-13T20:28:02.824Z"
   },
   {
    "duration": 1302,
    "start_time": "2021-11-13T20:28:02.844Z"
   },
   {
    "duration": 4,
    "start_time": "2021-11-13T20:28:04.148Z"
   },
   {
    "duration": 91,
    "start_time": "2021-11-13T20:28:04.154Z"
   },
   {
    "duration": 1099,
    "start_time": "2021-11-13T20:28:04.246Z"
   },
   {
    "duration": 4,
    "start_time": "2021-11-13T20:28:05.347Z"
   },
   {
    "duration": 6,
    "start_time": "2021-11-13T20:28:05.354Z"
   },
   {
    "duration": 86,
    "start_time": "2021-11-13T20:28:05.362Z"
   },
   {
    "duration": 6,
    "start_time": "2021-11-13T20:28:05.450Z"
   },
   {
    "duration": 10,
    "start_time": "2021-11-13T20:28:05.458Z"
   },
   {
    "duration": 396481,
    "start_time": "2021-11-13T20:28:05.470Z"
   },
   {
    "duration": 3487,
    "start_time": "2021-11-13T20:34:41.953Z"
   },
   {
    "duration": 6,
    "start_time": "2021-11-13T20:34:45.445Z"
   },
   {
    "duration": 27,
    "start_time": "2021-11-13T20:34:45.453Z"
   },
   {
    "duration": 26,
    "start_time": "2021-11-13T20:34:45.482Z"
   },
   {
    "duration": 26,
    "start_time": "2021-11-13T20:34:45.509Z"
   },
   {
    "duration": 25,
    "start_time": "2021-11-13T20:34:45.536Z"
   },
   {
    "duration": 32,
    "start_time": "2021-11-13T20:34:45.563Z"
   },
   {
    "duration": 30,
    "start_time": "2021-11-13T20:34:45.600Z"
   },
   {
    "duration": 23,
    "start_time": "2021-11-13T20:34:45.633Z"
   },
   {
    "duration": 11,
    "start_time": "2021-11-13T20:34:45.657Z"
   },
   {
    "duration": 29,
    "start_time": "2021-11-13T20:34:45.670Z"
   },
   {
    "duration": 25,
    "start_time": "2021-11-13T20:34:45.701Z"
   },
   {
    "duration": 25,
    "start_time": "2021-11-13T20:34:45.728Z"
   },
   {
    "duration": 25,
    "start_time": "2021-11-13T20:34:45.755Z"
   },
   {
    "duration": 18,
    "start_time": "2021-11-13T20:34:45.782Z"
   },
   {
    "duration": 22,
    "start_time": "2021-11-13T20:34:45.802Z"
   },
   {
    "duration": 23,
    "start_time": "2021-11-13T20:34:45.826Z"
   },
   {
    "duration": 46,
    "start_time": "2021-11-13T20:34:45.851Z"
   },
   {
    "duration": 69,
    "start_time": "2021-11-13T20:34:45.899Z"
   },
   {
    "duration": 5,
    "start_time": "2021-11-13T20:34:45.970Z"
   },
   {
    "duration": 15,
    "start_time": "2021-11-13T20:34:45.976Z"
   },
   {
    "duration": 25,
    "start_time": "2021-11-13T20:34:45.993Z"
   },
   {
    "duration": 33,
    "start_time": "2021-11-13T20:34:46.019Z"
   },
   {
    "duration": 20,
    "start_time": "2021-11-13T20:34:46.054Z"
   },
   {
    "duration": 18,
    "start_time": "2021-11-13T20:34:46.076Z"
   },
   {
    "duration": 3,
    "start_time": "2021-11-13T20:42:39.223Z"
   },
   {
    "duration": 102,
    "start_time": "2021-11-13T20:43:48.068Z"
   },
   {
    "duration": 89,
    "start_time": "2021-11-13T20:44:27.985Z"
   },
   {
    "duration": 4,
    "start_time": "2021-11-13T20:44:54.866Z"
   },
   {
    "duration": 160,
    "start_time": "2021-11-13T20:45:29.415Z"
   },
   {
    "duration": 4,
    "start_time": "2021-11-13T20:45:47.294Z"
   },
   {
    "duration": 3,
    "start_time": "2021-11-13T20:48:28.886Z"
   },
   {
    "duration": 4,
    "start_time": "2021-11-13T20:48:49.801Z"
   },
   {
    "duration": 3,
    "start_time": "2021-11-13T20:52:23.531Z"
   },
   {
    "duration": 4,
    "start_time": "2021-11-13T20:52:24.432Z"
   },
   {
    "duration": 1207,
    "start_time": "2021-11-13T20:54:18.944Z"
   },
   {
    "duration": 272,
    "start_time": "2021-11-13T20:54:20.153Z"
   },
   {
    "duration": 80,
    "start_time": "2021-11-13T20:54:20.428Z"
   },
   {
    "duration": 346,
    "start_time": "2021-11-13T20:54:20.510Z"
   },
   {
    "duration": 14,
    "start_time": "2021-11-13T20:54:20.858Z"
   },
   {
    "duration": 20,
    "start_time": "2021-11-13T20:54:20.874Z"
   },
   {
    "duration": 229,
    "start_time": "2021-11-13T20:54:20.896Z"
   },
   {
    "duration": 20,
    "start_time": "2021-11-13T20:54:21.127Z"
   },
   {
    "duration": 119,
    "start_time": "2021-11-13T20:54:21.150Z"
   },
   {
    "duration": 10,
    "start_time": "2021-11-13T20:54:21.271Z"
   },
   {
    "duration": 17,
    "start_time": "2021-11-13T20:54:21.283Z"
   },
   {
    "duration": 138,
    "start_time": "2021-11-13T20:54:21.302Z"
   },
   {
    "duration": 5,
    "start_time": "2021-11-13T20:54:21.442Z"
   },
   {
    "duration": 23,
    "start_time": "2021-11-13T20:54:21.449Z"
   },
   {
    "duration": 18,
    "start_time": "2021-11-13T20:54:21.473Z"
   },
   {
    "duration": 15,
    "start_time": "2021-11-13T20:54:21.493Z"
   },
   {
    "duration": 264,
    "start_time": "2021-11-13T20:54:21.510Z"
   },
   {
    "duration": 9,
    "start_time": "2021-11-13T20:54:21.776Z"
   },
   {
    "duration": 97,
    "start_time": "2021-11-13T20:54:21.786Z"
   },
   {
    "duration": 3,
    "start_time": "2021-11-13T20:54:21.885Z"
   },
   {
    "duration": 11,
    "start_time": "2021-11-13T20:54:21.890Z"
   },
   {
    "duration": 4,
    "start_time": "2021-11-13T20:54:21.903Z"
   },
   {
    "duration": 6,
    "start_time": "2021-11-13T20:54:21.908Z"
   },
   {
    "duration": 6,
    "start_time": "2021-11-13T20:54:21.915Z"
   },
   {
    "duration": 25,
    "start_time": "2021-11-13T20:54:21.922Z"
   },
   {
    "duration": 12,
    "start_time": "2021-11-13T20:54:21.949Z"
   },
   {
    "duration": 4,
    "start_time": "2021-11-13T20:54:21.966Z"
   },
   {
    "duration": 15,
    "start_time": "2021-11-13T20:54:21.972Z"
   },
   {
    "duration": 13,
    "start_time": "2021-11-13T20:54:21.989Z"
   },
   {
    "duration": 6,
    "start_time": "2021-11-13T20:54:22.003Z"
   },
   {
    "duration": 49,
    "start_time": "2021-11-13T20:54:22.011Z"
   },
   {
    "duration": 5,
    "start_time": "2021-11-13T20:54:22.061Z"
   },
   {
    "duration": 7,
    "start_time": "2021-11-13T20:54:22.067Z"
   },
   {
    "duration": 6,
    "start_time": "2021-11-13T20:54:22.076Z"
   },
   {
    "duration": 5,
    "start_time": "2021-11-13T20:54:22.083Z"
   },
   {
    "duration": 16,
    "start_time": "2021-11-13T20:54:22.090Z"
   },
   {
    "duration": 5,
    "start_time": "2021-11-13T20:54:22.108Z"
   },
   {
    "duration": 32,
    "start_time": "2021-11-13T20:54:22.115Z"
   },
   {
    "duration": 1805,
    "start_time": "2021-11-13T20:54:22.149Z"
   },
   {
    "duration": 6,
    "start_time": "2021-11-13T20:54:23.956Z"
   },
   {
    "duration": 1436,
    "start_time": "2021-11-13T20:54:23.964Z"
   },
   {
    "duration": 8,
    "start_time": "2021-11-13T20:54:25.403Z"
   },
   {
    "duration": 1485,
    "start_time": "2021-11-13T20:54:25.413Z"
   },
   {
    "duration": 6,
    "start_time": "2021-11-13T20:54:26.901Z"
   },
   {
    "duration": 303,
    "start_time": "2021-11-13T20:54:26.909Z"
   },
   {
    "duration": 289,
    "start_time": "2021-11-13T20:54:27.214Z"
   },
   {
    "duration": 5,
    "start_time": "2021-11-13T20:54:27.504Z"
   },
   {
    "duration": 6,
    "start_time": "2021-11-13T20:54:27.511Z"
   },
   {
    "duration": 5,
    "start_time": "2021-11-13T20:54:27.519Z"
   },
   {
    "duration": 5,
    "start_time": "2021-11-13T20:54:27.545Z"
   },
   {
    "duration": 1492,
    "start_time": "2021-11-13T20:54:27.552Z"
   },
   {
    "duration": 6,
    "start_time": "2021-11-13T20:54:29.046Z"
   },
   {
    "duration": 51,
    "start_time": "2021-11-13T20:54:29.054Z"
   },
   {
    "duration": 8,
    "start_time": "2021-11-13T20:54:29.106Z"
   },
   {
    "duration": 1604,
    "start_time": "2021-11-13T20:54:29.116Z"
   },
   {
    "duration": 3,
    "start_time": "2021-11-13T20:54:30.722Z"
   },
   {
    "duration": 18,
    "start_time": "2021-11-13T20:54:30.727Z"
   },
   {
    "duration": 27,
    "start_time": "2021-11-13T20:54:30.747Z"
   },
   {
    "duration": 155,
    "start_time": "2021-11-13T20:54:30.775Z"
   },
   {
    "duration": 14,
    "start_time": "2021-11-13T20:54:30.932Z"
   },
   {
    "duration": 9,
    "start_time": "2021-11-13T20:54:30.948Z"
   },
   {
    "duration": 32,
    "start_time": "2021-11-13T20:54:30.959Z"
   },
   {
    "duration": 17,
    "start_time": "2021-11-13T20:54:30.993Z"
   },
   {
    "duration": 2237,
    "start_time": "2021-11-13T20:54:31.013Z"
   },
   {
    "duration": 5,
    "start_time": "2021-11-13T20:54:33.252Z"
   },
   {
    "duration": 5,
    "start_time": "2021-11-13T20:54:33.259Z"
   },
   {
    "duration": 1685,
    "start_time": "2021-11-13T20:54:33.266Z"
   },
   {
    "duration": 5,
    "start_time": "2021-11-13T20:54:34.953Z"
   },
   {
    "duration": 84,
    "start_time": "2021-11-13T20:54:34.960Z"
   },
   {
    "duration": 3,
    "start_time": "2021-11-13T20:54:35.046Z"
   },
   {
    "duration": 7,
    "start_time": "2021-11-13T20:54:35.050Z"
   },
   {
    "duration": 6,
    "start_time": "2021-11-13T20:54:35.059Z"
   },
   {
    "duration": 411259,
    "start_time": "2021-11-13T20:54:35.068Z"
   },
   {
    "duration": 3745,
    "start_time": "2021-11-13T21:01:26.329Z"
   },
   {
    "duration": 5,
    "start_time": "2021-11-13T21:01:30.075Z"
   },
   {
    "duration": 19,
    "start_time": "2021-11-13T21:01:30.082Z"
   },
   {
    "duration": 13,
    "start_time": "2021-11-13T21:01:30.102Z"
   },
   {
    "duration": 13,
    "start_time": "2021-11-13T21:01:30.117Z"
   },
   {
    "duration": 16,
    "start_time": "2021-11-13T21:01:30.132Z"
   },
   {
    "duration": 20,
    "start_time": "2021-11-13T21:01:30.150Z"
   },
   {
    "duration": 14,
    "start_time": "2021-11-13T21:01:30.176Z"
   },
   {
    "duration": 19,
    "start_time": "2021-11-13T21:01:30.192Z"
   },
   {
    "duration": 21,
    "start_time": "2021-11-13T21:01:30.213Z"
   },
   {
    "duration": 28,
    "start_time": "2021-11-13T21:01:30.236Z"
   },
   {
    "duration": 17,
    "start_time": "2021-11-13T21:01:30.266Z"
   },
   {
    "duration": 19,
    "start_time": "2021-11-13T21:01:30.284Z"
   },
   {
    "duration": 20,
    "start_time": "2021-11-13T21:01:30.304Z"
   },
   {
    "duration": 22,
    "start_time": "2021-11-13T21:01:30.326Z"
   },
   {
    "duration": 41,
    "start_time": "2021-11-13T21:01:30.350Z"
   },
   {
    "duration": 22,
    "start_time": "2021-11-13T21:01:30.393Z"
   },
   {
    "duration": 17,
    "start_time": "2021-11-13T21:01:30.416Z"
   },
   {
    "duration": 61,
    "start_time": "2021-11-13T21:01:30.435Z"
   },
   {
    "duration": 4,
    "start_time": "2021-11-13T21:01:30.498Z"
   },
   {
    "duration": 25,
    "start_time": "2021-11-13T21:01:30.504Z"
   },
   {
    "duration": 29,
    "start_time": "2021-11-13T21:01:30.531Z"
   },
   {
    "duration": 10,
    "start_time": "2021-11-13T21:01:30.562Z"
   },
   {
    "duration": 27,
    "start_time": "2021-11-13T21:01:30.574Z"
   },
   {
    "duration": 26,
    "start_time": "2021-11-13T21:01:30.602Z"
   },
   {
    "duration": 3,
    "start_time": "2021-11-13T21:03:54.743Z"
   },
   {
    "duration": 4,
    "start_time": "2021-11-13T21:03:55.636Z"
   },
   {
    "duration": 3,
    "start_time": "2021-11-13T21:04:28.976Z"
   },
   {
    "duration": 3,
    "start_time": "2021-11-13T21:04:30.832Z"
   },
   {
    "duration": 3,
    "start_time": "2021-11-13T21:04:31.972Z"
   },
   {
    "duration": 3,
    "start_time": "2021-11-13T21:05:21.643Z"
   },
   {
    "duration": 3,
    "start_time": "2021-11-13T21:05:22.782Z"
   },
   {
    "duration": 3,
    "start_time": "2021-11-13T21:05:24.802Z"
   },
   {
    "duration": 2,
    "start_time": "2021-11-13T21:05:39.061Z"
   },
   {
    "duration": 3,
    "start_time": "2021-11-13T21:05:40.477Z"
   },
   {
    "duration": 3,
    "start_time": "2021-11-13T21:05:41.449Z"
   },
   {
    "duration": 1272,
    "start_time": "2021-11-13T21:06:14.354Z"
   },
   {
    "duration": 280,
    "start_time": "2021-11-13T21:06:15.628Z"
   },
   {
    "duration": 78,
    "start_time": "2021-11-13T21:06:15.910Z"
   },
   {
    "duration": 364,
    "start_time": "2021-11-13T21:06:15.990Z"
   },
   {
    "duration": 16,
    "start_time": "2021-11-13T21:06:16.355Z"
   },
   {
    "duration": 22,
    "start_time": "2021-11-13T21:06:16.373Z"
   },
   {
    "duration": 227,
    "start_time": "2021-11-13T21:06:16.397Z"
   },
   {
    "duration": 18,
    "start_time": "2021-11-13T21:06:16.626Z"
   },
   {
    "duration": 114,
    "start_time": "2021-11-13T21:06:16.646Z"
   },
   {
    "duration": 10,
    "start_time": "2021-11-13T21:06:16.762Z"
   },
   {
    "duration": 21,
    "start_time": "2021-11-13T21:06:16.774Z"
   },
   {
    "duration": 141,
    "start_time": "2021-11-13T21:06:16.796Z"
   },
   {
    "duration": 7,
    "start_time": "2021-11-13T21:06:16.939Z"
   },
   {
    "duration": 27,
    "start_time": "2021-11-13T21:06:16.948Z"
   },
   {
    "duration": 17,
    "start_time": "2021-11-13T21:06:16.976Z"
   },
   {
    "duration": 30,
    "start_time": "2021-11-13T21:06:16.995Z"
   },
   {
    "duration": 304,
    "start_time": "2021-11-13T21:06:17.027Z"
   },
   {
    "duration": 13,
    "start_time": "2021-11-13T21:06:17.333Z"
   },
   {
    "duration": 87,
    "start_time": "2021-11-13T21:06:17.347Z"
   },
   {
    "duration": 2,
    "start_time": "2021-11-13T21:06:17.436Z"
   },
   {
    "duration": 16,
    "start_time": "2021-11-13T21:06:17.440Z"
   },
   {
    "duration": 28,
    "start_time": "2021-11-13T21:06:17.458Z"
   },
   {
    "duration": 33,
    "start_time": "2021-11-13T21:06:17.488Z"
   },
   {
    "duration": 32,
    "start_time": "2021-11-13T21:06:17.523Z"
   },
   {
    "duration": 13,
    "start_time": "2021-11-13T21:06:17.557Z"
   },
   {
    "duration": 25,
    "start_time": "2021-11-13T21:06:17.572Z"
   },
   {
    "duration": 9,
    "start_time": "2021-11-13T21:06:17.601Z"
   },
   {
    "duration": 17,
    "start_time": "2021-11-13T21:06:17.613Z"
   },
   {
    "duration": 18,
    "start_time": "2021-11-13T21:06:17.631Z"
   },
   {
    "duration": 5,
    "start_time": "2021-11-13T21:06:17.651Z"
   },
   {
    "duration": 40,
    "start_time": "2021-11-13T21:06:17.658Z"
   },
   {
    "duration": 4,
    "start_time": "2021-11-13T21:06:17.700Z"
   },
   {
    "duration": 8,
    "start_time": "2021-11-13T21:06:17.706Z"
   },
   {
    "duration": 11,
    "start_time": "2021-11-13T21:06:17.716Z"
   },
   {
    "duration": 7,
    "start_time": "2021-11-13T21:06:17.728Z"
   },
   {
    "duration": 10,
    "start_time": "2021-11-13T21:06:17.736Z"
   },
   {
    "duration": 6,
    "start_time": "2021-11-13T21:06:17.748Z"
   },
   {
    "duration": 16,
    "start_time": "2021-11-13T21:06:17.757Z"
   },
   {
    "duration": 1551,
    "start_time": "2021-11-13T21:06:17.775Z"
   },
   {
    "duration": 19,
    "start_time": "2021-11-13T21:06:19.328Z"
   },
   {
    "duration": 1428,
    "start_time": "2021-11-13T21:06:19.349Z"
   },
   {
    "duration": 6,
    "start_time": "2021-11-13T21:06:20.778Z"
   },
   {
    "duration": 1458,
    "start_time": "2021-11-13T21:06:20.786Z"
   },
   {
    "duration": 6,
    "start_time": "2021-11-13T21:06:22.246Z"
   },
   {
    "duration": 274,
    "start_time": "2021-11-13T21:06:22.254Z"
   },
   {
    "duration": 279,
    "start_time": "2021-11-13T21:06:22.529Z"
   },
   {
    "duration": 4,
    "start_time": "2021-11-13T21:06:22.810Z"
   },
   {
    "duration": 22,
    "start_time": "2021-11-13T21:06:22.815Z"
   },
   {
    "duration": 6,
    "start_time": "2021-11-13T21:06:22.838Z"
   },
   {
    "duration": 14,
    "start_time": "2021-11-13T21:06:22.846Z"
   },
   {
    "duration": 1423,
    "start_time": "2021-11-13T21:06:22.861Z"
   },
   {
    "duration": 4,
    "start_time": "2021-11-13T21:06:24.286Z"
   },
   {
    "duration": 57,
    "start_time": "2021-11-13T21:06:24.291Z"
   },
   {
    "duration": 7,
    "start_time": "2021-11-13T21:06:24.350Z"
   },
   {
    "duration": 1326,
    "start_time": "2021-11-13T21:06:24.358Z"
   },
   {
    "duration": 4,
    "start_time": "2021-11-13T21:06:25.685Z"
   },
   {
    "duration": 18,
    "start_time": "2021-11-13T21:06:25.690Z"
   },
   {
    "duration": 24,
    "start_time": "2021-11-13T21:06:25.710Z"
   },
   {
    "duration": 145,
    "start_time": "2021-11-13T21:06:25.736Z"
   },
   {
    "duration": 9,
    "start_time": "2021-11-13T21:06:25.883Z"
   },
   {
    "duration": 50,
    "start_time": "2021-11-13T21:06:25.893Z"
   },
   {
    "duration": 25,
    "start_time": "2021-11-13T21:06:25.945Z"
   },
   {
    "duration": 11,
    "start_time": "2021-11-13T21:06:25.972Z"
   },
   {
    "duration": 1269,
    "start_time": "2021-11-13T21:06:25.985Z"
   },
   {
    "duration": 4,
    "start_time": "2021-11-13T21:06:27.346Z"
   },
   {
    "duration": 23,
    "start_time": "2021-11-13T21:06:27.352Z"
   },
   {
    "duration": 1174,
    "start_time": "2021-11-13T21:06:27.377Z"
   },
   {
    "duration": 92,
    "start_time": "2021-11-13T21:06:28.554Z"
   },
   {
    "duration": 7,
    "start_time": "2021-11-13T21:06:28.648Z"
   },
   {
    "duration": 17,
    "start_time": "2021-11-13T21:06:28.656Z"
   },
   {
    "duration": 5,
    "start_time": "2021-11-13T21:06:28.674Z"
   },
   {
    "duration": 14,
    "start_time": "2021-11-13T21:06:28.681Z"
   },
   {
    "duration": 406638,
    "start_time": "2021-11-13T21:06:28.697Z"
   },
   {
    "duration": 3966,
    "start_time": "2021-11-13T21:13:15.337Z"
   },
   {
    "duration": 5,
    "start_time": "2021-11-13T21:13:19.304Z"
   },
   {
    "duration": 41,
    "start_time": "2021-11-13T21:13:19.311Z"
   },
   {
    "duration": 31,
    "start_time": "2021-11-13T21:13:19.355Z"
   },
   {
    "duration": 34,
    "start_time": "2021-11-13T21:13:19.388Z"
   },
   {
    "duration": 40,
    "start_time": "2021-11-13T21:13:19.424Z"
   },
   {
    "duration": 24,
    "start_time": "2021-11-13T21:13:19.466Z"
   },
   {
    "duration": 13,
    "start_time": "2021-11-13T21:13:19.495Z"
   },
   {
    "duration": 24,
    "start_time": "2021-11-13T21:13:19.510Z"
   },
   {
    "duration": 29,
    "start_time": "2021-11-13T21:13:19.535Z"
   },
   {
    "duration": 18,
    "start_time": "2021-11-13T21:13:19.566Z"
   },
   {
    "duration": 24,
    "start_time": "2021-11-13T21:13:19.586Z"
   },
   {
    "duration": 40,
    "start_time": "2021-11-13T21:13:19.612Z"
   },
   {
    "duration": 35,
    "start_time": "2021-11-13T21:13:19.654Z"
   },
   {
    "duration": 63,
    "start_time": "2021-11-13T21:13:19.690Z"
   },
   {
    "duration": 17,
    "start_time": "2021-11-13T21:13:19.755Z"
   },
   {
    "duration": 14,
    "start_time": "2021-11-13T21:13:19.774Z"
   },
   {
    "duration": 46,
    "start_time": "2021-11-13T21:13:19.789Z"
   },
   {
    "duration": 66,
    "start_time": "2021-11-13T21:13:19.837Z"
   },
   {
    "duration": 5,
    "start_time": "2021-11-13T21:13:19.904Z"
   },
   {
    "duration": 22,
    "start_time": "2021-11-13T21:13:19.911Z"
   },
   {
    "duration": 43,
    "start_time": "2021-11-13T21:13:19.935Z"
   },
   {
    "duration": 42,
    "start_time": "2021-11-13T21:13:19.980Z"
   },
   {
    "duration": 33,
    "start_time": "2021-11-13T21:13:20.024Z"
   },
   {
    "duration": 53,
    "start_time": "2021-11-13T21:13:20.059Z"
   },
   {
    "duration": 46,
    "start_time": "2021-11-13T21:23:10.060Z"
   },
   {
    "duration": 5,
    "start_time": "2021-11-13T21:24:45.376Z"
   },
   {
    "duration": 4,
    "start_time": "2021-11-13T21:25:28.012Z"
   },
   {
    "duration": 459,
    "start_time": "2021-11-13T21:29:05.471Z"
   },
   {
    "duration": 5,
    "start_time": "2021-11-13T21:29:20.434Z"
   },
   {
    "duration": 5,
    "start_time": "2021-11-13T21:29:21.017Z"
   },
   {
    "duration": 3,
    "start_time": "2021-11-13T21:29:21.596Z"
   },
   {
    "duration": 4,
    "start_time": "2021-11-13T21:29:22.885Z"
   },
   {
    "duration": 5,
    "start_time": "2021-11-13T21:31:09.256Z"
   },
   {
    "duration": 6,
    "start_time": "2021-11-13T21:31:11.124Z"
   },
   {
    "duration": 3,
    "start_time": "2021-11-13T21:31:11.793Z"
   },
   {
    "duration": 5,
    "start_time": "2021-11-13T21:31:12.555Z"
   },
   {
    "duration": 9,
    "start_time": "2021-11-13T21:31:13.346Z"
   },
   {
    "duration": 88,
    "start_time": "2021-11-13T21:31:39.661Z"
   },
   {
    "duration": 3,
    "start_time": "2021-11-13T21:31:48.705Z"
   },
   {
    "duration": 4,
    "start_time": "2021-11-13T21:32:37.987Z"
   },
   {
    "duration": 1226,
    "start_time": "2021-11-13T21:34:19.329Z"
   },
   {
    "duration": 275,
    "start_time": "2021-11-13T21:34:20.557Z"
   },
   {
    "duration": 76,
    "start_time": "2021-11-13T21:34:20.836Z"
   },
   {
    "duration": 358,
    "start_time": "2021-11-13T21:34:20.914Z"
   },
   {
    "duration": 14,
    "start_time": "2021-11-13T21:34:21.274Z"
   },
   {
    "duration": 21,
    "start_time": "2021-11-13T21:34:21.290Z"
   },
   {
    "duration": 366,
    "start_time": "2021-11-13T21:34:21.316Z"
   },
   {
    "duration": 8,
    "start_time": "2021-11-13T21:34:21.684Z"
   },
   {
    "duration": 125,
    "start_time": "2021-11-13T21:34:21.694Z"
   },
   {
    "duration": 10,
    "start_time": "2021-11-13T21:34:21.820Z"
   },
   {
    "duration": 28,
    "start_time": "2021-11-13T21:34:21.832Z"
   },
   {
    "duration": 136,
    "start_time": "2021-11-13T21:34:21.862Z"
   },
   {
    "duration": 7,
    "start_time": "2021-11-13T21:34:21.999Z"
   },
   {
    "duration": 37,
    "start_time": "2021-11-13T21:34:22.007Z"
   },
   {
    "duration": 18,
    "start_time": "2021-11-13T21:34:22.046Z"
   },
   {
    "duration": 18,
    "start_time": "2021-11-13T21:34:22.066Z"
   },
   {
    "duration": 253,
    "start_time": "2021-11-13T21:34:22.086Z"
   },
   {
    "duration": 8,
    "start_time": "2021-11-13T21:34:22.344Z"
   },
   {
    "duration": 91,
    "start_time": "2021-11-13T21:34:22.354Z"
   },
   {
    "duration": 3,
    "start_time": "2021-11-13T21:34:22.447Z"
   },
   {
    "duration": 14,
    "start_time": "2021-11-13T21:34:22.452Z"
   },
   {
    "duration": 5,
    "start_time": "2021-11-13T21:34:22.468Z"
   },
   {
    "duration": 13,
    "start_time": "2021-11-13T21:34:22.474Z"
   },
   {
    "duration": 16,
    "start_time": "2021-11-13T21:34:22.489Z"
   },
   {
    "duration": 10,
    "start_time": "2021-11-13T21:34:22.509Z"
   },
   {
    "duration": 5,
    "start_time": "2021-11-13T21:34:22.522Z"
   },
   {
    "duration": 16,
    "start_time": "2021-11-13T21:34:22.529Z"
   },
   {
    "duration": 15,
    "start_time": "2021-11-13T21:34:22.547Z"
   },
   {
    "duration": 13,
    "start_time": "2021-11-13T21:34:22.564Z"
   },
   {
    "duration": 6,
    "start_time": "2021-11-13T21:34:22.579Z"
   },
   {
    "duration": 23,
    "start_time": "2021-11-13T21:34:22.586Z"
   },
   {
    "duration": 5,
    "start_time": "2021-11-13T21:34:22.611Z"
   },
   {
    "duration": 6,
    "start_time": "2021-11-13T21:34:22.645Z"
   },
   {
    "duration": 9,
    "start_time": "2021-11-13T21:34:22.653Z"
   },
   {
    "duration": 7,
    "start_time": "2021-11-13T21:34:22.664Z"
   },
   {
    "duration": 14,
    "start_time": "2021-11-13T21:34:22.673Z"
   },
   {
    "duration": 6,
    "start_time": "2021-11-13T21:34:22.689Z"
   },
   {
    "duration": 17,
    "start_time": "2021-11-13T21:34:22.697Z"
   },
   {
    "duration": 1397,
    "start_time": "2021-11-13T21:34:22.715Z"
   },
   {
    "duration": 7,
    "start_time": "2021-11-13T21:34:24.113Z"
   },
   {
    "duration": 1586,
    "start_time": "2021-11-13T21:34:24.122Z"
   },
   {
    "duration": 7,
    "start_time": "2021-11-13T21:34:25.710Z"
   },
   {
    "duration": 1525,
    "start_time": "2021-11-13T21:34:25.719Z"
   },
   {
    "duration": 7,
    "start_time": "2021-11-13T21:34:27.246Z"
   },
   {
    "duration": 296,
    "start_time": "2021-11-13T21:34:27.254Z"
   },
   {
    "duration": 292,
    "start_time": "2021-11-13T21:34:27.552Z"
   },
   {
    "duration": 4,
    "start_time": "2021-11-13T21:34:27.846Z"
   },
   {
    "duration": 6,
    "start_time": "2021-11-13T21:34:27.852Z"
   },
   {
    "duration": 8,
    "start_time": "2021-11-13T21:34:27.860Z"
   },
   {
    "duration": 12,
    "start_time": "2021-11-13T21:34:27.870Z"
   },
   {
    "duration": 1491,
    "start_time": "2021-11-13T21:34:27.883Z"
   },
   {
    "duration": 5,
    "start_time": "2021-11-13T21:34:29.376Z"
   },
   {
    "duration": 67,
    "start_time": "2021-11-13T21:34:29.383Z"
   },
   {
    "duration": 7,
    "start_time": "2021-11-13T21:34:29.451Z"
   },
   {
    "duration": 1410,
    "start_time": "2021-11-13T21:34:29.460Z"
   },
   {
    "duration": 5,
    "start_time": "2021-11-13T21:34:30.872Z"
   },
   {
    "duration": 26,
    "start_time": "2021-11-13T21:34:30.879Z"
   },
   {
    "duration": 22,
    "start_time": "2021-11-13T21:34:30.907Z"
   },
   {
    "duration": 167,
    "start_time": "2021-11-13T21:34:30.931Z"
   },
   {
    "duration": 11,
    "start_time": "2021-11-13T21:34:31.100Z"
   },
   {
    "duration": 43,
    "start_time": "2021-11-13T21:34:31.113Z"
   },
   {
    "duration": 92,
    "start_time": "2021-11-13T21:34:31.157Z"
   },
   {
    "duration": 13,
    "start_time": "2021-11-13T21:34:31.252Z"
   },
   {
    "duration": 1279,
    "start_time": "2021-11-13T21:34:31.268Z"
   },
   {
    "duration": 4,
    "start_time": "2021-11-13T21:34:32.549Z"
   },
   {
    "duration": 10,
    "start_time": "2021-11-13T21:34:32.555Z"
   },
   {
    "duration": 1610,
    "start_time": "2021-11-13T21:34:32.645Z"
   },
   {
    "duration": 4,
    "start_time": "2021-11-13T21:34:34.258Z"
   },
   {
    "duration": 82,
    "start_time": "2021-11-13T21:34:34.264Z"
   },
   {
    "duration": 18,
    "start_time": "2021-11-13T21:34:34.349Z"
   },
   {
    "duration": 32,
    "start_time": "2021-11-13T21:34:34.369Z"
   },
   {
    "duration": 22,
    "start_time": "2021-11-13T21:34:34.403Z"
   },
   {
    "duration": 419583,
    "start_time": "2021-11-13T21:34:34.427Z"
   },
   {
    "duration": 3806,
    "start_time": "2021-11-13T21:41:34.012Z"
   },
   {
    "duration": 5,
    "start_time": "2021-11-13T21:41:37.820Z"
   },
   {
    "duration": 22,
    "start_time": "2021-11-13T21:41:37.826Z"
   },
   {
    "duration": 11,
    "start_time": "2021-11-13T21:41:37.849Z"
   },
   {
    "duration": 7,
    "start_time": "2021-11-13T21:41:37.862Z"
   },
   {
    "duration": 4,
    "start_time": "2021-11-13T21:41:37.875Z"
   },
   {
    "duration": 8,
    "start_time": "2021-11-13T21:41:37.881Z"
   },
   {
    "duration": 10,
    "start_time": "2021-11-13T21:41:37.890Z"
   },
   {
    "duration": 21,
    "start_time": "2021-11-13T21:41:37.902Z"
   },
   {
    "duration": 6,
    "start_time": "2021-11-13T21:41:37.925Z"
   },
   {
    "duration": 24,
    "start_time": "2021-11-13T21:41:37.933Z"
   },
   {
    "duration": 5,
    "start_time": "2021-11-13T21:41:37.959Z"
   },
   {
    "duration": 10,
    "start_time": "2021-11-13T21:41:37.966Z"
   },
   {
    "duration": 7,
    "start_time": "2021-11-13T21:41:37.978Z"
   },
   {
    "duration": 10,
    "start_time": "2021-11-13T21:41:37.987Z"
   },
   {
    "duration": 7,
    "start_time": "2021-11-13T21:41:37.999Z"
   },
   {
    "duration": 7,
    "start_time": "2021-11-13T21:41:38.007Z"
   },
   {
    "duration": 15,
    "start_time": "2021-11-13T21:41:38.015Z"
   },
   {
    "duration": 59,
    "start_time": "2021-11-13T21:41:38.031Z"
   },
   {
    "duration": 5,
    "start_time": "2021-11-13T21:41:38.091Z"
   },
   {
    "duration": 13,
    "start_time": "2021-11-13T21:41:38.097Z"
   },
   {
    "duration": 8,
    "start_time": "2021-11-13T21:41:38.112Z"
   },
   {
    "duration": 10,
    "start_time": "2021-11-13T21:41:38.121Z"
   },
   {
    "duration": 15,
    "start_time": "2021-11-13T21:41:38.133Z"
   },
   {
    "duration": 4,
    "start_time": "2021-11-13T21:41:38.150Z"
   },
   {
    "duration": 16,
    "start_time": "2021-11-13T21:41:38.156Z"
   },
   {
    "duration": 6,
    "start_time": "2021-11-13T21:41:38.174Z"
   },
   {
    "duration": 15,
    "start_time": "2021-11-13T21:41:38.182Z"
   },
   {
    "duration": 1194,
    "start_time": "2021-11-13T21:57:27.466Z"
   },
   {
    "duration": 286,
    "start_time": "2021-11-13T21:57:28.662Z"
   },
   {
    "duration": 81,
    "start_time": "2021-11-13T21:57:28.950Z"
   },
   {
    "duration": 371,
    "start_time": "2021-11-13T21:57:29.032Z"
   },
   {
    "duration": 17,
    "start_time": "2021-11-13T21:57:29.405Z"
   },
   {
    "duration": 47,
    "start_time": "2021-11-13T21:57:29.423Z"
   },
   {
    "duration": 239,
    "start_time": "2021-11-13T21:57:29.472Z"
   },
   {
    "duration": 7,
    "start_time": "2021-11-13T21:57:29.713Z"
   },
   {
    "duration": 117,
    "start_time": "2021-11-13T21:57:29.722Z"
   },
   {
    "duration": 14,
    "start_time": "2021-11-13T21:57:29.840Z"
   },
   {
    "duration": 17,
    "start_time": "2021-11-13T21:57:29.856Z"
   },
   {
    "duration": 140,
    "start_time": "2021-11-13T21:57:29.874Z"
   },
   {
    "duration": 6,
    "start_time": "2021-11-13T21:57:30.016Z"
   },
   {
    "duration": 44,
    "start_time": "2021-11-13T21:57:30.023Z"
   },
   {
    "duration": 18,
    "start_time": "2021-11-13T21:57:30.069Z"
   },
   {
    "duration": 16,
    "start_time": "2021-11-13T21:57:30.088Z"
   },
   {
    "duration": 249,
    "start_time": "2021-11-13T21:57:30.105Z"
   },
   {
    "duration": 8,
    "start_time": "2021-11-13T21:57:30.356Z"
   },
   {
    "duration": 95,
    "start_time": "2021-11-13T21:57:30.366Z"
   },
   {
    "duration": 5,
    "start_time": "2021-11-13T21:57:30.463Z"
   },
   {
    "duration": 13,
    "start_time": "2021-11-13T21:57:30.470Z"
   },
   {
    "duration": 8,
    "start_time": "2021-11-13T21:57:30.485Z"
   },
   {
    "duration": 5,
    "start_time": "2021-11-13T21:57:30.496Z"
   },
   {
    "duration": 14,
    "start_time": "2021-11-13T21:57:30.504Z"
   },
   {
    "duration": 24,
    "start_time": "2021-11-13T21:57:30.519Z"
   },
   {
    "duration": 13,
    "start_time": "2021-11-13T21:57:30.545Z"
   },
   {
    "duration": 39,
    "start_time": "2021-11-13T21:57:30.560Z"
   },
   {
    "duration": 18,
    "start_time": "2021-11-13T21:57:30.601Z"
   },
   {
    "duration": 19,
    "start_time": "2021-11-13T21:57:30.621Z"
   },
   {
    "duration": 10,
    "start_time": "2021-11-13T21:57:30.642Z"
   },
   {
    "duration": 34,
    "start_time": "2021-11-13T21:57:30.653Z"
   },
   {
    "duration": 5,
    "start_time": "2021-11-13T21:57:30.689Z"
   },
   {
    "duration": 13,
    "start_time": "2021-11-13T21:57:30.695Z"
   },
   {
    "duration": 10,
    "start_time": "2021-11-13T21:57:30.709Z"
   },
   {
    "duration": 14,
    "start_time": "2021-11-13T21:57:30.721Z"
   },
   {
    "duration": 22,
    "start_time": "2021-11-13T21:57:30.737Z"
   },
   {
    "duration": 6,
    "start_time": "2021-11-13T21:57:30.761Z"
   },
   {
    "duration": 12,
    "start_time": "2021-11-13T21:57:30.769Z"
   },
   {
    "duration": 1386,
    "start_time": "2021-11-13T21:57:30.784Z"
   },
   {
    "duration": 7,
    "start_time": "2021-11-13T21:57:32.172Z"
   },
   {
    "duration": 1338,
    "start_time": "2021-11-13T21:57:32.180Z"
   },
   {
    "duration": 7,
    "start_time": "2021-11-13T21:57:33.519Z"
   },
   {
    "duration": 1495,
    "start_time": "2021-11-13T21:57:33.528Z"
   },
   {
    "duration": 7,
    "start_time": "2021-11-13T21:57:35.025Z"
   },
   {
    "duration": 281,
    "start_time": "2021-11-13T21:57:35.033Z"
   },
   {
    "duration": 284,
    "start_time": "2021-11-13T21:57:35.315Z"
   },
   {
    "duration": 4,
    "start_time": "2021-11-13T21:57:35.601Z"
   },
   {
    "duration": 11,
    "start_time": "2021-11-13T21:57:35.607Z"
   },
   {
    "duration": 10,
    "start_time": "2021-11-13T21:57:35.619Z"
   },
   {
    "duration": 17,
    "start_time": "2021-11-13T21:57:35.631Z"
   },
   {
    "duration": 1488,
    "start_time": "2021-11-13T21:57:35.650Z"
   },
   {
    "duration": 7,
    "start_time": "2021-11-13T21:57:37.140Z"
   },
   {
    "duration": 50,
    "start_time": "2021-11-13T21:57:37.150Z"
   },
   {
    "duration": 7,
    "start_time": "2021-11-13T21:57:37.202Z"
   },
   {
    "duration": 1426,
    "start_time": "2021-11-13T21:57:37.211Z"
   },
   {
    "duration": 7,
    "start_time": "2021-11-13T21:57:38.638Z"
   },
   {
    "duration": 13,
    "start_time": "2021-11-13T21:57:38.647Z"
   },
   {
    "duration": 14,
    "start_time": "2021-11-13T21:57:38.662Z"
   },
   {
    "duration": 138,
    "start_time": "2021-11-13T21:57:38.678Z"
   },
   {
    "duration": 9,
    "start_time": "2021-11-13T21:57:38.818Z"
   },
   {
    "duration": 19,
    "start_time": "2021-11-13T21:57:38.829Z"
   },
   {
    "duration": 12,
    "start_time": "2021-11-13T21:57:38.850Z"
   },
   {
    "duration": 3,
    "start_time": "2021-11-13T21:57:38.864Z"
   },
   {
    "duration": 2077,
    "start_time": "2021-11-13T21:57:38.868Z"
   },
   {
    "duration": 5,
    "start_time": "2021-11-13T21:57:40.948Z"
   },
   {
    "duration": 7,
    "start_time": "2021-11-13T21:57:40.955Z"
   },
   {
    "duration": 1385,
    "start_time": "2021-11-13T21:57:40.964Z"
   },
   {
    "duration": 4,
    "start_time": "2021-11-13T21:57:42.357Z"
   },
   {
    "duration": 11,
    "start_time": "2021-11-13T21:57:42.363Z"
   },
   {
    "duration": 5,
    "start_time": "2021-11-13T21:57:42.376Z"
   },
   {
    "duration": 7,
    "start_time": "2021-11-13T21:57:42.382Z"
   },
   {
    "duration": 61,
    "start_time": "2021-11-13T21:57:42.390Z"
   },
   {
    "duration": 433573,
    "start_time": "2021-11-13T21:57:42.453Z"
   },
   {
    "duration": 5210,
    "start_time": "2021-11-13T22:04:56.028Z"
   },
   {
    "duration": 9,
    "start_time": "2021-11-13T22:05:01.240Z"
   },
   {
    "duration": 13,
    "start_time": "2021-11-13T22:05:01.251Z"
   },
   {
    "duration": 8,
    "start_time": "2021-11-13T22:05:01.266Z"
   },
   {
    "duration": 13,
    "start_time": "2021-11-13T22:05:01.276Z"
   },
   {
    "duration": 17,
    "start_time": "2021-11-13T22:05:01.291Z"
   },
   {
    "duration": 17,
    "start_time": "2021-11-13T22:05:01.310Z"
   },
   {
    "duration": 20,
    "start_time": "2021-11-13T22:05:01.329Z"
   },
   {
    "duration": 18,
    "start_time": "2021-11-13T22:05:01.351Z"
   },
   {
    "duration": 41,
    "start_time": "2021-11-13T22:05:01.371Z"
   },
   {
    "duration": 13,
    "start_time": "2021-11-13T22:05:01.414Z"
   },
   {
    "duration": 18,
    "start_time": "2021-11-13T22:05:01.429Z"
   },
   {
    "duration": 29,
    "start_time": "2021-11-13T22:05:01.449Z"
   },
   {
    "duration": 20,
    "start_time": "2021-11-13T22:05:01.480Z"
   },
   {
    "duration": 24,
    "start_time": "2021-11-13T22:05:01.502Z"
   },
   {
    "duration": 41,
    "start_time": "2021-11-13T22:05:01.528Z"
   },
   {
    "duration": 12,
    "start_time": "2021-11-13T22:05:01.571Z"
   },
   {
    "duration": 25,
    "start_time": "2021-11-13T22:05:01.585Z"
   },
   {
    "duration": 66,
    "start_time": "2021-11-13T22:05:01.612Z"
   },
   {
    "duration": 4,
    "start_time": "2021-11-13T22:05:01.680Z"
   },
   {
    "duration": 30,
    "start_time": "2021-11-13T22:05:01.686Z"
   },
   {
    "duration": 15,
    "start_time": "2021-11-13T22:05:01.718Z"
   },
   {
    "duration": 18,
    "start_time": "2021-11-13T22:05:01.735Z"
   },
   {
    "duration": 19,
    "start_time": "2021-11-13T22:05:01.756Z"
   },
   {
    "duration": 31,
    "start_time": "2021-11-13T22:05:01.777Z"
   },
   {
    "duration": 24,
    "start_time": "2021-11-13T22:05:01.810Z"
   },
   {
    "duration": 19,
    "start_time": "2021-11-13T22:05:01.836Z"
   },
   {
    "duration": 19,
    "start_time": "2021-11-13T22:05:01.858Z"
   },
   {
    "duration": 5,
    "start_time": "2021-11-13T22:07:35.224Z"
   },
   {
    "duration": 4,
    "start_time": "2021-11-13T22:07:45.314Z"
   },
   {
    "duration": 1183,
    "start_time": "2021-11-13T22:09:47.679Z"
   },
   {
    "duration": 293,
    "start_time": "2021-11-13T22:09:48.864Z"
   },
   {
    "duration": 81,
    "start_time": "2021-11-13T22:09:49.159Z"
   },
   {
    "duration": 381,
    "start_time": "2021-11-13T22:09:49.243Z"
   },
   {
    "duration": 31,
    "start_time": "2021-11-13T22:09:49.626Z"
   },
   {
    "duration": 23,
    "start_time": "2021-11-13T22:09:49.659Z"
   },
   {
    "duration": 242,
    "start_time": "2021-11-13T22:09:49.684Z"
   },
   {
    "duration": 23,
    "start_time": "2021-11-13T22:09:49.928Z"
   },
   {
    "duration": 125,
    "start_time": "2021-11-13T22:09:49.954Z"
   },
   {
    "duration": 10,
    "start_time": "2021-11-13T22:09:50.082Z"
   },
   {
    "duration": 19,
    "start_time": "2021-11-13T22:09:50.094Z"
   },
   {
    "duration": 147,
    "start_time": "2021-11-13T22:09:50.115Z"
   },
   {
    "duration": 7,
    "start_time": "2021-11-13T22:09:50.263Z"
   },
   {
    "duration": 38,
    "start_time": "2021-11-13T22:09:50.271Z"
   },
   {
    "duration": 17,
    "start_time": "2021-11-13T22:09:50.310Z"
   },
   {
    "duration": 31,
    "start_time": "2021-11-13T22:09:50.328Z"
   },
   {
    "duration": 245,
    "start_time": "2021-11-13T22:09:50.360Z"
   },
   {
    "duration": 9,
    "start_time": "2021-11-13T22:09:50.606Z"
   },
   {
    "duration": 89,
    "start_time": "2021-11-13T22:09:50.617Z"
   },
   {
    "duration": 2,
    "start_time": "2021-11-13T22:09:50.708Z"
   },
   {
    "duration": 25,
    "start_time": "2021-11-13T22:09:50.711Z"
   },
   {
    "duration": 5,
    "start_time": "2021-11-13T22:09:50.738Z"
   },
   {
    "duration": 14,
    "start_time": "2021-11-13T22:09:50.745Z"
   },
   {
    "duration": 12,
    "start_time": "2021-11-13T22:09:50.761Z"
   },
   {
    "duration": 22,
    "start_time": "2021-11-13T22:09:50.775Z"
   },
   {
    "duration": 18,
    "start_time": "2021-11-13T22:09:50.799Z"
   },
   {
    "duration": 5,
    "start_time": "2021-11-13T22:09:50.821Z"
   },
   {
    "duration": 29,
    "start_time": "2021-11-13T22:09:50.829Z"
   },
   {
    "duration": 19,
    "start_time": "2021-11-13T22:09:50.859Z"
   },
   {
    "duration": 5,
    "start_time": "2021-11-13T22:09:50.879Z"
   },
   {
    "duration": 25,
    "start_time": "2021-11-13T22:09:50.886Z"
   },
   {
    "duration": 5,
    "start_time": "2021-11-13T22:09:50.913Z"
   },
   {
    "duration": 13,
    "start_time": "2021-11-13T22:09:50.919Z"
   },
   {
    "duration": 25,
    "start_time": "2021-11-13T22:09:50.934Z"
   },
   {
    "duration": 19,
    "start_time": "2021-11-13T22:09:50.961Z"
   },
   {
    "duration": 14,
    "start_time": "2021-11-13T22:09:50.982Z"
   },
   {
    "duration": 9,
    "start_time": "2021-11-13T22:09:50.998Z"
   },
   {
    "duration": 27,
    "start_time": "2021-11-13T22:09:51.009Z"
   },
   {
    "duration": 1451,
    "start_time": "2021-11-13T22:09:51.038Z"
   },
   {
    "duration": 7,
    "start_time": "2021-11-13T22:09:52.490Z"
   },
   {
    "duration": 1333,
    "start_time": "2021-11-13T22:09:52.498Z"
   },
   {
    "duration": 19,
    "start_time": "2021-11-13T22:09:53.832Z"
   },
   {
    "duration": 1573,
    "start_time": "2021-11-13T22:09:53.854Z"
   },
   {
    "duration": 6,
    "start_time": "2021-11-13T22:09:55.429Z"
   },
   {
    "duration": 284,
    "start_time": "2021-11-13T22:09:55.445Z"
   },
   {
    "duration": 298,
    "start_time": "2021-11-13T22:09:55.731Z"
   },
   {
    "duration": 4,
    "start_time": "2021-11-13T22:09:56.030Z"
   },
   {
    "duration": 7,
    "start_time": "2021-11-13T22:09:56.044Z"
   },
   {
    "duration": 11,
    "start_time": "2021-11-13T22:09:56.053Z"
   },
   {
    "duration": 6,
    "start_time": "2021-11-13T22:09:56.065Z"
   },
   {
    "duration": 1578,
    "start_time": "2021-11-13T22:09:56.073Z"
   },
   {
    "duration": 5,
    "start_time": "2021-11-13T22:09:57.653Z"
   },
   {
    "duration": 48,
    "start_time": "2021-11-13T22:09:57.662Z"
   },
   {
    "duration": 6,
    "start_time": "2021-11-13T22:09:57.712Z"
   },
   {
    "duration": 1717,
    "start_time": "2021-11-13T22:09:57.720Z"
   },
   {
    "duration": 5,
    "start_time": "2021-11-13T22:09:59.439Z"
   },
   {
    "duration": 7,
    "start_time": "2021-11-13T22:09:59.446Z"
   },
   {
    "duration": 11,
    "start_time": "2021-11-13T22:09:59.455Z"
   },
   {
    "duration": 192,
    "start_time": "2021-11-13T22:09:59.468Z"
   },
   {
    "duration": 9,
    "start_time": "2021-11-13T22:09:59.662Z"
   },
   {
    "duration": 7,
    "start_time": "2021-11-13T22:09:59.673Z"
   },
   {
    "duration": 10,
    "start_time": "2021-11-13T22:09:59.682Z"
   },
   {
    "duration": 2,
    "start_time": "2021-11-13T22:09:59.693Z"
   },
   {
    "duration": 2258,
    "start_time": "2021-11-13T22:09:59.697Z"
   },
   {
    "duration": 6,
    "start_time": "2021-11-13T22:10:01.959Z"
   },
   {
    "duration": 79,
    "start_time": "2021-11-13T22:10:01.966Z"
   },
   {
    "duration": 1816,
    "start_time": "2021-11-13T22:10:02.046Z"
   },
   {
    "duration": 4,
    "start_time": "2021-11-13T22:10:03.954Z"
   },
   {
    "duration": 9,
    "start_time": "2021-11-13T22:10:03.960Z"
   },
   {
    "duration": 10,
    "start_time": "2021-11-13T22:10:03.970Z"
   },
   {
    "duration": 12,
    "start_time": "2021-11-13T22:10:03.982Z"
   },
   {
    "duration": 18,
    "start_time": "2021-11-13T22:10:03.997Z"
   },
   {
    "duration": 1393,
    "start_time": "2021-11-13T22:14:54.482Z"
   },
   {
    "duration": 309,
    "start_time": "2021-11-13T22:14:56.807Z"
   },
   {
    "duration": 88,
    "start_time": "2021-11-13T22:14:57.118Z"
   },
   {
    "duration": 395,
    "start_time": "2021-11-13T22:14:57.208Z"
   },
   {
    "duration": 14,
    "start_time": "2021-11-13T22:14:57.605Z"
   },
   {
    "duration": 20,
    "start_time": "2021-11-13T22:14:57.721Z"
   },
   {
    "duration": 233,
    "start_time": "2021-11-13T22:14:58.044Z"
   },
   {
    "duration": 7,
    "start_time": "2021-11-13T22:14:58.279Z"
   },
   {
    "duration": 125,
    "start_time": "2021-11-13T22:14:58.458Z"
   },
   {
    "duration": 12,
    "start_time": "2021-11-13T22:14:58.874Z"
   },
   {
    "duration": 22,
    "start_time": "2021-11-13T22:14:59.121Z"
   },
   {
    "duration": 160,
    "start_time": "2021-11-13T22:14:59.308Z"
   },
   {
    "duration": 6,
    "start_time": "2021-11-13T22:14:59.493Z"
   },
   {
    "duration": 23,
    "start_time": "2021-11-13T22:14:59.700Z"
   },
   {
    "duration": 25,
    "start_time": "2021-11-13T22:15:00.232Z"
   },
   {
    "duration": 16,
    "start_time": "2021-11-13T22:15:00.572Z"
   },
   {
    "duration": 252,
    "start_time": "2021-11-13T22:15:01.025Z"
   },
   {
    "duration": 9,
    "start_time": "2021-11-13T22:15:01.435Z"
   },
   {
    "duration": 100,
    "start_time": "2021-11-13T22:15:02.131Z"
   },
   {
    "duration": 4,
    "start_time": "2021-11-13T22:15:04.053Z"
   },
   {
    "duration": 9,
    "start_time": "2021-11-13T22:15:05.327Z"
   },
   {
    "duration": 5,
    "start_time": "2021-11-13T22:15:06.067Z"
   },
   {
    "duration": 5,
    "start_time": "2021-11-13T22:15:06.765Z"
   },
   {
    "duration": 4,
    "start_time": "2021-11-13T22:15:07.456Z"
   },
   {
    "duration": 5,
    "start_time": "2021-11-13T22:15:09.378Z"
   },
   {
    "duration": 4,
    "start_time": "2021-11-13T22:15:11.368Z"
   },
   {
    "duration": 5,
    "start_time": "2021-11-13T22:15:12.191Z"
   },
   {
    "duration": 16,
    "start_time": "2021-11-13T22:15:13.806Z"
   },
   {
    "duration": 5,
    "start_time": "2021-11-13T22:15:14.463Z"
   },
   {
    "duration": 5,
    "start_time": "2021-11-13T22:15:15.227Z"
   },
   {
    "duration": 5,
    "start_time": "2021-11-13T22:15:15.805Z"
   },
   {
    "duration": 5,
    "start_time": "2021-11-13T22:15:16.392Z"
   },
   {
    "duration": 14,
    "start_time": "2021-11-13T22:15:19.207Z"
   },
   {
    "duration": 5,
    "start_time": "2021-11-13T22:15:19.866Z"
   },
   {
    "duration": 23,
    "start_time": "2021-11-13T22:15:20.380Z"
   },
   {
    "duration": 8,
    "start_time": "2021-11-13T22:15:21.778Z"
   },
   {
    "duration": 7,
    "start_time": "2021-11-13T22:15:22.657Z"
   },
   {
    "duration": 9,
    "start_time": "2021-11-13T22:15:23.884Z"
   },
   {
    "duration": 1420,
    "start_time": "2021-11-13T22:15:25.123Z"
   },
   {
    "duration": 9,
    "start_time": "2021-11-13T22:15:26.545Z"
   },
   {
    "duration": 1301,
    "start_time": "2021-11-13T22:15:27.425Z"
   },
   {
    "duration": 23,
    "start_time": "2021-11-13T22:15:28.728Z"
   },
   {
    "duration": 1518,
    "start_time": "2021-11-13T22:15:28.754Z"
   },
   {
    "duration": 8,
    "start_time": "2021-11-13T22:15:30.273Z"
   },
   {
    "duration": 309,
    "start_time": "2021-11-13T22:15:30.283Z"
   },
   {
    "duration": 301,
    "start_time": "2021-11-13T22:15:30.595Z"
   },
   {
    "duration": 4,
    "start_time": "2021-11-13T22:15:30.898Z"
   },
   {
    "duration": 19,
    "start_time": "2021-11-13T22:15:30.904Z"
   },
   {
    "duration": 10,
    "start_time": "2021-11-13T22:15:30.926Z"
   },
   {
    "duration": 5,
    "start_time": "2021-11-13T22:15:31.140Z"
   },
   {
    "duration": 1518,
    "start_time": "2021-11-13T22:15:32.445Z"
   },
   {
    "duration": 5,
    "start_time": "2021-11-13T22:15:35.005Z"
   },
   {
    "duration": 55,
    "start_time": "2021-11-13T22:15:35.568Z"
   },
   {
    "duration": 8,
    "start_time": "2021-11-13T22:15:36.083Z"
   },
   {
    "duration": 1404,
    "start_time": "2021-11-13T22:15:36.366Z"
   },
   {
    "duration": 4,
    "start_time": "2021-11-13T22:15:40.767Z"
   },
   {
    "duration": 3,
    "start_time": "2021-11-13T22:15:41.331Z"
   },
   {
    "duration": 8,
    "start_time": "2021-11-13T22:15:42.777Z"
   },
   {
    "duration": 10,
    "start_time": "2021-11-13T22:15:43.001Z"
   },
   {
    "duration": 153,
    "start_time": "2021-11-13T22:15:43.760Z"
   },
   {
    "duration": 8,
    "start_time": "2021-11-13T22:15:44.030Z"
   },
   {
    "duration": 11,
    "start_time": "2021-11-13T22:15:44.957Z"
   },
   {
    "duration": 3,
    "start_time": "2021-11-13T22:15:45.717Z"
   },
   {
    "duration": 2640,
    "start_time": "2021-11-13T22:15:46.618Z"
   },
   {
    "duration": 4,
    "start_time": "2021-11-13T22:15:49.263Z"
   },
   {
    "duration": 3,
    "start_time": "2021-11-13T22:15:49.411Z"
   },
   {
    "duration": 1498,
    "start_time": "2021-11-13T22:15:50.055Z"
   },
   {
    "duration": 7,
    "start_time": "2021-11-13T22:15:51.555Z"
   },
   {
    "duration": 92,
    "start_time": "2021-11-13T22:15:51.566Z"
   },
   {
    "duration": 3,
    "start_time": "2021-11-13T22:15:52.512Z"
   },
   {
    "duration": 3,
    "start_time": "2021-11-13T22:15:53.229Z"
   },
   {
    "duration": 3,
    "start_time": "2021-11-13T22:15:54.358Z"
   },
   {
    "duration": 422862,
    "start_time": "2021-11-13T22:15:55.602Z"
   },
   {
    "duration": 3745,
    "start_time": "2021-11-13T22:22:58.469Z"
   },
   {
    "duration": 6,
    "start_time": "2021-11-13T22:23:02.216Z"
   },
   {
    "duration": 23,
    "start_time": "2021-11-13T22:23:02.224Z"
   },
   {
    "duration": 11,
    "start_time": "2021-11-13T22:23:02.251Z"
   },
   {
    "duration": 13,
    "start_time": "2021-11-13T22:23:02.263Z"
   },
   {
    "duration": 17,
    "start_time": "2021-11-13T22:23:02.277Z"
   },
   {
    "duration": 7,
    "start_time": "2021-11-13T22:23:02.296Z"
   },
   {
    "duration": 7,
    "start_time": "2021-11-13T22:23:02.305Z"
   },
   {
    "duration": 7,
    "start_time": "2021-11-13T22:23:02.314Z"
   },
   {
    "duration": 13,
    "start_time": "2021-11-13T22:23:02.322Z"
   },
   {
    "duration": 9,
    "start_time": "2021-11-13T22:23:02.337Z"
   },
   {
    "duration": 5,
    "start_time": "2021-11-13T22:23:02.347Z"
   },
   {
    "duration": 7,
    "start_time": "2021-11-13T22:23:02.354Z"
   },
   {
    "duration": 13,
    "start_time": "2021-11-13T22:23:02.362Z"
   },
   {
    "duration": 15,
    "start_time": "2021-11-13T22:23:02.377Z"
   },
   {
    "duration": 8,
    "start_time": "2021-11-13T22:23:02.394Z"
   },
   {
    "duration": 9,
    "start_time": "2021-11-13T22:23:02.403Z"
   },
   {
    "duration": 9,
    "start_time": "2021-11-13T22:23:02.414Z"
   },
   {
    "duration": 60,
    "start_time": "2021-11-13T22:23:02.424Z"
   },
   {
    "duration": 4,
    "start_time": "2021-11-13T22:23:02.486Z"
   },
   {
    "duration": 12,
    "start_time": "2021-11-13T22:23:02.491Z"
   },
   {
    "duration": 6,
    "start_time": "2021-11-13T22:23:02.506Z"
   },
   {
    "duration": 11,
    "start_time": "2021-11-13T22:23:02.514Z"
   },
   {
    "duration": 10,
    "start_time": "2021-11-13T22:23:02.527Z"
   },
   {
    "duration": 12,
    "start_time": "2021-11-13T22:23:02.539Z"
   },
   {
    "duration": 23,
    "start_time": "2021-11-13T22:23:02.553Z"
   },
   {
    "duration": 6,
    "start_time": "2021-11-13T22:23:02.578Z"
   },
   {
    "duration": 14,
    "start_time": "2021-11-13T22:23:02.585Z"
   },
   {
    "duration": 1625,
    "start_time": "2021-11-14T10:03:23.916Z"
   },
   {
    "duration": 353,
    "start_time": "2021-11-14T10:03:25.544Z"
   },
   {
    "duration": 95,
    "start_time": "2021-11-14T10:03:25.900Z"
   },
   {
    "duration": 445,
    "start_time": "2021-11-14T10:03:25.998Z"
   },
   {
    "duration": 33,
    "start_time": "2021-11-14T10:03:26.445Z"
   },
   {
    "duration": 34,
    "start_time": "2021-11-14T10:03:26.480Z"
   },
   {
    "duration": 381,
    "start_time": "2021-11-14T10:03:26.516Z"
   },
   {
    "duration": 10,
    "start_time": "2021-11-14T10:03:26.900Z"
   },
   {
    "duration": 203,
    "start_time": "2021-11-14T10:03:26.916Z"
   },
   {
    "duration": 17,
    "start_time": "2021-11-14T10:03:27.121Z"
   },
   {
    "duration": 45,
    "start_time": "2021-11-14T10:03:27.140Z"
   },
   {
    "duration": 229,
    "start_time": "2021-11-14T10:03:27.187Z"
   },
   {
    "duration": 8,
    "start_time": "2021-11-14T10:03:27.418Z"
   },
   {
    "duration": 59,
    "start_time": "2021-11-14T10:03:27.428Z"
   },
   {
    "duration": 31,
    "start_time": "2021-11-14T10:03:27.489Z"
   },
   {
    "duration": 47,
    "start_time": "2021-11-14T10:03:27.523Z"
   },
   {
    "duration": 391,
    "start_time": "2021-11-14T10:03:27.572Z"
   },
   {
    "duration": 12,
    "start_time": "2021-11-14T10:03:27.967Z"
   },
   {
    "duration": 179,
    "start_time": "2021-11-14T10:03:27.982Z"
   },
   {
    "duration": 4,
    "start_time": "2021-11-14T10:03:28.166Z"
   },
   {
    "duration": 19,
    "start_time": "2021-11-14T10:03:28.173Z"
   },
   {
    "duration": 6,
    "start_time": "2021-11-14T10:03:28.194Z"
   },
   {
    "duration": 8,
    "start_time": "2021-11-14T10:03:28.203Z"
   },
   {
    "duration": 11,
    "start_time": "2021-11-14T10:03:28.213Z"
   },
   {
    "duration": 7,
    "start_time": "2021-11-14T10:03:28.227Z"
   },
   {
    "duration": 35,
    "start_time": "2021-11-14T10:03:28.237Z"
   },
   {
    "duration": 9,
    "start_time": "2021-11-14T10:03:28.278Z"
   },
   {
    "duration": 20,
    "start_time": "2021-11-14T10:03:28.291Z"
   },
   {
    "duration": 7,
    "start_time": "2021-11-14T10:03:28.314Z"
   },
   {
    "duration": 46,
    "start_time": "2021-11-14T10:03:28.323Z"
   },
   {
    "duration": 6,
    "start_time": "2021-11-14T10:03:28.372Z"
   },
   {
    "duration": 7,
    "start_time": "2021-11-14T10:03:28.381Z"
   },
   {
    "duration": 16,
    "start_time": "2021-11-14T10:03:28.391Z"
   },
   {
    "duration": 7,
    "start_time": "2021-11-14T10:03:28.410Z"
   },
   {
    "duration": 71,
    "start_time": "2021-11-14T10:03:28.419Z"
   },
   {
    "duration": 10,
    "start_time": "2021-11-14T10:03:28.493Z"
   },
   {
    "duration": 7,
    "start_time": "2021-11-14T10:03:28.506Z"
   },
   {
    "duration": 11,
    "start_time": "2021-11-14T10:03:28.516Z"
   },
   {
    "duration": 2549,
    "start_time": "2021-11-14T10:03:28.530Z"
   },
   {
    "duration": 8,
    "start_time": "2021-11-14T10:03:31.081Z"
   },
   {
    "duration": 2369,
    "start_time": "2021-11-14T10:03:31.091Z"
   },
   {
    "duration": 9,
    "start_time": "2021-11-14T10:03:33.462Z"
   },
   {
    "duration": 2598,
    "start_time": "2021-11-14T10:03:33.475Z"
   },
   {
    "duration": 9,
    "start_time": "2021-11-14T10:03:36.075Z"
   },
   {
    "duration": 467,
    "start_time": "2021-11-14T10:03:36.087Z"
   },
   {
    "duration": 470,
    "start_time": "2021-11-14T10:03:36.557Z"
   },
   {
    "duration": 5,
    "start_time": "2021-11-14T10:03:37.030Z"
   },
   {
    "duration": 8,
    "start_time": "2021-11-14T10:03:37.037Z"
   },
   {
    "duration": 23,
    "start_time": "2021-11-14T10:03:37.047Z"
   },
   {
    "duration": 9,
    "start_time": "2021-11-14T10:03:37.072Z"
   },
   {
    "duration": 2469,
    "start_time": "2021-11-14T10:03:37.083Z"
   },
   {
    "duration": 14,
    "start_time": "2021-11-14T10:03:39.555Z"
   },
   {
    "duration": 66,
    "start_time": "2021-11-14T10:03:39.571Z"
   },
   {
    "duration": 10,
    "start_time": "2021-11-14T10:03:39.639Z"
   },
   {
    "duration": 2420,
    "start_time": "2021-11-14T10:03:39.667Z"
   },
   {
    "duration": 5,
    "start_time": "2021-11-14T10:03:42.089Z"
   },
   {
    "duration": 8,
    "start_time": "2021-11-14T10:03:42.097Z"
   },
   {
    "duration": 15,
    "start_time": "2021-11-14T10:03:42.108Z"
   },
   {
    "duration": 178,
    "start_time": "2021-11-14T10:03:42.126Z"
   },
   {
    "duration": 15,
    "start_time": "2021-11-14T10:03:42.306Z"
   },
   {
    "duration": 10,
    "start_time": "2021-11-14T10:03:42.324Z"
   },
   {
    "duration": 40,
    "start_time": "2021-11-14T10:03:42.336Z"
   },
   {
    "duration": 3,
    "start_time": "2021-11-14T10:03:42.379Z"
   },
   {
    "duration": 1701,
    "start_time": "2021-11-14T10:03:42.385Z"
   },
   {
    "duration": 6,
    "start_time": "2021-11-14T10:03:44.089Z"
   },
   {
    "duration": 70,
    "start_time": "2021-11-14T10:03:44.099Z"
   },
   {
    "duration": 1609,
    "start_time": "2021-11-14T10:03:44.173Z"
   },
   {
    "duration": 83,
    "start_time": "2021-11-14T10:03:45.785Z"
   },
   {
    "duration": 8,
    "start_time": "2021-11-14T10:03:45.871Z"
   },
   {
    "duration": 13,
    "start_time": "2021-11-14T10:03:45.881Z"
   },
   {
    "duration": 73,
    "start_time": "2021-11-14T10:03:45.897Z"
   },
   {
    "duration": 8,
    "start_time": "2021-11-14T10:03:45.973Z"
   },
   {
    "duration": 533368,
    "start_time": "2021-11-14T10:03:45.983Z"
   },
   {
    "duration": 4800,
    "start_time": "2021-11-14T10:12:39.353Z"
   },
   {
    "duration": 13,
    "start_time": "2021-11-14T10:12:44.156Z"
   },
   {
    "duration": 10,
    "start_time": "2021-11-14T10:12:44.171Z"
   },
   {
    "duration": 7,
    "start_time": "2021-11-14T10:12:44.184Z"
   },
   {
    "duration": 7,
    "start_time": "2021-11-14T10:12:44.194Z"
   },
   {
    "duration": 9,
    "start_time": "2021-11-14T10:12:44.204Z"
   },
   {
    "duration": 54,
    "start_time": "2021-11-14T10:12:44.216Z"
   },
   {
    "duration": 5,
    "start_time": "2021-11-14T10:12:44.280Z"
   },
   {
    "duration": 8,
    "start_time": "2021-11-14T10:12:44.288Z"
   },
   {
    "duration": 7,
    "start_time": "2021-11-14T10:12:44.299Z"
   },
   {
    "duration": 7,
    "start_time": "2021-11-14T10:12:44.308Z"
   },
   {
    "duration": 51,
    "start_time": "2021-11-14T10:12:44.317Z"
   },
   {
    "duration": 4,
    "start_time": "2021-11-14T10:12:44.371Z"
   },
   {
    "duration": 9,
    "start_time": "2021-11-14T10:12:44.377Z"
   },
   {
    "duration": 6,
    "start_time": "2021-11-14T10:12:44.389Z"
   },
   {
    "duration": 10,
    "start_time": "2021-11-14T10:12:44.397Z"
   },
   {
    "duration": 6,
    "start_time": "2021-11-14T10:12:44.409Z"
   },
   {
    "duration": 21,
    "start_time": "2021-11-14T10:12:44.418Z"
   },
   {
    "duration": 68,
    "start_time": "2021-11-14T10:12:44.466Z"
   },
   {
    "duration": 6,
    "start_time": "2021-11-14T10:12:44.536Z"
   },
   {
    "duration": 27,
    "start_time": "2021-11-14T10:12:44.545Z"
   },
   {
    "duration": 7,
    "start_time": "2021-11-14T10:12:44.575Z"
   },
   {
    "duration": 10,
    "start_time": "2021-11-14T10:12:44.584Z"
   },
   {
    "duration": 10,
    "start_time": "2021-11-14T10:12:44.597Z"
   },
   {
    "duration": 5,
    "start_time": "2021-11-14T10:12:44.610Z"
   },
   {
    "duration": 56,
    "start_time": "2021-11-14T10:12:44.618Z"
   },
   {
    "duration": 4,
    "start_time": "2021-11-14T10:12:44.677Z"
   },
   {
    "duration": 10,
    "start_time": "2021-11-14T10:12:44.683Z"
   },
   {
    "duration": 16,
    "start_time": "2021-11-14T10:20:19.460Z"
   },
   {
    "duration": 9,
    "start_time": "2021-11-14T10:22:06.980Z"
   },
   {
    "duration": 4236,
    "start_time": "2021-11-14T10:23:38.935Z"
   },
   {
    "duration": 6,
    "start_time": "2021-11-14T10:25:32.627Z"
   },
   {
    "duration": 1574,
    "start_time": "2021-11-14T10:26:00.660Z"
   },
   {
    "duration": 342,
    "start_time": "2021-11-14T10:26:02.237Z"
   },
   {
    "duration": 95,
    "start_time": "2021-11-14T10:26:02.582Z"
   },
   {
    "duration": 455,
    "start_time": "2021-11-14T10:26:02.680Z"
   },
   {
    "duration": 32,
    "start_time": "2021-11-14T10:26:03.137Z"
   },
   {
    "duration": 34,
    "start_time": "2021-11-14T10:26:03.171Z"
   },
   {
    "duration": 442,
    "start_time": "2021-11-14T10:26:03.207Z"
   },
   {
    "duration": 21,
    "start_time": "2021-11-14T10:26:03.652Z"
   },
   {
    "duration": 204,
    "start_time": "2021-11-14T10:26:03.678Z"
   },
   {
    "duration": 16,
    "start_time": "2021-11-14T10:26:03.886Z"
   },
   {
    "duration": 30,
    "start_time": "2021-11-14T10:26:03.904Z"
   },
   {
    "duration": 222,
    "start_time": "2021-11-14T10:26:03.966Z"
   },
   {
    "duration": 10,
    "start_time": "2021-11-14T10:26:04.191Z"
   },
   {
    "duration": 65,
    "start_time": "2021-11-14T10:26:04.204Z"
   },
   {
    "duration": 30,
    "start_time": "2021-11-14T10:26:04.272Z"
   },
   {
    "duration": 30,
    "start_time": "2021-11-14T10:26:04.305Z"
   },
   {
    "duration": 415,
    "start_time": "2021-11-14T10:26:04.338Z"
   },
   {
    "duration": 24,
    "start_time": "2021-11-14T10:26:04.756Z"
   },
   {
    "duration": 178,
    "start_time": "2021-11-14T10:26:04.782Z"
   },
   {
    "duration": 4,
    "start_time": "2021-11-14T10:26:04.963Z"
   },
   {
    "duration": 19,
    "start_time": "2021-11-14T10:26:04.970Z"
   },
   {
    "duration": 9,
    "start_time": "2021-11-14T10:26:04.991Z"
   },
   {
    "duration": 6,
    "start_time": "2021-11-14T10:26:05.002Z"
   },
   {
    "duration": 11,
    "start_time": "2021-11-14T10:26:05.011Z"
   },
   {
    "duration": 45,
    "start_time": "2021-11-14T10:26:05.024Z"
   },
   {
    "duration": 5,
    "start_time": "2021-11-14T10:26:05.071Z"
   },
   {
    "duration": 5,
    "start_time": "2021-11-14T10:26:05.083Z"
   },
   {
    "duration": 24,
    "start_time": "2021-11-14T10:26:05.092Z"
   },
   {
    "duration": 6,
    "start_time": "2021-11-14T10:26:05.118Z"
   },
   {
    "duration": 44,
    "start_time": "2021-11-14T10:26:05.127Z"
   },
   {
    "duration": 10,
    "start_time": "2021-11-14T10:26:05.174Z"
   },
   {
    "duration": 8,
    "start_time": "2021-11-14T10:26:05.187Z"
   },
   {
    "duration": 20,
    "start_time": "2021-11-14T10:26:05.197Z"
   },
   {
    "duration": 7,
    "start_time": "2021-11-14T10:26:05.219Z"
   },
   {
    "duration": 58,
    "start_time": "2021-11-14T10:26:05.228Z"
   },
   {
    "duration": 10,
    "start_time": "2021-11-14T10:26:05.288Z"
   },
   {
    "duration": 7,
    "start_time": "2021-11-14T10:26:05.300Z"
   },
   {
    "duration": 19,
    "start_time": "2021-11-14T10:26:05.309Z"
   },
   {
    "duration": 2877,
    "start_time": "2021-11-14T10:26:05.330Z"
   },
   {
    "duration": 11,
    "start_time": "2021-11-14T10:26:08.210Z"
   },
   {
    "duration": 2577,
    "start_time": "2021-11-14T10:26:08.223Z"
   },
   {
    "duration": 10,
    "start_time": "2021-11-14T10:26:10.802Z"
   },
   {
    "duration": 2612,
    "start_time": "2021-11-14T10:26:10.815Z"
   },
   {
    "duration": 10,
    "start_time": "2021-11-14T10:26:13.429Z"
   },
   {
    "duration": 493,
    "start_time": "2021-11-14T10:26:13.441Z"
   },
   {
    "duration": 487,
    "start_time": "2021-11-14T10:26:13.937Z"
   },
   {
    "duration": 5,
    "start_time": "2021-11-14T10:26:14.427Z"
   },
   {
    "duration": 10,
    "start_time": "2021-11-14T10:26:14.434Z"
   },
   {
    "duration": 22,
    "start_time": "2021-11-14T10:26:14.446Z"
   },
   {
    "duration": 5,
    "start_time": "2021-11-14T10:26:14.471Z"
   },
   {
    "duration": 3151,
    "start_time": "2021-11-14T10:26:14.478Z"
   },
   {
    "duration": 8,
    "start_time": "2021-11-14T10:26:17.632Z"
   },
   {
    "duration": 96,
    "start_time": "2021-11-14T10:26:17.642Z"
   },
   {
    "duration": 11,
    "start_time": "2021-11-14T10:26:17.740Z"
   },
   {
    "duration": 2420,
    "start_time": "2021-11-14T10:26:17.768Z"
   },
   {
    "duration": 6,
    "start_time": "2021-11-14T10:26:20.191Z"
   },
   {
    "duration": 14,
    "start_time": "2021-11-14T10:26:20.200Z"
   },
   {
    "duration": 28,
    "start_time": "2021-11-14T10:26:20.216Z"
   },
   {
    "duration": 167,
    "start_time": "2021-11-14T10:26:20.246Z"
   },
   {
    "duration": 15,
    "start_time": "2021-11-14T10:26:20.415Z"
   },
   {
    "duration": 13,
    "start_time": "2021-11-14T10:26:20.433Z"
   },
   {
    "duration": 31,
    "start_time": "2021-11-14T10:26:20.448Z"
   },
   {
    "duration": 3,
    "start_time": "2021-11-14T10:26:20.482Z"
   },
   {
    "duration": 1485,
    "start_time": "2021-11-14T10:26:20.487Z"
   },
   {
    "duration": 6,
    "start_time": "2021-11-14T10:26:21.975Z"
   },
   {
    "duration": 6,
    "start_time": "2021-11-14T10:26:21.985Z"
   },
   {
    "duration": 1679,
    "start_time": "2021-11-14T10:26:21.994Z"
   },
   {
    "duration": 6,
    "start_time": "2021-11-14T10:26:23.676Z"
   },
   {
    "duration": 94,
    "start_time": "2021-11-14T10:26:23.685Z"
   },
   {
    "duration": 3189,
    "start_time": "2021-11-14T10:26:23.781Z"
   },
   {
    "duration": 6,
    "start_time": "2021-11-14T10:26:26.973Z"
   },
   {
    "duration": 87,
    "start_time": "2021-11-14T10:26:26.982Z"
   },
   {
    "duration": 11,
    "start_time": "2021-11-14T10:26:27.071Z"
   },
   {
    "duration": 8,
    "start_time": "2021-11-14T10:26:27.084Z"
   },
   {
    "duration": 8,
    "start_time": "2021-11-14T10:26:27.094Z"
   },
   {
    "duration": 529134,
    "start_time": "2021-11-14T10:26:27.104Z"
   },
   {
    "duration": 5790,
    "start_time": "2021-11-14T10:35:16.240Z"
   },
   {
    "duration": 9,
    "start_time": "2021-11-14T10:35:22.033Z"
   },
   {
    "duration": 25,
    "start_time": "2021-11-14T10:35:22.045Z"
   },
   {
    "duration": 10,
    "start_time": "2021-11-14T10:35:22.072Z"
   },
   {
    "duration": 6,
    "start_time": "2021-11-14T10:35:22.095Z"
   },
   {
    "duration": 10,
    "start_time": "2021-11-14T10:35:22.105Z"
   },
   {
    "duration": 54,
    "start_time": "2021-11-14T10:35:22.118Z"
   },
   {
    "duration": 11,
    "start_time": "2021-11-14T10:35:22.175Z"
   },
   {
    "duration": 7,
    "start_time": "2021-11-14T10:35:22.189Z"
   },
   {
    "duration": 6,
    "start_time": "2021-11-14T10:35:22.198Z"
   },
   {
    "duration": 9,
    "start_time": "2021-11-14T10:35:22.206Z"
   },
   {
    "duration": 12,
    "start_time": "2021-11-14T10:35:22.217Z"
   },
   {
    "duration": 37,
    "start_time": "2021-11-14T10:35:22.232Z"
   },
   {
    "duration": 8,
    "start_time": "2021-11-14T10:35:22.272Z"
   },
   {
    "duration": 6,
    "start_time": "2021-11-14T10:35:22.282Z"
   },
   {
    "duration": 8,
    "start_time": "2021-11-14T10:35:22.291Z"
   },
   {
    "duration": 6,
    "start_time": "2021-11-14T10:35:22.301Z"
   },
   {
    "duration": 9,
    "start_time": "2021-11-14T10:35:22.309Z"
   },
   {
    "duration": 109,
    "start_time": "2021-11-14T10:35:22.321Z"
   },
   {
    "duration": 5,
    "start_time": "2021-11-14T10:35:22.432Z"
   },
   {
    "duration": 27,
    "start_time": "2021-11-14T10:35:22.440Z"
   },
   {
    "duration": 3,
    "start_time": "2021-11-14T10:35:22.470Z"
   },
   {
    "duration": 9,
    "start_time": "2021-11-14T10:35:22.476Z"
   },
   {
    "duration": 15,
    "start_time": "2021-11-14T10:35:22.487Z"
   },
   {
    "duration": 11,
    "start_time": "2021-11-14T10:35:22.504Z"
   },
   {
    "duration": 16,
    "start_time": "2021-11-14T10:35:22.518Z"
   },
   {
    "duration": 6,
    "start_time": "2021-11-14T10:35:22.536Z"
   },
   {
    "duration": 5,
    "start_time": "2021-11-14T10:35:22.568Z"
   },
   {
    "duration": 8,
    "start_time": "2021-11-14T10:37:17.917Z"
   },
   {
    "duration": 4,
    "start_time": "2021-11-14T10:37:19.679Z"
   },
   {
    "duration": 5,
    "start_time": "2021-11-14T10:37:20.463Z"
   },
   {
    "duration": 1576,
    "start_time": "2021-11-14T10:42:54.457Z"
   },
   {
    "duration": 338,
    "start_time": "2021-11-14T10:42:56.036Z"
   },
   {
    "duration": 95,
    "start_time": "2021-11-14T10:42:56.377Z"
   },
   {
    "duration": 456,
    "start_time": "2021-11-14T10:42:56.474Z"
   },
   {
    "duration": 35,
    "start_time": "2021-11-14T10:42:56.932Z"
   },
   {
    "duration": 37,
    "start_time": "2021-11-14T10:42:56.970Z"
   },
   {
    "duration": 398,
    "start_time": "2021-11-14T10:42:57.010Z"
   },
   {
    "duration": 11,
    "start_time": "2021-11-14T10:42:57.411Z"
   },
   {
    "duration": 206,
    "start_time": "2021-11-14T10:42:57.426Z"
   },
   {
    "duration": 31,
    "start_time": "2021-11-14T10:42:57.636Z"
   },
   {
    "duration": 31,
    "start_time": "2021-11-14T10:42:57.670Z"
   },
   {
    "duration": 247,
    "start_time": "2021-11-14T10:42:57.704Z"
   },
   {
    "duration": 17,
    "start_time": "2021-11-14T10:42:57.954Z"
   },
   {
    "duration": 38,
    "start_time": "2021-11-14T10:42:57.973Z"
   },
   {
    "duration": 58,
    "start_time": "2021-11-14T10:42:58.014Z"
   },
   {
    "duration": 31,
    "start_time": "2021-11-14T10:42:58.075Z"
   },
   {
    "duration": 498,
    "start_time": "2021-11-14T10:42:58.108Z"
   },
   {
    "duration": 13,
    "start_time": "2021-11-14T10:42:58.608Z"
   },
   {
    "duration": 185,
    "start_time": "2021-11-14T10:42:58.623Z"
   },
   {
    "duration": 4,
    "start_time": "2021-11-14T10:42:58.810Z"
   },
   {
    "duration": 17,
    "start_time": "2021-11-14T10:42:58.816Z"
   },
   {
    "duration": 12,
    "start_time": "2021-11-14T10:42:58.836Z"
   },
   {
    "duration": 18,
    "start_time": "2021-11-14T10:42:58.850Z"
   },
   {
    "duration": 10,
    "start_time": "2021-11-14T10:42:58.870Z"
   },
   {
    "duration": 9,
    "start_time": "2021-11-14T10:42:58.882Z"
   },
   {
    "duration": 7,
    "start_time": "2021-11-14T10:42:58.893Z"
   },
   {
    "duration": 8,
    "start_time": "2021-11-14T10:42:58.907Z"
   },
   {
    "duration": 62,
    "start_time": "2021-11-14T10:42:58.919Z"
   },
   {
    "duration": 5,
    "start_time": "2021-11-14T10:42:58.984Z"
   },
   {
    "duration": 7,
    "start_time": "2021-11-14T10:42:58.992Z"
   },
   {
    "duration": 6,
    "start_time": "2021-11-14T10:42:59.002Z"
   },
   {
    "duration": 17,
    "start_time": "2021-11-14T10:42:59.010Z"
   },
   {
    "duration": 49,
    "start_time": "2021-11-14T10:42:59.029Z"
   },
   {
    "duration": 7,
    "start_time": "2021-11-14T10:42:59.081Z"
   },
   {
    "duration": 33,
    "start_time": "2021-11-14T10:42:59.091Z"
   },
   {
    "duration": 11,
    "start_time": "2021-11-14T10:42:59.126Z"
   },
   {
    "duration": 33,
    "start_time": "2021-11-14T10:42:59.139Z"
   },
   {
    "duration": 15,
    "start_time": "2021-11-14T10:42:59.175Z"
   },
   {
    "duration": 2751,
    "start_time": "2021-11-14T10:42:59.192Z"
   },
   {
    "duration": 25,
    "start_time": "2021-11-14T10:43:01.945Z"
   },
   {
    "duration": 2336,
    "start_time": "2021-11-14T10:43:01.973Z"
   },
   {
    "duration": 10,
    "start_time": "2021-11-14T10:43:04.312Z"
   },
   {
    "duration": 2490,
    "start_time": "2021-11-14T10:43:04.325Z"
   },
   {
    "duration": 9,
    "start_time": "2021-11-14T10:43:06.817Z"
   },
   {
    "duration": 473,
    "start_time": "2021-11-14T10:43:06.828Z"
   },
   {
    "duration": 483,
    "start_time": "2021-11-14T10:43:07.303Z"
   },
   {
    "duration": 5,
    "start_time": "2021-11-14T10:43:07.788Z"
   },
   {
    "duration": 21,
    "start_time": "2021-11-14T10:43:07.796Z"
   },
   {
    "duration": 19,
    "start_time": "2021-11-14T10:43:07.820Z"
   },
   {
    "duration": 16,
    "start_time": "2021-11-14T10:43:07.842Z"
   },
   {
    "duration": 2635,
    "start_time": "2021-11-14T10:43:07.860Z"
   },
   {
    "duration": 6,
    "start_time": "2021-11-14T10:43:10.497Z"
   },
   {
    "duration": 92,
    "start_time": "2021-11-14T10:43:10.505Z"
   },
   {
    "duration": 10,
    "start_time": "2021-11-14T10:43:10.600Z"
   },
   {
    "duration": 2421,
    "start_time": "2021-11-14T10:43:10.613Z"
   },
   {
    "duration": 5,
    "start_time": "2021-11-14T10:43:13.036Z"
   },
   {
    "duration": 23,
    "start_time": "2021-11-14T10:43:13.043Z"
   },
   {
    "duration": 12,
    "start_time": "2021-11-14T10:43:13.069Z"
   },
   {
    "duration": 162,
    "start_time": "2021-11-14T10:43:13.083Z"
   },
   {
    "duration": 24,
    "start_time": "2021-11-14T10:43:13.247Z"
   },
   {
    "duration": 9,
    "start_time": "2021-11-14T10:43:13.273Z"
   },
   {
    "duration": 29,
    "start_time": "2021-11-14T10:43:13.284Z"
   },
   {
    "duration": 4,
    "start_time": "2021-11-14T10:43:13.315Z"
   },
   {
    "duration": 1653,
    "start_time": "2021-11-14T10:43:13.321Z"
   },
   {
    "duration": 6,
    "start_time": "2021-11-14T10:43:14.978Z"
   },
   {
    "duration": 5,
    "start_time": "2021-11-14T10:43:15.068Z"
   },
   {
    "duration": 1497,
    "start_time": "2021-11-14T10:43:15.076Z"
   },
   {
    "duration": 84,
    "start_time": "2021-11-14T10:43:16.584Z"
   },
   {
    "duration": 21,
    "start_time": "2021-11-14T10:43:16.671Z"
   },
   {
    "duration": 3778,
    "start_time": "2021-11-14T10:43:16.694Z"
   },
   {
    "duration": 7,
    "start_time": "2021-11-14T10:43:20.475Z"
   },
   {
    "duration": 6,
    "start_time": "2021-11-14T10:43:20.485Z"
   },
   {
    "duration": 75,
    "start_time": "2021-11-14T10:43:20.494Z"
   },
   {
    "duration": 17,
    "start_time": "2021-11-14T10:43:20.571Z"
   },
   {
    "duration": 9,
    "start_time": "2021-11-14T10:43:20.590Z"
   },
   {
    "duration": 528213,
    "start_time": "2021-11-14T10:43:20.601Z"
   },
   {
    "duration": 4719,
    "start_time": "2021-11-14T10:52:08.816Z"
   },
   {
    "duration": 7,
    "start_time": "2021-11-14T10:52:13.538Z"
   },
   {
    "duration": 8,
    "start_time": "2021-11-14T10:52:13.566Z"
   },
   {
    "duration": 11,
    "start_time": "2021-11-14T10:52:13.576Z"
   },
   {
    "duration": 5,
    "start_time": "2021-11-14T10:52:13.596Z"
   },
   {
    "duration": 8,
    "start_time": "2021-11-14T10:52:13.604Z"
   },
   {
    "duration": 14,
    "start_time": "2021-11-14T10:52:13.614Z"
   },
   {
    "duration": 40,
    "start_time": "2021-11-14T10:52:13.630Z"
   },
   {
    "duration": 8,
    "start_time": "2021-11-14T10:52:13.673Z"
   },
   {
    "duration": 6,
    "start_time": "2021-11-14T10:52:13.684Z"
   },
   {
    "duration": 8,
    "start_time": "2021-11-14T10:52:13.692Z"
   },
   {
    "duration": 8,
    "start_time": "2021-11-14T10:52:13.703Z"
   },
   {
    "duration": 7,
    "start_time": "2021-11-14T10:52:13.713Z"
   },
   {
    "duration": 45,
    "start_time": "2021-11-14T10:52:13.722Z"
   },
   {
    "duration": 5,
    "start_time": "2021-11-14T10:52:13.770Z"
   },
   {
    "duration": 7,
    "start_time": "2021-11-14T10:52:13.778Z"
   },
   {
    "duration": 7,
    "start_time": "2021-11-14T10:52:13.788Z"
   },
   {
    "duration": 8,
    "start_time": "2021-11-14T10:52:13.797Z"
   },
   {
    "duration": 109,
    "start_time": "2021-11-14T10:52:13.808Z"
   },
   {
    "duration": 7,
    "start_time": "2021-11-14T10:52:13.920Z"
   },
   {
    "duration": 9,
    "start_time": "2021-11-14T10:52:13.930Z"
   },
   {
    "duration": 27,
    "start_time": "2021-11-14T10:52:13.941Z"
   },
   {
    "duration": 8,
    "start_time": "2021-11-14T10:52:13.971Z"
   },
   {
    "duration": 10,
    "start_time": "2021-11-14T10:52:13.982Z"
   },
   {
    "duration": 4,
    "start_time": "2021-11-14T10:52:13.995Z"
   },
   {
    "duration": 15,
    "start_time": "2021-11-14T10:52:14.002Z"
   },
   {
    "duration": 48,
    "start_time": "2021-11-14T10:52:14.019Z"
   },
   {
    "duration": 9,
    "start_time": "2021-11-14T10:52:14.070Z"
   },
   {
    "duration": 1198,
    "start_time": "2021-11-15T08:13:55.364Z"
   },
   {
    "duration": 294,
    "start_time": "2021-11-15T08:13:56.564Z"
   },
   {
    "duration": 85,
    "start_time": "2021-11-15T08:13:56.860Z"
   },
   {
    "duration": 383,
    "start_time": "2021-11-15T08:13:56.947Z"
   },
   {
    "duration": 25,
    "start_time": "2021-11-15T08:13:57.332Z"
   },
   {
    "duration": 23,
    "start_time": "2021-11-15T08:13:57.358Z"
   },
   {
    "duration": 241,
    "start_time": "2021-11-15T08:13:57.383Z"
   },
   {
    "duration": 7,
    "start_time": "2021-11-15T08:13:57.626Z"
   },
   {
    "duration": 115,
    "start_time": "2021-11-15T08:13:57.645Z"
   },
   {
    "duration": 10,
    "start_time": "2021-11-15T08:13:57.762Z"
   },
   {
    "duration": 18,
    "start_time": "2021-11-15T08:13:57.774Z"
   },
   {
    "duration": 150,
    "start_time": "2021-11-15T08:13:57.794Z"
   },
   {
    "duration": 5,
    "start_time": "2021-11-15T08:13:57.946Z"
   },
   {
    "duration": 23,
    "start_time": "2021-11-15T08:13:57.953Z"
   },
   {
    "duration": 19,
    "start_time": "2021-11-15T08:13:57.977Z"
   },
   {
    "duration": 48,
    "start_time": "2021-11-15T08:13:57.997Z"
   },
   {
    "duration": 242,
    "start_time": "2021-11-15T08:13:58.047Z"
   },
   {
    "duration": 10,
    "start_time": "2021-11-15T08:13:58.290Z"
   },
   {
    "duration": 100,
    "start_time": "2021-11-15T08:13:58.301Z"
   },
   {
    "duration": 2,
    "start_time": "2021-11-15T08:13:58.403Z"
   },
   {
    "duration": 14,
    "start_time": "2021-11-15T08:13:58.407Z"
   },
   {
    "duration": 5,
    "start_time": "2021-11-15T08:13:58.423Z"
   },
   {
    "duration": 14,
    "start_time": "2021-11-15T08:13:58.430Z"
   },
   {
    "duration": 9,
    "start_time": "2021-11-15T08:13:58.446Z"
   },
   {
    "duration": 6,
    "start_time": "2021-11-15T08:13:58.457Z"
   },
   {
    "duration": 7,
    "start_time": "2021-11-15T08:13:58.464Z"
   },
   {
    "duration": 8,
    "start_time": "2021-11-15T08:13:58.475Z"
   },
   {
    "duration": 14,
    "start_time": "2021-11-15T08:13:58.486Z"
   },
   {
    "duration": 5,
    "start_time": "2021-11-15T08:13:58.502Z"
   },
   {
    "duration": 38,
    "start_time": "2021-11-15T08:13:58.508Z"
   },
   {
    "duration": 6,
    "start_time": "2021-11-15T08:13:58.548Z"
   },
   {
    "duration": 5,
    "start_time": "2021-11-15T08:13:58.556Z"
   },
   {
    "duration": 17,
    "start_time": "2021-11-15T08:13:58.563Z"
   },
   {
    "duration": 6,
    "start_time": "2021-11-15T08:13:58.581Z"
   },
   {
    "duration": 25,
    "start_time": "2021-11-15T08:13:58.588Z"
   },
   {
    "duration": 12,
    "start_time": "2021-11-15T08:13:58.645Z"
   },
   {
    "duration": 9,
    "start_time": "2021-11-15T08:13:58.659Z"
   },
   {
    "duration": 9,
    "start_time": "2021-11-15T08:13:58.670Z"
   },
   {
    "duration": 1458,
    "start_time": "2021-11-15T08:13:58.681Z"
   },
   {
    "duration": 7,
    "start_time": "2021-11-15T08:14:00.141Z"
   },
   {
    "duration": 1396,
    "start_time": "2021-11-15T08:14:00.150Z"
   },
   {
    "duration": 7,
    "start_time": "2021-11-15T08:14:01.548Z"
   },
   {
    "duration": 1582,
    "start_time": "2021-11-15T08:14:01.556Z"
   },
   {
    "duration": 8,
    "start_time": "2021-11-15T08:14:03.140Z"
   },
   {
    "duration": 294,
    "start_time": "2021-11-15T08:14:03.150Z"
   },
   {
    "duration": 291,
    "start_time": "2021-11-15T08:14:03.446Z"
   },
   {
    "duration": 6,
    "start_time": "2021-11-15T08:14:03.739Z"
   },
   {
    "duration": 6,
    "start_time": "2021-11-15T08:14:03.746Z"
   },
   {
    "duration": 10,
    "start_time": "2021-11-15T08:14:03.754Z"
   },
   {
    "duration": 7,
    "start_time": "2021-11-15T08:14:03.766Z"
   },
   {
    "duration": 1453,
    "start_time": "2021-11-15T08:14:03.775Z"
   },
   {
    "duration": 4,
    "start_time": "2021-11-15T08:14:05.230Z"
   },
   {
    "duration": 51,
    "start_time": "2021-11-15T08:14:05.245Z"
   },
   {
    "duration": 7,
    "start_time": "2021-11-15T08:14:05.297Z"
   },
   {
    "duration": 1386,
    "start_time": "2021-11-15T08:14:05.306Z"
   },
   {
    "duration": 4,
    "start_time": "2021-11-15T08:14:06.694Z"
   },
   {
    "duration": 14,
    "start_time": "2021-11-15T08:14:06.699Z"
   },
   {
    "duration": 13,
    "start_time": "2021-11-15T08:14:06.715Z"
   },
   {
    "duration": 166,
    "start_time": "2021-11-15T08:14:06.730Z"
   },
   {
    "duration": 10,
    "start_time": "2021-11-15T08:14:06.898Z"
   },
   {
    "duration": 7,
    "start_time": "2021-11-15T08:14:06.910Z"
   },
   {
    "duration": 29,
    "start_time": "2021-11-15T08:14:06.919Z"
   },
   {
    "duration": 2,
    "start_time": "2021-11-15T08:14:06.950Z"
   },
   {
    "duration": 1305,
    "start_time": "2021-11-15T08:14:06.954Z"
   },
   {
    "duration": 82,
    "start_time": "2021-11-15T08:14:08.264Z"
   },
   {
    "duration": 7,
    "start_time": "2021-11-15T08:14:08.348Z"
   },
   {
    "duration": 1592,
    "start_time": "2021-11-15T08:14:08.357Z"
   },
   {
    "duration": 3,
    "start_time": "2021-11-15T08:14:09.952Z"
   },
   {
    "duration": 16,
    "start_time": "2021-11-15T08:14:09.958Z"
   },
   {
    "duration": 3368,
    "start_time": "2021-11-15T08:14:09.976Z"
   },
   {
    "duration": 5,
    "start_time": "2021-11-15T08:14:13.347Z"
   },
   {
    "duration": 6,
    "start_time": "2021-11-15T08:14:13.354Z"
   },
   {
    "duration": 9,
    "start_time": "2021-11-15T08:14:13.362Z"
   },
   {
    "duration": 3,
    "start_time": "2021-11-15T08:14:13.445Z"
   },
   {
    "duration": 6,
    "start_time": "2021-11-15T08:14:13.450Z"
   },
   {
    "duration": 1195,
    "start_time": "2021-11-15T08:20:15.563Z"
   },
   {
    "duration": 291,
    "start_time": "2021-11-15T08:20:16.761Z"
   },
   {
    "duration": 85,
    "start_time": "2021-11-15T08:20:17.055Z"
   },
   {
    "duration": 402,
    "start_time": "2021-11-15T08:20:17.143Z"
   },
   {
    "duration": 16,
    "start_time": "2021-11-15T08:20:17.546Z"
   },
   {
    "duration": 22,
    "start_time": "2021-11-15T08:20:17.565Z"
   },
   {
    "duration": 255,
    "start_time": "2021-11-15T08:20:17.589Z"
   },
   {
    "duration": 8,
    "start_time": "2021-11-15T08:20:17.846Z"
   },
   {
    "duration": 129,
    "start_time": "2021-11-15T08:20:17.857Z"
   },
   {
    "duration": 11,
    "start_time": "2021-11-15T08:20:17.989Z"
   },
   {
    "duration": 20,
    "start_time": "2021-11-15T08:20:18.002Z"
   },
   {
    "duration": 159,
    "start_time": "2021-11-15T08:20:18.025Z"
   },
   {
    "duration": 5,
    "start_time": "2021-11-15T08:20:18.186Z"
   },
   {
    "duration": 23,
    "start_time": "2021-11-15T08:20:18.193Z"
   },
   {
    "duration": 43,
    "start_time": "2021-11-15T08:20:18.217Z"
   },
   {
    "duration": 19,
    "start_time": "2021-11-15T08:20:18.262Z"
   },
   {
    "duration": 264,
    "start_time": "2021-11-15T08:20:18.282Z"
   },
   {
    "duration": 9,
    "start_time": "2021-11-15T08:20:18.548Z"
   },
   {
    "duration": 103,
    "start_time": "2021-11-15T08:20:18.558Z"
   },
   {
    "duration": 3,
    "start_time": "2021-11-15T08:20:18.663Z"
   },
   {
    "duration": 19,
    "start_time": "2021-11-15T08:20:18.668Z"
   },
   {
    "duration": 13,
    "start_time": "2021-11-15T08:20:18.689Z"
   },
   {
    "duration": 18,
    "start_time": "2021-11-15T08:20:18.704Z"
   },
   {
    "duration": 22,
    "start_time": "2021-11-15T08:20:18.724Z"
   },
   {
    "duration": 35,
    "start_time": "2021-11-15T08:20:18.748Z"
   },
   {
    "duration": 23,
    "start_time": "2021-11-15T08:20:18.785Z"
   },
   {
    "duration": 11,
    "start_time": "2021-11-15T08:20:18.813Z"
   },
   {
    "duration": 25,
    "start_time": "2021-11-15T08:20:18.827Z"
   },
   {
    "duration": 14,
    "start_time": "2021-11-15T08:20:18.853Z"
   },
   {
    "duration": 23,
    "start_time": "2021-11-15T08:20:18.869Z"
   },
   {
    "duration": 26,
    "start_time": "2021-11-15T08:20:18.893Z"
   },
   {
    "duration": 16,
    "start_time": "2021-11-15T08:20:18.921Z"
   },
   {
    "duration": 25,
    "start_time": "2021-11-15T08:20:18.938Z"
   },
   {
    "duration": 6,
    "start_time": "2021-11-15T08:20:18.965Z"
   },
   {
    "duration": 39,
    "start_time": "2021-11-15T08:20:18.973Z"
   },
   {
    "duration": 8,
    "start_time": "2021-11-15T08:20:19.014Z"
   },
   {
    "duration": 14,
    "start_time": "2021-11-15T08:20:19.023Z"
   },
   {
    "duration": 13,
    "start_time": "2021-11-15T08:20:19.039Z"
   },
   {
    "duration": 1552,
    "start_time": "2021-11-15T08:20:19.054Z"
   },
   {
    "duration": 6,
    "start_time": "2021-11-15T08:20:20.607Z"
   },
   {
    "duration": 1388,
    "start_time": "2021-11-15T08:20:20.615Z"
   },
   {
    "duration": 7,
    "start_time": "2021-11-15T08:20:22.005Z"
   },
   {
    "duration": 1563,
    "start_time": "2021-11-15T08:20:22.013Z"
   },
   {
    "duration": 6,
    "start_time": "2021-11-15T08:20:23.578Z"
   },
   {
    "duration": 294,
    "start_time": "2021-11-15T08:20:23.586Z"
   },
   {
    "duration": 309,
    "start_time": "2021-11-15T08:20:23.882Z"
   },
   {
    "duration": 4,
    "start_time": "2021-11-15T08:20:24.193Z"
   },
   {
    "duration": 18,
    "start_time": "2021-11-15T08:20:24.198Z"
   },
   {
    "duration": 20,
    "start_time": "2021-11-15T08:20:24.218Z"
   },
   {
    "duration": 6,
    "start_time": "2021-11-15T08:20:24.240Z"
   },
   {
    "duration": 1561,
    "start_time": "2021-11-15T08:20:24.248Z"
   },
   {
    "duration": 6,
    "start_time": "2021-11-15T08:20:25.811Z"
   },
   {
    "duration": 66,
    "start_time": "2021-11-15T08:20:25.818Z"
   },
   {
    "duration": 8,
    "start_time": "2021-11-15T08:20:25.886Z"
   },
   {
    "duration": 1712,
    "start_time": "2021-11-15T08:20:25.896Z"
   },
   {
    "duration": 5,
    "start_time": "2021-11-15T08:20:27.610Z"
   },
   {
    "duration": 6,
    "start_time": "2021-11-15T08:20:27.617Z"
   },
   {
    "duration": 24,
    "start_time": "2021-11-15T08:20:27.625Z"
   },
   {
    "duration": 181,
    "start_time": "2021-11-15T08:20:27.651Z"
   },
   {
    "duration": 17,
    "start_time": "2021-11-15T08:20:27.834Z"
   },
   {
    "duration": 10,
    "start_time": "2021-11-15T08:20:27.853Z"
   },
   {
    "duration": 14,
    "start_time": "2021-11-15T08:20:27.865Z"
   },
   {
    "duration": 3,
    "start_time": "2021-11-15T08:20:27.881Z"
   },
   {
    "duration": 1661,
    "start_time": "2021-11-15T08:20:27.886Z"
   },
   {
    "duration": 7,
    "start_time": "2021-11-15T08:20:29.549Z"
   },
   {
    "duration": 3,
    "start_time": "2021-11-15T08:20:29.558Z"
   },
   {
    "duration": 1484,
    "start_time": "2021-11-15T08:20:29.563Z"
   },
   {
    "duration": 4,
    "start_time": "2021-11-15T08:20:31.050Z"
   },
   {
    "duration": 100,
    "start_time": "2021-11-15T08:20:31.057Z"
   },
   {
    "duration": 3587,
    "start_time": "2021-11-15T08:20:31.159Z"
   },
   {
    "duration": 4,
    "start_time": "2021-11-15T08:20:34.748Z"
   },
   {
    "duration": 10,
    "start_time": "2021-11-15T08:20:34.753Z"
   },
   {
    "duration": 11,
    "start_time": "2021-11-15T08:20:34.765Z"
   },
   {
    "duration": 11,
    "start_time": "2021-11-15T08:20:34.845Z"
   },
   {
    "duration": 12,
    "start_time": "2021-11-15T08:20:34.858Z"
   },
   {
    "duration": 1242,
    "start_time": "2021-11-15T08:27:17.406Z"
   },
   {
    "duration": 281,
    "start_time": "2021-11-15T08:27:18.649Z"
   },
   {
    "duration": 82,
    "start_time": "2021-11-15T08:27:18.932Z"
   },
   {
    "duration": 405,
    "start_time": "2021-11-15T08:27:19.016Z"
   },
   {
    "duration": 27,
    "start_time": "2021-11-15T08:27:19.423Z"
   },
   {
    "duration": 21,
    "start_time": "2021-11-15T08:27:19.452Z"
   },
   {
    "duration": 242,
    "start_time": "2021-11-15T08:27:19.474Z"
   },
   {
    "duration": 8,
    "start_time": "2021-11-15T08:27:19.719Z"
   },
   {
    "duration": 118,
    "start_time": "2021-11-15T08:27:19.746Z"
   },
   {
    "duration": 11,
    "start_time": "2021-11-15T08:27:19.866Z"
   },
   {
    "duration": 19,
    "start_time": "2021-11-15T08:27:19.878Z"
   },
   {
    "duration": 151,
    "start_time": "2021-11-15T08:27:19.899Z"
   },
   {
    "duration": 6,
    "start_time": "2021-11-15T08:27:20.052Z"
   },
   {
    "duration": 27,
    "start_time": "2021-11-15T08:27:20.060Z"
   },
   {
    "duration": 36,
    "start_time": "2021-11-15T08:27:20.089Z"
   },
   {
    "duration": 29,
    "start_time": "2021-11-15T08:27:20.127Z"
   },
   {
    "duration": 246,
    "start_time": "2021-11-15T08:27:20.158Z"
   },
   {
    "duration": 10,
    "start_time": "2021-11-15T08:27:20.406Z"
   },
   {
    "duration": 99,
    "start_time": "2021-11-15T08:27:20.419Z"
   },
   {
    "duration": 4,
    "start_time": "2021-11-15T08:27:20.520Z"
   },
   {
    "duration": 18,
    "start_time": "2021-11-15T08:27:20.525Z"
   },
   {
    "duration": 6,
    "start_time": "2021-11-15T08:27:20.545Z"
   },
   {
    "duration": 11,
    "start_time": "2021-11-15T08:27:20.552Z"
   },
   {
    "duration": 10,
    "start_time": "2021-11-15T08:27:20.564Z"
   },
   {
    "duration": 5,
    "start_time": "2021-11-15T08:27:20.576Z"
   },
   {
    "duration": 4,
    "start_time": "2021-11-15T08:27:20.586Z"
   },
   {
    "duration": 14,
    "start_time": "2021-11-15T08:27:20.593Z"
   },
   {
    "duration": 16,
    "start_time": "2021-11-15T08:27:20.609Z"
   },
   {
    "duration": 22,
    "start_time": "2021-11-15T08:27:20.626Z"
   },
   {
    "duration": 6,
    "start_time": "2021-11-15T08:27:20.650Z"
   },
   {
    "duration": 5,
    "start_time": "2021-11-15T08:27:20.658Z"
   },
   {
    "duration": 8,
    "start_time": "2021-11-15T08:27:20.665Z"
   },
   {
    "duration": 16,
    "start_time": "2021-11-15T08:27:20.675Z"
   },
   {
    "duration": 7,
    "start_time": "2021-11-15T08:27:20.692Z"
   },
   {
    "duration": 65,
    "start_time": "2021-11-15T08:27:20.701Z"
   },
   {
    "duration": 8,
    "start_time": "2021-11-15T08:27:20.767Z"
   },
   {
    "duration": 8,
    "start_time": "2021-11-15T08:27:20.776Z"
   },
   {
    "duration": 12,
    "start_time": "2021-11-15T08:27:20.785Z"
   },
   {
    "duration": 1408,
    "start_time": "2021-11-15T08:27:20.798Z"
   },
   {
    "duration": 8,
    "start_time": "2021-11-15T08:27:22.208Z"
   },
   {
    "duration": 2382,
    "start_time": "2021-11-15T08:27:22.218Z"
   },
   {
    "duration": 7,
    "start_time": "2021-11-15T08:27:24.604Z"
   },
   {
    "duration": 1567,
    "start_time": "2021-11-15T08:27:24.613Z"
   },
   {
    "duration": 6,
    "start_time": "2021-11-15T08:27:26.182Z"
   },
   {
    "duration": 284,
    "start_time": "2021-11-15T08:27:26.190Z"
   },
   {
    "duration": 367,
    "start_time": "2021-11-15T08:27:26.477Z"
   },
   {
    "duration": 5,
    "start_time": "2021-11-15T08:27:26.846Z"
   },
   {
    "duration": 8,
    "start_time": "2021-11-15T08:27:26.853Z"
   },
   {
    "duration": 6,
    "start_time": "2021-11-15T08:27:26.863Z"
   },
   {
    "duration": 6,
    "start_time": "2021-11-15T08:27:26.871Z"
   },
   {
    "duration": 1530,
    "start_time": "2021-11-15T08:27:26.878Z"
   },
   {
    "duration": 7,
    "start_time": "2021-11-15T08:27:28.410Z"
   },
   {
    "duration": 83,
    "start_time": "2021-11-15T08:27:28.419Z"
   },
   {
    "duration": 9,
    "start_time": "2021-11-15T08:27:28.504Z"
   },
   {
    "duration": 2230,
    "start_time": "2021-11-15T08:27:28.515Z"
   },
   {
    "duration": 5,
    "start_time": "2021-11-15T08:27:30.747Z"
   },
   {
    "duration": 10,
    "start_time": "2021-11-15T08:27:30.754Z"
   },
   {
    "duration": 33,
    "start_time": "2021-11-15T08:27:30.766Z"
   },
   {
    "duration": 189,
    "start_time": "2021-11-15T08:27:30.802Z"
   },
   {
    "duration": 10,
    "start_time": "2021-11-15T08:27:30.993Z"
   },
   {
    "duration": 16,
    "start_time": "2021-11-15T08:27:31.005Z"
   },
   {
    "duration": 28,
    "start_time": "2021-11-15T08:27:31.023Z"
   },
   {
    "duration": 7,
    "start_time": "2021-11-15T08:27:31.053Z"
   },
   {
    "duration": 1582,
    "start_time": "2021-11-15T08:27:31.062Z"
   },
   {
    "duration": 4,
    "start_time": "2021-11-15T08:27:32.646Z"
   },
   {
    "duration": 5,
    "start_time": "2021-11-15T08:27:32.653Z"
   },
   {
    "duration": 1886,
    "start_time": "2021-11-15T08:27:32.660Z"
   },
   {
    "duration": 7,
    "start_time": "2021-11-15T08:27:34.548Z"
   },
   {
    "duration": 92,
    "start_time": "2021-11-15T08:27:34.557Z"
   },
   {
    "duration": 3893,
    "start_time": "2021-11-15T08:27:34.652Z"
   },
   {
    "duration": 3,
    "start_time": "2021-11-15T08:27:38.547Z"
   },
   {
    "duration": 28,
    "start_time": "2021-11-15T08:27:38.552Z"
   },
   {
    "duration": 22,
    "start_time": "2021-11-15T08:27:38.582Z"
   },
   {
    "duration": 40,
    "start_time": "2021-11-15T08:27:38.606Z"
   },
   {
    "duration": 20,
    "start_time": "2021-11-15T08:27:38.647Z"
   },
   {
    "duration": 426108,
    "start_time": "2021-11-15T08:27:38.668Z"
   },
   {
    "duration": 3683,
    "start_time": "2021-11-15T08:34:44.778Z"
   },
   {
    "duration": 5,
    "start_time": "2021-11-15T08:34:48.462Z"
   },
   {
    "duration": 8,
    "start_time": "2021-11-15T08:34:48.469Z"
   },
   {
    "duration": 4,
    "start_time": "2021-11-15T08:34:48.482Z"
   },
   {
    "duration": 6,
    "start_time": "2021-11-15T08:34:48.488Z"
   },
   {
    "duration": 9,
    "start_time": "2021-11-15T08:34:48.495Z"
   },
   {
    "duration": 6,
    "start_time": "2021-11-15T08:34:48.505Z"
   },
   {
    "duration": 34,
    "start_time": "2021-11-15T08:34:48.513Z"
   },
   {
    "duration": 5,
    "start_time": "2021-11-15T08:34:48.548Z"
   },
   {
    "duration": 4,
    "start_time": "2021-11-15T08:34:48.555Z"
   },
   {
    "duration": 7,
    "start_time": "2021-11-15T08:34:48.560Z"
   },
   {
    "duration": 8,
    "start_time": "2021-11-15T08:34:48.568Z"
   },
   {
    "duration": 6,
    "start_time": "2021-11-15T08:34:48.578Z"
   },
   {
    "duration": 9,
    "start_time": "2021-11-15T08:34:48.586Z"
   },
   {
    "duration": 7,
    "start_time": "2021-11-15T08:34:48.596Z"
   },
   {
    "duration": 7,
    "start_time": "2021-11-15T08:34:48.604Z"
   },
   {
    "duration": 9,
    "start_time": "2021-11-15T08:34:48.613Z"
   },
   {
    "duration": 22,
    "start_time": "2021-11-15T08:34:48.624Z"
   },
   {
    "duration": 61,
    "start_time": "2021-11-15T08:34:48.648Z"
   },
   {
    "duration": 4,
    "start_time": "2021-11-15T08:34:48.711Z"
   },
   {
    "duration": 8,
    "start_time": "2021-11-15T08:34:48.717Z"
   },
   {
    "duration": 7,
    "start_time": "2021-11-15T08:34:48.726Z"
   },
   {
    "duration": 5,
    "start_time": "2021-11-15T08:34:48.745Z"
   },
   {
    "duration": 8,
    "start_time": "2021-11-15T08:34:48.752Z"
   },
   {
    "duration": 4,
    "start_time": "2021-11-15T08:34:48.762Z"
   },
   {
    "duration": 10,
    "start_time": "2021-11-15T08:34:48.768Z"
   },
   {
    "duration": 4,
    "start_time": "2021-11-15T08:34:48.780Z"
   },
   {
    "duration": 7,
    "start_time": "2021-11-15T08:34:48.786Z"
   },
   {
    "duration": 3,
    "start_time": "2021-11-15T08:38:23.922Z"
   },
   {
    "duration": 3,
    "start_time": "2021-11-15T08:38:24.932Z"
   },
   {
    "duration": 2,
    "start_time": "2021-11-15T08:38:26.553Z"
   },
   {
    "duration": 2780931,
    "start_time": "2021-11-15T08:38:28.035Z"
   },
   {
    "duration": 4257,
    "start_time": "2021-11-15T09:24:48.968Z"
   },
   {
    "duration": 16,
    "start_time": "2021-11-15T09:24:53.228Z"
   },
   {
    "duration": 13,
    "start_time": "2021-11-15T09:24:53.247Z"
   },
   {
    "duration": 8,
    "start_time": "2021-11-15T09:24:53.262Z"
   },
   {
    "duration": 8,
    "start_time": "2021-11-15T09:24:53.271Z"
   },
   {
    "duration": 9,
    "start_time": "2021-11-15T09:24:53.280Z"
   },
   {
    "duration": 6,
    "start_time": "2021-11-15T09:24:53.292Z"
   },
   {
    "duration": 9,
    "start_time": "2021-11-15T09:24:53.301Z"
   },
   {
    "duration": 5,
    "start_time": "2021-11-15T09:24:53.312Z"
   },
   {
    "duration": 25,
    "start_time": "2021-11-15T09:24:53.319Z"
   },
   {
    "duration": 4,
    "start_time": "2021-11-15T09:24:53.346Z"
   },
   {
    "duration": 9,
    "start_time": "2021-11-15T09:24:53.352Z"
   },
   {
    "duration": 5,
    "start_time": "2021-11-15T09:24:53.363Z"
   },
   {
    "duration": 8,
    "start_time": "2021-11-15T09:24:53.370Z"
   },
   {
    "duration": 5,
    "start_time": "2021-11-15T09:24:53.380Z"
   },
   {
    "duration": 6,
    "start_time": "2021-11-15T09:24:53.387Z"
   },
   {
    "duration": 8,
    "start_time": "2021-11-15T09:24:53.395Z"
   },
   {
    "duration": 6,
    "start_time": "2021-11-15T09:24:53.405Z"
   },
   {
    "duration": 396,
    "start_time": "2021-11-15T09:24:53.413Z"
   },
   {
    "duration": 6,
    "start_time": "2021-11-15T09:24:53.812Z"
   },
   {
    "duration": 7,
    "start_time": "2021-11-15T09:24:53.819Z"
   },
   {
    "duration": 3,
    "start_time": "2021-11-15T09:24:53.830Z"
   },
   {
    "duration": 6,
    "start_time": "2021-11-15T09:24:53.845Z"
   },
   {
    "duration": 11,
    "start_time": "2021-11-15T09:24:53.852Z"
   },
   {
    "duration": 3,
    "start_time": "2021-11-15T09:24:53.864Z"
   },
   {
    "duration": 12,
    "start_time": "2021-11-15T09:24:53.869Z"
   },
   {
    "duration": 3,
    "start_time": "2021-11-15T09:24:53.883Z"
   },
   {
    "duration": 7,
    "start_time": "2021-11-15T09:24:53.887Z"
   },
   {
    "duration": 3,
    "start_time": "2021-11-15T09:27:13.286Z"
   },
   {
    "duration": 4,
    "start_time": "2021-11-15T09:27:14.163Z"
   },
   {
    "duration": 2,
    "start_time": "2021-11-15T09:27:15.406Z"
   },
   {
    "duration": 391,
    "start_time": "2021-11-15T09:27:16.608Z"
   },
   {
    "duration": 301,
    "start_time": "2021-11-15T09:27:17.171Z"
   },
   {
    "duration": 296,
    "start_time": "2021-11-15T09:27:17.747Z"
   },
   {
    "duration": 315,
    "start_time": "2021-11-15T09:27:18.304Z"
   },
   {
    "duration": 278,
    "start_time": "2021-11-15T09:27:18.635Z"
   },
   {
    "duration": 72,
    "start_time": "2021-11-15T09:27:18.844Z"
   },
   {
    "duration": 353,
    "start_time": "2021-11-15T09:27:19.421Z"
   },
   {
    "duration": 393,
    "start_time": "2021-11-15T09:27:24.601Z"
   },
   {
    "duration": 280,
    "start_time": "2021-11-15T09:27:25.332Z"
   },
   {
    "duration": 325,
    "start_time": "2021-11-15T09:27:27.101Z"
   },
   {
    "duration": 41,
    "start_time": "2021-11-15T09:27:27.387Z"
   },
   {
    "duration": 39,
    "start_time": "2021-11-15T09:27:27.390Z"
   },
   {
    "duration": 38,
    "start_time": "2021-11-15T09:27:27.392Z"
   },
   {
    "duration": 3,
    "start_time": "2021-11-15T09:27:27.777Z"
   },
   {
    "duration": 3,
    "start_time": "2021-11-15T09:27:27.987Z"
   },
   {
    "duration": 3,
    "start_time": "2021-11-15T09:27:28.215Z"
   },
   {
    "duration": 4,
    "start_time": "2021-11-15T09:27:28.441Z"
   },
   {
    "duration": 3,
    "start_time": "2021-11-15T09:27:28.679Z"
   },
   {
    "duration": 3,
    "start_time": "2021-11-15T09:27:28.915Z"
   },
   {
    "duration": 307,
    "start_time": "2021-11-15T09:27:30.942Z"
   },
   {
    "duration": 5,
    "start_time": "2021-11-15T09:27:31.374Z"
   },
   {
    "duration": 4,
    "start_time": "2021-11-15T09:27:31.633Z"
   },
   {
    "duration": 3,
    "start_time": "2021-11-15T09:27:31.872Z"
   },
   {
    "duration": 5,
    "start_time": "2021-11-15T09:27:32.086Z"
   },
   {
    "duration": 6,
    "start_time": "2021-11-15T09:27:32.900Z"
   },
   {
    "duration": 3,
    "start_time": "2021-11-15T09:27:33.357Z"
   },
   {
    "duration": 5,
    "start_time": "2021-11-15T09:27:33.709Z"
   },
   {
    "duration": 1184,
    "start_time": "2021-11-15T09:27:45.165Z"
   },
   {
    "duration": 277,
    "start_time": "2021-11-15T09:27:46.351Z"
   },
   {
    "duration": 82,
    "start_time": "2021-11-15T09:27:46.630Z"
   },
   {
    "duration": 358,
    "start_time": "2021-11-15T09:27:46.714Z"
   },
   {
    "duration": 17,
    "start_time": "2021-11-15T09:27:47.074Z"
   },
   {
    "duration": 22,
    "start_time": "2021-11-15T09:27:47.093Z"
   },
   {
    "duration": 246,
    "start_time": "2021-11-15T09:27:47.117Z"
   },
   {
    "duration": 7,
    "start_time": "2021-11-15T09:27:47.365Z"
   },
   {
    "duration": 124,
    "start_time": "2021-11-15T09:27:47.374Z"
   },
   {
    "duration": 10,
    "start_time": "2021-11-15T09:27:47.500Z"
   },
   {
    "duration": 17,
    "start_time": "2021-11-15T09:27:47.512Z"
   },
   {
    "duration": 139,
    "start_time": "2021-11-15T09:27:47.531Z"
   },
   {
    "duration": 6,
    "start_time": "2021-11-15T09:27:47.671Z"
   },
   {
    "duration": 21,
    "start_time": "2021-11-15T09:27:47.678Z"
   },
   {
    "duration": 17,
    "start_time": "2021-11-15T09:27:47.700Z"
   },
   {
    "duration": 33,
    "start_time": "2021-11-15T09:27:47.719Z"
   },
   {
    "duration": 264,
    "start_time": "2021-11-15T09:27:47.754Z"
   },
   {
    "duration": 9,
    "start_time": "2021-11-15T09:27:48.020Z"
   },
   {
    "duration": 92,
    "start_time": "2021-11-15T09:27:48.031Z"
   },
   {
    "duration": 3,
    "start_time": "2021-11-15T09:27:48.125Z"
   },
   {
    "duration": 21,
    "start_time": "2021-11-15T09:27:48.130Z"
   },
   {
    "duration": 6,
    "start_time": "2021-11-15T09:27:48.153Z"
   },
   {
    "duration": 4,
    "start_time": "2021-11-15T09:27:48.161Z"
   },
   {
    "duration": 6,
    "start_time": "2021-11-15T09:27:48.167Z"
   },
   {
    "duration": 5,
    "start_time": "2021-11-15T09:27:48.174Z"
   },
   {
    "duration": 7,
    "start_time": "2021-11-15T09:27:48.181Z"
   },
   {
    "duration": 7,
    "start_time": "2021-11-15T09:27:48.192Z"
   },
   {
    "duration": 51,
    "start_time": "2021-11-15T09:27:48.202Z"
   },
   {
    "duration": 5,
    "start_time": "2021-11-15T09:27:48.255Z"
   },
   {
    "duration": 6,
    "start_time": "2021-11-15T09:27:48.262Z"
   },
   {
    "duration": 6,
    "start_time": "2021-11-15T09:27:48.271Z"
   },
   {
    "duration": 5,
    "start_time": "2021-11-15T09:27:48.279Z"
   },
   {
    "duration": 16,
    "start_time": "2021-11-15T09:27:48.286Z"
   },
   {
    "duration": 6,
    "start_time": "2021-11-15T09:27:48.304Z"
   },
   {
    "duration": 54,
    "start_time": "2021-11-15T09:27:48.312Z"
   },
   {
    "duration": 8,
    "start_time": "2021-11-15T09:27:48.368Z"
   },
   {
    "duration": 7,
    "start_time": "2021-11-15T09:27:48.378Z"
   },
   {
    "duration": 10,
    "start_time": "2021-11-15T09:27:48.387Z"
   },
   {
    "duration": 1342,
    "start_time": "2021-11-15T09:27:48.399Z"
   },
   {
    "duration": 7,
    "start_time": "2021-11-15T09:27:49.745Z"
   },
   {
    "duration": 1296,
    "start_time": "2021-11-15T09:27:49.754Z"
   },
   {
    "duration": 8,
    "start_time": "2021-11-15T09:27:51.053Z"
   },
   {
    "duration": 1452,
    "start_time": "2021-11-15T09:27:51.063Z"
   },
   {
    "duration": 8,
    "start_time": "2021-11-15T09:27:52.517Z"
   },
   {
    "duration": 287,
    "start_time": "2021-11-15T09:27:52.526Z"
   },
   {
    "duration": 277,
    "start_time": "2021-11-15T09:27:52.815Z"
   },
   {
    "duration": 6,
    "start_time": "2021-11-15T09:27:53.094Z"
   },
   {
    "duration": 26,
    "start_time": "2021-11-15T09:27:53.101Z"
   },
   {
    "duration": 17,
    "start_time": "2021-11-15T09:27:53.128Z"
   },
   {
    "duration": 14,
    "start_time": "2021-11-15T09:27:53.147Z"
   },
   {
    "duration": 1415,
    "start_time": "2021-11-15T09:27:53.163Z"
   },
   {
    "duration": 5,
    "start_time": "2021-11-15T09:27:54.580Z"
   },
   {
    "duration": 73,
    "start_time": "2021-11-15T09:27:54.587Z"
   },
   {
    "duration": 9,
    "start_time": "2021-11-15T09:27:54.662Z"
   },
   {
    "duration": 1299,
    "start_time": "2021-11-15T09:27:54.673Z"
   },
   {
    "duration": 4,
    "start_time": "2021-11-15T09:27:55.974Z"
   },
   {
    "duration": 6,
    "start_time": "2021-11-15T09:27:55.980Z"
   },
   {
    "duration": 15,
    "start_time": "2021-11-15T09:27:55.987Z"
   },
   {
    "duration": 140,
    "start_time": "2021-11-15T09:27:56.003Z"
   },
   {
    "duration": 10,
    "start_time": "2021-11-15T09:27:56.144Z"
   },
   {
    "duration": 9,
    "start_time": "2021-11-15T09:27:56.156Z"
   },
   {
    "duration": 10,
    "start_time": "2021-11-15T09:27:56.167Z"
   },
   {
    "duration": 2,
    "start_time": "2021-11-15T09:27:56.178Z"
   },
   {
    "duration": 1364,
    "start_time": "2021-11-15T09:27:56.182Z"
   },
   {
    "duration": 4,
    "start_time": "2021-11-15T09:27:57.548Z"
   },
   {
    "duration": 9,
    "start_time": "2021-11-15T09:27:57.554Z"
   },
   {
    "duration": 1600,
    "start_time": "2021-11-15T09:27:57.645Z"
   },
   {
    "duration": 5,
    "start_time": "2021-11-15T09:27:59.247Z"
   },
   {
    "duration": 100,
    "start_time": "2021-11-15T09:27:59.254Z"
   },
   {
    "duration": 2189,
    "start_time": "2021-11-15T09:27:59.356Z"
   },
   {
    "duration": 5,
    "start_time": "2021-11-15T09:28:01.548Z"
   },
   {
    "duration": 107,
    "start_time": "2021-11-15T09:28:01.554Z"
   },
   {
    "duration": 21,
    "start_time": "2021-11-15T09:28:01.662Z"
   },
   {
    "duration": 10,
    "start_time": "2021-11-15T09:28:01.685Z"
   },
   {
    "duration": 20,
    "start_time": "2021-11-15T09:28:01.697Z"
   },
   {
    "duration": 515,
    "start_time": "2021-11-15T09:28:01.719Z"
   },
   {
    "duration": -72,
    "start_time": "2021-11-15T09:28:02.308Z"
   },
   {
    "duration": -72,
    "start_time": "2021-11-15T09:28:02.310Z"
   },
   {
    "duration": -78,
    "start_time": "2021-11-15T09:28:02.317Z"
   },
   {
    "duration": -80,
    "start_time": "2021-11-15T09:28:02.320Z"
   },
   {
    "duration": -80,
    "start_time": "2021-11-15T09:28:02.322Z"
   },
   {
    "duration": -81,
    "start_time": "2021-11-15T09:28:02.324Z"
   },
   {
    "duration": -81,
    "start_time": "2021-11-15T09:28:02.325Z"
   },
   {
    "duration": -82,
    "start_time": "2021-11-15T09:28:02.327Z"
   },
   {
    "duration": -89,
    "start_time": "2021-11-15T09:28:02.335Z"
   },
   {
    "duration": -90,
    "start_time": "2021-11-15T09:28:02.337Z"
   },
   {
    "duration": -91,
    "start_time": "2021-11-15T09:28:02.339Z"
   },
   {
    "duration": -92,
    "start_time": "2021-11-15T09:28:02.341Z"
   },
   {
    "duration": -92,
    "start_time": "2021-11-15T09:28:02.342Z"
   },
   {
    "duration": -92,
    "start_time": "2021-11-15T09:28:02.344Z"
   },
   {
    "duration": -100,
    "start_time": "2021-11-15T09:28:02.353Z"
   },
   {
    "duration": -101,
    "start_time": "2021-11-15T09:28:02.355Z"
   },
   {
    "duration": -101,
    "start_time": "2021-11-15T09:28:02.356Z"
   },
   {
    "duration": -102,
    "start_time": "2021-11-15T09:28:02.358Z"
   },
   {
    "duration": -103,
    "start_time": "2021-11-15T09:28:02.360Z"
   },
   {
    "duration": -109,
    "start_time": "2021-11-15T09:28:02.368Z"
   },
   {
    "duration": -109,
    "start_time": "2021-11-15T09:28:02.369Z"
   },
   {
    "duration": -110,
    "start_time": "2021-11-15T09:28:02.371Z"
   },
   {
    "duration": -112,
    "start_time": "2021-11-15T09:28:02.373Z"
   },
   {
    "duration": -111,
    "start_time": "2021-11-15T09:28:02.374Z"
   },
   {
    "duration": -112,
    "start_time": "2021-11-15T09:28:02.376Z"
   },
   {
    "duration": -114,
    "start_time": "2021-11-15T09:28:02.379Z"
   },
   {
    "duration": -121,
    "start_time": "2021-11-15T09:28:02.387Z"
   },
   {
    "duration": -123,
    "start_time": "2021-11-15T09:28:02.389Z"
   },
   {
    "duration": 3,
    "start_time": "2021-11-15T09:29:53.140Z"
   },
   {
    "duration": 3,
    "start_time": "2021-11-15T09:29:53.818Z"
   },
   {
    "duration": 3,
    "start_time": "2021-11-15T09:29:55.522Z"
   },
   {
    "duration": 1287,
    "start_time": "2021-11-15T10:14:00.260Z"
   },
   {
    "duration": 302,
    "start_time": "2021-11-15T10:14:01.549Z"
   },
   {
    "duration": 86,
    "start_time": "2021-11-15T10:14:01.853Z"
   },
   {
    "duration": 404,
    "start_time": "2021-11-15T10:14:01.941Z"
   },
   {
    "duration": 15,
    "start_time": "2021-11-15T10:14:02.346Z"
   },
   {
    "duration": 26,
    "start_time": "2021-11-15T10:14:02.363Z"
   },
   {
    "duration": 228,
    "start_time": "2021-11-15T10:14:02.391Z"
   },
   {
    "duration": 7,
    "start_time": "2021-11-15T10:14:02.622Z"
   },
   {
    "duration": 132,
    "start_time": "2021-11-15T10:14:02.631Z"
   },
   {
    "duration": 10,
    "start_time": "2021-11-15T10:14:02.765Z"
   },
   {
    "duration": 20,
    "start_time": "2021-11-15T10:14:02.776Z"
   },
   {
    "duration": 147,
    "start_time": "2021-11-15T10:14:02.798Z"
   },
   {
    "duration": 5,
    "start_time": "2021-11-15T10:14:02.947Z"
   },
   {
    "duration": 23,
    "start_time": "2021-11-15T10:14:02.953Z"
   },
   {
    "duration": 16,
    "start_time": "2021-11-15T10:14:02.977Z"
   },
   {
    "duration": 25,
    "start_time": "2021-11-15T10:14:02.995Z"
   },
   {
    "duration": 252,
    "start_time": "2021-11-15T10:14:03.022Z"
   },
   {
    "duration": 9,
    "start_time": "2021-11-15T10:14:03.276Z"
   },
   {
    "duration": 100,
    "start_time": "2021-11-15T10:14:03.286Z"
   },
   {
    "duration": 2,
    "start_time": "2021-11-15T10:14:03.388Z"
   },
   {
    "duration": 21,
    "start_time": "2021-11-15T10:14:03.392Z"
   },
   {
    "duration": 14,
    "start_time": "2021-11-15T10:14:03.415Z"
   },
   {
    "duration": 10,
    "start_time": "2021-11-15T10:14:03.433Z"
   },
   {
    "duration": 12,
    "start_time": "2021-11-15T10:14:03.446Z"
   },
   {
    "duration": 9,
    "start_time": "2021-11-15T10:14:03.459Z"
   },
   {
    "duration": 13,
    "start_time": "2021-11-15T10:14:03.470Z"
   },
   {
    "duration": 18,
    "start_time": "2021-11-15T10:14:03.485Z"
   },
   {
    "duration": 25,
    "start_time": "2021-11-15T10:14:03.504Z"
   },
   {
    "duration": 7,
    "start_time": "2021-11-15T10:14:03.531Z"
   },
   {
    "duration": 16,
    "start_time": "2021-11-15T10:14:03.540Z"
   },
   {
    "duration": 21,
    "start_time": "2021-11-15T10:14:03.557Z"
   },
   {
    "duration": 14,
    "start_time": "2021-11-15T10:14:03.579Z"
   },
   {
    "duration": 26,
    "start_time": "2021-11-15T10:14:03.594Z"
   },
   {
    "duration": 17,
    "start_time": "2021-11-15T10:14:03.622Z"
   },
   {
    "duration": 30,
    "start_time": "2021-11-15T10:14:03.641Z"
   },
   {
    "duration": 8,
    "start_time": "2021-11-15T10:14:03.673Z"
   },
   {
    "duration": 18,
    "start_time": "2021-11-15T10:14:03.682Z"
   },
   {
    "duration": 13,
    "start_time": "2021-11-15T10:14:03.702Z"
   },
   {
    "duration": 1506,
    "start_time": "2021-11-15T10:14:03.717Z"
   },
   {
    "duration": 18,
    "start_time": "2021-11-15T10:14:05.226Z"
   },
   {
    "duration": 1358,
    "start_time": "2021-11-15T10:14:05.246Z"
   },
   {
    "duration": 6,
    "start_time": "2021-11-15T10:14:06.606Z"
   },
   {
    "duration": 1475,
    "start_time": "2021-11-15T10:14:06.613Z"
   },
   {
    "duration": 6,
    "start_time": "2021-11-15T10:14:08.090Z"
   },
   {
    "duration": 284,
    "start_time": "2021-11-15T10:14:08.098Z"
   },
   {
    "duration": 310,
    "start_time": "2021-11-15T10:14:08.384Z"
   },
   {
    "duration": 4,
    "start_time": "2021-11-15T10:14:08.696Z"
   },
   {
    "duration": 9,
    "start_time": "2021-11-15T10:14:08.702Z"
   },
   {
    "duration": 8,
    "start_time": "2021-11-15T10:14:08.712Z"
   },
   {
    "duration": 8,
    "start_time": "2021-11-15T10:14:08.722Z"
   },
   {
    "duration": 1501,
    "start_time": "2021-11-15T10:14:08.732Z"
   },
   {
    "duration": 10,
    "start_time": "2021-11-15T10:14:10.235Z"
   },
   {
    "duration": 57,
    "start_time": "2021-11-15T10:14:10.247Z"
   },
   {
    "duration": 7,
    "start_time": "2021-11-15T10:14:10.306Z"
   },
   {
    "duration": 1496,
    "start_time": "2021-11-15T10:14:10.315Z"
   },
   {
    "duration": 3,
    "start_time": "2021-11-15T10:14:11.813Z"
   },
   {
    "duration": 22,
    "start_time": "2021-11-15T10:14:11.818Z"
   },
   {
    "duration": 29,
    "start_time": "2021-11-15T10:14:11.842Z"
   },
   {
    "duration": 202,
    "start_time": "2021-11-15T10:14:11.873Z"
   },
   {
    "duration": 12,
    "start_time": "2021-11-15T10:14:12.076Z"
   },
   {
    "duration": 20,
    "start_time": "2021-11-15T10:14:12.090Z"
   },
   {
    "duration": 30,
    "start_time": "2021-11-15T10:14:12.112Z"
   },
   {
    "duration": 34,
    "start_time": "2021-11-15T10:14:12.144Z"
   },
   {
    "duration": 1565,
    "start_time": "2021-11-15T10:14:12.180Z"
   },
   {
    "duration": 4,
    "start_time": "2021-11-15T10:14:13.747Z"
   },
   {
    "duration": 10,
    "start_time": "2021-11-15T10:14:13.754Z"
   },
   {
    "duration": 1381,
    "start_time": "2021-11-15T10:14:13.766Z"
   },
   {
    "duration": 4,
    "start_time": "2021-11-15T10:14:15.153Z"
   },
   {
    "duration": 95,
    "start_time": "2021-11-15T10:14:15.159Z"
   },
   {
    "duration": 2996,
    "start_time": "2021-11-15T10:14:15.256Z"
   },
   {
    "duration": 5,
    "start_time": "2021-11-15T10:14:18.254Z"
   },
   {
    "duration": 3,
    "start_time": "2021-11-15T10:14:18.344Z"
   },
   {
    "duration": 15,
    "start_time": "2021-11-15T10:14:18.349Z"
   },
   {
    "duration": 3,
    "start_time": "2021-11-15T10:14:18.445Z"
   },
   {
    "duration": 10,
    "start_time": "2021-11-15T10:14:18.450Z"
   }
  ],
  "kernelspec": {
   "display_name": "Python 3",
   "language": "python",
   "name": "python3"
  },
  "language_info": {
   "codemirror_mode": {
    "name": "ipython",
    "version": 3
   },
   "file_extension": ".py",
   "mimetype": "text/x-python",
   "name": "python",
   "nbconvert_exporter": "python",
   "pygments_lexer": "ipython3",
   "version": "3.7.10"
  },
  "toc": {
   "base_numbering": 1,
   "nav_menu": {},
   "number_sections": true,
   "sideBar": true,
   "skip_h1_title": true,
   "title_cell": "Содержание",
   "title_sidebar": "Contents",
   "toc_cell": true,
   "toc_position": {},
   "toc_section_display": true,
   "toc_window_display": false
  }
 },
 "nbformat": 4,
 "nbformat_minor": 2
}
