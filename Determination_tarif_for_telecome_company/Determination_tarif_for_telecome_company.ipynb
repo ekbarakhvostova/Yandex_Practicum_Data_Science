{
 "cells": [
  {
   "cell_type": "markdown",
   "metadata": {},
   "source": [
    "# Рекомендация тарифов"
   ]
  },
  {
   "cell_type": "markdown",
   "metadata": {},
   "source": [
    "## Открытие и изучение файла"
   ]
  },
  {
   "cell_type": "code",
   "execution_count": 1,
   "metadata": {},
   "outputs": [],
   "source": [
    "import pandas as pd\n",
    "import numpy as np\n",
    "from sklearn.tree import DecisionTreeClassifier\n",
    "from sklearn.ensemble import RandomForestClassifier\n",
    "from sklearn.linear_model import LogisticRegression\n",
    "from sklearn.model_selection import train_test_split\n",
    "from sklearn.metrics import accuracy_score\n",
    "from sklearn.dummy import DummyClassifier\n",
    "import matplotlib.pyplot as plt\n",
    "import seaborn as sns"
   ]
  },
  {
   "cell_type": "code",
   "execution_count": 2,
   "metadata": {},
   "outputs": [],
   "source": [
    "df = pd.read_csv('users_behavior.csv')"
   ]
  },
  {
   "cell_type": "code",
   "execution_count": 3,
   "metadata": {},
   "outputs": [
    {
     "name": "stdout",
     "output_type": "stream",
     "text": [
      "<class 'pandas.core.frame.DataFrame'>\n",
      "RangeIndex: 3214 entries, 0 to 3213\n",
      "Data columns (total 5 columns):\n",
      "calls       3214 non-null float64\n",
      "minutes     3214 non-null float64\n",
      "messages    3214 non-null float64\n",
      "mb_used     3214 non-null float64\n",
      "is_ultra    3214 non-null int64\n",
      "dtypes: float64(4), int64(1)\n",
      "memory usage: 125.7 KB\n"
     ]
    }
   ],
   "source": [
    "df.info()"
   ]
  },
  {
   "cell_type": "code",
   "execution_count": 4,
   "metadata": {},
   "outputs": [
    {
     "data": {
      "text/html": [
       "<div>\n",
       "<style scoped>\n",
       "    .dataframe tbody tr th:only-of-type {\n",
       "        vertical-align: middle;\n",
       "    }\n",
       "\n",
       "    .dataframe tbody tr th {\n",
       "        vertical-align: top;\n",
       "    }\n",
       "\n",
       "    .dataframe thead th {\n",
       "        text-align: right;\n",
       "    }\n",
       "</style>\n",
       "<table border=\"1\" class=\"dataframe\">\n",
       "  <thead>\n",
       "    <tr style=\"text-align: right;\">\n",
       "      <th></th>\n",
       "      <th>calls</th>\n",
       "      <th>minutes</th>\n",
       "      <th>messages</th>\n",
       "      <th>mb_used</th>\n",
       "      <th>is_ultra</th>\n",
       "    </tr>\n",
       "  </thead>\n",
       "  <tbody>\n",
       "    <tr>\n",
       "      <td>count</td>\n",
       "      <td>3214.000000</td>\n",
       "      <td>3214.000000</td>\n",
       "      <td>3214.000000</td>\n",
       "      <td>3214.000000</td>\n",
       "      <td>3214.000000</td>\n",
       "    </tr>\n",
       "    <tr>\n",
       "      <td>mean</td>\n",
       "      <td>63.038892</td>\n",
       "      <td>438.208787</td>\n",
       "      <td>38.281269</td>\n",
       "      <td>17207.673836</td>\n",
       "      <td>0.306472</td>\n",
       "    </tr>\n",
       "    <tr>\n",
       "      <td>std</td>\n",
       "      <td>33.236368</td>\n",
       "      <td>234.569872</td>\n",
       "      <td>36.148326</td>\n",
       "      <td>7570.968246</td>\n",
       "      <td>0.461100</td>\n",
       "    </tr>\n",
       "    <tr>\n",
       "      <td>min</td>\n",
       "      <td>0.000000</td>\n",
       "      <td>0.000000</td>\n",
       "      <td>0.000000</td>\n",
       "      <td>0.000000</td>\n",
       "      <td>0.000000</td>\n",
       "    </tr>\n",
       "    <tr>\n",
       "      <td>25%</td>\n",
       "      <td>40.000000</td>\n",
       "      <td>274.575000</td>\n",
       "      <td>9.000000</td>\n",
       "      <td>12491.902500</td>\n",
       "      <td>0.000000</td>\n",
       "    </tr>\n",
       "    <tr>\n",
       "      <td>50%</td>\n",
       "      <td>62.000000</td>\n",
       "      <td>430.600000</td>\n",
       "      <td>30.000000</td>\n",
       "      <td>16943.235000</td>\n",
       "      <td>0.000000</td>\n",
       "    </tr>\n",
       "    <tr>\n",
       "      <td>75%</td>\n",
       "      <td>82.000000</td>\n",
       "      <td>571.927500</td>\n",
       "      <td>57.000000</td>\n",
       "      <td>21424.700000</td>\n",
       "      <td>1.000000</td>\n",
       "    </tr>\n",
       "    <tr>\n",
       "      <td>max</td>\n",
       "      <td>244.000000</td>\n",
       "      <td>1632.060000</td>\n",
       "      <td>224.000000</td>\n",
       "      <td>49745.730000</td>\n",
       "      <td>1.000000</td>\n",
       "    </tr>\n",
       "  </tbody>\n",
       "</table>\n",
       "</div>"
      ],
      "text/plain": [
       "             calls      minutes     messages       mb_used     is_ultra\n",
       "count  3214.000000  3214.000000  3214.000000   3214.000000  3214.000000\n",
       "mean     63.038892   438.208787    38.281269  17207.673836     0.306472\n",
       "std      33.236368   234.569872    36.148326   7570.968246     0.461100\n",
       "min       0.000000     0.000000     0.000000      0.000000     0.000000\n",
       "25%      40.000000   274.575000     9.000000  12491.902500     0.000000\n",
       "50%      62.000000   430.600000    30.000000  16943.235000     0.000000\n",
       "75%      82.000000   571.927500    57.000000  21424.700000     1.000000\n",
       "max     244.000000  1632.060000   224.000000  49745.730000     1.000000"
      ]
     },
     "execution_count": 4,
     "metadata": {},
     "output_type": "execute_result"
    }
   ],
   "source": [
    "df.describe()"
   ]
  },
  {
   "cell_type": "code",
   "execution_count": 5,
   "metadata": {},
   "outputs": [
    {
     "data": {
      "text/html": [
       "<div>\n",
       "<style scoped>\n",
       "    .dataframe tbody tr th:only-of-type {\n",
       "        vertical-align: middle;\n",
       "    }\n",
       "\n",
       "    .dataframe tbody tr th {\n",
       "        vertical-align: top;\n",
       "    }\n",
       "\n",
       "    .dataframe thead th {\n",
       "        text-align: right;\n",
       "    }\n",
       "</style>\n",
       "<table border=\"1\" class=\"dataframe\">\n",
       "  <thead>\n",
       "    <tr style=\"text-align: right;\">\n",
       "      <th></th>\n",
       "      <th>calls</th>\n",
       "      <th>minutes</th>\n",
       "      <th>messages</th>\n",
       "      <th>mb_used</th>\n",
       "      <th>is_ultra</th>\n",
       "    </tr>\n",
       "  </thead>\n",
       "  <tbody>\n",
       "    <tr>\n",
       "      <td>0</td>\n",
       "      <td>40.0</td>\n",
       "      <td>311.90</td>\n",
       "      <td>83.0</td>\n",
       "      <td>19915.42</td>\n",
       "      <td>0</td>\n",
       "    </tr>\n",
       "    <tr>\n",
       "      <td>1</td>\n",
       "      <td>85.0</td>\n",
       "      <td>516.75</td>\n",
       "      <td>56.0</td>\n",
       "      <td>22696.96</td>\n",
       "      <td>0</td>\n",
       "    </tr>\n",
       "    <tr>\n",
       "      <td>2</td>\n",
       "      <td>77.0</td>\n",
       "      <td>467.66</td>\n",
       "      <td>86.0</td>\n",
       "      <td>21060.45</td>\n",
       "      <td>0</td>\n",
       "    </tr>\n",
       "    <tr>\n",
       "      <td>3</td>\n",
       "      <td>106.0</td>\n",
       "      <td>745.53</td>\n",
       "      <td>81.0</td>\n",
       "      <td>8437.39</td>\n",
       "      <td>1</td>\n",
       "    </tr>\n",
       "    <tr>\n",
       "      <td>4</td>\n",
       "      <td>66.0</td>\n",
       "      <td>418.74</td>\n",
       "      <td>1.0</td>\n",
       "      <td>14502.75</td>\n",
       "      <td>0</td>\n",
       "    </tr>\n",
       "    <tr>\n",
       "      <td>5</td>\n",
       "      <td>58.0</td>\n",
       "      <td>344.56</td>\n",
       "      <td>21.0</td>\n",
       "      <td>15823.37</td>\n",
       "      <td>0</td>\n",
       "    </tr>\n",
       "    <tr>\n",
       "      <td>6</td>\n",
       "      <td>57.0</td>\n",
       "      <td>431.64</td>\n",
       "      <td>20.0</td>\n",
       "      <td>3738.90</td>\n",
       "      <td>1</td>\n",
       "    </tr>\n",
       "    <tr>\n",
       "      <td>7</td>\n",
       "      <td>15.0</td>\n",
       "      <td>132.40</td>\n",
       "      <td>6.0</td>\n",
       "      <td>21911.60</td>\n",
       "      <td>0</td>\n",
       "    </tr>\n",
       "    <tr>\n",
       "      <td>8</td>\n",
       "      <td>7.0</td>\n",
       "      <td>43.39</td>\n",
       "      <td>3.0</td>\n",
       "      <td>2538.67</td>\n",
       "      <td>1</td>\n",
       "    </tr>\n",
       "    <tr>\n",
       "      <td>9</td>\n",
       "      <td>90.0</td>\n",
       "      <td>665.41</td>\n",
       "      <td>38.0</td>\n",
       "      <td>17358.61</td>\n",
       "      <td>0</td>\n",
       "    </tr>\n",
       "  </tbody>\n",
       "</table>\n",
       "</div>"
      ],
      "text/plain": [
       "   calls  minutes  messages   mb_used  is_ultra\n",
       "0   40.0   311.90      83.0  19915.42         0\n",
       "1   85.0   516.75      56.0  22696.96         0\n",
       "2   77.0   467.66      86.0  21060.45         0\n",
       "3  106.0   745.53      81.0   8437.39         1\n",
       "4   66.0   418.74       1.0  14502.75         0\n",
       "5   58.0   344.56      21.0  15823.37         0\n",
       "6   57.0   431.64      20.0   3738.90         1\n",
       "7   15.0   132.40       6.0  21911.60         0\n",
       "8    7.0    43.39       3.0   2538.67         1\n",
       "9   90.0   665.41      38.0  17358.61         0"
      ]
     },
     "execution_count": 5,
     "metadata": {},
     "output_type": "execute_result"
    }
   ],
   "source": [
    "df.head(10)"
   ]
  },
  {
   "cell_type": "markdown",
   "metadata": {},
   "source": [
    "Для построения модели предоставлены данные за месяц, которые состоят из 5 столбцов и 3214 строк. \n",
    "\n",
    "Пропуски не выявлены.\n",
    "\n",
    "Каких то числовых аномалий не выявлено"
   ]
  },
  {
   "cell_type": "markdown",
   "metadata": {},
   "source": [
    "## Проверка на дубликаты и изменение типов данных ##\n",
    "\n",
    "Проверю на наличие полных дубликатов, а также изменю тип данных в столбцах 'calls' и 'messages' на int (так как количество СМС и звонков не может быть дробным)"
   ]
  },
  {
   "cell_type": "code",
   "execution_count": 6,
   "metadata": {},
   "outputs": [
    {
     "data": {
      "text/plain": [
       "0"
      ]
     },
     "execution_count": 6,
     "metadata": {},
     "output_type": "execute_result"
    }
   ],
   "source": [
    "df.duplicated().sum()"
   ]
  },
  {
   "cell_type": "code",
   "execution_count": 7,
   "metadata": {},
   "outputs": [],
   "source": [
    "df['calls'] = df['calls'].astype('int')"
   ]
  },
  {
   "cell_type": "code",
   "execution_count": 8,
   "metadata": {},
   "outputs": [],
   "source": [
    "df['messages'] = df['messages'].astype('int')"
   ]
  },
  {
   "cell_type": "code",
   "execution_count": 9,
   "metadata": {},
   "outputs": [
    {
     "name": "stdout",
     "output_type": "stream",
     "text": [
      "<class 'pandas.core.frame.DataFrame'>\n",
      "RangeIndex: 3214 entries, 0 to 3213\n",
      "Data columns (total 5 columns):\n",
      "calls       3214 non-null int64\n",
      "minutes     3214 non-null float64\n",
      "messages    3214 non-null int64\n",
      "mb_used     3214 non-null float64\n",
      "is_ultra    3214 non-null int64\n",
      "dtypes: float64(2), int64(3)\n",
      "memory usage: 125.7 KB\n"
     ]
    }
   ],
   "source": [
    "df.info()"
   ]
  },
  {
   "cell_type": "code",
   "execution_count": 10,
   "metadata": {},
   "outputs": [
    {
     "data": {
      "text/html": [
       "<div>\n",
       "<style scoped>\n",
       "    .dataframe tbody tr th:only-of-type {\n",
       "        vertical-align: middle;\n",
       "    }\n",
       "\n",
       "    .dataframe tbody tr th {\n",
       "        vertical-align: top;\n",
       "    }\n",
       "\n",
       "    .dataframe thead th {\n",
       "        text-align: right;\n",
       "    }\n",
       "</style>\n",
       "<table border=\"1\" class=\"dataframe\">\n",
       "  <thead>\n",
       "    <tr style=\"text-align: right;\">\n",
       "      <th></th>\n",
       "      <th>calls</th>\n",
       "      <th>minutes</th>\n",
       "      <th>messages</th>\n",
       "      <th>mb_used</th>\n",
       "      <th>is_ultra</th>\n",
       "    </tr>\n",
       "  </thead>\n",
       "  <tbody>\n",
       "    <tr>\n",
       "      <td>0</td>\n",
       "      <td>40</td>\n",
       "      <td>311.90</td>\n",
       "      <td>83</td>\n",
       "      <td>19915.42</td>\n",
       "      <td>0</td>\n",
       "    </tr>\n",
       "    <tr>\n",
       "      <td>1</td>\n",
       "      <td>85</td>\n",
       "      <td>516.75</td>\n",
       "      <td>56</td>\n",
       "      <td>22696.96</td>\n",
       "      <td>0</td>\n",
       "    </tr>\n",
       "    <tr>\n",
       "      <td>2</td>\n",
       "      <td>77</td>\n",
       "      <td>467.66</td>\n",
       "      <td>86</td>\n",
       "      <td>21060.45</td>\n",
       "      <td>0</td>\n",
       "    </tr>\n",
       "    <tr>\n",
       "      <td>3</td>\n",
       "      <td>106</td>\n",
       "      <td>745.53</td>\n",
       "      <td>81</td>\n",
       "      <td>8437.39</td>\n",
       "      <td>1</td>\n",
       "    </tr>\n",
       "    <tr>\n",
       "      <td>4</td>\n",
       "      <td>66</td>\n",
       "      <td>418.74</td>\n",
       "      <td>1</td>\n",
       "      <td>14502.75</td>\n",
       "      <td>0</td>\n",
       "    </tr>\n",
       "  </tbody>\n",
       "</table>\n",
       "</div>"
      ],
      "text/plain": [
       "   calls  minutes  messages   mb_used  is_ultra\n",
       "0     40   311.90        83  19915.42         0\n",
       "1     85   516.75        56  22696.96         0\n",
       "2     77   467.66        86  21060.45         0\n",
       "3    106   745.53        81   8437.39         1\n",
       "4     66   418.74         1  14502.75         0"
      ]
     },
     "execution_count": 10,
     "metadata": {},
     "output_type": "execute_result"
    }
   ],
   "source": [
    "df.head()"
   ]
  },
  {
   "cell_type": "markdown",
   "metadata": {},
   "source": [
    "Полные дубликаты отсутствуют, замена типа данных произведена успешно"
   ]
  },
  {
   "cell_type": "markdown",
   "metadata": {},
   "source": [
    "## Выделение цели и признаков ##\n",
    "\n",
    "Сразу выделю целевой признак (тариф ультра или нет) и сохраню в переменную target, остальные признаки сохраню в переменную features"
   ]
  },
  {
   "cell_type": "code",
   "execution_count": 11,
   "metadata": {},
   "outputs": [],
   "source": [
    "features = df.drop(['is_ultra'], axis =1)"
   ]
  },
  {
   "cell_type": "code",
   "execution_count": 12,
   "metadata": {},
   "outputs": [],
   "source": [
    "target = df['is_ultra']"
   ]
  },
  {
   "cell_type": "markdown",
   "metadata": {},
   "source": [
    "## Разбивка данных на выборки"
   ]
  },
  {
   "cell_type": "markdown",
   "metadata": {},
   "source": [
    "Разделю данные на 3 выборки: обучающую (60%), тестовую (20%), валидационную (20%). \n",
    "\n",
    "Создам переменные: train_features и train_target, test_features и test_target, valid_features и valid_target.\n",
    "\n",
    "Для этого сначала разобью данные на обучающую выборку (60%) и тестовую выборку (40%), затем тестовую выборку разделю пополам на тестовую и валидационные выборки "
   ]
  },
  {
   "cell_type": "code",
   "execution_count": 13,
   "metadata": {},
   "outputs": [],
   "source": [
    "train_features, test_features, train_target, test_target = train_test_split(features, \n",
    "                                                                            target, \n",
    "                                                                            test_size = 0.4, \n",
    "                                                                            random_state = 12345)"
   ]
  },
  {
   "cell_type": "code",
   "execution_count": 14,
   "metadata": {},
   "outputs": [],
   "source": [
    "test_features, valid_features, test_target, valid_target = train_test_split(test_features, \n",
    "                                                                            test_target, \n",
    "                                                                            test_size = 0.5, \n",
    "                                                                            random_state = 12345)"
   ]
  },
  {
   "cell_type": "markdown",
   "metadata": {},
   "source": [
    "Проверю размеры полученных таблиц "
   ]
  },
  {
   "cell_type": "code",
   "execution_count": 15,
   "metadata": {},
   "outputs": [
    {
     "data": {
      "text/plain": [
       "(1928, 4)"
      ]
     },
     "execution_count": 15,
     "metadata": {},
     "output_type": "execute_result"
    }
   ],
   "source": [
    "train_features.shape"
   ]
  },
  {
   "cell_type": "code",
   "execution_count": 16,
   "metadata": {},
   "outputs": [
    {
     "data": {
      "text/plain": [
       "(1928,)"
      ]
     },
     "execution_count": 16,
     "metadata": {},
     "output_type": "execute_result"
    }
   ],
   "source": [
    "train_target.shape"
   ]
  },
  {
   "cell_type": "code",
   "execution_count": 17,
   "metadata": {},
   "outputs": [
    {
     "data": {
      "text/plain": [
       "(643, 4)"
      ]
     },
     "execution_count": 17,
     "metadata": {},
     "output_type": "execute_result"
    }
   ],
   "source": [
    "test_features.shape"
   ]
  },
  {
   "cell_type": "code",
   "execution_count": 18,
   "metadata": {},
   "outputs": [
    {
     "data": {
      "text/plain": [
       "(643,)"
      ]
     },
     "execution_count": 18,
     "metadata": {},
     "output_type": "execute_result"
    }
   ],
   "source": [
    "test_target.shape"
   ]
  },
  {
   "cell_type": "code",
   "execution_count": 19,
   "metadata": {},
   "outputs": [
    {
     "data": {
      "text/plain": [
       "(643, 4)"
      ]
     },
     "execution_count": 19,
     "metadata": {},
     "output_type": "execute_result"
    }
   ],
   "source": [
    "valid_features.shape"
   ]
  },
  {
   "cell_type": "code",
   "execution_count": 20,
   "metadata": {},
   "outputs": [
    {
     "data": {
      "text/plain": [
       "(643,)"
      ]
     },
     "execution_count": 20,
     "metadata": {},
     "output_type": "execute_result"
    }
   ],
   "source": [
    "valid_target.shape"
   ]
  },
  {
   "cell_type": "markdown",
   "metadata": {},
   "source": [
    "Разбивка данных произошла удачно:\n",
    "\n",
    "- в обучающей выборке 1928 объектов с данными;\n",
    "\n",
    "- в тестовой и валидационной выборках по 643 объекта с данными"
   ]
  },
  {
   "cell_type": "markdown",
   "metadata": {},
   "source": [
    "## Исследование моделей ##\n",
    "\n",
    "Исследую 3 популярных модели обучения для задачи классификации: \n",
    "- Решающее дерево (Decision Tree), \n",
    "\n",
    "- Случайный лес (Random Forest),\n",
    "\n",
    "- Логистическая регрессия (Logistic Regression). \n",
    "\n",
    "Затем выведу на печать показатели значения accuracy наилучшей модели на валидационной выборке. \n",
    "\n",
    "Гиперпараметр Глубина дерева укажу от 1 до 5 (указание глубины дерева до 4-х  может повлечь недообучение, слишком большая глубина - переообучение)"
   ]
  },
  {
   "cell_type": "markdown",
   "metadata": {},
   "source": [
    "### Решающее дерево (Decision Tree) ###"
   ]
  },
  {
   "cell_type": "markdown",
   "metadata": {},
   "source": [
    "Для определения лучшего результата работы модели \"Решающее дерево\", сделаю цикл, который переберет гиперпараметр глубины дерева от 1 до 5, обучу модель на тренировочной выборке и проверю метрику качества accuracy на валидационной выборке."
   ]
  },
  {
   "cell_type": "code",
   "execution_count": 21,
   "metadata": {},
   "outputs": [],
   "source": [
    "best_model_DT = None\n",
    "best_result_DT = 0 \n",
    "best_depth_DT = 0\n",
    "for depth in range(1,6):\n",
    "    model_DT = DecisionTreeClassifier(random_state = 12345, max_depth = depth)\n",
    "    model_DT.fit(train_features, train_target)\n",
    "    result_DT = model_DT.score(valid_features, valid_target)\n",
    "    if result_DT > best_result_DT:\n",
    "        best_model_DT = model_DT\n",
    "        best_result_DT = result_DT\n",
    "        best_depth_DT = depth"
   ]
  },
  {
   "cell_type": "code",
   "execution_count": 22,
   "metadata": {},
   "outputs": [
    {
     "name": "stdout",
     "output_type": "stream",
     "text": [
      "Accuracy налучшей модели на валидационной выборке: 0.7838258164852255 при глубине дерева: 5\n"
     ]
    }
   ],
   "source": [
    "print('Accuracy налучшей модели на валидационной выборке:', best_result_DT, 'при глубине дерева:', best_depth_DT)"
   ]
  },
  {
   "cell_type": "markdown",
   "metadata": {},
   "source": [
    "### Случайный лес (Random Forest) ###"
   ]
  },
  {
   "cell_type": "markdown",
   "metadata": {},
   "source": [
    "Для определения лучшего результата работы модели \"Случайный лес\", сделаю цикл, который переберет гиперпараметр количества деревьев от 10 до 50 с глубиной дерева от 1 до 5, обучу модель на тренировочной выборке и проверю метрику качества accuracy на валидационной выборке."
   ]
  },
  {
   "cell_type": "code",
   "execution_count": 23,
   "metadata": {},
   "outputs": [],
   "source": [
    "best_model_RF = None\n",
    "best_result_RF = 0\n",
    "best_est_RF = 0\n",
    "best_depth_RF = 0\n",
    "for est in range(10, 51):\n",
    "    for depth in range(1, 6):\n",
    "        model_RF = RandomForestClassifier(random_state = 12345, n_estimators = est, max_depth = depth)\n",
    "        model_RF.fit(train_features, train_target)\n",
    "        result_RF = model_RF.score(valid_features, valid_target)\n",
    "        if result_RF > best_result_RF:\n",
    "            best_model_RF = model_RF\n",
    "            best_result_RF = result_RF\n",
    "            best_est_RF = est\n",
    "            best_depth_RF = depth"
   ]
  },
  {
   "cell_type": "code",
   "execution_count": 24,
   "metadata": {},
   "outputs": [
    {
     "name": "stdout",
     "output_type": "stream",
     "text": [
      "Accuracy налучшей модели на валидационной выборке: 0.7947122861586314 с количеством деревьев: 16 , при глубине дерева: 5\n"
     ]
    }
   ],
   "source": [
    "print('Accuracy налучшей модели на валидационной выборке:', best_result_RF,\n",
    "      'с количеством деревьев:', best_est_RF, ', при глубине дерева:', best_depth_RF)"
   ]
  },
  {
   "cell_type": "markdown",
   "metadata": {},
   "source": [
    "### Логистическая регрессия (Logistic Regression) ###"
   ]
  },
  {
   "cell_type": "markdown",
   "metadata": {},
   "source": [
    "Для определения лучшего результата работы модели \"Логистическая регрессия\", обучу модель на тренировочной выборке и проверю метрику качества accuracy на валидационной выборке."
   ]
  },
  {
   "cell_type": "code",
   "execution_count": 25,
   "metadata": {},
   "outputs": [],
   "source": [
    "model_LR = LogisticRegression(random_state = 12345, solver = 'lbfgs', max_iter = 500)\n",
    "model_LR.fit(train_features, train_target)\n",
    "result_LR = model_LR.score(valid_features, valid_target)"
   ]
  },
  {
   "cell_type": "code",
   "execution_count": 26,
   "metadata": {},
   "outputs": [
    {
     "name": "stdout",
     "output_type": "stream",
     "text": [
      "Accuracy налучшей модели на валидационной выборке: 0.6842923794712286\n"
     ]
    }
   ],
   "source": [
    "print('Accuracy налучшей модели на валидационной выборке:', result_LR)"
   ]
  },
  {
   "cell_type": "markdown",
   "metadata": {},
   "source": [
    "### Вывод ###"
   ]
  },
  {
   "cell_type": "code",
   "execution_count": 27,
   "metadata": {},
   "outputs": [
    {
     "name": "stdout",
     "output_type": "stream",
     "text": [
      "Accuracy налучшей модели на валидационной выборке:\n",
      "\n",
      "Решающее дерево: 0.7838258164852255 при глубине дерева: 5\n",
      "Случайный лес: 0.7947122861586314 с количеством деревьев: 16 , при глубине дерева: 5\n",
      "Логистическая регрессия: 0.6842923794712286\n"
     ]
    }
   ],
   "source": [
    "print('Accuracy налучшей модели на валидационной выборке:')\n",
    "print('')\n",
    "print('Решающее дерево:', best_result_DT, 'при глубине дерева:', best_depth_DT)\n",
    "print('Случайный лес:', best_result_RF, 'с количеством деревьев:', best_est_RF, ', при глубине дерева:', best_depth_RF)\n",
    "print('Логистическая регрессия:', result_LR)"
   ]
  },
  {
   "cell_type": "markdown",
   "metadata": {},
   "source": [
    "Наибольшую точность согласно метрике качества Accuracy (количество правильных ответов) показывает модель **Случайный лес (Random Forest)**. Однако это самый долгий по времени исполнения алгоритм"
   ]
  },
  {
   "cell_type": "markdown",
   "metadata": {},
   "source": [
    "## Проверка моделей на тестовой выборке"
   ]
  },
  {
   "cell_type": "markdown",
   "metadata": {},
   "source": [
    "Посчитаю метрику Accuracy для разных моделей на тестовой выборке"
   ]
  },
  {
   "cell_type": "code",
   "execution_count": 28,
   "metadata": {},
   "outputs": [],
   "source": [
    "result_DT_test = model_DT.score(test_features, test_target)"
   ]
  },
  {
   "cell_type": "code",
   "execution_count": 29,
   "metadata": {},
   "outputs": [
    {
     "name": "stdout",
     "output_type": "stream",
     "text": [
      "Accuracy налучшей модели \"Решающее дерево\" на тестовой выборке: 0.7791601866251944\n"
     ]
    }
   ],
   "source": [
    "print('Accuracy налучшей модели \"Решающее дерево\" на тестовой выборке:', result_DT_test)"
   ]
  },
  {
   "cell_type": "code",
   "execution_count": 30,
   "metadata": {},
   "outputs": [],
   "source": [
    "result_RF_test = model_RF.score(test_features, test_target)"
   ]
  },
  {
   "cell_type": "code",
   "execution_count": 31,
   "metadata": {},
   "outputs": [
    {
     "name": "stdout",
     "output_type": "stream",
     "text": [
      "Accuracy налучшей модели \"Случайный лес\" на тестовой выборке: 0.7931570762052877\n"
     ]
    }
   ],
   "source": [
    "print('Accuracy налучшей модели \"Случайный лес\" на тестовой выборке:', result_RF_test)"
   ]
  },
  {
   "cell_type": "code",
   "execution_count": 32,
   "metadata": {},
   "outputs": [],
   "source": [
    "result_LR_test = model_LR.score(test_features, test_target)"
   ]
  },
  {
   "cell_type": "code",
   "execution_count": 33,
   "metadata": {},
   "outputs": [
    {
     "name": "stdout",
     "output_type": "stream",
     "text": [
      "Accuracy налучшей модели \"Логистическая регрессия\" на тестовой выборке: 0.7107309486780715\n"
     ]
    }
   ],
   "source": [
    "print('Accuracy налучшей модели \"Логистическая регрессия\" на тестовой выборке:', result_LR_test)"
   ]
  },
  {
   "cell_type": "markdown",
   "metadata": {},
   "source": [
    "**Вывод**\n",
    "\n",
    "По результатам проверки работы моделей на тестовой выборке большую точность также показала модель **Случайный лес (Random Forest)**.\n",
    "\n",
    "Доля правильных ответов в модели Логистическая регрессия (Logistic Regression) на тестовой выборке выше, чем на валидационной выборке "
   ]
  },
  {
   "cell_type": "markdown",
   "metadata": {},
   "source": [
    "## Проверка моделей на адекватность"
   ]
  },
  {
   "cell_type": "markdown",
   "metadata": {},
   "source": [
    "Для проверки модели на адекватность использую метод DummyClassifier. \n",
    "\n",
    "С помощью цикла посчитаю метрику accuracy на тестовой выборке для следующих стратегий метода DummyClassifier: 'most_frequent', 'stratified', 'uniform'.\n",
    "\n",
    "Я не буду использовать стратегию constant, так как не проставляла постоянных меток в данных"
   ]
  },
  {
   "cell_type": "code",
   "execution_count": 34,
   "metadata": {},
   "outputs": [],
   "source": [
    "strategies = ['most_frequent', 'stratified', 'uniform']\n",
    "result_dummy_test = []\n",
    "for s in strategies:\n",
    "    model_dummy = DummyClassifier(strategy = s, random_state = 12345)\n",
    "    model_dummy.fit(train_features, train_target)\n",
    "    result_dummy = model_dummy.score(test_features, test_target)\n",
    "    result_dummy_test.append(result_dummy)"
   ]
  },
  {
   "cell_type": "code",
   "execution_count": 35,
   "metadata": {},
   "outputs": [
    {
     "data": {
      "text/plain": [
       "[0.7060653188180405, 0.5925349922239502, 0.5038880248833593]"
      ]
     },
     "execution_count": 35,
     "metadata": {},
     "output_type": "execute_result"
    }
   ],
   "source": [
    "result_dummy_test"
   ]
  },
  {
   "cell_type": "code",
   "execution_count": 36,
   "metadata": {},
   "outputs": [
    {
     "data": {
      "image/png": "[encoded data removed]",
      "text/plain": [
       "<Figure size 720x360 with 1 Axes>"
      ]
     },
     "metadata": {
      "needs_background": "light"
     },
     "output_type": "display_data"
    }
   ],
   "source": [
    "plt.figure(figsize=(10,5))\n",
    "sns.set(style=\"darkgrid\")\n",
    "ax = sns.barplot(strategies,result_dummy_test, palette=\"Blues_d\")\n",
    "ax.set(xlabel = 'Стратегии', ylabel = 'Значения метрики')\n",
    "plt.title('Значения метрики Accuracy для разных стратегий',fontsize=12)\n",
    "plt.show()"
   ]
  },
  {
   "cell_type": "markdown",
   "metadata": {},
   "source": [
    "**Вывод**\n",
    "\n",
    "Сравнивая оценки метрики Accuracy для модели  Случайный лес (Random Forest) с фиктивным классификатором DummyClassifier, я пришла  к выводу, что модель работает корректно - оценки фиктивного классификатора ниже, чем оценки модели."
   ]
  }
 ],
 "metadata": {
  "ExecuteTimeLog": [
   {
    "duration": 1712,
    "start_time": "2021-09-30T15:55:34.598Z"
   },
   {
    "duration": 25,
    "start_time": "2021-09-30T15:56:26.858Z"
   },
   {
    "duration": 10,
    "start_time": "2021-09-30T15:56:40.941Z"
   },
   {
    "duration": 45,
    "start_time": "2021-09-30T15:56:53.832Z"
   },
   {
    "duration": 18,
    "start_time": "2021-09-30T15:57:03.471Z"
   },
   {
    "duration": 371,
    "start_time": "2021-10-04T10:23:07.710Z"
   },
   {
    "duration": 2444,
    "start_time": "2021-10-04T10:23:18.192Z"
   },
   {
    "duration": 24,
    "start_time": "2021-10-04T10:23:21.774Z"
   },
   {
    "duration": 10,
    "start_time": "2021-10-04T10:23:22.882Z"
   },
   {
    "duration": 44,
    "start_time": "2021-10-04T10:23:23.729Z"
   },
   {
    "duration": 13,
    "start_time": "2021-10-04T10:23:24.808Z"
   },
   {
    "duration": 9,
    "start_time": "2021-10-04T10:23:28.320Z"
   },
   {
    "duration": 5,
    "start_time": "2021-10-04T10:24:44.659Z"
   },
   {
    "duration": 10,
    "start_time": "2021-10-04T10:24:57.454Z"
   },
   {
    "duration": 97,
    "start_time": "2021-10-04T10:26:57.861Z"
   },
   {
    "duration": 5,
    "start_time": "2021-10-04T10:27:05.269Z"
   },
   {
    "duration": 4,
    "start_time": "2021-10-04T10:27:06.327Z"
   },
   {
    "duration": 9,
    "start_time": "2021-10-04T10:27:07.029Z"
   },
   {
    "duration": 12,
    "start_time": "2021-10-04T10:27:24.740Z"
   },
   {
    "duration": 1577,
    "start_time": "2021-10-04T10:30:41.674Z"
   },
   {
    "duration": 23,
    "start_time": "2021-10-04T10:30:44.393Z"
   },
   {
    "duration": 12,
    "start_time": "2021-10-04T10:30:45.144Z"
   },
   {
    "duration": 43,
    "start_time": "2021-10-04T10:30:45.889Z"
   },
   {
    "duration": 13,
    "start_time": "2021-10-04T10:30:46.397Z"
   },
   {
    "duration": 9,
    "start_time": "2021-10-04T10:30:48.176Z"
   },
   {
    "duration": 5,
    "start_time": "2021-10-04T10:30:48.692Z"
   },
   {
    "duration": 5,
    "start_time": "2021-10-04T10:30:49.263Z"
   },
   {
    "duration": 9,
    "start_time": "2021-10-04T10:30:49.846Z"
   },
   {
    "duration": 11,
    "start_time": "2021-10-04T10:30:50.360Z"
   },
   {
    "duration": 6,
    "start_time": "2021-10-04T10:51:23.737Z"
   },
   {
    "duration": 4,
    "start_time": "2021-10-04T10:51:42.476Z"
   },
   {
    "duration": 8,
    "start_time": "2021-10-04T11:22:59.511Z"
   },
   {
    "duration": 7,
    "start_time": "2021-10-04T11:32:32.846Z"
   },
   {
    "duration": 7,
    "start_time": "2021-10-04T11:32:40.473Z"
   },
   {
    "duration": 8,
    "start_time": "2021-10-04T11:33:01.242Z"
   },
   {
    "duration": 446,
    "start_time": "2021-10-04T11:39:50.959Z"
   },
   {
    "duration": 332,
    "start_time": "2021-10-04T11:40:01.488Z"
   },
   {
    "duration": 6,
    "start_time": "2021-10-04T11:40:25.902Z"
   },
   {
    "duration": 6,
    "start_time": "2021-10-04T11:40:34.239Z"
   },
   {
    "duration": 5,
    "start_time": "2021-10-04T11:40:49.621Z"
   },
   {
    "duration": 5,
    "start_time": "2021-10-04T11:41:01.059Z"
   },
   {
    "duration": 18,
    "start_time": "2021-10-04T11:41:20.759Z"
   },
   {
    "duration": 6,
    "start_time": "2021-10-04T11:41:28.709Z"
   },
   {
    "duration": 8,
    "start_time": "2021-10-04T11:41:38.615Z"
   },
   {
    "duration": 7,
    "start_time": "2021-10-04T11:41:39.239Z"
   },
   {
    "duration": 5,
    "start_time": "2021-10-04T11:41:40.501Z"
   },
   {
    "duration": 6,
    "start_time": "2021-10-04T11:41:41.338Z"
   },
   {
    "duration": 6,
    "start_time": "2021-10-04T11:41:42.003Z"
   },
   {
    "duration": 5,
    "start_time": "2021-10-04T11:41:54.533Z"
   },
   {
    "duration": 5,
    "start_time": "2021-10-04T11:42:09.269Z"
   },
   {
    "duration": 1378,
    "start_time": "2021-10-04T11:43:41.181Z"
   },
   {
    "duration": 22,
    "start_time": "2021-10-04T11:43:42.562Z"
   },
   {
    "duration": 10,
    "start_time": "2021-10-04T11:43:42.941Z"
   },
   {
    "duration": 45,
    "start_time": "2021-10-04T11:43:43.797Z"
   },
   {
    "duration": 13,
    "start_time": "2021-10-04T11:43:44.950Z"
   },
   {
    "duration": 8,
    "start_time": "2021-10-04T11:43:47.791Z"
   },
   {
    "duration": 6,
    "start_time": "2021-10-04T11:43:48.715Z"
   },
   {
    "duration": 5,
    "start_time": "2021-10-04T11:43:49.428Z"
   },
   {
    "duration": 8,
    "start_time": "2021-10-04T11:43:50.310Z"
   },
   {
    "duration": 11,
    "start_time": "2021-10-04T11:43:51.129Z"
   },
   {
    "duration": 5,
    "start_time": "2021-10-04T11:43:54.882Z"
   },
   {
    "duration": 4,
    "start_time": "2021-10-04T11:43:55.907Z"
   },
   {
    "duration": 8,
    "start_time": "2021-10-04T11:43:58.385Z"
   },
   {
    "duration": 7,
    "start_time": "2021-10-04T11:43:59.302Z"
   },
   {
    "duration": 5,
    "start_time": "2021-10-04T11:44:00.936Z"
   },
   {
    "duration": 5,
    "start_time": "2021-10-04T11:44:01.858Z"
   },
   {
    "duration": 5,
    "start_time": "2021-10-04T11:44:02.812Z"
   },
   {
    "duration": 5,
    "start_time": "2021-10-04T11:44:03.663Z"
   },
   {
    "duration": 6,
    "start_time": "2021-10-04T11:44:04.596Z"
   },
   {
    "duration": 5,
    "start_time": "2021-10-04T11:44:08.593Z"
   },
   {
    "duration": 1459,
    "start_time": "2021-10-04T11:57:46.597Z"
   },
   {
    "duration": 23,
    "start_time": "2021-10-04T11:57:48.182Z"
   },
   {
    "duration": 10,
    "start_time": "2021-10-04T11:57:49.500Z"
   },
   {
    "duration": 43,
    "start_time": "2021-10-04T11:57:50.561Z"
   },
   {
    "duration": 14,
    "start_time": "2021-10-04T11:57:51.373Z"
   },
   {
    "duration": 10,
    "start_time": "2021-10-04T11:57:53.790Z"
   },
   {
    "duration": 5,
    "start_time": "2021-10-04T11:57:54.418Z"
   },
   {
    "duration": 5,
    "start_time": "2021-10-04T11:57:54.943Z"
   },
   {
    "duration": 10,
    "start_time": "2021-10-04T11:57:55.633Z"
   },
   {
    "duration": 12,
    "start_time": "2021-10-04T11:57:56.350Z"
   },
   {
    "duration": 5,
    "start_time": "2021-10-04T11:58:01.750Z"
   },
   {
    "duration": 4,
    "start_time": "2021-10-04T11:58:02.354Z"
   },
   {
    "duration": 8,
    "start_time": "2021-10-04T11:58:04.969Z"
   },
   {
    "duration": 9,
    "start_time": "2021-10-04T11:58:06.660Z"
   },
   {
    "duration": 9,
    "start_time": "2021-10-04T11:58:10.705Z"
   },
   {
    "duration": 6,
    "start_time": "2021-10-04T11:58:12.565Z"
   },
   {
    "duration": 6,
    "start_time": "2021-10-04T11:58:13.264Z"
   },
   {
    "duration": 5,
    "start_time": "2021-10-04T11:58:14.066Z"
   },
   {
    "duration": 5,
    "start_time": "2021-10-04T11:58:14.873Z"
   },
   {
    "duration": 5,
    "start_time": "2021-10-04T11:58:15.553Z"
   },
   {
    "duration": 5,
    "start_time": "2021-10-04T11:58:16.226Z"
   },
   {
    "duration": 1431,
    "start_time": "2021-10-04T11:58:41.433Z"
   },
   {
    "duration": 23,
    "start_time": "2021-10-04T11:58:43.035Z"
   },
   {
    "duration": 10,
    "start_time": "2021-10-04T11:58:44.011Z"
   },
   {
    "duration": 46,
    "start_time": "2021-10-04T11:58:44.589Z"
   },
   {
    "duration": 14,
    "start_time": "2021-10-04T11:58:45.144Z"
   },
   {
    "duration": 9,
    "start_time": "2021-10-04T11:58:46.643Z"
   },
   {
    "duration": 5,
    "start_time": "2021-10-04T11:58:47.191Z"
   },
   {
    "duration": 5,
    "start_time": "2021-10-04T11:58:47.699Z"
   },
   {
    "duration": 10,
    "start_time": "2021-10-04T11:58:48.226Z"
   },
   {
    "duration": 11,
    "start_time": "2021-10-04T11:58:48.753Z"
   },
   {
    "duration": 5,
    "start_time": "2021-10-04T11:58:50.469Z"
   },
   {
    "duration": 4,
    "start_time": "2021-10-04T11:58:50.995Z"
   },
   {
    "duration": 7,
    "start_time": "2021-10-04T11:58:52.922Z"
   },
   {
    "duration": 8,
    "start_time": "2021-10-04T11:58:53.836Z"
   },
   {
    "duration": 5,
    "start_time": "2021-10-04T11:58:55.306Z"
   },
   {
    "duration": 5,
    "start_time": "2021-10-04T11:58:55.915Z"
   },
   {
    "duration": 5,
    "start_time": "2021-10-04T11:58:56.535Z"
   },
   {
    "duration": 5,
    "start_time": "2021-10-04T11:58:57.457Z"
   },
   {
    "duration": 5,
    "start_time": "2021-10-04T11:58:58.228Z"
   },
   {
    "duration": 6,
    "start_time": "2021-10-04T11:58:58.921Z"
   },
   {
    "duration": 1349,
    "start_time": "2021-10-04T13:07:41.213Z"
   },
   {
    "duration": 24,
    "start_time": "2021-10-04T13:07:44.647Z"
   },
   {
    "duration": 9,
    "start_time": "2021-10-04T13:07:45.761Z"
   },
   {
    "duration": 44,
    "start_time": "2021-10-04T13:07:46.928Z"
   },
   {
    "duration": 15,
    "start_time": "2021-10-04T13:07:47.938Z"
   },
   {
    "duration": 9,
    "start_time": "2021-10-04T13:07:49.705Z"
   },
   {
    "duration": 5,
    "start_time": "2021-10-04T13:07:50.173Z"
   },
   {
    "duration": 5,
    "start_time": "2021-10-04T13:07:50.686Z"
   },
   {
    "duration": 10,
    "start_time": "2021-10-04T13:07:51.146Z"
   },
   {
    "duration": 12,
    "start_time": "2021-10-04T13:07:51.696Z"
   },
   {
    "duration": 5,
    "start_time": "2021-10-04T13:07:53.580Z"
   },
   {
    "duration": 4,
    "start_time": "2021-10-04T13:07:54.167Z"
   },
   {
    "duration": 9,
    "start_time": "2021-10-04T13:08:02.671Z"
   },
   {
    "duration": 7,
    "start_time": "2021-10-04T13:08:03.272Z"
   },
   {
    "duration": 7,
    "start_time": "2021-10-04T13:08:04.562Z"
   },
   {
    "duration": 5,
    "start_time": "2021-10-04T13:08:05.302Z"
   },
   {
    "duration": 5,
    "start_time": "2021-10-04T13:08:06.059Z"
   },
   {
    "duration": 5,
    "start_time": "2021-10-04T13:08:07.350Z"
   },
   {
    "duration": 5,
    "start_time": "2021-10-04T13:08:08.294Z"
   },
   {
    "duration": 5,
    "start_time": "2021-10-04T13:08:09.165Z"
   },
   {
    "duration": 623,
    "start_time": "2021-10-04T13:47:20.611Z"
   },
   {
    "duration": 1476,
    "start_time": "2021-10-04T13:48:53.992Z"
   },
   {
    "duration": 25,
    "start_time": "2021-10-04T13:48:56.156Z"
   },
   {
    "duration": 11,
    "start_time": "2021-10-04T13:48:56.845Z"
   },
   {
    "duration": 45,
    "start_time": "2021-10-04T13:48:57.485Z"
   },
   {
    "duration": 13,
    "start_time": "2021-10-04T13:48:58.188Z"
   },
   {
    "duration": 10,
    "start_time": "2021-10-04T13:49:00.564Z"
   },
   {
    "duration": 5,
    "start_time": "2021-10-04T13:49:01.183Z"
   },
   {
    "duration": 5,
    "start_time": "2021-10-04T13:49:01.803Z"
   },
   {
    "duration": 12,
    "start_time": "2021-10-04T13:49:02.438Z"
   },
   {
    "duration": 11,
    "start_time": "2021-10-04T13:49:03.118Z"
   },
   {
    "duration": 5,
    "start_time": "2021-10-04T13:49:05.092Z"
   },
   {
    "duration": 3,
    "start_time": "2021-10-04T13:49:05.885Z"
   },
   {
    "duration": 8,
    "start_time": "2021-10-04T13:49:08.007Z"
   },
   {
    "duration": 8,
    "start_time": "2021-10-04T13:49:08.565Z"
   },
   {
    "duration": 5,
    "start_time": "2021-10-04T13:49:09.852Z"
   },
   {
    "duration": 5,
    "start_time": "2021-10-04T13:49:10.540Z"
   },
   {
    "duration": 5,
    "start_time": "2021-10-04T13:49:11.173Z"
   },
   {
    "duration": 5,
    "start_time": "2021-10-04T13:49:12.116Z"
   },
   {
    "duration": 5,
    "start_time": "2021-10-04T13:49:12.727Z"
   },
   {
    "duration": 5,
    "start_time": "2021-10-04T13:49:13.341Z"
   },
   {
    "duration": 52,
    "start_time": "2021-10-04T13:49:18.283Z"
   },
   {
    "duration": 5,
    "start_time": "2021-10-04T13:49:19.629Z"
   },
   {
    "duration": 3553,
    "start_time": "2021-10-04T13:51:36.040Z"
   },
   {
    "duration": 5,
    "start_time": "2021-10-04T13:51:42.157Z"
   },
   {
    "duration": 7185,
    "start_time": "2021-10-04T13:51:57.662Z"
   },
   {
    "duration": 6,
    "start_time": "2021-10-04T13:52:06.521Z"
   },
   {
    "duration": 7301,
    "start_time": "2021-10-04T13:54:18.984Z"
   },
   {
    "duration": 5,
    "start_time": "2021-10-04T13:54:28.217Z"
   },
   {
    "duration": 7995,
    "start_time": "2021-10-04T13:57:46.580Z"
   },
   {
    "duration": 5,
    "start_time": "2021-10-04T13:57:56.993Z"
   },
   {
    "duration": 79,
    "start_time": "2021-10-04T13:58:40.083Z"
   },
   {
    "duration": 5,
    "start_time": "2021-10-04T13:58:41.413Z"
   },
   {
    "duration": 5,
    "start_time": "2021-10-04T13:59:28.494Z"
   },
   {
    "duration": 35,
    "start_time": "2021-10-04T14:05:59.045Z"
   },
   {
    "duration": 5,
    "start_time": "2021-10-04T14:06:00.959Z"
   },
   {
    "duration": 76,
    "start_time": "2021-10-04T14:06:11.880Z"
   },
   {
    "duration": 6,
    "start_time": "2021-10-04T14:06:13.080Z"
   },
   {
    "duration": 5,
    "start_time": "2021-10-04T14:26:46.911Z"
   },
   {
    "duration": 4,
    "start_time": "2021-10-04T14:27:34.273Z"
   },
   {
    "duration": 18068,
    "start_time": "2021-10-04T14:29:27.025Z"
   },
   {
    "duration": 4,
    "start_time": "2021-10-04T14:29:45.096Z"
   },
   {
    "duration": 438,
    "start_time": "2021-10-04T14:39:59.014Z"
   },
   {
    "duration": 25,
    "start_time": "2021-10-04T14:40:28.233Z"
   },
   {
    "duration": 1345,
    "start_time": "2021-10-04T14:43:34.250Z"
   },
   {
    "duration": 24,
    "start_time": "2021-10-04T14:43:36.220Z"
   },
   {
    "duration": 9,
    "start_time": "2021-10-04T14:43:36.825Z"
   },
   {
    "duration": 44,
    "start_time": "2021-10-04T14:43:37.388Z"
   },
   {
    "duration": 14,
    "start_time": "2021-10-04T14:43:37.976Z"
   },
   {
    "duration": 10,
    "start_time": "2021-10-04T14:43:39.510Z"
   },
   {
    "duration": 5,
    "start_time": "2021-10-04T14:43:39.936Z"
   },
   {
    "duration": 8,
    "start_time": "2021-10-04T14:43:40.357Z"
   },
   {
    "duration": 10,
    "start_time": "2021-10-04T14:43:40.734Z"
   },
   {
    "duration": 13,
    "start_time": "2021-10-04T14:43:41.037Z"
   },
   {
    "duration": 5,
    "start_time": "2021-10-04T14:43:42.255Z"
   },
   {
    "duration": 3,
    "start_time": "2021-10-04T14:43:42.728Z"
   },
   {
    "duration": 8,
    "start_time": "2021-10-04T14:43:44.376Z"
   },
   {
    "duration": 7,
    "start_time": "2021-10-04T14:43:45.057Z"
   },
   {
    "duration": 5,
    "start_time": "2021-10-04T14:43:46.577Z"
   },
   {
    "duration": 5,
    "start_time": "2021-10-04T14:43:47.268Z"
   },
   {
    "duration": 5,
    "start_time": "2021-10-04T14:43:48.013Z"
   },
   {
    "duration": 5,
    "start_time": "2021-10-04T14:43:48.639Z"
   },
   {
    "duration": 5,
    "start_time": "2021-10-04T14:43:49.368Z"
   },
   {
    "duration": 4,
    "start_time": "2021-10-04T14:43:50.281Z"
   },
   {
    "duration": 76,
    "start_time": "2021-10-04T14:43:53.553Z"
   },
   {
    "duration": 6,
    "start_time": "2021-10-04T14:43:54.566Z"
   },
   {
    "duration": 17032,
    "start_time": "2021-10-04T14:44:00.339Z"
   },
   {
    "duration": 5,
    "start_time": "2021-10-04T14:44:17.374Z"
   },
   {
    "duration": 46,
    "start_time": "2021-10-04T14:44:17.382Z"
   },
   {
    "duration": 464,
    "start_time": "2021-10-04T14:44:46.663Z"
   },
   {
    "duration": 26,
    "start_time": "2021-10-04T14:45:19.993Z"
   },
   {
    "duration": 1410,
    "start_time": "2021-10-04T14:46:54.040Z"
   },
   {
    "duration": 4,
    "start_time": "2021-10-04T14:47:00.168Z"
   },
   {
    "duration": 23,
    "start_time": "2021-10-04T14:47:01.705Z"
   },
   {
    "duration": 9,
    "start_time": "2021-10-04T14:47:02.521Z"
   },
   {
    "duration": 45,
    "start_time": "2021-10-04T14:47:03.299Z"
   },
   {
    "duration": 14,
    "start_time": "2021-10-04T14:47:03.851Z"
   },
   {
    "duration": 9,
    "start_time": "2021-10-04T14:47:05.333Z"
   },
   {
    "duration": 5,
    "start_time": "2021-10-04T14:47:05.651Z"
   },
   {
    "duration": 5,
    "start_time": "2021-10-04T14:47:05.944Z"
   },
   {
    "duration": 9,
    "start_time": "2021-10-04T14:47:06.211Z"
   },
   {
    "duration": 12,
    "start_time": "2021-10-04T14:47:06.460Z"
   },
   {
    "duration": 5,
    "start_time": "2021-10-04T14:47:07.254Z"
   },
   {
    "duration": 4,
    "start_time": "2021-10-04T14:47:07.515Z"
   },
   {
    "duration": 8,
    "start_time": "2021-10-04T14:47:08.809Z"
   },
   {
    "duration": 8,
    "start_time": "2021-10-04T14:47:09.194Z"
   },
   {
    "duration": 6,
    "start_time": "2021-10-04T14:47:10.045Z"
   },
   {
    "duration": 5,
    "start_time": "2021-10-04T14:47:10.563Z"
   },
   {
    "duration": 5,
    "start_time": "2021-10-04T14:47:10.867Z"
   },
   {
    "duration": 5,
    "start_time": "2021-10-04T14:47:11.368Z"
   },
   {
    "duration": 5,
    "start_time": "2021-10-04T14:47:11.856Z"
   },
   {
    "duration": 5,
    "start_time": "2021-10-04T14:47:12.304Z"
   },
   {
    "duration": 78,
    "start_time": "2021-10-04T14:47:14.166Z"
   },
   {
    "duration": 5,
    "start_time": "2021-10-04T14:47:14.959Z"
   },
   {
    "duration": 17353,
    "start_time": "2021-10-04T14:47:22.697Z"
   },
   {
    "duration": 5,
    "start_time": "2021-10-04T14:47:40.053Z"
   },
   {
    "duration": 27,
    "start_time": "2021-10-04T14:47:40.061Z"
   },
   {
    "duration": 34,
    "start_time": "2021-10-04T14:52:04.774Z"
   },
   {
    "duration": 9,
    "start_time": "2021-10-04T14:52:07.139Z"
   },
   {
    "duration": 7,
    "start_time": "2021-10-04T14:52:38.703Z"
   },
   {
    "duration": 1394,
    "start_time": "2021-10-04T14:53:01.738Z"
   },
   {
    "duration": 24,
    "start_time": "2021-10-04T14:53:03.777Z"
   },
   {
    "duration": 12,
    "start_time": "2021-10-04T14:53:04.861Z"
   },
   {
    "duration": 45,
    "start_time": "2021-10-04T14:53:05.450Z"
   },
   {
    "duration": 13,
    "start_time": "2021-10-04T14:53:06.004Z"
   },
   {
    "duration": 8,
    "start_time": "2021-10-04T14:53:07.703Z"
   },
   {
    "duration": 5,
    "start_time": "2021-10-04T14:53:08.476Z"
   },
   {
    "duration": 5,
    "start_time": "2021-10-04T14:53:09.046Z"
   },
   {
    "duration": 9,
    "start_time": "2021-10-04T14:53:09.593Z"
   },
   {
    "duration": 11,
    "start_time": "2021-10-04T14:53:10.191Z"
   },
   {
    "duration": 5,
    "start_time": "2021-10-04T14:53:11.440Z"
   },
   {
    "duration": 5,
    "start_time": "2021-10-04T14:53:11.800Z"
   },
   {
    "duration": 9,
    "start_time": "2021-10-04T14:53:13.111Z"
   },
   {
    "duration": 9,
    "start_time": "2021-10-04T14:53:13.544Z"
   },
   {
    "duration": 5,
    "start_time": "2021-10-04T14:53:14.518Z"
   },
   {
    "duration": 5,
    "start_time": "2021-10-04T14:53:15.062Z"
   },
   {
    "duration": 5,
    "start_time": "2021-10-04T14:53:15.677Z"
   },
   {
    "duration": 6,
    "start_time": "2021-10-04T14:53:16.252Z"
   },
   {
    "duration": 5,
    "start_time": "2021-10-04T14:53:16.836Z"
   },
   {
    "duration": 5,
    "start_time": "2021-10-04T14:53:17.425Z"
   },
   {
    "duration": 79,
    "start_time": "2021-10-04T14:53:21.507Z"
   },
   {
    "duration": 18832,
    "start_time": "2021-10-04T14:53:24.537Z"
   },
   {
    "duration": 25,
    "start_time": "2021-10-04T14:53:43.372Z"
   },
   {
    "duration": 21,
    "start_time": "2021-10-04T14:53:43.400Z"
   },
   {
    "duration": 512,
    "start_time": "2021-10-04T14:59:10.172Z"
   },
   {
    "duration": 29,
    "start_time": "2021-10-04T14:59:17.911Z"
   },
   {
    "duration": 6,
    "start_time": "2021-10-04T14:59:21.288Z"
   },
   {
    "duration": 1404,
    "start_time": "2021-10-04T15:00:13.708Z"
   },
   {
    "duration": 25,
    "start_time": "2021-10-04T15:00:16.070Z"
   },
   {
    "duration": 12,
    "start_time": "2021-10-04T15:00:17.043Z"
   },
   {
    "duration": 45,
    "start_time": "2021-10-04T15:00:17.989Z"
   },
   {
    "duration": 13,
    "start_time": "2021-10-04T15:00:19.124Z"
   },
   {
    "duration": 9,
    "start_time": "2021-10-04T15:00:22.015Z"
   },
   {
    "duration": 5,
    "start_time": "2021-10-04T15:00:22.678Z"
   },
   {
    "duration": 4,
    "start_time": "2021-10-04T15:00:23.341Z"
   },
   {
    "duration": 9,
    "start_time": "2021-10-04T15:00:24.049Z"
   },
   {
    "duration": 11,
    "start_time": "2021-10-04T15:00:24.883Z"
   },
   {
    "duration": 5,
    "start_time": "2021-10-04T15:00:28.578Z"
   },
   {
    "duration": 3,
    "start_time": "2021-10-04T15:00:29.307Z"
   },
   {
    "duration": 8,
    "start_time": "2021-10-04T15:00:31.357Z"
   },
   {
    "duration": 7,
    "start_time": "2021-10-04T15:00:31.997Z"
   },
   {
    "duration": 6,
    "start_time": "2021-10-04T15:00:33.324Z"
   },
   {
    "duration": 5,
    "start_time": "2021-10-04T15:00:34.023Z"
   },
   {
    "duration": 6,
    "start_time": "2021-10-04T15:00:34.668Z"
   },
   {
    "duration": 6,
    "start_time": "2021-10-04T15:00:35.246Z"
   },
   {
    "duration": 5,
    "start_time": "2021-10-04T15:00:35.796Z"
   },
   {
    "duration": 5,
    "start_time": "2021-10-04T15:00:36.294Z"
   },
   {
    "duration": 77,
    "start_time": "2021-10-04T15:00:38.913Z"
   },
   {
    "duration": 42516,
    "start_time": "2021-10-04T15:00:42.309Z"
   },
   {
    "duration": 32,
    "start_time": "2021-10-04T15:01:24.828Z"
   },
   {
    "duration": 8,
    "start_time": "2021-10-04T15:01:24.864Z"
   },
   {
    "duration": 1323,
    "start_time": "2021-10-04T15:02:13.923Z"
   },
   {
    "duration": 25,
    "start_time": "2021-10-04T15:02:15.248Z"
   },
   {
    "duration": 10,
    "start_time": "2021-10-04T15:02:15.277Z"
   },
   {
    "duration": 62,
    "start_time": "2021-10-04T15:02:15.290Z"
   },
   {
    "duration": 13,
    "start_time": "2021-10-04T15:02:15.355Z"
   },
   {
    "duration": 10,
    "start_time": "2021-10-04T15:02:15.370Z"
   },
   {
    "duration": 36,
    "start_time": "2021-10-04T15:02:15.383Z"
   },
   {
    "duration": 15,
    "start_time": "2021-10-04T15:02:15.421Z"
   },
   {
    "duration": 16,
    "start_time": "2021-10-04T15:02:15.440Z"
   },
   {
    "duration": 28,
    "start_time": "2021-10-04T15:02:15.458Z"
   },
   {
    "duration": 16,
    "start_time": "2021-10-04T15:02:15.489Z"
   },
   {
    "duration": 22,
    "start_time": "2021-10-04T15:02:15.508Z"
   },
   {
    "duration": 15,
    "start_time": "2021-10-04T15:02:15.533Z"
   },
   {
    "duration": 16,
    "start_time": "2021-10-04T15:02:15.550Z"
   },
   {
    "duration": 17,
    "start_time": "2021-10-04T15:02:15.568Z"
   },
   {
    "duration": 15,
    "start_time": "2021-10-04T15:02:15.587Z"
   },
   {
    "duration": 20,
    "start_time": "2021-10-04T15:02:15.604Z"
   },
   {
    "duration": 19,
    "start_time": "2021-10-04T15:02:15.626Z"
   },
   {
    "duration": 13,
    "start_time": "2021-10-04T15:02:15.648Z"
   },
   {
    "duration": 23,
    "start_time": "2021-10-04T15:02:15.663Z"
   },
   {
    "duration": 42,
    "start_time": "2021-10-04T15:02:15.688Z"
   },
   {
    "duration": 17296,
    "start_time": "2021-10-04T15:02:15.732Z"
   },
   {
    "duration": 28,
    "start_time": "2021-10-04T15:02:33.031Z"
   },
   {
    "duration": 7,
    "start_time": "2021-10-04T15:02:33.062Z"
   },
   {
    "duration": 1441,
    "start_time": "2021-10-04T15:10:57.103Z"
   },
   {
    "duration": 22,
    "start_time": "2021-10-04T15:10:58.547Z"
   },
   {
    "duration": 12,
    "start_time": "2021-10-04T15:10:58.572Z"
   },
   {
    "duration": 59,
    "start_time": "2021-10-04T15:10:58.586Z"
   },
   {
    "duration": 13,
    "start_time": "2021-10-04T15:10:58.647Z"
   },
   {
    "duration": 13,
    "start_time": "2021-10-04T15:10:58.662Z"
   },
   {
    "duration": 12,
    "start_time": "2021-10-04T15:10:58.677Z"
   },
   {
    "duration": 27,
    "start_time": "2021-10-04T15:10:58.691Z"
   },
   {
    "duration": 28,
    "start_time": "2021-10-04T15:10:58.722Z"
   },
   {
    "duration": 21,
    "start_time": "2021-10-04T15:10:58.753Z"
   },
   {
    "duration": 12,
    "start_time": "2021-10-04T15:10:58.776Z"
   },
   {
    "duration": 22,
    "start_time": "2021-10-04T15:10:58.790Z"
   },
   {
    "duration": 14,
    "start_time": "2021-10-04T15:10:58.815Z"
   },
   {
    "duration": 7,
    "start_time": "2021-10-04T15:10:58.832Z"
   },
   {
    "duration": 12,
    "start_time": "2021-10-04T15:10:58.842Z"
   },
   {
    "duration": 13,
    "start_time": "2021-10-04T15:10:58.856Z"
   },
   {
    "duration": 14,
    "start_time": "2021-10-04T15:10:58.872Z"
   },
   {
    "duration": 9,
    "start_time": "2021-10-04T15:10:58.889Z"
   },
   {
    "duration": 5,
    "start_time": "2021-10-04T15:10:58.916Z"
   },
   {
    "duration": 12,
    "start_time": "2021-10-04T15:10:58.924Z"
   },
   {
    "duration": 36,
    "start_time": "2021-10-04T15:10:58.938Z"
   },
   {
    "duration": 18462,
    "start_time": "2021-10-04T15:10:58.977Z"
   },
   {
    "duration": 28,
    "start_time": "2021-10-04T15:11:17.441Z"
   },
   {
    "duration": 6,
    "start_time": "2021-10-04T15:11:17.472Z"
   },
   {
    "duration": 7,
    "start_time": "2021-10-04T15:12:08.026Z"
   },
   {
    "duration": 10,
    "start_time": "2021-10-04T15:12:25.845Z"
   },
   {
    "duration": 9,
    "start_time": "2021-10-04T15:12:35.143Z"
   },
   {
    "duration": 8,
    "start_time": "2021-10-04T15:12:45.129Z"
   },
   {
    "duration": 8,
    "start_time": "2021-10-04T17:03:37.012Z"
   },
   {
    "duration": 5,
    "start_time": "2021-10-04T17:04:50.777Z"
   },
   {
    "duration": 5,
    "start_time": "2021-10-04T17:06:33.701Z"
   },
   {
    "duration": 18,
    "start_time": "2021-10-04T17:07:43.012Z"
   },
   {
    "duration": 5,
    "start_time": "2021-10-04T17:07:44.056Z"
   },
   {
    "duration": 7,
    "start_time": "2021-10-04T17:09:51.012Z"
   },
   {
    "duration": 5,
    "start_time": "2021-10-04T17:09:52.080Z"
   },
   {
    "duration": 1468,
    "start_time": "2021-10-04T19:04:04.891Z"
   },
   {
    "duration": 25,
    "start_time": "2021-10-04T19:04:06.362Z"
   },
   {
    "duration": 14,
    "start_time": "2021-10-04T19:04:06.391Z"
   },
   {
    "duration": 50,
    "start_time": "2021-10-04T19:04:06.408Z"
   },
   {
    "duration": 14,
    "start_time": "2021-10-04T19:04:06.461Z"
   },
   {
    "duration": 39,
    "start_time": "2021-10-04T19:04:06.477Z"
   },
   {
    "duration": 5,
    "start_time": "2021-10-04T19:04:06.518Z"
   },
   {
    "duration": 14,
    "start_time": "2021-10-04T19:04:06.525Z"
   },
   {
    "duration": 16,
    "start_time": "2021-10-04T19:04:06.544Z"
   },
   {
    "duration": 17,
    "start_time": "2021-10-04T19:04:06.563Z"
   },
   {
    "duration": 16,
    "start_time": "2021-10-04T19:04:06.582Z"
   },
   {
    "duration": 29,
    "start_time": "2021-10-04T19:04:06.600Z"
   },
   {
    "duration": 21,
    "start_time": "2021-10-04T19:04:06.632Z"
   },
   {
    "duration": 16,
    "start_time": "2021-10-04T19:04:06.655Z"
   },
   {
    "duration": 14,
    "start_time": "2021-10-04T19:04:06.673Z"
   },
   {
    "duration": 17,
    "start_time": "2021-10-04T19:04:06.689Z"
   },
   {
    "duration": 21,
    "start_time": "2021-10-04T19:04:06.709Z"
   },
   {
    "duration": 17,
    "start_time": "2021-10-04T19:04:06.733Z"
   },
   {
    "duration": 18,
    "start_time": "2021-10-04T19:04:06.752Z"
   },
   {
    "duration": 16,
    "start_time": "2021-10-04T19:04:06.773Z"
   },
   {
    "duration": 47,
    "start_time": "2021-10-04T19:04:06.792Z"
   },
   {
    "duration": 16914,
    "start_time": "2021-10-04T19:04:06.841Z"
   },
   {
    "duration": 28,
    "start_time": "2021-10-04T19:04:23.757Z"
   },
   {
    "duration": 6,
    "start_time": "2021-10-04T19:04:23.788Z"
   },
   {
    "duration": 23,
    "start_time": "2021-10-04T19:04:23.797Z"
   },
   {
    "duration": 5,
    "start_time": "2021-10-04T19:04:23.823Z"
   },
   {
    "duration": 18,
    "start_time": "2021-10-04T19:04:23.833Z"
   },
   {
    "duration": 4,
    "start_time": "2021-10-04T19:04:23.854Z"
   },
   {
    "duration": 9,
    "start_time": "2021-10-04T19:04:23.861Z"
   },
   {
    "duration": 44,
    "start_time": "2021-10-04T19:04:23.873Z"
   },
   {
    "duration": 4,
    "start_time": "2021-10-04T19:11:49.086Z"
   },
   {
    "duration": 4,
    "start_time": "2021-10-04T19:12:57.262Z"
   },
   {
    "duration": 12,
    "start_time": "2021-10-04T19:16:30.849Z"
   },
   {
    "duration": 629,
    "start_time": "2021-10-04T19:16:31.603Z"
   },
   {
    "duration": 6,
    "start_time": "2021-10-04T19:16:49.831Z"
   },
   {
    "duration": 5,
    "start_time": "2021-10-04T19:16:51.376Z"
   },
   {
    "duration": 5,
    "start_time": "2021-10-04T19:17:57.685Z"
   },
   {
    "duration": 4,
    "start_time": "2021-10-04T19:17:58.417Z"
   },
   {
    "duration": 5,
    "start_time": "2021-10-04T19:18:51.405Z"
   },
   {
    "duration": 6,
    "start_time": "2021-10-04T19:18:52.245Z"
   },
   {
    "duration": 5,
    "start_time": "2021-10-04T19:18:53.437Z"
   },
   {
    "duration": 5,
    "start_time": "2021-10-04T19:18:54.527Z"
   },
   {
    "duration": 5,
    "start_time": "2021-10-04T19:18:55.300Z"
   },
   {
    "duration": 5,
    "start_time": "2021-10-04T19:19:27.397Z"
   },
   {
    "duration": 5,
    "start_time": "2021-10-04T19:19:28.088Z"
   },
   {
    "duration": 4,
    "start_time": "2021-10-04T19:19:28.635Z"
   },
   {
    "duration": 6,
    "start_time": "2021-10-04T19:19:29.200Z"
   },
   {
    "duration": 5,
    "start_time": "2021-10-04T19:19:29.795Z"
   },
   {
    "duration": 18,
    "start_time": "2021-10-04T19:24:38.202Z"
   },
   {
    "duration": 306,
    "start_time": "2021-10-04T19:24:56.153Z"
   },
   {
    "duration": 6,
    "start_time": "2021-10-04T19:25:04.204Z"
   },
   {
    "duration": 7,
    "start_time": "2021-10-04T19:27:36.521Z"
   },
   {
    "duration": 7,
    "start_time": "2021-10-04T19:27:57.130Z"
   },
   {
    "duration": 343,
    "start_time": "2021-10-04T19:55:45.440Z"
   },
   {
    "duration": 10,
    "start_time": "2021-10-04T19:56:14.637Z"
   },
   {
    "duration": 5,
    "start_time": "2021-10-04T19:56:36.132Z"
   },
   {
    "duration": 1541,
    "start_time": "2021-10-04T20:01:17.490Z"
   },
   {
    "duration": 23,
    "start_time": "2021-10-04T20:01:19.033Z"
   },
   {
    "duration": 10,
    "start_time": "2021-10-04T20:01:19.060Z"
   },
   {
    "duration": 56,
    "start_time": "2021-10-04T20:01:19.073Z"
   },
   {
    "duration": 14,
    "start_time": "2021-10-04T20:01:19.132Z"
   },
   {
    "duration": 13,
    "start_time": "2021-10-04T20:01:19.148Z"
   },
   {
    "duration": 5,
    "start_time": "2021-10-04T20:01:19.164Z"
   },
   {
    "duration": 7,
    "start_time": "2021-10-04T20:01:19.171Z"
   },
   {
    "duration": 42,
    "start_time": "2021-10-04T20:01:19.182Z"
   },
   {
    "duration": 11,
    "start_time": "2021-10-04T20:01:19.227Z"
   },
   {
    "duration": 9,
    "start_time": "2021-10-04T20:01:19.240Z"
   },
   {
    "duration": 7,
    "start_time": "2021-10-04T20:01:19.251Z"
   },
   {
    "duration": 11,
    "start_time": "2021-10-04T20:01:19.260Z"
   },
   {
    "duration": 43,
    "start_time": "2021-10-04T20:01:19.273Z"
   },
   {
    "duration": 11,
    "start_time": "2021-10-04T20:01:19.319Z"
   },
   {
    "duration": 6,
    "start_time": "2021-10-04T20:01:19.333Z"
   },
   {
    "duration": 8,
    "start_time": "2021-10-04T20:01:19.341Z"
   },
   {
    "duration": 12,
    "start_time": "2021-10-04T20:01:19.351Z"
   },
   {
    "duration": 7,
    "start_time": "2021-10-04T20:01:19.365Z"
   },
   {
    "duration": 43,
    "start_time": "2021-10-04T20:01:19.375Z"
   },
   {
    "duration": 35,
    "start_time": "2021-10-04T20:01:19.420Z"
   },
   {
    "duration": 17625,
    "start_time": "2021-10-04T20:01:19.457Z"
   },
   {
    "duration": 45,
    "start_time": "2021-10-04T20:01:37.084Z"
   },
   {
    "duration": 8,
    "start_time": "2021-10-04T20:01:37.131Z"
   },
   {
    "duration": 12,
    "start_time": "2021-10-04T20:01:37.141Z"
   },
   {
    "duration": 11,
    "start_time": "2021-10-04T20:01:37.156Z"
   },
   {
    "duration": 16,
    "start_time": "2021-10-04T20:01:37.172Z"
   },
   {
    "duration": 28,
    "start_time": "2021-10-04T20:01:37.190Z"
   },
   {
    "duration": 491,
    "start_time": "2021-10-04T20:01:37.221Z"
   },
   {
    "duration": 56,
    "start_time": "2021-10-04T20:01:37.659Z"
   },
   {
    "duration": 56,
    "start_time": "2021-10-04T20:01:37.660Z"
   },
   {
    "duration": 57,
    "start_time": "2021-10-04T20:01:37.661Z"
   },
   {
    "duration": 55,
    "start_time": "2021-10-04T20:01:37.665Z"
   },
   {
    "duration": 55,
    "start_time": "2021-10-04T20:01:37.666Z"
   },
   {
    "duration": 56,
    "start_time": "2021-10-04T20:01:37.667Z"
   },
   {
    "duration": 33,
    "start_time": "2021-10-04T20:01:37.692Z"
   },
   {
    "duration": 33,
    "start_time": "2021-10-04T20:01:37.693Z"
   },
   {
    "duration": 8,
    "start_time": "2021-10-04T20:04:45.460Z"
   },
   {
    "duration": 6,
    "start_time": "2021-10-04T20:04:47.124Z"
   },
   {
    "duration": 10,
    "start_time": "2021-10-04T20:04:56.349Z"
   },
   {
    "duration": 6,
    "start_time": "2021-10-04T20:04:57.886Z"
   },
   {
    "duration": 334,
    "start_time": "2021-10-04T20:12:17.396Z"
   },
   {
    "duration": 1664,
    "start_time": "2021-10-04T20:13:12.407Z"
   },
   {
    "duration": 23,
    "start_time": "2021-10-04T20:13:14.074Z"
   },
   {
    "duration": 8,
    "start_time": "2021-10-04T20:13:14.101Z"
   },
   {
    "duration": 45,
    "start_time": "2021-10-04T20:13:14.112Z"
   },
   {
    "duration": 13,
    "start_time": "2021-10-04T20:13:14.159Z"
   },
   {
    "duration": 12,
    "start_time": "2021-10-04T20:13:14.174Z"
   },
   {
    "duration": 29,
    "start_time": "2021-10-04T20:13:14.188Z"
   },
   {
    "duration": 10,
    "start_time": "2021-10-04T20:13:14.220Z"
   },
   {
    "duration": 9,
    "start_time": "2021-10-04T20:13:14.234Z"
   },
   {
    "duration": 12,
    "start_time": "2021-10-04T20:13:14.245Z"
   },
   {
    "duration": 11,
    "start_time": "2021-10-04T20:13:14.259Z"
   },
   {
    "duration": 15,
    "start_time": "2021-10-04T20:13:14.272Z"
   },
   {
    "duration": 32,
    "start_time": "2021-10-04T20:13:14.290Z"
   },
   {
    "duration": 20,
    "start_time": "2021-10-04T20:13:14.324Z"
   },
   {
    "duration": 18,
    "start_time": "2021-10-04T20:13:14.347Z"
   },
   {
    "duration": 21,
    "start_time": "2021-10-04T20:13:14.368Z"
   },
   {
    "duration": 27,
    "start_time": "2021-10-04T20:13:14.392Z"
   },
   {
    "duration": 26,
    "start_time": "2021-10-04T20:13:14.421Z"
   },
   {
    "duration": 18,
    "start_time": "2021-10-04T20:13:14.450Z"
   },
   {
    "duration": 16,
    "start_time": "2021-10-04T20:13:14.470Z"
   },
   {
    "duration": 47,
    "start_time": "2021-10-04T20:13:14.489Z"
   },
   {
    "duration": 16889,
    "start_time": "2021-10-04T20:13:14.538Z"
   },
   {
    "duration": 30,
    "start_time": "2021-10-04T20:13:31.430Z"
   },
   {
    "duration": 8,
    "start_time": "2021-10-04T20:13:31.463Z"
   },
   {
    "duration": 11,
    "start_time": "2021-10-04T20:13:31.474Z"
   },
   {
    "duration": 5,
    "start_time": "2021-10-04T20:13:31.516Z"
   },
   {
    "duration": 26,
    "start_time": "2021-10-04T20:13:31.529Z"
   },
   {
    "duration": 11,
    "start_time": "2021-10-04T20:13:31.558Z"
   },
   {
    "duration": 11,
    "start_time": "2021-10-04T20:13:31.572Z"
   },
   {
    "duration": 17,
    "start_time": "2021-10-04T20:13:31.585Z"
   },
   {
    "duration": 13,
    "start_time": "2021-10-04T20:13:31.617Z"
   },
   {
    "duration": 12,
    "start_time": "2021-10-04T20:13:31.632Z"
   },
   {
    "duration": 490,
    "start_time": "2021-10-04T20:13:31.647Z"
   },
   {
    "duration": -17,
    "start_time": "2021-10-04T20:13:32.158Z"
   },
   {
    "duration": -19,
    "start_time": "2021-10-04T20:13:32.162Z"
   },
   {
    "duration": -18,
    "start_time": "2021-10-04T20:13:32.163Z"
   },
   {
    "duration": -17,
    "start_time": "2021-10-04T20:13:32.165Z"
   },
   {
    "duration": -16,
    "start_time": "2021-10-04T20:13:32.166Z"
   },
   {
    "duration": 286,
    "start_time": "2021-10-04T20:16:54.370Z"
   },
   {
    "duration": 344,
    "start_time": "2021-10-04T20:18:08.842Z"
   },
   {
    "duration": 325,
    "start_time": "2021-10-04T20:26:49.662Z"
   },
   {
    "duration": 315,
    "start_time": "2021-10-04T20:30:19.992Z"
   },
   {
    "duration": 1657,
    "start_time": "2021-10-04T20:36:03.499Z"
   },
   {
    "duration": 23,
    "start_time": "2021-10-04T20:36:05.159Z"
   },
   {
    "duration": 8,
    "start_time": "2021-10-04T20:36:05.185Z"
   },
   {
    "duration": 55,
    "start_time": "2021-10-04T20:36:05.196Z"
   },
   {
    "duration": 13,
    "start_time": "2021-10-04T20:36:05.254Z"
   },
   {
    "duration": 9,
    "start_time": "2021-10-04T20:36:05.270Z"
   },
   {
    "duration": 5,
    "start_time": "2021-10-04T20:36:05.281Z"
   },
   {
    "duration": 31,
    "start_time": "2021-10-04T20:36:05.288Z"
   },
   {
    "duration": 9,
    "start_time": "2021-10-04T20:36:05.323Z"
   },
   {
    "duration": 12,
    "start_time": "2021-10-04T20:36:05.335Z"
   },
   {
    "duration": 5,
    "start_time": "2021-10-04T20:36:05.349Z"
   },
   {
    "duration": 5,
    "start_time": "2021-10-04T20:36:05.357Z"
   },
   {
    "duration": 55,
    "start_time": "2021-10-04T20:36:05.364Z"
   },
   {
    "duration": 11,
    "start_time": "2021-10-04T20:36:05.421Z"
   },
   {
    "duration": 9,
    "start_time": "2021-10-04T20:36:05.435Z"
   },
   {
    "duration": 7,
    "start_time": "2021-10-04T20:36:05.447Z"
   },
   {
    "duration": 12,
    "start_time": "2021-10-04T20:36:05.457Z"
   },
   {
    "duration": 9,
    "start_time": "2021-10-04T20:36:05.471Z"
   },
   {
    "duration": 36,
    "start_time": "2021-10-04T20:36:05.482Z"
   },
   {
    "duration": 6,
    "start_time": "2021-10-04T20:36:05.520Z"
   },
   {
    "duration": 47,
    "start_time": "2021-10-04T20:36:05.529Z"
   },
   {
    "duration": 18086,
    "start_time": "2021-10-04T20:36:05.579Z"
   },
   {
    "duration": 28,
    "start_time": "2021-10-04T20:36:23.667Z"
   },
   {
    "duration": 19,
    "start_time": "2021-10-04T20:36:23.698Z"
   },
   {
    "duration": 8,
    "start_time": "2021-10-04T20:36:23.720Z"
   },
   {
    "duration": 6,
    "start_time": "2021-10-04T20:36:23.730Z"
   },
   {
    "duration": 16,
    "start_time": "2021-10-04T20:36:23.740Z"
   },
   {
    "duration": 4,
    "start_time": "2021-10-04T20:36:23.759Z"
   },
   {
    "duration": 51,
    "start_time": "2021-10-04T20:36:23.765Z"
   },
   {
    "duration": 4,
    "start_time": "2021-10-04T20:36:23.819Z"
   },
   {
    "duration": 13,
    "start_time": "2021-10-04T20:36:23.826Z"
   },
   {
    "duration": 9,
    "start_time": "2021-10-04T20:36:23.841Z"
   },
   {
    "duration": 351,
    "start_time": "2021-10-04T20:36:23.853Z"
   },
   {
    "duration": 370,
    "start_time": "2021-10-05T09:04:55.257Z"
   },
   {
    "duration": 1662,
    "start_time": "2021-10-05T09:05:14.096Z"
   },
   {
    "duration": 19,
    "start_time": "2021-10-05T09:05:15.760Z"
   },
   {
    "duration": 6,
    "start_time": "2021-10-05T09:05:15.781Z"
   },
   {
    "duration": 30,
    "start_time": "2021-10-05T09:05:15.789Z"
   },
   {
    "duration": 8,
    "start_time": "2021-10-05T09:05:15.821Z"
   },
   {
    "duration": 9,
    "start_time": "2021-10-05T09:05:15.831Z"
   },
   {
    "duration": 3,
    "start_time": "2021-10-05T09:05:15.841Z"
   },
   {
    "duration": 6,
    "start_time": "2021-10-05T09:05:15.846Z"
   },
   {
    "duration": 7,
    "start_time": "2021-10-05T09:05:15.854Z"
   },
   {
    "duration": 9,
    "start_time": "2021-10-05T09:05:15.863Z"
   },
   {
    "duration": 4,
    "start_time": "2021-10-05T09:05:15.900Z"
   },
   {
    "duration": 5,
    "start_time": "2021-10-05T09:05:15.906Z"
   },
   {
    "duration": 7,
    "start_time": "2021-10-05T09:05:15.912Z"
   },
   {
    "duration": 7,
    "start_time": "2021-10-05T09:05:15.920Z"
   },
   {
    "duration": 4,
    "start_time": "2021-10-05T09:05:15.928Z"
   },
   {
    "duration": 4,
    "start_time": "2021-10-05T09:05:15.934Z"
   },
   {
    "duration": 5,
    "start_time": "2021-10-05T09:05:15.940Z"
   },
   {
    "duration": 5,
    "start_time": "2021-10-05T09:05:15.946Z"
   },
   {
    "duration": 4,
    "start_time": "2021-10-05T09:05:15.953Z"
   },
   {
    "duration": 5,
    "start_time": "2021-10-05T09:05:15.959Z"
   },
   {
    "duration": 57,
    "start_time": "2021-10-05T09:05:15.965Z"
   },
   {
    "duration": 3,
    "start_time": "2021-10-05T09:05:16.024Z"
   },
   {
    "duration": 10532,
    "start_time": "2021-10-05T09:05:16.029Z"
   },
   {
    "duration": 19,
    "start_time": "2021-10-05T09:05:26.563Z"
   },
   {
    "duration": 18,
    "start_time": "2021-10-05T09:05:26.584Z"
   },
   {
    "duration": 7,
    "start_time": "2021-10-05T09:05:26.604Z"
   },
   {
    "duration": 3,
    "start_time": "2021-10-05T09:05:26.615Z"
   },
   {
    "duration": 11,
    "start_time": "2021-10-05T09:05:26.621Z"
   },
   {
    "duration": 4,
    "start_time": "2021-10-05T09:05:26.634Z"
   },
   {
    "duration": 8,
    "start_time": "2021-10-05T09:05:26.640Z"
   },
   {
    "duration": 6,
    "start_time": "2021-10-05T09:05:26.650Z"
   },
   {
    "duration": 48,
    "start_time": "2021-10-05T09:05:26.658Z"
   },
   {
    "duration": 6,
    "start_time": "2021-10-05T09:05:26.708Z"
   },
   {
    "duration": 213,
    "start_time": "2021-10-05T09:05:26.716Z"
   },
   {
    "duration": 58,
    "start_time": "2021-10-05T09:07:06.674Z"
   },
   {
    "duration": 43,
    "start_time": "2021-10-05T09:07:27.258Z"
   },
   {
    "duration": 50,
    "start_time": "2021-10-05T09:08:05.128Z"
   },
   {
    "duration": 4,
    "start_time": "2021-10-05T09:11:11.705Z"
   },
   {
    "duration": 4,
    "start_time": "2021-10-05T09:12:14.656Z"
   },
   {
    "duration": 1171,
    "start_time": "2021-10-05T09:16:27.152Z"
   },
   {
    "duration": 18,
    "start_time": "2021-10-05T09:16:28.325Z"
   },
   {
    "duration": 6,
    "start_time": "2021-10-05T09:16:28.346Z"
   },
   {
    "duration": 26,
    "start_time": "2021-10-05T09:16:28.354Z"
   },
   {
    "duration": 25,
    "start_time": "2021-10-05T09:16:28.381Z"
   },
   {
    "duration": 8,
    "start_time": "2021-10-05T09:16:28.407Z"
   },
   {
    "duration": 4,
    "start_time": "2021-10-05T09:16:28.417Z"
   },
   {
    "duration": 5,
    "start_time": "2021-10-05T09:16:28.423Z"
   },
   {
    "duration": 11,
    "start_time": "2021-10-05T09:16:28.431Z"
   },
   {
    "duration": 9,
    "start_time": "2021-10-05T09:16:28.444Z"
   },
   {
    "duration": 4,
    "start_time": "2021-10-05T09:16:28.455Z"
   },
   {
    "duration": 4,
    "start_time": "2021-10-05T09:16:28.461Z"
   },
   {
    "duration": 8,
    "start_time": "2021-10-05T09:16:28.500Z"
   },
   {
    "duration": 5,
    "start_time": "2021-10-05T09:16:28.509Z"
   },
   {
    "duration": 5,
    "start_time": "2021-10-05T09:16:28.515Z"
   },
   {
    "duration": 5,
    "start_time": "2021-10-05T09:16:28.522Z"
   },
   {
    "duration": 5,
    "start_time": "2021-10-05T09:16:28.528Z"
   },
   {
    "duration": 5,
    "start_time": "2021-10-05T09:16:28.534Z"
   },
   {
    "duration": 4,
    "start_time": "2021-10-05T09:16:28.541Z"
   },
   {
    "duration": 6,
    "start_time": "2021-10-05T09:16:28.546Z"
   },
   {
    "duration": 57,
    "start_time": "2021-10-05T09:16:28.553Z"
   },
   {
    "duration": 3,
    "start_time": "2021-10-05T09:16:28.612Z"
   },
   {
    "duration": 10565,
    "start_time": "2021-10-05T09:16:28.617Z"
   },
   {
    "duration": 15,
    "start_time": "2021-10-05T09:16:39.184Z"
   },
   {
    "duration": 19,
    "start_time": "2021-10-05T09:16:39.201Z"
   },
   {
    "duration": 3,
    "start_time": "2021-10-05T09:16:39.222Z"
   },
   {
    "duration": 10,
    "start_time": "2021-10-05T09:16:39.228Z"
   },
   {
    "duration": 10,
    "start_time": "2021-10-05T09:16:39.240Z"
   },
   {
    "duration": 6,
    "start_time": "2021-10-05T09:16:39.251Z"
   },
   {
    "duration": 17,
    "start_time": "2021-10-05T09:16:39.258Z"
   },
   {
    "duration": 3,
    "start_time": "2021-10-05T09:16:39.277Z"
   },
   {
    "duration": 18,
    "start_time": "2021-10-05T09:16:39.282Z"
   },
   {
    "duration": 4,
    "start_time": "2021-10-05T09:16:39.302Z"
   },
   {
    "duration": 8,
    "start_time": "2021-10-05T09:16:39.307Z"
   },
   {
    "duration": 3,
    "start_time": "2021-10-05T09:16:39.317Z"
   },
   {
    "duration": 233,
    "start_time": "2021-10-05T09:16:39.321Z"
   }
  ],
  "kernelspec": {
   "display_name": "Python 3",
   "language": "python",
   "name": "python3"
  },
  "language_info": {
   "codemirror_mode": {
    "name": "ipython",
    "version": 3
   },
   "file_extension": ".py",
   "mimetype": "text/x-python",
   "name": "python",
   "nbconvert_exporter": "python",
   "pygments_lexer": "ipython3",
   "version": "3.7.10"
  },
  "toc": {
   "base_numbering": 1,
   "nav_menu": {},
   "number_sections": true,
   "sideBar": true,
   "skip_h1_title": true,
   "title_cell": "Contents",
   "title_sidebar": "Contents",
   "toc_cell": true,
   "toc_position": {},
   "toc_section_display": true,
   "toc_window_display": false
  }
 },
 "nbformat": 4,
 "nbformat_minor": 2
}
