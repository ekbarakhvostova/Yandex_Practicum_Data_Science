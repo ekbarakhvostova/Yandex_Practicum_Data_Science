{
 "cells": [
  {
   "cell_type": "markdown",
   "metadata": {},
   "source": [
    "# Выбор локации для скважины"
   ]
  },
  {
   "cell_type": "markdown",
   "metadata": {},
   "source": [
    "Допустим, вы работаете в добывающей компании «ГлавРосГосНефть». Нужно решить, где бурить новую скважину.\n",
    "\n",
    "Вам предоставлены пробы нефти в трёх регионах: в каждом 10 000 месторождений, где измерили качество нефти и объём её запасов. Постройте модель машинного обучения, которая поможет определить регион, где добыча принесёт наибольшую прибыль. Проанализируйте возможную прибыль и риски техникой *Bootstrap.*\n",
    "\n",
    "Шаги для выбора локации:\n",
    "\n",
    "- В избранном регионе ищут месторождения, для каждого определяют значения признаков;\n",
    "- Строят модель и оценивают объём запасов;\n",
    "- Выбирают месторождения с самым высокими оценками значений. Количество месторождений зависит от бюджета компании и стоимости разработки одной скважины;\n",
    "- Прибыль равна суммарной прибыли отобранных месторождений."
   ]
  },
  {
   "cell_type": "markdown",
   "metadata": {},
   "source": [
    "## Загрузка и подготовка данных"
   ]
  },
  {
   "cell_type": "code",
   "execution_count": 1,
   "metadata": {},
   "outputs": [],
   "source": [
    "import pandas as pd\n",
    "import numpy as np\n",
    "import matplotlib.pyplot as plt\n",
    "from sklearn.linear_model import LinearRegression\n",
    "from sklearn.model_selection import train_test_split\n",
    "from sklearn.preprocessing import StandardScaler \n",
    "from sklearn.metrics import mean_squared_error\n",
    "from scipy import stats as st"
   ]
  },
  {
   "cell_type": "markdown",
   "metadata": {},
   "source": [
    "### Месторождение 1 ###"
   ]
  },
  {
   "cell_type": "code",
   "execution_count": 2,
   "metadata": {},
   "outputs": [],
   "source": [
    "geo_data_0 = pd.read_csv('geo_data_0.csv')"
   ]
  },
  {
   "cell_type": "code",
   "execution_count": 3,
   "metadata": {},
   "outputs": [
    {
     "data": {
      "text/html": [
       "<div>\n",
       "<style scoped>\n",
       "    .dataframe tbody tr th:only-of-type {\n",
       "        vertical-align: middle;\n",
       "    }\n",
       "\n",
       "    .dataframe tbody tr th {\n",
       "        vertical-align: top;\n",
       "    }\n",
       "\n",
       "    .dataframe thead th {\n",
       "        text-align: right;\n",
       "    }\n",
       "</style>\n",
       "<table border=\"1\" class=\"dataframe\">\n",
       "  <thead>\n",
       "    <tr style=\"text-align: right;\">\n",
       "      <th></th>\n",
       "      <th>id</th>\n",
       "      <th>f0</th>\n",
       "      <th>f1</th>\n",
       "      <th>f2</th>\n",
       "      <th>product</th>\n",
       "    </tr>\n",
       "  </thead>\n",
       "  <tbody>\n",
       "    <tr>\n",
       "      <td>0</td>\n",
       "      <td>txEyH</td>\n",
       "      <td>0.705745</td>\n",
       "      <td>-0.497823</td>\n",
       "      <td>1.221170</td>\n",
       "      <td>105.280062</td>\n",
       "    </tr>\n",
       "    <tr>\n",
       "      <td>1</td>\n",
       "      <td>2acmU</td>\n",
       "      <td>1.334711</td>\n",
       "      <td>-0.340164</td>\n",
       "      <td>4.365080</td>\n",
       "      <td>73.037750</td>\n",
       "    </tr>\n",
       "    <tr>\n",
       "      <td>2</td>\n",
       "      <td>409Wp</td>\n",
       "      <td>1.022732</td>\n",
       "      <td>0.151990</td>\n",
       "      <td>1.419926</td>\n",
       "      <td>85.265647</td>\n",
       "    </tr>\n",
       "    <tr>\n",
       "      <td>3</td>\n",
       "      <td>iJLyR</td>\n",
       "      <td>-0.032172</td>\n",
       "      <td>0.139033</td>\n",
       "      <td>2.978566</td>\n",
       "      <td>168.620776</td>\n",
       "    </tr>\n",
       "    <tr>\n",
       "      <td>4</td>\n",
       "      <td>Xdl7t</td>\n",
       "      <td>1.988431</td>\n",
       "      <td>0.155413</td>\n",
       "      <td>4.751769</td>\n",
       "      <td>154.036647</td>\n",
       "    </tr>\n",
       "  </tbody>\n",
       "</table>\n",
       "</div>"
      ],
      "text/plain": [
       "      id        f0        f1        f2     product\n",
       "0  txEyH  0.705745 -0.497823  1.221170  105.280062\n",
       "1  2acmU  1.334711 -0.340164  4.365080   73.037750\n",
       "2  409Wp  1.022732  0.151990  1.419926   85.265647\n",
       "3  iJLyR -0.032172  0.139033  2.978566  168.620776\n",
       "4  Xdl7t  1.988431  0.155413  4.751769  154.036647"
      ]
     },
     "execution_count": 3,
     "metadata": {},
     "output_type": "execute_result"
    }
   ],
   "source": [
    "geo_data_0.head()"
   ]
  },
  {
   "cell_type": "code",
   "execution_count": 4,
   "metadata": {},
   "outputs": [
    {
     "name": "stdout",
     "output_type": "stream",
     "text": [
      "<class 'pandas.core.frame.DataFrame'>\n",
      "RangeIndex: 100000 entries, 0 to 99999\n",
      "Data columns (total 5 columns):\n",
      "id         100000 non-null object\n",
      "f0         100000 non-null float64\n",
      "f1         100000 non-null float64\n",
      "f2         100000 non-null float64\n",
      "product    100000 non-null float64\n",
      "dtypes: float64(4), object(1)\n",
      "memory usage: 3.8+ MB\n"
     ]
    }
   ],
   "source": [
    "geo_data_0.info()"
   ]
  },
  {
   "cell_type": "code",
   "execution_count": 5,
   "metadata": {},
   "outputs": [
    {
     "data": {
      "text/html": [
       "<div>\n",
       "<style scoped>\n",
       "    .dataframe tbody tr th:only-of-type {\n",
       "        vertical-align: middle;\n",
       "    }\n",
       "\n",
       "    .dataframe tbody tr th {\n",
       "        vertical-align: top;\n",
       "    }\n",
       "\n",
       "    .dataframe thead th {\n",
       "        text-align: right;\n",
       "    }\n",
       "</style>\n",
       "<table border=\"1\" class=\"dataframe\">\n",
       "  <thead>\n",
       "    <tr style=\"text-align: right;\">\n",
       "      <th></th>\n",
       "      <th>id</th>\n",
       "      <th>f0</th>\n",
       "      <th>f1</th>\n",
       "      <th>f2</th>\n",
       "      <th>product</th>\n",
       "    </tr>\n",
       "  </thead>\n",
       "  <tbody>\n",
       "    <tr>\n",
       "      <td>57263</td>\n",
       "      <td>zCM5W</td>\n",
       "      <td>-0.702064</td>\n",
       "      <td>0.375992</td>\n",
       "      <td>0.236572</td>\n",
       "      <td>0.0</td>\n",
       "    </tr>\n",
       "  </tbody>\n",
       "</table>\n",
       "</div>"
      ],
      "text/plain": [
       "          id        f0        f1        f2  product\n",
       "57263  zCM5W -0.702064  0.375992  0.236572      0.0"
      ]
     },
     "execution_count": 5,
     "metadata": {},
     "output_type": "execute_result"
    }
   ],
   "source": [
    "geo_data_0[geo_data_0['product'] == 0]"
   ]
  },
  {
   "cell_type": "code",
   "execution_count": 6,
   "metadata": {},
   "outputs": [
    {
     "data": {
      "text/html": [
       "<div>\n",
       "<style scoped>\n",
       "    .dataframe tbody tr th:only-of-type {\n",
       "        vertical-align: middle;\n",
       "    }\n",
       "\n",
       "    .dataframe tbody tr th {\n",
       "        vertical-align: top;\n",
       "    }\n",
       "\n",
       "    .dataframe thead th {\n",
       "        text-align: right;\n",
       "    }\n",
       "</style>\n",
       "<table border=\"1\" class=\"dataframe\">\n",
       "  <thead>\n",
       "    <tr style=\"text-align: right;\">\n",
       "      <th></th>\n",
       "      <th>f0</th>\n",
       "      <th>f1</th>\n",
       "      <th>f2</th>\n",
       "      <th>product</th>\n",
       "    </tr>\n",
       "  </thead>\n",
       "  <tbody>\n",
       "    <tr>\n",
       "      <td>count</td>\n",
       "      <td>100000.000000</td>\n",
       "      <td>100000.000000</td>\n",
       "      <td>100000.000000</td>\n",
       "      <td>100000.000000</td>\n",
       "    </tr>\n",
       "    <tr>\n",
       "      <td>mean</td>\n",
       "      <td>0.500419</td>\n",
       "      <td>0.250143</td>\n",
       "      <td>2.502647</td>\n",
       "      <td>92.500000</td>\n",
       "    </tr>\n",
       "    <tr>\n",
       "      <td>std</td>\n",
       "      <td>0.871832</td>\n",
       "      <td>0.504433</td>\n",
       "      <td>3.248248</td>\n",
       "      <td>44.288691</td>\n",
       "    </tr>\n",
       "    <tr>\n",
       "      <td>min</td>\n",
       "      <td>-1.408605</td>\n",
       "      <td>-0.848218</td>\n",
       "      <td>-12.088328</td>\n",
       "      <td>0.000000</td>\n",
       "    </tr>\n",
       "    <tr>\n",
       "      <td>25%</td>\n",
       "      <td>-0.072580</td>\n",
       "      <td>-0.200881</td>\n",
       "      <td>0.287748</td>\n",
       "      <td>56.497507</td>\n",
       "    </tr>\n",
       "    <tr>\n",
       "      <td>50%</td>\n",
       "      <td>0.502360</td>\n",
       "      <td>0.250252</td>\n",
       "      <td>2.515969</td>\n",
       "      <td>91.849972</td>\n",
       "    </tr>\n",
       "    <tr>\n",
       "      <td>75%</td>\n",
       "      <td>1.073581</td>\n",
       "      <td>0.700646</td>\n",
       "      <td>4.715088</td>\n",
       "      <td>128.564089</td>\n",
       "    </tr>\n",
       "    <tr>\n",
       "      <td>max</td>\n",
       "      <td>2.362331</td>\n",
       "      <td>1.343769</td>\n",
       "      <td>16.003790</td>\n",
       "      <td>185.364347</td>\n",
       "    </tr>\n",
       "  </tbody>\n",
       "</table>\n",
       "</div>"
      ],
      "text/plain": [
       "                  f0             f1             f2        product\n",
       "count  100000.000000  100000.000000  100000.000000  100000.000000\n",
       "mean        0.500419       0.250143       2.502647      92.500000\n",
       "std         0.871832       0.504433       3.248248      44.288691\n",
       "min        -1.408605      -0.848218     -12.088328       0.000000\n",
       "25%        -0.072580      -0.200881       0.287748      56.497507\n",
       "50%         0.502360       0.250252       2.515969      91.849972\n",
       "75%         1.073581       0.700646       4.715088     128.564089\n",
       "max         2.362331       1.343769      16.003790     185.364347"
      ]
     },
     "execution_count": 6,
     "metadata": {},
     "output_type": "execute_result"
    }
   ],
   "source": [
    "geo_data_0.describe()"
   ]
  },
  {
   "cell_type": "code",
   "execution_count": 7,
   "metadata": {},
   "outputs": [
    {
     "data": {
      "text/plain": [
       "id         0\n",
       "f0         0\n",
       "f1         0\n",
       "f2         0\n",
       "product    0\n",
       "dtype: int64"
      ]
     },
     "execution_count": 7,
     "metadata": {},
     "output_type": "execute_result"
    }
   ],
   "source": [
    "geo_data_0.isna().sum()"
   ]
  },
  {
   "cell_type": "code",
   "execution_count": 8,
   "metadata": {},
   "outputs": [
    {
     "data": {
      "text/plain": [
       "0"
      ]
     },
     "execution_count": 8,
     "metadata": {},
     "output_type": "execute_result"
    }
   ],
   "source": [
    "geo_data_0.duplicated().sum()"
   ]
  },
  {
   "cell_type": "code",
   "execution_count": 9,
   "metadata": {},
   "outputs": [],
   "source": [
    "reserve_geo_0 = geo_data_0['product'].sum()"
   ]
  },
  {
   "cell_type": "code",
   "execution_count": 10,
   "metadata": {},
   "outputs": [
    {
     "name": "stdout",
     "output_type": "stream",
     "text": [
      "Общий объем запасов Месторождение 1: 9250000.000000002 тыс. баррелей\n"
     ]
    }
   ],
   "source": [
    "print('Общий объем запасов Месторождение 1:', reserve_geo_0, 'тыс. баррелей')"
   ]
  },
  {
   "cell_type": "markdown",
   "metadata": {},
   "source": [
    "По месторождению 1 предоставлены данные о 100 000 скважинах. Пропуски и полные дубликаты в данных отсутствуют.\n",
    "\n",
    "Есть данные об 1 скважине, в которой объем запасов нефти равен 0. Максимальный объем запасов составляет 185.364 тыс. баррелей, средний - 92 тыс. баррелей"
   ]
  },
  {
   "cell_type": "markdown",
   "metadata": {},
   "source": [
    "### Месторождение 2 ###"
   ]
  },
  {
   "cell_type": "code",
   "execution_count": 11,
   "metadata": {},
   "outputs": [],
   "source": [
    "geo_data_1 = pd.read_csv('geo_data_1.csv')"
   ]
  },
  {
   "cell_type": "code",
   "execution_count": 12,
   "metadata": {},
   "outputs": [
    {
     "data": {
      "text/html": [
       "<div>\n",
       "<style scoped>\n",
       "    .dataframe tbody tr th:only-of-type {\n",
       "        vertical-align: middle;\n",
       "    }\n",
       "\n",
       "    .dataframe tbody tr th {\n",
       "        vertical-align: top;\n",
       "    }\n",
       "\n",
       "    .dataframe thead th {\n",
       "        text-align: right;\n",
       "    }\n",
       "</style>\n",
       "<table border=\"1\" class=\"dataframe\">\n",
       "  <thead>\n",
       "    <tr style=\"text-align: right;\">\n",
       "      <th></th>\n",
       "      <th>id</th>\n",
       "      <th>f0</th>\n",
       "      <th>f1</th>\n",
       "      <th>f2</th>\n",
       "      <th>product</th>\n",
       "    </tr>\n",
       "  </thead>\n",
       "  <tbody>\n",
       "    <tr>\n",
       "      <td>0</td>\n",
       "      <td>kBEdx</td>\n",
       "      <td>-15.001348</td>\n",
       "      <td>-8.276000</td>\n",
       "      <td>-0.005876</td>\n",
       "      <td>3.179103</td>\n",
       "    </tr>\n",
       "    <tr>\n",
       "      <td>1</td>\n",
       "      <td>62mP7</td>\n",
       "      <td>14.272088</td>\n",
       "      <td>-3.475083</td>\n",
       "      <td>0.999183</td>\n",
       "      <td>26.953261</td>\n",
       "    </tr>\n",
       "    <tr>\n",
       "      <td>2</td>\n",
       "      <td>vyE1P</td>\n",
       "      <td>6.263187</td>\n",
       "      <td>-5.948386</td>\n",
       "      <td>5.001160</td>\n",
       "      <td>134.766305</td>\n",
       "    </tr>\n",
       "    <tr>\n",
       "      <td>3</td>\n",
       "      <td>KcrkZ</td>\n",
       "      <td>-13.081196</td>\n",
       "      <td>-11.506057</td>\n",
       "      <td>4.999415</td>\n",
       "      <td>137.945408</td>\n",
       "    </tr>\n",
       "    <tr>\n",
       "      <td>4</td>\n",
       "      <td>AHL4O</td>\n",
       "      <td>12.702195</td>\n",
       "      <td>-8.147433</td>\n",
       "      <td>5.004363</td>\n",
       "      <td>134.766305</td>\n",
       "    </tr>\n",
       "  </tbody>\n",
       "</table>\n",
       "</div>"
      ],
      "text/plain": [
       "      id         f0         f1        f2     product\n",
       "0  kBEdx -15.001348  -8.276000 -0.005876    3.179103\n",
       "1  62mP7  14.272088  -3.475083  0.999183   26.953261\n",
       "2  vyE1P   6.263187  -5.948386  5.001160  134.766305\n",
       "3  KcrkZ -13.081196 -11.506057  4.999415  137.945408\n",
       "4  AHL4O  12.702195  -8.147433  5.004363  134.766305"
      ]
     },
     "execution_count": 12,
     "metadata": {},
     "output_type": "execute_result"
    }
   ],
   "source": [
    "geo_data_1.head()"
   ]
  },
  {
   "cell_type": "code",
   "execution_count": 13,
   "metadata": {},
   "outputs": [
    {
     "name": "stdout",
     "output_type": "stream",
     "text": [
      "<class 'pandas.core.frame.DataFrame'>\n",
      "RangeIndex: 100000 entries, 0 to 99999\n",
      "Data columns (total 5 columns):\n",
      "id         100000 non-null object\n",
      "f0         100000 non-null float64\n",
      "f1         100000 non-null float64\n",
      "f2         100000 non-null float64\n",
      "product    100000 non-null float64\n",
      "dtypes: float64(4), object(1)\n",
      "memory usage: 3.8+ MB\n"
     ]
    }
   ],
   "source": [
    "geo_data_1.info()"
   ]
  },
  {
   "cell_type": "code",
   "execution_count": 14,
   "metadata": {},
   "outputs": [
    {
     "data": {
      "text/html": [
       "<div>\n",
       "<style scoped>\n",
       "    .dataframe tbody tr th:only-of-type {\n",
       "        vertical-align: middle;\n",
       "    }\n",
       "\n",
       "    .dataframe tbody tr th {\n",
       "        vertical-align: top;\n",
       "    }\n",
       "\n",
       "    .dataframe thead th {\n",
       "        text-align: right;\n",
       "    }\n",
       "</style>\n",
       "<table border=\"1\" class=\"dataframe\">\n",
       "  <thead>\n",
       "    <tr style=\"text-align: right;\">\n",
       "      <th></th>\n",
       "      <th>f0</th>\n",
       "      <th>f1</th>\n",
       "      <th>f2</th>\n",
       "      <th>product</th>\n",
       "    </tr>\n",
       "  </thead>\n",
       "  <tbody>\n",
       "    <tr>\n",
       "      <td>count</td>\n",
       "      <td>100000.000000</td>\n",
       "      <td>100000.000000</td>\n",
       "      <td>100000.000000</td>\n",
       "      <td>100000.000000</td>\n",
       "    </tr>\n",
       "    <tr>\n",
       "      <td>mean</td>\n",
       "      <td>1.141296</td>\n",
       "      <td>-4.796579</td>\n",
       "      <td>2.494541</td>\n",
       "      <td>68.825000</td>\n",
       "    </tr>\n",
       "    <tr>\n",
       "      <td>std</td>\n",
       "      <td>8.965932</td>\n",
       "      <td>5.119872</td>\n",
       "      <td>1.703572</td>\n",
       "      <td>45.944423</td>\n",
       "    </tr>\n",
       "    <tr>\n",
       "      <td>min</td>\n",
       "      <td>-31.609576</td>\n",
       "      <td>-26.358598</td>\n",
       "      <td>-0.018144</td>\n",
       "      <td>0.000000</td>\n",
       "    </tr>\n",
       "    <tr>\n",
       "      <td>25%</td>\n",
       "      <td>-6.298551</td>\n",
       "      <td>-8.267985</td>\n",
       "      <td>1.000021</td>\n",
       "      <td>26.953261</td>\n",
       "    </tr>\n",
       "    <tr>\n",
       "      <td>50%</td>\n",
       "      <td>1.153055</td>\n",
       "      <td>-4.813172</td>\n",
       "      <td>2.011479</td>\n",
       "      <td>57.085625</td>\n",
       "    </tr>\n",
       "    <tr>\n",
       "      <td>75%</td>\n",
       "      <td>8.621015</td>\n",
       "      <td>-1.332816</td>\n",
       "      <td>3.999904</td>\n",
       "      <td>107.813044</td>\n",
       "    </tr>\n",
       "    <tr>\n",
       "      <td>max</td>\n",
       "      <td>29.421755</td>\n",
       "      <td>18.734063</td>\n",
       "      <td>5.019721</td>\n",
       "      <td>137.945408</td>\n",
       "    </tr>\n",
       "  </tbody>\n",
       "</table>\n",
       "</div>"
      ],
      "text/plain": [
       "                  f0             f1             f2        product\n",
       "count  100000.000000  100000.000000  100000.000000  100000.000000\n",
       "mean        1.141296      -4.796579       2.494541      68.825000\n",
       "std         8.965932       5.119872       1.703572      45.944423\n",
       "min       -31.609576     -26.358598      -0.018144       0.000000\n",
       "25%        -6.298551      -8.267985       1.000021      26.953261\n",
       "50%         1.153055      -4.813172       2.011479      57.085625\n",
       "75%         8.621015      -1.332816       3.999904     107.813044\n",
       "max        29.421755      18.734063       5.019721     137.945408"
      ]
     },
     "execution_count": 14,
     "metadata": {},
     "output_type": "execute_result"
    }
   ],
   "source": [
    "geo_data_1.describe()"
   ]
  },
  {
   "cell_type": "code",
   "execution_count": 15,
   "metadata": {},
   "outputs": [
    {
     "data": {
      "text/html": [
       "<div>\n",
       "<style scoped>\n",
       "    .dataframe tbody tr th:only-of-type {\n",
       "        vertical-align: middle;\n",
       "    }\n",
       "\n",
       "    .dataframe tbody tr th {\n",
       "        vertical-align: top;\n",
       "    }\n",
       "\n",
       "    .dataframe thead th {\n",
       "        text-align: right;\n",
       "    }\n",
       "</style>\n",
       "<table border=\"1\" class=\"dataframe\">\n",
       "  <thead>\n",
       "    <tr style=\"text-align: right;\">\n",
       "      <th></th>\n",
       "      <th>id</th>\n",
       "      <th>f0</th>\n",
       "      <th>f1</th>\n",
       "      <th>f2</th>\n",
       "      <th>product</th>\n",
       "    </tr>\n",
       "  </thead>\n",
       "  <tbody>\n",
       "    <tr>\n",
       "      <td>11</td>\n",
       "      <td>OXyvW</td>\n",
       "      <td>16.320755</td>\n",
       "      <td>-0.562946</td>\n",
       "      <td>-0.001783</td>\n",
       "      <td>0.0</td>\n",
       "    </tr>\n",
       "    <tr>\n",
       "      <td>13</td>\n",
       "      <td>igmai</td>\n",
       "      <td>6.695604</td>\n",
       "      <td>-0.749449</td>\n",
       "      <td>-0.007630</td>\n",
       "      <td>0.0</td>\n",
       "    </tr>\n",
       "    <tr>\n",
       "      <td>62</td>\n",
       "      <td>Qjy5w</td>\n",
       "      <td>21.418478</td>\n",
       "      <td>-5.134490</td>\n",
       "      <td>-0.002836</td>\n",
       "      <td>0.0</td>\n",
       "    </tr>\n",
       "    <tr>\n",
       "      <td>63</td>\n",
       "      <td>G6WCj</td>\n",
       "      <td>6.822701</td>\n",
       "      <td>3.104979</td>\n",
       "      <td>-0.000723</td>\n",
       "      <td>0.0</td>\n",
       "    </tr>\n",
       "    <tr>\n",
       "      <td>77</td>\n",
       "      <td>MzQhL</td>\n",
       "      <td>6.750150</td>\n",
       "      <td>-11.893512</td>\n",
       "      <td>-0.001601</td>\n",
       "      <td>0.0</td>\n",
       "    </tr>\n",
       "    <tr>\n",
       "      <td>...</td>\n",
       "      <td>...</td>\n",
       "      <td>...</td>\n",
       "      <td>...</td>\n",
       "      <td>...</td>\n",
       "      <td>...</td>\n",
       "    </tr>\n",
       "    <tr>\n",
       "      <td>99936</td>\n",
       "      <td>YrRU8</td>\n",
       "      <td>5.085749</td>\n",
       "      <td>-3.980305</td>\n",
       "      <td>0.005063</td>\n",
       "      <td>0.0</td>\n",
       "    </tr>\n",
       "    <tr>\n",
       "      <td>99948</td>\n",
       "      <td>Jbnur</td>\n",
       "      <td>8.277805</td>\n",
       "      <td>-9.178818</td>\n",
       "      <td>0.003275</td>\n",
       "      <td>0.0</td>\n",
       "    </tr>\n",
       "    <tr>\n",
       "      <td>99956</td>\n",
       "      <td>aV1cJ</td>\n",
       "      <td>13.343983</td>\n",
       "      <td>-1.290200</td>\n",
       "      <td>0.005980</td>\n",
       "      <td>0.0</td>\n",
       "    </tr>\n",
       "    <tr>\n",
       "      <td>99961</td>\n",
       "      <td>Zjbn2</td>\n",
       "      <td>13.854163</td>\n",
       "      <td>-11.528089</td>\n",
       "      <td>-0.005556</td>\n",
       "      <td>0.0</td>\n",
       "    </tr>\n",
       "    <tr>\n",
       "      <td>99973</td>\n",
       "      <td>VsayB</td>\n",
       "      <td>12.698645</td>\n",
       "      <td>-4.384673</td>\n",
       "      <td>-0.002600</td>\n",
       "      <td>0.0</td>\n",
       "    </tr>\n",
       "  </tbody>\n",
       "</table>\n",
       "<p>8235 rows × 5 columns</p>\n",
       "</div>"
      ],
      "text/plain": [
       "          id         f0         f1        f2  product\n",
       "11     OXyvW  16.320755  -0.562946 -0.001783      0.0\n",
       "13     igmai   6.695604  -0.749449 -0.007630      0.0\n",
       "62     Qjy5w  21.418478  -5.134490 -0.002836      0.0\n",
       "63     G6WCj   6.822701   3.104979 -0.000723      0.0\n",
       "77     MzQhL   6.750150 -11.893512 -0.001601      0.0\n",
       "...      ...        ...        ...       ...      ...\n",
       "99936  YrRU8   5.085749  -3.980305  0.005063      0.0\n",
       "99948  Jbnur   8.277805  -9.178818  0.003275      0.0\n",
       "99956  aV1cJ  13.343983  -1.290200  0.005980      0.0\n",
       "99961  Zjbn2  13.854163 -11.528089 -0.005556      0.0\n",
       "99973  VsayB  12.698645  -4.384673 -0.002600      0.0\n",
       "\n",
       "[8235 rows x 5 columns]"
      ]
     },
     "execution_count": 15,
     "metadata": {},
     "output_type": "execute_result"
    }
   ],
   "source": [
    "geo_data_1[geo_data_1['product'] == 0]"
   ]
  },
  {
   "cell_type": "code",
   "execution_count": 16,
   "metadata": {},
   "outputs": [
    {
     "data": {
      "text/plain": [
       "id         0\n",
       "f0         0\n",
       "f1         0\n",
       "f2         0\n",
       "product    0\n",
       "dtype: int64"
      ]
     },
     "execution_count": 16,
     "metadata": {},
     "output_type": "execute_result"
    }
   ],
   "source": [
    "geo_data_1.isna().sum()"
   ]
  },
  {
   "cell_type": "code",
   "execution_count": 17,
   "metadata": {},
   "outputs": [
    {
     "data": {
      "text/plain": [
       "0"
      ]
     },
     "execution_count": 17,
     "metadata": {},
     "output_type": "execute_result"
    }
   ],
   "source": [
    "geo_data_1.duplicated().sum()"
   ]
  },
  {
   "cell_type": "code",
   "execution_count": 18,
   "metadata": {},
   "outputs": [],
   "source": [
    "reserve_geo_1 = geo_data_1['product'].sum()"
   ]
  },
  {
   "cell_type": "code",
   "execution_count": 19,
   "metadata": {},
   "outputs": [
    {
     "name": "stdout",
     "output_type": "stream",
     "text": [
      "Общий объем запасов Месторождение 2: 6882500.000000002 тыс. баррелей\n"
     ]
    }
   ],
   "source": [
    "print('Общий объем запасов Месторождение 2:', reserve_geo_1, 'тыс. баррелей')"
   ]
  },
  {
   "cell_type": "markdown",
   "metadata": {},
   "source": [
    "О месторождении 2 так же представлены данные о 100 000 скважин, из них в 8 235 скважинах запасы нефти равны 0 (либо скважины не исследованы, либо данные заполнены ошибочно). Максимальый объем запасов в скважинах - 137.95 тыс. баррелей, средний - 68 тыс. баррелей\n",
    "\n",
    "Пропуски и полные дубликаты в данных не обнаружены"
   ]
  },
  {
   "cell_type": "markdown",
   "metadata": {},
   "source": [
    "### Месторождение 3 ###"
   ]
  },
  {
   "cell_type": "code",
   "execution_count": 20,
   "metadata": {},
   "outputs": [],
   "source": [
    "geo_data_2 = pd.read_csv('geo_data_2.csv')"
   ]
  },
  {
   "cell_type": "code",
   "execution_count": 21,
   "metadata": {},
   "outputs": [
    {
     "data": {
      "text/html": [
       "<div>\n",
       "<style scoped>\n",
       "    .dataframe tbody tr th:only-of-type {\n",
       "        vertical-align: middle;\n",
       "    }\n",
       "\n",
       "    .dataframe tbody tr th {\n",
       "        vertical-align: top;\n",
       "    }\n",
       "\n",
       "    .dataframe thead th {\n",
       "        text-align: right;\n",
       "    }\n",
       "</style>\n",
       "<table border=\"1\" class=\"dataframe\">\n",
       "  <thead>\n",
       "    <tr style=\"text-align: right;\">\n",
       "      <th></th>\n",
       "      <th>id</th>\n",
       "      <th>f0</th>\n",
       "      <th>f1</th>\n",
       "      <th>f2</th>\n",
       "      <th>product</th>\n",
       "    </tr>\n",
       "  </thead>\n",
       "  <tbody>\n",
       "    <tr>\n",
       "      <td>0</td>\n",
       "      <td>fwXo0</td>\n",
       "      <td>-1.146987</td>\n",
       "      <td>0.963328</td>\n",
       "      <td>-0.828965</td>\n",
       "      <td>27.758673</td>\n",
       "    </tr>\n",
       "    <tr>\n",
       "      <td>1</td>\n",
       "      <td>WJtFt</td>\n",
       "      <td>0.262778</td>\n",
       "      <td>0.269839</td>\n",
       "      <td>-2.530187</td>\n",
       "      <td>56.069697</td>\n",
       "    </tr>\n",
       "    <tr>\n",
       "      <td>2</td>\n",
       "      <td>ovLUW</td>\n",
       "      <td>0.194587</td>\n",
       "      <td>0.289035</td>\n",
       "      <td>-5.586433</td>\n",
       "      <td>62.871910</td>\n",
       "    </tr>\n",
       "    <tr>\n",
       "      <td>3</td>\n",
       "      <td>q6cA6</td>\n",
       "      <td>2.236060</td>\n",
       "      <td>-0.553760</td>\n",
       "      <td>0.930038</td>\n",
       "      <td>114.572842</td>\n",
       "    </tr>\n",
       "    <tr>\n",
       "      <td>4</td>\n",
       "      <td>WPMUX</td>\n",
       "      <td>-0.515993</td>\n",
       "      <td>1.716266</td>\n",
       "      <td>5.899011</td>\n",
       "      <td>149.600746</td>\n",
       "    </tr>\n",
       "  </tbody>\n",
       "</table>\n",
       "</div>"
      ],
      "text/plain": [
       "      id        f0        f1        f2     product\n",
       "0  fwXo0 -1.146987  0.963328 -0.828965   27.758673\n",
       "1  WJtFt  0.262778  0.269839 -2.530187   56.069697\n",
       "2  ovLUW  0.194587  0.289035 -5.586433   62.871910\n",
       "3  q6cA6  2.236060 -0.553760  0.930038  114.572842\n",
       "4  WPMUX -0.515993  1.716266  5.899011  149.600746"
      ]
     },
     "execution_count": 21,
     "metadata": {},
     "output_type": "execute_result"
    }
   ],
   "source": [
    "geo_data_2.head()"
   ]
  },
  {
   "cell_type": "code",
   "execution_count": 22,
   "metadata": {},
   "outputs": [
    {
     "name": "stdout",
     "output_type": "stream",
     "text": [
      "<class 'pandas.core.frame.DataFrame'>\n",
      "RangeIndex: 100000 entries, 0 to 99999\n",
      "Data columns (total 5 columns):\n",
      "id         100000 non-null object\n",
      "f0         100000 non-null float64\n",
      "f1         100000 non-null float64\n",
      "f2         100000 non-null float64\n",
      "product    100000 non-null float64\n",
      "dtypes: float64(4), object(1)\n",
      "memory usage: 3.8+ MB\n"
     ]
    }
   ],
   "source": [
    "geo_data_2.info()"
   ]
  },
  {
   "cell_type": "code",
   "execution_count": 23,
   "metadata": {},
   "outputs": [
    {
     "data": {
      "text/html": [
       "<div>\n",
       "<style scoped>\n",
       "    .dataframe tbody tr th:only-of-type {\n",
       "        vertical-align: middle;\n",
       "    }\n",
       "\n",
       "    .dataframe tbody tr th {\n",
       "        vertical-align: top;\n",
       "    }\n",
       "\n",
       "    .dataframe thead th {\n",
       "        text-align: right;\n",
       "    }\n",
       "</style>\n",
       "<table border=\"1\" class=\"dataframe\">\n",
       "  <thead>\n",
       "    <tr style=\"text-align: right;\">\n",
       "      <th></th>\n",
       "      <th>f0</th>\n",
       "      <th>f1</th>\n",
       "      <th>f2</th>\n",
       "      <th>product</th>\n",
       "    </tr>\n",
       "  </thead>\n",
       "  <tbody>\n",
       "    <tr>\n",
       "      <td>count</td>\n",
       "      <td>100000.000000</td>\n",
       "      <td>100000.000000</td>\n",
       "      <td>100000.000000</td>\n",
       "      <td>100000.000000</td>\n",
       "    </tr>\n",
       "    <tr>\n",
       "      <td>mean</td>\n",
       "      <td>0.002023</td>\n",
       "      <td>-0.002081</td>\n",
       "      <td>2.495128</td>\n",
       "      <td>95.000000</td>\n",
       "    </tr>\n",
       "    <tr>\n",
       "      <td>std</td>\n",
       "      <td>1.732045</td>\n",
       "      <td>1.730417</td>\n",
       "      <td>3.473445</td>\n",
       "      <td>44.749921</td>\n",
       "    </tr>\n",
       "    <tr>\n",
       "      <td>min</td>\n",
       "      <td>-8.760004</td>\n",
       "      <td>-7.084020</td>\n",
       "      <td>-11.970335</td>\n",
       "      <td>0.000000</td>\n",
       "    </tr>\n",
       "    <tr>\n",
       "      <td>25%</td>\n",
       "      <td>-1.162288</td>\n",
       "      <td>-1.174820</td>\n",
       "      <td>0.130359</td>\n",
       "      <td>59.450441</td>\n",
       "    </tr>\n",
       "    <tr>\n",
       "      <td>50%</td>\n",
       "      <td>0.009424</td>\n",
       "      <td>-0.009482</td>\n",
       "      <td>2.484236</td>\n",
       "      <td>94.925613</td>\n",
       "    </tr>\n",
       "    <tr>\n",
       "      <td>75%</td>\n",
       "      <td>1.158535</td>\n",
       "      <td>1.163678</td>\n",
       "      <td>4.858794</td>\n",
       "      <td>130.595027</td>\n",
       "    </tr>\n",
       "    <tr>\n",
       "      <td>max</td>\n",
       "      <td>7.238262</td>\n",
       "      <td>7.844801</td>\n",
       "      <td>16.739402</td>\n",
       "      <td>190.029838</td>\n",
       "    </tr>\n",
       "  </tbody>\n",
       "</table>\n",
       "</div>"
      ],
      "text/plain": [
       "                  f0             f1             f2        product\n",
       "count  100000.000000  100000.000000  100000.000000  100000.000000\n",
       "mean        0.002023      -0.002081       2.495128      95.000000\n",
       "std         1.732045       1.730417       3.473445      44.749921\n",
       "min        -8.760004      -7.084020     -11.970335       0.000000\n",
       "25%        -1.162288      -1.174820       0.130359      59.450441\n",
       "50%         0.009424      -0.009482       2.484236      94.925613\n",
       "75%         1.158535       1.163678       4.858794     130.595027\n",
       "max         7.238262       7.844801      16.739402     190.029838"
      ]
     },
     "execution_count": 23,
     "metadata": {},
     "output_type": "execute_result"
    }
   ],
   "source": [
    "geo_data_2.describe()"
   ]
  },
  {
   "cell_type": "code",
   "execution_count": 24,
   "metadata": {},
   "outputs": [
    {
     "data": {
      "text/html": [
       "<div>\n",
       "<style scoped>\n",
       "    .dataframe tbody tr th:only-of-type {\n",
       "        vertical-align: middle;\n",
       "    }\n",
       "\n",
       "    .dataframe tbody tr th {\n",
       "        vertical-align: top;\n",
       "    }\n",
       "\n",
       "    .dataframe thead th {\n",
       "        text-align: right;\n",
       "    }\n",
       "</style>\n",
       "<table border=\"1\" class=\"dataframe\">\n",
       "  <thead>\n",
       "    <tr style=\"text-align: right;\">\n",
       "      <th></th>\n",
       "      <th>id</th>\n",
       "      <th>f0</th>\n",
       "      <th>f1</th>\n",
       "      <th>f2</th>\n",
       "      <th>product</th>\n",
       "    </tr>\n",
       "  </thead>\n",
       "  <tbody>\n",
       "    <tr>\n",
       "      <td>68149</td>\n",
       "      <td>qeefd</td>\n",
       "      <td>-0.865596</td>\n",
       "      <td>-1.615247</td>\n",
       "      <td>-4.126441</td>\n",
       "      <td>0.0</td>\n",
       "    </tr>\n",
       "  </tbody>\n",
       "</table>\n",
       "</div>"
      ],
      "text/plain": [
       "          id        f0        f1        f2  product\n",
       "68149  qeefd -0.865596 -1.615247 -4.126441      0.0"
      ]
     },
     "execution_count": 24,
     "metadata": {},
     "output_type": "execute_result"
    }
   ],
   "source": [
    "geo_data_2[geo_data_2['product'] == 0]"
   ]
  },
  {
   "cell_type": "code",
   "execution_count": 25,
   "metadata": {},
   "outputs": [
    {
     "data": {
      "text/plain": [
       "id         0\n",
       "f0         0\n",
       "f1         0\n",
       "f2         0\n",
       "product    0\n",
       "dtype: int64"
      ]
     },
     "execution_count": 25,
     "metadata": {},
     "output_type": "execute_result"
    }
   ],
   "source": [
    "geo_data_2.isna().sum()"
   ]
  },
  {
   "cell_type": "code",
   "execution_count": 26,
   "metadata": {},
   "outputs": [
    {
     "data": {
      "text/plain": [
       "0"
      ]
     },
     "execution_count": 26,
     "metadata": {},
     "output_type": "execute_result"
    }
   ],
   "source": [
    "geo_data_2.duplicated().sum()"
   ]
  },
  {
   "cell_type": "markdown",
   "metadata": {},
   "source": [
    "О месторождении 3 так же предоставлены данные о 100 00 скважинах. Пропуски и полные дубликаты не выявлены.\n",
    "\n",
    "В данных есть информация об 1 скважине, в которых объем запасов нефти равен 0. Максимальный объем запасов  равне 190 тыс. баррелей, срединий 95 тыс. баррелей"
   ]
  },
  {
   "cell_type": "code",
   "execution_count": 27,
   "metadata": {},
   "outputs": [],
   "source": [
    "reserve_geo_2 = geo_data_2['product'].sum()"
   ]
  },
  {
   "cell_type": "code",
   "execution_count": 28,
   "metadata": {},
   "outputs": [
    {
     "name": "stdout",
     "output_type": "stream",
     "text": [
      "Общий объем запасов Месторождение 3: 9500000.000000004 тыс. баррелей\n"
     ]
    }
   ],
   "source": [
    "print('Общий объем запасов Месторождение 3:', reserve_geo_2, 'тыс. баррелей')"
   ]
  },
  {
   "cell_type": "markdown",
   "metadata": {},
   "source": [
    "### Общий вывод ###\n",
    "\n",
    "Предоставлены данные о 3-х месторождениях (в каждом 100 000 скважин).\n",
    "\n",
    "Пропусков и дубликавто в данных нет.\n",
    "\n",
    "В Месторождениях 1 и 3 есть по 1 скважине, в которой объем запасов нефти равне 0. На Месторождении 2 таких скважин больше - 8.235 % (либо не все скважины исследованы, либо ошибки в данных).\n",
    "\n",
    "Суммарный объем запасов нефти:\n",
    "- на Месторождении 3 - 9 500 000 тыс. баррелей\n",
    "\n",
    "- на Месторождении 1 - 9 250 000 тыс. баррелей\n",
    "\n",
    "- на Месторождении 2 - 6 882 500 тыс. баррелей\n",
    "\n",
    "\n",
    "Для выполнения задач проекта необходио выбрать регионы и скважины, которые принесут прибыль. С одной стороны столбец 'id' не нужен для обучения, но с другой стороны он может пригодится, поэтому я не стала его удалять"
   ]
  },
  {
   "cell_type": "markdown",
   "metadata": {},
   "source": [
    "## Обучение и проверка модели"
   ]
  },
  {
   "cell_type": "markdown",
   "metadata": {},
   "source": [
    "Согласно условиям проекта (задача регрессии), необходимо обучить только 1 модель - Линейная регрессия.\n",
    "\n",
    "Модель обучу для каждого месторождения (региона).\n",
    "\n",
    "Для начала объявлю переменные features и target для каждого месторождения (региона)."
   ]
  },
  {
   "cell_type": "code",
   "execution_count": 29,
   "metadata": {},
   "outputs": [],
   "source": [
    "target_geo_0 = geo_data_0['product']\n",
    "features_geo_0 = geo_data_0.drop(['product', 'id'], axis = 1)"
   ]
  },
  {
   "cell_type": "code",
   "execution_count": 30,
   "metadata": {},
   "outputs": [],
   "source": [
    "target_geo_1 = geo_data_1['product']\n",
    "features_geo_1 = geo_data_1.drop(['product', 'id'], axis = 1)"
   ]
  },
  {
   "cell_type": "code",
   "execution_count": 31,
   "metadata": {},
   "outputs": [],
   "source": [
    "target_geo_2 = geo_data_2['product']\n",
    "features_geo_2 = geo_data_2.drop(['product', 'id'], axis = 1)"
   ]
  },
  {
   "cell_type": "markdown",
   "metadata": {},
   "source": [
    "### Разбивка данных на обучающую и валидационную выборки ###\n",
    "\n",
    "Разобью данные по каждому месторождению (региону) на обучающую и валидационную выборки в соотношении 75:25\n",
    "\n",
    "#### Месторождение 1 ####"
   ]
  },
  {
   "cell_type": "code",
   "execution_count": 32,
   "metadata": {},
   "outputs": [],
   "source": [
    "features_train_geo_0, features_valid_geo_0, target_train_geo_0, target_valid_geo_0 = train_test_split(features_geo_0, \n",
    "                                                                                                   target_geo_0, test_size = 0.25, \n",
    "                                                                                                    random_state = 12345)"
   ]
  },
  {
   "cell_type": "code",
   "execution_count": 33,
   "metadata": {},
   "outputs": [
    {
     "data": {
      "text/plain": [
       "(75000, 3)"
      ]
     },
     "execution_count": 33,
     "metadata": {},
     "output_type": "execute_result"
    }
   ],
   "source": [
    "features_train_geo_0.shape"
   ]
  },
  {
   "cell_type": "code",
   "execution_count": 34,
   "metadata": {},
   "outputs": [
    {
     "data": {
      "text/plain": [
       "(75000,)"
      ]
     },
     "execution_count": 34,
     "metadata": {},
     "output_type": "execute_result"
    }
   ],
   "source": [
    "target_train_geo_0.shape"
   ]
  },
  {
   "cell_type": "code",
   "execution_count": 35,
   "metadata": {},
   "outputs": [
    {
     "data": {
      "text/plain": [
       "(25000, 3)"
      ]
     },
     "execution_count": 35,
     "metadata": {},
     "output_type": "execute_result"
    }
   ],
   "source": [
    "features_valid_geo_0.shape"
   ]
  },
  {
   "cell_type": "code",
   "execution_count": 36,
   "metadata": {},
   "outputs": [
    {
     "data": {
      "text/plain": [
       "(25000,)"
      ]
     },
     "execution_count": 36,
     "metadata": {},
     "output_type": "execute_result"
    }
   ],
   "source": [
    "target_valid_geo_0.shape"
   ]
  },
  {
   "cell_type": "markdown",
   "metadata": {},
   "source": [
    "#### Месторождение 2 #### "
   ]
  },
  {
   "cell_type": "code",
   "execution_count": 37,
   "metadata": {},
   "outputs": [],
   "source": [
    "features_train_geo_1, features_valid_geo_1, target_train_geo_1, target_valid_geo_1 = train_test_split(features_geo_1, \n",
    "                                                                                                   target_geo_1, test_size = 0.25, \n",
    "                                                                                                    random_state = 12345)"
   ]
  },
  {
   "cell_type": "code",
   "execution_count": 38,
   "metadata": {},
   "outputs": [
    {
     "data": {
      "text/plain": [
       "(75000, 3)"
      ]
     },
     "execution_count": 38,
     "metadata": {},
     "output_type": "execute_result"
    }
   ],
   "source": [
    "features_train_geo_1.shape"
   ]
  },
  {
   "cell_type": "code",
   "execution_count": 39,
   "metadata": {},
   "outputs": [
    {
     "data": {
      "text/plain": [
       "(75000,)"
      ]
     },
     "execution_count": 39,
     "metadata": {},
     "output_type": "execute_result"
    }
   ],
   "source": [
    "target_train_geo_1.shape"
   ]
  },
  {
   "cell_type": "code",
   "execution_count": 40,
   "metadata": {},
   "outputs": [
    {
     "data": {
      "text/plain": [
       "(25000, 3)"
      ]
     },
     "execution_count": 40,
     "metadata": {},
     "output_type": "execute_result"
    }
   ],
   "source": [
    "features_valid_geo_1.shape"
   ]
  },
  {
   "cell_type": "code",
   "execution_count": 41,
   "metadata": {},
   "outputs": [
    {
     "data": {
      "text/plain": [
       "(25000,)"
      ]
     },
     "execution_count": 41,
     "metadata": {},
     "output_type": "execute_result"
    }
   ],
   "source": [
    "target_valid_geo_1.shape"
   ]
  },
  {
   "cell_type": "markdown",
   "metadata": {},
   "source": [
    "#### Месторождение 3 ####"
   ]
  },
  {
   "cell_type": "code",
   "execution_count": 42,
   "metadata": {},
   "outputs": [],
   "source": [
    "features_train_geo_2, features_valid_geo_2, target_train_geo_2, target_valid_geo_2 = train_test_split(features_geo_2, \n",
    "                                                                                                   target_geo_2, test_size = 0.25, \n",
    "                                                                                                    random_state = 12345)"
   ]
  },
  {
   "cell_type": "code",
   "execution_count": 43,
   "metadata": {},
   "outputs": [
    {
     "data": {
      "text/plain": [
       "(75000, 3)"
      ]
     },
     "execution_count": 43,
     "metadata": {},
     "output_type": "execute_result"
    }
   ],
   "source": [
    "features_train_geo_2.shape"
   ]
  },
  {
   "cell_type": "code",
   "execution_count": 44,
   "metadata": {},
   "outputs": [
    {
     "data": {
      "text/plain": [
       "(75000,)"
      ]
     },
     "execution_count": 44,
     "metadata": {},
     "output_type": "execute_result"
    }
   ],
   "source": [
    "target_train_geo_2.shape"
   ]
  },
  {
   "cell_type": "code",
   "execution_count": 45,
   "metadata": {},
   "outputs": [
    {
     "data": {
      "text/plain": [
       "(25000, 3)"
      ]
     },
     "execution_count": 45,
     "metadata": {},
     "output_type": "execute_result"
    }
   ],
   "source": [
    "features_valid_geo_2.shape"
   ]
  },
  {
   "cell_type": "code",
   "execution_count": 46,
   "metadata": {},
   "outputs": [
    {
     "data": {
      "text/plain": [
       "(25000,)"
      ]
     },
     "execution_count": 46,
     "metadata": {},
     "output_type": "execute_result"
    }
   ],
   "source": [
    "target_valid_geo_2.shape"
   ]
  },
  {
   "cell_type": "markdown",
   "metadata": {},
   "source": [
    "Разбивка данных на выборки провелась успешно.\n",
    "\n",
    "По каждому региону сформированы выборки: 25 000 данных в валидационной выборке и 75 000 данных в обучающей выборке.\n",
    "\n",
    "На мой взгляд, масштабирование признаков в данном проекте не потребуется"
   ]
  },
  {
   "cell_type": "markdown",
   "metadata": {},
   "source": [
    "### Обучение модели, получение предсказаний, расчет среднего запаса и проверка RMSE  ###\n",
    "\n",
    "Обучу модель Линейная регрессия для каждого региона\n",
    "\n",
    "#### Месторождение 1 ####"
   ]
  },
  {
   "cell_type": "code",
   "execution_count": 47,
   "metadata": {},
   "outputs": [],
   "source": [
    "model_geo_0 = LinearRegression()\n",
    "model_geo_0 = model_geo_0.fit(features_train_geo_0, target_train_geo_0)"
   ]
  },
  {
   "cell_type": "code",
   "execution_count": 48,
   "metadata": {},
   "outputs": [],
   "source": [
    "predictions_geo_0 = pd.Series(model_geo_0.predict(features_valid_geo_0))\n",
    "RMSE_geo_0 = mean_squared_error(target_valid_geo_0, predictions_geo_0)**0.5\n",
    "mean_preds_reserve_geo_0 = sum(predictions_geo_0)/ len(predictions_geo_0)\n",
    "mean_preds_reserve_geo_0 = sum(predictions_geo_0)/ len(predictions_geo_0)\n",
    "mean_valid_reserve_geo_0 = sum(target_valid_geo_0)/len(target_valid_geo_0)"
   ]
  },
  {
   "cell_type": "code",
   "execution_count": 49,
   "metadata": {},
   "outputs": [
    {
     "name": "stdout",
     "output_type": "stream",
     "text": [
      "Месторождение 1\n",
      "RMSE 37.58\n",
      "Средний предказанный запас сырья: 92.59 тыс. баррелей\n",
      "Средний реальный запас сырья (валидационная выборка): 92.08 тыс. баррелей\n"
     ]
    }
   ],
   "source": [
    "print('Месторождение 1') \n",
    "print('RMSE {:.2f}'.format(RMSE_geo_0)) \n",
    "print('Средний предказанный запас сырья: {:.2f}'.format(mean_preds_reserve_geo_0), 'тыс. баррелей') \n",
    "print('Средний реальный запас сырья (валидационная выборка): {:.2f}'.format(mean_valid_reserve_geo_0), 'тыс. баррелей')"
   ]
  },
  {
   "cell_type": "code",
   "execution_count": 50,
   "metadata": {},
   "outputs": [
    {
     "data": {
      "image/png": "[encoded data removed]",
      "text/plain": [
       "<Figure size 864x432 with 1 Axes>"
      ]
     },
     "metadata": {
      "needs_background": "light"
     },
     "output_type": "display_data"
    }
   ],
   "source": [
    "plt.figure(figsize=[12,6])\n",
    "target_valid_geo_0.hist(bins=200)\n",
    "plt.xlabel(\"Реальный запас нефти на скважину (валидационная выборка), тыс. барелей\")\n",
    "plt.ylabel(\"Количество скважин\")\n",
    "plt.title(\"Гистограмма распределения по объему скважин\")\n",
    "plt.show()"
   ]
  },
  {
   "cell_type": "code",
   "execution_count": 51,
   "metadata": {},
   "outputs": [
    {
     "data": {
      "image/png": "[encoded data removed]",
      "text/plain": [
       "<Figure size 864x432 with 1 Axes>"
      ]
     },
     "metadata": {
      "needs_background": "light"
     },
     "output_type": "display_data"
    }
   ],
   "source": [
    "plt.figure(figsize=[12,6])\n",
    "predictions_geo_0.hist(bins=200)\n",
    "plt.xlabel(\"Предсказанный запас нефти на скважину (валидационная выборка), тыс. барелей\")\n",
    "plt.ylabel(\"Количество скважин\")\n",
    "plt.title(\"Гистограмма распределения предсказанного запаса нефти по объему скважин\")\n",
    "plt.show()"
   ]
  },
  {
   "cell_type": "markdown",
   "metadata": {},
   "source": [
    "#### Месторождение 2 ####"
   ]
  },
  {
   "cell_type": "code",
   "execution_count": 52,
   "metadata": {},
   "outputs": [],
   "source": [
    "model_geo_1 = LinearRegression()\n",
    "model_geo_1 = model_geo_1.fit(features_train_geo_1, target_train_geo_1)"
   ]
  },
  {
   "cell_type": "code",
   "execution_count": 53,
   "metadata": {},
   "outputs": [],
   "source": [
    "predictions_geo_1 = pd.Series(model_geo_1.predict(features_valid_geo_1))\n",
    "RMSE_geo_1 = mean_squared_error(target_valid_geo_1, predictions_geo_1)**0.5\n",
    "mean_preds_reserve_geo_1 = sum(predictions_geo_1)/ len(predictions_geo_1)\n",
    "mean_valid_reserve_geo_1 = sum(target_valid_geo_1)/len(target_valid_geo_1)"
   ]
  },
  {
   "cell_type": "code",
   "execution_count": 54,
   "metadata": {
    "scrolled": true
   },
   "outputs": [
    {
     "name": "stdout",
     "output_type": "stream",
     "text": [
      "Месторождение 2\n",
      "RMSE 0.89\n",
      "Средний предказанный запас сырья: 68.73 тыс. баррелей\n",
      "Средний реальный запас сырья (валидационная выборка): 68.72 тыс. баррелей\n"
     ]
    }
   ],
   "source": [
    "print('Месторождение 2') \n",
    "print('RMSE {:.2f}'.format(RMSE_geo_1)) \n",
    "print('Средний предказанный запас сырья: {:.2f}'.format(mean_preds_reserve_geo_1), 'тыс. баррелей') \n",
    "print('Средний реальный запас сырья (валидационная выборка): {:.2f}'.format(mean_valid_reserve_geo_1), 'тыс. баррелей')"
   ]
  },
  {
   "cell_type": "code",
   "execution_count": 55,
   "metadata": {
    "scrolled": false
   },
   "outputs": [
    {
     "data": {
      "image/png": "[encoded data removed]",
      "text/plain": [
       "<Figure size 864x432 with 1 Axes>"
      ]
     },
     "metadata": {
      "needs_background": "light"
     },
     "output_type": "display_data"
    }
   ],
   "source": [
    "plt.figure(figsize=[12,6])\n",
    "target_valid_geo_1.hist(bins=50)\n",
    "plt.xlabel(\"Реальный запас нефти на скважину (валидационная выборка), тыс. барелей\")\n",
    "plt.ylabel(\"Количество скважин\")\n",
    "plt.title(\"Гистограмма распределения по объему скважин\")\n",
    "plt.show()"
   ]
  },
  {
   "cell_type": "code",
   "execution_count": 56,
   "metadata": {},
   "outputs": [
    {
     "data": {
      "image/png": "[encoded data removed]",
      "text/plain": [
       "<Figure size 864x432 with 1 Axes>"
      ]
     },
     "metadata": {
      "needs_background": "light"
     },
     "output_type": "display_data"
    }
   ],
   "source": [
    "plt.figure(figsize=[12,6])\n",
    "predictions_geo_1.hist(bins=50)\n",
    "plt.xlabel(\"Предсказанный запас нефти на скважину (валидационная выборка), тыс. барелей\")\n",
    "plt.ylabel(\"Количество скважин\")\n",
    "plt.title(\"Гистограмма распределения предсказанного запаса нефти по объему скважин\")\n",
    "plt.show()"
   ]
  },
  {
   "cell_type": "markdown",
   "metadata": {},
   "source": [
    "#### Месторождение 3 ####"
   ]
  },
  {
   "cell_type": "code",
   "execution_count": 57,
   "metadata": {},
   "outputs": [],
   "source": [
    "model_geo_2 = LinearRegression()\n",
    "model_geo_2 = model_geo_2.fit(features_train_geo_2, target_train_geo_2)"
   ]
  },
  {
   "cell_type": "code",
   "execution_count": 58,
   "metadata": {},
   "outputs": [],
   "source": [
    "predictions_geo_2 = pd.Series(model_geo_2.predict(features_valid_geo_2))\n",
    "RMSE_geo_2 = mean_squared_error(target_valid_geo_2, predictions_geo_2)**0.5\n",
    "mean_preds_reserve_geo_2 = sum(predictions_geo_2)/ len(predictions_geo_2)\n",
    "mean_valid_reserve_geo_2 = sum(target_valid_geo_2)/len(target_valid_geo_2)"
   ]
  },
  {
   "cell_type": "code",
   "execution_count": 59,
   "metadata": {},
   "outputs": [
    {
     "name": "stdout",
     "output_type": "stream",
     "text": [
      "Месторождение 3\n",
      "RMSE 40.03\n",
      "Средний предказанный запас сырья: 94.97 тыс. баррелей\n",
      "Реальный запас сырья (валидационная выборка): 94.88 тыс. баррелей\n"
     ]
    }
   ],
   "source": [
    "print('Месторождение 3') \n",
    "print('RMSE {:.2f}'.format(RMSE_geo_2)) \n",
    "print('Средний предказанный запас сырья: {:.2f}'.format(mean_preds_reserve_geo_2), 'тыс. баррелей') \n",
    "print('Реальный запас сырья (валидационная выборка): {:.2f}'.format(mean_valid_reserve_geo_2), 'тыс. баррелей')"
   ]
  },
  {
   "cell_type": "code",
   "execution_count": 60,
   "metadata": {},
   "outputs": [
    {
     "data": {
      "image/png": "[encoded data removed]",
      "text/plain": [
       "<Figure size 864x432 with 1 Axes>"
      ]
     },
     "metadata": {
      "needs_background": "light"
     },
     "output_type": "display_data"
    }
   ],
   "source": [
    "plt.figure(figsize=[12,6])\n",
    "target_valid_geo_2.hist(bins=200)\n",
    "plt.xlabel(\"Реальный запас нефти на скважину (валидационная выборка), тыс. барелей\")\n",
    "plt.ylabel(\"Количество скважин\")\n",
    "plt.title(\"Гистограмма распределения по объему скважин\")\n",
    "plt.show()"
   ]
  },
  {
   "cell_type": "code",
   "execution_count": 61,
   "metadata": {},
   "outputs": [
    {
     "data": {
      "image/png": "[encoded data removed]",
      "text/plain": [
       "<Figure size 864x432 with 1 Axes>"
      ]
     },
     "metadata": {
      "needs_background": "light"
     },
     "output_type": "display_data"
    }
   ],
   "source": [
    "plt.figure(figsize=[12,6])\n",
    "predictions_geo_2.hist(bins=200)\n",
    "plt.xlabel(\"Предсказанный запас нефти на скважину (валидационная выборка), тыс. барелей\")\n",
    "plt.ylabel(\"Количество скважин\")\n",
    "plt.title(\"Гистограмма распределения предсказанного запаса нефти по объему скважин\")\n",
    "plt.show()"
   ]
  },
  {
   "cell_type": "markdown",
   "metadata": {},
   "source": [
    "### Анализ результатов ###\n",
    "\n",
    "Самый низкий показатель RMSE у Месторождение 2 (это говорит о том, что модель хорошо обучена). \n",
    "\n",
    "Однако  в данных об  именно этом месторождении есть более 8 % скважин с запасом 0.\n",
    "\n",
    "думаю именно это повлияло на обучение модели и она скорее всего переобучена.\n",
    "\n",
    "В п. 1.2 проекта подсчитан запас сырья по данному месторождению - он также ниже всех. \n",
    "\n",
    "Учитывая вышеизложенное, возможно стоит рассмотреть варианты исключения Месторождение 2 из списка потенциально прибыльных месторождений (но в любом случае по нему тоже будут проведены расчеты, как того требует задача).\n",
    "\n",
    "Что касается Месторождения 1 и Месторождения 3, то  здесь значения RMSE, средний предсказанный запас и суммарный реальный запас  на валидационной выборке  - примерно одинаковы. Распределение предсказанного запаса - нормальное"
   ]
  },
  {
   "cell_type": "markdown",
   "metadata": {},
   "source": [
    "## Подготовка к расчёту прибыли\n",
    "\n",
    "Для начала сохраню в соотвествующие переменные экономические условия задачи"
   ]
  },
  {
   "cell_type": "code",
   "execution_count": 62,
   "metadata": {},
   "outputs": [],
   "source": [
    "BUDJET = 10000000000\n",
    "POINTS = 500\n",
    "BEST_POINTS = 200\n",
    "PRICE_PER_THOU_BARR = 450000  "
   ]
  },
  {
   "cell_type": "markdown",
   "metadata": {},
   "source": [
    "### Расчёт достаточного объёма сырья для безубыточной разработки новой скважины ###"
   ]
  },
  {
   "cell_type": "code",
   "execution_count": 63,
   "metadata": {},
   "outputs": [],
   "source": [
    "break_even = BUDJET / PRICE_PER_THOU_BARR"
   ]
  },
  {
   "cell_type": "code",
   "execution_count": 64,
   "metadata": {},
   "outputs": [
    {
     "name": "stdout",
     "output_type": "stream",
     "text": [
      "Объем сырья, достаточный для безубыточной разработки: 22222.22 тыс. баррелей\n"
     ]
    }
   ],
   "source": [
    "print('Объем сырья, достаточный для безубыточной разработки: {:.2f}'.format(break_even), 'тыс. баррелей')"
   ]
  },
  {
   "cell_type": "code",
   "execution_count": 65,
   "metadata": {},
   "outputs": [],
   "source": [
    "barr_on_point = break_even / BEST_POINTS"
   ]
  },
  {
   "cell_type": "code",
   "execution_count": 66,
   "metadata": {},
   "outputs": [
    {
     "name": "stdout",
     "output_type": "stream",
     "text": [
      "Достаточный запас нефти на 1 скважине для безубыточной разработки: 111.11 тыс. баррелей\n"
     ]
    }
   ],
   "source": [
    "print('Достаточный запас нефти на 1 скважине для безубыточной разработки: {:.2f}'.format(barr_on_point), 'тыс. баррелей')"
   ]
  },
  {
   "cell_type": "markdown",
   "metadata": {},
   "source": [
    "### Расчёт прибыли по выбранным скважинам и предсказаниям модели ###\n",
    "\n",
    "Расчет будет производиться, исходя из 200 скважин, в которых больше запасов нефти.\n",
    "\n",
    "Для этого объявлю функцию oil_profit, которя на вход принимает правильные ответы, предсказания). \n",
    "\n",
    "Предварительно в переменных, которые содержат правильные ответы, сброшу индексы (так как они \"наследственные\" и не совпадают с индексами массивов с предсказаниями) с помощью .reset_index(drop=true)."
   ]
  },
  {
   "cell_type": "code",
   "execution_count": 67,
   "metadata": {},
   "outputs": [],
   "source": [
    "target_valid_geo_0 = target_valid_geo_0.reset_index(drop = True)\n",
    "target_valid_geo_1 = target_valid_geo_1.reset_index(drop = True)\n",
    "target_valid_geo_2 = target_valid_geo_2.reset_index(drop = True)"
   ]
  },
  {
   "cell_type": "code",
   "execution_count": 68,
   "metadata": {},
   "outputs": [],
   "source": [
    "def oil_profit(target, predictions):\n",
    "    preds_sorted = predictions.sort_values(ascending = False)\n",
    "    target_selected = target[preds_sorted.index][:200]\n",
    "    return PRICE_PER_THOU_BARR*target_selected.sum() - BUDJET"
   ]
  },
  {
   "cell_type": "markdown",
   "metadata": {},
   "source": [
    "#### Вывод ####\n",
    "\n",
    "Был произведен расчет (исходя из представленных экономических целей), согласно которому для безубыточной добычи нефти на 200 скважинах необходим:\n",
    "\n",
    "- объем запасов на 1 скважине - 111.11 тыс. баррелей\n",
    "\n",
    "- объем запасов на 1 месторождении - 22222.22 тыс. баррелей\n",
    "\n",
    "Изучены средние предсказаные запасы на месторождениях и установлено, что месторождения 1 и 3 имеют разброс значений вокруг среднего 92.5 и 95, что близко к рассчитанной цели. \n",
    "\n",
    "Что касается месторождения 2. то среднее значения низкое, разброс значений далек от нормального,шанс достичь целевое значение есть, но на мой взгляд - низкий.\n",
    "\n",
    "Также изучены реальный запас и в целом на каждом месторождении есть достаточный запас нефти для безубыточной добычи.\n",
    "\n",
    "Создана функция по расчету прибыли, которая берет на вход предсказания и целевой признак. Функция работает"
   ]
  },
  {
   "cell_type": "markdown",
   "metadata": {},
   "source": [
    "## Расчёт прибыли и рисков \n",
    "\n",
    "**Bootstrap с 1000 выборок, расчет средней прибыли, 95%-й доверительного интервала и рисков убытков**"
   ]
  },
  {
   "cell_type": "code",
   "execution_count": 69,
   "metadata": {},
   "outputs": [],
   "source": [
    "state = np.random.RandomState(12345)\n",
    "def bootstrap_int_risk(target, predictions):\n",
    "    values = []\n",
    "    #lost = 0\n",
    "    for i in range(1000):\n",
    "        target_subsample = target.sample(500, replace=True, random_state=state)\n",
    "        preds_subsample = predictions[target_subsample.index]\n",
    "        profit = oil_profit(target_subsample, preds_subsample)\n",
    "        values.append(profit)\n",
    "    values = pd.Series(values)\n",
    "    lower = values.quantile(0.025)\n",
    "    upper = values.quantile(0.975)\n",
    "    mean_profit = values.mean()\n",
    "    risk = (values < 0).mean()\n",
    " \n",
    "    return mean_profit,lower,upper, risk"
   ]
  },
  {
   "cell_type": "code",
   "execution_count": 70,
   "metadata": {},
   "outputs": [],
   "source": [
    "mean_profit_0, lower_0, upper_0, risk_0 = bootstrap_int_risk(target_valid_geo_0, predictions_geo_0)"
   ]
  },
  {
   "cell_type": "code",
   "execution_count": 71,
   "metadata": {},
   "outputs": [
    {
     "name": "stdout",
     "output_type": "stream",
     "text": [
      "Информация по Месторождению 1\n",
      "Средняя прибыль: 425938526.91 тыс. рублей\n",
      "95%-й доверительный интервал: от -102090094.84 до 947976353.36 тыс. рублей\n",
      "Риск убытков: 6.00%\n"
     ]
    }
   ],
   "source": [
    "print('Информация по Месторождению 1')\n",
    "print('Средняя прибыль: {:.2f}'.format(mean_profit_0), 'тыс. рублей')\n",
    "print('95%-й доверительный интервал: от {:.2f} до {:.2f} тыс. рублей'.format(lower_0, upper_0))\n",
    "print('Риск убытков: {:.2%}'.format(risk_0))"
   ]
  },
  {
   "cell_type": "code",
   "execution_count": 72,
   "metadata": {},
   "outputs": [],
   "source": [
    "mean_profit_1, lower_1, upper_1, risk_1 = bootstrap_int_risk(target_valid_geo_1, predictions_geo_1)"
   ]
  },
  {
   "cell_type": "code",
   "execution_count": 73,
   "metadata": {},
   "outputs": [
    {
     "name": "stdout",
     "output_type": "stream",
     "text": [
      "Информация по Месторождению 2\n",
      "Средняя прибыль: 518259493.70 тыс. рублей\n",
      "95%-й доверительный интервал: от 128123231.43 до 953612982.07 тыс. рублей\n",
      "Риск убытков: 0.30%\n"
     ]
    }
   ],
   "source": [
    "print('Информация по Месторождению 2')\n",
    "print('Средняя прибыль: {:.2f}'.format(mean_profit_1), 'тыс. рублей')\n",
    "print('95%-й доверительный интервал: от {:.2f} до {:.2f} тыс. рублей'.format(lower_1, upper_1))\n",
    "print('Риск убытков: {:.2%}'.format(risk_1))"
   ]
  },
  {
   "cell_type": "code",
   "execution_count": 74,
   "metadata": {},
   "outputs": [],
   "source": [
    "mean_profit_2, lower_2, upper_2, risk_2 = bootstrap_int_risk(target_valid_geo_2, predictions_geo_2)"
   ]
  },
  {
   "cell_type": "code",
   "execution_count": 75,
   "metadata": {},
   "outputs": [
    {
     "name": "stdout",
     "output_type": "stream",
     "text": [
      "Информация по Месторождению 3\n",
      "Средняя прибыль: 420194005.34 тыс. рублей\n",
      "95%-й доверительный интервал: от -115852609.16 до 989629939.84 тыс. рублей\n",
      "Риск убытков: 6.20%\n"
     ]
    }
   ],
   "source": [
    "print('Информация по Месторождению 3')\n",
    "print('Средняя прибыль: {:.2f}'.format(mean_profit_2), 'тыс. рублей')\n",
    "print('95%-й доверительный интервал: от {:.2f} до {:.2f} тыс. рублей'.format(lower_2, upper_2))\n",
    "print('Риск убытков: {:.2%}'.format(risk_2))"
   ]
  },
  {
   "cell_type": "markdown",
   "metadata": {},
   "source": [
    "## ОБЩИЙ ВЫВОД ##\n",
    "\n",
    "Во время работы над проектом были проанализированы данные о 3-х месторождениях нефти.\n",
    "\n",
    "Данные были проверены на наличие пропусков, полных дубликатов.\n",
    "\n",
    "Была обучена модель Линейной регресии, получены средние значения предсказанных запасов и реальных запасов (в целом они были близки).\n",
    "\n",
    "Метрика RMSE была самой низкой у Месторождения 2. В данных об этом Месторождении распределение признаков далеко от нормального, есть чуть более 8 % данных о скважинах с нулевым запасом (гистограмма распределения это показала тоже).\n",
    "\n",
    "**Тем не менее, именно Месторасположение 2 я буду рекомендовать в качестве пригодного для  разработки и потенциально прибыльного, так как техника Bootstrap показала масксимальную среднюю прибыль у данного месторожения и риск убытков менее 2,5 %**"
   ]
  }
 ],
 "metadata": {
  "ExecuteTimeLog": [
   {
    "duration": 1372,
    "start_time": "2021-11-01T12:35:06.059Z"
   },
   {
    "duration": 160,
    "start_time": "2021-11-01T12:41:40.598Z"
   },
   {
    "duration": 23,
    "start_time": "2021-11-01T12:41:59.799Z"
   },
   {
    "duration": 14,
    "start_time": "2021-11-01T12:43:07.432Z"
   },
   {
    "duration": 51,
    "start_time": "2021-11-01T12:43:26.221Z"
   },
   {
    "duration": 412,
    "start_time": "2021-11-01T12:43:28.038Z"
   },
   {
    "duration": 159,
    "start_time": "2021-11-01T12:43:41.334Z"
   },
   {
    "duration": 14,
    "start_time": "2021-11-01T12:44:17.658Z"
   },
   {
    "duration": 14,
    "start_time": "2021-11-01T12:44:18.232Z"
   },
   {
    "duration": 49,
    "start_time": "2021-11-01T12:44:18.962Z"
   },
   {
    "duration": 159,
    "start_time": "2021-11-01T12:45:40.077Z"
   },
   {
    "duration": 13,
    "start_time": "2021-11-01T12:45:41.136Z"
   },
   {
    "duration": 14,
    "start_time": "2021-11-01T12:45:41.840Z"
   },
   {
    "duration": 49,
    "start_time": "2021-11-01T12:45:42.720Z"
   },
   {
    "duration": 5,
    "start_time": "2021-11-01T13:25:39.786Z"
   },
   {
    "duration": 158,
    "start_time": "2021-11-01T13:25:40.100Z"
   },
   {
    "duration": 13,
    "start_time": "2021-11-01T13:25:40.614Z"
   },
   {
    "duration": 13,
    "start_time": "2021-11-01T13:25:41.090Z"
   },
   {
    "duration": 48,
    "start_time": "2021-11-01T13:25:41.388Z"
   },
   {
    "duration": 155,
    "start_time": "2021-11-01T13:25:41.597Z"
   },
   {
    "duration": 12,
    "start_time": "2021-11-01T13:25:41.797Z"
   },
   {
    "duration": 14,
    "start_time": "2021-11-01T13:25:41.987Z"
   },
   {
    "duration": 48,
    "start_time": "2021-11-01T13:25:42.169Z"
   },
   {
    "duration": 158,
    "start_time": "2021-11-01T13:25:42.374Z"
   },
   {
    "duration": 13,
    "start_time": "2021-11-01T13:25:42.568Z"
   },
   {
    "duration": 14,
    "start_time": "2021-11-01T13:25:42.779Z"
   },
   {
    "duration": 50,
    "start_time": "2021-11-01T13:25:43.031Z"
   },
   {
    "duration": 12,
    "start_time": "2021-11-01T13:27:17.170Z"
   },
   {
    "duration": 93,
    "start_time": "2021-11-01T13:27:43.960Z"
   },
   {
    "duration": 65,
    "start_time": "2021-11-01T13:27:51.034Z"
   },
   {
    "duration": 13,
    "start_time": "2021-11-01T13:45:46.623Z"
   },
   {
    "duration": 61,
    "start_time": "2021-11-01T13:46:09.332Z"
   },
   {
    "duration": 11,
    "start_time": "2021-11-01T13:48:38.740Z"
   },
   {
    "duration": 335,
    "start_time": "2021-11-01T13:48:59.908Z"
   },
   {
    "duration": 377,
    "start_time": "2021-11-01T13:49:09.118Z"
   },
   {
    "duration": 14,
    "start_time": "2021-11-01T13:49:37.761Z"
   },
   {
    "duration": 7,
    "start_time": "2021-11-01T13:50:02.450Z"
   },
   {
    "duration": 288,
    "start_time": "2021-11-01T13:59:42.954Z"
   },
   {
    "duration": 21,
    "start_time": "2021-11-01T14:00:09.532Z"
   },
   {
    "duration": 14,
    "start_time": "2021-11-01T14:00:27.670Z"
   },
   {
    "duration": 20,
    "start_time": "2021-11-01T14:10:44.144Z"
   },
   {
    "duration": 8,
    "start_time": "2021-11-01T14:11:09.877Z"
   },
   {
    "duration": 13,
    "start_time": "2021-11-01T14:20:19.871Z"
   },
   {
    "duration": 16,
    "start_time": "2021-11-01T14:20:25.117Z"
   },
   {
    "duration": 70,
    "start_time": "2021-11-01T14:20:25.903Z"
   },
   {
    "duration": 7,
    "start_time": "2021-11-01T14:24:17.933Z"
   },
   {
    "duration": 6,
    "start_time": "2021-11-01T14:24:38.851Z"
   },
   {
    "duration": 7,
    "start_time": "2021-11-01T14:24:49.408Z"
   },
   {
    "duration": 5,
    "start_time": "2021-11-01T14:28:10.373Z"
   },
   {
    "duration": 60,
    "start_time": "2021-11-01T14:36:39.504Z"
   },
   {
    "duration": 1450,
    "start_time": "2021-11-01T14:37:36.347Z"
   },
   {
    "duration": 205,
    "start_time": "2021-11-01T14:37:37.800Z"
   },
   {
    "duration": 32,
    "start_time": "2021-11-01T14:37:38.008Z"
   },
   {
    "duration": 15,
    "start_time": "2021-11-01T14:37:38.043Z"
   },
   {
    "duration": 12,
    "start_time": "2021-11-01T14:37:38.061Z"
   },
   {
    "duration": 84,
    "start_time": "2021-11-01T14:37:38.076Z"
   },
   {
    "duration": 12,
    "start_time": "2021-11-01T14:37:38.163Z"
   },
   {
    "duration": 93,
    "start_time": "2021-11-01T14:37:38.177Z"
   },
   {
    "duration": 5,
    "start_time": "2021-11-01T14:37:38.274Z"
   },
   {
    "duration": 173,
    "start_time": "2021-11-01T14:37:38.282Z"
   },
   {
    "duration": 13,
    "start_time": "2021-11-01T14:37:38.458Z"
   },
   {
    "duration": 17,
    "start_time": "2021-11-01T14:37:38.474Z"
   },
   {
    "duration": 76,
    "start_time": "2021-11-01T14:37:38.494Z"
   },
   {
    "duration": 19,
    "start_time": "2021-11-01T14:37:38.573Z"
   },
   {
    "duration": 33,
    "start_time": "2021-11-01T14:37:38.594Z"
   },
   {
    "duration": 63,
    "start_time": "2021-11-01T14:37:38.629Z"
   },
   {
    "duration": 28,
    "start_time": "2021-11-01T14:37:38.694Z"
   },
   {
    "duration": 165,
    "start_time": "2021-11-01T14:37:38.724Z"
   },
   {
    "duration": 12,
    "start_time": "2021-11-01T14:37:38.892Z"
   },
   {
    "duration": 27,
    "start_time": "2021-11-01T14:37:38.906Z"
   },
   {
    "duration": 54,
    "start_time": "2021-11-01T14:37:38.935Z"
   },
   {
    "duration": 31,
    "start_time": "2021-11-01T14:37:38.991Z"
   },
   {
    "duration": 13,
    "start_time": "2021-11-01T14:37:39.024Z"
   },
   {
    "duration": 97,
    "start_time": "2021-11-01T14:37:39.039Z"
   },
   {
    "duration": 5,
    "start_time": "2021-11-01T14:37:39.138Z"
   },
   {
    "duration": 6,
    "start_time": "2021-11-01T14:38:08.633Z"
   },
   {
    "duration": 6,
    "start_time": "2021-11-01T14:38:20.528Z"
   },
   {
    "duration": 6,
    "start_time": "2021-11-01T14:38:50.664Z"
   },
   {
    "duration": 6,
    "start_time": "2021-11-01T14:50:31.006Z"
   },
   {
    "duration": 6,
    "start_time": "2021-11-01T14:50:54.364Z"
   },
   {
    "duration": 7,
    "start_time": "2021-11-01T14:51:18.091Z"
   },
   {
    "duration": 1338,
    "start_time": "2021-11-01T14:51:34.518Z"
   },
   {
    "duration": 164,
    "start_time": "2021-11-01T14:51:35.859Z"
   },
   {
    "duration": 22,
    "start_time": "2021-11-01T14:51:36.026Z"
   },
   {
    "duration": 14,
    "start_time": "2021-11-01T14:51:36.052Z"
   },
   {
    "duration": 12,
    "start_time": "2021-11-01T14:51:36.069Z"
   },
   {
    "duration": 91,
    "start_time": "2021-11-01T14:51:36.084Z"
   },
   {
    "duration": 13,
    "start_time": "2021-11-01T14:51:36.177Z"
   },
   {
    "duration": 93,
    "start_time": "2021-11-01T14:51:36.192Z"
   },
   {
    "duration": 6,
    "start_time": "2021-11-01T14:51:36.289Z"
   },
   {
    "duration": 172,
    "start_time": "2021-11-01T14:51:36.298Z"
   },
   {
    "duration": 12,
    "start_time": "2021-11-01T14:51:36.473Z"
   },
   {
    "duration": 35,
    "start_time": "2021-11-01T14:51:36.487Z"
   },
   {
    "duration": 50,
    "start_time": "2021-11-01T14:51:36.525Z"
   },
   {
    "duration": 20,
    "start_time": "2021-11-01T14:51:36.577Z"
   },
   {
    "duration": 13,
    "start_time": "2021-11-01T14:51:36.623Z"
   },
   {
    "duration": 86,
    "start_time": "2021-11-01T14:51:36.638Z"
   },
   {
    "duration": 6,
    "start_time": "2021-11-01T14:51:36.726Z"
   },
   {
    "duration": 167,
    "start_time": "2021-11-01T14:51:36.734Z"
   },
   {
    "duration": 21,
    "start_time": "2021-11-01T14:51:36.903Z"
   },
   {
    "duration": 14,
    "start_time": "2021-11-01T14:51:36.926Z"
   },
   {
    "duration": 50,
    "start_time": "2021-11-01T14:51:36.943Z"
   },
   {
    "duration": 39,
    "start_time": "2021-11-01T14:51:36.995Z"
   },
   {
    "duration": 14,
    "start_time": "2021-11-01T14:51:37.036Z"
   },
   {
    "duration": 99,
    "start_time": "2021-11-01T14:51:37.052Z"
   },
   {
    "duration": 5,
    "start_time": "2021-11-01T14:51:37.153Z"
   },
   {
    "duration": 1103,
    "start_time": "2021-11-02T11:20:18.731Z"
   },
   {
    "duration": 133,
    "start_time": "2021-11-02T11:20:19.836Z"
   },
   {
    "duration": 15,
    "start_time": "2021-11-02T11:20:19.971Z"
   },
   {
    "duration": 22,
    "start_time": "2021-11-02T11:20:19.988Z"
   },
   {
    "duration": 9,
    "start_time": "2021-11-02T11:20:20.012Z"
   },
   {
    "duration": 40,
    "start_time": "2021-11-02T11:20:20.023Z"
   },
   {
    "duration": 9,
    "start_time": "2021-11-02T11:20:20.065Z"
   },
   {
    "duration": 70,
    "start_time": "2021-11-02T11:20:20.076Z"
   },
   {
    "duration": 4,
    "start_time": "2021-11-02T11:20:20.149Z"
   },
   {
    "duration": 137,
    "start_time": "2021-11-02T11:20:20.155Z"
   },
   {
    "duration": 14,
    "start_time": "2021-11-02T11:20:20.294Z"
   },
   {
    "duration": 15,
    "start_time": "2021-11-02T11:20:20.310Z"
   },
   {
    "duration": 39,
    "start_time": "2021-11-02T11:20:20.327Z"
   },
   {
    "duration": 14,
    "start_time": "2021-11-02T11:20:20.368Z"
   },
   {
    "duration": 10,
    "start_time": "2021-11-02T11:20:20.407Z"
   },
   {
    "duration": 42,
    "start_time": "2021-11-02T11:20:20.419Z"
   },
   {
    "duration": 4,
    "start_time": "2021-11-02T11:20:20.463Z"
   },
   {
    "duration": 151,
    "start_time": "2021-11-02T11:20:20.469Z"
   },
   {
    "duration": 9,
    "start_time": "2021-11-02T11:20:20.621Z"
   },
   {
    "duration": 13,
    "start_time": "2021-11-02T11:20:20.633Z"
   },
   {
    "duration": 59,
    "start_time": "2021-11-02T11:20:20.648Z"
   },
   {
    "duration": 10,
    "start_time": "2021-11-02T11:20:20.709Z"
   },
   {
    "duration": 17,
    "start_time": "2021-11-02T11:20:20.721Z"
   },
   {
    "duration": 45,
    "start_time": "2021-11-02T11:20:20.740Z"
   },
   {
    "duration": 22,
    "start_time": "2021-11-02T11:20:20.787Z"
   },
   {
    "duration": 121,
    "start_time": "2021-11-02T12:13:07.828Z"
   },
   {
    "duration": 6,
    "start_time": "2021-11-02T12:13:28.848Z"
   },
   {
    "duration": 7,
    "start_time": "2021-11-02T12:16:49.436Z"
   },
   {
    "duration": 8,
    "start_time": "2021-11-02T12:16:50.193Z"
   },
   {
    "duration": 21,
    "start_time": "2021-11-02T12:27:42.337Z"
   },
   {
    "duration": 4,
    "start_time": "2021-11-02T12:28:19.570Z"
   },
   {
    "duration": 4,
    "start_time": "2021-11-02T12:28:31.764Z"
   },
   {
    "duration": 4,
    "start_time": "2021-11-02T12:28:49.793Z"
   },
   {
    "duration": 4,
    "start_time": "2021-11-02T12:29:04.119Z"
   },
   {
    "duration": 23,
    "start_time": "2021-11-02T12:31:27.538Z"
   },
   {
    "duration": 5,
    "start_time": "2021-11-02T12:32:12.724Z"
   },
   {
    "duration": 5,
    "start_time": "2021-11-02T12:32:13.182Z"
   },
   {
    "duration": 4,
    "start_time": "2021-11-02T12:32:13.670Z"
   },
   {
    "duration": 5,
    "start_time": "2021-11-02T12:32:14.143Z"
   },
   {
    "duration": 30,
    "start_time": "2021-11-02T12:35:14.230Z"
   },
   {
    "duration": 3,
    "start_time": "2021-11-02T12:35:56.281Z"
   },
   {
    "duration": 4,
    "start_time": "2021-11-02T12:35:56.988Z"
   },
   {
    "duration": 5,
    "start_time": "2021-11-02T12:35:57.479Z"
   },
   {
    "duration": 5,
    "start_time": "2021-11-02T12:35:57.723Z"
   },
   {
    "duration": 479,
    "start_time": "2021-11-02T13:00:14.512Z"
   },
   {
    "duration": 365,
    "start_time": "2021-11-02T13:00:25.618Z"
   },
   {
    "duration": 1114,
    "start_time": "2021-11-02T13:06:17.920Z"
   },
   {
    "duration": 136,
    "start_time": "2021-11-02T13:06:23.272Z"
   },
   {
    "duration": 16,
    "start_time": "2021-11-02T13:06:23.811Z"
   },
   {
    "duration": 13,
    "start_time": "2021-11-02T13:06:24.082Z"
   },
   {
    "duration": 12,
    "start_time": "2021-11-02T13:06:24.296Z"
   },
   {
    "duration": 46,
    "start_time": "2021-11-02T13:06:24.479Z"
   },
   {
    "duration": 12,
    "start_time": "2021-11-02T13:06:24.662Z"
   },
   {
    "duration": 45,
    "start_time": "2021-11-02T13:06:24.837Z"
   },
   {
    "duration": 5,
    "start_time": "2021-11-02T13:06:25.024Z"
   },
   {
    "duration": 133,
    "start_time": "2021-11-02T13:06:25.574Z"
   },
   {
    "duration": 10,
    "start_time": "2021-11-02T13:06:25.751Z"
   },
   {
    "duration": 13,
    "start_time": "2021-11-02T13:06:25.926Z"
   },
   {
    "duration": 40,
    "start_time": "2021-11-02T13:06:26.128Z"
   },
   {
    "duration": 15,
    "start_time": "2021-11-02T13:06:26.302Z"
   },
   {
    "duration": 12,
    "start_time": "2021-11-02T13:06:26.917Z"
   },
   {
    "duration": 40,
    "start_time": "2021-11-02T13:06:27.367Z"
   },
   {
    "duration": 5,
    "start_time": "2021-11-02T13:06:27.634Z"
   },
   {
    "duration": 132,
    "start_time": "2021-11-02T13:06:28.850Z"
   },
   {
    "duration": 10,
    "start_time": "2021-11-02T13:06:29.552Z"
   },
   {
    "duration": 14,
    "start_time": "2021-11-02T13:06:29.995Z"
   },
   {
    "duration": 39,
    "start_time": "2021-11-02T13:06:30.302Z"
   },
   {
    "duration": 10,
    "start_time": "2021-11-02T13:06:30.977Z"
   },
   {
    "duration": 10,
    "start_time": "2021-11-02T13:06:31.822Z"
   },
   {
    "duration": 40,
    "start_time": "2021-11-02T13:06:32.351Z"
   },
   {
    "duration": 5,
    "start_time": "2021-11-02T13:06:35.705Z"
   },
   {
    "duration": 6,
    "start_time": "2021-11-02T13:06:41.600Z"
   },
   {
    "duration": 5,
    "start_time": "2021-11-02T13:06:42.150Z"
   },
   {
    "duration": 6,
    "start_time": "2021-11-02T13:06:42.767Z"
   },
   {
    "duration": 22,
    "start_time": "2021-11-02T13:06:44.664Z"
   },
   {
    "duration": 4,
    "start_time": "2021-11-02T13:06:45.390Z"
   },
   {
    "duration": 5,
    "start_time": "2021-11-02T13:06:46.157Z"
   },
   {
    "duration": 5,
    "start_time": "2021-11-02T13:06:46.443Z"
   },
   {
    "duration": 4,
    "start_time": "2021-11-02T13:06:46.675Z"
   },
   {
    "duration": 33,
    "start_time": "2021-11-02T13:06:47.079Z"
   },
   {
    "duration": 6,
    "start_time": "2021-11-02T13:06:47.271Z"
   },
   {
    "duration": 5,
    "start_time": "2021-11-02T13:06:47.463Z"
   },
   {
    "duration": 6,
    "start_time": "2021-11-02T13:06:47.665Z"
   },
   {
    "duration": 5,
    "start_time": "2021-11-02T13:06:47.856Z"
   },
   {
    "duration": 32,
    "start_time": "2021-11-02T13:06:49.650Z"
   },
   {
    "duration": 4,
    "start_time": "2021-11-02T13:06:50.203Z"
   },
   {
    "duration": 4,
    "start_time": "2021-11-02T13:06:50.478Z"
   },
   {
    "duration": 5,
    "start_time": "2021-11-02T13:06:50.769Z"
   },
   {
    "duration": 4,
    "start_time": "2021-11-02T13:06:50.994Z"
   },
   {
    "duration": 543,
    "start_time": "2021-11-02T13:06:53.277Z"
   },
   {
    "duration": 5,
    "start_time": "2021-11-02T13:07:37.263Z"
   },
   {
    "duration": 5,
    "start_time": "2021-11-02T13:07:38.015Z"
   },
   {
    "duration": 6,
    "start_time": "2021-11-02T13:07:38.805Z"
   },
   {
    "duration": 14,
    "start_time": "2021-11-02T13:07:40.279Z"
   },
   {
    "duration": 4,
    "start_time": "2021-11-02T13:07:40.972Z"
   },
   {
    "duration": 4,
    "start_time": "2021-11-02T13:07:41.506Z"
   },
   {
    "duration": 4,
    "start_time": "2021-11-02T13:07:42.012Z"
   },
   {
    "duration": 5,
    "start_time": "2021-11-02T13:07:42.443Z"
   },
   {
    "duration": 18,
    "start_time": "2021-11-02T13:07:43.529Z"
   },
   {
    "duration": 4,
    "start_time": "2021-11-02T13:07:44.242Z"
   },
   {
    "duration": 4,
    "start_time": "2021-11-02T13:07:48.718Z"
   },
   {
    "duration": 4,
    "start_time": "2021-11-02T13:07:49.249Z"
   },
   {
    "duration": 4,
    "start_time": "2021-11-02T13:07:49.709Z"
   },
   {
    "duration": 15,
    "start_time": "2021-11-02T13:07:50.904Z"
   },
   {
    "duration": 4,
    "start_time": "2021-11-02T13:07:51.380Z"
   },
   {
    "duration": 4,
    "start_time": "2021-11-02T13:07:51.873Z"
   },
   {
    "duration": 5,
    "start_time": "2021-11-02T13:07:52.215Z"
   },
   {
    "duration": 5,
    "start_time": "2021-11-02T13:07:52.865Z"
   },
   {
    "duration": 11,
    "start_time": "2021-11-02T13:07:54.598Z"
   },
   {
    "duration": 10,
    "start_time": "2021-11-02T13:08:50.743Z"
   },
   {
    "duration": 10,
    "start_time": "2021-11-02T13:09:20.904Z"
   },
   {
    "duration": 1381,
    "start_time": "2021-11-02T13:56:55.672Z"
   },
   {
    "duration": 197,
    "start_time": "2021-11-02T13:56:57.056Z"
   },
   {
    "duration": 24,
    "start_time": "2021-11-02T13:56:57.256Z"
   },
   {
    "duration": 29,
    "start_time": "2021-11-02T13:56:57.283Z"
   },
   {
    "duration": 12,
    "start_time": "2021-11-02T13:56:57.314Z"
   },
   {
    "duration": 79,
    "start_time": "2021-11-02T13:56:57.328Z"
   },
   {
    "duration": 15,
    "start_time": "2021-11-02T13:56:57.410Z"
   },
   {
    "duration": 81,
    "start_time": "2021-11-02T13:56:57.427Z"
   },
   {
    "duration": 5,
    "start_time": "2021-11-02T13:56:57.512Z"
   },
   {
    "duration": 194,
    "start_time": "2021-11-02T13:56:57.520Z"
   },
   {
    "duration": 14,
    "start_time": "2021-11-02T13:56:57.717Z"
   },
   {
    "duration": 16,
    "start_time": "2021-11-02T13:56:57.733Z"
   },
   {
    "duration": 69,
    "start_time": "2021-11-02T13:56:57.752Z"
   },
   {
    "duration": 19,
    "start_time": "2021-11-02T13:56:57.824Z"
   },
   {
    "duration": 15,
    "start_time": "2021-11-02T13:56:57.846Z"
   },
   {
    "duration": 62,
    "start_time": "2021-11-02T13:56:57.864Z"
   },
   {
    "duration": 6,
    "start_time": "2021-11-02T13:56:57.928Z"
   },
   {
    "duration": 191,
    "start_time": "2021-11-02T13:56:57.937Z"
   },
   {
    "duration": 14,
    "start_time": "2021-11-02T13:56:58.131Z"
   },
   {
    "duration": 25,
    "start_time": "2021-11-02T13:56:58.147Z"
   },
   {
    "duration": 74,
    "start_time": "2021-11-02T13:56:58.175Z"
   },
   {
    "duration": 13,
    "start_time": "2021-11-02T13:56:58.252Z"
   },
   {
    "duration": 11,
    "start_time": "2021-11-02T13:56:58.267Z"
   },
   {
    "duration": 45,
    "start_time": "2021-11-02T13:56:58.306Z"
   },
   {
    "duration": 6,
    "start_time": "2021-11-02T13:56:58.354Z"
   },
   {
    "duration": 10,
    "start_time": "2021-11-02T13:56:58.362Z"
   },
   {
    "duration": 31,
    "start_time": "2021-11-02T13:56:58.376Z"
   },
   {
    "duration": 5,
    "start_time": "2021-11-02T13:56:58.409Z"
   },
   {
    "duration": 17,
    "start_time": "2021-11-02T13:56:58.416Z"
   },
   {
    "duration": 5,
    "start_time": "2021-11-02T13:56:58.435Z"
   },
   {
    "duration": 14,
    "start_time": "2021-11-02T13:56:58.442Z"
   },
   {
    "duration": 7,
    "start_time": "2021-11-02T13:56:58.459Z"
   },
   {
    "duration": 38,
    "start_time": "2021-11-02T13:56:58.468Z"
   },
   {
    "duration": 16,
    "start_time": "2021-11-02T13:56:58.508Z"
   },
   {
    "duration": 4,
    "start_time": "2021-11-02T13:56:58.526Z"
   },
   {
    "duration": 7,
    "start_time": "2021-11-02T13:56:58.532Z"
   },
   {
    "duration": 8,
    "start_time": "2021-11-02T13:56:58.540Z"
   },
   {
    "duration": 12,
    "start_time": "2021-11-02T13:56:58.550Z"
   },
   {
    "duration": 48,
    "start_time": "2021-11-02T13:56:58.564Z"
   },
   {
    "duration": 4,
    "start_time": "2021-11-02T13:56:58.613Z"
   },
   {
    "duration": 10,
    "start_time": "2021-11-02T13:56:58.619Z"
   },
   {
    "duration": 8,
    "start_time": "2021-11-02T13:56:58.631Z"
   },
   {
    "duration": 10,
    "start_time": "2021-11-02T13:56:58.640Z"
   },
   {
    "duration": 489,
    "start_time": "2021-11-02T13:56:58.652Z"
   },
   {
    "duration": 84,
    "start_time": "2021-11-02T13:56:59.059Z"
   },
   {
    "duration": 82,
    "start_time": "2021-11-02T13:56:59.062Z"
   },
   {
    "duration": 76,
    "start_time": "2021-11-02T13:56:59.070Z"
   },
   {
    "duration": 12,
    "start_time": "2021-11-02T13:57:39.377Z"
   },
   {
    "duration": 8,
    "start_time": "2021-11-02T14:25:34.853Z"
   },
   {
    "duration": 7,
    "start_time": "2021-11-02T14:26:03.299Z"
   },
   {
    "duration": 9,
    "start_time": "2021-11-02T14:30:20.663Z"
   },
   {
    "duration": 11,
    "start_time": "2021-11-02T14:31:53.041Z"
   },
   {
    "duration": 9,
    "start_time": "2021-11-02T14:31:53.524Z"
   },
   {
    "duration": 11,
    "start_time": "2021-11-02T14:31:53.947Z"
   },
   {
    "duration": 9,
    "start_time": "2021-11-02T14:31:54.355Z"
   },
   {
    "duration": 10,
    "start_time": "2021-11-02T14:31:54.751Z"
   },
   {
    "duration": 8,
    "start_time": "2021-11-02T14:31:55.148Z"
   },
   {
    "duration": 8,
    "start_time": "2021-11-02T14:33:03.614Z"
   },
   {
    "duration": 7,
    "start_time": "2021-11-02T14:33:10.458Z"
   },
   {
    "duration": 1157,
    "start_time": "2021-11-02T14:34:18.582Z"
   },
   {
    "duration": 137,
    "start_time": "2021-11-02T14:34:19.741Z"
   },
   {
    "duration": 16,
    "start_time": "2021-11-02T14:34:19.880Z"
   },
   {
    "duration": 15,
    "start_time": "2021-11-02T14:34:19.898Z"
   },
   {
    "duration": 13,
    "start_time": "2021-11-02T14:34:19.915Z"
   },
   {
    "duration": 40,
    "start_time": "2021-11-02T14:34:19.930Z"
   },
   {
    "duration": 36,
    "start_time": "2021-11-02T14:34:19.972Z"
   },
   {
    "duration": 42,
    "start_time": "2021-11-02T14:34:20.009Z"
   },
   {
    "duration": 4,
    "start_time": "2021-11-02T14:34:20.054Z"
   },
   {
    "duration": 147,
    "start_time": "2021-11-02T14:34:20.060Z"
   },
   {
    "duration": 9,
    "start_time": "2021-11-02T14:34:20.209Z"
   },
   {
    "duration": 19,
    "start_time": "2021-11-02T14:34:20.219Z"
   },
   {
    "duration": 37,
    "start_time": "2021-11-02T14:34:20.239Z"
   },
   {
    "duration": 34,
    "start_time": "2021-11-02T14:34:20.277Z"
   },
   {
    "duration": 9,
    "start_time": "2021-11-02T14:34:20.313Z"
   },
   {
    "duration": 40,
    "start_time": "2021-11-02T14:34:20.323Z"
   },
   {
    "duration": 5,
    "start_time": "2021-11-02T14:34:20.365Z"
   },
   {
    "duration": 157,
    "start_time": "2021-11-02T14:34:20.372Z"
   },
   {
    "duration": 10,
    "start_time": "2021-11-02T14:34:20.531Z"
   },
   {
    "duration": 23,
    "start_time": "2021-11-02T14:34:20.543Z"
   },
   {
    "duration": 46,
    "start_time": "2021-11-02T14:34:20.568Z"
   },
   {
    "duration": 11,
    "start_time": "2021-11-02T14:34:20.616Z"
   },
   {
    "duration": 9,
    "start_time": "2021-11-02T14:34:20.629Z"
   },
   {
    "duration": 67,
    "start_time": "2021-11-02T14:34:20.640Z"
   },
   {
    "duration": 4,
    "start_time": "2021-11-02T14:34:20.709Z"
   },
   {
    "duration": 6,
    "start_time": "2021-11-02T14:34:20.715Z"
   },
   {
    "duration": 4,
    "start_time": "2021-11-02T14:34:20.726Z"
   },
   {
    "duration": 10,
    "start_time": "2021-11-02T14:34:20.732Z"
   },
   {
    "duration": 17,
    "start_time": "2021-11-02T14:34:20.744Z"
   },
   {
    "duration": 5,
    "start_time": "2021-11-02T14:34:20.763Z"
   },
   {
    "duration": 16,
    "start_time": "2021-11-02T14:34:20.770Z"
   },
   {
    "duration": 11,
    "start_time": "2021-11-02T14:34:20.788Z"
   },
   {
    "duration": 16,
    "start_time": "2021-11-02T14:34:20.801Z"
   },
   {
    "duration": 28,
    "start_time": "2021-11-02T14:34:20.819Z"
   },
   {
    "duration": 4,
    "start_time": "2021-11-02T14:34:20.848Z"
   },
   {
    "duration": 6,
    "start_time": "2021-11-02T14:34:20.854Z"
   },
   {
    "duration": 9,
    "start_time": "2021-11-02T14:34:20.862Z"
   },
   {
    "duration": 11,
    "start_time": "2021-11-02T14:34:20.873Z"
   },
   {
    "duration": 19,
    "start_time": "2021-11-02T14:34:20.885Z"
   },
   {
    "duration": 3,
    "start_time": "2021-11-02T14:34:20.906Z"
   },
   {
    "duration": 8,
    "start_time": "2021-11-02T14:34:20.911Z"
   },
   {
    "duration": 8,
    "start_time": "2021-11-02T14:34:20.921Z"
   },
   {
    "duration": 10,
    "start_time": "2021-11-02T14:34:20.931Z"
   },
   {
    "duration": 14,
    "start_time": "2021-11-02T14:34:20.942Z"
   },
   {
    "duration": 11,
    "start_time": "2021-11-02T14:34:20.958Z"
   },
   {
    "duration": 14,
    "start_time": "2021-11-02T14:34:20.971Z"
   },
   {
    "duration": 11,
    "start_time": "2021-11-02T14:34:20.987Z"
   },
   {
    "duration": 6,
    "start_time": "2021-11-02T14:34:20.999Z"
   },
   {
    "duration": 13,
    "start_time": "2021-11-02T14:34:21.007Z"
   },
   {
    "duration": 7,
    "start_time": "2021-11-02T14:34:21.022Z"
   },
   {
    "duration": 13,
    "start_time": "2021-11-02T14:34:21.031Z"
   },
   {
    "duration": 734,
    "start_time": "2021-11-02T14:34:21.046Z"
   },
   {
    "duration": -429,
    "start_time": "2021-11-02T14:34:22.211Z"
   },
   {
    "duration": -432,
    "start_time": "2021-11-02T14:34:22.215Z"
   },
   {
    "duration": 1079,
    "start_time": "2021-11-02T14:47:21.790Z"
   },
   {
    "duration": 132,
    "start_time": "2021-11-02T14:47:22.871Z"
   },
   {
    "duration": 15,
    "start_time": "2021-11-02T14:47:23.006Z"
   },
   {
    "duration": 17,
    "start_time": "2021-11-02T14:47:23.023Z"
   },
   {
    "duration": 9,
    "start_time": "2021-11-02T14:47:23.042Z"
   },
   {
    "duration": 60,
    "start_time": "2021-11-02T14:47:23.053Z"
   },
   {
    "duration": 9,
    "start_time": "2021-11-02T14:47:23.115Z"
   },
   {
    "duration": 47,
    "start_time": "2021-11-02T14:47:23.126Z"
   },
   {
    "duration": 4,
    "start_time": "2021-11-02T14:47:23.176Z"
   },
   {
    "duration": 137,
    "start_time": "2021-11-02T14:47:23.182Z"
   },
   {
    "duration": 9,
    "start_time": "2021-11-02T14:47:23.320Z"
   },
   {
    "duration": 13,
    "start_time": "2021-11-02T14:47:23.331Z"
   },
   {
    "duration": 37,
    "start_time": "2021-11-02T14:47:23.345Z"
   },
   {
    "duration": 34,
    "start_time": "2021-11-02T14:47:23.384Z"
   },
   {
    "duration": 9,
    "start_time": "2021-11-02T14:47:23.420Z"
   },
   {
    "duration": 38,
    "start_time": "2021-11-02T14:47:23.431Z"
   },
   {
    "duration": 3,
    "start_time": "2021-11-02T14:47:23.471Z"
   },
   {
    "duration": 159,
    "start_time": "2021-11-02T14:47:23.476Z"
   },
   {
    "duration": 9,
    "start_time": "2021-11-02T14:47:23.637Z"
   },
   {
    "duration": 13,
    "start_time": "2021-11-02T14:47:23.648Z"
   },
   {
    "duration": 54,
    "start_time": "2021-11-02T14:47:23.663Z"
   },
   {
    "duration": 9,
    "start_time": "2021-11-02T14:47:23.718Z"
   },
   {
    "duration": 10,
    "start_time": "2021-11-02T14:47:23.729Z"
   },
   {
    "duration": 43,
    "start_time": "2021-11-02T14:47:23.740Z"
   },
   {
    "duration": 24,
    "start_time": "2021-11-02T14:47:23.785Z"
   },
   {
    "duration": 9,
    "start_time": "2021-11-02T14:47:23.811Z"
   },
   {
    "duration": 8,
    "start_time": "2021-11-02T14:47:23.824Z"
   },
   {
    "duration": 8,
    "start_time": "2021-11-02T14:47:23.835Z"
   },
   {
    "duration": 17,
    "start_time": "2021-11-02T14:47:23.845Z"
   },
   {
    "duration": 4,
    "start_time": "2021-11-02T14:47:23.864Z"
   },
   {
    "duration": 7,
    "start_time": "2021-11-02T14:47:23.870Z"
   },
   {
    "duration": 7,
    "start_time": "2021-11-02T14:47:23.879Z"
   },
   {
    "duration": 3,
    "start_time": "2021-11-02T14:47:23.907Z"
   },
   {
    "duration": 22,
    "start_time": "2021-11-02T14:47:23.912Z"
   },
   {
    "duration": 4,
    "start_time": "2021-11-02T14:47:23.936Z"
   },
   {
    "duration": 7,
    "start_time": "2021-11-02T14:47:23.941Z"
   },
   {
    "duration": 20,
    "start_time": "2021-11-02T14:47:23.949Z"
   },
   {
    "duration": 13,
    "start_time": "2021-11-02T14:47:23.972Z"
   },
   {
    "duration": 24,
    "start_time": "2021-11-02T14:47:23.987Z"
   },
   {
    "duration": 4,
    "start_time": "2021-11-02T14:47:24.013Z"
   },
   {
    "duration": 7,
    "start_time": "2021-11-02T14:47:24.019Z"
   },
   {
    "duration": 15,
    "start_time": "2021-11-02T14:47:24.028Z"
   },
   {
    "duration": 6,
    "start_time": "2021-11-02T14:47:24.045Z"
   },
   {
    "duration": 19,
    "start_time": "2021-11-02T14:47:24.052Z"
   },
   {
    "duration": 14,
    "start_time": "2021-11-02T14:47:24.072Z"
   },
   {
    "duration": 20,
    "start_time": "2021-11-02T14:47:24.087Z"
   },
   {
    "duration": 12,
    "start_time": "2021-11-02T14:47:24.109Z"
   },
   {
    "duration": 9,
    "start_time": "2021-11-02T14:47:24.123Z"
   },
   {
    "duration": 9,
    "start_time": "2021-11-02T14:47:24.134Z"
   },
   {
    "duration": 7,
    "start_time": "2021-11-02T14:47:24.145Z"
   },
   {
    "duration": 11,
    "start_time": "2021-11-02T14:47:24.153Z"
   },
   {
    "duration": 451,
    "start_time": "2021-11-02T14:47:24.166Z"
   },
   {
    "duration": 33,
    "start_time": "2021-11-02T14:47:24.586Z"
   },
   {
    "duration": 29,
    "start_time": "2021-11-02T14:47:24.591Z"
   },
   {
    "duration": 356,
    "start_time": "2021-11-02T14:47:45.777Z"
   },
   {
    "duration": 11,
    "start_time": "2021-11-02T14:48:04.448Z"
   },
   {
    "duration": 11,
    "start_time": "2021-11-02T14:48:35.674Z"
   },
   {
    "duration": 12,
    "start_time": "2021-11-02T14:48:38.302Z"
   },
   {
    "duration": 10,
    "start_time": "2021-11-02T15:34:23.651Z"
   },
   {
    "duration": 1318,
    "start_time": "2021-11-02T15:35:08.055Z"
   },
   {
    "duration": 137,
    "start_time": "2021-11-02T15:35:09.375Z"
   },
   {
    "duration": 17,
    "start_time": "2021-11-02T15:35:09.514Z"
   },
   {
    "duration": 16,
    "start_time": "2021-11-02T15:35:09.533Z"
   },
   {
    "duration": 9,
    "start_time": "2021-11-02T15:35:09.551Z"
   },
   {
    "duration": 70,
    "start_time": "2021-11-02T15:35:09.562Z"
   },
   {
    "duration": 9,
    "start_time": "2021-11-02T15:35:09.634Z"
   },
   {
    "duration": 61,
    "start_time": "2021-11-02T15:35:09.647Z"
   },
   {
    "duration": 5,
    "start_time": "2021-11-02T15:35:09.711Z"
   },
   {
    "duration": 141,
    "start_time": "2021-11-02T15:35:09.718Z"
   },
   {
    "duration": 10,
    "start_time": "2021-11-02T15:35:09.861Z"
   },
   {
    "duration": 13,
    "start_time": "2021-11-02T15:35:09.873Z"
   },
   {
    "duration": 51,
    "start_time": "2021-11-02T15:35:09.888Z"
   },
   {
    "duration": 14,
    "start_time": "2021-11-02T15:35:09.940Z"
   },
   {
    "duration": 12,
    "start_time": "2021-11-02T15:35:09.956Z"
   },
   {
    "duration": 71,
    "start_time": "2021-11-02T15:35:09.970Z"
   },
   {
    "duration": 6,
    "start_time": "2021-11-02T15:35:10.043Z"
   },
   {
    "duration": 139,
    "start_time": "2021-11-02T15:35:10.051Z"
   },
   {
    "duration": 19,
    "start_time": "2021-11-02T15:35:10.191Z"
   },
   {
    "duration": 20,
    "start_time": "2021-11-02T15:35:10.212Z"
   },
   {
    "duration": 38,
    "start_time": "2021-11-02T15:35:10.235Z"
   },
   {
    "duration": 9,
    "start_time": "2021-11-02T15:35:10.274Z"
   },
   {
    "duration": 26,
    "start_time": "2021-11-02T15:35:10.287Z"
   },
   {
    "duration": 40,
    "start_time": "2021-11-02T15:35:10.315Z"
   },
   {
    "duration": 4,
    "start_time": "2021-11-02T15:35:10.357Z"
   },
   {
    "duration": 5,
    "start_time": "2021-11-02T15:35:10.363Z"
   },
   {
    "duration": 7,
    "start_time": "2021-11-02T15:35:10.370Z"
   },
   {
    "duration": 30,
    "start_time": "2021-11-02T15:35:10.379Z"
   },
   {
    "duration": 18,
    "start_time": "2021-11-02T15:35:10.411Z"
   },
   {
    "duration": 4,
    "start_time": "2021-11-02T15:35:10.431Z"
   },
   {
    "duration": 6,
    "start_time": "2021-11-02T15:35:10.438Z"
   },
   {
    "duration": 6,
    "start_time": "2021-11-02T15:35:10.445Z"
   },
   {
    "duration": 5,
    "start_time": "2021-11-02T15:35:10.453Z"
   },
   {
    "duration": 49,
    "start_time": "2021-11-02T15:35:10.460Z"
   },
   {
    "duration": 5,
    "start_time": "2021-11-02T15:35:10.511Z"
   },
   {
    "duration": 6,
    "start_time": "2021-11-02T15:35:10.518Z"
   },
   {
    "duration": 8,
    "start_time": "2021-11-02T15:35:10.526Z"
   },
   {
    "duration": 12,
    "start_time": "2021-11-02T15:35:10.536Z"
   },
   {
    "duration": 17,
    "start_time": "2021-11-02T15:35:10.550Z"
   },
   {
    "duration": 4,
    "start_time": "2021-11-02T15:35:10.569Z"
   },
   {
    "duration": 5,
    "start_time": "2021-11-02T15:35:10.606Z"
   },
   {
    "duration": 10,
    "start_time": "2021-11-02T15:35:10.613Z"
   },
   {
    "duration": 8,
    "start_time": "2021-11-02T15:35:10.624Z"
   },
   {
    "duration": 17,
    "start_time": "2021-11-02T15:35:10.634Z"
   },
   {
    "duration": 23,
    "start_time": "2021-11-02T15:35:10.652Z"
   },
   {
    "duration": 18,
    "start_time": "2021-11-02T15:35:10.677Z"
   },
   {
    "duration": 19,
    "start_time": "2021-11-02T15:35:10.697Z"
   },
   {
    "duration": 10,
    "start_time": "2021-11-02T15:35:10.718Z"
   },
   {
    "duration": 22,
    "start_time": "2021-11-02T15:35:10.730Z"
   },
   {
    "duration": 19,
    "start_time": "2021-11-02T15:35:10.754Z"
   },
   {
    "duration": 21,
    "start_time": "2021-11-02T15:35:10.775Z"
   },
   {
    "duration": 30,
    "start_time": "2021-11-02T15:35:10.798Z"
   },
   {
    "duration": 16,
    "start_time": "2021-11-02T15:35:10.830Z"
   },
   {
    "duration": 18,
    "start_time": "2021-11-02T15:35:10.848Z"
   },
   {
    "duration": 56,
    "start_time": "2021-11-02T15:37:39.250Z"
   },
   {
    "duration": 1104,
    "start_time": "2021-11-02T16:59:35.925Z"
   },
   {
    "duration": 133,
    "start_time": "2021-11-02T16:59:37.031Z"
   },
   {
    "duration": 16,
    "start_time": "2021-11-02T16:59:37.167Z"
   },
   {
    "duration": 21,
    "start_time": "2021-11-02T16:59:37.185Z"
   },
   {
    "duration": 16,
    "start_time": "2021-11-02T16:59:37.208Z"
   },
   {
    "duration": 56,
    "start_time": "2021-11-02T16:59:37.226Z"
   },
   {
    "duration": 10,
    "start_time": "2021-11-02T16:59:37.284Z"
   },
   {
    "duration": 56,
    "start_time": "2021-11-02T16:59:37.296Z"
   },
   {
    "duration": 4,
    "start_time": "2021-11-02T16:59:37.355Z"
   },
   {
    "duration": 131,
    "start_time": "2021-11-02T16:59:37.362Z"
   },
   {
    "duration": 9,
    "start_time": "2021-11-02T16:59:37.494Z"
   },
   {
    "duration": 17,
    "start_time": "2021-11-02T16:59:37.505Z"
   },
   {
    "duration": 41,
    "start_time": "2021-11-02T16:59:37.523Z"
   },
   {
    "duration": 13,
    "start_time": "2021-11-02T16:59:37.565Z"
   },
   {
    "duration": 27,
    "start_time": "2021-11-02T16:59:37.580Z"
   },
   {
    "duration": 36,
    "start_time": "2021-11-02T16:59:37.609Z"
   },
   {
    "duration": 4,
    "start_time": "2021-11-02T16:59:37.646Z"
   },
   {
    "duration": 136,
    "start_time": "2021-11-02T16:59:37.652Z"
   },
   {
    "duration": 16,
    "start_time": "2021-11-02T16:59:37.790Z"
   },
   {
    "duration": 15,
    "start_time": "2021-11-02T16:59:37.808Z"
   },
   {
    "duration": 56,
    "start_time": "2021-11-02T16:59:37.825Z"
   },
   {
    "duration": 10,
    "start_time": "2021-11-02T16:59:37.883Z"
   },
   {
    "duration": 22,
    "start_time": "2021-11-02T16:59:37.894Z"
   },
   {
    "duration": 44,
    "start_time": "2021-11-02T16:59:37.918Z"
   },
   {
    "duration": 4,
    "start_time": "2021-11-02T16:59:37.963Z"
   },
   {
    "duration": 15,
    "start_time": "2021-11-02T16:59:37.969Z"
   },
   {
    "duration": 30,
    "start_time": "2021-11-02T16:59:37.988Z"
   },
   {
    "duration": 19,
    "start_time": "2021-11-02T16:59:38.020Z"
   },
   {
    "duration": 34,
    "start_time": "2021-11-02T16:59:38.040Z"
   },
   {
    "duration": 4,
    "start_time": "2021-11-02T16:59:38.076Z"
   },
   {
    "duration": 19,
    "start_time": "2021-11-02T16:59:38.082Z"
   },
   {
    "duration": 17,
    "start_time": "2021-11-02T16:59:38.103Z"
   },
   {
    "duration": 30,
    "start_time": "2021-11-02T16:59:38.122Z"
   },
   {
    "duration": 21,
    "start_time": "2021-11-02T16:59:38.154Z"
   },
   {
    "duration": 17,
    "start_time": "2021-11-02T16:59:38.177Z"
   },
   {
    "duration": 14,
    "start_time": "2021-11-02T16:59:38.196Z"
   },
   {
    "duration": 13,
    "start_time": "2021-11-02T16:59:38.212Z"
   },
   {
    "duration": 20,
    "start_time": "2021-11-02T16:59:38.227Z"
   },
   {
    "duration": 29,
    "start_time": "2021-11-02T16:59:38.248Z"
   },
   {
    "duration": 5,
    "start_time": "2021-11-02T16:59:38.279Z"
   },
   {
    "duration": 19,
    "start_time": "2021-11-02T16:59:38.285Z"
   },
   {
    "duration": 9,
    "start_time": "2021-11-02T16:59:38.306Z"
   },
   {
    "duration": 20,
    "start_time": "2021-11-02T16:59:38.317Z"
   },
   {
    "duration": 27,
    "start_time": "2021-11-02T16:59:38.339Z"
   },
   {
    "duration": 9,
    "start_time": "2021-11-02T16:59:38.368Z"
   },
   {
    "duration": 25,
    "start_time": "2021-11-02T16:59:38.379Z"
   },
   {
    "duration": 17,
    "start_time": "2021-11-02T16:59:38.405Z"
   },
   {
    "duration": 5,
    "start_time": "2021-11-02T17:14:47.887Z"
   },
   {
    "duration": 4,
    "start_time": "2021-11-02T17:14:48.636Z"
   },
   {
    "duration": 3,
    "start_time": "2021-11-02T17:24:18.791Z"
   },
   {
    "duration": 4,
    "start_time": "2021-11-02T17:24:29.645Z"
   },
   {
    "duration": 9,
    "start_time": "2021-11-02T18:12:32.422Z"
   },
   {
    "duration": 5,
    "start_time": "2021-11-02T18:13:42.888Z"
   },
   {
    "duration": 5,
    "start_time": "2021-11-02T18:14:16.124Z"
   },
   {
    "duration": 4,
    "start_time": "2021-11-02T18:15:03.368Z"
   },
   {
    "duration": 5,
    "start_time": "2021-11-02T18:15:43.876Z"
   },
   {
    "duration": 9,
    "start_time": "2021-11-02T18:16:43.506Z"
   },
   {
    "duration": 4,
    "start_time": "2021-11-02T18:16:44.061Z"
   },
   {
    "duration": 5,
    "start_time": "2021-11-02T18:16:44.761Z"
   },
   {
    "duration": 4,
    "start_time": "2021-11-02T18:16:45.385Z"
   },
   {
    "duration": 4,
    "start_time": "2021-11-02T18:17:22.623Z"
   },
   {
    "duration": 4,
    "start_time": "2021-11-02T18:17:33.550Z"
   },
   {
    "duration": 4,
    "start_time": "2021-11-02T18:17:44.601Z"
   },
   {
    "duration": 404,
    "start_time": "2021-11-02T18:19:08.307Z"
   },
   {
    "duration": 1105,
    "start_time": "2021-11-02T18:19:25.530Z"
   },
   {
    "duration": 133,
    "start_time": "2021-11-02T18:19:26.637Z"
   },
   {
    "duration": 15,
    "start_time": "2021-11-02T18:19:26.772Z"
   },
   {
    "duration": 19,
    "start_time": "2021-11-02T18:19:26.789Z"
   },
   {
    "duration": 12,
    "start_time": "2021-11-02T18:19:26.810Z"
   },
   {
    "duration": 45,
    "start_time": "2021-11-02T18:19:26.824Z"
   },
   {
    "duration": 9,
    "start_time": "2021-11-02T18:19:26.870Z"
   },
   {
    "duration": 66,
    "start_time": "2021-11-02T18:19:26.881Z"
   },
   {
    "duration": 6,
    "start_time": "2021-11-02T18:19:26.950Z"
   },
   {
    "duration": 156,
    "start_time": "2021-11-02T18:19:26.959Z"
   },
   {
    "duration": 9,
    "start_time": "2021-11-02T18:19:27.117Z"
   },
   {
    "duration": 37,
    "start_time": "2021-11-02T18:19:27.128Z"
   },
   {
    "duration": 50,
    "start_time": "2021-11-02T18:19:27.170Z"
   },
   {
    "duration": 14,
    "start_time": "2021-11-02T18:19:27.221Z"
   },
   {
    "duration": 14,
    "start_time": "2021-11-02T18:19:27.236Z"
   },
   {
    "duration": 43,
    "start_time": "2021-11-02T18:19:27.252Z"
   },
   {
    "duration": 4,
    "start_time": "2021-11-02T18:19:27.296Z"
   },
   {
    "duration": 141,
    "start_time": "2021-11-02T18:19:27.302Z"
   },
   {
    "duration": 10,
    "start_time": "2021-11-02T18:19:27.445Z"
   },
   {
    "duration": 21,
    "start_time": "2021-11-02T18:19:27.457Z"
   },
   {
    "duration": 55,
    "start_time": "2021-11-02T18:19:27.480Z"
   },
   {
    "duration": 10,
    "start_time": "2021-11-02T18:19:27.537Z"
   },
   {
    "duration": 12,
    "start_time": "2021-11-02T18:19:27.549Z"
   },
   {
    "duration": 59,
    "start_time": "2021-11-02T18:19:27.563Z"
   },
   {
    "duration": 5,
    "start_time": "2021-11-02T18:19:27.624Z"
   },
   {
    "duration": 16,
    "start_time": "2021-11-02T18:19:27.631Z"
   },
   {
    "duration": 14,
    "start_time": "2021-11-02T18:19:27.651Z"
   },
   {
    "duration": 14,
    "start_time": "2021-11-02T18:19:27.667Z"
   },
   {
    "duration": 26,
    "start_time": "2021-11-02T18:19:27.682Z"
   },
   {
    "duration": 7,
    "start_time": "2021-11-02T18:19:27.712Z"
   },
   {
    "duration": 11,
    "start_time": "2021-11-02T18:19:27.721Z"
   },
   {
    "duration": 12,
    "start_time": "2021-11-02T18:19:27.734Z"
   },
   {
    "duration": 7,
    "start_time": "2021-11-02T18:19:27.748Z"
   },
   {
    "duration": 23,
    "start_time": "2021-11-02T18:19:27.756Z"
   },
   {
    "duration": 3,
    "start_time": "2021-11-02T18:19:27.781Z"
   },
   {
    "duration": 35,
    "start_time": "2021-11-02T18:19:27.786Z"
   },
   {
    "duration": 9,
    "start_time": "2021-11-02T18:19:27.823Z"
   },
   {
    "duration": 12,
    "start_time": "2021-11-02T18:19:27.834Z"
   },
   {
    "duration": 22,
    "start_time": "2021-11-02T18:19:27.848Z"
   },
   {
    "duration": 8,
    "start_time": "2021-11-02T18:19:27.872Z"
   },
   {
    "duration": 15,
    "start_time": "2021-11-02T18:19:27.882Z"
   },
   {
    "duration": 14,
    "start_time": "2021-11-02T18:19:27.899Z"
   },
   {
    "duration": 18,
    "start_time": "2021-11-02T18:19:27.915Z"
   },
   {
    "duration": 19,
    "start_time": "2021-11-02T18:19:27.935Z"
   },
   {
    "duration": 11,
    "start_time": "2021-11-02T18:19:27.956Z"
   },
   {
    "duration": 14,
    "start_time": "2021-11-02T18:19:27.969Z"
   },
   {
    "duration": 30,
    "start_time": "2021-11-02T18:19:27.984Z"
   },
   {
    "duration": 94,
    "start_time": "2021-11-02T18:19:28.017Z"
   },
   {
    "duration": 100,
    "start_time": "2021-11-02T18:19:28.113Z"
   },
   {
    "duration": 26,
    "start_time": "2021-11-02T18:19:28.215Z"
   },
   {
    "duration": 25,
    "start_time": "2021-11-02T18:19:28.243Z"
   },
   {
    "duration": 47,
    "start_time": "2021-11-02T18:19:28.270Z"
   },
   {
    "duration": 99,
    "start_time": "2021-11-02T18:19:28.319Z"
   },
   {
    "duration": 7,
    "start_time": "2021-11-02T18:19:28.420Z"
   },
   {
    "duration": 19,
    "start_time": "2021-11-02T18:19:28.429Z"
   },
   {
    "duration": 60,
    "start_time": "2021-11-02T18:19:28.451Z"
   },
   {
    "duration": 96,
    "start_time": "2021-11-02T18:19:28.513Z"
   },
   {
    "duration": 19,
    "start_time": "2021-11-02T18:19:28.611Z"
   },
   {
    "duration": 1091,
    "start_time": "2021-11-03T07:45:37.506Z"
   },
   {
    "duration": 142,
    "start_time": "2021-11-03T07:45:38.600Z"
   },
   {
    "duration": 22,
    "start_time": "2021-11-03T07:45:38.745Z"
   },
   {
    "duration": 14,
    "start_time": "2021-11-03T07:45:38.768Z"
   },
   {
    "duration": 9,
    "start_time": "2021-11-03T07:45:38.784Z"
   },
   {
    "duration": 44,
    "start_time": "2021-11-03T07:45:38.795Z"
   },
   {
    "duration": 30,
    "start_time": "2021-11-03T07:45:38.841Z"
   },
   {
    "duration": 44,
    "start_time": "2021-11-03T07:45:38.872Z"
   },
   {
    "duration": 5,
    "start_time": "2021-11-03T07:45:38.918Z"
   },
   {
    "duration": 145,
    "start_time": "2021-11-03T07:45:38.925Z"
   },
   {
    "duration": 8,
    "start_time": "2021-11-03T07:45:39.072Z"
   },
   {
    "duration": 16,
    "start_time": "2021-11-03T07:45:39.081Z"
   },
   {
    "duration": 37,
    "start_time": "2021-11-03T07:45:39.099Z"
   },
   {
    "duration": 35,
    "start_time": "2021-11-03T07:45:39.138Z"
   },
   {
    "duration": 10,
    "start_time": "2021-11-03T07:45:39.174Z"
   },
   {
    "duration": 42,
    "start_time": "2021-11-03T07:45:39.185Z"
   },
   {
    "duration": 3,
    "start_time": "2021-11-03T07:45:39.229Z"
   },
   {
    "duration": 153,
    "start_time": "2021-11-03T07:45:39.234Z"
   },
   {
    "duration": 10,
    "start_time": "2021-11-03T07:45:39.388Z"
   },
   {
    "duration": 15,
    "start_time": "2021-11-03T07:45:39.400Z"
   },
   {
    "duration": 55,
    "start_time": "2021-11-03T07:45:39.416Z"
   },
   {
    "duration": 9,
    "start_time": "2021-11-03T07:45:39.473Z"
   },
   {
    "duration": 10,
    "start_time": "2021-11-03T07:45:39.483Z"
   },
   {
    "duration": 41,
    "start_time": "2021-11-03T07:45:39.494Z"
   },
   {
    "duration": 28,
    "start_time": "2021-11-03T07:45:39.537Z"
   },
   {
    "duration": 6,
    "start_time": "2021-11-03T07:45:39.567Z"
   },
   {
    "duration": 5,
    "start_time": "2021-11-03T07:45:39.577Z"
   },
   {
    "duration": 5,
    "start_time": "2021-11-03T07:45:39.584Z"
   },
   {
    "duration": 17,
    "start_time": "2021-11-03T07:45:39.591Z"
   },
   {
    "duration": 4,
    "start_time": "2021-11-03T07:45:39.609Z"
   },
   {
    "duration": 5,
    "start_time": "2021-11-03T07:45:39.615Z"
   },
   {
    "duration": 9,
    "start_time": "2021-11-03T07:45:39.621Z"
   },
   {
    "duration": 34,
    "start_time": "2021-11-03T07:45:39.632Z"
   },
   {
    "duration": 18,
    "start_time": "2021-11-03T07:45:39.667Z"
   },
   {
    "duration": 4,
    "start_time": "2021-11-03T07:45:39.687Z"
   },
   {
    "duration": 9,
    "start_time": "2021-11-03T07:45:39.692Z"
   },
   {
    "duration": 12,
    "start_time": "2021-11-03T07:45:39.703Z"
   },
   {
    "duration": 7,
    "start_time": "2021-11-03T07:45:39.717Z"
   },
   {
    "duration": 42,
    "start_time": "2021-11-03T07:45:39.726Z"
   },
   {
    "duration": 5,
    "start_time": "2021-11-03T07:45:39.769Z"
   },
   {
    "duration": 5,
    "start_time": "2021-11-03T07:45:39.776Z"
   },
   {
    "duration": 6,
    "start_time": "2021-11-03T07:45:39.783Z"
   },
   {
    "duration": 14,
    "start_time": "2021-11-03T07:45:39.791Z"
   },
   {
    "duration": 14,
    "start_time": "2021-11-03T07:45:39.807Z"
   },
   {
    "duration": 9,
    "start_time": "2021-11-03T07:45:39.823Z"
   },
   {
    "duration": 34,
    "start_time": "2021-11-03T07:45:39.833Z"
   },
   {
    "duration": 5,
    "start_time": "2021-11-03T07:45:39.869Z"
   },
   {
    "duration": 186,
    "start_time": "2021-11-03T07:45:39.877Z"
   },
   {
    "duration": 8,
    "start_time": "2021-11-03T07:45:40.066Z"
   },
   {
    "duration": 11,
    "start_time": "2021-11-03T07:45:40.076Z"
   },
   {
    "duration": 8,
    "start_time": "2021-11-03T07:45:40.089Z"
   },
   {
    "duration": 164,
    "start_time": "2021-11-03T07:45:40.099Z"
   },
   {
    "duration": 5,
    "start_time": "2021-11-03T07:45:40.265Z"
   },
   {
    "duration": 6,
    "start_time": "2021-11-03T07:45:40.271Z"
   },
   {
    "duration": 8,
    "start_time": "2021-11-03T07:45:40.279Z"
   },
   {
    "duration": 77,
    "start_time": "2021-11-03T07:45:40.289Z"
   },
   {
    "duration": 97,
    "start_time": "2021-11-03T07:45:40.369Z"
   },
   {
    "duration": 7,
    "start_time": "2021-11-03T07:45:40.468Z"
   },
   {
    "duration": 1165,
    "start_time": "2021-11-03T10:01:08.462Z"
   },
   {
    "duration": 143,
    "start_time": "2021-11-03T10:01:09.629Z"
   },
   {
    "duration": 17,
    "start_time": "2021-11-03T10:01:09.774Z"
   },
   {
    "duration": 14,
    "start_time": "2021-11-03T10:01:09.793Z"
   },
   {
    "duration": 10,
    "start_time": "2021-11-03T10:01:09.809Z"
   },
   {
    "duration": 70,
    "start_time": "2021-11-03T10:01:09.821Z"
   },
   {
    "duration": 10,
    "start_time": "2021-11-03T10:01:09.893Z"
   },
   {
    "duration": 73,
    "start_time": "2021-11-03T10:01:09.906Z"
   },
   {
    "duration": 4,
    "start_time": "2021-11-03T10:01:09.982Z"
   },
   {
    "duration": 22,
    "start_time": "2021-11-03T10:01:09.988Z"
   },
   {
    "duration": 149,
    "start_time": "2021-11-03T10:01:10.012Z"
   },
   {
    "duration": 10,
    "start_time": "2021-11-03T10:01:10.163Z"
   },
   {
    "duration": 17,
    "start_time": "2021-11-03T10:01:10.175Z"
   },
   {
    "duration": 42,
    "start_time": "2021-11-03T10:01:10.195Z"
   },
   {
    "duration": 38,
    "start_time": "2021-11-03T10:01:10.239Z"
   },
   {
    "duration": 12,
    "start_time": "2021-11-03T10:01:10.279Z"
   },
   {
    "duration": 73,
    "start_time": "2021-11-03T10:01:10.293Z"
   },
   {
    "duration": 4,
    "start_time": "2021-11-03T10:01:10.368Z"
   },
   {
    "duration": 6,
    "start_time": "2021-11-03T10:01:10.373Z"
   },
   {
    "duration": 151,
    "start_time": "2021-11-03T10:01:10.380Z"
   },
   {
    "duration": 11,
    "start_time": "2021-11-03T10:01:10.533Z"
   },
   {
    "duration": 24,
    "start_time": "2021-11-03T10:01:10.545Z"
   },
   {
    "duration": 41,
    "start_time": "2021-11-03T10:01:10.570Z"
   },
   {
    "duration": 17,
    "start_time": "2021-11-03T10:01:10.613Z"
   },
   {
    "duration": 31,
    "start_time": "2021-11-03T10:01:10.632Z"
   },
   {
    "duration": 46,
    "start_time": "2021-11-03T10:01:10.665Z"
   },
   {
    "duration": 4,
    "start_time": "2021-11-03T10:01:10.715Z"
   },
   {
    "duration": 6,
    "start_time": "2021-11-03T10:01:10.721Z"
   },
   {
    "duration": 8,
    "start_time": "2021-11-03T10:01:10.729Z"
   },
   {
    "duration": 13,
    "start_time": "2021-11-03T10:01:10.764Z"
   },
   {
    "duration": 9,
    "start_time": "2021-11-03T10:01:10.779Z"
   },
   {
    "duration": 23,
    "start_time": "2021-11-03T10:01:10.790Z"
   },
   {
    "duration": 5,
    "start_time": "2021-11-03T10:01:10.815Z"
   },
   {
    "duration": 6,
    "start_time": "2021-11-03T10:01:10.822Z"
   },
   {
    "duration": 6,
    "start_time": "2021-11-03T10:01:10.830Z"
   },
   {
    "duration": 29,
    "start_time": "2021-11-03T10:01:10.838Z"
   },
   {
    "duration": 20,
    "start_time": "2021-11-03T10:01:10.869Z"
   },
   {
    "duration": 5,
    "start_time": "2021-11-03T10:01:10.891Z"
   },
   {
    "duration": 11,
    "start_time": "2021-11-03T10:01:10.898Z"
   },
   {
    "duration": 8,
    "start_time": "2021-11-03T10:01:10.911Z"
   },
   {
    "duration": 45,
    "start_time": "2021-11-03T10:01:10.921Z"
   },
   {
    "duration": 19,
    "start_time": "2021-11-03T10:01:10.968Z"
   },
   {
    "duration": 5,
    "start_time": "2021-11-03T10:01:10.989Z"
   },
   {
    "duration": 9,
    "start_time": "2021-11-03T10:01:10.996Z"
   },
   {
    "duration": 10,
    "start_time": "2021-11-03T10:01:11.007Z"
   },
   {
    "duration": 10,
    "start_time": "2021-11-03T10:01:11.019Z"
   },
   {
    "duration": 43,
    "start_time": "2021-11-03T10:01:11.031Z"
   },
   {
    "duration": 13,
    "start_time": "2021-11-03T10:01:11.075Z"
   },
   {
    "duration": 21,
    "start_time": "2021-11-03T10:01:11.090Z"
   },
   {
    "duration": 6,
    "start_time": "2021-11-03T10:01:11.113Z"
   },
   {
    "duration": 5,
    "start_time": "2021-11-03T10:01:11.164Z"
   },
   {
    "duration": 95,
    "start_time": "2021-11-03T10:01:11.171Z"
   },
   {
    "duration": 9,
    "start_time": "2021-11-03T10:01:11.269Z"
   },
   {
    "duration": 11,
    "start_time": "2021-11-03T10:01:11.280Z"
   },
   {
    "duration": 77,
    "start_time": "2021-11-03T10:01:11.294Z"
   },
   {
    "duration": 94,
    "start_time": "2021-11-03T10:01:11.374Z"
   },
   {
    "duration": 15,
    "start_time": "2021-11-03T10:01:11.470Z"
   },
   {
    "duration": 10,
    "start_time": "2021-11-03T10:01:11.488Z"
   },
   {
    "duration": 71,
    "start_time": "2021-11-03T10:01:11.500Z"
   },
   {
    "duration": 5,
    "start_time": "2021-11-03T10:01:11.664Z"
   },
   {
    "duration": 6,
    "start_time": "2021-11-03T10:01:11.671Z"
   },
   {
    "duration": 3,
    "start_time": "2021-11-03T10:27:59.762Z"
   },
   {
    "duration": 4,
    "start_time": "2021-11-03T10:28:11.721Z"
   },
   {
    "duration": 332,
    "start_time": "2021-11-03T10:54:13.971Z"
   },
   {
    "duration": 5,
    "start_time": "2021-11-03T10:54:19.944Z"
   },
   {
    "duration": 4,
    "start_time": "2021-11-03T10:54:20.649Z"
   },
   {
    "duration": 5,
    "start_time": "2021-11-03T10:55:20.766Z"
   },
   {
    "duration": 4,
    "start_time": "2021-11-03T10:56:31.332Z"
   },
   {
    "duration": 4,
    "start_time": "2021-11-03T10:57:43.215Z"
   },
   {
    "duration": 4,
    "start_time": "2021-11-03T10:57:44.061Z"
   },
   {
    "duration": 5,
    "start_time": "2021-11-03T10:58:47.849Z"
   },
   {
    "duration": 5,
    "start_time": "2021-11-03T10:58:48.457Z"
   },
   {
    "duration": 1102,
    "start_time": "2021-11-03T10:59:10.007Z"
   },
   {
    "duration": 147,
    "start_time": "2021-11-03T10:59:11.112Z"
   },
   {
    "duration": 17,
    "start_time": "2021-11-03T10:59:11.261Z"
   },
   {
    "duration": 11,
    "start_time": "2021-11-03T10:59:11.280Z"
   },
   {
    "duration": 9,
    "start_time": "2021-11-03T10:59:11.293Z"
   },
   {
    "duration": 75,
    "start_time": "2021-11-03T10:59:11.304Z"
   },
   {
    "duration": 10,
    "start_time": "2021-11-03T10:59:11.381Z"
   },
   {
    "duration": 48,
    "start_time": "2021-11-03T10:59:11.393Z"
   },
   {
    "duration": 21,
    "start_time": "2021-11-03T10:59:11.444Z"
   },
   {
    "duration": 7,
    "start_time": "2021-11-03T10:59:11.467Z"
   },
   {
    "duration": 146,
    "start_time": "2021-11-03T10:59:11.476Z"
   },
   {
    "duration": 9,
    "start_time": "2021-11-03T10:59:11.624Z"
   },
   {
    "duration": 15,
    "start_time": "2021-11-03T10:59:11.635Z"
   },
   {
    "duration": 43,
    "start_time": "2021-11-03T10:59:11.664Z"
   },
   {
    "duration": 15,
    "start_time": "2021-11-03T10:59:11.709Z"
   },
   {
    "duration": 11,
    "start_time": "2021-11-03T10:59:11.725Z"
   },
   {
    "duration": 45,
    "start_time": "2021-11-03T10:59:11.764Z"
   },
   {
    "duration": 4,
    "start_time": "2021-11-03T10:59:11.812Z"
   },
   {
    "duration": 5,
    "start_time": "2021-11-03T10:59:11.818Z"
   },
   {
    "duration": 162,
    "start_time": "2021-11-03T10:59:11.825Z"
   },
   {
    "duration": 9,
    "start_time": "2021-11-03T10:59:11.990Z"
   },
   {
    "duration": 14,
    "start_time": "2021-11-03T10:59:12.001Z"
   },
   {
    "duration": 62,
    "start_time": "2021-11-03T10:59:12.016Z"
   },
   {
    "duration": 8,
    "start_time": "2021-11-03T10:59:12.080Z"
   },
   {
    "duration": 15,
    "start_time": "2021-11-03T10:59:12.090Z"
   },
   {
    "duration": 68,
    "start_time": "2021-11-03T10:59:12.107Z"
   },
   {
    "duration": 3,
    "start_time": "2021-11-03T10:59:12.181Z"
   },
   {
    "duration": 21,
    "start_time": "2021-11-03T10:59:12.187Z"
   },
   {
    "duration": 8,
    "start_time": "2021-11-03T10:59:12.210Z"
   },
   {
    "duration": 28,
    "start_time": "2021-11-03T10:59:12.220Z"
   },
   {
    "duration": 20,
    "start_time": "2021-11-03T10:59:12.250Z"
   },
   {
    "duration": 26,
    "start_time": "2021-11-03T10:59:12.272Z"
   },
   {
    "duration": 4,
    "start_time": "2021-11-03T10:59:12.300Z"
   },
   {
    "duration": 10,
    "start_time": "2021-11-03T10:59:12.306Z"
   },
   {
    "duration": 26,
    "start_time": "2021-11-03T10:59:12.318Z"
   },
   {
    "duration": 11,
    "start_time": "2021-11-03T10:59:12.347Z"
   },
   {
    "duration": 38,
    "start_time": "2021-11-03T10:59:12.360Z"
   },
   {
    "duration": 15,
    "start_time": "2021-11-03T10:59:12.400Z"
   },
   {
    "duration": 10,
    "start_time": "2021-11-03T10:59:12.416Z"
   },
   {
    "duration": 9,
    "start_time": "2021-11-03T10:59:12.427Z"
   },
   {
    "duration": 11,
    "start_time": "2021-11-03T10:59:12.438Z"
   },
   {
    "duration": 23,
    "start_time": "2021-11-03T10:59:12.451Z"
   },
   {
    "duration": 4,
    "start_time": "2021-11-03T10:59:12.476Z"
   },
   {
    "duration": 19,
    "start_time": "2021-11-03T10:59:12.482Z"
   },
   {
    "duration": 7,
    "start_time": "2021-11-03T10:59:12.504Z"
   },
   {
    "duration": 8,
    "start_time": "2021-11-03T10:59:12.513Z"
   },
   {
    "duration": 18,
    "start_time": "2021-11-03T10:59:12.524Z"
   },
   {
    "duration": 26,
    "start_time": "2021-11-03T10:59:12.544Z"
   },
   {
    "duration": 14,
    "start_time": "2021-11-03T10:59:12.573Z"
   },
   {
    "duration": 174,
    "start_time": "2021-11-03T10:59:12.589Z"
   },
   {
    "duration": 4,
    "start_time": "2021-11-03T10:59:12.766Z"
   },
   {
    "duration": 19,
    "start_time": "2021-11-03T10:59:12.773Z"
   },
   {
    "duration": 13,
    "start_time": "2021-11-03T10:59:12.794Z"
   },
   {
    "duration": 16,
    "start_time": "2021-11-03T10:59:12.810Z"
   },
   {
    "duration": 36,
    "start_time": "2021-11-03T10:59:12.829Z"
   },
   {
    "duration": 97,
    "start_time": "2021-11-03T10:59:12.867Z"
   },
   {
    "duration": 6,
    "start_time": "2021-11-03T10:59:12.968Z"
   },
   {
    "duration": 18,
    "start_time": "2021-11-03T10:59:12.977Z"
   },
   {
    "duration": 5,
    "start_time": "2021-11-03T10:59:13.065Z"
   },
   {
    "duration": 14,
    "start_time": "2021-11-03T10:59:13.072Z"
   },
   {
    "duration": 89,
    "start_time": "2021-11-03T10:59:13.089Z"
   },
   {
    "duration": 6,
    "start_time": "2021-11-03T10:59:13.264Z"
   },
   {
    "duration": 9,
    "start_time": "2021-11-03T10:59:13.272Z"
   },
   {
    "duration": 12,
    "start_time": "2021-11-03T10:59:13.284Z"
   },
   {
    "duration": 5,
    "start_time": "2021-11-03T11:30:38.794Z"
   },
   {
    "duration": 4,
    "start_time": "2021-11-03T11:36:31.948Z"
   },
   {
    "duration": 4,
    "start_time": "2021-11-03T11:42:15.646Z"
   },
   {
    "duration": 3,
    "start_time": "2021-11-03T12:42:40.660Z"
   },
   {
    "duration": 3,
    "start_time": "2021-11-03T12:46:07.140Z"
   },
   {
    "duration": 3,
    "start_time": "2021-11-03T12:46:32.833Z"
   },
   {
    "duration": 3,
    "start_time": "2021-11-03T12:48:06.942Z"
   },
   {
    "duration": 4,
    "start_time": "2021-11-03T12:49:02.834Z"
   },
   {
    "duration": 3,
    "start_time": "2021-11-03T12:50:46.573Z"
   },
   {
    "duration": 4,
    "start_time": "2021-11-03T12:51:35.465Z"
   },
   {
    "duration": 3,
    "start_time": "2021-11-03T12:55:38.540Z"
   },
   {
    "duration": 4,
    "start_time": "2021-11-03T12:55:39.144Z"
   },
   {
    "duration": 3,
    "start_time": "2021-11-03T12:55:39.747Z"
   },
   {
    "duration": 3,
    "start_time": "2021-11-03T12:55:40.293Z"
   },
   {
    "duration": 3,
    "start_time": "2021-11-03T12:55:40.912Z"
   },
   {
    "duration": 4,
    "start_time": "2021-11-03T12:55:41.562Z"
   },
   {
    "duration": 1179,
    "start_time": "2021-11-03T13:05:14.036Z"
   },
   {
    "duration": 149,
    "start_time": "2021-11-03T13:05:15.217Z"
   },
   {
    "duration": 18,
    "start_time": "2021-11-03T13:05:15.369Z"
   },
   {
    "duration": 13,
    "start_time": "2021-11-03T13:05:15.390Z"
   },
   {
    "duration": 10,
    "start_time": "2021-11-03T13:05:15.405Z"
   },
   {
    "duration": 76,
    "start_time": "2021-11-03T13:05:15.417Z"
   },
   {
    "duration": 11,
    "start_time": "2021-11-03T13:05:15.496Z"
   },
   {
    "duration": 76,
    "start_time": "2021-11-03T13:05:15.509Z"
   },
   {
    "duration": 4,
    "start_time": "2021-11-03T13:05:15.589Z"
   },
   {
    "duration": 17,
    "start_time": "2021-11-03T13:05:15.596Z"
   },
   {
    "duration": 149,
    "start_time": "2021-11-03T13:05:15.615Z"
   },
   {
    "duration": 10,
    "start_time": "2021-11-03T13:05:15.766Z"
   },
   {
    "duration": 14,
    "start_time": "2021-11-03T13:05:15.779Z"
   },
   {
    "duration": 41,
    "start_time": "2021-11-03T13:05:15.795Z"
   },
   {
    "duration": 17,
    "start_time": "2021-11-03T13:05:15.863Z"
   },
   {
    "duration": 11,
    "start_time": "2021-11-03T13:05:15.882Z"
   },
   {
    "duration": 74,
    "start_time": "2021-11-03T13:05:15.895Z"
   },
   {
    "duration": 4,
    "start_time": "2021-11-03T13:05:15.970Z"
   },
   {
    "duration": 9,
    "start_time": "2021-11-03T13:05:15.975Z"
   },
   {
    "duration": 154,
    "start_time": "2021-11-03T13:05:15.986Z"
   },
   {
    "duration": 9,
    "start_time": "2021-11-03T13:05:16.142Z"
   },
   {
    "duration": 20,
    "start_time": "2021-11-03T13:05:16.153Z"
   },
   {
    "duration": 36,
    "start_time": "2021-11-03T13:05:16.175Z"
   },
   {
    "duration": 8,
    "start_time": "2021-11-03T13:05:16.213Z"
   },
   {
    "duration": 18,
    "start_time": "2021-11-03T13:05:16.223Z"
   },
   {
    "duration": 47,
    "start_time": "2021-11-03T13:05:16.263Z"
   },
   {
    "duration": 4,
    "start_time": "2021-11-03T13:05:16.314Z"
   },
   {
    "duration": 11,
    "start_time": "2021-11-03T13:05:16.321Z"
   },
   {
    "duration": 6,
    "start_time": "2021-11-03T13:05:16.334Z"
   },
   {
    "duration": 24,
    "start_time": "2021-11-03T13:05:16.342Z"
   },
   {
    "duration": 7,
    "start_time": "2021-11-03T13:05:16.368Z"
   },
   {
    "duration": 21,
    "start_time": "2021-11-03T13:05:16.377Z"
   },
   {
    "duration": 4,
    "start_time": "2021-11-03T13:05:16.400Z"
   },
   {
    "duration": 16,
    "start_time": "2021-11-03T13:05:16.406Z"
   },
   {
    "duration": 8,
    "start_time": "2021-11-03T13:05:16.424Z"
   },
   {
    "duration": 8,
    "start_time": "2021-11-03T13:05:16.434Z"
   },
   {
    "duration": 34,
    "start_time": "2021-11-03T13:05:16.444Z"
   },
   {
    "duration": 4,
    "start_time": "2021-11-03T13:05:16.480Z"
   },
   {
    "duration": 11,
    "start_time": "2021-11-03T13:05:16.485Z"
   },
   {
    "duration": 12,
    "start_time": "2021-11-03T13:05:16.498Z"
   },
   {
    "duration": 16,
    "start_time": "2021-11-03T13:05:16.511Z"
   },
   {
    "duration": 22,
    "start_time": "2021-11-03T13:05:16.529Z"
   },
   {
    "duration": 12,
    "start_time": "2021-11-03T13:05:16.553Z"
   },
   {
    "duration": 6,
    "start_time": "2021-11-03T13:05:16.567Z"
   },
   {
    "duration": 8,
    "start_time": "2021-11-03T13:05:16.575Z"
   },
   {
    "duration": 9,
    "start_time": "2021-11-03T13:05:16.585Z"
   },
   {
    "duration": 16,
    "start_time": "2021-11-03T13:05:16.595Z"
   },
   {
    "duration": 10,
    "start_time": "2021-11-03T13:05:16.613Z"
   },
   {
    "duration": 14,
    "start_time": "2021-11-03T13:05:16.624Z"
   },
   {
    "duration": 33,
    "start_time": "2021-11-03T13:05:16.640Z"
   },
   {
    "duration": 8,
    "start_time": "2021-11-03T13:05:16.765Z"
   },
   {
    "duration": 9,
    "start_time": "2021-11-03T13:05:16.864Z"
   },
   {
    "duration": 10,
    "start_time": "2021-11-03T13:05:16.875Z"
   },
   {
    "duration": 7,
    "start_time": "2021-11-03T13:05:16.886Z"
   },
   {
    "duration": 7,
    "start_time": "2021-11-03T13:05:16.895Z"
   },
   {
    "duration": 66,
    "start_time": "2021-11-03T13:05:16.905Z"
   },
   {
    "duration": 93,
    "start_time": "2021-11-03T13:05:16.974Z"
   },
   {
    "duration": 7,
    "start_time": "2021-11-03T13:05:17.070Z"
   },
   {
    "duration": 11,
    "start_time": "2021-11-03T13:05:17.079Z"
   },
   {
    "duration": 10,
    "start_time": "2021-11-03T13:05:17.092Z"
   },
   {
    "duration": 62,
    "start_time": "2021-11-03T13:05:17.105Z"
   },
   {
    "duration": 96,
    "start_time": "2021-11-03T13:05:17.170Z"
   },
   {
    "duration": 7,
    "start_time": "2021-11-03T13:05:17.268Z"
   },
   {
    "duration": 5,
    "start_time": "2021-11-03T13:05:17.277Z"
   },
   {
    "duration": 7,
    "start_time": "2021-11-03T13:05:17.284Z"
   },
   {
    "duration": 9,
    "start_time": "2021-11-03T13:05:17.292Z"
   },
   {
    "duration": 8,
    "start_time": "2021-11-03T13:05:17.303Z"
   },
   {
    "duration": 10,
    "start_time": "2021-11-03T13:05:17.313Z"
   },
   {
    "duration": 8,
    "start_time": "2021-11-03T13:05:17.325Z"
   },
   {
    "duration": 8,
    "start_time": "2021-11-03T13:05:17.335Z"
   },
   {
    "duration": 19,
    "start_time": "2021-11-03T13:05:17.345Z"
   },
   {
    "duration": 4,
    "start_time": "2021-11-03T13:35:26.158Z"
   },
   {
    "duration": 4,
    "start_time": "2021-11-03T13:35:51.944Z"
   },
   {
    "duration": 4,
    "start_time": "2021-11-03T13:36:17.118Z"
   },
   {
    "duration": 4,
    "start_time": "2021-11-03T13:36:30.267Z"
   },
   {
    "duration": 4,
    "start_time": "2021-11-03T13:38:16.994Z"
   },
   {
    "duration": 4,
    "start_time": "2021-11-03T13:38:43.919Z"
   },
   {
    "duration": 5,
    "start_time": "2021-11-03T13:39:06.894Z"
   },
   {
    "duration": 80,
    "start_time": "2021-11-03T13:41:49.654Z"
   },
   {
    "duration": 4,
    "start_time": "2021-11-03T13:42:22.828Z"
   },
   {
    "duration": 83,
    "start_time": "2021-11-03T13:42:55.622Z"
   },
   {
    "duration": 79,
    "start_time": "2021-11-03T13:43:01.861Z"
   },
   {
    "duration": 3,
    "start_time": "2021-11-03T13:43:11.801Z"
   },
   {
    "duration": 4,
    "start_time": "2021-11-03T13:43:29.081Z"
   },
   {
    "duration": 4,
    "start_time": "2021-11-03T13:43:51.300Z"
   },
   {
    "duration": 5,
    "start_time": "2021-11-03T13:44:00.087Z"
   },
   {
    "duration": 4,
    "start_time": "2021-11-03T13:44:16.983Z"
   },
   {
    "duration": 5,
    "start_time": "2021-11-03T13:44:30.169Z"
   },
   {
    "duration": 4,
    "start_time": "2021-11-03T14:03:11.916Z"
   },
   {
    "duration": 3,
    "start_time": "2021-11-03T14:22:22.734Z"
   },
   {
    "duration": 4,
    "start_time": "2021-11-03T14:26:30.621Z"
   },
   {
    "duration": 333,
    "start_time": "2021-11-03T14:27:35.165Z"
   },
   {
    "duration": 4,
    "start_time": "2021-11-03T14:31:22.915Z"
   },
   {
    "duration": 249,
    "start_time": "2021-11-03T14:32:28.980Z"
   },
   {
    "duration": 3,
    "start_time": "2021-11-03T14:32:34.031Z"
   },
   {
    "duration": 12,
    "start_time": "2021-11-03T14:32:34.976Z"
   },
   {
    "duration": 3,
    "start_time": "2021-11-03T14:33:10.068Z"
   },
   {
    "duration": 11,
    "start_time": "2021-11-03T14:33:11.035Z"
   },
   {
    "duration": 3,
    "start_time": "2021-11-03T14:34:04.704Z"
   },
   {
    "duration": 13,
    "start_time": "2021-11-03T14:34:06.304Z"
   },
   {
    "duration": 4,
    "start_time": "2021-11-03T14:36:00.080Z"
   },
   {
    "duration": 13,
    "start_time": "2021-11-03T14:36:01.309Z"
   },
   {
    "duration": 3,
    "start_time": "2021-11-03T14:37:19.336Z"
   },
   {
    "duration": 10,
    "start_time": "2021-11-03T14:37:20.972Z"
   },
   {
    "duration": 1092,
    "start_time": "2021-11-03T14:40:25.419Z"
   },
   {
    "duration": 138,
    "start_time": "2021-11-03T14:40:26.513Z"
   },
   {
    "duration": 16,
    "start_time": "2021-11-03T14:40:26.653Z"
   },
   {
    "duration": 31,
    "start_time": "2021-11-03T14:40:26.671Z"
   },
   {
    "duration": 9,
    "start_time": "2021-11-03T14:40:26.704Z"
   },
   {
    "duration": 46,
    "start_time": "2021-11-03T14:40:26.715Z"
   },
   {
    "duration": 9,
    "start_time": "2021-11-03T14:40:26.762Z"
   },
   {
    "duration": 54,
    "start_time": "2021-11-03T14:40:26.773Z"
   },
   {
    "duration": 4,
    "start_time": "2021-11-03T14:40:26.829Z"
   },
   {
    "duration": 17,
    "start_time": "2021-11-03T14:40:26.835Z"
   },
   {
    "duration": 139,
    "start_time": "2021-11-03T14:40:26.854Z"
   },
   {
    "duration": 9,
    "start_time": "2021-11-03T14:40:26.995Z"
   },
   {
    "duration": 18,
    "start_time": "2021-11-03T14:40:27.006Z"
   },
   {
    "duration": 48,
    "start_time": "2021-11-03T14:40:27.026Z"
   },
   {
    "duration": 13,
    "start_time": "2021-11-03T14:40:27.076Z"
   },
   {
    "duration": 9,
    "start_time": "2021-11-03T14:40:27.091Z"
   },
   {
    "duration": 63,
    "start_time": "2021-11-03T14:40:27.101Z"
   },
   {
    "duration": 3,
    "start_time": "2021-11-03T14:40:27.166Z"
   },
   {
    "duration": 6,
    "start_time": "2021-11-03T14:40:27.171Z"
   },
   {
    "duration": 148,
    "start_time": "2021-11-03T14:40:27.178Z"
   },
   {
    "duration": 8,
    "start_time": "2021-11-03T14:40:27.328Z"
   },
   {
    "duration": 16,
    "start_time": "2021-11-03T14:40:27.338Z"
   },
   {
    "duration": 37,
    "start_time": "2021-11-03T14:40:27.356Z"
   },
   {
    "duration": 9,
    "start_time": "2021-11-03T14:40:27.394Z"
   },
   {
    "duration": 13,
    "start_time": "2021-11-03T14:40:27.405Z"
   },
   {
    "duration": 77,
    "start_time": "2021-11-03T14:40:27.419Z"
   },
   {
    "duration": 3,
    "start_time": "2021-11-03T14:40:27.502Z"
   },
   {
    "duration": 5,
    "start_time": "2021-11-03T14:40:27.509Z"
   },
   {
    "duration": 9,
    "start_time": "2021-11-03T14:40:27.515Z"
   },
   {
    "duration": 9,
    "start_time": "2021-11-03T14:40:27.526Z"
   },
   {
    "duration": 32,
    "start_time": "2021-11-03T14:40:27.537Z"
   },
   {
    "duration": 18,
    "start_time": "2021-11-03T14:40:27.571Z"
   },
   {
    "duration": 4,
    "start_time": "2021-11-03T14:40:27.591Z"
   },
   {
    "duration": 7,
    "start_time": "2021-11-03T14:40:27.596Z"
   },
   {
    "duration": 8,
    "start_time": "2021-11-03T14:40:27.605Z"
   },
   {
    "duration": 16,
    "start_time": "2021-11-03T14:40:27.615Z"
   },
   {
    "duration": 22,
    "start_time": "2021-11-03T14:40:27.633Z"
   },
   {
    "duration": 7,
    "start_time": "2021-11-03T14:40:27.657Z"
   },
   {
    "duration": 7,
    "start_time": "2021-11-03T14:40:27.666Z"
   },
   {
    "duration": 8,
    "start_time": "2021-11-03T14:40:27.675Z"
   },
   {
    "duration": 13,
    "start_time": "2021-11-03T14:40:27.685Z"
   },
   {
    "duration": 26,
    "start_time": "2021-11-03T14:40:27.700Z"
   },
   {
    "duration": 4,
    "start_time": "2021-11-03T14:40:27.728Z"
   },
   {
    "duration": 10,
    "start_time": "2021-11-03T14:40:27.734Z"
   },
   {
    "duration": 19,
    "start_time": "2021-11-03T14:40:27.745Z"
   },
   {
    "duration": 5,
    "start_time": "2021-11-03T14:40:27.766Z"
   },
   {
    "duration": 17,
    "start_time": "2021-11-03T14:40:27.773Z"
   },
   {
    "duration": 9,
    "start_time": "2021-11-03T14:40:27.791Z"
   },
   {
    "duration": 11,
    "start_time": "2021-11-03T14:40:27.801Z"
   },
   {
    "duration": 54,
    "start_time": "2021-11-03T14:40:27.814Z"
   },
   {
    "duration": 5,
    "start_time": "2021-11-03T14:40:27.871Z"
   },
   {
    "duration": 5,
    "start_time": "2021-11-03T14:40:27.964Z"
   },
   {
    "duration": 10,
    "start_time": "2021-11-03T14:40:27.970Z"
   },
   {
    "duration": 7,
    "start_time": "2021-11-03T14:40:27.981Z"
   },
   {
    "duration": 7,
    "start_time": "2021-11-03T14:40:27.990Z"
   },
   {
    "duration": 65,
    "start_time": "2021-11-03T14:40:27.999Z"
   },
   {
    "duration": 99,
    "start_time": "2021-11-03T14:40:28.067Z"
   },
   {
    "duration": 8,
    "start_time": "2021-11-03T14:40:28.168Z"
   },
   {
    "duration": 11,
    "start_time": "2021-11-03T14:40:28.178Z"
   },
   {
    "duration": 6,
    "start_time": "2021-11-03T14:40:28.191Z"
   },
   {
    "duration": 74,
    "start_time": "2021-11-03T14:40:28.200Z"
   },
   {
    "duration": 90,
    "start_time": "2021-11-03T14:40:28.277Z"
   },
   {
    "duration": 21,
    "start_time": "2021-11-03T14:40:28.369Z"
   },
   {
    "duration": 18,
    "start_time": "2021-11-03T14:40:28.392Z"
   },
   {
    "duration": 7,
    "start_time": "2021-11-03T14:40:28.412Z"
   },
   {
    "duration": 15,
    "start_time": "2021-11-03T14:40:28.421Z"
   },
   {
    "duration": 13,
    "start_time": "2021-11-03T14:40:28.438Z"
   },
   {
    "duration": 23,
    "start_time": "2021-11-03T14:40:28.453Z"
   },
   {
    "duration": 11,
    "start_time": "2021-11-03T14:40:28.478Z"
   },
   {
    "duration": 10,
    "start_time": "2021-11-03T14:40:28.490Z"
   },
   {
    "duration": 13,
    "start_time": "2021-11-03T14:40:28.502Z"
   },
   {
    "duration": 9,
    "start_time": "2021-11-03T14:40:28.517Z"
   },
   {
    "duration": 8,
    "start_time": "2021-11-03T14:40:28.527Z"
   },
   {
    "duration": 9,
    "start_time": "2021-11-03T14:40:28.537Z"
   },
   {
    "duration": 10,
    "start_time": "2021-11-03T14:40:28.548Z"
   },
   {
    "duration": 16,
    "start_time": "2021-11-03T14:40:28.560Z"
   },
   {
    "duration": 689,
    "start_time": "2021-11-03T14:40:28.578Z"
   },
   {
    "duration": 3,
    "start_time": "2021-11-03T14:41:02.992Z"
   },
   {
    "duration": 10,
    "start_time": "2021-11-03T14:41:04.870Z"
   },
   {
    "duration": 248,
    "start_time": "2021-11-03T14:41:07.358Z"
   },
   {
    "duration": 79,
    "start_time": "2021-11-03T14:42:55.221Z"
   },
   {
    "duration": 1113,
    "start_time": "2021-11-03T14:43:07.880Z"
   },
   {
    "duration": 143,
    "start_time": "2021-11-03T14:43:10.108Z"
   },
   {
    "duration": 14,
    "start_time": "2021-11-03T14:43:10.670Z"
   },
   {
    "duration": 13,
    "start_time": "2021-11-03T14:43:11.015Z"
   },
   {
    "duration": 9,
    "start_time": "2021-11-03T14:43:11.224Z"
   },
   {
    "duration": 43,
    "start_time": "2021-11-03T14:43:11.447Z"
   },
   {
    "duration": 11,
    "start_time": "2021-11-03T14:43:11.679Z"
   },
   {
    "duration": 48,
    "start_time": "2021-11-03T14:43:11.971Z"
   },
   {
    "duration": 4,
    "start_time": "2021-11-03T14:43:12.143Z"
   },
   {
    "duration": 4,
    "start_time": "2021-11-03T14:43:12.344Z"
   },
   {
    "duration": 142,
    "start_time": "2021-11-03T14:43:12.982Z"
   },
   {
    "duration": 11,
    "start_time": "2021-11-03T14:43:13.167Z"
   },
   {
    "duration": 12,
    "start_time": "2021-11-03T14:43:13.353Z"
   },
   {
    "duration": 41,
    "start_time": "2021-11-03T14:43:13.558Z"
   },
   {
    "duration": 14,
    "start_time": "2021-11-03T14:43:13.750Z"
   },
   {
    "duration": 11,
    "start_time": "2021-11-03T14:43:13.941Z"
   },
   {
    "duration": 43,
    "start_time": "2021-11-03T14:43:14.144Z"
   },
   {
    "duration": 4,
    "start_time": "2021-11-03T14:43:14.333Z"
   },
   {
    "duration": 4,
    "start_time": "2021-11-03T14:43:14.536Z"
   },
   {
    "duration": 139,
    "start_time": "2021-11-03T14:43:15.121Z"
   },
   {
    "duration": 9,
    "start_time": "2021-11-03T14:43:15.327Z"
   },
   {
    "duration": 11,
    "start_time": "2021-11-03T14:43:15.536Z"
   },
   {
    "duration": 40,
    "start_time": "2021-11-03T14:43:15.746Z"
   },
   {
    "duration": 9,
    "start_time": "2021-11-03T14:43:15.951Z"
   },
   {
    "duration": 16,
    "start_time": "2021-11-03T14:43:16.169Z"
   },
   {
    "duration": 58,
    "start_time": "2021-11-03T14:43:16.360Z"
   },
   {
    "duration": 6,
    "start_time": "2021-11-03T14:43:16.765Z"
   },
   {
    "duration": 4,
    "start_time": "2021-11-03T14:43:16.952Z"
   },
   {
    "duration": 6,
    "start_time": "2021-11-03T14:43:17.778Z"
   },
   {
    "duration": 5,
    "start_time": "2021-11-03T14:43:18.006Z"
   },
   {
    "duration": 5,
    "start_time": "2021-11-03T14:43:18.552Z"
   },
   {
    "duration": 20,
    "start_time": "2021-11-03T14:43:19.068Z"
   },
   {
    "duration": 4,
    "start_time": "2021-11-03T14:43:19.311Z"
   },
   {
    "duration": 4,
    "start_time": "2021-11-03T14:43:19.545Z"
   },
   {
    "duration": 5,
    "start_time": "2021-11-03T14:43:19.768Z"
   },
   {
    "duration": 4,
    "start_time": "2021-11-03T14:43:19.983Z"
   },
   {
    "duration": 19,
    "start_time": "2021-11-03T14:43:20.392Z"
   },
   {
    "duration": 5,
    "start_time": "2021-11-03T14:43:20.587Z"
   },
   {
    "duration": 3,
    "start_time": "2021-11-03T14:43:20.782Z"
   },
   {
    "duration": 5,
    "start_time": "2021-11-03T14:43:20.988Z"
   },
   {
    "duration": 5,
    "start_time": "2021-11-03T14:43:21.166Z"
   },
   {
    "duration": 19,
    "start_time": "2021-11-03T14:43:21.558Z"
   },
   {
    "duration": 4,
    "start_time": "2021-11-03T14:43:21.736Z"
   },
   {
    "duration": 4,
    "start_time": "2021-11-03T14:43:21.918Z"
   },
   {
    "duration": 5,
    "start_time": "2021-11-03T14:43:22.110Z"
   },
   {
    "duration": 3,
    "start_time": "2021-11-03T14:43:22.294Z"
   },
   {
    "duration": 13,
    "start_time": "2021-11-03T14:43:22.860Z"
   },
   {
    "duration": 9,
    "start_time": "2021-11-03T14:43:23.255Z"
   },
   {
    "duration": 9,
    "start_time": "2021-11-03T14:43:23.634Z"
   },
   {
    "duration": 6,
    "start_time": "2021-11-03T14:43:24.285Z"
   },
   {
    "duration": 5,
    "start_time": "2021-11-03T14:43:24.464Z"
   },
   {
    "duration": 5,
    "start_time": "2021-11-03T14:43:24.684Z"
   },
   {
    "duration": 6,
    "start_time": "2021-11-03T14:43:24.864Z"
   },
   {
    "duration": 4,
    "start_time": "2021-11-03T14:43:25.069Z"
   },
   {
    "duration": 7,
    "start_time": "2021-11-03T14:43:25.475Z"
   },
   {
    "duration": 4,
    "start_time": "2021-11-03T14:43:25.683Z"
   },
   {
    "duration": 5,
    "start_time": "2021-11-03T14:43:25.995Z"
   },
   {
    "duration": 4,
    "start_time": "2021-11-03T14:43:26.308Z"
   },
   {
    "duration": 4,
    "start_time": "2021-11-03T14:43:26.514Z"
   },
   {
    "duration": 7,
    "start_time": "2021-11-03T14:43:26.993Z"
   },
   {
    "duration": 5,
    "start_time": "2021-11-03T14:43:27.226Z"
   },
   {
    "duration": 5,
    "start_time": "2021-11-03T14:43:27.451Z"
   },
   {
    "duration": 4,
    "start_time": "2021-11-03T14:43:27.667Z"
   },
   {
    "duration": 3,
    "start_time": "2021-11-03T14:43:27.858Z"
   },
   {
    "duration": 2,
    "start_time": "2021-11-03T14:43:28.695Z"
   },
   {
    "duration": 3,
    "start_time": "2021-11-03T14:43:29.308Z"
   },
   {
    "duration": 3,
    "start_time": "2021-11-03T14:43:29.706Z"
   },
   {
    "duration": 3,
    "start_time": "2021-11-03T14:43:29.941Z"
   },
   {
    "duration": 3,
    "start_time": "2021-11-03T14:43:30.185Z"
   },
   {
    "duration": 3,
    "start_time": "2021-11-03T14:43:30.442Z"
   },
   {
    "duration": 3,
    "start_time": "2021-11-03T14:43:30.775Z"
   },
   {
    "duration": 4,
    "start_time": "2021-11-03T14:43:32.282Z"
   },
   {
    "duration": 4,
    "start_time": "2021-11-03T14:43:32.797Z"
   },
   {
    "duration": 3,
    "start_time": "2021-11-03T14:43:33.244Z"
   },
   {
    "duration": 4,
    "start_time": "2021-11-03T14:43:34.085Z"
   },
   {
    "duration": 15,
    "start_time": "2021-11-03T14:43:35.075Z"
   },
   {
    "duration": 3,
    "start_time": "2021-11-03T14:43:44.686Z"
   },
   {
    "duration": 10,
    "start_time": "2021-11-03T14:43:46.499Z"
   },
   {
    "duration": 4,
    "start_time": "2021-11-03T14:44:56.829Z"
   },
   {
    "duration": 3,
    "start_time": "2021-11-03T14:46:00.243Z"
   },
   {
    "duration": 3,
    "start_time": "2021-11-03T14:46:01.776Z"
   },
   {
    "duration": 3,
    "start_time": "2021-11-03T14:46:02.496Z"
   },
   {
    "duration": 3,
    "start_time": "2021-11-03T14:46:03.215Z"
   },
   {
    "duration": 4,
    "start_time": "2021-11-03T14:46:03.805Z"
   },
   {
    "duration": 3,
    "start_time": "2021-11-03T14:46:04.467Z"
   },
   {
    "duration": 3,
    "start_time": "2021-11-03T14:46:04.934Z"
   },
   {
    "duration": 4,
    "start_time": "2021-11-03T14:46:15.474Z"
   },
   {
    "duration": 4,
    "start_time": "2021-11-03T14:46:17.735Z"
   },
   {
    "duration": 4,
    "start_time": "2021-11-03T14:46:18.503Z"
   },
   {
    "duration": 4,
    "start_time": "2021-11-03T14:46:19.992Z"
   },
   {
    "duration": 3,
    "start_time": "2021-11-03T14:46:21.813Z"
   },
   {
    "duration": 10,
    "start_time": "2021-11-03T14:46:24.104Z"
   },
   {
    "duration": 447,
    "start_time": "2021-11-03T14:50:20.041Z"
   },
   {
    "duration": 586,
    "start_time": "2021-11-03T14:51:38.092Z"
   },
   {
    "duration": 403,
    "start_time": "2021-11-03T14:51:46.753Z"
   },
   {
    "duration": 487,
    "start_time": "2021-11-03T14:51:53.825Z"
   },
   {
    "duration": 406,
    "start_time": "2021-11-03T14:52:09.036Z"
   },
   {
    "duration": 413,
    "start_time": "2021-11-03T14:52:24.514Z"
   },
   {
    "duration": 593,
    "start_time": "2021-11-03T14:53:37.036Z"
   },
   {
    "duration": 572,
    "start_time": "2021-11-03T14:53:48.563Z"
   },
   {
    "duration": 12,
    "start_time": "2021-11-03T14:54:45.869Z"
   },
   {
    "duration": 4,
    "start_time": "2021-11-03T15:06:40.206Z"
   },
   {
    "duration": 4,
    "start_time": "2021-11-03T15:06:44.001Z"
   },
   {
    "duration": 351,
    "start_time": "2021-11-03T15:06:45.458Z"
   },
   {
    "duration": 86,
    "start_time": "2021-11-03T15:07:12.487Z"
   },
   {
    "duration": 11,
    "start_time": "2021-11-03T15:07:17.504Z"
   },
   {
    "duration": 86,
    "start_time": "2021-11-03T15:07:24.275Z"
   },
   {
    "duration": 10,
    "start_time": "2021-11-03T15:07:26.623Z"
   },
   {
    "duration": 4,
    "start_time": "2021-11-03T15:07:34.092Z"
   },
   {
    "duration": 265,
    "start_time": "2021-11-03T15:07:36.095Z"
   },
   {
    "duration": 12,
    "start_time": "2021-11-03T15:07:43.421Z"
   },
   {
    "duration": 886,
    "start_time": "2021-11-03T15:07:55.091Z"
   },
   {
    "duration": 6,
    "start_time": "2021-11-03T15:08:35.772Z"
   },
   {
    "duration": 9,
    "start_time": "2021-11-03T15:09:01.774Z"
   },
   {
    "duration": 10,
    "start_time": "2021-11-03T15:09:20.134Z"
   },
   {
    "duration": 4,
    "start_time": "2021-11-03T15:10:44.611Z"
   },
   {
    "duration": 12,
    "start_time": "2021-11-03T15:10:46.384Z"
   },
   {
    "duration": 4,
    "start_time": "2021-11-03T15:11:18.295Z"
   },
   {
    "duration": 11,
    "start_time": "2021-11-03T15:11:19.794Z"
   },
   {
    "duration": 12,
    "start_time": "2021-11-03T15:11:45.288Z"
   },
   {
    "duration": 639,
    "start_time": "2021-11-03T15:12:26.957Z"
   },
   {
    "duration": 12,
    "start_time": "2021-11-03T15:13:21.511Z"
   },
   {
    "duration": 703,
    "start_time": "2021-11-03T15:15:43.574Z"
   },
   {
    "duration": 263,
    "start_time": "2021-11-03T15:21:04.217Z"
   },
   {
    "duration": 780,
    "start_time": "2021-11-03T15:21:25.497Z"
   },
   {
    "duration": 668,
    "start_time": "2021-11-03T15:22:48.459Z"
   },
   {
    "duration": 894,
    "start_time": "2021-11-03T15:22:58.281Z"
   },
   {
    "duration": 945,
    "start_time": "2021-11-03T15:23:11.251Z"
   },
   {
    "duration": 1139,
    "start_time": "2021-11-03T15:23:30.981Z"
   },
   {
    "duration": 500,
    "start_time": "2021-11-03T15:23:37.214Z"
   },
   {
    "duration": 436,
    "start_time": "2021-11-03T15:23:43.872Z"
   },
   {
    "duration": 984,
    "start_time": "2021-11-03T15:24:01.924Z"
   },
   {
    "duration": 666,
    "start_time": "2021-11-03T15:24:27.600Z"
   },
   {
    "duration": 504,
    "start_time": "2021-11-03T15:24:32.645Z"
   },
   {
    "duration": 559,
    "start_time": "2021-11-03T15:24:37.573Z"
   },
   {
    "duration": 695,
    "start_time": "2021-11-03T15:24:45.992Z"
   },
   {
    "duration": 1177,
    "start_time": "2021-11-03T15:41:05.430Z"
   },
   {
    "duration": 139,
    "start_time": "2021-11-03T15:41:07.345Z"
   },
   {
    "duration": 14,
    "start_time": "2021-11-03T15:41:07.652Z"
   },
   {
    "duration": 12,
    "start_time": "2021-11-03T15:41:07.861Z"
   },
   {
    "duration": 11,
    "start_time": "2021-11-03T15:41:08.045Z"
   },
   {
    "duration": 43,
    "start_time": "2021-11-03T15:41:08.246Z"
   },
   {
    "duration": 11,
    "start_time": "2021-11-03T15:41:08.423Z"
   },
   {
    "duration": 46,
    "start_time": "2021-11-03T15:41:08.604Z"
   },
   {
    "duration": 4,
    "start_time": "2021-11-03T15:41:08.789Z"
   },
   {
    "duration": 5,
    "start_time": "2021-11-03T15:41:08.979Z"
   },
   {
    "duration": 139,
    "start_time": "2021-11-03T15:41:09.554Z"
   },
   {
    "duration": 9,
    "start_time": "2021-11-03T15:41:09.815Z"
   },
   {
    "duration": 12,
    "start_time": "2021-11-03T15:41:10.383Z"
   },
   {
    "duration": 39,
    "start_time": "2021-11-03T15:41:10.707Z"
   },
   {
    "duration": 14,
    "start_time": "2021-11-03T15:41:11.239Z"
   },
   {
    "duration": 11,
    "start_time": "2021-11-03T15:41:11.453Z"
   },
   {
    "duration": 45,
    "start_time": "2021-11-03T15:41:11.674Z"
   },
   {
    "duration": 4,
    "start_time": "2021-11-03T15:41:12.058Z"
   },
   {
    "duration": 5,
    "start_time": "2021-11-03T15:41:12.338Z"
   },
   {
    "duration": 215,
    "start_time": "2021-11-03T15:41:16.203Z"
   },
   {
    "duration": 11,
    "start_time": "2021-11-03T15:41:17.196Z"
   },
   {
    "duration": 12,
    "start_time": "2021-11-03T15:41:17.629Z"
   },
   {
    "duration": 40,
    "start_time": "2021-11-03T15:41:17.818Z"
   },
   {
    "duration": 10,
    "start_time": "2021-11-03T15:41:17.997Z"
   },
   {
    "duration": 11,
    "start_time": "2021-11-03T15:41:18.189Z"
   },
   {
    "duration": 49,
    "start_time": "2021-11-03T15:41:18.397Z"
   },
   {
    "duration": 5,
    "start_time": "2021-11-03T15:41:18.811Z"
   },
   {
    "duration": 4,
    "start_time": "2021-11-03T15:41:20.388Z"
   },
   {
    "duration": 6,
    "start_time": "2021-11-03T15:41:22.393Z"
   },
   {
    "duration": 5,
    "start_time": "2021-11-03T15:41:22.609Z"
   },
   {
    "duration": 5,
    "start_time": "2021-11-03T15:41:23.109Z"
   },
   {
    "duration": 16,
    "start_time": "2021-11-03T15:41:24.412Z"
   },
   {
    "duration": 4,
    "start_time": "2021-11-03T15:41:25.206Z"
   },
   {
    "duration": 4,
    "start_time": "2021-11-03T15:41:25.575Z"
   },
   {
    "duration": 4,
    "start_time": "2021-11-03T15:41:25.881Z"
   },
   {
    "duration": 4,
    "start_time": "2021-11-03T15:41:26.093Z"
   },
   {
    "duration": 17,
    "start_time": "2021-11-03T15:41:26.568Z"
   },
   {
    "duration": 5,
    "start_time": "2021-11-03T15:41:26.859Z"
   },
   {
    "duration": 4,
    "start_time": "2021-11-03T15:41:27.123Z"
   },
   {
    "duration": 5,
    "start_time": "2021-11-03T15:41:27.563Z"
   },
   {
    "duration": 4,
    "start_time": "2021-11-03T15:41:27.923Z"
   },
   {
    "duration": 20,
    "start_time": "2021-11-03T15:41:28.409Z"
   },
   {
    "duration": 5,
    "start_time": "2021-11-03T15:41:28.606Z"
   },
   {
    "duration": 4,
    "start_time": "2021-11-03T15:41:28.806Z"
   },
   {
    "duration": 4,
    "start_time": "2021-11-03T15:41:29.020Z"
   },
   {
    "duration": 4,
    "start_time": "2021-11-03T15:41:29.207Z"
   },
   {
    "duration": 13,
    "start_time": "2021-11-03T15:41:30.453Z"
   },
   {
    "duration": 10,
    "start_time": "2021-11-03T15:41:30.996Z"
   },
   {
    "duration": 9,
    "start_time": "2021-11-03T15:41:31.571Z"
   },
   {
    "duration": 4,
    "start_time": "2021-11-03T15:41:32.759Z"
   },
   {
    "duration": 4,
    "start_time": "2021-11-03T15:41:32.964Z"
   },
   {
    "duration": 4,
    "start_time": "2021-11-03T15:41:33.168Z"
   },
   {
    "duration": 5,
    "start_time": "2021-11-03T15:41:33.383Z"
   },
   {
    "duration": 4,
    "start_time": "2021-11-03T15:41:33.611Z"
   },
   {
    "duration": 569,
    "start_time": "2021-11-03T15:41:33.793Z"
   },
   {
    "duration": 8,
    "start_time": "2021-11-03T15:41:34.699Z"
   },
   {
    "duration": 5,
    "start_time": "2021-11-03T15:41:35.282Z"
   },
   {
    "duration": 5,
    "start_time": "2021-11-03T15:41:35.619Z"
   },
   {
    "duration": 5,
    "start_time": "2021-11-03T15:41:35.841Z"
   },
   {
    "duration": 5,
    "start_time": "2021-11-03T15:41:36.069Z"
   },
   {
    "duration": 415,
    "start_time": "2021-11-03T15:41:36.274Z"
   },
   {
    "duration": 7,
    "start_time": "2021-11-03T15:41:37.088Z"
   },
   {
    "duration": 5,
    "start_time": "2021-11-03T15:41:37.657Z"
   },
   {
    "duration": 5,
    "start_time": "2021-11-03T15:41:37.863Z"
   },
   {
    "duration": 5,
    "start_time": "2021-11-03T15:41:38.073Z"
   },
   {
    "duration": 4,
    "start_time": "2021-11-03T15:41:38.282Z"
   },
   {
    "duration": 583,
    "start_time": "2021-11-03T15:41:38.486Z"
   },
   {
    "duration": 3,
    "start_time": "2021-11-03T15:41:43.299Z"
   },
   {
    "duration": 3,
    "start_time": "2021-11-03T15:41:48.614Z"
   },
   {
    "duration": 4,
    "start_time": "2021-11-03T15:41:51.773Z"
   },
   {
    "duration": 3,
    "start_time": "2021-11-03T15:41:52.504Z"
   },
   {
    "duration": 4,
    "start_time": "2021-11-03T15:41:53.089Z"
   },
   {
    "duration": 3,
    "start_time": "2021-11-03T15:41:53.755Z"
   },
   {
    "duration": 4,
    "start_time": "2021-11-03T15:41:54.393Z"
   },
   {
    "duration": 5,
    "start_time": "2021-11-03T15:41:55.413Z"
   },
   {
    "duration": 4,
    "start_time": "2021-11-03T15:41:55.982Z"
   },
   {
    "duration": 4,
    "start_time": "2021-11-03T15:41:56.469Z"
   },
   {
    "duration": 4,
    "start_time": "2021-11-03T15:41:57.693Z"
   },
   {
    "duration": 12,
    "start_time": "2021-11-03T15:41:59.029Z"
   },
   {
    "duration": 745,
    "start_time": "2021-11-03T15:42:00.981Z"
   },
   {
    "duration": 13,
    "start_time": "2021-11-03T15:42:02.305Z"
   },
   {
    "duration": 639,
    "start_time": "2021-11-03T15:42:02.527Z"
   },
   {
    "duration": 12,
    "start_time": "2021-11-03T15:42:03.482Z"
   },
   {
    "duration": 668,
    "start_time": "2021-11-03T15:42:04.316Z"
   },
   {
    "duration": 336,
    "start_time": "2021-11-03T16:16:27.855Z"
   },
   {
    "duration": 4,
    "start_time": "2021-11-03T16:16:32.664Z"
   },
   {
    "duration": 11,
    "start_time": "2021-11-03T16:16:34.365Z"
   },
   {
    "duration": 11,
    "start_time": "2021-11-03T16:16:45.492Z"
   },
   {
    "duration": 11,
    "start_time": "2021-11-03T16:16:54.224Z"
   },
   {
    "duration": 4,
    "start_time": "2021-11-03T16:19:06.364Z"
   },
   {
    "duration": 11,
    "start_time": "2021-11-03T16:19:07.762Z"
   },
   {
    "duration": 766,
    "start_time": "2021-11-03T16:19:08.641Z"
   },
   {
    "duration": 12,
    "start_time": "2021-11-03T16:19:09.409Z"
   },
   {
    "duration": 637,
    "start_time": "2021-11-03T16:19:09.610Z"
   },
   {
    "duration": 20,
    "start_time": "2021-11-03T16:19:10.249Z"
   },
   {
    "duration": 643,
    "start_time": "2021-11-03T16:19:10.731Z"
   },
   {
    "duration": 5,
    "start_time": "2021-11-03T18:00:29.600Z"
   },
   {
    "duration": 1124,
    "start_time": "2021-11-03T18:01:04.681Z"
   },
   {
    "duration": 141,
    "start_time": "2021-11-03T18:01:05.869Z"
   },
   {
    "duration": 13,
    "start_time": "2021-11-03T18:01:06.740Z"
   },
   {
    "duration": 12,
    "start_time": "2021-11-03T18:01:06.954Z"
   },
   {
    "duration": 11,
    "start_time": "2021-11-03T18:01:07.163Z"
   },
   {
    "duration": 42,
    "start_time": "2021-11-03T18:01:07.355Z"
   },
   {
    "duration": 10,
    "start_time": "2021-11-03T18:01:07.573Z"
   },
   {
    "duration": 48,
    "start_time": "2021-11-03T18:01:07.788Z"
   },
   {
    "duration": 4,
    "start_time": "2021-11-03T18:01:07.995Z"
   },
   {
    "duration": 4,
    "start_time": "2021-11-03T18:01:08.203Z"
   },
   {
    "duration": 137,
    "start_time": "2021-11-03T18:01:08.852Z"
   },
   {
    "duration": 9,
    "start_time": "2021-11-03T18:01:09.079Z"
   },
   {
    "duration": 14,
    "start_time": "2021-11-03T18:01:09.276Z"
   },
   {
    "duration": 41,
    "start_time": "2021-11-03T18:01:09.475Z"
   },
   {
    "duration": 15,
    "start_time": "2021-11-03T18:01:09.699Z"
   },
   {
    "duration": 13,
    "start_time": "2021-11-03T18:01:09.883Z"
   },
   {
    "duration": 47,
    "start_time": "2021-11-03T18:01:10.067Z"
   },
   {
    "duration": 4,
    "start_time": "2021-11-03T18:01:10.251Z"
   },
   {
    "duration": 5,
    "start_time": "2021-11-03T18:01:10.452Z"
   },
   {
    "duration": 142,
    "start_time": "2021-11-03T18:01:11.021Z"
   },
   {
    "duration": 10,
    "start_time": "2021-11-03T18:01:11.189Z"
   },
   {
    "duration": 11,
    "start_time": "2021-11-03T18:01:11.411Z"
   },
   {
    "duration": 40,
    "start_time": "2021-11-03T18:01:11.594Z"
   },
   {
    "duration": 10,
    "start_time": "2021-11-03T18:01:11.818Z"
   },
   {
    "duration": 10,
    "start_time": "2021-11-03T18:01:11.972Z"
   },
   {
    "duration": 46,
    "start_time": "2021-11-03T18:01:12.181Z"
   },
   {
    "duration": 4,
    "start_time": "2021-11-03T18:01:12.587Z"
   },
   {
    "duration": 4,
    "start_time": "2021-11-03T18:01:12.778Z"
   },
   {
    "duration": 5,
    "start_time": "2021-11-03T18:01:13.610Z"
   },
   {
    "duration": 5,
    "start_time": "2021-11-03T18:01:13.892Z"
   },
   {
    "duration": 5,
    "start_time": "2021-11-03T18:01:14.360Z"
   },
   {
    "duration": 16,
    "start_time": "2021-11-03T18:01:14.886Z"
   },
   {
    "duration": 4,
    "start_time": "2021-11-03T18:01:15.175Z"
   },
   {
    "duration": 4,
    "start_time": "2021-11-03T18:01:15.534Z"
   },
   {
    "duration": 4,
    "start_time": "2021-11-03T18:01:15.740Z"
   },
   {
    "duration": 4,
    "start_time": "2021-11-03T18:01:15.965Z"
   },
   {
    "duration": 17,
    "start_time": "2021-11-03T18:01:16.585Z"
   },
   {
    "duration": 4,
    "start_time": "2021-11-03T18:01:16.789Z"
   },
   {
    "duration": 4,
    "start_time": "2021-11-03T18:01:17.028Z"
   },
   {
    "duration": 4,
    "start_time": "2021-11-03T18:01:17.253Z"
   },
   {
    "duration": 4,
    "start_time": "2021-11-03T18:01:17.501Z"
   },
   {
    "duration": 18,
    "start_time": "2021-11-03T18:01:18.258Z"
   },
   {
    "duration": 5,
    "start_time": "2021-11-03T18:01:18.910Z"
   },
   {
    "duration": 4,
    "start_time": "2021-11-03T18:01:19.466Z"
   },
   {
    "duration": 4,
    "start_time": "2021-11-03T18:01:19.754Z"
   },
   {
    "duration": 5,
    "start_time": "2021-11-03T18:01:20.007Z"
   },
   {
    "duration": 11,
    "start_time": "2021-11-03T18:01:23.795Z"
   },
   {
    "duration": 9,
    "start_time": "2021-11-03T18:01:24.196Z"
   },
   {
    "duration": 10,
    "start_time": "2021-11-03T18:01:24.748Z"
   },
   {
    "duration": 5,
    "start_time": "2021-11-03T18:01:26.415Z"
   },
   {
    "duration": 5,
    "start_time": "2021-11-03T18:01:26.621Z"
   },
   {
    "duration": 4,
    "start_time": "2021-11-03T18:01:26.841Z"
   },
   {
    "duration": 5,
    "start_time": "2021-11-03T18:01:27.053Z"
   },
   {
    "duration": 4,
    "start_time": "2021-11-03T18:01:27.256Z"
   },
   {
    "duration": 595,
    "start_time": "2021-11-03T18:01:27.467Z"
   },
   {
    "duration": 8,
    "start_time": "2021-11-03T18:01:28.486Z"
   },
   {
    "duration": 4,
    "start_time": "2021-11-03T18:01:29.099Z"
   },
   {
    "duration": 4,
    "start_time": "2021-11-03T18:01:29.505Z"
   },
   {
    "duration": 5,
    "start_time": "2021-11-03T18:01:29.745Z"
   },
   {
    "duration": 5,
    "start_time": "2021-11-03T18:01:30.307Z"
   },
   {
    "duration": 420,
    "start_time": "2021-11-03T18:01:30.789Z"
   },
   {
    "duration": 5,
    "start_time": "2021-11-03T18:01:31.570Z"
   },
   {
    "duration": 4,
    "start_time": "2021-11-03T18:01:31.853Z"
   },
   {
    "duration": 6,
    "start_time": "2021-11-03T18:01:32.125Z"
   },
   {
    "duration": 5,
    "start_time": "2021-11-03T18:01:32.482Z"
   },
   {
    "duration": 4,
    "start_time": "2021-11-03T18:01:32.746Z"
   },
   {
    "duration": 571,
    "start_time": "2021-11-03T18:01:33.174Z"
   },
   {
    "duration": 3,
    "start_time": "2021-11-03T18:01:40.009Z"
   },
   {
    "duration": 2,
    "start_time": "2021-11-03T18:01:41.643Z"
   },
   {
    "duration": 3,
    "start_time": "2021-11-03T18:01:42.312Z"
   },
   {
    "duration": 4,
    "start_time": "2021-11-03T18:01:51.554Z"
   },
   {
    "duration": 4,
    "start_time": "2021-11-03T18:01:52.210Z"
   },
   {
    "duration": 3,
    "start_time": "2021-11-03T18:01:53.057Z"
   },
   {
    "duration": 3,
    "start_time": "2021-11-03T18:02:05.189Z"
   },
   {
    "duration": 4,
    "start_time": "2021-11-03T18:02:06.143Z"
   },
   {
    "duration": 3,
    "start_time": "2021-11-03T18:02:07.224Z"
   },
   {
    "duration": 4,
    "start_time": "2021-11-03T18:02:07.780Z"
   },
   {
    "duration": 3,
    "start_time": "2021-11-03T18:02:08.272Z"
   },
   {
    "duration": 4,
    "start_time": "2021-11-03T18:02:08.578Z"
   },
   {
    "duration": 4,
    "start_time": "2021-11-03T18:02:10.618Z"
   },
   {
    "duration": 4,
    "start_time": "2021-11-03T18:02:11.387Z"
   },
   {
    "duration": 4,
    "start_time": "2021-11-03T18:02:11.728Z"
   },
   {
    "duration": 3,
    "start_time": "2021-11-03T18:02:15.033Z"
   },
   {
    "duration": 756,
    "start_time": "2021-11-03T18:02:27.666Z"
   },
   {
    "duration": 612,
    "start_time": "2021-11-03T18:02:34.090Z"
   },
   {
    "duration": 658,
    "start_time": "2021-11-03T18:02:39.675Z"
   },
   {
    "duration": 89,
    "start_time": "2021-11-03T18:15:49.912Z"
   },
   {
    "duration": 6,
    "start_time": "2021-11-03T18:16:01.817Z"
   },
   {
    "duration": 1289,
    "start_time": "2021-11-03T18:22:01.016Z"
   },
   {
    "duration": 6,
    "start_time": "2021-11-03T18:22:34.740Z"
   },
   {
    "duration": 590,
    "start_time": "2021-11-03T18:22:35.595Z"
   },
   {
    "duration": 6,
    "start_time": "2021-11-03T18:22:54.183Z"
   },
   {
    "duration": 484,
    "start_time": "2021-11-03T18:22:55.252Z"
   },
   {
    "duration": 4,
    "start_time": "2021-11-03T18:23:22.575Z"
   },
   {
    "duration": 509,
    "start_time": "2021-11-03T18:23:23.270Z"
   },
   {
    "duration": 5,
    "start_time": "2021-11-03T18:24:40.864Z"
   },
   {
    "duration": 2933,
    "start_time": "2021-11-03T18:24:41.541Z"
   },
   {
    "duration": 5,
    "start_time": "2021-11-03T18:25:14.428Z"
   },
   {
    "duration": 16401,
    "start_time": "2021-11-03T18:25:15.120Z"
   },
   {
    "duration": 7,
    "start_time": "2021-11-03T18:26:35.096Z"
   },
   {
    "duration": 509,
    "start_time": "2021-11-03T18:26:35.914Z"
   },
   {
    "duration": 6,
    "start_time": "2021-11-03T18:26:50.373Z"
   },
   {
    "duration": 494,
    "start_time": "2021-11-03T18:26:51.198Z"
   },
   {
    "duration": 5,
    "start_time": "2021-11-03T18:29:19.296Z"
   },
   {
    "duration": 472,
    "start_time": "2021-11-03T18:29:20.076Z"
   },
   {
    "duration": 6,
    "start_time": "2021-11-03T18:29:48.029Z"
   },
   {
    "duration": 542,
    "start_time": "2021-11-03T18:29:48.833Z"
   },
   {
    "duration": 535,
    "start_time": "2021-11-03T18:31:51.495Z"
   },
   {
    "duration": 5,
    "start_time": "2021-11-03T18:33:20.723Z"
   },
   {
    "duration": 5,
    "start_time": "2021-11-03T18:35:23.200Z"
   },
   {
    "duration": 640,
    "start_time": "2021-11-03T18:37:14.931Z"
   },
   {
    "duration": 6,
    "start_time": "2021-11-03T18:44:46.151Z"
   },
   {
    "duration": 16968,
    "start_time": "2021-11-03T18:44:47.200Z"
   },
   {
    "duration": 5,
    "start_time": "2021-11-03T18:45:39.891Z"
   },
   {
    "duration": 525,
    "start_time": "2021-11-03T18:45:41.471Z"
   },
   {
    "duration": 5,
    "start_time": "2021-11-03T18:48:43.464Z"
   },
   {
    "duration": 17963,
    "start_time": "2021-11-03T18:48:44.196Z"
   },
   {
    "duration": 5,
    "start_time": "2021-11-03T18:49:38.135Z"
   },
   {
    "duration": 16855,
    "start_time": "2021-11-03T18:49:38.787Z"
   },
   {
    "duration": 5,
    "start_time": "2021-11-03T18:51:28.821Z"
   },
   {
    "duration": 17363,
    "start_time": "2021-11-03T18:51:29.686Z"
   },
   {
    "duration": 5,
    "start_time": "2021-11-03T18:52:08.714Z"
   },
   {
    "duration": 17015,
    "start_time": "2021-11-03T18:52:09.372Z"
   },
   {
    "duration": 5,
    "start_time": "2021-11-03T18:56:20.330Z"
   },
   {
    "duration": 17757,
    "start_time": "2021-11-03T18:56:21.452Z"
   },
   {
    "duration": 6,
    "start_time": "2021-11-03T18:57:29.215Z"
   },
   {
    "duration": 17313,
    "start_time": "2021-11-03T18:57:29.892Z"
   },
   {
    "duration": 5,
    "start_time": "2021-11-03T18:59:30.916Z"
   },
   {
    "duration": 16512,
    "start_time": "2021-11-03T18:59:31.591Z"
   },
   {
    "duration": 261,
    "start_time": "2021-11-03T19:06:04.762Z"
   },
   {
    "duration": 6,
    "start_time": "2021-11-03T19:06:13.943Z"
   },
   {
    "duration": 16011,
    "start_time": "2021-11-03T19:06:14.752Z"
   },
   {
    "duration": 256,
    "start_time": "2021-11-03T19:06:30.765Z"
   },
   {
    "duration": 252,
    "start_time": "2021-11-03T19:06:49.825Z"
   },
   {
    "duration": 233,
    "start_time": "2021-11-03T19:07:04.536Z"
   },
   {
    "duration": 5,
    "start_time": "2021-11-03T19:07:23.644Z"
   },
   {
    "duration": 15110,
    "start_time": "2021-11-03T19:08:13.354Z"
   },
   {
    "duration": 4,
    "start_time": "2021-11-03T19:08:47.194Z"
   },
   {
    "duration": 5,
    "start_time": "2021-11-03T19:09:00.309Z"
   },
   {
    "duration": 16424,
    "start_time": "2021-11-03T19:09:26.350Z"
   },
   {
    "duration": 5,
    "start_time": "2021-11-03T19:09:49.334Z"
   },
   {
    "duration": 1201,
    "start_time": "2021-11-03T19:25:59.501Z"
   },
   {
    "duration": 136,
    "start_time": "2021-11-03T19:26:02.260Z"
   },
   {
    "duration": 14,
    "start_time": "2021-11-03T19:26:03.175Z"
   },
   {
    "duration": 13,
    "start_time": "2021-11-03T19:26:03.856Z"
   },
   {
    "duration": 11,
    "start_time": "2021-11-03T19:26:04.755Z"
   },
   {
    "duration": 40,
    "start_time": "2021-11-03T19:26:05.844Z"
   },
   {
    "duration": 10,
    "start_time": "2021-11-03T19:26:06.847Z"
   },
   {
    "duration": 44,
    "start_time": "2021-11-03T19:26:07.441Z"
   },
   {
    "duration": 5,
    "start_time": "2021-11-03T19:26:08.208Z"
   },
   {
    "duration": 3,
    "start_time": "2021-11-03T19:26:13.534Z"
   },
   {
    "duration": 131,
    "start_time": "2021-11-03T19:26:28.722Z"
   },
   {
    "duration": 9,
    "start_time": "2021-11-03T19:26:29.441Z"
   },
   {
    "duration": 10,
    "start_time": "2021-11-03T19:26:30.059Z"
   },
   {
    "duration": 37,
    "start_time": "2021-11-03T19:26:30.477Z"
   },
   {
    "duration": 13,
    "start_time": "2021-11-03T19:26:30.957Z"
   },
   {
    "duration": 11,
    "start_time": "2021-11-03T19:26:31.362Z"
   },
   {
    "duration": 41,
    "start_time": "2021-11-03T19:26:31.914Z"
   },
   {
    "duration": 4,
    "start_time": "2021-11-03T19:26:32.657Z"
   },
   {
    "duration": 5,
    "start_time": "2021-11-03T19:26:33.459Z"
   },
   {
    "duration": 131,
    "start_time": "2021-11-03T19:26:37.569Z"
   },
   {
    "duration": 9,
    "start_time": "2021-11-03T19:26:39.026Z"
   },
   {
    "duration": 10,
    "start_time": "2021-11-03T19:26:39.265Z"
   },
   {
    "duration": 38,
    "start_time": "2021-11-03T19:26:39.528Z"
   },
   {
    "duration": 10,
    "start_time": "2021-11-03T19:26:39.788Z"
   },
   {
    "duration": 10,
    "start_time": "2021-11-03T19:26:40.333Z"
   },
   {
    "duration": 41,
    "start_time": "2021-11-03T19:26:40.860Z"
   },
   {
    "duration": 4,
    "start_time": "2021-11-03T19:26:42.151Z"
   },
   {
    "duration": 3,
    "start_time": "2021-11-03T19:26:42.719Z"
   },
   {
    "duration": 357,
    "start_time": "2021-11-03T19:33:39.642Z"
   },
   {
    "duration": 1091,
    "start_time": "2021-11-03T19:36:39.311Z"
   },
   {
    "duration": 131,
    "start_time": "2021-11-03T19:36:40.544Z"
   },
   {
    "duration": 12,
    "start_time": "2021-11-03T19:36:41.220Z"
   },
   {
    "duration": 12,
    "start_time": "2021-11-03T19:36:41.820Z"
   },
   {
    "duration": 12,
    "start_time": "2021-11-03T19:36:42.514Z"
   },
   {
    "duration": 37,
    "start_time": "2021-11-03T19:36:43.241Z"
   },
   {
    "duration": 11,
    "start_time": "2021-11-03T19:36:43.869Z"
   },
   {
    "duration": 44,
    "start_time": "2021-11-03T19:36:44.511Z"
   },
   {
    "duration": 4,
    "start_time": "2021-11-03T19:36:45.096Z"
   },
   {
    "duration": 4,
    "start_time": "2021-11-03T19:36:45.944Z"
   },
   {
    "duration": 130,
    "start_time": "2021-11-03T19:36:47.535Z"
   },
   {
    "duration": 10,
    "start_time": "2021-11-03T19:36:48.069Z"
   },
   {
    "duration": 12,
    "start_time": "2021-11-03T19:36:48.647Z"
   },
   {
    "duration": 37,
    "start_time": "2021-11-03T19:36:49.194Z"
   },
   {
    "duration": 15,
    "start_time": "2021-11-03T19:36:49.786Z"
   },
   {
    "duration": 10,
    "start_time": "2021-11-03T19:36:50.401Z"
   },
   {
    "duration": 40,
    "start_time": "2021-11-03T19:36:51.157Z"
   },
   {
    "duration": 3,
    "start_time": "2021-11-03T19:36:51.986Z"
   },
   {
    "duration": 5,
    "start_time": "2021-11-03T19:36:52.587Z"
   },
   {
    "duration": 132,
    "start_time": "2021-11-03T19:36:55.250Z"
   },
   {
    "duration": 9,
    "start_time": "2021-11-03T19:36:55.826Z"
   },
   {
    "duration": 12,
    "start_time": "2021-11-03T19:36:56.326Z"
   },
   {
    "duration": 36,
    "start_time": "2021-11-03T19:36:56.810Z"
   },
   {
    "duration": 9,
    "start_time": "2021-11-03T19:36:57.378Z"
   },
   {
    "duration": 10,
    "start_time": "2021-11-03T19:36:57.948Z"
   },
   {
    "duration": 43,
    "start_time": "2021-11-03T19:36:58.489Z"
   },
   {
    "duration": 4,
    "start_time": "2021-11-03T19:36:59.736Z"
   },
   {
    "duration": 4,
    "start_time": "2021-11-03T19:37:01.541Z"
   },
   {
    "duration": 5,
    "start_time": "2021-11-03T19:37:05.003Z"
   },
   {
    "duration": 5,
    "start_time": "2021-11-03T19:37:06.047Z"
   },
   {
    "duration": 5,
    "start_time": "2021-11-03T19:37:06.666Z"
   },
   {
    "duration": 15,
    "start_time": "2021-11-03T19:37:08.481Z"
   },
   {
    "duration": 4,
    "start_time": "2021-11-03T19:37:09.408Z"
   },
   {
    "duration": 4,
    "start_time": "2021-11-03T19:37:09.946Z"
   },
   {
    "duration": 4,
    "start_time": "2021-11-03T19:37:10.205Z"
   },
   {
    "duration": 4,
    "start_time": "2021-11-03T19:37:10.434Z"
   },
   {
    "duration": 17,
    "start_time": "2021-11-03T19:37:11.212Z"
   },
   {
    "duration": 4,
    "start_time": "2021-11-03T19:37:11.553Z"
   },
   {
    "duration": 4,
    "start_time": "2021-11-03T19:37:11.875Z"
   },
   {
    "duration": 4,
    "start_time": "2021-11-03T19:37:12.297Z"
   },
   {
    "duration": 4,
    "start_time": "2021-11-03T19:37:12.802Z"
   },
   {
    "duration": 22,
    "start_time": "2021-11-03T19:37:13.517Z"
   },
   {
    "duration": 5,
    "start_time": "2021-11-03T19:37:13.797Z"
   },
   {
    "duration": 4,
    "start_time": "2021-11-03T19:37:14.065Z"
   },
   {
    "duration": 4,
    "start_time": "2021-11-03T19:37:14.361Z"
   },
   {
    "duration": 4,
    "start_time": "2021-11-03T19:37:14.657Z"
   },
   {
    "duration": 13,
    "start_time": "2021-11-03T19:37:20.578Z"
   },
   {
    "duration": 10,
    "start_time": "2021-11-03T19:37:22.185Z"
   },
   {
    "duration": 4,
    "start_time": "2021-11-03T19:37:23.936Z"
   },
   {
    "duration": 558,
    "start_time": "2021-11-03T19:37:25.322Z"
   },
   {
    "duration": 5,
    "start_time": "2021-11-03T19:39:14.860Z"
   },
   {
    "duration": 4,
    "start_time": "2021-11-03T19:39:26.268Z"
   },
   {
    "duration": 582,
    "start_time": "2021-11-03T19:39:27.849Z"
   },
   {
    "duration": 1211,
    "start_time": "2021-11-03T19:53:12.736Z"
   },
   {
    "duration": 129,
    "start_time": "2021-11-03T19:53:15.047Z"
   },
   {
    "duration": 13,
    "start_time": "2021-11-03T19:53:15.451Z"
   },
   {
    "duration": 10,
    "start_time": "2021-11-03T19:53:15.734Z"
   },
   {
    "duration": 10,
    "start_time": "2021-11-03T19:53:15.959Z"
   },
   {
    "duration": 37,
    "start_time": "2021-11-03T19:53:16.155Z"
   },
   {
    "duration": 9,
    "start_time": "2021-11-03T19:53:16.335Z"
   },
   {
    "duration": 40,
    "start_time": "2021-11-03T19:53:16.531Z"
   },
   {
    "duration": 3,
    "start_time": "2021-11-03T19:53:16.713Z"
   },
   {
    "duration": 4,
    "start_time": "2021-11-03T19:53:16.890Z"
   },
   {
    "duration": 129,
    "start_time": "2021-11-03T19:53:17.448Z"
   },
   {
    "duration": 9,
    "start_time": "2021-11-03T19:53:17.659Z"
   },
   {
    "duration": 12,
    "start_time": "2021-11-03T19:53:17.855Z"
   },
   {
    "duration": 36,
    "start_time": "2021-11-03T19:53:18.089Z"
   },
   {
    "duration": 14,
    "start_time": "2021-11-03T19:53:18.328Z"
   },
   {
    "duration": 10,
    "start_time": "2021-11-03T19:53:18.967Z"
   },
   {
    "duration": 41,
    "start_time": "2021-11-03T19:53:19.484Z"
   },
   {
    "duration": 4,
    "start_time": "2021-11-03T19:53:20.014Z"
   },
   {
    "duration": 4,
    "start_time": "2021-11-03T19:53:20.552Z"
   },
   {
    "duration": 125,
    "start_time": "2021-11-03T19:53:22.180Z"
   },
   {
    "duration": 8,
    "start_time": "2021-11-03T19:53:22.679Z"
   },
   {
    "duration": 11,
    "start_time": "2021-11-03T19:53:23.272Z"
   },
   {
    "duration": 37,
    "start_time": "2021-11-03T19:53:23.807Z"
   },
   {
    "duration": 9,
    "start_time": "2021-11-03T19:53:24.399Z"
   },
   {
    "duration": 10,
    "start_time": "2021-11-03T19:53:24.959Z"
   },
   {
    "duration": 39,
    "start_time": "2021-11-03T19:53:25.519Z"
   },
   {
    "duration": 3,
    "start_time": "2021-11-03T19:53:26.635Z"
   },
   {
    "duration": 3,
    "start_time": "2021-11-03T19:53:27.435Z"
   },
   {
    "duration": 5,
    "start_time": "2021-11-03T19:53:29.530Z"
   },
   {
    "duration": 5,
    "start_time": "2021-11-03T19:53:30.136Z"
   },
   {
    "duration": 5,
    "start_time": "2021-11-03T19:53:30.708Z"
   },
   {
    "duration": 15,
    "start_time": "2021-11-03T19:53:32.296Z"
   },
   {
    "duration": 3,
    "start_time": "2021-11-03T19:53:35.799Z"
   },
   {
    "duration": 4,
    "start_time": "2021-11-03T19:53:36.727Z"
   },
   {
    "duration": 4,
    "start_time": "2021-11-03T19:53:37.223Z"
   },
   {
    "duration": 4,
    "start_time": "2021-11-03T19:53:37.705Z"
   },
   {
    "duration": 17,
    "start_time": "2021-11-03T19:53:39.334Z"
   },
   {
    "duration": 4,
    "start_time": "2021-11-03T19:53:42.455Z"
   },
   {
    "duration": 3,
    "start_time": "2021-11-03T19:53:43.019Z"
   },
   {
    "duration": 4,
    "start_time": "2021-11-03T19:53:43.685Z"
   },
   {
    "duration": 4,
    "start_time": "2021-11-03T19:53:43.992Z"
   },
   {
    "duration": 15,
    "start_time": "2021-11-03T19:53:45.103Z"
   },
   {
    "duration": 4,
    "start_time": "2021-11-03T19:53:45.527Z"
   },
   {
    "duration": 3,
    "start_time": "2021-11-03T19:53:47.803Z"
   },
   {
    "duration": 4,
    "start_time": "2021-11-03T19:53:48.314Z"
   },
   {
    "duration": 4,
    "start_time": "2021-11-03T19:53:48.754Z"
   },
   {
    "duration": 10,
    "start_time": "2021-11-03T19:53:55.743Z"
   },
   {
    "duration": 108,
    "start_time": "2021-11-03T19:53:56.461Z"
   },
   {
    "duration": 5,
    "start_time": "2021-11-03T19:53:57.845Z"
   },
   {
    "duration": 4,
    "start_time": "2021-11-03T19:54:00.876Z"
   },
   {
    "duration": 541,
    "start_time": "2021-11-03T19:54:20.090Z"
   },
   {
    "duration": 11,
    "start_time": "2021-11-03T19:54:28.229Z"
   },
   {
    "duration": 70,
    "start_time": "2021-11-03T19:54:29.693Z"
   },
   {
    "duration": 4,
    "start_time": "2021-11-03T19:54:30.725Z"
   },
   {
    "duration": 543,
    "start_time": "2021-11-03T19:54:34.428Z"
   },
   {
    "duration": 468,
    "start_time": "2021-11-03T19:54:47.533Z"
   },
   {
    "duration": 323,
    "start_time": "2021-11-03T19:56:58.536Z"
   },
   {
    "duration": 8,
    "start_time": "2021-11-03T19:57:03.528Z"
   },
   {
    "duration": 19,
    "start_time": "2021-11-03T19:57:04.245Z"
   },
   {
    "duration": 4,
    "start_time": "2021-11-03T19:57:54.359Z"
   },
   {
    "duration": 567,
    "start_time": "2021-11-03T19:58:39.039Z"
   },
   {
    "duration": 467,
    "start_time": "2021-11-03T19:59:48.039Z"
   },
   {
    "duration": 462,
    "start_time": "2021-11-03T20:00:16.184Z"
   },
   {
    "duration": 529,
    "start_time": "2021-11-03T20:00:38.952Z"
   },
   {
    "duration": 481,
    "start_time": "2021-11-03T20:00:56.037Z"
   },
   {
    "duration": 625,
    "start_time": "2021-11-03T20:02:59.025Z"
   },
   {
    "duration": 462,
    "start_time": "2021-11-03T20:03:06.577Z"
   },
   {
    "duration": 382,
    "start_time": "2021-11-03T20:03:15.389Z"
   },
   {
    "duration": 303,
    "start_time": "2021-11-03T20:03:30.406Z"
   },
   {
    "duration": 300,
    "start_time": "2021-11-03T20:03:45.702Z"
   },
   {
    "duration": 378,
    "start_time": "2021-11-03T20:04:02.134Z"
   },
   {
    "duration": 645,
    "start_time": "2021-11-03T20:04:16.041Z"
   },
   {
    "duration": 514,
    "start_time": "2021-11-03T20:04:23.183Z"
   },
   {
    "duration": 512,
    "start_time": "2021-11-03T20:04:31.308Z"
   },
   {
    "duration": 542,
    "start_time": "2021-11-03T20:04:39.566Z"
   },
   {
    "duration": 1090,
    "start_time": "2021-11-03T20:05:16.794Z"
   },
   {
    "duration": 3,
    "start_time": "2021-11-03T20:05:24.144Z"
   },
   {
    "duration": 131,
    "start_time": "2021-11-03T20:05:25.516Z"
   },
   {
    "duration": 12,
    "start_time": "2021-11-03T20:05:26.085Z"
   },
   {
    "duration": 12,
    "start_time": "2021-11-03T20:05:26.586Z"
   },
   {
    "duration": 10,
    "start_time": "2021-11-03T20:05:27.137Z"
   },
   {
    "duration": 40,
    "start_time": "2021-11-03T20:05:28.388Z"
   },
   {
    "duration": 11,
    "start_time": "2021-11-03T20:05:29.161Z"
   },
   {
    "duration": 48,
    "start_time": "2021-11-03T20:05:29.671Z"
   },
   {
    "duration": 5,
    "start_time": "2021-11-03T20:05:30.187Z"
   },
   {
    "duration": 3,
    "start_time": "2021-11-03T20:05:30.842Z"
   },
   {
    "duration": 125,
    "start_time": "2021-11-03T20:05:33.255Z"
   },
   {
    "duration": 8,
    "start_time": "2021-11-03T20:05:33.564Z"
   },
   {
    "duration": 13,
    "start_time": "2021-11-03T20:05:33.990Z"
   },
   {
    "duration": 37,
    "start_time": "2021-11-03T20:05:34.758Z"
   },
   {
    "duration": 13,
    "start_time": "2021-11-03T20:05:35.220Z"
   },
   {
    "duration": 11,
    "start_time": "2021-11-03T20:05:35.701Z"
   },
   {
    "duration": 37,
    "start_time": "2021-11-03T20:05:36.223Z"
   },
   {
    "duration": 3,
    "start_time": "2021-11-03T20:05:36.773Z"
   },
   {
    "duration": 5,
    "start_time": "2021-11-03T20:05:37.324Z"
   },
   {
    "duration": 122,
    "start_time": "2021-11-03T20:05:42.418Z"
   },
   {
    "duration": 10,
    "start_time": "2021-11-03T20:05:43.290Z"
   },
   {
    "duration": 12,
    "start_time": "2021-11-03T20:05:43.672Z"
   },
   {
    "duration": 37,
    "start_time": "2021-11-03T20:05:44.026Z"
   },
   {
    "duration": 10,
    "start_time": "2021-11-03T20:05:44.429Z"
   },
   {
    "duration": 12,
    "start_time": "2021-11-03T20:05:44.699Z"
   },
   {
    "duration": 40,
    "start_time": "2021-11-03T20:05:45.442Z"
   },
   {
    "duration": 3,
    "start_time": "2021-11-03T20:05:46.863Z"
   },
   {
    "duration": 4,
    "start_time": "2021-11-03T20:05:48.203Z"
   },
   {
    "duration": 5,
    "start_time": "2021-11-03T20:05:53.959Z"
   },
   {
    "duration": 5,
    "start_time": "2021-11-03T20:05:54.890Z"
   },
   {
    "duration": 5,
    "start_time": "2021-11-03T20:05:55.418Z"
   },
   {
    "duration": 14,
    "start_time": "2021-11-03T20:05:59.006Z"
   },
   {
    "duration": 4,
    "start_time": "2021-11-03T20:05:59.520Z"
   },
   {
    "duration": 4,
    "start_time": "2021-11-03T20:05:59.824Z"
   },
   {
    "duration": 4,
    "start_time": "2021-11-03T20:06:00.055Z"
   },
   {
    "duration": 4,
    "start_time": "2021-11-03T20:06:00.289Z"
   },
   {
    "duration": 18,
    "start_time": "2021-11-03T20:06:02.673Z"
   },
   {
    "duration": 5,
    "start_time": "2021-11-03T20:06:03.012Z"
   },
   {
    "duration": 5,
    "start_time": "2021-11-03T20:06:03.239Z"
   },
   {
    "duration": 4,
    "start_time": "2021-11-03T20:06:03.463Z"
   },
   {
    "duration": 4,
    "start_time": "2021-11-03T20:06:03.764Z"
   },
   {
    "duration": 16,
    "start_time": "2021-11-03T20:06:06.145Z"
   },
   {
    "duration": 4,
    "start_time": "2021-11-03T20:06:06.628Z"
   },
   {
    "duration": 4,
    "start_time": "2021-11-03T20:06:06.943Z"
   },
   {
    "duration": 4,
    "start_time": "2021-11-03T20:06:07.302Z"
   },
   {
    "duration": 5,
    "start_time": "2021-11-03T20:06:07.763Z"
   },
   {
    "duration": 11,
    "start_time": "2021-11-03T20:06:12.302Z"
   },
   {
    "duration": 14,
    "start_time": "2021-11-03T20:06:12.974Z"
   },
   {
    "duration": 4,
    "start_time": "2021-11-03T20:06:13.804Z"
   },
   {
    "duration": 535,
    "start_time": "2021-11-03T20:06:15.324Z"
   },
   {
    "duration": 517,
    "start_time": "2021-11-03T20:07:56.133Z"
   },
   {
    "duration": 11,
    "start_time": "2021-11-03T20:08:04.225Z"
   },
   {
    "duration": 62,
    "start_time": "2021-11-03T20:08:05.907Z"
   },
   {
    "duration": 5,
    "start_time": "2021-11-03T20:08:07.471Z"
   },
   {
    "duration": 5,
    "start_time": "2021-11-03T20:09:14.101Z"
   },
   {
    "duration": 312,
    "start_time": "2021-11-03T20:09:15.131Z"
   },
   {
    "duration": 393,
    "start_time": "2021-11-03T20:09:17.163Z"
   },
   {
    "duration": 11,
    "start_time": "2021-11-03T20:09:19.803Z"
   },
   {
    "duration": 18,
    "start_time": "2021-11-03T20:09:20.291Z"
   },
   {
    "duration": 4,
    "start_time": "2021-11-03T20:09:20.745Z"
   },
   {
    "duration": 536,
    "start_time": "2021-11-03T20:24:17.345Z"
   },
   {
    "duration": 1080,
    "start_time": "2021-11-03T20:24:35.912Z"
   },
   {
    "duration": 134,
    "start_time": "2021-11-03T20:24:38.328Z"
   },
   {
    "duration": 12,
    "start_time": "2021-11-03T20:24:38.569Z"
   },
   {
    "duration": 11,
    "start_time": "2021-11-03T20:24:38.819Z"
   },
   {
    "duration": 9,
    "start_time": "2021-11-03T20:24:40.173Z"
   },
   {
    "duration": 38,
    "start_time": "2021-11-03T20:24:41.838Z"
   },
   {
    "duration": 11,
    "start_time": "2021-11-03T20:24:44.030Z"
   },
   {
    "duration": 42,
    "start_time": "2021-11-03T20:24:46.028Z"
   },
   {
    "duration": 4,
    "start_time": "2021-11-03T20:24:46.599Z"
   },
   {
    "duration": 4,
    "start_time": "2021-11-03T20:24:48.539Z"
   },
   {
    "duration": 125,
    "start_time": "2021-11-03T20:24:50.740Z"
   },
   {
    "duration": 10,
    "start_time": "2021-11-03T20:24:51.208Z"
   },
   {
    "duration": 11,
    "start_time": "2021-11-03T20:24:54.323Z"
   },
   {
    "duration": 37,
    "start_time": "2021-11-03T20:24:56.069Z"
   },
   {
    "duration": 14,
    "start_time": "2021-11-03T20:24:56.637Z"
   },
   {
    "duration": 11,
    "start_time": "2021-11-03T20:24:58.718Z"
   },
   {
    "duration": 41,
    "start_time": "2021-11-03T20:24:59.505Z"
   },
   {
    "duration": 4,
    "start_time": "2021-11-03T20:25:00.117Z"
   },
   {
    "duration": 5,
    "start_time": "2021-11-03T20:25:00.664Z"
   },
   {
    "duration": 138,
    "start_time": "2021-11-03T20:25:13.086Z"
   },
   {
    "duration": 9,
    "start_time": "2021-11-03T20:25:13.567Z"
   },
   {
    "duration": 12,
    "start_time": "2021-11-03T20:25:14.128Z"
   },
   {
    "duration": 34,
    "start_time": "2021-11-03T20:25:14.815Z"
   },
   {
    "duration": 10,
    "start_time": "2021-11-03T20:25:15.398Z"
   },
   {
    "duration": 10,
    "start_time": "2021-11-03T20:25:16.291Z"
   },
   {
    "duration": 44,
    "start_time": "2021-11-03T20:25:23.082Z"
   },
   {
    "duration": 4,
    "start_time": "2021-11-03T20:25:25.000Z"
   },
   {
    "duration": 4,
    "start_time": "2021-11-03T20:25:26.597Z"
   },
   {
    "duration": 5,
    "start_time": "2021-11-03T20:25:30.222Z"
   },
   {
    "duration": 5,
    "start_time": "2021-11-03T20:25:31.367Z"
   },
   {
    "duration": 4,
    "start_time": "2021-11-03T20:25:32.198Z"
   },
   {
    "duration": 15,
    "start_time": "2021-11-03T20:25:36.776Z"
   },
   {
    "duration": 4,
    "start_time": "2021-11-03T20:25:37.185Z"
   },
   {
    "duration": 4,
    "start_time": "2021-11-03T20:25:37.415Z"
   },
   {
    "duration": 4,
    "start_time": "2021-11-03T20:25:37.678Z"
   },
   {
    "duration": 4,
    "start_time": "2021-11-03T20:25:37.942Z"
   },
   {
    "duration": 17,
    "start_time": "2021-11-03T20:25:38.928Z"
   },
   {
    "duration": 4,
    "start_time": "2021-11-03T20:25:39.138Z"
   },
   {
    "duration": 4,
    "start_time": "2021-11-03T20:25:39.350Z"
   },
   {
    "duration": 4,
    "start_time": "2021-11-03T20:25:39.559Z"
   },
   {
    "duration": 5,
    "start_time": "2021-11-03T20:25:41.965Z"
   },
   {
    "duration": 19,
    "start_time": "2021-11-03T20:25:43.049Z"
   },
   {
    "duration": 3,
    "start_time": "2021-11-03T20:25:43.373Z"
   },
   {
    "duration": 5,
    "start_time": "2021-11-03T20:25:43.590Z"
   },
   {
    "duration": 4,
    "start_time": "2021-11-03T20:25:43.843Z"
   },
   {
    "duration": 4,
    "start_time": "2021-11-03T20:25:44.148Z"
   },
   {
    "duration": 12,
    "start_time": "2021-11-03T20:25:51.086Z"
   },
   {
    "duration": 34,
    "start_time": "2021-11-03T20:25:59.630Z"
   },
   {
    "duration": 4,
    "start_time": "2021-11-03T20:26:00.526Z"
   },
   {
    "duration": 540,
    "start_time": "2021-11-03T20:26:02.160Z"
   },
   {
    "duration": 540,
    "start_time": "2021-11-03T20:26:03.565Z"
   },
   {
    "duration": 11,
    "start_time": "2021-11-03T20:26:08.217Z"
   },
   {
    "duration": 61,
    "start_time": "2021-11-03T20:26:08.803Z"
   },
   {
    "duration": 5,
    "start_time": "2021-11-03T20:26:09.255Z"
   },
   {
    "duration": 296,
    "start_time": "2021-11-03T20:26:10.593Z"
   },
   {
    "duration": 377,
    "start_time": "2021-11-03T20:26:11.246Z"
   },
   {
    "duration": 9,
    "start_time": "2021-11-03T20:26:15.531Z"
   },
   {
    "duration": 13,
    "start_time": "2021-11-03T20:26:16.226Z"
   },
   {
    "duration": 4,
    "start_time": "2021-11-03T20:26:16.818Z"
   },
   {
    "duration": 516,
    "start_time": "2021-11-03T20:26:17.559Z"
   },
   {
    "duration": 540,
    "start_time": "2021-11-03T20:26:18.550Z"
   },
   {
    "duration": 3,
    "start_time": "2021-11-03T20:27:02.303Z"
   },
   {
    "duration": 3,
    "start_time": "2021-11-03T20:41:48.981Z"
   },
   {
    "duration": 3,
    "start_time": "2021-11-03T20:41:50.487Z"
   },
   {
    "duration": 3,
    "start_time": "2021-11-03T20:43:31.782Z"
   },
   {
    "duration": 4,
    "start_time": "2021-11-03T20:43:32.913Z"
   },
   {
    "duration": 3,
    "start_time": "2021-11-03T21:12:40.771Z"
   },
   {
    "duration": 5,
    "start_time": "2021-11-03T21:25:07.897Z"
   },
   {
    "duration": 6,
    "start_time": "2021-11-03T21:26:41.433Z"
   },
   {
    "duration": 3073,
    "start_time": "2021-11-03T21:27:00.974Z"
   },
   {
    "duration": 6,
    "start_time": "2021-11-03T21:27:59.989Z"
   },
   {
    "duration": 3060,
    "start_time": "2021-11-03T21:28:00.653Z"
   },
   {
    "duration": 5,
    "start_time": "2021-11-03T21:28:09.708Z"
   },
   {
    "duration": 3051,
    "start_time": "2021-11-03T21:28:13.128Z"
   },
   {
    "duration": 9,
    "start_time": "2021-11-03T21:28:19.365Z"
   },
   {
    "duration": 4451,
    "start_time": "2021-11-03T21:28:26.099Z"
   },
   {
    "duration": 11,
    "start_time": "2021-11-03T21:28:30.552Z"
   },
   {
    "duration": 592,
    "start_time": "2021-11-03T21:30:45.280Z"
   },
   {
    "duration": 5,
    "start_time": "2021-11-03T21:30:48.314Z"
   },
   {
    "duration": 8,
    "start_time": "2021-11-03T21:39:42.685Z"
   },
   {
    "duration": 498,
    "start_time": "2021-11-03T21:39:43.382Z"
   },
   {
    "duration": 5,
    "start_time": "2021-11-03T21:39:48.499Z"
   },
   {
    "duration": 8,
    "start_time": "2021-11-03T21:43:44.508Z"
   },
   {
    "duration": 2768,
    "start_time": "2021-11-03T21:45:28.406Z"
   },
   {
    "duration": 5,
    "start_time": "2021-11-03T21:45:33.668Z"
   },
   {
    "duration": 4,
    "start_time": "2021-11-03T21:51:12.168Z"
   },
   {
    "duration": 5,
    "start_time": "2021-11-03T22:04:46.778Z"
   },
   {
    "duration": 2763,
    "start_time": "2021-11-03T22:04:47.859Z"
   },
   {
    "duration": 4,
    "start_time": "2021-11-03T22:04:51.681Z"
   },
   {
    "duration": 251,
    "start_time": "2021-11-03T22:05:19.365Z"
   },
   {
    "duration": 2708,
    "start_time": "2021-11-03T22:05:21.283Z"
   },
   {
    "duration": 6,
    "start_time": "2021-11-03T22:05:28.169Z"
   },
   {
    "duration": 2791,
    "start_time": "2021-11-03T22:05:28.825Z"
   },
   {
    "duration": 4,
    "start_time": "2021-11-03T22:05:31.618Z"
   },
   {
    "duration": 113,
    "start_time": "2021-11-03T22:07:19.051Z"
   },
   {
    "duration": 7,
    "start_time": "2021-11-03T22:07:31.086Z"
   },
   {
    "duration": 5,
    "start_time": "2021-11-03T22:07:33.842Z"
   },
   {
    "duration": 2752,
    "start_time": "2021-11-03T22:07:35.232Z"
   },
   {
    "duration": 5,
    "start_time": "2021-11-03T22:07:38.174Z"
   },
   {
    "duration": 3,
    "start_time": "2021-11-03T22:08:39.554Z"
   },
   {
    "duration": 6,
    "start_time": "2021-11-03T22:08:42.190Z"
   },
   {
    "duration": 2936,
    "start_time": "2021-11-03T22:08:43.136Z"
   },
   {
    "duration": 5,
    "start_time": "2021-11-03T22:08:46.076Z"
   },
   {
    "duration": 1515,
    "start_time": "2021-11-04T08:42:29.937Z"
   },
   {
    "duration": 181,
    "start_time": "2021-11-04T08:42:31.454Z"
   },
   {
    "duration": 18,
    "start_time": "2021-11-04T08:42:31.639Z"
   },
   {
    "duration": 22,
    "start_time": "2021-11-04T08:42:31.660Z"
   },
   {
    "duration": 48,
    "start_time": "2021-11-04T08:42:31.684Z"
   },
   {
    "duration": 52,
    "start_time": "2021-11-04T08:42:31.738Z"
   },
   {
    "duration": 12,
    "start_time": "2021-11-04T08:42:31.792Z"
   },
   {
    "duration": 91,
    "start_time": "2021-11-04T08:42:31.807Z"
   },
   {
    "duration": 4,
    "start_time": "2021-11-04T08:42:31.902Z"
   },
   {
    "duration": 5,
    "start_time": "2021-11-04T08:42:31.924Z"
   },
   {
    "duration": 184,
    "start_time": "2021-11-04T08:42:31.932Z"
   },
   {
    "duration": 15,
    "start_time": "2021-11-04T08:42:32.119Z"
   },
   {
    "duration": 26,
    "start_time": "2021-11-04T08:42:32.139Z"
   },
   {
    "duration": 75,
    "start_time": "2021-11-04T08:42:32.167Z"
   },
   {
    "duration": 20,
    "start_time": "2021-11-04T08:42:32.245Z"
   },
   {
    "duration": 19,
    "start_time": "2021-11-04T08:42:32.268Z"
   },
   {
    "duration": 94,
    "start_time": "2021-11-04T08:42:32.290Z"
   },
   {
    "duration": 4,
    "start_time": "2021-11-04T08:42:32.387Z"
   },
   {
    "duration": 32,
    "start_time": "2021-11-04T08:42:32.393Z"
   },
   {
    "duration": 169,
    "start_time": "2021-11-04T08:42:32.428Z"
   },
   {
    "duration": 22,
    "start_time": "2021-11-04T08:42:32.600Z"
   },
   {
    "duration": 18,
    "start_time": "2021-11-04T08:42:32.627Z"
   },
   {
    "duration": 80,
    "start_time": "2021-11-04T08:42:32.647Z"
   },
   {
    "duration": 16,
    "start_time": "2021-11-04T08:42:32.730Z"
   },
   {
    "duration": 13,
    "start_time": "2021-11-04T08:42:32.749Z"
   },
   {
    "duration": 105,
    "start_time": "2021-11-04T08:42:32.764Z"
   },
   {
    "duration": 10,
    "start_time": "2021-11-04T08:42:32.876Z"
   },
   {
    "duration": 5,
    "start_time": "2021-11-04T08:42:32.890Z"
   },
   {
    "duration": 30,
    "start_time": "2021-11-04T08:42:32.897Z"
   },
   {
    "duration": 11,
    "start_time": "2021-11-04T08:42:32.929Z"
   },
   {
    "duration": 6,
    "start_time": "2021-11-04T08:42:32.943Z"
   },
   {
    "duration": 20,
    "start_time": "2021-11-04T08:42:32.952Z"
   },
   {
    "duration": 7,
    "start_time": "2021-11-04T08:42:32.975Z"
   },
   {
    "duration": 48,
    "start_time": "2021-11-04T08:42:32.984Z"
   },
   {
    "duration": 7,
    "start_time": "2021-11-04T08:42:33.035Z"
   },
   {
    "duration": 15,
    "start_time": "2021-11-04T08:42:33.044Z"
   },
   {
    "duration": 21,
    "start_time": "2021-11-04T08:42:33.061Z"
   },
   {
    "duration": 7,
    "start_time": "2021-11-04T08:42:33.084Z"
   },
   {
    "duration": 36,
    "start_time": "2021-11-04T08:42:33.094Z"
   },
   {
    "duration": 11,
    "start_time": "2021-11-04T08:42:33.133Z"
   },
   {
    "duration": 11,
    "start_time": "2021-11-04T08:42:33.147Z"
   },
   {
    "duration": 21,
    "start_time": "2021-11-04T08:42:33.161Z"
   },
   {
    "duration": 45,
    "start_time": "2021-11-04T08:42:33.185Z"
   },
   {
    "duration": 10,
    "start_time": "2021-11-04T08:42:33.232Z"
   },
   {
    "duration": 7,
    "start_time": "2021-11-04T08:42:33.245Z"
   },
   {
    "duration": 7,
    "start_time": "2021-11-04T08:42:33.255Z"
   },
   {
    "duration": 19,
    "start_time": "2021-11-04T08:42:33.265Z"
   },
   {
    "duration": 150,
    "start_time": "2021-11-04T08:42:33.286Z"
   },
   {
    "duration": 93,
    "start_time": "2021-11-04T08:42:33.439Z"
   },
   {
    "duration": 1249,
    "start_time": "2021-11-04T08:42:33.534Z"
   },
   {
    "duration": 1068,
    "start_time": "2021-11-04T08:42:34.786Z"
   },
   {
    "duration": 13,
    "start_time": "2021-11-04T08:42:35.856Z"
   },
   {
    "duration": 59,
    "start_time": "2021-11-04T08:42:35.872Z"
   },
   {
    "duration": 97,
    "start_time": "2021-11-04T08:42:35.933Z"
   },
   {
    "duration": 674,
    "start_time": "2021-11-04T08:42:36.032Z"
   },
   {
    "duration": 633,
    "start_time": "2021-11-04T08:42:36.709Z"
   },
   {
    "duration": 14,
    "start_time": "2021-11-04T08:42:37.346Z"
   },
   {
    "duration": 73,
    "start_time": "2021-11-04T08:42:37.363Z"
   },
   {
    "duration": 89,
    "start_time": "2021-11-04T08:42:37.440Z"
   },
   {
    "duration": 955,
    "start_time": "2021-11-04T08:42:37.532Z"
   },
   {
    "duration": 984,
    "start_time": "2021-11-04T08:42:38.489Z"
   },
   {
    "duration": 3,
    "start_time": "2021-11-04T08:42:39.476Z"
   },
   {
    "duration": 6,
    "start_time": "2021-11-04T08:42:39.482Z"
   },
   {
    "duration": 10,
    "start_time": "2021-11-04T08:42:39.490Z"
   },
   {
    "duration": 5,
    "start_time": "2021-11-04T08:42:39.524Z"
   },
   {
    "duration": 11,
    "start_time": "2021-11-04T08:42:39.531Z"
   },
   {
    "duration": 5,
    "start_time": "2021-11-04T08:42:39.545Z"
   },
   {
    "duration": 8,
    "start_time": "2021-11-04T08:42:39.553Z"
   },
   {
    "duration": 426,
    "start_time": "2021-11-04T08:42:39.564Z"
   },
   {
    "duration": 64,
    "start_time": "2021-11-04T08:42:39.928Z"
   },
   {
    "duration": 65,
    "start_time": "2021-11-04T08:42:39.929Z"
   },
   {
    "duration": 63,
    "start_time": "2021-11-04T08:42:39.932Z"
   },
   {
    "duration": 64,
    "start_time": "2021-11-04T08:42:39.933Z"
   },
   {
    "duration": 64,
    "start_time": "2021-11-04T08:42:39.934Z"
   },
   {
    "duration": 6,
    "start_time": "2021-11-04T08:54:50.938Z"
   },
   {
    "duration": 5,
    "start_time": "2021-11-04T08:55:11.609Z"
   },
   {
    "duration": 1566,
    "start_time": "2021-11-04T08:58:05.706Z"
   },
   {
    "duration": 223,
    "start_time": "2021-11-04T08:58:07.275Z"
   },
   {
    "duration": 32,
    "start_time": "2021-11-04T08:58:07.503Z"
   },
   {
    "duration": 22,
    "start_time": "2021-11-04T08:58:07.539Z"
   },
   {
    "duration": 18,
    "start_time": "2021-11-04T08:58:07.565Z"
   },
   {
    "duration": 106,
    "start_time": "2021-11-04T08:58:07.587Z"
   },
   {
    "duration": 31,
    "start_time": "2021-11-04T08:58:07.696Z"
   },
   {
    "duration": 94,
    "start_time": "2021-11-04T08:58:07.730Z"
   },
   {
    "duration": 5,
    "start_time": "2021-11-04T08:58:07.830Z"
   },
   {
    "duration": 7,
    "start_time": "2021-11-04T08:58:07.839Z"
   },
   {
    "duration": 195,
    "start_time": "2021-11-04T08:58:07.849Z"
   },
   {
    "duration": 13,
    "start_time": "2021-11-04T08:58:08.046Z"
   },
   {
    "duration": 17,
    "start_time": "2021-11-04T08:58:08.061Z"
   },
   {
    "duration": 79,
    "start_time": "2021-11-04T08:58:08.080Z"
   },
   {
    "duration": 21,
    "start_time": "2021-11-04T08:58:08.162Z"
   },
   {
    "duration": 37,
    "start_time": "2021-11-04T08:58:08.185Z"
   },
   {
    "duration": 69,
    "start_time": "2021-11-04T08:58:08.225Z"
   },
   {
    "duration": 25,
    "start_time": "2021-11-04T08:58:08.297Z"
   },
   {
    "duration": 9,
    "start_time": "2021-11-04T08:58:08.325Z"
   },
   {
    "duration": 176,
    "start_time": "2021-11-04T08:58:08.336Z"
   },
   {
    "duration": 14,
    "start_time": "2021-11-04T08:58:08.514Z"
   },
   {
    "duration": 22,
    "start_time": "2021-11-04T08:58:08.531Z"
   },
   {
    "duration": 81,
    "start_time": "2021-11-04T08:58:08.556Z"
   },
   {
    "duration": 14,
    "start_time": "2021-11-04T08:58:08.640Z"
   },
   {
    "duration": 22,
    "start_time": "2021-11-04T08:58:08.657Z"
   },
   {
    "duration": 100,
    "start_time": "2021-11-04T08:58:08.681Z"
   },
   {
    "duration": 4,
    "start_time": "2021-11-04T08:58:08.788Z"
   },
   {
    "duration": 28,
    "start_time": "2021-11-04T08:58:08.796Z"
   },
   {
    "duration": 5,
    "start_time": "2021-11-04T08:58:08.827Z"
   },
   {
    "duration": 7,
    "start_time": "2021-11-04T08:58:08.835Z"
   },
   {
    "duration": 11,
    "start_time": "2021-11-04T08:58:08.845Z"
   },
   {
    "duration": 20,
    "start_time": "2021-11-04T08:58:08.858Z"
   },
   {
    "duration": 43,
    "start_time": "2021-11-04T08:58:08.881Z"
   },
   {
    "duration": 12,
    "start_time": "2021-11-04T08:58:08.927Z"
   },
   {
    "duration": 6,
    "start_time": "2021-11-04T08:58:08.942Z"
   },
   {
    "duration": 6,
    "start_time": "2021-11-04T08:58:08.951Z"
   },
   {
    "duration": 67,
    "start_time": "2021-11-04T08:58:08.960Z"
   },
   {
    "duration": 6,
    "start_time": "2021-11-04T08:58:09.030Z"
   },
   {
    "duration": 6,
    "start_time": "2021-11-04T08:58:09.038Z"
   },
   {
    "duration": 6,
    "start_time": "2021-11-04T08:58:09.047Z"
   },
   {
    "duration": 11,
    "start_time": "2021-11-04T08:58:09.055Z"
   },
   {
    "duration": 59,
    "start_time": "2021-11-04T08:58:09.069Z"
   },
   {
    "duration": 6,
    "start_time": "2021-11-04T08:58:09.130Z"
   },
   {
    "duration": 5,
    "start_time": "2021-11-04T08:58:09.139Z"
   },
   {
    "duration": 9,
    "start_time": "2021-11-04T08:58:09.146Z"
   },
   {
    "duration": 10,
    "start_time": "2021-11-04T08:58:09.157Z"
   },
   {
    "duration": 62,
    "start_time": "2021-11-04T08:58:09.170Z"
   },
   {
    "duration": 188,
    "start_time": "2021-11-04T08:58:09.234Z"
   },
   {
    "duration": 6,
    "start_time": "2021-11-04T08:58:09.425Z"
   },
   {
    "duration": 1210,
    "start_time": "2021-11-04T08:58:09.433Z"
   },
   {
    "duration": 1134,
    "start_time": "2021-11-04T08:58:10.647Z"
   },
   {
    "duration": 14,
    "start_time": "2021-11-04T08:58:11.785Z"
   },
   {
    "duration": 36,
    "start_time": "2021-11-04T08:58:11.801Z"
   },
   {
    "duration": 88,
    "start_time": "2021-11-04T08:58:11.841Z"
   },
   {
    "duration": 741,
    "start_time": "2021-11-04T08:58:11.933Z"
   },
   {
    "duration": 818,
    "start_time": "2021-11-04T08:58:12.678Z"
   },
   {
    "duration": 28,
    "start_time": "2021-11-04T08:58:13.499Z"
   },
   {
    "duration": 98,
    "start_time": "2021-11-04T08:58:13.530Z"
   },
   {
    "duration": 93,
    "start_time": "2021-11-04T08:58:13.632Z"
   },
   {
    "duration": 1094,
    "start_time": "2021-11-04T08:58:13.728Z"
   },
   {
    "duration": 1134,
    "start_time": "2021-11-04T08:58:14.825Z"
   },
   {
    "duration": 4,
    "start_time": "2021-11-04T08:58:15.962Z"
   },
   {
    "duration": 12,
    "start_time": "2021-11-04T08:58:15.969Z"
   },
   {
    "duration": 9,
    "start_time": "2021-11-04T08:58:15.984Z"
   },
   {
    "duration": 40,
    "start_time": "2021-11-04T08:58:15.996Z"
   },
   {
    "duration": 8,
    "start_time": "2021-11-04T08:58:16.039Z"
   },
   {
    "duration": 4,
    "start_time": "2021-11-04T09:01:17.557Z"
   },
   {
    "duration": 88,
    "start_time": "2021-11-04T09:01:49.995Z"
   },
   {
    "duration": 5,
    "start_time": "2021-11-04T09:01:59.660Z"
   },
   {
    "duration": 17,
    "start_time": "2021-11-04T09:03:01.879Z"
   },
   {
    "duration": 4,
    "start_time": "2021-11-04T09:03:20.383Z"
   },
   {
    "duration": 14,
    "start_time": "2021-11-04T09:03:22.503Z"
   },
   {
    "duration": 6,
    "start_time": "2021-11-04T09:03:58.878Z"
   },
   {
    "duration": 12,
    "start_time": "2021-11-04T09:04:24.864Z"
   },
   {
    "duration": 415,
    "start_time": "2021-11-04T09:05:14.889Z"
   },
   {
    "duration": 4,
    "start_time": "2021-11-04T09:05:21.099Z"
   },
   {
    "duration": 14,
    "start_time": "2021-11-04T09:05:21.679Z"
   },
   {
    "duration": 263,
    "start_time": "2021-11-04T09:05:31.674Z"
   },
   {
    "duration": 13,
    "start_time": "2021-11-04T09:08:18.739Z"
   },
   {
    "duration": 39,
    "start_time": "2021-11-04T09:10:20.083Z"
   },
   {
    "duration": 8,
    "start_time": "2021-11-04T09:10:20.999Z"
   },
   {
    "duration": 6,
    "start_time": "2021-11-04T09:10:48.876Z"
   },
   {
    "duration": 100,
    "start_time": "2021-11-04T09:10:51.829Z"
   },
   {
    "duration": 8,
    "start_time": "2021-11-04T09:10:53.367Z"
   },
   {
    "duration": 1492,
    "start_time": "2021-11-04T09:11:14.807Z"
   },
   {
    "duration": 165,
    "start_time": "2021-11-04T09:11:16.301Z"
   },
   {
    "duration": 17,
    "start_time": "2021-11-04T09:11:16.469Z"
   },
   {
    "duration": 16,
    "start_time": "2021-11-04T09:11:16.489Z"
   },
   {
    "duration": 14,
    "start_time": "2021-11-04T09:11:16.523Z"
   },
   {
    "duration": 52,
    "start_time": "2021-11-04T09:11:16.539Z"
   },
   {
    "duration": 37,
    "start_time": "2021-11-04T09:11:16.594Z"
   },
   {
    "duration": 90,
    "start_time": "2021-11-04T09:11:16.634Z"
   },
   {
    "duration": 4,
    "start_time": "2021-11-04T09:11:16.727Z"
   },
   {
    "duration": 11,
    "start_time": "2021-11-04T09:11:16.734Z"
   },
   {
    "duration": 162,
    "start_time": "2021-11-04T09:11:16.748Z"
   },
   {
    "duration": 17,
    "start_time": "2021-11-04T09:11:16.913Z"
   },
   {
    "duration": 20,
    "start_time": "2021-11-04T09:11:16.934Z"
   },
   {
    "duration": 88,
    "start_time": "2021-11-04T09:11:16.957Z"
   },
   {
    "duration": 21,
    "start_time": "2021-11-04T09:11:17.049Z"
   },
   {
    "duration": 16,
    "start_time": "2021-11-04T09:11:17.073Z"
   },
   {
    "duration": 66,
    "start_time": "2021-11-04T09:11:17.123Z"
   },
   {
    "duration": 5,
    "start_time": "2021-11-04T09:11:17.192Z"
   },
   {
    "duration": 6,
    "start_time": "2021-11-04T09:11:17.223Z"
   },
   {
    "duration": 166,
    "start_time": "2021-11-04T09:11:17.231Z"
   },
   {
    "duration": 22,
    "start_time": "2021-11-04T09:11:17.400Z"
   },
   {
    "duration": 18,
    "start_time": "2021-11-04T09:11:17.425Z"
   },
   {
    "duration": 80,
    "start_time": "2021-11-04T09:11:17.446Z"
   },
   {
    "duration": 15,
    "start_time": "2021-11-04T09:11:17.530Z"
   },
   {
    "duration": 15,
    "start_time": "2021-11-04T09:11:17.548Z"
   },
   {
    "duration": 108,
    "start_time": "2021-11-04T09:11:17.566Z"
   },
   {
    "duration": 4,
    "start_time": "2021-11-04T09:11:17.682Z"
   },
   {
    "duration": 31,
    "start_time": "2021-11-04T09:11:17.691Z"
   },
   {
    "duration": 7,
    "start_time": "2021-11-04T09:11:17.725Z"
   },
   {
    "duration": 11,
    "start_time": "2021-11-04T09:11:17.735Z"
   },
   {
    "duration": 8,
    "start_time": "2021-11-04T09:11:17.749Z"
   },
   {
    "duration": 24,
    "start_time": "2021-11-04T09:11:17.761Z"
   },
   {
    "duration": 37,
    "start_time": "2021-11-04T09:11:17.788Z"
   },
   {
    "duration": 6,
    "start_time": "2021-11-04T09:11:17.828Z"
   },
   {
    "duration": 6,
    "start_time": "2021-11-04T09:11:17.837Z"
   },
   {
    "duration": 13,
    "start_time": "2021-11-04T09:11:17.846Z"
   },
   {
    "duration": 64,
    "start_time": "2021-11-04T09:11:17.862Z"
   },
   {
    "duration": 5,
    "start_time": "2021-11-04T09:11:17.928Z"
   },
   {
    "duration": 10,
    "start_time": "2021-11-04T09:11:17.935Z"
   },
   {
    "duration": 5,
    "start_time": "2021-11-04T09:11:17.947Z"
   },
   {
    "duration": 7,
    "start_time": "2021-11-04T09:11:17.954Z"
   },
   {
    "duration": 23,
    "start_time": "2021-11-04T09:11:17.963Z"
   },
   {
    "duration": 5,
    "start_time": "2021-11-04T09:11:18.022Z"
   },
   {
    "duration": 8,
    "start_time": "2021-11-04T09:11:18.029Z"
   },
   {
    "duration": 9,
    "start_time": "2021-11-04T09:11:18.039Z"
   },
   {
    "duration": 8,
    "start_time": "2021-11-04T09:11:18.050Z"
   },
   {
    "duration": 16,
    "start_time": "2021-11-04T09:11:18.060Z"
   },
   {
    "duration": 144,
    "start_time": "2021-11-04T09:11:18.079Z"
   },
   {
    "duration": 95,
    "start_time": "2021-11-04T09:11:18.227Z"
   },
   {
    "duration": 950,
    "start_time": "2021-11-04T09:11:18.325Z"
   },
   {
    "duration": 912,
    "start_time": "2021-11-04T09:11:19.277Z"
   },
   {
    "duration": 13,
    "start_time": "2021-11-04T09:11:20.192Z"
   },
   {
    "duration": 101,
    "start_time": "2021-11-04T09:11:20.222Z"
   },
   {
    "duration": 96,
    "start_time": "2021-11-04T09:11:20.327Z"
   },
   {
    "duration": 632,
    "start_time": "2021-11-04T09:11:20.426Z"
   },
   {
    "duration": 597,
    "start_time": "2021-11-04T09:11:21.060Z"
   },
   {
    "duration": 12,
    "start_time": "2021-11-04T09:11:21.660Z"
   },
   {
    "duration": 56,
    "start_time": "2021-11-04T09:11:21.675Z"
   },
   {
    "duration": 91,
    "start_time": "2021-11-04T09:11:21.733Z"
   },
   {
    "duration": 968,
    "start_time": "2021-11-04T09:11:21.826Z"
   },
   {
    "duration": 941,
    "start_time": "2021-11-04T09:11:22.796Z"
   },
   {
    "duration": 4,
    "start_time": "2021-11-04T09:11:23.739Z"
   },
   {
    "duration": 7,
    "start_time": "2021-11-04T09:11:23.745Z"
   },
   {
    "duration": 9,
    "start_time": "2021-11-04T09:11:23.754Z"
   },
   {
    "duration": 6,
    "start_time": "2021-11-04T09:11:23.765Z"
   },
   {
    "duration": 7,
    "start_time": "2021-11-04T09:11:23.773Z"
   },
   {
    "duration": 40,
    "start_time": "2021-11-04T09:11:23.782Z"
   },
   {
    "duration": 14,
    "start_time": "2021-11-04T09:11:23.825Z"
   },
   {
    "duration": 108,
    "start_time": "2021-11-04T09:13:24.514Z"
   },
   {
    "duration": 12,
    "start_time": "2021-11-04T09:13:44.401Z"
   },
   {
    "duration": 16,
    "start_time": "2021-11-04T09:14:18.603Z"
   },
   {
    "duration": 13,
    "start_time": "2021-11-04T09:16:58.333Z"
   },
   {
    "duration": 12,
    "start_time": "2021-11-04T09:17:48.480Z"
   },
   {
    "duration": 13,
    "start_time": "2021-11-04T09:25:28.523Z"
   },
   {
    "duration": 389,
    "start_time": "2021-11-04T09:26:05.524Z"
   },
   {
    "duration": 7,
    "start_time": "2021-11-04T09:26:29.389Z"
   },
   {
    "duration": 5406,
    "start_time": "2021-11-04T09:26:38.442Z"
   },
   {
    "duration": 5193,
    "start_time": "2021-11-04T09:26:46.343Z"
   },
   {
    "duration": 7,
    "start_time": "2021-11-04T09:27:47.280Z"
   },
   {
    "duration": 4940,
    "start_time": "2021-11-04T09:27:47.994Z"
   },
   {
    "duration": 7,
    "start_time": "2021-11-04T09:28:23.457Z"
   },
   {
    "duration": 4,
    "start_time": "2021-11-04T09:31:10.180Z"
   },
   {
    "duration": 13,
    "start_time": "2021-11-04T09:31:11.854Z"
   },
   {
    "duration": 13,
    "start_time": "2021-11-04T09:31:14.688Z"
   },
   {
    "duration": 13,
    "start_time": "2021-11-04T09:31:15.574Z"
   },
   {
    "duration": 1626,
    "start_time": "2021-11-04T09:33:56.223Z"
   },
   {
    "duration": 281,
    "start_time": "2021-11-04T09:33:57.852Z"
   },
   {
    "duration": 18,
    "start_time": "2021-11-04T09:33:58.138Z"
   },
   {
    "duration": 18,
    "start_time": "2021-11-04T09:33:58.160Z"
   },
   {
    "duration": 45,
    "start_time": "2021-11-04T09:33:58.180Z"
   },
   {
    "duration": 61,
    "start_time": "2021-11-04T09:33:58.227Z"
   },
   {
    "duration": 40,
    "start_time": "2021-11-04T09:33:58.290Z"
   },
   {
    "duration": 91,
    "start_time": "2021-11-04T09:33:58.335Z"
   },
   {
    "duration": 6,
    "start_time": "2021-11-04T09:33:58.432Z"
   },
   {
    "duration": 8,
    "start_time": "2021-11-04T09:33:58.441Z"
   },
   {
    "duration": 193,
    "start_time": "2021-11-04T09:33:58.451Z"
   },
   {
    "duration": 12,
    "start_time": "2021-11-04T09:33:58.646Z"
   },
   {
    "duration": 18,
    "start_time": "2021-11-04T09:33:58.661Z"
   },
   {
    "duration": 83,
    "start_time": "2021-11-04T09:33:58.681Z"
   },
   {
    "duration": 19,
    "start_time": "2021-11-04T09:33:58.766Z"
   },
   {
    "duration": 35,
    "start_time": "2021-11-04T09:33:58.788Z"
   },
   {
    "duration": 67,
    "start_time": "2021-11-04T09:33:58.827Z"
   },
   {
    "duration": 4,
    "start_time": "2021-11-04T09:33:58.896Z"
   },
   {
    "duration": 25,
    "start_time": "2021-11-04T09:33:58.902Z"
   },
   {
    "duration": 181,
    "start_time": "2021-11-04T09:33:58.930Z"
   },
   {
    "duration": 20,
    "start_time": "2021-11-04T09:33:59.114Z"
   },
   {
    "duration": 17,
    "start_time": "2021-11-04T09:33:59.137Z"
   },
   {
    "duration": 89,
    "start_time": "2021-11-04T09:33:59.160Z"
   },
   {
    "duration": 13,
    "start_time": "2021-11-04T09:33:59.253Z"
   },
   {
    "duration": 16,
    "start_time": "2021-11-04T09:33:59.268Z"
   },
   {
    "duration": 102,
    "start_time": "2021-11-04T09:33:59.287Z"
   },
   {
    "duration": 6,
    "start_time": "2021-11-04T09:33:59.391Z"
   },
   {
    "duration": 5,
    "start_time": "2021-11-04T09:33:59.422Z"
   },
   {
    "duration": 11,
    "start_time": "2021-11-04T09:33:59.430Z"
   },
   {
    "duration": 8,
    "start_time": "2021-11-04T09:33:59.444Z"
   },
   {
    "duration": 9,
    "start_time": "2021-11-04T09:33:59.454Z"
   },
   {
    "duration": 22,
    "start_time": "2021-11-04T09:33:59.465Z"
   },
   {
    "duration": 35,
    "start_time": "2021-11-04T09:33:59.490Z"
   },
   {
    "duration": 13,
    "start_time": "2021-11-04T09:33:59.528Z"
   },
   {
    "duration": 19,
    "start_time": "2021-11-04T09:33:59.543Z"
   },
   {
    "duration": 16,
    "start_time": "2021-11-04T09:33:59.565Z"
   },
   {
    "duration": 46,
    "start_time": "2021-11-04T09:33:59.583Z"
   },
   {
    "duration": 7,
    "start_time": "2021-11-04T09:33:59.634Z"
   },
   {
    "duration": 5,
    "start_time": "2021-11-04T09:33:59.645Z"
   },
   {
    "duration": 8,
    "start_time": "2021-11-04T09:33:59.652Z"
   },
   {
    "duration": 6,
    "start_time": "2021-11-04T09:33:59.662Z"
   },
   {
    "duration": 66,
    "start_time": "2021-11-04T09:33:59.671Z"
   },
   {
    "duration": 7,
    "start_time": "2021-11-04T09:33:59.739Z"
   },
   {
    "duration": 7,
    "start_time": "2021-11-04T09:33:59.749Z"
   },
   {
    "duration": 6,
    "start_time": "2021-11-04T09:33:59.759Z"
   },
   {
    "duration": 6,
    "start_time": "2021-11-04T09:33:59.768Z"
   },
   {
    "duration": 65,
    "start_time": "2021-11-04T09:33:59.776Z"
   },
   {
    "duration": 180,
    "start_time": "2021-11-04T09:33:59.844Z"
   },
   {
    "duration": 9,
    "start_time": "2021-11-04T09:34:00.027Z"
   },
   {
    "duration": 1047,
    "start_time": "2021-11-04T09:34:00.039Z"
   },
   {
    "duration": 1028,
    "start_time": "2021-11-04T09:34:01.089Z"
   },
   {
    "duration": 17,
    "start_time": "2021-11-04T09:34:02.120Z"
   },
   {
    "duration": 83,
    "start_time": "2021-11-04T09:34:02.140Z"
   },
   {
    "duration": 9,
    "start_time": "2021-11-04T09:34:02.228Z"
   },
   {
    "duration": 650,
    "start_time": "2021-11-04T09:34:02.241Z"
   },
   {
    "duration": 666,
    "start_time": "2021-11-04T09:34:02.893Z"
   },
   {
    "duration": 15,
    "start_time": "2021-11-04T09:34:03.561Z"
   },
   {
    "duration": 61,
    "start_time": "2021-11-04T09:34:03.580Z"
   },
   {
    "duration": 15,
    "start_time": "2021-11-04T09:34:03.726Z"
   },
   {
    "duration": 1089,
    "start_time": "2021-11-04T09:34:03.744Z"
   },
   {
    "duration": 991,
    "start_time": "2021-11-04T09:34:04.837Z"
   },
   {
    "duration": 5,
    "start_time": "2021-11-04T09:34:05.831Z"
   },
   {
    "duration": 11,
    "start_time": "2021-11-04T09:34:05.839Z"
   },
   {
    "duration": 11,
    "start_time": "2021-11-04T09:34:05.852Z"
   },
   {
    "duration": 14,
    "start_time": "2021-11-04T09:34:05.865Z"
   },
   {
    "duration": 8,
    "start_time": "2021-11-04T09:34:05.881Z"
   },
   {
    "duration": 38,
    "start_time": "2021-11-04T09:34:05.891Z"
   },
   {
    "duration": 16,
    "start_time": "2021-11-04T09:34:05.941Z"
   },
   {
    "duration": 14,
    "start_time": "2021-11-04T09:34:05.959Z"
   },
   {
    "duration": 50,
    "start_time": "2021-11-04T09:34:05.976Z"
   },
   {
    "duration": 8,
    "start_time": "2021-11-04T09:34:06.029Z"
   },
   {
    "duration": 5,
    "start_time": "2021-11-04T09:34:30.766Z"
   },
   {
    "duration": 13,
    "start_time": "2021-11-04T09:34:32.235Z"
   },
   {
    "duration": 13,
    "start_time": "2021-11-04T09:34:33.693Z"
   },
   {
    "duration": 13,
    "start_time": "2021-11-04T09:34:34.644Z"
   },
   {
    "duration": 5,
    "start_time": "2021-11-04T09:34:46.817Z"
   },
   {
    "duration": 13,
    "start_time": "2021-11-04T09:34:48.052Z"
   },
   {
    "duration": 13,
    "start_time": "2021-11-04T09:34:48.685Z"
   },
   {
    "duration": 13,
    "start_time": "2021-11-04T09:34:49.238Z"
   },
   {
    "duration": 4,
    "start_time": "2021-11-04T09:38:54.498Z"
   },
   {
    "duration": 16,
    "start_time": "2021-11-04T09:38:55.728Z"
   },
   {
    "duration": 15,
    "start_time": "2021-11-04T09:38:56.777Z"
   },
   {
    "duration": 14,
    "start_time": "2021-11-04T09:38:57.429Z"
   },
   {
    "duration": 5,
    "start_time": "2021-11-04T09:49:45.049Z"
   },
   {
    "duration": 13,
    "start_time": "2021-11-04T09:49:46.438Z"
   },
   {
    "duration": 12,
    "start_time": "2021-11-04T09:49:47.334Z"
   },
   {
    "duration": 13,
    "start_time": "2021-11-04T09:49:48.351Z"
   },
   {
    "duration": 13,
    "start_time": "2021-11-04T09:50:16.437Z"
   },
   {
    "duration": 12,
    "start_time": "2021-11-04T09:50:17.337Z"
   },
   {
    "duration": 4,
    "start_time": "2021-11-04T09:51:58.360Z"
   },
   {
    "duration": 12,
    "start_time": "2021-11-04T09:51:59.786Z"
   },
   {
    "duration": 4,
    "start_time": "2021-11-04T09:52:29.662Z"
   },
   {
    "duration": 13,
    "start_time": "2021-11-04T09:52:30.741Z"
   },
   {
    "duration": 5,
    "start_time": "2021-11-04T09:53:04.285Z"
   },
   {
    "duration": 13,
    "start_time": "2021-11-04T09:53:05.592Z"
   },
   {
    "duration": 5,
    "start_time": "2021-11-04T09:53:48.259Z"
   },
   {
    "duration": 396,
    "start_time": "2021-11-04T09:53:56.531Z"
   },
   {
    "duration": 4,
    "start_time": "2021-11-04T09:54:15.256Z"
   },
   {
    "duration": 12,
    "start_time": "2021-11-04T09:54:16.979Z"
   },
   {
    "duration": 12,
    "start_time": "2021-11-04T09:55:14.152Z"
   },
   {
    "duration": 13,
    "start_time": "2021-11-04T09:55:14.839Z"
   },
   {
    "duration": 12,
    "start_time": "2021-11-04T09:55:15.658Z"
   },
   {
    "duration": 4,
    "start_time": "2021-11-04T12:16:58.804Z"
   },
   {
    "duration": 627,
    "start_time": "2021-11-04T12:18:08.901Z"
   },
   {
    "duration": 4,
    "start_time": "2021-11-04T12:18:18.338Z"
   },
   {
    "duration": 14,
    "start_time": "2021-11-04T12:18:19.005Z"
   },
   {
    "duration": 1385,
    "start_time": "2021-11-04T12:18:45.354Z"
   },
   {
    "duration": 169,
    "start_time": "2021-11-04T12:18:46.742Z"
   },
   {
    "duration": 21,
    "start_time": "2021-11-04T12:18:46.915Z"
   },
   {
    "duration": 17,
    "start_time": "2021-11-04T12:18:46.939Z"
   },
   {
    "duration": 15,
    "start_time": "2021-11-04T12:18:46.959Z"
   },
   {
    "duration": 96,
    "start_time": "2021-11-04T12:18:46.977Z"
   },
   {
    "duration": 15,
    "start_time": "2021-11-04T12:18:47.076Z"
   },
   {
    "duration": 72,
    "start_time": "2021-11-04T12:18:47.122Z"
   },
   {
    "duration": 24,
    "start_time": "2021-11-04T12:18:47.198Z"
   },
   {
    "duration": 5,
    "start_time": "2021-11-04T12:18:47.225Z"
   },
   {
    "duration": 168,
    "start_time": "2021-11-04T12:18:47.232Z"
   },
   {
    "duration": 20,
    "start_time": "2021-11-04T12:18:47.402Z"
   },
   {
    "duration": 17,
    "start_time": "2021-11-04T12:18:47.424Z"
   },
   {
    "duration": 49,
    "start_time": "2021-11-04T12:18:47.443Z"
   },
   {
    "duration": 45,
    "start_time": "2021-11-04T12:18:47.495Z"
   },
   {
    "duration": 12,
    "start_time": "2021-11-04T12:18:47.543Z"
   },
   {
    "duration": 93,
    "start_time": "2021-11-04T12:18:47.558Z"
   },
   {
    "duration": 4,
    "start_time": "2021-11-04T12:18:47.654Z"
   },
   {
    "duration": 12,
    "start_time": "2021-11-04T12:18:47.660Z"
   },
   {
    "duration": 177,
    "start_time": "2021-11-04T12:18:47.675Z"
   },
   {
    "duration": 13,
    "start_time": "2021-11-04T12:18:47.855Z"
   },
   {
    "duration": 18,
    "start_time": "2021-11-04T12:18:47.871Z"
   },
   {
    "duration": 73,
    "start_time": "2021-11-04T12:18:47.892Z"
   },
   {
    "duration": 13,
    "start_time": "2021-11-04T12:18:47.968Z"
   },
   {
    "duration": 44,
    "start_time": "2021-11-04T12:18:47.984Z"
   },
   {
    "duration": 66,
    "start_time": "2021-11-04T12:18:48.032Z"
   },
   {
    "duration": 21,
    "start_time": "2021-11-04T12:18:48.104Z"
   },
   {
    "duration": 6,
    "start_time": "2021-11-04T12:18:48.129Z"
   },
   {
    "duration": 13,
    "start_time": "2021-11-04T12:18:48.138Z"
   },
   {
    "duration": 10,
    "start_time": "2021-11-04T12:18:48.153Z"
   },
   {
    "duration": 10,
    "start_time": "2021-11-04T12:18:48.165Z"
   },
   {
    "duration": 54,
    "start_time": "2021-11-04T12:18:48.178Z"
   },
   {
    "duration": 6,
    "start_time": "2021-11-04T12:18:48.235Z"
   },
   {
    "duration": 16,
    "start_time": "2021-11-04T12:18:48.244Z"
   },
   {
    "duration": 12,
    "start_time": "2021-11-04T12:18:48.262Z"
   },
   {
    "duration": 9,
    "start_time": "2021-11-04T12:18:48.277Z"
   },
   {
    "duration": 41,
    "start_time": "2021-11-04T12:18:48.289Z"
   },
   {
    "duration": 5,
    "start_time": "2021-11-04T12:18:48.332Z"
   },
   {
    "duration": 12,
    "start_time": "2021-11-04T12:18:48.340Z"
   },
   {
    "duration": 11,
    "start_time": "2021-11-04T12:18:48.355Z"
   },
   {
    "duration": 8,
    "start_time": "2021-11-04T12:18:48.369Z"
   },
   {
    "duration": 57,
    "start_time": "2021-11-04T12:18:48.379Z"
   },
   {
    "duration": 5,
    "start_time": "2021-11-04T12:18:48.439Z"
   },
   {
    "duration": 8,
    "start_time": "2021-11-04T12:18:48.447Z"
   },
   {
    "duration": 7,
    "start_time": "2021-11-04T12:18:48.458Z"
   },
   {
    "duration": 6,
    "start_time": "2021-11-04T12:18:48.468Z"
   },
   {
    "duration": 54,
    "start_time": "2021-11-04T12:18:48.477Z"
   },
   {
    "duration": 96,
    "start_time": "2021-11-04T12:18:48.533Z"
   },
   {
    "duration": 95,
    "start_time": "2021-11-04T12:18:48.633Z"
   },
   {
    "duration": 974,
    "start_time": "2021-11-04T12:18:48.731Z"
   },
   {
    "duration": 979,
    "start_time": "2021-11-04T12:18:49.707Z"
   },
   {
    "duration": 15,
    "start_time": "2021-11-04T12:18:50.689Z"
   },
   {
    "duration": 109,
    "start_time": "2021-11-04T12:18:50.721Z"
   },
   {
    "duration": 6,
    "start_time": "2021-11-04T12:18:50.923Z"
   },
   {
    "duration": 763,
    "start_time": "2021-11-04T12:18:50.931Z"
   },
   {
    "duration": 643,
    "start_time": "2021-11-04T12:18:51.697Z"
   },
   {
    "duration": 11,
    "start_time": "2021-11-04T12:18:52.342Z"
   },
   {
    "duration": 70,
    "start_time": "2021-11-04T12:18:52.355Z"
   },
   {
    "duration": 95,
    "start_time": "2021-11-04T12:18:52.429Z"
   },
   {
    "duration": 972,
    "start_time": "2021-11-04T12:18:52.527Z"
   },
   {
    "duration": 978,
    "start_time": "2021-11-04T12:18:53.502Z"
   },
   {
    "duration": 3,
    "start_time": "2021-11-04T12:18:54.483Z"
   },
   {
    "duration": 11,
    "start_time": "2021-11-04T12:18:54.488Z"
   },
   {
    "duration": 23,
    "start_time": "2021-11-04T12:18:54.501Z"
   },
   {
    "duration": 7,
    "start_time": "2021-11-04T12:18:54.526Z"
   },
   {
    "duration": 7,
    "start_time": "2021-11-04T12:18:54.535Z"
   },
   {
    "duration": 6,
    "start_time": "2021-11-04T12:18:54.544Z"
   },
   {
    "duration": 15,
    "start_time": "2021-11-04T12:18:54.552Z"
   },
   {
    "duration": 16,
    "start_time": "2021-11-04T12:19:19.156Z"
   },
   {
    "duration": 5,
    "start_time": "2021-11-04T12:19:22.113Z"
   },
   {
    "duration": 12,
    "start_time": "2021-11-04T12:19:23.150Z"
   },
   {
    "duration": 13,
    "start_time": "2021-11-04T12:19:51.032Z"
   },
   {
    "duration": 4,
    "start_time": "2021-11-04T12:19:54.058Z"
   },
   {
    "duration": 14,
    "start_time": "2021-11-04T12:19:54.644Z"
   },
   {
    "duration": 4,
    "start_time": "2021-11-04T12:20:04.187Z"
   },
   {
    "duration": 14,
    "start_time": "2021-11-04T12:20:05.154Z"
   },
   {
    "duration": 14,
    "start_time": "2021-11-04T12:20:52.293Z"
   },
   {
    "duration": 4,
    "start_time": "2021-11-04T12:21:10.819Z"
   },
   {
    "duration": 19,
    "start_time": "2021-11-04T12:21:10.826Z"
   },
   {
    "duration": 11,
    "start_time": "2021-11-04T12:21:50.494Z"
   },
   {
    "duration": 5,
    "start_time": "2021-11-04T12:21:55.219Z"
   },
   {
    "duration": 11,
    "start_time": "2021-11-04T12:21:56.006Z"
   },
   {
    "duration": 5,
    "start_time": "2021-11-04T12:30:49.463Z"
   },
   {
    "duration": 6,
    "start_time": "2021-11-04T12:36:26.744Z"
   },
   {
    "duration": 6447,
    "start_time": "2021-11-04T12:38:19.969Z"
   },
   {
    "duration": 7,
    "start_time": "2021-11-04T12:39:01.107Z"
   },
   {
    "duration": 6020,
    "start_time": "2021-11-04T12:39:01.647Z"
   },
   {
    "duration": 5,
    "start_time": "2021-11-04T12:39:55.466Z"
   },
   {
    "duration": 7,
    "start_time": "2021-11-04T12:39:57.420Z"
   },
   {
    "duration": 5839,
    "start_time": "2021-11-04T12:39:58.254Z"
   },
   {
    "duration": 9,
    "start_time": "2021-11-04T12:41:40.856Z"
   },
   {
    "duration": 5437,
    "start_time": "2021-11-04T12:41:41.905Z"
   },
   {
    "duration": 6,
    "start_time": "2021-11-04T12:41:53.981Z"
   },
   {
    "duration": 4,
    "start_time": "2021-11-04T13:17:22.799Z"
   },
   {
    "duration": 4,
    "start_time": "2021-11-04T13:18:54.402Z"
   },
   {
    "duration": 12,
    "start_time": "2021-11-04T13:20:09.696Z"
   },
   {
    "duration": 252,
    "start_time": "2021-11-04T13:21:12.345Z"
   },
   {
    "duration": 5,
    "start_time": "2021-11-04T13:21:53.083Z"
   },
   {
    "duration": 17,
    "start_time": "2021-11-04T13:21:56.027Z"
   },
   {
    "duration": 4,
    "start_time": "2021-11-04T13:29:09.262Z"
   },
   {
    "duration": 16,
    "start_time": "2021-11-04T13:29:10.823Z"
   },
   {
    "duration": 4,
    "start_time": "2021-11-04T13:30:18.212Z"
   },
   {
    "duration": 11,
    "start_time": "2021-11-04T13:30:20.279Z"
   },
   {
    "duration": 5,
    "start_time": "2021-11-04T13:32:45.073Z"
   },
   {
    "duration": 15,
    "start_time": "2021-11-04T13:32:46.071Z"
   },
   {
    "duration": 9,
    "start_time": "2021-11-04T13:34:45.875Z"
   },
   {
    "duration": 349,
    "start_time": "2021-11-04T13:35:32.649Z"
   },
   {
    "duration": 9,
    "start_time": "2021-11-04T13:36:04.203Z"
   },
   {
    "duration": 7,
    "start_time": "2021-11-04T13:36:28.180Z"
   },
   {
    "duration": 6,
    "start_time": "2021-11-04T13:36:41.885Z"
   },
   {
    "duration": 8,
    "start_time": "2021-11-04T13:36:50.724Z"
   },
   {
    "duration": 4,
    "start_time": "2021-11-04T13:37:29.300Z"
   },
   {
    "duration": 17,
    "start_time": "2021-11-04T13:37:30.573Z"
   },
   {
    "duration": 4,
    "start_time": "2021-11-04T13:39:34.122Z"
   },
   {
    "duration": 11,
    "start_time": "2021-11-04T13:39:36.895Z"
   },
   {
    "duration": 4,
    "start_time": "2021-11-04T13:48:29.490Z"
   },
   {
    "duration": 16,
    "start_time": "2021-11-04T13:48:30.438Z"
   },
   {
    "duration": 4,
    "start_time": "2021-11-04T13:48:54.976Z"
   },
   {
    "duration": 17,
    "start_time": "2021-11-04T13:48:55.823Z"
   },
   {
    "duration": 17,
    "start_time": "2021-11-04T13:50:50.697Z"
   },
   {
    "duration": 7,
    "start_time": "2021-11-04T13:51:12.201Z"
   },
   {
    "duration": 12,
    "start_time": "2021-11-04T13:51:52.281Z"
   },
   {
    "duration": 12,
    "start_time": "2021-11-04T13:52:52.506Z"
   },
   {
    "duration": 7,
    "start_time": "2021-11-04T13:54:03.849Z"
   },
   {
    "duration": 7017,
    "start_time": "2021-11-04T13:54:23.024Z"
   },
   {
    "duration": 7288,
    "start_time": "2021-11-04T13:56:21.309Z"
   },
   {
    "duration": 5,
    "start_time": "2021-11-04T13:56:40.169Z"
   },
   {
    "duration": 4,
    "start_time": "2021-11-04T14:04:29.118Z"
   },
   {
    "duration": 13,
    "start_time": "2021-11-04T14:04:35.926Z"
   },
   {
    "duration": 4,
    "start_time": "2021-11-04T14:05:04.298Z"
   },
   {
    "duration": 13,
    "start_time": "2021-11-04T14:05:05.345Z"
   },
   {
    "duration": 5,
    "start_time": "2021-11-04T14:11:57.351Z"
   },
   {
    "duration": 13,
    "start_time": "2021-11-04T14:11:58.246Z"
   },
   {
    "duration": 4,
    "start_time": "2021-11-04T14:12:20.469Z"
   },
   {
    "duration": 14,
    "start_time": "2021-11-04T14:12:22.208Z"
   },
   {
    "duration": 13,
    "start_time": "2021-11-04T14:12:53.369Z"
   },
   {
    "duration": 6,
    "start_time": "2021-11-04T14:12:57.119Z"
   },
   {
    "duration": 12,
    "start_time": "2021-11-04T14:12:59.365Z"
   },
   {
    "duration": 4,
    "start_time": "2021-11-04T14:14:06.207Z"
   },
   {
    "duration": 13,
    "start_time": "2021-11-04T14:14:07.333Z"
   },
   {
    "duration": 4,
    "start_time": "2021-11-04T14:14:53.409Z"
   },
   {
    "duration": 15,
    "start_time": "2021-11-04T14:14:55.762Z"
   },
   {
    "duration": 4,
    "start_time": "2021-11-04T14:16:58.538Z"
   },
   {
    "duration": 18,
    "start_time": "2021-11-04T14:17:00.749Z"
   },
   {
    "duration": 4,
    "start_time": "2021-11-04T14:19:35.876Z"
   },
   {
    "duration": 16,
    "start_time": "2021-11-04T14:19:37.303Z"
   },
   {
    "duration": 4,
    "start_time": "2021-11-04T14:20:17.208Z"
   },
   {
    "duration": 13,
    "start_time": "2021-11-04T14:20:17.972Z"
   },
   {
    "duration": 5,
    "start_time": "2021-11-04T14:22:35.807Z"
   },
   {
    "duration": 19,
    "start_time": "2021-11-04T14:22:38.296Z"
   },
   {
    "duration": 4,
    "start_time": "2021-11-04T14:22:52.539Z"
   },
   {
    "duration": 21,
    "start_time": "2021-11-04T14:22:54.603Z"
   },
   {
    "duration": 5,
    "start_time": "2021-11-04T14:28:35.361Z"
   },
   {
    "duration": 1535,
    "start_time": "2021-11-04T14:53:56.612Z"
   },
   {
    "duration": 174,
    "start_time": "2021-11-04T14:53:58.150Z"
   },
   {
    "duration": 17,
    "start_time": "2021-11-04T14:53:58.328Z"
   },
   {
    "duration": 16,
    "start_time": "2021-11-04T14:53:58.348Z"
   },
   {
    "duration": 14,
    "start_time": "2021-11-04T14:53:58.366Z"
   },
   {
    "duration": 84,
    "start_time": "2021-11-04T14:53:58.382Z"
   },
   {
    "duration": 13,
    "start_time": "2021-11-04T14:53:58.469Z"
   },
   {
    "duration": 97,
    "start_time": "2021-11-04T14:53:58.486Z"
   },
   {
    "duration": 5,
    "start_time": "2021-11-04T14:53:58.586Z"
   },
   {
    "duration": 8,
    "start_time": "2021-11-04T14:53:58.593Z"
   },
   {
    "duration": 164,
    "start_time": "2021-11-04T14:53:58.624Z"
   },
   {
    "duration": 12,
    "start_time": "2021-11-04T14:53:58.790Z"
   },
   {
    "duration": 28,
    "start_time": "2021-11-04T14:53:58.804Z"
   },
   {
    "duration": 49,
    "start_time": "2021-11-04T14:53:58.834Z"
   },
   {
    "duration": 42,
    "start_time": "2021-11-04T14:53:58.886Z"
   },
   {
    "duration": 12,
    "start_time": "2021-11-04T14:53:58.931Z"
   },
   {
    "duration": 91,
    "start_time": "2021-11-04T14:53:58.945Z"
   },
   {
    "duration": 4,
    "start_time": "2021-11-04T14:53:59.038Z"
   },
   {
    "duration": 7,
    "start_time": "2021-11-04T14:53:59.044Z"
   },
   {
    "duration": 170,
    "start_time": "2021-11-04T14:53:59.053Z"
   },
   {
    "duration": 12,
    "start_time": "2021-11-04T14:53:59.225Z"
   },
   {
    "duration": 16,
    "start_time": "2021-11-04T14:53:59.240Z"
   },
   {
    "duration": 74,
    "start_time": "2021-11-04T14:53:59.263Z"
   },
   {
    "duration": 12,
    "start_time": "2021-11-04T14:53:59.341Z"
   },
   {
    "duration": 16,
    "start_time": "2021-11-04T14:53:59.355Z"
   },
   {
    "duration": 96,
    "start_time": "2021-11-04T14:53:59.373Z"
   },
   {
    "duration": 4,
    "start_time": "2021-11-04T14:53:59.472Z"
   },
   {
    "duration": 7,
    "start_time": "2021-11-04T14:53:59.478Z"
   },
   {
    "duration": 11,
    "start_time": "2021-11-04T14:53:59.487Z"
   },
   {
    "duration": 6,
    "start_time": "2021-11-04T14:53:59.523Z"
   },
   {
    "duration": 8,
    "start_time": "2021-11-04T14:53:59.532Z"
   },
   {
    "duration": 23,
    "start_time": "2021-11-04T14:53:59.542Z"
   },
   {
    "duration": 5,
    "start_time": "2021-11-04T14:53:59.568Z"
   },
   {
    "duration": 12,
    "start_time": "2021-11-04T14:53:59.575Z"
   },
   {
    "duration": 38,
    "start_time": "2021-11-04T14:53:59.589Z"
   },
   {
    "duration": 7,
    "start_time": "2021-11-04T14:53:59.630Z"
   },
   {
    "duration": 24,
    "start_time": "2021-11-04T14:53:59.639Z"
   },
   {
    "duration": 7,
    "start_time": "2021-11-04T14:53:59.665Z"
   },
   {
    "duration": 47,
    "start_time": "2021-11-04T14:53:59.675Z"
   },
   {
    "duration": 7,
    "start_time": "2021-11-04T14:53:59.725Z"
   },
   {
    "duration": 5,
    "start_time": "2021-11-04T14:53:59.735Z"
   },
   {
    "duration": 25,
    "start_time": "2021-11-04T14:53:59.743Z"
   },
   {
    "duration": 6,
    "start_time": "2021-11-04T14:53:59.771Z"
   },
   {
    "duration": 47,
    "start_time": "2021-11-04T14:53:59.780Z"
   },
   {
    "duration": 5,
    "start_time": "2021-11-04T14:53:59.830Z"
   },
   {
    "duration": 6,
    "start_time": "2021-11-04T14:53:59.838Z"
   },
   {
    "duration": 16,
    "start_time": "2021-11-04T14:53:59.847Z"
   },
   {
    "duration": 71,
    "start_time": "2021-11-04T14:53:59.866Z"
   },
   {
    "duration": 88,
    "start_time": "2021-11-04T14:53:59.939Z"
   },
   {
    "duration": 1056,
    "start_time": "2021-11-04T14:54:00.030Z"
   },
   {
    "duration": 943,
    "start_time": "2021-11-04T14:54:01.089Z"
   },
   {
    "duration": 14,
    "start_time": "2021-11-04T14:54:02.035Z"
   },
   {
    "duration": 72,
    "start_time": "2021-11-04T14:54:02.052Z"
   },
   {
    "duration": 99,
    "start_time": "2021-11-04T14:54:02.127Z"
   },
   {
    "duration": 559,
    "start_time": "2021-11-04T14:54:02.229Z"
   },
   {
    "duration": 771,
    "start_time": "2021-11-04T14:54:02.791Z"
   },
   {
    "duration": 15,
    "start_time": "2021-11-04T14:54:03.564Z"
   },
   {
    "duration": 44,
    "start_time": "2021-11-04T14:54:03.582Z"
   },
   {
    "duration": 92,
    "start_time": "2021-11-04T14:54:03.630Z"
   },
   {
    "duration": 941,
    "start_time": "2021-11-04T14:54:03.724Z"
   },
   {
    "duration": 1050,
    "start_time": "2021-11-04T14:54:04.667Z"
   },
   {
    "duration": 4,
    "start_time": "2021-11-04T14:54:05.723Z"
   },
   {
    "duration": 10,
    "start_time": "2021-11-04T14:54:05.729Z"
   },
   {
    "duration": 6,
    "start_time": "2021-11-04T14:54:05.742Z"
   },
   {
    "duration": 5,
    "start_time": "2021-11-04T14:54:05.751Z"
   },
   {
    "duration": 8,
    "start_time": "2021-11-04T14:54:05.759Z"
   },
   {
    "duration": 9,
    "start_time": "2021-11-04T14:54:05.770Z"
   },
   {
    "duration": 7,
    "start_time": "2021-11-04T14:54:05.826Z"
   },
   {
    "duration": 402,
    "start_time": "2021-11-04T14:54:05.836Z"
   },
   {
    "duration": 5256,
    "start_time": "2021-11-04T14:54:22.728Z"
   },
   {
    "duration": 6,
    "start_time": "2021-11-04T14:54:37.555Z"
   },
   {
    "duration": 5119,
    "start_time": "2021-11-04T14:54:37.564Z"
   },
   {
    "duration": 6,
    "start_time": "2021-11-04T14:55:13.778Z"
   },
   {
    "duration": 266,
    "start_time": "2021-11-04T14:56:05.236Z"
   },
   {
    "duration": 6,
    "start_time": "2021-11-04T14:56:07.648Z"
   },
   {
    "duration": 5361,
    "start_time": "2021-11-04T14:56:08.356Z"
   },
   {
    "duration": 5,
    "start_time": "2021-11-04T14:56:13.722Z"
   },
   {
    "duration": 5121,
    "start_time": "2021-11-04T14:56:58.686Z"
   },
   {
    "duration": 13,
    "start_time": "2021-11-04T14:57:03.810Z"
   },
   {
    "duration": 1461,
    "start_time": "2021-11-04T14:59:25.969Z"
   },
   {
    "duration": 174,
    "start_time": "2021-11-04T14:59:27.433Z"
   },
   {
    "duration": 19,
    "start_time": "2021-11-04T14:59:27.611Z"
   },
   {
    "duration": 16,
    "start_time": "2021-11-04T14:59:27.634Z"
   },
   {
    "duration": 14,
    "start_time": "2021-11-04T14:59:27.652Z"
   },
   {
    "duration": 93,
    "start_time": "2021-11-04T14:59:27.670Z"
   },
   {
    "duration": 14,
    "start_time": "2021-11-04T14:59:27.765Z"
   },
   {
    "duration": 114,
    "start_time": "2021-11-04T14:59:27.781Z"
   },
   {
    "duration": 5,
    "start_time": "2021-11-04T14:59:27.901Z"
   },
   {
    "duration": 5,
    "start_time": "2021-11-04T14:59:27.925Z"
   },
   {
    "duration": 182,
    "start_time": "2021-11-04T14:59:27.933Z"
   },
   {
    "duration": 13,
    "start_time": "2021-11-04T14:59:28.118Z"
   },
   {
    "duration": 23,
    "start_time": "2021-11-04T14:59:28.133Z"
   },
   {
    "duration": 72,
    "start_time": "2021-11-04T14:59:28.158Z"
   },
   {
    "duration": 22,
    "start_time": "2021-11-04T14:59:28.232Z"
   },
   {
    "duration": 16,
    "start_time": "2021-11-04T14:59:28.257Z"
   },
   {
    "duration": 105,
    "start_time": "2021-11-04T14:59:28.276Z"
   },
   {
    "duration": 5,
    "start_time": "2021-11-04T14:59:28.384Z"
   },
   {
    "duration": 33,
    "start_time": "2021-11-04T14:59:28.391Z"
   },
   {
    "duration": 166,
    "start_time": "2021-11-04T14:59:28.426Z"
   },
   {
    "duration": 12,
    "start_time": "2021-11-04T14:59:28.595Z"
   },
   {
    "duration": 25,
    "start_time": "2021-11-04T14:59:28.609Z"
   },
   {
    "duration": 48,
    "start_time": "2021-11-04T14:59:28.636Z"
   },
   {
    "duration": 37,
    "start_time": "2021-11-04T14:59:28.687Z"
   },
   {
    "duration": 14,
    "start_time": "2021-11-04T14:59:28.727Z"
   },
   {
    "duration": 83,
    "start_time": "2021-11-04T14:59:28.743Z"
   },
   {
    "duration": 5,
    "start_time": "2021-11-04T14:59:28.832Z"
   },
   {
    "duration": 13,
    "start_time": "2021-11-04T14:59:28.840Z"
   },
   {
    "duration": 7,
    "start_time": "2021-11-04T14:59:28.856Z"
   },
   {
    "duration": 10,
    "start_time": "2021-11-04T14:59:28.866Z"
   },
   {
    "duration": 8,
    "start_time": "2021-11-04T14:59:28.878Z"
   },
   {
    "duration": 51,
    "start_time": "2021-11-04T14:59:28.888Z"
   },
   {
    "duration": 5,
    "start_time": "2021-11-04T14:59:28.941Z"
   },
   {
    "duration": 6,
    "start_time": "2021-11-04T14:59:28.949Z"
   },
   {
    "duration": 5,
    "start_time": "2021-11-04T14:59:28.957Z"
   },
   {
    "duration": 8,
    "start_time": "2021-11-04T14:59:28.964Z"
   },
   {
    "duration": 59,
    "start_time": "2021-11-04T14:59:28.974Z"
   },
   {
    "duration": 6,
    "start_time": "2021-11-04T14:59:29.036Z"
   },
   {
    "duration": 9,
    "start_time": "2021-11-04T14:59:29.044Z"
   },
   {
    "duration": 6,
    "start_time": "2021-11-04T14:59:29.056Z"
   },
   {
    "duration": 7,
    "start_time": "2021-11-04T14:59:29.064Z"
   },
   {
    "duration": 64,
    "start_time": "2021-11-04T14:59:29.073Z"
   },
   {
    "duration": 5,
    "start_time": "2021-11-04T14:59:29.139Z"
   },
   {
    "duration": 7,
    "start_time": "2021-11-04T14:59:29.146Z"
   },
   {
    "duration": 10,
    "start_time": "2021-11-04T14:59:29.155Z"
   },
   {
    "duration": 9,
    "start_time": "2021-11-04T14:59:29.167Z"
   },
   {
    "duration": 51,
    "start_time": "2021-11-04T14:59:29.178Z"
   },
   {
    "duration": 92,
    "start_time": "2021-11-04T14:59:29.231Z"
   },
   {
    "duration": 95,
    "start_time": "2021-11-04T14:59:29.331Z"
   },
   {
    "duration": 961,
    "start_time": "2021-11-04T14:59:29.430Z"
   },
   {
    "duration": 933,
    "start_time": "2021-11-04T14:59:30.393Z"
   },
   {
    "duration": 14,
    "start_time": "2021-11-04T14:59:31.328Z"
   },
   {
    "duration": 85,
    "start_time": "2021-11-04T14:59:31.344Z"
   },
   {
    "duration": 90,
    "start_time": "2021-11-04T14:59:31.433Z"
   },
   {
    "duration": 559,
    "start_time": "2021-11-04T14:59:31.526Z"
   },
   {
    "duration": 603,
    "start_time": "2021-11-04T14:59:32.087Z"
   },
   {
    "duration": 11,
    "start_time": "2021-11-04T14:59:32.692Z"
   },
   {
    "duration": 36,
    "start_time": "2021-11-04T14:59:32.706Z"
   },
   {
    "duration": 12,
    "start_time": "2021-11-04T14:59:32.824Z"
   },
   {
    "duration": 930,
    "start_time": "2021-11-04T14:59:32.924Z"
   },
   {
    "duration": 928,
    "start_time": "2021-11-04T14:59:33.857Z"
   },
   {
    "duration": 4,
    "start_time": "2021-11-04T14:59:34.787Z"
   },
   {
    "duration": 24,
    "start_time": "2021-11-04T14:59:34.794Z"
   },
   {
    "duration": 23,
    "start_time": "2021-11-04T14:59:34.821Z"
   },
   {
    "duration": 6,
    "start_time": "2021-11-04T14:59:34.847Z"
   },
   {
    "duration": 18,
    "start_time": "2021-11-04T14:59:34.856Z"
   },
   {
    "duration": 34,
    "start_time": "2021-11-04T14:59:34.876Z"
   },
   {
    "duration": 21,
    "start_time": "2021-11-04T14:59:34.912Z"
   },
   {
    "duration": 5395,
    "start_time": "2021-11-04T14:59:34.935Z"
   },
   {
    "duration": 6,
    "start_time": "2021-11-04T14:59:40.333Z"
   },
   {
    "duration": 5424,
    "start_time": "2021-11-04T14:59:40.342Z"
   },
   {
    "duration": 6,
    "start_time": "2021-11-04T14:59:45.768Z"
   },
   {
    "duration": 5474,
    "start_time": "2021-11-04T14:59:45.777Z"
   },
   {
    "duration": 6,
    "start_time": "2021-11-04T14:59:51.254Z"
   },
   {
    "duration": 13,
    "start_time": "2021-11-04T15:08:04.198Z"
   },
   {
    "duration": 1436,
    "start_time": "2021-11-04T15:08:10.591Z"
   },
   {
    "duration": 271,
    "start_time": "2021-11-04T15:08:12.149Z"
   },
   {
    "duration": 102,
    "start_time": "2021-11-04T15:08:31.721Z"
   },
   {
    "duration": 7,
    "start_time": "2021-11-04T15:08:32.978Z"
   },
   {
    "duration": 943,
    "start_time": "2021-11-04T15:08:39.422Z"
   },
   {
    "duration": 1138,
    "start_time": "2021-11-04T15:08:43.090Z"
   },
   {
    "duration": 15,
    "start_time": "2021-11-04T15:09:19.564Z"
   },
   {
    "duration": 6,
    "start_time": "2021-11-04T15:09:41.470Z"
   },
   {
    "duration": 525,
    "start_time": "2021-11-04T15:09:44.161Z"
   },
   {
    "duration": 506,
    "start_time": "2021-11-04T15:09:46.430Z"
   },
   {
    "duration": 26,
    "start_time": "2021-11-04T15:10:07.796Z"
   },
   {
    "duration": 6,
    "start_time": "2021-11-04T15:10:14.781Z"
   },
   {
    "duration": 910,
    "start_time": "2021-11-04T15:10:18.665Z"
   },
   {
    "duration": 928,
    "start_time": "2021-11-04T15:10:19.721Z"
   },
   {
    "duration": 319,
    "start_time": "2021-11-04T15:10:43.003Z"
   },
   {
    "duration": 1491,
    "start_time": "2021-11-04T15:10:55.102Z"
   },
   {
    "duration": 169,
    "start_time": "2021-11-04T15:10:56.596Z"
   },
   {
    "duration": 17,
    "start_time": "2021-11-04T15:10:56.767Z"
   },
   {
    "duration": 35,
    "start_time": "2021-11-04T15:10:56.787Z"
   },
   {
    "duration": 13,
    "start_time": "2021-11-04T15:10:56.825Z"
   },
   {
    "duration": 51,
    "start_time": "2021-11-04T15:10:56.841Z"
   },
   {
    "duration": 36,
    "start_time": "2021-11-04T15:10:56.895Z"
   },
   {
    "duration": 67,
    "start_time": "2021-11-04T15:10:56.934Z"
   },
   {
    "duration": 5,
    "start_time": "2021-11-04T15:10:57.023Z"
   },
   {
    "duration": 6,
    "start_time": "2021-11-04T15:10:57.030Z"
   },
   {
    "duration": 171,
    "start_time": "2021-11-04T15:10:57.038Z"
   },
   {
    "duration": 16,
    "start_time": "2021-11-04T15:10:57.211Z"
   },
   {
    "duration": 20,
    "start_time": "2021-11-04T15:10:57.230Z"
   },
   {
    "duration": 48,
    "start_time": "2021-11-04T15:10:57.252Z"
   },
   {
    "duration": 19,
    "start_time": "2021-11-04T15:10:57.322Z"
   },
   {
    "duration": 12,
    "start_time": "2021-11-04T15:10:57.344Z"
   },
   {
    "duration": 101,
    "start_time": "2021-11-04T15:10:57.358Z"
   },
   {
    "duration": 4,
    "start_time": "2021-11-04T15:10:57.462Z"
   },
   {
    "duration": 7,
    "start_time": "2021-11-04T15:10:57.468Z"
   },
   {
    "duration": 171,
    "start_time": "2021-11-04T15:10:57.477Z"
   },
   {
    "duration": 12,
    "start_time": "2021-11-04T15:10:57.651Z"
   },
   {
    "duration": 22,
    "start_time": "2021-11-04T15:10:57.667Z"
   },
   {
    "duration": 71,
    "start_time": "2021-11-04T15:10:57.692Z"
   },
   {
    "duration": 13,
    "start_time": "2021-11-04T15:10:57.765Z"
   },
   {
    "duration": 43,
    "start_time": "2021-11-04T15:10:57.781Z"
   },
   {
    "duration": 74,
    "start_time": "2021-11-04T15:10:57.826Z"
   },
   {
    "duration": 4,
    "start_time": "2021-11-04T15:10:57.923Z"
   },
   {
    "duration": 7,
    "start_time": "2021-11-04T15:10:57.930Z"
   },
   {
    "duration": 11,
    "start_time": "2021-11-04T15:10:57.939Z"
   },
   {
    "duration": 8,
    "start_time": "2021-11-04T15:10:57.953Z"
   },
   {
    "duration": 10,
    "start_time": "2021-11-04T15:10:57.963Z"
   },
   {
    "duration": 51,
    "start_time": "2021-11-04T15:10:57.975Z"
   },
   {
    "duration": 5,
    "start_time": "2021-11-04T15:10:58.028Z"
   },
   {
    "duration": 6,
    "start_time": "2021-11-04T15:10:58.036Z"
   },
   {
    "duration": 6,
    "start_time": "2021-11-04T15:10:58.045Z"
   },
   {
    "duration": 7,
    "start_time": "2021-11-04T15:10:58.053Z"
   },
   {
    "duration": 22,
    "start_time": "2021-11-04T15:10:58.062Z"
   },
   {
    "duration": 38,
    "start_time": "2021-11-04T15:10:58.086Z"
   },
   {
    "duration": 6,
    "start_time": "2021-11-04T15:10:58.126Z"
   },
   {
    "duration": 7,
    "start_time": "2021-11-04T15:10:58.134Z"
   },
   {
    "duration": 9,
    "start_time": "2021-11-04T15:10:58.143Z"
   },
   {
    "duration": 23,
    "start_time": "2021-11-04T15:10:58.154Z"
   },
   {
    "duration": 4,
    "start_time": "2021-11-04T15:10:58.180Z"
   },
   {
    "duration": 9,
    "start_time": "2021-11-04T15:10:58.223Z"
   },
   {
    "duration": 8,
    "start_time": "2021-11-04T15:10:58.234Z"
   },
   {
    "duration": 11,
    "start_time": "2021-11-04T15:10:58.245Z"
   },
   {
    "duration": 16,
    "start_time": "2021-11-04T15:10:58.258Z"
   },
   {
    "duration": 150,
    "start_time": "2021-11-04T15:10:58.277Z"
   },
   {
    "duration": 9,
    "start_time": "2021-11-04T15:10:58.430Z"
   },
   {
    "duration": 970,
    "start_time": "2021-11-04T15:10:58.441Z"
   },
   {
    "duration": 917,
    "start_time": "2021-11-04T15:10:59.413Z"
   },
   {
    "duration": 14,
    "start_time": "2021-11-04T15:11:00.333Z"
   },
   {
    "duration": 174,
    "start_time": "2021-11-04T15:11:00.349Z"
   },
   {
    "duration": 6,
    "start_time": "2021-11-04T15:11:00.525Z"
   },
   {
    "duration": 705,
    "start_time": "2021-11-04T15:11:00.533Z"
   },
   {
    "duration": 626,
    "start_time": "2021-11-04T15:11:01.241Z"
   },
   {
    "duration": 10,
    "start_time": "2021-11-04T15:11:01.869Z"
   },
   {
    "duration": 47,
    "start_time": "2021-11-04T15:11:01.882Z"
   },
   {
    "duration": 97,
    "start_time": "2021-11-04T15:11:01.932Z"
   },
   {
    "duration": 995,
    "start_time": "2021-11-04T15:11:02.032Z"
   },
   {
    "duration": 1080,
    "start_time": "2021-11-04T15:11:03.029Z"
   },
   {
    "duration": 10,
    "start_time": "2021-11-04T15:11:04.112Z"
   },
   {
    "duration": 9,
    "start_time": "2021-11-04T15:11:04.125Z"
   },
   {
    "duration": 10,
    "start_time": "2021-11-04T15:11:04.136Z"
   },
   {
    "duration": 8,
    "start_time": "2021-11-04T15:11:04.149Z"
   },
   {
    "duration": 7,
    "start_time": "2021-11-04T15:11:04.160Z"
   },
   {
    "duration": 6,
    "start_time": "2021-11-04T15:11:04.170Z"
   },
   {
    "duration": 43,
    "start_time": "2021-11-04T15:11:04.179Z"
   },
   {
    "duration": 5074,
    "start_time": "2021-11-04T15:11:04.226Z"
   },
   {
    "duration": 6,
    "start_time": "2021-11-04T15:11:09.302Z"
   },
   {
    "duration": 5370,
    "start_time": "2021-11-04T15:11:09.311Z"
   },
   {
    "duration": 5,
    "start_time": "2021-11-04T15:11:14.684Z"
   },
   {
    "duration": 5238,
    "start_time": "2021-11-04T15:11:14.691Z"
   },
   {
    "duration": 6,
    "start_time": "2021-11-04T15:11:19.932Z"
   },
   {
    "duration": 7,
    "start_time": "2021-11-04T16:41:39.608Z"
   },
   {
    "duration": 4,
    "start_time": "2021-11-04T16:53:04.346Z"
   },
   {
    "duration": 7,
    "start_time": "2021-11-04T16:53:19.463Z"
   },
   {
    "duration": 5,
    "start_time": "2021-11-04T16:54:01.255Z"
   },
   {
    "duration": 7,
    "start_time": "2021-11-04T16:54:07.780Z"
   },
   {
    "duration": 7,
    "start_time": "2021-11-04T16:54:14.340Z"
   },
   {
    "duration": 1944,
    "start_time": "2021-11-04T16:54:34.690Z"
   },
   {
    "duration": 173,
    "start_time": "2021-11-04T16:54:36.637Z"
   },
   {
    "duration": 17,
    "start_time": "2021-11-04T16:54:36.814Z"
   },
   {
    "duration": 19,
    "start_time": "2021-11-04T16:54:36.834Z"
   },
   {
    "duration": 14,
    "start_time": "2021-11-04T16:54:36.855Z"
   },
   {
    "duration": 84,
    "start_time": "2021-11-04T16:54:36.871Z"
   },
   {
    "duration": 14,
    "start_time": "2021-11-04T16:54:36.958Z"
   },
   {
    "duration": 94,
    "start_time": "2021-11-04T16:54:36.975Z"
   },
   {
    "duration": 5,
    "start_time": "2021-11-04T16:54:37.075Z"
   },
   {
    "duration": 6,
    "start_time": "2021-11-04T16:54:37.084Z"
   },
   {
    "duration": 162,
    "start_time": "2021-11-04T16:54:37.122Z"
   },
   {
    "duration": 14,
    "start_time": "2021-11-04T16:54:37.287Z"
   },
   {
    "duration": 31,
    "start_time": "2021-11-04T16:54:37.303Z"
   },
   {
    "duration": 50,
    "start_time": "2021-11-04T16:54:37.337Z"
   },
   {
    "duration": 44,
    "start_time": "2021-11-04T16:54:37.389Z"
   },
   {
    "duration": 13,
    "start_time": "2021-11-04T16:54:37.435Z"
   },
   {
    "duration": 94,
    "start_time": "2021-11-04T16:54:37.451Z"
   },
   {
    "duration": 6,
    "start_time": "2021-11-04T16:54:37.548Z"
   },
   {
    "duration": 6,
    "start_time": "2021-11-04T16:54:37.557Z"
   },
   {
    "duration": 196,
    "start_time": "2021-11-04T16:54:37.566Z"
   },
   {
    "duration": 14,
    "start_time": "2021-11-04T16:54:37.764Z"
   },
   {
    "duration": 26,
    "start_time": "2021-11-04T16:54:37.781Z"
   },
   {
    "duration": 52,
    "start_time": "2021-11-04T16:54:37.823Z"
   },
   {
    "duration": 14,
    "start_time": "2021-11-04T16:54:37.877Z"
   },
   {
    "duration": 42,
    "start_time": "2021-11-04T16:54:37.893Z"
   },
   {
    "duration": 86,
    "start_time": "2021-11-04T16:54:37.937Z"
   },
   {
    "duration": 5,
    "start_time": "2021-11-04T16:54:38.030Z"
   },
   {
    "duration": 6,
    "start_time": "2021-11-04T16:54:38.038Z"
   },
   {
    "duration": 8,
    "start_time": "2021-11-04T16:54:38.046Z"
   },
   {
    "duration": 14,
    "start_time": "2021-11-04T16:54:38.056Z"
   },
   {
    "duration": 12,
    "start_time": "2021-11-04T16:54:38.072Z"
   },
   {
    "duration": 50,
    "start_time": "2021-11-04T16:54:38.087Z"
   },
   {
    "duration": 5,
    "start_time": "2021-11-04T16:54:38.140Z"
   },
   {
    "duration": 6,
    "start_time": "2021-11-04T16:54:38.147Z"
   },
   {
    "duration": 7,
    "start_time": "2021-11-04T16:54:38.155Z"
   },
   {
    "duration": 7,
    "start_time": "2021-11-04T16:54:38.164Z"
   },
   {
    "duration": 58,
    "start_time": "2021-11-04T16:54:38.174Z"
   },
   {
    "duration": 6,
    "start_time": "2021-11-04T16:54:38.234Z"
   },
   {
    "duration": 7,
    "start_time": "2021-11-04T16:54:38.242Z"
   },
   {
    "duration": 7,
    "start_time": "2021-11-04T16:54:38.251Z"
   },
   {
    "duration": 11,
    "start_time": "2021-11-04T16:54:38.260Z"
   },
   {
    "duration": 58,
    "start_time": "2021-11-04T16:54:38.274Z"
   },
   {
    "duration": 5,
    "start_time": "2021-11-04T16:54:38.335Z"
   },
   {
    "duration": 7,
    "start_time": "2021-11-04T16:54:38.342Z"
   },
   {
    "duration": 9,
    "start_time": "2021-11-04T16:54:38.352Z"
   },
   {
    "duration": 7,
    "start_time": "2021-11-04T16:54:38.363Z"
   },
   {
    "duration": 51,
    "start_time": "2021-11-04T16:54:38.373Z"
   },
   {
    "duration": 16,
    "start_time": "2021-11-04T16:54:38.427Z"
   },
   {
    "duration": 101,
    "start_time": "2021-11-04T16:54:38.524Z"
   },
   {
    "duration": 979,
    "start_time": "2021-11-04T16:54:38.628Z"
   },
   {
    "duration": 987,
    "start_time": "2021-11-04T16:54:39.609Z"
   },
   {
    "duration": 31,
    "start_time": "2021-11-04T16:54:40.599Z"
   },
   {
    "duration": 91,
    "start_time": "2021-11-04T16:54:40.632Z"
   },
   {
    "duration": 97,
    "start_time": "2021-11-04T16:54:40.728Z"
   },
   {
    "duration": 573,
    "start_time": "2021-11-04T16:54:40.827Z"
   },
   {
    "duration": 639,
    "start_time": "2021-11-04T16:54:41.402Z"
   },
   {
    "duration": 13,
    "start_time": "2021-11-04T16:54:42.044Z"
   },
   {
    "duration": 163,
    "start_time": "2021-11-04T16:54:42.060Z"
   },
   {
    "duration": 6,
    "start_time": "2021-11-04T16:54:42.225Z"
   },
   {
    "duration": 965,
    "start_time": "2021-11-04T16:54:42.234Z"
   },
   {
    "duration": 1003,
    "start_time": "2021-11-04T16:54:43.201Z"
   },
   {
    "duration": 4,
    "start_time": "2021-11-04T16:54:44.207Z"
   },
   {
    "duration": 6,
    "start_time": "2021-11-04T16:54:44.223Z"
   },
   {
    "duration": 7,
    "start_time": "2021-11-04T16:54:44.232Z"
   },
   {
    "duration": 8,
    "start_time": "2021-11-04T16:54:44.242Z"
   },
   {
    "duration": 10,
    "start_time": "2021-11-04T16:54:44.252Z"
   },
   {
    "duration": 6,
    "start_time": "2021-11-04T16:54:44.265Z"
   },
   {
    "duration": 9,
    "start_time": "2021-11-04T16:54:44.274Z"
   },
   {
    "duration": 42,
    "start_time": "2021-11-04T16:54:44.286Z"
   },
   {
    "duration": 5314,
    "start_time": "2021-11-04T16:54:44.331Z"
   },
   {
    "duration": 6,
    "start_time": "2021-11-04T16:54:49.647Z"
   },
   {
    "duration": 5320,
    "start_time": "2021-11-04T16:54:49.656Z"
   },
   {
    "duration": 5,
    "start_time": "2021-11-04T16:54:54.979Z"
   },
   {
    "duration": 5490,
    "start_time": "2021-11-04T16:54:54.986Z"
   },
   {
    "duration": 7,
    "start_time": "2021-11-04T16:55:00.479Z"
   },
   {
    "duration": 1434,
    "start_time": "2021-11-04T17:10:09.719Z"
   },
   {
    "duration": 162,
    "start_time": "2021-11-04T17:10:11.156Z"
   },
   {
    "duration": 17,
    "start_time": "2021-11-04T17:10:11.323Z"
   },
   {
    "duration": 20,
    "start_time": "2021-11-04T17:10:11.343Z"
   },
   {
    "duration": 13,
    "start_time": "2021-11-04T17:10:11.365Z"
   },
   {
    "duration": 83,
    "start_time": "2021-11-04T17:10:11.381Z"
   },
   {
    "duration": 12,
    "start_time": "2021-11-04T17:10:11.467Z"
   },
   {
    "duration": 96,
    "start_time": "2021-11-04T17:10:11.481Z"
   },
   {
    "duration": 4,
    "start_time": "2021-11-04T17:10:11.581Z"
   },
   {
    "duration": 7,
    "start_time": "2021-11-04T17:10:11.588Z"
   },
   {
    "duration": 179,
    "start_time": "2021-11-04T17:10:11.597Z"
   },
   {
    "duration": 12,
    "start_time": "2021-11-04T17:10:11.779Z"
   },
   {
    "duration": 37,
    "start_time": "2021-11-04T17:10:11.793Z"
   },
   {
    "duration": 51,
    "start_time": "2021-11-04T17:10:11.832Z"
   },
   {
    "duration": 44,
    "start_time": "2021-11-04T17:10:11.886Z"
   },
   {
    "duration": 13,
    "start_time": "2021-11-04T17:10:11.932Z"
   },
   {
    "duration": 94,
    "start_time": "2021-11-04T17:10:11.948Z"
   },
   {
    "duration": 4,
    "start_time": "2021-11-04T17:10:12.044Z"
   },
   {
    "duration": 9,
    "start_time": "2021-11-04T17:10:12.051Z"
   },
   {
    "duration": 172,
    "start_time": "2021-11-04T17:10:12.063Z"
   },
   {
    "duration": 13,
    "start_time": "2021-11-04T17:10:12.237Z"
   },
   {
    "duration": 15,
    "start_time": "2021-11-04T17:10:12.253Z"
   },
   {
    "duration": 78,
    "start_time": "2021-11-04T17:10:12.271Z"
   },
   {
    "duration": 15,
    "start_time": "2021-11-04T17:10:12.351Z"
   },
   {
    "duration": 17,
    "start_time": "2021-11-04T17:10:12.368Z"
   },
   {
    "duration": 96,
    "start_time": "2021-11-04T17:10:12.387Z"
   },
   {
    "duration": 4,
    "start_time": "2021-11-04T17:10:12.490Z"
   },
   {
    "duration": 24,
    "start_time": "2021-11-04T17:10:12.498Z"
   },
   {
    "duration": 7,
    "start_time": "2021-11-04T17:10:12.525Z"
   },
   {
    "duration": 8,
    "start_time": "2021-11-04T17:10:12.534Z"
   },
   {
    "duration": 8,
    "start_time": "2021-11-04T17:10:12.545Z"
   },
   {
    "duration": 19,
    "start_time": "2021-11-04T17:10:12.556Z"
   },
   {
    "duration": 4,
    "start_time": "2021-11-04T17:10:12.578Z"
   },
   {
    "duration": 41,
    "start_time": "2021-11-04T17:10:12.585Z"
   },
   {
    "duration": 5,
    "start_time": "2021-11-04T17:10:12.629Z"
   },
   {
    "duration": 7,
    "start_time": "2021-11-04T17:10:12.637Z"
   },
   {
    "duration": 20,
    "start_time": "2021-11-04T17:10:12.647Z"
   },
   {
    "duration": 5,
    "start_time": "2021-11-04T17:10:12.670Z"
   },
   {
    "duration": 47,
    "start_time": "2021-11-04T17:10:12.677Z"
   },
   {
    "duration": 13,
    "start_time": "2021-11-04T17:10:12.727Z"
   },
   {
    "duration": 10,
    "start_time": "2021-11-04T17:10:12.742Z"
   },
   {
    "duration": 21,
    "start_time": "2021-11-04T17:10:12.754Z"
   },
   {
    "duration": 6,
    "start_time": "2021-11-04T17:10:12.778Z"
   },
   {
    "duration": 39,
    "start_time": "2021-11-04T17:10:12.787Z"
   },
   {
    "duration": 7,
    "start_time": "2021-11-04T17:10:12.829Z"
   },
   {
    "duration": 8,
    "start_time": "2021-11-04T17:10:12.839Z"
   },
   {
    "duration": 16,
    "start_time": "2021-11-04T17:10:12.850Z"
   },
   {
    "duration": 155,
    "start_time": "2021-11-04T17:10:12.868Z"
   },
   {
    "duration": 99,
    "start_time": "2021-11-04T17:10:13.027Z"
   },
   {
    "duration": 958,
    "start_time": "2021-11-04T17:10:13.128Z"
   },
   {
    "duration": 999,
    "start_time": "2021-11-04T17:10:14.089Z"
   },
   {
    "duration": 13,
    "start_time": "2021-11-04T17:10:15.090Z"
   },
   {
    "duration": 126,
    "start_time": "2021-11-04T17:10:15.106Z"
   },
   {
    "duration": 87,
    "start_time": "2021-11-04T17:10:15.235Z"
   },
   {
    "duration": 592,
    "start_time": "2021-11-04T17:10:15.326Z"
   },
   {
    "duration": 634,
    "start_time": "2021-11-04T17:10:15.921Z"
   },
   {
    "duration": 15,
    "start_time": "2021-11-04T17:10:16.558Z"
   },
   {
    "duration": 59,
    "start_time": "2021-11-04T17:10:16.576Z"
   },
   {
    "duration": 91,
    "start_time": "2021-11-04T17:10:16.637Z"
   },
   {
    "duration": 987,
    "start_time": "2021-11-04T17:10:16.730Z"
   },
   {
    "duration": 979,
    "start_time": "2021-11-04T17:10:17.722Z"
   },
   {
    "duration": 4,
    "start_time": "2021-11-04T17:10:18.703Z"
   },
   {
    "duration": 14,
    "start_time": "2021-11-04T17:10:18.710Z"
   },
   {
    "duration": 7,
    "start_time": "2021-11-04T17:10:18.728Z"
   },
   {
    "duration": 9,
    "start_time": "2021-11-04T17:10:18.738Z"
   },
   {
    "duration": 7,
    "start_time": "2021-11-04T17:10:18.750Z"
   },
   {
    "duration": 7,
    "start_time": "2021-11-04T17:10:18.760Z"
   },
   {
    "duration": 5,
    "start_time": "2021-11-04T17:10:18.770Z"
   },
   {
    "duration": 49,
    "start_time": "2021-11-04T17:10:18.778Z"
   },
   {
    "duration": 5155,
    "start_time": "2021-11-04T17:10:18.830Z"
   },
   {
    "duration": 7,
    "start_time": "2021-11-04T17:10:23.988Z"
   },
   {
    "duration": 5248,
    "start_time": "2021-11-04T17:10:23.998Z"
   },
   {
    "duration": 5,
    "start_time": "2021-11-04T17:10:29.248Z"
   },
   {
    "duration": 5247,
    "start_time": "2021-11-04T17:10:29.255Z"
   },
   {
    "duration": 5,
    "start_time": "2021-11-04T17:10:34.505Z"
   },
   {
    "duration": 1479,
    "start_time": "2021-11-04T21:58:43.213Z"
   },
   {
    "duration": 172,
    "start_time": "2021-11-04T21:58:44.696Z"
   },
   {
    "duration": 17,
    "start_time": "2021-11-04T21:58:44.871Z"
   },
   {
    "duration": 17,
    "start_time": "2021-11-04T21:58:44.891Z"
   },
   {
    "duration": 15,
    "start_time": "2021-11-04T21:58:44.910Z"
   },
   {
    "duration": 86,
    "start_time": "2021-11-04T21:58:44.927Z"
   },
   {
    "duration": 12,
    "start_time": "2021-11-04T21:58:45.015Z"
   },
   {
    "duration": 105,
    "start_time": "2021-11-04T21:58:45.030Z"
   },
   {
    "duration": 5,
    "start_time": "2021-11-04T21:58:45.139Z"
   },
   {
    "duration": 24,
    "start_time": "2021-11-04T21:58:45.148Z"
   },
   {
    "duration": 181,
    "start_time": "2021-11-04T21:58:45.175Z"
   },
   {
    "duration": 20,
    "start_time": "2021-11-04T21:58:45.359Z"
   },
   {
    "duration": 17,
    "start_time": "2021-11-04T21:58:45.382Z"
   },
   {
    "duration": 76,
    "start_time": "2021-11-04T21:58:45.401Z"
   },
   {
    "duration": 23,
    "start_time": "2021-11-04T21:58:45.479Z"
   },
   {
    "duration": 15,
    "start_time": "2021-11-04T21:58:45.505Z"
   },
   {
    "duration": 109,
    "start_time": "2021-11-04T21:58:45.522Z"
   },
   {
    "duration": 4,
    "start_time": "2021-11-04T21:58:45.633Z"
   },
   {
    "duration": 28,
    "start_time": "2021-11-04T21:58:45.640Z"
   },
   {
    "duration": 181,
    "start_time": "2021-11-04T21:58:45.671Z"
   },
   {
    "duration": 21,
    "start_time": "2021-11-04T21:58:45.854Z"
   },
   {
    "duration": 15,
    "start_time": "2021-11-04T21:58:45.878Z"
   },
   {
    "duration": 80,
    "start_time": "2021-11-04T21:58:45.895Z"
   },
   {
    "duration": 34,
    "start_time": "2021-11-04T21:58:45.977Z"
   },
   {
    "duration": 13,
    "start_time": "2021-11-04T21:58:46.014Z"
   },
   {
    "duration": 97,
    "start_time": "2021-11-04T21:58:46.030Z"
   },
   {
    "duration": 4,
    "start_time": "2021-11-04T21:58:46.133Z"
   },
   {
    "duration": 5,
    "start_time": "2021-11-04T21:58:46.141Z"
   },
   {
    "duration": 6,
    "start_time": "2021-11-04T21:58:46.167Z"
   },
   {
    "duration": 8,
    "start_time": "2021-11-04T21:58:46.176Z"
   },
   {
    "duration": 9,
    "start_time": "2021-11-04T21:58:46.186Z"
   },
   {
    "duration": 22,
    "start_time": "2021-11-04T21:58:46.197Z"
   },
   {
    "duration": 6,
    "start_time": "2021-11-04T21:58:46.266Z"
   },
   {
    "duration": 6,
    "start_time": "2021-11-04T21:58:46.275Z"
   },
   {
    "duration": 14,
    "start_time": "2021-11-04T21:58:46.283Z"
   },
   {
    "duration": 6,
    "start_time": "2021-11-04T21:58:46.299Z"
   },
   {
    "duration": 66,
    "start_time": "2021-11-04T21:58:46.308Z"
   },
   {
    "duration": 5,
    "start_time": "2021-11-04T21:58:46.376Z"
   },
   {
    "duration": 6,
    "start_time": "2021-11-04T21:58:46.383Z"
   },
   {
    "duration": 6,
    "start_time": "2021-11-04T21:58:46.391Z"
   },
   {
    "duration": 12,
    "start_time": "2021-11-04T21:58:46.399Z"
   },
   {
    "duration": 63,
    "start_time": "2021-11-04T21:58:46.413Z"
   },
   {
    "duration": 5,
    "start_time": "2021-11-04T21:58:46.479Z"
   },
   {
    "duration": 5,
    "start_time": "2021-11-04T21:58:46.487Z"
   },
   {
    "duration": 8,
    "start_time": "2021-11-04T21:58:46.494Z"
   },
   {
    "duration": 7,
    "start_time": "2021-11-04T21:58:46.505Z"
   },
   {
    "duration": 64,
    "start_time": "2021-11-04T21:58:46.514Z"
   },
   {
    "duration": 189,
    "start_time": "2021-11-04T21:58:46.580Z"
   },
   {
    "duration": 9,
    "start_time": "2021-11-04T21:58:46.772Z"
   },
   {
    "duration": 990,
    "start_time": "2021-11-04T21:58:46.784Z"
   },
   {
    "duration": 978,
    "start_time": "2021-11-04T21:58:47.777Z"
   },
   {
    "duration": 19,
    "start_time": "2021-11-04T21:58:48.757Z"
   },
   {
    "duration": 91,
    "start_time": "2021-11-04T21:58:48.779Z"
   },
   {
    "duration": 102,
    "start_time": "2021-11-04T21:58:48.874Z"
   },
   {
    "duration": 542,
    "start_time": "2021-11-04T21:58:48.978Z"
   },
   {
    "duration": 635,
    "start_time": "2021-11-04T21:58:49.522Z"
   },
   {
    "duration": 21,
    "start_time": "2021-11-04T21:58:50.160Z"
   },
   {
    "duration": 185,
    "start_time": "2021-11-04T21:58:50.185Z"
   },
   {
    "duration": 7,
    "start_time": "2021-11-04T21:58:50.372Z"
   },
   {
    "duration": 1871,
    "start_time": "2021-11-04T21:58:50.382Z"
   },
   {
    "duration": 1820,
    "start_time": "2021-11-04T21:58:52.256Z"
   },
   {
    "duration": 6,
    "start_time": "2021-11-04T21:58:54.079Z"
   },
   {
    "duration": 5,
    "start_time": "2021-11-04T21:58:54.089Z"
   },
   {
    "duration": 6,
    "start_time": "2021-11-04T21:58:54.097Z"
   },
   {
    "duration": 6,
    "start_time": "2021-11-04T21:58:54.106Z"
   },
   {
    "duration": 54,
    "start_time": "2021-11-04T21:58:54.114Z"
   },
   {
    "duration": 8,
    "start_time": "2021-11-04T21:58:54.171Z"
   },
   {
    "duration": 6,
    "start_time": "2021-11-04T21:58:54.182Z"
   },
   {
    "duration": 9,
    "start_time": "2021-11-04T21:58:54.191Z"
   },
   {
    "duration": 1319,
    "start_time": "2021-11-04T21:58:54.202Z"
   },
   {
    "duration": -68,
    "start_time": "2021-11-04T21:58:55.592Z"
   },
   {
    "duration": -69,
    "start_time": "2021-11-04T21:58:55.594Z"
   },
   {
    "duration": -70,
    "start_time": "2021-11-04T21:58:55.596Z"
   },
   {
    "duration": -71,
    "start_time": "2021-11-04T21:58:55.598Z"
   },
   {
    "duration": -71,
    "start_time": "2021-11-04T21:58:55.600Z"
   },
   {
    "duration": 1542,
    "start_time": "2021-11-04T22:08:13.541Z"
   },
   {
    "duration": 183,
    "start_time": "2021-11-04T22:08:15.085Z"
   },
   {
    "duration": 17,
    "start_time": "2021-11-04T22:08:15.272Z"
   },
   {
    "duration": 21,
    "start_time": "2021-11-04T22:08:15.292Z"
   },
   {
    "duration": 17,
    "start_time": "2021-11-04T22:08:15.316Z"
   },
   {
    "duration": 56,
    "start_time": "2021-11-04T22:08:15.368Z"
   },
   {
    "duration": 40,
    "start_time": "2021-11-04T22:08:15.427Z"
   },
   {
    "duration": 79,
    "start_time": "2021-11-04T22:08:15.469Z"
   },
   {
    "duration": 17,
    "start_time": "2021-11-04T22:08:15.552Z"
   },
   {
    "duration": 5,
    "start_time": "2021-11-04T22:08:15.572Z"
   },
   {
    "duration": 190,
    "start_time": "2021-11-04T22:08:15.580Z"
   },
   {
    "duration": 13,
    "start_time": "2021-11-04T22:08:15.772Z"
   },
   {
    "duration": 20,
    "start_time": "2021-11-04T22:08:15.787Z"
   },
   {
    "duration": 84,
    "start_time": "2021-11-04T22:08:15.809Z"
   },
   {
    "duration": 19,
    "start_time": "2021-11-04T22:08:15.895Z"
   },
   {
    "duration": 14,
    "start_time": "2021-11-04T22:08:15.916Z"
   },
   {
    "duration": 97,
    "start_time": "2021-11-04T22:08:15.933Z"
   },
   {
    "duration": 4,
    "start_time": "2021-11-04T22:08:16.033Z"
   },
   {
    "duration": 29,
    "start_time": "2021-11-04T22:08:16.039Z"
   },
   {
    "duration": 170,
    "start_time": "2021-11-04T22:08:16.071Z"
   },
   {
    "duration": 13,
    "start_time": "2021-11-04T22:08:16.243Z"
   },
   {
    "duration": 20,
    "start_time": "2021-11-04T22:08:16.259Z"
   },
   {
    "duration": 50,
    "start_time": "2021-11-04T22:08:16.281Z"
   },
   {
    "duration": 43,
    "start_time": "2021-11-04T22:08:16.335Z"
   },
   {
    "duration": 13,
    "start_time": "2021-11-04T22:08:16.381Z"
   },
   {
    "duration": 112,
    "start_time": "2021-11-04T22:08:16.396Z"
   },
   {
    "duration": 5,
    "start_time": "2021-11-04T22:08:16.515Z"
   },
   {
    "duration": 6,
    "start_time": "2021-11-04T22:08:16.524Z"
   },
   {
    "duration": 34,
    "start_time": "2021-11-04T22:08:16.533Z"
   },
   {
    "duration": 11,
    "start_time": "2021-11-04T22:08:16.570Z"
   },
   {
    "duration": 9,
    "start_time": "2021-11-04T22:08:16.584Z"
   },
   {
    "duration": 23,
    "start_time": "2021-11-04T22:08:16.596Z"
   },
   {
    "duration": 4,
    "start_time": "2021-11-04T22:08:16.622Z"
   },
   {
    "duration": 6,
    "start_time": "2021-11-04T22:08:16.629Z"
   },
   {
    "duration": 5,
    "start_time": "2021-11-04T22:08:16.668Z"
   },
   {
    "duration": 8,
    "start_time": "2021-11-04T22:08:16.675Z"
   },
   {
    "duration": 24,
    "start_time": "2021-11-04T22:08:16.685Z"
   },
   {
    "duration": 5,
    "start_time": "2021-11-04T22:08:16.712Z"
   },
   {
    "duration": 6,
    "start_time": "2021-11-04T22:08:16.720Z"
   },
   {
    "duration": 6,
    "start_time": "2021-11-04T22:08:16.767Z"
   },
   {
    "duration": 9,
    "start_time": "2021-11-04T22:08:16.775Z"
   },
   {
    "duration": 23,
    "start_time": "2021-11-04T22:08:16.787Z"
   },
   {
    "duration": 5,
    "start_time": "2021-11-04T22:08:16.813Z"
   },
   {
    "duration": 49,
    "start_time": "2021-11-04T22:08:16.820Z"
   },
   {
    "duration": 6,
    "start_time": "2021-11-04T22:08:16.871Z"
   },
   {
    "duration": 10,
    "start_time": "2021-11-04T22:08:16.879Z"
   },
   {
    "duration": 20,
    "start_time": "2021-11-04T22:08:16.891Z"
   },
   {
    "duration": 65,
    "start_time": "2021-11-04T22:08:16.913Z"
   },
   {
    "duration": 92,
    "start_time": "2021-11-04T22:08:16.980Z"
   },
   {
    "duration": 1011,
    "start_time": "2021-11-04T22:08:17.075Z"
   },
   {
    "duration": 1004,
    "start_time": "2021-11-04T22:08:18.089Z"
   },
   {
    "duration": 14,
    "start_time": "2021-11-04T22:08:19.095Z"
   },
   {
    "duration": 160,
    "start_time": "2021-11-04T22:08:19.111Z"
   },
   {
    "duration": 9,
    "start_time": "2021-11-04T22:08:19.273Z"
   },
   {
    "duration": 561,
    "start_time": "2021-11-04T22:08:19.284Z"
   },
   {
    "duration": 632,
    "start_time": "2021-11-04T22:08:19.848Z"
   },
   {
    "duration": 15,
    "start_time": "2021-11-04T22:08:20.483Z"
   },
   {
    "duration": 166,
    "start_time": "2021-11-04T22:08:20.502Z"
   },
   {
    "duration": 8,
    "start_time": "2021-11-04T22:08:20.671Z"
   },
   {
    "duration": 1240,
    "start_time": "2021-11-04T22:08:20.681Z"
   },
   {
    "duration": 1015,
    "start_time": "2021-11-04T22:08:21.924Z"
   },
   {
    "duration": 4,
    "start_time": "2021-11-04T22:08:22.942Z"
   },
   {
    "duration": 19,
    "start_time": "2021-11-04T22:08:22.949Z"
   },
   {
    "duration": 16,
    "start_time": "2021-11-04T22:08:22.971Z"
   },
   {
    "duration": 11,
    "start_time": "2021-11-04T22:08:22.990Z"
   },
   {
    "duration": 9,
    "start_time": "2021-11-04T22:08:23.004Z"
   },
   {
    "duration": 11,
    "start_time": "2021-11-04T22:08:23.015Z"
   },
   {
    "duration": 9,
    "start_time": "2021-11-04T22:08:23.029Z"
   },
   {
    "duration": 11,
    "start_time": "2021-11-04T22:08:23.069Z"
   },
   {
    "duration": 5607,
    "start_time": "2021-11-04T22:08:23.084Z"
   },
   {
    "duration": 7,
    "start_time": "2021-11-04T22:08:28.695Z"
   },
   {
    "duration": 6862,
    "start_time": "2021-11-04T22:08:28.705Z"
   },
   {
    "duration": 9,
    "start_time": "2021-11-04T22:08:35.570Z"
   },
   {
    "duration": 5456,
    "start_time": "2021-11-04T22:08:35.582Z"
   },
   {
    "duration": 7,
    "start_time": "2021-11-04T22:08:41.040Z"
   },
   {
    "duration": 1594,
    "start_time": "2021-11-04T22:11:02.268Z"
   },
   {
    "duration": 168,
    "start_time": "2021-11-04T22:11:03.865Z"
   },
   {
    "duration": 18,
    "start_time": "2021-11-04T22:11:04.035Z"
   },
   {
    "duration": 18,
    "start_time": "2021-11-04T22:11:04.068Z"
   },
   {
    "duration": 17,
    "start_time": "2021-11-04T22:11:04.089Z"
   },
   {
    "duration": 54,
    "start_time": "2021-11-04T22:11:04.158Z"
   },
   {
    "duration": 13,
    "start_time": "2021-11-04T22:11:04.752Z"
   },
   {
    "duration": 77,
    "start_time": "2021-11-04T22:11:05.289Z"
   },
   {
    "duration": 5,
    "start_time": "2021-11-04T22:11:05.648Z"
   },
   {
    "duration": 5,
    "start_time": "2021-11-04T22:11:06.057Z"
   },
   {
    "duration": 163,
    "start_time": "2021-11-04T22:11:07.183Z"
   },
   {
    "duration": 15,
    "start_time": "2021-11-04T22:11:07.593Z"
   },
   {
    "duration": 17,
    "start_time": "2021-11-04T22:11:07.870Z"
   },
   {
    "duration": 54,
    "start_time": "2021-11-04T22:11:08.113Z"
   },
   {
    "duration": 21,
    "start_time": "2021-11-04T22:11:08.370Z"
   },
   {
    "duration": 15,
    "start_time": "2021-11-04T22:11:08.590Z"
   },
   {
    "duration": 69,
    "start_time": "2021-11-04T22:11:08.839Z"
   },
   {
    "duration": 8,
    "start_time": "2021-11-04T22:11:09.097Z"
   },
   {
    "duration": 6,
    "start_time": "2021-11-04T22:11:09.360Z"
   },
   {
    "duration": 167,
    "start_time": "2021-11-04T22:11:10.140Z"
   },
   {
    "duration": 13,
    "start_time": "2021-11-04T22:11:10.629Z"
   },
   {
    "duration": 14,
    "start_time": "2021-11-04T22:11:11.026Z"
   },
   {
    "duration": 61,
    "start_time": "2021-11-04T22:11:11.390Z"
   },
   {
    "duration": 14,
    "start_time": "2021-11-04T22:11:11.923Z"
   },
   {
    "duration": 13,
    "start_time": "2021-11-04T22:11:12.377Z"
   },
   {
    "duration": 82,
    "start_time": "2021-11-04T22:11:12.728Z"
   },
   {
    "duration": 4,
    "start_time": "2021-11-04T22:11:13.457Z"
   },
   {
    "duration": 5,
    "start_time": "2021-11-04T22:11:14.189Z"
   },
   {
    "duration": 6,
    "start_time": "2021-11-04T22:11:15.632Z"
   },
   {
    "duration": 10,
    "start_time": "2021-11-04T22:11:15.851Z"
   },
   {
    "duration": 10,
    "start_time": "2021-11-04T22:11:17.599Z"
   },
   {
    "duration": 30,
    "start_time": "2021-11-04T22:11:17.613Z"
   },
   {
    "duration": 8,
    "start_time": "2021-11-04T22:11:18.188Z"
   },
   {
    "duration": 7,
    "start_time": "2021-11-04T22:11:18.443Z"
   },
   {
    "duration": 8,
    "start_time": "2021-11-04T22:11:18.690Z"
   },
   {
    "duration": 7,
    "start_time": "2021-11-04T22:11:18.911Z"
   },
   {
    "duration": 31,
    "start_time": "2021-11-04T22:11:19.413Z"
   },
   {
    "duration": 9,
    "start_time": "2021-11-04T22:11:19.644Z"
   },
   {
    "duration": 7,
    "start_time": "2021-11-04T22:11:19.871Z"
   },
   {
    "duration": 5,
    "start_time": "2021-11-04T22:11:20.144Z"
   },
   {
    "duration": 5,
    "start_time": "2021-11-04T22:11:20.460Z"
   },
   {
    "duration": 19,
    "start_time": "2021-11-04T22:11:21.034Z"
   },
   {
    "duration": 5,
    "start_time": "2021-11-04T22:11:21.241Z"
   },
   {
    "duration": 6,
    "start_time": "2021-11-04T22:11:21.589Z"
   },
   {
    "duration": 6,
    "start_time": "2021-11-04T22:11:21.956Z"
   },
   {
    "duration": 6,
    "start_time": "2021-11-04T22:11:22.236Z"
   },
   {
    "duration": 14,
    "start_time": "2021-11-04T22:11:22.890Z"
   },
   {
    "duration": 174,
    "start_time": "2021-11-04T22:11:23.096Z"
   },
   {
    "duration": 6,
    "start_time": "2021-11-04T22:11:23.305Z"
   },
   {
    "duration": 1030,
    "start_time": "2021-11-04T22:11:23.494Z"
   },
   {
    "duration": 988,
    "start_time": "2021-11-04T22:11:24.527Z"
   },
   {
    "duration": 13,
    "start_time": "2021-11-04T22:11:25.518Z"
   },
   {
    "duration": 96,
    "start_time": "2021-11-04T22:11:25.872Z"
   },
   {
    "duration": 6,
    "start_time": "2021-11-04T22:11:26.179Z"
   },
   {
    "duration": 1052,
    "start_time": "2021-11-04T22:11:26.721Z"
   },
   {
    "duration": 660,
    "start_time": "2021-11-04T22:11:27.778Z"
   },
   {
    "duration": 26,
    "start_time": "2021-11-04T22:11:28.441Z"
   },
   {
    "duration": 97,
    "start_time": "2021-11-04T22:11:28.470Z"
   },
   {
    "duration": 11,
    "start_time": "2021-11-04T22:11:28.571Z"
   },
   {
    "duration": 1073,
    "start_time": "2021-11-04T22:11:28.702Z"
   },
   {
    "duration": 996,
    "start_time": "2021-11-04T22:11:29.778Z"
   },
   {
    "duration": 4,
    "start_time": "2021-11-04T22:11:32.893Z"
   },
   {
    "duration": 3,
    "start_time": "2021-11-04T22:11:35.084Z"
   },
   {
    "duration": 5,
    "start_time": "2021-11-04T22:11:35.613Z"
   },
   {
    "duration": 4,
    "start_time": "2021-11-04T22:11:36.138Z"
   },
   {
    "duration": 5,
    "start_time": "2021-11-04T22:11:36.662Z"
   },
   {
    "duration": 6,
    "start_time": "2021-11-04T22:11:38.510Z"
   },
   {
    "duration": 4,
    "start_time": "2021-11-04T22:11:39.135Z"
   },
   {
    "duration": 8,
    "start_time": "2021-11-04T22:11:44.142Z"
   },
   {
    "duration": 5850,
    "start_time": "2021-11-04T22:11:46.476Z"
   },
   {
    "duration": 6,
    "start_time": "2021-11-04T22:11:52.329Z"
   },
   {
    "duration": 5598,
    "start_time": "2021-11-04T22:11:52.338Z"
   },
   {
    "duration": 7,
    "start_time": "2021-11-04T22:11:57.938Z"
   },
   {
    "duration": 5855,
    "start_time": "2021-11-04T22:11:57.947Z"
   },
   {
    "duration": 6,
    "start_time": "2021-11-04T22:12:03.805Z"
   },
   {
    "duration": 7,
    "start_time": "2021-11-04T22:12:57.588Z"
   },
   {
    "duration": 10728,
    "start_time": "2021-11-04T22:13:00.989Z"
   },
   {
    "duration": 9,
    "start_time": "2021-11-04T22:13:11.721Z"
   },
   {
    "duration": 10726,
    "start_time": "2021-11-04T22:13:11.736Z"
   },
   {
    "duration": 7,
    "start_time": "2021-11-04T22:13:22.469Z"
   },
   {
    "duration": 10467,
    "start_time": "2021-11-04T22:13:22.480Z"
   },
   {
    "duration": 9,
    "start_time": "2021-11-04T22:13:32.951Z"
   },
   {
    "duration": 1635,
    "start_time": "2021-11-04T22:19:16.559Z"
   },
   {
    "duration": 173,
    "start_time": "2021-11-04T22:19:18.197Z"
   },
   {
    "duration": 19,
    "start_time": "2021-11-04T22:19:18.374Z"
   },
   {
    "duration": 20,
    "start_time": "2021-11-04T22:19:18.397Z"
   },
   {
    "duration": 47,
    "start_time": "2021-11-04T22:19:18.420Z"
   },
   {
    "duration": 58,
    "start_time": "2021-11-04T22:19:18.470Z"
   },
   {
    "duration": 41,
    "start_time": "2021-11-04T22:19:18.531Z"
   },
   {
    "duration": 92,
    "start_time": "2021-11-04T22:19:18.575Z"
   },
   {
    "duration": 5,
    "start_time": "2021-11-04T22:19:18.671Z"
   },
   {
    "duration": 8,
    "start_time": "2021-11-04T22:19:18.679Z"
   },
   {
    "duration": 186,
    "start_time": "2021-11-04T22:19:18.689Z"
   },
   {
    "duration": 12,
    "start_time": "2021-11-04T22:19:18.878Z"
   },
   {
    "duration": 20,
    "start_time": "2021-11-04T22:19:18.893Z"
   },
   {
    "duration": 81,
    "start_time": "2021-11-04T22:19:18.915Z"
   },
   {
    "duration": 19,
    "start_time": "2021-11-04T22:19:18.999Z"
   },
   {
    "duration": 13,
    "start_time": "2021-11-04T22:19:19.021Z"
   },
   {
    "duration": 95,
    "start_time": "2021-11-04T22:19:19.036Z"
   },
   {
    "duration": 6,
    "start_time": "2021-11-04T22:19:19.136Z"
   },
   {
    "duration": 7,
    "start_time": "2021-11-04T22:19:19.169Z"
   },
   {
    "duration": 183,
    "start_time": "2021-11-04T22:19:19.179Z"
   },
   {
    "duration": 13,
    "start_time": "2021-11-04T22:19:19.368Z"
   },
   {
    "duration": 16,
    "start_time": "2021-11-04T22:19:19.384Z"
   },
   {
    "duration": 81,
    "start_time": "2021-11-04T22:19:19.403Z"
   },
   {
    "duration": 14,
    "start_time": "2021-11-04T22:19:19.486Z"
   },
   {
    "duration": 21,
    "start_time": "2021-11-04T22:19:19.503Z"
   },
   {
    "duration": 103,
    "start_time": "2021-11-04T22:19:19.526Z"
   },
   {
    "duration": 4,
    "start_time": "2021-11-04T22:19:19.636Z"
   },
   {
    "duration": 5,
    "start_time": "2021-11-04T22:19:19.644Z"
   },
   {
    "duration": 6,
    "start_time": "2021-11-04T22:19:19.668Z"
   },
   {
    "duration": 9,
    "start_time": "2021-11-04T22:19:19.676Z"
   },
   {
    "duration": 10,
    "start_time": "2021-11-04T22:19:19.688Z"
   },
   {
    "duration": 68,
    "start_time": "2021-11-04T22:19:19.700Z"
   },
   {
    "duration": 5,
    "start_time": "2021-11-04T22:19:19.771Z"
   },
   {
    "duration": 8,
    "start_time": "2021-11-04T22:19:19.778Z"
   },
   {
    "duration": 8,
    "start_time": "2021-11-04T22:19:19.789Z"
   },
   {
    "duration": 8,
    "start_time": "2021-11-04T22:19:19.799Z"
   },
   {
    "duration": 71,
    "start_time": "2021-11-04T22:19:19.809Z"
   },
   {
    "duration": 5,
    "start_time": "2021-11-04T22:19:19.882Z"
   },
   {
    "duration": 12,
    "start_time": "2021-11-04T22:19:19.890Z"
   },
   {
    "duration": 11,
    "start_time": "2021-11-04T22:19:19.905Z"
   },
   {
    "duration": 50,
    "start_time": "2021-11-04T22:19:19.919Z"
   },
   {
    "duration": 20,
    "start_time": "2021-11-04T22:19:19.972Z"
   },
   {
    "duration": 6,
    "start_time": "2021-11-04T22:19:19.994Z"
   },
   {
    "duration": 14,
    "start_time": "2021-11-04T22:19:20.002Z"
   },
   {
    "duration": 52,
    "start_time": "2021-11-04T22:19:20.018Z"
   },
   {
    "duration": 8,
    "start_time": "2021-11-04T22:19:20.073Z"
   },
   {
    "duration": 15,
    "start_time": "2021-11-04T22:19:20.084Z"
   },
   {
    "duration": 165,
    "start_time": "2021-11-04T22:19:20.101Z"
   },
   {
    "duration": 8,
    "start_time": "2021-11-04T22:19:20.270Z"
   },
   {
    "duration": 1915,
    "start_time": "2021-11-04T22:19:20.282Z"
   },
   {
    "duration": 1903,
    "start_time": "2021-11-04T22:19:22.201Z"
   },
   {
    "duration": 19,
    "start_time": "2021-11-04T22:19:24.108Z"
   },
   {
    "duration": 144,
    "start_time": "2021-11-04T22:19:24.131Z"
   },
   {
    "duration": 7,
    "start_time": "2021-11-04T22:19:24.278Z"
   },
   {
    "duration": 1198,
    "start_time": "2021-11-04T22:19:24.289Z"
   },
   {
    "duration": 1142,
    "start_time": "2021-11-04T22:19:25.491Z"
   },
   {
    "duration": 40,
    "start_time": "2021-11-04T22:19:26.636Z"
   },
   {
    "duration": 88,
    "start_time": "2021-11-04T22:19:26.680Z"
   },
   {
    "duration": 9,
    "start_time": "2021-11-04T22:19:26.773Z"
   },
   {
    "duration": 2124,
    "start_time": "2021-11-04T22:19:26.869Z"
   },
   {
    "duration": 2042,
    "start_time": "2021-11-04T22:19:28.997Z"
   },
   {
    "duration": 6,
    "start_time": "2021-11-04T22:19:31.043Z"
   },
   {
    "duration": 19,
    "start_time": "2021-11-04T22:19:31.052Z"
   },
   {
    "duration": 24,
    "start_time": "2021-11-04T22:19:31.075Z"
   },
   {
    "duration": 20,
    "start_time": "2021-11-04T22:19:31.103Z"
   },
   {
    "duration": 19,
    "start_time": "2021-11-04T22:19:31.126Z"
   },
   {
    "duration": 25,
    "start_time": "2021-11-04T22:19:31.148Z"
   },
   {
    "duration": 21,
    "start_time": "2021-11-04T22:19:31.176Z"
   },
   {
    "duration": 24,
    "start_time": "2021-11-04T22:19:31.199Z"
   },
   {
    "duration": 5502,
    "start_time": "2021-11-04T22:19:31.225Z"
   },
   {
    "duration": 6,
    "start_time": "2021-11-04T22:19:36.729Z"
   },
   {
    "duration": 5578,
    "start_time": "2021-11-04T22:19:36.738Z"
   },
   {
    "duration": 6,
    "start_time": "2021-11-04T22:19:42.318Z"
   },
   {
    "duration": 5470,
    "start_time": "2021-11-04T22:19:42.327Z"
   },
   {
    "duration": 8,
    "start_time": "2021-11-04T22:19:47.799Z"
   },
   {
    "duration": 1644,
    "start_time": "2021-11-04T22:20:00.947Z"
   },
   {
    "duration": 173,
    "start_time": "2021-11-04T22:20:02.595Z"
   },
   {
    "duration": 18,
    "start_time": "2021-11-04T22:20:02.771Z"
   },
   {
    "duration": 22,
    "start_time": "2021-11-04T22:20:02.792Z"
   },
   {
    "duration": 14,
    "start_time": "2021-11-04T22:20:02.817Z"
   },
   {
    "duration": 83,
    "start_time": "2021-11-04T22:20:02.834Z"
   },
   {
    "duration": 15,
    "start_time": "2021-11-04T22:20:02.919Z"
   },
   {
    "duration": 104,
    "start_time": "2021-11-04T22:20:02.936Z"
   },
   {
    "duration": 4,
    "start_time": "2021-11-04T22:20:03.045Z"
   },
   {
    "duration": 4,
    "start_time": "2021-11-04T22:20:03.069Z"
   },
   {
    "duration": 175,
    "start_time": "2021-11-04T22:20:03.076Z"
   },
   {
    "duration": 24,
    "start_time": "2021-11-04T22:20:03.253Z"
   },
   {
    "duration": 38,
    "start_time": "2021-11-04T22:20:03.280Z"
   },
   {
    "duration": 104,
    "start_time": "2021-11-04T22:20:03.322Z"
   },
   {
    "duration": 39,
    "start_time": "2021-11-04T22:20:03.428Z"
   },
   {
    "duration": 18,
    "start_time": "2021-11-04T22:20:03.470Z"
   },
   {
    "duration": 100,
    "start_time": "2021-11-04T22:20:03.491Z"
   },
   {
    "duration": 5,
    "start_time": "2021-11-04T22:20:03.594Z"
   },
   {
    "duration": 9,
    "start_time": "2021-11-04T22:20:03.602Z"
   },
   {
    "duration": 227,
    "start_time": "2021-11-04T22:20:03.614Z"
   },
   {
    "duration": 14,
    "start_time": "2021-11-04T22:20:03.844Z"
   },
   {
    "duration": 19,
    "start_time": "2021-11-04T22:20:03.861Z"
   },
   {
    "duration": 51,
    "start_time": "2021-11-04T22:20:03.883Z"
   },
   {
    "duration": 37,
    "start_time": "2021-11-04T22:20:03.937Z"
   },
   {
    "duration": 17,
    "start_time": "2021-11-04T22:20:03.977Z"
   },
   {
    "duration": 105,
    "start_time": "2021-11-04T22:20:03.997Z"
   },
   {
    "duration": 4,
    "start_time": "2021-11-04T22:20:04.109Z"
   },
   {
    "duration": 14,
    "start_time": "2021-11-04T22:20:04.117Z"
   },
   {
    "duration": 15,
    "start_time": "2021-11-04T22:20:04.134Z"
   },
   {
    "duration": 15,
    "start_time": "2021-11-04T22:20:04.152Z"
   },
   {
    "duration": 10,
    "start_time": "2021-11-04T22:20:04.170Z"
   },
   {
    "duration": 24,
    "start_time": "2021-11-04T22:20:04.182Z"
   },
   {
    "duration": 5,
    "start_time": "2021-11-04T22:20:04.208Z"
   },
   {
    "duration": 10,
    "start_time": "2021-11-04T22:20:04.215Z"
   },
   {
    "duration": 41,
    "start_time": "2021-11-04T22:20:04.228Z"
   },
   {
    "duration": 10,
    "start_time": "2021-11-04T22:20:04.271Z"
   },
   {
    "duration": 21,
    "start_time": "2021-11-04T22:20:04.283Z"
   },
   {
    "duration": 5,
    "start_time": "2021-11-04T22:20:04.306Z"
   },
   {
    "duration": 10,
    "start_time": "2021-11-04T22:20:04.313Z"
   },
   {
    "duration": 43,
    "start_time": "2021-11-04T22:20:04.326Z"
   },
   {
    "duration": 6,
    "start_time": "2021-11-04T22:20:04.371Z"
   },
   {
    "duration": 23,
    "start_time": "2021-11-04T22:20:04.379Z"
   },
   {
    "duration": 5,
    "start_time": "2021-11-04T22:20:04.405Z"
   },
   {
    "duration": 14,
    "start_time": "2021-11-04T22:20:04.412Z"
   },
   {
    "duration": 8,
    "start_time": "2021-11-04T22:20:04.429Z"
   },
   {
    "duration": 6,
    "start_time": "2021-11-04T22:20:04.469Z"
   },
   {
    "duration": 18,
    "start_time": "2021-11-04T22:20:04.478Z"
   },
   {
    "duration": 178,
    "start_time": "2021-11-04T22:20:04.499Z"
   },
   {
    "duration": 6,
    "start_time": "2021-11-04T22:20:04.680Z"
   },
   {
    "duration": 1029,
    "start_time": "2021-11-04T22:20:04.689Z"
   },
   {
    "duration": 981,
    "start_time": "2021-11-04T22:20:05.720Z"
   },
   {
    "duration": 14,
    "start_time": "2021-11-04T22:20:06.703Z"
   },
   {
    "duration": 149,
    "start_time": "2021-11-04T22:20:06.719Z"
   },
   {
    "duration": 7,
    "start_time": "2021-11-04T22:20:06.871Z"
   },
   {
    "duration": 577,
    "start_time": "2021-11-04T22:20:06.881Z"
   },
   {
    "duration": 641,
    "start_time": "2021-11-04T22:20:07.460Z"
   },
   {
    "duration": 12,
    "start_time": "2021-11-04T22:20:08.104Z"
   },
   {
    "duration": 147,
    "start_time": "2021-11-04T22:20:08.119Z"
   },
   {
    "duration": 7,
    "start_time": "2021-11-04T22:20:08.269Z"
   },
   {
    "duration": 980,
    "start_time": "2021-11-04T22:20:08.279Z"
   },
   {
    "duration": 978,
    "start_time": "2021-11-04T22:20:09.267Z"
   },
   {
    "duration": 4,
    "start_time": "2021-11-04T22:20:10.247Z"
   },
   {
    "duration": 14,
    "start_time": "2021-11-04T22:20:10.254Z"
   },
   {
    "duration": 12,
    "start_time": "2021-11-04T22:20:10.271Z"
   },
   {
    "duration": 10,
    "start_time": "2021-11-04T22:20:10.286Z"
   },
   {
    "duration": 7,
    "start_time": "2021-11-04T22:20:10.299Z"
   },
   {
    "duration": 10,
    "start_time": "2021-11-04T22:20:10.309Z"
   },
   {
    "duration": 6,
    "start_time": "2021-11-04T22:20:10.321Z"
   },
   {
    "duration": 38,
    "start_time": "2021-11-04T22:20:10.329Z"
   },
   {
    "duration": 5705,
    "start_time": "2021-11-04T22:20:10.369Z"
   },
   {
    "duration": 6,
    "start_time": "2021-11-04T22:20:16.076Z"
   },
   {
    "duration": 5845,
    "start_time": "2021-11-04T22:20:16.084Z"
   },
   {
    "duration": 6,
    "start_time": "2021-11-04T22:20:21.931Z"
   },
   {
    "duration": 5428,
    "start_time": "2021-11-04T22:20:21.939Z"
   },
   {
    "duration": 7,
    "start_time": "2021-11-04T22:20:27.369Z"
   },
   {
    "duration": 1518,
    "start_time": "2021-11-04T22:22:04.906Z"
   },
   {
    "duration": 165,
    "start_time": "2021-11-04T22:22:06.426Z"
   },
   {
    "duration": 17,
    "start_time": "2021-11-04T22:22:06.594Z"
   },
   {
    "duration": 27,
    "start_time": "2021-11-04T22:22:06.614Z"
   },
   {
    "duration": 37,
    "start_time": "2021-11-04T22:22:06.644Z"
   },
   {
    "duration": 59,
    "start_time": "2021-11-04T22:22:06.684Z"
   },
   {
    "duration": 15,
    "start_time": "2021-11-04T22:22:06.767Z"
   },
   {
    "duration": 101,
    "start_time": "2021-11-04T22:22:06.784Z"
   },
   {
    "duration": 4,
    "start_time": "2021-11-04T22:22:06.889Z"
   },
   {
    "duration": 9,
    "start_time": "2021-11-04T22:22:06.896Z"
   },
   {
    "duration": 202,
    "start_time": "2021-11-04T22:22:06.908Z"
   },
   {
    "duration": 14,
    "start_time": "2021-11-04T22:22:07.112Z"
   },
   {
    "duration": 42,
    "start_time": "2021-11-04T22:22:07.129Z"
   },
   {
    "duration": 55,
    "start_time": "2021-11-04T22:22:07.174Z"
   },
   {
    "duration": 48,
    "start_time": "2021-11-04T22:22:07.232Z"
   },
   {
    "duration": 17,
    "start_time": "2021-11-04T22:22:07.283Z"
   },
   {
    "duration": 110,
    "start_time": "2021-11-04T22:22:07.303Z"
   },
   {
    "duration": 4,
    "start_time": "2021-11-04T22:22:07.416Z"
   },
   {
    "duration": 8,
    "start_time": "2021-11-04T22:22:07.422Z"
   },
   {
    "duration": 197,
    "start_time": "2021-11-04T22:22:07.432Z"
   },
   {
    "duration": 13,
    "start_time": "2021-11-04T22:22:07.631Z"
   },
   {
    "duration": 31,
    "start_time": "2021-11-04T22:22:07.646Z"
   },
   {
    "duration": 51,
    "start_time": "2021-11-04T22:22:07.679Z"
   },
   {
    "duration": 39,
    "start_time": "2021-11-04T22:22:07.732Z"
   },
   {
    "duration": 19,
    "start_time": "2021-11-04T22:22:07.773Z"
   },
   {
    "duration": 104,
    "start_time": "2021-11-04T22:22:07.795Z"
   },
   {
    "duration": 5,
    "start_time": "2021-11-04T22:22:07.906Z"
   },
   {
    "duration": 9,
    "start_time": "2021-11-04T22:22:07.914Z"
   },
   {
    "duration": 41,
    "start_time": "2021-11-04T22:22:07.926Z"
   },
   {
    "duration": 6,
    "start_time": "2021-11-04T22:22:07.970Z"
   },
   {
    "duration": 17,
    "start_time": "2021-11-04T22:22:07.979Z"
   },
   {
    "duration": 27,
    "start_time": "2021-11-04T22:22:07.998Z"
   },
   {
    "duration": 5,
    "start_time": "2021-11-04T22:22:08.028Z"
   },
   {
    "duration": 34,
    "start_time": "2021-11-04T22:22:08.035Z"
   },
   {
    "duration": 6,
    "start_time": "2021-11-04T22:22:08.071Z"
   },
   {
    "duration": 6,
    "start_time": "2021-11-04T22:22:08.079Z"
   },
   {
    "duration": 23,
    "start_time": "2021-11-04T22:22:08.088Z"
   },
   {
    "duration": 53,
    "start_time": "2021-11-04T22:22:08.114Z"
   },
   {
    "duration": 5,
    "start_time": "2021-11-04T22:22:08.169Z"
   },
   {
    "duration": 8,
    "start_time": "2021-11-04T22:22:08.177Z"
   },
   {
    "duration": 6,
    "start_time": "2021-11-04T22:22:08.188Z"
   },
   {
    "duration": 22,
    "start_time": "2021-11-04T22:22:08.197Z"
   },
   {
    "duration": 50,
    "start_time": "2021-11-04T22:22:08.221Z"
   },
   {
    "duration": 6,
    "start_time": "2021-11-04T22:22:08.273Z"
   },
   {
    "duration": 9,
    "start_time": "2021-11-04T22:22:08.282Z"
   },
   {
    "duration": 10,
    "start_time": "2021-11-04T22:22:08.293Z"
   },
   {
    "duration": 65,
    "start_time": "2021-11-04T22:22:08.306Z"
   },
   {
    "duration": 201,
    "start_time": "2021-11-04T22:22:08.373Z"
   },
   {
    "duration": 6,
    "start_time": "2021-11-04T22:22:08.577Z"
   },
   {
    "duration": 1012,
    "start_time": "2021-11-04T22:22:08.586Z"
   },
   {
    "duration": 960,
    "start_time": "2021-11-04T22:22:09.601Z"
   },
   {
    "duration": 15,
    "start_time": "2021-11-04T22:22:10.567Z"
   },
   {
    "duration": 183,
    "start_time": "2021-11-04T22:22:10.584Z"
   },
   {
    "duration": 5,
    "start_time": "2021-11-04T22:22:10.770Z"
   },
   {
    "duration": 566,
    "start_time": "2021-11-04T22:22:10.778Z"
   },
   {
    "duration": 630,
    "start_time": "2021-11-04T22:22:11.347Z"
   },
   {
    "duration": 14,
    "start_time": "2021-11-04T22:22:11.980Z"
   },
   {
    "duration": 79,
    "start_time": "2021-11-04T22:22:11.997Z"
   },
   {
    "duration": 91,
    "start_time": "2021-11-04T22:22:12.079Z"
   },
   {
    "duration": 986,
    "start_time": "2021-11-04T22:22:12.174Z"
   },
   {
    "duration": 1010,
    "start_time": "2021-11-04T22:22:13.167Z"
   },
   {
    "duration": 4,
    "start_time": "2021-11-04T22:22:14.180Z"
   },
   {
    "duration": 11,
    "start_time": "2021-11-04T22:22:14.187Z"
   },
   {
    "duration": 8,
    "start_time": "2021-11-04T22:22:14.201Z"
   },
   {
    "duration": 7,
    "start_time": "2021-11-04T22:22:14.212Z"
   },
   {
    "duration": 11,
    "start_time": "2021-11-04T22:22:14.221Z"
   },
   {
    "duration": 35,
    "start_time": "2021-11-04T22:22:14.234Z"
   },
   {
    "duration": 6,
    "start_time": "2021-11-04T22:22:14.272Z"
   },
   {
    "duration": 8,
    "start_time": "2021-11-04T22:22:14.281Z"
   },
   {
    "duration": 5814,
    "start_time": "2021-11-04T22:22:14.291Z"
   },
   {
    "duration": 7,
    "start_time": "2021-11-04T22:22:20.108Z"
   },
   {
    "duration": 5618,
    "start_time": "2021-11-04T22:22:20.119Z"
   },
   {
    "duration": 8,
    "start_time": "2021-11-04T22:22:25.740Z"
   },
   {
    "duration": 5396,
    "start_time": "2021-11-04T22:22:25.752Z"
   },
   {
    "duration": 16,
    "start_time": "2021-11-04T22:22:31.150Z"
   }
  ],
  "kernelspec": {
   "display_name": "Python 3",
   "language": "python",
   "name": "python3"
  },
  "language_info": {
   "codemirror_mode": {
    "name": "ipython",
    "version": 3
   },
   "file_extension": ".py",
   "mimetype": "text/x-python",
   "name": "python",
   "nbconvert_exporter": "python",
   "pygments_lexer": "ipython3",
   "version": "3.7.10"
  },
  "toc": {
   "base_numbering": 1,
   "nav_menu": {},
   "number_sections": true,
   "sideBar": true,
   "skip_h1_title": true,
   "title_cell": "Table of Contents",
   "title_sidebar": "Содержание",
   "toc_cell": true,
   "toc_position": {},
   "toc_section_display": true,
   "toc_window_display": false
  }
 },
 "nbformat": 4,
 "nbformat_minor": 2
}
